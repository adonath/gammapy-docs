{
 "cells": [
  {
   "cell_type": "markdown",
   "metadata": {},
   "source": [
    "\n",
    "<div class=\"alert alert-info\">\n",
    "\n",
    "**This is a fixed-text formatted version of a Jupyter notebook**\n",
    "\n",
    "- Try online [![Binder](https://static.mybinder.org/badge.svg)](https://mybinder.org/v2/gh/gammapy/gammapy-webpage/master?urlpath=lab/tree/simulate_3d.ipynb)\n",
    "- You can contribute with your own notebooks in this\n",
    "[GitHub repository](https://github.com/gammapy/gammapy/tree/master/docs/tutorials).\n",
    "- **Source files:**\n",
    "[simulate_3d.ipynb](../_static/notebooks/simulate_3d.ipynb) |\n",
    "[simulate_3d.py](../_static/notebooks/simulate_3d.py)\n",
    "</div>\n"
   ]
  },
  {
   "cell_type": "markdown",
   "metadata": {},
   "source": [
    "# 3D map simulation\n",
    "\n",
    "## Prerequisites\n",
    "\n",
    "- Knowledge of 3D extraction and datasets used in gammapy, see for instance the [first analysis tutorial](analysis_1.ipynb)\n",
    "\n",
    "## Context\n",
    "\n",
    "To simulate a specific observation, it is not always necessary to simulate the full photon list. For many uses cases, simulating directly a reduced binned dataset is enough: the IRFs reduced in the correct geometry are combined with a source model to predict an actual number of counts per bin. The latter is then used to simulate a reduced dataset using Poisson probability distribution.\n",
    "\n",
    "This can be done to check the feasibility of a measurement (performance / sensitivity study), to test whether fitted parameters really provide a good fit to the data etc.\n",
    "\n",
    "Here we will see how to perform a 3D simulation of a CTA observation, assuming both the spectral and spatial morphology of an observed source.\n",
    "\n",
    "**Objective: simulate a 3D observation of a source with CTA using the CTA 1DC response and fit it with the assumed source model.**\n",
    "\n",
    "## Proposed approach:\n",
    "\n",
    "Here we can't use the regular observation objects that are connected to a `DataStore`. Instead we will create a fake `~gammapy.data.Observation` that contain some pointing information and the CTA 1DC IRFs (that are loaded with `~gammapy.irf.load_cta_irfs`).\n",
    "\n",
    "Then we will create a `~gammapy.datasets.MapDataset` geometry and create it with the `~gammapy.makers.MapDatasetMaker`.\n",
    "\n",
    "Then we will be able to define a model consisting of  a `~gammapy.modeling.models.PowerLawSpectralModel` and a `~gammapy.modeling.models.GaussianSpatialModel`. We will assign it to the dataset and fake the count data.\n"
   ]
  },
  {
   "cell_type": "markdown",
   "metadata": {},
   "source": [
    "## Imports and versions"
   ]
  },
  {
   "cell_type": "code",
   "execution_count": 1,
   "metadata": {
    "execution": {
     "iopub.execute_input": "2020-12-29T06:52:37.967838Z",
     "iopub.status.busy": "2020-12-29T06:52:37.967257Z",
     "iopub.status.idle": "2020-12-29T06:52:38.281549Z",
     "shell.execute_reply": "2020-12-29T06:52:38.280409Z"
    }
   },
   "outputs": [],
   "source": [
    "%matplotlib inline"
   ]
  },
  {
   "cell_type": "code",
   "execution_count": 2,
   "metadata": {
    "execution": {
     "iopub.execute_input": "2020-12-29T06:52:38.288118Z",
     "iopub.status.busy": "2020-12-29T06:52:38.287058Z",
     "iopub.status.idle": "2020-12-29T06:52:39.395928Z",
     "shell.execute_reply": "2020-12-29T06:52:39.396372Z"
    }
   },
   "outputs": [],
   "source": [
    "import numpy as np\n",
    "import astropy.units as u\n",
    "from astropy.coordinates import SkyCoord\n",
    "from gammapy.irf import load_cta_irfs\n",
    "from gammapy.maps import WcsGeom, MapAxis\n",
    "from gammapy.modeling.models import (\n",
    "    PowerLawSpectralModel,\n",
    "    GaussianSpatialModel,\n",
    "    SkyModel,\n",
    "    Models,\n",
    "    FoVBackgroundModel,\n",
    ")\n",
    "from gammapy.makers import MapDatasetMaker, SafeMaskMaker\n",
    "from gammapy.modeling import Fit\n",
    "from gammapy.data import Observation\n",
    "from gammapy.datasets import MapDataset"
   ]
  },
  {
   "cell_type": "code",
   "execution_count": 3,
   "metadata": {
    "execution": {
     "iopub.execute_input": "2020-12-29T06:52:39.402364Z",
     "iopub.status.busy": "2020-12-29T06:52:39.401856Z",
     "iopub.status.idle": "2020-12-29T06:52:41.744618Z",
     "shell.execute_reply": "2020-12-29T06:52:41.743606Z"
    }
   },
   "outputs": [
    {
     "name": "stdout",
     "output_type": "stream",
     "text": [
      "\r\n",
      "Gammapy package:\r\n",
      "\r\n",
      "\tversion                : 0.18.3.dev238+g85d0f3c30 \r\n",
      "\tpath                   : /home/runner/work/gammapy-docs/gammapy-docs/gammapy/gammapy \r\n",
      "\r\n"
     ]
    }
   ],
   "source": [
    "!gammapy info --no-envvar --no-dependencies --no-system"
   ]
  },
  {
   "cell_type": "markdown",
   "metadata": {},
   "source": [
    "## Simulation"
   ]
  },
  {
   "cell_type": "markdown",
   "metadata": {},
   "source": [
    "We will simulate using the CTA-1DC IRFs shipped with gammapy. Note that for dedictaed CTA simulations, you can simply use [`Observation.from_caldb()`]() without having to externally load the IRFs"
   ]
  },
  {
   "cell_type": "code",
   "execution_count": 4,
   "metadata": {
    "execution": {
     "iopub.execute_input": "2020-12-29T06:52:41.757731Z",
     "iopub.status.busy": "2020-12-29T06:52:41.753875Z",
     "iopub.status.idle": "2020-12-29T06:52:41.843982Z",
     "shell.execute_reply": "2020-12-29T06:52:41.843092Z"
    }
   },
   "outputs": [
    {
     "name": "stderr",
     "output_type": "stream",
     "text": [
      "Invalid unit found in background table! Assuming (s-1 MeV-1 sr-1)\n"
     ]
    }
   ],
   "source": [
    "# Loading IRFs\n",
    "irfs = load_cta_irfs(\n",
    "    \"$GAMMAPY_DATA/cta-1dc/caldb/data/cta/1dc/bcf/South_z20_50h/irf_file.fits\"\n",
    ")"
   ]
  },
  {
   "cell_type": "code",
   "execution_count": 5,
   "metadata": {
    "execution": {
     "iopub.execute_input": "2020-12-29T06:52:41.849484Z",
     "iopub.status.busy": "2020-12-29T06:52:41.848962Z",
     "iopub.status.idle": "2020-12-29T06:52:41.852470Z",
     "shell.execute_reply": "2020-12-29T06:52:41.851919Z"
    }
   },
   "outputs": [],
   "source": [
    "# Define the observation parameters (typically the observation duration and the pointing position):\n",
    "livetime = 2.0 * u.hr\n",
    "pointing = SkyCoord(0, 0, unit=\"deg\", frame=\"galactic\")"
   ]
  },
  {
   "cell_type": "code",
   "execution_count": 6,
   "metadata": {
    "execution": {
     "iopub.execute_input": "2020-12-29T06:52:41.861912Z",
     "iopub.status.busy": "2020-12-29T06:52:41.859781Z",
     "iopub.status.idle": "2020-12-29T06:52:41.875902Z",
     "shell.execute_reply": "2020-12-29T06:52:41.875337Z"
    }
   },
   "outputs": [],
   "source": [
    "# Define map geometry for binned simulation\n",
    "energy_reco = MapAxis.from_edges(\n",
    "    np.logspace(-1.0, 1.0, 10), unit=\"TeV\", name=\"energy\", interp=\"log\"\n",
    ")\n",
    "geom = WcsGeom.create(\n",
    "    skydir=(0, 0),\n",
    "    binsz=0.02,\n",
    "    width=(6, 6),\n",
    "    frame=\"galactic\",\n",
    "    axes=[energy_reco],\n",
    ")\n",
    "# It is usually useful to have a separate binning for the true energy axis\n",
    "energy_true = MapAxis.from_edges(\n",
    "    np.logspace(-1.5, 1.5, 30), unit=\"TeV\", name=\"energy\", interp=\"log\"\n",
    ")\n",
    "\n",
    "empty = MapDataset.create(geom, name=\"dataset-simu\")"
   ]
  },
  {
   "cell_type": "code",
   "execution_count": 7,
   "metadata": {
    "execution": {
     "iopub.execute_input": "2020-12-29T06:52:41.896415Z",
     "iopub.status.busy": "2020-12-29T06:52:41.895861Z",
     "iopub.status.idle": "2020-12-29T06:52:41.900381Z",
     "shell.execute_reply": "2020-12-29T06:52:41.899832Z"
    }
   },
   "outputs": [
    {
     "name": "stdout",
     "output_type": "stream",
     "text": [
      "Models\n",
      "\n",
      "Component 0: SkyModel\n",
      "\n",
      "  Name                      : model-simu\n",
      "  Datasets names            : None\n",
      "  Spectral model type       : PowerLawSpectralModel\n",
      "  Spatial  model type       : GaussianSpatialModel\n",
      "  Temporal model type       : \n",
      "  Parameters:\n",
      "    index                   :   3.000              \n",
      "    amplitude               :   1.00e-11  1 / (cm2 s TeV)\n",
      "    reference    (frozen)   :   1.000  TeV         \n",
      "    lon_0                   :   0.200  deg         \n",
      "    lat_0                   :   0.100  deg         \n",
      "    sigma                   :   0.300  deg         \n",
      "    e            (frozen)   :   0.000              \n",
      "    phi          (frozen)   :   0.000  deg         \n",
      "\n",
      "Component 1: FoVBackgroundModel\n",
      "\n",
      "  Name                      : dataset-simu-bkg\n",
      "  Datasets names            : ['dataset-simu']\n",
      "  Spectral model type       : PowerLawNormSpectralModel\n",
      "  Parameters:\n",
      "    norm                    :   1.000              \n",
      "    tilt         (frozen)   :   0.000              \n",
      "    reference    (frozen)   :   1.000  TeV         \n",
      "\n",
      "\n"
     ]
    }
   ],
   "source": [
    "# Define sky model to used simulate the data.\n",
    "# Here we use a Gaussian spatial model and a Power Law spectral model.\n",
    "spatial_model = GaussianSpatialModel(\n",
    "    lon_0=\"0.2 deg\", lat_0=\"0.1 deg\", sigma=\"0.3 deg\", frame=\"galactic\"\n",
    ")\n",
    "spectral_model = PowerLawSpectralModel(\n",
    "    index=3, amplitude=\"1e-11 cm-2 s-1 TeV-1\", reference=\"1 TeV\"\n",
    ")\n",
    "model_simu = SkyModel(\n",
    "    spatial_model=spatial_model,\n",
    "    spectral_model=spectral_model,\n",
    "    name=\"model-simu\",\n",
    ")\n",
    "\n",
    "bkg_model = FoVBackgroundModel(dataset_name=\"dataset-simu\")\n",
    "\n",
    "models = Models([model_simu, bkg_model])\n",
    "print(models)"
   ]
  },
  {
   "cell_type": "markdown",
   "metadata": {},
   "source": [
    "Now, comes the main part of dataset simulation. We create an in-memory observation and an empty dataset. We then predict the number of counts for the given model, and Poission fluctuate it using `fake()` to make a simulated counts maps. Keep in mind that it is important to specify the `selection` of the maps that you want to produce "
   ]
  },
  {
   "cell_type": "code",
   "execution_count": 8,
   "metadata": {
    "execution": {
     "iopub.execute_input": "2020-12-29T06:52:41.915428Z",
     "iopub.status.busy": "2020-12-29T06:52:41.914892Z",
     "iopub.status.idle": "2020-12-29T06:52:41.919329Z",
     "shell.execute_reply": "2020-12-29T06:52:41.918779Z"
    }
   },
   "outputs": [
    {
     "name": "stdout",
     "output_type": "stream",
     "text": [
      "Observation\n",
      "\n",
      "\tobs id            : 0 \n",
      " \ttstart            : 51544.00\n",
      "\ttstop             : 51544.08\n",
      "\tduration          : 7200.00 s\n",
      "\tpointing (icrs)   : 266.4 deg, -28.9 deg\n",
      "\n",
      "\tdeadtime fraction : 0.0%\n",
      "\n"
     ]
    }
   ],
   "source": [
    "# Create an in-memory observation\n",
    "obs = Observation.create(pointing=pointing, livetime=livetime, irfs=irfs)\n",
    "print(obs)"
   ]
  },
  {
   "cell_type": "code",
   "execution_count": 9,
   "metadata": {
    "execution": {
     "iopub.execute_input": "2020-12-29T06:52:41.927109Z",
     "iopub.status.busy": "2020-12-29T06:52:41.926338Z",
     "iopub.status.idle": "2020-12-29T06:52:44.279786Z",
     "shell.execute_reply": "2020-12-29T06:52:44.279319Z"
    }
   },
   "outputs": [
    {
     "name": "stdout",
     "output_type": "stream",
     "text": [
      "MapDataset\n",
      "----------\n",
      "\n",
      "  Name                            : dataset-simu \n",
      "\n",
      "  Total counts                    : nan \n",
      "  Total background counts         : 161250.95\n",
      "  Total excess counts             : nan\n",
      "\n",
      "  Predicted counts                : 161250.95\n",
      "  Predicted background counts     : 161250.95\n",
      "  Predicted excess counts         : nan\n",
      "\n",
      "  Exposure min                    : 6.41e+07 m2 s\n",
      "  Exposure max                    : 2.53e+10 m2 s\n",
      "\n",
      "  Number of total bins            : 0 \n",
      "  Number of fit bins              : 804492 \n",
      "\n",
      "  Fit statistic type              : cash\n",
      "  Fit statistic value (-2 log(L)) : nan\n",
      "\n",
      "  Number of models                : 0 \n",
      "  Number of parameters            : 0\n",
      "  Number of free parameters       : 0\n",
      "\n",
      "\n"
     ]
    }
   ],
   "source": [
    "# Make the MapDataset\n",
    "maker = MapDatasetMaker(selection=[\"exposure\", \"background\", \"psf\", \"edisp\"])\n",
    "\n",
    "maker_safe_mask = SafeMaskMaker(methods=[\"offset-max\"], offset_max=4.0 * u.deg)\n",
    "\n",
    "dataset = maker.run(empty, obs)\n",
    "dataset = maker_safe_mask.run(dataset, obs)\n",
    "print(dataset)"
   ]
  },
  {
   "cell_type": "code",
   "execution_count": 10,
   "metadata": {
    "execution": {
     "iopub.execute_input": "2020-12-29T06:52:44.287847Z",
     "iopub.status.busy": "2020-12-29T06:52:44.286153Z",
     "iopub.status.idle": "2020-12-29T06:52:45.199803Z",
     "shell.execute_reply": "2020-12-29T06:52:45.198970Z"
    }
   },
   "outputs": [
    {
     "name": "stdout",
     "output_type": "stream",
     "text": [
      "MapDataset\n",
      "----------\n",
      "\n",
      "  Name                            : dataset-simu \n",
      "\n",
      "  Total counts                    : 169111 \n",
      "  Total background counts         : 161250.95\n",
      "  Total excess counts             : 7860.05\n",
      "\n",
      "  Predicted counts                : 169690.08\n",
      "  Predicted background counts     : 161250.95\n",
      "  Predicted excess counts         : 8439.14\n",
      "\n",
      "  Exposure min                    : 6.41e+07 m2 s\n",
      "  Exposure max                    : 2.53e+10 m2 s\n",
      "\n",
      "  Number of total bins            : 810000 \n",
      "  Number of fit bins              : 804492 \n",
      "\n",
      "  Fit statistic type              : cash\n",
      "  Fit statistic value (-2 log(L)) : 561703.92\n",
      "\n",
      "  Number of models                : 2 \n",
      "  Number of parameters            : 11\n",
      "  Number of free parameters       : 6\n",
      "\n",
      "  Component 0: SkyModel\n",
      "  \n",
      "    Name                      : model-simu\n",
      "    Datasets names            : None\n",
      "    Spectral model type       : PowerLawSpectralModel\n",
      "    Spatial  model type       : GaussianSpatialModel\n",
      "    Temporal model type       : \n",
      "    Parameters:\n",
      "      index                   :   3.000              \n",
      "      amplitude               :   1.00e-11  1 / (cm2 s TeV)\n",
      "      reference    (frozen)   :   1.000  TeV         \n",
      "      lon_0                   :   0.200  deg         \n",
      "      lat_0                   :   0.100  deg         \n",
      "      sigma                   :   0.300  deg         \n",
      "      e            (frozen)   :   0.000              \n",
      "      phi          (frozen)   :   0.000  deg         \n",
      "  \n",
      "  Component 1: FoVBackgroundModel\n",
      "  \n",
      "    Name                      : dataset-simu-bkg\n",
      "    Datasets names            : ['dataset-simu']\n",
      "    Spectral model type       : PowerLawNormSpectralModel\n",
      "    Parameters:\n",
      "      norm                    :   1.000              \n",
      "      tilt         (frozen)   :   0.000              \n",
      "      reference    (frozen)   :   1.000  TeV         \n",
      "  \n",
      "  \n"
     ]
    }
   ],
   "source": [
    "# Add the model on the dataset and Poission fluctuate\n",
    "dataset.models = models\n",
    "dataset.fake()\n",
    "# Do a print on the dataset - there is now a counts maps\n",
    "print(dataset)"
   ]
  },
  {
   "cell_type": "markdown",
   "metadata": {},
   "source": [
    "Now use this dataset as you would in all standard analysis. You can plot the maps, or proceed with your custom analysis. \n",
    "In the next section, we show the standard 3D fitting as in [analysis_3d](analysis_3d.ipynb)."
   ]
  },
  {
   "cell_type": "code",
   "execution_count": 11,
   "metadata": {
    "execution": {
     "iopub.execute_input": "2020-12-29T06:52:45.204559Z",
     "iopub.status.busy": "2020-12-29T06:52:45.204045Z",
     "iopub.status.idle": "2020-12-29T06:52:45.862923Z",
     "shell.execute_reply": "2020-12-29T06:52:45.863600Z"
    }
   },
   "outputs": [
    {
     "data": {
      "application/vnd.jupyter.widget-view+json": {
       "model_id": "8306dba8918749ff92f151bfc8f157ce",
       "version_major": 2,
       "version_minor": 0
      },
      "text/plain": [
       "interactive(children=(SelectionSlider(continuous_update=False, description='Select energy:', layout=Layout(wid…"
      ]
     },
     "metadata": {},
     "output_type": "display_data"
    }
   ],
   "source": [
    "# To plot, eg, counts:\n",
    "dataset.counts.smooth(0.05 * u.deg).plot_interactive(\n",
    "    add_cbar=True, stretch=\"linear\"\n",
    ")"
   ]
  },
  {
   "cell_type": "markdown",
   "metadata": {},
   "source": [
    "## Fit\n",
    "\n",
    "In this section, we do a usual 3D fit with the same model used to simulated the data and see the stability of the simulations. Often, it is useful to simulate many such datasets and look at the distribution of the reconstructed parameters."
   ]
  },
  {
   "cell_type": "code",
   "execution_count": 12,
   "metadata": {
    "execution": {
     "iopub.execute_input": "2020-12-29T06:52:45.868114Z",
     "iopub.status.busy": "2020-12-29T06:52:45.867627Z",
     "iopub.status.idle": "2020-12-29T06:52:45.871622Z",
     "shell.execute_reply": "2020-12-29T06:52:45.871186Z"
    }
   },
   "outputs": [],
   "source": [
    "models_fit = models.copy()"
   ]
  },
  {
   "cell_type": "code",
   "execution_count": 13,
   "metadata": {
    "execution": {
     "iopub.execute_input": "2020-12-29T06:52:45.875454Z",
     "iopub.status.busy": "2020-12-29T06:52:45.874813Z",
     "iopub.status.idle": "2020-12-29T06:52:45.876099Z",
     "shell.execute_reply": "2020-12-29T06:52:45.876611Z"
    }
   },
   "outputs": [],
   "source": [
    "# We do not want to fit the background in this case, so we will freeze the parameters\n",
    "models_fit[\"dataset-simu-bkg\"].spectral_model.norm.frozen = True\n",
    "models_fit[\"dataset-simu-bkg\"].spectral_model.tilt.frozen = True"
   ]
  },
  {
   "cell_type": "code",
   "execution_count": 14,
   "metadata": {
    "execution": {
     "iopub.execute_input": "2020-12-29T06:52:45.882371Z",
     "iopub.status.busy": "2020-12-29T06:52:45.881837Z",
     "iopub.status.idle": "2020-12-29T06:52:46.007557Z",
     "shell.execute_reply": "2020-12-29T06:52:46.006997Z"
    }
   },
   "outputs": [
    {
     "name": "stdout",
     "output_type": "stream",
     "text": [
      "DatasetModels\n",
      "\n",
      "Component 0: SkyModel\n",
      "\n",
      "  Name                      : model-simu\n",
      "  Datasets names            : None\n",
      "  Spectral model type       : PowerLawSpectralModel\n",
      "  Spatial  model type       : GaussianSpatialModel\n",
      "  Temporal model type       : \n",
      "  Parameters:\n",
      "    index                   :   3.000              \n",
      "    amplitude               :   1.00e-11  1 / (cm2 s TeV)\n",
      "    reference    (frozen)   :   1.000  TeV         \n",
      "    lon_0                   :   0.200  deg         \n",
      "    lat_0                   :   0.100  deg         \n",
      "    sigma                   :   0.300  deg         \n",
      "    e            (frozen)   :   0.000              \n",
      "    phi          (frozen)   :   0.000  deg         \n",
      "\n",
      "Component 1: FoVBackgroundModel\n",
      "\n",
      "  Name                      : dataset-simu-bkg\n",
      "  Datasets names            : ['dataset-simu']\n",
      "  Spectral model type       : PowerLawNormSpectralModel\n",
      "  Parameters:\n",
      "    norm         (frozen)   :   1.000              \n",
      "    tilt         (frozen)   :   0.000              \n",
      "    reference    (frozen)   :   1.000  TeV         \n",
      "\n",
      "\n"
     ]
    }
   ],
   "source": [
    "dataset.models = models_fit\n",
    "print(dataset.models)"
   ]
  },
  {
   "cell_type": "code",
   "execution_count": 15,
   "metadata": {
    "execution": {
     "iopub.execute_input": "2020-12-29T06:52:46.014420Z",
     "iopub.status.busy": "2020-12-29T06:52:46.013893Z",
     "iopub.status.idle": "2020-12-29T06:52:54.244729Z",
     "shell.execute_reply": "2020-12-29T06:52:54.244022Z"
    }
   },
   "outputs": [
    {
     "name": "stdout",
     "output_type": "stream",
     "text": [
      "┌──────────────────────────────────┬──────────────────────────────────────┐\n",
      "│ FCN = 5.617e+05                  │        Nfcn = 126 (126 total)        │\n",
      "│ EDM = 7.06e-06 (Goal: 0.0002)    │                                      │\n",
      "├───────────────┬──────────────────┼──────────────────────────────────────┤\n",
      "│ Valid Minimum │ Valid Parameters │       SOME Parameters at limit       │\n",
      "├───────────────┴──────────────────┼──────────────────────────────────────┤\n",
      "│ Below EDM threshold (goal x 10)  │           Below call limit           │\n",
      "├───────────────┬──────────────────┼───────────┬─────────────┬────────────┤\n",
      "│   Hesse ok    │  Has Covariance  │ Accurate  │  Pos. def.  │ Not forced │\n",
      "└───────────────┴──────────────────┴───────────┴─────────────┴────────────┘\n",
      "CPU times: user 8.21 s, sys: 18.4 ms, total: 8.23 s\n",
      "Wall time: 8.23 s\n"
     ]
    }
   ],
   "source": [
    "%%time\n",
    "fit = Fit([dataset])\n",
    "result = fit.run(optimize_opts={\"print_level\": 1})"
   ]
  },
  {
   "cell_type": "code",
   "execution_count": 16,
   "metadata": {
    "execution": {
     "iopub.execute_input": "2020-12-29T06:52:54.249690Z",
     "iopub.status.busy": "2020-12-29T06:52:54.248860Z",
     "iopub.status.idle": "2020-12-29T06:52:54.920494Z",
     "shell.execute_reply": "2020-12-29T06:52:54.920009Z"
    },
    "nbsphinx-thumbnail": {
     "tooltip": "Simulate a 3D observation of a source with the CTA 1DC response and fit it with the assumed source model."
    }
   },
   "outputs": [
    {
     "name": "stderr",
     "output_type": "stream",
     "text": [
      "/usr/share/miniconda/envs/gammapy-dev/lib/python3.7/site-packages/astropy/visualization/wcsaxes/core.py:211: MatplotlibDeprecationWarning: Passing parameters norm and vmin/vmax simultaneously is deprecated since 3.3 and will become an error two minor releases later. Please pass vmin/vmax directly to the norm when creating it.\n",
      "  return super().imshow(X, *args, origin=origin, **kwargs)\n"
     ]
    },
    {
     "data": {
      "text/plain": [
       "<WCSAxesSubplot:xlabel='Galactic Longitude', ylabel='Galactic Latitude'>"
      ]
     },
     "execution_count": 1,
     "metadata": {},
     "output_type": "execute_result"
    },
    {
     "data": {
      "image/png": "[encoded data removed]",
      "text/plain": [
       "<Figure size 432x288 with 2 Axes>"
      ]
     },
     "metadata": {
      "needs_background": "light"
     },
     "output_type": "display_data"
    }
   ],
   "source": [
    "dataset.plot_residuals_spatial(method=\"diff/sqrt(model)\", vmin=-0.5, vmax=0.5)"
   ]
  },
  {
   "cell_type": "markdown",
   "metadata": {},
   "source": [
    "Compare the injected and fitted models: "
   ]
  },
  {
   "cell_type": "code",
   "execution_count": 17,
   "metadata": {
    "execution": {
     "iopub.execute_input": "2020-12-29T06:52:54.925006Z",
     "iopub.status.busy": "2020-12-29T06:52:54.924478Z",
     "iopub.status.idle": "2020-12-29T06:52:54.928843Z",
     "shell.execute_reply": "2020-12-29T06:52:54.928297Z"
    }
   },
   "outputs": [
    {
     "name": "stdout",
     "output_type": "stream",
     "text": [
      "True model: \n",
      " SkyModel\n",
      "\n",
      "  Name                      : model-simu\n",
      "  Datasets names            : None\n",
      "  Spectral model type       : PowerLawSpectralModel\n",
      "  Spatial  model type       : GaussianSpatialModel\n",
      "  Temporal model type       : \n",
      "  Parameters:\n",
      "    index                   :   3.000              \n",
      "    amplitude               :   1.00e-11  1 / (cm2 s TeV)\n",
      "    reference    (frozen)   :   1.000  TeV         \n",
      "    lon_0                   :   0.200  deg         \n",
      "    lat_0                   :   0.100  deg         \n",
      "    sigma                   :   0.300  deg         \n",
      "    e            (frozen)   :   0.000              \n",
      "    phi          (frozen)   :   0.000  deg         \n",
      "\n",
      " \n",
      "\n",
      " Fitted model: \n",
      " SkyModel\n",
      "\n",
      "  Name                      : model-simu\n",
      "  Datasets names            : None\n",
      "  Spectral model type       : PowerLawSpectralModel\n",
      "  Spatial  model type       : GaussianSpatialModel\n",
      "  Temporal model type       : \n",
      "  Parameters:\n",
      "    index                   :   2.981              \n",
      "    amplitude               :   1.01e-11  1 / (cm2 s TeV)\n",
      "    reference    (frozen)   :   1.000  TeV         \n",
      "    lon_0                   :   0.192  deg         \n",
      "    lat_0                   :   0.095  deg         \n",
      "    sigma                   :   0.300  deg         \n",
      "    e            (frozen)   :   0.000              \n",
      "    phi          (frozen)   :   0.000  deg         \n",
      "\n",
      "\n"
     ]
    }
   ],
   "source": [
    "print(\n",
    "    \"True model: \\n\",\n",
    "    model_simu,\n",
    "    \"\\n\\n Fitted model: \\n\",\n",
    "    models_fit[\"model-simu\"],\n",
    ")"
   ]
  },
  {
   "cell_type": "markdown",
   "metadata": {},
   "source": [
    "Get the errors on the fitted parameters from the parameter table"
   ]
  },
  {
   "cell_type": "code",
   "execution_count": 18,
   "metadata": {
    "execution": {
     "iopub.execute_input": "2020-12-29T06:52:54.935876Z",
     "iopub.status.busy": "2020-12-29T06:52:54.935365Z",
     "iopub.status.idle": "2020-12-29T06:52:54.939539Z",
     "shell.execute_reply": "2020-12-29T06:52:54.938982Z"
    }
   },
   "outputs": [
    {
     "data": {
      "text/html": [
       "<i>Table length=11</i>\n",
       "<table id=\"table140006936775536\" class=\"table-striped table-bordered table-condensed\">\n",
       "<thead><tr><th>name</th><th>value</th><th>unit</th><th>min</th><th>max</th><th>frozen</th><th>error</th></tr></thead>\n",
       "<thead><tr><th>str9</th><th>float64</th><th>str14</th><th>float64</th><th>float64</th><th>bool</th><th>float64</th></tr></thead>\n",
       "<tr><td>index</td><td>2.9812e+00</td><td></td><td>nan</td><td>nan</td><td>False</td><td>1.963e-02</td></tr>\n",
       "<tr><td>amplitude</td><td>1.0118e-11</td><td>cm-2 s-1 TeV-1</td><td>nan</td><td>nan</td><td>False</td><td>3.244e-13</td></tr>\n",
       "<tr><td>reference</td><td>1.0000e+00</td><td>TeV</td><td>nan</td><td>nan</td><td>True</td><td>0.000e+00</td></tr>\n",
       "<tr><td>lon_0</td><td>1.9241e-01</td><td>deg</td><td>nan</td><td>nan</td><td>False</td><td>6.009e-03</td></tr>\n",
       "<tr><td>lat_0</td><td>9.4635e-02</td><td>deg</td><td>-9.000e+01</td><td>9.000e+01</td><td>False</td><td>5.938e-03</td></tr>\n",
       "<tr><td>sigma</td><td>2.9953e-01</td><td>deg</td><td>0.000e+00</td><td>nan</td><td>False</td><td>4.062e-03</td></tr>\n",
       "<tr><td>e</td><td>0.0000e+00</td><td></td><td>0.000e+00</td><td>1.000e+00</td><td>True</td><td>0.000e+00</td></tr>\n",
       "<tr><td>phi</td><td>0.0000e+00</td><td>deg</td><td>nan</td><td>nan</td><td>True</td><td>0.000e+00</td></tr>\n",
       "<tr><td>norm</td><td>1.0000e+00</td><td></td><td>nan</td><td>nan</td><td>True</td><td>0.000e+00</td></tr>\n",
       "<tr><td>tilt</td><td>0.0000e+00</td><td></td><td>nan</td><td>nan</td><td>True</td><td>0.000e+00</td></tr>\n",
       "<tr><td>reference</td><td>1.0000e+00</td><td>TeV</td><td>nan</td><td>nan</td><td>True</td><td>0.000e+00</td></tr>\n",
       "</table>"
      ],
      "text/plain": [
       "<Table length=11>\n",
       "   name     value         unit         min        max    frozen   error  \n",
       "   str9    float64       str14       float64    float64   bool   float64 \n",
       "--------- ---------- -------------- ---------- --------- ------ ---------\n",
       "    index 2.9812e+00                       nan       nan  False 1.963e-02\n",
       "amplitude 1.0118e-11 cm-2 s-1 TeV-1        nan       nan  False 3.244e-13\n",
       "reference 1.0000e+00            TeV        nan       nan   True 0.000e+00\n",
       "    lon_0 1.9241e-01            deg        nan       nan  False 6.009e-03\n",
       "    lat_0 9.4635e-02            deg -9.000e+01 9.000e+01  False 5.938e-03\n",
       "    sigma 2.9953e-01            deg  0.000e+00       nan  False 4.062e-03\n",
       "        e 0.0000e+00                 0.000e+00 1.000e+00   True 0.000e+00\n",
       "      phi 0.0000e+00            deg        nan       nan   True 0.000e+00\n",
       "     norm 1.0000e+00                       nan       nan   True 0.000e+00\n",
       "     tilt 0.0000e+00                       nan       nan   True 0.000e+00\n",
       "reference 1.0000e+00            TeV        nan       nan   True 0.000e+00"
      ]
     },
     "execution_count": 1,
     "metadata": {},
     "output_type": "execute_result"
    }
   ],
   "source": [
    "result.parameters.to_table()"
   ]
  },
  {
   "cell_type": "code",
   "execution_count": null,
   "metadata": {},
   "outputs": [],
   "source": []
  }
 ],
 "metadata": {
  "kernelspec": {
   "display_name": "Python 3",
   "language": "python",
   "name": "python3"
  },
  "language_info": {
   "codemirror_mode": {
    "name": "ipython",
    "version": 3
   },
   "file_extension": ".py",
   "mimetype": "text/x-python",
   "name": "python",
   "nbconvert_exporter": "python",
   "pygments_lexer": "ipython3",
   "version": "3.7.0"
  },
  "nbsphinx": {
   "orphan": true
  },
  "widgets": {
   "application/vnd.jupyter.widget-state+json": {
    "state": {
     "30e779a675fc46d189a72ae33c4ba897": {
      "model_module": "@jupyter-widgets/output",
      "model_module_version": "1.0.0",
      "model_name": "OutputModel",
      "state": {
       "_dom_classes": [],
       "_model_module": "@jupyter-widgets/output",
       "_model_module_version": "1.0.0",
       "_model_name": "OutputModel",
       "_view_count": null,
       "_view_module": "@jupyter-widgets/output",
       "_view_module_version": "1.0.0",
       "_view_name": "OutputView",
       "layout": "IPY_MODEL_c3df0cfaa0044917a0cf37c0d13fd796",
       "msg_id": "",
       "outputs": [
        {
         "data": {
          "image/png": "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\n",
          "text/plain": "<Figure size 432x288 with 2 Axes>"
         },
         "metadata": {
          "needs_background": "light"
         },
         "output_type": "display_data"
        }
       ]
      }
     },
     "63cc4b218090410cb8465485f006ec48": {
      "model_module": "@jupyter-widgets/controls",
      "model_module_version": "1.5.0",
      "model_name": "DescriptionStyleModel",
      "state": {
       "_model_module": "@jupyter-widgets/controls",
       "_model_module_version": "1.5.0",
       "_model_name": "DescriptionStyleModel",
       "_view_count": null,
       "_view_module": "@jupyter-widgets/base",
       "_view_module_version": "1.2.0",
       "_view_name": "StyleView",
       "description_width": "initial"
      }
     },
     "8306dba8918749ff92f151bfc8f157ce": {
      "model_module": "@jupyter-widgets/controls",
      "model_module_version": "1.5.0",
      "model_name": "VBoxModel",
      "state": {
       "_dom_classes": [
        "widget-interact"
       ],
       "_model_module": "@jupyter-widgets/controls",
       "_model_module_version": "1.5.0",
       "_model_name": "VBoxModel",
       "_view_count": null,
       "_view_module": "@jupyter-widgets/controls",
       "_view_module_version": "1.5.0",
       "_view_name": "VBoxView",
       "box_style": "",
       "children": [
        "IPY_MODEL_9a7fb3cde26c429ca8ad301452d4c03c",
        "IPY_MODEL_e46c44f85294455e834e394f08e0ba37",
        "IPY_MODEL_30e779a675fc46d189a72ae33c4ba897"
       ],
       "layout": "IPY_MODEL_e76fd5821039454797003bbfe4169ddd"
      }
     },
     "8c22368b5dd64bf69cdc1f27336be21c": {
      "model_module": "@jupyter-widgets/base",
      "model_module_version": "1.2.0",
      "model_name": "LayoutModel",
      "state": {
       "_model_module": "@jupyter-widgets/base",
       "_model_module_version": "1.2.0",
       "_model_name": "LayoutModel",
       "_view_count": null,
       "_view_module": "@jupyter-widgets/base",
       "_view_module_version": "1.2.0",
       "_view_name": "LayoutView",
       "align_content": null,
       "align_items": null,
       "align_self": null,
       "border": null,
       "bottom": null,
       "display": null,
       "flex": null,
       "flex_flow": null,
       "grid_area": null,
       "grid_auto_columns": null,
       "grid_auto_flow": null,
       "grid_auto_rows": null,
       "grid_column": null,
       "grid_gap": null,
       "grid_row": null,
       "grid_template_areas": null,
       "grid_template_columns": null,
       "grid_template_rows": null,
       "height": null,
       "justify_content": null,
       "justify_items": null,
       "left": null,
       "margin": null,
       "max_height": null,
       "max_width": null,
       "min_height": null,
       "min_width": null,
       "object_fit": null,
       "object_position": null,
       "order": null,
       "overflow": null,
       "overflow_x": null,
       "overflow_y": null,
       "padding": null,
       "right": null,
       "top": null,
       "visibility": null,
       "width": null
      }
     },
     "9a7fb3cde26c429ca8ad301452d4c03c": {
      "model_module": "@jupyter-widgets/controls",
      "model_module_version": "1.5.0",
      "model_name": "SelectionSliderModel",
      "state": {
       "_dom_classes": [],
       "_model_module": "@jupyter-widgets/controls",
       "_model_module_version": "1.5.0",
       "_model_name": "SelectionSliderModel",
       "_options_labels": [
        "1.00e-01 TeV - 1.67e-01 TeV TeV",
        "1.67e-01 TeV - 2.78e-01 TeV TeV",
        "2.78e-01 TeV - 4.64e-01 TeV TeV",
        "4.64e-01 TeV - 7.74e-01 TeV TeV",
        "7.74e-01 TeV - 1.29e+00 TeV TeV",
        "1.29e+00 TeV - 2.15e+00 TeV TeV",
        "2.15e+00 TeV - 3.59e+00 TeV TeV",
        "3.59e+00 TeV - 5.99e+00 TeV TeV",
        "5.99e+00 TeV - 1.00e+01 TeV TeV"
       ],
       "_view_count": null,
       "_view_module": "@jupyter-widgets/controls",
       "_view_module_version": "1.5.0",
       "_view_name": "SelectionSliderView",
       "continuous_update": false,
       "description": "Select energy:",
       "description_tooltip": null,
       "disabled": false,
       "index": 0,
       "layout": "IPY_MODEL_ea3b1c01fe2744d5a84b934e55de24cf",
       "orientation": "horizontal",
       "readout": true,
       "style": "IPY_MODEL_bf19beb24b254c0a9a374c7dfa9f8a24"
      }
     },
     "bf19beb24b254c0a9a374c7dfa9f8a24": {
      "model_module": "@jupyter-widgets/controls",
      "model_module_version": "1.5.0",
      "model_name": "DescriptionStyleModel",
      "state": {
       "_model_module": "@jupyter-widgets/controls",
       "_model_module_version": "1.5.0",
       "_model_name": "DescriptionStyleModel",
       "_view_count": null,
       "_view_module": "@jupyter-widgets/base",
       "_view_module_version": "1.2.0",
       "_view_name": "StyleView",
       "description_width": "initial"
      }
     },
     "c3df0cfaa0044917a0cf37c0d13fd796": {
      "model_module": "@jupyter-widgets/base",
      "model_module_version": "1.2.0",
      "model_name": "LayoutModel",
      "state": {
       "_model_module": "@jupyter-widgets/base",
       "_model_module_version": "1.2.0",
       "_model_name": "LayoutModel",
       "_view_count": null,
       "_view_module": "@jupyter-widgets/base",
       "_view_module_version": "1.2.0",
       "_view_name": "LayoutView",
       "align_content": null,
       "align_items": null,
       "align_self": null,
       "border": null,
       "bottom": null,
       "display": null,
       "flex": null,
       "flex_flow": null,
       "grid_area": null,
       "grid_auto_columns": null,
       "grid_auto_flow": null,
       "grid_auto_rows": null,
       "grid_column": null,
       "grid_gap": null,
       "grid_row": null,
       "grid_template_areas": null,
       "grid_template_columns": null,
       "grid_template_rows": null,
       "height": null,
       "justify_content": null,
       "justify_items": null,
       "left": null,
       "margin": null,
       "max_height": null,
       "max_width": null,
       "min_height": null,
       "min_width": null,
       "object_fit": null,
       "object_position": null,
       "order": null,
       "overflow": null,
       "overflow_x": null,
       "overflow_y": null,
       "padding": null,
       "right": null,
       "top": null,
       "visibility": null,
       "width": null
      }
     },
     "e46c44f85294455e834e394f08e0ba37": {
      "model_module": "@jupyter-widgets/controls",
      "model_module_version": "1.5.0",
      "model_name": "RadioButtonsModel",
      "state": {
       "_dom_classes": [],
       "_model_module": "@jupyter-widgets/controls",
       "_model_module_version": "1.5.0",
       "_model_name": "RadioButtonsModel",
       "_options_labels": [
        "linear",
        "sqrt",
        "log"
       ],
       "_view_count": null,
       "_view_module": "@jupyter-widgets/controls",
       "_view_module_version": "1.5.0",
       "_view_name": "RadioButtonsView",
       "description": "Select stretch:",
       "description_tooltip": null,
       "disabled": false,
       "index": 0,
       "layout": "IPY_MODEL_8c22368b5dd64bf69cdc1f27336be21c",
       "style": "IPY_MODEL_63cc4b218090410cb8465485f006ec48"
      }
     },
     "e76fd5821039454797003bbfe4169ddd": {
      "model_module": "@jupyter-widgets/base",
      "model_module_version": "1.2.0",
      "model_name": "LayoutModel",
      "state": {
       "_model_module": "@jupyter-widgets/base",
       "_model_module_version": "1.2.0",
       "_model_name": "LayoutModel",
       "_view_count": null,
       "_view_module": "@jupyter-widgets/base",
       "_view_module_version": "1.2.0",
       "_view_name": "LayoutView",
       "align_content": null,
       "align_items": null,
       "align_self": null,
       "border": null,
       "bottom": null,
       "display": null,
       "flex": null,
       "flex_flow": null,
       "grid_area": null,
       "grid_auto_columns": null,
       "grid_auto_flow": null,
       "grid_auto_rows": null,
       "grid_column": null,
       "grid_gap": null,
       "grid_row": null,
       "grid_template_areas": null,
       "grid_template_columns": null,
       "grid_template_rows": null,
       "height": null,
       "justify_content": null,
       "justify_items": null,
       "left": null,
       "margin": null,
       "max_height": null,
       "max_width": null,
       "min_height": null,
       "min_width": null,
       "object_fit": null,
       "object_position": null,
       "order": null,
       "overflow": null,
       "overflow_x": null,
       "overflow_y": null,
       "padding": null,
       "right": null,
       "top": null,
       "visibility": null,
       "width": null
      }
     },
     "ea3b1c01fe2744d5a84b934e55de24cf": {
      "model_module": "@jupyter-widgets/base",
      "model_module_version": "1.2.0",
      "model_name": "LayoutModel",
      "state": {
       "_model_module": "@jupyter-widgets/base",
       "_model_module_version": "1.2.0",
       "_model_name": "LayoutModel",
       "_view_count": null,
       "_view_module": "@jupyter-widgets/base",
       "_view_module_version": "1.2.0",
       "_view_name": "LayoutView",
       "align_content": null,
       "align_items": null,
       "align_self": null,
       "border": null,
       "bottom": null,
       "display": null,
       "flex": null,
       "flex_flow": null,
       "grid_area": null,
       "grid_auto_columns": null,
       "grid_auto_flow": null,
       "grid_auto_rows": null,
       "grid_column": null,
       "grid_gap": null,
       "grid_row": null,
       "grid_template_areas": null,
       "grid_template_columns": null,
       "grid_template_rows": null,
       "height": null,
       "justify_content": null,
       "justify_items": null,
       "left": null,
       "margin": null,
       "max_height": null,
       "max_width": null,
       "min_height": null,
       "min_width": null,
       "object_fit": null,
       "object_position": null,
       "order": null,
       "overflow": null,
       "overflow_x": null,
       "overflow_y": null,
       "padding": null,
       "right": null,
       "top": null,
       "visibility": null,
       "width": "50%"
      }
     }
    },
    "version_major": 2,
    "version_minor": 0
   }
  }
 },
 "nbformat": 4,
 "nbformat_minor": 4
}
