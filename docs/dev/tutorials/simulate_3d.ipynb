{
 "cells": [
  {
   "cell_type": "markdown",
   "metadata": {},
   "source": [
    "\n",
    "<div class=\"alert alert-info\">\n",
    "\n",
    "**This is a fixed-text formatted version of a Jupyter notebook**\n",
    "\n",
    "- Try online [![Binder](https://static.mybinder.org/badge.svg)](https://mybinder.org/v2/gh/gammapy/gammapy-webpage/master?urlpath=lab/tree/simulate_3d.ipynb)\n",
    "- You can contribute with your own notebooks in this\n",
    "[GitHub repository](https://github.com/gammapy/gammapy/tree/master/docs/tutorials).\n",
    "- **Source files:**\n",
    "[simulate_3d.ipynb](../_static/notebooks/simulate_3d.ipynb) |\n",
    "[simulate_3d.py](../_static/notebooks/simulate_3d.py)\n",
    "</div>\n"
   ]
  },
  {
   "cell_type": "markdown",
   "metadata": {},
   "source": [
    "# 3D simulation and fitting\n",
    "\n",
    "## Prerequisites\n",
    "\n",
    "- Knowledge of 3D extraction and datasets used in gammapy, see for instance the [first analysis tutorial](analysis_1.ipynb)\n",
    "\n",
    "## Context\n",
    "\n",
    "To simulate a specific observation, it is not always necessary to simulate the full photon list. For many uses cases, simulating directly a reduced binned dataset is enough: the IRFs reduced in the correct geometry are combined with a source model to predict an actual number of counts per bin. The latter is then used to simulate a reduced dataset using Poisson probability distribution.\n",
    "\n",
    "This can be done to check the feasibility of a measurement (performance / sensitivity study), to test whether fitted parameters really provide a good fit to the data etc.\n",
    "\n",
    "Here we will see how to perform a 3D simulation of a CTA observation, assuming both the spectral and spatial morphology of an observed source.\n",
    "\n",
    "**Objective: simulate a 3D observation of a source with CTA using the CTA 1DC response and fit it with the assumed source model.**\n",
    "\n",
    "## Proposed approach:\n",
    "\n",
    "Here we can't use the regular observation objects that are connected to a `DataStore`. Instead we will create a fake `~gammapy.data.Observation` that contain some pointing information and the CTA 1DC IRFs (that are loaded with `~gammapy.irf.load_cta_irfs`).\n",
    "\n",
    "Then we will create a `~gammapy.datasets.MapDataset` geometry and create it with the `~gammapy.makers.MapDatasetMaker`.\n",
    "\n",
    "Then we will be able to define a model consisting of  a `~gammapy.modeling.models.PowerLawSpectralModel` and a `~gammapy.modeling.models.GaussianSpatialModel`. We will assign it to the dataset and fake the count data.\n"
   ]
  },
  {
   "cell_type": "markdown",
   "metadata": {},
   "source": [
    "## Imports and versions"
   ]
  },
  {
   "cell_type": "code",
   "execution_count": 1,
   "metadata": {
    "execution": {
     "iopub.execute_input": "2020-10-30T09:20:25.590165Z",
     "iopub.status.busy": "2020-10-30T09:20:25.589502Z",
     "iopub.status.idle": "2020-10-30T09:20:25.930062Z",
     "shell.execute_reply": "2020-10-30T09:20:25.929377Z"
    }
   },
   "outputs": [],
   "source": [
    "%matplotlib inline"
   ]
  },
  {
   "cell_type": "code",
   "execution_count": 2,
   "metadata": {
    "execution": {
     "iopub.execute_input": "2020-10-30T09:20:25.935295Z",
     "iopub.status.busy": "2020-10-30T09:20:25.934678Z",
     "iopub.status.idle": "2020-10-30T09:20:27.144647Z",
     "shell.execute_reply": "2020-10-30T09:20:27.143733Z"
    }
   },
   "outputs": [],
   "source": [
    "import numpy as np\n",
    "import astropy.units as u\n",
    "from astropy.coordinates import SkyCoord\n",
    "from gammapy.irf import load_cta_irfs\n",
    "from gammapy.maps import WcsGeom, MapAxis\n",
    "from gammapy.modeling.models import (\n",
    "    PowerLawSpectralModel,\n",
    "    GaussianSpatialModel,\n",
    "    SkyModel,\n",
    ")\n",
    "from gammapy.makers import MapDatasetMaker, SafeMaskMaker\n",
    "from gammapy.modeling import Fit\n",
    "from gammapy.data import Observation\n",
    "from gammapy.datasets import MapDataset"
   ]
  },
  {
   "cell_type": "code",
   "execution_count": 3,
   "metadata": {
    "execution": {
     "iopub.execute_input": "2020-10-30T09:20:27.152657Z",
     "iopub.status.busy": "2020-10-30T09:20:27.151215Z",
     "iopub.status.idle": "2020-10-30T09:20:29.513202Z",
     "shell.execute_reply": "2020-10-30T09:20:29.512352Z"
    }
   },
   "outputs": [
    {
     "name": "stdout",
     "output_type": "stream",
     "text": [
      "\r\n",
      "Gammapy package:\r\n",
      "\r\n",
      "\tversion                : 0.18.dev1126+gf1573d831 \r\n",
      "\tpath                   : /home/runner/work/gammapy-docs/gammapy-docs/gammapy/gammapy \r\n",
      "\r\n"
     ]
    }
   ],
   "source": [
    "!gammapy info --no-envvar --no-dependencies --no-system"
   ]
  },
  {
   "cell_type": "markdown",
   "metadata": {},
   "source": [
    "## Simulation"
   ]
  },
  {
   "cell_type": "markdown",
   "metadata": {},
   "source": [
    "We will simulate using the CTA-1DC IRFs shipped with gammapy. Note that for dedictaed CTA simulations, you can simply use [`Observation.from_caldb()`]() without having to externally load the IRFs"
   ]
  },
  {
   "cell_type": "code",
   "execution_count": 4,
   "metadata": {
    "execution": {
     "iopub.execute_input": "2020-10-30T09:20:29.523719Z",
     "iopub.status.busy": "2020-10-30T09:20:29.518706Z",
     "iopub.status.idle": "2020-10-30T09:20:29.648753Z",
     "shell.execute_reply": "2020-10-30T09:20:29.648042Z"
    }
   },
   "outputs": [
    {
     "name": "stderr",
     "output_type": "stream",
     "text": [
      "Invalid unit found in background table! Assuming (s-1 MeV-1 sr-1)\n"
     ]
    }
   ],
   "source": [
    "# Loading IRFs\n",
    "irfs = load_cta_irfs(\n",
    "    \"$GAMMAPY_DATA/cta-1dc/caldb/data/cta/1dc/bcf/South_z20_50h/irf_file.fits\"\n",
    ")"
   ]
  },
  {
   "cell_type": "code",
   "execution_count": 5,
   "metadata": {
    "execution": {
     "iopub.execute_input": "2020-10-30T09:20:29.654359Z",
     "iopub.status.busy": "2020-10-30T09:20:29.653802Z",
     "iopub.status.idle": "2020-10-30T09:20:29.657225Z",
     "shell.execute_reply": "2020-10-30T09:20:29.657783Z"
    }
   },
   "outputs": [],
   "source": [
    "# Define the observation parameters (typically the observation duration and the pointing position):\n",
    "livetime = 2.0 * u.hr\n",
    "pointing = SkyCoord(0, 0, unit=\"deg\", frame=\"galactic\")"
   ]
  },
  {
   "cell_type": "code",
   "execution_count": 6,
   "metadata": {
    "execution": {
     "iopub.execute_input": "2020-10-30T09:20:29.665295Z",
     "iopub.status.busy": "2020-10-30T09:20:29.664349Z",
     "iopub.status.idle": "2020-10-30T09:20:29.668679Z",
     "shell.execute_reply": "2020-10-30T09:20:29.668168Z"
    }
   },
   "outputs": [],
   "source": [
    "# Define map geometry for binned simulation\n",
    "energy_reco = MapAxis.from_edges(\n",
    "    np.logspace(-1.0, 1.0, 10), unit=\"TeV\", name=\"energy\", interp=\"log\"\n",
    ")\n",
    "geom = WcsGeom.create(\n",
    "    skydir=(0, 0),\n",
    "    binsz=0.02,\n",
    "    width=(6, 6),\n",
    "    frame=\"galactic\",\n",
    "    axes=[energy_reco],\n",
    ")\n",
    "# It is usually useful to have a separate binning for the true energy axis\n",
    "energy_true = MapAxis.from_edges(\n",
    "    np.logspace(-1.5, 1.5, 30), unit=\"TeV\", name=\"energy\", interp=\"log\"\n",
    ")"
   ]
  },
  {
   "cell_type": "code",
   "execution_count": 7,
   "metadata": {
    "execution": {
     "iopub.execute_input": "2020-10-30T09:20:29.681291Z",
     "iopub.status.busy": "2020-10-30T09:20:29.678383Z",
     "iopub.status.idle": "2020-10-30T09:20:29.685157Z",
     "shell.execute_reply": "2020-10-30T09:20:29.685821Z"
    }
   },
   "outputs": [
    {
     "name": "stdout",
     "output_type": "stream",
     "text": [
      "SkyModel\n",
      "\n",
      "  Name                      : model-simu\n",
      "  Datasets names            : None\n",
      "  Spectral model type       : PowerLawSpectralModel\n",
      "  Spatial  model type       : GaussianSpatialModel\n",
      "  Temporal model type       : \n",
      "  Parameters:\n",
      "    index                   :   3.000              \n",
      "    amplitude               :   1.00e-11  1 / (cm2 s TeV)\n",
      "    reference    (frozen)   :   1.000  TeV         \n",
      "    lon_0                   :   0.200  deg         \n",
      "    lat_0                   :   0.100  deg         \n",
      "    sigma                   :   0.300  deg         \n",
      "    e            (frozen)   :   0.000              \n",
      "    phi          (frozen)   :   0.000  deg         \n",
      "\n",
      "\n"
     ]
    }
   ],
   "source": [
    "# Define sky model to used simulate the data.\n",
    "# Here we use a Gaussian spatial model and a Power Law spectral model.\n",
    "spatial_model = GaussianSpatialModel(\n",
    "    lon_0=\"0.2 deg\", lat_0=\"0.1 deg\", sigma=\"0.3 deg\", frame=\"galactic\"\n",
    ")\n",
    "spectral_model = PowerLawSpectralModel(\n",
    "    index=3, amplitude=\"1e-11 cm-2 s-1 TeV-1\", reference=\"1 TeV\"\n",
    ")\n",
    "model_simu = SkyModel(\n",
    "    spatial_model=spatial_model,\n",
    "    spectral_model=spectral_model,\n",
    "    name=\"model-simu\",\n",
    ")\n",
    "print(model_simu)"
   ]
  },
  {
   "cell_type": "markdown",
   "metadata": {},
   "source": [
    "Now, comes the main part of dataset simulation. We create an in-memory observation and an empty dataset. We then predict the number of counts for the given model, and Poission fluctuate it using `fake()` to make a simulated counts maps. Keep in mind that it is important to specify the `selection` of the maps that you want to produce "
   ]
  },
  {
   "cell_type": "code",
   "execution_count": 8,
   "metadata": {
    "execution": {
     "iopub.execute_input": "2020-10-30T09:20:29.705450Z",
     "iopub.status.busy": "2020-10-30T09:20:29.704704Z",
     "iopub.status.idle": "2020-10-30T09:20:29.708998Z",
     "shell.execute_reply": "2020-10-30T09:20:29.709848Z"
    }
   },
   "outputs": [
    {
     "name": "stdout",
     "output_type": "stream",
     "text": [
      "Observation\n",
      "\n",
      "\tobs id            : 0 \n",
      " \ttstart            : 51544.00\n",
      "\ttstop             : 51544.08\n",
      "\tduration          : 7200.00 s\n",
      "\tpointing (icrs)   : 266.4 deg, -28.9 deg\n",
      "\n",
      "\tdeadtime fraction : 0.0%\n",
      "\n"
     ]
    }
   ],
   "source": [
    "# Create an in-memory observation\n",
    "obs = Observation.create(pointing=pointing, livetime=livetime, irfs=irfs)\n",
    "print(obs)"
   ]
  },
  {
   "cell_type": "code",
   "execution_count": 9,
   "metadata": {
    "execution": {
     "iopub.execute_input": "2020-10-30T09:20:29.721573Z",
     "iopub.status.busy": "2020-10-30T09:20:29.718995Z",
     "iopub.status.idle": "2020-10-30T09:20:32.361006Z",
     "shell.execute_reply": "2020-10-30T09:20:32.360389Z"
    }
   },
   "outputs": [
    {
     "name": "stdout",
     "output_type": "stream",
     "text": [
      "MapDataset\n",
      "----------\n",
      "\n",
      "  Name                            : dataset-simu \n",
      "\n",
      "  Total counts                    : nan \n",
      "  Total predicted counts          : 161250.95\n",
      "  Total background counts         : 161250.95\n",
      "\n",
      "  Exposure min                    : 6.41e+07 m2 s\n",
      "  Exposure max                    : 2.53e+10 m2 s\n",
      "\n",
      "  Number of total bins            : 0 \n",
      "  Number of fit bins              : 804492 \n",
      "\n",
      "  Fit statistic type              : cash\n",
      "  Fit statistic value (-2 log(L)) : nan\n",
      "\n",
      "  Number of models                : 1 \n",
      "  Number of parameters            : 3\n",
      "  Number of free parameters       : 1\n",
      "\n",
      "  Component 0: FoVBackgroundModel\n",
      "  \n",
      "    Name                      : dataset-simu-bkg\n",
      "    Datasets names            : ['dataset-simu']\n",
      "    Spectral model type       : PowerLawNormSpectralModel\n",
      "    Parameters:\n",
      "      norm                    :   1.000              \n",
      "      tilt         (frozen)   :   0.000              \n",
      "      reference    (frozen)   :   1.000  TeV         \n",
      "  \n",
      "  \n"
     ]
    }
   ],
   "source": [
    "# Make the MapDataset\n",
    "empty = MapDataset.create(geom, name=\"dataset-simu\")\n",
    "maker = MapDatasetMaker(selection=[\"exposure\", \"background\", \"psf\", \"edisp\"])\n",
    "maker_safe_mask = SafeMaskMaker(methods=[\"offset-max\"], offset_max=4.0 * u.deg)\n",
    "dataset = maker.run(empty, obs)\n",
    "dataset = maker_safe_mask.run(dataset, obs)\n",
    "print(dataset)"
   ]
  },
  {
   "cell_type": "code",
   "execution_count": 10,
   "metadata": {
    "execution": {
     "iopub.execute_input": "2020-10-30T09:20:32.365866Z",
     "iopub.status.busy": "2020-10-30T09:20:32.365262Z",
     "iopub.status.idle": "2020-10-30T09:20:33.354284Z",
     "shell.execute_reply": "2020-10-30T09:20:33.354921Z"
    }
   },
   "outputs": [
    {
     "name": "stdout",
     "output_type": "stream",
     "text": [
      "MapDataset\n",
      "----------\n",
      "\n",
      "  Name                            : dataset-simu \n",
      "\n",
      "  Total counts                    : 170022 \n",
      "  Total predicted counts          : 169690.08\n",
      "  Total background counts         : 161250.95\n",
      "\n",
      "  Exposure min                    : 6.41e+07 m2 s\n",
      "  Exposure max                    : 2.53e+10 m2 s\n",
      "\n",
      "  Number of total bins            : 810000 \n",
      "  Number of fit bins              : 804492 \n",
      "\n",
      "  Fit statistic type              : cash\n",
      "  Fit statistic value (-2 log(L)) : 563736.79\n",
      "\n",
      "  Number of models                : 2 \n",
      "  Number of parameters            : 11\n",
      "  Number of free parameters       : 6\n",
      "\n",
      "  Component 0: FoVBackgroundModel\n",
      "  \n",
      "    Name                      : dataset-simu-bkg\n",
      "    Datasets names            : ['dataset-simu']\n",
      "    Spectral model type       : PowerLawNormSpectralModel\n",
      "    Parameters:\n",
      "      norm                    :   1.000              \n",
      "      tilt         (frozen)   :   0.000              \n",
      "      reference    (frozen)   :   1.000  TeV         \n",
      "  \n",
      "  Component 1: SkyModel\n",
      "  \n",
      "    Name                      : model-simu\n",
      "    Datasets names            : None\n",
      "    Spectral model type       : PowerLawSpectralModel\n",
      "    Spatial  model type       : GaussianSpatialModel\n",
      "    Temporal model type       : \n",
      "    Parameters:\n",
      "      index                   :   3.000              \n",
      "      amplitude               :   1.00e-11  1 / (cm2 s TeV)\n",
      "      reference    (frozen)   :   1.000  TeV         \n",
      "      lon_0                   :   0.200  deg         \n",
      "      lat_0                   :   0.100  deg         \n",
      "      sigma                   :   0.300  deg         \n",
      "      e            (frozen)   :   0.000              \n",
      "      phi          (frozen)   :   0.000  deg         \n",
      "  \n",
      "  \n"
     ]
    }
   ],
   "source": [
    "# Add the model on the dataset and Poission fluctuate\n",
    "dataset.models.append(model_simu)\n",
    "dataset.fake()\n",
    "# Do a print on the dataset - there is now a counts maps\n",
    "print(dataset)"
   ]
  },
  {
   "cell_type": "markdown",
   "metadata": {},
   "source": [
    "Now use this dataset as you would in all standard analysis. You can plot the maps, or proceed with your custom analysis. \n",
    "In the next section, we show the standard 3D fitting as in [analysis_3d](analysis_3d.ipynb)."
   ]
  },
  {
   "cell_type": "code",
   "execution_count": 11,
   "metadata": {
    "execution": {
     "iopub.execute_input": "2020-10-30T09:20:33.360276Z",
     "iopub.status.busy": "2020-10-30T09:20:33.359617Z",
     "iopub.status.idle": "2020-10-30T09:20:34.274543Z",
     "shell.execute_reply": "2020-10-30T09:20:34.273911Z"
    }
   },
   "outputs": [
    {
     "data": {
      "application/vnd.jupyter.widget-view+json": {
       "model_id": "5dbe72d32b224fedb12fb3708cdd9d62",
       "version_major": 2,
       "version_minor": 0
      },
      "text/plain": [
       "interactive(children=(SelectionSlider(continuous_update=False, description='Select energy:', layout=Layout(wid…"
      ]
     },
     "metadata": {},
     "output_type": "display_data"
    }
   ],
   "source": [
    "# To plot, eg, counts:\n",
    "dataset.counts.smooth(0.05 * u.deg).plot_interactive(\n",
    "    add_cbar=True, stretch=\"linear\"\n",
    ")"
   ]
  },
  {
   "cell_type": "markdown",
   "metadata": {},
   "source": [
    "## Fit\n",
    "\n",
    "In this section, we do a usual 3D fit with the same model used to simulated the data and see the stability of the simulations. Often, it is useful to simulate many such datasets and look at the distribution of the reconstructed parameters."
   ]
  },
  {
   "cell_type": "code",
   "execution_count": 12,
   "metadata": {
    "execution": {
     "iopub.execute_input": "2020-10-30T09:20:34.280623Z",
     "iopub.status.busy": "2020-10-30T09:20:34.279716Z",
     "iopub.status.idle": "2020-10-30T09:20:34.297743Z",
     "shell.execute_reply": "2020-10-30T09:20:34.297200Z"
    }
   },
   "outputs": [],
   "source": [
    "# Make a copy of the dataset\n",
    "dataset_fit = dataset.copy(name=\"dataset-fit\")"
   ]
  },
  {
   "cell_type": "code",
   "execution_count": 13,
   "metadata": {
    "execution": {
     "iopub.execute_input": "2020-10-30T09:20:34.307696Z",
     "iopub.status.busy": "2020-10-30T09:20:34.302575Z",
     "iopub.status.idle": "2020-10-30T09:20:34.312941Z",
     "shell.execute_reply": "2020-10-30T09:20:34.312384Z"
    }
   },
   "outputs": [
    {
     "name": "stdout",
     "output_type": "stream",
     "text": [
      "ProperModels\n",
      "\n",
      "Component 0: FoVBackgroundModel\n",
      "\n",
      "  Name                      : dataset-fit-bkg\n",
      "  Datasets names            : ['dataset-fit']\n",
      "  Spectral model type       : PowerLawNormSpectralModel\n",
      "  Parameters:\n",
      "    norm                    :   1.000              \n",
      "    tilt         (frozen)   :   0.000              \n",
      "    reference    (frozen)   :   1.000  TeV         \n",
      "\n",
      "Component 1: SkyModel\n",
      "\n",
      "  Name                      : model-simu\n",
      "  Datasets names            : None\n",
      "  Spectral model type       : PowerLawSpectralModel\n",
      "  Spatial  model type       : GaussianSpatialModel\n",
      "  Temporal model type       : \n",
      "  Parameters:\n",
      "    index                   :   3.000              \n",
      "    amplitude               :   1.00e-11  1 / (cm2 s TeV)\n",
      "    reference    (frozen)   :   1.000  TeV         \n",
      "    lon_0                   :   0.200  deg         \n",
      "    lat_0                   :   0.100  deg         \n",
      "    sigma                   :   0.300  deg         \n",
      "    e            (frozen)   :   0.000              \n",
      "    phi          (frozen)   :   0.000  deg         \n",
      "\n",
      "\n"
     ]
    }
   ],
   "source": [
    "print(dataset_fit.models)"
   ]
  },
  {
   "cell_type": "code",
   "execution_count": 14,
   "metadata": {
    "execution": {
     "iopub.execute_input": "2020-10-30T09:20:34.330241Z",
     "iopub.status.busy": "2020-10-30T09:20:34.328850Z",
     "iopub.status.idle": "2020-10-30T09:20:34.331928Z",
     "shell.execute_reply": "2020-10-30T09:20:34.332571Z"
    }
   },
   "outputs": [
    {
     "name": "stdout",
     "output_type": "stream",
     "text": [
      "ProperModels\n",
      "\n",
      "Component 0: SkyModel\n",
      "\n",
      "  Name                      : model-fit\n",
      "  Datasets names            : None\n",
      "  Spectral model type       : PowerLawSpectralModel\n",
      "  Spatial  model type       : GaussianSpatialModel\n",
      "  Temporal model type       : \n",
      "  Parameters:\n",
      "    index                   :   2.000              \n",
      "    amplitude               :   1.00e-11  1 / (cm2 s TeV)\n",
      "    reference    (frozen)   :   1.000  TeV         \n",
      "    lon_0                   :   0.100  deg         \n",
      "    lat_0                   :   0.100  deg         \n",
      "    sigma                   :   0.500  deg         \n",
      "    e            (frozen)   :   0.000              \n",
      "    phi          (frozen)   :   0.000  deg         \n",
      "\n",
      "Component 1: FoVBackgroundModel\n",
      "\n",
      "  Name                      : dataset-fit-bkg\n",
      "  Datasets names            : ['dataset-fit']\n",
      "  Spectral model type       : PowerLawNormSpectralModel\n",
      "  Parameters:\n",
      "    norm                    :   1.000              \n",
      "    tilt         (frozen)   :   0.000              \n",
      "    reference    (frozen)   :   1.000  TeV         \n",
      "\n",
      "\n"
     ]
    }
   ],
   "source": [
    "# Define sky model to fit the data\n",
    "spatial_model1 = GaussianSpatialModel(\n",
    "    lon_0=\"0.1 deg\", lat_0=\"0.1 deg\", sigma=\"0.5 deg\", frame=\"galactic\"\n",
    ")\n",
    "spectral_model1 = PowerLawSpectralModel(\n",
    "    index=2, amplitude=\"1e-11 cm-2 s-1 TeV-1\", reference=\"1 TeV\"\n",
    ")\n",
    "model_fit = SkyModel(\n",
    "    spatial_model=spatial_model1,\n",
    "    spectral_model=spectral_model1,\n",
    "    name=\"model-fit\",\n",
    ")\n",
    "\n",
    "dataset_fit.models = [model_fit, dataset_fit.models[0]]\n",
    "print(dataset_fit.models)"
   ]
  },
  {
   "cell_type": "code",
   "execution_count": 15,
   "metadata": {
    "execution": {
     "iopub.execute_input": "2020-10-30T09:20:34.338701Z",
     "iopub.status.busy": "2020-10-30T09:20:34.338050Z",
     "iopub.status.idle": "2020-10-30T09:20:34.341181Z",
     "shell.execute_reply": "2020-10-30T09:20:34.341833Z"
    }
   },
   "outputs": [
    {
     "name": "stdout",
     "output_type": "stream",
     "text": [
      "FoVBackgroundModel\n",
      "\n",
      "  Name                      : dataset-fit-bkg\n",
      "  Datasets names            : ['dataset-fit']\n",
      "  Spectral model type       : PowerLawNormSpectralModel\n",
      "  Parameters:\n",
      "    norm         (frozen)   :   1.000              \n",
      "    tilt         (frozen)   :   0.000              \n",
      "    reference    (frozen)   :   1.000  TeV         \n",
      "\n",
      "\n"
     ]
    }
   ],
   "source": [
    "# We do not want to fit the background in this case, so we will freeze the parameters\n",
    "background_model = dataset_fit.background_model\n",
    "background_model.parameters[\"norm\"].value = 1.0\n",
    "background_model.parameters[\"norm\"].frozen = True\n",
    "background_model.parameters[\"tilt\"].frozen = True\n",
    "\n",
    "print(background_model)"
   ]
  },
  {
   "cell_type": "code",
   "execution_count": 16,
   "metadata": {
    "execution": {
     "iopub.execute_input": "2020-10-30T09:20:34.345358Z",
     "iopub.status.busy": "2020-10-30T09:20:34.344747Z",
     "iopub.status.idle": "2020-10-30T09:20:35.962999Z",
     "shell.execute_reply": "2020-10-30T09:20:35.963598Z"
    }
   },
   "outputs": [
    {
     "name": "stdout",
     "output_type": "stream",
     "text": [
      "MapDataset\n",
      "----------\n",
      "\n",
      "  Name                            : dataset-fit \n",
      "\n",
      "  Total counts                    : 170022 \n",
      "  Total predicted counts          : 164361.06\n",
      "  Total background counts         : 161250.95\n",
      "\n",
      "  Exposure min                    : 6.41e+07 m2 s\n",
      "  Exposure max                    : 2.53e+10 m2 s\n",
      "\n",
      "  Number of total bins            : 810000 \n",
      "  Number of fit bins              : 804492 \n",
      "\n",
      "  Fit statistic type              : cash\n",
      "  Fit statistic value (-2 log(L)) : 568537.29\n",
      "\n",
      "  Number of models                : 2 \n",
      "  Number of parameters            : 11\n",
      "  Number of free parameters       : 5\n",
      "\n",
      "  Component 0: SkyModel\n",
      "  \n",
      "    Name                      : model-fit\n",
      "    Datasets names            : None\n",
      "    Spectral model type       : PowerLawSpectralModel\n",
      "    Spatial  model type       : GaussianSpatialModel\n",
      "    Temporal model type       : \n",
      "    Parameters:\n",
      "      index                   :   2.000              \n",
      "      amplitude               :   1.00e-11  1 / (cm2 s TeV)\n",
      "      reference    (frozen)   :   1.000  TeV         \n",
      "      lon_0                   :   0.100  deg         \n",
      "      lat_0                   :   0.100  deg         \n",
      "      sigma                   :   0.500  deg         \n",
      "      e            (frozen)   :   0.000              \n",
      "      phi          (frozen)   :   0.000  deg         \n",
      "  \n",
      "  Component 1: FoVBackgroundModel\n",
      "  \n",
      "    Name                      : dataset-fit-bkg\n",
      "    Datasets names            : ['dataset-fit']\n",
      "    Spectral model type       : PowerLawNormSpectralModel\n",
      "    Parameters:\n",
      "      norm         (frozen)   :   1.000              \n",
      "      tilt         (frozen)   :   0.000              \n",
      "      reference    (frozen)   :   1.000  TeV         \n",
      "  \n",
      "  \n"
     ]
    }
   ],
   "source": [
    "print(dataset_fit)"
   ]
  },
  {
   "cell_type": "code",
   "execution_count": 17,
   "metadata": {
    "execution": {
     "iopub.execute_input": "2020-10-30T09:20:35.972790Z",
     "iopub.status.busy": "2020-10-30T09:20:35.972127Z",
     "iopub.status.idle": "2020-10-30T09:20:56.859053Z",
     "shell.execute_reply": "2020-10-30T09:20:56.859550Z"
    }
   },
   "outputs": [
    {
     "name": "stdout",
     "output_type": "stream",
     "text": [
      "┌──────────────────────────────────┬──────────────────────────────────────┐\n",
      "│ FCN = 5.637e+05                  │       Ncalls = 213 (213 total)       │\n",
      "│ EDM = 1.37e-05 (Goal: 0.0002)    │               up = 1.0               │\n",
      "├───────────────┬──────────────────┼──────────────────────────────────────┤\n",
      "│ Valid Minimum │ Valid Parameters │       SOME Parameters at limit       │\n",
      "├───────────────┴──────────────────┼──────────────────────────────────────┤\n",
      "│ Below EDM threshold (goal x 10)  │           Below call limit           │\n",
      "├───────────────┬──────────────────┼───────────┬─────────────┬────────────┤\n",
      "│   Hesse ok    │  Has Covariance  │ Accurate  │  Pos. def.  │ Not forced │\n",
      "└───────────────┴──────────────────┴───────────┴─────────────┴────────────┘\n",
      "CPU times: user 20.9 s, sys: 13.2 ms, total: 20.9 s\n",
      "Wall time: 20.9 s\n"
     ]
    }
   ],
   "source": [
    "%%time\n",
    "fit = Fit([dataset_fit])\n",
    "result = fit.run(optimize_opts={\"print_level\": 1})"
   ]
  },
  {
   "cell_type": "code",
   "execution_count": 18,
   "metadata": {
    "execution": {
     "iopub.execute_input": "2020-10-30T09:20:56.864586Z",
     "iopub.status.busy": "2020-10-30T09:20:56.863990Z",
     "iopub.status.idle": "2020-10-30T09:20:57.626247Z",
     "shell.execute_reply": "2020-10-30T09:20:57.626707Z"
    }
   },
   "outputs": [
    {
     "name": "stderr",
     "output_type": "stream",
     "text": [
      "/usr/share/miniconda/envs/gammapy-dev/lib/python3.7/site-packages/astropy/visualization/wcsaxes/core.py:211: MatplotlibDeprecationWarning: Passing parameters norm and vmin/vmax simultaneously is deprecated since 3.3 and will become an error two minor releases later. Please pass vmin/vmax directly to the norm when creating it.\n",
      "  return super().imshow(X, *args, origin=origin, **kwargs)\n"
     ]
    },
    {
     "data": {
      "text/plain": [
       "(<WCSAxesSubplot:xlabel='Galactic Longitude', ylabel='Galactic Latitude'>,\n",
       " None)"
      ]
     },
     "execution_count": 1,
     "metadata": {},
     "output_type": "execute_result"
    },
    {
     "data": {
      "image/png": "[encoded data removed]",
      "text/plain": [
       "<Figure size 864x288 with 2 Axes>"
      ]
     },
     "metadata": {
      "needs_background": "light"
     },
     "output_type": "display_data"
    }
   ],
   "source": [
    "dataset_fit.plot_residuals(method=\"diff/sqrt(model)\", vmin=-0.5, vmax=0.5)"
   ]
  },
  {
   "cell_type": "markdown",
   "metadata": {},
   "source": [
    "Compare the injected and fitted models: "
   ]
  },
  {
   "cell_type": "code",
   "execution_count": 19,
   "metadata": {
    "execution": {
     "iopub.execute_input": "2020-10-30T09:20:57.632296Z",
     "iopub.status.busy": "2020-10-30T09:20:57.631577Z",
     "iopub.status.idle": "2020-10-30T09:20:57.636374Z",
     "shell.execute_reply": "2020-10-30T09:20:57.635881Z"
    }
   },
   "outputs": [
    {
     "name": "stdout",
     "output_type": "stream",
     "text": [
      "True model: \n",
      " SkyModel\n",
      "\n",
      "  Name                      : model-simu\n",
      "  Datasets names            : None\n",
      "  Spectral model type       : PowerLawSpectralModel\n",
      "  Spatial  model type       : GaussianSpatialModel\n",
      "  Temporal model type       : \n",
      "  Parameters:\n",
      "    index                   :   3.000              \n",
      "    amplitude               :   1.00e-11  1 / (cm2 s TeV)\n",
      "    reference    (frozen)   :   1.000  TeV         \n",
      "    lon_0                   :   0.200  deg         \n",
      "    lat_0                   :   0.100  deg         \n",
      "    sigma                   :   0.300  deg         \n",
      "    e            (frozen)   :   0.000              \n",
      "    phi          (frozen)   :   0.000  deg         \n",
      "\n",
      " \n",
      "\n",
      " Fitted model: \n",
      " SkyModel\n",
      "\n",
      "  Name                      : model-fit\n",
      "  Datasets names            : None\n",
      "  Spectral model type       : PowerLawSpectralModel\n",
      "  Spatial  model type       : GaussianSpatialModel\n",
      "  Temporal model type       : \n",
      "  Parameters:\n",
      "    index                   :   3.022              \n",
      "    amplitude               :   9.44e-12  1 / (cm2 s TeV)\n",
      "    reference    (frozen)   :   1.000  TeV         \n",
      "    lon_0                   :   0.203  deg         \n",
      "    lat_0                   :   0.106  deg         \n",
      "    sigma                   :   0.296  deg         \n",
      "    e            (frozen)   :   0.000              \n",
      "    phi          (frozen)   :   0.000  deg         \n",
      "\n",
      "\n"
     ]
    }
   ],
   "source": [
    "print(\"True model: \\n\", model_simu, \"\\n\\n Fitted model: \\n\", model_fit)"
   ]
  },
  {
   "cell_type": "markdown",
   "metadata": {},
   "source": [
    "Get the errors on the fitted parameters from the parameter table"
   ]
  },
  {
   "cell_type": "code",
   "execution_count": 20,
   "metadata": {
    "execution": {
     "iopub.execute_input": "2020-10-30T09:20:57.645840Z",
     "iopub.status.busy": "2020-10-30T09:20:57.645067Z",
     "iopub.status.idle": "2020-10-30T09:20:57.648281Z",
     "shell.execute_reply": "2020-10-30T09:20:57.648853Z"
    }
   },
   "outputs": [
    {
     "data": {
      "text/html": [
       "<i>Table length=11</i>\n",
       "<table id=\"table139765958358352\" class=\"table-striped table-bordered table-condensed\">\n",
       "<thead><tr><th>name</th><th>value</th><th>unit</th><th>min</th><th>max</th><th>frozen</th><th>error</th></tr></thead>\n",
       "<thead><tr><th>str9</th><th>float64</th><th>str14</th><th>float64</th><th>float64</th><th>bool</th><th>float64</th></tr></thead>\n",
       "<tr><td>index</td><td>3.0216e+00</td><td></td><td>nan</td><td>nan</td><td>False</td><td>2.076e-02</td></tr>\n",
       "<tr><td>amplitude</td><td>9.4396e-12</td><td>cm-2 s-1 TeV-1</td><td>nan</td><td>nan</td><td>False</td><td>3.246e-13</td></tr>\n",
       "<tr><td>reference</td><td>1.0000e+00</td><td>TeV</td><td>nan</td><td>nan</td><td>True</td><td>0.000e+00</td></tr>\n",
       "<tr><td>lon_0</td><td>2.0284e-01</td><td>deg</td><td>nan</td><td>nan</td><td>False</td><td>5.942e-03</td></tr>\n",
       "<tr><td>lat_0</td><td>1.0573e-01</td><td>deg</td><td>-9.000e+01</td><td>9.000e+01</td><td>False</td><td>5.954e-03</td></tr>\n",
       "<tr><td>sigma</td><td>2.9640e-01</td><td>deg</td><td>0.000e+00</td><td>nan</td><td>False</td><td>4.053e-03</td></tr>\n",
       "<tr><td>e</td><td>0.0000e+00</td><td></td><td>0.000e+00</td><td>1.000e+00</td><td>True</td><td>0.000e+00</td></tr>\n",
       "<tr><td>phi</td><td>0.0000e+00</td><td>deg</td><td>nan</td><td>nan</td><td>True</td><td>0.000e+00</td></tr>\n",
       "<tr><td>norm</td><td>1.0000e+00</td><td></td><td>nan</td><td>nan</td><td>True</td><td>0.000e+00</td></tr>\n",
       "<tr><td>tilt</td><td>0.0000e+00</td><td></td><td>nan</td><td>nan</td><td>True</td><td>0.000e+00</td></tr>\n",
       "<tr><td>reference</td><td>1.0000e+00</td><td>TeV</td><td>nan</td><td>nan</td><td>True</td><td>0.000e+00</td></tr>\n",
       "</table>"
      ],
      "text/plain": [
       "<Table length=11>\n",
       "   name     value         unit         min        max    frozen   error  \n",
       "   str9    float64       str14       float64    float64   bool   float64 \n",
       "--------- ---------- -------------- ---------- --------- ------ ---------\n",
       "    index 3.0216e+00                       nan       nan  False 2.076e-02\n",
       "amplitude 9.4396e-12 cm-2 s-1 TeV-1        nan       nan  False 3.246e-13\n",
       "reference 1.0000e+00            TeV        nan       nan   True 0.000e+00\n",
       "    lon_0 2.0284e-01            deg        nan       nan  False 5.942e-03\n",
       "    lat_0 1.0573e-01            deg -9.000e+01 9.000e+01  False 5.954e-03\n",
       "    sigma 2.9640e-01            deg  0.000e+00       nan  False 4.053e-03\n",
       "        e 0.0000e+00                 0.000e+00 1.000e+00   True 0.000e+00\n",
       "      phi 0.0000e+00            deg        nan       nan   True 0.000e+00\n",
       "     norm 1.0000e+00                       nan       nan   True 0.000e+00\n",
       "     tilt 0.0000e+00                       nan       nan   True 0.000e+00\n",
       "reference 1.0000e+00            TeV        nan       nan   True 0.000e+00"
      ]
     },
     "execution_count": 1,
     "metadata": {},
     "output_type": "execute_result"
    }
   ],
   "source": [
    "result.parameters.to_table()"
   ]
  }
 ],
 "metadata": {
  "kernelspec": {
   "display_name": "Python 3",
   "language": "python",
   "name": "python3"
  },
  "language_info": {
   "codemirror_mode": {
    "name": "ipython",
    "version": 3
   },
   "file_extension": ".py",
   "mimetype": "text/x-python",
   "name": "python",
   "nbconvert_exporter": "python",
   "pygments_lexer": "ipython3",
   "version": "3.7.0"
  },
  "nbsphinx": {
   "orphan": true
  },
  "widgets": {
   "application/vnd.jupyter.widget-state+json": {
    "state": {
     "01fc8eea0e7b40579a03f0c622db43e3": {
      "model_module": "@jupyter-widgets/controls",
      "model_module_version": "1.5.0",
      "model_name": "RadioButtonsModel",
      "state": {
       "_dom_classes": [],
       "_model_module": "@jupyter-widgets/controls",
       "_model_module_version": "1.5.0",
       "_model_name": "RadioButtonsModel",
       "_options_labels": [
        "linear",
        "sqrt",
        "log"
       ],
       "_view_count": null,
       "_view_module": "@jupyter-widgets/controls",
       "_view_module_version": "1.5.0",
       "_view_name": "RadioButtonsView",
       "description": "Select stretch:",
       "description_tooltip": null,
       "disabled": false,
       "index": 0,
       "layout": "IPY_MODEL_66435543911f4c7ea4b403dc2fe3fa50",
       "style": "IPY_MODEL_7dfe4bd736684a339725e393cfd00e1a"
      }
     },
     "1aafb9011b894224b3eed23f50d34d2f": {
      "model_module": "@jupyter-widgets/controls",
      "model_module_version": "1.5.0",
      "model_name": "SelectionSliderModel",
      "state": {
       "_dom_classes": [],
       "_model_module": "@jupyter-widgets/controls",
       "_model_module_version": "1.5.0",
       "_model_name": "SelectionSliderModel",
       "_options_labels": [
        "1.00e-01 TeV - 1.67e-01 TeV TeV",
        "1.67e-01 TeV - 2.78e-01 TeV TeV",
        "2.78e-01 TeV - 4.64e-01 TeV TeV",
        "4.64e-01 TeV - 7.74e-01 TeV TeV",
        "7.74e-01 TeV - 1.29e+00 TeV TeV",
        "1.29e+00 TeV - 2.15e+00 TeV TeV",
        "2.15e+00 TeV - 3.59e+00 TeV TeV",
        "3.59e+00 TeV - 5.99e+00 TeV TeV",
        "5.99e+00 TeV - 1.00e+01 TeV TeV"
       ],
       "_view_count": null,
       "_view_module": "@jupyter-widgets/controls",
       "_view_module_version": "1.5.0",
       "_view_name": "SelectionSliderView",
       "continuous_update": false,
       "description": "Select energy:",
       "description_tooltip": null,
       "disabled": false,
       "index": 0,
       "layout": "IPY_MODEL_748bc6ab6a034e66a4cf112c9764cbd4",
       "orientation": "horizontal",
       "readout": true,
       "style": "IPY_MODEL_333d1f9965ba469db17b3ca68365698b"
      }
     },
     "333d1f9965ba469db17b3ca68365698b": {
      "model_module": "@jupyter-widgets/controls",
      "model_module_version": "1.5.0",
      "model_name": "DescriptionStyleModel",
      "state": {
       "_model_module": "@jupyter-widgets/controls",
       "_model_module_version": "1.5.0",
       "_model_name": "DescriptionStyleModel",
       "_view_count": null,
       "_view_module": "@jupyter-widgets/base",
       "_view_module_version": "1.2.0",
       "_view_name": "StyleView",
       "description_width": "initial"
      }
     },
     "41bd158364b3411690d29982515a127b": {
      "model_module": "@jupyter-widgets/base",
      "model_module_version": "1.2.0",
      "model_name": "LayoutModel",
      "state": {
       "_model_module": "@jupyter-widgets/base",
       "_model_module_version": "1.2.0",
       "_model_name": "LayoutModel",
       "_view_count": null,
       "_view_module": "@jupyter-widgets/base",
       "_view_module_version": "1.2.0",
       "_view_name": "LayoutView",
       "align_content": null,
       "align_items": null,
       "align_self": null,
       "border": null,
       "bottom": null,
       "display": null,
       "flex": null,
       "flex_flow": null,
       "grid_area": null,
       "grid_auto_columns": null,
       "grid_auto_flow": null,
       "grid_auto_rows": null,
       "grid_column": null,
       "grid_gap": null,
       "grid_row": null,
       "grid_template_areas": null,
       "grid_template_columns": null,
       "grid_template_rows": null,
       "height": null,
       "justify_content": null,
       "justify_items": null,
       "left": null,
       "margin": null,
       "max_height": null,
       "max_width": null,
       "min_height": null,
       "min_width": null,
       "object_fit": null,
       "object_position": null,
       "order": null,
       "overflow": null,
       "overflow_x": null,
       "overflow_y": null,
       "padding": null,
       "right": null,
       "top": null,
       "visibility": null,
       "width": null
      }
     },
     "5dbe72d32b224fedb12fb3708cdd9d62": {
      "model_module": "@jupyter-widgets/controls",
      "model_module_version": "1.5.0",
      "model_name": "VBoxModel",
      "state": {
       "_dom_classes": [
        "widget-interact"
       ],
       "_model_module": "@jupyter-widgets/controls",
       "_model_module_version": "1.5.0",
       "_model_name": "VBoxModel",
       "_view_count": null,
       "_view_module": "@jupyter-widgets/controls",
       "_view_module_version": "1.5.0",
       "_view_name": "VBoxView",
       "box_style": "",
       "children": [
        "IPY_MODEL_1aafb9011b894224b3eed23f50d34d2f",
        "IPY_MODEL_01fc8eea0e7b40579a03f0c622db43e3",
        "IPY_MODEL_a6ff1a6347f946f083b597530651c70e"
       ],
       "layout": "IPY_MODEL_41bd158364b3411690d29982515a127b"
      }
     },
     "66435543911f4c7ea4b403dc2fe3fa50": {
      "model_module": "@jupyter-widgets/base",
      "model_module_version": "1.2.0",
      "model_name": "LayoutModel",
      "state": {
       "_model_module": "@jupyter-widgets/base",
       "_model_module_version": "1.2.0",
       "_model_name": "LayoutModel",
       "_view_count": null,
       "_view_module": "@jupyter-widgets/base",
       "_view_module_version": "1.2.0",
       "_view_name": "LayoutView",
       "align_content": null,
       "align_items": null,
       "align_self": null,
       "border": null,
       "bottom": null,
       "display": null,
       "flex": null,
       "flex_flow": null,
       "grid_area": null,
       "grid_auto_columns": null,
       "grid_auto_flow": null,
       "grid_auto_rows": null,
       "grid_column": null,
       "grid_gap": null,
       "grid_row": null,
       "grid_template_areas": null,
       "grid_template_columns": null,
       "grid_template_rows": null,
       "height": null,
       "justify_content": null,
       "justify_items": null,
       "left": null,
       "margin": null,
       "max_height": null,
       "max_width": null,
       "min_height": null,
       "min_width": null,
       "object_fit": null,
       "object_position": null,
       "order": null,
       "overflow": null,
       "overflow_x": null,
       "overflow_y": null,
       "padding": null,
       "right": null,
       "top": null,
       "visibility": null,
       "width": null
      }
     },
     "748bc6ab6a034e66a4cf112c9764cbd4": {
      "model_module": "@jupyter-widgets/base",
      "model_module_version": "1.2.0",
      "model_name": "LayoutModel",
      "state": {
       "_model_module": "@jupyter-widgets/base",
       "_model_module_version": "1.2.0",
       "_model_name": "LayoutModel",
       "_view_count": null,
       "_view_module": "@jupyter-widgets/base",
       "_view_module_version": "1.2.0",
       "_view_name": "LayoutView",
       "align_content": null,
       "align_items": null,
       "align_self": null,
       "border": null,
       "bottom": null,
       "display": null,
       "flex": null,
       "flex_flow": null,
       "grid_area": null,
       "grid_auto_columns": null,
       "grid_auto_flow": null,
       "grid_auto_rows": null,
       "grid_column": null,
       "grid_gap": null,
       "grid_row": null,
       "grid_template_areas": null,
       "grid_template_columns": null,
       "grid_template_rows": null,
       "height": null,
       "justify_content": null,
       "justify_items": null,
       "left": null,
       "margin": null,
       "max_height": null,
       "max_width": null,
       "min_height": null,
       "min_width": null,
       "object_fit": null,
       "object_position": null,
       "order": null,
       "overflow": null,
       "overflow_x": null,
       "overflow_y": null,
       "padding": null,
       "right": null,
       "top": null,
       "visibility": null,
       "width": "50%"
      }
     },
     "7dfe4bd736684a339725e393cfd00e1a": {
      "model_module": "@jupyter-widgets/controls",
      "model_module_version": "1.5.0",
      "model_name": "DescriptionStyleModel",
      "state": {
       "_model_module": "@jupyter-widgets/controls",
       "_model_module_version": "1.5.0",
       "_model_name": "DescriptionStyleModel",
       "_view_count": null,
       "_view_module": "@jupyter-widgets/base",
       "_view_module_version": "1.2.0",
       "_view_name": "StyleView",
       "description_width": "initial"
      }
     },
     "a6ff1a6347f946f083b597530651c70e": {
      "model_module": "@jupyter-widgets/output",
      "model_module_version": "1.0.0",
      "model_name": "OutputModel",
      "state": {
       "_dom_classes": [],
       "_model_module": "@jupyter-widgets/output",
       "_model_module_version": "1.0.0",
       "_model_name": "OutputModel",
       "_view_count": null,
       "_view_module": "@jupyter-widgets/output",
       "_view_module_version": "1.0.0",
       "_view_name": "OutputView",
       "layout": "IPY_MODEL_fdd1b96f6ec246199219a13121ecae52",
       "msg_id": "",
       "outputs": [
        {
         "data": {
          "image/png": "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\n",
          "text/plain": "<Figure size 432x288 with 2 Axes>"
         },
         "metadata": {
          "needs_background": "light"
         },
         "output_type": "display_data"
        }
       ]
      }
     },
     "fdd1b96f6ec246199219a13121ecae52": {
      "model_module": "@jupyter-widgets/base",
      "model_module_version": "1.2.0",
      "model_name": "LayoutModel",
      "state": {
       "_model_module": "@jupyter-widgets/base",
       "_model_module_version": "1.2.0",
       "_model_name": "LayoutModel",
       "_view_count": null,
       "_view_module": "@jupyter-widgets/base",
       "_view_module_version": "1.2.0",
       "_view_name": "LayoutView",
       "align_content": null,
       "align_items": null,
       "align_self": null,
       "border": null,
       "bottom": null,
       "display": null,
       "flex": null,
       "flex_flow": null,
       "grid_area": null,
       "grid_auto_columns": null,
       "grid_auto_flow": null,
       "grid_auto_rows": null,
       "grid_column": null,
       "grid_gap": null,
       "grid_row": null,
       "grid_template_areas": null,
       "grid_template_columns": null,
       "grid_template_rows": null,
       "height": null,
       "justify_content": null,
       "justify_items": null,
       "left": null,
       "margin": null,
       "max_height": null,
       "max_width": null,
       "min_height": null,
       "min_width": null,
       "object_fit": null,
       "object_position": null,
       "order": null,
       "overflow": null,
       "overflow_x": null,
       "overflow_y": null,
       "padding": null,
       "right": null,
       "top": null,
       "visibility": null,
       "width": null
      }
     }
    },
    "version_major": 2,
    "version_minor": 0
   }
  }
 },
 "nbformat": 4,
 "nbformat_minor": 4
}
