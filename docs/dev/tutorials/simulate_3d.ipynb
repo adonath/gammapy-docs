{
 "cells": [
  {
   "cell_type": "markdown",
   "metadata": {},
   "source": [
    "\n",
    "<div class=\"alert alert-info\">\n",
    "\n",
    "**This is a fixed-text formatted version of a Jupyter notebook**\n",
    "\n",
    "- Try online [![Binder](https://static.mybinder.org/badge.svg)](https://mybinder.org/v2/gh/gammapy/gammapy-webpage/master?urlpath=lab/tree/simulate_3d.ipynb)\n",
    "- You can contribute with your own notebooks in this\n",
    "[GitHub repository](https://github.com/gammapy/gammapy/tree/master/docs/tutorials).\n",
    "- **Source files:**\n",
    "[simulate_3d.ipynb](../_static/notebooks/simulate_3d.ipynb) |\n",
    "[simulate_3d.py](../_static/notebooks/simulate_3d.py)\n",
    "</div>\n"
   ]
  },
  {
   "cell_type": "markdown",
   "metadata": {},
   "source": [
    "# 3D simulation and fitting\n",
    "\n",
    "## Prerequisites\n",
    "\n",
    "- Knowledge of 3D extraction and datasets used in gammapy, see for instance the [first analysis tutorial](analysis_1.ipynb)\n",
    "\n",
    "## Context\n",
    "\n",
    "To simulate a specific observation, it is not always necessary to simulate the full photon list. For many uses cases, simulating directly a reduced binned dataset is enough: the IRFs reduced in the correct geometry are combined with a source model to predict an actual number of counts per bin. The latter is then used to simulate a reduced dataset using Poisson probability distribution.\n",
    "\n",
    "This can be done to check the feasibility of a measurement (performance / sensitivity study), to test whether fitted parameters really provide a good fit to the data etc.\n",
    "\n",
    "Here we will see how to perform a 3D simulation of a CTA observation, assuming both the spectral and spatial morphology of an observed source.\n",
    "\n",
    "**Objective: simulate a 3D observation of a source with CTA using the CTA 1DC response and fit it with the assumed source model.**\n",
    "\n",
    "## Proposed approach:\n",
    "\n",
    "Here we can't use the regular observation objects that are connected to a `DataStore`. Instead we will create a fake `~gammapy.data.Observation` that contain some pointing information and the CTA 1DC IRFs (that are loaded with `~gammapy.irf.load_cta_irfs`).\n",
    "\n",
    "Then we will create a `~gammapy.datasets.MapDataset` geometry and create it with the `~gammapy.makers.MapDatasetMaker`.\n",
    "\n",
    "Then we will be able to define a model consisting of  a `~gammapy.modeling.models.PowerLawSpectralModel` and a `~gammapy.modeling.models.GaussianSpatialModel`. We will assign it to the dataset and fake the count data.\n"
   ]
  },
  {
   "cell_type": "markdown",
   "metadata": {},
   "source": [
    "## Imports and versions"
   ]
  },
  {
   "cell_type": "code",
   "execution_count": 1,
   "metadata": {
    "execution": {
     "iopub.execute_input": "2020-11-19T14:25:52.575007Z",
     "iopub.status.busy": "2020-11-19T14:25:52.574435Z",
     "iopub.status.idle": "2020-11-19T14:25:52.859445Z",
     "shell.execute_reply": "2020-11-19T14:25:52.858325Z"
    }
   },
   "outputs": [],
   "source": [
    "%matplotlib inline"
   ]
  },
  {
   "cell_type": "code",
   "execution_count": 2,
   "metadata": {
    "execution": {
     "iopub.execute_input": "2020-11-19T14:25:52.865670Z",
     "iopub.status.busy": "2020-11-19T14:25:52.865148Z",
     "iopub.status.idle": "2020-11-19T14:25:53.833034Z",
     "shell.execute_reply": "2020-11-19T14:25:53.832040Z"
    }
   },
   "outputs": [],
   "source": [
    "import numpy as np\n",
    "import astropy.units as u\n",
    "from astropy.coordinates import SkyCoord\n",
    "from gammapy.irf import load_cta_irfs\n",
    "from gammapy.maps import WcsGeom, MapAxis\n",
    "from gammapy.modeling.models import (\n",
    "    PowerLawSpectralModel,\n",
    "    GaussianSpatialModel,\n",
    "    SkyModel,\n",
    "    Models,\n",
    "    FoVBackgroundModel,\n",
    ")\n",
    "from gammapy.makers import MapDatasetMaker, SafeMaskMaker\n",
    "from gammapy.modeling import Fit\n",
    "from gammapy.data import Observation\n",
    "from gammapy.datasets import MapDataset"
   ]
  },
  {
   "cell_type": "code",
   "execution_count": 3,
   "metadata": {
    "execution": {
     "iopub.execute_input": "2020-11-19T14:25:53.837199Z",
     "iopub.status.busy": "2020-11-19T14:25:53.836644Z",
     "iopub.status.idle": "2020-11-19T14:25:55.867034Z",
     "shell.execute_reply": "2020-11-19T14:25:55.866209Z"
    }
   },
   "outputs": [
    {
     "name": "stdout",
     "output_type": "stream",
     "text": [
      "\r\n",
      "Gammapy package:\r\n",
      "\r\n",
      "\tversion                : 0.18.2.dev25+g2bcc0a3de \r\n",
      "\tpath                   : /home/runner/work/gammapy-docs/gammapy-docs/gammapy/gammapy \r\n",
      "\r\n"
     ]
    }
   ],
   "source": [
    "!gammapy info --no-envvar --no-dependencies --no-system"
   ]
  },
  {
   "cell_type": "markdown",
   "metadata": {},
   "source": [
    "## Simulation"
   ]
  },
  {
   "cell_type": "markdown",
   "metadata": {},
   "source": [
    "We will simulate using the CTA-1DC IRFs shipped with gammapy. Note that for dedictaed CTA simulations, you can simply use [`Observation.from_caldb()`]() without having to externally load the IRFs"
   ]
  },
  {
   "cell_type": "code",
   "execution_count": 4,
   "metadata": {
    "execution": {
     "iopub.execute_input": "2020-11-19T14:25:55.879792Z",
     "iopub.status.busy": "2020-11-19T14:25:55.875816Z",
     "iopub.status.idle": "2020-11-19T14:25:55.965313Z",
     "shell.execute_reply": "2020-11-19T14:25:55.964436Z"
    }
   },
   "outputs": [
    {
     "name": "stderr",
     "output_type": "stream",
     "text": [
      "Invalid unit found in background table! Assuming (s-1 MeV-1 sr-1)\n"
     ]
    }
   ],
   "source": [
    "# Loading IRFs\n",
    "irfs = load_cta_irfs(\n",
    "    \"$GAMMAPY_DATA/cta-1dc/caldb/data/cta/1dc/bcf/South_z20_50h/irf_file.fits\"\n",
    ")"
   ]
  },
  {
   "cell_type": "code",
   "execution_count": 5,
   "metadata": {
    "execution": {
     "iopub.execute_input": "2020-11-19T14:25:55.970331Z",
     "iopub.status.busy": "2020-11-19T14:25:55.969827Z",
     "iopub.status.idle": "2020-11-19T14:25:55.973276Z",
     "shell.execute_reply": "2020-11-19T14:25:55.972808Z"
    }
   },
   "outputs": [],
   "source": [
    "# Define the observation parameters (typically the observation duration and the pointing position):\n",
    "livetime = 2.0 * u.hr\n",
    "pointing = SkyCoord(0, 0, unit=\"deg\", frame=\"galactic\")"
   ]
  },
  {
   "cell_type": "code",
   "execution_count": 6,
   "metadata": {
    "execution": {
     "iopub.execute_input": "2020-11-19T14:25:55.982506Z",
     "iopub.status.busy": "2020-11-19T14:25:55.980671Z",
     "iopub.status.idle": "2020-11-19T14:25:55.994094Z",
     "shell.execute_reply": "2020-11-19T14:25:55.993295Z"
    }
   },
   "outputs": [],
   "source": [
    "# Define map geometry for binned simulation\n",
    "energy_reco = MapAxis.from_edges(\n",
    "    np.logspace(-1.0, 1.0, 10), unit=\"TeV\", name=\"energy\", interp=\"log\"\n",
    ")\n",
    "geom = WcsGeom.create(\n",
    "    skydir=(0, 0),\n",
    "    binsz=0.02,\n",
    "    width=(6, 6),\n",
    "    frame=\"galactic\",\n",
    "    axes=[energy_reco],\n",
    ")\n",
    "# It is usually useful to have a separate binning for the true energy axis\n",
    "energy_true = MapAxis.from_edges(\n",
    "    np.logspace(-1.5, 1.5, 30), unit=\"TeV\", name=\"energy\", interp=\"log\"\n",
    ")\n",
    "\n",
    "empty = MapDataset.create(geom, name=\"dataset-simu\")"
   ]
  },
  {
   "cell_type": "code",
   "execution_count": 7,
   "metadata": {
    "execution": {
     "iopub.execute_input": "2020-11-19T14:25:56.012872Z",
     "iopub.status.busy": "2020-11-19T14:25:56.006989Z",
     "iopub.status.idle": "2020-11-19T14:25:56.015891Z",
     "shell.execute_reply": "2020-11-19T14:25:56.015237Z"
    }
   },
   "outputs": [
    {
     "name": "stdout",
     "output_type": "stream",
     "text": [
      "Models\n",
      "\n",
      "Component 0: SkyModel\n",
      "\n",
      "  Name                      : model-simu\n",
      "  Datasets names            : None\n",
      "  Spectral model type       : PowerLawSpectralModel\n",
      "  Spatial  model type       : GaussianSpatialModel\n",
      "  Temporal model type       : \n",
      "  Parameters:\n",
      "    index                   :   3.000              \n",
      "    amplitude               :   1.00e-11  1 / (cm2 s TeV)\n",
      "    reference    (frozen)   :   1.000  TeV         \n",
      "    lon_0                   :   0.200  deg         \n",
      "    lat_0                   :   0.100  deg         \n",
      "    sigma                   :   0.300  deg         \n",
      "    e            (frozen)   :   0.000              \n",
      "    phi          (frozen)   :   0.000  deg         \n",
      "\n",
      "Component 1: FoVBackgroundModel\n",
      "\n",
      "  Name                      : dataset-simu-bkg\n",
      "  Datasets names            : ['dataset-simu']\n",
      "  Spectral model type       : PowerLawNormSpectralModel\n",
      "  Parameters:\n",
      "    norm                    :   1.000              \n",
      "    tilt         (frozen)   :   0.000              \n",
      "    reference    (frozen)   :   1.000  TeV         \n",
      "\n",
      "\n"
     ]
    }
   ],
   "source": [
    "# Define sky model to used simulate the data.\n",
    "# Here we use a Gaussian spatial model and a Power Law spectral model.\n",
    "spatial_model = GaussianSpatialModel(\n",
    "    lon_0=\"0.2 deg\", lat_0=\"0.1 deg\", sigma=\"0.3 deg\", frame=\"galactic\"\n",
    ")\n",
    "spectral_model = PowerLawSpectralModel(\n",
    "    index=3, amplitude=\"1e-11 cm-2 s-1 TeV-1\", reference=\"1 TeV\"\n",
    ")\n",
    "model_simu = SkyModel(\n",
    "    spatial_model=spatial_model,\n",
    "    spectral_model=spectral_model,\n",
    "    name=\"model-simu\",\n",
    ")\n",
    "\n",
    "bkg_model = FoVBackgroundModel(dataset_name=\"dataset-simu\")\n",
    "\n",
    "models = Models([model_simu, bkg_model])\n",
    "print(models)"
   ]
  },
  {
   "cell_type": "markdown",
   "metadata": {},
   "source": [
    "Now, comes the main part of dataset simulation. We create an in-memory observation and an empty dataset. We then predict the number of counts for the given model, and Poission fluctuate it using `fake()` to make a simulated counts maps. Keep in mind that it is important to specify the `selection` of the maps that you want to produce "
   ]
  },
  {
   "cell_type": "code",
   "execution_count": 8,
   "metadata": {
    "execution": {
     "iopub.execute_input": "2020-11-19T14:25:56.030058Z",
     "iopub.status.busy": "2020-11-19T14:25:56.029565Z",
     "iopub.status.idle": "2020-11-19T14:25:56.034262Z",
     "shell.execute_reply": "2020-11-19T14:25:56.033828Z"
    }
   },
   "outputs": [
    {
     "name": "stdout",
     "output_type": "stream",
     "text": [
      "Observation\n",
      "\n",
      "\tobs id            : 0 \n",
      " \ttstart            : 51544.00\n",
      "\ttstop             : 51544.08\n",
      "\tduration          : 7200.00 s\n",
      "\tpointing (icrs)   : 266.4 deg, -28.9 deg\n",
      "\n",
      "\tdeadtime fraction : 0.0%\n",
      "\n"
     ]
    }
   ],
   "source": [
    "# Create an in-memory observation\n",
    "obs = Observation.create(pointing=pointing, livetime=livetime, irfs=irfs)\n",
    "print(obs)"
   ]
  },
  {
   "cell_type": "code",
   "execution_count": 9,
   "metadata": {
    "execution": {
     "iopub.execute_input": "2020-11-19T14:25:56.041707Z",
     "iopub.status.busy": "2020-11-19T14:25:56.040952Z",
     "iopub.status.idle": "2020-11-19T14:25:58.268045Z",
     "shell.execute_reply": "2020-11-19T14:25:58.267562Z"
    }
   },
   "outputs": [
    {
     "name": "stdout",
     "output_type": "stream",
     "text": [
      "MapDataset\n",
      "----------\n",
      "\n",
      "  Name                            : dataset-simu \n",
      "\n",
      "  Total counts                    : nan \n",
      "  Total background counts         : 161250.95\n",
      "  Total excess counts             : nan\n",
      "\n",
      "  Predicted counts                : 161250.95\n",
      "  Predicted background counts     : 161250.95\n",
      "  Predicted excess counts         : nan\n",
      "\n",
      "  Exposure min                    : 6.41e+07 m2 s\n",
      "  Exposure max                    : 2.53e+10 m2 s\n",
      "\n",
      "  Number of total bins            : 0 \n",
      "  Number of fit bins              : 804492 \n",
      "\n",
      "  Fit statistic type              : cash\n",
      "  Fit statistic value (-2 log(L)) : nan\n",
      "\n",
      "  Number of models                : 0 \n",
      "  Number of parameters            : 0\n",
      "  Number of free parameters       : 0\n",
      "\n",
      "\n"
     ]
    }
   ],
   "source": [
    "# Make the MapDataset\n",
    "maker = MapDatasetMaker(selection=[\"exposure\", \"background\", \"psf\", \"edisp\"])\n",
    "\n",
    "maker_safe_mask = SafeMaskMaker(methods=[\"offset-max\"], offset_max=4.0 * u.deg)\n",
    "\n",
    "dataset = maker.run(empty, obs)\n",
    "dataset = maker_safe_mask.run(dataset, obs)\n",
    "print(dataset)"
   ]
  },
  {
   "cell_type": "code",
   "execution_count": 10,
   "metadata": {
    "execution": {
     "iopub.execute_input": "2020-11-19T14:25:58.275934Z",
     "iopub.status.busy": "2020-11-19T14:25:58.273899Z",
     "iopub.status.idle": "2020-11-19T14:25:59.154213Z",
     "shell.execute_reply": "2020-11-19T14:25:59.153644Z"
    }
   },
   "outputs": [
    {
     "name": "stdout",
     "output_type": "stream",
     "text": [
      "MapDataset\n",
      "----------\n",
      "\n",
      "  Name                            : dataset-simu \n",
      "\n",
      "  Total counts                    : 169592 \n",
      "  Total background counts         : 161250.95\n",
      "  Total excess counts             : 8341.05\n",
      "\n",
      "  Predicted counts                : 169690.08\n",
      "  Predicted background counts     : 161250.95\n",
      "  Predicted excess counts         : 8439.14\n",
      "\n",
      "  Exposure min                    : 6.41e+07 m2 s\n",
      "  Exposure max                    : 2.53e+10 m2 s\n",
      "\n",
      "  Number of total bins            : 810000 \n",
      "  Number of fit bins              : 804492 \n",
      "\n",
      "  Fit statistic type              : cash\n",
      "  Fit statistic value (-2 log(L)) : 563360.94\n",
      "\n",
      "  Number of models                : 2 \n",
      "  Number of parameters            : 11\n",
      "  Number of free parameters       : 6\n",
      "\n",
      "  Component 0: SkyModel\n",
      "  \n",
      "    Name                      : model-simu\n",
      "    Datasets names            : None\n",
      "    Spectral model type       : PowerLawSpectralModel\n",
      "    Spatial  model type       : GaussianSpatialModel\n",
      "    Temporal model type       : \n",
      "    Parameters:\n",
      "      index                   :   3.000              \n",
      "      amplitude               :   1.00e-11  1 / (cm2 s TeV)\n",
      "      reference    (frozen)   :   1.000  TeV         \n",
      "      lon_0                   :   0.200  deg         \n",
      "      lat_0                   :   0.100  deg         \n",
      "      sigma                   :   0.300  deg         \n",
      "      e            (frozen)   :   0.000              \n",
      "      phi          (frozen)   :   0.000  deg         \n",
      "  \n",
      "  Component 1: FoVBackgroundModel\n",
      "  \n",
      "    Name                      : dataset-simu-bkg\n",
      "    Datasets names            : ['dataset-simu']\n",
      "    Spectral model type       : PowerLawNormSpectralModel\n",
      "    Parameters:\n",
      "      norm                    :   1.000              \n",
      "      tilt         (frozen)   :   0.000              \n",
      "      reference    (frozen)   :   1.000  TeV         \n",
      "  \n",
      "  \n"
     ]
    }
   ],
   "source": [
    "# Add the model on the dataset and Poission fluctuate\n",
    "dataset.models = models\n",
    "dataset.fake()\n",
    "# Do a print on the dataset - there is now a counts maps\n",
    "print(dataset)"
   ]
  },
  {
   "cell_type": "markdown",
   "metadata": {},
   "source": [
    "Now use this dataset as you would in all standard analysis. You can plot the maps, or proceed with your custom analysis. \n",
    "In the next section, we show the standard 3D fitting as in [analysis_3d](analysis_3d.ipynb)."
   ]
  },
  {
   "cell_type": "code",
   "execution_count": 11,
   "metadata": {
    "execution": {
     "iopub.execute_input": "2020-11-19T14:25:59.160435Z",
     "iopub.status.busy": "2020-11-19T14:25:59.159596Z",
     "iopub.status.idle": "2020-11-19T14:25:59.869331Z",
     "shell.execute_reply": "2020-11-19T14:25:59.868574Z"
    }
   },
   "outputs": [
    {
     "data": {
      "application/vnd.jupyter.widget-view+json": {
       "model_id": "ab6267e2975647f8baeb18dcae7fc83b",
       "version_major": 2,
       "version_minor": 0
      },
      "text/plain": [
       "interactive(children=(SelectionSlider(continuous_update=False, description='Select energy:', layout=Layout(wid…"
      ]
     },
     "metadata": {},
     "output_type": "display_data"
    }
   ],
   "source": [
    "# To plot, eg, counts:\n",
    "dataset.counts.smooth(0.05 * u.deg).plot_interactive(\n",
    "    add_cbar=True, stretch=\"linear\"\n",
    ")"
   ]
  },
  {
   "cell_type": "markdown",
   "metadata": {},
   "source": [
    "## Fit\n",
    "\n",
    "In this section, we do a usual 3D fit with the same model used to simulated the data and see the stability of the simulations. Often, it is useful to simulate many such datasets and look at the distribution of the reconstructed parameters."
   ]
  },
  {
   "cell_type": "code",
   "execution_count": 12,
   "metadata": {
    "execution": {
     "iopub.execute_input": "2020-11-19T14:25:59.877946Z",
     "iopub.status.busy": "2020-11-19T14:25:59.877436Z",
     "iopub.status.idle": "2020-11-19T14:25:59.880725Z",
     "shell.execute_reply": "2020-11-19T14:25:59.880117Z"
    }
   },
   "outputs": [],
   "source": [
    "models_fit = models.copy()"
   ]
  },
  {
   "cell_type": "code",
   "execution_count": 13,
   "metadata": {
    "execution": {
     "iopub.execute_input": "2020-11-19T14:25:59.884328Z",
     "iopub.status.busy": "2020-11-19T14:25:59.883834Z",
     "iopub.status.idle": "2020-11-19T14:25:59.886802Z",
     "shell.execute_reply": "2020-11-19T14:25:59.887301Z"
    }
   },
   "outputs": [],
   "source": [
    "# We do not want to fit the background in this case, so we will freeze the parameters\n",
    "models_fit[\"dataset-simu-bkg\"].spectral_model.norm.frozen = True\n",
    "models_fit[\"dataset-simu-bkg\"].spectral_model.tilt.frozen = True"
   ]
  },
  {
   "cell_type": "code",
   "execution_count": 14,
   "metadata": {
    "execution": {
     "iopub.execute_input": "2020-11-19T14:25:59.894465Z",
     "iopub.status.busy": "2020-11-19T14:25:59.892763Z",
     "iopub.status.idle": "2020-11-19T14:26:00.017729Z",
     "shell.execute_reply": "2020-11-19T14:26:00.018154Z"
    }
   },
   "outputs": [
    {
     "name": "stdout",
     "output_type": "stream",
     "text": [
      "DatasetModels\n",
      "\n",
      "Component 0: SkyModel\n",
      "\n",
      "  Name                      : model-simu\n",
      "  Datasets names            : None\n",
      "  Spectral model type       : PowerLawSpectralModel\n",
      "  Spatial  model type       : GaussianSpatialModel\n",
      "  Temporal model type       : \n",
      "  Parameters:\n",
      "    index                   :   3.000              \n",
      "    amplitude               :   1.00e-11  1 / (cm2 s TeV)\n",
      "    reference    (frozen)   :   1.000  TeV         \n",
      "    lon_0                   :   0.200  deg         \n",
      "    lat_0                   :   0.100  deg         \n",
      "    sigma                   :   0.300  deg         \n",
      "    e            (frozen)   :   0.000              \n",
      "    phi          (frozen)   :   0.000  deg         \n",
      "\n",
      "Component 1: FoVBackgroundModel\n",
      "\n",
      "  Name                      : dataset-simu-bkg\n",
      "  Datasets names            : ['dataset-simu']\n",
      "  Spectral model type       : PowerLawNormSpectralModel\n",
      "  Parameters:\n",
      "    norm         (frozen)   :   1.000              \n",
      "    tilt         (frozen)   :   0.000              \n",
      "    reference    (frozen)   :   1.000  TeV         \n",
      "\n",
      "\n"
     ]
    }
   ],
   "source": [
    "dataset.models = models_fit\n",
    "print(dataset.models)"
   ]
  },
  {
   "cell_type": "code",
   "execution_count": 15,
   "metadata": {
    "execution": {
     "iopub.execute_input": "2020-11-19T14:26:00.026543Z",
     "iopub.status.busy": "2020-11-19T14:26:00.026026Z",
     "iopub.status.idle": "2020-11-19T14:26:08.203353Z",
     "shell.execute_reply": "2020-11-19T14:26:08.203773Z"
    }
   },
   "outputs": [
    {
     "name": "stdout",
     "output_type": "stream",
     "text": [
      "┌──────────────────────────────────┬──────────────────────────────────────┐\n",
      "│ FCN = 5.634e+05                  │       Ncalls = 128 (128 total)       │\n",
      "│ EDM = 7.86e-06 (Goal: 0.0002)    │               up = 1.0               │\n",
      "├───────────────┬──────────────────┼──────────────────────────────────────┤\n",
      "│ Valid Minimum │ Valid Parameters │       SOME Parameters at limit       │\n",
      "├───────────────┴──────────────────┼──────────────────────────────────────┤\n",
      "│ Below EDM threshold (goal x 10)  │           Below call limit           │\n",
      "├───────────────┬──────────────────┼───────────┬─────────────┬────────────┤\n",
      "│   Hesse ok    │  Has Covariance  │ Accurate  │  Pos. def.  │ Not forced │\n",
      "└───────────────┴──────────────────┴───────────┴─────────────┴────────────┘\n",
      "CPU times: user 8.15 s, sys: 31.3 ms, total: 8.18 s\n",
      "Wall time: 8.18 s\n"
     ]
    }
   ],
   "source": [
    "%%time\n",
    "fit = Fit([dataset])\n",
    "result = fit.run(optimize_opts={\"print_level\": 1})"
   ]
  },
  {
   "cell_type": "code",
   "execution_count": 16,
   "metadata": {
    "execution": {
     "iopub.execute_input": "2020-11-19T14:26:08.209009Z",
     "iopub.status.busy": "2020-11-19T14:26:08.208503Z",
     "iopub.status.idle": "2020-11-19T14:26:08.795462Z",
     "shell.execute_reply": "2020-11-19T14:26:08.794906Z"
    }
   },
   "outputs": [
    {
     "name": "stderr",
     "output_type": "stream",
     "text": [
      "/usr/share/miniconda/envs/gammapy-dev/lib/python3.7/site-packages/astropy/visualization/wcsaxes/core.py:211: MatplotlibDeprecationWarning: Passing parameters norm and vmin/vmax simultaneously is deprecated since 3.3 and will become an error two minor releases later. Please pass vmin/vmax directly to the norm when creating it.\n",
      "  return super().imshow(X, *args, origin=origin, **kwargs)\n"
     ]
    },
    {
     "data": {
      "text/plain": [
       "<WCSAxesSubplot:xlabel='Galactic Longitude', ylabel='Galactic Latitude'>"
      ]
     },
     "execution_count": 1,
     "metadata": {},
     "output_type": "execute_result"
    },
    {
     "data": {
      "image/png": "[encoded data removed]",
      "text/plain": [
       "<Figure size 432x288 with 2 Axes>"
      ]
     },
     "metadata": {
      "needs_background": "light"
     },
     "output_type": "display_data"
    }
   ],
   "source": [
    "dataset.plot_residuals_spatial(method=\"diff/sqrt(model)\", vmin=-0.5, vmax=0.5)"
   ]
  },
  {
   "cell_type": "markdown",
   "metadata": {},
   "source": [
    "Compare the injected and fitted models: "
   ]
  },
  {
   "cell_type": "code",
   "execution_count": 17,
   "metadata": {
    "execution": {
     "iopub.execute_input": "2020-11-19T14:26:08.800615Z",
     "iopub.status.busy": "2020-11-19T14:26:08.800089Z",
     "iopub.status.idle": "2020-11-19T14:26:08.802523Z",
     "shell.execute_reply": "2020-11-19T14:26:08.803020Z"
    }
   },
   "outputs": [
    {
     "name": "stdout",
     "output_type": "stream",
     "text": [
      "True model: \n",
      " SkyModel\n",
      "\n",
      "  Name                      : model-simu\n",
      "  Datasets names            : None\n",
      "  Spectral model type       : PowerLawSpectralModel\n",
      "  Spatial  model type       : GaussianSpatialModel\n",
      "  Temporal model type       : \n",
      "  Parameters:\n",
      "    index                   :   3.000              \n",
      "    amplitude               :   1.00e-11  1 / (cm2 s TeV)\n",
      "    reference    (frozen)   :   1.000  TeV         \n",
      "    lon_0                   :   0.200  deg         \n",
      "    lat_0                   :   0.100  deg         \n",
      "    sigma                   :   0.300  deg         \n",
      "    e            (frozen)   :   0.000              \n",
      "    phi          (frozen)   :   0.000  deg         \n",
      "\n",
      " \n",
      "\n",
      " Fitted model: \n",
      " SkyModel\n",
      "\n",
      "  Name                      : model-simu\n",
      "  Datasets names            : None\n",
      "  Spectral model type       : PowerLawSpectralModel\n",
      "  Spatial  model type       : GaussianSpatialModel\n",
      "  Temporal model type       : \n",
      "  Parameters:\n",
      "    index                   :   3.001              \n",
      "    amplitude               :   9.88e-12  1 / (cm2 s TeV)\n",
      "    reference    (frozen)   :   1.000  TeV         \n",
      "    lon_0                   :   0.200  deg         \n",
      "    lat_0                   :   0.095  deg         \n",
      "    sigma                   :   0.298  deg         \n",
      "    e            (frozen)   :   0.000              \n",
      "    phi          (frozen)   :   0.000  deg         \n",
      "\n",
      "\n"
     ]
    }
   ],
   "source": [
    "print(\n",
    "    \"True model: \\n\",\n",
    "    model_simu,\n",
    "    \"\\n\\n Fitted model: \\n\",\n",
    "    models_fit[\"model-simu\"],\n",
    ")"
   ]
  },
  {
   "cell_type": "markdown",
   "metadata": {},
   "source": [
    "Get the errors on the fitted parameters from the parameter table"
   ]
  },
  {
   "cell_type": "code",
   "execution_count": 18,
   "metadata": {
    "execution": {
     "iopub.execute_input": "2020-11-19T14:26:08.811024Z",
     "iopub.status.busy": "2020-11-19T14:26:08.810504Z",
     "iopub.status.idle": "2020-11-19T14:26:08.812835Z",
     "shell.execute_reply": "2020-11-19T14:26:08.813365Z"
    }
   },
   "outputs": [
    {
     "data": {
      "text/html": [
       "<i>Table length=11</i>\n",
       "<table id=\"table139704824797336\" class=\"table-striped table-bordered table-condensed\">\n",
       "<thead><tr><th>name</th><th>value</th><th>unit</th><th>min</th><th>max</th><th>frozen</th><th>error</th></tr></thead>\n",
       "<thead><tr><th>str9</th><th>float64</th><th>str14</th><th>float64</th><th>float64</th><th>bool</th><th>float64</th></tr></thead>\n",
       "<tr><td>index</td><td>3.0010e+00</td><td></td><td>nan</td><td>nan</td><td>False</td><td>2.001e-02</td></tr>\n",
       "<tr><td>amplitude</td><td>9.8842e-12</td><td>cm-2 s-1 TeV-1</td><td>nan</td><td>nan</td><td>False</td><td>3.284e-13</td></tr>\n",
       "<tr><td>reference</td><td>1.0000e+00</td><td>TeV</td><td>nan</td><td>nan</td><td>True</td><td>0.000e+00</td></tr>\n",
       "<tr><td>lon_0</td><td>2.0042e-01</td><td>deg</td><td>nan</td><td>nan</td><td>False</td><td>5.922e-03</td></tr>\n",
       "<tr><td>lat_0</td><td>9.5389e-02</td><td>deg</td><td>-9.000e+01</td><td>9.000e+01</td><td>False</td><td>5.902e-03</td></tr>\n",
       "<tr><td>sigma</td><td>2.9806e-01</td><td>deg</td><td>0.000e+00</td><td>nan</td><td>False</td><td>4.017e-03</td></tr>\n",
       "<tr><td>e</td><td>0.0000e+00</td><td></td><td>0.000e+00</td><td>1.000e+00</td><td>True</td><td>0.000e+00</td></tr>\n",
       "<tr><td>phi</td><td>0.0000e+00</td><td>deg</td><td>nan</td><td>nan</td><td>True</td><td>0.000e+00</td></tr>\n",
       "<tr><td>norm</td><td>1.0000e+00</td><td></td><td>nan</td><td>nan</td><td>True</td><td>0.000e+00</td></tr>\n",
       "<tr><td>tilt</td><td>0.0000e+00</td><td></td><td>nan</td><td>nan</td><td>True</td><td>0.000e+00</td></tr>\n",
       "<tr><td>reference</td><td>1.0000e+00</td><td>TeV</td><td>nan</td><td>nan</td><td>True</td><td>0.000e+00</td></tr>\n",
       "</table>"
      ],
      "text/plain": [
       "<Table length=11>\n",
       "   name     value         unit         min        max    frozen   error  \n",
       "   str9    float64       str14       float64    float64   bool   float64 \n",
       "--------- ---------- -------------- ---------- --------- ------ ---------\n",
       "    index 3.0010e+00                       nan       nan  False 2.001e-02\n",
       "amplitude 9.8842e-12 cm-2 s-1 TeV-1        nan       nan  False 3.284e-13\n",
       "reference 1.0000e+00            TeV        nan       nan   True 0.000e+00\n",
       "    lon_0 2.0042e-01            deg        nan       nan  False 5.922e-03\n",
       "    lat_0 9.5389e-02            deg -9.000e+01 9.000e+01  False 5.902e-03\n",
       "    sigma 2.9806e-01            deg  0.000e+00       nan  False 4.017e-03\n",
       "        e 0.0000e+00                 0.000e+00 1.000e+00   True 0.000e+00\n",
       "      phi 0.0000e+00            deg        nan       nan   True 0.000e+00\n",
       "     norm 1.0000e+00                       nan       nan   True 0.000e+00\n",
       "     tilt 0.0000e+00                       nan       nan   True 0.000e+00\n",
       "reference 1.0000e+00            TeV        nan       nan   True 0.000e+00"
      ]
     },
     "execution_count": 1,
     "metadata": {},
     "output_type": "execute_result"
    }
   ],
   "source": [
    "result.parameters.to_table()"
   ]
  },
  {
   "cell_type": "code",
   "execution_count": null,
   "metadata": {},
   "outputs": [],
   "source": []
  }
 ],
 "metadata": {
  "kernelspec": {
   "display_name": "Python 3",
   "language": "python",
   "name": "python3"
  },
  "language_info": {
   "codemirror_mode": {
    "name": "ipython",
    "version": 3
   },
   "file_extension": ".py",
   "mimetype": "text/x-python",
   "name": "python",
   "nbconvert_exporter": "python",
   "pygments_lexer": "ipython3",
   "version": "3.7.0"
  },
  "nbsphinx": {
   "orphan": true
  },
  "widgets": {
   "application/vnd.jupyter.widget-state+json": {
    "state": {
     "092684bb1ceb4bb399fac830189615f7": {
      "model_module": "@jupyter-widgets/controls",
      "model_module_version": "1.5.0",
      "model_name": "DescriptionStyleModel",
      "state": {
       "_model_module": "@jupyter-widgets/controls",
       "_model_module_version": "1.5.0",
       "_model_name": "DescriptionStyleModel",
       "_view_count": null,
       "_view_module": "@jupyter-widgets/base",
       "_view_module_version": "1.2.0",
       "_view_name": "StyleView",
       "description_width": "initial"
      }
     },
     "0cef866454a2426084c73e8c8f688644": {
      "model_module": "@jupyter-widgets/output",
      "model_module_version": "1.0.0",
      "model_name": "OutputModel",
      "state": {
       "_dom_classes": [],
       "_model_module": "@jupyter-widgets/output",
       "_model_module_version": "1.0.0",
       "_model_name": "OutputModel",
       "_view_count": null,
       "_view_module": "@jupyter-widgets/output",
       "_view_module_version": "1.0.0",
       "_view_name": "OutputView",
       "layout": "IPY_MODEL_a748e453bc6a4be89dd4d7ce5ed48dc0",
       "msg_id": "",
       "outputs": [
        {
         "data": {
          "image/png": "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\n",
          "text/plain": "<Figure size 432x288 with 2 Axes>"
         },
         "metadata": {
          "needs_background": "light"
         },
         "output_type": "display_data"
        }
       ]
      }
     },
     "137afb5544f744baa165f90fa270c439": {
      "model_module": "@jupyter-widgets/base",
      "model_module_version": "1.2.0",
      "model_name": "LayoutModel",
      "state": {
       "_model_module": "@jupyter-widgets/base",
       "_model_module_version": "1.2.0",
       "_model_name": "LayoutModel",
       "_view_count": null,
       "_view_module": "@jupyter-widgets/base",
       "_view_module_version": "1.2.0",
       "_view_name": "LayoutView",
       "align_content": null,
       "align_items": null,
       "align_self": null,
       "border": null,
       "bottom": null,
       "display": null,
       "flex": null,
       "flex_flow": null,
       "grid_area": null,
       "grid_auto_columns": null,
       "grid_auto_flow": null,
       "grid_auto_rows": null,
       "grid_column": null,
       "grid_gap": null,
       "grid_row": null,
       "grid_template_areas": null,
       "grid_template_columns": null,
       "grid_template_rows": null,
       "height": null,
       "justify_content": null,
       "justify_items": null,
       "left": null,
       "margin": null,
       "max_height": null,
       "max_width": null,
       "min_height": null,
       "min_width": null,
       "object_fit": null,
       "object_position": null,
       "order": null,
       "overflow": null,
       "overflow_x": null,
       "overflow_y": null,
       "padding": null,
       "right": null,
       "top": null,
       "visibility": null,
       "width": null
      }
     },
     "77d984a8bdf84e77a1a5d4d0d7f39350": {
      "model_module": "@jupyter-widgets/base",
      "model_module_version": "1.2.0",
      "model_name": "LayoutModel",
      "state": {
       "_model_module": "@jupyter-widgets/base",
       "_model_module_version": "1.2.0",
       "_model_name": "LayoutModel",
       "_view_count": null,
       "_view_module": "@jupyter-widgets/base",
       "_view_module_version": "1.2.0",
       "_view_name": "LayoutView",
       "align_content": null,
       "align_items": null,
       "align_self": null,
       "border": null,
       "bottom": null,
       "display": null,
       "flex": null,
       "flex_flow": null,
       "grid_area": null,
       "grid_auto_columns": null,
       "grid_auto_flow": null,
       "grid_auto_rows": null,
       "grid_column": null,
       "grid_gap": null,
       "grid_row": null,
       "grid_template_areas": null,
       "grid_template_columns": null,
       "grid_template_rows": null,
       "height": null,
       "justify_content": null,
       "justify_items": null,
       "left": null,
       "margin": null,
       "max_height": null,
       "max_width": null,
       "min_height": null,
       "min_width": null,
       "object_fit": null,
       "object_position": null,
       "order": null,
       "overflow": null,
       "overflow_x": null,
       "overflow_y": null,
       "padding": null,
       "right": null,
       "top": null,
       "visibility": null,
       "width": "50%"
      }
     },
     "879a7c38a28b4f68a4735665ec440cea": {
      "model_module": "@jupyter-widgets/controls",
      "model_module_version": "1.5.0",
      "model_name": "RadioButtonsModel",
      "state": {
       "_dom_classes": [],
       "_model_module": "@jupyter-widgets/controls",
       "_model_module_version": "1.5.0",
       "_model_name": "RadioButtonsModel",
       "_options_labels": [
        "linear",
        "sqrt",
        "log"
       ],
       "_view_count": null,
       "_view_module": "@jupyter-widgets/controls",
       "_view_module_version": "1.5.0",
       "_view_name": "RadioButtonsView",
       "description": "Select stretch:",
       "description_tooltip": null,
       "disabled": false,
       "index": 0,
       "layout": "IPY_MODEL_96ac4ce2b55241eca979ebb67032c041",
       "style": "IPY_MODEL_092684bb1ceb4bb399fac830189615f7"
      }
     },
     "8b8190afb971465aaf32022fb6777cb1": {
      "model_module": "@jupyter-widgets/controls",
      "model_module_version": "1.5.0",
      "model_name": "SelectionSliderModel",
      "state": {
       "_dom_classes": [],
       "_model_module": "@jupyter-widgets/controls",
       "_model_module_version": "1.5.0",
       "_model_name": "SelectionSliderModel",
       "_options_labels": [
        "1.00e-01 TeV - 1.67e-01 TeV TeV",
        "1.67e-01 TeV - 2.78e-01 TeV TeV",
        "2.78e-01 TeV - 4.64e-01 TeV TeV",
        "4.64e-01 TeV - 7.74e-01 TeV TeV",
        "7.74e-01 TeV - 1.29e+00 TeV TeV",
        "1.29e+00 TeV - 2.15e+00 TeV TeV",
        "2.15e+00 TeV - 3.59e+00 TeV TeV",
        "3.59e+00 TeV - 5.99e+00 TeV TeV",
        "5.99e+00 TeV - 1.00e+01 TeV TeV"
       ],
       "_view_count": null,
       "_view_module": "@jupyter-widgets/controls",
       "_view_module_version": "1.5.0",
       "_view_name": "SelectionSliderView",
       "continuous_update": false,
       "description": "Select energy:",
       "description_tooltip": null,
       "disabled": false,
       "index": 0,
       "layout": "IPY_MODEL_77d984a8bdf84e77a1a5d4d0d7f39350",
       "orientation": "horizontal",
       "readout": true,
       "style": "IPY_MODEL_c2411d6db31c45ddb30a3b5be71f9891"
      }
     },
     "96ac4ce2b55241eca979ebb67032c041": {
      "model_module": "@jupyter-widgets/base",
      "model_module_version": "1.2.0",
      "model_name": "LayoutModel",
      "state": {
       "_model_module": "@jupyter-widgets/base",
       "_model_module_version": "1.2.0",
       "_model_name": "LayoutModel",
       "_view_count": null,
       "_view_module": "@jupyter-widgets/base",
       "_view_module_version": "1.2.0",
       "_view_name": "LayoutView",
       "align_content": null,
       "align_items": null,
       "align_self": null,
       "border": null,
       "bottom": null,
       "display": null,
       "flex": null,
       "flex_flow": null,
       "grid_area": null,
       "grid_auto_columns": null,
       "grid_auto_flow": null,
       "grid_auto_rows": null,
       "grid_column": null,
       "grid_gap": null,
       "grid_row": null,
       "grid_template_areas": null,
       "grid_template_columns": null,
       "grid_template_rows": null,
       "height": null,
       "justify_content": null,
       "justify_items": null,
       "left": null,
       "margin": null,
       "max_height": null,
       "max_width": null,
       "min_height": null,
       "min_width": null,
       "object_fit": null,
       "object_position": null,
       "order": null,
       "overflow": null,
       "overflow_x": null,
       "overflow_y": null,
       "padding": null,
       "right": null,
       "top": null,
       "visibility": null,
       "width": null
      }
     },
     "a748e453bc6a4be89dd4d7ce5ed48dc0": {
      "model_module": "@jupyter-widgets/base",
      "model_module_version": "1.2.0",
      "model_name": "LayoutModel",
      "state": {
       "_model_module": "@jupyter-widgets/base",
       "_model_module_version": "1.2.0",
       "_model_name": "LayoutModel",
       "_view_count": null,
       "_view_module": "@jupyter-widgets/base",
       "_view_module_version": "1.2.0",
       "_view_name": "LayoutView",
       "align_content": null,
       "align_items": null,
       "align_self": null,
       "border": null,
       "bottom": null,
       "display": null,
       "flex": null,
       "flex_flow": null,
       "grid_area": null,
       "grid_auto_columns": null,
       "grid_auto_flow": null,
       "grid_auto_rows": null,
       "grid_column": null,
       "grid_gap": null,
       "grid_row": null,
       "grid_template_areas": null,
       "grid_template_columns": null,
       "grid_template_rows": null,
       "height": null,
       "justify_content": null,
       "justify_items": null,
       "left": null,
       "margin": null,
       "max_height": null,
       "max_width": null,
       "min_height": null,
       "min_width": null,
       "object_fit": null,
       "object_position": null,
       "order": null,
       "overflow": null,
       "overflow_x": null,
       "overflow_y": null,
       "padding": null,
       "right": null,
       "top": null,
       "visibility": null,
       "width": null
      }
     },
     "ab6267e2975647f8baeb18dcae7fc83b": {
      "model_module": "@jupyter-widgets/controls",
      "model_module_version": "1.5.0",
      "model_name": "VBoxModel",
      "state": {
       "_dom_classes": [
        "widget-interact"
       ],
       "_model_module": "@jupyter-widgets/controls",
       "_model_module_version": "1.5.0",
       "_model_name": "VBoxModel",
       "_view_count": null,
       "_view_module": "@jupyter-widgets/controls",
       "_view_module_version": "1.5.0",
       "_view_name": "VBoxView",
       "box_style": "",
       "children": [
        "IPY_MODEL_8b8190afb971465aaf32022fb6777cb1",
        "IPY_MODEL_879a7c38a28b4f68a4735665ec440cea",
        "IPY_MODEL_0cef866454a2426084c73e8c8f688644"
       ],
       "layout": "IPY_MODEL_137afb5544f744baa165f90fa270c439"
      }
     },
     "c2411d6db31c45ddb30a3b5be71f9891": {
      "model_module": "@jupyter-widgets/controls",
      "model_module_version": "1.5.0",
      "model_name": "DescriptionStyleModel",
      "state": {
       "_model_module": "@jupyter-widgets/controls",
       "_model_module_version": "1.5.0",
       "_model_name": "DescriptionStyleModel",
       "_view_count": null,
       "_view_module": "@jupyter-widgets/base",
       "_view_module_version": "1.2.0",
       "_view_name": "StyleView",
       "description_width": "initial"
      }
     }
    },
    "version_major": 2,
    "version_minor": 0
   }
  }
 },
 "nbformat": 4,
 "nbformat_minor": 4
}
