{
 "cells": [
  {
   "cell_type": "markdown",
   "metadata": {},
   "source": [
    "\n",
    "<div class=\"alert alert-info\">\n",
    "\n",
    "**This is a fixed-text formatted version of a Jupyter notebook**\n",
    "\n",
    "- Try online [![Binder](https://static.mybinder.org/badge.svg)](https://mybinder.org/v2/gh/gammapy/gammapy-webpage/master?urlpath=lab/tree/simulate_3d.ipynb)\n",
    "- You can contribute with your own notebooks in this\n",
    "[GitHub repository](https://github.com/gammapy/gammapy/tree/master/docs/tutorials).\n",
    "- **Source files:**\n",
    "[simulate_3d.ipynb](../_static/notebooks/simulate_3d.ipynb) |\n",
    "[simulate_3d.py](../_static/notebooks/simulate_3d.py)\n",
    "</div>\n"
   ]
  },
  {
   "cell_type": "markdown",
   "metadata": {},
   "source": [
    "# 3D simulation and fitting\n",
    "\n",
    "## Prerequisites\n",
    "\n",
    "- Knowledge of 3D extraction and datasets used in gammapy, see for instance the [first analysis tutorial](analysis_1.ipynb)\n",
    "\n",
    "## Context\n",
    "\n",
    "To simulate a specific observation, it is not always necessary to simulate the full photon list. For many uses cases, simulating directly a reduced binned dataset is enough: the IRFs reduced in the correct geometry are combined with a source model to predict an actual number of counts per bin. The latter is then used to simulate a reduced dataset using Poisson probability distribution.\n",
    "\n",
    "This can be done to check the feasibility of a measurement (performance / sensitivity study), to test whether fitted parameters really provide a good fit to the data etc.\n",
    "\n",
    "Here we will see how to perform a 3D simulation of a CTA observation, assuming both the spectral and spatial morphology of an observed source.\n",
    "\n",
    "**Objective: simulate a 3D observation of a source with CTA using the CTA 1DC response and fit it with the assumed source model.**\n",
    "\n",
    "## Proposed approach:\n",
    "\n",
    "Here we can't use the regular observation objects that are connected to a `DataStore`. Instead we will create a fake `~gammapy.data.Observation` that contain some pointing information and the CTA 1DC IRFs (that are loaded with `~gammapy.irf.load_cta_irfs`).\n",
    "\n",
    "Then we will create a `~gammapy.datasets.MapDataset` geometry and create it with the `~gammapy.makers.MapDatasetMaker`.\n",
    "\n",
    "Then we will be able to define a model consisting of  a `~gammapy.modeling.models.PowerLawSpectralModel` and a `~gammapy.modeling.models.GaussianSpatialModel`. We will assign it to the dataset and fake the count data.\n"
   ]
  },
  {
   "cell_type": "markdown",
   "metadata": {},
   "source": [
    "## Imports and versions"
   ]
  },
  {
   "cell_type": "code",
   "execution_count": 1,
   "metadata": {
    "execution": {
     "iopub.execute_input": "2020-10-16T10:13:23.968029Z",
     "iopub.status.busy": "2020-10-16T10:13:23.967369Z",
     "iopub.status.idle": "2020-10-16T10:13:24.298683Z",
     "shell.execute_reply": "2020-10-16T10:13:24.297952Z"
    }
   },
   "outputs": [],
   "source": [
    "%matplotlib inline"
   ]
  },
  {
   "cell_type": "code",
   "execution_count": 2,
   "metadata": {
    "execution": {
     "iopub.execute_input": "2020-10-16T10:13:24.304076Z",
     "iopub.status.busy": "2020-10-16T10:13:24.303128Z",
     "iopub.status.idle": "2020-10-16T10:13:25.499304Z",
     "shell.execute_reply": "2020-10-16T10:13:25.500016Z"
    }
   },
   "outputs": [],
   "source": [
    "import numpy as np\n",
    "import astropy.units as u\n",
    "from astropy.coordinates import SkyCoord\n",
    "from gammapy.irf import load_cta_irfs\n",
    "from gammapy.maps import WcsGeom, MapAxis\n",
    "from gammapy.modeling.models import (\n",
    "    PowerLawSpectralModel,\n",
    "    GaussianSpatialModel,\n",
    "    SkyModel,\n",
    ")\n",
    "from gammapy.makers import MapDatasetMaker, SafeMaskMaker\n",
    "from gammapy.modeling import Fit\n",
    "from gammapy.data import Observation\n",
    "from gammapy.datasets import MapDataset"
   ]
  },
  {
   "cell_type": "code",
   "execution_count": 3,
   "metadata": {
    "execution": {
     "iopub.execute_input": "2020-10-16T10:13:25.504941Z",
     "iopub.status.busy": "2020-10-16T10:13:25.504215Z",
     "iopub.status.idle": "2020-10-16T10:13:27.863284Z",
     "shell.execute_reply": "2020-10-16T10:13:27.862683Z"
    }
   },
   "outputs": [
    {
     "name": "stdout",
     "output_type": "stream",
     "text": [
      "\r\n",
      "Gammapy package:\r\n",
      "\r\n",
      "\tversion                : 0.18.dev1008+ga3f9b1e78 \r\n",
      "\tpath                   : /home/runner/work/gammapy-docs/gammapy-docs/gammapy/gammapy \r\n",
      "\r\n"
     ]
    }
   ],
   "source": [
    "!gammapy info --no-envvar --no-dependencies --no-system"
   ]
  },
  {
   "cell_type": "markdown",
   "metadata": {},
   "source": [
    "## Simulation"
   ]
  },
  {
   "cell_type": "markdown",
   "metadata": {},
   "source": [
    "We will simulate using the CTA-1DC IRFs shipped with gammapy. Note that for dedictaed CTA simulations, you can simply use [`Observation.from_caldb()`]() without having to externally load the IRFs"
   ]
  },
  {
   "cell_type": "code",
   "execution_count": 4,
   "metadata": {
    "execution": {
     "iopub.execute_input": "2020-10-16T10:13:27.873084Z",
     "iopub.status.busy": "2020-10-16T10:13:27.871092Z",
     "iopub.status.idle": "2020-10-16T10:13:27.987738Z",
     "shell.execute_reply": "2020-10-16T10:13:27.986835Z"
    }
   },
   "outputs": [
    {
     "name": "stderr",
     "output_type": "stream",
     "text": [
      "Invalid unit found in background table! Assuming (s-1 MeV-1 sr-1)\n"
     ]
    }
   ],
   "source": [
    "# Loading IRFs\n",
    "irfs = load_cta_irfs(\n",
    "    \"$GAMMAPY_DATA/cta-1dc/caldb/data/cta/1dc/bcf/South_z20_50h/irf_file.fits\"\n",
    ")"
   ]
  },
  {
   "cell_type": "code",
   "execution_count": 5,
   "metadata": {
    "execution": {
     "iopub.execute_input": "2020-10-16T10:13:27.993445Z",
     "iopub.status.busy": "2020-10-16T10:13:27.992771Z",
     "iopub.status.idle": "2020-10-16T10:13:27.997327Z",
     "shell.execute_reply": "2020-10-16T10:13:27.996475Z"
    }
   },
   "outputs": [],
   "source": [
    "# Define the observation parameters (typically the observation duration and the pointing position):\n",
    "livetime = 2.0 * u.hr\n",
    "pointing = SkyCoord(0, 0, unit=\"deg\", frame=\"galactic\")"
   ]
  },
  {
   "cell_type": "code",
   "execution_count": 6,
   "metadata": {
    "execution": {
     "iopub.execute_input": "2020-10-16T10:13:28.007159Z",
     "iopub.status.busy": "2020-10-16T10:13:28.006546Z",
     "iopub.status.idle": "2020-10-16T10:13:28.010790Z",
     "shell.execute_reply": "2020-10-16T10:13:28.010008Z"
    }
   },
   "outputs": [],
   "source": [
    "# Define map geometry for binned simulation\n",
    "energy_reco = MapAxis.from_edges(\n",
    "    np.logspace(-1.0, 1.0, 10), unit=\"TeV\", name=\"energy\", interp=\"log\"\n",
    ")\n",
    "geom = WcsGeom.create(\n",
    "    skydir=(0, 0),\n",
    "    binsz=0.02,\n",
    "    width=(6, 6),\n",
    "    frame=\"galactic\",\n",
    "    axes=[energy_reco],\n",
    ")\n",
    "# It is usually useful to have a separate binning for the true energy axis\n",
    "energy_true = MapAxis.from_edges(\n",
    "    np.logspace(-1.5, 1.5, 30), unit=\"TeV\", name=\"energy\", interp=\"log\"\n",
    ")"
   ]
  },
  {
   "cell_type": "code",
   "execution_count": 7,
   "metadata": {
    "execution": {
     "iopub.execute_input": "2020-10-16T10:13:28.024505Z",
     "iopub.status.busy": "2020-10-16T10:13:28.023858Z",
     "iopub.status.idle": "2020-10-16T10:13:28.028951Z",
     "shell.execute_reply": "2020-10-16T10:13:28.029520Z"
    }
   },
   "outputs": [
    {
     "name": "stdout",
     "output_type": "stream",
     "text": [
      "SkyModel\n",
      "\n",
      "  Name                      : model-simu\n",
      "  Datasets names            : None\n",
      "  Spectral model type       : PowerLawSpectralModel\n",
      "  Spatial  model type       : GaussianSpatialModel\n",
      "  Temporal model type       : \n",
      "  Parameters:\n",
      "    index                   :   3.000              \n",
      "    amplitude               :   1.00e-11  1 / (cm2 s TeV)\n",
      "    reference    (frozen)   :   1.000  TeV         \n",
      "    lon_0                   :   0.200  deg         \n",
      "    lat_0                   :   0.100  deg         \n",
      "    sigma                   :   0.300  deg         \n",
      "    e            (frozen)   :   0.000              \n",
      "    phi          (frozen)   :   0.000  deg         \n",
      "\n",
      "\n"
     ]
    }
   ],
   "source": [
    "# Define sky model to used simulate the data.\n",
    "# Here we use a Gaussian spatial model and a Power Law spectral model.\n",
    "spatial_model = GaussianSpatialModel(\n",
    "    lon_0=\"0.2 deg\", lat_0=\"0.1 deg\", sigma=\"0.3 deg\", frame=\"galactic\"\n",
    ")\n",
    "spectral_model = PowerLawSpectralModel(\n",
    "    index=3, amplitude=\"1e-11 cm-2 s-1 TeV-1\", reference=\"1 TeV\"\n",
    ")\n",
    "model_simu = SkyModel(\n",
    "    spatial_model=spatial_model,\n",
    "    spectral_model=spectral_model,\n",
    "    name=\"model-simu\",\n",
    ")\n",
    "print(model_simu)"
   ]
  },
  {
   "cell_type": "markdown",
   "metadata": {},
   "source": [
    "Now, comes the main part of dataset simulation. We create an in-memory observation and an empty dataset. We then predict the number of counts for the given model, and Poission fluctuate it using `fake()` to make a simulated counts maps. Keep in mind that it is important to specify the `selection` of the maps that you want to produce "
   ]
  },
  {
   "cell_type": "code",
   "execution_count": 8,
   "metadata": {
    "execution": {
     "iopub.execute_input": "2020-10-16T10:13:28.053581Z",
     "iopub.status.busy": "2020-10-16T10:13:28.053001Z",
     "iopub.status.idle": "2020-10-16T10:13:28.057009Z",
     "shell.execute_reply": "2020-10-16T10:13:28.057481Z"
    }
   },
   "outputs": [
    {
     "name": "stdout",
     "output_type": "stream",
     "text": [
      "Observation\n",
      "\n",
      "\tobs id            : 0 \n",
      " \ttstart            : 51544.00\n",
      "\ttstop             : 51544.08\n",
      "\tduration          : 7200.00 s\n",
      "\tpointing (icrs)   : 266.4 deg, -28.9 deg\n",
      "\n",
      "\tdeadtime fraction : 0.0%\n",
      "\n"
     ]
    }
   ],
   "source": [
    "# Create an in-memory observation\n",
    "obs = Observation.create(pointing=pointing, livetime=livetime, irfs=irfs)\n",
    "print(obs)"
   ]
  },
  {
   "cell_type": "code",
   "execution_count": 9,
   "metadata": {
    "execution": {
     "iopub.execute_input": "2020-10-16T10:13:28.062704Z",
     "iopub.status.busy": "2020-10-16T10:13:28.061599Z",
     "iopub.status.idle": "2020-10-16T10:13:30.627032Z",
     "shell.execute_reply": "2020-10-16T10:13:30.627642Z"
    }
   },
   "outputs": [
    {
     "name": "stdout",
     "output_type": "stream",
     "text": [
      "MapDataset\n",
      "----------\n",
      "\n",
      "  Name                            : dataset-simu \n",
      "\n",
      "  Total counts                    : nan \n",
      "  Total predicted counts          : 161250.95\n",
      "  Total background counts         : 161250.95\n",
      "\n",
      "  Exposure min                    : 6.41e+07 m2 s\n",
      "  Exposure max                    : 2.53e+10 m2 s\n",
      "\n",
      "  Number of total bins            : 0 \n",
      "  Number of fit bins              : 804492 \n",
      "\n",
      "  Fit statistic type              : cash\n",
      "  Fit statistic value (-2 log(L)) : nan\n",
      "\n",
      "  Number of models                : 1 \n",
      "  Number of parameters            : 3\n",
      "  Number of free parameters       : 1\n",
      "\n",
      "  Component 0: BackgroundModel\n",
      "  \n",
      "    Name                      : dataset-simu-bkg\n",
      "    Datasets names            : ['dataset-simu']\n",
      "    Parameters:\n",
      "      norm                    :   1.000              \n",
      "      tilt         (frozen)   :   0.000              \n",
      "      reference    (frozen)   :   1.000  TeV         \n",
      "  \n",
      "  \n"
     ]
    }
   ],
   "source": [
    "# Make the MapDataset\n",
    "empty = MapDataset.create(geom, name=\"dataset-simu\")\n",
    "maker = MapDatasetMaker(selection=[\"exposure\", \"background\", \"psf\", \"edisp\"])\n",
    "maker_safe_mask = SafeMaskMaker(methods=[\"offset-max\"], offset_max=4.0 * u.deg)\n",
    "dataset = maker.run(empty, obs)\n",
    "dataset = maker_safe_mask.run(dataset, obs)\n",
    "print(dataset)"
   ]
  },
  {
   "cell_type": "code",
   "execution_count": 10,
   "metadata": {
    "execution": {
     "iopub.execute_input": "2020-10-16T10:13:30.632165Z",
     "iopub.status.busy": "2020-10-16T10:13:30.631486Z",
     "iopub.status.idle": "2020-10-16T10:13:31.597477Z",
     "shell.execute_reply": "2020-10-16T10:13:31.598052Z"
    }
   },
   "outputs": [
    {
     "name": "stdout",
     "output_type": "stream",
     "text": [
      "MapDataset\n",
      "----------\n",
      "\n",
      "  Name                            : dataset-simu \n",
      "\n",
      "  Total counts                    : 169442 \n",
      "  Total predicted counts          : 169690.08\n",
      "  Total background counts         : 161250.95\n",
      "\n",
      "  Exposure min                    : 6.41e+07 m2 s\n",
      "  Exposure max                    : 2.53e+10 m2 s\n",
      "\n",
      "  Number of total bins            : 810000 \n",
      "  Number of fit bins              : 804492 \n",
      "\n",
      "  Fit statistic type              : cash\n",
      "  Fit statistic value (-2 log(L)) : 562374.57\n",
      "\n",
      "  Number of models                : 2 \n",
      "  Number of parameters            : 11\n",
      "  Number of free parameters       : 6\n",
      "\n",
      "  Component 0: BackgroundModel\n",
      "  \n",
      "    Name                      : dataset-simu-bkg\n",
      "    Datasets names            : ['dataset-simu']\n",
      "    Parameters:\n",
      "      norm                    :   1.000              \n",
      "      tilt         (frozen)   :   0.000              \n",
      "      reference    (frozen)   :   1.000  TeV         \n",
      "  \n",
      "  Component 1: SkyModel\n",
      "  \n",
      "    Name                      : model-simu\n",
      "    Datasets names            : None\n",
      "    Spectral model type       : PowerLawSpectralModel\n",
      "    Spatial  model type       : GaussianSpatialModel\n",
      "    Temporal model type       : \n",
      "    Parameters:\n",
      "      index                   :   3.000              \n",
      "      amplitude               :   1.00e-11  1 / (cm2 s TeV)\n",
      "      reference    (frozen)   :   1.000  TeV         \n",
      "      lon_0                   :   0.200  deg         \n",
      "      lat_0                   :   0.100  deg         \n",
      "      sigma                   :   0.300  deg         \n",
      "      e            (frozen)   :   0.000              \n",
      "      phi          (frozen)   :   0.000  deg         \n",
      "  \n",
      "  \n"
     ]
    }
   ],
   "source": [
    "# Add the model on the dataset and Poission fluctuate\n",
    "dataset.models.append(model_simu)\n",
    "dataset.fake()\n",
    "# Do a print on the dataset - there is now a counts maps\n",
    "print(dataset)"
   ]
  },
  {
   "cell_type": "markdown",
   "metadata": {},
   "source": [
    "Now use this dataset as you would in all standard analysis. You can plot the maps, or proceed with your custom analysis. \n",
    "In the next section, we show the standard 3D fitting as in [analysis_3d](analysis_3d.ipynb)."
   ]
  },
  {
   "cell_type": "code",
   "execution_count": 11,
   "metadata": {
    "execution": {
     "iopub.execute_input": "2020-10-16T10:13:31.602741Z",
     "iopub.status.busy": "2020-10-16T10:13:31.602207Z",
     "iopub.status.idle": "2020-10-16T10:13:32.555789Z",
     "shell.execute_reply": "2020-10-16T10:13:32.556428Z"
    }
   },
   "outputs": [
    {
     "data": {
      "application/vnd.jupyter.widget-view+json": {
       "model_id": "7498aebe83424ea1ad5755a8b50ce3ad",
       "version_major": 2,
       "version_minor": 0
      },
      "text/plain": [
       "interactive(children=(SelectionSlider(continuous_update=False, description='Select energy:', layout=Layout(wid…"
      ]
     },
     "metadata": {},
     "output_type": "display_data"
    }
   ],
   "source": [
    "# To plot, eg, counts:\n",
    "dataset.counts.smooth(0.05 * u.deg).plot_interactive(\n",
    "    add_cbar=True, stretch=\"linear\"\n",
    ")"
   ]
  },
  {
   "cell_type": "markdown",
   "metadata": {},
   "source": [
    "## Fit\n",
    "\n",
    "In this section, we do a usual 3D fit with the same model used to simulated the data and see the stability of the simulations. Often, it is useful to simulate many such datasets and look at the distribution of the reconstructed parameters."
   ]
  },
  {
   "cell_type": "code",
   "execution_count": 12,
   "metadata": {
    "execution": {
     "iopub.execute_input": "2020-10-16T10:13:32.559926Z",
     "iopub.status.busy": "2020-10-16T10:13:32.559364Z",
     "iopub.status.idle": "2020-10-16T10:13:32.578833Z",
     "shell.execute_reply": "2020-10-16T10:13:32.578184Z"
    }
   },
   "outputs": [],
   "source": [
    "# Make a copy of the dataset\n",
    "dataset_fit = dataset.copy(name=\"dataset-fit\")"
   ]
  },
  {
   "cell_type": "code",
   "execution_count": 13,
   "metadata": {
    "execution": {
     "iopub.execute_input": "2020-10-16T10:13:32.584842Z",
     "iopub.status.busy": "2020-10-16T10:13:32.583588Z",
     "iopub.status.idle": "2020-10-16T10:13:32.586422Z",
     "shell.execute_reply": "2020-10-16T10:13:32.586969Z"
    }
   },
   "outputs": [
    {
     "name": "stdout",
     "output_type": "stream",
     "text": [
      "ProperModels\n",
      "\n",
      "Component 0: BackgroundModel\n",
      "\n",
      "  Name                      : dataset-fit-bkg\n",
      "  Datasets names            : ['dataset-fit']\n",
      "  Parameters:\n",
      "    norm                    :   1.000              \n",
      "    tilt         (frozen)   :   0.000              \n",
      "    reference    (frozen)   :   1.000  TeV         \n",
      "\n",
      "Component 1: SkyModel\n",
      "\n",
      "  Name                      : model-simu\n",
      "  Datasets names            : None\n",
      "  Spectral model type       : PowerLawSpectralModel\n",
      "  Spatial  model type       : GaussianSpatialModel\n",
      "  Temporal model type       : \n",
      "  Parameters:\n",
      "    index                   :   3.000              \n",
      "    amplitude               :   1.00e-11  1 / (cm2 s TeV)\n",
      "    reference    (frozen)   :   1.000  TeV         \n",
      "    lon_0                   :   0.200  deg         \n",
      "    lat_0                   :   0.100  deg         \n",
      "    sigma                   :   0.300  deg         \n",
      "    e            (frozen)   :   0.000              \n",
      "    phi          (frozen)   :   0.000  deg         \n",
      "\n",
      "\n"
     ]
    }
   ],
   "source": [
    "print(dataset_fit.models)"
   ]
  },
  {
   "cell_type": "code",
   "execution_count": 14,
   "metadata": {
    "execution": {
     "iopub.execute_input": "2020-10-16T10:13:32.601269Z",
     "iopub.status.busy": "2020-10-16T10:13:32.600271Z",
     "iopub.status.idle": "2020-10-16T10:13:32.602817Z",
     "shell.execute_reply": "2020-10-16T10:13:32.603359Z"
    }
   },
   "outputs": [
    {
     "name": "stdout",
     "output_type": "stream",
     "text": [
      "ProperModels\n",
      "\n",
      "Component 0: SkyModel\n",
      "\n",
      "  Name                      : model-fit\n",
      "  Datasets names            : None\n",
      "  Spectral model type       : PowerLawSpectralModel\n",
      "  Spatial  model type       : GaussianSpatialModel\n",
      "  Temporal model type       : \n",
      "  Parameters:\n",
      "    index                   :   2.000              \n",
      "    amplitude               :   1.00e-11  1 / (cm2 s TeV)\n",
      "    reference    (frozen)   :   1.000  TeV         \n",
      "    lon_0                   :   0.100  deg         \n",
      "    lat_0                   :   0.100  deg         \n",
      "    sigma                   :   0.500  deg         \n",
      "    e            (frozen)   :   0.000              \n",
      "    phi          (frozen)   :   0.000  deg         \n",
      "\n",
      "Component 1: BackgroundModel\n",
      "\n",
      "  Name                      : dataset-fit-bkg\n",
      "  Datasets names            : ['dataset-fit']\n",
      "  Parameters:\n",
      "    norm                    :   1.000              \n",
      "    tilt         (frozen)   :   0.000              \n",
      "    reference    (frozen)   :   1.000  TeV         \n",
      "\n",
      "\n"
     ]
    }
   ],
   "source": [
    "# Define sky model to fit the data\n",
    "spatial_model1 = GaussianSpatialModel(\n",
    "    lon_0=\"0.1 deg\", lat_0=\"0.1 deg\", sigma=\"0.5 deg\", frame=\"galactic\"\n",
    ")\n",
    "spectral_model1 = PowerLawSpectralModel(\n",
    "    index=2, amplitude=\"1e-11 cm-2 s-1 TeV-1\", reference=\"1 TeV\"\n",
    ")\n",
    "model_fit = SkyModel(\n",
    "    spatial_model=spatial_model1,\n",
    "    spectral_model=spectral_model1,\n",
    "    name=\"model-fit\",\n",
    ")\n",
    "\n",
    "dataset_fit.models = [model_fit, dataset_fit.models[0]]\n",
    "print(dataset_fit.models)"
   ]
  },
  {
   "cell_type": "code",
   "execution_count": 15,
   "metadata": {
    "execution": {
     "iopub.execute_input": "2020-10-16T10:13:32.609401Z",
     "iopub.status.busy": "2020-10-16T10:13:32.608073Z",
     "iopub.status.idle": "2020-10-16T10:13:32.610662Z",
     "shell.execute_reply": "2020-10-16T10:13:32.611191Z"
    }
   },
   "outputs": [
    {
     "name": "stdout",
     "output_type": "stream",
     "text": [
      "BackgroundModel\n",
      "\n",
      "  Name                      : dataset-fit-bkg\n",
      "  Datasets names            : ['dataset-fit']\n",
      "  Parameters:\n",
      "    norm         (frozen)   :   1.000              \n",
      "    tilt         (frozen)   :   0.000              \n",
      "    reference    (frozen)   :   1.000  TeV         \n",
      "\n",
      "\n"
     ]
    }
   ],
   "source": [
    "# We do not want to fit the background in this case, so we will freeze the parameters\n",
    "background_model = dataset_fit.background_model\n",
    "background_model.parameters[\"norm\"].value = 1.0\n",
    "background_model.parameters[\"norm\"].frozen = True\n",
    "background_model.parameters[\"tilt\"].frozen = True\n",
    "\n",
    "print(background_model)"
   ]
  },
  {
   "cell_type": "code",
   "execution_count": 16,
   "metadata": {
    "execution": {
     "iopub.execute_input": "2020-10-16T10:13:32.614756Z",
     "iopub.status.busy": "2020-10-16T10:13:32.614097Z",
     "iopub.status.idle": "2020-10-16T10:13:34.154294Z",
     "shell.execute_reply": "2020-10-16T10:13:34.154767Z"
    }
   },
   "outputs": [
    {
     "name": "stdout",
     "output_type": "stream",
     "text": [
      "MapDataset\n",
      "----------\n",
      "\n",
      "  Name                            : dataset-fit \n",
      "\n",
      "  Total counts                    : 169442 \n",
      "  Total predicted counts          : 164361.06\n",
      "  Total background counts         : 161250.95\n",
      "\n",
      "  Exposure min                    : 6.41e+07 m2 s\n",
      "  Exposure max                    : 2.53e+10 m2 s\n",
      "\n",
      "  Number of total bins            : 810000 \n",
      "  Number of fit bins              : 804492 \n",
      "\n",
      "  Fit statistic type              : cash\n",
      "  Fit statistic value (-2 log(L)) : 567425.00\n",
      "\n",
      "  Number of models                : 2 \n",
      "  Number of parameters            : 11\n",
      "  Number of free parameters       : 5\n",
      "\n",
      "  Component 0: SkyModel\n",
      "  \n",
      "    Name                      : model-fit\n",
      "    Datasets names            : None\n",
      "    Spectral model type       : PowerLawSpectralModel\n",
      "    Spatial  model type       : GaussianSpatialModel\n",
      "    Temporal model type       : \n",
      "    Parameters:\n",
      "      index                   :   2.000              \n",
      "      amplitude               :   1.00e-11  1 / (cm2 s TeV)\n",
      "      reference    (frozen)   :   1.000  TeV         \n",
      "      lon_0                   :   0.100  deg         \n",
      "      lat_0                   :   0.100  deg         \n",
      "      sigma                   :   0.500  deg         \n",
      "      e            (frozen)   :   0.000              \n",
      "      phi          (frozen)   :   0.000  deg         \n",
      "  \n",
      "  Component 1: BackgroundModel\n",
      "  \n",
      "    Name                      : dataset-fit-bkg\n",
      "    Datasets names            : ['dataset-fit']\n",
      "    Parameters:\n",
      "      norm         (frozen)   :   1.000              \n",
      "      tilt         (frozen)   :   0.000              \n",
      "      reference    (frozen)   :   1.000  TeV         \n",
      "  \n",
      "  \n"
     ]
    }
   ],
   "source": [
    "print(dataset_fit)"
   ]
  },
  {
   "cell_type": "code",
   "execution_count": 17,
   "metadata": {
    "execution": {
     "iopub.execute_input": "2020-10-16T10:13:34.163345Z",
     "iopub.status.busy": "2020-10-16T10:13:34.162790Z",
     "iopub.status.idle": "2020-10-16T10:13:53.185669Z",
     "shell.execute_reply": "2020-10-16T10:13:53.186101Z"
    }
   },
   "outputs": [
    {
     "name": "stdout",
     "output_type": "stream",
     "text": [
      "┌──────────────────────────────────┬──────────────────────────────────────┐\n",
      "│ FCN = 5.624e+05                  │       Ncalls = 211 (211 total)       │\n",
      "│ EDM = 4.84e-05 (Goal: 0.0002)    │               up = 1.0               │\n",
      "├───────────────┬──────────────────┼──────────────────────────────────────┤\n",
      "│ Valid Minimum │ Valid Parameters │       SOME Parameters at limit       │\n",
      "├───────────────┴──────────────────┼──────────────────────────────────────┤\n",
      "│ Below EDM threshold (goal x 10)  │           Below call limit           │\n",
      "├───────────────┬──────────────────┼───────────┬─────────────┬────────────┤\n",
      "│   Hesse ok    │  Has Covariance  │ Accurate  │  Pos. def.  │ Not forced │\n",
      "└───────────────┴──────────────────┴───────────┴─────────────┴────────────┘\n",
      "CPU times: user 19 s, sys: 14.6 ms, total: 19 s\n",
      "Wall time: 19 s\n"
     ]
    }
   ],
   "source": [
    "%%time\n",
    "fit = Fit([dataset_fit])\n",
    "result = fit.run(optimize_opts={\"print_level\": 1})"
   ]
  },
  {
   "cell_type": "code",
   "execution_count": 18,
   "metadata": {
    "execution": {
     "iopub.execute_input": "2020-10-16T10:13:53.191784Z",
     "iopub.status.busy": "2020-10-16T10:13:53.190633Z",
     "iopub.status.idle": "2020-10-16T10:13:53.900400Z",
     "shell.execute_reply": "2020-10-16T10:13:53.900842Z"
    }
   },
   "outputs": [
    {
     "name": "stderr",
     "output_type": "stream",
     "text": [
      "/usr/share/miniconda/envs/gammapy-dev/lib/python3.7/site-packages/astropy/visualization/wcsaxes/core.py:211: MatplotlibDeprecationWarning: Passing parameters norm and vmin/vmax simultaneously is deprecated since 3.3 and will become an error two minor releases later. Please pass vmin/vmax directly to the norm when creating it.\n",
      "  return super().imshow(X, *args, origin=origin, **kwargs)\n"
     ]
    },
    {
     "data": {
      "text/plain": [
       "(<WCSAxesSubplot:xlabel='Galactic Longitude', ylabel='Galactic Latitude'>,\n",
       " None)"
      ]
     },
     "execution_count": 1,
     "metadata": {},
     "output_type": "execute_result"
    },
    {
     "data": {
      "image/png": "[encoded data removed]",
      "text/plain": [
       "<Figure size 864x288 with 2 Axes>"
      ]
     },
     "metadata": {
      "needs_background": "light"
     },
     "output_type": "display_data"
    }
   ],
   "source": [
    "dataset_fit.plot_residuals(method=\"diff/sqrt(model)\", vmin=-0.5, vmax=0.5)"
   ]
  },
  {
   "cell_type": "markdown",
   "metadata": {},
   "source": [
    "Compare the injected and fitted models: "
   ]
  },
  {
   "cell_type": "code",
   "execution_count": 19,
   "metadata": {
    "execution": {
     "iopub.execute_input": "2020-10-16T10:13:53.906017Z",
     "iopub.status.busy": "2020-10-16T10:13:53.903110Z",
     "iopub.status.idle": "2020-10-16T10:13:53.908305Z",
     "shell.execute_reply": "2020-10-16T10:13:53.909003Z"
    }
   },
   "outputs": [
    {
     "name": "stdout",
     "output_type": "stream",
     "text": [
      "True model: \n",
      " SkyModel\n",
      "\n",
      "  Name                      : model-simu\n",
      "  Datasets names            : None\n",
      "  Spectral model type       : PowerLawSpectralModel\n",
      "  Spatial  model type       : GaussianSpatialModel\n",
      "  Temporal model type       : \n",
      "  Parameters:\n",
      "    index                   :   3.000              \n",
      "    amplitude               :   1.00e-11  1 / (cm2 s TeV)\n",
      "    reference    (frozen)   :   1.000  TeV         \n",
      "    lon_0                   :   0.200  deg         \n",
      "    lat_0                   :   0.100  deg         \n",
      "    sigma                   :   0.300  deg         \n",
      "    e            (frozen)   :   0.000              \n",
      "    phi          (frozen)   :   0.000  deg         \n",
      "\n",
      " \n",
      "\n",
      " Fitted model: \n",
      " SkyModel\n",
      "\n",
      "  Name                      : model-fit\n",
      "  Datasets names            : None\n",
      "  Spectral model type       : PowerLawSpectralModel\n",
      "  Spatial  model type       : GaussianSpatialModel\n",
      "  Temporal model type       : \n",
      "  Parameters:\n",
      "    index                   :   3.029              \n",
      "    amplitude               :   9.66e-12  1 / (cm2 s TeV)\n",
      "    reference    (frozen)   :   1.000  TeV         \n",
      "    lon_0                   :   0.198  deg         \n",
      "    lat_0                   :   0.097  deg         \n",
      "    sigma                   :   0.301  deg         \n",
      "    e            (frozen)   :   0.000              \n",
      "    phi          (frozen)   :   0.000  deg         \n",
      "\n",
      "\n"
     ]
    }
   ],
   "source": [
    "print(\"True model: \\n\", model_simu, \"\\n\\n Fitted model: \\n\", model_fit)"
   ]
  },
  {
   "cell_type": "markdown",
   "metadata": {},
   "source": [
    "Get the errors on the fitted parameters from the parameter table"
   ]
  },
  {
   "cell_type": "code",
   "execution_count": 20,
   "metadata": {
    "execution": {
     "iopub.execute_input": "2020-10-16T10:13:53.917795Z",
     "iopub.status.busy": "2020-10-16T10:13:53.917207Z",
     "iopub.status.idle": "2020-10-16T10:13:53.919774Z",
     "shell.execute_reply": "2020-10-16T10:13:53.920374Z"
    }
   },
   "outputs": [
    {
     "data": {
      "text/html": [
       "<i>Table length=11</i>\n",
       "<table id=\"table140331894275376\" class=\"table-striped table-bordered table-condensed\">\n",
       "<thead><tr><th>name</th><th>value</th><th>unit</th><th>min</th><th>max</th><th>frozen</th><th>error</th></tr></thead>\n",
       "<thead><tr><th>str9</th><th>float64</th><th>str14</th><th>float64</th><th>float64</th><th>bool</th><th>float64</th></tr></thead>\n",
       "<tr><td>index</td><td>3.029e+00</td><td></td><td>nan</td><td>nan</td><td>False</td><td>2.024e-02</td></tr>\n",
       "<tr><td>amplitude</td><td>9.662e-12</td><td>cm-2 s-1 TeV-1</td><td>nan</td><td>nan</td><td>False</td><td>3.253e-13</td></tr>\n",
       "<tr><td>reference</td><td>1.000e+00</td><td>TeV</td><td>nan</td><td>nan</td><td>True</td><td>0.000e+00</td></tr>\n",
       "<tr><td>lon_0</td><td>1.979e-01</td><td>deg</td><td>nan</td><td>nan</td><td>False</td><td>5.950e-03</td></tr>\n",
       "<tr><td>lat_0</td><td>9.685e-02</td><td>deg</td><td>-9.000e+01</td><td>9.000e+01</td><td>False</td><td>5.940e-03</td></tr>\n",
       "<tr><td>sigma</td><td>3.010e-01</td><td>deg</td><td>0.000e+00</td><td>nan</td><td>False</td><td>4.155e-03</td></tr>\n",
       "<tr><td>e</td><td>0.000e+00</td><td></td><td>0.000e+00</td><td>1.000e+00</td><td>True</td><td>0.000e+00</td></tr>\n",
       "<tr><td>phi</td><td>0.000e+00</td><td>deg</td><td>nan</td><td>nan</td><td>True</td><td>0.000e+00</td></tr>\n",
       "<tr><td>norm</td><td>1.000e+00</td><td></td><td>nan</td><td>nan</td><td>True</td><td>0.000e+00</td></tr>\n",
       "<tr><td>tilt</td><td>0.000e+00</td><td></td><td>nan</td><td>nan</td><td>True</td><td>0.000e+00</td></tr>\n",
       "<tr><td>reference</td><td>1.000e+00</td><td>TeV</td><td>nan</td><td>nan</td><td>True</td><td>0.000e+00</td></tr>\n",
       "</table>"
      ],
      "text/plain": [
       "<Table length=11>\n",
       "   name     value        unit         min        max    frozen   error  \n",
       "   str9    float64      str14       float64    float64   bool   float64 \n",
       "--------- --------- -------------- ---------- --------- ------ ---------\n",
       "    index 3.029e+00                       nan       nan  False 2.024e-02\n",
       "amplitude 9.662e-12 cm-2 s-1 TeV-1        nan       nan  False 3.253e-13\n",
       "reference 1.000e+00            TeV        nan       nan   True 0.000e+00\n",
       "    lon_0 1.979e-01            deg        nan       nan  False 5.950e-03\n",
       "    lat_0 9.685e-02            deg -9.000e+01 9.000e+01  False 5.940e-03\n",
       "    sigma 3.010e-01            deg  0.000e+00       nan  False 4.155e-03\n",
       "        e 0.000e+00                 0.000e+00 1.000e+00   True 0.000e+00\n",
       "      phi 0.000e+00            deg        nan       nan   True 0.000e+00\n",
       "     norm 1.000e+00                       nan       nan   True 0.000e+00\n",
       "     tilt 0.000e+00                       nan       nan   True 0.000e+00\n",
       "reference 1.000e+00            TeV        nan       nan   True 0.000e+00"
      ]
     },
     "execution_count": 1,
     "metadata": {},
     "output_type": "execute_result"
    }
   ],
   "source": [
    "result.parameters.to_table()"
   ]
  }
 ],
 "metadata": {
  "kernelspec": {
   "display_name": "Python 3",
   "language": "python",
   "name": "python3"
  },
  "language_info": {
   "codemirror_mode": {
    "name": "ipython",
    "version": 3
   },
   "file_extension": ".py",
   "mimetype": "text/x-python",
   "name": "python",
   "nbconvert_exporter": "python",
   "pygments_lexer": "ipython3",
   "version": "3.7.0"
  },
  "nbsphinx": {
   "orphan": true
  },
  "widgets": {
   "application/vnd.jupyter.widget-state+json": {
    "state": {
     "046612d4574d442aa100a5d8e68f25f8": {
      "model_module": "@jupyter-widgets/base",
      "model_module_version": "1.2.0",
      "model_name": "LayoutModel",
      "state": {
       "_model_module": "@jupyter-widgets/base",
       "_model_module_version": "1.2.0",
       "_model_name": "LayoutModel",
       "_view_count": null,
       "_view_module": "@jupyter-widgets/base",
       "_view_module_version": "1.2.0",
       "_view_name": "LayoutView",
       "align_content": null,
       "align_items": null,
       "align_self": null,
       "border": null,
       "bottom": null,
       "display": null,
       "flex": null,
       "flex_flow": null,
       "grid_area": null,
       "grid_auto_columns": null,
       "grid_auto_flow": null,
       "grid_auto_rows": null,
       "grid_column": null,
       "grid_gap": null,
       "grid_row": null,
       "grid_template_areas": null,
       "grid_template_columns": null,
       "grid_template_rows": null,
       "height": null,
       "justify_content": null,
       "justify_items": null,
       "left": null,
       "margin": null,
       "max_height": null,
       "max_width": null,
       "min_height": null,
       "min_width": null,
       "object_fit": null,
       "object_position": null,
       "order": null,
       "overflow": null,
       "overflow_x": null,
       "overflow_y": null,
       "padding": null,
       "right": null,
       "top": null,
       "visibility": null,
       "width": null
      }
     },
     "058a7260f9644bab8a6cf357b553aa6f": {
      "model_module": "@jupyter-widgets/controls",
      "model_module_version": "1.5.0",
      "model_name": "RadioButtonsModel",
      "state": {
       "_dom_classes": [],
       "_model_module": "@jupyter-widgets/controls",
       "_model_module_version": "1.5.0",
       "_model_name": "RadioButtonsModel",
       "_options_labels": [
        "linear",
        "sqrt",
        "log"
       ],
       "_view_count": null,
       "_view_module": "@jupyter-widgets/controls",
       "_view_module_version": "1.5.0",
       "_view_name": "RadioButtonsView",
       "description": "Select stretch:",
       "description_tooltip": null,
       "disabled": false,
       "index": 0,
       "layout": "IPY_MODEL_1cf50bdc89774bb5908f1f1cdfef9397",
       "style": "IPY_MODEL_960aeeba2ee8440e805631df1467781f"
      }
     },
     "1cf50bdc89774bb5908f1f1cdfef9397": {
      "model_module": "@jupyter-widgets/base",
      "model_module_version": "1.2.0",
      "model_name": "LayoutModel",
      "state": {
       "_model_module": "@jupyter-widgets/base",
       "_model_module_version": "1.2.0",
       "_model_name": "LayoutModel",
       "_view_count": null,
       "_view_module": "@jupyter-widgets/base",
       "_view_module_version": "1.2.0",
       "_view_name": "LayoutView",
       "align_content": null,
       "align_items": null,
       "align_self": null,
       "border": null,
       "bottom": null,
       "display": null,
       "flex": null,
       "flex_flow": null,
       "grid_area": null,
       "grid_auto_columns": null,
       "grid_auto_flow": null,
       "grid_auto_rows": null,
       "grid_column": null,
       "grid_gap": null,
       "grid_row": null,
       "grid_template_areas": null,
       "grid_template_columns": null,
       "grid_template_rows": null,
       "height": null,
       "justify_content": null,
       "justify_items": null,
       "left": null,
       "margin": null,
       "max_height": null,
       "max_width": null,
       "min_height": null,
       "min_width": null,
       "object_fit": null,
       "object_position": null,
       "order": null,
       "overflow": null,
       "overflow_x": null,
       "overflow_y": null,
       "padding": null,
       "right": null,
       "top": null,
       "visibility": null,
       "width": null
      }
     },
     "60e603a56e6242419ef6260af5c9f131": {
      "model_module": "@jupyter-widgets/controls",
      "model_module_version": "1.5.0",
      "model_name": "DescriptionStyleModel",
      "state": {
       "_model_module": "@jupyter-widgets/controls",
       "_model_module_version": "1.5.0",
       "_model_name": "DescriptionStyleModel",
       "_view_count": null,
       "_view_module": "@jupyter-widgets/base",
       "_view_module_version": "1.2.0",
       "_view_name": "StyleView",
       "description_width": "initial"
      }
     },
     "7498aebe83424ea1ad5755a8b50ce3ad": {
      "model_module": "@jupyter-widgets/controls",
      "model_module_version": "1.5.0",
      "model_name": "VBoxModel",
      "state": {
       "_dom_classes": [
        "widget-interact"
       ],
       "_model_module": "@jupyter-widgets/controls",
       "_model_module_version": "1.5.0",
       "_model_name": "VBoxModel",
       "_view_count": null,
       "_view_module": "@jupyter-widgets/controls",
       "_view_module_version": "1.5.0",
       "_view_name": "VBoxView",
       "box_style": "",
       "children": [
        "IPY_MODEL_fce1e6537601404ca246fcd81b2f2626",
        "IPY_MODEL_058a7260f9644bab8a6cf357b553aa6f",
        "IPY_MODEL_f8592c140ee54ddeb4a2a5c86d1e677e"
       ],
       "layout": "IPY_MODEL_cfabed8d660f4ba288f5c84e7b919ccf"
      }
     },
     "960aeeba2ee8440e805631df1467781f": {
      "model_module": "@jupyter-widgets/controls",
      "model_module_version": "1.5.0",
      "model_name": "DescriptionStyleModel",
      "state": {
       "_model_module": "@jupyter-widgets/controls",
       "_model_module_version": "1.5.0",
       "_model_name": "DescriptionStyleModel",
       "_view_count": null,
       "_view_module": "@jupyter-widgets/base",
       "_view_module_version": "1.2.0",
       "_view_name": "StyleView",
       "description_width": "initial"
      }
     },
     "cfabed8d660f4ba288f5c84e7b919ccf": {
      "model_module": "@jupyter-widgets/base",
      "model_module_version": "1.2.0",
      "model_name": "LayoutModel",
      "state": {
       "_model_module": "@jupyter-widgets/base",
       "_model_module_version": "1.2.0",
       "_model_name": "LayoutModel",
       "_view_count": null,
       "_view_module": "@jupyter-widgets/base",
       "_view_module_version": "1.2.0",
       "_view_name": "LayoutView",
       "align_content": null,
       "align_items": null,
       "align_self": null,
       "border": null,
       "bottom": null,
       "display": null,
       "flex": null,
       "flex_flow": null,
       "grid_area": null,
       "grid_auto_columns": null,
       "grid_auto_flow": null,
       "grid_auto_rows": null,
       "grid_column": null,
       "grid_gap": null,
       "grid_row": null,
       "grid_template_areas": null,
       "grid_template_columns": null,
       "grid_template_rows": null,
       "height": null,
       "justify_content": null,
       "justify_items": null,
       "left": null,
       "margin": null,
       "max_height": null,
       "max_width": null,
       "min_height": null,
       "min_width": null,
       "object_fit": null,
       "object_position": null,
       "order": null,
       "overflow": null,
       "overflow_x": null,
       "overflow_y": null,
       "padding": null,
       "right": null,
       "top": null,
       "visibility": null,
       "width": null
      }
     },
     "f8592c140ee54ddeb4a2a5c86d1e677e": {
      "model_module": "@jupyter-widgets/output",
      "model_module_version": "1.0.0",
      "model_name": "OutputModel",
      "state": {
       "_dom_classes": [],
       "_model_module": "@jupyter-widgets/output",
       "_model_module_version": "1.0.0",
       "_model_name": "OutputModel",
       "_view_count": null,
       "_view_module": "@jupyter-widgets/output",
       "_view_module_version": "1.0.0",
       "_view_name": "OutputView",
       "layout": "IPY_MODEL_046612d4574d442aa100a5d8e68f25f8",
       "msg_id": "",
       "outputs": [
        {
         "data": {
          "image/png": "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\n",
          "text/plain": "<Figure size 432x288 with 2 Axes>"
         },
         "metadata": {
          "needs_background": "light"
         },
         "output_type": "display_data"
        }
       ]
      }
     },
     "f9913edbe2064af7a4cd2065772739d4": {
      "model_module": "@jupyter-widgets/base",
      "model_module_version": "1.2.0",
      "model_name": "LayoutModel",
      "state": {
       "_model_module": "@jupyter-widgets/base",
       "_model_module_version": "1.2.0",
       "_model_name": "LayoutModel",
       "_view_count": null,
       "_view_module": "@jupyter-widgets/base",
       "_view_module_version": "1.2.0",
       "_view_name": "LayoutView",
       "align_content": null,
       "align_items": null,
       "align_self": null,
       "border": null,
       "bottom": null,
       "display": null,
       "flex": null,
       "flex_flow": null,
       "grid_area": null,
       "grid_auto_columns": null,
       "grid_auto_flow": null,
       "grid_auto_rows": null,
       "grid_column": null,
       "grid_gap": null,
       "grid_row": null,
       "grid_template_areas": null,
       "grid_template_columns": null,
       "grid_template_rows": null,
       "height": null,
       "justify_content": null,
       "justify_items": null,
       "left": null,
       "margin": null,
       "max_height": null,
       "max_width": null,
       "min_height": null,
       "min_width": null,
       "object_fit": null,
       "object_position": null,
       "order": null,
       "overflow": null,
       "overflow_x": null,
       "overflow_y": null,
       "padding": null,
       "right": null,
       "top": null,
       "visibility": null,
       "width": "50%"
      }
     },
     "fce1e6537601404ca246fcd81b2f2626": {
      "model_module": "@jupyter-widgets/controls",
      "model_module_version": "1.5.0",
      "model_name": "SelectionSliderModel",
      "state": {
       "_dom_classes": [],
       "_model_module": "@jupyter-widgets/controls",
       "_model_module_version": "1.5.0",
       "_model_name": "SelectionSliderModel",
       "_options_labels": [
        "1.00e-01 TeV - 1.67e-01 TeV TeV",
        "1.67e-01 TeV - 2.78e-01 TeV TeV",
        "2.78e-01 TeV - 4.64e-01 TeV TeV",
        "4.64e-01 TeV - 7.74e-01 TeV TeV",
        "7.74e-01 TeV - 1.29e+00 TeV TeV",
        "1.29e+00 TeV - 2.15e+00 TeV TeV",
        "2.15e+00 TeV - 3.59e+00 TeV TeV",
        "3.59e+00 TeV - 5.99e+00 TeV TeV",
        "5.99e+00 TeV - 1.00e+01 TeV TeV"
       ],
       "_view_count": null,
       "_view_module": "@jupyter-widgets/controls",
       "_view_module_version": "1.5.0",
       "_view_name": "SelectionSliderView",
       "continuous_update": false,
       "description": "Select energy:",
       "description_tooltip": null,
       "disabled": false,
       "index": 0,
       "layout": "IPY_MODEL_f9913edbe2064af7a4cd2065772739d4",
       "orientation": "horizontal",
       "readout": true,
       "style": "IPY_MODEL_60e603a56e6242419ef6260af5c9f131"
      }
     }
    },
    "version_major": 2,
    "version_minor": 0
   }
  }
 },
 "nbformat": 4,
 "nbformat_minor": 4
}
