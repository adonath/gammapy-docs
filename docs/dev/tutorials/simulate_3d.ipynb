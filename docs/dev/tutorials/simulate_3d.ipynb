{
 "cells": [
  {
   "cell_type": "markdown",
   "metadata": {},
   "source": [
    "\n",
    "<div class=\"alert alert-info\">\n",
    "\n",
    "**This is a fixed-text formatted version of a Jupyter notebook**\n",
    "\n",
    "- Try online [![Binder](https://static.mybinder.org/badge.svg)](https://mybinder.org/v2/gh/gammapy/gammapy-webpage/master?urlpath=lab/tree/simulate_3d.ipynb)\n",
    "- You can contribute with your own notebooks in this\n",
    "[GitHub repository](https://github.com/gammapy/gammapy/tree/master/docs/tutorials).\n",
    "- **Source files:**\n",
    "[simulate_3d.ipynb](../_static/notebooks/simulate_3d.ipynb) |\n",
    "[simulate_3d.py](../_static/notebooks/simulate_3d.py)\n",
    "</div>\n"
   ]
  },
  {
   "cell_type": "markdown",
   "metadata": {},
   "source": [
    "# 3D map simulation\n",
    "\n",
    "## Prerequisites\n",
    "\n",
    "- Knowledge of 3D extraction and datasets used in gammapy, see for instance the [first analysis tutorial](analysis_1.ipynb)\n",
    "\n",
    "## Context\n",
    "\n",
    "To simulate a specific observation, it is not always necessary to simulate the full photon list. For many uses cases, simulating directly a reduced binned dataset is enough: the IRFs reduced in the correct geometry are combined with a source model to predict an actual number of counts per bin. The latter is then used to simulate a reduced dataset using Poisson probability distribution.\n",
    "\n",
    "This can be done to check the feasibility of a measurement (performance / sensitivity study), to test whether fitted parameters really provide a good fit to the data etc.\n",
    "\n",
    "Here we will see how to perform a 3D simulation of a CTA observation, assuming both the spectral and spatial morphology of an observed source.\n",
    "\n",
    "**Objective: simulate a 3D observation of a source with CTA using the CTA 1DC response and fit it with the assumed source model.**\n",
    "\n",
    "## Proposed approach:\n",
    "\n",
    "Here we can't use the regular observation objects that are connected to a `DataStore`. Instead we will create a fake `~gammapy.data.Observation` that contain some pointing information and the CTA 1DC IRFs (that are loaded with `~gammapy.irf.load_cta_irfs`).\n",
    "\n",
    "Then we will create a `~gammapy.datasets.MapDataset` geometry and create it with the `~gammapy.makers.MapDatasetMaker`.\n",
    "\n",
    "Then we will be able to define a model consisting of  a `~gammapy.modeling.models.PowerLawSpectralModel` and a `~gammapy.modeling.models.GaussianSpatialModel`. We will assign it to the dataset and fake the count data.\n"
   ]
  },
  {
   "cell_type": "markdown",
   "metadata": {},
   "source": [
    "## Imports and versions"
   ]
  },
  {
   "cell_type": "code",
   "execution_count": 1,
   "metadata": {
    "execution": {
     "iopub.execute_input": "2021-01-15T09:16:33.811783Z",
     "iopub.status.busy": "2021-01-15T09:16:33.810768Z",
     "iopub.status.idle": "2021-01-15T09:16:34.115996Z",
     "shell.execute_reply": "2021-01-15T09:16:34.115226Z"
    }
   },
   "outputs": [],
   "source": [
    "%matplotlib inline"
   ]
  },
  {
   "cell_type": "code",
   "execution_count": 2,
   "metadata": {
    "execution": {
     "iopub.execute_input": "2021-01-15T09:16:34.120975Z",
     "iopub.status.busy": "2021-01-15T09:16:34.120450Z",
     "iopub.status.idle": "2021-01-15T09:16:35.160726Z",
     "shell.execute_reply": "2021-01-15T09:16:35.159826Z"
    }
   },
   "outputs": [],
   "source": [
    "import numpy as np\n",
    "import astropy.units as u\n",
    "from astropy.coordinates import SkyCoord\n",
    "from gammapy.irf import load_cta_irfs\n",
    "from gammapy.maps import WcsGeom, MapAxis\n",
    "from gammapy.modeling.models import (\n",
    "    PowerLawSpectralModel,\n",
    "    GaussianSpatialModel,\n",
    "    SkyModel,\n",
    "    Models,\n",
    "    FoVBackgroundModel,\n",
    ")\n",
    "from gammapy.makers import MapDatasetMaker, SafeMaskMaker\n",
    "from gammapy.modeling import Fit\n",
    "from gammapy.data import Observation\n",
    "from gammapy.datasets import MapDataset"
   ]
  },
  {
   "cell_type": "code",
   "execution_count": 3,
   "metadata": {
    "execution": {
     "iopub.execute_input": "2021-01-15T09:16:35.166082Z",
     "iopub.status.busy": "2021-01-15T09:16:35.165108Z",
     "iopub.status.idle": "2021-01-15T09:16:37.278797Z",
     "shell.execute_reply": "2021-01-15T09:16:37.279247Z"
    }
   },
   "outputs": [
    {
     "name": "stdout",
     "output_type": "stream",
     "text": [
      "\r\n",
      "Gammapy package:\r\n",
      "\r\n",
      "\tversion                : 0.18.3.dev361+ge1744c61b \r\n",
      "\tpath                   : /home/runner/work/gammapy-docs/gammapy-docs/gammapy/gammapy \r\n",
      "\r\n"
     ]
    }
   ],
   "source": [
    "!gammapy info --no-envvar --no-dependencies --no-system"
   ]
  },
  {
   "cell_type": "markdown",
   "metadata": {},
   "source": [
    "## Simulation"
   ]
  },
  {
   "cell_type": "markdown",
   "metadata": {},
   "source": [
    "We will simulate using the CTA-1DC IRFs shipped with gammapy. Note that for dedictaed CTA simulations, you can simply use [`Observation.from_caldb()`]() without having to externally load the IRFs"
   ]
  },
  {
   "cell_type": "code",
   "execution_count": 4,
   "metadata": {
    "execution": {
     "iopub.execute_input": "2021-01-15T09:16:37.287417Z",
     "iopub.status.busy": "2021-01-15T09:16:37.284477Z",
     "iopub.status.idle": "2021-01-15T09:16:37.376609Z",
     "shell.execute_reply": "2021-01-15T09:16:37.374990Z"
    }
   },
   "outputs": [
    {
     "name": "stderr",
     "output_type": "stream",
     "text": [
      "Invalid unit found in background table! Assuming (s-1 MeV-1 sr-1)\n"
     ]
    }
   ],
   "source": [
    "# Loading IRFs\n",
    "irfs = load_cta_irfs(\n",
    "    \"$GAMMAPY_DATA/cta-1dc/caldb/data/cta/1dc/bcf/South_z20_50h/irf_file.fits\"\n",
    ")"
   ]
  },
  {
   "cell_type": "code",
   "execution_count": 5,
   "metadata": {
    "execution": {
     "iopub.execute_input": "2021-01-15T09:16:37.381759Z",
     "iopub.status.busy": "2021-01-15T09:16:37.381224Z",
     "iopub.status.idle": "2021-01-15T09:16:37.384646Z",
     "shell.execute_reply": "2021-01-15T09:16:37.384222Z"
    }
   },
   "outputs": [],
   "source": [
    "# Define the observation parameters (typically the observation duration and the pointing position):\n",
    "livetime = 2.0 * u.hr\n",
    "pointing = SkyCoord(0, 0, unit=\"deg\", frame=\"galactic\")"
   ]
  },
  {
   "cell_type": "code",
   "execution_count": 6,
   "metadata": {
    "execution": {
     "iopub.execute_input": "2021-01-15T09:16:37.395227Z",
     "iopub.status.busy": "2021-01-15T09:16:37.393019Z",
     "iopub.status.idle": "2021-01-15T09:16:37.405547Z",
     "shell.execute_reply": "2021-01-15T09:16:37.405090Z"
    }
   },
   "outputs": [],
   "source": [
    "# Define map geometry for binned simulation\n",
    "energy_reco = MapAxis.from_edges(\n",
    "    np.logspace(-1.0, 1.0, 10), unit=\"TeV\", name=\"energy\", interp=\"log\"\n",
    ")\n",
    "geom = WcsGeom.create(\n",
    "    skydir=(0, 0),\n",
    "    binsz=0.02,\n",
    "    width=(6, 6),\n",
    "    frame=\"galactic\",\n",
    "    axes=[energy_reco],\n",
    ")\n",
    "# It is usually useful to have a separate binning for the true energy axis\n",
    "energy_true = MapAxis.from_edges(\n",
    "    np.logspace(-1.5, 1.5, 30), unit=\"TeV\", name=\"energy\", interp=\"log\"\n",
    ")\n",
    "\n",
    "empty = MapDataset.create(geom, name=\"dataset-simu\")"
   ]
  },
  {
   "cell_type": "code",
   "execution_count": 7,
   "metadata": {
    "execution": {
     "iopub.execute_input": "2021-01-15T09:16:37.424887Z",
     "iopub.status.busy": "2021-01-15T09:16:37.416665Z",
     "iopub.status.idle": "2021-01-15T09:16:37.428625Z",
     "shell.execute_reply": "2021-01-15T09:16:37.428165Z"
    }
   },
   "outputs": [
    {
     "name": "stdout",
     "output_type": "stream",
     "text": [
      "Models\n",
      "\n",
      "Component 0: SkyModel\n",
      "\n",
      "  Name                      : model-simu\n",
      "  Datasets names            : None\n",
      "  Spectral model type       : PowerLawSpectralModel\n",
      "  Spatial  model type       : GaussianSpatialModel\n",
      "  Temporal model type       : \n",
      "  Parameters:\n",
      "    index                   :   3.000              \n",
      "    amplitude               :   1.00e-11  1 / (cm2 s TeV)\n",
      "    reference    (frozen)   :   1.000  TeV         \n",
      "    lon_0                   :   0.200  deg         \n",
      "    lat_0                   :   0.100  deg         \n",
      "    sigma                   :   0.300  deg         \n",
      "    e            (frozen)   :   0.000              \n",
      "    phi          (frozen)   :   0.000  deg         \n",
      "\n",
      "Component 1: FoVBackgroundModel\n",
      "\n",
      "  Name                      : dataset-simu-bkg\n",
      "  Datasets names            : ['dataset-simu']\n",
      "  Spectral model type       : PowerLawNormSpectralModel\n",
      "  Parameters:\n",
      "    norm                    :   1.000              \n",
      "    tilt         (frozen)   :   0.000              \n",
      "    reference    (frozen)   :   1.000  TeV         \n",
      "\n",
      "\n"
     ]
    }
   ],
   "source": [
    "# Define sky model to used simulate the data.\n",
    "# Here we use a Gaussian spatial model and a Power Law spectral model.\n",
    "spatial_model = GaussianSpatialModel(\n",
    "    lon_0=\"0.2 deg\", lat_0=\"0.1 deg\", sigma=\"0.3 deg\", frame=\"galactic\"\n",
    ")\n",
    "spectral_model = PowerLawSpectralModel(\n",
    "    index=3, amplitude=\"1e-11 cm-2 s-1 TeV-1\", reference=\"1 TeV\"\n",
    ")\n",
    "model_simu = SkyModel(\n",
    "    spatial_model=spatial_model,\n",
    "    spectral_model=spectral_model,\n",
    "    name=\"model-simu\",\n",
    ")\n",
    "\n",
    "bkg_model = FoVBackgroundModel(dataset_name=\"dataset-simu\")\n",
    "\n",
    "models = Models([model_simu, bkg_model])\n",
    "print(models)"
   ]
  },
  {
   "cell_type": "markdown",
   "metadata": {},
   "source": [
    "Now, comes the main part of dataset simulation. We create an in-memory observation and an empty dataset. We then predict the number of counts for the given model, and Poission fluctuate it using `fake()` to make a simulated counts maps. Keep in mind that it is important to specify the `selection` of the maps that you want to produce "
   ]
  },
  {
   "cell_type": "code",
   "execution_count": 8,
   "metadata": {
    "execution": {
     "iopub.execute_input": "2021-01-15T09:16:37.443164Z",
     "iopub.status.busy": "2021-01-15T09:16:37.442684Z",
     "iopub.status.idle": "2021-01-15T09:16:37.446692Z",
     "shell.execute_reply": "2021-01-15T09:16:37.445861Z"
    }
   },
   "outputs": [
    {
     "name": "stdout",
     "output_type": "stream",
     "text": [
      "Observation\n",
      "\n",
      "\tobs id            : 0 \n",
      " \ttstart            : 51544.00\n",
      "\ttstop             : 51544.08\n",
      "\tduration          : 7200.00 s\n",
      "\tpointing (icrs)   : 266.4 deg, -28.9 deg\n",
      "\n",
      "\tdeadtime fraction : 0.0%\n",
      "\n"
     ]
    }
   ],
   "source": [
    "# Create an in-memory observation\n",
    "obs = Observation.create(pointing=pointing, livetime=livetime, irfs=irfs)\n",
    "print(obs)"
   ]
  },
  {
   "cell_type": "code",
   "execution_count": 9,
   "metadata": {
    "execution": {
     "iopub.execute_input": "2021-01-15T09:16:37.453765Z",
     "iopub.status.busy": "2021-01-15T09:16:37.453282Z",
     "iopub.status.idle": "2021-01-15T09:16:39.756569Z",
     "shell.execute_reply": "2021-01-15T09:16:39.756099Z"
    }
   },
   "outputs": [
    {
     "name": "stdout",
     "output_type": "stream",
     "text": [
      "MapDataset\n",
      "----------\n",
      "\n",
      "  Name                            : dataset-simu \n",
      "\n",
      "  Total counts                    : nan \n",
      "  Total background counts         : 161250.95\n",
      "  Total excess counts             : nan\n",
      "\n",
      "  Predicted counts                : 161250.95\n",
      "  Predicted background counts     : 161250.95\n",
      "  Predicted excess counts         : nan\n",
      "\n",
      "  Exposure min                    : 6.41e+07 m2 s\n",
      "  Exposure max                    : 2.53e+10 m2 s\n",
      "\n",
      "  Number of total bins            : 0 \n",
      "  Number of fit bins              : 804492 \n",
      "\n",
      "  Fit statistic type              : cash\n",
      "  Fit statistic value (-2 log(L)) : nan\n",
      "\n",
      "  Number of models                : 0 \n",
      "  Number of parameters            : 0\n",
      "  Number of free parameters       : 0\n",
      "\n",
      "\n"
     ]
    }
   ],
   "source": [
    "# Make the MapDataset\n",
    "maker = MapDatasetMaker(selection=[\"exposure\", \"background\", \"psf\", \"edisp\"])\n",
    "\n",
    "maker_safe_mask = SafeMaskMaker(methods=[\"offset-max\"], offset_max=4.0 * u.deg)\n",
    "\n",
    "dataset = maker.run(empty, obs)\n",
    "dataset = maker_safe_mask.run(dataset, obs)\n",
    "print(dataset)"
   ]
  },
  {
   "cell_type": "code",
   "execution_count": 10,
   "metadata": {
    "execution": {
     "iopub.execute_input": "2021-01-15T09:16:39.761541Z",
     "iopub.status.busy": "2021-01-15T09:16:39.761045Z",
     "iopub.status.idle": "2021-01-15T09:16:40.689135Z",
     "shell.execute_reply": "2021-01-15T09:16:40.688662Z"
    }
   },
   "outputs": [
    {
     "name": "stdout",
     "output_type": "stream",
     "text": [
      "MapDataset\n",
      "----------\n",
      "\n",
      "  Name                            : dataset-simu \n",
      "\n",
      "  Total counts                    : 169469 \n",
      "  Total background counts         : 161250.95\n",
      "  Total excess counts             : 8218.05\n",
      "\n",
      "  Predicted counts                : 169690.16\n",
      "  Predicted background counts     : 161250.95\n",
      "  Predicted excess counts         : 8439.22\n",
      "\n",
      "  Exposure min                    : 6.41e+07 m2 s\n",
      "  Exposure max                    : 2.53e+10 m2 s\n",
      "\n",
      "  Number of total bins            : 810000 \n",
      "  Number of fit bins              : 804492 \n",
      "\n",
      "  Fit statistic type              : cash\n",
      "  Fit statistic value (-2 log(L)) : 562754.06\n",
      "\n",
      "  Number of models                : 2 \n",
      "  Number of parameters            : 11\n",
      "  Number of free parameters       : 6\n",
      "\n",
      "  Component 0: SkyModel\n",
      "  \n",
      "    Name                      : model-simu\n",
      "    Datasets names            : None\n",
      "    Spectral model type       : PowerLawSpectralModel\n",
      "    Spatial  model type       : GaussianSpatialModel\n",
      "    Temporal model type       : \n",
      "    Parameters:\n",
      "      index                   :   3.000              \n",
      "      amplitude               :   1.00e-11  1 / (cm2 s TeV)\n",
      "      reference    (frozen)   :   1.000  TeV         \n",
      "      lon_0                   :   0.200  deg         \n",
      "      lat_0                   :   0.100  deg         \n",
      "      sigma                   :   0.300  deg         \n",
      "      e            (frozen)   :   0.000              \n",
      "      phi          (frozen)   :   0.000  deg         \n",
      "  \n",
      "  Component 1: FoVBackgroundModel\n",
      "  \n",
      "    Name                      : dataset-simu-bkg\n",
      "    Datasets names            : ['dataset-simu']\n",
      "    Spectral model type       : PowerLawNormSpectralModel\n",
      "    Parameters:\n",
      "      norm                    :   1.000              \n",
      "      tilt         (frozen)   :   0.000              \n",
      "      reference    (frozen)   :   1.000  TeV         \n",
      "  \n",
      "  \n"
     ]
    }
   ],
   "source": [
    "# Add the model on the dataset and Poission fluctuate\n",
    "dataset.models = models\n",
    "dataset.fake()\n",
    "# Do a print on the dataset - there is now a counts maps\n",
    "print(dataset)"
   ]
  },
  {
   "cell_type": "markdown",
   "metadata": {},
   "source": [
    "Now use this dataset as you would in all standard analysis. You can plot the maps, or proceed with your custom analysis. \n",
    "In the next section, we show the standard 3D fitting as in [analysis_3d](analysis_3d.ipynb)."
   ]
  },
  {
   "cell_type": "code",
   "execution_count": 11,
   "metadata": {
    "execution": {
     "iopub.execute_input": "2021-01-15T09:16:40.693484Z",
     "iopub.status.busy": "2021-01-15T09:16:40.692959Z",
     "iopub.status.idle": "2021-01-15T09:16:41.440050Z",
     "shell.execute_reply": "2021-01-15T09:16:41.439513Z"
    }
   },
   "outputs": [
    {
     "data": {
      "application/vnd.jupyter.widget-view+json": {
       "model_id": "a1b77c1b60e14ca28b88295f0c9bb4c0",
       "version_major": 2,
       "version_minor": 0
      },
      "text/plain": [
       "interactive(children=(SelectionSlider(continuous_update=False, description='Select energy:', layout=Layout(wid…"
      ]
     },
     "metadata": {},
     "output_type": "display_data"
    }
   ],
   "source": [
    "# To plot, eg, counts:\n",
    "dataset.counts.smooth(0.05 * u.deg).plot_interactive(\n",
    "    add_cbar=True, stretch=\"linear\"\n",
    ")"
   ]
  },
  {
   "cell_type": "markdown",
   "metadata": {},
   "source": [
    "## Fit\n",
    "\n",
    "In this section, we do a usual 3D fit with the same model used to simulated the data and see the stability of the simulations. Often, it is useful to simulate many such datasets and look at the distribution of the reconstructed parameters."
   ]
  },
  {
   "cell_type": "code",
   "execution_count": 12,
   "metadata": {
    "execution": {
     "iopub.execute_input": "2021-01-15T09:16:41.446289Z",
     "iopub.status.busy": "2021-01-15T09:16:41.445322Z",
     "iopub.status.idle": "2021-01-15T09:16:41.446837Z",
     "shell.execute_reply": "2021-01-15T09:16:41.447303Z"
    }
   },
   "outputs": [],
   "source": [
    "models_fit = models.copy()"
   ]
  },
  {
   "cell_type": "code",
   "execution_count": 13,
   "metadata": {
    "execution": {
     "iopub.execute_input": "2021-01-15T09:16:41.451631Z",
     "iopub.status.busy": "2021-01-15T09:16:41.450614Z",
     "iopub.status.idle": "2021-01-15T09:16:41.452134Z",
     "shell.execute_reply": "2021-01-15T09:16:41.452591Z"
    }
   },
   "outputs": [],
   "source": [
    "# We do not want to fit the background in this case, so we will freeze the parameters\n",
    "models_fit[\"dataset-simu-bkg\"].spectral_model.norm.frozen = True\n",
    "models_fit[\"dataset-simu-bkg\"].spectral_model.tilt.frozen = True"
   ]
  },
  {
   "cell_type": "code",
   "execution_count": 14,
   "metadata": {
    "execution": {
     "iopub.execute_input": "2021-01-15T09:16:41.457396Z",
     "iopub.status.busy": "2021-01-15T09:16:41.456483Z",
     "iopub.status.idle": "2021-01-15T09:16:41.458849Z",
     "shell.execute_reply": "2021-01-15T09:16:41.459342Z"
    }
   },
   "outputs": [
    {
     "name": "stdout",
     "output_type": "stream",
     "text": [
      "DatasetModels\n",
      "\n",
      "Component 0: SkyModel\n",
      "\n",
      "  Name                      : model-simu\n",
      "  Datasets names            : None\n",
      "  Spectral model type       : PowerLawSpectralModel\n",
      "  Spatial  model type       : GaussianSpatialModel\n",
      "  Temporal model type       : \n",
      "  Parameters:\n",
      "    index                   :   3.000              \n",
      "    amplitude               :   1.00e-11  1 / (cm2 s TeV)\n",
      "    reference    (frozen)   :   1.000  TeV         \n",
      "    lon_0                   :   0.200  deg         \n",
      "    lat_0                   :   0.100  deg         \n",
      "    sigma                   :   0.300  deg         \n",
      "    e            (frozen)   :   0.000              \n",
      "    phi          (frozen)   :   0.000  deg         \n",
      "\n",
      "Component 1: FoVBackgroundModel\n",
      "\n",
      "  Name                      : dataset-simu-bkg\n",
      "  Datasets names            : ['dataset-simu']\n",
      "  Spectral model type       : PowerLawNormSpectralModel\n",
      "  Parameters:\n",
      "    norm         (frozen)   :   1.000              \n",
      "    tilt         (frozen)   :   0.000              \n",
      "    reference    (frozen)   :   1.000  TeV         \n",
      "\n",
      "\n"
     ]
    }
   ],
   "source": [
    "dataset.models = models_fit\n",
    "print(dataset.models)"
   ]
  },
  {
   "cell_type": "code",
   "execution_count": 15,
   "metadata": {
    "execution": {
     "iopub.execute_input": "2021-01-15T09:16:41.465632Z",
     "iopub.status.busy": "2021-01-15T09:16:41.464954Z",
     "iopub.status.idle": "2021-01-15T09:16:48.799678Z",
     "shell.execute_reply": "2021-01-15T09:16:48.798946Z"
    }
   },
   "outputs": [
    {
     "name": "stdout",
     "output_type": "stream",
     "text": [
      "┌──────────────────────────────────┬──────────────────────────────────────┐\n",
      "│ FCN = 5.628e+05                  │        Nfcn = 114 (114 total)        │\n",
      "│ EDM = 0.000152 (Goal: 0.0002)    │                                      │\n",
      "├───────────────┬──────────────────┼──────────────────────────────────────┤\n",
      "│ Valid Minimum │ Valid Parameters │       SOME Parameters at limit       │\n",
      "├───────────────┴──────────────────┼──────────────────────────────────────┤\n",
      "│ Below EDM threshold (goal x 10)  │           Below call limit           │\n",
      "├───────────────┬──────────────────┼───────────┬─────────────┬────────────┤\n",
      "│   Hesse ok    │  Has Covariance  │ Accurate  │  Pos. def.  │ Not forced │\n",
      "└───────────────┴──────────────────┴───────────┴─────────────┴────────────┘\n",
      "CPU times: user 7.32 s, sys: 10.6 ms, total: 7.33 s\n",
      "Wall time: 7.33 s\n"
     ]
    }
   ],
   "source": [
    "%%time\n",
    "fit = Fit([dataset])\n",
    "result = fit.run(optimize_opts={\"print_level\": 1})"
   ]
  },
  {
   "cell_type": "code",
   "execution_count": 16,
   "metadata": {
    "execution": {
     "iopub.execute_input": "2021-01-15T09:16:48.804838Z",
     "iopub.status.busy": "2021-01-15T09:16:48.804317Z",
     "iopub.status.idle": "2021-01-15T09:16:49.459452Z",
     "shell.execute_reply": "2021-01-15T09:16:49.458718Z"
    },
    "nbsphinx-thumbnail": {
     "tooltip": "Simulate a 3D observation of a source with the CTA 1DC response and fit it with the assumed source model."
    }
   },
   "outputs": [
    {
     "name": "stderr",
     "output_type": "stream",
     "text": [
      "/usr/share/miniconda/envs/gammapy-dev/lib/python3.7/site-packages/astropy/visualization/wcsaxes/core.py:211: MatplotlibDeprecationWarning: Passing parameters norm and vmin/vmax simultaneously is deprecated since 3.3 and will become an error two minor releases later. Please pass vmin/vmax directly to the norm when creating it.\n",
      "  return super().imshow(X, *args, origin=origin, **kwargs)\n"
     ]
    },
    {
     "data": {
      "text/plain": [
       "<WCSAxesSubplot:xlabel='Galactic Longitude', ylabel='Galactic Latitude'>"
      ]
     },
     "execution_count": 1,
     "metadata": {},
     "output_type": "execute_result"
    },
    {
     "data": {
      "image/png": "[encoded data removed]",
      "text/plain": [
       "<Figure size 432x288 with 2 Axes>"
      ]
     },
     "metadata": {
      "needs_background": "light"
     },
     "output_type": "display_data"
    }
   ],
   "source": [
    "dataset.plot_residuals_spatial(method=\"diff/sqrt(model)\", vmin=-0.5, vmax=0.5)"
   ]
  },
  {
   "cell_type": "markdown",
   "metadata": {},
   "source": [
    "Compare the injected and fitted models: "
   ]
  },
  {
   "cell_type": "code",
   "execution_count": 17,
   "metadata": {
    "execution": {
     "iopub.execute_input": "2021-01-15T09:16:49.465066Z",
     "iopub.status.busy": "2021-01-15T09:16:49.464089Z",
     "iopub.status.idle": "2021-01-15T09:16:49.466558Z",
     "shell.execute_reply": "2021-01-15T09:16:49.467029Z"
    }
   },
   "outputs": [
    {
     "name": "stdout",
     "output_type": "stream",
     "text": [
      "True model: \n",
      " SkyModel\n",
      "\n",
      "  Name                      : model-simu\n",
      "  Datasets names            : None\n",
      "  Spectral model type       : PowerLawSpectralModel\n",
      "  Spatial  model type       : GaussianSpatialModel\n",
      "  Temporal model type       : \n",
      "  Parameters:\n",
      "    index                   :   3.000              \n",
      "    amplitude               :   1.00e-11  1 / (cm2 s TeV)\n",
      "    reference    (frozen)   :   1.000  TeV         \n",
      "    lon_0                   :   0.200  deg         \n",
      "    lat_0                   :   0.100  deg         \n",
      "    sigma                   :   0.300  deg         \n",
      "    e            (frozen)   :   0.000              \n",
      "    phi          (frozen)   :   0.000  deg         \n",
      "\n",
      " \n",
      "\n",
      " Fitted model: \n",
      " SkyModel\n",
      "\n",
      "  Name                      : model-simu\n",
      "  Datasets names            : None\n",
      "  Spectral model type       : PowerLawSpectralModel\n",
      "  Spatial  model type       : GaussianSpatialModel\n",
      "  Temporal model type       : \n",
      "  Parameters:\n",
      "    index                   :   3.003              \n",
      "    amplitude               :   1.00e-11  1 / (cm2 s TeV)\n",
      "    reference    (frozen)   :   1.000  TeV         \n",
      "    lon_0                   :   0.198  deg         \n",
      "    lat_0                   :   0.103  deg         \n",
      "    sigma                   :   0.297  deg         \n",
      "    e            (frozen)   :   0.000              \n",
      "    phi          (frozen)   :   0.000  deg         \n",
      "\n",
      "\n"
     ]
    }
   ],
   "source": [
    "print(\n",
    "    \"True model: \\n\",\n",
    "    model_simu,\n",
    "    \"\\n\\n Fitted model: \\n\",\n",
    "    models_fit[\"model-simu\"],\n",
    ")"
   ]
  },
  {
   "cell_type": "markdown",
   "metadata": {},
   "source": [
    "Get the errors on the fitted parameters from the parameter table"
   ]
  },
  {
   "cell_type": "code",
   "execution_count": 18,
   "metadata": {
    "execution": {
     "iopub.execute_input": "2021-01-15T09:16:49.474567Z",
     "iopub.status.busy": "2021-01-15T09:16:49.473895Z",
     "iopub.status.idle": "2021-01-15T09:16:49.476232Z",
     "shell.execute_reply": "2021-01-15T09:16:49.476904Z"
    }
   },
   "outputs": [
    {
     "data": {
      "text/html": [
       "<i>Table length=11</i>\n",
       "<table id=\"table140278692553560\" class=\"table-striped table-bordered table-condensed\">\n",
       "<thead><tr><th>type</th><th>name</th><th>value</th><th>unit</th><th>min</th><th>max</th><th>frozen</th><th>error</th></tr></thead>\n",
       "<thead><tr><th>str8</th><th>str9</th><th>float64</th><th>str14</th><th>float64</th><th>float64</th><th>bool</th><th>float64</th></tr></thead>\n",
       "<tr><td>spectral</td><td>index</td><td>3.0030e+00</td><td></td><td>nan</td><td>nan</td><td>False</td><td>1.975e-02</td></tr>\n",
       "<tr><td>spectral</td><td>amplitude</td><td>1.0022e-11</td><td>cm-2 s-1 TeV-1</td><td>nan</td><td>nan</td><td>False</td><td>3.250e-13</td></tr>\n",
       "<tr><td>spectral</td><td>reference</td><td>1.0000e+00</td><td>TeV</td><td>nan</td><td>nan</td><td>True</td><td>0.000e+00</td></tr>\n",
       "<tr><td>spatial</td><td>lon_0</td><td>1.9792e-01</td><td>deg</td><td>nan</td><td>nan</td><td>False</td><td>5.783e-03</td></tr>\n",
       "<tr><td>spatial</td><td>lat_0</td><td>1.0292e-01</td><td>deg</td><td>-9.000e+01</td><td>9.000e+01</td><td>False</td><td>5.836e-03</td></tr>\n",
       "<tr><td>spatial</td><td>sigma</td><td>2.9735e-01</td><td>deg</td><td>0.000e+00</td><td>nan</td><td>False</td><td>3.906e-03</td></tr>\n",
       "<tr><td>spatial</td><td>e</td><td>0.0000e+00</td><td></td><td>0.000e+00</td><td>1.000e+00</td><td>True</td><td>0.000e+00</td></tr>\n",
       "<tr><td>spatial</td><td>phi</td><td>0.0000e+00</td><td>deg</td><td>nan</td><td>nan</td><td>True</td><td>0.000e+00</td></tr>\n",
       "<tr><td>spectral</td><td>norm</td><td>1.0000e+00</td><td></td><td>nan</td><td>nan</td><td>True</td><td>0.000e+00</td></tr>\n",
       "<tr><td>spectral</td><td>tilt</td><td>0.0000e+00</td><td></td><td>nan</td><td>nan</td><td>True</td><td>0.000e+00</td></tr>\n",
       "<tr><td>spectral</td><td>reference</td><td>1.0000e+00</td><td>TeV</td><td>nan</td><td>nan</td><td>True</td><td>0.000e+00</td></tr>\n",
       "</table>"
      ],
      "text/plain": [
       "<Table length=11>\n",
       "  type      name     value         unit      ...    max    frozen   error  \n",
       "  str8      str9    float64       str14      ...  float64   bool   float64 \n",
       "-------- --------- ---------- -------------- ... --------- ------ ---------\n",
       "spectral     index 3.0030e+00                ...       nan  False 1.975e-02\n",
       "spectral amplitude 1.0022e-11 cm-2 s-1 TeV-1 ...       nan  False 3.250e-13\n",
       "spectral reference 1.0000e+00            TeV ...       nan   True 0.000e+00\n",
       " spatial     lon_0 1.9792e-01            deg ...       nan  False 5.783e-03\n",
       " spatial     lat_0 1.0292e-01            deg ... 9.000e+01  False 5.836e-03\n",
       " spatial     sigma 2.9735e-01            deg ...       nan  False 3.906e-03\n",
       " spatial         e 0.0000e+00                ... 1.000e+00   True 0.000e+00\n",
       " spatial       phi 0.0000e+00            deg ...       nan   True 0.000e+00\n",
       "spectral      norm 1.0000e+00                ...       nan   True 0.000e+00\n",
       "spectral      tilt 0.0000e+00                ...       nan   True 0.000e+00\n",
       "spectral reference 1.0000e+00            TeV ...       nan   True 0.000e+00"
      ]
     },
     "execution_count": 1,
     "metadata": {},
     "output_type": "execute_result"
    }
   ],
   "source": [
    "result.parameters.to_table()"
   ]
  },
  {
   "cell_type": "code",
   "execution_count": null,
   "metadata": {},
   "outputs": [],
   "source": []
  }
 ],
 "metadata": {
  "kernelspec": {
   "display_name": "Python 3",
   "language": "python",
   "name": "python3"
  },
  "language_info": {
   "codemirror_mode": {
    "name": "ipython",
    "version": 3
   },
   "file_extension": ".py",
   "mimetype": "text/x-python",
   "name": "python",
   "nbconvert_exporter": "python",
   "pygments_lexer": "ipython3",
   "version": "3.7.0"
  },
  "nbsphinx": {
   "orphan": true
  },
  "widgets": {
   "application/vnd.jupyter.widget-state+json": {
    "state": {
     "3e5985a8f37944aeb48458ab488b3308": {
      "model_module": "@jupyter-widgets/base",
      "model_module_version": "1.2.0",
      "model_name": "LayoutModel",
      "state": {
       "_model_module": "@jupyter-widgets/base",
       "_model_module_version": "1.2.0",
       "_model_name": "LayoutModel",
       "_view_count": null,
       "_view_module": "@jupyter-widgets/base",
       "_view_module_version": "1.2.0",
       "_view_name": "LayoutView",
       "align_content": null,
       "align_items": null,
       "align_self": null,
       "border": null,
       "bottom": null,
       "display": null,
       "flex": null,
       "flex_flow": null,
       "grid_area": null,
       "grid_auto_columns": null,
       "grid_auto_flow": null,
       "grid_auto_rows": null,
       "grid_column": null,
       "grid_gap": null,
       "grid_row": null,
       "grid_template_areas": null,
       "grid_template_columns": null,
       "grid_template_rows": null,
       "height": null,
       "justify_content": null,
       "justify_items": null,
       "left": null,
       "margin": null,
       "max_height": null,
       "max_width": null,
       "min_height": null,
       "min_width": null,
       "object_fit": null,
       "object_position": null,
       "order": null,
       "overflow": null,
       "overflow_x": null,
       "overflow_y": null,
       "padding": null,
       "right": null,
       "top": null,
       "visibility": null,
       "width": "50%"
      }
     },
     "40e11d3cbd3a497c8a27bf424a7344e0": {
      "model_module": "@jupyter-widgets/controls",
      "model_module_version": "1.5.0",
      "model_name": "DescriptionStyleModel",
      "state": {
       "_model_module": "@jupyter-widgets/controls",
       "_model_module_version": "1.5.0",
       "_model_name": "DescriptionStyleModel",
       "_view_count": null,
       "_view_module": "@jupyter-widgets/base",
       "_view_module_version": "1.2.0",
       "_view_name": "StyleView",
       "description_width": "initial"
      }
     },
     "672fff72991d41d4893b179130cc5765": {
      "model_module": "@jupyter-widgets/controls",
      "model_module_version": "1.5.0",
      "model_name": "DescriptionStyleModel",
      "state": {
       "_model_module": "@jupyter-widgets/controls",
       "_model_module_version": "1.5.0",
       "_model_name": "DescriptionStyleModel",
       "_view_count": null,
       "_view_module": "@jupyter-widgets/base",
       "_view_module_version": "1.2.0",
       "_view_name": "StyleView",
       "description_width": "initial"
      }
     },
     "a0b81bdbc5fc4d98ae64eee7bad1e6da": {
      "model_module": "@jupyter-widgets/controls",
      "model_module_version": "1.5.0",
      "model_name": "RadioButtonsModel",
      "state": {
       "_dom_classes": [],
       "_model_module": "@jupyter-widgets/controls",
       "_model_module_version": "1.5.0",
       "_model_name": "RadioButtonsModel",
       "_options_labels": [
        "linear",
        "sqrt",
        "log"
       ],
       "_view_count": null,
       "_view_module": "@jupyter-widgets/controls",
       "_view_module_version": "1.5.0",
       "_view_name": "RadioButtonsView",
       "description": "Select stretch:",
       "description_tooltip": null,
       "disabled": false,
       "index": 0,
       "layout": "IPY_MODEL_b485e8fced08482d9e8a3ca12f6c40e5",
       "style": "IPY_MODEL_672fff72991d41d4893b179130cc5765"
      }
     },
     "a1b77c1b60e14ca28b88295f0c9bb4c0": {
      "model_module": "@jupyter-widgets/controls",
      "model_module_version": "1.5.0",
      "model_name": "VBoxModel",
      "state": {
       "_dom_classes": [
        "widget-interact"
       ],
       "_model_module": "@jupyter-widgets/controls",
       "_model_module_version": "1.5.0",
       "_model_name": "VBoxModel",
       "_view_count": null,
       "_view_module": "@jupyter-widgets/controls",
       "_view_module_version": "1.5.0",
       "_view_name": "VBoxView",
       "box_style": "",
       "children": [
        "IPY_MODEL_b8726017558145afb1bad1f2a9786994",
        "IPY_MODEL_a0b81bdbc5fc4d98ae64eee7bad1e6da",
        "IPY_MODEL_bc3507eacf0d42d799fbfc5a828e94e3"
       ],
       "layout": "IPY_MODEL_d1a9c74d147349cb9c5d29edf89d8fd7"
      }
     },
     "b485e8fced08482d9e8a3ca12f6c40e5": {
      "model_module": "@jupyter-widgets/base",
      "model_module_version": "1.2.0",
      "model_name": "LayoutModel",
      "state": {
       "_model_module": "@jupyter-widgets/base",
       "_model_module_version": "1.2.0",
       "_model_name": "LayoutModel",
       "_view_count": null,
       "_view_module": "@jupyter-widgets/base",
       "_view_module_version": "1.2.0",
       "_view_name": "LayoutView",
       "align_content": null,
       "align_items": null,
       "align_self": null,
       "border": null,
       "bottom": null,
       "display": null,
       "flex": null,
       "flex_flow": null,
       "grid_area": null,
       "grid_auto_columns": null,
       "grid_auto_flow": null,
       "grid_auto_rows": null,
       "grid_column": null,
       "grid_gap": null,
       "grid_row": null,
       "grid_template_areas": null,
       "grid_template_columns": null,
       "grid_template_rows": null,
       "height": null,
       "justify_content": null,
       "justify_items": null,
       "left": null,
       "margin": null,
       "max_height": null,
       "max_width": null,
       "min_height": null,
       "min_width": null,
       "object_fit": null,
       "object_position": null,
       "order": null,
       "overflow": null,
       "overflow_x": null,
       "overflow_y": null,
       "padding": null,
       "right": null,
       "top": null,
       "visibility": null,
       "width": null
      }
     },
     "b8726017558145afb1bad1f2a9786994": {
      "model_module": "@jupyter-widgets/controls",
      "model_module_version": "1.5.0",
      "model_name": "SelectionSliderModel",
      "state": {
       "_dom_classes": [],
       "_model_module": "@jupyter-widgets/controls",
       "_model_module_version": "1.5.0",
       "_model_name": "SelectionSliderModel",
       "_options_labels": [
        "1.00e-01 TeV - 1.67e-01 TeV TeV",
        "1.67e-01 TeV - 2.78e-01 TeV TeV",
        "2.78e-01 TeV - 4.64e-01 TeV TeV",
        "4.64e-01 TeV - 7.74e-01 TeV TeV",
        "7.74e-01 TeV - 1.29e+00 TeV TeV",
        "1.29e+00 TeV - 2.15e+00 TeV TeV",
        "2.15e+00 TeV - 3.59e+00 TeV TeV",
        "3.59e+00 TeV - 5.99e+00 TeV TeV",
        "5.99e+00 TeV - 1.00e+01 TeV TeV"
       ],
       "_view_count": null,
       "_view_module": "@jupyter-widgets/controls",
       "_view_module_version": "1.5.0",
       "_view_name": "SelectionSliderView",
       "continuous_update": false,
       "description": "Select energy:",
       "description_tooltip": null,
       "disabled": false,
       "index": 0,
       "layout": "IPY_MODEL_3e5985a8f37944aeb48458ab488b3308",
       "orientation": "horizontal",
       "readout": true,
       "style": "IPY_MODEL_40e11d3cbd3a497c8a27bf424a7344e0"
      }
     },
     "bc3507eacf0d42d799fbfc5a828e94e3": {
      "model_module": "@jupyter-widgets/output",
      "model_module_version": "1.0.0",
      "model_name": "OutputModel",
      "state": {
       "_dom_classes": [],
       "_model_module": "@jupyter-widgets/output",
       "_model_module_version": "1.0.0",
       "_model_name": "OutputModel",
       "_view_count": null,
       "_view_module": "@jupyter-widgets/output",
       "_view_module_version": "1.0.0",
       "_view_name": "OutputView",
       "layout": "IPY_MODEL_c6632473e60e447b9f9db6dd8cc32c53",
       "msg_id": "",
       "outputs": [
        {
         "data": {
          "image/png": "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\n",
          "text/plain": "<Figure size 432x288 with 2 Axes>"
         },
         "metadata": {
          "needs_background": "light"
         },
         "output_type": "display_data"
        }
       ]
      }
     },
     "c6632473e60e447b9f9db6dd8cc32c53": {
      "model_module": "@jupyter-widgets/base",
      "model_module_version": "1.2.0",
      "model_name": "LayoutModel",
      "state": {
       "_model_module": "@jupyter-widgets/base",
       "_model_module_version": "1.2.0",
       "_model_name": "LayoutModel",
       "_view_count": null,
       "_view_module": "@jupyter-widgets/base",
       "_view_module_version": "1.2.0",
       "_view_name": "LayoutView",
       "align_content": null,
       "align_items": null,
       "align_self": null,
       "border": null,
       "bottom": null,
       "display": null,
       "flex": null,
       "flex_flow": null,
       "grid_area": null,
       "grid_auto_columns": null,
       "grid_auto_flow": null,
       "grid_auto_rows": null,
       "grid_column": null,
       "grid_gap": null,
       "grid_row": null,
       "grid_template_areas": null,
       "grid_template_columns": null,
       "grid_template_rows": null,
       "height": null,
       "justify_content": null,
       "justify_items": null,
       "left": null,
       "margin": null,
       "max_height": null,
       "max_width": null,
       "min_height": null,
       "min_width": null,
       "object_fit": null,
       "object_position": null,
       "order": null,
       "overflow": null,
       "overflow_x": null,
       "overflow_y": null,
       "padding": null,
       "right": null,
       "top": null,
       "visibility": null,
       "width": null
      }
     },
     "d1a9c74d147349cb9c5d29edf89d8fd7": {
      "model_module": "@jupyter-widgets/base",
      "model_module_version": "1.2.0",
      "model_name": "LayoutModel",
      "state": {
       "_model_module": "@jupyter-widgets/base",
       "_model_module_version": "1.2.0",
       "_model_name": "LayoutModel",
       "_view_count": null,
       "_view_module": "@jupyter-widgets/base",
       "_view_module_version": "1.2.0",
       "_view_name": "LayoutView",
       "align_content": null,
       "align_items": null,
       "align_self": null,
       "border": null,
       "bottom": null,
       "display": null,
       "flex": null,
       "flex_flow": null,
       "grid_area": null,
       "grid_auto_columns": null,
       "grid_auto_flow": null,
       "grid_auto_rows": null,
       "grid_column": null,
       "grid_gap": null,
       "grid_row": null,
       "grid_template_areas": null,
       "grid_template_columns": null,
       "grid_template_rows": null,
       "height": null,
       "justify_content": null,
       "justify_items": null,
       "left": null,
       "margin": null,
       "max_height": null,
       "max_width": null,
       "min_height": null,
       "min_width": null,
       "object_fit": null,
       "object_position": null,
       "order": null,
       "overflow": null,
       "overflow_x": null,
       "overflow_y": null,
       "padding": null,
       "right": null,
       "top": null,
       "visibility": null,
       "width": null
      }
     }
    },
    "version_major": 2,
    "version_minor": 0
   }
  }
 },
 "nbformat": 4,
 "nbformat_minor": 4
}
