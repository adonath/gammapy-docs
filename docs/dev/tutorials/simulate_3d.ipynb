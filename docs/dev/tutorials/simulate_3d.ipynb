{
 "cells": [
  {
   "cell_type": "markdown",
   "metadata": {},
   "source": [
    "\n",
    "<div class=\"alert alert-info\">\n",
    "\n",
    "**This is a fixed-text formatted version of a Jupyter notebook**\n",
    "\n",
    "- Try online [![Binder](https://static.mybinder.org/badge.svg)](https://mybinder.org/v2/gh/gammapy/gammapy-webpage/master?urlpath=lab/tree/simulate_3d.ipynb)\n",
    "- You can contribute with your own notebooks in this\n",
    "[GitHub repository](https://github.com/gammapy/gammapy/tree/master/docs/tutorials).\n",
    "- **Source files:**\n",
    "[simulate_3d.ipynb](../_static/notebooks/simulate_3d.ipynb) |\n",
    "[simulate_3d.py](../_static/notebooks/simulate_3d.py)\n",
    "</div>\n"
   ]
  },
  {
   "cell_type": "markdown",
   "metadata": {},
   "source": [
    "# 3D map simulation\n",
    "\n",
    "## Prerequisites\n",
    "\n",
    "- Knowledge of 3D extraction and datasets used in gammapy, see for instance the [first analysis tutorial](analysis_1.ipynb)\n",
    "\n",
    "## Context\n",
    "\n",
    "To simulate a specific observation, it is not always necessary to simulate the full photon list. For many uses cases, simulating directly a reduced binned dataset is enough: the IRFs reduced in the correct geometry are combined with a source model to predict an actual number of counts per bin. The latter is then used to simulate a reduced dataset using Poisson probability distribution.\n",
    "\n",
    "This can be done to check the feasibility of a measurement (performance / sensitivity study), to test whether fitted parameters really provide a good fit to the data etc.\n",
    "\n",
    "Here we will see how to perform a 3D simulation of a CTA observation, assuming both the spectral and spatial morphology of an observed source.\n",
    "\n",
    "**Objective: simulate a 3D observation of a source with CTA using the CTA 1DC response and fit it with the assumed source model.**\n",
    "\n",
    "## Proposed approach:\n",
    "\n",
    "Here we can't use the regular observation objects that are connected to a `DataStore`. Instead we will create a fake `~gammapy.data.Observation` that contain some pointing information and the CTA 1DC IRFs (that are loaded with `~gammapy.irf.load_cta_irfs`).\n",
    "\n",
    "Then we will create a `~gammapy.datasets.MapDataset` geometry and create it with the `~gammapy.makers.MapDatasetMaker`.\n",
    "\n",
    "Then we will be able to define a model consisting of  a `~gammapy.modeling.models.PowerLawSpectralModel` and a `~gammapy.modeling.models.GaussianSpatialModel`. We will assign it to the dataset and fake the count data.\n"
   ]
  },
  {
   "cell_type": "markdown",
   "metadata": {},
   "source": [
    "## Imports and versions"
   ]
  },
  {
   "cell_type": "code",
   "execution_count": 1,
   "metadata": {
    "execution": {
     "iopub.execute_input": "2021-01-23T10:02:10.585454Z",
     "iopub.status.busy": "2021-01-23T10:02:10.584537Z",
     "iopub.status.idle": "2021-01-23T10:02:10.906667Z",
     "shell.execute_reply": "2021-01-23T10:02:10.907276Z"
    }
   },
   "outputs": [],
   "source": [
    "%matplotlib inline"
   ]
  },
  {
   "cell_type": "code",
   "execution_count": 2,
   "metadata": {
    "execution": {
     "iopub.execute_input": "2021-01-23T10:02:10.911956Z",
     "iopub.status.busy": "2021-01-23T10:02:10.911343Z",
     "iopub.status.idle": "2021-01-23T10:02:11.940672Z",
     "shell.execute_reply": "2021-01-23T10:02:11.941001Z"
    }
   },
   "outputs": [],
   "source": [
    "import numpy as np\n",
    "import astropy.units as u\n",
    "from astropy.coordinates import SkyCoord\n",
    "from gammapy.irf import load_cta_irfs\n",
    "from gammapy.maps import WcsGeom, MapAxis\n",
    "from gammapy.modeling.models import (\n",
    "    PowerLawSpectralModel,\n",
    "    GaussianSpatialModel,\n",
    "    SkyModel,\n",
    "    Models,\n",
    "    FoVBackgroundModel,\n",
    ")\n",
    "from gammapy.makers import MapDatasetMaker, SafeMaskMaker\n",
    "from gammapy.modeling import Fit\n",
    "from gammapy.data import Observation\n",
    "from gammapy.datasets import MapDataset"
   ]
  },
  {
   "cell_type": "code",
   "execution_count": 3,
   "metadata": {
    "execution": {
     "iopub.execute_input": "2021-01-23T10:02:11.944418Z",
     "iopub.status.busy": "2021-01-23T10:02:11.943851Z",
     "iopub.status.idle": "2021-01-23T10:02:13.904230Z",
     "shell.execute_reply": "2021-01-23T10:02:13.905061Z"
    }
   },
   "outputs": [
    {
     "name": "stdout",
     "output_type": "stream",
     "text": [
      "\r\n",
      "Gammapy package:\r\n",
      "\r\n",
      "\tversion                : 0.18.3.dev429+g6f9fa30bd.d20210123 \r\n",
      "\tpath                   : /Users/jer/git/gammapy/gammapy/gammapy \r\n",
      "\r\n"
     ]
    }
   ],
   "source": [
    "!gammapy info --no-envvar --no-dependencies --no-system"
   ]
  },
  {
   "cell_type": "markdown",
   "metadata": {},
   "source": [
    "## Simulation"
   ]
  },
  {
   "cell_type": "markdown",
   "metadata": {},
   "source": [
    "We will simulate using the CTA-1DC IRFs shipped with gammapy. Note that for dedictaed CTA simulations, you can simply use [`Observation.from_caldb()`]() without having to externally load the IRFs"
   ]
  },
  {
   "cell_type": "code",
   "execution_count": 4,
   "metadata": {
    "execution": {
     "iopub.execute_input": "2021-01-23T10:02:13.911229Z",
     "iopub.status.busy": "2021-01-23T10:02:13.910614Z",
     "iopub.status.idle": "2021-01-23T10:02:13.993733Z",
     "shell.execute_reply": "2021-01-23T10:02:13.994311Z"
    }
   },
   "outputs": [
    {
     "name": "stderr",
     "output_type": "stream",
     "text": [
      "Invalid unit found in background table! Assuming (s-1 MeV-1 sr-1)\n"
     ]
    }
   ],
   "source": [
    "# Loading IRFs\n",
    "irfs = load_cta_irfs(\n",
    "    \"$GAMMAPY_DATA/cta-1dc/caldb/data/cta/1dc/bcf/South_z20_50h/irf_file.fits\"\n",
    ")"
   ]
  },
  {
   "cell_type": "code",
   "execution_count": 5,
   "metadata": {
    "execution": {
     "iopub.execute_input": "2021-01-23T10:02:13.999191Z",
     "iopub.status.busy": "2021-01-23T10:02:13.998623Z",
     "iopub.status.idle": "2021-01-23T10:02:14.000360Z",
     "shell.execute_reply": "2021-01-23T10:02:14.000943Z"
    }
   },
   "outputs": [],
   "source": [
    "# Define the observation parameters (typically the observation duration and the pointing position):\n",
    "livetime = 2.0 * u.hr\n",
    "pointing = SkyCoord(0, 0, unit=\"deg\", frame=\"galactic\")"
   ]
  },
  {
   "cell_type": "code",
   "execution_count": 6,
   "metadata": {
    "execution": {
     "iopub.execute_input": "2021-01-23T10:02:14.013697Z",
     "iopub.status.busy": "2021-01-23T10:02:14.013194Z",
     "iopub.status.idle": "2021-01-23T10:02:14.018158Z",
     "shell.execute_reply": "2021-01-23T10:02:14.018641Z"
    }
   },
   "outputs": [],
   "source": [
    "# Define map geometry for binned simulation\n",
    "energy_reco = MapAxis.from_edges(\n",
    "    np.logspace(-1.0, 1.0, 10), unit=\"TeV\", name=\"energy\", interp=\"log\"\n",
    ")\n",
    "geom = WcsGeom.create(\n",
    "    skydir=(0, 0),\n",
    "    binsz=0.02,\n",
    "    width=(6, 6),\n",
    "    frame=\"galactic\",\n",
    "    axes=[energy_reco],\n",
    ")\n",
    "# It is usually useful to have a separate binning for the true energy axis\n",
    "energy_true = MapAxis.from_edges(\n",
    "    np.logspace(-1.5, 1.5, 30), unit=\"TeV\", name=\"energy\", interp=\"log\"\n",
    ")\n",
    "\n",
    "empty = MapDataset.create(geom, name=\"dataset-simu\")"
   ]
  },
  {
   "cell_type": "code",
   "execution_count": 7,
   "metadata": {
    "execution": {
     "iopub.execute_input": "2021-01-23T10:02:14.034313Z",
     "iopub.status.busy": "2021-01-23T10:02:14.033760Z",
     "iopub.status.idle": "2021-01-23T10:02:14.036177Z",
     "shell.execute_reply": "2021-01-23T10:02:14.036645Z"
    }
   },
   "outputs": [
    {
     "name": "stdout",
     "output_type": "stream",
     "text": [
      "Models\n",
      "\n",
      "Component 0: SkyModel\n",
      "\n",
      "  Name                      : model-simu\n",
      "  Datasets names            : None\n",
      "  Spectral model type       : PowerLawSpectralModel\n",
      "  Spatial  model type       : GaussianSpatialModel\n",
      "  Temporal model type       : \n",
      "  Parameters:\n",
      "    index                   :   3.000              \n",
      "    amplitude               :   1.00e-11  1 / (cm2 s TeV)\n",
      "    reference    (frozen)   :   1.000  TeV         \n",
      "    lon_0                   :   0.200  deg         \n",
      "    lat_0                   :   0.100  deg         \n",
      "    sigma                   :   0.300  deg         \n",
      "    e            (frozen)   :   0.000              \n",
      "    phi          (frozen)   :   0.000  deg         \n",
      "\n",
      "Component 1: FoVBackgroundModel\n",
      "\n",
      "  Name                      : dataset-simu-bkg\n",
      "  Datasets names            : ['dataset-simu']\n",
      "  Spectral model type       : PowerLawNormSpectralModel\n",
      "  Parameters:\n",
      "    norm                    :   1.000              \n",
      "    tilt         (frozen)   :   0.000              \n",
      "    reference    (frozen)   :   1.000  TeV         \n",
      "\n",
      "\n"
     ]
    }
   ],
   "source": [
    "# Define sky model to used simulate the data.\n",
    "# Here we use a Gaussian spatial model and a Power Law spectral model.\n",
    "spatial_model = GaussianSpatialModel(\n",
    "    lon_0=\"0.2 deg\", lat_0=\"0.1 deg\", sigma=\"0.3 deg\", frame=\"galactic\"\n",
    ")\n",
    "spectral_model = PowerLawSpectralModel(\n",
    "    index=3, amplitude=\"1e-11 cm-2 s-1 TeV-1\", reference=\"1 TeV\"\n",
    ")\n",
    "model_simu = SkyModel(\n",
    "    spatial_model=spatial_model,\n",
    "    spectral_model=spectral_model,\n",
    "    name=\"model-simu\",\n",
    ")\n",
    "\n",
    "bkg_model = FoVBackgroundModel(dataset_name=\"dataset-simu\")\n",
    "\n",
    "models = Models([model_simu, bkg_model])\n",
    "print(models)"
   ]
  },
  {
   "cell_type": "markdown",
   "metadata": {},
   "source": [
    "Now, comes the main part of dataset simulation. We create an in-memory observation and an empty dataset. We then predict the number of counts for the given model, and Poission fluctuate it using `fake()` to make a simulated counts maps. Keep in mind that it is important to specify the `selection` of the maps that you want to produce "
   ]
  },
  {
   "cell_type": "code",
   "execution_count": 8,
   "metadata": {
    "execution": {
     "iopub.execute_input": "2021-01-23T10:02:14.048983Z",
     "iopub.status.busy": "2021-01-23T10:02:14.048229Z",
     "iopub.status.idle": "2021-01-23T10:02:14.050634Z",
     "shell.execute_reply": "2021-01-23T10:02:14.051203Z"
    }
   },
   "outputs": [
    {
     "name": "stdout",
     "output_type": "stream",
     "text": [
      "Observation\n",
      "\n",
      "\tobs id            : 0 \n",
      " \ttstart            : 51544.00\n",
      "\ttstop             : 51544.08\n",
      "\tduration          : 7200.00 s\n",
      "\tpointing (icrs)   : 266.4 deg, -28.9 deg\n",
      "\n",
      "\tdeadtime fraction : 0.0%\n",
      "\n"
     ]
    }
   ],
   "source": [
    "# Create an in-memory observation\n",
    "obs = Observation.create(pointing=pointing, livetime=livetime, irfs=irfs)\n",
    "print(obs)"
   ]
  },
  {
   "cell_type": "code",
   "execution_count": 9,
   "metadata": {
    "execution": {
     "iopub.execute_input": "2021-01-23T10:02:14.057264Z",
     "iopub.status.busy": "2021-01-23T10:02:14.056777Z",
     "iopub.status.idle": "2021-01-23T10:02:15.960865Z",
     "shell.execute_reply": "2021-01-23T10:02:15.961339Z"
    }
   },
   "outputs": [
    {
     "name": "stdout",
     "output_type": "stream",
     "text": [
      "MapDataset\n",
      "----------\n",
      "\n",
      "  Name                            : dataset-simu \n",
      "\n",
      "  Total counts                    : nan \n",
      "  Total background counts         : 161250.95\n",
      "  Total excess counts             : nan\n",
      "\n",
      "  Predicted counts                : 161250.95\n",
      "  Predicted background counts     : 161250.95\n",
      "  Predicted excess counts         : nan\n",
      "\n",
      "  Exposure min                    : 6.41e+07 m2 s\n",
      "  Exposure max                    : 2.53e+10 m2 s\n",
      "\n",
      "  Number of total bins            : 0 \n",
      "  Number of fit bins              : 804492 \n",
      "\n",
      "  Fit statistic type              : cash\n",
      "  Fit statistic value (-2 log(L)) : nan\n",
      "\n",
      "  Number of models                : 0 \n",
      "  Number of parameters            : 0\n",
      "  Number of free parameters       : 0\n",
      "\n",
      "\n"
     ]
    }
   ],
   "source": [
    "# Make the MapDataset\n",
    "maker = MapDatasetMaker(selection=[\"exposure\", \"background\", \"psf\", \"edisp\"])\n",
    "\n",
    "maker_safe_mask = SafeMaskMaker(methods=[\"offset-max\"], offset_max=4.0 * u.deg)\n",
    "\n",
    "dataset = maker.run(empty, obs)\n",
    "dataset = maker_safe_mask.run(dataset, obs)\n",
    "print(dataset)"
   ]
  },
  {
   "cell_type": "code",
   "execution_count": 10,
   "metadata": {
    "execution": {
     "iopub.execute_input": "2021-01-23T10:02:15.965070Z",
     "iopub.status.busy": "2021-01-23T10:02:15.964608Z",
     "iopub.status.idle": "2021-01-23T10:02:16.585031Z",
     "shell.execute_reply": "2021-01-23T10:02:16.585514Z"
    }
   },
   "outputs": [
    {
     "name": "stdout",
     "output_type": "stream",
     "text": [
      "MapDataset\n",
      "----------\n",
      "\n",
      "  Name                            : dataset-simu \n",
      "\n",
      "  Total counts                    : 170035 \n",
      "  Total background counts         : 161250.95\n",
      "  Total excess counts             : 8784.05\n",
      "\n",
      "  Predicted counts                : 169690.16\n",
      "  Predicted background counts     : 161250.95\n",
      "  Predicted excess counts         : 8439.22\n",
      "\n",
      "  Exposure min                    : 6.41e+07 m2 s\n",
      "  Exposure max                    : 2.53e+10 m2 s\n",
      "\n",
      "  Number of total bins            : 810000 \n",
      "  Number of fit bins              : 804492 \n",
      "\n",
      "  Fit statistic type              : cash\n",
      "  Fit statistic value (-2 log(L)) : 564345.85\n",
      "\n",
      "  Number of models                : 2 \n",
      "  Number of parameters            : 11\n",
      "  Number of free parameters       : 6\n",
      "\n",
      "  Component 0: SkyModel\n",
      "  \n",
      "    Name                      : model-simu\n",
      "    Datasets names            : None\n",
      "    Spectral model type       : PowerLawSpectralModel\n",
      "    Spatial  model type       : GaussianSpatialModel\n",
      "    Temporal model type       : \n",
      "    Parameters:\n",
      "      index                   :   3.000              \n",
      "      amplitude               :   1.00e-11  1 / (cm2 s TeV)\n",
      "      reference    (frozen)   :   1.000  TeV         \n",
      "      lon_0                   :   0.200  deg         \n",
      "      lat_0                   :   0.100  deg         \n",
      "      sigma                   :   0.300  deg         \n",
      "      e            (frozen)   :   0.000              \n",
      "      phi          (frozen)   :   0.000  deg         \n",
      "  \n",
      "  Component 1: FoVBackgroundModel\n",
      "  \n",
      "    Name                      : dataset-simu-bkg\n",
      "    Datasets names            : ['dataset-simu']\n",
      "    Spectral model type       : PowerLawNormSpectralModel\n",
      "    Parameters:\n",
      "      norm                    :   1.000              \n",
      "      tilt         (frozen)   :   0.000              \n",
      "      reference    (frozen)   :   1.000  TeV         \n",
      "  \n",
      "  \n"
     ]
    }
   ],
   "source": [
    "# Add the model on the dataset and Poission fluctuate\n",
    "dataset.models = models\n",
    "dataset.fake()\n",
    "# Do a print on the dataset - there is now a counts maps\n",
    "print(dataset)"
   ]
  },
  {
   "cell_type": "markdown",
   "metadata": {},
   "source": [
    "Now use this dataset as you would in all standard analysis. You can plot the maps, or proceed with your custom analysis. \n",
    "In the next section, we show the standard 3D fitting as in [analysis_3d](analysis_3d.ipynb)."
   ]
  },
  {
   "cell_type": "code",
   "execution_count": 11,
   "metadata": {
    "execution": {
     "iopub.execute_input": "2021-01-23T10:02:16.589210Z",
     "iopub.status.busy": "2021-01-23T10:02:16.588747Z",
     "iopub.status.idle": "2021-01-23T10:02:17.189046Z",
     "shell.execute_reply": "2021-01-23T10:02:17.189537Z"
    }
   },
   "outputs": [
    {
     "data": {
      "application/vnd.jupyter.widget-view+json": {
       "model_id": "06900ae1d9f146e8a9caac7dedb3dfb4",
       "version_major": 2,
       "version_minor": 0
      },
      "text/plain": [
       "interactive(children=(SelectionSlider(continuous_update=False, description='Select energy:', layout=Layout(wid…"
      ]
     },
     "metadata": {},
     "output_type": "display_data"
    }
   ],
   "source": [
    "# To plot, eg, counts:\n",
    "dataset.counts.smooth(0.05 * u.deg).plot_interactive(\n",
    "    add_cbar=True, stretch=\"linear\"\n",
    ")"
   ]
  },
  {
   "cell_type": "markdown",
   "metadata": {},
   "source": [
    "## Fit\n",
    "\n",
    "In this section, we do a usual 3D fit with the same model used to simulated the data and see the stability of the simulations. Often, it is useful to simulate many such datasets and look at the distribution of the reconstructed parameters."
   ]
  },
  {
   "cell_type": "code",
   "execution_count": 12,
   "metadata": {
    "execution": {
     "iopub.execute_input": "2021-01-23T10:02:17.194857Z",
     "iopub.status.busy": "2021-01-23T10:02:17.194319Z",
     "iopub.status.idle": "2021-01-23T10:02:17.197086Z",
     "shell.execute_reply": "2021-01-23T10:02:17.196596Z"
    }
   },
   "outputs": [],
   "source": [
    "models_fit = models.copy()"
   ]
  },
  {
   "cell_type": "code",
   "execution_count": 13,
   "metadata": {
    "execution": {
     "iopub.execute_input": "2021-01-23T10:02:17.200022Z",
     "iopub.status.busy": "2021-01-23T10:02:17.199558Z",
     "iopub.status.idle": "2021-01-23T10:02:17.201288Z",
     "shell.execute_reply": "2021-01-23T10:02:17.201764Z"
    }
   },
   "outputs": [],
   "source": [
    "# We do not want to fit the background in this case, so we will freeze the parameters\n",
    "models_fit[\"dataset-simu-bkg\"].spectral_model.norm.frozen = True\n",
    "models_fit[\"dataset-simu-bkg\"].spectral_model.tilt.frozen = True"
   ]
  },
  {
   "cell_type": "code",
   "execution_count": 14,
   "metadata": {
    "execution": {
     "iopub.execute_input": "2021-01-23T10:02:17.205265Z",
     "iopub.status.busy": "2021-01-23T10:02:17.204792Z",
     "iopub.status.idle": "2021-01-23T10:02:17.206606Z",
     "shell.execute_reply": "2021-01-23T10:02:17.207089Z"
    }
   },
   "outputs": [
    {
     "name": "stdout",
     "output_type": "stream",
     "text": [
      "DatasetModels\n",
      "\n",
      "Component 0: SkyModel\n",
      "\n",
      "  Name                      : model-simu\n",
      "  Datasets names            : None\n",
      "  Spectral model type       : PowerLawSpectralModel\n",
      "  Spatial  model type       : GaussianSpatialModel\n",
      "  Temporal model type       : \n",
      "  Parameters:\n",
      "    index                   :   3.000              \n",
      "    amplitude               :   1.00e-11  1 / (cm2 s TeV)\n",
      "    reference    (frozen)   :   1.000  TeV         \n",
      "    lon_0                   :   0.200  deg         \n",
      "    lat_0                   :   0.100  deg         \n",
      "    sigma                   :   0.300  deg         \n",
      "    e            (frozen)   :   0.000              \n",
      "    phi          (frozen)   :   0.000  deg         \n",
      "\n",
      "Component 1: FoVBackgroundModel\n",
      "\n",
      "  Name                      : dataset-simu-bkg\n",
      "  Datasets names            : ['dataset-simu']\n",
      "  Spectral model type       : PowerLawNormSpectralModel\n",
      "  Parameters:\n",
      "    norm         (frozen)   :   1.000              \n",
      "    tilt         (frozen)   :   0.000              \n",
      "    reference    (frozen)   :   1.000  TeV         \n",
      "\n",
      "\n"
     ]
    }
   ],
   "source": [
    "dataset.models = models_fit\n",
    "print(dataset.models)"
   ]
  },
  {
   "cell_type": "code",
   "execution_count": 15,
   "metadata": {
    "execution": {
     "iopub.execute_input": "2021-01-23T10:02:17.212356Z",
     "iopub.status.busy": "2021-01-23T10:02:17.211828Z",
     "iopub.status.idle": "2021-01-23T10:02:23.386361Z",
     "shell.execute_reply": "2021-01-23T10:02:23.386863Z"
    }
   },
   "outputs": [
    {
     "name": "stdout",
     "output_type": "stream",
     "text": [
      "┌──────────────────────────────────┬──────────────────────────────────────┐\n",
      "│ FCN = 5.643e+05                  │        Nfcn = 139 (139 total)        │\n",
      "│ EDM = 7.68e-06 (Goal: 0.0002)    │                                      │\n",
      "├───────────────┬──────────────────┼──────────────────────────────────────┤\n",
      "│ Valid Minimum │ Valid Parameters │       SOME Parameters at limit       │\n",
      "├───────────────┴──────────────────┼──────────────────────────────────────┤\n",
      "│ Below EDM threshold (goal x 10)  │           Below call limit           │\n",
      "├───────────────┬──────────────────┼───────────┬─────────────┬────────────┤\n",
      "│   Hesse ok    │  Has Covariance  │ Accurate  │  Pos. def.  │ Not forced │\n",
      "└───────────────┴──────────────────┴───────────┴─────────────┴────────────┘\n",
      "CPU times: user 5.86 s, sys: 314 ms, total: 6.17 s\n",
      "Wall time: 6.17 s\n"
     ]
    }
   ],
   "source": [
    "%%time\n",
    "fit = Fit([dataset])\n",
    "result = fit.run(optimize_opts={\"print_level\": 1})"
   ]
  },
  {
   "cell_type": "code",
   "execution_count": 16,
   "metadata": {
    "execution": {
     "iopub.execute_input": "2021-01-23T10:02:23.390396Z",
     "iopub.status.busy": "2021-01-23T10:02:23.389893Z",
     "iopub.status.idle": "2021-01-23T10:02:23.867458Z",
     "shell.execute_reply": "2021-01-23T10:02:23.867950Z"
    },
    "nbsphinx-thumbnail": {
     "tooltip": "Simulate a 3D observation of a source with the CTA 1DC response and fit it with the assumed source model."
    }
   },
   "outputs": [
    {
     "name": "stderr",
     "output_type": "stream",
     "text": [
      "/opt/miniconda3/envs/gammapy-dev/lib/python3.7/site-packages/astropy/visualization/wcsaxes/core.py:211: MatplotlibDeprecationWarning: Passing parameters norm and vmin/vmax simultaneously is deprecated since 3.3 and will become an error two minor releases later. Please pass vmin/vmax directly to the norm when creating it.\n",
      "  return super().imshow(X, *args, origin=origin, **kwargs)\n"
     ]
    },
    {
     "data": {
      "text/plain": [
       "<WCSAxesSubplot:xlabel='Galactic Longitude', ylabel='Galactic Latitude'>"
      ]
     },
     "execution_count": 1,
     "metadata": {},
     "output_type": "execute_result"
    },
    {
     "data": {
      "image/png": "[encoded data removed]",
      "text/plain": [
       "<Figure size 432x288 with 2 Axes>"
      ]
     },
     "metadata": {
      "needs_background": "light"
     },
     "output_type": "display_data"
    }
   ],
   "source": [
    "dataset.plot_residuals_spatial(method=\"diff/sqrt(model)\", vmin=-0.5, vmax=0.5)"
   ]
  },
  {
   "cell_type": "markdown",
   "metadata": {},
   "source": [
    "Compare the injected and fitted models: "
   ]
  },
  {
   "cell_type": "code",
   "execution_count": 17,
   "metadata": {
    "execution": {
     "iopub.execute_input": "2021-01-23T10:02:23.871936Z",
     "iopub.status.busy": "2021-01-23T10:02:23.871484Z",
     "iopub.status.idle": "2021-01-23T10:02:23.874506Z",
     "shell.execute_reply": "2021-01-23T10:02:23.875144Z"
    }
   },
   "outputs": [
    {
     "name": "stdout",
     "output_type": "stream",
     "text": [
      "True model: \n",
      " SkyModel\n",
      "\n",
      "  Name                      : model-simu\n",
      "  Datasets names            : None\n",
      "  Spectral model type       : PowerLawSpectralModel\n",
      "  Spatial  model type       : GaussianSpatialModel\n",
      "  Temporal model type       : \n",
      "  Parameters:\n",
      "    index                   :   3.000              \n",
      "    amplitude               :   1.00e-11  1 / (cm2 s TeV)\n",
      "    reference    (frozen)   :   1.000  TeV         \n",
      "    lon_0                   :   0.200  deg         \n",
      "    lat_0                   :   0.100  deg         \n",
      "    sigma                   :   0.300  deg         \n",
      "    e            (frozen)   :   0.000              \n",
      "    phi          (frozen)   :   0.000  deg         \n",
      "\n",
      " \n",
      "\n",
      " Fitted model: \n",
      " SkyModel\n",
      "\n",
      "  Name                      : model-simu\n",
      "  Datasets names            : None\n",
      "  Spectral model type       : PowerLawSpectralModel\n",
      "  Spatial  model type       : GaussianSpatialModel\n",
      "  Temporal model type       : \n",
      "  Parameters:\n",
      "    index                   :   3.013              \n",
      "    amplitude               :   1.01e-11  1 / (cm2 s TeV)\n",
      "    reference    (frozen)   :   1.000  TeV         \n",
      "    lon_0                   :   0.200  deg         \n",
      "    lat_0                   :   0.105  deg         \n",
      "    sigma                   :   0.305  deg         \n",
      "    e            (frozen)   :   0.000              \n",
      "    phi          (frozen)   :   0.000  deg         \n",
      "\n",
      "\n"
     ]
    }
   ],
   "source": [
    "print(\n",
    "    \"True model: \\n\",\n",
    "    model_simu,\n",
    "    \"\\n\\n Fitted model: \\n\",\n",
    "    models_fit[\"model-simu\"],\n",
    ")"
   ]
  },
  {
   "cell_type": "markdown",
   "metadata": {},
   "source": [
    "Get the errors on the fitted parameters from the parameter table"
   ]
  },
  {
   "cell_type": "code",
   "execution_count": 18,
   "metadata": {
    "execution": {
     "iopub.execute_input": "2021-01-23T10:02:23.882414Z",
     "iopub.status.busy": "2021-01-23T10:02:23.881771Z",
     "iopub.status.idle": "2021-01-23T10:02:23.884151Z",
     "shell.execute_reply": "2021-01-23T10:02:23.884651Z"
    }
   },
   "outputs": [
    {
     "data": {
      "text/html": [
       "<i>Table length=11</i>\n",
       "<table id=\"table140225486552592\" class=\"table-striped table-bordered table-condensed\">\n",
       "<thead><tr><th>type</th><th>name</th><th>value</th><th>unit</th><th>min</th><th>max</th><th>frozen</th><th>error</th></tr></thead>\n",
       "<thead><tr><th>str8</th><th>str9</th><th>float64</th><th>str14</th><th>float64</th><th>float64</th><th>bool</th><th>float64</th></tr></thead>\n",
       "<tr><td>spectral</td><td>index</td><td>3.0133e+00</td><td></td><td>nan</td><td>nan</td><td>False</td><td>1.985e-02</td></tr>\n",
       "<tr><td>spectral</td><td>amplitude</td><td>1.0122e-11</td><td>cm-2 s-1 TeV-1</td><td>nan</td><td>nan</td><td>False</td><td>3.333e-13</td></tr>\n",
       "<tr><td>spectral</td><td>reference</td><td>1.0000e+00</td><td>TeV</td><td>nan</td><td>nan</td><td>True</td><td>0.000e+00</td></tr>\n",
       "<tr><td>spatial</td><td>lon_0</td><td>2.0043e-01</td><td>deg</td><td>nan</td><td>nan</td><td>False</td><td>5.910e-03</td></tr>\n",
       "<tr><td>spatial</td><td>lat_0</td><td>1.0502e-01</td><td>deg</td><td>-9.000e+01</td><td>9.000e+01</td><td>False</td><td>5.975e-03</td></tr>\n",
       "<tr><td>spatial</td><td>sigma</td><td>3.0516e-01</td><td>deg</td><td>0.000e+00</td><td>nan</td><td>False</td><td>4.098e-03</td></tr>\n",
       "<tr><td>spatial</td><td>e</td><td>0.0000e+00</td><td></td><td>0.000e+00</td><td>1.000e+00</td><td>True</td><td>0.000e+00</td></tr>\n",
       "<tr><td>spatial</td><td>phi</td><td>0.0000e+00</td><td>deg</td><td>nan</td><td>nan</td><td>True</td><td>0.000e+00</td></tr>\n",
       "<tr><td>spectral</td><td>norm</td><td>1.0000e+00</td><td></td><td>nan</td><td>nan</td><td>True</td><td>0.000e+00</td></tr>\n",
       "<tr><td>spectral</td><td>tilt</td><td>0.0000e+00</td><td></td><td>nan</td><td>nan</td><td>True</td><td>0.000e+00</td></tr>\n",
       "<tr><td>spectral</td><td>reference</td><td>1.0000e+00</td><td>TeV</td><td>nan</td><td>nan</td><td>True</td><td>0.000e+00</td></tr>\n",
       "</table>"
      ],
      "text/plain": [
       "<Table length=11>\n",
       "  type      name     value         unit      ...    max    frozen   error  \n",
       "  str8      str9    float64       str14      ...  float64   bool   float64 \n",
       "-------- --------- ---------- -------------- ... --------- ------ ---------\n",
       "spectral     index 3.0133e+00                ...       nan  False 1.985e-02\n",
       "spectral amplitude 1.0122e-11 cm-2 s-1 TeV-1 ...       nan  False 3.333e-13\n",
       "spectral reference 1.0000e+00            TeV ...       nan   True 0.000e+00\n",
       " spatial     lon_0 2.0043e-01            deg ...       nan  False 5.910e-03\n",
       " spatial     lat_0 1.0502e-01            deg ... 9.000e+01  False 5.975e-03\n",
       " spatial     sigma 3.0516e-01            deg ...       nan  False 4.098e-03\n",
       " spatial         e 0.0000e+00                ... 1.000e+00   True 0.000e+00\n",
       " spatial       phi 0.0000e+00            deg ...       nan   True 0.000e+00\n",
       "spectral      norm 1.0000e+00                ...       nan   True 0.000e+00\n",
       "spectral      tilt 0.0000e+00                ...       nan   True 0.000e+00\n",
       "spectral reference 1.0000e+00            TeV ...       nan   True 0.000e+00"
      ]
     },
     "execution_count": 1,
     "metadata": {},
     "output_type": "execute_result"
    }
   ],
   "source": [
    "result.parameters.to_table()"
   ]
  },
  {
   "cell_type": "code",
   "execution_count": null,
   "metadata": {},
   "outputs": [],
   "source": []
  }
 ],
 "metadata": {
  "kernelspec": {
   "display_name": "Python 3",
   "language": "python",
   "name": "python3"
  },
  "language_info": {
   "codemirror_mode": {
    "name": "ipython",
    "version": 3
   },
   "file_extension": ".py",
   "mimetype": "text/x-python",
   "name": "python",
   "nbconvert_exporter": "python",
   "pygments_lexer": "ipython3",
   "version": "3.7.0"
  },
  "nbsphinx": {
   "orphan": true
  },
  "widgets": {
   "application/vnd.jupyter.widget-state+json": {
    "state": {
     "06900ae1d9f146e8a9caac7dedb3dfb4": {
      "model_module": "@jupyter-widgets/controls",
      "model_module_version": "1.5.0",
      "model_name": "VBoxModel",
      "state": {
       "_dom_classes": [
        "widget-interact"
       ],
       "_model_module": "@jupyter-widgets/controls",
       "_model_module_version": "1.5.0",
       "_model_name": "VBoxModel",
       "_view_count": null,
       "_view_module": "@jupyter-widgets/controls",
       "_view_module_version": "1.5.0",
       "_view_name": "VBoxView",
       "box_style": "",
       "children": [
        "IPY_MODEL_8bde1538a34e4925908a87235dab6a96",
        "IPY_MODEL_e0c3a9ccb36049528827825354b9ee7b",
        "IPY_MODEL_0b463221fe1b474ba15354e3f0599e69"
       ],
       "layout": "IPY_MODEL_3132b9a70af145b2a2c9816718eddcd4"
      }
     },
     "0b463221fe1b474ba15354e3f0599e69": {
      "model_module": "@jupyter-widgets/output",
      "model_module_version": "1.0.0",
      "model_name": "OutputModel",
      "state": {
       "_dom_classes": [],
       "_model_module": "@jupyter-widgets/output",
       "_model_module_version": "1.0.0",
       "_model_name": "OutputModel",
       "_view_count": null,
       "_view_module": "@jupyter-widgets/output",
       "_view_module_version": "1.0.0",
       "_view_name": "OutputView",
       "layout": "IPY_MODEL_e44190a05d9c4beea80bcaefd90378b1",
       "msg_id": "",
       "outputs": [
        {
         "data": {
          "image/png": "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\n",
          "text/plain": "<Figure size 432x288 with 2 Axes>"
         },
         "metadata": {
          "needs_background": "light"
         },
         "output_type": "display_data"
        }
       ]
      }
     },
     "11f057dc82ce462bbf446183327927e0": {
      "model_module": "@jupyter-widgets/controls",
      "model_module_version": "1.5.0",
      "model_name": "DescriptionStyleModel",
      "state": {
       "_model_module": "@jupyter-widgets/controls",
       "_model_module_version": "1.5.0",
       "_model_name": "DescriptionStyleModel",
       "_view_count": null,
       "_view_module": "@jupyter-widgets/base",
       "_view_module_version": "1.2.0",
       "_view_name": "StyleView",
       "description_width": "initial"
      }
     },
     "3132b9a70af145b2a2c9816718eddcd4": {
      "model_module": "@jupyter-widgets/base",
      "model_module_version": "1.2.0",
      "model_name": "LayoutModel",
      "state": {
       "_model_module": "@jupyter-widgets/base",
       "_model_module_version": "1.2.0",
       "_model_name": "LayoutModel",
       "_view_count": null,
       "_view_module": "@jupyter-widgets/base",
       "_view_module_version": "1.2.0",
       "_view_name": "LayoutView",
       "align_content": null,
       "align_items": null,
       "align_self": null,
       "border": null,
       "bottom": null,
       "display": null,
       "flex": null,
       "flex_flow": null,
       "grid_area": null,
       "grid_auto_columns": null,
       "grid_auto_flow": null,
       "grid_auto_rows": null,
       "grid_column": null,
       "grid_gap": null,
       "grid_row": null,
       "grid_template_areas": null,
       "grid_template_columns": null,
       "grid_template_rows": null,
       "height": null,
       "justify_content": null,
       "justify_items": null,
       "left": null,
       "margin": null,
       "max_height": null,
       "max_width": null,
       "min_height": null,
       "min_width": null,
       "object_fit": null,
       "object_position": null,
       "order": null,
       "overflow": null,
       "overflow_x": null,
       "overflow_y": null,
       "padding": null,
       "right": null,
       "top": null,
       "visibility": null,
       "width": null
      }
     },
     "51f887b50e8e44fc91c8cabb395246ba": {
      "model_module": "@jupyter-widgets/base",
      "model_module_version": "1.2.0",
      "model_name": "LayoutModel",
      "state": {
       "_model_module": "@jupyter-widgets/base",
       "_model_module_version": "1.2.0",
       "_model_name": "LayoutModel",
       "_view_count": null,
       "_view_module": "@jupyter-widgets/base",
       "_view_module_version": "1.2.0",
       "_view_name": "LayoutView",
       "align_content": null,
       "align_items": null,
       "align_self": null,
       "border": null,
       "bottom": null,
       "display": null,
       "flex": null,
       "flex_flow": null,
       "grid_area": null,
       "grid_auto_columns": null,
       "grid_auto_flow": null,
       "grid_auto_rows": null,
       "grid_column": null,
       "grid_gap": null,
       "grid_row": null,
       "grid_template_areas": null,
       "grid_template_columns": null,
       "grid_template_rows": null,
       "height": null,
       "justify_content": null,
       "justify_items": null,
       "left": null,
       "margin": null,
       "max_height": null,
       "max_width": null,
       "min_height": null,
       "min_width": null,
       "object_fit": null,
       "object_position": null,
       "order": null,
       "overflow": null,
       "overflow_x": null,
       "overflow_y": null,
       "padding": null,
       "right": null,
       "top": null,
       "visibility": null,
       "width": "50%"
      }
     },
     "6095f3aa871d416fb9a28aedeec248b5": {
      "model_module": "@jupyter-widgets/controls",
      "model_module_version": "1.5.0",
      "model_name": "DescriptionStyleModel",
      "state": {
       "_model_module": "@jupyter-widgets/controls",
       "_model_module_version": "1.5.0",
       "_model_name": "DescriptionStyleModel",
       "_view_count": null,
       "_view_module": "@jupyter-widgets/base",
       "_view_module_version": "1.2.0",
       "_view_name": "StyleView",
       "description_width": "initial"
      }
     },
     "8bde1538a34e4925908a87235dab6a96": {
      "model_module": "@jupyter-widgets/controls",
      "model_module_version": "1.5.0",
      "model_name": "SelectionSliderModel",
      "state": {
       "_dom_classes": [],
       "_model_module": "@jupyter-widgets/controls",
       "_model_module_version": "1.5.0",
       "_model_name": "SelectionSliderModel",
       "_options_labels": [
        "1.00e-01 TeV - 1.67e-01 TeV TeV",
        "1.67e-01 TeV - 2.78e-01 TeV TeV",
        "2.78e-01 TeV - 4.64e-01 TeV TeV",
        "4.64e-01 TeV - 7.74e-01 TeV TeV",
        "7.74e-01 TeV - 1.29e+00 TeV TeV",
        "1.29e+00 TeV - 2.15e+00 TeV TeV",
        "2.15e+00 TeV - 3.59e+00 TeV TeV",
        "3.59e+00 TeV - 5.99e+00 TeV TeV",
        "5.99e+00 TeV - 1.00e+01 TeV TeV"
       ],
       "_view_count": null,
       "_view_module": "@jupyter-widgets/controls",
       "_view_module_version": "1.5.0",
       "_view_name": "SelectionSliderView",
       "continuous_update": false,
       "description": "Select energy:",
       "description_tooltip": null,
       "disabled": false,
       "index": 0,
       "layout": "IPY_MODEL_51f887b50e8e44fc91c8cabb395246ba",
       "orientation": "horizontal",
       "readout": true,
       "style": "IPY_MODEL_11f057dc82ce462bbf446183327927e0"
      }
     },
     "daee1f13d8274c5aa5ac541a4e35ca38": {
      "model_module": "@jupyter-widgets/base",
      "model_module_version": "1.2.0",
      "model_name": "LayoutModel",
      "state": {
       "_model_module": "@jupyter-widgets/base",
       "_model_module_version": "1.2.0",
       "_model_name": "LayoutModel",
       "_view_count": null,
       "_view_module": "@jupyter-widgets/base",
       "_view_module_version": "1.2.0",
       "_view_name": "LayoutView",
       "align_content": null,
       "align_items": null,
       "align_self": null,
       "border": null,
       "bottom": null,
       "display": null,
       "flex": null,
       "flex_flow": null,
       "grid_area": null,
       "grid_auto_columns": null,
       "grid_auto_flow": null,
       "grid_auto_rows": null,
       "grid_column": null,
       "grid_gap": null,
       "grid_row": null,
       "grid_template_areas": null,
       "grid_template_columns": null,
       "grid_template_rows": null,
       "height": null,
       "justify_content": null,
       "justify_items": null,
       "left": null,
       "margin": null,
       "max_height": null,
       "max_width": null,
       "min_height": null,
       "min_width": null,
       "object_fit": null,
       "object_position": null,
       "order": null,
       "overflow": null,
       "overflow_x": null,
       "overflow_y": null,
       "padding": null,
       "right": null,
       "top": null,
       "visibility": null,
       "width": null
      }
     },
     "e0c3a9ccb36049528827825354b9ee7b": {
      "model_module": "@jupyter-widgets/controls",
      "model_module_version": "1.5.0",
      "model_name": "RadioButtonsModel",
      "state": {
       "_dom_classes": [],
       "_model_module": "@jupyter-widgets/controls",
       "_model_module_version": "1.5.0",
       "_model_name": "RadioButtonsModel",
       "_options_labels": [
        "linear",
        "sqrt",
        "log"
       ],
       "_view_count": null,
       "_view_module": "@jupyter-widgets/controls",
       "_view_module_version": "1.5.0",
       "_view_name": "RadioButtonsView",
       "description": "Select stretch:",
       "description_tooltip": null,
       "disabled": false,
       "index": 0,
       "layout": "IPY_MODEL_daee1f13d8274c5aa5ac541a4e35ca38",
       "style": "IPY_MODEL_6095f3aa871d416fb9a28aedeec248b5"
      }
     },
     "e44190a05d9c4beea80bcaefd90378b1": {
      "model_module": "@jupyter-widgets/base",
      "model_module_version": "1.2.0",
      "model_name": "LayoutModel",
      "state": {
       "_model_module": "@jupyter-widgets/base",
       "_model_module_version": "1.2.0",
       "_model_name": "LayoutModel",
       "_view_count": null,
       "_view_module": "@jupyter-widgets/base",
       "_view_module_version": "1.2.0",
       "_view_name": "LayoutView",
       "align_content": null,
       "align_items": null,
       "align_self": null,
       "border": null,
       "bottom": null,
       "display": null,
       "flex": null,
       "flex_flow": null,
       "grid_area": null,
       "grid_auto_columns": null,
       "grid_auto_flow": null,
       "grid_auto_rows": null,
       "grid_column": null,
       "grid_gap": null,
       "grid_row": null,
       "grid_template_areas": null,
       "grid_template_columns": null,
       "grid_template_rows": null,
       "height": null,
       "justify_content": null,
       "justify_items": null,
       "left": null,
       "margin": null,
       "max_height": null,
       "max_width": null,
       "min_height": null,
       "min_width": null,
       "object_fit": null,
       "object_position": null,
       "order": null,
       "overflow": null,
       "overflow_x": null,
       "overflow_y": null,
       "padding": null,
       "right": null,
       "top": null,
       "visibility": null,
       "width": null
      }
     }
    },
    "version_major": 2,
    "version_minor": 0
   }
  }
 },
 "nbformat": 4,
 "nbformat_minor": 4
}
