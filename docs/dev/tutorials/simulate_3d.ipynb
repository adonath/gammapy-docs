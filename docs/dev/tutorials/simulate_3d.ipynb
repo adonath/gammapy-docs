{
 "cells": [
  {
   "cell_type": "markdown",
   "metadata": {},
   "source": [
    "\n",
    "<div class=\"alert alert-info\">\n",
    "\n",
    "**This is a fixed-text formatted version of a Jupyter notebook**\n",
    "\n",
    "- Try online [![Binder](https://static.mybinder.org/badge.svg)](https://mybinder.org/v2/gh/gammapy/gammapy-webpage/master?urlpath=lab/tree/simulate_3d.ipynb)\n",
    "- You may download all the notebooks in the documentation as a [tar file](../_downloads/notebooks-dev.tar).\n",
    "- **Source files:**\n",
    "[simulate_3d.ipynb](../_static/notebooks/simulate_3d.ipynb) |\n",
    "[simulate_3d.py](../_static/notebooks/simulate_3d.py)\n",
    "</div>\n"
   ]
  },
  {
   "cell_type": "markdown",
   "metadata": {},
   "source": [
    "# 3D map simulation\n",
    "\n",
    "## Prerequisites\n",
    "\n",
    "- Knowledge of 3D extraction and datasets used in gammapy, see for instance the [first analysis tutorial](analysis_1.ipynb)\n",
    "\n",
    "## Context\n",
    "\n",
    "To simulate a specific observation, it is not always necessary to simulate the full photon list. For many uses cases, simulating directly a reduced binned dataset is enough: the IRFs reduced in the correct geometry are combined with a source model to predict an actual number of counts per bin. The latter is then used to simulate a reduced dataset using Poisson probability distribution.\n",
    "\n",
    "This can be done to check the feasibility of a measurement (performance / sensitivity study), to test whether fitted parameters really provide a good fit to the data etc.\n",
    "\n",
    "Here we will see how to perform a 3D simulation of a CTA observation, assuming both the spectral and spatial morphology of an observed source.\n",
    "\n",
    "**Objective: simulate a 3D observation of a source with CTA using the CTA 1DC response and fit it with the assumed source model.**\n",
    "\n",
    "## Proposed approach:\n",
    "\n",
    "Here we can't use the regular observation objects that are connected to a `DataStore`. Instead we will create a fake `~gammapy.data.Observation` that contain some pointing information and the CTA 1DC IRFs (that are loaded with `~gammapy.irf.load_cta_irfs`).\n",
    "\n",
    "Then we will create a `~gammapy.datasets.MapDataset` geometry and create it with the `~gammapy.makers.MapDatasetMaker`.\n",
    "\n",
    "Then we will be able to define a model consisting of  a `~gammapy.modeling.models.PowerLawSpectralModel` and a `~gammapy.modeling.models.GaussianSpatialModel`. We will assign it to the dataset and fake the count data.\n"
   ]
  },
  {
   "cell_type": "markdown",
   "metadata": {},
   "source": [
    "## Imports and versions"
   ]
  },
  {
   "cell_type": "code",
   "execution_count": 1,
   "metadata": {
    "execution": {
     "iopub.execute_input": "2021-02-02T18:09:12.907750Z",
     "iopub.status.busy": "2021-02-02T18:09:12.907195Z",
     "iopub.status.idle": "2021-02-02T18:09:13.196215Z",
     "shell.execute_reply": "2021-02-02T18:09:13.195568Z"
    }
   },
   "outputs": [],
   "source": [
    "%matplotlib inline"
   ]
  },
  {
   "cell_type": "code",
   "execution_count": 2,
   "metadata": {
    "execution": {
     "iopub.execute_input": "2021-02-02T18:09:13.201115Z",
     "iopub.status.busy": "2021-02-02T18:09:13.200472Z",
     "iopub.status.idle": "2021-02-02T18:09:14.164537Z",
     "shell.execute_reply": "2021-02-02T18:09:14.163530Z"
    }
   },
   "outputs": [],
   "source": [
    "import numpy as np\n",
    "import astropy.units as u\n",
    "from astropy.coordinates import SkyCoord\n",
    "from gammapy.irf import load_cta_irfs\n",
    "from gammapy.maps import WcsGeom, MapAxis\n",
    "from gammapy.modeling.models import (\n",
    "    PowerLawSpectralModel,\n",
    "    GaussianSpatialModel,\n",
    "    SkyModel,\n",
    "    Models,\n",
    "    FoVBackgroundModel,\n",
    ")\n",
    "from gammapy.makers import MapDatasetMaker, SafeMaskMaker\n",
    "from gammapy.modeling import Fit\n",
    "from gammapy.data import Observation\n",
    "from gammapy.datasets import MapDataset"
   ]
  },
  {
   "cell_type": "code",
   "execution_count": 3,
   "metadata": {
    "execution": {
     "iopub.execute_input": "2021-02-02T18:09:14.169130Z",
     "iopub.status.busy": "2021-02-02T18:09:14.168481Z",
     "iopub.status.idle": "2021-02-02T18:09:16.195512Z",
     "shell.execute_reply": "2021-02-02T18:09:16.196228Z"
    }
   },
   "outputs": [
    {
     "name": "stdout",
     "output_type": "stream",
     "text": [
      "\r\n",
      "Gammapy package:\r\n",
      "\r\n",
      "\tversion                : 0.18.3.dev646+gc0d544d96 \r\n",
      "\tpath                   : /home/runner/work/gammapy-docs/gammapy-docs/gammapy/gammapy \r\n",
      "\r\n"
     ]
    }
   ],
   "source": [
    "!gammapy info --no-envvar --no-dependencies --no-system"
   ]
  },
  {
   "cell_type": "markdown",
   "metadata": {},
   "source": [
    "## Simulation"
   ]
  },
  {
   "cell_type": "markdown",
   "metadata": {},
   "source": [
    "We will simulate using the CTA-1DC IRFs shipped with gammapy. Note that for dedictaed CTA simulations, you can simply use [`Observation.from_caldb()`]() without having to externally load the IRFs"
   ]
  },
  {
   "cell_type": "code",
   "execution_count": 4,
   "metadata": {
    "execution": {
     "iopub.execute_input": "2021-02-02T18:09:16.205769Z",
     "iopub.status.busy": "2021-02-02T18:09:16.204082Z",
     "iopub.status.idle": "2021-02-02T18:09:16.290622Z",
     "shell.execute_reply": "2021-02-02T18:09:16.289535Z"
    }
   },
   "outputs": [
    {
     "name": "stderr",
     "output_type": "stream",
     "text": [
      "Invalid unit found in background table! Assuming (s-1 MeV-1 sr-1)\n"
     ]
    }
   ],
   "source": [
    "# Loading IRFs\n",
    "irfs = load_cta_irfs(\n",
    "    \"$GAMMAPY_DATA/cta-1dc/caldb/data/cta/1dc/bcf/South_z20_50h/irf_file.fits\"\n",
    ")"
   ]
  },
  {
   "cell_type": "code",
   "execution_count": 5,
   "metadata": {
    "execution": {
     "iopub.execute_input": "2021-02-02T18:09:16.296143Z",
     "iopub.status.busy": "2021-02-02T18:09:16.295619Z",
     "iopub.status.idle": "2021-02-02T18:09:16.298872Z",
     "shell.execute_reply": "2021-02-02T18:09:16.299250Z"
    }
   },
   "outputs": [],
   "source": [
    "# Define the observation parameters (typically the observation duration and the pointing position):\n",
    "livetime = 2.0 * u.hr\n",
    "pointing = SkyCoord(0, 0, unit=\"deg\", frame=\"galactic\")"
   ]
  },
  {
   "cell_type": "code",
   "execution_count": 6,
   "metadata": {
    "execution": {
     "iopub.execute_input": "2021-02-02T18:09:16.309411Z",
     "iopub.status.busy": "2021-02-02T18:09:16.307232Z",
     "iopub.status.idle": "2021-02-02T18:09:16.320212Z",
     "shell.execute_reply": "2021-02-02T18:09:16.319355Z"
    }
   },
   "outputs": [],
   "source": [
    "# Define map geometry for binned simulation\n",
    "energy_reco = MapAxis.from_edges(\n",
    "    np.logspace(-1.0, 1.0, 10), unit=\"TeV\", name=\"energy\", interp=\"log\"\n",
    ")\n",
    "geom = WcsGeom.create(\n",
    "    skydir=(0, 0),\n",
    "    binsz=0.02,\n",
    "    width=(6, 6),\n",
    "    frame=\"galactic\",\n",
    "    axes=[energy_reco],\n",
    ")\n",
    "# It is usually useful to have a separate binning for the true energy axis\n",
    "energy_true = MapAxis.from_edges(\n",
    "    np.logspace(-1.5, 1.5, 30), unit=\"TeV\", name=\"energy\", interp=\"log\"\n",
    ")\n",
    "\n",
    "empty = MapDataset.create(geom, name=\"dataset-simu\")"
   ]
  },
  {
   "cell_type": "code",
   "execution_count": 7,
   "metadata": {
    "execution": {
     "iopub.execute_input": "2021-02-02T18:09:16.333668Z",
     "iopub.status.busy": "2021-02-02T18:09:16.332154Z",
     "iopub.status.idle": "2021-02-02T18:09:16.344222Z",
     "shell.execute_reply": "2021-02-02T18:09:16.343299Z"
    }
   },
   "outputs": [
    {
     "name": "stdout",
     "output_type": "stream",
     "text": [
      "Models\n",
      "\n",
      "Component 0: SkyModel\n",
      "\n",
      "  Name                      : model-simu\n",
      "  Datasets names            : None\n",
      "  Spectral model type       : PowerLawSpectralModel\n",
      "  Spatial  model type       : GaussianSpatialModel\n",
      "  Temporal model type       : \n",
      "  Parameters:\n",
      "    index                   :   3.000              \n",
      "    amplitude               :   1.00e-11  1 / (cm2 s TeV)\n",
      "    reference    (frozen)   :   1.000  TeV         \n",
      "    lon_0                   :   0.200  deg         \n",
      "    lat_0                   :   0.100  deg         \n",
      "    sigma                   :   0.300  deg         \n",
      "    e            (frozen)   :   0.000              \n",
      "    phi          (frozen)   :   0.000  deg         \n",
      "\n",
      "Component 1: FoVBackgroundModel\n",
      "\n",
      "  Name                      : dataset-simu-bkg\n",
      "  Datasets names            : ['dataset-simu']\n",
      "  Spectral model type       : PowerLawNormSpectralModel\n",
      "  Parameters:\n",
      "    norm                    :   1.000              \n",
      "    tilt         (frozen)   :   0.000              \n",
      "    reference    (frozen)   :   1.000  TeV         \n",
      "\n",
      "\n"
     ]
    }
   ],
   "source": [
    "# Define sky model to used simulate the data.\n",
    "# Here we use a Gaussian spatial model and a Power Law spectral model.\n",
    "spatial_model = GaussianSpatialModel(\n",
    "    lon_0=\"0.2 deg\", lat_0=\"0.1 deg\", sigma=\"0.3 deg\", frame=\"galactic\"\n",
    ")\n",
    "spectral_model = PowerLawSpectralModel(\n",
    "    index=3, amplitude=\"1e-11 cm-2 s-1 TeV-1\", reference=\"1 TeV\"\n",
    ")\n",
    "model_simu = SkyModel(\n",
    "    spatial_model=spatial_model,\n",
    "    spectral_model=spectral_model,\n",
    "    name=\"model-simu\",\n",
    ")\n",
    "\n",
    "bkg_model = FoVBackgroundModel(dataset_name=\"dataset-simu\")\n",
    "\n",
    "models = Models([model_simu, bkg_model])\n",
    "print(models)"
   ]
  },
  {
   "cell_type": "markdown",
   "metadata": {},
   "source": [
    "Now, comes the main part of dataset simulation. We create an in-memory observation and an empty dataset. We then predict the number of counts for the given model, and Poission fluctuate it using `fake()` to make a simulated counts maps. Keep in mind that it is important to specify the `selection` of the maps that you want to produce "
   ]
  },
  {
   "cell_type": "code",
   "execution_count": 8,
   "metadata": {
    "execution": {
     "iopub.execute_input": "2021-02-02T18:09:16.358296Z",
     "iopub.status.busy": "2021-02-02T18:09:16.357787Z",
     "iopub.status.idle": "2021-02-02T18:09:16.361846Z",
     "shell.execute_reply": "2021-02-02T18:09:16.361340Z"
    }
   },
   "outputs": [
    {
     "name": "stdout",
     "output_type": "stream",
     "text": [
      "Observation\n",
      "\n",
      "\tobs id            : 0 \n",
      " \ttstart            : 51544.00\n",
      "\ttstop             : 51544.08\n",
      "\tduration          : 7200.00 s\n",
      "\tpointing (icrs)   : 266.4 deg, -28.9 deg\n",
      "\n",
      "\tdeadtime fraction : 0.0%\n",
      "\n"
     ]
    }
   ],
   "source": [
    "# Create an in-memory observation\n",
    "obs = Observation.create(pointing=pointing, livetime=livetime, irfs=irfs)\n",
    "print(obs)"
   ]
  },
  {
   "cell_type": "code",
   "execution_count": 9,
   "metadata": {
    "execution": {
     "iopub.execute_input": "2021-02-02T18:09:16.369216Z",
     "iopub.status.busy": "2021-02-02T18:09:16.368703Z",
     "iopub.status.idle": "2021-02-02T18:09:18.219562Z",
     "shell.execute_reply": "2021-02-02T18:09:18.219066Z"
    }
   },
   "outputs": [
    {
     "name": "stdout",
     "output_type": "stream",
     "text": [
      "MapDataset\n",
      "----------\n",
      "\n",
      "  Name                            : dataset-simu \n",
      "\n",
      "  Total counts                    : nan \n",
      "  Total background counts         : 161250.95\n",
      "  Total excess counts             : nan\n",
      "\n",
      "  Predicted counts                : 161250.95\n",
      "  Predicted background counts     : 161250.95\n",
      "  Predicted excess counts         : nan\n",
      "\n",
      "  Exposure min                    : 6.41e+07 m2 s\n",
      "  Exposure max                    : 2.53e+10 m2 s\n",
      "\n",
      "  Number of total bins            : 0 \n",
      "  Number of fit bins              : 804492 \n",
      "\n",
      "  Fit statistic type              : cash\n",
      "  Fit statistic value (-2 log(L)) : nan\n",
      "\n",
      "  Number of models                : 0 \n",
      "  Number of parameters            : 0\n",
      "  Number of free parameters       : 0\n",
      "\n",
      "\n"
     ]
    }
   ],
   "source": [
    "# Make the MapDataset\n",
    "maker = MapDatasetMaker(selection=[\"exposure\", \"background\", \"psf\", \"edisp\"])\n",
    "\n",
    "maker_safe_mask = SafeMaskMaker(methods=[\"offset-max\"], offset_max=4.0 * u.deg)\n",
    "\n",
    "dataset = maker.run(empty, obs)\n",
    "dataset = maker_safe_mask.run(dataset, obs)\n",
    "print(dataset)"
   ]
  },
  {
   "cell_type": "code",
   "execution_count": 10,
   "metadata": {
    "execution": {
     "iopub.execute_input": "2021-02-02T18:09:18.227091Z",
     "iopub.status.busy": "2021-02-02T18:09:18.223904Z",
     "iopub.status.idle": "2021-02-02T18:09:19.542244Z",
     "shell.execute_reply": "2021-02-02T18:09:19.541778Z"
    }
   },
   "outputs": [
    {
     "name": "stderr",
     "output_type": "stream",
     "text": [
      "Center position for model-simu model is outside dataset mask safe, using nearest IRF defined within\n"
     ]
    },
    {
     "name": "stdout",
     "output_type": "stream",
     "text": [
      "MapDataset\n",
      "----------\n",
      "\n",
      "  Name                            : dataset-simu \n",
      "\n",
      "  Total counts                    : 169598 \n",
      "  Total background counts         : 161250.95\n",
      "  Total excess counts             : 8347.05\n",
      "\n",
      "  Predicted counts                : 169690.23\n",
      "  Predicted background counts     : 161250.95\n",
      "  Predicted excess counts         : 8439.29\n",
      "\n",
      "  Exposure min                    : 6.41e+07 m2 s\n",
      "  Exposure max                    : 2.53e+10 m2 s\n",
      "\n",
      "  Number of total bins            : 810000 \n",
      "  Number of fit bins              : 804492 \n",
      "\n",
      "  Fit statistic type              : cash\n",
      "  Fit statistic value (-2 log(L)) : 564059.34\n",
      "\n",
      "  Number of models                : 2 \n",
      "  Number of parameters            : 11\n",
      "  Number of free parameters       : 6\n",
      "\n",
      "  Component 0: SkyModel\n",
      "  \n",
      "    Name                      : model-simu\n",
      "    Datasets names            : None\n",
      "    Spectral model type       : PowerLawSpectralModel\n",
      "    Spatial  model type       : GaussianSpatialModel\n",
      "    Temporal model type       : \n",
      "    Parameters:\n",
      "      index                   :   3.000              \n",
      "      amplitude               :   1.00e-11  1 / (cm2 s TeV)\n",
      "      reference    (frozen)   :   1.000  TeV         \n",
      "      lon_0                   :   0.200  deg         \n",
      "      lat_0                   :   0.100  deg         \n",
      "      sigma                   :   0.300  deg         \n",
      "      e            (frozen)   :   0.000              \n",
      "      phi          (frozen)   :   0.000  deg         \n",
      "  \n",
      "  Component 1: FoVBackgroundModel\n",
      "  \n",
      "    Name                      : dataset-simu-bkg\n",
      "    Datasets names            : ['dataset-simu']\n",
      "    Spectral model type       : PowerLawNormSpectralModel\n",
      "    Parameters:\n",
      "      norm                    :   1.000              \n",
      "      tilt         (frozen)   :   0.000              \n",
      "      reference    (frozen)   :   1.000  TeV         \n",
      "  \n",
      "  \n"
     ]
    }
   ],
   "source": [
    "# Add the model on the dataset and Poission fluctuate\n",
    "dataset.models = models\n",
    "dataset.fake()\n",
    "# Do a print on the dataset - there is now a counts maps\n",
    "print(dataset)"
   ]
  },
  {
   "cell_type": "markdown",
   "metadata": {},
   "source": [
    "Now use this dataset as you would in all standard analysis. You can plot the maps, or proceed with your custom analysis. \n",
    "In the next section, we show the standard 3D fitting as in [analysis_3d](analysis_3d.ipynb)."
   ]
  },
  {
   "cell_type": "code",
   "execution_count": 11,
   "metadata": {
    "execution": {
     "iopub.execute_input": "2021-02-02T18:09:19.546772Z",
     "iopub.status.busy": "2021-02-02T18:09:19.545989Z",
     "iopub.status.idle": "2021-02-02T18:09:20.315496Z",
     "shell.execute_reply": "2021-02-02T18:09:20.315938Z"
    }
   },
   "outputs": [
    {
     "data": {
      "application/vnd.jupyter.widget-view+json": {
       "model_id": "765eb8cc9bb14e1092bfb9af600c6f9a",
       "version_major": 2,
       "version_minor": 0
      },
      "text/plain": [
       "interactive(children=(SelectionSlider(continuous_update=False, description='Select energy:', layout=Layout(wid…"
      ]
     },
     "metadata": {},
     "output_type": "display_data"
    }
   ],
   "source": [
    "# To plot, eg, counts:\n",
    "dataset.counts.smooth(0.05 * u.deg).plot_interactive(\n",
    "    add_cbar=True, stretch=\"linear\"\n",
    ")"
   ]
  },
  {
   "cell_type": "markdown",
   "metadata": {},
   "source": [
    "## Fit\n",
    "\n",
    "In this section, we do a usual 3D fit with the same model used to simulated the data and see the stability of the simulations. Often, it is useful to simulate many such datasets and look at the distribution of the reconstructed parameters."
   ]
  },
  {
   "cell_type": "code",
   "execution_count": 12,
   "metadata": {
    "execution": {
     "iopub.execute_input": "2021-02-02T18:09:20.322264Z",
     "iopub.status.busy": "2021-02-02T18:09:20.321140Z",
     "iopub.status.idle": "2021-02-02T18:09:20.322797Z",
     "shell.execute_reply": "2021-02-02T18:09:20.323296Z"
    }
   },
   "outputs": [],
   "source": [
    "models_fit = models.copy()"
   ]
  },
  {
   "cell_type": "code",
   "execution_count": 13,
   "metadata": {
    "execution": {
     "iopub.execute_input": "2021-02-02T18:09:20.327871Z",
     "iopub.status.busy": "2021-02-02T18:09:20.326759Z",
     "iopub.status.idle": "2021-02-02T18:09:20.328422Z",
     "shell.execute_reply": "2021-02-02T18:09:20.328924Z"
    }
   },
   "outputs": [],
   "source": [
    "# We do not want to fit the background in this case, so we will freeze the parameters\n",
    "models_fit[\"dataset-simu-bkg\"].spectral_model.norm.frozen = True\n",
    "models_fit[\"dataset-simu-bkg\"].spectral_model.tilt.frozen = True"
   ]
  },
  {
   "cell_type": "code",
   "execution_count": 14,
   "metadata": {
    "execution": {
     "iopub.execute_input": "2021-02-02T18:09:20.334004Z",
     "iopub.status.busy": "2021-02-02T18:09:20.333077Z",
     "iopub.status.idle": "2021-02-02T18:09:20.335471Z",
     "shell.execute_reply": "2021-02-02T18:09:20.335999Z"
    }
   },
   "outputs": [
    {
     "name": "stdout",
     "output_type": "stream",
     "text": [
      "DatasetModels\n",
      "\n",
      "Component 0: SkyModel\n",
      "\n",
      "  Name                      : model-simu\n",
      "  Datasets names            : None\n",
      "  Spectral model type       : PowerLawSpectralModel\n",
      "  Spatial  model type       : GaussianSpatialModel\n",
      "  Temporal model type       : \n",
      "  Parameters:\n",
      "    index                   :   3.000              \n",
      "    amplitude               :   1.00e-11  1 / (cm2 s TeV)\n",
      "    reference    (frozen)   :   1.000  TeV         \n",
      "    lon_0                   :   0.200  deg         \n",
      "    lat_0                   :   0.100  deg         \n",
      "    sigma                   :   0.300  deg         \n",
      "    e            (frozen)   :   0.000              \n",
      "    phi          (frozen)   :   0.000  deg         \n",
      "\n",
      "Component 1: FoVBackgroundModel\n",
      "\n",
      "  Name                      : dataset-simu-bkg\n",
      "  Datasets names            : ['dataset-simu']\n",
      "  Spectral model type       : PowerLawNormSpectralModel\n",
      "  Parameters:\n",
      "    norm         (frozen)   :   1.000              \n",
      "    tilt         (frozen)   :   0.000              \n",
      "    reference    (frozen)   :   1.000  TeV         \n",
      "\n",
      "\n"
     ]
    }
   ],
   "source": [
    "dataset.models = models_fit\n",
    "print(dataset.models)"
   ]
  },
  {
   "cell_type": "code",
   "execution_count": 15,
   "metadata": {
    "execution": {
     "iopub.execute_input": "2021-02-02T18:09:20.342649Z",
     "iopub.status.busy": "2021-02-02T18:09:20.342143Z",
     "iopub.status.idle": "2021-02-02T18:09:29.199034Z",
     "shell.execute_reply": "2021-02-02T18:09:29.199791Z"
    }
   },
   "outputs": [
    {
     "name": "stderr",
     "output_type": "stream",
     "text": [
      "Center position for model-simu model is outside dataset mask safe, using nearest IRF defined within\n"
     ]
    },
    {
     "name": "stdout",
     "output_type": "stream",
     "text": [
      "┌──────────────────────────────────┬──────────────────────────────────────┐\n",
      "│ FCN = 5.641e+05                  │        Nfcn = 130 (130 total)        │\n",
      "│ EDM = 6.58e-06 (Goal: 0.0002)    │                                      │\n",
      "├───────────────┬──────────────────┼──────────────────────────────────────┤\n",
      "│ Valid Minimum │ Valid Parameters │       SOME Parameters at limit       │\n",
      "├───────────────┴──────────────────┼──────────────────────────────────────┤\n",
      "│ Below EDM threshold (goal x 10)  │           Below call limit           │\n",
      "├───────────────┬──────────────────┼───────────┬─────────────┬────────────┤\n",
      "│   Hesse ok    │  Has Covariance  │ Accurate  │  Pos. def.  │ Not forced │\n",
      "└───────────────┴──────────────────┴───────────┴─────────────┴────────────┘\n",
      "CPU times: user 8.8 s, sys: 57.6 ms, total: 8.86 s\n",
      "Wall time: 8.86 s\n"
     ]
    }
   ],
   "source": [
    "%%time\n",
    "fit = Fit([dataset])\n",
    "result = fit.run(optimize_opts={\"print_level\": 1})"
   ]
  },
  {
   "cell_type": "code",
   "execution_count": 16,
   "metadata": {
    "execution": {
     "iopub.execute_input": "2021-02-02T18:09:29.204476Z",
     "iopub.status.busy": "2021-02-02T18:09:29.203961Z",
     "iopub.status.idle": "2021-02-02T18:09:29.810228Z",
     "shell.execute_reply": "2021-02-02T18:09:29.809277Z"
    },
    "nbsphinx-thumbnail": {
     "tooltip": "Simulate a 3D observation of a source with the CTA 1DC response and fit it with the assumed source model."
    }
   },
   "outputs": [
    {
     "name": "stderr",
     "output_type": "stream",
     "text": [
      "/usr/share/miniconda/envs/gammapy-dev/lib/python3.7/site-packages/astropy/visualization/wcsaxes/core.py:211: MatplotlibDeprecationWarning: Passing parameters norm and vmin/vmax simultaneously is deprecated since 3.3 and will become an error two minor releases later. Please pass vmin/vmax directly to the norm when creating it.\n",
      "  return super().imshow(X, *args, origin=origin, **kwargs)\n"
     ]
    },
    {
     "data": {
      "text/plain": [
       "<WCSAxesSubplot:xlabel='Galactic Longitude', ylabel='Galactic Latitude'>"
      ]
     },
     "execution_count": 1,
     "metadata": {},
     "output_type": "execute_result"
    },
    {
     "data": {
      "image/png": "[encoded data removed]",
      "text/plain": [
       "<Figure size 432x288 with 2 Axes>"
      ]
     },
     "metadata": {
      "needs_background": "light"
     },
     "output_type": "display_data"
    }
   ],
   "source": [
    "dataset.plot_residuals_spatial(method=\"diff/sqrt(model)\", vmin=-0.5, vmax=0.5)"
   ]
  },
  {
   "cell_type": "markdown",
   "metadata": {},
   "source": [
    "Compare the injected and fitted models: "
   ]
  },
  {
   "cell_type": "code",
   "execution_count": 17,
   "metadata": {
    "execution": {
     "iopub.execute_input": "2021-02-02T18:09:29.815251Z",
     "iopub.status.busy": "2021-02-02T18:09:29.814681Z",
     "iopub.status.idle": "2021-02-02T18:09:29.816638Z",
     "shell.execute_reply": "2021-02-02T18:09:29.817159Z"
    }
   },
   "outputs": [
    {
     "name": "stdout",
     "output_type": "stream",
     "text": [
      "True model: \n",
      " SkyModel\n",
      "\n",
      "  Name                      : model-simu\n",
      "  Datasets names            : None\n",
      "  Spectral model type       : PowerLawSpectralModel\n",
      "  Spatial  model type       : GaussianSpatialModel\n",
      "  Temporal model type       : \n",
      "  Parameters:\n",
      "    index                   :   3.000              \n",
      "    amplitude               :   1.00e-11  1 / (cm2 s TeV)\n",
      "    reference    (frozen)   :   1.000  TeV         \n",
      "    lon_0                   :   0.200  deg         \n",
      "    lat_0                   :   0.100  deg         \n",
      "    sigma                   :   0.300  deg         \n",
      "    e            (frozen)   :   0.000              \n",
      "    phi          (frozen)   :   0.000  deg         \n",
      "\n",
      " \n",
      "\n",
      " Fitted model: \n",
      " SkyModel\n",
      "\n",
      "  Name                      : model-simu\n",
      "  Datasets names            : None\n",
      "  Spectral model type       : PowerLawSpectralModel\n",
      "  Spatial  model type       : GaussianSpatialModel\n",
      "  Temporal model type       : \n",
      "  Parameters:\n",
      "    index                   :   3.013              \n",
      "    amplitude               :   9.86e-12  1 / (cm2 s TeV)\n",
      "    reference    (frozen)   :   1.000  TeV         \n",
      "    lon_0                   :   0.201  deg         \n",
      "    lat_0                   :   0.098  deg         \n",
      "    sigma                   :   0.294  deg         \n",
      "    e            (frozen)   :   0.000              \n",
      "    phi          (frozen)   :   0.000  deg         \n",
      "\n",
      "\n"
     ]
    }
   ],
   "source": [
    "print(\n",
    "    \"True model: \\n\",\n",
    "    model_simu,\n",
    "    \"\\n\\n Fitted model: \\n\",\n",
    "    models_fit[\"model-simu\"],\n",
    ")"
   ]
  },
  {
   "cell_type": "markdown",
   "metadata": {},
   "source": [
    "Get the errors on the fitted parameters from the parameter table"
   ]
  },
  {
   "cell_type": "code",
   "execution_count": 18,
   "metadata": {
    "execution": {
     "iopub.execute_input": "2021-02-02T18:09:29.825185Z",
     "iopub.status.busy": "2021-02-02T18:09:29.824660Z",
     "iopub.status.idle": "2021-02-02T18:09:29.827082Z",
     "shell.execute_reply": "2021-02-02T18:09:29.827589Z"
    }
   },
   "outputs": [
    {
     "data": {
      "text/html": [
       "<i>Table length=11</i>\n",
       "<table id=\"table139651042534008\" class=\"table-striped table-bordered table-condensed\">\n",
       "<thead><tr><th>type</th><th>name</th><th>value</th><th>unit</th><th>min</th><th>max</th><th>frozen</th><th>error</th></tr></thead>\n",
       "<thead><tr><th>str8</th><th>str9</th><th>float64</th><th>str14</th><th>float64</th><th>float64</th><th>bool</th><th>float64</th></tr></thead>\n",
       "<tr><td>spectral</td><td>index</td><td>3.0133e+00</td><td></td><td>nan</td><td>nan</td><td>False</td><td>1.989e-02</td></tr>\n",
       "<tr><td>spectral</td><td>amplitude</td><td>9.8648e-12</td><td>cm-2 s-1 TeV-1</td><td>nan</td><td>nan</td><td>False</td><td>3.244e-13</td></tr>\n",
       "<tr><td>spectral</td><td>reference</td><td>1.0000e+00</td><td>TeV</td><td>nan</td><td>nan</td><td>True</td><td>0.000e+00</td></tr>\n",
       "<tr><td>spatial</td><td>lon_0</td><td>2.0100e-01</td><td>deg</td><td>nan</td><td>nan</td><td>False</td><td>5.703e-03</td></tr>\n",
       "<tr><td>spatial</td><td>lat_0</td><td>9.7567e-02</td><td>deg</td><td>-9.000e+01</td><td>9.000e+01</td><td>False</td><td>5.686e-03</td></tr>\n",
       "<tr><td>spatial</td><td>sigma</td><td>2.9353e-01</td><td>deg</td><td>0.000e+00</td><td>nan</td><td>False</td><td>3.806e-03</td></tr>\n",
       "<tr><td>spatial</td><td>e</td><td>0.0000e+00</td><td></td><td>0.000e+00</td><td>1.000e+00</td><td>True</td><td>0.000e+00</td></tr>\n",
       "<tr><td>spatial</td><td>phi</td><td>0.0000e+00</td><td>deg</td><td>nan</td><td>nan</td><td>True</td><td>0.000e+00</td></tr>\n",
       "<tr><td>spectral</td><td>norm</td><td>1.0000e+00</td><td></td><td>nan</td><td>nan</td><td>True</td><td>0.000e+00</td></tr>\n",
       "<tr><td>spectral</td><td>tilt</td><td>0.0000e+00</td><td></td><td>nan</td><td>nan</td><td>True</td><td>0.000e+00</td></tr>\n",
       "<tr><td>spectral</td><td>reference</td><td>1.0000e+00</td><td>TeV</td><td>nan</td><td>nan</td><td>True</td><td>0.000e+00</td></tr>\n",
       "</table>"
      ],
      "text/plain": [
       "<Table length=11>\n",
       "  type      name     value         unit      ...    max    frozen   error  \n",
       "  str8      str9    float64       str14      ...  float64   bool   float64 \n",
       "-------- --------- ---------- -------------- ... --------- ------ ---------\n",
       "spectral     index 3.0133e+00                ...       nan  False 1.989e-02\n",
       "spectral amplitude 9.8648e-12 cm-2 s-1 TeV-1 ...       nan  False 3.244e-13\n",
       "spectral reference 1.0000e+00            TeV ...       nan   True 0.000e+00\n",
       " spatial     lon_0 2.0100e-01            deg ...       nan  False 5.703e-03\n",
       " spatial     lat_0 9.7567e-02            deg ... 9.000e+01  False 5.686e-03\n",
       " spatial     sigma 2.9353e-01            deg ...       nan  False 3.806e-03\n",
       " spatial         e 0.0000e+00                ... 1.000e+00   True 0.000e+00\n",
       " spatial       phi 0.0000e+00            deg ...       nan   True 0.000e+00\n",
       "spectral      norm 1.0000e+00                ...       nan   True 0.000e+00\n",
       "spectral      tilt 0.0000e+00                ...       nan   True 0.000e+00\n",
       "spectral reference 1.0000e+00            TeV ...       nan   True 0.000e+00"
      ]
     },
     "execution_count": 1,
     "metadata": {},
     "output_type": "execute_result"
    }
   ],
   "source": [
    "result.parameters.to_table()"
   ]
  },
  {
   "cell_type": "code",
   "execution_count": null,
   "metadata": {},
   "outputs": [],
   "source": []
  }
 ],
 "metadata": {
  "kernelspec": {
   "display_name": "Python 3",
   "language": "python",
   "name": "python3"
  },
  "language_info": {
   "codemirror_mode": {
    "name": "ipython",
    "version": 3
   },
   "file_extension": ".py",
   "mimetype": "text/x-python",
   "name": "python",
   "nbconvert_exporter": "python",
   "pygments_lexer": "ipython3",
   "version": "3.7.0"
  },
  "nbsphinx": {
   "orphan": true
  },
  "widgets": {
   "application/vnd.jupyter.widget-state+json": {
    "state": {
     "10f8f9c7352346749581b91e7efc960d": {
      "model_module": "@jupyter-widgets/output",
      "model_module_version": "1.0.0",
      "model_name": "OutputModel",
      "state": {
       "_dom_classes": [],
       "_model_module": "@jupyter-widgets/output",
       "_model_module_version": "1.0.0",
       "_model_name": "OutputModel",
       "_view_count": null,
       "_view_module": "@jupyter-widgets/output",
       "_view_module_version": "1.0.0",
       "_view_name": "OutputView",
       "layout": "IPY_MODEL_592b2d82698b477cb4fd1cddef402e14",
       "msg_id": "",
       "outputs": [
        {
         "data": {
          "image/png": "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\n",
          "text/plain": "<Figure size 432x288 with 2 Axes>"
         },
         "metadata": {
          "needs_background": "light"
         },
         "output_type": "display_data"
        }
       ]
      }
     },
     "592b2d82698b477cb4fd1cddef402e14": {
      "model_module": "@jupyter-widgets/base",
      "model_module_version": "1.2.0",
      "model_name": "LayoutModel",
      "state": {
       "_model_module": "@jupyter-widgets/base",
       "_model_module_version": "1.2.0",
       "_model_name": "LayoutModel",
       "_view_count": null,
       "_view_module": "@jupyter-widgets/base",
       "_view_module_version": "1.2.0",
       "_view_name": "LayoutView",
       "align_content": null,
       "align_items": null,
       "align_self": null,
       "border": null,
       "bottom": null,
       "display": null,
       "flex": null,
       "flex_flow": null,
       "grid_area": null,
       "grid_auto_columns": null,
       "grid_auto_flow": null,
       "grid_auto_rows": null,
       "grid_column": null,
       "grid_gap": null,
       "grid_row": null,
       "grid_template_areas": null,
       "grid_template_columns": null,
       "grid_template_rows": null,
       "height": null,
       "justify_content": null,
       "justify_items": null,
       "left": null,
       "margin": null,
       "max_height": null,
       "max_width": null,
       "min_height": null,
       "min_width": null,
       "object_fit": null,
       "object_position": null,
       "order": null,
       "overflow": null,
       "overflow_x": null,
       "overflow_y": null,
       "padding": null,
       "right": null,
       "top": null,
       "visibility": null,
       "width": null
      }
     },
     "765eb8cc9bb14e1092bfb9af600c6f9a": {
      "model_module": "@jupyter-widgets/controls",
      "model_module_version": "1.5.0",
      "model_name": "VBoxModel",
      "state": {
       "_dom_classes": [
        "widget-interact"
       ],
       "_model_module": "@jupyter-widgets/controls",
       "_model_module_version": "1.5.0",
       "_model_name": "VBoxModel",
       "_view_count": null,
       "_view_module": "@jupyter-widgets/controls",
       "_view_module_version": "1.5.0",
       "_view_name": "VBoxView",
       "box_style": "",
       "children": [
        "IPY_MODEL_edb6a847d32f4cbaacbb1a6a2ac9e7f9",
        "IPY_MODEL_d4c6da20694f470d841e19680af04b70",
        "IPY_MODEL_10f8f9c7352346749581b91e7efc960d"
       ],
       "layout": "IPY_MODEL_e5d3be35caad4f59bc92ffa21f0d5007"
      }
     },
     "a4ca6c8bba1c4be6a43a13235ad59532": {
      "model_module": "@jupyter-widgets/base",
      "model_module_version": "1.2.0",
      "model_name": "LayoutModel",
      "state": {
       "_model_module": "@jupyter-widgets/base",
       "_model_module_version": "1.2.0",
       "_model_name": "LayoutModel",
       "_view_count": null,
       "_view_module": "@jupyter-widgets/base",
       "_view_module_version": "1.2.0",
       "_view_name": "LayoutView",
       "align_content": null,
       "align_items": null,
       "align_self": null,
       "border": null,
       "bottom": null,
       "display": null,
       "flex": null,
       "flex_flow": null,
       "grid_area": null,
       "grid_auto_columns": null,
       "grid_auto_flow": null,
       "grid_auto_rows": null,
       "grid_column": null,
       "grid_gap": null,
       "grid_row": null,
       "grid_template_areas": null,
       "grid_template_columns": null,
       "grid_template_rows": null,
       "height": null,
       "justify_content": null,
       "justify_items": null,
       "left": null,
       "margin": null,
       "max_height": null,
       "max_width": null,
       "min_height": null,
       "min_width": null,
       "object_fit": null,
       "object_position": null,
       "order": null,
       "overflow": null,
       "overflow_x": null,
       "overflow_y": null,
       "padding": null,
       "right": null,
       "top": null,
       "visibility": null,
       "width": "50%"
      }
     },
     "a9a5d179f01f4fc6882e66b302663551": {
      "model_module": "@jupyter-widgets/controls",
      "model_module_version": "1.5.0",
      "model_name": "DescriptionStyleModel",
      "state": {
       "_model_module": "@jupyter-widgets/controls",
       "_model_module_version": "1.5.0",
       "_model_name": "DescriptionStyleModel",
       "_view_count": null,
       "_view_module": "@jupyter-widgets/base",
       "_view_module_version": "1.2.0",
       "_view_name": "StyleView",
       "description_width": "initial"
      }
     },
     "ce2712467fa748ef958557500314fd94": {
      "model_module": "@jupyter-widgets/controls",
      "model_module_version": "1.5.0",
      "model_name": "DescriptionStyleModel",
      "state": {
       "_model_module": "@jupyter-widgets/controls",
       "_model_module_version": "1.5.0",
       "_model_name": "DescriptionStyleModel",
       "_view_count": null,
       "_view_module": "@jupyter-widgets/base",
       "_view_module_version": "1.2.0",
       "_view_name": "StyleView",
       "description_width": "initial"
      }
     },
     "d4c6da20694f470d841e19680af04b70": {
      "model_module": "@jupyter-widgets/controls",
      "model_module_version": "1.5.0",
      "model_name": "RadioButtonsModel",
      "state": {
       "_dom_classes": [],
       "_model_module": "@jupyter-widgets/controls",
       "_model_module_version": "1.5.0",
       "_model_name": "RadioButtonsModel",
       "_options_labels": [
        "linear",
        "sqrt",
        "log"
       ],
       "_view_count": null,
       "_view_module": "@jupyter-widgets/controls",
       "_view_module_version": "1.5.0",
       "_view_name": "RadioButtonsView",
       "description": "Select stretch:",
       "description_tooltip": null,
       "disabled": false,
       "index": 0,
       "layout": "IPY_MODEL_eccf522009b44dc89946f7e2e907e637",
       "style": "IPY_MODEL_ce2712467fa748ef958557500314fd94"
      }
     },
     "e5d3be35caad4f59bc92ffa21f0d5007": {
      "model_module": "@jupyter-widgets/base",
      "model_module_version": "1.2.0",
      "model_name": "LayoutModel",
      "state": {
       "_model_module": "@jupyter-widgets/base",
       "_model_module_version": "1.2.0",
       "_model_name": "LayoutModel",
       "_view_count": null,
       "_view_module": "@jupyter-widgets/base",
       "_view_module_version": "1.2.0",
       "_view_name": "LayoutView",
       "align_content": null,
       "align_items": null,
       "align_self": null,
       "border": null,
       "bottom": null,
       "display": null,
       "flex": null,
       "flex_flow": null,
       "grid_area": null,
       "grid_auto_columns": null,
       "grid_auto_flow": null,
       "grid_auto_rows": null,
       "grid_column": null,
       "grid_gap": null,
       "grid_row": null,
       "grid_template_areas": null,
       "grid_template_columns": null,
       "grid_template_rows": null,
       "height": null,
       "justify_content": null,
       "justify_items": null,
       "left": null,
       "margin": null,
       "max_height": null,
       "max_width": null,
       "min_height": null,
       "min_width": null,
       "object_fit": null,
       "object_position": null,
       "order": null,
       "overflow": null,
       "overflow_x": null,
       "overflow_y": null,
       "padding": null,
       "right": null,
       "top": null,
       "visibility": null,
       "width": null
      }
     },
     "eccf522009b44dc89946f7e2e907e637": {
      "model_module": "@jupyter-widgets/base",
      "model_module_version": "1.2.0",
      "model_name": "LayoutModel",
      "state": {
       "_model_module": "@jupyter-widgets/base",
       "_model_module_version": "1.2.0",
       "_model_name": "LayoutModel",
       "_view_count": null,
       "_view_module": "@jupyter-widgets/base",
       "_view_module_version": "1.2.0",
       "_view_name": "LayoutView",
       "align_content": null,
       "align_items": null,
       "align_self": null,
       "border": null,
       "bottom": null,
       "display": null,
       "flex": null,
       "flex_flow": null,
       "grid_area": null,
       "grid_auto_columns": null,
       "grid_auto_flow": null,
       "grid_auto_rows": null,
       "grid_column": null,
       "grid_gap": null,
       "grid_row": null,
       "grid_template_areas": null,
       "grid_template_columns": null,
       "grid_template_rows": null,
       "height": null,
       "justify_content": null,
       "justify_items": null,
       "left": null,
       "margin": null,
       "max_height": null,
       "max_width": null,
       "min_height": null,
       "min_width": null,
       "object_fit": null,
       "object_position": null,
       "order": null,
       "overflow": null,
       "overflow_x": null,
       "overflow_y": null,
       "padding": null,
       "right": null,
       "top": null,
       "visibility": null,
       "width": null
      }
     },
     "edb6a847d32f4cbaacbb1a6a2ac9e7f9": {
      "model_module": "@jupyter-widgets/controls",
      "model_module_version": "1.5.0",
      "model_name": "SelectionSliderModel",
      "state": {
       "_dom_classes": [],
       "_model_module": "@jupyter-widgets/controls",
       "_model_module_version": "1.5.0",
       "_model_name": "SelectionSliderModel",
       "_options_labels": [
        "1.00e-01 TeV - 1.67e-01 TeV TeV",
        "1.67e-01 TeV - 2.78e-01 TeV TeV",
        "2.78e-01 TeV - 4.64e-01 TeV TeV",
        "4.64e-01 TeV - 7.74e-01 TeV TeV",
        "7.74e-01 TeV - 1.29e+00 TeV TeV",
        "1.29e+00 TeV - 2.15e+00 TeV TeV",
        "2.15e+00 TeV - 3.59e+00 TeV TeV",
        "3.59e+00 TeV - 5.99e+00 TeV TeV",
        "5.99e+00 TeV - 1.00e+01 TeV TeV"
       ],
       "_view_count": null,
       "_view_module": "@jupyter-widgets/controls",
       "_view_module_version": "1.5.0",
       "_view_name": "SelectionSliderView",
       "continuous_update": false,
       "description": "Select energy:",
       "description_tooltip": null,
       "disabled": false,
       "index": 0,
       "layout": "IPY_MODEL_a4ca6c8bba1c4be6a43a13235ad59532",
       "orientation": "horizontal",
       "readout": true,
       "style": "IPY_MODEL_a9a5d179f01f4fc6882e66b302663551"
      }
     }
    },
    "version_major": 2,
    "version_minor": 0
   }
  }
 },
 "nbformat": 4,
 "nbformat_minor": 4
}
