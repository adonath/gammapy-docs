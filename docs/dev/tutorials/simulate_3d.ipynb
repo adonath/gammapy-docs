{
 "cells": [
  {
   "cell_type": "markdown",
   "metadata": {},
   "source": [
    "\n",
    "<div class=\"alert alert-info\">\n",
    "\n",
    "**This is a fixed-text formatted version of a Jupyter notebook**\n",
    "\n",
    "- Try online [![Binder](https://static.mybinder.org/badge.svg)](https://mybinder.org/v2/gh/gammapy/gammapy-webpage/master?urlpath=lab/tree/simulate_3d.ipynb)\n",
    "- You can contribute with your own notebooks in this\n",
    "[GitHub repository](https://github.com/gammapy/gammapy/tree/master/docs/tutorials).\n",
    "- **Source files:**\n",
    "[simulate_3d.ipynb](../_static/notebooks/simulate_3d.ipynb) |\n",
    "[simulate_3d.py](../_static/notebooks/simulate_3d.py)\n",
    "</div>\n"
   ]
  },
  {
   "cell_type": "markdown",
   "metadata": {},
   "source": [
    "# 3D map simulation\n",
    "\n",
    "## Prerequisites\n",
    "\n",
    "- Knowledge of 3D extraction and datasets used in gammapy, see for instance the [first analysis tutorial](analysis_1.ipynb)\n",
    "\n",
    "## Context\n",
    "\n",
    "To simulate a specific observation, it is not always necessary to simulate the full photon list. For many uses cases, simulating directly a reduced binned dataset is enough: the IRFs reduced in the correct geometry are combined with a source model to predict an actual number of counts per bin. The latter is then used to simulate a reduced dataset using Poisson probability distribution.\n",
    "\n",
    "This can be done to check the feasibility of a measurement (performance / sensitivity study), to test whether fitted parameters really provide a good fit to the data etc.\n",
    "\n",
    "Here we will see how to perform a 3D simulation of a CTA observation, assuming both the spectral and spatial morphology of an observed source.\n",
    "\n",
    "**Objective: simulate a 3D observation of a source with CTA using the CTA 1DC response and fit it with the assumed source model.**\n",
    "\n",
    "## Proposed approach:\n",
    "\n",
    "Here we can't use the regular observation objects that are connected to a `DataStore`. Instead we will create a fake `~gammapy.data.Observation` that contain some pointing information and the CTA 1DC IRFs (that are loaded with `~gammapy.irf.load_cta_irfs`).\n",
    "\n",
    "Then we will create a `~gammapy.datasets.MapDataset` geometry and create it with the `~gammapy.makers.MapDatasetMaker`.\n",
    "\n",
    "Then we will be able to define a model consisting of  a `~gammapy.modeling.models.PowerLawSpectralModel` and a `~gammapy.modeling.models.GaussianSpatialModel`. We will assign it to the dataset and fake the count data.\n"
   ]
  },
  {
   "cell_type": "markdown",
   "metadata": {},
   "source": [
    "## Imports and versions"
   ]
  },
  {
   "cell_type": "code",
   "execution_count": 1,
   "metadata": {
    "execution": {
     "iopub.execute_input": "2020-12-14T10:51:38.210064Z",
     "iopub.status.busy": "2020-12-14T10:51:38.209573Z",
     "iopub.status.idle": "2020-12-14T10:51:38.459130Z",
     "shell.execute_reply": "2020-12-14T10:51:38.458501Z"
    }
   },
   "outputs": [],
   "source": [
    "%matplotlib inline"
   ]
  },
  {
   "cell_type": "code",
   "execution_count": 2,
   "metadata": {
    "execution": {
     "iopub.execute_input": "2020-12-14T10:51:38.463838Z",
     "iopub.status.busy": "2020-12-14T10:51:38.463366Z",
     "iopub.status.idle": "2020-12-14T10:51:39.324432Z",
     "shell.execute_reply": "2020-12-14T10:51:39.323609Z"
    }
   },
   "outputs": [],
   "source": [
    "import numpy as np\n",
    "import astropy.units as u\n",
    "from astropy.coordinates import SkyCoord\n",
    "from gammapy.irf import load_cta_irfs\n",
    "from gammapy.maps import WcsGeom, MapAxis\n",
    "from gammapy.modeling.models import (\n",
    "    PowerLawSpectralModel,\n",
    "    GaussianSpatialModel,\n",
    "    SkyModel,\n",
    "    Models,\n",
    "    FoVBackgroundModel,\n",
    ")\n",
    "from gammapy.makers import MapDatasetMaker, SafeMaskMaker\n",
    "from gammapy.modeling import Fit\n",
    "from gammapy.data import Observation\n",
    "from gammapy.datasets import MapDataset"
   ]
  },
  {
   "cell_type": "code",
   "execution_count": 3,
   "metadata": {
    "execution": {
     "iopub.execute_input": "2020-12-14T10:51:39.328016Z",
     "iopub.status.busy": "2020-12-14T10:51:39.327584Z",
     "iopub.status.idle": "2020-12-14T10:51:41.140329Z",
     "shell.execute_reply": "2020-12-14T10:51:41.139792Z"
    }
   },
   "outputs": [
    {
     "name": "stdout",
     "output_type": "stream",
     "text": [
      "\r\n",
      "Gammapy package:\r\n",
      "\r\n",
      "\tversion                : 0.18.3.dev181+gb59258698 \r\n",
      "\tpath                   : /home/runner/work/gammapy-docs/gammapy-docs/gammapy/gammapy \r\n",
      "\r\n"
     ]
    }
   ],
   "source": [
    "!gammapy info --no-envvar --no-dependencies --no-system"
   ]
  },
  {
   "cell_type": "markdown",
   "metadata": {},
   "source": [
    "## Simulation"
   ]
  },
  {
   "cell_type": "markdown",
   "metadata": {},
   "source": [
    "We will simulate using the CTA-1DC IRFs shipped with gammapy. Note that for dedictaed CTA simulations, you can simply use [`Observation.from_caldb()`]() without having to externally load the IRFs"
   ]
  },
  {
   "cell_type": "code",
   "execution_count": 4,
   "metadata": {
    "execution": {
     "iopub.execute_input": "2020-12-14T10:51:41.147932Z",
     "iopub.status.busy": "2020-12-14T10:51:41.147266Z",
     "iopub.status.idle": "2020-12-14T10:51:41.226306Z",
     "shell.execute_reply": "2020-12-14T10:51:41.225794Z"
    }
   },
   "outputs": [
    {
     "name": "stderr",
     "output_type": "stream",
     "text": [
      "Invalid unit found in background table! Assuming (s-1 MeV-1 sr-1)\n"
     ]
    }
   ],
   "source": [
    "# Loading IRFs\n",
    "irfs = load_cta_irfs(\n",
    "    \"$GAMMAPY_DATA/cta-1dc/caldb/data/cta/1dc/bcf/South_z20_50h/irf_file.fits\"\n",
    ")"
   ]
  },
  {
   "cell_type": "code",
   "execution_count": 5,
   "metadata": {
    "execution": {
     "iopub.execute_input": "2020-12-14T10:51:41.231003Z",
     "iopub.status.busy": "2020-12-14T10:51:41.230562Z",
     "iopub.status.idle": "2020-12-14T10:51:41.233703Z",
     "shell.execute_reply": "2020-12-14T10:51:41.233227Z"
    }
   },
   "outputs": [],
   "source": [
    "# Define the observation parameters (typically the observation duration and the pointing position):\n",
    "livetime = 2.0 * u.hr\n",
    "pointing = SkyCoord(0, 0, unit=\"deg\", frame=\"galactic\")"
   ]
  },
  {
   "cell_type": "code",
   "execution_count": 6,
   "metadata": {
    "execution": {
     "iopub.execute_input": "2020-12-14T10:51:41.240185Z",
     "iopub.status.busy": "2020-12-14T10:51:41.238989Z",
     "iopub.status.idle": "2020-12-14T10:51:41.252100Z",
     "shell.execute_reply": "2020-12-14T10:51:41.252522Z"
    }
   },
   "outputs": [],
   "source": [
    "# Define map geometry for binned simulation\n",
    "energy_reco = MapAxis.from_edges(\n",
    "    np.logspace(-1.0, 1.0, 10), unit=\"TeV\", name=\"energy\", interp=\"log\"\n",
    ")\n",
    "geom = WcsGeom.create(\n",
    "    skydir=(0, 0),\n",
    "    binsz=0.02,\n",
    "    width=(6, 6),\n",
    "    frame=\"galactic\",\n",
    "    axes=[energy_reco],\n",
    ")\n",
    "# It is usually useful to have a separate binning for the true energy axis\n",
    "energy_true = MapAxis.from_edges(\n",
    "    np.logspace(-1.5, 1.5, 30), unit=\"TeV\", name=\"energy\", interp=\"log\"\n",
    ")\n",
    "\n",
    "empty = MapDataset.create(geom, name=\"dataset-simu\")"
   ]
  },
  {
   "cell_type": "code",
   "execution_count": 7,
   "metadata": {
    "execution": {
     "iopub.execute_input": "2020-12-14T10:51:41.264500Z",
     "iopub.status.busy": "2020-12-14T10:51:41.263745Z",
     "iopub.status.idle": "2020-12-14T10:51:41.273262Z",
     "shell.execute_reply": "2020-12-14T10:51:41.272824Z"
    }
   },
   "outputs": [
    {
     "name": "stdout",
     "output_type": "stream",
     "text": [
      "Models\n",
      "\n",
      "Component 0: SkyModel\n",
      "\n",
      "  Name                      : model-simu\n",
      "  Datasets names            : None\n",
      "  Spectral model type       : PowerLawSpectralModel\n",
      "  Spatial  model type       : GaussianSpatialModel\n",
      "  Temporal model type       : \n",
      "  Parameters:\n",
      "    index                   :   3.000              \n",
      "    amplitude               :   1.00e-11  1 / (cm2 s TeV)\n",
      "    reference    (frozen)   :   1.000  TeV         \n",
      "    lon_0                   :   0.200  deg         \n",
      "    lat_0                   :   0.100  deg         \n",
      "    sigma                   :   0.300  deg         \n",
      "    e            (frozen)   :   0.000              \n",
      "    phi          (frozen)   :   0.000  deg         \n",
      "\n",
      "Component 1: FoVBackgroundModel\n",
      "\n",
      "  Name                      : dataset-simu-bkg\n",
      "  Datasets names            : ['dataset-simu']\n",
      "  Spectral model type       : PowerLawNormSpectralModel\n",
      "  Parameters:\n",
      "    norm                    :   1.000              \n",
      "    tilt         (frozen)   :   0.000              \n",
      "    reference    (frozen)   :   1.000  TeV         \n",
      "\n",
      "\n"
     ]
    }
   ],
   "source": [
    "# Define sky model to used simulate the data.\n",
    "# Here we use a Gaussian spatial model and a Power Law spectral model.\n",
    "spatial_model = GaussianSpatialModel(\n",
    "    lon_0=\"0.2 deg\", lat_0=\"0.1 deg\", sigma=\"0.3 deg\", frame=\"galactic\"\n",
    ")\n",
    "spectral_model = PowerLawSpectralModel(\n",
    "    index=3, amplitude=\"1e-11 cm-2 s-1 TeV-1\", reference=\"1 TeV\"\n",
    ")\n",
    "model_simu = SkyModel(\n",
    "    spatial_model=spatial_model,\n",
    "    spectral_model=spectral_model,\n",
    "    name=\"model-simu\",\n",
    ")\n",
    "\n",
    "bkg_model = FoVBackgroundModel(dataset_name=\"dataset-simu\")\n",
    "\n",
    "models = Models([model_simu, bkg_model])\n",
    "print(models)"
   ]
  },
  {
   "cell_type": "markdown",
   "metadata": {},
   "source": [
    "Now, comes the main part of dataset simulation. We create an in-memory observation and an empty dataset. We then predict the number of counts for the given model, and Poission fluctuate it using `fake()` to make a simulated counts maps. Keep in mind that it is important to specify the `selection` of the maps that you want to produce "
   ]
  },
  {
   "cell_type": "code",
   "execution_count": 8,
   "metadata": {
    "execution": {
     "iopub.execute_input": "2020-12-14T10:51:41.285005Z",
     "iopub.status.busy": "2020-12-14T10:51:41.284586Z",
     "iopub.status.idle": "2020-12-14T10:51:41.288660Z",
     "shell.execute_reply": "2020-12-14T10:51:41.288300Z"
    }
   },
   "outputs": [
    {
     "name": "stdout",
     "output_type": "stream",
     "text": [
      "Observation\n",
      "\n",
      "\tobs id            : 0 \n",
      " \ttstart            : 51544.00\n",
      "\ttstop             : 51544.08\n",
      "\tduration          : 7200.00 s\n",
      "\tpointing (icrs)   : 266.4 deg, -28.9 deg\n",
      "\n",
      "\tdeadtime fraction : 0.0%\n",
      "\n"
     ]
    }
   ],
   "source": [
    "# Create an in-memory observation\n",
    "obs = Observation.create(pointing=pointing, livetime=livetime, irfs=irfs)\n",
    "print(obs)"
   ]
  },
  {
   "cell_type": "code",
   "execution_count": 9,
   "metadata": {
    "execution": {
     "iopub.execute_input": "2020-12-14T10:51:41.294571Z",
     "iopub.status.busy": "2020-12-14T10:51:41.293939Z",
     "iopub.status.idle": "2020-12-14T10:51:43.478309Z",
     "shell.execute_reply": "2020-12-14T10:51:43.478922Z"
    }
   },
   "outputs": [
    {
     "name": "stdout",
     "output_type": "stream",
     "text": [
      "MapDataset\n",
      "----------\n",
      "\n",
      "  Name                            : dataset-simu \n",
      "\n",
      "  Total counts                    : nan \n",
      "  Total background counts         : 161250.95\n",
      "  Total excess counts             : nan\n",
      "\n",
      "  Predicted counts                : 161250.95\n",
      "  Predicted background counts     : 161250.95\n",
      "  Predicted excess counts         : nan\n",
      "\n",
      "  Exposure min                    : 6.41e+07 m2 s\n",
      "  Exposure max                    : 2.53e+10 m2 s\n",
      "\n",
      "  Number of total bins            : 0 \n",
      "  Number of fit bins              : 804492 \n",
      "\n",
      "  Fit statistic type              : cash\n",
      "  Fit statistic value (-2 log(L)) : nan\n",
      "\n",
      "  Number of models                : 0 \n",
      "  Number of parameters            : 0\n",
      "  Number of free parameters       : 0\n",
      "\n",
      "\n"
     ]
    }
   ],
   "source": [
    "# Make the MapDataset\n",
    "maker = MapDatasetMaker(selection=[\"exposure\", \"background\", \"psf\", \"edisp\"])\n",
    "\n",
    "maker_safe_mask = SafeMaskMaker(methods=[\"offset-max\"], offset_max=4.0 * u.deg)\n",
    "\n",
    "dataset = maker.run(empty, obs)\n",
    "dataset = maker_safe_mask.run(dataset, obs)\n",
    "print(dataset)"
   ]
  },
  {
   "cell_type": "code",
   "execution_count": 10,
   "metadata": {
    "execution": {
     "iopub.execute_input": "2020-12-14T10:51:43.485115Z",
     "iopub.status.busy": "2020-12-14T10:51:43.484391Z",
     "iopub.status.idle": "2020-12-14T10:51:44.272383Z",
     "shell.execute_reply": "2020-12-14T10:51:44.271016Z"
    }
   },
   "outputs": [
    {
     "name": "stdout",
     "output_type": "stream",
     "text": [
      "MapDataset\n",
      "----------\n",
      "\n",
      "  Name                            : dataset-simu \n",
      "\n",
      "  Total counts                    : 169938 \n",
      "  Total background counts         : 161250.95\n",
      "  Total excess counts             : 8687.05\n",
      "\n",
      "  Predicted counts                : 169690.08\n",
      "  Predicted background counts     : 161250.95\n",
      "  Predicted excess counts         : 8439.14\n",
      "\n",
      "  Exposure min                    : 6.41e+07 m2 s\n",
      "  Exposure max                    : 2.53e+10 m2 s\n",
      "\n",
      "  Number of total bins            : 810000 \n",
      "  Number of fit bins              : 804492 \n",
      "\n",
      "  Fit statistic type              : cash\n",
      "  Fit statistic value (-2 log(L)) : 562245.02\n",
      "\n",
      "  Number of models                : 2 \n",
      "  Number of parameters            : 11\n",
      "  Number of free parameters       : 6\n",
      "\n",
      "  Component 0: SkyModel\n",
      "  \n",
      "    Name                      : model-simu\n",
      "    Datasets names            : None\n",
      "    Spectral model type       : PowerLawSpectralModel\n",
      "    Spatial  model type       : GaussianSpatialModel\n",
      "    Temporal model type       : \n",
      "    Parameters:\n",
      "      index                   :   3.000              \n",
      "      amplitude               :   1.00e-11  1 / (cm2 s TeV)\n",
      "      reference    (frozen)   :   1.000  TeV         \n",
      "      lon_0                   :   0.200  deg         \n",
      "      lat_0                   :   0.100  deg         \n",
      "      sigma                   :   0.300  deg         \n",
      "      e            (frozen)   :   0.000              \n",
      "      phi          (frozen)   :   0.000  deg         \n",
      "  \n",
      "  Component 1: FoVBackgroundModel\n",
      "  \n",
      "    Name                      : dataset-simu-bkg\n",
      "    Datasets names            : ['dataset-simu']\n",
      "    Spectral model type       : PowerLawNormSpectralModel\n",
      "    Parameters:\n",
      "      norm                    :   1.000              \n",
      "      tilt         (frozen)   :   0.000              \n",
      "      reference    (frozen)   :   1.000  TeV         \n",
      "  \n",
      "  \n"
     ]
    }
   ],
   "source": [
    "# Add the model on the dataset and Poission fluctuate\n",
    "dataset.models = models\n",
    "dataset.fake()\n",
    "# Do a print on the dataset - there is now a counts maps\n",
    "print(dataset)"
   ]
  },
  {
   "cell_type": "markdown",
   "metadata": {},
   "source": [
    "Now use this dataset as you would in all standard analysis. You can plot the maps, or proceed with your custom analysis. \n",
    "In the next section, we show the standard 3D fitting as in [analysis_3d](analysis_3d.ipynb)."
   ]
  },
  {
   "cell_type": "code",
   "execution_count": 11,
   "metadata": {
    "execution": {
     "iopub.execute_input": "2020-12-14T10:51:44.276376Z",
     "iopub.status.busy": "2020-12-14T10:51:44.275941Z",
     "iopub.status.idle": "2020-12-14T10:51:44.915509Z",
     "shell.execute_reply": "2020-12-14T10:51:44.916101Z"
    }
   },
   "outputs": [
    {
     "data": {
      "application/vnd.jupyter.widget-view+json": {
       "model_id": "54791f5b2f4440f1bd40cdad6dcb8284",
       "version_major": 2,
       "version_minor": 0
      },
      "text/plain": [
       "interactive(children=(SelectionSlider(continuous_update=False, description='Select energy:', layout=Layout(wid…"
      ]
     },
     "metadata": {},
     "output_type": "display_data"
    }
   ],
   "source": [
    "# To plot, eg, counts:\n",
    "dataset.counts.smooth(0.05 * u.deg).plot_interactive(\n",
    "    add_cbar=True, stretch=\"linear\"\n",
    ")"
   ]
  },
  {
   "cell_type": "markdown",
   "metadata": {},
   "source": [
    "## Fit\n",
    "\n",
    "In this section, we do a usual 3D fit with the same model used to simulated the data and see the stability of the simulations. Often, it is useful to simulate many such datasets and look at the distribution of the reconstructed parameters."
   ]
  },
  {
   "cell_type": "code",
   "execution_count": 12,
   "metadata": {
    "execution": {
     "iopub.execute_input": "2020-12-14T10:51:44.922230Z",
     "iopub.status.busy": "2020-12-14T10:51:44.921467Z",
     "iopub.status.idle": "2020-12-14T10:51:44.922895Z",
     "shell.execute_reply": "2020-12-14T10:51:44.923328Z"
    }
   },
   "outputs": [],
   "source": [
    "models_fit = models.copy()"
   ]
  },
  {
   "cell_type": "code",
   "execution_count": 13,
   "metadata": {
    "execution": {
     "iopub.execute_input": "2020-12-14T10:51:44.926869Z",
     "iopub.status.busy": "2020-12-14T10:51:44.926136Z",
     "iopub.status.idle": "2020-12-14T10:51:44.927977Z",
     "shell.execute_reply": "2020-12-14T10:51:44.927532Z"
    }
   },
   "outputs": [],
   "source": [
    "# We do not want to fit the background in this case, so we will freeze the parameters\n",
    "models_fit[\"dataset-simu-bkg\"].spectral_model.norm.frozen = True\n",
    "models_fit[\"dataset-simu-bkg\"].spectral_model.tilt.frozen = True"
   ]
  },
  {
   "cell_type": "code",
   "execution_count": 14,
   "metadata": {
    "execution": {
     "iopub.execute_input": "2020-12-14T10:51:44.932981Z",
     "iopub.status.busy": "2020-12-14T10:51:44.932396Z",
     "iopub.status.idle": "2020-12-14T10:51:45.054237Z",
     "shell.execute_reply": "2020-12-14T10:51:45.054601Z"
    }
   },
   "outputs": [
    {
     "name": "stdout",
     "output_type": "stream",
     "text": [
      "DatasetModels\n",
      "\n",
      "Component 0: SkyModel\n",
      "\n",
      "  Name                      : model-simu\n",
      "  Datasets names            : None\n",
      "  Spectral model type       : PowerLawSpectralModel\n",
      "  Spatial  model type       : GaussianSpatialModel\n",
      "  Temporal model type       : \n",
      "  Parameters:\n",
      "    index                   :   3.000              \n",
      "    amplitude               :   1.00e-11  1 / (cm2 s TeV)\n",
      "    reference    (frozen)   :   1.000  TeV         \n",
      "    lon_0                   :   0.200  deg         \n",
      "    lat_0                   :   0.100  deg         \n",
      "    sigma                   :   0.300  deg         \n",
      "    e            (frozen)   :   0.000              \n",
      "    phi          (frozen)   :   0.000  deg         \n",
      "\n",
      "Component 1: FoVBackgroundModel\n",
      "\n",
      "  Name                      : dataset-simu-bkg\n",
      "  Datasets names            : ['dataset-simu']\n",
      "  Spectral model type       : PowerLawNormSpectralModel\n",
      "  Parameters:\n",
      "    norm         (frozen)   :   1.000              \n",
      "    tilt         (frozen)   :   0.000              \n",
      "    reference    (frozen)   :   1.000  TeV         \n",
      "\n",
      "\n"
     ]
    }
   ],
   "source": [
    "dataset.models = models_fit\n",
    "print(dataset.models)"
   ]
  },
  {
   "cell_type": "code",
   "execution_count": 15,
   "metadata": {
    "execution": {
     "iopub.execute_input": "2020-12-14T10:51:45.060908Z",
     "iopub.status.busy": "2020-12-14T10:51:45.060464Z",
     "iopub.status.idle": "2020-12-14T10:51:52.665108Z",
     "shell.execute_reply": "2020-12-14T10:51:52.664708Z"
    }
   },
   "outputs": [
    {
     "name": "stdout",
     "output_type": "stream",
     "text": [
      "┌──────────────────────────────────┬──────────────────────────────────────┐\n",
      "│ FCN = 5.622e+05                  │        Nfcn = 132 (132 total)        │\n",
      "│ EDM = 6.08e-06 (Goal: 0.0002)    │                                      │\n",
      "├───────────────┬──────────────────┼──────────────────────────────────────┤\n",
      "│ Valid Minimum │ Valid Parameters │       SOME Parameters at limit       │\n",
      "├───────────────┴──────────────────┼──────────────────────────────────────┤\n",
      "│ Below EDM threshold (goal x 10)  │           Below call limit           │\n",
      "├───────────────┬──────────────────┼───────────┬─────────────┬────────────┤\n",
      "│   Hesse ok    │  Has Covariance  │ Accurate  │  Pos. def.  │ Not forced │\n",
      "└───────────────┴──────────────────┴───────────┴─────────────┴────────────┘\n",
      "CPU times: user 7.58 s, sys: 20 ms, total: 7.6 s\n",
      "Wall time: 7.6 s\n"
     ]
    }
   ],
   "source": [
    "%%time\n",
    "fit = Fit([dataset])\n",
    "result = fit.run(optimize_opts={\"print_level\": 1})"
   ]
  },
  {
   "cell_type": "code",
   "execution_count": 16,
   "metadata": {
    "execution": {
     "iopub.execute_input": "2020-12-14T10:51:52.668762Z",
     "iopub.status.busy": "2020-12-14T10:51:52.668337Z",
     "iopub.status.idle": "2020-12-14T10:51:53.182070Z",
     "shell.execute_reply": "2020-12-14T10:51:53.181642Z"
    },
    "nbsphinx-thumbnail": {
     "tooltip": "Simulate a 3D observation of a source with the CTA 1DC response and fit it with the assumed source model."
    }
   },
   "outputs": [
    {
     "name": "stderr",
     "output_type": "stream",
     "text": [
      "/usr/share/miniconda/envs/gammapy-dev/lib/python3.7/site-packages/astropy/visualization/wcsaxes/core.py:211: MatplotlibDeprecationWarning: Passing parameters norm and vmin/vmax simultaneously is deprecated since 3.3 and will become an error two minor releases later. Please pass vmin/vmax directly to the norm when creating it.\n",
      "  return super().imshow(X, *args, origin=origin, **kwargs)\n"
     ]
    },
    {
     "data": {
      "text/plain": [
       "<WCSAxesSubplot:xlabel='Galactic Longitude', ylabel='Galactic Latitude'>"
      ]
     },
     "execution_count": 1,
     "metadata": {},
     "output_type": "execute_result"
    },
    {
     "data": {
      "image/png": "[encoded data removed]",
      "text/plain": [
       "<Figure size 432x288 with 2 Axes>"
      ]
     },
     "metadata": {
      "needs_background": "light"
     },
     "output_type": "display_data"
    }
   ],
   "source": [
    "dataset.plot_residuals_spatial(method=\"diff/sqrt(model)\", vmin=-0.5, vmax=0.5)"
   ]
  },
  {
   "cell_type": "markdown",
   "metadata": {},
   "source": [
    "Compare the injected and fitted models: "
   ]
  },
  {
   "cell_type": "code",
   "execution_count": 17,
   "metadata": {
    "execution": {
     "iopub.execute_input": "2020-12-14T10:51:53.185983Z",
     "iopub.status.busy": "2020-12-14T10:51:53.185539Z",
     "iopub.status.idle": "2020-12-14T10:51:53.188882Z",
     "shell.execute_reply": "2020-12-14T10:51:53.188506Z"
    }
   },
   "outputs": [
    {
     "name": "stdout",
     "output_type": "stream",
     "text": [
      "True model: \n",
      " SkyModel\n",
      "\n",
      "  Name                      : model-simu\n",
      "  Datasets names            : None\n",
      "  Spectral model type       : PowerLawSpectralModel\n",
      "  Spatial  model type       : GaussianSpatialModel\n",
      "  Temporal model type       : \n",
      "  Parameters:\n",
      "    index                   :   3.000              \n",
      "    amplitude               :   1.00e-11  1 / (cm2 s TeV)\n",
      "    reference    (frozen)   :   1.000  TeV         \n",
      "    lon_0                   :   0.200  deg         \n",
      "    lat_0                   :   0.100  deg         \n",
      "    sigma                   :   0.300  deg         \n",
      "    e            (frozen)   :   0.000              \n",
      "    phi          (frozen)   :   0.000  deg         \n",
      "\n",
      " \n",
      "\n",
      " Fitted model: \n",
      " SkyModel\n",
      "\n",
      "  Name                      : model-simu\n",
      "  Datasets names            : None\n",
      "  Spectral model type       : PowerLawSpectralModel\n",
      "  Spatial  model type       : GaussianSpatialModel\n",
      "  Temporal model type       : \n",
      "  Parameters:\n",
      "    index                   :   3.018              \n",
      "    amplitude               :   9.91e-12  1 / (cm2 s TeV)\n",
      "    reference    (frozen)   :   1.000  TeV         \n",
      "    lon_0                   :   0.202  deg         \n",
      "    lat_0                   :   0.101  deg         \n",
      "    sigma                   :   0.299  deg         \n",
      "    e            (frozen)   :   0.000              \n",
      "    phi          (frozen)   :   0.000  deg         \n",
      "\n",
      "\n"
     ]
    }
   ],
   "source": [
    "print(\n",
    "    \"True model: \\n\",\n",
    "    model_simu,\n",
    "    \"\\n\\n Fitted model: \\n\",\n",
    "    models_fit[\"model-simu\"],\n",
    ")"
   ]
  },
  {
   "cell_type": "markdown",
   "metadata": {},
   "source": [
    "Get the errors on the fitted parameters from the parameter table"
   ]
  },
  {
   "cell_type": "code",
   "execution_count": 18,
   "metadata": {
    "execution": {
     "iopub.execute_input": "2020-12-14T10:51:53.195558Z",
     "iopub.status.busy": "2020-12-14T10:51:53.195118Z",
     "iopub.status.idle": "2020-12-14T10:51:53.197153Z",
     "shell.execute_reply": "2020-12-14T10:51:53.197597Z"
    }
   },
   "outputs": [
    {
     "data": {
      "text/html": [
       "<i>Table length=11</i>\n",
       "<table id=\"table140719305868456\" class=\"table-striped table-bordered table-condensed\">\n",
       "<thead><tr><th>name</th><th>value</th><th>unit</th><th>min</th><th>max</th><th>frozen</th><th>error</th></tr></thead>\n",
       "<thead><tr><th>str9</th><th>float64</th><th>str14</th><th>float64</th><th>float64</th><th>bool</th><th>float64</th></tr></thead>\n",
       "<tr><td>index</td><td>3.0179e+00</td><td></td><td>nan</td><td>nan</td><td>False</td><td>1.987e-02</td></tr>\n",
       "<tr><td>amplitude</td><td>9.9143e-12</td><td>cm-2 s-1 TeV-1</td><td>nan</td><td>nan</td><td>False</td><td>3.254e-13</td></tr>\n",
       "<tr><td>reference</td><td>1.0000e+00</td><td>TeV</td><td>nan</td><td>nan</td><td>True</td><td>0.000e+00</td></tr>\n",
       "<tr><td>lon_0</td><td>2.0162e-01</td><td>deg</td><td>nan</td><td>nan</td><td>False</td><td>5.845e-03</td></tr>\n",
       "<tr><td>lat_0</td><td>1.0052e-01</td><td>deg</td><td>-9.000e+01</td><td>9.000e+01</td><td>False</td><td>5.791e-03</td></tr>\n",
       "<tr><td>sigma</td><td>2.9874e-01</td><td>deg</td><td>0.000e+00</td><td>nan</td><td>False</td><td>3.947e-03</td></tr>\n",
       "<tr><td>e</td><td>0.0000e+00</td><td></td><td>0.000e+00</td><td>1.000e+00</td><td>True</td><td>0.000e+00</td></tr>\n",
       "<tr><td>phi</td><td>0.0000e+00</td><td>deg</td><td>nan</td><td>nan</td><td>True</td><td>0.000e+00</td></tr>\n",
       "<tr><td>norm</td><td>1.0000e+00</td><td></td><td>nan</td><td>nan</td><td>True</td><td>0.000e+00</td></tr>\n",
       "<tr><td>tilt</td><td>0.0000e+00</td><td></td><td>nan</td><td>nan</td><td>True</td><td>0.000e+00</td></tr>\n",
       "<tr><td>reference</td><td>1.0000e+00</td><td>TeV</td><td>nan</td><td>nan</td><td>True</td><td>0.000e+00</td></tr>\n",
       "</table>"
      ],
      "text/plain": [
       "<Table length=11>\n",
       "   name     value         unit         min        max    frozen   error  \n",
       "   str9    float64       str14       float64    float64   bool   float64 \n",
       "--------- ---------- -------------- ---------- --------- ------ ---------\n",
       "    index 3.0179e+00                       nan       nan  False 1.987e-02\n",
       "amplitude 9.9143e-12 cm-2 s-1 TeV-1        nan       nan  False 3.254e-13\n",
       "reference 1.0000e+00            TeV        nan       nan   True 0.000e+00\n",
       "    lon_0 2.0162e-01            deg        nan       nan  False 5.845e-03\n",
       "    lat_0 1.0052e-01            deg -9.000e+01 9.000e+01  False 5.791e-03\n",
       "    sigma 2.9874e-01            deg  0.000e+00       nan  False 3.947e-03\n",
       "        e 0.0000e+00                 0.000e+00 1.000e+00   True 0.000e+00\n",
       "      phi 0.0000e+00            deg        nan       nan   True 0.000e+00\n",
       "     norm 1.0000e+00                       nan       nan   True 0.000e+00\n",
       "     tilt 0.0000e+00                       nan       nan   True 0.000e+00\n",
       "reference 1.0000e+00            TeV        nan       nan   True 0.000e+00"
      ]
     },
     "execution_count": 1,
     "metadata": {},
     "output_type": "execute_result"
    }
   ],
   "source": [
    "result.parameters.to_table()"
   ]
  },
  {
   "cell_type": "code",
   "execution_count": null,
   "metadata": {},
   "outputs": [],
   "source": []
  }
 ],
 "metadata": {
  "kernelspec": {
   "display_name": "Python 3",
   "language": "python",
   "name": "python3"
  },
  "language_info": {
   "codemirror_mode": {
    "name": "ipython",
    "version": 3
   },
   "file_extension": ".py",
   "mimetype": "text/x-python",
   "name": "python",
   "nbconvert_exporter": "python",
   "pygments_lexer": "ipython3",
   "version": "3.7.0"
  },
  "nbsphinx": {
   "orphan": true
  },
  "widgets": {
   "application/vnd.jupyter.widget-state+json": {
    "state": {
     "2cdc525f35a9432685ce649bb9c87cac": {
      "model_module": "@jupyter-widgets/base",
      "model_module_version": "1.2.0",
      "model_name": "LayoutModel",
      "state": {
       "_model_module": "@jupyter-widgets/base",
       "_model_module_version": "1.2.0",
       "_model_name": "LayoutModel",
       "_view_count": null,
       "_view_module": "@jupyter-widgets/base",
       "_view_module_version": "1.2.0",
       "_view_name": "LayoutView",
       "align_content": null,
       "align_items": null,
       "align_self": null,
       "border": null,
       "bottom": null,
       "display": null,
       "flex": null,
       "flex_flow": null,
       "grid_area": null,
       "grid_auto_columns": null,
       "grid_auto_flow": null,
       "grid_auto_rows": null,
       "grid_column": null,
       "grid_gap": null,
       "grid_row": null,
       "grid_template_areas": null,
       "grid_template_columns": null,
       "grid_template_rows": null,
       "height": null,
       "justify_content": null,
       "justify_items": null,
       "left": null,
       "margin": null,
       "max_height": null,
       "max_width": null,
       "min_height": null,
       "min_width": null,
       "object_fit": null,
       "object_position": null,
       "order": null,
       "overflow": null,
       "overflow_x": null,
       "overflow_y": null,
       "padding": null,
       "right": null,
       "top": null,
       "visibility": null,
       "width": null
      }
     },
     "3ad963a6d1734cb9aef46dd296655599": {
      "model_module": "@jupyter-widgets/base",
      "model_module_version": "1.2.0",
      "model_name": "LayoutModel",
      "state": {
       "_model_module": "@jupyter-widgets/base",
       "_model_module_version": "1.2.0",
       "_model_name": "LayoutModel",
       "_view_count": null,
       "_view_module": "@jupyter-widgets/base",
       "_view_module_version": "1.2.0",
       "_view_name": "LayoutView",
       "align_content": null,
       "align_items": null,
       "align_self": null,
       "border": null,
       "bottom": null,
       "display": null,
       "flex": null,
       "flex_flow": null,
       "grid_area": null,
       "grid_auto_columns": null,
       "grid_auto_flow": null,
       "grid_auto_rows": null,
       "grid_column": null,
       "grid_gap": null,
       "grid_row": null,
       "grid_template_areas": null,
       "grid_template_columns": null,
       "grid_template_rows": null,
       "height": null,
       "justify_content": null,
       "justify_items": null,
       "left": null,
       "margin": null,
       "max_height": null,
       "max_width": null,
       "min_height": null,
       "min_width": null,
       "object_fit": null,
       "object_position": null,
       "order": null,
       "overflow": null,
       "overflow_x": null,
       "overflow_y": null,
       "padding": null,
       "right": null,
       "top": null,
       "visibility": null,
       "width": null
      }
     },
     "54791f5b2f4440f1bd40cdad6dcb8284": {
      "model_module": "@jupyter-widgets/controls",
      "model_module_version": "1.5.0",
      "model_name": "VBoxModel",
      "state": {
       "_dom_classes": [
        "widget-interact"
       ],
       "_model_module": "@jupyter-widgets/controls",
       "_model_module_version": "1.5.0",
       "_model_name": "VBoxModel",
       "_view_count": null,
       "_view_module": "@jupyter-widgets/controls",
       "_view_module_version": "1.5.0",
       "_view_name": "VBoxView",
       "box_style": "",
       "children": [
        "IPY_MODEL_e3c86cf6eb9048fd9b557d6dfc8a84fd",
        "IPY_MODEL_c93cd83c77da4f12a661d99a5cf8077e",
        "IPY_MODEL_70b32b24a2af4bf4a74b01e81de3a4ca"
       ],
       "layout": "IPY_MODEL_9c9fcf4e9e6e4d4d8787ffc5337d48ae"
      }
     },
     "7085334767244dd5ae468807d9c0ca12": {
      "model_module": "@jupyter-widgets/base",
      "model_module_version": "1.2.0",
      "model_name": "LayoutModel",
      "state": {
       "_model_module": "@jupyter-widgets/base",
       "_model_module_version": "1.2.0",
       "_model_name": "LayoutModel",
       "_view_count": null,
       "_view_module": "@jupyter-widgets/base",
       "_view_module_version": "1.2.0",
       "_view_name": "LayoutView",
       "align_content": null,
       "align_items": null,
       "align_self": null,
       "border": null,
       "bottom": null,
       "display": null,
       "flex": null,
       "flex_flow": null,
       "grid_area": null,
       "grid_auto_columns": null,
       "grid_auto_flow": null,
       "grid_auto_rows": null,
       "grid_column": null,
       "grid_gap": null,
       "grid_row": null,
       "grid_template_areas": null,
       "grid_template_columns": null,
       "grid_template_rows": null,
       "height": null,
       "justify_content": null,
       "justify_items": null,
       "left": null,
       "margin": null,
       "max_height": null,
       "max_width": null,
       "min_height": null,
       "min_width": null,
       "object_fit": null,
       "object_position": null,
       "order": null,
       "overflow": null,
       "overflow_x": null,
       "overflow_y": null,
       "padding": null,
       "right": null,
       "top": null,
       "visibility": null,
       "width": "50%"
      }
     },
     "70b32b24a2af4bf4a74b01e81de3a4ca": {
      "model_module": "@jupyter-widgets/output",
      "model_module_version": "1.0.0",
      "model_name": "OutputModel",
      "state": {
       "_dom_classes": [],
       "_model_module": "@jupyter-widgets/output",
       "_model_module_version": "1.0.0",
       "_model_name": "OutputModel",
       "_view_count": null,
       "_view_module": "@jupyter-widgets/output",
       "_view_module_version": "1.0.0",
       "_view_name": "OutputView",
       "layout": "IPY_MODEL_2cdc525f35a9432685ce649bb9c87cac",
       "msg_id": "",
       "outputs": [
        {
         "data": {
          "image/png": "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\n",
          "text/plain": "<Figure size 432x288 with 2 Axes>"
         },
         "metadata": {
          "needs_background": "light"
         },
         "output_type": "display_data"
        }
       ]
      }
     },
     "7ef9bdd97e4d463f9461ce74e2eedc8c": {
      "model_module": "@jupyter-widgets/controls",
      "model_module_version": "1.5.0",
      "model_name": "DescriptionStyleModel",
      "state": {
       "_model_module": "@jupyter-widgets/controls",
       "_model_module_version": "1.5.0",
       "_model_name": "DescriptionStyleModel",
       "_view_count": null,
       "_view_module": "@jupyter-widgets/base",
       "_view_module_version": "1.2.0",
       "_view_name": "StyleView",
       "description_width": "initial"
      }
     },
     "9c9fcf4e9e6e4d4d8787ffc5337d48ae": {
      "model_module": "@jupyter-widgets/base",
      "model_module_version": "1.2.0",
      "model_name": "LayoutModel",
      "state": {
       "_model_module": "@jupyter-widgets/base",
       "_model_module_version": "1.2.0",
       "_model_name": "LayoutModel",
       "_view_count": null,
       "_view_module": "@jupyter-widgets/base",
       "_view_module_version": "1.2.0",
       "_view_name": "LayoutView",
       "align_content": null,
       "align_items": null,
       "align_self": null,
       "border": null,
       "bottom": null,
       "display": null,
       "flex": null,
       "flex_flow": null,
       "grid_area": null,
       "grid_auto_columns": null,
       "grid_auto_flow": null,
       "grid_auto_rows": null,
       "grid_column": null,
       "grid_gap": null,
       "grid_row": null,
       "grid_template_areas": null,
       "grid_template_columns": null,
       "grid_template_rows": null,
       "height": null,
       "justify_content": null,
       "justify_items": null,
       "left": null,
       "margin": null,
       "max_height": null,
       "max_width": null,
       "min_height": null,
       "min_width": null,
       "object_fit": null,
       "object_position": null,
       "order": null,
       "overflow": null,
       "overflow_x": null,
       "overflow_y": null,
       "padding": null,
       "right": null,
       "top": null,
       "visibility": null,
       "width": null
      }
     },
     "c93cd83c77da4f12a661d99a5cf8077e": {
      "model_module": "@jupyter-widgets/controls",
      "model_module_version": "1.5.0",
      "model_name": "RadioButtonsModel",
      "state": {
       "_dom_classes": [],
       "_model_module": "@jupyter-widgets/controls",
       "_model_module_version": "1.5.0",
       "_model_name": "RadioButtonsModel",
       "_options_labels": [
        "linear",
        "sqrt",
        "log"
       ],
       "_view_count": null,
       "_view_module": "@jupyter-widgets/controls",
       "_view_module_version": "1.5.0",
       "_view_name": "RadioButtonsView",
       "description": "Select stretch:",
       "description_tooltip": null,
       "disabled": false,
       "index": 0,
       "layout": "IPY_MODEL_3ad963a6d1734cb9aef46dd296655599",
       "style": "IPY_MODEL_7ef9bdd97e4d463f9461ce74e2eedc8c"
      }
     },
     "d2484b259ec9408ab4497402cfdb4891": {
      "model_module": "@jupyter-widgets/controls",
      "model_module_version": "1.5.0",
      "model_name": "DescriptionStyleModel",
      "state": {
       "_model_module": "@jupyter-widgets/controls",
       "_model_module_version": "1.5.0",
       "_model_name": "DescriptionStyleModel",
       "_view_count": null,
       "_view_module": "@jupyter-widgets/base",
       "_view_module_version": "1.2.0",
       "_view_name": "StyleView",
       "description_width": "initial"
      }
     },
     "e3c86cf6eb9048fd9b557d6dfc8a84fd": {
      "model_module": "@jupyter-widgets/controls",
      "model_module_version": "1.5.0",
      "model_name": "SelectionSliderModel",
      "state": {
       "_dom_classes": [],
       "_model_module": "@jupyter-widgets/controls",
       "_model_module_version": "1.5.0",
       "_model_name": "SelectionSliderModel",
       "_options_labels": [
        "1.00e-01 TeV - 1.67e-01 TeV TeV",
        "1.67e-01 TeV - 2.78e-01 TeV TeV",
        "2.78e-01 TeV - 4.64e-01 TeV TeV",
        "4.64e-01 TeV - 7.74e-01 TeV TeV",
        "7.74e-01 TeV - 1.29e+00 TeV TeV",
        "1.29e+00 TeV - 2.15e+00 TeV TeV",
        "2.15e+00 TeV - 3.59e+00 TeV TeV",
        "3.59e+00 TeV - 5.99e+00 TeV TeV",
        "5.99e+00 TeV - 1.00e+01 TeV TeV"
       ],
       "_view_count": null,
       "_view_module": "@jupyter-widgets/controls",
       "_view_module_version": "1.5.0",
       "_view_name": "SelectionSliderView",
       "continuous_update": false,
       "description": "Select energy:",
       "description_tooltip": null,
       "disabled": false,
       "index": 0,
       "layout": "IPY_MODEL_7085334767244dd5ae468807d9c0ca12",
       "orientation": "horizontal",
       "readout": true,
       "style": "IPY_MODEL_d2484b259ec9408ab4497402cfdb4891"
      }
     }
    },
    "version_major": 2,
    "version_minor": 0
   }
  }
 },
 "nbformat": 4,
 "nbformat_minor": 4
}
