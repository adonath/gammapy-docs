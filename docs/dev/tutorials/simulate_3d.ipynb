{
 "cells": [
  {
   "cell_type": "markdown",
   "metadata": {},
   "source": [
    "\n",
    "<div class=\"alert alert-info\">\n",
    "\n",
    "**This is a fixed-text formatted version of a Jupyter notebook**\n",
    "\n",
    "- Try online [![Binder](https://static.mybinder.org/badge.svg)](https://mybinder.org/v2/gh/gammapy/gammapy-webpage/master?urlpath=lab/tree/simulate_3d.ipynb)\n",
    "- You can contribute with your own notebooks in this\n",
    "[GitHub repository](https://github.com/gammapy/gammapy/tree/master/docs/tutorials).\n",
    "- **Source files:**\n",
    "[simulate_3d.ipynb](../_static/notebooks/simulate_3d.ipynb) |\n",
    "[simulate_3d.py](../_static/notebooks/simulate_3d.py)\n",
    "</div>\n"
   ]
  },
  {
   "cell_type": "markdown",
   "metadata": {},
   "source": [
    "# 3D simulation and fitting\n",
    "\n",
    "## Prerequisites\n",
    "\n",
    "- Knowledge of 3D extraction and datasets used in gammapy, see for instance the [first analysis tutorial](analysis_1.ipynb)\n",
    "\n",
    "## Context\n",
    "\n",
    "To simulate a specific observation, it is not always necessary to simulate the full photon list. For many uses cases, simulating directly a reduced binned dataset is enough: the IRFs reduced in the correct geometry are combined with a source model to predict an actual number of counts per bin. The latter is then used to simulate a reduced dataset using Poisson probability distribution.\n",
    "\n",
    "This can be done to check the feasibility of a measurement (performance / sensitivity study), to test whether fitted parameters really provide a good fit to the data etc.\n",
    "\n",
    "Here we will see how to perform a 3D simulation of a CTA observation, assuming both the spectral and spatial morphology of an observed source.\n",
    "\n",
    "**Objective: simulate a 3D observation of a source with CTA using the CTA 1DC response and fit it with the assumed source model.**\n",
    "\n",
    "## Proposed approach:\n",
    "\n",
    "Here we can't use the regular observation objects that are connected to a `DataStore`. Instead we will create a fake `~gammapy.data.Observation` that contain some pointing information and the CTA 1DC IRFs (that are loaded with `~gammapy.irf.load_cta_irfs`).\n",
    "\n",
    "Then we will create a `~gammapy.datasets.MapDataset` geometry and create it with the `~gammapy.makers.MapDatasetMaker`.\n",
    "\n",
    "Then we will be able to define a model consisting of  a `~gammapy.modeling.models.PowerLawSpectralModel` and a `~gammapy.modeling.models.GaussianSpatialModel`. We will assign it to the dataset and fake the count data.\n"
   ]
  },
  {
   "cell_type": "markdown",
   "metadata": {},
   "source": [
    "## Imports and versions"
   ]
  },
  {
   "cell_type": "code",
   "execution_count": 1,
   "metadata": {
    "execution": {
     "iopub.execute_input": "2020-11-04T00:39:56.367837Z",
     "iopub.status.busy": "2020-11-04T00:39:56.367273Z",
     "iopub.status.idle": "2020-11-04T00:39:56.639757Z",
     "shell.execute_reply": "2020-11-04T00:39:56.638630Z"
    }
   },
   "outputs": [],
   "source": [
    "%matplotlib inline"
   ]
  },
  {
   "cell_type": "code",
   "execution_count": 2,
   "metadata": {
    "execution": {
     "iopub.execute_input": "2020-11-04T00:39:56.645575Z",
     "iopub.status.busy": "2020-11-04T00:39:56.644741Z",
     "iopub.status.idle": "2020-11-04T00:39:57.521829Z",
     "shell.execute_reply": "2020-11-04T00:39:57.520811Z"
    }
   },
   "outputs": [],
   "source": [
    "import numpy as np\n",
    "import astropy.units as u\n",
    "from astropy.coordinates import SkyCoord\n",
    "from gammapy.irf import load_cta_irfs\n",
    "from gammapy.maps import WcsGeom, MapAxis\n",
    "from gammapy.modeling.models import (\n",
    "    PowerLawSpectralModel,\n",
    "    GaussianSpatialModel,\n",
    "    SkyModel,\n",
    "    Models,\n",
    "    FoVBackgroundModel,\n",
    ")\n",
    "from gammapy.makers import MapDatasetMaker, SafeMaskMaker\n",
    "from gammapy.modeling import Fit\n",
    "from gammapy.data import Observation\n",
    "from gammapy.datasets import MapDataset"
   ]
  },
  {
   "cell_type": "code",
   "execution_count": 3,
   "metadata": {
    "execution": {
     "iopub.execute_input": "2020-11-04T00:39:57.526304Z",
     "iopub.status.busy": "2020-11-04T00:39:57.525711Z",
     "iopub.status.idle": "2020-11-04T00:39:59.402268Z",
     "shell.execute_reply": "2020-11-04T00:39:59.401218Z"
    }
   },
   "outputs": [
    {
     "name": "stdout",
     "output_type": "stream",
     "text": [
      "\r\n",
      "Gammapy package:\r\n",
      "\r\n",
      "\tversion                : 0.18.dev1207+g1337a59ea \r\n",
      "\tpath                   : /home/runner/work/gammapy-docs/gammapy-docs/gammapy/gammapy \r\n",
      "\r\n"
     ]
    }
   ],
   "source": [
    "!gammapy info --no-envvar --no-dependencies --no-system"
   ]
  },
  {
   "cell_type": "markdown",
   "metadata": {},
   "source": [
    "## Simulation"
   ]
  },
  {
   "cell_type": "markdown",
   "metadata": {},
   "source": [
    "We will simulate using the CTA-1DC IRFs shipped with gammapy. Note that for dedictaed CTA simulations, you can simply use [`Observation.from_caldb()`]() without having to externally load the IRFs"
   ]
  },
  {
   "cell_type": "code",
   "execution_count": 4,
   "metadata": {
    "execution": {
     "iopub.execute_input": "2020-11-04T00:39:59.411448Z",
     "iopub.status.busy": "2020-11-04T00:39:59.408697Z",
     "iopub.status.idle": "2020-11-04T00:39:59.510954Z",
     "shell.execute_reply": "2020-11-04T00:39:59.509814Z"
    }
   },
   "outputs": [
    {
     "name": "stderr",
     "output_type": "stream",
     "text": [
      "Invalid unit found in background table! Assuming (s-1 MeV-1 sr-1)\n"
     ]
    }
   ],
   "source": [
    "# Loading IRFs\n",
    "irfs = load_cta_irfs(\n",
    "    \"$GAMMAPY_DATA/cta-1dc/caldb/data/cta/1dc/bcf/South_z20_50h/irf_file.fits\"\n",
    ")"
   ]
  },
  {
   "cell_type": "code",
   "execution_count": 5,
   "metadata": {
    "execution": {
     "iopub.execute_input": "2020-11-04T00:39:59.516192Z",
     "iopub.status.busy": "2020-11-04T00:39:59.515676Z",
     "iopub.status.idle": "2020-11-04T00:39:59.518062Z",
     "shell.execute_reply": "2020-11-04T00:39:59.518470Z"
    }
   },
   "outputs": [],
   "source": [
    "# Define the observation parameters (typically the observation duration and the pointing position):\n",
    "livetime = 2.0 * u.hr\n",
    "pointing = SkyCoord(0, 0, unit=\"deg\", frame=\"galactic\")"
   ]
  },
  {
   "cell_type": "code",
   "execution_count": 6,
   "metadata": {
    "execution": {
     "iopub.execute_input": "2020-11-04T00:39:59.526628Z",
     "iopub.status.busy": "2020-11-04T00:39:59.525266Z",
     "iopub.status.idle": "2020-11-04T00:39:59.539157Z",
     "shell.execute_reply": "2020-11-04T00:39:59.538705Z"
    }
   },
   "outputs": [],
   "source": [
    "# Define map geometry for binned simulation\n",
    "energy_reco = MapAxis.from_edges(\n",
    "    np.logspace(-1.0, 1.0, 10), unit=\"TeV\", name=\"energy\", interp=\"log\"\n",
    ")\n",
    "geom = WcsGeom.create(\n",
    "    skydir=(0, 0),\n",
    "    binsz=0.02,\n",
    "    width=(6, 6),\n",
    "    frame=\"galactic\",\n",
    "    axes=[energy_reco],\n",
    ")\n",
    "# It is usually useful to have a separate binning for the true energy axis\n",
    "energy_true = MapAxis.from_edges(\n",
    "    np.logspace(-1.5, 1.5, 30), unit=\"TeV\", name=\"energy\", interp=\"log\"\n",
    ")\n",
    "\n",
    "empty = MapDataset.create(geom, name=\"dataset-simu\")"
   ]
  },
  {
   "cell_type": "code",
   "execution_count": 7,
   "metadata": {
    "execution": {
     "iopub.execute_input": "2020-11-04T00:39:59.558747Z",
     "iopub.status.busy": "2020-11-04T00:39:59.558022Z",
     "iopub.status.idle": "2020-11-04T00:39:59.562548Z",
     "shell.execute_reply": "2020-11-04T00:39:59.562971Z"
    }
   },
   "outputs": [
    {
     "name": "stdout",
     "output_type": "stream",
     "text": [
      "Models\n",
      "\n",
      "Component 0: SkyModel\n",
      "\n",
      "  Name                      : model-simu\n",
      "  Datasets names            : None\n",
      "  Spectral model type       : PowerLawSpectralModel\n",
      "  Spatial  model type       : GaussianSpatialModel\n",
      "  Temporal model type       : \n",
      "  Parameters:\n",
      "    index                   :   3.000              \n",
      "    amplitude               :   1.00e-11  1 / (cm2 s TeV)\n",
      "    reference    (frozen)   :   1.000  TeV         \n",
      "    lon_0                   :   0.200  deg         \n",
      "    lat_0                   :   0.100  deg         \n",
      "    sigma                   :   0.300  deg         \n",
      "    e            (frozen)   :   0.000              \n",
      "    phi          (frozen)   :   0.000  deg         \n",
      "\n",
      "Component 1: FoVBackgroundModel\n",
      "\n",
      "  Name                      : dataset-simu-bkg\n",
      "  Datasets names            : ['dataset-simu']\n",
      "  Spectral model type       : PowerLawNormSpectralModel\n",
      "  Parameters:\n",
      "    norm                    :   1.000              \n",
      "    tilt         (frozen)   :   0.000              \n",
      "    reference    (frozen)   :   1.000  TeV         \n",
      "\n",
      "\n"
     ]
    }
   ],
   "source": [
    "# Define sky model to used simulate the data.\n",
    "# Here we use a Gaussian spatial model and a Power Law spectral model.\n",
    "spatial_model = GaussianSpatialModel(\n",
    "    lon_0=\"0.2 deg\", lat_0=\"0.1 deg\", sigma=\"0.3 deg\", frame=\"galactic\"\n",
    ")\n",
    "spectral_model = PowerLawSpectralModel(\n",
    "    index=3, amplitude=\"1e-11 cm-2 s-1 TeV-1\", reference=\"1 TeV\"\n",
    ")\n",
    "model_simu = SkyModel(\n",
    "    spatial_model=spatial_model,\n",
    "    spectral_model=spectral_model,\n",
    "    name=\"model-simu\",\n",
    ")\n",
    "\n",
    "bkg_model = FoVBackgroundModel(dataset_name=\"dataset-simu\")\n",
    "\n",
    "models = Models([model_simu, bkg_model])\n",
    "print(models)"
   ]
  },
  {
   "cell_type": "markdown",
   "metadata": {},
   "source": [
    "Now, comes the main part of dataset simulation. We create an in-memory observation and an empty dataset. We then predict the number of counts for the given model, and Poission fluctuate it using `fake()` to make a simulated counts maps. Keep in mind that it is important to specify the `selection` of the maps that you want to produce "
   ]
  },
  {
   "cell_type": "code",
   "execution_count": 8,
   "metadata": {
    "execution": {
     "iopub.execute_input": "2020-11-04T00:39:59.576593Z",
     "iopub.status.busy": "2020-11-04T00:39:59.576128Z",
     "iopub.status.idle": "2020-11-04T00:39:59.579665Z",
     "shell.execute_reply": "2020-11-04T00:39:59.580170Z"
    }
   },
   "outputs": [
    {
     "name": "stdout",
     "output_type": "stream",
     "text": [
      "Observation\n",
      "\n",
      "\tobs id            : 0 \n",
      " \ttstart            : 51544.00\n",
      "\ttstop             : 51544.08\n",
      "\tduration          : 7200.00 s\n",
      "\tpointing (icrs)   : 266.4 deg, -28.9 deg\n",
      "\n",
      "\tdeadtime fraction : 0.0%\n",
      "\n"
     ]
    }
   ],
   "source": [
    "# Create an in-memory observation\n",
    "obs = Observation.create(pointing=pointing, livetime=livetime, irfs=irfs)\n",
    "print(obs)"
   ]
  },
  {
   "cell_type": "code",
   "execution_count": 9,
   "metadata": {
    "execution": {
     "iopub.execute_input": "2020-11-04T00:39:59.587456Z",
     "iopub.status.busy": "2020-11-04T00:39:59.586952Z",
     "iopub.status.idle": "2020-11-04T00:40:01.724151Z",
     "shell.execute_reply": "2020-11-04T00:40:01.723343Z"
    }
   },
   "outputs": [
    {
     "name": "stdout",
     "output_type": "stream",
     "text": [
      "MapDataset\n",
      "----------\n",
      "\n",
      "  Name                            : dataset-simu \n",
      "\n",
      "  Total counts                    : nan \n",
      "  Total background counts         : 161250.95\n",
      "  Total excess counts             : nan\n",
      "\n",
      "  Predicted counts                : 161250.95\n",
      "  Predicted background counts     : 161250.95\n",
      "  Predicted excess counts         : nan\n",
      "\n",
      "  Exposure min                    : 6.41e+07 m2 s\n",
      "  Exposure max                    : 2.53e+10 m2 s\n",
      "\n",
      "  Number of total bins            : 0 \n",
      "  Number of fit bins              : 804492 \n",
      "\n",
      "  Fit statistic type              : cash\n",
      "  Fit statistic value (-2 log(L)) : nan\n",
      "\n",
      "  Number of models                : 0 \n",
      "  Number of parameters            : 0\n",
      "  Number of free parameters       : 0\n",
      "\n",
      "\n"
     ]
    }
   ],
   "source": [
    "# Make the MapDataset\n",
    "maker = MapDatasetMaker(selection=[\"exposure\", \"background\", \"psf\", \"edisp\"])\n",
    "\n",
    "maker_safe_mask = SafeMaskMaker(methods=[\"offset-max\"], offset_max=4.0 * u.deg)\n",
    "\n",
    "dataset = maker.run(empty, obs)\n",
    "dataset = maker_safe_mask.run(dataset, obs)\n",
    "print(dataset)"
   ]
  },
  {
   "cell_type": "code",
   "execution_count": 10,
   "metadata": {
    "execution": {
     "iopub.execute_input": "2020-11-04T00:40:01.730356Z",
     "iopub.status.busy": "2020-11-04T00:40:01.729594Z",
     "iopub.status.idle": "2020-11-04T00:40:02.569769Z",
     "shell.execute_reply": "2020-11-04T00:40:02.568091Z"
    }
   },
   "outputs": [
    {
     "name": "stdout",
     "output_type": "stream",
     "text": [
      "MapDataset\n",
      "----------\n",
      "\n",
      "  Name                            : dataset-simu \n",
      "\n",
      "  Total counts                    : 169015 \n",
      "  Total background counts         : 161250.95\n",
      "  Total excess counts             : 7764.05\n",
      "\n",
      "  Predicted counts                : 169690.08\n",
      "  Predicted background counts     : 161250.95\n",
      "  Predicted excess counts         : 8439.14\n",
      "\n",
      "  Exposure min                    : 6.41e+07 m2 s\n",
      "  Exposure max                    : 2.53e+10 m2 s\n",
      "\n",
      "  Number of total bins            : 810000 \n",
      "  Number of fit bins              : 804492 \n",
      "\n",
      "  Fit statistic type              : cash\n",
      "  Fit statistic value (-2 log(L)) : 562316.59\n",
      "\n",
      "  Number of models                : 2 \n",
      "  Number of parameters            : 11\n",
      "  Number of free parameters       : 6\n",
      "\n",
      "  Component 0: SkyModel\n",
      "  \n",
      "    Name                      : model-simu\n",
      "    Datasets names            : None\n",
      "    Spectral model type       : PowerLawSpectralModel\n",
      "    Spatial  model type       : GaussianSpatialModel\n",
      "    Temporal model type       : \n",
      "    Parameters:\n",
      "      index                   :   3.000              \n",
      "      amplitude               :   1.00e-11  1 / (cm2 s TeV)\n",
      "      reference    (frozen)   :   1.000  TeV         \n",
      "      lon_0                   :   0.200  deg         \n",
      "      lat_0                   :   0.100  deg         \n",
      "      sigma                   :   0.300  deg         \n",
      "      e            (frozen)   :   0.000              \n",
      "      phi          (frozen)   :   0.000  deg         \n",
      "  \n",
      "  Component 1: FoVBackgroundModel\n",
      "  \n",
      "    Name                      : dataset-simu-bkg\n",
      "    Datasets names            : ['dataset-simu']\n",
      "    Spectral model type       : PowerLawNormSpectralModel\n",
      "    Parameters:\n",
      "      norm                    :   1.000              \n",
      "      tilt         (frozen)   :   0.000              \n",
      "      reference    (frozen)   :   1.000  TeV         \n",
      "  \n",
      "  \n"
     ]
    }
   ],
   "source": [
    "# Add the model on the dataset and Poission fluctuate\n",
    "dataset.models = models\n",
    "dataset.fake()\n",
    "# Do a print on the dataset - there is now a counts maps\n",
    "print(dataset)"
   ]
  },
  {
   "cell_type": "markdown",
   "metadata": {},
   "source": [
    "Now use this dataset as you would in all standard analysis. You can plot the maps, or proceed with your custom analysis. \n",
    "In the next section, we show the standard 3D fitting as in [analysis_3d](analysis_3d.ipynb)."
   ]
  },
  {
   "cell_type": "code",
   "execution_count": 11,
   "metadata": {
    "execution": {
     "iopub.execute_input": "2020-11-04T00:40:02.575347Z",
     "iopub.status.busy": "2020-11-04T00:40:02.574579Z",
     "iopub.status.idle": "2020-11-04T00:40:03.286012Z",
     "shell.execute_reply": "2020-11-04T00:40:03.285455Z"
    }
   },
   "outputs": [
    {
     "data": {
      "application/vnd.jupyter.widget-view+json": {
       "model_id": "af4383610c5d4fd8941769e2d6a2c11d",
       "version_major": 2,
       "version_minor": 0
      },
      "text/plain": [
       "interactive(children=(SelectionSlider(continuous_update=False, description='Select energy:', layout=Layout(wid…"
      ]
     },
     "metadata": {},
     "output_type": "display_data"
    }
   ],
   "source": [
    "# To plot, eg, counts:\n",
    "dataset.counts.smooth(0.05 * u.deg).plot_interactive(\n",
    "    add_cbar=True, stretch=\"linear\"\n",
    ")"
   ]
  },
  {
   "cell_type": "markdown",
   "metadata": {},
   "source": [
    "## Fit\n",
    "\n",
    "In this section, we do a usual 3D fit with the same model used to simulated the data and see the stability of the simulations. Often, it is useful to simulate many such datasets and look at the distribution of the reconstructed parameters."
   ]
  },
  {
   "cell_type": "code",
   "execution_count": 12,
   "metadata": {
    "execution": {
     "iopub.execute_input": "2020-11-04T00:40:03.293208Z",
     "iopub.status.busy": "2020-11-04T00:40:03.292187Z",
     "iopub.status.idle": "2020-11-04T00:40:03.293757Z",
     "shell.execute_reply": "2020-11-04T00:40:03.294254Z"
    }
   },
   "outputs": [],
   "source": [
    "models_fit = models.copy()"
   ]
  },
  {
   "cell_type": "code",
   "execution_count": 13,
   "metadata": {
    "execution": {
     "iopub.execute_input": "2020-11-04T00:40:03.298616Z",
     "iopub.status.busy": "2020-11-04T00:40:03.297556Z",
     "iopub.status.idle": "2020-11-04T00:40:03.299146Z",
     "shell.execute_reply": "2020-11-04T00:40:03.299639Z"
    }
   },
   "outputs": [],
   "source": [
    "# We do not want to fit the background in this case, so we will freeze the parameters\n",
    "models_fit[\"dataset-simu-bkg\"].spectral_model.norm.frozen = True\n",
    "models_fit[\"dataset-simu-bkg\"].spectral_model.tilt.frozen = True"
   ]
  },
  {
   "cell_type": "code",
   "execution_count": 14,
   "metadata": {
    "execution": {
     "iopub.execute_input": "2020-11-04T00:40:03.305106Z",
     "iopub.status.busy": "2020-11-04T00:40:03.304593Z",
     "iopub.status.idle": "2020-11-04T00:40:03.422718Z",
     "shell.execute_reply": "2020-11-04T00:40:03.422133Z"
    }
   },
   "outputs": [
    {
     "name": "stdout",
     "output_type": "stream",
     "text": [
      "DatasetModels\n",
      "\n",
      "Component 0: SkyModel\n",
      "\n",
      "  Name                      : model-simu\n",
      "  Datasets names            : None\n",
      "  Spectral model type       : PowerLawSpectralModel\n",
      "  Spatial  model type       : GaussianSpatialModel\n",
      "  Temporal model type       : \n",
      "  Parameters:\n",
      "    index                   :   3.000              \n",
      "    amplitude               :   1.00e-11  1 / (cm2 s TeV)\n",
      "    reference    (frozen)   :   1.000  TeV         \n",
      "    lon_0                   :   0.200  deg         \n",
      "    lat_0                   :   0.100  deg         \n",
      "    sigma                   :   0.300  deg         \n",
      "    e            (frozen)   :   0.000              \n",
      "    phi          (frozen)   :   0.000  deg         \n",
      "\n",
      "Component 1: FoVBackgroundModel\n",
      "\n",
      "  Name                      : dataset-simu-bkg\n",
      "  Datasets names            : ['dataset-simu']\n",
      "  Spectral model type       : PowerLawNormSpectralModel\n",
      "  Parameters:\n",
      "    norm         (frozen)   :   1.000              \n",
      "    tilt         (frozen)   :   0.000              \n",
      "    reference    (frozen)   :   1.000  TeV         \n",
      "\n",
      "\n"
     ]
    }
   ],
   "source": [
    "dataset.models = models_fit\n",
    "print(dataset.models)"
   ]
  },
  {
   "cell_type": "code",
   "execution_count": 15,
   "metadata": {
    "execution": {
     "iopub.execute_input": "2020-11-04T00:40:03.429670Z",
     "iopub.status.busy": "2020-11-04T00:40:03.429119Z",
     "iopub.status.idle": "2020-11-04T00:40:10.373323Z",
     "shell.execute_reply": "2020-11-04T00:40:10.373984Z"
    }
   },
   "outputs": [
    {
     "name": "stdout",
     "output_type": "stream",
     "text": [
      "┌──────────────────────────────────┬──────────────────────────────────────┐\n",
      "│ FCN = 5.623e+05                  │       Ncalls = 113 (113 total)       │\n",
      "│ EDM = 5.7e-05 (Goal: 0.0002)     │               up = 1.0               │\n",
      "├───────────────┬──────────────────┼──────────────────────────────────────┤\n",
      "│ Valid Minimum │ Valid Parameters │       SOME Parameters at limit       │\n",
      "├───────────────┴──────────────────┼──────────────────────────────────────┤\n",
      "│ Below EDM threshold (goal x 10)  │           Below call limit           │\n",
      "├───────────────┬──────────────────┼───────────┬─────────────┬────────────┤\n",
      "│   Hesse ok    │  Has Covariance  │ Accurate  │  Pos. def.  │ Not forced │\n",
      "└───────────────┴──────────────────┴───────────┴─────────────┴────────────┘\n",
      "CPU times: user 6.91 s, sys: 34.8 ms, total: 6.94 s\n",
      "Wall time: 6.94 s\n"
     ]
    }
   ],
   "source": [
    "%%time\n",
    "fit = Fit([dataset])\n",
    "result = fit.run(optimize_opts={\"print_level\": 1})"
   ]
  },
  {
   "cell_type": "code",
   "execution_count": 16,
   "metadata": {
    "execution": {
     "iopub.execute_input": "2020-11-04T00:40:10.379569Z",
     "iopub.status.busy": "2020-11-04T00:40:10.379098Z",
     "iopub.status.idle": "2020-11-04T00:40:10.947690Z",
     "shell.execute_reply": "2020-11-04T00:40:10.948587Z"
    }
   },
   "outputs": [
    {
     "name": "stderr",
     "output_type": "stream",
     "text": [
      "/usr/share/miniconda/envs/gammapy-dev/lib/python3.7/site-packages/astropy/visualization/wcsaxes/core.py:211: MatplotlibDeprecationWarning: Passing parameters norm and vmin/vmax simultaneously is deprecated since 3.3 and will become an error two minor releases later. Please pass vmin/vmax directly to the norm when creating it.\n",
      "  return super().imshow(X, *args, origin=origin, **kwargs)\n"
     ]
    },
    {
     "data": {
      "text/plain": [
       "(<WCSAxesSubplot:xlabel='Galactic Longitude', ylabel='Galactic Latitude'>,\n",
       " None)"
      ]
     },
     "execution_count": 1,
     "metadata": {},
     "output_type": "execute_result"
    },
    {
     "data": {
      "image/png": "[encoded data removed]",
      "text/plain": [
       "<Figure size 864x288 with 2 Axes>"
      ]
     },
     "metadata": {
      "needs_background": "light"
     },
     "output_type": "display_data"
    }
   ],
   "source": [
    "dataset.plot_residuals(method=\"diff/sqrt(model)\", vmin=-0.5, vmax=0.5);"
   ]
  },
  {
   "cell_type": "markdown",
   "metadata": {},
   "source": [
    "Compare the injected and fitted models: "
   ]
  },
  {
   "cell_type": "code",
   "execution_count": 17,
   "metadata": {
    "execution": {
     "iopub.execute_input": "2020-11-04T00:40:10.952912Z",
     "iopub.status.busy": "2020-11-04T00:40:10.952387Z",
     "iopub.status.idle": "2020-11-04T00:40:10.956191Z",
     "shell.execute_reply": "2020-11-04T00:40:10.955739Z"
    }
   },
   "outputs": [
    {
     "name": "stdout",
     "output_type": "stream",
     "text": [
      "True model: \n",
      " SkyModel\n",
      "\n",
      "  Name                      : model-simu\n",
      "  Datasets names            : None\n",
      "  Spectral model type       : PowerLawSpectralModel\n",
      "  Spatial  model type       : GaussianSpatialModel\n",
      "  Temporal model type       : \n",
      "  Parameters:\n",
      "    index                   :   3.000              \n",
      "    amplitude               :   1.00e-11  1 / (cm2 s TeV)\n",
      "    reference    (frozen)   :   1.000  TeV         \n",
      "    lon_0                   :   0.200  deg         \n",
      "    lat_0                   :   0.100  deg         \n",
      "    sigma                   :   0.300  deg         \n",
      "    e            (frozen)   :   0.000              \n",
      "    phi          (frozen)   :   0.000  deg         \n",
      "\n",
      " \n",
      "\n",
      " Fitted model: \n",
      " SkyModel\n",
      "\n",
      "  Name                      : model-simu\n",
      "  Datasets names            : None\n",
      "  Spectral model type       : PowerLawSpectralModel\n",
      "  Spatial  model type       : GaussianSpatialModel\n",
      "  Temporal model type       : \n",
      "  Parameters:\n",
      "    index                   :   2.989              \n",
      "    amplitude               :   1.01e-11  1 / (cm2 s TeV)\n",
      "    reference    (frozen)   :   1.000  TeV         \n",
      "    lon_0                   :   0.198  deg         \n",
      "    lat_0                   :   0.102  deg         \n",
      "    sigma                   :   0.296  deg         \n",
      "    e            (frozen)   :   0.000              \n",
      "    phi          (frozen)   :   0.000  deg         \n",
      "\n",
      "\n"
     ]
    }
   ],
   "source": [
    "print(\n",
    "    \"True model: \\n\",\n",
    "    model_simu,\n",
    "    \"\\n\\n Fitted model: \\n\",\n",
    "    models_fit[\"model-simu\"],\n",
    ")"
   ]
  },
  {
   "cell_type": "markdown",
   "metadata": {},
   "source": [
    "Get the errors on the fitted parameters from the parameter table"
   ]
  },
  {
   "cell_type": "code",
   "execution_count": 18,
   "metadata": {
    "execution": {
     "iopub.execute_input": "2020-11-04T00:40:10.963872Z",
     "iopub.status.busy": "2020-11-04T00:40:10.963383Z",
     "iopub.status.idle": "2020-11-04T00:40:10.965638Z",
     "shell.execute_reply": "2020-11-04T00:40:10.966130Z"
    }
   },
   "outputs": [
    {
     "data": {
      "text/html": [
       "<i>Table length=11</i>\n",
       "<table id=\"table140073698360568\" class=\"table-striped table-bordered table-condensed\">\n",
       "<thead><tr><th>name</th><th>value</th><th>unit</th><th>min</th><th>max</th><th>frozen</th><th>error</th></tr></thead>\n",
       "<thead><tr><th>str9</th><th>float64</th><th>str14</th><th>float64</th><th>float64</th><th>bool</th><th>float64</th></tr></thead>\n",
       "<tr><td>index</td><td>2.9891e+00</td><td></td><td>nan</td><td>nan</td><td>False</td><td>1.975e-02</td></tr>\n",
       "<tr><td>amplitude</td><td>1.0107e-11</td><td>cm-2 s-1 TeV-1</td><td>nan</td><td>nan</td><td>False</td><td>3.286e-13</td></tr>\n",
       "<tr><td>reference</td><td>1.0000e+00</td><td>TeV</td><td>nan</td><td>nan</td><td>True</td><td>0.000e+00</td></tr>\n",
       "<tr><td>lon_0</td><td>1.9800e-01</td><td>deg</td><td>nan</td><td>nan</td><td>False</td><td>5.819e-03</td></tr>\n",
       "<tr><td>lat_0</td><td>1.0177e-01</td><td>deg</td><td>-9.000e+01</td><td>9.000e+01</td><td>False</td><td>5.859e-03</td></tr>\n",
       "<tr><td>sigma</td><td>2.9612e-01</td><td>deg</td><td>0.000e+00</td><td>nan</td><td>False</td><td>3.982e-03</td></tr>\n",
       "<tr><td>e</td><td>0.0000e+00</td><td></td><td>0.000e+00</td><td>1.000e+00</td><td>True</td><td>0.000e+00</td></tr>\n",
       "<tr><td>phi</td><td>0.0000e+00</td><td>deg</td><td>nan</td><td>nan</td><td>True</td><td>0.000e+00</td></tr>\n",
       "<tr><td>norm</td><td>1.0000e+00</td><td></td><td>nan</td><td>nan</td><td>True</td><td>0.000e+00</td></tr>\n",
       "<tr><td>tilt</td><td>0.0000e+00</td><td></td><td>nan</td><td>nan</td><td>True</td><td>0.000e+00</td></tr>\n",
       "<tr><td>reference</td><td>1.0000e+00</td><td>TeV</td><td>nan</td><td>nan</td><td>True</td><td>0.000e+00</td></tr>\n",
       "</table>"
      ],
      "text/plain": [
       "<Table length=11>\n",
       "   name     value         unit         min        max    frozen   error  \n",
       "   str9    float64       str14       float64    float64   bool   float64 \n",
       "--------- ---------- -------------- ---------- --------- ------ ---------\n",
       "    index 2.9891e+00                       nan       nan  False 1.975e-02\n",
       "amplitude 1.0107e-11 cm-2 s-1 TeV-1        nan       nan  False 3.286e-13\n",
       "reference 1.0000e+00            TeV        nan       nan   True 0.000e+00\n",
       "    lon_0 1.9800e-01            deg        nan       nan  False 5.819e-03\n",
       "    lat_0 1.0177e-01            deg -9.000e+01 9.000e+01  False 5.859e-03\n",
       "    sigma 2.9612e-01            deg  0.000e+00       nan  False 3.982e-03\n",
       "        e 0.0000e+00                 0.000e+00 1.000e+00   True 0.000e+00\n",
       "      phi 0.0000e+00            deg        nan       nan   True 0.000e+00\n",
       "     norm 1.0000e+00                       nan       nan   True 0.000e+00\n",
       "     tilt 0.0000e+00                       nan       nan   True 0.000e+00\n",
       "reference 1.0000e+00            TeV        nan       nan   True 0.000e+00"
      ]
     },
     "execution_count": 1,
     "metadata": {},
     "output_type": "execute_result"
    }
   ],
   "source": [
    "result.parameters.to_table()"
   ]
  },
  {
   "cell_type": "code",
   "execution_count": null,
   "metadata": {},
   "outputs": [],
   "source": []
  }
 ],
 "metadata": {
  "kernelspec": {
   "display_name": "Python 3",
   "language": "python",
   "name": "python3"
  },
  "language_info": {
   "codemirror_mode": {
    "name": "ipython",
    "version": 3
   },
   "file_extension": ".py",
   "mimetype": "text/x-python",
   "name": "python",
   "nbconvert_exporter": "python",
   "pygments_lexer": "ipython3",
   "version": "3.7.0"
  },
  "nbsphinx": {
   "orphan": true
  },
  "widgets": {
   "application/vnd.jupyter.widget-state+json": {
    "state": {
     "142fe1f932134ac089e78b1a2e05e590": {
      "model_module": "@jupyter-widgets/base",
      "model_module_version": "1.2.0",
      "model_name": "LayoutModel",
      "state": {
       "_model_module": "@jupyter-widgets/base",
       "_model_module_version": "1.2.0",
       "_model_name": "LayoutModel",
       "_view_count": null,
       "_view_module": "@jupyter-widgets/base",
       "_view_module_version": "1.2.0",
       "_view_name": "LayoutView",
       "align_content": null,
       "align_items": null,
       "align_self": null,
       "border": null,
       "bottom": null,
       "display": null,
       "flex": null,
       "flex_flow": null,
       "grid_area": null,
       "grid_auto_columns": null,
       "grid_auto_flow": null,
       "grid_auto_rows": null,
       "grid_column": null,
       "grid_gap": null,
       "grid_row": null,
       "grid_template_areas": null,
       "grid_template_columns": null,
       "grid_template_rows": null,
       "height": null,
       "justify_content": null,
       "justify_items": null,
       "left": null,
       "margin": null,
       "max_height": null,
       "max_width": null,
       "min_height": null,
       "min_width": null,
       "object_fit": null,
       "object_position": null,
       "order": null,
       "overflow": null,
       "overflow_x": null,
       "overflow_y": null,
       "padding": null,
       "right": null,
       "top": null,
       "visibility": null,
       "width": null
      }
     },
     "3e87dba6f2bf46918739bffdaccdcd81": {
      "model_module": "@jupyter-widgets/base",
      "model_module_version": "1.2.0",
      "model_name": "LayoutModel",
      "state": {
       "_model_module": "@jupyter-widgets/base",
       "_model_module_version": "1.2.0",
       "_model_name": "LayoutModel",
       "_view_count": null,
       "_view_module": "@jupyter-widgets/base",
       "_view_module_version": "1.2.0",
       "_view_name": "LayoutView",
       "align_content": null,
       "align_items": null,
       "align_self": null,
       "border": null,
       "bottom": null,
       "display": null,
       "flex": null,
       "flex_flow": null,
       "grid_area": null,
       "grid_auto_columns": null,
       "grid_auto_flow": null,
       "grid_auto_rows": null,
       "grid_column": null,
       "grid_gap": null,
       "grid_row": null,
       "grid_template_areas": null,
       "grid_template_columns": null,
       "grid_template_rows": null,
       "height": null,
       "justify_content": null,
       "justify_items": null,
       "left": null,
       "margin": null,
       "max_height": null,
       "max_width": null,
       "min_height": null,
       "min_width": null,
       "object_fit": null,
       "object_position": null,
       "order": null,
       "overflow": null,
       "overflow_x": null,
       "overflow_y": null,
       "padding": null,
       "right": null,
       "top": null,
       "visibility": null,
       "width": null
      }
     },
     "570d4296dce14666a5d7a9e74ab5bbca": {
      "model_module": "@jupyter-widgets/base",
      "model_module_version": "1.2.0",
      "model_name": "LayoutModel",
      "state": {
       "_model_module": "@jupyter-widgets/base",
       "_model_module_version": "1.2.0",
       "_model_name": "LayoutModel",
       "_view_count": null,
       "_view_module": "@jupyter-widgets/base",
       "_view_module_version": "1.2.0",
       "_view_name": "LayoutView",
       "align_content": null,
       "align_items": null,
       "align_self": null,
       "border": null,
       "bottom": null,
       "display": null,
       "flex": null,
       "flex_flow": null,
       "grid_area": null,
       "grid_auto_columns": null,
       "grid_auto_flow": null,
       "grid_auto_rows": null,
       "grid_column": null,
       "grid_gap": null,
       "grid_row": null,
       "grid_template_areas": null,
       "grid_template_columns": null,
       "grid_template_rows": null,
       "height": null,
       "justify_content": null,
       "justify_items": null,
       "left": null,
       "margin": null,
       "max_height": null,
       "max_width": null,
       "min_height": null,
       "min_width": null,
       "object_fit": null,
       "object_position": null,
       "order": null,
       "overflow": null,
       "overflow_x": null,
       "overflow_y": null,
       "padding": null,
       "right": null,
       "top": null,
       "visibility": null,
       "width": "50%"
      }
     },
     "7491daf8ce074a648fcf7503bc999385": {
      "model_module": "@jupyter-widgets/controls",
      "model_module_version": "1.5.0",
      "model_name": "DescriptionStyleModel",
      "state": {
       "_model_module": "@jupyter-widgets/controls",
       "_model_module_version": "1.5.0",
       "_model_name": "DescriptionStyleModel",
       "_view_count": null,
       "_view_module": "@jupyter-widgets/base",
       "_view_module_version": "1.2.0",
       "_view_name": "StyleView",
       "description_width": "initial"
      }
     },
     "782e67ebfa8b40aa80fffb43b7f13fea": {
      "model_module": "@jupyter-widgets/controls",
      "model_module_version": "1.5.0",
      "model_name": "SelectionSliderModel",
      "state": {
       "_dom_classes": [],
       "_model_module": "@jupyter-widgets/controls",
       "_model_module_version": "1.5.0",
       "_model_name": "SelectionSliderModel",
       "_options_labels": [
        "1.00e-01 TeV - 1.67e-01 TeV TeV",
        "1.67e-01 TeV - 2.78e-01 TeV TeV",
        "2.78e-01 TeV - 4.64e-01 TeV TeV",
        "4.64e-01 TeV - 7.74e-01 TeV TeV",
        "7.74e-01 TeV - 1.29e+00 TeV TeV",
        "1.29e+00 TeV - 2.15e+00 TeV TeV",
        "2.15e+00 TeV - 3.59e+00 TeV TeV",
        "3.59e+00 TeV - 5.99e+00 TeV TeV",
        "5.99e+00 TeV - 1.00e+01 TeV TeV"
       ],
       "_view_count": null,
       "_view_module": "@jupyter-widgets/controls",
       "_view_module_version": "1.5.0",
       "_view_name": "SelectionSliderView",
       "continuous_update": false,
       "description": "Select energy:",
       "description_tooltip": null,
       "disabled": false,
       "index": 0,
       "layout": "IPY_MODEL_570d4296dce14666a5d7a9e74ab5bbca",
       "orientation": "horizontal",
       "readout": true,
       "style": "IPY_MODEL_7491daf8ce074a648fcf7503bc999385"
      }
     },
     "8c62a2a864404a8494169b22f20e266b": {
      "model_module": "@jupyter-widgets/output",
      "model_module_version": "1.0.0",
      "model_name": "OutputModel",
      "state": {
       "_dom_classes": [],
       "_model_module": "@jupyter-widgets/output",
       "_model_module_version": "1.0.0",
       "_model_name": "OutputModel",
       "_view_count": null,
       "_view_module": "@jupyter-widgets/output",
       "_view_module_version": "1.0.0",
       "_view_name": "OutputView",
       "layout": "IPY_MODEL_142fe1f932134ac089e78b1a2e05e590",
       "msg_id": "",
       "outputs": [
        {
         "data": {
          "image/png": "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\n",
          "text/plain": "<Figure size 432x288 with 2 Axes>"
         },
         "metadata": {
          "needs_background": "light"
         },
         "output_type": "display_data"
        }
       ]
      }
     },
     "af4383610c5d4fd8941769e2d6a2c11d": {
      "model_module": "@jupyter-widgets/controls",
      "model_module_version": "1.5.0",
      "model_name": "VBoxModel",
      "state": {
       "_dom_classes": [
        "widget-interact"
       ],
       "_model_module": "@jupyter-widgets/controls",
       "_model_module_version": "1.5.0",
       "_model_name": "VBoxModel",
       "_view_count": null,
       "_view_module": "@jupyter-widgets/controls",
       "_view_module_version": "1.5.0",
       "_view_name": "VBoxView",
       "box_style": "",
       "children": [
        "IPY_MODEL_782e67ebfa8b40aa80fffb43b7f13fea",
        "IPY_MODEL_c9b63adfc3d9400aa9b28c3927411f6e",
        "IPY_MODEL_8c62a2a864404a8494169b22f20e266b"
       ],
       "layout": "IPY_MODEL_3e87dba6f2bf46918739bffdaccdcd81"
      }
     },
     "c9b63adfc3d9400aa9b28c3927411f6e": {
      "model_module": "@jupyter-widgets/controls",
      "model_module_version": "1.5.0",
      "model_name": "RadioButtonsModel",
      "state": {
       "_dom_classes": [],
       "_model_module": "@jupyter-widgets/controls",
       "_model_module_version": "1.5.0",
       "_model_name": "RadioButtonsModel",
       "_options_labels": [
        "linear",
        "sqrt",
        "log"
       ],
       "_view_count": null,
       "_view_module": "@jupyter-widgets/controls",
       "_view_module_version": "1.5.0",
       "_view_name": "RadioButtonsView",
       "description": "Select stretch:",
       "description_tooltip": null,
       "disabled": false,
       "index": 0,
       "layout": "IPY_MODEL_df218a60f8944b29a4159eb056b0165b",
       "style": "IPY_MODEL_cbf254a3e940453191806fecad851bb1"
      }
     },
     "cbf254a3e940453191806fecad851bb1": {
      "model_module": "@jupyter-widgets/controls",
      "model_module_version": "1.5.0",
      "model_name": "DescriptionStyleModel",
      "state": {
       "_model_module": "@jupyter-widgets/controls",
       "_model_module_version": "1.5.0",
       "_model_name": "DescriptionStyleModel",
       "_view_count": null,
       "_view_module": "@jupyter-widgets/base",
       "_view_module_version": "1.2.0",
       "_view_name": "StyleView",
       "description_width": "initial"
      }
     },
     "df218a60f8944b29a4159eb056b0165b": {
      "model_module": "@jupyter-widgets/base",
      "model_module_version": "1.2.0",
      "model_name": "LayoutModel",
      "state": {
       "_model_module": "@jupyter-widgets/base",
       "_model_module_version": "1.2.0",
       "_model_name": "LayoutModel",
       "_view_count": null,
       "_view_module": "@jupyter-widgets/base",
       "_view_module_version": "1.2.0",
       "_view_name": "LayoutView",
       "align_content": null,
       "align_items": null,
       "align_self": null,
       "border": null,
       "bottom": null,
       "display": null,
       "flex": null,
       "flex_flow": null,
       "grid_area": null,
       "grid_auto_columns": null,
       "grid_auto_flow": null,
       "grid_auto_rows": null,
       "grid_column": null,
       "grid_gap": null,
       "grid_row": null,
       "grid_template_areas": null,
       "grid_template_columns": null,
       "grid_template_rows": null,
       "height": null,
       "justify_content": null,
       "justify_items": null,
       "left": null,
       "margin": null,
       "max_height": null,
       "max_width": null,
       "min_height": null,
       "min_width": null,
       "object_fit": null,
       "object_position": null,
       "order": null,
       "overflow": null,
       "overflow_x": null,
       "overflow_y": null,
       "padding": null,
       "right": null,
       "top": null,
       "visibility": null,
       "width": null
      }
     }
    },
    "version_major": 2,
    "version_minor": 0
   }
  }
 },
 "nbformat": 4,
 "nbformat_minor": 4
}
