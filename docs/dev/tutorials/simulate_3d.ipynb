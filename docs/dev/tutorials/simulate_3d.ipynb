{
 "cells": [
  {
   "cell_type": "markdown",
   "metadata": {},
   "source": [
    "\n",
    "<div class=\"alert alert-info\">\n",
    "\n",
    "**This is a fixed-text formatted version of a Jupyter notebook**\n",
    "\n",
    "- Try online [![Binder](https://static.mybinder.org/badge.svg)](https://mybinder.org/v2/gh/gammapy/gammapy-webpage/master?urlpath=lab/tree/simulate_3d.ipynb)\n",
    "- You can contribute with your own notebooks in this\n",
    "[GitHub repository](https://github.com/gammapy/gammapy/tree/master/docs/tutorials).\n",
    "- **Source files:**\n",
    "[simulate_3d.ipynb](../_static/notebooks/simulate_3d.ipynb) |\n",
    "[simulate_3d.py](../_static/notebooks/simulate_3d.py)\n",
    "</div>\n"
   ]
  },
  {
   "cell_type": "markdown",
   "metadata": {},
   "source": [
    "# 3D simulation and fitting\n",
    "\n",
    "## Prerequisites\n",
    "\n",
    "- Knowledge of 3D extraction and datasets used in gammapy, see for instance the [first analysis tutorial](analysis_1.ipynb)\n",
    "\n",
    "## Context\n",
    "\n",
    "To simulate a specific observation, it is not always necessary to simulate the full photon list. For many uses cases, simulating directly a reduced binned dataset is enough: the IRFs reduced in the correct geometry are combined with a source model to predict an actual number of counts per bin. The latter is then used to simulate a reduced dataset using Poisson probability distribution.\n",
    "\n",
    "This can be done to check the feasibility of a measurement (performance / sensitivity study), to test whether fitted parameters really provide a good fit to the data etc.\n",
    "\n",
    "Here we will see how to perform a 3D simulation of a CTA observation, assuming both the spectral and spatial morphology of an observed source.\n",
    "\n",
    "**Objective: simulate a 3D observation of a source with CTA using the CTA 1DC response and fit it with the assumed source model.**\n",
    "\n",
    "## Proposed approach:\n",
    "\n",
    "Here we can't use the regular observation objects that are connected to a `DataStore`. Instead we will create a fake `~gammapy.data.Observation` that contain some pointing information and the CTA 1DC IRFs (that are loaded with `~gammapy.irf.load_cta_irfs`).\n",
    "\n",
    "Then we will create a `~gammapy.datasets.MapDataset` geometry and create it with the `~gammapy.makers.MapDatasetMaker`.\n",
    "\n",
    "Then we will be able to define a model consisting of  a `~gammapy.modeling.models.PowerLawSpectralModel` and a `~gammapy.modeling.models.GaussianSpatialModel`. We will assign it to the dataset and fake the count data.\n"
   ]
  },
  {
   "cell_type": "markdown",
   "metadata": {},
   "source": [
    "## Imports and versions"
   ]
  },
  {
   "cell_type": "code",
   "execution_count": 1,
   "metadata": {
    "execution": {
     "iopub.execute_input": "2020-10-06T20:01:20.381197Z",
     "iopub.status.busy": "2020-10-06T20:01:20.380176Z",
     "iopub.status.idle": "2020-10-06T20:01:20.613494Z",
     "shell.execute_reply": "2020-10-06T20:01:20.612317Z"
    }
   },
   "outputs": [],
   "source": [
    "%matplotlib inline"
   ]
  },
  {
   "cell_type": "code",
   "execution_count": 2,
   "metadata": {
    "execution": {
     "iopub.execute_input": "2020-10-06T20:01:20.618528Z",
     "iopub.status.busy": "2020-10-06T20:01:20.617725Z",
     "iopub.status.idle": "2020-10-06T20:01:21.485999Z",
     "shell.execute_reply": "2020-10-06T20:01:21.485223Z"
    }
   },
   "outputs": [],
   "source": [
    "import numpy as np\n",
    "import astropy.units as u\n",
    "from astropy.coordinates import SkyCoord\n",
    "from gammapy.irf import load_cta_irfs\n",
    "from gammapy.maps import WcsGeom, MapAxis\n",
    "from gammapy.modeling.models import (\n",
    "    PowerLawSpectralModel,\n",
    "    GaussianSpatialModel,\n",
    "    SkyModel,\n",
    ")\n",
    "from gammapy.makers import MapDatasetMaker, SafeMaskMaker\n",
    "from gammapy.modeling import Fit\n",
    "from gammapy.data import Observation\n",
    "from gammapy.datasets import MapDataset"
   ]
  },
  {
   "cell_type": "code",
   "execution_count": 3,
   "metadata": {
    "execution": {
     "iopub.execute_input": "2020-10-06T20:01:21.495007Z",
     "iopub.status.busy": "2020-10-06T20:01:21.488756Z",
     "iopub.status.idle": "2020-10-06T20:01:23.209089Z",
     "shell.execute_reply": "2020-10-06T20:01:23.208361Z"
    }
   },
   "outputs": [
    {
     "name": "stdout",
     "output_type": "stream",
     "text": [
      "\r\n",
      "Gammapy package:\r\n",
      "\r\n",
      "\tversion                : 0.18.dev912+g5b178ce84 \r\n",
      "\tpath                   : /home/runner/work/gammapy-docs/gammapy-docs/gammapy/gammapy \r\n",
      "\r\n"
     ]
    }
   ],
   "source": [
    "!gammapy info --no-envvar --no-dependencies --no-system"
   ]
  },
  {
   "cell_type": "markdown",
   "metadata": {},
   "source": [
    "## Simulation"
   ]
  },
  {
   "cell_type": "markdown",
   "metadata": {},
   "source": [
    "We will simulate using the CTA-1DC IRFs shipped with gammapy. Note that for dedictaed CTA simulations, you can simply use [`Observation.from_caldb()`]() without having to externally load the IRFs"
   ]
  },
  {
   "cell_type": "code",
   "execution_count": 4,
   "metadata": {
    "execution": {
     "iopub.execute_input": "2020-10-06T20:01:23.218333Z",
     "iopub.status.busy": "2020-10-06T20:01:23.216915Z",
     "iopub.status.idle": "2020-10-06T20:01:23.298226Z",
     "shell.execute_reply": "2020-10-06T20:01:23.297674Z"
    }
   },
   "outputs": [
    {
     "name": "stderr",
     "output_type": "stream",
     "text": [
      "Invalid unit found in background table! Assuming (s-1 MeV-1 sr-1)\n"
     ]
    }
   ],
   "source": [
    "# Loading IRFs\n",
    "irfs = load_cta_irfs(\n",
    "    \"$GAMMAPY_DATA/cta-1dc/caldb/data/cta/1dc/bcf/South_z20_50h/irf_file.fits\"\n",
    ")"
   ]
  },
  {
   "cell_type": "code",
   "execution_count": 5,
   "metadata": {
    "execution": {
     "iopub.execute_input": "2020-10-06T20:01:23.302969Z",
     "iopub.status.busy": "2020-10-06T20:01:23.299980Z",
     "iopub.status.idle": "2020-10-06T20:01:23.306405Z",
     "shell.execute_reply": "2020-10-06T20:01:23.305774Z"
    }
   },
   "outputs": [],
   "source": [
    "# Define the observation parameters (typically the observation duration and the pointing position):\n",
    "livetime = 2.0 * u.hr\n",
    "pointing = SkyCoord(0, 0, unit=\"deg\", frame=\"galactic\")"
   ]
  },
  {
   "cell_type": "code",
   "execution_count": 6,
   "metadata": {
    "execution": {
     "iopub.execute_input": "2020-10-06T20:01:23.312438Z",
     "iopub.status.busy": "2020-10-06T20:01:23.312065Z",
     "iopub.status.idle": "2020-10-06T20:01:23.314486Z",
     "shell.execute_reply": "2020-10-06T20:01:23.314955Z"
    }
   },
   "outputs": [],
   "source": [
    "# Define map geometry for binned simulation\n",
    "energy_reco = MapAxis.from_edges(\n",
    "    np.logspace(-1.0, 1.0, 10), unit=\"TeV\", name=\"energy\", interp=\"log\"\n",
    ")\n",
    "geom = WcsGeom.create(\n",
    "    skydir=(0, 0),\n",
    "    binsz=0.02,\n",
    "    width=(6, 6),\n",
    "    frame=\"galactic\",\n",
    "    axes=[energy_reco],\n",
    ")\n",
    "# It is usually useful to have a separate binning for the true energy axis\n",
    "energy_true = MapAxis.from_edges(\n",
    "    np.logspace(-1.5, 1.5, 30), unit=\"TeV\", name=\"energy\", interp=\"log\"\n",
    ")"
   ]
  },
  {
   "cell_type": "code",
   "execution_count": 7,
   "metadata": {
    "execution": {
     "iopub.execute_input": "2020-10-06T20:01:23.324409Z",
     "iopub.status.busy": "2020-10-06T20:01:23.324033Z",
     "iopub.status.idle": "2020-10-06T20:01:23.328626Z",
     "shell.execute_reply": "2020-10-06T20:01:23.328246Z"
    }
   },
   "outputs": [
    {
     "name": "stdout",
     "output_type": "stream",
     "text": [
      "SkyModel\n",
      "\n",
      "  Name                      : model-simu\n",
      "  Datasets names            : None\n",
      "  Spectral model type       : PowerLawSpectralModel\n",
      "  Spatial  model type       : GaussianSpatialModel\n",
      "  Temporal model type       : \n",
      "  Parameters:\n",
      "    index                   :   3.000              \n",
      "    amplitude               :   1.00e-11  1 / (cm2 s TeV)\n",
      "    reference    (frozen)   :   1.000  TeV         \n",
      "    lon_0                   :   0.200  deg         \n",
      "    lat_0                   :   0.100  deg         \n",
      "    sigma                   :   0.300  deg         \n",
      "    e            (frozen)   :   0.000              \n",
      "    phi          (frozen)   :   0.000  deg         \n",
      "\n",
      "\n"
     ]
    }
   ],
   "source": [
    "# Define sky model to used simulate the data.\n",
    "# Here we use a Gaussian spatial model and a Power Law spectral model.\n",
    "spatial_model = GaussianSpatialModel(\n",
    "    lon_0=\"0.2 deg\", lat_0=\"0.1 deg\", sigma=\"0.3 deg\", frame=\"galactic\"\n",
    ")\n",
    "spectral_model = PowerLawSpectralModel(\n",
    "    index=3, amplitude=\"1e-11 cm-2 s-1 TeV-1\", reference=\"1 TeV\"\n",
    ")\n",
    "model_simu = SkyModel(\n",
    "    spatial_model=spatial_model,\n",
    "    spectral_model=spectral_model,\n",
    "    name=\"model-simu\",\n",
    ")\n",
    "print(model_simu)"
   ]
  },
  {
   "cell_type": "markdown",
   "metadata": {},
   "source": [
    "Now, comes the main part of dataset simulation. We create an in-memory observation and an empty dataset. We then predict the number of counts for the given model, and Poission fluctuate it using `fake()` to make a simulated counts maps. Keep in mind that it is important to specify the `selection` of the maps that you want to produce "
   ]
  },
  {
   "cell_type": "code",
   "execution_count": 8,
   "metadata": {
    "execution": {
     "iopub.execute_input": "2020-10-06T20:01:23.343690Z",
     "iopub.status.busy": "2020-10-06T20:01:23.343218Z",
     "iopub.status.idle": "2020-10-06T20:01:23.347502Z",
     "shell.execute_reply": "2020-10-06T20:01:23.347970Z"
    }
   },
   "outputs": [
    {
     "name": "stdout",
     "output_type": "stream",
     "text": [
      "Observation\n",
      "\n",
      "\tobs id            : 0 \n",
      " \ttstart            : 51544.00\n",
      "\ttstop             : 51544.08\n",
      "\tduration          : 7200.00 s\n",
      "\tpointing (icrs)   : 266.4 deg, -28.9 deg\n",
      "\n",
      "\tdeadtime fraction : 0.0%\n",
      "\n"
     ]
    }
   ],
   "source": [
    "# Create an in-memory observation\n",
    "obs = Observation.create(pointing=pointing, livetime=livetime, irfs=irfs)\n",
    "print(obs)"
   ]
  },
  {
   "cell_type": "code",
   "execution_count": 9,
   "metadata": {
    "execution": {
     "iopub.execute_input": "2020-10-06T20:01:23.353842Z",
     "iopub.status.busy": "2020-10-06T20:01:23.352040Z",
     "iopub.status.idle": "2020-10-06T20:01:25.260029Z",
     "shell.execute_reply": "2020-10-06T20:01:25.259428Z"
    }
   },
   "outputs": [
    {
     "name": "stdout",
     "output_type": "stream",
     "text": [
      "MapDataset\n",
      "----------\n",
      "\n",
      "  Name                            : dataset-simu \n",
      "\n",
      "  Total counts                    : nan \n",
      "  Total predicted counts          : 161422.06\n",
      "  Total background counts         : 161422.06\n",
      "\n",
      "  Exposure min                    : 6.41e+07 m2 s\n",
      "  Exposure max                    : 2.53e+10 m2 s\n",
      "\n",
      "  Number of total bins            : 0 \n",
      "  Number of fit bins              : 804492 \n",
      "\n",
      "  Fit statistic type              : cash\n",
      "  Fit statistic value (-2 log(L)) : nan\n",
      "\n",
      "  Number of models                : 1 \n",
      "  Number of parameters            : 3\n",
      "  Number of free parameters       : 1\n",
      "\n",
      "  Component 0: BackgroundModel\n",
      "  \n",
      "    Name                      : dataset-simu-bkg\n",
      "    Datasets names            : ['dataset-simu']\n",
      "    Parameters:\n",
      "      norm                    :   1.000              \n",
      "      tilt         (frozen)   :   0.000              \n",
      "      reference    (frozen)   :   1.000  TeV         \n",
      "  \n",
      "  \n"
     ]
    }
   ],
   "source": [
    "# Make the MapDataset\n",
    "empty = MapDataset.create(geom, name=\"dataset-simu\")\n",
    "maker = MapDatasetMaker(selection=[\"exposure\", \"background\", \"psf\", \"edisp\"])\n",
    "maker_safe_mask = SafeMaskMaker(methods=[\"offset-max\"], offset_max=4.0 * u.deg)\n",
    "dataset = maker.run(empty, obs)\n",
    "dataset = maker_safe_mask.run(dataset, obs)\n",
    "print(dataset)"
   ]
  },
  {
   "cell_type": "code",
   "execution_count": 10,
   "metadata": {
    "execution": {
     "iopub.execute_input": "2020-10-06T20:01:25.265603Z",
     "iopub.status.busy": "2020-10-06T20:01:25.265046Z",
     "iopub.status.idle": "2020-10-06T20:01:25.964213Z",
     "shell.execute_reply": "2020-10-06T20:01:25.963442Z"
    }
   },
   "outputs": [
    {
     "name": "stdout",
     "output_type": "stream",
     "text": [
      "MapDataset\n",
      "----------\n",
      "\n",
      "  Name                            : dataset-simu \n",
      "\n",
      "  Total counts                    : 169950 \n",
      "  Total predicted counts          : 169861.20\n",
      "  Total background counts         : 161422.06\n",
      "\n",
      "  Exposure min                    : 6.41e+07 m2 s\n",
      "  Exposure max                    : 2.53e+10 m2 s\n",
      "\n",
      "  Number of total bins            : 810000 \n",
      "  Number of fit bins              : 804492 \n",
      "\n",
      "  Fit statistic type              : cash\n",
      "  Fit statistic value (-2 log(L)) : 562959.31\n",
      "\n",
      "  Number of models                : 2 \n",
      "  Number of parameters            : 11\n",
      "  Number of free parameters       : 6\n",
      "\n",
      "  Component 0: BackgroundModel\n",
      "  \n",
      "    Name                      : dataset-simu-bkg\n",
      "    Datasets names            : ['dataset-simu']\n",
      "    Parameters:\n",
      "      norm                    :   1.000              \n",
      "      tilt         (frozen)   :   0.000              \n",
      "      reference    (frozen)   :   1.000  TeV         \n",
      "  \n",
      "  Component 1: SkyModel\n",
      "  \n",
      "    Name                      : model-simu\n",
      "    Datasets names            : None\n",
      "    Spectral model type       : PowerLawSpectralModel\n",
      "    Spatial  model type       : GaussianSpatialModel\n",
      "    Temporal model type       : \n",
      "    Parameters:\n",
      "      index                   :   3.000              \n",
      "      amplitude               :   1.00e-11  1 / (cm2 s TeV)\n",
      "      reference    (frozen)   :   1.000  TeV         \n",
      "      lon_0                   :   0.200  deg         \n",
      "      lat_0                   :   0.100  deg         \n",
      "      sigma                   :   0.300  deg         \n",
      "      e            (frozen)   :   0.000              \n",
      "      phi          (frozen)   :   0.000  deg         \n",
      "  \n",
      "  \n"
     ]
    }
   ],
   "source": [
    "# Add the model on the dataset and Poission fluctuate\n",
    "dataset.models.append(model_simu)\n",
    "dataset.fake()\n",
    "# Do a print on the dataset - there is now a counts maps\n",
    "print(dataset)"
   ]
  },
  {
   "cell_type": "markdown",
   "metadata": {},
   "source": [
    "Now use this dataset as you would in all standard analysis. You can plot the maps, or proceed with your custom analysis. \n",
    "In the next section, we show the standard 3D fitting as in [analysis_3d](analysis_3d.ipynb)."
   ]
  },
  {
   "cell_type": "code",
   "execution_count": 11,
   "metadata": {
    "execution": {
     "iopub.execute_input": "2020-10-06T20:01:25.967779Z",
     "iopub.status.busy": "2020-10-06T20:01:25.966981Z",
     "iopub.status.idle": "2020-10-06T20:01:26.580733Z",
     "shell.execute_reply": "2020-10-06T20:01:26.580160Z"
    }
   },
   "outputs": [
    {
     "data": {
      "application/vnd.jupyter.widget-view+json": {
       "model_id": "bb40163844bb4df2be8c925f8cdfc4d0",
       "version_major": 2,
       "version_minor": 0
      },
      "text/plain": [
       "interactive(children=(SelectionSlider(continuous_update=False, description='Select energy:', layout=Layout(wid…"
      ]
     },
     "metadata": {},
     "output_type": "display_data"
    }
   ],
   "source": [
    "# To plot, eg, counts:\n",
    "dataset.counts.smooth(0.05 * u.deg).plot_interactive(\n",
    "    add_cbar=True, stretch=\"linear\"\n",
    ")"
   ]
  },
  {
   "cell_type": "markdown",
   "metadata": {},
   "source": [
    "## Fit\n",
    "\n",
    "In this section, we do a usual 3D fit with the same model used to simulated the data and see the stability of the simulations. Often, it is useful to simulate many such datasets and look at the distribution of the reconstructed parameters."
   ]
  },
  {
   "cell_type": "code",
   "execution_count": 12,
   "metadata": {
    "execution": {
     "iopub.execute_input": "2020-10-06T20:01:26.585600Z",
     "iopub.status.busy": "2020-10-06T20:01:26.585090Z",
     "iopub.status.idle": "2020-10-06T20:01:26.599367Z",
     "shell.execute_reply": "2020-10-06T20:01:26.599011Z"
    }
   },
   "outputs": [],
   "source": [
    "# Make a copy of the dataset\n",
    "dataset_fit = dataset.copy(name=\"dataset-fit\")"
   ]
  },
  {
   "cell_type": "code",
   "execution_count": 13,
   "metadata": {
    "execution": {
     "iopub.execute_input": "2020-10-06T20:01:26.603281Z",
     "iopub.status.busy": "2020-10-06T20:01:26.602885Z",
     "iopub.status.idle": "2020-10-06T20:01:26.605212Z",
     "shell.execute_reply": "2020-10-06T20:01:26.605716Z"
    }
   },
   "outputs": [
    {
     "name": "stdout",
     "output_type": "stream",
     "text": [
      "ProperModels\n",
      "\n",
      "Component 0: BackgroundModel\n",
      "\n",
      "  Name                      : dataset-fit-bkg\n",
      "  Datasets names            : ['dataset-fit']\n",
      "  Parameters:\n",
      "    norm                    :   1.000              \n",
      "    tilt         (frozen)   :   0.000              \n",
      "    reference    (frozen)   :   1.000  TeV         \n",
      "\n",
      "Component 1: SkyModel\n",
      "\n",
      "  Name                      : model-simu\n",
      "  Datasets names            : None\n",
      "  Spectral model type       : PowerLawSpectralModel\n",
      "  Spatial  model type       : GaussianSpatialModel\n",
      "  Temporal model type       : \n",
      "  Parameters:\n",
      "    index                   :   3.000              \n",
      "    amplitude               :   1.00e-11  1 / (cm2 s TeV)\n",
      "    reference    (frozen)   :   1.000  TeV         \n",
      "    lon_0                   :   0.200  deg         \n",
      "    lat_0                   :   0.100  deg         \n",
      "    sigma                   :   0.300  deg         \n",
      "    e            (frozen)   :   0.000              \n",
      "    phi          (frozen)   :   0.000  deg         \n",
      "\n",
      "\n"
     ]
    }
   ],
   "source": [
    "print(dataset_fit.models)"
   ]
  },
  {
   "cell_type": "code",
   "execution_count": 14,
   "metadata": {
    "execution": {
     "iopub.execute_input": "2020-10-06T20:01:26.612924Z",
     "iopub.status.busy": "2020-10-06T20:01:26.612546Z",
     "iopub.status.idle": "2020-10-06T20:01:26.616885Z",
     "shell.execute_reply": "2020-10-06T20:01:26.616505Z"
    }
   },
   "outputs": [
    {
     "name": "stdout",
     "output_type": "stream",
     "text": [
      "ProperModels\n",
      "\n",
      "Component 0: SkyModel\n",
      "\n",
      "  Name                      : model-fit\n",
      "  Datasets names            : None\n",
      "  Spectral model type       : PowerLawSpectralModel\n",
      "  Spatial  model type       : GaussianSpatialModel\n",
      "  Temporal model type       : \n",
      "  Parameters:\n",
      "    index                   :   2.000              \n",
      "    amplitude               :   1.00e-11  1 / (cm2 s TeV)\n",
      "    reference    (frozen)   :   1.000  TeV         \n",
      "    lon_0                   :   0.100  deg         \n",
      "    lat_0                   :   0.100  deg         \n",
      "    sigma                   :   0.500  deg         \n",
      "    e            (frozen)   :   0.000              \n",
      "    phi          (frozen)   :   0.000  deg         \n",
      "\n",
      "Component 1: BackgroundModel\n",
      "\n",
      "  Name                      : dataset-fit-bkg\n",
      "  Datasets names            : ['dataset-fit']\n",
      "  Parameters:\n",
      "    norm                    :   1.000              \n",
      "    tilt         (frozen)   :   0.000              \n",
      "    reference    (frozen)   :   1.000  TeV         \n",
      "\n",
      "\n"
     ]
    }
   ],
   "source": [
    "# Define sky model to fit the data\n",
    "spatial_model1 = GaussianSpatialModel(\n",
    "    lon_0=\"0.1 deg\", lat_0=\"0.1 deg\", sigma=\"0.5 deg\", frame=\"galactic\"\n",
    ")\n",
    "spectral_model1 = PowerLawSpectralModel(\n",
    "    index=2, amplitude=\"1e-11 cm-2 s-1 TeV-1\", reference=\"1 TeV\"\n",
    ")\n",
    "model_fit = SkyModel(\n",
    "    spatial_model=spatial_model1,\n",
    "    spectral_model=spectral_model1,\n",
    "    name=\"model-fit\",\n",
    ")\n",
    "\n",
    "dataset_fit.models = [model_fit, dataset_fit.models[0]]\n",
    "print(dataset_fit.models)"
   ]
  },
  {
   "cell_type": "code",
   "execution_count": 15,
   "metadata": {
    "execution": {
     "iopub.execute_input": "2020-10-06T20:01:26.621328Z",
     "iopub.status.busy": "2020-10-06T20:01:26.620265Z",
     "iopub.status.idle": "2020-10-06T20:01:26.622332Z",
     "shell.execute_reply": "2020-10-06T20:01:26.622733Z"
    }
   },
   "outputs": [
    {
     "name": "stdout",
     "output_type": "stream",
     "text": [
      "BackgroundModel\n",
      "\n",
      "  Name                      : dataset-fit-bkg\n",
      "  Datasets names            : ['dataset-fit']\n",
      "  Parameters:\n",
      "    norm         (frozen)   :   1.000              \n",
      "    tilt         (frozen)   :   0.000              \n",
      "    reference    (frozen)   :   1.000  TeV         \n",
      "\n",
      "\n"
     ]
    }
   ],
   "source": [
    "# We do not want to fit the background in this case, so we will freeze the parameters\n",
    "background_model = dataset_fit.background_model\n",
    "background_model.parameters[\"norm\"].value = 1.0\n",
    "background_model.parameters[\"norm\"].frozen = True\n",
    "background_model.parameters[\"tilt\"].frozen = True\n",
    "\n",
    "print(background_model)"
   ]
  },
  {
   "cell_type": "code",
   "execution_count": 16,
   "metadata": {
    "execution": {
     "iopub.execute_input": "2020-10-06T20:01:26.624884Z",
     "iopub.status.busy": "2020-10-06T20:01:26.624508Z",
     "iopub.status.idle": "2020-10-06T20:01:27.774800Z",
     "shell.execute_reply": "2020-10-06T20:01:27.774007Z"
    }
   },
   "outputs": [
    {
     "name": "stdout",
     "output_type": "stream",
     "text": [
      "MapDataset\n",
      "----------\n",
      "\n",
      "  Name                            : dataset-fit \n",
      "\n",
      "  Total counts                    : 169950 \n",
      "  Total predicted counts          : 164532.18\n",
      "  Total background counts         : 161422.06\n",
      "\n",
      "  Exposure min                    : 6.41e+07 m2 s\n",
      "  Exposure max                    : 2.53e+10 m2 s\n",
      "\n",
      "  Number of total bins            : 810000 \n",
      "  Number of fit bins              : 804492 \n",
      "\n",
      "  Fit statistic type              : cash\n",
      "  Fit statistic value (-2 log(L)) : 567989.65\n",
      "\n",
      "  Number of models                : 2 \n",
      "  Number of parameters            : 11\n",
      "  Number of free parameters       : 5\n",
      "\n",
      "  Component 0: SkyModel\n",
      "  \n",
      "    Name                      : model-fit\n",
      "    Datasets names            : None\n",
      "    Spectral model type       : PowerLawSpectralModel\n",
      "    Spatial  model type       : GaussianSpatialModel\n",
      "    Temporal model type       : \n",
      "    Parameters:\n",
      "      index                   :   2.000              \n",
      "      amplitude               :   1.00e-11  1 / (cm2 s TeV)\n",
      "      reference    (frozen)   :   1.000  TeV         \n",
      "      lon_0                   :   0.100  deg         \n",
      "      lat_0                   :   0.100  deg         \n",
      "      sigma                   :   0.500  deg         \n",
      "      e            (frozen)   :   0.000              \n",
      "      phi          (frozen)   :   0.000  deg         \n",
      "  \n",
      "  Component 1: BackgroundModel\n",
      "  \n",
      "    Name                      : dataset-fit-bkg\n",
      "    Datasets names            : ['dataset-fit']\n",
      "    Parameters:\n",
      "      norm         (frozen)   :   1.000              \n",
      "      tilt         (frozen)   :   0.000              \n",
      "      reference    (frozen)   :   1.000  TeV         \n",
      "  \n",
      "  \n"
     ]
    }
   ],
   "source": [
    "print(dataset_fit)"
   ]
  },
  {
   "cell_type": "code",
   "execution_count": 17,
   "metadata": {
    "execution": {
     "iopub.execute_input": "2020-10-06T20:01:27.781754Z",
     "iopub.status.busy": "2020-10-06T20:01:27.781357Z",
     "iopub.status.idle": "2020-10-06T20:01:42.773455Z",
     "shell.execute_reply": "2020-10-06T20:01:42.773991Z"
    }
   },
   "outputs": [
    {
     "name": "stdout",
     "output_type": "stream",
     "text": [
      "┌──────────────────────────────────┬──────────────────────────────────────┐\n",
      "│ FCN = 5.63e+05                   │       Ncalls = 217 (217 total)       │\n",
      "│ EDM = 6.06e-06 (Goal: 0.0002)    │               up = 1.0               │\n",
      "├───────────────┬──────────────────┼──────────────────────────────────────┤\n",
      "│ Valid Minimum │ Valid Parameters │       SOME Parameters at limit       │\n",
      "├───────────────┴──────────────────┼──────────────────────────────────────┤\n",
      "│ Below EDM threshold (goal x 10)  │           Below call limit           │\n",
      "├───────────────┬──────────────────┼───────────┬─────────────┬────────────┤\n",
      "│   Hesse ok    │  Has Covariance  │ Accurate  │  Pos. def.  │ Not forced │\n",
      "└───────────────┴──────────────────┴───────────┴─────────────┴────────────┘\n",
      "CPU times: user 15 s, sys: 11.4 ms, total: 15 s\n",
      "Wall time: 15 s\n"
     ]
    }
   ],
   "source": [
    "%%time\n",
    "fit = Fit([dataset_fit])\n",
    "result = fit.run(optimize_opts={\"print_level\": 1})"
   ]
  },
  {
   "cell_type": "code",
   "execution_count": 18,
   "metadata": {
    "execution": {
     "iopub.execute_input": "2020-10-06T20:01:42.778620Z",
     "iopub.status.busy": "2020-10-06T20:01:42.778230Z",
     "iopub.status.idle": "2020-10-06T20:01:43.278884Z",
     "shell.execute_reply": "2020-10-06T20:01:43.280051Z"
    }
   },
   "outputs": [
    {
     "name": "stderr",
     "output_type": "stream",
     "text": [
      "/usr/share/miniconda/envs/gammapy-dev/lib/python3.7/site-packages/astropy/visualization/wcsaxes/core.py:211: MatplotlibDeprecationWarning: Passing parameters norm and vmin/vmax simultaneously is deprecated since 3.3 and will become an error two minor releases later. Please pass vmin/vmax directly to the norm when creating it.\n",
      "  return super().imshow(X, *args, origin=origin, **kwargs)\n"
     ]
    },
    {
     "data": {
      "text/plain": [
       "(<WCSAxesSubplot:xlabel='Galactic Longitude', ylabel='Galactic Latitude'>,\n",
       " None)"
      ]
     },
     "execution_count": 1,
     "metadata": {},
     "output_type": "execute_result"
    },
    {
     "data": {
      "image/png": "[encoded data removed]",
      "text/plain": [
       "<Figure size 864x288 with 2 Axes>"
      ]
     },
     "metadata": {
      "needs_background": "light"
     },
     "output_type": "display_data"
    }
   ],
   "source": [
    "dataset_fit.plot_residuals(method=\"diff/sqrt(model)\", vmin=-0.5, vmax=0.5)"
   ]
  },
  {
   "cell_type": "markdown",
   "metadata": {},
   "source": [
    "Compare the injected and fitted models: "
   ]
  },
  {
   "cell_type": "code",
   "execution_count": 19,
   "metadata": {
    "execution": {
     "iopub.execute_input": "2020-10-06T20:01:43.284018Z",
     "iopub.status.busy": "2020-10-06T20:01:43.283601Z",
     "iopub.status.idle": "2020-10-06T20:01:43.286580Z",
     "shell.execute_reply": "2020-10-06T20:01:43.286873Z"
    }
   },
   "outputs": [
    {
     "name": "stdout",
     "output_type": "stream",
     "text": [
      "True model: \n",
      " SkyModel\n",
      "\n",
      "  Name                      : model-simu\n",
      "  Datasets names            : None\n",
      "  Spectral model type       : PowerLawSpectralModel\n",
      "  Spatial  model type       : GaussianSpatialModel\n",
      "  Temporal model type       : \n",
      "  Parameters:\n",
      "    index                   :   3.000              \n",
      "    amplitude               :   1.00e-11  1 / (cm2 s TeV)\n",
      "    reference    (frozen)   :   1.000  TeV         \n",
      "    lon_0                   :   0.200  deg         \n",
      "    lat_0                   :   0.100  deg         \n",
      "    sigma                   :   0.300  deg         \n",
      "    e            (frozen)   :   0.000              \n",
      "    phi          (frozen)   :   0.000  deg         \n",
      "\n",
      " \n",
      "\n",
      " Fitted model: \n",
      " SkyModel\n",
      "\n",
      "  Name                      : model-fit\n",
      "  Datasets names            : None\n",
      "  Spectral model type       : PowerLawSpectralModel\n",
      "  Spatial  model type       : GaussianSpatialModel\n",
      "  Temporal model type       : \n",
      "  Parameters:\n",
      "    index                   :   3.006              \n",
      "    amplitude               :   9.95e-12  1 / (cm2 s TeV)\n",
      "    reference    (frozen)   :   1.000  TeV         \n",
      "    lon_0                   :   0.209  deg         \n",
      "    lat_0                   :   0.099  deg         \n",
      "    sigma                   :   0.299  deg         \n",
      "    e            (frozen)   :   0.000              \n",
      "    phi          (frozen)   :   0.000  deg         \n",
      "\n",
      "\n"
     ]
    }
   ],
   "source": [
    "print(\"True model: \\n\", model_simu, \"\\n\\n Fitted model: \\n\", model_fit)"
   ]
  },
  {
   "cell_type": "markdown",
   "metadata": {},
   "source": [
    "Get the errors on the fitted parameters from the parameter table"
   ]
  },
  {
   "cell_type": "code",
   "execution_count": 20,
   "metadata": {
    "execution": {
     "iopub.execute_input": "2020-10-06T20:01:43.292377Z",
     "iopub.status.busy": "2020-10-06T20:01:43.292014Z",
     "iopub.status.idle": "2020-10-06T20:01:43.296019Z",
     "shell.execute_reply": "2020-10-06T20:01:43.295631Z"
    }
   },
   "outputs": [
    {
     "data": {
      "text/html": [
       "<i>Table length=11</i>\n",
       "<table id=\"table140567410314712\" class=\"table-striped table-bordered table-condensed\">\n",
       "<thead><tr><th>name</th><th>value</th><th>unit</th><th>min</th><th>max</th><th>frozen</th><th>error</th></tr></thead>\n",
       "<thead><tr><th>str9</th><th>float64</th><th>str14</th><th>float64</th><th>float64</th><th>bool</th><th>float64</th></tr></thead>\n",
       "<tr><td>index</td><td>3.006e+00</td><td></td><td>nan</td><td>nan</td><td>False</td><td>1.984e-02</td></tr>\n",
       "<tr><td>amplitude</td><td>9.948e-12</td><td>cm-2 s-1 TeV-1</td><td>nan</td><td>nan</td><td>False</td><td>3.265e-13</td></tr>\n",
       "<tr><td>reference</td><td>1.000e+00</td><td>TeV</td><td>nan</td><td>nan</td><td>True</td><td>0.000e+00</td></tr>\n",
       "<tr><td>lon_0</td><td>2.087e-01</td><td>deg</td><td>nan</td><td>nan</td><td>False</td><td>5.832e-03</td></tr>\n",
       "<tr><td>lat_0</td><td>9.883e-02</td><td>deg</td><td>-9.000e+01</td><td>9.000e+01</td><td>False</td><td>5.922e-03</td></tr>\n",
       "<tr><td>sigma</td><td>2.986e-01</td><td>deg</td><td>0.000e+00</td><td>nan</td><td>False</td><td>4.037e-03</td></tr>\n",
       "<tr><td>e</td><td>0.000e+00</td><td></td><td>0.000e+00</td><td>1.000e+00</td><td>True</td><td>0.000e+00</td></tr>\n",
       "<tr><td>phi</td><td>0.000e+00</td><td>deg</td><td>nan</td><td>nan</td><td>True</td><td>0.000e+00</td></tr>\n",
       "<tr><td>norm</td><td>1.000e+00</td><td></td><td>nan</td><td>nan</td><td>True</td><td>0.000e+00</td></tr>\n",
       "<tr><td>tilt</td><td>0.000e+00</td><td></td><td>nan</td><td>nan</td><td>True</td><td>0.000e+00</td></tr>\n",
       "<tr><td>reference</td><td>1.000e+00</td><td>TeV</td><td>nan</td><td>nan</td><td>True</td><td>0.000e+00</td></tr>\n",
       "</table>"
      ],
      "text/plain": [
       "<Table length=11>\n",
       "   name     value        unit         min        max    frozen   error  \n",
       "   str9    float64      str14       float64    float64   bool   float64 \n",
       "--------- --------- -------------- ---------- --------- ------ ---------\n",
       "    index 3.006e+00                       nan       nan  False 1.984e-02\n",
       "amplitude 9.948e-12 cm-2 s-1 TeV-1        nan       nan  False 3.265e-13\n",
       "reference 1.000e+00            TeV        nan       nan   True 0.000e+00\n",
       "    lon_0 2.087e-01            deg        nan       nan  False 5.832e-03\n",
       "    lat_0 9.883e-02            deg -9.000e+01 9.000e+01  False 5.922e-03\n",
       "    sigma 2.986e-01            deg  0.000e+00       nan  False 4.037e-03\n",
       "        e 0.000e+00                 0.000e+00 1.000e+00   True 0.000e+00\n",
       "      phi 0.000e+00            deg        nan       nan   True 0.000e+00\n",
       "     norm 1.000e+00                       nan       nan   True 0.000e+00\n",
       "     tilt 0.000e+00                       nan       nan   True 0.000e+00\n",
       "reference 1.000e+00            TeV        nan       nan   True 0.000e+00"
      ]
     },
     "execution_count": 1,
     "metadata": {},
     "output_type": "execute_result"
    }
   ],
   "source": [
    "result.parameters.to_table()"
   ]
  }
 ],
 "metadata": {
  "kernelspec": {
   "display_name": "Python 3",
   "language": "python",
   "name": "python3"
  },
  "language_info": {
   "codemirror_mode": {
    "name": "ipython",
    "version": 3
   },
   "file_extension": ".py",
   "mimetype": "text/x-python",
   "name": "python",
   "nbconvert_exporter": "python",
   "pygments_lexer": "ipython3",
   "version": "3.7.0"
  },
  "nbsphinx": {
   "orphan": true
  },
  "widgets": {
   "application/vnd.jupyter.widget-state+json": {
    "state": {
     "0fb031363262441eb30030312fac0c1f": {
      "model_module": "@jupyter-widgets/base",
      "model_module_version": "1.2.0",
      "model_name": "LayoutModel",
      "state": {
       "_model_module": "@jupyter-widgets/base",
       "_model_module_version": "1.2.0",
       "_model_name": "LayoutModel",
       "_view_count": null,
       "_view_module": "@jupyter-widgets/base",
       "_view_module_version": "1.2.0",
       "_view_name": "LayoutView",
       "align_content": null,
       "align_items": null,
       "align_self": null,
       "border": null,
       "bottom": null,
       "display": null,
       "flex": null,
       "flex_flow": null,
       "grid_area": null,
       "grid_auto_columns": null,
       "grid_auto_flow": null,
       "grid_auto_rows": null,
       "grid_column": null,
       "grid_gap": null,
       "grid_row": null,
       "grid_template_areas": null,
       "grid_template_columns": null,
       "grid_template_rows": null,
       "height": null,
       "justify_content": null,
       "justify_items": null,
       "left": null,
       "margin": null,
       "max_height": null,
       "max_width": null,
       "min_height": null,
       "min_width": null,
       "object_fit": null,
       "object_position": null,
       "order": null,
       "overflow": null,
       "overflow_x": null,
       "overflow_y": null,
       "padding": null,
       "right": null,
       "top": null,
       "visibility": null,
       "width": null
      }
     },
     "1674ff409e36480fa51018581d2308bc": {
      "model_module": "@jupyter-widgets/output",
      "model_module_version": "1.0.0",
      "model_name": "OutputModel",
      "state": {
       "_dom_classes": [],
       "_model_module": "@jupyter-widgets/output",
       "_model_module_version": "1.0.0",
       "_model_name": "OutputModel",
       "_view_count": null,
       "_view_module": "@jupyter-widgets/output",
       "_view_module_version": "1.0.0",
       "_view_name": "OutputView",
       "layout": "IPY_MODEL_998e0a2bc0a84e8baac7eabe9b4979c0",
       "msg_id": "",
       "outputs": [
        {
         "data": {
          "image/png": "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\n",
          "text/plain": "<Figure size 432x288 with 2 Axes>"
         },
         "metadata": {
          "needs_background": "light"
         },
         "output_type": "display_data"
        }
       ]
      }
     },
     "4200cd4444444ca0bd6f8f689d33e660": {
      "model_module": "@jupyter-widgets/controls",
      "model_module_version": "1.5.0",
      "model_name": "DescriptionStyleModel",
      "state": {
       "_model_module": "@jupyter-widgets/controls",
       "_model_module_version": "1.5.0",
       "_model_name": "DescriptionStyleModel",
       "_view_count": null,
       "_view_module": "@jupyter-widgets/base",
       "_view_module_version": "1.2.0",
       "_view_name": "StyleView",
       "description_width": "initial"
      }
     },
     "788999ec4a5a453897f03a1bdbacfe43": {
      "model_module": "@jupyter-widgets/base",
      "model_module_version": "1.2.0",
      "model_name": "LayoutModel",
      "state": {
       "_model_module": "@jupyter-widgets/base",
       "_model_module_version": "1.2.0",
       "_model_name": "LayoutModel",
       "_view_count": null,
       "_view_module": "@jupyter-widgets/base",
       "_view_module_version": "1.2.0",
       "_view_name": "LayoutView",
       "align_content": null,
       "align_items": null,
       "align_self": null,
       "border": null,
       "bottom": null,
       "display": null,
       "flex": null,
       "flex_flow": null,
       "grid_area": null,
       "grid_auto_columns": null,
       "grid_auto_flow": null,
       "grid_auto_rows": null,
       "grid_column": null,
       "grid_gap": null,
       "grid_row": null,
       "grid_template_areas": null,
       "grid_template_columns": null,
       "grid_template_rows": null,
       "height": null,
       "justify_content": null,
       "justify_items": null,
       "left": null,
       "margin": null,
       "max_height": null,
       "max_width": null,
       "min_height": null,
       "min_width": null,
       "object_fit": null,
       "object_position": null,
       "order": null,
       "overflow": null,
       "overflow_x": null,
       "overflow_y": null,
       "padding": null,
       "right": null,
       "top": null,
       "visibility": null,
       "width": null
      }
     },
     "998e0a2bc0a84e8baac7eabe9b4979c0": {
      "model_module": "@jupyter-widgets/base",
      "model_module_version": "1.2.0",
      "model_name": "LayoutModel",
      "state": {
       "_model_module": "@jupyter-widgets/base",
       "_model_module_version": "1.2.0",
       "_model_name": "LayoutModel",
       "_view_count": null,
       "_view_module": "@jupyter-widgets/base",
       "_view_module_version": "1.2.0",
       "_view_name": "LayoutView",
       "align_content": null,
       "align_items": null,
       "align_self": null,
       "border": null,
       "bottom": null,
       "display": null,
       "flex": null,
       "flex_flow": null,
       "grid_area": null,
       "grid_auto_columns": null,
       "grid_auto_flow": null,
       "grid_auto_rows": null,
       "grid_column": null,
       "grid_gap": null,
       "grid_row": null,
       "grid_template_areas": null,
       "grid_template_columns": null,
       "grid_template_rows": null,
       "height": null,
       "justify_content": null,
       "justify_items": null,
       "left": null,
       "margin": null,
       "max_height": null,
       "max_width": null,
       "min_height": null,
       "min_width": null,
       "object_fit": null,
       "object_position": null,
       "order": null,
       "overflow": null,
       "overflow_x": null,
       "overflow_y": null,
       "padding": null,
       "right": null,
       "top": null,
       "visibility": null,
       "width": null
      }
     },
     "a17d54609be44ffab48ddb834f67aacc": {
      "model_module": "@jupyter-widgets/base",
      "model_module_version": "1.2.0",
      "model_name": "LayoutModel",
      "state": {
       "_model_module": "@jupyter-widgets/base",
       "_model_module_version": "1.2.0",
       "_model_name": "LayoutModel",
       "_view_count": null,
       "_view_module": "@jupyter-widgets/base",
       "_view_module_version": "1.2.0",
       "_view_name": "LayoutView",
       "align_content": null,
       "align_items": null,
       "align_self": null,
       "border": null,
       "bottom": null,
       "display": null,
       "flex": null,
       "flex_flow": null,
       "grid_area": null,
       "grid_auto_columns": null,
       "grid_auto_flow": null,
       "grid_auto_rows": null,
       "grid_column": null,
       "grid_gap": null,
       "grid_row": null,
       "grid_template_areas": null,
       "grid_template_columns": null,
       "grid_template_rows": null,
       "height": null,
       "justify_content": null,
       "justify_items": null,
       "left": null,
       "margin": null,
       "max_height": null,
       "max_width": null,
       "min_height": null,
       "min_width": null,
       "object_fit": null,
       "object_position": null,
       "order": null,
       "overflow": null,
       "overflow_x": null,
       "overflow_y": null,
       "padding": null,
       "right": null,
       "top": null,
       "visibility": null,
       "width": "50%"
      }
     },
     "bb40163844bb4df2be8c925f8cdfc4d0": {
      "model_module": "@jupyter-widgets/controls",
      "model_module_version": "1.5.0",
      "model_name": "VBoxModel",
      "state": {
       "_dom_classes": [
        "widget-interact"
       ],
       "_model_module": "@jupyter-widgets/controls",
       "_model_module_version": "1.5.0",
       "_model_name": "VBoxModel",
       "_view_count": null,
       "_view_module": "@jupyter-widgets/controls",
       "_view_module_version": "1.5.0",
       "_view_name": "VBoxView",
       "box_style": "",
       "children": [
        "IPY_MODEL_ea91e3c0e9864da895937210553ee9ac",
        "IPY_MODEL_cb3199c9b33440ee8e5e743a02ee5316",
        "IPY_MODEL_1674ff409e36480fa51018581d2308bc"
       ],
       "layout": "IPY_MODEL_788999ec4a5a453897f03a1bdbacfe43"
      }
     },
     "cb3199c9b33440ee8e5e743a02ee5316": {
      "model_module": "@jupyter-widgets/controls",
      "model_module_version": "1.5.0",
      "model_name": "RadioButtonsModel",
      "state": {
       "_dom_classes": [],
       "_model_module": "@jupyter-widgets/controls",
       "_model_module_version": "1.5.0",
       "_model_name": "RadioButtonsModel",
       "_options_labels": [
        "linear",
        "sqrt",
        "log"
       ],
       "_view_count": null,
       "_view_module": "@jupyter-widgets/controls",
       "_view_module_version": "1.5.0",
       "_view_name": "RadioButtonsView",
       "description": "Select stretch:",
       "description_tooltip": null,
       "disabled": false,
       "index": 0,
       "layout": "IPY_MODEL_0fb031363262441eb30030312fac0c1f",
       "style": "IPY_MODEL_e39aff202fbd40fa9984f25b8ed7b63e"
      }
     },
     "e39aff202fbd40fa9984f25b8ed7b63e": {
      "model_module": "@jupyter-widgets/controls",
      "model_module_version": "1.5.0",
      "model_name": "DescriptionStyleModel",
      "state": {
       "_model_module": "@jupyter-widgets/controls",
       "_model_module_version": "1.5.0",
       "_model_name": "DescriptionStyleModel",
       "_view_count": null,
       "_view_module": "@jupyter-widgets/base",
       "_view_module_version": "1.2.0",
       "_view_name": "StyleView",
       "description_width": "initial"
      }
     },
     "ea91e3c0e9864da895937210553ee9ac": {
      "model_module": "@jupyter-widgets/controls",
      "model_module_version": "1.5.0",
      "model_name": "SelectionSliderModel",
      "state": {
       "_dom_classes": [],
       "_model_module": "@jupyter-widgets/controls",
       "_model_module_version": "1.5.0",
       "_model_name": "SelectionSliderModel",
       "_options_labels": [
        "1.00e-01 TeV - 1.67e-01 TeV TeV",
        "1.67e-01 TeV - 2.78e-01 TeV TeV",
        "2.78e-01 TeV - 4.64e-01 TeV TeV",
        "4.64e-01 TeV - 7.74e-01 TeV TeV",
        "7.74e-01 TeV - 1.29e+00 TeV TeV",
        "1.29e+00 TeV - 2.15e+00 TeV TeV",
        "2.15e+00 TeV - 3.59e+00 TeV TeV",
        "3.59e+00 TeV - 5.99e+00 TeV TeV",
        "5.99e+00 TeV - 1.00e+01 TeV TeV"
       ],
       "_view_count": null,
       "_view_module": "@jupyter-widgets/controls",
       "_view_module_version": "1.5.0",
       "_view_name": "SelectionSliderView",
       "continuous_update": false,
       "description": "Select energy:",
       "description_tooltip": null,
       "disabled": false,
       "index": 0,
       "layout": "IPY_MODEL_a17d54609be44ffab48ddb834f67aacc",
       "orientation": "horizontal",
       "readout": true,
       "style": "IPY_MODEL_4200cd4444444ca0bd6f8f689d33e660"
      }
     }
    },
    "version_major": 2,
    "version_minor": 0
   }
  }
 },
 "nbformat": 4,
 "nbformat_minor": 4
}
