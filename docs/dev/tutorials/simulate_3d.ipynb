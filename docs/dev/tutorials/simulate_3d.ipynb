{
 "cells": [
  {
   "cell_type": "markdown",
   "metadata": {},
   "source": [
    "\n",
    "<div class=\"alert alert-info\">\n",
    "\n",
    "**This is a fixed-text formatted version of a Jupyter notebook**\n",
    "\n",
    "- Try online [![Binder](https://static.mybinder.org/badge.svg)](https://mybinder.org/v2/gh/gammapy/gammapy-webpage/master?urlpath=lab/tree/simulate_3d.ipynb)\n",
    "- You can contribute with your own notebooks in this\n",
    "[GitHub repository](https://github.com/gammapy/gammapy/tree/master/docs/tutorials).\n",
    "- **Source files:**\n",
    "[simulate_3d.ipynb](../_static/notebooks/simulate_3d.ipynb) |\n",
    "[simulate_3d.py](../_static/notebooks/simulate_3d.py)\n",
    "</div>\n"
   ]
  },
  {
   "cell_type": "markdown",
   "execution_count": 1,
   "metadata": {},
   "source": [
    "# 3D simulation and fitting\n",
    "\n",
    "## Prerequisites\n",
    "\n",
    "- Knowledge of 3D extraction and datasets used in gammapy, see for instance the [first analysis tutorial](analysis_1.ipynb)\n",
    "\n",
    "## Context\n",
    "\n",
    "To simulate a specific observation, it is not always necessary to simulate the full photon list. For many uses cases, simulating directly a reduced binned dataset is enough: the IRFs reduced in the correct geometry are combined with a source model to predict an actual number of counts per bin. The latter is then used to simulate a reduced dataset using Poisson probability distribution.\n",
    "\n",
    "This can be done to check the feasibility of a measurement (performance / sensitivity study), to test whether fitted parameters really provide a good fit to the data etc.\n",
    "\n",
    "Here we will see how to perform a 3D simulation of a CTA observation, assuming both the spectral and spatial morphology of an observed source.\n",
    "\n",
    "**Objective: simulate a 3D observation of a source with CTA using the CTA 1DC response and fit it with the assumed source model.**\n",
    "\n",
    "## Proposed approach:\n",
    "\n",
    "Here we can't use the regular observation objects that are connected to a `DataStore`. Instead we will create a fake `~gammapy.data.Observation` that contain some pointing information and the CTA 1DC IRFs (that are loaded with `~gammapy.irf.load_cta_irfs`).\n",
    "\n",
    "Then we will create a `~gammapy.datasets.MapDataset` geometry and create it with the `~gammapy.makers.MapDatasetMaker`.\n",
    "\n",
    "Then we will be able to define a model consisting of  a `~gammapy.modeling.models.PowerLawSpectralModel` and a `~gammapy.modeling.models.GaussianSpatialModel`. We will assign it to the dataset and fake the count data.\n"
   ]
  },
  {
   "cell_type": "markdown",
   "execution_count": 1,
   "metadata": {},
   "source": [
    "## Imports and versions"
   ]
  },
  {
   "cell_type": "code",
   "execution_count": 1,
   "metadata": {
    "execution": {
     "iopub.execute_input": "2020-09-16T15:09:38.370121Z",
     "iopub.status.busy": "2020-09-16T15:09:38.369418Z",
     "iopub.status.idle": "2020-09-16T15:09:38.693835Z",
     "shell.execute_reply": "2020-09-16T15:09:38.693115Z"
    }
   },
   "outputs": [],
   "source": [
    "%matplotlib inline"
   ]
  },
  {
   "cell_type": "code",
   "execution_count": 2,
   "metadata": {
    "execution": {
     "iopub.execute_input": "2020-09-16T15:09:38.699802Z",
     "iopub.status.busy": "2020-09-16T15:09:38.698741Z",
     "iopub.status.idle": "2020-09-16T15:09:39.897514Z",
     "shell.execute_reply": "2020-09-16T15:09:39.896597Z"
    }
   },
   "outputs": [],
   "source": [
    "import numpy as np\n",
    "import astropy.units as u\n",
    "from astropy.coordinates import SkyCoord\n",
    "from gammapy.irf import load_cta_irfs\n",
    "from gammapy.maps import WcsGeom, MapAxis\n",
    "from gammapy.modeling.models import (\n",
    "    PowerLawSpectralModel,\n",
    "    GaussianSpatialModel,\n",
    "    SkyModel,\n",
    ")\n",
    "from gammapy.makers import MapDatasetMaker, SafeMaskMaker\n",
    "from gammapy.modeling import Fit\n",
    "from gammapy.data import Observation\n",
    "from gammapy.datasets import MapDataset"
   ]
  },
  {
   "cell_type": "code",
   "execution_count": 3,
   "metadata": {
    "execution": {
     "iopub.execute_input": "2020-09-16T15:09:39.909276Z",
     "iopub.status.busy": "2020-09-16T15:09:39.901584Z",
     "iopub.status.idle": "2020-09-16T15:09:42.264928Z",
     "shell.execute_reply": "2020-09-16T15:09:42.265348Z"
    }
   },
   "outputs": [
    {
     "name": "stdout",
     "output_type": "stream",
     "text": [
      "\r\n",
      "Gammapy package:\r\n",
      "\r\n",
      "\tversion                : 0.18.dev690+gede9fe4b8 \r\n",
      "\tpath                   : /home/runner/work/gammapy-docs/gammapy-docs/gammapy/gammapy \r\n",
      "\r\n"
     ]
    }
   ],
   "source": [
    "!gammapy info --no-envvar --no-dependencies --no-system"
   ]
  },
  {
   "cell_type": "markdown",
   "execution_count": 4,
   "metadata": {},
   "source": [
    "## Simulation"
   ]
  },
  {
   "cell_type": "markdown",
   "execution_count": 4,
   "metadata": {},
   "source": [
    "We will simulate using the CTA-1DC IRFs shipped with gammapy. Note that for dedictaed CTA simulations, you can simply use [`Observation.from_caldb()`]() without having to externally load the IRFs"
   ]
  },
  {
   "cell_type": "code",
   "execution_count": 4,
   "metadata": {
    "execution": {
     "iopub.execute_input": "2020-09-16T15:09:42.274409Z",
     "iopub.status.busy": "2020-09-16T15:09:42.270478Z",
     "iopub.status.idle": "2020-09-16T15:09:42.381884Z",
     "shell.execute_reply": "2020-09-16T15:09:42.381098Z"
    }
   },
   "outputs": [
    {
     "name": "stderr",
     "output_type": "stream",
     "text": [
      "Invalid unit found in background table! Assuming (s-1 MeV-1 sr-1)\n"
     ]
    }
   ],
   "source": [
    "# Loading IRFs\n",
    "irfs = load_cta_irfs(\n",
    "    \"$GAMMAPY_DATA/cta-1dc/caldb/data/cta/1dc/bcf/South_z20_50h/irf_file.fits\"\n",
    ")"
   ]
  },
  {
   "cell_type": "code",
   "execution_count": 5,
   "metadata": {
    "execution": {
     "iopub.execute_input": "2020-09-16T15:09:42.387713Z",
     "iopub.status.busy": "2020-09-16T15:09:42.387053Z",
     "iopub.status.idle": "2020-09-16T15:09:42.391141Z",
     "shell.execute_reply": "2020-09-16T15:09:42.390427Z"
    }
   },
   "outputs": [],
   "source": [
    "# Define the observation parameters (typically the observation duration and the pointing position):\n",
    "livetime = 2.0 * u.hr\n",
    "pointing = SkyCoord(0, 0, unit=\"deg\", frame=\"galactic\")"
   ]
  },
  {
   "cell_type": "code",
   "execution_count": 6,
   "metadata": {
    "execution": {
     "iopub.execute_input": "2020-09-16T15:09:42.398564Z",
     "iopub.status.busy": "2020-09-16T15:09:42.398011Z",
     "iopub.status.idle": "2020-09-16T15:09:42.402111Z",
     "shell.execute_reply": "2020-09-16T15:09:42.401616Z"
    }
   },
   "outputs": [],
   "source": [
    "# Define map geometry for binned simulation\n",
    "energy_reco = MapAxis.from_edges(\n",
    "    np.logspace(-1.0, 1.0, 10), unit=\"TeV\", name=\"energy\", interp=\"log\"\n",
    ")\n",
    "geom = WcsGeom.create(\n",
    "    skydir=(0, 0),\n",
    "    binsz=0.02,\n",
    "    width=(6, 6),\n",
    "    frame=\"galactic\",\n",
    "    axes=[energy_reco],\n",
    ")\n",
    "# It is usually useful to have a separate binning for the true energy axis\n",
    "energy_true = MapAxis.from_edges(\n",
    "    np.logspace(-1.5, 1.5, 30), unit=\"TeV\", name=\"energy\", interp=\"log\"\n",
    ")"
   ]
  },
  {
   "cell_type": "code",
   "execution_count": 7,
   "metadata": {
    "execution": {
     "iopub.execute_input": "2020-09-16T15:09:42.415872Z",
     "iopub.status.busy": "2020-09-16T15:09:42.415122Z",
     "iopub.status.idle": "2020-09-16T15:09:42.420200Z",
     "shell.execute_reply": "2020-09-16T15:09:42.419661Z"
    }
   },
   "outputs": [
    {
     "name": "stdout",
     "output_type": "stream",
     "text": [
      "SkyModel\n",
      "\n",
      "  Name                      : model-simu\n",
      "  Datasets names            : None\n",
      "  Spectral model type       : PowerLawSpectralModel\n",
      "  Spatial  model type       : GaussianSpatialModel\n",
      "  Temporal model type       : \n",
      "  Parameters:\n",
      "    index                   :   3.000              \n",
      "    amplitude               :   1.00e-11  1 / (cm2 s TeV)\n",
      "    reference    (frozen)   :   1.000  TeV         \n",
      "    lon_0                   :   0.200  deg         \n",
      "    lat_0                   :   0.100  deg         \n",
      "    sigma                   :   0.300  deg         \n",
      "    e            (frozen)   :   0.000              \n",
      "    phi          (frozen)   :   0.000  deg         \n",
      "\n",
      "\n"
     ]
    }
   ],
   "source": [
    "# Define sky model to used simulate the data.\n",
    "# Here we use a Gaussian spatial model and a Power Law spectral model.\n",
    "spatial_model = GaussianSpatialModel(\n",
    "    lon_0=\"0.2 deg\", lat_0=\"0.1 deg\", sigma=\"0.3 deg\", frame=\"galactic\"\n",
    ")\n",
    "spectral_model = PowerLawSpectralModel(\n",
    "    index=3, amplitude=\"1e-11 cm-2 s-1 TeV-1\", reference=\"1 TeV\"\n",
    ")\n",
    "model_simu = SkyModel(\n",
    "    spatial_model=spatial_model,\n",
    "    spectral_model=spectral_model,\n",
    "    name=\"model-simu\",\n",
    ")\n",
    "print(model_simu)"
   ]
  },
  {
   "cell_type": "markdown",
   "execution_count": 8,
   "metadata": {},
   "source": [
    "Now, comes the main part of dataset simulation. We create an in-memory observation and an empty dataset. We then predict the number of counts for the given model, and Poission fluctuate it using `fake()` to make a simulated counts maps. Keep in mind that it is important to specify the `selection` of the maps that you want to produce "
   ]
  },
  {
   "cell_type": "code",
   "execution_count": 8,
   "metadata": {
    "execution": {
     "iopub.execute_input": "2020-09-16T15:09:42.444846Z",
     "iopub.status.busy": "2020-09-16T15:09:42.444293Z",
     "iopub.status.idle": "2020-09-16T15:09:42.449363Z",
     "shell.execute_reply": "2020-09-16T15:09:42.448759Z"
    }
   },
   "outputs": [
    {
     "name": "stdout",
     "output_type": "stream",
     "text": [
      "Observation\n",
      "\n",
      "\tobs id            : 0 \n",
      " \ttstart            : 51544.00\n",
      "\ttstop             : 51544.08\n",
      "\tduration          : 7200.00 s\n",
      "\tpointing (icrs)   : 266.4 deg, -28.9 deg\n",
      "\n",
      "\tdeadtime fraction : 0.0%\n",
      "\n"
     ]
    }
   ],
   "source": [
    "# Create an in-memory observation\n",
    "obs = Observation.create(pointing=pointing, livetime=livetime, irfs=irfs)\n",
    "print(obs)"
   ]
  },
  {
   "cell_type": "code",
   "execution_count": 9,
   "metadata": {
    "execution": {
     "iopub.execute_input": "2020-09-16T15:09:42.458230Z",
     "iopub.status.busy": "2020-09-16T15:09:42.454038Z",
     "iopub.status.idle": "2020-09-16T15:09:45.053979Z",
     "shell.execute_reply": "2020-09-16T15:09:45.053088Z"
    }
   },
   "outputs": [
    {
     "name": "stdout",
     "output_type": "stream",
     "text": [
      "MapDataset\n",
      "----------\n",
      "\n",
      "  Name                            : dataset-simu \n",
      "\n",
      "  Total counts                    : nan \n",
      "  Total predicted counts          : 161422.06\n",
      "  Total background counts         : 161422.06\n",
      "\n",
      "  Exposure min                    : 6.41e+07 m2 s\n",
      "  Exposure max                    : 2.53e+10 m2 s\n",
      "\n",
      "  Number of total bins            : 0 \n",
      "  Number of fit bins              : 804492 \n",
      "\n",
      "  Fit statistic type              : cash\n",
      "  Fit statistic value (-2 log(L)) : nan\n",
      "\n",
      "  Number of models                : 1 \n",
      "  Number of parameters            : 3\n",
      "  Number of free parameters       : 1\n",
      "\n",
      "  Component 0: BackgroundModel\n",
      "  \n",
      "    Name                      : dataset-simu-bkg\n",
      "    Datasets names            : ['dataset-simu']\n",
      "    Parameters:\n",
      "      norm                    :   1.000              \n",
      "      tilt         (frozen)   :   0.000              \n",
      "      reference    (frozen)   :   1.000  TeV         \n",
      "  \n",
      "  \n"
     ]
    }
   ],
   "source": [
    "# Make the MapDataset\n",
    "empty = MapDataset.create(geom, name=\"dataset-simu\")\n",
    "maker = MapDatasetMaker(selection=[\"exposure\", \"background\", \"psf\", \"edisp\"])\n",
    "maker_safe_mask = SafeMaskMaker(methods=[\"offset-max\"], offset_max=4.0 * u.deg)\n",
    "dataset = maker.run(empty, obs)\n",
    "dataset = maker_safe_mask.run(dataset, obs)\n",
    "print(dataset)"
   ]
  },
  {
   "cell_type": "code",
   "execution_count": 10,
   "metadata": {
    "execution": {
     "iopub.execute_input": "2020-09-16T15:09:45.065260Z",
     "iopub.status.busy": "2020-09-16T15:09:45.064641Z",
     "iopub.status.idle": "2020-09-16T15:09:45.418298Z",
     "shell.execute_reply": "2020-09-16T15:09:45.417759Z"
    }
   },
   "outputs": [
    {
     "name": "stdout",
     "output_type": "stream",
     "text": [
      "MapDataset\n",
      "----------\n",
      "\n",
      "  Name                            : dataset-simu \n",
      "\n",
      "  Total counts                    : 169592 \n",
      "  Total predicted counts          : 169861.06\n",
      "  Total background counts         : 161422.06\n",
      "\n",
      "  Exposure min                    : 6.41e+07 m2 s\n",
      "  Exposure max                    : 2.53e+10 m2 s\n",
      "\n",
      "  Number of total bins            : 810000 \n",
      "  Number of fit bins              : 804492 \n",
      "\n",
      "  Fit statistic type              : cash\n",
      "  Fit statistic value (-2 log(L)) : 563558.97\n",
      "\n",
      "  Number of models                : 2 \n",
      "  Number of parameters            : 11\n",
      "  Number of free parameters       : 6\n",
      "\n",
      "  Component 0: BackgroundModel\n",
      "  \n",
      "    Name                      : dataset-simu-bkg\n",
      "    Datasets names            : ['dataset-simu']\n",
      "    Parameters:\n",
      "      norm                    :   1.000              \n",
      "      tilt         (frozen)   :   0.000              \n",
      "      reference    (frozen)   :   1.000  TeV         \n",
      "  \n",
      "  Component 1: SkyModel\n",
      "  \n",
      "    Name                      : model-simu\n",
      "    Datasets names            : None\n",
      "    Spectral model type       : PowerLawSpectralModel\n",
      "    Spatial  model type       : GaussianSpatialModel\n",
      "    Temporal model type       : \n",
      "    Parameters:\n",
      "      index                   :   3.000              \n",
      "      amplitude               :   1.00e-11  1 / (cm2 s TeV)\n",
      "      reference    (frozen)   :   1.000  TeV         \n",
      "      lon_0                   :   0.200  deg         \n",
      "      lat_0                   :   0.100  deg         \n",
      "      sigma                   :   0.300  deg         \n",
      "      e            (frozen)   :   0.000              \n",
      "      phi          (frozen)   :   0.000  deg         \n",
      "  \n",
      "  \n"
     ]
    }
   ],
   "source": [
    "# Add the model on the dataset and Poission fluctuate\n",
    "dataset.models.append(model_simu)\n",
    "dataset.fake()\n",
    "# Do a print on the dataset - there is now a counts maps\n",
    "print(dataset)"
   ]
  },
  {
   "cell_type": "markdown",
   "execution_count": 11,
   "metadata": {},
   "source": [
    "Now use this dataset as you would in all standard analysis. You can plot the maps, or proceed with your custom analysis. \n",
    "In the next section, we show the standard 3D fitting as in [analysis_3d](analysis_3d.ipynb)."
   ]
  },
  {
   "cell_type": "code",
   "execution_count": 11,
   "metadata": {
    "execution": {
     "iopub.execute_input": "2020-09-16T15:09:45.423175Z",
     "iopub.status.busy": "2020-09-16T15:09:45.422590Z",
     "iopub.status.idle": "2020-09-16T15:09:46.333532Z",
     "shell.execute_reply": "2020-09-16T15:09:46.332865Z"
    }
   },
   "outputs": [
    {
     "data": {
      "application/vnd.jupyter.widget-view+json": {
       "model_id": "5c12dc13389746f89feb23b9ab8641ec",
       "version_major": 2,
       "version_minor": 0
      },
      "text/plain": [
       "interactive(children=(SelectionSlider(continuous_update=False, description='Select energy:', layout=Layout(wid…"
      ]
     },
     "metadata": {},
     "output_type": "display_data"
    }
   ],
   "source": [
    "# To plot, eg, counts:\n",
    "dataset.counts.smooth(0.05 * u.deg).plot_interactive(\n",
    "    add_cbar=True, stretch=\"linear\"\n",
    ")"
   ]
  },
  {
   "cell_type": "markdown",
   "execution_count": 12,
   "metadata": {},
   "source": [
    "## Fit\n",
    "\n",
    "In this section, we do a usual 3D fit with the same model used to simulated the data and see the stability of the simulations. Often, it is useful to simulate many such datasets and look at the distribution of the reconstructed parameters."
   ]
  },
  {
   "cell_type": "code",
   "execution_count": 12,
   "metadata": {
    "execution": {
     "iopub.execute_input": "2020-09-16T15:09:46.342367Z",
     "iopub.status.busy": "2020-09-16T15:09:46.341778Z",
     "iopub.status.idle": "2020-09-16T15:09:46.372732Z",
     "shell.execute_reply": "2020-09-16T15:09:46.372122Z"
    }
   },
   "outputs": [],
   "source": [
    "# Make a copy of the dataset\n",
    "dataset_fit = dataset.copy(name=\"dataset-fit\")"
   ]
  },
  {
   "cell_type": "code",
   "execution_count": 13,
   "metadata": {
    "execution": {
     "iopub.execute_input": "2020-09-16T15:09:46.379165Z",
     "iopub.status.busy": "2020-09-16T15:09:46.377846Z",
     "iopub.status.idle": "2020-09-16T15:09:46.380666Z",
     "shell.execute_reply": "2020-09-16T15:09:46.381254Z"
    }
   },
   "outputs": [
    {
     "name": "stdout",
     "output_type": "stream",
     "text": [
      "ProperModels\n",
      "\n",
      "Component 0: BackgroundModel\n",
      "\n",
      "  Name                      : dataset-fit-bkg\n",
      "  Datasets names            : ['dataset-fit']\n",
      "  Parameters:\n",
      "    norm                    :   1.000              \n",
      "    tilt         (frozen)   :   0.000              \n",
      "    reference    (frozen)   :   1.000  TeV         \n",
      "\n",
      "Component 1: SkyModel\n",
      "\n",
      "  Name                      : model-simu\n",
      "  Datasets names            : None\n",
      "  Spectral model type       : PowerLawSpectralModel\n",
      "  Spatial  model type       : GaussianSpatialModel\n",
      "  Temporal model type       : \n",
      "  Parameters:\n",
      "    index                   :   3.000              \n",
      "    amplitude               :   1.00e-11  1 / (cm2 s TeV)\n",
      "    reference    (frozen)   :   1.000  TeV         \n",
      "    lon_0                   :   0.200  deg         \n",
      "    lat_0                   :   0.100  deg         \n",
      "    sigma                   :   0.300  deg         \n",
      "    e            (frozen)   :   0.000              \n",
      "    phi          (frozen)   :   0.000  deg         \n",
      "\n",
      "\n"
     ]
    }
   ],
   "source": [
    "print(dataset_fit.models)"
   ]
  },
  {
   "cell_type": "code",
   "execution_count": 14,
   "metadata": {
    "execution": {
     "iopub.execute_input": "2020-09-16T15:09:46.396625Z",
     "iopub.status.busy": "2020-09-16T15:09:46.395389Z",
     "iopub.status.idle": "2020-09-16T15:09:46.397935Z",
     "shell.execute_reply": "2020-09-16T15:09:46.398534Z"
    }
   },
   "outputs": [
    {
     "name": "stdout",
     "output_type": "stream",
     "text": [
      "ProperModels\n",
      "\n",
      "Component 0: SkyModel\n",
      "\n",
      "  Name                      : model-fit\n",
      "  Datasets names            : None\n",
      "  Spectral model type       : PowerLawSpectralModel\n",
      "  Spatial  model type       : GaussianSpatialModel\n",
      "  Temporal model type       : \n",
      "  Parameters:\n",
      "    index                   :   2.000              \n",
      "    amplitude               :   1.00e-11  1 / (cm2 s TeV)\n",
      "    reference    (frozen)   :   1.000  TeV         \n",
      "    lon_0                   :   0.100  deg         \n",
      "    lat_0                   :   0.100  deg         \n",
      "    sigma                   :   0.500  deg         \n",
      "    e            (frozen)   :   0.000              \n",
      "    phi          (frozen)   :   0.000  deg         \n",
      "\n",
      "Component 1: BackgroundModel\n",
      "\n",
      "  Name                      : dataset-fit-bkg\n",
      "  Datasets names            : ['dataset-fit']\n",
      "  Parameters:\n",
      "    norm                    :   1.000              \n",
      "    tilt         (frozen)   :   0.000              \n",
      "    reference    (frozen)   :   1.000  TeV         \n",
      "\n",
      "\n"
     ]
    }
   ],
   "source": [
    "# Define sky model to fit the data\n",
    "spatial_model1 = GaussianSpatialModel(\n",
    "    lon_0=\"0.1 deg\", lat_0=\"0.1 deg\", sigma=\"0.5 deg\", frame=\"galactic\"\n",
    ")\n",
    "spectral_model1 = PowerLawSpectralModel(\n",
    "    index=2, amplitude=\"1e-11 cm-2 s-1 TeV-1\", reference=\"1 TeV\"\n",
    ")\n",
    "model_fit = SkyModel(\n",
    "    spatial_model=spatial_model1,\n",
    "    spectral_model=spectral_model1,\n",
    "    name=\"model-fit\",\n",
    ")\n",
    "\n",
    "dataset_fit.models = [model_fit, dataset_fit.models[0]]\n",
    "print(dataset_fit.models)"
   ]
  },
  {
   "cell_type": "code",
   "execution_count": 15,
   "metadata": {
    "execution": {
     "iopub.execute_input": "2020-09-16T15:09:46.405318Z",
     "iopub.status.busy": "2020-09-16T15:09:46.403853Z",
     "iopub.status.idle": "2020-09-16T15:09:46.406676Z",
     "shell.execute_reply": "2020-09-16T15:09:46.407214Z"
    }
   },
   "outputs": [
    {
     "name": "stdout",
     "output_type": "stream",
     "text": [
      "BackgroundModel\n",
      "\n",
      "  Name                      : dataset-fit-bkg\n",
      "  Datasets names            : ['dataset-fit']\n",
      "  Parameters:\n",
      "    norm         (frozen)   :   1.000              \n",
      "    tilt         (frozen)   :   0.000              \n",
      "    reference    (frozen)   :   1.000  TeV         \n",
      "\n",
      "\n"
     ]
    }
   ],
   "source": [
    "# We do not want to fit the background in this case, so we will freeze the parameters\n",
    "background_model = dataset_fit.background_model\n",
    "background_model.parameters[\"norm\"].value = 1.0\n",
    "background_model.parameters[\"norm\"].frozen = True\n",
    "background_model.parameters[\"tilt\"].frozen = True\n",
    "\n",
    "print(background_model)"
   ]
  },
  {
   "cell_type": "code",
   "execution_count": 16,
   "metadata": {
    "execution": {
     "iopub.execute_input": "2020-09-16T15:09:46.411172Z",
     "iopub.status.busy": "2020-09-16T15:09:46.410629Z",
     "iopub.status.idle": "2020-09-16T15:09:46.808063Z",
     "shell.execute_reply": "2020-09-16T15:09:46.808611Z"
    }
   },
   "outputs": [
    {
     "name": "stdout",
     "output_type": "stream",
     "text": [
      "MapDataset\n",
      "----------\n",
      "\n",
      "  Name                            : dataset-fit \n",
      "\n",
      "  Total counts                    : 169592 \n",
      "  Total predicted counts          : 164532.16\n",
      "  Total background counts         : 161422.06\n",
      "\n",
      "  Exposure min                    : 6.41e+07 m2 s\n",
      "  Exposure max                    : 2.53e+10 m2 s\n",
      "\n",
      "  Number of total bins            : 810000 \n",
      "  Number of fit bins              : 804492 \n",
      "\n",
      "  Fit statistic type              : cash\n",
      "  Fit statistic value (-2 log(L)) : 568663.20\n",
      "\n",
      "  Number of models                : 2 \n",
      "  Number of parameters            : 11\n",
      "  Number of free parameters       : 5\n",
      "\n",
      "  Component 0: SkyModel\n",
      "  \n",
      "    Name                      : model-fit\n",
      "    Datasets names            : None\n",
      "    Spectral model type       : PowerLawSpectralModel\n",
      "    Spatial  model type       : GaussianSpatialModel\n",
      "    Temporal model type       : \n",
      "    Parameters:\n",
      "      index                   :   2.000              \n",
      "      amplitude               :   1.00e-11  1 / (cm2 s TeV)\n",
      "      reference    (frozen)   :   1.000  TeV         \n",
      "      lon_0                   :   0.100  deg         \n",
      "      lat_0                   :   0.100  deg         \n",
      "      sigma                   :   0.500  deg         \n",
      "      e            (frozen)   :   0.000              \n",
      "      phi          (frozen)   :   0.000  deg         \n",
      "  \n",
      "  Component 1: BackgroundModel\n",
      "  \n",
      "    Name                      : dataset-fit-bkg\n",
      "    Datasets names            : ['dataset-fit']\n",
      "    Parameters:\n",
      "      norm         (frozen)   :   1.000              \n",
      "      tilt         (frozen)   :   0.000              \n",
      "      reference    (frozen)   :   1.000  TeV         \n",
      "  \n",
      "  \n"
     ]
    }
   ],
   "source": [
    "print(dataset_fit)"
   ]
  },
  {
   "cell_type": "code",
   "execution_count": 17,
   "metadata": {
    "execution": {
     "iopub.execute_input": "2020-09-16T15:09:46.817437Z",
     "iopub.status.busy": "2020-09-16T15:09:46.816755Z",
     "iopub.status.idle": "2020-09-16T15:10:05.706560Z",
     "shell.execute_reply": "2020-09-16T15:10:05.706010Z"
    }
   },
   "outputs": [
    {
     "name": "stdout",
     "output_type": "stream",
     "text": [
      "------------------------------------------------------------------\n",
      "| FCN = 5.636e+05               |     Ncalls=210 (210 total)     |\n",
      "| EDM = 1e-05 (Goal: 0.0002)    |            up = 1.0            |\n",
      "------------------------------------------------------------------\n",
      "|  Valid Min.   | Valid Param.  | Above EDM | Reached call limit |\n",
      "------------------------------------------------------------------\n",
      "|     True      |     True      |   False   |       False        |\n",
      "------------------------------------------------------------------\n",
      "| Hesse failed  |   Has cov.    | Accurate  | Pos. def. | Forced |\n",
      "------------------------------------------------------------------\n",
      "|     False     |     True      |   True    |   True    | False  |\n",
      "------------------------------------------------------------------\n",
      "CPU times: user 18.9 s, sys: 22 ms, total: 18.9 s\n",
      "Wall time: 18.9 s\n"
     ]
    }
   ],
   "source": [
    "%%time\n",
    "fit = Fit([dataset_fit])\n",
    "result = fit.run(optimize_opts={\"print_level\": 1})"
   ]
  },
  {
   "cell_type": "code",
   "execution_count": 18,
   "metadata": {
    "execution": {
     "iopub.execute_input": "2020-09-16T15:10:05.711344Z",
     "iopub.status.busy": "2020-09-16T15:10:05.710792Z",
     "iopub.status.idle": "2020-09-16T15:10:06.450557Z",
     "shell.execute_reply": "2020-09-16T15:10:06.451000Z"
    }
   },
   "outputs": [
    {
     "name": "stderr",
     "output_type": "stream",
     "text": [
      "/usr/share/miniconda/envs/gammapy-dev/lib/python3.7/site-packages/astropy/visualization/wcsaxes/core.py:211: MatplotlibDeprecationWarning: Passing parameters norm and vmin/vmax simultaneously is deprecated since 3.3 and will become an error two minor releases later. Please pass vmin/vmax directly to the norm when creating it.\n",
      "  return super().imshow(X, *args, origin=origin, **kwargs)\n"
     ]
    },
    {
     "data": {
      "text/plain": [
       "(<WCSAxesSubplot:xlabel='Galactic Longitude', ylabel='Galactic Latitude'>,\n",
       " None)"
      ]
     },
     "execution_count": 1,
     "metadata": {},
     "output_type": "execute_result"
    },
    {
     "data": {
      "image/png": "[encoded data removed]",
      "text/plain": [
       "<Figure size 864x288 with 2 Axes>"
      ]
     },
     "metadata": {
      "needs_background": "light"
     },
     "output_type": "display_data"
    }
   ],
   "source": [
    "dataset_fit.plot_residuals(method=\"diff/sqrt(model)\", vmin=-0.5, vmax=0.5)"
   ]
  },
  {
   "cell_type": "markdown",
   "execution_count": 19,
   "metadata": {},
   "source": [
    "Compare the injected and fitted models: "
   ]
  },
  {
   "cell_type": "code",
   "execution_count": 19,
   "metadata": {
    "execution": {
     "iopub.execute_input": "2020-09-16T15:10:06.456269Z",
     "iopub.status.busy": "2020-09-16T15:10:06.453210Z",
     "iopub.status.idle": "2020-09-16T15:10:06.458445Z",
     "shell.execute_reply": "2020-09-16T15:10:06.458978Z"
    }
   },
   "outputs": [
    {
     "name": "stdout",
     "output_type": "stream",
     "text": [
      "True model: \n",
      " SkyModel\n",
      "\n",
      "  Name                      : model-simu\n",
      "  Datasets names            : None\n",
      "  Spectral model type       : PowerLawSpectralModel\n",
      "  Spatial  model type       : GaussianSpatialModel\n",
      "  Temporal model type       : \n",
      "  Parameters:\n",
      "    index                   :   3.000              \n",
      "    amplitude               :   1.00e-11  1 / (cm2 s TeV)\n",
      "    reference    (frozen)   :   1.000  TeV         \n",
      "    lon_0                   :   0.200  deg         \n",
      "    lat_0                   :   0.100  deg         \n",
      "    sigma                   :   0.300  deg         \n",
      "    e            (frozen)   :   0.000              \n",
      "    phi          (frozen)   :   0.000  deg         \n",
      "\n",
      " \n",
      "\n",
      " Fitted model: \n",
      " SkyModel\n",
      "\n",
      "  Name                      : model-fit\n",
      "  Datasets names            : None\n",
      "  Spectral model type       : PowerLawSpectralModel\n",
      "  Spatial  model type       : GaussianSpatialModel\n",
      "  Temporal model type       : \n",
      "  Parameters:\n",
      "    index                   :   3.020              \n",
      "    amplitude               :   9.70e-12  1 / (cm2 s TeV)\n",
      "    reference    (frozen)   :   1.000  TeV         \n",
      "    lon_0                   :   0.190  deg         \n",
      "    lat_0                   :   0.101  deg         \n",
      "    sigma                   :   0.296  deg         \n",
      "    e            (frozen)   :   0.000              \n",
      "    phi          (frozen)   :   0.000  deg         \n",
      "\n",
      "\n"
     ]
    }
   ],
   "source": [
    "print(\"True model: \\n\", model_simu, \"\\n\\n Fitted model: \\n\", model_fit)"
   ]
  },
  {
   "cell_type": "markdown",
   "execution_count": 20,
   "metadata": {},
   "source": [
    "Get the errors on the fitted parameters from the parameter table"
   ]
  },
  {
   "cell_type": "code",
   "execution_count": 20,
   "metadata": {
    "execution": {
     "iopub.execute_input": "2020-09-16T15:10:06.467375Z",
     "iopub.status.busy": "2020-09-16T15:10:06.466795Z",
     "iopub.status.idle": "2020-09-16T15:10:06.469345Z",
     "shell.execute_reply": "2020-09-16T15:10:06.469918Z"
    }
   },
   "outputs": [
    {
     "data": {
      "text/html": [
       "<i>Table length=11</i>\n",
       "<table id=\"table139828503830200\" class=\"table-striped table-bordered table-condensed\">\n",
       "<thead><tr><th>name</th><th>value</th><th>unit</th><th>min</th><th>max</th><th>frozen</th><th>error</th></tr></thead>\n",
       "<thead><tr><th>str9</th><th>float64</th><th>str14</th><th>float64</th><th>float64</th><th>bool</th><th>float64</th></tr></thead>\n",
       "<tr><td>index</td><td>3.020e+00</td><td></td><td>nan</td><td>nan</td><td>False</td><td>2.018e-02</td></tr>\n",
       "<tr><td>amplitude</td><td>9.702e-12</td><td>cm-2 s-1 TeV-1</td><td>nan</td><td>nan</td><td>False</td><td>3.255e-13</td></tr>\n",
       "<tr><td>reference</td><td>1.000e+00</td><td>TeV</td><td>nan</td><td>nan</td><td>True</td><td>0.000e+00</td></tr>\n",
       "<tr><td>lon_0</td><td>1.900e-01</td><td>deg</td><td>nan</td><td>nan</td><td>False</td><td>5.819e-03</td></tr>\n",
       "<tr><td>lat_0</td><td>1.012e-01</td><td>deg</td><td>-9.000e+01</td><td>9.000e+01</td><td>False</td><td>5.791e-03</td></tr>\n",
       "<tr><td>sigma</td><td>2.958e-01</td><td>deg</td><td>0.000e+00</td><td>nan</td><td>False</td><td>3.892e-03</td></tr>\n",
       "<tr><td>e</td><td>0.000e+00</td><td></td><td>0.000e+00</td><td>1.000e+00</td><td>True</td><td>0.000e+00</td></tr>\n",
       "<tr><td>phi</td><td>0.000e+00</td><td>deg</td><td>nan</td><td>nan</td><td>True</td><td>0.000e+00</td></tr>\n",
       "<tr><td>norm</td><td>1.000e+00</td><td></td><td>0.000e+00</td><td>nan</td><td>True</td><td>0.000e+00</td></tr>\n",
       "<tr><td>tilt</td><td>0.000e+00</td><td></td><td>nan</td><td>nan</td><td>True</td><td>0.000e+00</td></tr>\n",
       "<tr><td>reference</td><td>1.000e+00</td><td>TeV</td><td>nan</td><td>nan</td><td>True</td><td>0.000e+00</td></tr>\n",
       "</table>"
      ],
      "text/plain": [
       "<Table length=11>\n",
       "   name     value        unit         min        max    frozen   error  \n",
       "   str9    float64      str14       float64    float64   bool   float64 \n",
       "--------- --------- -------------- ---------- --------- ------ ---------\n",
       "    index 3.020e+00                       nan       nan  False 2.018e-02\n",
       "amplitude 9.702e-12 cm-2 s-1 TeV-1        nan       nan  False 3.255e-13\n",
       "reference 1.000e+00            TeV        nan       nan   True 0.000e+00\n",
       "    lon_0 1.900e-01            deg        nan       nan  False 5.819e-03\n",
       "    lat_0 1.012e-01            deg -9.000e+01 9.000e+01  False 5.791e-03\n",
       "    sigma 2.958e-01            deg  0.000e+00       nan  False 3.892e-03\n",
       "        e 0.000e+00                 0.000e+00 1.000e+00   True 0.000e+00\n",
       "      phi 0.000e+00            deg        nan       nan   True 0.000e+00\n",
       "     norm 1.000e+00                 0.000e+00       nan   True 0.000e+00\n",
       "     tilt 0.000e+00                       nan       nan   True 0.000e+00\n",
       "reference 1.000e+00            TeV        nan       nan   True 0.000e+00"
      ]
     },
     "execution_count": 1,
     "metadata": {},
     "output_type": "execute_result"
    }
   ],
   "source": [
    "result.parameters.to_table()"
   ]
  }
 ],
 "metadata": {
  "kernelspec": {
   "display_name": "Python 3",
   "language": "python",
   "name": "python3"
  },
  "language_info": {
   "codemirror_mode": {
    "name": "ipython",
    "version": 3
   },
   "file_extension": ".py",
   "mimetype": "text/x-python",
   "name": "python",
   "nbconvert_exporter": "python",
   "pygments_lexer": "ipython3",
   "version": "3.7.0"
  },
  "nbsphinx": {
   "orphan": true
  },
  "widgets": {
   "application/vnd.jupyter.widget-state+json": {
    "state": {
     "2db4dc8df95143e3bcd0889374b72d30": {
      "model_module": "@jupyter-widgets/output",
      "model_module_version": "1.0.0",
      "model_name": "OutputModel",
      "state": {
       "_dom_classes": [],
       "_model_module": "@jupyter-widgets/output",
       "_model_module_version": "1.0.0",
       "_model_name": "OutputModel",
       "_view_count": null,
       "_view_module": "@jupyter-widgets/output",
       "_view_module_version": "1.0.0",
       "_view_name": "OutputView",
       "layout": "IPY_MODEL_3d3d97e66b3a4311a446303f7fb73088",
       "msg_id": "",
       "outputs": [
        {
         "data": {
          "image/png": "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\n",
          "text/plain": "<Figure size 432x288 with 2 Axes>"
         },
         "metadata": {
          "needs_background": "light"
         },
         "output_type": "display_data"
        }
       ]
      }
     },
     "3d3d97e66b3a4311a446303f7fb73088": {
      "model_module": "@jupyter-widgets/base",
      "model_module_version": "1.2.0",
      "model_name": "LayoutModel",
      "state": {
       "_model_module": "@jupyter-widgets/base",
       "_model_module_version": "1.2.0",
       "_model_name": "LayoutModel",
       "_view_count": null,
       "_view_module": "@jupyter-widgets/base",
       "_view_module_version": "1.2.0",
       "_view_name": "LayoutView",
       "align_content": null,
       "align_items": null,
       "align_self": null,
       "border": null,
       "bottom": null,
       "display": null,
       "flex": null,
       "flex_flow": null,
       "grid_area": null,
       "grid_auto_columns": null,
       "grid_auto_flow": null,
       "grid_auto_rows": null,
       "grid_column": null,
       "grid_gap": null,
       "grid_row": null,
       "grid_template_areas": null,
       "grid_template_columns": null,
       "grid_template_rows": null,
       "height": null,
       "justify_content": null,
       "justify_items": null,
       "left": null,
       "margin": null,
       "max_height": null,
       "max_width": null,
       "min_height": null,
       "min_width": null,
       "object_fit": null,
       "object_position": null,
       "order": null,
       "overflow": null,
       "overflow_x": null,
       "overflow_y": null,
       "padding": null,
       "right": null,
       "top": null,
       "visibility": null,
       "width": null
      }
     },
     "415d8018c31b4ea0b73b6fc590c33ee1": {
      "model_module": "@jupyter-widgets/controls",
      "model_module_version": "1.5.0",
      "model_name": "SelectionSliderModel",
      "state": {
       "_dom_classes": [],
       "_model_module": "@jupyter-widgets/controls",
       "_model_module_version": "1.5.0",
       "_model_name": "SelectionSliderModel",
       "_options_labels": [
        "1.00e-01 TeV - 1.67e-01 TeV TeV",
        "1.67e-01 TeV - 2.78e-01 TeV TeV",
        "2.78e-01 TeV - 4.64e-01 TeV TeV",
        "4.64e-01 TeV - 7.74e-01 TeV TeV",
        "7.74e-01 TeV - 1.29e+00 TeV TeV",
        "1.29e+00 TeV - 2.15e+00 TeV TeV",
        "2.15e+00 TeV - 3.59e+00 TeV TeV",
        "3.59e+00 TeV - 5.99e+00 TeV TeV",
        "5.99e+00 TeV - 1.00e+01 TeV TeV"
       ],
       "_view_count": null,
       "_view_module": "@jupyter-widgets/controls",
       "_view_module_version": "1.5.0",
       "_view_name": "SelectionSliderView",
       "continuous_update": false,
       "description": "Select energy:",
       "description_tooltip": null,
       "disabled": false,
       "index": 0,
       "layout": "IPY_MODEL_c3edd459eb004ea2b0143423cc116294",
       "orientation": "horizontal",
       "readout": true,
       "style": "IPY_MODEL_da574d5b06094bc689b5ee134ff14068"
      }
     },
     "59b05e8756944c0c934fb6dbe12e2a3b": {
      "model_module": "@jupyter-widgets/controls",
      "model_module_version": "1.5.0",
      "model_name": "DescriptionStyleModel",
      "state": {
       "_model_module": "@jupyter-widgets/controls",
       "_model_module_version": "1.5.0",
       "_model_name": "DescriptionStyleModel",
       "_view_count": null,
       "_view_module": "@jupyter-widgets/base",
       "_view_module_version": "1.2.0",
       "_view_name": "StyleView",
       "description_width": "initial"
      }
     },
     "5c12dc13389746f89feb23b9ab8641ec": {
      "model_module": "@jupyter-widgets/controls",
      "model_module_version": "1.5.0",
      "model_name": "VBoxModel",
      "state": {
       "_dom_classes": [
        "widget-interact"
       ],
       "_model_module": "@jupyter-widgets/controls",
       "_model_module_version": "1.5.0",
       "_model_name": "VBoxModel",
       "_view_count": null,
       "_view_module": "@jupyter-widgets/controls",
       "_view_module_version": "1.5.0",
       "_view_name": "VBoxView",
       "box_style": "",
       "children": [
        "IPY_MODEL_415d8018c31b4ea0b73b6fc590c33ee1",
        "IPY_MODEL_85c6b83db49a4988a6f9af9a3fe0e6d4",
        "IPY_MODEL_2db4dc8df95143e3bcd0889374b72d30"
       ],
       "layout": "IPY_MODEL_763dda41423646139fe1c016708b809c"
      }
     },
     "763dda41423646139fe1c016708b809c": {
      "model_module": "@jupyter-widgets/base",
      "model_module_version": "1.2.0",
      "model_name": "LayoutModel",
      "state": {
       "_model_module": "@jupyter-widgets/base",
       "_model_module_version": "1.2.0",
       "_model_name": "LayoutModel",
       "_view_count": null,
       "_view_module": "@jupyter-widgets/base",
       "_view_module_version": "1.2.0",
       "_view_name": "LayoutView",
       "align_content": null,
       "align_items": null,
       "align_self": null,
       "border": null,
       "bottom": null,
       "display": null,
       "flex": null,
       "flex_flow": null,
       "grid_area": null,
       "grid_auto_columns": null,
       "grid_auto_flow": null,
       "grid_auto_rows": null,
       "grid_column": null,
       "grid_gap": null,
       "grid_row": null,
       "grid_template_areas": null,
       "grid_template_columns": null,
       "grid_template_rows": null,
       "height": null,
       "justify_content": null,
       "justify_items": null,
       "left": null,
       "margin": null,
       "max_height": null,
       "max_width": null,
       "min_height": null,
       "min_width": null,
       "object_fit": null,
       "object_position": null,
       "order": null,
       "overflow": null,
       "overflow_x": null,
       "overflow_y": null,
       "padding": null,
       "right": null,
       "top": null,
       "visibility": null,
       "width": null
      }
     },
     "85c6b83db49a4988a6f9af9a3fe0e6d4": {
      "model_module": "@jupyter-widgets/controls",
      "model_module_version": "1.5.0",
      "model_name": "RadioButtonsModel",
      "state": {
       "_dom_classes": [],
       "_model_module": "@jupyter-widgets/controls",
       "_model_module_version": "1.5.0",
       "_model_name": "RadioButtonsModel",
       "_options_labels": [
        "linear",
        "sqrt",
        "log"
       ],
       "_view_count": null,
       "_view_module": "@jupyter-widgets/controls",
       "_view_module_version": "1.5.0",
       "_view_name": "RadioButtonsView",
       "description": "Select stretch:",
       "description_tooltip": null,
       "disabled": false,
       "index": 0,
       "layout": "IPY_MODEL_dd076b29e9664b2eab465720a928829b",
       "style": "IPY_MODEL_59b05e8756944c0c934fb6dbe12e2a3b"
      }
     },
     "c3edd459eb004ea2b0143423cc116294": {
      "model_module": "@jupyter-widgets/base",
      "model_module_version": "1.2.0",
      "model_name": "LayoutModel",
      "state": {
       "_model_module": "@jupyter-widgets/base",
       "_model_module_version": "1.2.0",
       "_model_name": "LayoutModel",
       "_view_count": null,
       "_view_module": "@jupyter-widgets/base",
       "_view_module_version": "1.2.0",
       "_view_name": "LayoutView",
       "align_content": null,
       "align_items": null,
       "align_self": null,
       "border": null,
       "bottom": null,
       "display": null,
       "flex": null,
       "flex_flow": null,
       "grid_area": null,
       "grid_auto_columns": null,
       "grid_auto_flow": null,
       "grid_auto_rows": null,
       "grid_column": null,
       "grid_gap": null,
       "grid_row": null,
       "grid_template_areas": null,
       "grid_template_columns": null,
       "grid_template_rows": null,
       "height": null,
       "justify_content": null,
       "justify_items": null,
       "left": null,
       "margin": null,
       "max_height": null,
       "max_width": null,
       "min_height": null,
       "min_width": null,
       "object_fit": null,
       "object_position": null,
       "order": null,
       "overflow": null,
       "overflow_x": null,
       "overflow_y": null,
       "padding": null,
       "right": null,
       "top": null,
       "visibility": null,
       "width": "50%"
      }
     },
     "da574d5b06094bc689b5ee134ff14068": {
      "model_module": "@jupyter-widgets/controls",
      "model_module_version": "1.5.0",
      "model_name": "DescriptionStyleModel",
      "state": {
       "_model_module": "@jupyter-widgets/controls",
       "_model_module_version": "1.5.0",
       "_model_name": "DescriptionStyleModel",
       "_view_count": null,
       "_view_module": "@jupyter-widgets/base",
       "_view_module_version": "1.2.0",
       "_view_name": "StyleView",
       "description_width": "initial"
      }
     },
     "dd076b29e9664b2eab465720a928829b": {
      "model_module": "@jupyter-widgets/base",
      "model_module_version": "1.2.0",
      "model_name": "LayoutModel",
      "state": {
       "_model_module": "@jupyter-widgets/base",
       "_model_module_version": "1.2.0",
       "_model_name": "LayoutModel",
       "_view_count": null,
       "_view_module": "@jupyter-widgets/base",
       "_view_module_version": "1.2.0",
       "_view_name": "LayoutView",
       "align_content": null,
       "align_items": null,
       "align_self": null,
       "border": null,
       "bottom": null,
       "display": null,
       "flex": null,
       "flex_flow": null,
       "grid_area": null,
       "grid_auto_columns": null,
       "grid_auto_flow": null,
       "grid_auto_rows": null,
       "grid_column": null,
       "grid_gap": null,
       "grid_row": null,
       "grid_template_areas": null,
       "grid_template_columns": null,
       "grid_template_rows": null,
       "height": null,
       "justify_content": null,
       "justify_items": null,
       "left": null,
       "margin": null,
       "max_height": null,
       "max_width": null,
       "min_height": null,
       "min_width": null,
       "object_fit": null,
       "object_position": null,
       "order": null,
       "overflow": null,
       "overflow_x": null,
       "overflow_y": null,
       "padding": null,
       "right": null,
       "top": null,
       "visibility": null,
       "width": null
      }
     }
    },
    "version_major": 2,
    "version_minor": 0
   }
  }
 },
 "nbformat": 4,
 "nbformat_minor": 4
}
