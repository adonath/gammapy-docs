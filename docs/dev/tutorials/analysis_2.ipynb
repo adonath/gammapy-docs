{
 "cells": [
  {
   "cell_type": "markdown",
   "metadata": {},
   "source": [
    "\n",
    "<div class=\"alert alert-info\">\n",
    "\n",
    "**This is a fixed-text formatted version of a Jupyter notebook**\n",
    "\n",
    "- Try online [![Binder](https://static.mybinder.org/badge.svg)](https://mybinder.org/v2/gh/gammapy/gammapy-webpage/master?urlpath=lab/tree/analysis_2.ipynb)\n",
    "- You can contribute with your own notebooks in this\n",
    "[GitHub repository](https://github.com/gammapy/gammapy/tree/master/docs/tutorials).\n",
    "- **Source files:**\n",
    "[analysis_2.ipynb](../_static/notebooks/analysis_2.ipynb) |\n",
    "[analysis_2.py](../_static/notebooks/analysis_2.py)\n",
    "</div>\n"
   ]
  },
  {
   "cell_type": "markdown",
   "metadata": {},
   "source": [
    "# First analysis with gammapy library API\n",
    "\n",
    "## Prerequisites:\n",
    "\n",
    "- Understanding the gammapy data workflow, in particular what are DL3 events and intrument response functions (IRF).\n",
    "- Understanding of the data reduction and modeling fitting process as shown in the [first gammapy analysis with the high level interface tutorial](analysis_1.ipynb)\n",
    "\n",
    "## Context\n",
    "\n",
    "This notebook is an introduction to gammapy analysis this time using the lower level classes and functions\n",
    "the library.\n",
    "This allows to understand what happens during two main gammapy analysis steps, data reduction and modeling/fitting. \n",
    "\n",
    "**Objective: Create a 3D dataset of the Crab using the H.E.S.S. DL3 data release 1 and perform a simple model fitting of the Crab nebula using the lower level gammapy API.**\n",
    "\n",
    "## Proposed approach:\n",
    "\n",
    "Here, we have to interact with the data archive (with the `~gammapy.data.DataStore`) to retrieve a list of selected observations (`~gammapy.data.Observations`). Then, we define the geometry of the `~gammapy.datasets.MapDataset` object we want to produce and the maker object that reduce an observation\n",
    "to a dataset. \n",
    "\n",
    "We can then proceed with data reduction with a loop over all selected observations to produce datasets in the relevant geometry and stack them together (i.e. sum them all).\n",
    "\n",
    "In practice, we have to:\n",
    "- Create a `~gammapy.data.DataStore` poiting to the relevant data \n",
    "- Apply an observation selection to produce a list of observations, a `~gammapy.data.Observations` object.\n",
    "- Define a geometry of the Map we want to produce, with a sky projection and an energy range.\n",
    "    - Create a `~gammapy.maps.MapAxis` for the energy\n",
    "    - Create a `~gammapy.maps.WcsGeom` for the geometry\n",
    "- Create the necessary makers : \n",
    "    - the map dataset maker : `~gammapy.makers.MapDatasetMaker`\n",
    "    - the background normalization maker, here a `~gammapy.makers.FoVBackgroundMaker`\n",
    "    - and usually the safe range maker : `~gammapy.makers.SafeRangeMaker`\n",
    "- Perform the data reduction loop. And for every observation:\n",
    "    - Apply the makers sequentially to produce the current `~gammapy.datasets.MapDataset`\n",
    "    - Stack it on the target one.\n",
    "- Define the `~gammapy.modeling.models.SkyModel` to apply to the dataset.\n",
    "- Create a `~gammapy.modeling.Fit` object and run it to fit the model parameters\n",
    "- Apply a `~gammapy.estimators.FluxPointsEstimator` to compute flux points for the spectral part of the fit.\n",
    "\n",
    "## Setup\n",
    "First, we setup the analysis by performing required imports.\n"
   ]
  },
  {
   "cell_type": "code",
   "execution_count": 1,
   "metadata": {
    "execution": {
     "iopub.execute_input": "2020-10-27T14:19:09.254823Z",
     "iopub.status.busy": "2020-10-27T14:19:09.254268Z",
     "iopub.status.idle": "2020-10-27T14:19:09.541556Z",
     "shell.execute_reply": "2020-10-27T14:19:09.540064Z"
    }
   },
   "outputs": [],
   "source": [
    "%matplotlib inline\n",
    "import matplotlib.pyplot as plt"
   ]
  },
  {
   "cell_type": "code",
   "execution_count": 2,
   "metadata": {
    "execution": {
     "iopub.execute_input": "2020-10-27T14:19:09.547089Z",
     "iopub.status.busy": "2020-10-27T14:19:09.545545Z",
     "iopub.status.idle": "2020-10-27T14:19:09.946498Z",
     "shell.execute_reply": "2020-10-27T14:19:09.945897Z"
    }
   },
   "outputs": [],
   "source": [
    "from pathlib import Path\n",
    "from astropy import units as u\n",
    "from astropy.coordinates import SkyCoord\n",
    "from regions import CircleSkyRegion"
   ]
  },
  {
   "cell_type": "code",
   "execution_count": 3,
   "metadata": {
    "execution": {
     "iopub.execute_input": "2020-10-27T14:19:09.950992Z",
     "iopub.status.busy": "2020-10-27T14:19:09.950487Z",
     "iopub.status.idle": "2020-10-27T14:19:10.507382Z",
     "shell.execute_reply": "2020-10-27T14:19:10.506547Z"
    }
   },
   "outputs": [],
   "source": [
    "from gammapy.data import DataStore\n",
    "from gammapy.datasets import MapDataset\n",
    "from gammapy.maps import WcsGeom, MapAxis, Map\n",
    "from gammapy.makers import MapDatasetMaker, SafeMaskMaker, FoVBackgroundMaker\n",
    "from gammapy.modeling.models import (\n",
    "    SkyModel,\n",
    "    PowerLawSpectralModel,\n",
    "    PointSpatialModel,\n",
    ")\n",
    "from gammapy.modeling import Fit\n",
    "from gammapy.estimators import FluxPointsEstimator"
   ]
  },
  {
   "cell_type": "markdown",
   "metadata": {},
   "source": [
    "## Defining the datastore and selecting observations\n",
    "\n",
    "We first use the `~gammapy.data.DataStore` object to access the observations we want to analyse. Here the H.E.S.S. DL3 DR1. "
   ]
  },
  {
   "cell_type": "code",
   "execution_count": 4,
   "metadata": {
    "execution": {
     "iopub.execute_input": "2020-10-27T14:19:10.512903Z",
     "iopub.status.busy": "2020-10-27T14:19:10.511965Z",
     "iopub.status.idle": "2020-10-27T14:19:10.548610Z",
     "shell.execute_reply": "2020-10-27T14:19:10.547771Z"
    }
   },
   "outputs": [],
   "source": [
    "data_store = DataStore.from_dir(\"$GAMMAPY_DATA/hess-dl3-dr1\")"
   ]
  },
  {
   "cell_type": "markdown",
   "metadata": {},
   "source": [
    "We can now define an observation filter to select only the relevant observations. \n",
    "Here we use a cone search which we define with a python dict.\n",
    "\n",
    "We then filter the `ObservationTable` with `~gammapy.data.ObservationTable.select_observations()`."
   ]
  },
  {
   "cell_type": "code",
   "execution_count": 5,
   "metadata": {
    "execution": {
     "iopub.execute_input": "2020-10-27T14:19:10.558199Z",
     "iopub.status.busy": "2020-10-27T14:19:10.557064Z",
     "iopub.status.idle": "2020-10-27T14:19:10.558727Z",
     "shell.execute_reply": "2020-10-27T14:19:10.559213Z"
    }
   },
   "outputs": [],
   "source": [
    "selection = dict(\n",
    "    type=\"sky_circle\",\n",
    "    frame=\"icrs\",\n",
    "    lon=\"83.633 deg\",\n",
    "    lat=\"22.014 deg\",\n",
    "    radius=\"5 deg\",\n",
    ")\n",
    "selected_obs_table = data_store.obs_table.select_observations(selection)"
   ]
  },
  {
   "cell_type": "markdown",
   "metadata": {},
   "source": [
    "We can now retrieve the relevant observations by passing their `obs_id` to the`~gammapy.data.DataStore.get_observations()` method."
   ]
  },
  {
   "cell_type": "code",
   "execution_count": 6,
   "metadata": {
    "execution": {
     "iopub.execute_input": "2020-10-27T14:19:10.564330Z",
     "iopub.status.busy": "2020-10-27T14:19:10.563803Z",
     "iopub.status.idle": "2020-10-27T14:19:10.571246Z",
     "shell.execute_reply": "2020-10-27T14:19:10.571645Z"
    }
   },
   "outputs": [],
   "source": [
    "observations = data_store.get_observations(selected_obs_table[\"OBS_ID\"])"
   ]
  },
  {
   "cell_type": "markdown",
   "metadata": {},
   "source": [
    "## Preparing reduced datasets geometry\n",
    "\n",
    "Now we define a reference geometry for our analysis, We choose a WCS based geometry with a binsize of 0.02 deg and also define an energy axis: "
   ]
  },
  {
   "cell_type": "code",
   "execution_count": 7,
   "metadata": {
    "execution": {
     "iopub.execute_input": "2020-10-27T14:19:10.578755Z",
     "iopub.status.busy": "2020-10-27T14:19:10.577613Z",
     "iopub.status.idle": "2020-10-27T14:19:10.579273Z",
     "shell.execute_reply": "2020-10-27T14:19:10.579756Z"
    }
   },
   "outputs": [],
   "source": [
    "energy_axis = MapAxis.from_energy_bounds(1.0, 10.0, 4, unit=\"TeV\")\n",
    "\n",
    "geom = WcsGeom.create(\n",
    "    skydir=(83.633, 22.014),\n",
    "    binsz=0.02,\n",
    "    width=(2, 2),\n",
    "    frame=\"icrs\",\n",
    "    proj=\"CAR\",\n",
    "    axes=[energy_axis],\n",
    ")\n",
    "\n",
    "# Reduced IRFs are defined in true energy (i.e. not measured energy).\n",
    "energy_axis_true = MapAxis.from_energy_bounds(\n",
    "    0.5, 20, 10, unit=\"TeV\", name=\"energy_true\"\n",
    ")"
   ]
  },
  {
   "cell_type": "markdown",
   "metadata": {},
   "source": [
    "Now we can define the target dataset with this geometry."
   ]
  },
  {
   "cell_type": "code",
   "execution_count": 8,
   "metadata": {
    "execution": {
     "iopub.execute_input": "2020-10-27T14:19:10.585777Z",
     "iopub.status.busy": "2020-10-27T14:19:10.583456Z",
     "iopub.status.idle": "2020-10-27T14:19:10.595761Z",
     "shell.execute_reply": "2020-10-27T14:19:10.595211Z"
    }
   },
   "outputs": [],
   "source": [
    "stacked = MapDataset.create(\n",
    "    geom=geom, energy_axis_true=energy_axis_true, name=\"crab-stacked\"\n",
    ")"
   ]
  },
  {
   "cell_type": "markdown",
   "metadata": {},
   "source": [
    "## Data reduction\n",
    "\n",
    "### Create the maker classes to be used\n",
    "\n",
    "The `~gammapy.datasets.MapDatasetMaker` object is initialized as well as the `~gammapy.makers.SafeMaskMaker` that carries here a maximum offset selection."
   ]
  },
  {
   "cell_type": "code",
   "execution_count": 9,
   "metadata": {
    "execution": {
     "iopub.execute_input": "2020-10-27T14:19:10.600485Z",
     "iopub.status.busy": "2020-10-27T14:19:10.599246Z",
     "iopub.status.idle": "2020-10-27T14:19:10.601026Z",
     "shell.execute_reply": "2020-10-27T14:19:10.601519Z"
    }
   },
   "outputs": [],
   "source": [
    "offset_max = 2.5 * u.deg\n",
    "maker = MapDatasetMaker()\n",
    "maker_safe_mask = SafeMaskMaker(methods=[\"offset-max\"], offset_max=offset_max)"
   ]
  },
  {
   "cell_type": "code",
   "execution_count": 10,
   "metadata": {
    "execution": {
     "iopub.execute_input": "2020-10-27T14:19:10.606289Z",
     "iopub.status.busy": "2020-10-27T14:19:10.605773Z",
     "iopub.status.idle": "2020-10-27T14:19:10.622679Z",
     "shell.execute_reply": "2020-10-27T14:19:10.622234Z"
    }
   },
   "outputs": [],
   "source": [
    "circle = CircleSkyRegion(\n",
    "    center=SkyCoord(\"83.63 deg\", \"22.14 deg\"), radius=0.2 * u.deg\n",
    ")\n",
    "data = geom.region_mask(regions=[circle], inside=False)\n",
    "exclusion_mask = Map.from_geom(geom=geom, data=data)\n",
    "maker_fov = FoVBackgroundMaker(method=\"fit\", exclusion_mask=exclusion_mask)"
   ]
  },
  {
   "cell_type": "markdown",
   "metadata": {},
   "source": [
    "### Perform the data reduction loop"
   ]
  },
  {
   "cell_type": "code",
   "execution_count": 11,
   "metadata": {
    "execution": {
     "iopub.execute_input": "2020-10-27T14:19:10.632749Z",
     "iopub.status.busy": "2020-10-27T14:19:10.629709Z",
     "iopub.status.idle": "2020-10-27T14:19:13.461939Z",
     "shell.execute_reply": "2020-10-27T14:19:13.462647Z"
    }
   },
   "outputs": [
    {
     "name": "stdout",
     "output_type": "stream",
     "text": [
      "Background norm obs 23523: 0.99\n",
      "Background norm obs 23526: 1.08\n",
      "Background norm obs 23559: 0.99\n",
      "Background norm obs 23592: 1.10\n",
      "CPU times: user 2.74 s, sys: 99.3 ms, total: 2.83 s\n",
      "Wall time: 2.83 s\n"
     ]
    }
   ],
   "source": [
    "%%time\n",
    "\n",
    "for obs in observations:\n",
    "    # First a cutout of the target map is produced\n",
    "    cutout = stacked.cutout(\n",
    "        obs.pointing_radec, width=2 * offset_max, name=f\"obs-{obs.obs_id}\"\n",
    "    )\n",
    "    # A MapDataset is filled in this cutout geometry\n",
    "    dataset = maker.run(cutout, obs)\n",
    "    # The data quality cut is applied\n",
    "    dataset = maker_safe_mask.run(dataset, obs)\n",
    "    # fit background model\n",
    "    dataset = maker_fov.run(dataset)\n",
    "    print(\n",
    "        f\"Background norm obs {obs.obs_id}: {dataset.background_model.spectral_model.norm.value:.2f}\"\n",
    "    )\n",
    "    # The resulting dataset cutout is stacked onto the final one\n",
    "    stacked.stack(dataset)"
   ]
  },
  {
   "cell_type": "code",
   "execution_count": 12,
   "metadata": {
    "execution": {
     "iopub.execute_input": "2020-10-27T14:19:13.466724Z",
     "iopub.status.busy": "2020-10-27T14:19:13.465678Z",
     "iopub.status.idle": "2020-10-27T14:19:13.475105Z",
     "shell.execute_reply": "2020-10-27T14:19:13.474569Z"
    }
   },
   "outputs": [
    {
     "name": "stdout",
     "output_type": "stream",
     "text": [
      "MapDataset\n",
      "----------\n",
      "\n",
      "  Name                            : crab-stacked \n",
      "\n",
      "  Total counts                    : 2479 \n",
      "  Total predicted counts          : 2112.97\n",
      "  Total background counts         : 2112.97\n",
      "\n",
      "  Exposure min                    : 3.75e+08 m2 s\n",
      "  Exposure max                    : 3.48e+09 m2 s\n",
      "\n",
      "  Number of total bins            : 40000 \n",
      "  Number of fit bins              : 40000 \n",
      "\n",
      "  Fit statistic type              : cash\n",
      "  Fit statistic value (-2 log(L)) : 17778.06\n",
      "\n",
      "  Number of models                : 1 \n",
      "  Number of parameters            : 3\n",
      "  Number of free parameters       : 1\n",
      "\n",
      "  Component 0: BackgroundModel\n",
      "  \n",
      "    Name                      : crab-stacked-bkg\n",
      "    Datasets names            : ['crab-stacked']\n",
      "    Parameters:\n",
      "      norm                    :   1.000              \n",
      "      tilt         (frozen)   :   0.000              \n",
      "      reference    (frozen)   :   1.000  TeV         \n",
      "  \n",
      "  \n"
     ]
    }
   ],
   "source": [
    "print(stacked)"
   ]
  },
  {
   "cell_type": "markdown",
   "metadata": {},
   "source": [
    "### Inspect the reduced dataset"
   ]
  },
  {
   "cell_type": "code",
   "execution_count": 13,
   "metadata": {
    "execution": {
     "iopub.execute_input": "2020-10-27T14:19:13.479893Z",
     "iopub.status.busy": "2020-10-27T14:19:13.479400Z",
     "iopub.status.idle": "2020-10-27T14:19:13.973031Z",
     "shell.execute_reply": "2020-10-27T14:19:13.972444Z"
    }
   },
   "outputs": [
    {
     "data": {
      "text/plain": [
       "(<Figure size 432x288 with 2 Axes>,\n",
       " <WCSAxesSubplot:xlabel='Right Ascension', ylabel='Declination'>,\n",
       " <matplotlib.colorbar.Colorbar at 0x7fc343880470>)"
      ]
     },
     "execution_count": 1,
     "metadata": {},
     "output_type": "execute_result"
    },
    {
     "data": {
      "image/png": "[encoded data removed]",
      "text/plain": [
       "<Figure size 432x288 with 2 Axes>"
      ]
     },
     "metadata": {
      "needs_background": "light"
     },
     "output_type": "display_data"
    }
   ],
   "source": [
    "stacked.counts.sum_over_axes().smooth(0.05 * u.deg).plot(\n",
    "    stretch=\"sqrt\", add_cbar=True\n",
    ")"
   ]
  },
  {
   "cell_type": "markdown",
   "metadata": {},
   "source": [
    "## Save dataset to disk\n",
    "\n",
    "It is common to run the preparation step independent of the likelihood fit, because often the preparation of maps, PSF and energy dispersion is slow if you have a lot of data. We first create a folder:"
   ]
  },
  {
   "cell_type": "code",
   "execution_count": 14,
   "metadata": {
    "execution": {
     "iopub.execute_input": "2020-10-27T14:19:13.976745Z",
     "iopub.status.busy": "2020-10-27T14:19:13.976245Z",
     "iopub.status.idle": "2020-10-27T14:19:13.979447Z",
     "shell.execute_reply": "2020-10-27T14:19:13.979013Z"
    }
   },
   "outputs": [],
   "source": [
    "path = Path(\"analysis_2\")\n",
    "path.mkdir(exist_ok=True)"
   ]
  },
  {
   "cell_type": "markdown",
   "metadata": {},
   "source": [
    "And then write the maps and IRFs to disk by calling the dedicated `~gammapy.datasets.MapDataset.write()` method:"
   ]
  },
  {
   "cell_type": "code",
   "execution_count": 15,
   "metadata": {
    "execution": {
     "iopub.execute_input": "2020-10-27T14:19:14.074262Z",
     "iopub.status.busy": "2020-10-27T14:19:14.038762Z",
     "iopub.status.idle": "2020-10-27T14:19:14.240446Z",
     "shell.execute_reply": "2020-10-27T14:19:14.239408Z"
    }
   },
   "outputs": [],
   "source": [
    "filename = path / \"crab-stacked-dataset.fits.gz\"\n",
    "stacked.write(filename, overwrite=True)"
   ]
  },
  {
   "cell_type": "markdown",
   "metadata": {},
   "source": [
    "## Define the model\n",
    "We first define the model, a `SkyModel`, as the combination of a point source `SpatialModel` with a powerlaw `SpectralModel`:"
   ]
  },
  {
   "cell_type": "code",
   "execution_count": 16,
   "metadata": {
    "execution": {
     "iopub.execute_input": "2020-10-27T14:19:14.266493Z",
     "iopub.status.busy": "2020-10-27T14:19:14.254807Z",
     "iopub.status.idle": "2020-10-27T14:19:14.269334Z",
     "shell.execute_reply": "2020-10-27T14:19:14.268894Z"
    }
   },
   "outputs": [],
   "source": [
    "target_position = SkyCoord(ra=83.63308, dec=22.01450, unit=\"deg\")\n",
    "spatial_model = PointSpatialModel(\n",
    "    lon_0=target_position.ra, lat_0=target_position.dec, frame=\"icrs\"\n",
    ")\n",
    "\n",
    "spectral_model = PowerLawSpectralModel(\n",
    "    index=2.702,\n",
    "    amplitude=4.712e-11 * u.Unit(\"1 / (cm2 s TeV)\"),\n",
    "    reference=1 * u.TeV,\n",
    ")\n",
    "\n",
    "sky_model = SkyModel(\n",
    "    spatial_model=spatial_model, spectral_model=spectral_model, name=\"crab\"\n",
    ")"
   ]
  },
  {
   "cell_type": "markdown",
   "metadata": {},
   "source": [
    "Now we assign this model to our reduced dataset:"
   ]
  },
  {
   "cell_type": "code",
   "execution_count": 17,
   "metadata": {
    "execution": {
     "iopub.execute_input": "2020-10-27T14:19:14.272810Z",
     "iopub.status.busy": "2020-10-27T14:19:14.272306Z",
     "iopub.status.idle": "2020-10-27T14:19:14.275504Z",
     "shell.execute_reply": "2020-10-27T14:19:14.274984Z"
    }
   },
   "outputs": [],
   "source": [
    "stacked.models.append(sky_model)"
   ]
  },
  {
   "cell_type": "markdown",
   "metadata": {},
   "source": [
    "## Fit the model\n",
    "\n",
    "The `~gammapy.modeling.Fit` class is orchestrating the fit, connecting the `stats` method of the dataset to the minimizer. By default, it uses `iminuit`.\n",
    "\n",
    "Its contructor takes a list of dataset as argument."
   ]
  },
  {
   "cell_type": "code",
   "execution_count": 18,
   "metadata": {
    "execution": {
     "iopub.execute_input": "2020-10-27T14:19:14.285061Z",
     "iopub.status.busy": "2020-10-27T14:19:14.280866Z",
     "iopub.status.idle": "2020-10-27T14:19:17.173571Z",
     "shell.execute_reply": "2020-10-27T14:19:17.174304Z"
    }
   },
   "outputs": [
    {
     "name": "stdout",
     "output_type": "stream",
     "text": [
      "┌──────────────────────────────────┬──────────────────────────────────────┐\n",
      "│ FCN = 1.624e+04                  │       Ncalls = 143 (143 total)       │\n",
      "│ EDM = 8.58e-07 (Goal: 0.0002)    │               up = 1.0               │\n",
      "├───────────────┬──────────────────┼──────────────────────────────────────┤\n",
      "│ Valid Minimum │ Valid Parameters │        No Parameters at limit        │\n",
      "├───────────────┴──────────────────┼──────────────────────────────────────┤\n",
      "│ Below EDM threshold (goal x 10)  │           Below call limit           │\n",
      "├───────────────┬──────────────────┼───────────┬─────────────┬────────────┤\n",
      "│   Hesse ok    │  Has Covariance  │ Accurate  │  Pos. def.  │ Not forced │\n",
      "└───────────────┴──────────────────┴───────────┴─────────────┴────────────┘\n",
      "CPU times: user 2.64 s, sys: 240 ms, total: 2.88 s\n",
      "Wall time: 2.89 s\n"
     ]
    }
   ],
   "source": [
    "%%time\n",
    "fit = Fit([stacked])\n",
    "result = fit.run(optimize_opts={\"print_level\": 1})"
   ]
  },
  {
   "cell_type": "markdown",
   "metadata": {},
   "source": [
    "The `FitResult` contains information on the fitted parameters."
   ]
  },
  {
   "cell_type": "code",
   "execution_count": 19,
   "metadata": {
    "execution": {
     "iopub.execute_input": "2020-10-27T14:19:17.181376Z",
     "iopub.status.busy": "2020-10-27T14:19:17.180880Z",
     "iopub.status.idle": "2020-10-27T14:19:17.185917Z",
     "shell.execute_reply": "2020-10-27T14:19:17.185487Z"
    }
   },
   "outputs": [
    {
     "data": {
      "text/html": [
       "<i>Table length=8</i>\n",
       "<table id=\"table140476686540872\" class=\"table-striped table-bordered table-condensed\">\n",
       "<thead><tr><th>name</th><th>value</th><th>unit</th><th>min</th><th>max</th><th>frozen</th><th>error</th></tr></thead>\n",
       "<thead><tr><th>str9</th><th>float64</th><th>str14</th><th>float64</th><th>float64</th><th>bool</th><th>float64</th></tr></thead>\n",
       "<tr><td>norm</td><td>9.3512e-01</td><td></td><td>nan</td><td>nan</td><td>False</td><td>2.192e-02</td></tr>\n",
       "<tr><td>tilt</td><td>0.0000e+00</td><td></td><td>nan</td><td>nan</td><td>True</td><td>0.000e+00</td></tr>\n",
       "<tr><td>reference</td><td>1.0000e+00</td><td>TeV</td><td>nan</td><td>nan</td><td>True</td><td>0.000e+00</td></tr>\n",
       "<tr><td>index</td><td>2.6004e+00</td><td></td><td>nan</td><td>nan</td><td>False</td><td>1.004e-01</td></tr>\n",
       "<tr><td>amplitude</td><td>4.5865e-11</td><td>cm-2 s-1 TeV-1</td><td>nan</td><td>nan</td><td>False</td><td>3.702e-12</td></tr>\n",
       "<tr><td>reference</td><td>1.0000e+00</td><td>TeV</td><td>nan</td><td>nan</td><td>True</td><td>0.000e+00</td></tr>\n",
       "<tr><td>lon_0</td><td>8.3619e+01</td><td>deg</td><td>nan</td><td>nan</td><td>False</td><td>3.118e-03</td></tr>\n",
       "<tr><td>lat_0</td><td>2.2024e+01</td><td>deg</td><td>-9.000e+01</td><td>9.000e+01</td><td>False</td><td>2.961e-03</td></tr>\n",
       "</table>"
      ],
      "text/plain": [
       "<Table length=8>\n",
       "   name     value         unit         min        max    frozen   error  \n",
       "   str9    float64       str14       float64    float64   bool   float64 \n",
       "--------- ---------- -------------- ---------- --------- ------ ---------\n",
       "     norm 9.3512e-01                       nan       nan  False 2.192e-02\n",
       "     tilt 0.0000e+00                       nan       nan   True 0.000e+00\n",
       "reference 1.0000e+00            TeV        nan       nan   True 0.000e+00\n",
       "    index 2.6004e+00                       nan       nan  False 1.004e-01\n",
       "amplitude 4.5865e-11 cm-2 s-1 TeV-1        nan       nan  False 3.702e-12\n",
       "reference 1.0000e+00            TeV        nan       nan   True 0.000e+00\n",
       "    lon_0 8.3619e+01            deg        nan       nan  False 3.118e-03\n",
       "    lat_0 2.2024e+01            deg -9.000e+01 9.000e+01  False 2.961e-03"
      ]
     },
     "execution_count": 1,
     "metadata": {},
     "output_type": "execute_result"
    }
   ],
   "source": [
    "result.parameters.to_table()"
   ]
  },
  {
   "cell_type": "markdown",
   "metadata": {},
   "source": [
    "### Inspecting residuals\n",
    "\n",
    "For any fit it is usefull to inspect the residual images. We have a few option on the dataset object to handle this. First we can use `.plot_residuals()` to plot a residual image, summed over all energies: "
   ]
  },
  {
   "cell_type": "code",
   "execution_count": 20,
   "metadata": {
    "execution": {
     "iopub.execute_input": "2020-10-27T14:19:17.192084Z",
     "iopub.status.busy": "2020-10-27T14:19:17.189253Z",
     "iopub.status.idle": "2020-10-27T14:19:17.450381Z",
     "shell.execute_reply": "2020-10-27T14:19:17.450882Z"
    }
   },
   "outputs": [
    {
     "name": "stderr",
     "output_type": "stream",
     "text": [
      "/usr/share/miniconda/envs/gammapy-dev/lib/python3.7/site-packages/astropy/visualization/wcsaxes/core.py:211: MatplotlibDeprecationWarning: Passing parameters norm and vmin/vmax simultaneously is deprecated since 3.3 and will become an error two minor releases later. Please pass vmin/vmax directly to the norm when creating it.\n",
      "  return super().imshow(X, *args, origin=origin, **kwargs)\n"
     ]
    },
    {
     "data": {
      "text/plain": [
       "(<WCSAxesSubplot:xlabel='Right Ascension', ylabel='Declination'>, None)"
      ]
     },
     "execution_count": 1,
     "metadata": {},
     "output_type": "execute_result"
    },
    {
     "data": {
      "image/png": "[encoded data removed]",
      "text/plain": [
       "<Figure size 864x288 with 2 Axes>"
      ]
     },
     "metadata": {
      "needs_background": "light"
     },
     "output_type": "display_data"
    }
   ],
   "source": [
    "stacked.plot_residuals(method=\"diff/sqrt(model)\", vmin=-0.5, vmax=0.5)"
   ]
  },
  {
   "cell_type": "markdown",
   "metadata": {},
   "source": [
    "In addition we can aslo specify a region in the map to show the spectral residuals:"
   ]
  },
  {
   "cell_type": "code",
   "execution_count": 21,
   "metadata": {
    "execution": {
     "iopub.execute_input": "2020-10-27T14:19:17.453304Z",
     "iopub.status.busy": "2020-10-27T14:19:17.452820Z",
     "iopub.status.idle": "2020-10-27T14:19:17.456408Z",
     "shell.execute_reply": "2020-10-27T14:19:17.456919Z"
    }
   },
   "outputs": [],
   "source": [
    "region = CircleSkyRegion(\n",
    "    center=SkyCoord(\"83.63 deg\", \"22.14 deg\"), radius=0.5 * u.deg\n",
    ")"
   ]
  },
  {
   "cell_type": "code",
   "execution_count": 22,
   "metadata": {
    "execution": {
     "iopub.execute_input": "2020-10-27T14:19:17.459050Z",
     "iopub.status.busy": "2020-10-27T14:19:17.458572Z",
     "iopub.status.idle": "2020-10-27T14:19:18.008200Z",
     "shell.execute_reply": "2020-10-27T14:19:18.007608Z"
    }
   },
   "outputs": [
    {
     "name": "stderr",
     "output_type": "stream",
     "text": [
      "/usr/share/miniconda/envs/gammapy-dev/lib/python3.7/site-packages/astropy/visualization/wcsaxes/core.py:211: MatplotlibDeprecationWarning: Passing parameters norm and vmin/vmax simultaneously is deprecated since 3.3 and will become an error two minor releases later. Please pass vmin/vmax directly to the norm when creating it.\n",
      "  return super().imshow(X, *args, origin=origin, **kwargs)\n"
     ]
    },
    {
     "data": {
      "text/plain": [
       "(<WCSAxesSubplot:xlabel='Right Ascension', ylabel='Declination'>,\n",
       " <AxesSubplot:xlabel='Energy [TeV]', ylabel='Residuals ((data - model) / sqrt(model))'>)"
      ]
     },
     "execution_count": 1,
     "metadata": {},
     "output_type": "execute_result"
    },
    {
     "data": {
      "image/png": "[encoded data removed]",
      "text/plain": [
       "<Figure size 864x288 with 3 Axes>"
      ]
     },
     "metadata": {
      "needs_background": "light"
     },
     "output_type": "display_data"
    }
   ],
   "source": [
    "stacked.plot_residuals(\n",
    "    region=region, method=\"diff/sqrt(model)\", vmin=-0.5, vmax=0.5\n",
    ")"
   ]
  },
  {
   "cell_type": "markdown",
   "metadata": {},
   "source": [
    "We can also directly access the `.residuals()` to get a map, that we can plot interactively:"
   ]
  },
  {
   "cell_type": "code",
   "execution_count": 23,
   "metadata": {
    "execution": {
     "iopub.execute_input": "2020-10-27T14:19:18.016038Z",
     "iopub.status.busy": "2020-10-27T14:19:18.014901Z",
     "iopub.status.idle": "2020-10-27T14:19:18.350368Z",
     "shell.execute_reply": "2020-10-27T14:19:18.350951Z"
    }
   },
   "outputs": [
    {
     "data": {
      "application/vnd.jupyter.widget-view+json": {
       "model_id": "aee69bfa21d74bb38aae1053d40affe1",
       "version_major": 2,
       "version_minor": 0
      },
      "text/plain": [
       "interactive(children=(SelectionSlider(continuous_update=False, description='Select energy:', layout=Layout(wid…"
      ]
     },
     "metadata": {},
     "output_type": "display_data"
    }
   ],
   "source": [
    "residuals = stacked.residuals(method=\"diff\")\n",
    "residuals.smooth(\"0.08 deg\").plot_interactive(\n",
    "    cmap=\"coolwarm\", vmin=-0.1, vmax=0.1, stretch=\"linear\", add_cbar=True\n",
    ")"
   ]
  },
  {
   "cell_type": "markdown",
   "metadata": {},
   "source": [
    "## Plot the fitted spectrum"
   ]
  },
  {
   "cell_type": "markdown",
   "metadata": {},
   "source": [
    "### Making a butterfly plot \n",
    "\n",
    "The `SpectralModel` component can be used to produce a, so-called, butterfly plot showing the enveloppe of the model taking into account parameter uncertainties:"
   ]
  },
  {
   "cell_type": "code",
   "execution_count": 24,
   "metadata": {
    "execution": {
     "iopub.execute_input": "2020-10-27T14:19:18.355546Z",
     "iopub.status.busy": "2020-10-27T14:19:18.355057Z",
     "iopub.status.idle": "2020-10-27T14:19:18.357459Z",
     "shell.execute_reply": "2020-10-27T14:19:18.357952Z"
    }
   },
   "outputs": [],
   "source": [
    "spec = sky_model.spectral_model"
   ]
  },
  {
   "cell_type": "markdown",
   "metadata": {},
   "source": [
    "Now we can actually do the plot using the `plot_error` method:"
   ]
  },
  {
   "cell_type": "code",
   "execution_count": 25,
   "metadata": {
    "execution": {
     "iopub.execute_input": "2020-10-27T14:19:18.360165Z",
     "iopub.status.busy": "2020-10-27T14:19:18.359653Z",
     "iopub.status.idle": "2020-10-27T14:19:18.865782Z",
     "shell.execute_reply": "2020-10-27T14:19:18.865072Z"
    }
   },
   "outputs": [
    {
     "name": "stderr",
     "output_type": "stream",
     "text": [
      "/home/runner/work/gammapy-docs/gammapy-docs/gammapy/gammapy/modeling/models/spectral.py:411: MatplotlibDeprecationWarning: The 'nonposx' parameter of __init__() has been renamed 'nonpositive' since Matplotlib 3.3; support for the old name will be dropped two minor releases later.\n",
      "  ax.set_xscale(\"log\", nonposx=\"clip\")\n",
      "/home/runner/work/gammapy-docs/gammapy-docs/gammapy/gammapy/modeling/models/spectral.py:412: MatplotlibDeprecationWarning: The 'nonposy' parameter of __init__() has been renamed 'nonpositive' since Matplotlib 3.3; support for the old name will be dropped two minor releases later.\n",
      "  ax.set_yscale(\"log\", nonposy=\"clip\")\n"
     ]
    },
    {
     "data": {
      "image/png": "[encoded data removed]",
      "text/plain": [
       "<Figure size 432x288 with 1 Axes>"
      ]
     },
     "metadata": {
      "needs_background": "light"
     },
     "output_type": "display_data"
    }
   ],
   "source": [
    "energy_range = [1, 10] * u.TeV\n",
    "spec.plot(energy_range=energy_range, energy_power=2)\n",
    "ax = spec.plot_error(energy_range=energy_range, energy_power=2)"
   ]
  },
  {
   "cell_type": "markdown",
   "metadata": {},
   "source": [
    "### Computing flux points\n",
    "\n",
    "We can now compute some flux points using the `~gammapy.estimators.FluxPointsEstimator`. \n",
    "\n",
    "Besides the list of datasets to use, we must provide it the energy intervals on which to compute flux points as well as the model component name. "
   ]
  },
  {
   "cell_type": "code",
   "execution_count": 26,
   "metadata": {
    "execution": {
     "iopub.execute_input": "2020-10-27T14:19:18.869983Z",
     "iopub.status.busy": "2020-10-27T14:19:18.869485Z",
     "iopub.status.idle": "2020-10-27T14:19:18.872430Z",
     "shell.execute_reply": "2020-10-27T14:19:18.872836Z"
    }
   },
   "outputs": [],
   "source": [
    "e_edges = [1, 2, 4, 10] * u.TeV\n",
    "fpe = FluxPointsEstimator(e_edges=e_edges, source=\"crab\")"
   ]
  },
  {
   "cell_type": "code",
   "execution_count": 27,
   "metadata": {
    "execution": {
     "iopub.execute_input": "2020-10-27T14:19:18.877374Z",
     "iopub.status.busy": "2020-10-27T14:19:18.876884Z",
     "iopub.status.idle": "2020-10-27T14:19:20.704256Z",
     "shell.execute_reply": "2020-10-27T14:19:20.703684Z"
    }
   },
   "outputs": [
    {
     "name": "stdout",
     "output_type": "stream",
     "text": [
      "CPU times: user 1.77 s, sys: 60.1 ms, total: 1.83 s\n",
      "Wall time: 1.82 s\n"
     ]
    },
    {
     "name": "stderr",
     "output_type": "stream",
     "text": [
      "/usr/share/miniconda/envs/gammapy-dev/lib/python3.7/site-packages/astropy/units/quantity.py:377: VisibleDeprecationWarning: Creating an ndarray from ragged nested sequences (which is a list-or-tuple of lists-or-tuples-or ndarrays with different lengths or shapes) is deprecated. If you meant to do this, you must specify 'dtype=object' when creating the ndarray\n",
      "  subok=False, ndmin=ndmin)\n"
     ]
    }
   ],
   "source": [
    "%%time\n",
    "flux_points = fpe.run(datasets=[stacked])"
   ]
  },
  {
   "cell_type": "code",
   "execution_count": 28,
   "metadata": {
    "execution": {
     "iopub.execute_input": "2020-10-27T14:19:20.724572Z",
     "iopub.status.busy": "2020-10-27T14:19:20.707969Z",
     "iopub.status.idle": "2020-10-27T14:19:21.141754Z",
     "shell.execute_reply": "2020-10-27T14:19:21.141186Z"
    }
   },
   "outputs": [
    {
     "name": "stderr",
     "output_type": "stream",
     "text": [
      "/home/runner/work/gammapy-docs/gammapy-docs/gammapy/gammapy/modeling/models/spectral.py:411: MatplotlibDeprecationWarning: The 'nonposx' parameter of __init__() has been renamed 'nonpositive' since Matplotlib 3.3; support for the old name will be dropped two minor releases later.\n",
      "  ax.set_xscale(\"log\", nonposx=\"clip\")\n",
      "/home/runner/work/gammapy-docs/gammapy-docs/gammapy/gammapy/modeling/models/spectral.py:412: MatplotlibDeprecationWarning: The 'nonposy' parameter of __init__() has been renamed 'nonpositive' since Matplotlib 3.3; support for the old name will be dropped two minor releases later.\n",
      "  ax.set_yscale(\"log\", nonposy=\"clip\")\n",
      "/home/runner/work/gammapy-docs/gammapy-docs/gammapy/gammapy/estimators/flux_point.py:668: MatplotlibDeprecationWarning: The 'nonposx' parameter of __init__() has been renamed 'nonpositive' since Matplotlib 3.3; support for the old name will be dropped two minor releases later.\n",
      "  ax.set_xscale(\"log\", nonposx=\"clip\")\n",
      "/home/runner/work/gammapy-docs/gammapy-docs/gammapy/gammapy/estimators/flux_point.py:669: MatplotlibDeprecationWarning: The 'nonposy' parameter of __init__() has been renamed 'nonpositive' since Matplotlib 3.3; support for the old name will be dropped two minor releases later.\n",
      "  ax.set_yscale(\"log\", nonposy=\"clip\")\n"
     ]
    },
    {
     "data": {
      "text/plain": [
       "<AxesSubplot:xlabel='Energy (TeV)', ylabel='dnde (TeV / (cm2 s))'>"
      ]
     },
     "execution_count": 1,
     "metadata": {},
     "output_type": "execute_result"
    },
    {
     "data": {
      "image/png": "[encoded data removed]",
      "text/plain": [
       "<Figure size 432x288 with 1 Axes>"
      ]
     },
     "metadata": {
      "needs_background": "light"
     },
     "output_type": "display_data"
    }
   ],
   "source": [
    "ax = spec.plot_error(energy_range=energy_range, energy_power=2)\n",
    "flux_points.plot(ax=ax, energy_power=2)"
   ]
  },
  {
   "cell_type": "code",
   "execution_count": null,
   "metadata": {},
   "outputs": [],
   "source": []
  }
 ],
 "metadata": {
  "kernelspec": {
   "display_name": "Python 3",
   "language": "python",
   "name": "python3"
  },
  "language_info": {
   "codemirror_mode": {
    "name": "ipython",
    "version": 3
   },
   "file_extension": ".py",
   "mimetype": "text/x-python",
   "name": "python",
   "nbconvert_exporter": "python",
   "pygments_lexer": "ipython3",
   "version": "3.7.0"
  },
  "latex_envs": {
   "LaTeX_envs_menu_present": true,
   "autoclose": false,
   "autocomplete": true,
   "bibliofile": "biblio.bib",
   "cite_by": "apalike",
   "current_citInitial": 1,
   "eqLabelWithNumbers": true,
   "eqNumInitial": 1,
   "hotkeys": {
    "equation": "Ctrl-E",
    "itemize": "Ctrl-I"
   },
   "labels_anchors": false,
   "latex_user_defs": false,
   "report_style_numbering": false,
   "user_envs_cfg": false
  },
  "nbsphinx": {
   "orphan": true
  },
  "widgets": {
   "application/vnd.jupyter.widget-state+json": {
    "state": {
     "293d8b66be154e41a74b38413cf68897": {
      "model_module": "@jupyter-widgets/base",
      "model_module_version": "1.2.0",
      "model_name": "LayoutModel",
      "state": {
       "_model_module": "@jupyter-widgets/base",
       "_model_module_version": "1.2.0",
       "_model_name": "LayoutModel",
       "_view_count": null,
       "_view_module": "@jupyter-widgets/base",
       "_view_module_version": "1.2.0",
       "_view_name": "LayoutView",
       "align_content": null,
       "align_items": null,
       "align_self": null,
       "border": null,
       "bottom": null,
       "display": null,
       "flex": null,
       "flex_flow": null,
       "grid_area": null,
       "grid_auto_columns": null,
       "grid_auto_flow": null,
       "grid_auto_rows": null,
       "grid_column": null,
       "grid_gap": null,
       "grid_row": null,
       "grid_template_areas": null,
       "grid_template_columns": null,
       "grid_template_rows": null,
       "height": null,
       "justify_content": null,
       "justify_items": null,
       "left": null,
       "margin": null,
       "max_height": null,
       "max_width": null,
       "min_height": null,
       "min_width": null,
       "object_fit": null,
       "object_position": null,
       "order": null,
       "overflow": null,
       "overflow_x": null,
       "overflow_y": null,
       "padding": null,
       "right": null,
       "top": null,
       "visibility": null,
       "width": "50%"
      }
     },
     "2d21fcd48a8047faac8fbe4951cfe049": {
      "model_module": "@jupyter-widgets/controls",
      "model_module_version": "1.5.0",
      "model_name": "RadioButtonsModel",
      "state": {
       "_dom_classes": [],
       "_model_module": "@jupyter-widgets/controls",
       "_model_module_version": "1.5.0",
       "_model_name": "RadioButtonsModel",
       "_options_labels": [
        "linear",
        "sqrt",
        "log"
       ],
       "_view_count": null,
       "_view_module": "@jupyter-widgets/controls",
       "_view_module_version": "1.5.0",
       "_view_name": "RadioButtonsView",
       "description": "Select stretch:",
       "description_tooltip": null,
       "disabled": false,
       "index": 0,
       "layout": "IPY_MODEL_b0037cae766045838ddec3a3343ba3c5",
       "style": "IPY_MODEL_36a2491f61e54f47ba4bed0d0a7d5bd3"
      }
     },
     "36a2491f61e54f47ba4bed0d0a7d5bd3": {
      "model_module": "@jupyter-widgets/controls",
      "model_module_version": "1.5.0",
      "model_name": "DescriptionStyleModel",
      "state": {
       "_model_module": "@jupyter-widgets/controls",
       "_model_module_version": "1.5.0",
       "_model_name": "DescriptionStyleModel",
       "_view_count": null,
       "_view_module": "@jupyter-widgets/base",
       "_view_module_version": "1.2.0",
       "_view_name": "StyleView",
       "description_width": "initial"
      }
     },
     "3783e15c7b6146f396860dc88e306590": {
      "model_module": "@jupyter-widgets/controls",
      "model_module_version": "1.5.0",
      "model_name": "SelectionSliderModel",
      "state": {
       "_dom_classes": [],
       "_model_module": "@jupyter-widgets/controls",
       "_model_module_version": "1.5.0",
       "_model_name": "SelectionSliderModel",
       "_options_labels": [
        "1.00e+00 TeV - 1.78e+00 TeV TeV",
        "1.78e+00 TeV - 3.16e+00 TeV TeV",
        "3.16e+00 TeV - 5.62e+00 TeV TeV",
        "5.62e+00 TeV - 1.00e+01 TeV TeV"
       ],
       "_view_count": null,
       "_view_module": "@jupyter-widgets/controls",
       "_view_module_version": "1.5.0",
       "_view_name": "SelectionSliderView",
       "continuous_update": false,
       "description": "Select energy:",
       "description_tooltip": null,
       "disabled": false,
       "index": 0,
       "layout": "IPY_MODEL_293d8b66be154e41a74b38413cf68897",
       "orientation": "horizontal",
       "readout": true,
       "style": "IPY_MODEL_b6eaf8d170674bd1b074b859f9a15b66"
      }
     },
     "69a59ead222a46d1bed7b7fbab37f324": {
      "model_module": "@jupyter-widgets/base",
      "model_module_version": "1.2.0",
      "model_name": "LayoutModel",
      "state": {
       "_model_module": "@jupyter-widgets/base",
       "_model_module_version": "1.2.0",
       "_model_name": "LayoutModel",
       "_view_count": null,
       "_view_module": "@jupyter-widgets/base",
       "_view_module_version": "1.2.0",
       "_view_name": "LayoutView",
       "align_content": null,
       "align_items": null,
       "align_self": null,
       "border": null,
       "bottom": null,
       "display": null,
       "flex": null,
       "flex_flow": null,
       "grid_area": null,
       "grid_auto_columns": null,
       "grid_auto_flow": null,
       "grid_auto_rows": null,
       "grid_column": null,
       "grid_gap": null,
       "grid_row": null,
       "grid_template_areas": null,
       "grid_template_columns": null,
       "grid_template_rows": null,
       "height": null,
       "justify_content": null,
       "justify_items": null,
       "left": null,
       "margin": null,
       "max_height": null,
       "max_width": null,
       "min_height": null,
       "min_width": null,
       "object_fit": null,
       "object_position": null,
       "order": null,
       "overflow": null,
       "overflow_x": null,
       "overflow_y": null,
       "padding": null,
       "right": null,
       "top": null,
       "visibility": null,
       "width": null
      }
     },
     "77abc56ee9c1426d9e15765a5d233d4c": {
      "model_module": "@jupyter-widgets/output",
      "model_module_version": "1.0.0",
      "model_name": "OutputModel",
      "state": {
       "_dom_classes": [],
       "_model_module": "@jupyter-widgets/output",
       "_model_module_version": "1.0.0",
       "_model_name": "OutputModel",
       "_view_count": null,
       "_view_module": "@jupyter-widgets/output",
       "_view_module_version": "1.0.0",
       "_view_name": "OutputView",
       "layout": "IPY_MODEL_fd872bfbbc5742699d1c01c2ecf64b0a",
       "msg_id": "",
       "outputs": [
        {
         "name": "stderr",
         "output_type": "stream",
         "text": "/usr/share/miniconda/envs/gammapy-dev/lib/python3.7/site-packages/astropy/visualization/wcsaxes/core.py:211: MatplotlibDeprecationWarning: Passing parameters norm and vmin/vmax simultaneously is deprecated since 3.3 and will become an error two minor releases later. Please pass vmin/vmax directly to the norm when creating it.\n  return super().imshow(X, *args, origin=origin, **kwargs)\n"
        },
        {
         "data": {
          "image/png": "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\n",
          "text/plain": "<Figure size 432x288 with 2 Axes>"
         },
         "metadata": {
          "needs_background": "light"
         },
         "output_type": "display_data"
        }
       ]
      }
     },
     "aee69bfa21d74bb38aae1053d40affe1": {
      "model_module": "@jupyter-widgets/controls",
      "model_module_version": "1.5.0",
      "model_name": "VBoxModel",
      "state": {
       "_dom_classes": [
        "widget-interact"
       ],
       "_model_module": "@jupyter-widgets/controls",
       "_model_module_version": "1.5.0",
       "_model_name": "VBoxModel",
       "_view_count": null,
       "_view_module": "@jupyter-widgets/controls",
       "_view_module_version": "1.5.0",
       "_view_name": "VBoxView",
       "box_style": "",
       "children": [
        "IPY_MODEL_3783e15c7b6146f396860dc88e306590",
        "IPY_MODEL_2d21fcd48a8047faac8fbe4951cfe049",
        "IPY_MODEL_77abc56ee9c1426d9e15765a5d233d4c"
       ],
       "layout": "IPY_MODEL_69a59ead222a46d1bed7b7fbab37f324"
      }
     },
     "b0037cae766045838ddec3a3343ba3c5": {
      "model_module": "@jupyter-widgets/base",
      "model_module_version": "1.2.0",
      "model_name": "LayoutModel",
      "state": {
       "_model_module": "@jupyter-widgets/base",
       "_model_module_version": "1.2.0",
       "_model_name": "LayoutModel",
       "_view_count": null,
       "_view_module": "@jupyter-widgets/base",
       "_view_module_version": "1.2.0",
       "_view_name": "LayoutView",
       "align_content": null,
       "align_items": null,
       "align_self": null,
       "border": null,
       "bottom": null,
       "display": null,
       "flex": null,
       "flex_flow": null,
       "grid_area": null,
       "grid_auto_columns": null,
       "grid_auto_flow": null,
       "grid_auto_rows": null,
       "grid_column": null,
       "grid_gap": null,
       "grid_row": null,
       "grid_template_areas": null,
       "grid_template_columns": null,
       "grid_template_rows": null,
       "height": null,
       "justify_content": null,
       "justify_items": null,
       "left": null,
       "margin": null,
       "max_height": null,
       "max_width": null,
       "min_height": null,
       "min_width": null,
       "object_fit": null,
       "object_position": null,
       "order": null,
       "overflow": null,
       "overflow_x": null,
       "overflow_y": null,
       "padding": null,
       "right": null,
       "top": null,
       "visibility": null,
       "width": null
      }
     },
     "b6eaf8d170674bd1b074b859f9a15b66": {
      "model_module": "@jupyter-widgets/controls",
      "model_module_version": "1.5.0",
      "model_name": "DescriptionStyleModel",
      "state": {
       "_model_module": "@jupyter-widgets/controls",
       "_model_module_version": "1.5.0",
       "_model_name": "DescriptionStyleModel",
       "_view_count": null,
       "_view_module": "@jupyter-widgets/base",
       "_view_module_version": "1.2.0",
       "_view_name": "StyleView",
       "description_width": "initial"
      }
     },
     "fd872bfbbc5742699d1c01c2ecf64b0a": {
      "model_module": "@jupyter-widgets/base",
      "model_module_version": "1.2.0",
      "model_name": "LayoutModel",
      "state": {
       "_model_module": "@jupyter-widgets/base",
       "_model_module_version": "1.2.0",
       "_model_name": "LayoutModel",
       "_view_count": null,
       "_view_module": "@jupyter-widgets/base",
       "_view_module_version": "1.2.0",
       "_view_name": "LayoutView",
       "align_content": null,
       "align_items": null,
       "align_self": null,
       "border": null,
       "bottom": null,
       "display": null,
       "flex": null,
       "flex_flow": null,
       "grid_area": null,
       "grid_auto_columns": null,
       "grid_auto_flow": null,
       "grid_auto_rows": null,
       "grid_column": null,
       "grid_gap": null,
       "grid_row": null,
       "grid_template_areas": null,
       "grid_template_columns": null,
       "grid_template_rows": null,
       "height": null,
       "justify_content": null,
       "justify_items": null,
       "left": null,
       "margin": null,
       "max_height": null,
       "max_width": null,
       "min_height": null,
       "min_width": null,
       "object_fit": null,
       "object_position": null,
       "order": null,
       "overflow": null,
       "overflow_x": null,
       "overflow_y": null,
       "padding": null,
       "right": null,
       "top": null,
       "visibility": null,
       "width": null
      }
     }
    },
    "version_major": 2,
    "version_minor": 0
   }
  }
 },
 "nbformat": 4,
 "nbformat_minor": 4
}
