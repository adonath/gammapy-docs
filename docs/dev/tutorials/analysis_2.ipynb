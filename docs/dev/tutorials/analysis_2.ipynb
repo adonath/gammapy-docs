{
 "cells": [
  {
   "cell_type": "markdown",
   "metadata": {},
   "source": [
    "\n",
    "<div class=\"alert alert-info\">\n",
    "\n",
    "**This is a fixed-text formatted version of a Jupyter notebook**\n",
    "\n",
    "- Try online [![Binder](https://static.mybinder.org/badge.svg)](https://mybinder.org/v2/gh/gammapy/gammapy-webpage/master?urlpath=lab/tree/analysis_2.ipynb)\n",
    "- You can contribute with your own notebooks in this\n",
    "[GitHub repository](https://github.com/gammapy/gammapy/tree/master/docs/tutorials).\n",
    "- **Source files:**\n",
    "[analysis_2.ipynb](../_static/notebooks/analysis_2.ipynb) |\n",
    "[analysis_2.py](../_static/notebooks/analysis_2.py)\n",
    "</div>\n"
   ]
  },
  {
   "cell_type": "markdown",
   "metadata": {},
   "source": [
    "# First analysis with gammapy library API\n",
    "\n",
    "## Prerequisites:\n",
    "\n",
    "- Understanding the gammapy data workflow, in particular what are DL3 events and intrument response functions (IRF).\n",
    "- Understanding of the data reduction and modeling fitting process as shown in the [first gammapy analysis with the high level interface tutorial](analysis_1.ipynb)\n",
    "\n",
    "## Context\n",
    "\n",
    "This notebook is an introduction to gammapy analysis this time using the lower level classes and functions\n",
    "the library.\n",
    "This allows to understand what happens during two main gammapy analysis steps, data reduction and modeling/fitting. \n",
    "\n",
    "**Objective: Create a 3D dataset of the Crab using the H.E.S.S. DL3 data release 1 and perform a simple model fitting of the Crab nebula using the lower level gammapy API.**\n",
    "\n",
    "## Proposed approach:\n",
    "\n",
    "Here, we have to interact with the data archive (with the `~gammapy.data.DataStore`) to retrieve a list of selected observations (`~gammapy.data.Observations`). Then, we define the geometry of the `~gammapy.datasets.MapDataset` object we want to produce and the maker object that reduce an observation\n",
    "to a dataset. \n",
    "\n",
    "We can then proceed with data reduction with a loop over all selected observations to produce datasets in the relevant geometry and stack them together (i.e. sum them all).\n",
    "\n",
    "In practice, we have to:\n",
    "- Create a `~gammapy.data.DataStore` poiting to the relevant data \n",
    "- Apply an observation selection to produce a list of observations, a `~gammapy.data.Observations` object.\n",
    "- Define a geometry of the Map we want to produce, with a sky projection and an energy range.\n",
    "    - Create a `~gammapy.maps.MapAxis` for the energy\n",
    "    - Create a `~gammapy.maps.WcsGeom` for the geometry\n",
    "- Create the necessary makers : \n",
    "    - the map dataset maker : `~gammapy.makers.MapDatasetMaker`\n",
    "    - the background normalization maker, here a `~gammapy.makers.FoVBackgroundMaker`\n",
    "    - and usually the safe range maker : `~gammapy.makers.SafeRangeMaker`\n",
    "- Perform the data reduction loop. And for every observation:\n",
    "    - Apply the makers sequentially to produce the current `~gammapy.datasets.MapDataset`\n",
    "    - Stack it on the target one.\n",
    "- Define the `~gammapy.modeling.models.SkyModel` to apply to the dataset.\n",
    "- Create a `~gammapy.modeling.Fit` object and run it to fit the model parameters\n",
    "- Apply a `~gammapy.estimators.FluxPointsEstimator` to compute flux points for the spectral part of the fit.\n",
    "\n",
    "## Setup\n",
    "First, we setup the analysis by performing required imports.\n"
   ]
  },
  {
   "cell_type": "code",
   "execution_count": 1,
   "metadata": {
    "execution": {
     "iopub.execute_input": "2020-10-30T09:06:34.718167Z",
     "iopub.status.busy": "2020-10-30T09:06:34.717482Z",
     "iopub.status.idle": "2020-10-30T09:06:35.052139Z",
     "shell.execute_reply": "2020-10-30T09:06:35.051298Z"
    }
   },
   "outputs": [],
   "source": [
    "%matplotlib inline\n",
    "import matplotlib.pyplot as plt"
   ]
  },
  {
   "cell_type": "code",
   "execution_count": 2,
   "metadata": {
    "execution": {
     "iopub.execute_input": "2020-10-30T09:06:35.056817Z",
     "iopub.status.busy": "2020-10-30T09:06:35.055695Z",
     "iopub.status.idle": "2020-10-30T09:06:35.552380Z",
     "shell.execute_reply": "2020-10-30T09:06:35.553089Z"
    }
   },
   "outputs": [],
   "source": [
    "from pathlib import Path\n",
    "from astropy import units as u\n",
    "from astropy.coordinates import SkyCoord\n",
    "from regions import CircleSkyRegion"
   ]
  },
  {
   "cell_type": "code",
   "execution_count": 3,
   "metadata": {
    "execution": {
     "iopub.execute_input": "2020-10-30T09:06:35.559300Z",
     "iopub.status.busy": "2020-10-30T09:06:35.558658Z",
     "iopub.status.idle": "2020-10-30T09:06:36.274712Z",
     "shell.execute_reply": "2020-10-30T09:06:36.274154Z"
    }
   },
   "outputs": [],
   "source": [
    "from gammapy.data import DataStore\n",
    "from gammapy.datasets import MapDataset\n",
    "from gammapy.maps import WcsGeom, MapAxis, Map\n",
    "from gammapy.makers import MapDatasetMaker, SafeMaskMaker, FoVBackgroundMaker\n",
    "from gammapy.modeling.models import (\n",
    "    SkyModel,\n",
    "    PowerLawSpectralModel,\n",
    "    PointSpatialModel,\n",
    ")\n",
    "from gammapy.modeling import Fit\n",
    "from gammapy.estimators import FluxPointsEstimator"
   ]
  },
  {
   "cell_type": "markdown",
   "metadata": {},
   "source": [
    "## Defining the datastore and selecting observations\n",
    "\n",
    "We first use the `~gammapy.data.DataStore` object to access the observations we want to analyse. Here the H.E.S.S. DL3 DR1. "
   ]
  },
  {
   "cell_type": "code",
   "execution_count": 4,
   "metadata": {
    "execution": {
     "iopub.execute_input": "2020-10-30T09:06:36.279908Z",
     "iopub.status.busy": "2020-10-30T09:06:36.279315Z",
     "iopub.status.idle": "2020-10-30T09:06:36.322985Z",
     "shell.execute_reply": "2020-10-30T09:06:36.323530Z"
    }
   },
   "outputs": [],
   "source": [
    "data_store = DataStore.from_dir(\"$GAMMAPY_DATA/hess-dl3-dr1\")"
   ]
  },
  {
   "cell_type": "markdown",
   "metadata": {},
   "source": [
    "We can now define an observation filter to select only the relevant observations. \n",
    "Here we use a cone search which we define with a python dict.\n",
    "\n",
    "We then filter the `ObservationTable` with `~gammapy.data.ObservationTable.select_observations()`."
   ]
  },
  {
   "cell_type": "code",
   "execution_count": 5,
   "metadata": {
    "execution": {
     "iopub.execute_input": "2020-10-30T09:06:36.335797Z",
     "iopub.status.busy": "2020-10-30T09:06:36.334246Z",
     "iopub.status.idle": "2020-10-30T09:06:36.336441Z",
     "shell.execute_reply": "2020-10-30T09:06:36.337053Z"
    }
   },
   "outputs": [],
   "source": [
    "selection = dict(\n",
    "    type=\"sky_circle\",\n",
    "    frame=\"icrs\",\n",
    "    lon=\"83.633 deg\",\n",
    "    lat=\"22.014 deg\",\n",
    "    radius=\"5 deg\",\n",
    ")\n",
    "selected_obs_table = data_store.obs_table.select_observations(selection)"
   ]
  },
  {
   "cell_type": "markdown",
   "metadata": {},
   "source": [
    "We can now retrieve the relevant observations by passing their `obs_id` to the`~gammapy.data.DataStore.get_observations()` method."
   ]
  },
  {
   "cell_type": "code",
   "execution_count": 6,
   "metadata": {
    "execution": {
     "iopub.execute_input": "2020-10-30T09:06:36.352537Z",
     "iopub.status.busy": "2020-10-30T09:06:36.351920Z",
     "iopub.status.idle": "2020-10-30T09:06:36.354900Z",
     "shell.execute_reply": "2020-10-30T09:06:36.354273Z"
    }
   },
   "outputs": [],
   "source": [
    "observations = data_store.get_observations(selected_obs_table[\"OBS_ID\"])"
   ]
  },
  {
   "cell_type": "markdown",
   "metadata": {},
   "source": [
    "## Preparing reduced datasets geometry\n",
    "\n",
    "Now we define a reference geometry for our analysis, We choose a WCS based geometry with a binsize of 0.02 deg and also define an energy axis: "
   ]
  },
  {
   "cell_type": "code",
   "execution_count": 7,
   "metadata": {
    "execution": {
     "iopub.execute_input": "2020-10-30T09:06:36.364127Z",
     "iopub.status.busy": "2020-10-30T09:06:36.362583Z",
     "iopub.status.idle": "2020-10-30T09:06:36.364755Z",
     "shell.execute_reply": "2020-10-30T09:06:36.365618Z"
    }
   },
   "outputs": [],
   "source": [
    "energy_axis = MapAxis.from_energy_bounds(1.0, 10.0, 4, unit=\"TeV\")\n",
    "\n",
    "geom = WcsGeom.create(\n",
    "    skydir=(83.633, 22.014),\n",
    "    binsz=0.02,\n",
    "    width=(2, 2),\n",
    "    frame=\"icrs\",\n",
    "    proj=\"CAR\",\n",
    "    axes=[energy_axis],\n",
    ")\n",
    "\n",
    "# Reduced IRFs are defined in true energy (i.e. not measured energy).\n",
    "energy_axis_true = MapAxis.from_energy_bounds(\n",
    "    0.5, 20, 10, unit=\"TeV\", name=\"energy_true\"\n",
    ")"
   ]
  },
  {
   "cell_type": "markdown",
   "metadata": {},
   "source": [
    "Now we can define the target dataset with this geometry."
   ]
  },
  {
   "cell_type": "code",
   "execution_count": 8,
   "metadata": {
    "execution": {
     "iopub.execute_input": "2020-10-30T09:06:36.374352Z",
     "iopub.status.busy": "2020-10-30T09:06:36.373060Z",
     "iopub.status.idle": "2020-10-30T09:06:36.384715Z",
     "shell.execute_reply": "2020-10-30T09:06:36.385245Z"
    }
   },
   "outputs": [],
   "source": [
    "stacked = MapDataset.create(\n",
    "    geom=geom, energy_axis_true=energy_axis_true, name=\"crab-stacked\"\n",
    ")"
   ]
  },
  {
   "cell_type": "markdown",
   "metadata": {},
   "source": [
    "## Data reduction\n",
    "\n",
    "### Create the maker classes to be used\n",
    "\n",
    "The `~gammapy.datasets.MapDatasetMaker` object is initialized as well as the `~gammapy.makers.SafeMaskMaker` that carries here a maximum offset selection."
   ]
  },
  {
   "cell_type": "code",
   "execution_count": 9,
   "metadata": {
    "execution": {
     "iopub.execute_input": "2020-10-30T09:06:36.391365Z",
     "iopub.status.busy": "2020-10-30T09:06:36.389814Z",
     "iopub.status.idle": "2020-10-30T09:06:36.392059Z",
     "shell.execute_reply": "2020-10-30T09:06:36.392654Z"
    }
   },
   "outputs": [],
   "source": [
    "offset_max = 2.5 * u.deg\n",
    "maker = MapDatasetMaker()\n",
    "maker_safe_mask = SafeMaskMaker(methods=[\"offset-max\"], offset_max=offset_max)"
   ]
  },
  {
   "cell_type": "code",
   "execution_count": 10,
   "metadata": {
    "execution": {
     "iopub.execute_input": "2020-10-30T09:06:36.401666Z",
     "iopub.status.busy": "2020-10-30T09:06:36.401033Z",
     "iopub.status.idle": "2020-10-30T09:06:36.422290Z",
     "shell.execute_reply": "2020-10-30T09:06:36.421722Z"
    }
   },
   "outputs": [],
   "source": [
    "circle = CircleSkyRegion(\n",
    "    center=SkyCoord(\"83.63 deg\", \"22.14 deg\"), radius=0.2 * u.deg\n",
    ")\n",
    "data = geom.region_mask(regions=[circle], inside=False)\n",
    "exclusion_mask = Map.from_geom(geom=geom, data=data)\n",
    "maker_fov = FoVBackgroundMaker(method=\"fit\", exclusion_mask=exclusion_mask)"
   ]
  },
  {
   "cell_type": "markdown",
   "metadata": {},
   "source": [
    "### Perform the data reduction loop"
   ]
  },
  {
   "cell_type": "code",
   "execution_count": 11,
   "metadata": {
    "execution": {
     "iopub.execute_input": "2020-10-30T09:06:36.429271Z",
     "iopub.status.busy": "2020-10-30T09:06:36.428390Z",
     "iopub.status.idle": "2020-10-30T09:06:39.913741Z",
     "shell.execute_reply": "2020-10-30T09:06:39.912336Z"
    }
   },
   "outputs": [
    {
     "name": "stdout",
     "output_type": "stream",
     "text": [
      "Background norm obs 23523: 0.99\n",
      "Background norm obs 23526: 1.08\n",
      "Background norm obs 23559: 0.99\n",
      "Background norm obs 23592: 1.10\n",
      "CPU times: user 3.39 s, sys: 95.1 ms, total: 3.48 s\n",
      "Wall time: 3.48 s\n"
     ]
    }
   ],
   "source": [
    "%%time\n",
    "\n",
    "for obs in observations:\n",
    "    # First a cutout of the target map is produced\n",
    "    cutout = stacked.cutout(\n",
    "        obs.pointing_radec, width=2 * offset_max, name=f\"obs-{obs.obs_id}\"\n",
    "    )\n",
    "    # A MapDataset is filled in this cutout geometry\n",
    "    dataset = maker.run(cutout, obs)\n",
    "    # The data quality cut is applied\n",
    "    dataset = maker_safe_mask.run(dataset, obs)\n",
    "    # fit background model\n",
    "    dataset = maker_fov.run(dataset)\n",
    "    print(\n",
    "        f\"Background norm obs {obs.obs_id}: {dataset.background_model.spectral_model.norm.value:.2f}\"\n",
    "    )\n",
    "    # The resulting dataset cutout is stacked onto the final one\n",
    "    stacked.stack(dataset)"
   ]
  },
  {
   "cell_type": "code",
   "execution_count": 12,
   "metadata": {
    "execution": {
     "iopub.execute_input": "2020-10-30T09:06:39.920490Z",
     "iopub.status.busy": "2020-10-30T09:06:39.918511Z",
     "iopub.status.idle": "2020-10-30T09:06:39.932153Z",
     "shell.execute_reply": "2020-10-30T09:06:39.931551Z"
    }
   },
   "outputs": [
    {
     "name": "stdout",
     "output_type": "stream",
     "text": [
      "MapDataset\n",
      "----------\n",
      "\n",
      "  Name                            : crab-stacked \n",
      "\n",
      "  Total counts                    : 2479 \n",
      "  Total predicted counts          : 2112.97\n",
      "  Total background counts         : 2112.97\n",
      "\n",
      "  Exposure min                    : 3.75e+08 m2 s\n",
      "  Exposure max                    : 3.48e+09 m2 s\n",
      "\n",
      "  Number of total bins            : 40000 \n",
      "  Number of fit bins              : 40000 \n",
      "\n",
      "  Fit statistic type              : cash\n",
      "  Fit statistic value (-2 log(L)) : 17778.06\n",
      "\n",
      "  Number of models                : 1 \n",
      "  Number of parameters            : 3\n",
      "  Number of free parameters       : 1\n",
      "\n",
      "  Component 0: FoVBackgroundModel\n",
      "  \n",
      "    Name                      : crab-stacked-bkg\n",
      "    Datasets names            : ['crab-stacked']\n",
      "    Spectral model type       : PowerLawNormSpectralModel\n",
      "    Parameters:\n",
      "      norm                    :   1.000              \n",
      "      tilt         (frozen)   :   0.000              \n",
      "      reference    (frozen)   :   1.000  TeV         \n",
      "  \n",
      "  \n"
     ]
    }
   ],
   "source": [
    "print(stacked)"
   ]
  },
  {
   "cell_type": "markdown",
   "metadata": {},
   "source": [
    "### Inspect the reduced dataset"
   ]
  },
  {
   "cell_type": "code",
   "execution_count": 13,
   "metadata": {
    "execution": {
     "iopub.execute_input": "2020-10-30T09:06:39.939339Z",
     "iopub.status.busy": "2020-10-30T09:06:39.938730Z",
     "iopub.status.idle": "2020-10-30T09:06:40.509905Z",
     "shell.execute_reply": "2020-10-30T09:06:40.509222Z"
    }
   },
   "outputs": [
    {
     "data": {
      "text/plain": [
       "(<Figure size 432x288 with 2 Axes>,\n",
       " <WCSAxesSubplot:xlabel='Right Ascension', ylabel='Declination'>,\n",
       " <matplotlib.colorbar.Colorbar at 0x7f96f7521208>)"
      ]
     },
     "execution_count": 1,
     "metadata": {},
     "output_type": "execute_result"
    },
    {
     "data": {
      "image/png": "[encoded data removed]",
      "text/plain": [
       "<Figure size 432x288 with 2 Axes>"
      ]
     },
     "metadata": {
      "needs_background": "light"
     },
     "output_type": "display_data"
    }
   ],
   "source": [
    "stacked.counts.sum_over_axes().smooth(0.05 * u.deg).plot(\n",
    "    stretch=\"sqrt\", add_cbar=True\n",
    ")"
   ]
  },
  {
   "cell_type": "markdown",
   "metadata": {},
   "source": [
    "## Save dataset to disk\n",
    "\n",
    "It is common to run the preparation step independent of the likelihood fit, because often the preparation of maps, PSF and energy dispersion is slow if you have a lot of data. We first create a folder:"
   ]
  },
  {
   "cell_type": "code",
   "execution_count": 14,
   "metadata": {
    "execution": {
     "iopub.execute_input": "2020-10-30T09:06:40.515448Z",
     "iopub.status.busy": "2020-10-30T09:06:40.514813Z",
     "iopub.status.idle": "2020-10-30T09:06:40.519037Z",
     "shell.execute_reply": "2020-10-30T09:06:40.518389Z"
    }
   },
   "outputs": [],
   "source": [
    "path = Path(\"analysis_2\")\n",
    "path.mkdir(exist_ok=True)"
   ]
  },
  {
   "cell_type": "markdown",
   "metadata": {},
   "source": [
    "And then write the maps and IRFs to disk by calling the dedicated `~gammapy.datasets.MapDataset.write()` method:"
   ]
  },
  {
   "cell_type": "code",
   "execution_count": 15,
   "metadata": {
    "execution": {
     "iopub.execute_input": "2020-10-30T09:06:40.606592Z",
     "iopub.status.busy": "2020-10-30T09:06:40.605899Z",
     "iopub.status.idle": "2020-10-30T09:06:40.826286Z",
     "shell.execute_reply": "2020-10-30T09:06:40.826826Z"
    }
   },
   "outputs": [],
   "source": [
    "filename = path / \"crab-stacked-dataset.fits.gz\"\n",
    "stacked.write(filename, overwrite=True)"
   ]
  },
  {
   "cell_type": "markdown",
   "metadata": {},
   "source": [
    "## Define the model\n",
    "We first define the model, a `SkyModel`, as the combination of a point source `SpatialModel` with a powerlaw `SpectralModel`:"
   ]
  },
  {
   "cell_type": "code",
   "execution_count": 16,
   "metadata": {
    "execution": {
     "iopub.execute_input": "2020-10-30T09:06:40.852157Z",
     "iopub.status.busy": "2020-10-30T09:06:40.836727Z",
     "iopub.status.idle": "2020-10-30T09:06:40.863480Z",
     "shell.execute_reply": "2020-10-30T09:06:40.862812Z"
    }
   },
   "outputs": [],
   "source": [
    "target_position = SkyCoord(ra=83.63308, dec=22.01450, unit=\"deg\")\n",
    "spatial_model = PointSpatialModel(\n",
    "    lon_0=target_position.ra, lat_0=target_position.dec, frame=\"icrs\"\n",
    ")\n",
    "\n",
    "spectral_model = PowerLawSpectralModel(\n",
    "    index=2.702,\n",
    "    amplitude=4.712e-11 * u.Unit(\"1 / (cm2 s TeV)\"),\n",
    "    reference=1 * u.TeV,\n",
    ")\n",
    "\n",
    "sky_model = SkyModel(\n",
    "    spatial_model=spatial_model, spectral_model=spectral_model, name=\"crab\"\n",
    ")"
   ]
  },
  {
   "cell_type": "markdown",
   "metadata": {},
   "source": [
    "Now we assign this model to our reduced dataset:"
   ]
  },
  {
   "cell_type": "code",
   "execution_count": 17,
   "metadata": {
    "execution": {
     "iopub.execute_input": "2020-10-30T09:06:40.868192Z",
     "iopub.status.busy": "2020-10-30T09:06:40.867551Z",
     "iopub.status.idle": "2020-10-30T09:06:40.871748Z",
     "shell.execute_reply": "2020-10-30T09:06:40.871207Z"
    }
   },
   "outputs": [],
   "source": [
    "stacked.models.append(sky_model)"
   ]
  },
  {
   "cell_type": "markdown",
   "metadata": {},
   "source": [
    "## Fit the model\n",
    "\n",
    "The `~gammapy.modeling.Fit` class is orchestrating the fit, connecting the `stats` method of the dataset to the minimizer. By default, it uses `iminuit`.\n",
    "\n",
    "Its contructor takes a list of dataset as argument."
   ]
  },
  {
   "cell_type": "code",
   "execution_count": 18,
   "metadata": {
    "execution": {
     "iopub.execute_input": "2020-10-30T09:06:40.882986Z",
     "iopub.status.busy": "2020-10-30T09:06:40.879368Z",
     "iopub.status.idle": "2020-10-30T09:06:44.704556Z",
     "shell.execute_reply": "2020-10-30T09:06:44.705102Z"
    }
   },
   "outputs": [
    {
     "name": "stdout",
     "output_type": "stream",
     "text": [
      "┌──────────────────────────────────┬──────────────────────────────────────┐\n",
      "│ FCN = 1.624e+04                  │       Ncalls = 145 (145 total)       │\n",
      "│ EDM = 4.53e-06 (Goal: 0.0002)    │               up = 1.0               │\n",
      "├───────────────┬──────────────────┼──────────────────────────────────────┤\n",
      "│ Valid Minimum │ Valid Parameters │        No Parameters at limit        │\n",
      "├───────────────┴──────────────────┼──────────────────────────────────────┤\n",
      "│ Below EDM threshold (goal x 10)  │           Below call limit           │\n",
      "├───────────────┬──────────────────┼───────────┬─────────────┬────────────┤\n",
      "│   Hesse ok    │  Has Covariance  │ Accurate  │  Pos. def.  │ Not forced │\n",
      "└───────────────┴──────────────────┴───────────┴─────────────┴────────────┘\n",
      "CPU times: user 3.59 s, sys: 236 ms, total: 3.83 s\n",
      "Wall time: 3.83 s\n"
     ]
    }
   ],
   "source": [
    "%%time\n",
    "fit = Fit([stacked])\n",
    "result = fit.run(optimize_opts={\"print_level\": 1})"
   ]
  },
  {
   "cell_type": "markdown",
   "metadata": {},
   "source": [
    "The `FitResult` contains information on the fitted parameters."
   ]
  },
  {
   "cell_type": "code",
   "execution_count": 19,
   "metadata": {
    "execution": {
     "iopub.execute_input": "2020-10-30T09:06:44.713418Z",
     "iopub.status.busy": "2020-10-30T09:06:44.712783Z",
     "iopub.status.idle": "2020-10-30T09:06:44.718391Z",
     "shell.execute_reply": "2020-10-30T09:06:44.719104Z"
    }
   },
   "outputs": [
    {
     "data": {
      "text/html": [
       "<i>Table length=8</i>\n",
       "<table id=\"table140286369629688\" class=\"table-striped table-bordered table-condensed\">\n",
       "<thead><tr><th>name</th><th>value</th><th>unit</th><th>min</th><th>max</th><th>frozen</th><th>error</th></tr></thead>\n",
       "<thead><tr><th>str9</th><th>float64</th><th>str14</th><th>float64</th><th>float64</th><th>bool</th><th>float64</th></tr></thead>\n",
       "<tr><td>norm</td><td>9.3512e-01</td><td></td><td>nan</td><td>nan</td><td>False</td><td>2.192e-02</td></tr>\n",
       "<tr><td>tilt</td><td>0.0000e+00</td><td></td><td>nan</td><td>nan</td><td>True</td><td>0.000e+00</td></tr>\n",
       "<tr><td>reference</td><td>1.0000e+00</td><td>TeV</td><td>nan</td><td>nan</td><td>True</td><td>0.000e+00</td></tr>\n",
       "<tr><td>index</td><td>2.6004e+00</td><td></td><td>nan</td><td>nan</td><td>False</td><td>1.004e-01</td></tr>\n",
       "<tr><td>amplitude</td><td>4.5866e-11</td><td>cm-2 s-1 TeV-1</td><td>nan</td><td>nan</td><td>False</td><td>3.702e-12</td></tr>\n",
       "<tr><td>reference</td><td>1.0000e+00</td><td>TeV</td><td>nan</td><td>nan</td><td>True</td><td>0.000e+00</td></tr>\n",
       "<tr><td>lon_0</td><td>8.3619e+01</td><td>deg</td><td>nan</td><td>nan</td><td>False</td><td>3.104e-03</td></tr>\n",
       "<tr><td>lat_0</td><td>2.2024e+01</td><td>deg</td><td>-9.000e+01</td><td>9.000e+01</td><td>False</td><td>2.954e-03</td></tr>\n",
       "</table>"
      ],
      "text/plain": [
       "<Table length=8>\n",
       "   name     value         unit         min        max    frozen   error  \n",
       "   str9    float64       str14       float64    float64   bool   float64 \n",
       "--------- ---------- -------------- ---------- --------- ------ ---------\n",
       "     norm 9.3512e-01                       nan       nan  False 2.192e-02\n",
       "     tilt 0.0000e+00                       nan       nan   True 0.000e+00\n",
       "reference 1.0000e+00            TeV        nan       nan   True 0.000e+00\n",
       "    index 2.6004e+00                       nan       nan  False 1.004e-01\n",
       "amplitude 4.5866e-11 cm-2 s-1 TeV-1        nan       nan  False 3.702e-12\n",
       "reference 1.0000e+00            TeV        nan       nan   True 0.000e+00\n",
       "    lon_0 8.3619e+01            deg        nan       nan  False 3.104e-03\n",
       "    lat_0 2.2024e+01            deg -9.000e+01 9.000e+01  False 2.954e-03"
      ]
     },
     "execution_count": 1,
     "metadata": {},
     "output_type": "execute_result"
    }
   ],
   "source": [
    "result.parameters.to_table()"
   ]
  },
  {
   "cell_type": "markdown",
   "metadata": {},
   "source": [
    "### Inspecting residuals\n",
    "\n",
    "For any fit it is usefull to inspect the residual images. We have a few option on the dataset object to handle this. First we can use `.plot_residuals()` to plot a residual image, summed over all energies: "
   ]
  },
  {
   "cell_type": "code",
   "execution_count": 20,
   "metadata": {
    "execution": {
     "iopub.execute_input": "2020-10-30T09:06:44.728352Z",
     "iopub.status.busy": "2020-10-30T09:06:44.727724Z",
     "iopub.status.idle": "2020-10-30T09:06:45.070419Z",
     "shell.execute_reply": "2020-10-30T09:06:45.071258Z"
    }
   },
   "outputs": [
    {
     "name": "stderr",
     "output_type": "stream",
     "text": [
      "/usr/share/miniconda/envs/gammapy-dev/lib/python3.7/site-packages/astropy/visualization/wcsaxes/core.py:211: MatplotlibDeprecationWarning: Passing parameters norm and vmin/vmax simultaneously is deprecated since 3.3 and will become an error two minor releases later. Please pass vmin/vmax directly to the norm when creating it.\n",
      "  return super().imshow(X, *args, origin=origin, **kwargs)\n"
     ]
    },
    {
     "data": {
      "text/plain": [
       "(<WCSAxesSubplot:xlabel='Right Ascension', ylabel='Declination'>, None)"
      ]
     },
     "execution_count": 1,
     "metadata": {},
     "output_type": "execute_result"
    },
    {
     "data": {
      "image/png": "[encoded data removed]",
      "text/plain": [
       "<Figure size 864x288 with 2 Axes>"
      ]
     },
     "metadata": {
      "needs_background": "light"
     },
     "output_type": "display_data"
    }
   ],
   "source": [
    "stacked.plot_residuals(method=\"diff/sqrt(model)\", vmin=-0.5, vmax=0.5)"
   ]
  },
  {
   "cell_type": "markdown",
   "metadata": {},
   "source": [
    "In addition we can aslo specify a region in the map to show the spectral residuals:"
   ]
  },
  {
   "cell_type": "code",
   "execution_count": 21,
   "metadata": {
    "execution": {
     "iopub.execute_input": "2020-10-30T09:06:45.076835Z",
     "iopub.status.busy": "2020-10-30T09:06:45.076275Z",
     "iopub.status.idle": "2020-10-30T09:06:45.079748Z",
     "shell.execute_reply": "2020-10-30T09:06:45.080199Z"
    }
   },
   "outputs": [],
   "source": [
    "region = CircleSkyRegion(\n",
    "    center=SkyCoord(\"83.63 deg\", \"22.14 deg\"), radius=0.5 * u.deg\n",
    ")"
   ]
  },
  {
   "cell_type": "code",
   "execution_count": 22,
   "metadata": {
    "execution": {
     "iopub.execute_input": "2020-10-30T09:06:45.088558Z",
     "iopub.status.busy": "2020-10-30T09:06:45.087909Z",
     "iopub.status.idle": "2020-10-30T09:06:45.817662Z",
     "shell.execute_reply": "2020-10-30T09:06:45.819209Z"
    }
   },
   "outputs": [
    {
     "name": "stderr",
     "output_type": "stream",
     "text": [
      "/usr/share/miniconda/envs/gammapy-dev/lib/python3.7/site-packages/astropy/visualization/wcsaxes/core.py:211: MatplotlibDeprecationWarning: Passing parameters norm and vmin/vmax simultaneously is deprecated since 3.3 and will become an error two minor releases later. Please pass vmin/vmax directly to the norm when creating it.\n",
      "  return super().imshow(X, *args, origin=origin, **kwargs)\n"
     ]
    },
    {
     "data": {
      "text/plain": [
       "(<WCSAxesSubplot:xlabel='Right Ascension', ylabel='Declination'>,\n",
       " <AxesSubplot:xlabel='Energy [TeV]', ylabel='Residuals ((data - model) / sqrt(model))'>)"
      ]
     },
     "execution_count": 1,
     "metadata": {},
     "output_type": "execute_result"
    },
    {
     "data": {
      "image/png": "[encoded data removed]",
      "text/plain": [
       "<Figure size 864x288 with 3 Axes>"
      ]
     },
     "metadata": {
      "needs_background": "light"
     },
     "output_type": "display_data"
    }
   ],
   "source": [
    "stacked.plot_residuals(\n",
    "    region=region, method=\"diff/sqrt(model)\", vmin=-0.5, vmax=0.5\n",
    ")"
   ]
  },
  {
   "cell_type": "markdown",
   "metadata": {},
   "source": [
    "We can also directly access the `.residuals()` to get a map, that we can plot interactively:"
   ]
  },
  {
   "cell_type": "code",
   "execution_count": 23,
   "metadata": {
    "execution": {
     "iopub.execute_input": "2020-10-30T09:06:45.827923Z",
     "iopub.status.busy": "2020-10-30T09:06:45.827310Z",
     "iopub.status.idle": "2020-10-30T09:06:46.277579Z",
     "shell.execute_reply": "2020-10-30T09:06:46.277044Z"
    }
   },
   "outputs": [
    {
     "data": {
      "application/vnd.jupyter.widget-view+json": {
       "model_id": "221f4440e2b44cf692aa301ce25d7276",
       "version_major": 2,
       "version_minor": 0
      },
      "text/plain": [
       "interactive(children=(SelectionSlider(continuous_update=False, description='Select energy:', layout=Layout(wid…"
      ]
     },
     "metadata": {},
     "output_type": "display_data"
    }
   ],
   "source": [
    "residuals = stacked.residuals(method=\"diff\")\n",
    "residuals.smooth(\"0.08 deg\").plot_interactive(\n",
    "    cmap=\"coolwarm\", vmin=-0.1, vmax=0.1, stretch=\"linear\", add_cbar=True\n",
    ")"
   ]
  },
  {
   "cell_type": "markdown",
   "metadata": {},
   "source": [
    "## Plot the fitted spectrum"
   ]
  },
  {
   "cell_type": "markdown",
   "metadata": {},
   "source": [
    "### Making a butterfly plot \n",
    "\n",
    "The `SpectralModel` component can be used to produce a, so-called, butterfly plot showing the enveloppe of the model taking into account parameter uncertainties:"
   ]
  },
  {
   "cell_type": "code",
   "execution_count": 24,
   "metadata": {
    "execution": {
     "iopub.execute_input": "2020-10-30T09:06:46.286713Z",
     "iopub.status.busy": "2020-10-30T09:06:46.286123Z",
     "iopub.status.idle": "2020-10-30T09:06:46.287575Z",
     "shell.execute_reply": "2020-10-30T09:06:46.288159Z"
    }
   },
   "outputs": [],
   "source": [
    "spec = sky_model.spectral_model"
   ]
  },
  {
   "cell_type": "markdown",
   "metadata": {},
   "source": [
    "Now we can actually do the plot using the `plot_error` method:"
   ]
  },
  {
   "cell_type": "code",
   "execution_count": 25,
   "metadata": {
    "execution": {
     "iopub.execute_input": "2020-10-30T09:06:46.317288Z",
     "iopub.status.busy": "2020-10-30T09:06:46.316322Z",
     "iopub.status.idle": "2020-10-30T09:06:46.847823Z",
     "shell.execute_reply": "2020-10-30T09:06:46.848425Z"
    }
   },
   "outputs": [
    {
     "name": "stderr",
     "output_type": "stream",
     "text": [
      "/home/runner/work/gammapy-docs/gammapy-docs/gammapy/gammapy/modeling/models/spectral.py:411: MatplotlibDeprecationWarning: The 'nonposx' parameter of __init__() has been renamed 'nonpositive' since Matplotlib 3.3; support for the old name will be dropped two minor releases later.\n",
      "  ax.set_xscale(\"log\", nonposx=\"clip\")\n",
      "/home/runner/work/gammapy-docs/gammapy-docs/gammapy/gammapy/modeling/models/spectral.py:412: MatplotlibDeprecationWarning: The 'nonposy' parameter of __init__() has been renamed 'nonpositive' since Matplotlib 3.3; support for the old name will be dropped two minor releases later.\n",
      "  ax.set_yscale(\"log\", nonposy=\"clip\")\n"
     ]
    },
    {
     "data": {
      "image/png": "[encoded data removed]",
      "text/plain": [
       "<Figure size 432x288 with 1 Axes>"
      ]
     },
     "metadata": {
      "needs_background": "light"
     },
     "output_type": "display_data"
    }
   ],
   "source": [
    "energy_range = [1, 10] * u.TeV\n",
    "spec.plot(energy_range=energy_range, energy_power=2)\n",
    "ax = spec.plot_error(energy_range=energy_range, energy_power=2)"
   ]
  },
  {
   "cell_type": "markdown",
   "metadata": {},
   "source": [
    "### Computing flux points\n",
    "\n",
    "We can now compute some flux points using the `~gammapy.estimators.FluxPointsEstimator`. \n",
    "\n",
    "Besides the list of datasets to use, we must provide it the energy intervals on which to compute flux points as well as the model component name. "
   ]
  },
  {
   "cell_type": "code",
   "execution_count": 26,
   "metadata": {
    "execution": {
     "iopub.execute_input": "2020-10-30T09:06:46.854016Z",
     "iopub.status.busy": "2020-10-30T09:06:46.852749Z",
     "iopub.status.idle": "2020-10-30T09:06:46.854765Z",
     "shell.execute_reply": "2020-10-30T09:06:46.855358Z"
    }
   },
   "outputs": [],
   "source": [
    "e_edges = [1, 2, 4, 10] * u.TeV\n",
    "fpe = FluxPointsEstimator(e_edges=e_edges, source=\"crab\")"
   ]
  },
  {
   "cell_type": "code",
   "execution_count": 27,
   "metadata": {
    "execution": {
     "iopub.execute_input": "2020-10-30T09:06:46.860331Z",
     "iopub.status.busy": "2020-10-30T09:06:46.859739Z",
     "iopub.status.idle": "2020-10-30T09:06:49.583480Z",
     "shell.execute_reply": "2020-10-30T09:06:49.584192Z"
    }
   },
   "outputs": [
    {
     "name": "stdout",
     "output_type": "stream",
     "text": [
      "CPU times: user 2.63 s, sys: 92.5 ms, total: 2.72 s\n",
      "Wall time: 2.72 s\n"
     ]
    },
    {
     "name": "stderr",
     "output_type": "stream",
     "text": [
      "/usr/share/miniconda/envs/gammapy-dev/lib/python3.7/site-packages/astropy/units/quantity.py:377: VisibleDeprecationWarning: Creating an ndarray from ragged nested sequences (which is a list-or-tuple of lists-or-tuples-or ndarrays with different lengths or shapes) is deprecated. If you meant to do this, you must specify 'dtype=object' when creating the ndarray\n",
      "  subok=False, ndmin=ndmin)\n"
     ]
    }
   ],
   "source": [
    "%%time\n",
    "flux_points = fpe.run(datasets=[stacked])"
   ]
  },
  {
   "cell_type": "code",
   "execution_count": 28,
   "metadata": {
    "execution": {
     "iopub.execute_input": "2020-10-30T09:06:49.611483Z",
     "iopub.status.busy": "2020-10-30T09:06:49.606039Z",
     "iopub.status.idle": "2020-10-30T09:06:50.176397Z",
     "shell.execute_reply": "2020-10-30T09:06:50.175851Z"
    }
   },
   "outputs": [
    {
     "name": "stderr",
     "output_type": "stream",
     "text": [
      "/home/runner/work/gammapy-docs/gammapy-docs/gammapy/gammapy/modeling/models/spectral.py:411: MatplotlibDeprecationWarning: The 'nonposx' parameter of __init__() has been renamed 'nonpositive' since Matplotlib 3.3; support for the old name will be dropped two minor releases later.\n",
      "  ax.set_xscale(\"log\", nonposx=\"clip\")\n",
      "/home/runner/work/gammapy-docs/gammapy-docs/gammapy/gammapy/modeling/models/spectral.py:412: MatplotlibDeprecationWarning: The 'nonposy' parameter of __init__() has been renamed 'nonpositive' since Matplotlib 3.3; support for the old name will be dropped two minor releases later.\n",
      "  ax.set_yscale(\"log\", nonposy=\"clip\")\n",
      "/home/runner/work/gammapy-docs/gammapy-docs/gammapy/gammapy/estimators/flux_point.py:668: MatplotlibDeprecationWarning: The 'nonposx' parameter of __init__() has been renamed 'nonpositive' since Matplotlib 3.3; support for the old name will be dropped two minor releases later.\n",
      "  ax.set_xscale(\"log\", nonposx=\"clip\")\n",
      "/home/runner/work/gammapy-docs/gammapy-docs/gammapy/gammapy/estimators/flux_point.py:669: MatplotlibDeprecationWarning: The 'nonposy' parameter of __init__() has been renamed 'nonpositive' since Matplotlib 3.3; support for the old name will be dropped two minor releases later.\n",
      "  ax.set_yscale(\"log\", nonposy=\"clip\")\n"
     ]
    },
    {
     "data": {
      "text/plain": [
       "<AxesSubplot:xlabel='Energy (TeV)', ylabel='dnde (TeV / (cm2 s))'>"
      ]
     },
     "execution_count": 1,
     "metadata": {},
     "output_type": "execute_result"
    },
    {
     "data": {
      "image/png": "[encoded data removed]",
      "text/plain": [
       "<Figure size 432x288 with 1 Axes>"
      ]
     },
     "metadata": {
      "needs_background": "light"
     },
     "output_type": "display_data"
    }
   ],
   "source": [
    "ax = spec.plot_error(energy_range=energy_range, energy_power=2)\n",
    "flux_points.plot(ax=ax, energy_power=2)"
   ]
  },
  {
   "cell_type": "code",
   "execution_count": null,
   "metadata": {},
   "outputs": [],
   "source": []
  }
 ],
 "metadata": {
  "kernelspec": {
   "display_name": "Python 3",
   "language": "python",
   "name": "python3"
  },
  "language_info": {
   "codemirror_mode": {
    "name": "ipython",
    "version": 3
   },
   "file_extension": ".py",
   "mimetype": "text/x-python",
   "name": "python",
   "nbconvert_exporter": "python",
   "pygments_lexer": "ipython3",
   "version": "3.7.0"
  },
  "latex_envs": {
   "LaTeX_envs_menu_present": true,
   "autoclose": false,
   "autocomplete": true,
   "bibliofile": "biblio.bib",
   "cite_by": "apalike",
   "current_citInitial": 1,
   "eqLabelWithNumbers": true,
   "eqNumInitial": 1,
   "hotkeys": {
    "equation": "Ctrl-E",
    "itemize": "Ctrl-I"
   },
   "labels_anchors": false,
   "latex_user_defs": false,
   "report_style_numbering": false,
   "user_envs_cfg": false
  },
  "nbsphinx": {
   "orphan": true
  },
  "widgets": {
   "application/vnd.jupyter.widget-state+json": {
    "state": {
     "1ee857a1378440e8b02f07971a6915d3": {
      "model_module": "@jupyter-widgets/controls",
      "model_module_version": "1.5.0",
      "model_name": "SelectionSliderModel",
      "state": {
       "_dom_classes": [],
       "_model_module": "@jupyter-widgets/controls",
       "_model_module_version": "1.5.0",
       "_model_name": "SelectionSliderModel",
       "_options_labels": [
        "1.00e+00 TeV - 1.78e+00 TeV TeV",
        "1.78e+00 TeV - 3.16e+00 TeV TeV",
        "3.16e+00 TeV - 5.62e+00 TeV TeV",
        "5.62e+00 TeV - 1.00e+01 TeV TeV"
       ],
       "_view_count": null,
       "_view_module": "@jupyter-widgets/controls",
       "_view_module_version": "1.5.0",
       "_view_name": "SelectionSliderView",
       "continuous_update": false,
       "description": "Select energy:",
       "description_tooltip": null,
       "disabled": false,
       "index": 0,
       "layout": "IPY_MODEL_ca611ef6a6b74d9f8c9e61d268ac87c6",
       "orientation": "horizontal",
       "readout": true,
       "style": "IPY_MODEL_fef87ab821a6488db72325e1640562b7"
      }
     },
     "221f4440e2b44cf692aa301ce25d7276": {
      "model_module": "@jupyter-widgets/controls",
      "model_module_version": "1.5.0",
      "model_name": "VBoxModel",
      "state": {
       "_dom_classes": [
        "widget-interact"
       ],
       "_model_module": "@jupyter-widgets/controls",
       "_model_module_version": "1.5.0",
       "_model_name": "VBoxModel",
       "_view_count": null,
       "_view_module": "@jupyter-widgets/controls",
       "_view_module_version": "1.5.0",
       "_view_name": "VBoxView",
       "box_style": "",
       "children": [
        "IPY_MODEL_1ee857a1378440e8b02f07971a6915d3",
        "IPY_MODEL_b40ac5193ffa454c89f9f34ee5e2f0db",
        "IPY_MODEL_b73c05e5a2bc41368e335f4ffecd929d"
       ],
       "layout": "IPY_MODEL_41dd50e6077b4e95aa14a0790adcecb7"
      }
     },
     "41dd50e6077b4e95aa14a0790adcecb7": {
      "model_module": "@jupyter-widgets/base",
      "model_module_version": "1.2.0",
      "model_name": "LayoutModel",
      "state": {
       "_model_module": "@jupyter-widgets/base",
       "_model_module_version": "1.2.0",
       "_model_name": "LayoutModel",
       "_view_count": null,
       "_view_module": "@jupyter-widgets/base",
       "_view_module_version": "1.2.0",
       "_view_name": "LayoutView",
       "align_content": null,
       "align_items": null,
       "align_self": null,
       "border": null,
       "bottom": null,
       "display": null,
       "flex": null,
       "flex_flow": null,
       "grid_area": null,
       "grid_auto_columns": null,
       "grid_auto_flow": null,
       "grid_auto_rows": null,
       "grid_column": null,
       "grid_gap": null,
       "grid_row": null,
       "grid_template_areas": null,
       "grid_template_columns": null,
       "grid_template_rows": null,
       "height": null,
       "justify_content": null,
       "justify_items": null,
       "left": null,
       "margin": null,
       "max_height": null,
       "max_width": null,
       "min_height": null,
       "min_width": null,
       "object_fit": null,
       "object_position": null,
       "order": null,
       "overflow": null,
       "overflow_x": null,
       "overflow_y": null,
       "padding": null,
       "right": null,
       "top": null,
       "visibility": null,
       "width": null
      }
     },
     "8d08339b5e954141a6ec16b059c38142": {
      "model_module": "@jupyter-widgets/base",
      "model_module_version": "1.2.0",
      "model_name": "LayoutModel",
      "state": {
       "_model_module": "@jupyter-widgets/base",
       "_model_module_version": "1.2.0",
       "_model_name": "LayoutModel",
       "_view_count": null,
       "_view_module": "@jupyter-widgets/base",
       "_view_module_version": "1.2.0",
       "_view_name": "LayoutView",
       "align_content": null,
       "align_items": null,
       "align_self": null,
       "border": null,
       "bottom": null,
       "display": null,
       "flex": null,
       "flex_flow": null,
       "grid_area": null,
       "grid_auto_columns": null,
       "grid_auto_flow": null,
       "grid_auto_rows": null,
       "grid_column": null,
       "grid_gap": null,
       "grid_row": null,
       "grid_template_areas": null,
       "grid_template_columns": null,
       "grid_template_rows": null,
       "height": null,
       "justify_content": null,
       "justify_items": null,
       "left": null,
       "margin": null,
       "max_height": null,
       "max_width": null,
       "min_height": null,
       "min_width": null,
       "object_fit": null,
       "object_position": null,
       "order": null,
       "overflow": null,
       "overflow_x": null,
       "overflow_y": null,
       "padding": null,
       "right": null,
       "top": null,
       "visibility": null,
       "width": null
      }
     },
     "b40ac5193ffa454c89f9f34ee5e2f0db": {
      "model_module": "@jupyter-widgets/controls",
      "model_module_version": "1.5.0",
      "model_name": "RadioButtonsModel",
      "state": {
       "_dom_classes": [],
       "_model_module": "@jupyter-widgets/controls",
       "_model_module_version": "1.5.0",
       "_model_name": "RadioButtonsModel",
       "_options_labels": [
        "linear",
        "sqrt",
        "log"
       ],
       "_view_count": null,
       "_view_module": "@jupyter-widgets/controls",
       "_view_module_version": "1.5.0",
       "_view_name": "RadioButtonsView",
       "description": "Select stretch:",
       "description_tooltip": null,
       "disabled": false,
       "index": 0,
       "layout": "IPY_MODEL_8d08339b5e954141a6ec16b059c38142",
       "style": "IPY_MODEL_d0809a197116442eac797849b32e76bd"
      }
     },
     "b73c05e5a2bc41368e335f4ffecd929d": {
      "model_module": "@jupyter-widgets/output",
      "model_module_version": "1.0.0",
      "model_name": "OutputModel",
      "state": {
       "_dom_classes": [],
       "_model_module": "@jupyter-widgets/output",
       "_model_module_version": "1.0.0",
       "_model_name": "OutputModel",
       "_view_count": null,
       "_view_module": "@jupyter-widgets/output",
       "_view_module_version": "1.0.0",
       "_view_name": "OutputView",
       "layout": "IPY_MODEL_c600988dc79b4ef8b44467c66536bdd8",
       "msg_id": "",
       "outputs": [
        {
         "name": "stderr",
         "output_type": "stream",
         "text": "/usr/share/miniconda/envs/gammapy-dev/lib/python3.7/site-packages/astropy/visualization/wcsaxes/core.py:211: MatplotlibDeprecationWarning: Passing parameters norm and vmin/vmax simultaneously is deprecated since 3.3 and will become an error two minor releases later. Please pass vmin/vmax directly to the norm when creating it.\n  return super().imshow(X, *args, origin=origin, **kwargs)\n"
        },
        {
         "data": {
          "image/png": "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\n",
          "text/plain": "<Figure size 432x288 with 2 Axes>"
         },
         "metadata": {
          "needs_background": "light"
         },
         "output_type": "display_data"
        }
       ]
      }
     },
     "c600988dc79b4ef8b44467c66536bdd8": {
      "model_module": "@jupyter-widgets/base",
      "model_module_version": "1.2.0",
      "model_name": "LayoutModel",
      "state": {
       "_model_module": "@jupyter-widgets/base",
       "_model_module_version": "1.2.0",
       "_model_name": "LayoutModel",
       "_view_count": null,
       "_view_module": "@jupyter-widgets/base",
       "_view_module_version": "1.2.0",
       "_view_name": "LayoutView",
       "align_content": null,
       "align_items": null,
       "align_self": null,
       "border": null,
       "bottom": null,
       "display": null,
       "flex": null,
       "flex_flow": null,
       "grid_area": null,
       "grid_auto_columns": null,
       "grid_auto_flow": null,
       "grid_auto_rows": null,
       "grid_column": null,
       "grid_gap": null,
       "grid_row": null,
       "grid_template_areas": null,
       "grid_template_columns": null,
       "grid_template_rows": null,
       "height": null,
       "justify_content": null,
       "justify_items": null,
       "left": null,
       "margin": null,
       "max_height": null,
       "max_width": null,
       "min_height": null,
       "min_width": null,
       "object_fit": null,
       "object_position": null,
       "order": null,
       "overflow": null,
       "overflow_x": null,
       "overflow_y": null,
       "padding": null,
       "right": null,
       "top": null,
       "visibility": null,
       "width": null
      }
     },
     "ca611ef6a6b74d9f8c9e61d268ac87c6": {
      "model_module": "@jupyter-widgets/base",
      "model_module_version": "1.2.0",
      "model_name": "LayoutModel",
      "state": {
       "_model_module": "@jupyter-widgets/base",
       "_model_module_version": "1.2.0",
       "_model_name": "LayoutModel",
       "_view_count": null,
       "_view_module": "@jupyter-widgets/base",
       "_view_module_version": "1.2.0",
       "_view_name": "LayoutView",
       "align_content": null,
       "align_items": null,
       "align_self": null,
       "border": null,
       "bottom": null,
       "display": null,
       "flex": null,
       "flex_flow": null,
       "grid_area": null,
       "grid_auto_columns": null,
       "grid_auto_flow": null,
       "grid_auto_rows": null,
       "grid_column": null,
       "grid_gap": null,
       "grid_row": null,
       "grid_template_areas": null,
       "grid_template_columns": null,
       "grid_template_rows": null,
       "height": null,
       "justify_content": null,
       "justify_items": null,
       "left": null,
       "margin": null,
       "max_height": null,
       "max_width": null,
       "min_height": null,
       "min_width": null,
       "object_fit": null,
       "object_position": null,
       "order": null,
       "overflow": null,
       "overflow_x": null,
       "overflow_y": null,
       "padding": null,
       "right": null,
       "top": null,
       "visibility": null,
       "width": "50%"
      }
     },
     "d0809a197116442eac797849b32e76bd": {
      "model_module": "@jupyter-widgets/controls",
      "model_module_version": "1.5.0",
      "model_name": "DescriptionStyleModel",
      "state": {
       "_model_module": "@jupyter-widgets/controls",
       "_model_module_version": "1.5.0",
       "_model_name": "DescriptionStyleModel",
       "_view_count": null,
       "_view_module": "@jupyter-widgets/base",
       "_view_module_version": "1.2.0",
       "_view_name": "StyleView",
       "description_width": "initial"
      }
     },
     "fef87ab821a6488db72325e1640562b7": {
      "model_module": "@jupyter-widgets/controls",
      "model_module_version": "1.5.0",
      "model_name": "DescriptionStyleModel",
      "state": {
       "_model_module": "@jupyter-widgets/controls",
       "_model_module_version": "1.5.0",
       "_model_name": "DescriptionStyleModel",
       "_view_count": null,
       "_view_module": "@jupyter-widgets/base",
       "_view_module_version": "1.2.0",
       "_view_name": "StyleView",
       "description_width": "initial"
      }
     }
    },
    "version_major": 2,
    "version_minor": 0
   }
  }
 },
 "nbformat": 4,
 "nbformat_minor": 4
}
