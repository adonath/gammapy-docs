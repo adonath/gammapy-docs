{
 "cells": [
  {
   "cell_type": "markdown",
   "metadata": {},
   "source": [
    "\n",
    "<div class=\"alert alert-info\">\n",
    "\n",
    "**This is a fixed-text formatted version of a Jupyter notebook**\n",
    "\n",
    "- Try online [![Binder](https://static.mybinder.org/badge.svg)](https://mybinder.org/v2/gh/gammapy/gammapy-webpage/master?urlpath=lab/tree/maps.ipynb)\n",
    "- You can contribute with your own notebooks in this\n",
    "[GitHub repository](https://github.com/gammapy/gammapy/tree/master/docs/tutorials).\n",
    "- **Source files:**\n",
    "[maps.ipynb](../_static/notebooks/maps.ipynb) |\n",
    "[maps.py](../_static/notebooks/maps.py)\n",
    "</div>\n"
   ]
  },
  {
   "cell_type": "markdown",
   "execution_count": 1,
   "metadata": {},
   "source": [
    "# Gammapy Maps\n",
    "\n",
    "![Gammapy Maps Illustration](images/gammapy_maps.png)\n",
    "\n",
    "## Introduction\n",
    "\n",
    "The `~gammapy.maps` submodule contains classes for representing sky images with an arbitrary number of non-spatial dimensions such as energy, time, event class or any possible user-defined dimension (illustrated in the image above). The main `Map` data structure features a uniform API for [WCS](https://fits.gsfc.nasa.gov/fits_wcs.html) as well as [HEALPix](https://en.wikipedia.org/wiki/HEALPix) based images. The API also generalizes simple image based operations such as smoothing, interpolation and reprojection to the arbitrary extra dimensions and makes working with (2 + N)-dimensional hypercubes as easy as working with a simple 2D image. Further information is also provided on the `~gammapy.maps` docs page.\n",
    "\n",
    "In the following introduction we will learn all the basics of working with WCS based maps. HEALPix based maps will be covered in a future tutorial. We will cover the following topics in order:\n",
    "\n",
    "1. [Creating WCS Maps](#Creating-WCS-Maps)\n",
    "1. [Accessing and Modifying Data](#Accessing-and-Modifying-Data)\n",
    "1. [Reading and Writing](#Reading-and-Writing)\n",
    "1. [Visualizing and Plotting](#Visualizing-and-Plotting)\n",
    "1. [Interpolating and Miscellaneous](#Reprojecting,-Interpolating-and-Miscellaneous)\n",
    "\n",
    "Make sure you have worked through the [Gammapy overview](overview.ipynb), because a solid knowledge about working with `SkyCoord` and `Quantity` objects as well as [Numpy](http://www.numpy.org/) is required for this tutorial.\n",
    "\n",
    "This notebook is rather lengthy, but getting to know the `Map` data structure in detail is essential for working with Gammapy and will allow you to fulfill complex analysis tasks with very few and simple code in future!"
   ]
  },
  {
   "cell_type": "markdown",
   "execution_count": 1,
   "metadata": {},
   "source": [
    "## Setup"
   ]
  },
  {
   "cell_type": "code",
   "execution_count": 1,
   "metadata": {
    "execution": {
     "iopub.execute_input": "2020-09-16T15:05:41.259893Z",
     "iopub.status.busy": "2020-09-16T15:05:41.259217Z",
     "iopub.status.idle": "2020-09-16T15:05:41.603426Z",
     "shell.execute_reply": "2020-09-16T15:05:41.602686Z"
    }
   },
   "outputs": [],
   "source": [
    "%matplotlib inline\n",
    "import numpy as np\n",
    "import matplotlib.pyplot as plt\n",
    "import os"
   ]
  },
  {
   "cell_type": "code",
   "execution_count": 2,
   "metadata": {
    "execution": {
     "iopub.execute_input": "2020-09-16T15:05:41.609100Z",
     "iopub.status.busy": "2020-09-16T15:05:41.608049Z",
     "iopub.status.idle": "2020-09-16T15:05:42.647493Z",
     "shell.execute_reply": "2020-09-16T15:05:42.645827Z"
    }
   },
   "outputs": [],
   "source": [
    "from astropy import units as u\n",
    "from astropy.io import fits\n",
    "from astropy.table import Table\n",
    "from astropy.coordinates import SkyCoord\n",
    "from gammapy.maps import Map, MapAxis, WcsGeom"
   ]
  },
  {
   "cell_type": "markdown",
   "execution_count": 3,
   "metadata": {},
   "source": [
    "## Creating WCS Maps\n",
    "\n",
    "### Using Factory Methods\n",
    "\n",
    "Maps are most easily created using the `~gammapy.maps.Map.create()` factory method:"
   ]
  },
  {
   "cell_type": "code",
   "execution_count": 3,
   "metadata": {
    "execution": {
     "iopub.execute_input": "2020-09-16T15:05:42.655317Z",
     "iopub.status.busy": "2020-09-16T15:05:42.654570Z",
     "iopub.status.idle": "2020-09-16T15:05:43.130274Z",
     "shell.execute_reply": "2020-09-16T15:05:43.130783Z"
    }
   },
   "outputs": [],
   "source": [
    "m_allsky = Map.create()"
   ]
  },
  {
   "cell_type": "markdown",
   "execution_count": 4,
   "metadata": {},
   "source": [
    "Calling `Map.create()` without any further arguments creates by default an allsky WCS map using a CAR projection, ICRS coordinates and a pixel size of 1 deg. This can be easily checked by printing the `.geom` attribute of the map:"
   ]
  },
  {
   "cell_type": "code",
   "execution_count": 4,
   "metadata": {
    "execution": {
     "iopub.execute_input": "2020-09-16T15:05:43.140822Z",
     "iopub.status.busy": "2020-09-16T15:05:43.140155Z",
     "iopub.status.idle": "2020-09-16T15:05:43.153223Z",
     "shell.execute_reply": "2020-09-16T15:05:43.152642Z"
    }
   },
   "outputs": [
    {
     "name": "stdout",
     "output_type": "stream",
     "text": [
      "WcsGeom\n",
      "\n",
      "\taxes       : ['lon', 'lat']\n",
      "\tshape      : (3600, 1800)\n",
      "\tndim       : 2\n",
      "\tframe      : icrs\n",
      "\tprojection : CAR\n",
      "\tcenter     : 0.0 deg, 0.0 deg\n",
      "\twidth      : 360.0 deg x 180.0 deg\n",
      "\n"
     ]
    }
   ],
   "source": [
    "print(m_allsky.geom)"
   ]
  },
  {
   "cell_type": "markdown",
   "execution_count": 5,
   "metadata": {},
   "source": [
    "The `.geom` attribute is a `Geom` object, that defines the basic geometry of the map, such as size of the pixels, width and height of the image, coordinate system etc., but we will learn more about this object later.\n",
    "\n",
    "Besides the `.geom` attribute the map has also a `.data` attribute, which is just a plain `numpy.ndarray` and stores the data associated with this map:"
   ]
  },
  {
   "cell_type": "code",
   "execution_count": 5,
   "metadata": {
    "execution": {
     "iopub.execute_input": "2020-09-16T15:05:43.161670Z",
     "iopub.status.busy": "2020-09-16T15:05:43.160809Z",
     "iopub.status.idle": "2020-09-16T15:05:43.164882Z",
     "shell.execute_reply": "2020-09-16T15:05:43.165444Z"
    }
   },
   "outputs": [
    {
     "data": {
      "text/plain": [
       "array([[0., 0., 0., ..., 0., 0., 0.],\n",
       "       [0., 0., 0., ..., 0., 0., 0.],\n",
       "       [0., 0., 0., ..., 0., 0., 0.],\n",
       "       ...,\n",
       "       [0., 0., 0., ..., 0., 0., 0.],\n",
       "       [0., 0., 0., ..., 0., 0., 0.],\n",
       "       [0., 0., 0., ..., 0., 0., 0.]], dtype=float32)"
      ]
     },
     "execution_count": 1,
     "metadata": {},
     "output_type": "execute_result"
    }
   ],
   "source": [
    "m_allsky.data"
   ]
  },
  {
   "cell_type": "markdown",
   "execution_count": 6,
   "metadata": {},
   "source": [
    "By default maps are filled with zeros.\n",
    "\n",
    "Here is a second example that creates a WCS map centered on the Galactic center and now uses Galactic coordinates:"
   ]
  },
  {
   "cell_type": "code",
   "execution_count": 6,
   "metadata": {
    "execution": {
     "iopub.execute_input": "2020-09-16T15:05:43.175964Z",
     "iopub.status.busy": "2020-09-16T15:05:43.175249Z",
     "iopub.status.idle": "2020-09-16T15:05:43.181440Z",
     "shell.execute_reply": "2020-09-16T15:05:43.180895Z"
    }
   },
   "outputs": [
    {
     "name": "stdout",
     "output_type": "stream",
     "text": [
      "WcsGeom\n",
      "\n",
      "\taxes       : ['lon', 'lat']\n",
      "\tshape      : (500, 250)\n",
      "\tndim       : 2\n",
      "\tframe      : galactic\n",
      "\tprojection : TAN\n",
      "\tcenter     : 0.0 deg, 0.0 deg\n",
      "\twidth      : 10.0 deg x 5.0 deg\n",
      "\n"
     ]
    }
   ],
   "source": [
    "skydir = SkyCoord(0, 0, frame=\"galactic\", unit=\"deg\")\n",
    "m_gc = Map.create(\n",
    "    binsz=0.02, width=(10, 5), skydir=skydir, frame=\"galactic\", proj=\"TAN\"\n",
    ")\n",
    "print(m_gc.geom)"
   ]
  },
  {
   "cell_type": "markdown",
   "execution_count": 7,
   "metadata": {},
   "source": [
    "In addition we have defined a TAN projection, a pixel size of `0.02` deg and a width of the map of `10 deg x 5 deg`. The `width` argument also takes scalar value instead of a tuple, which is interpreted as both the width and height of the map, so that a quadratic map is created."
   ]
  },
  {
   "cell_type": "markdown",
   "execution_count": 7,
   "metadata": {},
   "source": [
    "### Creating from a Map Geometry\n",
    "\n",
    "As we have seen in the first examples, the `Map` object couples the data (stored as a `numpy.ndarray`) with a `Geom` object. The `Geom` object can be seen as a generalization of an `astropy.wcs.WCS` object, providing the information on how the data maps to physical coordinate systems. In some cases e.g. when creating many maps with the same WCS geometry it can be advantegeous to first create the map geometry independent of the map object itsself: "
   ]
  },
  {
   "cell_type": "code",
   "execution_count": 7,
   "metadata": {
    "execution": {
     "iopub.execute_input": "2020-09-16T15:05:43.188820Z",
     "iopub.status.busy": "2020-09-16T15:05:43.187804Z",
     "iopub.status.idle": "2020-09-16T15:05:43.190029Z",
     "shell.execute_reply": "2020-09-16T15:05:43.190598Z"
    }
   },
   "outputs": [],
   "source": [
    "wcs_geom = WcsGeom.create(\n",
    "    binsz=0.02, width=(10, 5), skydir=(0, 0), frame=\"galactic\"\n",
    ")"
   ]
  },
  {
   "cell_type": "markdown",
   "execution_count": 8,
   "metadata": {},
   "source": [
    "And then create the map objects from the `wcs_geom` geometry specification:"
   ]
  },
  {
   "cell_type": "code",
   "execution_count": 8,
   "metadata": {
    "execution": {
     "iopub.execute_input": "2020-09-16T15:05:43.196455Z",
     "iopub.status.busy": "2020-09-16T15:05:43.195749Z",
     "iopub.status.idle": "2020-09-16T15:05:43.198228Z",
     "shell.execute_reply": "2020-09-16T15:05:43.198794Z"
    }
   },
   "outputs": [],
   "source": [
    "maps = {}\n",
    "\n",
    "for name in [\"counts\", \"background\"]:\n",
    "    maps[name] = Map.from_geom(wcs_geom)"
   ]
  },
  {
   "cell_type": "markdown",
   "execution_count": 9,
   "metadata": {},
   "source": [
    "The `Geom` object also has a few helpful methods. E.g. we can check whether a given position on the sky is contained in the map geometry:"
   ]
  },
  {
   "cell_type": "code",
   "execution_count": 9,
   "metadata": {
    "execution": {
     "iopub.execute_input": "2020-09-16T15:05:43.208679Z",
     "iopub.status.busy": "2020-09-16T15:05:43.207461Z",
     "iopub.status.idle": "2020-09-16T15:05:43.211271Z",
     "shell.execute_reply": "2020-09-16T15:05:43.211886Z"
    }
   },
   "outputs": [
    {
     "data": {
      "text/plain": [
       "array([ True, False])"
      ]
     },
     "execution_count": 1,
     "metadata": {},
     "output_type": "execute_result"
    }
   ],
   "source": [
    "# define the position of the Galactic center and anti-center\n",
    "positions = SkyCoord([0, 180], [0, 0], frame=\"galactic\", unit=\"deg\")\n",
    "wcs_geom.contains(positions)"
   ]
  },
  {
   "cell_type": "markdown",
   "execution_count": 10,
   "metadata": {},
   "source": [
    "Or get the image center of the map:"
   ]
  },
  {
   "cell_type": "code",
   "execution_count": 10,
   "metadata": {
    "execution": {
     "iopub.execute_input": "2020-09-16T15:05:43.216622Z",
     "iopub.status.busy": "2020-09-16T15:05:43.216028Z",
     "iopub.status.idle": "2020-09-16T15:05:43.222379Z",
     "shell.execute_reply": "2020-09-16T15:05:43.221674Z"
    }
   },
   "outputs": [
    {
     "data": {
      "text/plain": [
       "<SkyCoord (Galactic): (l, b) in deg\n",
       "    (0., 0.)>"
      ]
     },
     "execution_count": 1,
     "metadata": {},
     "output_type": "execute_result"
    }
   ],
   "source": [
    "wcs_geom.center_skydir"
   ]
  },
  {
   "cell_type": "markdown",
   "execution_count": 11,
   "metadata": {},
   "source": [
    "Or we can also retrieve the solid angle per pixel of the map:"
   ]
  },
  {
   "cell_type": "code",
   "execution_count": 11,
   "metadata": {
    "execution": {
     "iopub.execute_input": "2020-09-16T15:05:43.227639Z",
     "iopub.status.busy": "2020-09-16T15:05:43.226481Z",
     "iopub.status.idle": "2020-09-16T15:05:43.420568Z",
     "shell.execute_reply": "2020-09-16T15:05:43.421172Z"
    }
   },
   "outputs": [
    {
     "data": {
      "text/latex": [
       "$$[[1.2173192 \\times 10^{-7},~1.2173192 \\times 10^{-7},~1.2173192 \\times 10^{-7},~\\dots,~1.2173192 \\times 10^{-7},~1.2173192 \\times 10^{-7},~1.2173192 \\times 10^{-7}],~\n",
       " [1.2173376 \\times 10^{-7},~1.2173376 \\times 10^{-7},~1.2173376 \\times 10^{-7},~\\dots,~1.2173376 \\times 10^{-7},~1.2173376 \\times 10^{-7},~1.2173376 \\times 10^{-7}],~\n",
       " [1.2173559 \\times 10^{-7},~1.2173559 \\times 10^{-7},~1.2173559 \\times 10^{-7},~\\dots,~1.2173559 \\times 10^{-7},~1.2173559 \\times 10^{-7},~1.2173559 \\times 10^{-7}],~\n",
       " \\dots,~\n",
       " [1.2173559 \\times 10^{-7},~1.2173559 \\times 10^{-7},~1.2173559 \\times 10^{-7},~\\dots,~1.2173559 \\times 10^{-7},~1.2173559 \\times 10^{-7},~1.2173559 \\times 10^{-7}],~\n",
       " [1.2173376 \\times 10^{-7},~1.2173376 \\times 10^{-7},~1.2173376 \\times 10^{-7},~\\dots,~1.2173376 \\times 10^{-7},~1.2173376 \\times 10^{-7},~1.2173376 \\times 10^{-7}],~\n",
       " [1.2173192 \\times 10^{-7},~1.2173192 \\times 10^{-7},~1.2173192 \\times 10^{-7},~\\dots,~1.2173192 \\times 10^{-7},~1.2173192 \\times 10^{-7},~1.2173192 \\times 10^{-7}]] \\; \\mathrm{sr}$$"
      ],
      "text/plain": [
       "<Quantity [[1.21731921e-07, 1.21731921e-07, 1.21731921e-07, ...,\n",
       "            1.21731921e-07, 1.21731921e-07, 1.21731921e-07],\n",
       "           [1.21733761e-07, 1.21733761e-07, 1.21733761e-07, ...,\n",
       "            1.21733761e-07, 1.21733761e-07, 1.21733761e-07],\n",
       "           [1.21735587e-07, 1.21735587e-07, 1.21735587e-07, ...,\n",
       "            1.21735587e-07, 1.21735587e-07, 1.21735587e-07],\n",
       "           ...,\n",
       "           [1.21735587e-07, 1.21735587e-07, 1.21735587e-07, ...,\n",
       "            1.21735587e-07, 1.21735587e-07, 1.21735587e-07],\n",
       "           [1.21733761e-07, 1.21733761e-07, 1.21733761e-07, ...,\n",
       "            1.21733761e-07, 1.21733761e-07, 1.21733761e-07],\n",
       "           [1.21731921e-07, 1.21731921e-07, 1.21731921e-07, ...,\n",
       "            1.21731921e-07, 1.21731921e-07, 1.21731921e-07]] sr>"
      ]
     },
     "execution_count": 1,
     "metadata": {},
     "output_type": "execute_result"
    }
   ],
   "source": [
    "wcs_geom.solid_angle()"
   ]
  },
  {
   "cell_type": "markdown",
   "execution_count": 12,
   "metadata": {},
   "source": [
    "### Adding Non-Spatial Axes\n",
    "\n",
    "In many analysis scenarios we would like to add extra dimension to the maps to study e.g. energy or time dependency of the data. Those non-spatial dimensions are handled with the `MapAxis` object. Let us first define an energy axis, with 4 bins:"
   ]
  },
  {
   "cell_type": "code",
   "execution_count": 12,
   "metadata": {
    "execution": {
     "iopub.execute_input": "2020-09-16T15:05:43.430007Z",
     "iopub.status.busy": "2020-09-16T15:05:43.428440Z",
     "iopub.status.idle": "2020-09-16T15:05:43.431430Z",
     "shell.execute_reply": "2020-09-16T15:05:43.432026Z"
    }
   },
   "outputs": [
    {
     "name": "stdout",
     "output_type": "stream",
     "text": [
      "MapAxis\n",
      "\n",
      "\tname       : energy    \n",
      "\tunit       : 'TeV'     \n",
      "\tnbins      : 4         \n",
      "\tnode type  : edges     \n",
      "\tedges min  : 1.0e+00 TeV\n",
      "\tedges max  : 1.0e+02 TeV\n",
      "\tinterp     : log       \n",
      "\n"
     ]
    }
   ],
   "source": [
    "energy_axis = MapAxis.from_bounds(\n",
    "    1, 100, nbin=4, unit=\"TeV\", name=\"energy\", interp=\"log\"\n",
    ")\n",
    "print(energy_axis)"
   ]
  },
  {
   "cell_type": "markdown",
   "execution_count": 13,
   "metadata": {},
   "source": [
    "Where `interp='log'` specifies that a logarithmic spacing is used between the bins, equivalent to `np.logspace(0, 2, 4)`. This `MapAxis` object we can now pass to `Map.create()` using the `axes=` argument:"
   ]
  },
  {
   "cell_type": "code",
   "execution_count": 13,
   "metadata": {
    "execution": {
     "iopub.execute_input": "2020-09-16T15:05:43.438318Z",
     "iopub.status.busy": "2020-09-16T15:05:43.437709Z",
     "iopub.status.idle": "2020-09-16T15:05:43.453141Z",
     "shell.execute_reply": "2020-09-16T15:05:43.452605Z"
    }
   },
   "outputs": [
    {
     "name": "stdout",
     "output_type": "stream",
     "text": [
      "WcsGeom\n",
      "\n",
      "\taxes       : ['lon', 'lat', 'energy']\n",
      "\tshape      : (500, 250, 4)\n",
      "\tndim       : 3\n",
      "\tframe      : galactic\n",
      "\tprojection : CAR\n",
      "\tcenter     : 0.0 deg, 0.0 deg\n",
      "\twidth      : 10.0 deg x 5.0 deg\n",
      "\n"
     ]
    }
   ],
   "source": [
    "m_cube = Map.create(\n",
    "    binsz=0.02, width=(10, 5), frame=\"galactic\", axes=[energy_axis]\n",
    ")\n",
    "print(m_cube.geom)"
   ]
  },
  {
   "cell_type": "markdown",
   "execution_count": 14,
   "metadata": {},
   "source": [
    "Now we see that besides `lon` and `lat` the map has an additional axes named `energy` with 4 bins. The total dimension of the map is now `ndim=3`.\n",
    "\n",
    "We can also add further axes by passing a list of `MapAxis` objects. To demonstrate this we create a time axis with\n",
    "linearly spaced bins and pass both axes to `Map.create()`:"
   ]
  },
  {
   "cell_type": "code",
   "execution_count": 14,
   "metadata": {
    "execution": {
     "iopub.execute_input": "2020-09-16T15:05:43.461468Z",
     "iopub.status.busy": "2020-09-16T15:05:43.459971Z",
     "iopub.status.idle": "2020-09-16T15:05:43.468811Z",
     "shell.execute_reply": "2020-09-16T15:05:43.468193Z"
    }
   },
   "outputs": [
    {
     "name": "stdout",
     "output_type": "stream",
     "text": [
      "WcsGeom\n",
      "\n",
      "\taxes       : ['lon', 'lat', 'energy', 'time']\n",
      "\tshape      : (500, 250, 4, 24)\n",
      "\tndim       : 4\n",
      "\tframe      : galactic\n",
      "\tprojection : CAR\n",
      "\tcenter     : 0.0 deg, 0.0 deg\n",
      "\twidth      : 10.0 deg x 5.0 deg\n",
      "\n"
     ]
    }
   ],
   "source": [
    "time_axis = MapAxis.from_bounds(\n",
    "    0, 24, nbin=24, unit=\"hour\", name=\"time\", interp=\"lin\"\n",
    ")\n",
    "\n",
    "m_4d = Map.create(\n",
    "    binsz=0.02, width=(10, 5), frame=\"galactic\", axes=[energy_axis, time_axis]\n",
    ")\n",
    "print(m_4d.geom)"
   ]
  },
  {
   "cell_type": "markdown",
   "execution_count": 15,
   "metadata": {},
   "source": [
    "The `MapAxis` object internally stores the coordinates or \"position values\" associated with every map axis bin or \"node\". We distinguish between two node types: `edges` and `center`. The node type `edges`(which is also the default) specifies that the data associated with this axis is integrated between the edges of the bin (e.g. counts data). The node type `center` specifies that the data is given at the center of the bin (e.g. exposure or differential fluxes).\n",
    "\n",
    "The edges of the bins can be checked with `.edges` attribute:"
   ]
  },
  {
   "cell_type": "code",
   "execution_count": 15,
   "metadata": {
    "execution": {
     "iopub.execute_input": "2020-09-16T15:05:43.477842Z",
     "iopub.status.busy": "2020-09-16T15:05:43.477215Z",
     "iopub.status.idle": "2020-09-16T15:05:43.485772Z",
     "shell.execute_reply": "2020-09-16T15:05:43.486448Z"
    }
   },
   "outputs": [
    {
     "data": {
      "text/latex": [
       "$$[1,~3.1622777,~10,~31.622777,~100] \\; \\mathrm{TeV}$$"
      ],
      "text/plain": [
       "<Quantity [  1.        ,   3.16227766,  10.        ,  31.6227766 ,\n",
       "           100.        ] TeV>"
      ]
     },
     "execution_count": 1,
     "metadata": {},
     "output_type": "execute_result"
    }
   ],
   "source": [
    "energy_axis.edges"
   ]
  },
  {
   "cell_type": "markdown",
   "execution_count": 16,
   "metadata": {},
   "source": [
    "The numbers are given in the units we specified above, which can be checked again with:"
   ]
  },
  {
   "cell_type": "code",
   "execution_count": 16,
   "metadata": {
    "execution": {
     "iopub.execute_input": "2020-09-16T15:05:43.491490Z",
     "iopub.status.busy": "2020-09-16T15:05:43.490689Z",
     "iopub.status.idle": "2020-09-16T15:05:43.495634Z",
     "shell.execute_reply": "2020-09-16T15:05:43.496325Z"
    }
   },
   "outputs": [
    {
     "data": {
      "text/latex": [
       "$$\\mathrm{TeV}$$"
      ],
      "text/plain": [
       "Unit(\"TeV\")"
      ]
     },
     "execution_count": 1,
     "metadata": {},
     "output_type": "execute_result"
    }
   ],
   "source": [
    "energy_axis.unit"
   ]
  },
  {
   "cell_type": "markdown",
   "execution_count": 17,
   "metadata": {},
   "source": [
    "The centers of the axis bins can be checked with the `.center` attribute:"
   ]
  },
  {
   "cell_type": "code",
   "execution_count": 17,
   "metadata": {
    "execution": {
     "iopub.execute_input": "2020-09-16T15:05:43.502933Z",
     "iopub.status.busy": "2020-09-16T15:05:43.502308Z",
     "iopub.status.idle": "2020-09-16T15:05:43.509032Z",
     "shell.execute_reply": "2020-09-16T15:05:43.508343Z"
    }
   },
   "outputs": [
    {
     "data": {
      "text/latex": [
       "$$[1.7782794,~5.6234133,~17.782794,~56.234133] \\; \\mathrm{TeV}$$"
      ],
      "text/plain": [
       "<Quantity [ 1.77827941,  5.62341325, 17.7827941 , 56.23413252] TeV>"
      ]
     },
     "execution_count": 1,
     "metadata": {},
     "output_type": "execute_result"
    }
   ],
   "source": [
    "energy_axis.center"
   ]
  },
  {
   "cell_type": "markdown",
   "execution_count": 18,
   "metadata": {},
   "source": [
    "##  Accessing and Modifying Data\n",
    "\n",
    "### Accessing Map Data Values\n",
    "\n",
    "All map objects have a set of accessor methods, which can be used to access or update the contents of the map irrespective of its underlying representation. Those accessor methods accept as their first argument a coordinate `tuple` containing scalars, `list`, or `numpy.ndarray` with one tuple element for each dimension. Some methods additionally accept a `dict` or `MapCoord` argument, of which both allow to assign coordinates by axis name.\n",
    "\n",
    "Let us first begin with the `.get_by_idx()` method, that accepts a tuple of indices. The order of the indices corresponds to the axis order of the map: "
   ]
  },
  {
   "cell_type": "code",
   "execution_count": 18,
   "metadata": {
    "execution": {
     "iopub.execute_input": "2020-09-16T15:05:43.514000Z",
     "iopub.status.busy": "2020-09-16T15:05:43.513355Z",
     "iopub.status.idle": "2020-09-16T15:05:43.518229Z",
     "shell.execute_reply": "2020-09-16T15:05:43.518812Z"
    }
   },
   "outputs": [
    {
     "data": {
      "text/plain": [
       "array([0.], dtype=float32)"
      ]
     },
     "execution_count": 1,
     "metadata": {},
     "output_type": "execute_result"
    }
   ],
   "source": [
    "m_gc.get_by_idx((50, 30))"
   ]
  },
  {
   "cell_type": "markdown",
   "execution_count": 19,
   "metadata": {},
   "source": [
    "**Important:** Gammapy uses a reversed index order in the map API with the longitude axes first. To achieve the same by directly indexing into the numpy array we have to call:  "
   ]
  },
  {
   "cell_type": "code",
   "execution_count": 19,
   "metadata": {
    "execution": {
     "iopub.execute_input": "2020-09-16T15:05:43.525180Z",
     "iopub.status.busy": "2020-09-16T15:05:43.524584Z",
     "iopub.status.idle": "2020-09-16T15:05:43.531323Z",
     "shell.execute_reply": "2020-09-16T15:05:43.532023Z"
    }
   },
   "outputs": [
    {
     "data": {
      "text/plain": [
       "array([0.], dtype=float32)"
      ]
     },
     "execution_count": 1,
     "metadata": {},
     "output_type": "execute_result"
    }
   ],
   "source": [
    "m_gc.data[([30], [50])]"
   ]
  },
  {
   "cell_type": "markdown",
   "execution_count": 20,
   "metadata": {},
   "source": [
    "To check the order of the axes you can always print the `.geom` attribute:"
   ]
  },
  {
   "cell_type": "code",
   "execution_count": 20,
   "metadata": {
    "execution": {
     "iopub.execute_input": "2020-09-16T15:05:43.538989Z",
     "iopub.status.busy": "2020-09-16T15:05:43.537888Z",
     "iopub.status.idle": "2020-09-16T15:05:43.544287Z",
     "shell.execute_reply": "2020-09-16T15:05:43.545015Z"
    }
   },
   "outputs": [
    {
     "name": "stdout",
     "output_type": "stream",
     "text": [
      "WcsGeom\n",
      "\n",
      "\taxes       : ['lon', 'lat']\n",
      "\tshape      : (500, 250)\n",
      "\tndim       : 2\n",
      "\tframe      : galactic\n",
      "\tprojection : TAN\n",
      "\tcenter     : 0.0 deg, 0.0 deg\n",
      "\twidth      : 10.0 deg x 5.0 deg\n",
      "\n"
     ]
    }
   ],
   "source": [
    "print(m_gc.geom)"
   ]
  },
  {
   "cell_type": "markdown",
   "execution_count": 21,
   "metadata": {},
   "source": [
    "To access values directly by sky coordinates we can use the `.get_by_coord()` method. This time we pass in a `dict`, specifying the axes names corresponding to the given coordinates:"
   ]
  },
  {
   "cell_type": "code",
   "execution_count": 21,
   "metadata": {
    "execution": {
     "iopub.execute_input": "2020-09-16T15:05:43.551617Z",
     "iopub.status.busy": "2020-09-16T15:05:43.550458Z",
     "iopub.status.idle": "2020-09-16T15:05:43.555856Z",
     "shell.execute_reply": "2020-09-16T15:05:43.556452Z"
    }
   },
   "outputs": [
    {
     "data": {
      "text/plain": [
       "array([ 0., nan])"
      ]
     },
     "execution_count": 1,
     "metadata": {},
     "output_type": "execute_result"
    }
   ],
   "source": [
    "m_gc.get_by_coord({\"lon\": [0, 180], \"lat\": [0, 0]})"
   ]
  },
  {
   "cell_type": "markdown",
   "execution_count": 22,
   "metadata": {},
   "source": [
    "The units of the coordinates are assumed to be in degrees in the coordinate system used by the map. If the coordinates do not correspond to the exact pixel center, the value of the nearest pixel center will be returned. For positions outside the map geometry `np.nan` is returned.\n",
    "\n",
    "The coordinate or idx arrays follow normal [Numpy broadcasting rules](https://jakevdp.github.io/PythonDataScienceHandbook/02.05-computation-on-arrays-broadcasting.html). So the following works as expected:\n",
    "\n"
   ]
  },
  {
   "cell_type": "code",
   "execution_count": 22,
   "metadata": {
    "execution": {
     "iopub.execute_input": "2020-09-16T15:05:43.565904Z",
     "iopub.status.busy": "2020-09-16T15:05:43.565115Z",
     "iopub.status.idle": "2020-09-16T15:05:43.571805Z",
     "shell.execute_reply": "2020-09-16T15:05:43.572328Z"
    }
   },
   "outputs": [
    {
     "data": {
      "text/plain": [
       "array([0., 0., 0., 0., 0., 0., 0., 0., 0., 0.], dtype=float32)"
      ]
     },
     "execution_count": 1,
     "metadata": {},
     "output_type": "execute_result"
    }
   ],
   "source": [
    "lons = np.linspace(-4, 4, 10)\n",
    "m_gc.get_by_coord({\"lon\": lons, \"lat\": 0})"
   ]
  },
  {
   "cell_type": "markdown",
   "execution_count": 23,
   "metadata": {},
   "source": [
    "Or as an even more advanced example, we can provide `lats` as column vector and broadcasting to a 2D result array will be applied:"
   ]
  },
  {
   "cell_type": "code",
   "execution_count": 23,
   "metadata": {
    "execution": {
     "iopub.execute_input": "2020-09-16T15:05:43.586059Z",
     "iopub.status.busy": "2020-09-16T15:05:43.585409Z",
     "iopub.status.idle": "2020-09-16T15:05:43.588324Z",
     "shell.execute_reply": "2020-09-16T15:05:43.588896Z"
    }
   },
   "outputs": [
    {
     "data": {
      "text/plain": [
       "array([[nan, nan, nan, nan, nan, nan, nan, nan],\n",
       "       [nan, nan, nan, nan, nan, nan, nan, nan],\n",
       "       [ 0.,  0.,  0.,  0.,  0.,  0.,  0.,  0.],\n",
       "       [ 0.,  0.,  0.,  0.,  0.,  0.,  0.,  0.],\n",
       "       [ 0.,  0.,  0.,  0.,  0.,  0.,  0.,  0.],\n",
       "       [ 0.,  0.,  0.,  0.,  0.,  0.,  0.,  0.],\n",
       "       [nan, nan, nan, nan, nan, nan, nan, nan],\n",
       "       [nan, nan, nan, nan, nan, nan, nan, nan]])"
      ]
     },
     "execution_count": 1,
     "metadata": {},
     "output_type": "execute_result"
    }
   ],
   "source": [
    "lons = np.linspace(-4, 4, 8)\n",
    "lats = np.linspace(-4, 4, 8).reshape(-1, 1)\n",
    "m_gc.get_by_coord({\"lon\": lons, \"lat\": lats})"
   ]
  },
  {
   "cell_type": "markdown",
   "execution_count": 24,
   "metadata": {},
   "source": [
    "### Modifying Map Data Values\n",
    "\n",
    "To modify and set map data values the `Map` object features as well a `.set_by_idx()` method: \n"
   ]
  },
  {
   "cell_type": "code",
   "execution_count": 24,
   "metadata": {
    "execution": {
     "iopub.execute_input": "2020-09-16T15:05:43.595166Z",
     "iopub.status.busy": "2020-09-16T15:05:43.593812Z",
     "iopub.status.idle": "2020-09-16T15:05:43.595805Z",
     "shell.execute_reply": "2020-09-16T15:05:43.596415Z"
    }
   },
   "outputs": [],
   "source": [
    "m_cube.set_by_idx(idx=(10, 20, 3), vals=42)"
   ]
  },
  {
   "cell_type": "code",
   "execution_count": 25,
   "metadata": {
    "execution": {
     "iopub.execute_input": "2020-09-16T15:05:43.602199Z",
     "iopub.status.busy": "2020-09-16T15:05:43.601576Z",
     "iopub.status.idle": "2020-09-16T15:05:43.604338Z",
     "shell.execute_reply": "2020-09-16T15:05:43.604921Z"
    }
   },
   "outputs": [
    {
     "data": {
      "text/plain": [
       "array([42.], dtype=float32)"
      ]
     },
     "execution_count": 1,
     "metadata": {},
     "output_type": "execute_result"
    }
   ],
   "source": [
    "m_cube.get_by_idx((10, 20, 3))"
   ]
  },
  {
   "cell_type": "markdown",
   "execution_count": 26,
   "metadata": {},
   "source": [
    "Of course there is also a `.set_by_coord()` method, which allows to set map data values in physical coordinates. "
   ]
  },
  {
   "cell_type": "code",
   "execution_count": 26,
   "metadata": {
    "execution": {
     "iopub.execute_input": "2020-09-16T15:05:43.609801Z",
     "iopub.status.busy": "2020-09-16T15:05:43.609089Z",
     "iopub.status.idle": "2020-09-16T15:05:43.620244Z",
     "shell.execute_reply": "2020-09-16T15:05:43.619565Z"
    }
   },
   "outputs": [],
   "source": [
    "m_cube.set_by_coord({\"lon\": 0, \"lat\": 0, \"energy\": 2 * u.TeV}, vals=42)"
   ]
  },
  {
   "cell_type": "markdown",
   "execution_count": 27,
   "metadata": {},
   "source": [
    "Again the `lon` and `lat` values are assumed to be given in degrees in the coordinate system used by the map. For the energy axis, the unit is the one specified on the axis (use `m_cube.geom.axes[0].unit` to check if needed...)\n",
    "\n",
    "All `.xxx_by_coord()` methods accept `SkyCoord` objects as well. In this case we have to use the `skycoord` keyword instead of `lon` and `lat`:"
   ]
  },
  {
   "cell_type": "code",
   "execution_count": 27,
   "metadata": {
    "execution": {
     "iopub.execute_input": "2020-09-16T15:05:43.629274Z",
     "iopub.status.busy": "2020-09-16T15:05:43.627902Z",
     "iopub.status.idle": "2020-09-16T15:05:43.629886Z",
     "shell.execute_reply": "2020-09-16T15:05:43.630474Z"
    }
   },
   "outputs": [],
   "source": [
    "skycoords = SkyCoord([1.2, 3.4], [-0.5, 1.1], frame=\"galactic\", unit=\"deg\")\n",
    "m_cube.set_by_coord({\"skycoord\": skycoords, \"energy\": 2 * u.TeV}, vals=42)"
   ]
  },
  {
   "cell_type": "markdown",
   "execution_count": 28,
   "metadata": {},
   "source": [
    "### Indexing and Slicing Sub-Maps\n",
    "\n",
    "When you have worked with Numpy arrays in the past you are probably familiar with the concept of indexing and slicing\n",
    "into data arrays. To support slicing of non-spatial axes of `Map` objects, the `Map` object has a `.slice_by_idx()` method, which allows to extract sub-maps from a larger map.\n",
    "\n",
    "The following example demonstrates how to get the map at the energy bin number 3:  "
   ]
  },
  {
   "cell_type": "code",
   "execution_count": 28,
   "metadata": {
    "execution": {
     "iopub.execute_input": "2020-09-16T15:05:43.637309Z",
     "iopub.status.busy": "2020-09-16T15:05:43.636128Z",
     "iopub.status.idle": "2020-09-16T15:05:43.639148Z",
     "shell.execute_reply": "2020-09-16T15:05:43.639757Z"
    }
   },
   "outputs": [
    {
     "name": "stdout",
     "output_type": "stream",
     "text": [
      "WcsNDMap\n",
      "\n",
      "\tgeom  : WcsGeom \n",
      " \taxes  : ['lon', 'lat']\n",
      "\tshape : (500, 250)\n",
      "\tndim  : 2\n",
      "\tunit  : \n",
      "\tdtype : float32\n",
      "\n"
     ]
    }
   ],
   "source": [
    "m_sub = m_cube.slice_by_idx({\"energy\": 3})\n",
    "print(m_sub)"
   ]
  },
  {
   "cell_type": "markdown",
   "execution_count": 29,
   "metadata": {},
   "source": [
    "Note that the returned object is again a `Map` with updated axes information. In this case, because we extracted only a single image, the energy axes is dropped from the map.\n",
    "\n",
    "To extract a sub-cube with a sliced energy axes we can use a normal `slice()` object:"
   ]
  },
  {
   "cell_type": "code",
   "execution_count": 29,
   "metadata": {
    "execution": {
     "iopub.execute_input": "2020-09-16T15:05:43.647856Z",
     "iopub.status.busy": "2020-09-16T15:05:43.646306Z",
     "iopub.status.idle": "2020-09-16T15:05:43.649599Z",
     "shell.execute_reply": "2020-09-16T15:05:43.650233Z"
    }
   },
   "outputs": [
    {
     "name": "stdout",
     "output_type": "stream",
     "text": [
      "WcsNDMap\n",
      "\n",
      "\tgeom  : WcsGeom \n",
      " \taxes  : ['lon', 'lat', 'energy']\n",
      "\tshape : (500, 250, 2)\n",
      "\tndim  : 3\n",
      "\tunit  : \n",
      "\tdtype : float32\n",
      "\n"
     ]
    }
   ],
   "source": [
    "m_sub = m_cube.slice_by_idx({\"energy\": slice(1, 3)})\n",
    "print(m_sub)"
   ]
  },
  {
   "cell_type": "markdown",
   "execution_count": 30,
   "metadata": {},
   "source": [
    "Note that the returned object is also a `Map` object, but this time with updated energy axis specification.\n",
    "\n",
    "Slicing of multiple dimensions is supported by adding further entries to the dict passed to `.slice_by_idx()`"
   ]
  },
  {
   "cell_type": "code",
   "execution_count": 30,
   "metadata": {
    "execution": {
     "iopub.execute_input": "2020-09-16T15:05:43.659238Z",
     "iopub.status.busy": "2020-09-16T15:05:43.658635Z",
     "iopub.status.idle": "2020-09-16T15:05:43.666842Z",
     "shell.execute_reply": "2020-09-16T15:05:43.666322Z"
    }
   },
   "outputs": [
    {
     "name": "stdout",
     "output_type": "stream",
     "text": [
      "WcsNDMap\n",
      "\n",
      "\tgeom  : WcsGeom \n",
      " \taxes  : ['lon', 'lat', 'energy', 'time']\n",
      "\tshape : (500, 250, 2, 6)\n",
      "\tndim  : 4\n",
      "\tunit  : \n",
      "\tdtype : float32\n",
      "\n"
     ]
    }
   ],
   "source": [
    "m_sub = m_4d.slice_by_idx({\"energy\": slice(1, 3), \"time\": slice(4, 10)})\n",
    "print(m_sub)"
   ]
  },
  {
   "cell_type": "markdown",
   "execution_count": 31,
   "metadata": {},
   "source": [
    "For convenience there is also a `.get_image_by_coord()` method which allows to access image planes at given non-spatial physical coordinates. This method also supports `Quantity` objects:"
   ]
  },
  {
   "cell_type": "code",
   "execution_count": 31,
   "metadata": {
    "execution": {
     "iopub.execute_input": "2020-09-16T15:05:43.673069Z",
     "iopub.status.busy": "2020-09-16T15:05:43.672464Z",
     "iopub.status.idle": "2020-09-16T15:05:43.687669Z",
     "shell.execute_reply": "2020-09-16T15:05:43.687105Z"
    }
   },
   "outputs": [
    {
     "name": "stdout",
     "output_type": "stream",
     "text": [
      "WcsGeom\n",
      "\n",
      "\taxes       : ['lon', 'lat']\n",
      "\tshape      : (500, 250)\n",
      "\tndim       : 2\n",
      "\tframe      : galactic\n",
      "\tprojection : CAR\n",
      "\tcenter     : 0.0 deg, 0.0 deg\n",
      "\twidth      : 10.0 deg x 5.0 deg\n",
      "\n"
     ]
    }
   ],
   "source": [
    "image = m_4d.get_image_by_coord({\"energy\": 4 * u.TeV, \"time\": 5 * u.h})\n",
    "print(image.geom)"
   ]
  },
  {
   "cell_type": "markdown",
   "execution_count": 32,
   "metadata": {},
   "source": [
    "## Reading and Writing\n",
    "\n",
    "Gammapy `Map` objects are serialized using the Flexible Image Transport Format (FITS). Depending on the pixelisation scheme (HEALPix or WCS) and presence of non-spatial dimensions the actual convention to write the FITS file is different.\n",
    "By default Gammpy uses a generic convention named `gadf`, which will support WCS and HEALPix formats as well as an arbitrary number of non-spatial axes. The convention is documented in detail on the [Gamma Astro Data Formats](https://gamma-astro-data-formats.readthedocs.io/en/latest/skymaps/index.html) page.\n",
    "\n",
    "Other conventions required by specific software (e.g. the Fermi Science Tools) are supported as well. At the moment those are the following\n",
    "\n",
    "* `fgst-ccube`: Fermi counts cube format.\n",
    "* `fgst-ltcube`: Fermi livetime cube format.\n",
    "* `fgst-bexpcube`: Fermi exposure cube format\n",
    "* `fgst-template`: Fermi Galactic diffuse and source template format. \n",
    "* `fgst-srcmap` and `fgst-srcmap-sparse`: Fermi source map and sparse source map format.\n",
    "\n",
    "The conventions listed above only support an additional energy axis. \n",
    "\n",
    "### Reading Maps\n",
    "\n",
    "Reading FITS files is mainly exposed via the `Map.read()` method.Let us take a look at a first example: "
   ]
  },
  {
   "cell_type": "code",
   "execution_count": 32,
   "metadata": {
    "execution": {
     "iopub.execute_input": "2020-09-16T15:05:43.692658Z",
     "iopub.status.busy": "2020-09-16T15:05:43.692027Z",
     "iopub.status.idle": "2020-09-16T15:05:43.768829Z",
     "shell.execute_reply": "2020-09-16T15:05:43.769433Z"
    }
   },
   "outputs": [
    {
     "name": "stdout",
     "output_type": "stream",
     "text": [
      "WcsNDMap\n",
      "\n",
      "\tgeom  : WcsGeom \n",
      " \taxes  : ['lon', 'lat']\n",
      "\tshape : (400, 200)\n",
      "\tndim  : 2\n",
      "\tunit  : \n",
      "\tdtype : >i8\n",
      "\n"
     ]
    },
    {
     "name": "stderr",
     "output_type": "stream",
     "text": [
      "WARNING: FITSFixedWarning: 'datfix' made the change 'Set DATE-REF to '1858-11-17' from MJD-REF'. [astropy.wcs.wcs]\n"
     ]
    }
   ],
   "source": [
    "filename = \"$GAMMAPY_DATA/fermi-3fhl-gc/fermi-3fhl-gc-counts.fits.gz\"\n",
    "m_3fhl_gc = Map.read(filename)\n",
    "print(m_3fhl_gc)"
   ]
  },
  {
   "cell_type": "markdown",
   "execution_count": 33,
   "metadata": {},
   "source": [
    "By default `Map.read()` will try to find the first valid data hdu in the filename and read the data from there. If mutliple HDUs are present in the FITS file, the desired one can be chosen with the additional `hdu=` argument:"
   ]
  },
  {
   "cell_type": "code",
   "execution_count": 33,
   "metadata": {
    "execution": {
     "iopub.execute_input": "2020-09-16T15:05:43.773897Z",
     "iopub.status.busy": "2020-09-16T15:05:43.773266Z",
     "iopub.status.idle": "2020-09-16T15:05:43.787287Z",
     "shell.execute_reply": "2020-09-16T15:05:43.787911Z"
    }
   },
   "outputs": [
    {
     "name": "stdout",
     "output_type": "stream",
     "text": [
      "WcsNDMap\n",
      "\n",
      "\tgeom  : WcsGeom \n",
      " \taxes  : ['lon', 'lat']\n",
      "\tshape : (400, 200)\n",
      "\tndim  : 2\n",
      "\tunit  : \n",
      "\tdtype : >i8\n",
      "\n"
     ]
    }
   ],
   "source": [
    "m_3fhl_gc = Map.read(filename, hdu=\"PRIMARY\")\n",
    "print(m_3fhl_gc)"
   ]
  },
  {
   "cell_type": "markdown",
   "execution_count": 34,
   "metadata": {},
   "source": [
    "In rare cases e.g. when the FITS file is not valid or meta data is missing from the header it can be necessary to modify the header of a certain HDU before creating the `Map` object. In this case we can use `astropy.io.fits` directly to read the FITS file:"
   ]
  },
  {
   "cell_type": "code",
   "execution_count": 34,
   "metadata": {
    "execution": {
     "iopub.execute_input": "2020-09-16T15:05:43.793906Z",
     "iopub.status.busy": "2020-09-16T15:05:43.793082Z",
     "iopub.status.idle": "2020-09-16T15:05:43.799749Z",
     "shell.execute_reply": "2020-09-16T15:05:43.799070Z"
    }
   },
   "outputs": [
    {
     "name": "stdout",
     "output_type": "stream",
     "text": [
      "Filename: /home/runner/work/gammapy-docs/gammapy-docs/gammapy-datasets/fermi-3fhl-gc/fermi-3fhl-gc-exposure.fits.gz\n",
      "No.    Name      Ver    Type      Cards   Dimensions   Format\n",
      "  0  PRIMARY       1 PrimaryHDU      23   (400, 200)   float32   \n"
     ]
    }
   ],
   "source": [
    "filename = (\n",
    "    os.environ[\"GAMMAPY_DATA\"]\n",
    "    + \"/fermi-3fhl-gc/fermi-3fhl-gc-exposure.fits.gz\"\n",
    ")\n",
    "hdulist = fits.open(filename)\n",
    "hdulist.info()"
   ]
  },
  {
   "cell_type": "markdown",
   "execution_count": 35,
   "metadata": {},
   "source": [
    "And then modify the header keyword and use `Map.from_hdulist()` to create the `Map` object after:"
   ]
  },
  {
   "cell_type": "code",
   "execution_count": 35,
   "metadata": {
    "execution": {
     "iopub.execute_input": "2020-09-16T15:05:43.805131Z",
     "iopub.status.busy": "2020-09-16T15:05:43.804598Z",
     "iopub.status.idle": "2020-09-16T15:05:43.813093Z",
     "shell.execute_reply": "2020-09-16T15:05:43.813718Z"
    }
   },
   "outputs": [
    {
     "data": {
      "text/plain": [
       "WcsNDMap\n",
       "\n",
       "\tgeom  : WcsGeom \n",
       " \taxes  : ['lon', 'lat']\n",
       "\tshape : (400, 200)\n",
       "\tndim  : 2\n",
       "\tunit  : cm2 s\n",
       "\tdtype : >f4"
      ]
     },
     "execution_count": 1,
     "metadata": {},
     "output_type": "execute_result"
    }
   ],
   "source": [
    "hdulist[\"PRIMARY\"].header[\"BUNIT\"] = \"cm2 s\"\n",
    "Map.from_hdulist(hdulist=hdulist)"
   ]
  },
  {
   "cell_type": "markdown",
   "execution_count": 36,
   "metadata": {},
   "source": [
    "### Writing Maps\n",
    "\n",
    "Writing FITS files is mainoy exposure via the `Map.write()` method. Here is a first example:"
   ]
  },
  {
   "cell_type": "code",
   "execution_count": 36,
   "metadata": {
    "execution": {
     "iopub.execute_input": "2020-09-16T15:05:43.830607Z",
     "iopub.status.busy": "2020-09-16T15:05:43.829783Z",
     "iopub.status.idle": "2020-09-16T15:05:43.843366Z",
     "shell.execute_reply": "2020-09-16T15:05:43.842098Z"
    }
   },
   "outputs": [],
   "source": [
    "m_cube.write(\"example_cube.fits\", overwrite=True)"
   ]
  },
  {
   "cell_type": "markdown",
   "execution_count": 37,
   "metadata": {},
   "source": [
    "By default Gammapy does not overwrite files. In this example we set `overwrite=True` in case the cell gets executed multiple times. Now we can read back the cube from disk using `Map.read()`:"
   ]
  },
  {
   "cell_type": "code",
   "execution_count": 37,
   "metadata": {
    "execution": {
     "iopub.execute_input": "2020-09-16T15:05:43.848958Z",
     "iopub.status.busy": "2020-09-16T15:05:43.848390Z",
     "iopub.status.idle": "2020-09-16T15:05:43.912065Z",
     "shell.execute_reply": "2020-09-16T15:05:43.912670Z"
    }
   },
   "outputs": [
    {
     "name": "stdout",
     "output_type": "stream",
     "text": [
      "WcsNDMap\n",
      "\n",
      "\tgeom  : WcsGeom \n",
      " \taxes  : ['lon', 'lat', 'energy']\n",
      "\tshape : (500, 250, 4)\n",
      "\tndim  : 3\n",
      "\tunit  : \n",
      "\tdtype : >f4\n",
      "\n"
     ]
    }
   ],
   "source": [
    "m_cube = Map.read(\"example_cube.fits\")\n",
    "print(m_cube)"
   ]
  },
  {
   "cell_type": "markdown",
   "execution_count": 38,
   "metadata": {},
   "source": [
    "We can also choose a different FITS convention to write the example cube in a format compatible to the Fermi Galactic diffuse background model:"
   ]
  },
  {
   "cell_type": "code",
   "execution_count": 38,
   "metadata": {
    "execution": {
     "iopub.execute_input": "2020-09-16T15:05:43.931073Z",
     "iopub.status.busy": "2020-09-16T15:05:43.930454Z",
     "iopub.status.idle": "2020-09-16T15:05:43.936613Z",
     "shell.execute_reply": "2020-09-16T15:05:43.937323Z"
    }
   },
   "outputs": [],
   "source": [
    "m_cube.write(\"example_cube_fgst.fits\", conv=\"fgst-template\", overwrite=True)"
   ]
  },
  {
   "cell_type": "markdown",
   "execution_count": 39,
   "metadata": {},
   "source": [
    "To understand a little bit better the generic `gadf` convention we use `Map.to_hdulist()` to generate a list of FITS HDUs first:   "
   ]
  },
  {
   "cell_type": "code",
   "execution_count": 39,
   "metadata": {
    "execution": {
     "iopub.execute_input": "2020-09-16T15:05:43.957509Z",
     "iopub.status.busy": "2020-09-16T15:05:43.956239Z",
     "iopub.status.idle": "2020-09-16T15:05:43.959122Z",
     "shell.execute_reply": "2020-09-16T15:05:43.959727Z"
    }
   },
   "outputs": [
    {
     "name": "stdout",
     "output_type": "stream",
     "text": [
      "Filename: (No file associated with this HDUList)\n",
      "No.    Name      Ver    Type      Cards   Dimensions   Format\n",
      "  0  PRIMARY       1 PrimaryHDU      32   (500, 250, 4, 24)   float32   \n",
      "  1  PRIMARY_BANDS    1 BinTableHDU     33   96R x 7C   ['I', 'E', 'E', 'E', 'E', 'E', 'E']   \n"
     ]
    }
   ],
   "source": [
    "hdulist = m_4d.to_hdulist(conv=\"gadf\")\n",
    "hdulist.info()"
   ]
  },
  {
   "cell_type": "markdown",
   "execution_count": 40,
   "metadata": {},
   "source": [
    "As we can see the `HDUList` object contains to HDUs. The first one named `PRIMARY` contains the data array with shape corresponding to our data and the WCS information stored in the header:"
   ]
  },
  {
   "cell_type": "code",
   "execution_count": 40,
   "metadata": {
    "execution": {
     "iopub.execute_input": "2020-09-16T15:05:43.975910Z",
     "iopub.status.busy": "2020-09-16T15:05:43.975077Z",
     "iopub.status.idle": "2020-09-16T15:05:43.977489Z",
     "shell.execute_reply": "2020-09-16T15:05:43.978139Z"
    }
   },
   "outputs": [
    {
     "data": {
      "text/plain": [
       "SIMPLE  =                    T / conforms to FITS standard                      \n",
       "BITPIX  =                  -32 / array data type                                \n",
       "NAXIS   =                    4 / number of array dimensions                     \n",
       "NAXIS1  =                  500                                                  \n",
       "NAXIS2  =                  250                                                  \n",
       "NAXIS3  =                    4                                                  \n",
       "NAXIS4  =                   24                                                  \n",
       "EXTEND  =                    T                                                  \n",
       "WCSAXES =                    2 / Number of coordinate axes                      \n",
       "CRPIX1  =                250.5 / Pixel coordinate of reference point            \n",
       "CRPIX2  =                125.5 / Pixel coordinate of reference point            \n",
       "CDELT1  =                -0.02 / [deg] Coordinate increment at reference point  \n",
       "CDELT2  =                 0.02 / [deg] Coordinate increment at reference point  \n",
       "CUNIT1  = 'deg'                / Units of coordinate increment and value        \n",
       "CUNIT2  = 'deg'                / Units of coordinate increment and value        \n",
       "CTYPE1  = 'GLON-CAR'           / galactic longitude, plate caree projection     \n",
       "CTYPE2  = 'GLAT-CAR'           / galactic latitude, plate caree projection      \n",
       "CRVAL1  =                  0.0 / [deg] Coordinate value at reference point      \n",
       "CRVAL2  =                  0.0 / [deg] Coordinate value at reference point      \n",
       "LONPOLE =                  0.0 / [deg] Native longitude of celestial pole       \n",
       "LATPOLE =                 90.0 / [deg] Native latitude of celestial pole        \n",
       "DATEREF = '1858-11-17'         / ISO-8601 fiducial time                         \n",
       "MJDREFI =                  0.0 / [d] MJD of fiducial time, integer part         \n",
       "MJDREFF =                  0.0 / [d] MJD of fiducial time, fractional part      \n",
       "AXCOLS1 = 'E_MIN,E_MAX'                                                         \n",
       "INTERP1 = 'log     '                                                            \n",
       "AXCOLS2 = 'TIME_MIN,TIME_MAX'                                                   \n",
       "INTERP2 = 'lin     '                                                            \n",
       "WCSSHAPE= '(500,250,4,24)'                                                      \n",
       "BANDSHDU= 'PRIMARY_BANDS'                                                       \n",
       "META    = '{}      '                                                            \n",
       "BUNIT   = ''                                                                    "
      ]
     },
     "execution_count": 1,
     "metadata": {},
     "output_type": "execute_result"
    }
   ],
   "source": [
    "hdulist[\"PRIMARY\"].header"
   ]
  },
  {
   "cell_type": "markdown",
   "execution_count": 41,
   "metadata": {},
   "source": [
    "The second HDU is a `BinTableHDU` named `PRIMARY_BANDS` contains the information on the non-spatial axes such as name, order, unit, min, max and center values of the axis bins. We use an `astropy.table.Table` to show the information:"
   ]
  },
  {
   "cell_type": "code",
   "execution_count": 41,
   "metadata": {
    "execution": {
     "iopub.execute_input": "2020-09-16T15:05:43.986345Z",
     "iopub.status.busy": "2020-09-16T15:05:43.982845Z",
     "iopub.status.idle": "2020-09-16T15:05:43.996748Z",
     "shell.execute_reply": "2020-09-16T15:05:43.996198Z"
    }
   },
   "outputs": [
    {
     "data": {
      "text/html": [
       "<i>Table length=96</i>\n",
       "<table id=\"table140384442831704\" class=\"table-striped table-bordered table-condensed\">\n",
       "<thead><tr><th>CHANNEL</th><th>ENERGY</th><th>E_MIN</th><th>E_MAX</th><th>TIME</th><th>TIME_MIN</th><th>TIME_MAX</th></tr></thead>\n",
       "<thead><tr><th></th><th>TeV</th><th>TeV</th><th>TeV</th><th>h</th><th>h</th><th>h</th></tr></thead>\n",
       "<thead><tr><th>int16</th><th>float32</th><th>float32</th><th>float32</th><th>float32</th><th>float32</th><th>float32</th></tr></thead>\n",
       "<tr><td>0</td><td>1.7782794</td><td>1.0</td><td>3.1622777</td><td>0.5</td><td>0.0</td><td>1.0</td></tr>\n",
       "<tr><td>1</td><td>5.623413</td><td>3.1622777</td><td>10.0</td><td>0.5</td><td>0.0</td><td>1.0</td></tr>\n",
       "<tr><td>2</td><td>17.782795</td><td>10.0</td><td>31.622776</td><td>0.5</td><td>0.0</td><td>1.0</td></tr>\n",
       "<tr><td>3</td><td>56.23413</td><td>31.622776</td><td>100.0</td><td>0.5</td><td>0.0</td><td>1.0</td></tr>\n",
       "<tr><td>4</td><td>1.7782794</td><td>1.0</td><td>3.1622777</td><td>1.5</td><td>1.0</td><td>2.0</td></tr>\n",
       "<tr><td>5</td><td>5.623413</td><td>3.1622777</td><td>10.0</td><td>1.5</td><td>1.0</td><td>2.0</td></tr>\n",
       "<tr><td>6</td><td>17.782795</td><td>10.0</td><td>31.622776</td><td>1.5</td><td>1.0</td><td>2.0</td></tr>\n",
       "<tr><td>7</td><td>56.23413</td><td>31.622776</td><td>100.0</td><td>1.5</td><td>1.0</td><td>2.0</td></tr>\n",
       "<tr><td>8</td><td>1.7782794</td><td>1.0</td><td>3.1622777</td><td>2.5</td><td>2.0</td><td>3.0</td></tr>\n",
       "<tr><td>...</td><td>...</td><td>...</td><td>...</td><td>...</td><td>...</td><td>...</td></tr>\n",
       "<tr><td>86</td><td>17.782795</td><td>10.0</td><td>31.622776</td><td>21.5</td><td>21.0</td><td>22.0</td></tr>\n",
       "<tr><td>87</td><td>56.23413</td><td>31.622776</td><td>100.0</td><td>21.5</td><td>21.0</td><td>22.0</td></tr>\n",
       "<tr><td>88</td><td>1.7782794</td><td>1.0</td><td>3.1622777</td><td>22.5</td><td>22.0</td><td>23.0</td></tr>\n",
       "<tr><td>89</td><td>5.623413</td><td>3.1622777</td><td>10.0</td><td>22.5</td><td>22.0</td><td>23.0</td></tr>\n",
       "<tr><td>90</td><td>17.782795</td><td>10.0</td><td>31.622776</td><td>22.5</td><td>22.0</td><td>23.0</td></tr>\n",
       "<tr><td>91</td><td>56.23413</td><td>31.622776</td><td>100.0</td><td>22.5</td><td>22.0</td><td>23.0</td></tr>\n",
       "<tr><td>92</td><td>1.7782794</td><td>1.0</td><td>3.1622777</td><td>23.5</td><td>23.0</td><td>24.0</td></tr>\n",
       "<tr><td>93</td><td>5.623413</td><td>3.1622777</td><td>10.0</td><td>23.5</td><td>23.0</td><td>24.0</td></tr>\n",
       "<tr><td>94</td><td>17.782795</td><td>10.0</td><td>31.622776</td><td>23.5</td><td>23.0</td><td>24.0</td></tr>\n",
       "<tr><td>95</td><td>56.23413</td><td>31.622776</td><td>100.0</td><td>23.5</td><td>23.0</td><td>24.0</td></tr>\n",
       "</table>"
      ],
      "text/plain": [
       "<Table length=96>\n",
       "CHANNEL   ENERGY    E_MIN     E_MAX     TIME  TIME_MIN TIME_MAX\n",
       "           TeV       TeV       TeV       h       h        h    \n",
       " int16   float32   float32   float32  float32 float32  float32 \n",
       "------- --------- --------- --------- ------- -------- --------\n",
       "      0 1.7782794       1.0 3.1622777     0.5      0.0      1.0\n",
       "      1  5.623413 3.1622777      10.0     0.5      0.0      1.0\n",
       "      2 17.782795      10.0 31.622776     0.5      0.0      1.0\n",
       "      3  56.23413 31.622776     100.0     0.5      0.0      1.0\n",
       "      4 1.7782794       1.0 3.1622777     1.5      1.0      2.0\n",
       "      5  5.623413 3.1622777      10.0     1.5      1.0      2.0\n",
       "      6 17.782795      10.0 31.622776     1.5      1.0      2.0\n",
       "      7  56.23413 31.622776     100.0     1.5      1.0      2.0\n",
       "      8 1.7782794       1.0 3.1622777     2.5      2.0      3.0\n",
       "    ...       ...       ...       ...     ...      ...      ...\n",
       "     86 17.782795      10.0 31.622776    21.5     21.0     22.0\n",
       "     87  56.23413 31.622776     100.0    21.5     21.0     22.0\n",
       "     88 1.7782794       1.0 3.1622777    22.5     22.0     23.0\n",
       "     89  5.623413 3.1622777      10.0    22.5     22.0     23.0\n",
       "     90 17.782795      10.0 31.622776    22.5     22.0     23.0\n",
       "     91  56.23413 31.622776     100.0    22.5     22.0     23.0\n",
       "     92 1.7782794       1.0 3.1622777    23.5     23.0     24.0\n",
       "     93  5.623413 3.1622777      10.0    23.5     23.0     24.0\n",
       "     94 17.782795      10.0 31.622776    23.5     23.0     24.0\n",
       "     95  56.23413 31.622776     100.0    23.5     23.0     24.0"
      ]
     },
     "execution_count": 1,
     "metadata": {},
     "output_type": "execute_result"
    }
   ],
   "source": [
    "Table.read(hdulist[\"PRIMARY_BANDS\"])"
   ]
  },
  {
   "cell_type": "markdown",
   "execution_count": 42,
   "metadata": {},
   "source": [
    "## Visualizing and Plotting\n",
    "\n",
    "### Plotting \n",
    "\n",
    "For debugging and inspecting the map data it is useful to plot ot visualize the images planes contained in the map. "
   ]
  },
  {
   "cell_type": "code",
   "execution_count": 42,
   "metadata": {
    "execution": {
     "iopub.execute_input": "2020-09-16T15:05:44.001284Z",
     "iopub.status.busy": "2020-09-16T15:05:44.000686Z",
     "iopub.status.idle": "2020-09-16T15:05:44.013919Z",
     "shell.execute_reply": "2020-09-16T15:05:44.014426Z"
    }
   },
   "outputs": [],
   "source": [
    "filename = \"$GAMMAPY_DATA/fermi-3fhl-gc/fermi-3fhl-gc-counts.fits.gz\"\n",
    "m_3fhl_gc = Map.read(filename)"
   ]
  },
  {
   "cell_type": "markdown",
   "execution_count": 43,
   "metadata": {},
   "source": [
    "After reading the map we can now plot it on the screen by calling the `.plot()` method:"
   ]
  },
  {
   "cell_type": "code",
   "execution_count": 43,
   "metadata": {
    "execution": {
     "iopub.execute_input": "2020-09-16T15:05:44.018938Z",
     "iopub.status.busy": "2020-09-16T15:05:44.018259Z",
     "iopub.status.idle": "2020-09-16T15:05:44.528158Z",
     "shell.execute_reply": "2020-09-16T15:05:44.528969Z"
    }
   },
   "outputs": [
    {
     "data": {
      "text/plain": [
       "(<Figure size 432x288 with 1 Axes>,\n",
       " <WCSAxesSubplot:xlabel='Galactic Longitude', ylabel='Galactic Latitude'>,\n",
       " None)"
      ]
     },
     "execution_count": 1,
     "metadata": {},
     "output_type": "execute_result"
    },
    {
     "data": {
      "image/png": "[encoded data removed]",
      "text/plain": [
       "<Figure size 432x288 with 1 Axes>"
      ]
     },
     "metadata": {
      "needs_background": "light"
     },
     "output_type": "display_data"
    }
   ],
   "source": [
    "m_3fhl_gc.plot();"
   ]
  },
  {
   "cell_type": "markdown",
   "execution_count": 44,
   "metadata": {},
   "source": [
    "We can easily improve the plot by calling `Map.smooth()` first and providing additional arguments to `.plot()`. Most of them are passed further to [plt.imshow()](https://matplotlib.org/api/_as_gen/matplotlib.pyplot.imshow.html):"
   ]
  },
  {
   "cell_type": "code",
   "execution_count": 44,
   "metadata": {
    "execution": {
     "iopub.execute_input": "2020-09-16T15:05:44.534627Z",
     "iopub.status.busy": "2020-09-16T15:05:44.533986Z",
     "iopub.status.idle": "2020-09-16T15:05:45.029772Z",
     "shell.execute_reply": "2020-09-16T15:05:45.029200Z"
    }
   },
   "outputs": [
    {
     "name": "stderr",
     "output_type": "stream",
     "text": [
      "/usr/share/miniconda/envs/gammapy-dev/lib/python3.7/site-packages/astropy/visualization/wcsaxes/core.py:211: MatplotlibDeprecationWarning: Passing parameters norm and vmin/vmax simultaneously is deprecated since 3.3 and will become an error two minor releases later. Please pass vmin/vmax directly to the norm when creating it.\n",
      "  return super().imshow(X, *args, origin=origin, **kwargs)\n"
     ]
    },
    {
     "data": {
      "text/plain": [
       "(<Figure size 432x288 with 2 Axes>,\n",
       " <WCSAxesSubplot:xlabel='Galactic Longitude', ylabel='Galactic Latitude'>,\n",
       " <matplotlib.colorbar.Colorbar at 0x7fadc5452198>)"
      ]
     },
     "execution_count": 1,
     "metadata": {},
     "output_type": "execute_result"
    },
    {
     "data": {
      "image/png": "[encoded data removed]",
      "text/plain": [
       "<Figure size 432x288 with 2 Axes>"
      ]
     },
     "metadata": {
      "needs_background": "light"
     },
     "output_type": "display_data"
    }
   ],
   "source": [
    "smoothed = m_3fhl_gc.smooth(width=0.2 * u.deg, kernel=\"gauss\")\n",
    "smoothed.plot(stretch=\"sqrt\", add_cbar=True, vmax=4, cmap=\"inferno\");"
   ]
  },
  {
   "cell_type": "markdown",
   "execution_count": 45,
   "metadata": {},
   "source": [
    "We can use the [plt.rc_context()](https://matplotlib.org/api/_as_gen/matplotlib.pyplot.rc_context.html) context manager to further tweak the plot by adapting the figure and font size:"
   ]
  },
  {
   "cell_type": "code",
   "execution_count": 45,
   "metadata": {
    "execution": {
     "iopub.execute_input": "2020-09-16T15:05:45.036978Z",
     "iopub.status.busy": "2020-09-16T15:05:45.036379Z",
     "iopub.status.idle": "2020-09-16T15:05:45.562389Z",
     "shell.execute_reply": "2020-09-16T15:05:45.562859Z"
    }
   },
   "outputs": [
    {
     "name": "stderr",
     "output_type": "stream",
     "text": [
      "/usr/share/miniconda/envs/gammapy-dev/lib/python3.7/site-packages/astropy/visualization/wcsaxes/core.py:211: MatplotlibDeprecationWarning: Passing parameters norm and vmin/vmax simultaneously is deprecated since 3.3 and will become an error two minor releases later. Please pass vmin/vmax directly to the norm when creating it.\n",
      "  return super().imshow(X, *args, origin=origin, **kwargs)\n"
     ]
    },
    {
     "data": {
      "image/png": "[encoded data removed]",
      "text/plain": [
       "<Figure size 864x388.8 with 2 Axes>"
      ]
     },
     "metadata": {
      "needs_background": "light"
     },
     "output_type": "display_data"
    }
   ],
   "source": [
    "rc_params = {\"figure.figsize\": (12, 5.4), \"font.size\": 12}\n",
    "with plt.rc_context(rc=rc_params):\n",
    "    smoothed = m_3fhl_gc.smooth(width=0.2 * u.deg, kernel=\"gauss\")\n",
    "    smoothed.plot(stretch=\"sqrt\", add_cbar=True, vmax=4);"
   ]
  },
  {
   "cell_type": "markdown",
   "execution_count": 46,
   "metadata": {},
   "source": [
    "### Interactive Plotting \n",
    "\n",
    "For maps with non-spatial dimensions the `Map` object features an interactive plotting method, that works in jupyter notebooks only (Note: it requires the package `ipywidgets` to be installed). We first read a small example cutout from the Fermi Galactic diffuse model and display the data cube by calling `.plot_interactive()`:"
   ]
  },
  {
   "cell_type": "code",
   "execution_count": 46,
   "metadata": {
    "execution": {
     "iopub.execute_input": "2020-09-16T15:05:45.567729Z",
     "iopub.status.busy": "2020-09-16T15:05:45.567185Z",
     "iopub.status.idle": "2020-09-16T15:05:45.935999Z",
     "shell.execute_reply": "2020-09-16T15:05:45.936732Z"
    }
   },
   "outputs": [
    {
     "name": "stderr",
     "output_type": "stream",
     "text": [
      "WARNING: FITSFixedWarning: 'datfix' made the change 'Set DATE-REF to '1858-11-17' from MJD-REF'. [astropy.wcs.wcs]\n"
     ]
    },
    {
     "data": {
      "application/vnd.jupyter.widget-view+json": {
       "model_id": "e0d2c92ea6744c0b9dba5bd5908703d2",
       "version_major": 2,
       "version_minor": 0
      },
      "text/plain": [
       "interactive(children=(SelectionSlider(continuous_update=False, description='Select energy_true:', layout=Layou…"
      ]
     },
     "metadata": {},
     "output_type": "display_data"
    }
   ],
   "source": [
    "filename = \"$GAMMAPY_DATA/fermi-3fhl-gc/gll_iem_v06_gc.fits.gz\"\n",
    "m_iem_gc = Map.read(filename)\n",
    "\n",
    "rc_params = {\n",
    "    \"figure.figsize\": (12, 5.4),\n",
    "    \"font.size\": 12,\n",
    "    \"axes.formatter.limits\": (2, -2),\n",
    "}\n",
    "m_iem_gc.plot_interactive(add_cbar=True, stretch=\"sqrt\", rc_params=rc_params)"
   ]
  },
  {
   "cell_type": "markdown",
   "execution_count": 47,
   "metadata": {},
   "source": [
    "Now you can use the interactive slider to select an energy range and the corresponding image is diplayed on the screen. You can also use the radio buttons to select your preferred image stretching. We have passed additional keywords using the `rc_params` argument to improve the figure and font size. Those keywords are directly passed to the [plt.rc_context()](https://matplotlib.org/api/_as_gen/matplotlib.pyplot.rc_context.html) context manager."
   ]
  },
  {
   "cell_type": "markdown",
   "execution_count": 47,
   "metadata": {},
   "source": [
    "##  Interpolating and Miscellaneous\n",
    "\n",
    "### Interpolating Map Values\n",
    "\n",
    "While for the reprojection example above we used `.get_image_by_coord()` to extract the closest image to `~10 GeV`, we can use the more general method `.interp_by_coord()` to interpolate in the energy axis as well. For this we first define again the target map geometry:"
   ]
  },
  {
   "cell_type": "code",
   "execution_count": 47,
   "metadata": {
    "execution": {
     "iopub.execute_input": "2020-09-16T15:05:45.944337Z",
     "iopub.status.busy": "2020-09-16T15:05:45.943221Z",
     "iopub.status.idle": "2020-09-16T15:05:45.951422Z",
     "shell.execute_reply": "2020-09-16T15:05:45.952174Z"
    }
   },
   "outputs": [],
   "source": [
    "skydir = SkyCoord(266.4, -28.9, frame=\"icrs\", unit=\"deg\")\n",
    "wcs_geom_cel = WcsGeom.create(\n",
    "    skydir=skydir, binsz=0.1, frame=\"icrs\", width=(8, 4)\n",
    ")"
   ]
  },
  {
   "cell_type": "code",
   "execution_count": 48,
   "metadata": {
    "execution": {
     "iopub.execute_input": "2020-09-16T15:05:45.955471Z",
     "iopub.status.busy": "2020-09-16T15:05:45.954416Z",
     "iopub.status.idle": "2020-09-16T15:05:46.533506Z",
     "shell.execute_reply": "2020-09-16T15:05:46.533004Z"
    }
   },
   "outputs": [
    {
     "name": "stderr",
     "output_type": "stream",
     "text": [
      "/usr/share/miniconda/envs/gammapy-dev/lib/python3.7/site-packages/astropy/visualization/wcsaxes/core.py:211: MatplotlibDeprecationWarning: Passing parameters norm and vmin/vmax simultaneously is deprecated since 3.3 and will become an error two minor releases later. Please pass vmin/vmax directly to the norm when creating it.\n",
      "  return super().imshow(X, *args, origin=origin, **kwargs)\n"
     ]
    },
    {
     "data": {
      "text/plain": [
       "(<Figure size 432x288 with 2 Axes>,\n",
       " <WCSAxesSubplot:xlabel='Right Ascension', ylabel='Declination'>,\n",
       " <matplotlib.colorbar.Colorbar at 0x7fadc3913ba8>)"
      ]
     },
     "execution_count": 1,
     "metadata": {},
     "output_type": "execute_result"
    },
    {
     "data": {
      "image/png": "[encoded data removed]",
      "text/plain": [
       "<Figure size 432x288 with 2 Axes>"
      ]
     },
     "metadata": {
      "needs_background": "light"
     },
     "output_type": "display_data"
    }
   ],
   "source": [
    "m_iem_10GeV = Map.from_geom(wcs_geom_cel)\n",
    "coords = m_iem_10GeV.geom.get_coord()\n",
    "\n",
    "m_iem_10GeV.data = m_iem_gc.interp_by_coord(\n",
    "    {\"skycoord\": coords.skycoord, \"energy_true\": 10 * u.GeV},\n",
    "    interp=\"linear\",\n",
    "    fill_value=np.nan,\n",
    ")\n",
    "m_iem_10GeV.plot(add_cbar=True, vmin=0, vmax=2.5e-9);"
   ]
  },
  {
   "cell_type": "markdown",
   "execution_count": 49,
   "metadata": {},
   "source": [
    "### Making Cutouts\n",
    "\n",
    "The `WCSNDMap` objects features a `.cutout()` method, which allows you to cut out a smaller part of a larger map. This can be useful, e.g. when working with allsky diffuse maps. Here is an example: "
   ]
  },
  {
   "cell_type": "code",
   "execution_count": 49,
   "metadata": {
    "execution": {
     "iopub.execute_input": "2020-09-16T15:05:46.541435Z",
     "iopub.status.busy": "2020-09-16T15:05:46.540852Z",
     "iopub.status.idle": "2020-09-16T15:05:47.070685Z",
     "shell.execute_reply": "2020-09-16T15:05:47.071346Z"
    }
   },
   "outputs": [
    {
     "data": {
      "application/vnd.jupyter.widget-view+json": {
       "model_id": "8509f5003ddb46deaf7ea3539a3cfa77",
       "version_major": 2,
       "version_minor": 0
      },
      "text/plain": [
       "interactive(children=(SelectionSlider(continuous_update=False, description='Select energy_true:', layout=Layou…"
      ]
     },
     "metadata": {},
     "output_type": "display_data"
    }
   ],
   "source": [
    "position = SkyCoord(0, 0, frame=\"galactic\", unit=\"deg\")\n",
    "m_iem_cutout = m_iem_gc.cutout(position=position, width=(4 * u.deg, 2 * u.deg))\n",
    "\n",
    "rc_params = {\n",
    "    \"figure.figsize\": (12, 5.4),\n",
    "    \"font.size\": 12,\n",
    "    \"axes.formatter.limits\": (2, -2),\n",
    "}\n",
    "m_iem_cutout.plot_interactive(\n",
    "    add_cbar=True, rc_params=rc_params, stretch=\"linear\"\n",
    ")"
   ]
  },
  {
   "cell_type": "markdown",
   "execution_count": 50,
   "metadata": {},
   "source": [
    "The returned object is again a `Map` object with udpated WCS information and data size. As one can see the cutout is automatically applied to all the non-spatial axes as well. The cutout width is given in the order of `(lon, lat)` and can be specified with units that will be handled correctly. "
   ]
  },
  {
   "cell_type": "code",
   "execution_count": 50,
   "metadata": {},
   "outputs": [],
   "source": []
  }
 ],
 "metadata": {
  "kernelspec": {
   "display_name": "Python 3",
   "language": "python",
   "name": "python3"
  },
  "language_info": {
   "codemirror_mode": {
    "name": "ipython",
    "version": 3
   },
   "file_extension": ".py",
   "mimetype": "text/x-python",
   "name": "python",
   "nbconvert_exporter": "python",
   "pygments_lexer": "ipython3",
   "version": "3.7.0"
  },
  "nbsphinx": {
   "orphan": true
  },
  "widgets": {
   "application/vnd.jupyter.widget-state+json": {
    "state": {
     "14d2b9f8a64f444f9b672eb38d172c71": {
      "model_module": "@jupyter-widgets/output",
      "model_module_version": "1.0.0",
      "model_name": "OutputModel",
      "state": {
       "_dom_classes": [],
       "_model_module": "@jupyter-widgets/output",
       "_model_module_version": "1.0.0",
       "_model_name": "OutputModel",
       "_view_count": null,
       "_view_module": "@jupyter-widgets/output",
       "_view_module_version": "1.0.0",
       "_view_name": "OutputView",
       "layout": "IPY_MODEL_75d3e5a1d9fb4cfa895534bbf935e885",
       "msg_id": "",
       "outputs": [
        {
         "data": {
          "image/png": "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\n",
          "text/plain": "<Figure size 864x388.8 with 2 Axes>"
         },
         "metadata": {
          "needs_background": "light"
         },
         "output_type": "display_data"
        }
       ]
      }
     },
     "516dea53c7e94700a425aee5941e7640": {
      "model_module": "@jupyter-widgets/controls",
      "model_module_version": "1.5.0",
      "model_name": "DescriptionStyleModel",
      "state": {
       "_model_module": "@jupyter-widgets/controls",
       "_model_module_version": "1.5.0",
       "_model_name": "DescriptionStyleModel",
       "_view_count": null,
       "_view_module": "@jupyter-widgets/base",
       "_view_module_version": "1.2.0",
       "_view_name": "StyleView",
       "description_width": "initial"
      }
     },
     "5d5a210848a44084acffb9457860c6d8": {
      "model_module": "@jupyter-widgets/controls",
      "model_module_version": "1.5.0",
      "model_name": "RadioButtonsModel",
      "state": {
       "_dom_classes": [],
       "_model_module": "@jupyter-widgets/controls",
       "_model_module_version": "1.5.0",
       "_model_name": "RadioButtonsModel",
       "_options_labels": [
        "linear",
        "sqrt",
        "log"
       ],
       "_view_count": null,
       "_view_module": "@jupyter-widgets/controls",
       "_view_module_version": "1.5.0",
       "_view_name": "RadioButtonsView",
       "description": "Select stretch:",
       "description_tooltip": null,
       "disabled": false,
       "index": 1,
       "layout": "IPY_MODEL_8974dac58d9a4a378fd01d450844139c",
       "style": "IPY_MODEL_e76927fc3a454a7395c1794e158eb571"
      }
     },
     "6a5e47772c7145d8a50cafc41d9d9a5a": {
      "model_module": "@jupyter-widgets/base",
      "model_module_version": "1.2.0",
      "model_name": "LayoutModel",
      "state": {
       "_model_module": "@jupyter-widgets/base",
       "_model_module_version": "1.2.0",
       "_model_name": "LayoutModel",
       "_view_count": null,
       "_view_module": "@jupyter-widgets/base",
       "_view_module_version": "1.2.0",
       "_view_name": "LayoutView",
       "align_content": null,
       "align_items": null,
       "align_self": null,
       "border": null,
       "bottom": null,
       "display": null,
       "flex": null,
       "flex_flow": null,
       "grid_area": null,
       "grid_auto_columns": null,
       "grid_auto_flow": null,
       "grid_auto_rows": null,
       "grid_column": null,
       "grid_gap": null,
       "grid_row": null,
       "grid_template_areas": null,
       "grid_template_columns": null,
       "grid_template_rows": null,
       "height": null,
       "justify_content": null,
       "justify_items": null,
       "left": null,
       "margin": null,
       "max_height": null,
       "max_width": null,
       "min_height": null,
       "min_width": null,
       "object_fit": null,
       "object_position": null,
       "order": null,
       "overflow": null,
       "overflow_x": null,
       "overflow_y": null,
       "padding": null,
       "right": null,
       "top": null,
       "visibility": null,
       "width": null
      }
     },
     "6e79a3c960154ebc98339bc022fe9988": {
      "model_module": "@jupyter-widgets/base",
      "model_module_version": "1.2.0",
      "model_name": "LayoutModel",
      "state": {
       "_model_module": "@jupyter-widgets/base",
       "_model_module_version": "1.2.0",
       "_model_name": "LayoutModel",
       "_view_count": null,
       "_view_module": "@jupyter-widgets/base",
       "_view_module_version": "1.2.0",
       "_view_name": "LayoutView",
       "align_content": null,
       "align_items": null,
       "align_self": null,
       "border": null,
       "bottom": null,
       "display": null,
       "flex": null,
       "flex_flow": null,
       "grid_area": null,
       "grid_auto_columns": null,
       "grid_auto_flow": null,
       "grid_auto_rows": null,
       "grid_column": null,
       "grid_gap": null,
       "grid_row": null,
       "grid_template_areas": null,
       "grid_template_columns": null,
       "grid_template_rows": null,
       "height": null,
       "justify_content": null,
       "justify_items": null,
       "left": null,
       "margin": null,
       "max_height": null,
       "max_width": null,
       "min_height": null,
       "min_width": null,
       "object_fit": null,
       "object_position": null,
       "order": null,
       "overflow": null,
       "overflow_x": null,
       "overflow_y": null,
       "padding": null,
       "right": null,
       "top": null,
       "visibility": null,
       "width": null
      }
     },
     "75d3e5a1d9fb4cfa895534bbf935e885": {
      "model_module": "@jupyter-widgets/base",
      "model_module_version": "1.2.0",
      "model_name": "LayoutModel",
      "state": {
       "_model_module": "@jupyter-widgets/base",
       "_model_module_version": "1.2.0",
       "_model_name": "LayoutModel",
       "_view_count": null,
       "_view_module": "@jupyter-widgets/base",
       "_view_module_version": "1.2.0",
       "_view_name": "LayoutView",
       "align_content": null,
       "align_items": null,
       "align_self": null,
       "border": null,
       "bottom": null,
       "display": null,
       "flex": null,
       "flex_flow": null,
       "grid_area": null,
       "grid_auto_columns": null,
       "grid_auto_flow": null,
       "grid_auto_rows": null,
       "grid_column": null,
       "grid_gap": null,
       "grid_row": null,
       "grid_template_areas": null,
       "grid_template_columns": null,
       "grid_template_rows": null,
       "height": null,
       "justify_content": null,
       "justify_items": null,
       "left": null,
       "margin": null,
       "max_height": null,
       "max_width": null,
       "min_height": null,
       "min_width": null,
       "object_fit": null,
       "object_position": null,
       "order": null,
       "overflow": null,
       "overflow_x": null,
       "overflow_y": null,
       "padding": null,
       "right": null,
       "top": null,
       "visibility": null,
       "width": null
      }
     },
     "8509f5003ddb46deaf7ea3539a3cfa77": {
      "model_module": "@jupyter-widgets/controls",
      "model_module_version": "1.5.0",
      "model_name": "VBoxModel",
      "state": {
       "_dom_classes": [
        "widget-interact"
       ],
       "_model_module": "@jupyter-widgets/controls",
       "_model_module_version": "1.5.0",
       "_model_name": "VBoxModel",
       "_view_count": null,
       "_view_module": "@jupyter-widgets/controls",
       "_view_module_version": "1.5.0",
       "_view_name": "VBoxView",
       "box_style": "",
       "children": [
        "IPY_MODEL_cb2cca961e584bc690fc467ec4075a83",
        "IPY_MODEL_f544854982764299a91f756f1d2353d0",
        "IPY_MODEL_14d2b9f8a64f444f9b672eb38d172c71"
       ],
       "layout": "IPY_MODEL_6e79a3c960154ebc98339bc022fe9988"
      }
     },
     "8974dac58d9a4a378fd01d450844139c": {
      "model_module": "@jupyter-widgets/base",
      "model_module_version": "1.2.0",
      "model_name": "LayoutModel",
      "state": {
       "_model_module": "@jupyter-widgets/base",
       "_model_module_version": "1.2.0",
       "_model_name": "LayoutModel",
       "_view_count": null,
       "_view_module": "@jupyter-widgets/base",
       "_view_module_version": "1.2.0",
       "_view_name": "LayoutView",
       "align_content": null,
       "align_items": null,
       "align_self": null,
       "border": null,
       "bottom": null,
       "display": null,
       "flex": null,
       "flex_flow": null,
       "grid_area": null,
       "grid_auto_columns": null,
       "grid_auto_flow": null,
       "grid_auto_rows": null,
       "grid_column": null,
       "grid_gap": null,
       "grid_row": null,
       "grid_template_areas": null,
       "grid_template_columns": null,
       "grid_template_rows": null,
       "height": null,
       "justify_content": null,
       "justify_items": null,
       "left": null,
       "margin": null,
       "max_height": null,
       "max_width": null,
       "min_height": null,
       "min_width": null,
       "object_fit": null,
       "object_position": null,
       "order": null,
       "overflow": null,
       "overflow_x": null,
       "overflow_y": null,
       "padding": null,
       "right": null,
       "top": null,
       "visibility": null,
       "width": null
      }
     },
     "91f09a6ea694477ebf1ae473c73e8625": {
      "model_module": "@jupyter-widgets/base",
      "model_module_version": "1.2.0",
      "model_name": "LayoutModel",
      "state": {
       "_model_module": "@jupyter-widgets/base",
       "_model_module_version": "1.2.0",
       "_model_name": "LayoutModel",
       "_view_count": null,
       "_view_module": "@jupyter-widgets/base",
       "_view_module_version": "1.2.0",
       "_view_name": "LayoutView",
       "align_content": null,
       "align_items": null,
       "align_self": null,
       "border": null,
       "bottom": null,
       "display": null,
       "flex": null,
       "flex_flow": null,
       "grid_area": null,
       "grid_auto_columns": null,
       "grid_auto_flow": null,
       "grid_auto_rows": null,
       "grid_column": null,
       "grid_gap": null,
       "grid_row": null,
       "grid_template_areas": null,
       "grid_template_columns": null,
       "grid_template_rows": null,
       "height": null,
       "justify_content": null,
       "justify_items": null,
       "left": null,
       "margin": null,
       "max_height": null,
       "max_width": null,
       "min_height": null,
       "min_width": null,
       "object_fit": null,
       "object_position": null,
       "order": null,
       "overflow": null,
       "overflow_x": null,
       "overflow_y": null,
       "padding": null,
       "right": null,
       "top": null,
       "visibility": null,
       "width": null
      }
     },
     "abb17e60455249fd93e4f3a1329d810f": {
      "model_module": "@jupyter-widgets/controls",
      "model_module_version": "1.5.0",
      "model_name": "DescriptionStyleModel",
      "state": {
       "_model_module": "@jupyter-widgets/controls",
       "_model_module_version": "1.5.0",
       "_model_name": "DescriptionStyleModel",
       "_view_count": null,
       "_view_module": "@jupyter-widgets/base",
       "_view_module_version": "1.2.0",
       "_view_name": "StyleView",
       "description_width": "initial"
      }
     },
     "b8568173404c4bfe8d7f806360bfa8e2": {
      "model_module": "@jupyter-widgets/base",
      "model_module_version": "1.2.0",
      "model_name": "LayoutModel",
      "state": {
       "_model_module": "@jupyter-widgets/base",
       "_model_module_version": "1.2.0",
       "_model_name": "LayoutModel",
       "_view_count": null,
       "_view_module": "@jupyter-widgets/base",
       "_view_module_version": "1.2.0",
       "_view_name": "LayoutView",
       "align_content": null,
       "align_items": null,
       "align_self": null,
       "border": null,
       "bottom": null,
       "display": null,
       "flex": null,
       "flex_flow": null,
       "grid_area": null,
       "grid_auto_columns": null,
       "grid_auto_flow": null,
       "grid_auto_rows": null,
       "grid_column": null,
       "grid_gap": null,
       "grid_row": null,
       "grid_template_areas": null,
       "grid_template_columns": null,
       "grid_template_rows": null,
       "height": null,
       "justify_content": null,
       "justify_items": null,
       "left": null,
       "margin": null,
       "max_height": null,
       "max_width": null,
       "min_height": null,
       "min_width": null,
       "object_fit": null,
       "object_position": null,
       "order": null,
       "overflow": null,
       "overflow_x": null,
       "overflow_y": null,
       "padding": null,
       "right": null,
       "top": null,
       "visibility": null,
       "width": null
      }
     },
     "b9477a8dd2d54f2f8a23ff6e98e149b5": {
      "model_module": "@jupyter-widgets/base",
      "model_module_version": "1.2.0",
      "model_name": "LayoutModel",
      "state": {
       "_model_module": "@jupyter-widgets/base",
       "_model_module_version": "1.2.0",
       "_model_name": "LayoutModel",
       "_view_count": null,
       "_view_module": "@jupyter-widgets/base",
       "_view_module_version": "1.2.0",
       "_view_name": "LayoutView",
       "align_content": null,
       "align_items": null,
       "align_self": null,
       "border": null,
       "bottom": null,
       "display": null,
       "flex": null,
       "flex_flow": null,
       "grid_area": null,
       "grid_auto_columns": null,
       "grid_auto_flow": null,
       "grid_auto_rows": null,
       "grid_column": null,
       "grid_gap": null,
       "grid_row": null,
       "grid_template_areas": null,
       "grid_template_columns": null,
       "grid_template_rows": null,
       "height": null,
       "justify_content": null,
       "justify_items": null,
       "left": null,
       "margin": null,
       "max_height": null,
       "max_width": null,
       "min_height": null,
       "min_width": null,
       "object_fit": null,
       "object_position": null,
       "order": null,
       "overflow": null,
       "overflow_x": null,
       "overflow_y": null,
       "padding": null,
       "right": null,
       "top": null,
       "visibility": null,
       "width": "50%"
      }
     },
     "c4507ffa240a47909fd01c0f3b1bd1e9": {
      "model_module": "@jupyter-widgets/controls",
      "model_module_version": "1.5.0",
      "model_name": "SelectionSliderModel",
      "state": {
       "_dom_classes": [],
       "_model_module": "@jupyter-widgets/controls",
       "_model_module_version": "1.5.0",
       "_model_name": "SelectionSliderModel",
       "_options_labels": [
        "5.85e+01 MeV MeV",
        "8.00e+01 MeV MeV",
        "1.09e+02 MeV MeV",
        "1.50e+02 MeV MeV",
        "2.05e+02 MeV MeV",
        "2.80e+02 MeV MeV",
        "3.83e+02 MeV MeV",
        "5.23e+02 MeV MeV",
        "7.16e+02 MeV MeV",
        "9.79e+02 MeV MeV",
        "1.34e+03 MeV MeV",
        "1.83e+03 MeV MeV",
        "2.50e+03 MeV MeV",
        "3.42e+03 MeV MeV",
        "4.68e+03 MeV MeV",
        "6.41e+03 MeV MeV",
        "8.76e+03 MeV MeV",
        "1.20e+04 MeV MeV",
        "1.64e+04 MeV MeV",
        "2.24e+04 MeV MeV",
        "3.06e+04 MeV MeV",
        "4.19e+04 MeV MeV",
        "5.73e+04 MeV MeV",
        "7.84e+04 MeV MeV",
        "1.07e+05 MeV MeV",
        "1.47e+05 MeV MeV",
        "2.01e+05 MeV MeV",
        "2.74e+05 MeV MeV",
        "3.75e+05 MeV MeV",
        "5.13e+05 MeV MeV"
       ],
       "_view_count": null,
       "_view_module": "@jupyter-widgets/controls",
       "_view_module_version": "1.5.0",
       "_view_name": "SelectionSliderView",
       "continuous_update": false,
       "description": "Select energy_true:",
       "description_tooltip": null,
       "disabled": false,
       "index": 0,
       "layout": "IPY_MODEL_ee554de979534039a9776b679a013950",
       "orientation": "horizontal",
       "readout": true,
       "style": "IPY_MODEL_f4bf98a4be5344a3803a260ca79aa1aa"
      }
     },
     "cb2cca961e584bc690fc467ec4075a83": {
      "model_module": "@jupyter-widgets/controls",
      "model_module_version": "1.5.0",
      "model_name": "SelectionSliderModel",
      "state": {
       "_dom_classes": [],
       "_model_module": "@jupyter-widgets/controls",
       "_model_module_version": "1.5.0",
       "_model_name": "SelectionSliderModel",
       "_options_labels": [
        "5.85e+01 MeV MeV",
        "8.00e+01 MeV MeV",
        "1.09e+02 MeV MeV",
        "1.50e+02 MeV MeV",
        "2.05e+02 MeV MeV",
        "2.80e+02 MeV MeV",
        "3.83e+02 MeV MeV",
        "5.23e+02 MeV MeV",
        "7.16e+02 MeV MeV",
        "9.79e+02 MeV MeV",
        "1.34e+03 MeV MeV",
        "1.83e+03 MeV MeV",
        "2.50e+03 MeV MeV",
        "3.42e+03 MeV MeV",
        "4.68e+03 MeV MeV",
        "6.41e+03 MeV MeV",
        "8.76e+03 MeV MeV",
        "1.20e+04 MeV MeV",
        "1.64e+04 MeV MeV",
        "2.24e+04 MeV MeV",
        "3.06e+04 MeV MeV",
        "4.19e+04 MeV MeV",
        "5.73e+04 MeV MeV",
        "7.84e+04 MeV MeV",
        "1.07e+05 MeV MeV",
        "1.47e+05 MeV MeV",
        "2.01e+05 MeV MeV",
        "2.74e+05 MeV MeV",
        "3.75e+05 MeV MeV",
        "5.13e+05 MeV MeV"
       ],
       "_view_count": null,
       "_view_module": "@jupyter-widgets/controls",
       "_view_module_version": "1.5.0",
       "_view_name": "SelectionSliderView",
       "continuous_update": false,
       "description": "Select energy_true:",
       "description_tooltip": null,
       "disabled": false,
       "index": 0,
       "layout": "IPY_MODEL_b9477a8dd2d54f2f8a23ff6e98e149b5",
       "orientation": "horizontal",
       "readout": true,
       "style": "IPY_MODEL_516dea53c7e94700a425aee5941e7640"
      }
     },
     "e0d2c92ea6744c0b9dba5bd5908703d2": {
      "model_module": "@jupyter-widgets/controls",
      "model_module_version": "1.5.0",
      "model_name": "VBoxModel",
      "state": {
       "_dom_classes": [
        "widget-interact"
       ],
       "_model_module": "@jupyter-widgets/controls",
       "_model_module_version": "1.5.0",
       "_model_name": "VBoxModel",
       "_view_count": null,
       "_view_module": "@jupyter-widgets/controls",
       "_view_module_version": "1.5.0",
       "_view_name": "VBoxView",
       "box_style": "",
       "children": [
        "IPY_MODEL_c4507ffa240a47909fd01c0f3b1bd1e9",
        "IPY_MODEL_5d5a210848a44084acffb9457860c6d8",
        "IPY_MODEL_e3557fd7fb72456daca7847ff1235591"
       ],
       "layout": "IPY_MODEL_91f09a6ea694477ebf1ae473c73e8625"
      }
     },
     "e3557fd7fb72456daca7847ff1235591": {
      "model_module": "@jupyter-widgets/output",
      "model_module_version": "1.0.0",
      "model_name": "OutputModel",
      "state": {
       "_dom_classes": [],
       "_model_module": "@jupyter-widgets/output",
       "_model_module_version": "1.0.0",
       "_model_name": "OutputModel",
       "_view_count": null,
       "_view_module": "@jupyter-widgets/output",
       "_view_module_version": "1.0.0",
       "_view_name": "OutputView",
       "layout": "IPY_MODEL_6a5e47772c7145d8a50cafc41d9d9a5a",
       "msg_id": "",
       "outputs": [
        {
         "data": {
          "image/png": "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\n",
          "text/plain": "<Figure size 864x388.8 with 2 Axes>"
         },
         "metadata": {
          "needs_background": "light"
         },
         "output_type": "display_data"
        }
       ]
      }
     },
     "e76927fc3a454a7395c1794e158eb571": {
      "model_module": "@jupyter-widgets/controls",
      "model_module_version": "1.5.0",
      "model_name": "DescriptionStyleModel",
      "state": {
       "_model_module": "@jupyter-widgets/controls",
       "_model_module_version": "1.5.0",
       "_model_name": "DescriptionStyleModel",
       "_view_count": null,
       "_view_module": "@jupyter-widgets/base",
       "_view_module_version": "1.2.0",
       "_view_name": "StyleView",
       "description_width": "initial"
      }
     },
     "ee554de979534039a9776b679a013950": {
      "model_module": "@jupyter-widgets/base",
      "model_module_version": "1.2.0",
      "model_name": "LayoutModel",
      "state": {
       "_model_module": "@jupyter-widgets/base",
       "_model_module_version": "1.2.0",
       "_model_name": "LayoutModel",
       "_view_count": null,
       "_view_module": "@jupyter-widgets/base",
       "_view_module_version": "1.2.0",
       "_view_name": "LayoutView",
       "align_content": null,
       "align_items": null,
       "align_self": null,
       "border": null,
       "bottom": null,
       "display": null,
       "flex": null,
       "flex_flow": null,
       "grid_area": null,
       "grid_auto_columns": null,
       "grid_auto_flow": null,
       "grid_auto_rows": null,
       "grid_column": null,
       "grid_gap": null,
       "grid_row": null,
       "grid_template_areas": null,
       "grid_template_columns": null,
       "grid_template_rows": null,
       "height": null,
       "justify_content": null,
       "justify_items": null,
       "left": null,
       "margin": null,
       "max_height": null,
       "max_width": null,
       "min_height": null,
       "min_width": null,
       "object_fit": null,
       "object_position": null,
       "order": null,
       "overflow": null,
       "overflow_x": null,
       "overflow_y": null,
       "padding": null,
       "right": null,
       "top": null,
       "visibility": null,
       "width": "50%"
      }
     },
     "f4bf98a4be5344a3803a260ca79aa1aa": {
      "model_module": "@jupyter-widgets/controls",
      "model_module_version": "1.5.0",
      "model_name": "DescriptionStyleModel",
      "state": {
       "_model_module": "@jupyter-widgets/controls",
       "_model_module_version": "1.5.0",
       "_model_name": "DescriptionStyleModel",
       "_view_count": null,
       "_view_module": "@jupyter-widgets/base",
       "_view_module_version": "1.2.0",
       "_view_name": "StyleView",
       "description_width": "initial"
      }
     },
     "f544854982764299a91f756f1d2353d0": {
      "model_module": "@jupyter-widgets/controls",
      "model_module_version": "1.5.0",
      "model_name": "RadioButtonsModel",
      "state": {
       "_dom_classes": [],
       "_model_module": "@jupyter-widgets/controls",
       "_model_module_version": "1.5.0",
       "_model_name": "RadioButtonsModel",
       "_options_labels": [
        "linear",
        "sqrt",
        "log"
       ],
       "_view_count": null,
       "_view_module": "@jupyter-widgets/controls",
       "_view_module_version": "1.5.0",
       "_view_name": "RadioButtonsView",
       "description": "Select stretch:",
       "description_tooltip": null,
       "disabled": false,
       "index": 0,
       "layout": "IPY_MODEL_b8568173404c4bfe8d7f806360bfa8e2",
       "style": "IPY_MODEL_abb17e60455249fd93e4f3a1329d810f"
      }
     }
    },
    "version_major": 2,
    "version_minor": 0
   }
  }
 },
 "nbformat": 4,
 "nbformat_minor": 2
}
