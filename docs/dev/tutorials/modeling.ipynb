{
 "cells": [
  {
   "cell_type": "markdown",
   "id": "charitable-hunter",
   "metadata": {},
   "source": [
    "\n",
    "<div class=\"alert alert-info\">\n",
    "\n",
    "**This is a fixed-text formatted version of a Jupyter notebook**\n",
    "\n",
    "- Try online [![Binder](https://static.mybinder.org/badge.svg)](https://mybinder.org/v2/gh/gammapy/gammapy-webpage/master?urlpath=lab/tree/modeling.ipynb)\n",
    "- You can contribute with your own notebooks in this\n",
    "[GitHub repository](https://github.com/gammapy/gammapy/tree/master/docs/tutorials).\n",
    "- **Source files:**\n",
    "[modeling.ipynb](../_static/notebooks/modeling.ipynb) |\n",
    "[modeling.py](../_static/notebooks/modeling.py)\n",
    "</div>\n"
   ]
  },
  {
   "cell_type": "markdown",
   "metadata": {},
   "source": [
    "# Modeling and fitting\n",
    "\n",
    "\n",
    "## Prerequisites\n",
    "\n",
    "- Knowledge of spectral analysis to produce 1D On-Off datasets, [see the following tutorial](spectrum_analysis.ipynb)\n",
    "- Reading of pre-computed datasets [see the MWL tutorial](analysis_mwl.ipynb)\n",
    "- General knowledge on statistics and optimization methods\n",
    "\n",
    "## Proposed approach\n",
    "\n",
    "This is a hands-on tutorial to `~gammapy.modeling`, showing how the model, dataset and fit classes work together. As an example we are going to work with HESS data of the Crab Nebula and show in particular how to :\n",
    "- perform a spectral analysis\n",
    "- use different fitting backends\n",
    "- access covariance matrix information and parameter errors\n",
    "- compute likelihood profile\n",
    "- compute confidence contours\n",
    "\n",
    "See also: [Models gallery tutorial](models.ipynb) and `docs/modeling/index.rst`.\n",
    "\n",
    "\n",
    "## The setup"
   ]
  },
  {
   "cell_type": "code",
   "execution_count": 1,
   "metadata": {
    "execution": {
     "iopub.execute_input": "2021-01-23T17:56:29.035327Z",
     "iopub.status.busy": "2021-01-23T17:56:29.034783Z",
     "iopub.status.idle": "2021-01-23T17:56:30.130812Z",
     "shell.execute_reply": "2021-01-23T17:56:30.130241Z"
    }
   },
   "outputs": [],
   "source": [
    "import numpy as np\n",
    "from astropy import units as u\n",
    "import matplotlib.pyplot as plt\n",
    "import scipy.stats as st\n",
    "from gammapy.modeling import Fit\n",
    "from gammapy.datasets import Datasets, SpectrumDatasetOnOff\n",
    "from gammapy.modeling.models import LogParabolaSpectralModel, SkyModel\n",
    "from gammapy.visualization.utils import plot_contour_line\n",
    "from itertools import combinations"
   ]
  },
  {
   "cell_type": "markdown",
   "metadata": {},
   "source": [
    "## Model and dataset\n",
    "\n",
    "First we define the source model, here we need only a spectral model for which we choose a log-parabola"
   ]
  },
  {
   "cell_type": "code",
   "execution_count": 2,
   "metadata": {
    "execution": {
     "iopub.execute_input": "2021-01-23T17:56:30.139302Z",
     "iopub.status.busy": "2021-01-23T17:56:30.138892Z",
     "iopub.status.idle": "2021-01-23T17:56:30.141361Z",
     "shell.execute_reply": "2021-01-23T17:56:30.141664Z"
    }
   },
   "outputs": [],
   "source": [
    "crab_spectrum = LogParabolaSpectralModel(\n",
    "    amplitude=1e-11 / u.cm ** 2 / u.s / u.TeV,\n",
    "    reference=1 * u.TeV,\n",
    "    alpha=2.3,\n",
    "    beta=0.2,\n",
    ")\n",
    "\n",
    "crab_spectrum.alpha.max = 3\n",
    "crab_spectrum.alpha.min = 1\n",
    "crab_model = SkyModel(spectral_model=crab_spectrum, name=\"crab\")"
   ]
  },
  {
   "cell_type": "markdown",
   "metadata": {},
   "source": [
    "The data and background are read from pre-computed ON/OFF datasets of HESS observations, for simplicity we stack them together.\n",
    "Then we set the model and fit range to the resulting dataset."
   ]
  },
  {
   "cell_type": "code",
   "execution_count": 3,
   "metadata": {
    "execution": {
     "iopub.execute_input": "2021-01-23T17:56:30.145917Z",
     "iopub.status.busy": "2021-01-23T17:56:30.145216Z",
     "iopub.status.idle": "2021-01-23T17:56:30.315094Z",
     "shell.execute_reply": "2021-01-23T17:56:30.314607Z"
    }
   },
   "outputs": [],
   "source": [
    "datasets = []\n",
    "for obs_id in [23523, 23526]:\n",
    "    dataset = SpectrumDatasetOnOff.read(\n",
    "        f\"$GAMMAPY_DATA/joint-crab/spectra/hess/pha_obs{obs_id}.fits\"\n",
    "    )\n",
    "    datasets.append(dataset)\n",
    "\n",
    "dataset_hess = Datasets(datasets).stack_reduce(name=\"HESS\")\n",
    "\n",
    "# Set model and fit range\n",
    "dataset_hess.models = crab_model\n",
    "e_min = 0.66 * u.TeV\n",
    "e_max = 30 * u.TeV\n",
    "dataset_hess.mask_fit = dataset_hess.counts.geom.energy_mask(e_min, e_max)"
   ]
  },
  {
   "cell_type": "markdown",
   "metadata": {},
   "source": [
    "## Fitting options\n",
    "\n",
    "\n",
    "\n",
    "First let's create a `Fit` instance:"
   ]
  },
  {
   "cell_type": "code",
   "execution_count": 4,
   "metadata": {
    "execution": {
     "iopub.execute_input": "2021-01-23T17:56:30.319336Z",
     "iopub.status.busy": "2021-01-23T17:56:30.318275Z",
     "iopub.status.idle": "2021-01-23T17:56:30.319732Z",
     "shell.execute_reply": "2021-01-23T17:56:30.320104Z"
    }
   },
   "outputs": [],
   "source": [
    "fit = Fit([dataset_hess], store_trace=True)"
   ]
  },
  {
   "cell_type": "markdown",
   "metadata": {},
   "source": [
    "By default the fit is performed using MINUIT, you can select alternative optimizers and set their option using the `optimize_opts` argument of the `Fit.run()` method. In addition we have specified to store the trace of parameter values of the fit.\n",
    "\n",
    "Note that, for now, covaraince matrix and errors are computed only for the fitting with MINUIT. However depending on the problem other optimizers can better perform, so somethimes it can be usefull to run a pre-fit with alternative optimization methods.\n",
    "\n",
    "For the \"scipy\" backend the available options are desribed in detail here:  \n",
    "https://docs.scipy.org/doc/scipy/reference/generated/scipy.optimize.minimize.html"
   ]
  },
  {
   "cell_type": "code",
   "execution_count": 5,
   "metadata": {
    "execution": {
     "iopub.execute_input": "2021-01-23T17:56:30.327244Z",
     "iopub.status.busy": "2021-01-23T17:56:30.326854Z",
     "iopub.status.idle": "2021-01-23T17:56:30.506110Z",
     "shell.execute_reply": "2021-01-23T17:56:30.506609Z"
    }
   },
   "outputs": [
    {
     "name": "stderr",
     "output_type": "stream",
     "text": [
      "No covariance estimate - not supported by this backend.\n"
     ]
    },
    {
     "name": "stdout",
     "output_type": "stream",
     "text": [
      "CPU times: user 180 ms, sys: 0 ns, total: 180 ms\n",
      "Wall time: 179 ms\n"
     ]
    }
   ],
   "source": [
    "%%time\n",
    "scipy_opts = {\"method\": \"L-BFGS-B\", \"options\": {\"ftol\": 1e-4, \"gtol\": 1e-05}}\n",
    "result_scipy = fit.run(backend=\"scipy\", optimize_opts=scipy_opts)"
   ]
  },
  {
   "cell_type": "markdown",
   "metadata": {},
   "source": [
    "For the \"sherpa\" backend you can choose the optimization algorithm between method = {\"simplex\",  \"levmar\", \"moncar\", \"gridsearch\"}.  \n",
    "Those methods are described and compared in detail on http://cxc.cfa.harvard.edu/sherpa/methods/index.html.  \n",
    "The available options of the optimization methods are described on the following page https://cxc.cfa.harvard.edu/sherpa/methods/opt_methods.html"
   ]
  },
  {
   "cell_type": "code",
   "execution_count": 6,
   "metadata": {
    "execution": {
     "iopub.execute_input": "2021-01-23T17:56:30.511249Z",
     "iopub.status.busy": "2021-01-23T17:56:30.510759Z",
     "iopub.status.idle": "2021-01-23T17:56:30.904410Z",
     "shell.execute_reply": "2021-01-23T17:56:30.904944Z"
    }
   },
   "outputs": [
    {
     "name": "stderr",
     "output_type": "stream",
     "text": [
      "No covariance estimate - not supported by this backend.\n"
     ]
    },
    {
     "name": "stdout",
     "output_type": "stream",
     "text": [
      "CPU times: user 392 ms, sys: 255 µs, total: 392 ms\n",
      "Wall time: 391 ms\n"
     ]
    }
   ],
   "source": [
    "%%time\n",
    "sherpa_opts = {\"method\": \"simplex\", \"ftol\": 1e-3, \"maxfev\": int(1e4)}\n",
    "results_simplex = fit.run(backend=\"sherpa\", optimize_opts=sherpa_opts)"
   ]
  },
  {
   "cell_type": "markdown",
   "metadata": {},
   "source": [
    "For the \"minuit\" backend see https://iminuit.readthedocs.io/en/latest/reference.html for a detailed description of the available options. If there is an entry ‘migrad_opts’, those options will be passed to [iminuit.Minuit.migrad](https://iminuit.readthedocs.io/en/latest/reference.html#iminuit.Minuit.migrad). Additionnaly you can set the fit tolerance using the [tol](https://iminuit.readthedocs.io/en/latest/reference.html#iminuit.Minuit.tol\n",
    ") option. The minimization will stop when the estimated distance to the minimum is less than 0.001*tol (by default tol=0.1). The [strategy](https://iminuit.readthedocs.io/en/latest/reference.html#iminuit.Minuit.strategy) option change the speed and accuracy of the optimizer: 0 fast, 1 default, 2 slow but accurate. If you want more reliable error estimates, you should run the final fit with strategy 2.\n"
   ]
  },
  {
   "cell_type": "code",
   "execution_count": 7,
   "metadata": {
    "execution": {
     "iopub.execute_input": "2021-01-23T17:56:30.909557Z",
     "iopub.status.busy": "2021-01-23T17:56:30.908991Z",
     "iopub.status.idle": "2021-01-23T17:56:31.030191Z",
     "shell.execute_reply": "2021-01-23T17:56:31.029710Z"
    }
   },
   "outputs": [
    {
     "name": "stdout",
     "output_type": "stream",
     "text": [
      "CPU times: user 116 ms, sys: 3.93 ms, total: 119 ms\n",
      "Wall time: 119 ms\n"
     ]
    }
   ],
   "source": [
    "%%time\n",
    "minuit_opts = {\"tol\": 0.001, \"strategy\": 1}\n",
    "result_minuit = fit.run(backend=\"minuit\", optimize_opts=minuit_opts)"
   ]
  },
  {
   "cell_type": "markdown",
   "metadata": {},
   "source": [
    "## Fit quality assessment\n",
    "\n",
    "There are various ways to check the convergence and quality of a fit. Among them:\n",
    "\n",
    "- Refer to the automatically-generated results dictionary"
   ]
  },
  {
   "cell_type": "code",
   "execution_count": 8,
   "metadata": {
    "execution": {
     "iopub.execute_input": "2021-01-23T17:56:31.034316Z",
     "iopub.status.busy": "2021-01-23T17:56:31.033534Z",
     "iopub.status.idle": "2021-01-23T17:56:31.035607Z",
     "shell.execute_reply": "2021-01-23T17:56:31.036025Z"
    }
   },
   "outputs": [
    {
     "name": "stdout",
     "output_type": "stream",
     "text": [
      "OptimizeResult\n",
      "\n",
      "\tbackend    : scipy\n",
      "\tmethod     : L-BFGS-B\n",
      "\tsuccess    : True\n",
      "\tmessage    : b'CONVERGENCE: REL_REDUCTION_OF_F_<=_FACTR*EPSMCH'\n",
      "\tnfev       : 60\n",
      "\ttotal stat : 30.35\n",
      "\n"
     ]
    }
   ],
   "source": [
    "print(result_scipy)"
   ]
  },
  {
   "cell_type": "code",
   "execution_count": 9,
   "metadata": {
    "execution": {
     "iopub.execute_input": "2021-01-23T17:56:31.039827Z",
     "iopub.status.busy": "2021-01-23T17:56:31.039091Z",
     "iopub.status.idle": "2021-01-23T17:56:31.041147Z",
     "shell.execute_reply": "2021-01-23T17:56:31.041563Z"
    }
   },
   "outputs": [
    {
     "name": "stdout",
     "output_type": "stream",
     "text": [
      "OptimizeResult\n",
      "\n",
      "\tbackend    : sherpa\n",
      "\tmethod     : simplex\n",
      "\tsuccess    : True\n",
      "\tmessage    : Optimization terminated successfully\n",
      "\tnfev       : 135\n",
      "\ttotal stat : 30.35\n",
      "\n"
     ]
    }
   ],
   "source": [
    "print(results_simplex)"
   ]
  },
  {
   "cell_type": "code",
   "execution_count": 10,
   "metadata": {
    "execution": {
     "iopub.execute_input": "2021-01-23T17:56:31.045183Z",
     "iopub.status.busy": "2021-01-23T17:56:31.044412Z",
     "iopub.status.idle": "2021-01-23T17:56:31.046491Z",
     "shell.execute_reply": "2021-01-23T17:56:31.046906Z"
    }
   },
   "outputs": [
    {
     "name": "stdout",
     "output_type": "stream",
     "text": [
      "OptimizeResult\n",
      "\n",
      "\tbackend    : minuit\n",
      "\tmethod     : minuit\n",
      "\tsuccess    : True\n",
      "\tmessage    : Optimization terminated successfully.\n",
      "\tnfev       : 39\n",
      "\ttotal stat : 30.35\n",
      "\n"
     ]
    }
   ],
   "source": [
    "print(result_minuit)"
   ]
  },
  {
   "cell_type": "markdown",
   "metadata": {},
   "source": [
    "- Check the trace of the fit e.g. in case the fit did not converge properly"
   ]
  },
  {
   "cell_type": "code",
   "execution_count": 11,
   "metadata": {
    "execution": {
     "iopub.execute_input": "2021-01-23T17:56:31.053661Z",
     "iopub.status.busy": "2021-01-23T17:56:31.053225Z",
     "iopub.status.idle": "2021-01-23T17:56:31.055825Z",
     "shell.execute_reply": "2021-01-23T17:56:31.056247Z"
    }
   },
   "outputs": [
    {
     "data": {
      "text/html": [
       "<i>Table length=39</i>\n",
       "<table id=\"table140143334340816\" class=\"table-striped table-bordered table-condensed\">\n",
       "<thead><tr><th>total_stat</th><th>crab.spectral.amplitude</th><th>crab.spectral.alpha</th><th>crab.spectral.beta</th></tr></thead>\n",
       "<thead><tr><th>float64</th><th>float64</th><th>float64</th><th>float64</th></tr></thead>\n",
       "<tr><td>30.349530550341484</td><td>3.8122425469574935e-11</td><td>2.195746927573712</td><td>0.22648272221855634</td></tr>\n",
       "<tr><td>30.351034160274107</td><td>3.822242546957493e-11</td><td>2.195746927573712</td><td>0.22648272221855634</td></tr>\n",
       "<tr><td>30.351002210624568</td><td>3.8022425469574936e-11</td><td>2.195746927573712</td><td>0.22648272221855634</td></tr>\n",
       "<tr><td>30.349547261569896</td><td>3.8132425469574936e-11</td><td>2.195746927573712</td><td>0.22648272221855634</td></tr>\n",
       "<tr><td>30.349543591729724</td><td>3.811242546957494e-11</td><td>2.195746927573712</td><td>0.22648272221855634</td></tr>\n",
       "<tr><td>30.37014531576443</td><td>3.8122425469574935e-11</td><td>2.2080054435726852</td><td>0.22648272221855634</td></tr>\n",
       "<tr><td>30.370743193228552</td><td>3.8122425469574935e-11</td><td>2.18345774668032</td><td>0.22648272221855634</td></tr>\n",
       "<tr><td>30.349732513530306</td><td>3.8122425469574935e-11</td><td>2.1969741908185685</td><td>0.22648272221855634</td></tr>\n",
       "<tr><td>30.349746850130565</td><td>3.8122425469574935e-11</td><td>2.1945193576759476</td><td>0.22648272221855634</td></tr>\n",
       "<tr><td>30.349536711332348</td><td>3.8122425469574935e-11</td><td>2.195978964812693</td><td>0.22648272221855634</td></tr>\n",
       "<tr><td>...</td><td>...</td><td>...</td><td>...</td></tr>\n",
       "<tr><td>30.349538078025162</td><td>3.812216970669933e-11</td><td>2.1957553819562374</td><td>0.22635141925359822</td></tr>\n",
       "<tr><td>30.34953077466186</td><td>3.812358735328989e-11</td><td>2.1957553819562374</td><td>0.22648882887429128</td></tr>\n",
       "<tr><td>30.349530758116686</td><td>3.812075206010877e-11</td><td>2.1957553819562374</td><td>0.22648882887429128</td></tr>\n",
       "<tr><td>30.349530807489632</td><td>3.812216970669933e-11</td><td>2.1958017902071436</td><td>0.22648882887429128</td></tr>\n",
       "<tr><td>30.34953072524742</td><td>3.812216970669933e-11</td><td>2.1957089732669237</td><td>0.22648882887429128</td></tr>\n",
       "<tr><td>30.349530739429515</td><td>3.812216970669933e-11</td><td>2.1957553819562374</td><td>0.22651631079842988</td></tr>\n",
       "<tr><td>30.349530793298054</td><td>3.812216970669933e-11</td><td>2.1957553819562374</td><td>0.2264613469501527</td></tr>\n",
       "<tr><td>30.349535814849585</td><td>3.8129257939652134e-11</td><td>2.1959874188246187</td><td>0.22648882887429128</td></tr>\n",
       "<tr><td>30.349537158632703</td><td>3.8129257939652134e-11</td><td>2.1957553819562374</td><td>0.22662623849498434</td></tr>\n",
       "<tr><td>30.349559366695082</td><td>3.812216970669933e-11</td><td>2.1959874188246187</td><td>0.22662623849498434</td></tr>\n",
       "</table>"
      ],
      "text/plain": [
       "<Table length=39>\n",
       "    total_stat     crab.spectral.amplitude ...  crab.spectral.beta\n",
       "     float64               float64         ...       float64      \n",
       "------------------ ----------------------- ... -------------------\n",
       "30.349530550341484  3.8122425469574935e-11 ... 0.22648272221855634\n",
       "30.351034160274107   3.822242546957493e-11 ... 0.22648272221855634\n",
       "30.351002210624568  3.8022425469574936e-11 ... 0.22648272221855634\n",
       "30.349547261569896  3.8132425469574936e-11 ... 0.22648272221855634\n",
       "30.349543591729724   3.811242546957494e-11 ... 0.22648272221855634\n",
       " 30.37014531576443  3.8122425469574935e-11 ... 0.22648272221855634\n",
       "30.370743193228552  3.8122425469574935e-11 ... 0.22648272221855634\n",
       "30.349732513530306  3.8122425469574935e-11 ... 0.22648272221855634\n",
       "30.349746850130565  3.8122425469574935e-11 ... 0.22648272221855634\n",
       "30.349536711332348  3.8122425469574935e-11 ... 0.22648272221855634\n",
       "               ...                     ... ...                 ...\n",
       "30.349538078025162   3.812216970669933e-11 ... 0.22635141925359822\n",
       " 30.34953077466186   3.812358735328989e-11 ... 0.22648882887429128\n",
       "30.349530758116686   3.812075206010877e-11 ... 0.22648882887429128\n",
       "30.349530807489632   3.812216970669933e-11 ... 0.22648882887429128\n",
       " 30.34953072524742   3.812216970669933e-11 ... 0.22648882887429128\n",
       "30.349530739429515   3.812216970669933e-11 ... 0.22651631079842988\n",
       "30.349530793298054   3.812216970669933e-11 ...  0.2264613469501527\n",
       "30.349535814849585  3.8129257939652134e-11 ... 0.22648882887429128\n",
       "30.349537158632703  3.8129257939652134e-11 ... 0.22662623849498434\n",
       "30.349559366695082   3.812216970669933e-11 ... 0.22662623849498434"
      ]
     },
     "execution_count": 1,
     "metadata": {},
     "output_type": "execute_result"
    }
   ],
   "source": [
    "result_minuit.trace"
   ]
  },
  {
   "cell_type": "markdown",
   "metadata": {},
   "source": [
    "- Check that the fitted values and errors for all parameters are reasonable, and no fitted parameter value is \"too close\" - or even outside - its allowed min-max range"
   ]
  },
  {
   "cell_type": "code",
   "execution_count": 12,
   "metadata": {
    "execution": {
     "iopub.execute_input": "2021-01-23T17:56:31.062323Z",
     "iopub.status.busy": "2021-01-23T17:56:31.061883Z",
     "iopub.status.idle": "2021-01-23T17:56:31.064043Z",
     "shell.execute_reply": "2021-01-23T17:56:31.064487Z"
    }
   },
   "outputs": [
    {
     "data": {
      "text/html": [
       "<i>Table length=4</i>\n",
       "<table id=\"table140144115569496\" class=\"table-striped table-bordered table-condensed\">\n",
       "<thead><tr><th>type</th><th>name</th><th>value</th><th>unit</th><th>min</th><th>max</th><th>frozen</th><th>error</th></tr></thead>\n",
       "<thead><tr><th>str8</th><th>str9</th><th>float64</th><th>str14</th><th>float64</th><th>float64</th><th>bool</th><th>float64</th></tr></thead>\n",
       "<tr><td>spectral</td><td>amplitude</td><td>3.8122e-11</td><td>cm-2 s-1 TeV-1</td><td>nan</td><td>nan</td><td>False</td><td>3.546e-12</td></tr>\n",
       "<tr><td>spectral</td><td>reference</td><td>1.0000e+00</td><td>TeV</td><td>nan</td><td>nan</td><td>True</td><td>0.000e+00</td></tr>\n",
       "<tr><td>spectral</td><td>alpha</td><td>2.1958e+00</td><td></td><td>1.000e+00</td><td>3.000e+00</td><td>False</td><td>2.626e-01</td></tr>\n",
       "<tr><td>spectral</td><td>beta</td><td>2.2649e-01</td><td></td><td>nan</td><td>nan</td><td>False</td><td>1.397e-01</td></tr>\n",
       "</table>"
      ],
      "text/plain": [
       "<Table length=4>\n",
       "  type      name     value         unit      ...    max    frozen   error  \n",
       "  str8      str9    float64       str14      ...  float64   bool   float64 \n",
       "-------- --------- ---------- -------------- ... --------- ------ ---------\n",
       "spectral amplitude 3.8122e-11 cm-2 s-1 TeV-1 ...       nan  False 3.546e-12\n",
       "spectral reference 1.0000e+00            TeV ...       nan   True 0.000e+00\n",
       "spectral     alpha 2.1958e+00                ... 3.000e+00  False 2.626e-01\n",
       "spectral      beta 2.2649e-01                ...       nan  False 1.397e-01"
      ]
     },
     "execution_count": 1,
     "metadata": {},
     "output_type": "execute_result"
    }
   ],
   "source": [
    "result_minuit.parameters.to_table()"
   ]
  },
  {
   "cell_type": "markdown",
   "metadata": {},
   "source": [
    "- Plot fit statistic profiles for all fitted prameters, using `~gammapy.modeling.Fit.stat_profile()`. For a good fit and error estimate each profile should be parabolic"
   ]
  },
  {
   "cell_type": "code",
   "execution_count": 13,
   "metadata": {
    "execution": {
     "iopub.execute_input": "2021-01-23T17:56:31.071685Z",
     "iopub.status.busy": "2021-01-23T17:56:31.071208Z",
     "iopub.status.idle": "2021-01-23T17:56:31.465266Z",
     "shell.execute_reply": "2021-01-23T17:56:31.464701Z"
    }
   },
   "outputs": [
    {
     "data": {
      "image/png": "[encoded data removed]",
      "text/plain": [
       "<Figure size 432x288 with 1 Axes>"
      ]
     },
     "metadata": {
      "needs_background": "light"
     },
     "output_type": "display_data"
    },
    {
     "data": {
      "image/png": "[encoded data removed]",
      "text/plain": [
       "<Figure size 432x288 with 1 Axes>"
      ]
     },
     "metadata": {
      "needs_background": "light"
     },
     "output_type": "display_data"
    },
    {
     "data": {
      "image/png": "[encoded data removed]",
      "text/plain": [
       "<Figure size 432x288 with 1 Axes>"
      ]
     },
     "metadata": {
      "needs_background": "light"
     },
     "output_type": "display_data"
    }
   ],
   "source": [
    "total_stat = result_minuit.total_stat\n",
    "\n",
    "for par in dataset_hess.models.parameters:\n",
    "    if par.frozen is False:\n",
    "        profile = fit.stat_profile(parameter=par)\n",
    "        plt.plot(\n",
    "            profile[f\"{par.name}_scan\"], profile[\"stat_scan\"] - total_stat\n",
    "        )\n",
    "        plt.xlabel(f\"{par.unit}\")\n",
    "        plt.ylabel(\"Delta TS\")\n",
    "        plt.title(f\"{par.name}: {par.value} +- {par.error}\")\n",
    "        plt.show()\n",
    "        plt.close()"
   ]
  },
  {
   "cell_type": "markdown",
   "metadata": {},
   "source": [
    "- Inspect model residuals. Those can always be accessed using `~Dataset.residuals()`, that will return an array in case a the fitted `Dataset` is a `SpectrumDataset` and a full cube in case of a `MapDataset`. For more details, we refer here to the dedicated fitting tutorials: [analysis_3d.ipynb](analysis_3d.ipynb) (for `MapDataset` fitting) and [spectrum_analysis.ipynb](spectrum_analysis.ipynb) (for `SpectrumDataset` fitting)."
   ]
  },
  {
   "cell_type": "markdown",
   "metadata": {},
   "source": [
    "## Covariance and parameters errors\n",
    "\n",
    "After the fit the covariance matrix is attached to the model. You can get the error on a specific parameter by accessing the `.error` attribute:"
   ]
  },
  {
   "cell_type": "code",
   "execution_count": 14,
   "metadata": {
    "execution": {
     "iopub.execute_input": "2021-01-23T17:56:31.469136Z",
     "iopub.status.busy": "2021-01-23T17:56:31.468662Z",
     "iopub.status.idle": "2021-01-23T17:56:31.470668Z",
     "shell.execute_reply": "2021-01-23T17:56:31.471099Z"
    }
   },
   "outputs": [
    {
     "data": {
      "text/plain": [
       "0.26258182886713993"
      ]
     },
     "execution_count": 1,
     "metadata": {},
     "output_type": "execute_result"
    }
   ],
   "source": [
    "crab_model.spectral_model.alpha.error"
   ]
  },
  {
   "cell_type": "markdown",
   "metadata": {},
   "source": [
    "As an example, this step is needed to produce a butterfly plot showing the envelope of the model taking into account parameter uncertainties."
   ]
  },
  {
   "cell_type": "code",
   "execution_count": 15,
   "metadata": {
    "execution": {
     "iopub.execute_input": "2021-01-23T17:56:31.488948Z",
     "iopub.status.busy": "2021-01-23T17:56:31.488009Z",
     "iopub.status.idle": "2021-01-23T17:56:31.907100Z",
     "shell.execute_reply": "2021-01-23T17:56:31.906657Z"
    }
   },
   "outputs": [
    {
     "name": "stderr",
     "output_type": "stream",
     "text": [
      "/home/runner/work/gammapy-docs/gammapy-docs/gammapy/gammapy/modeling/models/spectral.py:387: MatplotlibDeprecationWarning: The 'nonposx' parameter of __init__() has been renamed 'nonpositive' since Matplotlib 3.3; support for the old name will be dropped two minor releases later.\n",
      "  ax.set_xscale(\"log\", nonposx=\"clip\")\n",
      "/home/runner/work/gammapy-docs/gammapy-docs/gammapy/gammapy/modeling/models/spectral.py:388: MatplotlibDeprecationWarning: The 'nonposy' parameter of __init__() has been renamed 'nonpositive' since Matplotlib 3.3; support for the old name will be dropped two minor releases later.\n",
      "  ax.set_yscale(\"log\", nonposy=\"clip\")\n"
     ]
    },
    {
     "data": {
      "image/png": "[encoded data removed]",
      "text/plain": [
       "<Figure size 432x288 with 1 Axes>"
      ]
     },
     "metadata": {
      "needs_background": "light"
     },
     "output_type": "display_data"
    }
   ],
   "source": [
    "energy_range = [1, 10] * u.TeV\n",
    "crab_spectrum.plot(energy_range=energy_range, energy_power=2)\n",
    "ax = crab_spectrum.plot_error(energy_range=energy_range, energy_power=2)"
   ]
  },
  {
   "cell_type": "markdown",
   "metadata": {},
   "source": [
    "## Confidence contours\n",
    "\n",
    "\n",
    "In most studies, one wishes to estimate parameters distribution using observed sample data.\n",
    "A 1-dimensional confidence interval gives an estimated range of values which is likely to include an unknown parameter.\n",
    "A confidence contour is a 2-dimensional generalization of a confidence interval, often represented as an ellipsoid around the best-fit value.\n",
    "\n",
    "Gammapy offers two ways of computing confidence contours, in the dedicated methods `Fit.minos_contour()` and `Fit.stat_profile()`. In the following sections we will describe them."
   ]
  },
  {
   "cell_type": "markdown",
   "metadata": {},
   "source": [
    "An important point to keep in mind is: *what does a $N\\sigma$ confidence contour really mean?* The answer is it represents the points of the parameter space for which the model likelihood is $N\\sigma$ above the minimum. But one always has to keep in mind that **1 standard deviation in two dimensions has a smaller coverage probability than 68%**, and similarly for all other levels. In particular, in 2-dimensions the probability enclosed by the $N\\sigma$ confidence contour is $P(N)=1-e^{-N^2/2}$."
   ]
  },
  {
   "cell_type": "markdown",
   "metadata": {},
   "source": [
    "### Computing contours using `Fit.minos_contour()` "
   ]
  },
  {
   "cell_type": "markdown",
   "metadata": {},
   "source": [
    "After the fit, MINUIT offers the possibility to compute the confidence confours.\n",
    "gammapy provides an interface to this functionnality throught the `Fit` object using the `minos_contour` method.\n",
    "Here we defined a function to automatize the contour production for the differents parameterer and confidence levels (expressed in term of sigma):"
   ]
  },
  {
   "cell_type": "code",
   "execution_count": 16,
   "metadata": {
    "execution": {
     "iopub.execute_input": "2021-01-23T17:56:31.912542Z",
     "iopub.status.busy": "2021-01-23T17:56:31.912131Z",
     "iopub.status.idle": "2021-01-23T17:56:31.913983Z",
     "shell.execute_reply": "2021-01-23T17:56:31.913659Z"
    }
   },
   "outputs": [],
   "source": [
    "def make_contours(fit, result, npoints, sigmas):\n",
    "    cts_sigma = []\n",
    "    for sigma in sigmas:\n",
    "        contours = dict()\n",
    "        for par_1, par_2 in combinations([\"alpha\", \"beta\", \"amplitude\"], r=2):\n",
    "            contour = fit.minos_contour(\n",
    "                result.parameters[par_1],\n",
    "                result.parameters[par_2],\n",
    "                numpoints=npoints,\n",
    "                sigma=sigma,\n",
    "            )\n",
    "            contours[f\"contour_{par_1}_{par_2}\"] = {\n",
    "                par_1: contour[par_1].tolist(),\n",
    "                par_2: contour[par_2].tolist(),\n",
    "            }\n",
    "        cts_sigma.append(contours)\n",
    "    return cts_sigma"
   ]
  },
  {
   "cell_type": "markdown",
   "metadata": {},
   "source": [
    "Now we can compute few contours."
   ]
  },
  {
   "cell_type": "code",
   "execution_count": 17,
   "metadata": {
    "execution": {
     "iopub.execute_input": "2021-01-23T17:56:31.919872Z",
     "iopub.status.busy": "2021-01-23T17:56:31.919462Z",
     "iopub.status.idle": "2021-01-23T17:56:42.924202Z",
     "shell.execute_reply": "2021-01-23T17:56:42.923574Z"
    }
   },
   "outputs": [
    {
     "name": "stdout",
     "output_type": "stream",
     "text": [
      "CPU times: user 11 s, sys: 11 ms, total: 11 s\n",
      "Wall time: 11 s\n"
     ]
    }
   ],
   "source": [
    "%%time\n",
    "sigma = [1, 2]\n",
    "cts_sigma = make_contours(fit, result_minuit, 10, sigma)"
   ]
  },
  {
   "cell_type": "markdown",
   "metadata": {},
   "source": [
    "Then we prepare some aliases and annotations in order to make the plotting nicer."
   ]
  },
  {
   "cell_type": "code",
   "execution_count": 18,
   "metadata": {
    "execution": {
     "iopub.execute_input": "2021-01-23T17:56:42.929519Z",
     "iopub.status.busy": "2021-01-23T17:56:42.929061Z",
     "iopub.status.idle": "2021-01-23T17:56:42.932045Z",
     "shell.execute_reply": "2021-01-23T17:56:42.931585Z"
    }
   },
   "outputs": [],
   "source": [
    "pars = {\n",
    "    \"phi\": r\"$\\phi_0 \\,/\\,(10^{-11}\\,{\\rm TeV}^{-1} \\, {\\rm cm}^{-2} {\\rm s}^{-1})$\",\n",
    "    \"alpha\": r\"$\\alpha$\",\n",
    "    \"beta\": r\"$\\beta$\",\n",
    "}\n",
    "\n",
    "panels = [\n",
    "    {\n",
    "        \"x\": \"alpha\",\n",
    "        \"y\": \"phi\",\n",
    "        \"cx\": (lambda ct: ct[\"contour_alpha_amplitude\"][\"alpha\"]),\n",
    "        \"cy\": (\n",
    "            lambda ct: np.array(1e11)\n",
    "            * ct[\"contour_alpha_amplitude\"][\"amplitude\"]\n",
    "        ),\n",
    "    },\n",
    "    {\n",
    "        \"x\": \"beta\",\n",
    "        \"y\": \"phi\",\n",
    "        \"cx\": (lambda ct: ct[\"contour_beta_amplitude\"][\"beta\"]),\n",
    "        \"cy\": (\n",
    "            lambda ct: np.array(1e11)\n",
    "            * ct[\"contour_beta_amplitude\"][\"amplitude\"]\n",
    "        ),\n",
    "    },\n",
    "    {\n",
    "        \"x\": \"alpha\",\n",
    "        \"y\": \"beta\",\n",
    "        \"cx\": (lambda ct: ct[\"contour_alpha_beta\"][\"alpha\"]),\n",
    "        \"cy\": (lambda ct: ct[\"contour_alpha_beta\"][\"beta\"]),\n",
    "    },\n",
    "]"
   ]
  },
  {
   "cell_type": "markdown",
   "metadata": {},
   "source": [
    "Finally we produce the confidence contours figures."
   ]
  },
  {
   "cell_type": "code",
   "execution_count": 19,
   "metadata": {
    "execution": {
     "iopub.execute_input": "2021-01-23T17:56:42.960055Z",
     "iopub.status.busy": "2021-01-23T17:56:42.949666Z",
     "iopub.status.idle": "2021-01-23T17:56:43.427947Z",
     "shell.execute_reply": "2021-01-23T17:56:43.427454Z"
    }
   },
   "outputs": [
    {
     "data": {
      "image/png": "[encoded data removed]",
      "text/plain": [
       "<Figure size 1152x360 with 3 Axes>"
      ]
     },
     "metadata": {
      "needs_background": "light"
     },
     "output_type": "display_data"
    }
   ],
   "source": [
    "fig, axes = plt.subplots(1, 3, figsize=(16, 5))\n",
    "colors = [\"m\", \"b\", \"c\"]\n",
    "for p, ax in zip(panels, axes):\n",
    "    xlabel = pars[p[\"x\"]]\n",
    "    ylabel = pars[p[\"y\"]]\n",
    "    for ks in range(len(cts_sigma)):\n",
    "        plot_contour_line(\n",
    "            ax,\n",
    "            p[\"cx\"](cts_sigma[ks]),\n",
    "            p[\"cy\"](cts_sigma[ks]),\n",
    "            lw=2.5,\n",
    "            color=colors[ks],\n",
    "            label=f\"{sigma[ks]}\" + r\"$\\sigma$\",\n",
    "        )\n",
    "    ax.set_xlabel(xlabel)\n",
    "    ax.set_ylabel(ylabel)\n",
    "plt.legend()\n",
    "plt.tight_layout()"
   ]
  },
  {
   "cell_type": "markdown",
   "metadata": {},
   "source": [
    "### Computing contours using `Fit.stat_surface()`"
   ]
  },
  {
   "cell_type": "markdown",
   "metadata": {},
   "source": [
    "This alternative method for the computation of confidence contours, although more time consuming than `Fit.minos_contour()`, is expected to be more stable. It consists of a generalization of `Fit.stat_profile()` to a 2-dimensional parameter space. The algorithm is very simple:\n",
    "- First, passing two arrays of parameters values, a 2-dimensional discrete parameter space is defined;\n",
    "- For each node of the parameter space, the two parameters of interest are frozen. This way, a likelihood value ($-2\\mathrm{ln}\\,\\mathcal{L}$, actually) is computed, by either freezing (default) or fitting all nuisance parameters;\n",
    "- Finally, a 2-dimensional surface of $-2\\mathrm{ln}(\\mathcal{L})$ values is returned.\n",
    "Using that surface, one can easily compute a surface of $TS = -2\\Delta\\mathrm{ln}(\\mathcal{L})$ and compute confidence contours.\n",
    "\n",
    "Let's see it step by step."
   ]
  },
  {
   "cell_type": "markdown",
   "metadata": {},
   "source": [
    "First of all, we can notice that this method is \"backend-agnostic\", meaning that it can be run with MINUIT, sherpa or scipy as fitting tools. Here we will stick with MINUIT, which is the default choice:"
   ]
  },
  {
   "cell_type": "code",
   "execution_count": 20,
   "metadata": {
    "execution": {
     "iopub.execute_input": "2021-01-23T17:56:43.431289Z",
     "iopub.status.busy": "2021-01-23T17:56:43.430861Z",
     "iopub.status.idle": "2021-01-23T17:56:43.433555Z",
     "shell.execute_reply": "2021-01-23T17:56:43.433911Z"
    }
   },
   "outputs": [],
   "source": [
    "optimize_opts = {\"backend\": \"minuit\", \"print_level\": 0}"
   ]
  },
  {
   "cell_type": "markdown",
   "metadata": {},
   "source": [
    "As an example, we can compute the confidence contour for the `alpha` and `beta` parameters of the `dataset_hess`. Here we define the parameter space:"
   ]
  },
  {
   "cell_type": "code",
   "execution_count": 21,
   "metadata": {
    "execution": {
     "iopub.execute_input": "2021-01-23T17:56:43.438027Z",
     "iopub.status.busy": "2021-01-23T17:56:43.437489Z",
     "iopub.status.idle": "2021-01-23T17:56:43.439262Z",
     "shell.execute_reply": "2021-01-23T17:56:43.438852Z"
    }
   },
   "outputs": [],
   "source": [
    "result = result_minuit\n",
    "par_1 = result.parameters[\"alpha\"]\n",
    "par_2 = result.parameters[\"beta\"]\n",
    "\n",
    "x = par_1\n",
    "y = par_2\n",
    "x_values = np.linspace(1.55, 2.7, 20)\n",
    "y_values = np.linspace(-0.05, 0.55, 20)"
   ]
  },
  {
   "cell_type": "markdown",
   "metadata": {},
   "source": [
    "Then we run the algorithm, by choosing `reoptimize=False` for the sake of time saving. In real life applications, we strongly recommend to  use `reoptimize=True`, so that all free nuisance parameters will be fit at each grid node. This is the correct way, statistically speaking, of computing confidence contours, but is expected to be time consuming."
   ]
  },
  {
   "cell_type": "code",
   "execution_count": 22,
   "metadata": {
    "execution": {
     "iopub.execute_input": "2021-01-23T17:56:43.445109Z",
     "iopub.status.busy": "2021-01-23T17:56:43.444724Z",
     "iopub.status.idle": "2021-01-23T17:56:44.572833Z",
     "shell.execute_reply": "2021-01-23T17:56:44.572355Z"
    }
   },
   "outputs": [],
   "source": [
    "stat_surface = fit.stat_surface(\n",
    "    x, y, x_values, y_values, reoptimize=False, **optimize_opts\n",
    ")"
   ]
  },
  {
   "cell_type": "markdown",
   "metadata": {},
   "source": [
    "In order to easily inspect the results, we can convert the $-2\\mathrm{ln}(\\mathcal{L})$ surface to a surface of statistical significance (in units of Gaussian standard deviations from the surface minimum):"
   ]
  },
  {
   "cell_type": "code",
   "execution_count": 23,
   "metadata": {
    "execution": {
     "iopub.execute_input": "2021-01-23T17:56:44.575957Z",
     "iopub.status.busy": "2021-01-23T17:56:44.575585Z",
     "iopub.status.idle": "2021-01-23T17:56:44.577379Z",
     "shell.execute_reply": "2021-01-23T17:56:44.577051Z"
    }
   },
   "outputs": [],
   "source": [
    "# Compute TS\n",
    "TS = stat_surface[\"stat_scan\"] - result.total_stat"
   ]
  },
  {
   "cell_type": "code",
   "execution_count": 24,
   "metadata": {
    "execution": {
     "iopub.execute_input": "2021-01-23T17:56:44.580056Z",
     "iopub.status.busy": "2021-01-23T17:56:44.579667Z",
     "iopub.status.idle": "2021-01-23T17:56:44.581156Z",
     "shell.execute_reply": "2021-01-23T17:56:44.581458Z"
    }
   },
   "outputs": [],
   "source": [
    "# Compute the corresponding statistical significance surface\n",
    "gaussian_sigmas = np.sqrt(TS.T)"
   ]
  },
  {
   "cell_type": "markdown",
   "metadata": {},
   "source": [
    "Notice that, as explained before, $1\\sigma$ contour obtained this way will not contain 68% of the probability, but rather "
   ]
  },
  {
   "cell_type": "code",
   "execution_count": 25,
   "metadata": {
    "execution": {
     "iopub.execute_input": "2021-01-23T17:56:44.583951Z",
     "iopub.status.busy": "2021-01-23T17:56:44.583571Z",
     "iopub.status.idle": "2021-01-23T17:56:44.585426Z",
     "shell.execute_reply": "2021-01-23T17:56:44.585008Z"
    }
   },
   "outputs": [],
   "source": [
    "# Compute the corresponding statistical significance surface\n",
    "# p_value = 1 - st.chi2(df=1).cdf(TS)\n",
    "# gaussian_sigmas = st.norm.isf(p_value / 2).T"
   ]
  },
  {
   "cell_type": "markdown",
   "metadata": {},
   "source": [
    "Finally, we can plot the surface values together with contours:"
   ]
  },
  {
   "cell_type": "code",
   "execution_count": 26,
   "metadata": {
    "execution": {
     "iopub.execute_input": "2021-01-23T17:56:44.590886Z",
     "iopub.status.busy": "2021-01-23T17:56:44.590482Z",
     "iopub.status.idle": "2021-01-23T17:56:44.893925Z",
     "shell.execute_reply": "2021-01-23T17:56:44.893382Z"
    },
    "nbsphinx-thumbnail": {
     "tooltip": "Learn how the model, dataset and fit Gammapy classes work together in a detailed modeling and fitting use-case."
    }
   },
   "outputs": [
    {
     "data": {
      "text/plain": [
       "([<matplotlib.axis.YTick at 0x7f75a986e940>,\n",
       "  <matplotlib.axis.YTick at 0x7f75a979f2b0>,\n",
       "  <matplotlib.axis.YTick at 0x7f75a97a7860>,\n",
       "  <matplotlib.axis.YTick at 0x7f75a9aee860>,\n",
       "  <matplotlib.axis.YTick at 0x7f75a9adc2b0>,\n",
       "  <matplotlib.axis.YTick at 0x7f75a9adcc88>,\n",
       "  <matplotlib.axis.YTick at 0x7f75a9abe8d0>,\n",
       "  <matplotlib.axis.YTick at 0x7f75a9954b00>,\n",
       "  <matplotlib.axis.YTick at 0x7f75a9adc780>,\n",
       "  <matplotlib.axis.YTick at 0x7f75a9adcf98>,\n",
       "  <matplotlib.axis.YTick at 0x7f75a9925208>,\n",
       "  <matplotlib.axis.YTick at 0x7f75a9918d30>,\n",
       "  <matplotlib.axis.YTick at 0x7f75a99188d0>,\n",
       "  <matplotlib.axis.YTick at 0x7f75a9974358>,\n",
       "  <matplotlib.axis.YTick at 0x7f75a9974cf8>,\n",
       "  <matplotlib.axis.YTick at 0x7f75a9974978>,\n",
       "  <matplotlib.axis.YTick at 0x7f75a99251d0>,\n",
       "  <matplotlib.axis.YTick at 0x7f75a9abe240>,\n",
       "  <matplotlib.axis.YTick at 0x7f75a9974908>,\n",
       "  <matplotlib.axis.YTick at 0x7f75a97accc0>],\n",
       " [Text(0, 0, '-0.05'),\n",
       "  Text(0, 1, '-0.02'),\n",
       "  Text(0, 2, '0.01'),\n",
       "  Text(0, 3, '0.04'),\n",
       "  Text(0, 4, '0.08'),\n",
       "  Text(0, 5, '0.11'),\n",
       "  Text(0, 6, '0.14'),\n",
       "  Text(0, 7, '0.17'),\n",
       "  Text(0, 8, '0.2'),\n",
       "  Text(0, 9, '0.23'),\n",
       "  Text(0, 10, '0.27'),\n",
       "  Text(0, 11, '0.3'),\n",
       "  Text(0, 12, '0.33'),\n",
       "  Text(0, 13, '0.36'),\n",
       "  Text(0, 14, '0.39'),\n",
       "  Text(0, 15, '0.42'),\n",
       "  Text(0, 16, '0.46'),\n",
       "  Text(0, 17, '0.49'),\n",
       "  Text(0, 18, '0.52'),\n",
       "  Text(0, 19, '0.55')])"
      ]
     },
     "execution_count": 1,
     "metadata": {},
     "output_type": "execute_result"
    },
    {
     "data": {
      "image/png": "[encoded data removed]",
      "text/plain": [
       "<Figure size 576x432 with 2 Axes>"
      ]
     },
     "metadata": {
      "needs_background": "light"
     },
     "output_type": "display_data"
    }
   ],
   "source": [
    "fig, ax = plt.subplots(figsize=(8, 6))\n",
    "\n",
    "# We choose to plot 1 and 2 sigma confidence contours\n",
    "levels = [1, 2]\n",
    "\n",
    "contours = plt.contour(gaussian_sigmas, levels=levels, colors=\"white\")\n",
    "plt.clabel(contours, fmt=\"%.0f$\\,\\sigma$\", inline=3, fontsize=15)\n",
    "\n",
    "im = plt.imshow(\n",
    "    gaussian_sigmas,\n",
    "    extent=[0, len(x_values) - 1, 0, len(y_values) - 1],\n",
    "    origin=\"lower\",\n",
    ")\n",
    "fig.colorbar(im)\n",
    "\n",
    "plt.xticks(range(len(x_values)), np.around(x_values, decimals=2), rotation=45)\n",
    "plt.yticks(range(len(y_values)), np.around(y_values, decimals=2));"
   ]
  },
  {
   "cell_type": "markdown",
   "metadata": {},
   "source": [
    "Note that, if computed with `reoptimize=True`, this plot would be completely consistent with the third panel of the plot produced with `Fit.minos_contour` (try!)."
   ]
  },
  {
   "cell_type": "markdown",
   "metadata": {},
   "source": [
    "Finally, it is always remember that confidence contours are approximations. In particular, when the parameter range boundaries are close to the contours lines, it is expected that the statistical meaning of the countours is not well defined. That's why we advise to always choose a parameter space that com contain the contours you're interested in."
   ]
  },
  {
   "cell_type": "code",
   "execution_count": null,
   "metadata": {},
   "outputs": [],
   "source": []
  }
 ],
 "metadata": {
  "kernelspec": {
   "display_name": "Python 3",
   "language": "python",
   "name": "python3"
  },
  "language_info": {
   "codemirror_mode": {
    "name": "ipython",
    "version": 3
   },
   "file_extension": ".py",
   "mimetype": "text/x-python",
   "name": "python",
   "nbconvert_exporter": "python",
   "pygments_lexer": "ipython3",
   "version": "3.7.0"
  },
  "nbsphinx": {
   "orphan": true
  }
 },
 "nbformat": 4,
 "nbformat_minor": 4
}
