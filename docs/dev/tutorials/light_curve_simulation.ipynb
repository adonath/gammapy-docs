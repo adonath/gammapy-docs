{
 "cells": [
  {
   "cell_type": "markdown",
   "metadata": {},
   "source": [
    "\n",
    "<div class=\"alert alert-info\">\n",
    "\n",
    "**This is a fixed-text formatted version of a Jupyter notebook**\n",
    "\n",
    "- Try online [![Binder](https://static.mybinder.org/badge.svg)](https://mybinder.org/v2/gh/gammapy/gammapy-webpage/master?urlpath=lab/tree/light_curve_simulation.ipynb)\n",
    "- You can contribute with your own notebooks in this\n",
    "[GitHub repository](https://github.com/gammapy/gammapy/tree/master/docs/tutorials).\n",
    "- **Source files:**\n",
    "[light_curve_simulation.ipynb](../_static/notebooks/light_curve_simulation.ipynb) |\n",
    "[light_curve_simulation.py](../_static/notebooks/light_curve_simulation.py)\n",
    "</div>\n"
   ]
  },
  {
   "cell_type": "markdown",
   "metadata": {},
   "source": [
    "# Binned light curve simulation and fitting\n",
    "\n",
    "## Prerequisites:\n",
    "\n",
    "- To understand how a single binned simulation works, please refer to [spectrum_simulation](spectrum_simulation.ipynb) [simulate_3d](simulate_3d.ipynb) for 1D and 3D simulations respectively.\n",
    "- For details of light curve extraction using gammapy, refer to the two tutorials [light_curve](light_curve.ipynb) and [light_curve_flare](light_curve_flare.ipynb) \n",
    "\n",
    "## Context\n",
    "\n",
    "Frequently, studies of variable sources (eg: decaying GRB light curves, AGN flares, etc) require time variable simulations. For most use cases, generating an event list is an overkill, and it suffices to use binned simulations using a temporal model.\n",
    "\n",
    "**Objective: Simulate and fit a time decaying light curve of a source with CTA using the CTA 1DC response**\n",
    "\n",
    "## Proposed approach:\n",
    "\n",
    "We will simulate 10 spectral datasets within given time intervals (Good Time Intervals) following a given spectral (a power law) and temporal profile (an exponential decay, with a decay time of 6 hr ). These are then analysed using the light curve estimator to obtain flux points. Then, we re-fit the simulated datasets to reconstruct back the injected profiles.\n",
    "\n",
    "In summary, necessary steps are:\n",
    "\n",
    "- Choose observation parameters including a list of `gammapy.data.GTI`\n",
    "- Define temporal and spectral models from :ref:model-gallery as per science case\n",
    "- Perform the simulation (in 1D or 3D)\n",
    "- Extract the light curve from the reduced dataset as shown in [light curve notebook](light_curve.ipynb)\n",
    "- Optionaly, we show here how to fit the simulated datasets using a source model \n",
    "\n",
    "\n",
    "## Setup \n",
    "\n",
    "As usual, we'll start with some general imports..."
   ]
  },
  {
   "cell_type": "markdown",
   "metadata": {},
   "source": [
    "## Setup"
   ]
  },
  {
   "cell_type": "code",
   "execution_count": 1,
   "metadata": {},
   "outputs": [],
   "source": [
    "%matplotlib inline\n",
    "import matplotlib.pyplot as plt\n",
    "import numpy as np\n",
    "import astropy.units as u\n",
    "from astropy.coordinates import SkyCoord, Angle\n",
    "from astropy.time import Time\n",
    "from regions import CircleSkyRegion\n",
    "\n",
    "import logging\n",
    "\n",
    "log = logging.getLogger(__name__)"
   ]
  },
  {
   "cell_type": "markdown",
   "metadata": {},
   "source": [
    "And some gammapy specific imports"
   ]
  },
  {
   "cell_type": "code",
   "execution_count": 2,
   "metadata": {},
   "outputs": [],
   "source": [
    "from gammapy.data import Observation\n",
    "from gammapy.irf import load_cta_irfs\n",
    "from gammapy.datasets import SpectrumDataset, Datasets\n",
    "from gammapy.modeling.models import (\n",
    "    PowerLawSpectralModel,\n",
    "    ExpDecayTemporalModel,\n",
    "    SkyModel,\n",
    ")\n",
    "from gammapy.maps import MapAxis\n",
    "from gammapy.estimators import LightCurveEstimator\n",
    "from gammapy.makers import SpectrumDatasetMaker\n",
    "from gammapy.modeling import Fit"
   ]
  },
  {
   "cell_type": "markdown",
   "metadata": {},
   "source": [
    "## Simulating a light curve\n",
    "\n",
    "We will simulate 10 datasets using an `PowerLawSpectralModel` and a `ExpDecayTemporalModel`. The important thing to note here is how to attach a different `GTI` to each dataset."
   ]
  },
  {
   "cell_type": "code",
   "execution_count": 3,
   "metadata": {},
   "outputs": [
    {
     "name": "stderr",
     "output_type": "stream",
     "text": [
      "Invalid unit found in background table! Assuming (s-1 MeV-1 sr-1)\n"
     ]
    }
   ],
   "source": [
    "# Loading IRFs\n",
    "irfs = load_cta_irfs(\n",
    "    \"$GAMMAPY_DATA/cta-1dc/caldb/data/cta/1dc/bcf/South_z20_50h/irf_file.fits\"\n",
    ")"
   ]
  },
  {
   "cell_type": "code",
   "execution_count": 4,
   "metadata": {},
   "outputs": [],
   "source": [
    "# Reconstructed and true energy axis\n",
    "center = SkyCoord(0.0, 0.0, unit=\"deg\", frame=\"galactic\")\n",
    "energy_axis = MapAxis.from_edges(\n",
    "    np.logspace(-0.5, 1.0, 10), unit=\"TeV\", name=\"energy\", interp=\"log\"\n",
    ")\n",
    "energy_axis_true = MapAxis.from_edges(\n",
    "    np.logspace(-1.2, 2.0, 31), unit=\"TeV\", name=\"energy_true\", interp=\"log\"\n",
    ")\n",
    "\n",
    "on_region_radius = Angle(\"0.11 deg\")\n",
    "on_region = CircleSkyRegion(center=center, radius=on_region_radius)"
   ]
  },
  {
   "cell_type": "code",
   "execution_count": 5,
   "metadata": {},
   "outputs": [],
   "source": [
    "# Pointing position\n",
    "pointing = SkyCoord(0.5, 0.5, unit=\"deg\", frame=\"galactic\")"
   ]
  },
  {
   "cell_type": "markdown",
   "metadata": {},
   "source": [
    "Note that observations are usually conducted in  Wobble mode, in which the source is not in the center of the camera. This allows to have a symmetrical sky position from which background can be estimated."
   ]
  },
  {
   "cell_type": "code",
   "execution_count": 6,
   "metadata": {},
   "outputs": [
    {
     "name": "stderr",
     "output_type": "stream",
     "text": [
      "/usr/share/miniconda/envs/gammapy-dev/lib/python3.7/site-packages/astropy/units/quantity.py:477: RuntimeWarning: overflow encountered in exp\n",
      "  result = super().__array_ufunc__(function, method, *arrays, **kwargs)\n",
      "/usr/share/miniconda/envs/gammapy-dev/lib/python3.7/site-packages/astropy/units/quantity.py:477: RuntimeWarning: invalid value encountered in subtract\n",
      "  result = super().__array_ufunc__(function, method, *arrays, **kwargs)\n"
     ]
    }
   ],
   "source": [
    "# Define the source model: A combination of spectral and temporal model\n",
    "\n",
    "gti_t0 = Time(\"2020-03-01\")\n",
    "spectral_model = PowerLawSpectralModel(\n",
    "    index=3, amplitude=\"1e-11 cm-2 s-1 TeV-1\", reference=\"1 TeV\"\n",
    ")\n",
    "temporal_model = ExpDecayTemporalModel(t0=\"6 h\", t_ref=gti_t0.mjd * u.d)\n",
    "model_simu = SkyModel(\n",
    "    spectral_model=spectral_model,\n",
    "    temporal_model=temporal_model,\n",
    "    name=\"model-simu\",\n",
    ")"
   ]
  },
  {
   "cell_type": "code",
   "execution_count": 7,
   "metadata": {},
   "outputs": [
    {
     "data": {
      "text/html": [
       "<i>Table length=5</i>\n",
       "<table id=\"table139725041918864\" class=\"table-striped table-bordered table-condensed\">\n",
       "<thead><tr><th>name</th><th>value</th><th>unit</th><th>min</th><th>max</th><th>frozen</th><th>error</th></tr></thead>\n",
       "<thead><tr><th>str9</th><th>float64</th><th>str14</th><th>float64</th><th>float64</th><th>bool</th><th>int64</th></tr></thead>\n",
       "<tr><td>index</td><td>3.000e+00</td><td></td><td>nan</td><td>nan</td><td>False</td><td>0.000e+00</td></tr>\n",
       "<tr><td>amplitude</td><td>1.000e-11</td><td>cm-2 s-1 TeV-1</td><td>nan</td><td>nan</td><td>False</td><td>0.000e+00</td></tr>\n",
       "<tr><td>reference</td><td>1.000e+00</td><td>TeV</td><td>nan</td><td>nan</td><td>True</td><td>0.000e+00</td></tr>\n",
       "<tr><td>t0</td><td>2.500e-01</td><td>d</td><td>nan</td><td>nan</td><td>False</td><td>0.000e+00</td></tr>\n",
       "<tr><td>t_ref</td><td>5.891e+04</td><td>d</td><td>nan</td><td>nan</td><td>True</td><td>0.000e+00</td></tr>\n",
       "</table>"
      ],
      "text/plain": [
       "<Table length=5>\n",
       "   name     value        unit        min     max   frozen   error  \n",
       "   str9    float64      str14      float64 float64  bool    int64  \n",
       "--------- --------- -------------- ------- ------- ------ ---------\n",
       "    index 3.000e+00                    nan     nan  False 0.000e+00\n",
       "amplitude 1.000e-11 cm-2 s-1 TeV-1     nan     nan  False 0.000e+00\n",
       "reference 1.000e+00            TeV     nan     nan   True 0.000e+00\n",
       "       t0 2.500e-01              d     nan     nan  False 0.000e+00\n",
       "    t_ref 5.891e+04              d     nan     nan   True 0.000e+00"
      ]
     },
     "execution_count": 7,
     "metadata": {},
     "output_type": "execute_result"
    }
   ],
   "source": [
    "# Look at the model\n",
    "model_simu.parameters.to_table()"
   ]
  },
  {
   "cell_type": "markdown",
   "metadata": {},
   "source": [
    "Now, define the start and observation livetime wrt to the reference time, `gti_t0`"
   ]
  },
  {
   "cell_type": "code",
   "execution_count": 8,
   "metadata": {},
   "outputs": [],
   "source": [
    "n_obs = 10\n",
    "tstart = [1, 2, 3, 5, 8, 10, 20, 22, 23, 24] * u.h\n",
    "lvtm = [55, 25, 26, 40, 40, 50, 40, 52, 43, 47] * u.min"
   ]
  },
  {
   "cell_type": "markdown",
   "metadata": {},
   "source": [
    "Now perform the simulations"
   ]
  },
  {
   "cell_type": "code",
   "execution_count": 9,
   "metadata": {},
   "outputs": [
    {
     "name": "stderr",
     "output_type": "stream",
     "text": [
      "No background model defined for dataset dataset-0\n",
      "No background model defined for dataset dataset-1\n",
      "No background model defined for dataset dataset-2\n",
      "No background model defined for dataset dataset-3\n",
      "No background model defined for dataset dataset-4\n",
      "No background model defined for dataset dataset-5\n",
      "No background model defined for dataset dataset-6\n",
      "No background model defined for dataset dataset-7\n",
      "No background model defined for dataset dataset-8\n",
      "No background model defined for dataset dataset-9\n"
     ]
    }
   ],
   "source": [
    "datasets = Datasets()\n",
    "\n",
    "empty = SpectrumDataset.create(\n",
    "    e_reco=energy_axis, e_true=energy_axis_true, region=on_region, name=\"empty\"\n",
    ")\n",
    "\n",
    "maker = SpectrumDatasetMaker(selection=[\"aeff\", \"background\", \"edisp\"])\n",
    "\n",
    "for idx in range(n_obs):\n",
    "    obs = Observation.create(\n",
    "        pointing=pointing,\n",
    "        livetime=lvtm[idx],\n",
    "        tstart=tstart[idx],\n",
    "        irfs=irfs,\n",
    "        reference_time=gti_t0,\n",
    "        obs_id=idx,\n",
    "    )\n",
    "    empty_i = empty.copy(name=f\"dataset-{idx}\")\n",
    "    dataset = maker.run(empty_i, obs)\n",
    "    dataset.models = model_simu\n",
    "    dataset.fake()\n",
    "    datasets.append(dataset)"
   ]
  },
  {
   "cell_type": "markdown",
   "metadata": {},
   "source": [
    "The reduced datasets have been successfully simulated. Let's take a quick look into our datasets."
   ]
  },
  {
   "cell_type": "code",
   "execution_count": 10,
   "metadata": {},
   "outputs": [
    {
     "data": {
      "text/html": [
       "<i>Table length=10</i>\n",
       "<table id=\"table139725041007584\" class=\"table-striped table-bordered table-condensed\">\n",
       "<thead><tr><th>name</th><th>livetime</th><th>n_on</th><th>background</th><th>excess</th><th>significance</th><th>background_rate</th><th>gamma_rate</th></tr></thead>\n",
       "<thead><tr><th></th><th>s</th><th></th><th></th><th></th><th></th><th>1 / s</th><th>1 / s</th></tr></thead>\n",
       "<thead><tr><th>str9</th><th>float64</th><th>int64</th><th>float64</th><th>float64</th><th>float64</th><th>float64</th><th>float64</th></tr></thead>\n",
       "<tr><td>dataset-0</td><td>3299.999999999999</td><td>803</td><td>20.30377174963533</td><td>782.6962282503646</td><td>65.88436615207283</td><td>0.006152658105950102</td><td>0.2371806752273833</td></tr>\n",
       "<tr><td>dataset-1</td><td>1500.0</td><td>329</td><td>9.228987158925152</td><td>319.7710128410749</td><td>41.37581575106035</td><td>0.006152658105950101</td><td>0.21318067522738327</td></tr>\n",
       "<tr><td>dataset-2</td><td>1560.0</td><td>283</td><td>9.598146645282158</td><td>273.4018533547179</td><td>36.99284532007302</td><td>0.006152658105950101</td><td>0.17525759830430634</td></tr>\n",
       "<tr><td>dataset-3</td><td>2400.0</td><td>315</td><td>14.766379454280242</td><td>300.2336205457198</td><td>36.43447776951533</td><td>0.006152658105950101</td><td>0.12509734189404992</td></tr>\n",
       "<tr><td>dataset-4</td><td>2399.9999999999964</td><td>186</td><td>14.76637945428022</td><td>171.2336205457198</td><td>24.493983517180315</td><td>0.0061526581059501</td><td>0.07134734189405002</td></tr>\n",
       "<tr><td>dataset-5</td><td>3000.0</td><td>154</td><td>18.457974317850304</td><td>135.5420256821497</td><td>19.55311820210874</td><td>0.006152658105950101</td><td>0.045180675227383234</td></tr>\n",
       "<tr><td>dataset-6</td><td>2400.0</td><td>38</td><td>14.766379454280242</td><td>23.233620545719756</td><td>5.036912124381313</td><td>0.006152658105950101</td><td>0.009680675227383232</td></tr>\n",
       "<tr><td>dataset-7</td><td>3120.0</td><td>20</td><td>19.196293290564316</td><td>0.8037067094356837</td><td>0.18217963328891604</td><td>0.006152658105950101</td><td>0.0002575983043063089</td></tr>\n",
       "<tr><td>dataset-8</td><td>2580.0</td><td>17</td><td>15.873857913351259</td><td>1.1261420866487397</td><td>0.27940496411793875</td><td>0.0061526581059501</td><td>0.00043648918087160456</td></tr>\n",
       "<tr><td>dataset-9</td><td>2820.0</td><td>15</td><td>17.350495858779286</td><td>-2.350495858779286</td><td>-0.5778106769424433</td><td>0.006152658105950101</td><td>-0.0008335091697798886</td></tr>\n",
       "</table>"
      ],
      "text/plain": [
       "<Table length=10>\n",
       "   name        livetime      ...   background_rate          gamma_rate      \n",
       "                  s          ...        1 / s                 1 / s         \n",
       "   str9        float64       ...       float64               float64        \n",
       "--------- ------------------ ... -------------------- ----------------------\n",
       "dataset-0  3299.999999999999 ... 0.006152658105950102     0.2371806752273833\n",
       "dataset-1             1500.0 ... 0.006152658105950101    0.21318067522738327\n",
       "dataset-2             1560.0 ... 0.006152658105950101    0.17525759830430634\n",
       "dataset-3             2400.0 ... 0.006152658105950101    0.12509734189404992\n",
       "dataset-4 2399.9999999999964 ...   0.0061526581059501    0.07134734189405002\n",
       "dataset-5             3000.0 ... 0.006152658105950101   0.045180675227383234\n",
       "dataset-6             2400.0 ... 0.006152658105950101   0.009680675227383232\n",
       "dataset-7             3120.0 ... 0.006152658105950101  0.0002575983043063089\n",
       "dataset-8             2580.0 ...   0.0061526581059501 0.00043648918087160456\n",
       "dataset-9             2820.0 ... 0.006152658105950101 -0.0008335091697798886"
      ]
     },
     "execution_count": 10,
     "metadata": {},
     "output_type": "execute_result"
    }
   ],
   "source": [
    "datasets.info_table()"
   ]
  },
  {
   "cell_type": "markdown",
   "metadata": {},
   "source": [
    "## Extract the lightcurve\n",
    "\n",
    "This section uses standard light curve estimation tools for a 1D extraction. Only a spectral model needs to be defined in this case. Since the estimator returns the integrated flux separately for each time bin, the temporal model need not be accounted for at this stage."
   ]
  },
  {
   "cell_type": "code",
   "execution_count": 11,
   "metadata": {},
   "outputs": [],
   "source": [
    "# Define the model:\n",
    "spectral_model = PowerLawSpectralModel(\n",
    "    index=3, amplitude=\"1e-11 cm-2 s-1 TeV-1\", reference=\"1 TeV\"\n",
    ")\n",
    "model_fit = SkyModel(spectral_model=spectral_model, name=\"model-fit\")"
   ]
  },
  {
   "cell_type": "code",
   "execution_count": 12,
   "metadata": {},
   "outputs": [
    {
     "name": "stderr",
     "output_type": "stream",
     "text": [
      "No background model defined for dataset dataset-0\n",
      "No background model defined for dataset dataset-1\n",
      "No background model defined for dataset dataset-2\n",
      "No background model defined for dataset dataset-3\n",
      "No background model defined for dataset dataset-4\n",
      "No background model defined for dataset dataset-5\n",
      "No background model defined for dataset dataset-6\n",
      "No background model defined for dataset dataset-7\n",
      "No background model defined for dataset dataset-8\n",
      "No background model defined for dataset dataset-9\n"
     ]
    }
   ],
   "source": [
    "# Attach model to each dataset\n",
    "for dataset in datasets:\n",
    "    dataset.models = model_fit"
   ]
  },
  {
   "cell_type": "code",
   "execution_count": 13,
   "metadata": {},
   "outputs": [
    {
     "name": "stderr",
     "output_type": "stream",
     "text": [
      "No background model defined for dataset dataset-0-0.316 TeV-10.000 TeV\n",
      "No background model defined for dataset dataset-1-0.316 TeV-10.000 TeV\n",
      "No background model defined for dataset dataset-2-0.316 TeV-10.000 TeV\n",
      "No background model defined for dataset dataset-3-0.316 TeV-10.000 TeV\n",
      "No background model defined for dataset dataset-4-0.316 TeV-10.000 TeV\n",
      "No background model defined for dataset dataset-5-0.316 TeV-10.000 TeV\n",
      "No background model defined for dataset dataset-6-0.316 TeV-10.000 TeV\n",
      "No background model defined for dataset dataset-7-0.316 TeV-10.000 TeV\n",
      "No background model defined for dataset dataset-8-0.316 TeV-10.000 TeV\n",
      "No background model defined for dataset dataset-9-0.316 TeV-10.000 TeV\n"
     ]
    },
    {
     "name": "stdout",
     "output_type": "stream",
     "text": [
      "CPU times: user 3.18 s, sys: 35.7 ms, total: 3.22 s\n",
      "Wall time: 3.16 s\n"
     ]
    }
   ],
   "source": [
    "%%time\n",
    "lc_maker_1d = LightCurveEstimator(\n",
    "    e_edges=[energy_axis.edges[0], energy_axis.edges[-1]],\n",
    "    source=\"model-fit\",\n",
    "    reoptimize=False,\n",
    ")\n",
    "lc_1d = lc_maker_1d.run(datasets)"
   ]
  },
  {
   "cell_type": "code",
   "execution_count": 14,
   "metadata": {},
   "outputs": [
    {
     "data": {
      "image/png": "[encoded data removed]",
      "text/plain": [
       "<Figure size 432x288 with 1 Axes>"
      ]
     },
     "metadata": {
      "needs_background": "light"
     },
     "output_type": "display_data"
    }
   ],
   "source": [
    "ax = lc_1d.plot(marker=\"o\", label=\"3D\")"
   ]
  },
  {
   "cell_type": "markdown",
   "metadata": {},
   "source": [
    "We have the reconstructed lightcurve at this point. Further standard analyis might involve modeling the temporal profiles with an analytical or theoretical model. You may do this using your favourite fitting package, one possible option being `curve_fit` inside `scipy.optimize`.\n",
    "\n",
    "In the next section, we show how to simulatenously fit the all datasets using a given temporal model. This does a joint fitting across the different datasets, while simultaneously miniminsing across the temporal model parameters as well. We will fit the amplitude, spectral index and the decay time scale. Note that `t_ref` should be fixed by default for the `ExpDecayTemporalModel`. \n",
    "\n",
    "For modelling and fitting more complex flares, you should attach the relevant model to each group of `datasets`. The paramters of a model in a given group of dataset will be tied. For more details on joint fitting in gammapy, see [here](modeling.ipynb)."
   ]
  },
  {
   "cell_type": "markdown",
   "metadata": {},
   "source": [
    "## Fit the datasets"
   ]
  },
  {
   "cell_type": "code",
   "execution_count": 15,
   "metadata": {},
   "outputs": [
    {
     "name": "stderr",
     "output_type": "stream",
     "text": [
      "/usr/share/miniconda/envs/gammapy-dev/lib/python3.7/site-packages/astropy/units/quantity.py:477: RuntimeWarning: overflow encountered in exp\n",
      "  result = super().__array_ufunc__(function, method, *arrays, **kwargs)\n",
      "/usr/share/miniconda/envs/gammapy-dev/lib/python3.7/site-packages/astropy/units/quantity.py:477: RuntimeWarning: invalid value encountered in subtract\n",
      "  result = super().__array_ufunc__(function, method, *arrays, **kwargs)\n"
     ]
    }
   ],
   "source": [
    "# Define the model:\n",
    "\n",
    "spectral_model1 = PowerLawSpectralModel(\n",
    "    index=2.0, amplitude=\"1e-12 cm-2 s-1 TeV-1\", reference=\"1 TeV\"\n",
    ")\n",
    "temporal_model1 = ExpDecayTemporalModel(t0=\"10 h\", t_ref=gti_t0.mjd * u.d)\n",
    "model = SkyModel(\n",
    "    spectral_model=spectral_model1,\n",
    "    temporal_model=temporal_model1,\n",
    "    name=\"model-test\",\n",
    ")"
   ]
  },
  {
   "cell_type": "code",
   "execution_count": 16,
   "metadata": {},
   "outputs": [
    {
     "data": {
      "text/html": [
       "<i>Table length=5</i>\n",
       "<table id=\"table139725038502632\" class=\"table-striped table-bordered table-condensed\">\n",
       "<thead><tr><th>name</th><th>value</th><th>unit</th><th>min</th><th>max</th><th>frozen</th><th>error</th></tr></thead>\n",
       "<thead><tr><th>str9</th><th>float64</th><th>str14</th><th>float64</th><th>float64</th><th>bool</th><th>int64</th></tr></thead>\n",
       "<tr><td>index</td><td>2.000e+00</td><td></td><td>nan</td><td>nan</td><td>False</td><td>0.000e+00</td></tr>\n",
       "<tr><td>amplitude</td><td>1.000e-12</td><td>cm-2 s-1 TeV-1</td><td>nan</td><td>nan</td><td>False</td><td>0.000e+00</td></tr>\n",
       "<tr><td>reference</td><td>1.000e+00</td><td>TeV</td><td>nan</td><td>nan</td><td>True</td><td>0.000e+00</td></tr>\n",
       "<tr><td>t0</td><td>4.167e-01</td><td>d</td><td>nan</td><td>nan</td><td>False</td><td>0.000e+00</td></tr>\n",
       "<tr><td>t_ref</td><td>5.891e+04</td><td>d</td><td>nan</td><td>nan</td><td>True</td><td>0.000e+00</td></tr>\n",
       "</table>"
      ],
      "text/plain": [
       "<Table length=5>\n",
       "   name     value        unit        min     max   frozen   error  \n",
       "   str9    float64      str14      float64 float64  bool    int64  \n",
       "--------- --------- -------------- ------- ------- ------ ---------\n",
       "    index 2.000e+00                    nan     nan  False 0.000e+00\n",
       "amplitude 1.000e-12 cm-2 s-1 TeV-1     nan     nan  False 0.000e+00\n",
       "reference 1.000e+00            TeV     nan     nan   True 0.000e+00\n",
       "       t0 4.167e-01              d     nan     nan  False 0.000e+00\n",
       "    t_ref 5.891e+04              d     nan     nan   True 0.000e+00"
      ]
     },
     "execution_count": 16,
     "metadata": {},
     "output_type": "execute_result"
    }
   ],
   "source": [
    "model.parameters.to_table()"
   ]
  },
  {
   "cell_type": "code",
   "execution_count": 17,
   "metadata": {},
   "outputs": [
    {
     "name": "stderr",
     "output_type": "stream",
     "text": [
      "No background model defined for dataset dataset-0\n",
      "No background model defined for dataset dataset-1\n",
      "No background model defined for dataset dataset-2\n",
      "No background model defined for dataset dataset-3\n",
      "No background model defined for dataset dataset-4\n",
      "No background model defined for dataset dataset-5\n",
      "No background model defined for dataset dataset-6\n",
      "No background model defined for dataset dataset-7\n",
      "No background model defined for dataset dataset-8\n",
      "No background model defined for dataset dataset-9\n"
     ]
    }
   ],
   "source": [
    "for dataset in datasets:\n",
    "    dataset.models = model"
   ]
  },
  {
   "cell_type": "code",
   "execution_count": 18,
   "metadata": {},
   "outputs": [
    {
     "name": "stdout",
     "output_type": "stream",
     "text": [
      "CPU times: user 11.1 s, sys: 21.5 ms, total: 11.1 s\n",
      "Wall time: 11.1 s\n"
     ]
    }
   ],
   "source": [
    "%%time\n",
    "# Do a joint fit\n",
    "fit = Fit(datasets)\n",
    "result = fit.optimize()"
   ]
  },
  {
   "cell_type": "code",
   "execution_count": 19,
   "metadata": {},
   "outputs": [
    {
     "data": {
      "text/html": [
       "<i>Table length=5</i>\n",
       "<table id=\"table139725039451272\" class=\"table-striped table-bordered table-condensed\">\n",
       "<thead><tr><th>name</th><th>value</th><th>unit</th><th>min</th><th>max</th><th>frozen</th><th>error</th></tr></thead>\n",
       "<thead><tr><th>str9</th><th>float64</th><th>str14</th><th>float64</th><th>float64</th><th>bool</th><th>int64</th></tr></thead>\n",
       "<tr><td>index</td><td>2.967e+00</td><td></td><td>nan</td><td>nan</td><td>False</td><td>0.000e+00</td></tr>\n",
       "<tr><td>amplitude</td><td>1.008e-11</td><td>cm-2 s-1 TeV-1</td><td>nan</td><td>nan</td><td>False</td><td>0.000e+00</td></tr>\n",
       "<tr><td>reference</td><td>1.000e+00</td><td>TeV</td><td>nan</td><td>nan</td><td>True</td><td>0.000e+00</td></tr>\n",
       "<tr><td>t0</td><td>2.533e-01</td><td>d</td><td>nan</td><td>nan</td><td>False</td><td>0.000e+00</td></tr>\n",
       "<tr><td>t_ref</td><td>5.891e+04</td><td>d</td><td>nan</td><td>nan</td><td>True</td><td>0.000e+00</td></tr>\n",
       "</table>"
      ],
      "text/plain": [
       "<Table length=5>\n",
       "   name     value        unit        min     max   frozen   error  \n",
       "   str9    float64      str14      float64 float64  bool    int64  \n",
       "--------- --------- -------------- ------- ------- ------ ---------\n",
       "    index 2.967e+00                    nan     nan  False 0.000e+00\n",
       "amplitude 1.008e-11 cm-2 s-1 TeV-1     nan     nan  False 0.000e+00\n",
       "reference 1.000e+00            TeV     nan     nan   True 0.000e+00\n",
       "       t0 2.533e-01              d     nan     nan  False 0.000e+00\n",
       "    t_ref 5.891e+04              d     nan     nan   True 0.000e+00"
      ]
     },
     "execution_count": 19,
     "metadata": {},
     "output_type": "execute_result"
    }
   ],
   "source": [
    "result.parameters.to_table()"
   ]
  },
  {
   "cell_type": "markdown",
   "metadata": {},
   "source": [
    "We see that the fitted parameters match well with the simulated ones!"
   ]
  },
  {
   "cell_type": "markdown",
   "metadata": {},
   "source": [
    "## Exercises\n",
    "\n",
    "1. Re-do the analysis with `MapDataset` instead of `SpectralDataset`\n",
    "2. Model the flare of PKS 2155-304 which you obtained using the [light curve flare tutorial](light_curve_flare.ipynb). Use a combination of a Gaussian and Exponential flare profiles, and fit using `scipy.optimize.curve_fit`\n",
    "3. Do a joint fitting of the datasets."
   ]
  },
  {
   "cell_type": "code",
   "execution_count": null,
   "metadata": {},
   "outputs": [],
   "source": []
  }
 ],
 "metadata": {
  "kernelspec": {
   "display_name": "Python 3",
   "language": "python",
   "name": "python3"
  },
  "language_info": {
   "codemirror_mode": {
    "name": "ipython",
    "version": 3
   },
   "file_extension": ".py",
   "mimetype": "text/x-python",
   "name": "python",
   "nbconvert_exporter": "python",
   "pygments_lexer": "ipython3",
   "version": "3.7.0"
  },
  "nbsphinx": {
   "orphan": true
  }
 },
 "nbformat": 4,
 "nbformat_minor": 4
}
