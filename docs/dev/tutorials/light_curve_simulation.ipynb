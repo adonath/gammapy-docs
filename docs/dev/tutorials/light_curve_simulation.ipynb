{
 "cells": [
  {
   "cell_type": "markdown",
   "metadata": {},
   "source": [
    "\n",
    "<div class=\"alert alert-info\">\n",
    "\n",
    "**This is a fixed-text formatted version of a Jupyter notebook**\n",
    "\n",
    "- Try online [![Binder](https://static.mybinder.org/badge.svg)](https://mybinder.org/v2/gh/gammapy/gammapy-webpage/master?urlpath=lab/tree/light_curve_simulation.ipynb)\n",
    "- You can contribute with your own notebooks in this\n",
    "[GitHub repository](https://github.com/gammapy/gammapy/tree/master/docs/tutorials).\n",
    "- **Source files:**\n",
    "[light_curve_simulation.ipynb](../_static/notebooks/light_curve_simulation.ipynb) |\n",
    "[light_curve_simulation.py](../_static/notebooks/light_curve_simulation.py)\n",
    "</div>\n"
   ]
  },
  {
   "cell_type": "markdown",
   "metadata": {},
   "source": [
    "# Binned light curve simulation and fitting\n",
    "\n",
    "## Prerequisites:\n",
    "\n",
    "- To understand how a single binned simulation works, please refer to [spectrum_simulation](spectrum_simulation.ipynb) [simulate_3d](simulate_3d.ipynb) for 1D and 3D simulations respectively.\n",
    "- For details of light curve extraction using gammapy, refer to the two tutorials [light_curve](light_curve.ipynb) and [light_curve_flare](light_curve_flare.ipynb) \n",
    "\n",
    "## Context\n",
    "\n",
    "Frequently, studies of variable sources (eg: decaying GRB light curves, AGN flares, etc) require time variable simulations. For most use cases, generating an event list is an overkill, and it suffices to use binned simulations using a temporal model.\n",
    "\n",
    "**Objective: Simulate and fit a time decaying light curve of a source with CTA using the CTA 1DC response**\n",
    "\n",
    "## Proposed approach:\n",
    "\n",
    "We will simulate 10 spectral datasets within given time intervals (Good Time Intervals) following a given spectral (a power law) and temporal profile (an exponential decay, with a decay time of 6 hr ). These are then analysed using the light curve estimator to obtain flux points. Then, we re-fit the simulated datasets to reconstruct back the injected profiles.\n",
    "\n",
    "In summary, necessary steps are:\n",
    "\n",
    "- Choose observation parameters including a list of `gammapy.data.GTI`\n",
    "- Define temporal and spectral models from :ref:model-gallery as per science case\n",
    "- Perform the simulation (in 1D or 3D)\n",
    "- Extract the light curve from the reduced dataset as shown in [light curve notebook](light_curve.ipynb)\n",
    "- Optionaly, we show here how to fit the simulated datasets using a source model \n",
    "\n",
    "\n",
    "## Setup \n",
    "\n",
    "As usual, we'll start with some general imports..."
   ]
  },
  {
   "cell_type": "markdown",
   "metadata": {},
   "source": [
    "## Setup"
   ]
  },
  {
   "cell_type": "code",
   "execution_count": 1,
   "metadata": {
    "execution": {
     "iopub.execute_input": "2020-11-04T00:36:38.991980Z",
     "iopub.status.busy": "2020-11-04T00:36:38.991244Z",
     "iopub.status.idle": "2020-11-04T00:36:39.652402Z",
     "shell.execute_reply": "2020-11-04T00:36:39.651327Z"
    }
   },
   "outputs": [],
   "source": [
    "%matplotlib inline\n",
    "import matplotlib.pyplot as plt\n",
    "import numpy as np\n",
    "import astropy.units as u\n",
    "from astropy.coordinates import SkyCoord, Angle\n",
    "from astropy.time import Time\n",
    "from regions import CircleSkyRegion\n",
    "\n",
    "import logging\n",
    "\n",
    "log = logging.getLogger(__name__)"
   ]
  },
  {
   "cell_type": "markdown",
   "metadata": {},
   "source": [
    "And some gammapy specific imports"
   ]
  },
  {
   "cell_type": "code",
   "execution_count": 2,
   "metadata": {
    "execution": {
     "iopub.execute_input": "2020-11-04T00:36:39.658499Z",
     "iopub.status.busy": "2020-11-04T00:36:39.657981Z",
     "iopub.status.idle": "2020-11-04T00:36:40.211738Z",
     "shell.execute_reply": "2020-11-04T00:36:40.210796Z"
    }
   },
   "outputs": [],
   "source": [
    "from gammapy.data import Observation\n",
    "from gammapy.irf import load_cta_irfs\n",
    "from gammapy.datasets import SpectrumDataset, Datasets\n",
    "from gammapy.modeling.models import (\n",
    "    PowerLawSpectralModel,\n",
    "    ExpDecayTemporalModel,\n",
    "    SkyModel,\n",
    ")\n",
    "from gammapy.maps import MapAxis\n",
    "from gammapy.estimators import LightCurveEstimator\n",
    "from gammapy.makers import SpectrumDatasetMaker\n",
    "from gammapy.modeling import Fit"
   ]
  },
  {
   "cell_type": "markdown",
   "metadata": {},
   "source": [
    "## Simulating a light curve\n",
    "\n",
    "We will simulate 10 datasets using an `PowerLawSpectralModel` and a `ExpDecayTemporalModel`. The important thing to note here is how to attach a different `GTI` to each dataset."
   ]
  },
  {
   "cell_type": "code",
   "execution_count": 3,
   "metadata": {
    "execution": {
     "iopub.execute_input": "2020-11-04T00:36:40.217448Z",
     "iopub.status.busy": "2020-11-04T00:36:40.215533Z",
     "iopub.status.idle": "2020-11-04T00:36:40.309751Z",
     "shell.execute_reply": "2020-11-04T00:36:40.308817Z"
    }
   },
   "outputs": [
    {
     "name": "stderr",
     "output_type": "stream",
     "text": [
      "Invalid unit found in background table! Assuming (s-1 MeV-1 sr-1)\n"
     ]
    }
   ],
   "source": [
    "# Loading IRFs\n",
    "irfs = load_cta_irfs(\n",
    "    \"$GAMMAPY_DATA/cta-1dc/caldb/data/cta/1dc/bcf/South_z20_50h/irf_file.fits\"\n",
    ")"
   ]
  },
  {
   "cell_type": "code",
   "execution_count": 4,
   "metadata": {
    "execution": {
     "iopub.execute_input": "2020-11-04T00:36:40.316223Z",
     "iopub.status.busy": "2020-11-04T00:36:40.315706Z",
     "iopub.status.idle": "2020-11-04T00:36:40.318681Z",
     "shell.execute_reply": "2020-11-04T00:36:40.319085Z"
    }
   },
   "outputs": [],
   "source": [
    "# Reconstructed and true energy axis\n",
    "center = SkyCoord(0.0, 0.0, unit=\"deg\", frame=\"galactic\")\n",
    "energy_axis = MapAxis.from_edges(\n",
    "    np.logspace(-0.5, 1.0, 10), unit=\"TeV\", name=\"energy\", interp=\"log\"\n",
    ")\n",
    "energy_axis_true = MapAxis.from_edges(\n",
    "    np.logspace(-1.2, 2.0, 31), unit=\"TeV\", name=\"energy_true\", interp=\"log\"\n",
    ")\n",
    "\n",
    "on_region_radius = Angle(\"0.11 deg\")\n",
    "on_region = CircleSkyRegion(center=center, radius=on_region_radius)"
   ]
  },
  {
   "cell_type": "code",
   "execution_count": 5,
   "metadata": {
    "execution": {
     "iopub.execute_input": "2020-11-04T00:36:40.323166Z",
     "iopub.status.busy": "2020-11-04T00:36:40.322666Z",
     "iopub.status.idle": "2020-11-04T00:36:40.325997Z",
     "shell.execute_reply": "2020-11-04T00:36:40.325559Z"
    }
   },
   "outputs": [],
   "source": [
    "# Pointing position\n",
    "pointing = SkyCoord(0.5, 0.5, unit=\"deg\", frame=\"galactic\")"
   ]
  },
  {
   "cell_type": "markdown",
   "metadata": {},
   "source": [
    "Note that observations are usually conducted in  Wobble mode, in which the source is not in the center of the camera. This allows to have a symmetrical sky position from which background can be estimated."
   ]
  },
  {
   "cell_type": "code",
   "execution_count": 6,
   "metadata": {
    "execution": {
     "iopub.execute_input": "2020-11-04T00:36:40.339303Z",
     "iopub.status.busy": "2020-11-04T00:36:40.336341Z",
     "iopub.status.idle": "2020-11-04T00:36:40.341205Z",
     "shell.execute_reply": "2020-11-04T00:36:40.341726Z"
    }
   },
   "outputs": [
    {
     "name": "stderr",
     "output_type": "stream",
     "text": [
      "/usr/share/miniconda/envs/gammapy-dev/lib/python3.7/site-packages/astropy/units/quantity.py:477: RuntimeWarning: overflow encountered in exp\n",
      "  result = super().__array_ufunc__(function, method, *arrays, **kwargs)\n",
      "/usr/share/miniconda/envs/gammapy-dev/lib/python3.7/site-packages/astropy/units/quantity.py:477: RuntimeWarning: invalid value encountered in subtract\n",
      "  result = super().__array_ufunc__(function, method, *arrays, **kwargs)\n"
     ]
    }
   ],
   "source": [
    "# Define the source model: A combination of spectral and temporal model\n",
    "\n",
    "gti_t0 = Time(\"2020-03-01\")\n",
    "spectral_model = PowerLawSpectralModel(\n",
    "    index=3, amplitude=\"1e-11 cm-2 s-1 TeV-1\", reference=\"1 TeV\"\n",
    ")\n",
    "temporal_model = ExpDecayTemporalModel(t0=\"6 h\", t_ref=gti_t0.mjd * u.d)\n",
    "\n",
    "model_simu = SkyModel(\n",
    "    spectral_model=spectral_model,\n",
    "    temporal_model=temporal_model,\n",
    "    name=\"model-simu\",\n",
    ")"
   ]
  },
  {
   "cell_type": "code",
   "execution_count": 7,
   "metadata": {
    "execution": {
     "iopub.execute_input": "2020-11-04T00:36:40.350180Z",
     "iopub.status.busy": "2020-11-04T00:36:40.349668Z",
     "iopub.status.idle": "2020-11-04T00:36:40.352614Z",
     "shell.execute_reply": "2020-11-04T00:36:40.353117Z"
    }
   },
   "outputs": [
    {
     "data": {
      "text/html": [
       "<i>Table length=5</i>\n",
       "<table id=\"table140169113976448\" class=\"table-striped table-bordered table-condensed\">\n",
       "<thead><tr><th>name</th><th>value</th><th>unit</th><th>min</th><th>max</th><th>frozen</th><th>error</th></tr></thead>\n",
       "<thead><tr><th>str9</th><th>float64</th><th>str14</th><th>float64</th><th>float64</th><th>bool</th><th>int64</th></tr></thead>\n",
       "<tr><td>index</td><td>3.0000e+00</td><td></td><td>nan</td><td>nan</td><td>False</td><td>0.000e+00</td></tr>\n",
       "<tr><td>amplitude</td><td>1.0000e-11</td><td>cm-2 s-1 TeV-1</td><td>nan</td><td>nan</td><td>False</td><td>0.000e+00</td></tr>\n",
       "<tr><td>reference</td><td>1.0000e+00</td><td>TeV</td><td>nan</td><td>nan</td><td>True</td><td>0.000e+00</td></tr>\n",
       "<tr><td>t0</td><td>2.5000e-01</td><td>d</td><td>nan</td><td>nan</td><td>False</td><td>0.000e+00</td></tr>\n",
       "<tr><td>t_ref</td><td>5.8909e+04</td><td>d</td><td>nan</td><td>nan</td><td>True</td><td>0.000e+00</td></tr>\n",
       "</table>"
      ],
      "text/plain": [
       "<Table length=5>\n",
       "   name     value         unit        min     max   frozen   error  \n",
       "   str9    float64       str14      float64 float64  bool    int64  \n",
       "--------- ---------- -------------- ------- ------- ------ ---------\n",
       "    index 3.0000e+00                    nan     nan  False 0.000e+00\n",
       "amplitude 1.0000e-11 cm-2 s-1 TeV-1     nan     nan  False 0.000e+00\n",
       "reference 1.0000e+00            TeV     nan     nan   True 0.000e+00\n",
       "       t0 2.5000e-01              d     nan     nan  False 0.000e+00\n",
       "    t_ref 5.8909e+04              d     nan     nan   True 0.000e+00"
      ]
     },
     "execution_count": 1,
     "metadata": {},
     "output_type": "execute_result"
    }
   ],
   "source": [
    "# Look at the model\n",
    "model_simu.parameters.to_table()"
   ]
  },
  {
   "cell_type": "markdown",
   "metadata": {},
   "source": [
    "Now, define the start and observation livetime wrt to the reference time, `gti_t0`"
   ]
  },
  {
   "cell_type": "code",
   "execution_count": 8,
   "metadata": {
    "execution": {
     "iopub.execute_input": "2020-11-04T00:36:40.357867Z",
     "iopub.status.busy": "2020-11-04T00:36:40.356793Z",
     "iopub.status.idle": "2020-11-04T00:36:40.358860Z",
     "shell.execute_reply": "2020-11-04T00:36:40.359365Z"
    }
   },
   "outputs": [],
   "source": [
    "n_obs = 10\n",
    "tstart = [1, 2, 3, 5, 8, 10, 20, 22, 23, 24] * u.h\n",
    "lvtm = [55, 25, 26, 40, 40, 50, 40, 52, 43, 47] * u.min"
   ]
  },
  {
   "cell_type": "markdown",
   "metadata": {},
   "source": [
    "Now perform the simulations"
   ]
  },
  {
   "cell_type": "code",
   "execution_count": 9,
   "metadata": {
    "execution": {
     "iopub.execute_input": "2020-11-04T00:36:40.370448Z",
     "iopub.status.busy": "2020-11-04T00:36:40.367116Z",
     "iopub.status.idle": "2020-11-04T00:36:41.135948Z",
     "shell.execute_reply": "2020-11-04T00:36:41.134736Z"
    }
   },
   "outputs": [],
   "source": [
    "datasets = Datasets()\n",
    "\n",
    "empty = SpectrumDataset.create(\n",
    "    e_reco=energy_axis, e_true=energy_axis_true, region=on_region, name=\"empty\"\n",
    ")\n",
    "\n",
    "maker = SpectrumDatasetMaker(selection=[\"exposure\", \"background\", \"edisp\"])\n",
    "\n",
    "for idx in range(n_obs):\n",
    "    obs = Observation.create(\n",
    "        pointing=pointing,\n",
    "        livetime=lvtm[idx],\n",
    "        tstart=tstart[idx],\n",
    "        irfs=irfs,\n",
    "        reference_time=gti_t0,\n",
    "        obs_id=idx,\n",
    "    )\n",
    "    empty_i = empty.copy(name=f\"dataset-{idx}\")\n",
    "    dataset = maker.run(empty_i, obs)\n",
    "    dataset.models = model_simu\n",
    "    dataset.fake()\n",
    "    datasets.append(dataset)"
   ]
  },
  {
   "cell_type": "markdown",
   "metadata": {},
   "source": [
    "The reduced datasets have been successfully simulated. Let's take a quick look into our datasets."
   ]
  },
  {
   "cell_type": "code",
   "execution_count": 10,
   "metadata": {
    "execution": {
     "iopub.execute_input": "2020-11-04T00:36:41.194763Z",
     "iopub.status.busy": "2020-11-04T00:36:41.194285Z",
     "iopub.status.idle": "2020-11-04T00:36:41.198964Z",
     "shell.execute_reply": "2020-11-04T00:36:41.198550Z"
    }
   },
   "outputs": [
    {
     "data": {
      "text/html": [
       "<i>Table length=10</i>\n",
       "<table id=\"table140169113976280\" class=\"table-striped table-bordered table-condensed\">\n",
       "<thead><tr><th>name</th><th>counts</th><th>background</th><th>excess</th><th>sqrt_ts</th><th>npred</th><th>npred_background</th><th>npred_signal</th><th>exposure_min</th><th>exposure_max</th><th>livetime</th><th>ontime</th><th>counts_rate</th><th>background_rate</th><th>excess_rate</th><th>n_bins</th><th>n_fit_bins</th><th>stat_type</th><th>stat_sum</th></tr></thead>\n",
       "<thead><tr><th></th><th></th><th></th><th></th><th></th><th></th><th></th><th></th><th>m2 s</th><th>m2 s</th><th>s</th><th>s</th><th>1 / s</th><th>1 / s</th><th>1 / s</th><th></th><th></th><th></th><th></th></tr></thead>\n",
       "<thead><tr><th>str9</th><th>int64</th><th>float64</th><th>float64</th><th>float64</th><th>float64</th><th>float64</th><th>float64</th><th>float64</th><th>float64</th><th>float64</th><th>float64</th><th>float64</th><th>float64</th><th>float64</th><th>int64</th><th>int64</th><th>str4</th><th>float64</th></tr></thead>\n",
       "<tr><td>dataset-0</td><td>844</td><td>20.30377174963533</td><td>823.6962282503647</td><td>68.14959498529878</td><td>825.9254111539981</td><td>20.30377174963533</td><td>805.6216394043627</td><td>216137902.05823946</td><td>16025275854.086987</td><td>3299.999999999999</td><td>3299.999999999999</td><td>0.25575757575757585</td><td>0.006152658105950102</td><td>0.24960491765162574</td><td>9</td><td>9</td><td>cash</td><td>-6771.317351172468</td></tr>\n",
       "<tr><td>dataset-1</td><td>342</td><td>9.228987158925152</td><td>332.7710128410748</td><td>42.489782197388564</td><td>332.14278827322767</td><td>9.228987158925152</td><td>322.91380111430254</td><td>98244500.93556342</td><td>7284216297.312269</td><td>1500.0</td><td>1500.0</td><td>0.228</td><td>0.006152658105950101</td><td>0.2218473418940499</td><td>9</td><td>9</td><td>cash</td><td>-2131.9892297593824</td></tr>\n",
       "<tr><td>dataset-2</td><td>293</td><td>9.598146645282158</td><td>283.40185335471784</td><td>37.90115313881262</td><td>293.48250627100055</td><td>9.598146645282158</td><td>283.8843596257184</td><td>102174280.97298595</td><td>7575584949.20476</td><td>1560.0</td><td>1560.0</td><td>0.18782051282051282</td><td>0.006152658105950101</td><td>0.18166785471456273</td><td>9</td><td>9</td><td>cash</td><td>-1757.4047843157516</td></tr>\n",
       "<tr><td>dataset-3</td><td>352</td><td>14.766379454280242</td><td>337.23362054571976</td><td>39.47293551378567</td><td>321.772945022102</td><td>14.766379454280242</td><td>307.0065655678218</td><td>157191201.49690145</td><td>11654746075.69963</td><td>2400.0</td><td>2400.0</td><td>0.14666666666666667</td><td>0.006152658105950101</td><td>0.14051400856071658</td><td>9</td><td>9</td><td>cash</td><td>-2183.7762854578064</td></tr>\n",
       "<tr><td>dataset-4</td><td>199</td><td>14.76637945428022</td><td>184.2336205457198</td><td>25.820759279447334</td><td>200.97527420424075</td><td>14.76637945428022</td><td>186.2088947499605</td><td>157191201.4969012</td><td>11654746075.699614</td><td>2399.9999999999964</td><td>2399.9999999999964</td><td>0.08291666666666679</td><td>0.0061526581059501</td><td>0.07676400856071669</td><td>9</td><td>9</td><td>cash</td><td>-1030.3523177234042</td></tr>\n",
       "<tr><td>dataset-5</td><td>185</td><td>18.457974317850304</td><td>166.5420256821497</td><td>22.797234543135755</td><td>182.9858048173724</td><td>18.457974317850304</td><td>164.52783049952214</td><td>196489001.87112683</td><td>14568432594.624538</td><td>3000.0</td><td>3000.0</td><td>0.06166666666666667</td><td>0.006152658105950101</td><td>0.05551400856071657</td><td>9</td><td>9</td><td>cash</td><td>-990.2596259699627</td></tr>\n",
       "<tr><td>dataset-6</td><td>40</td><td>14.766379454280242</td><td>25.23362054571976</td><td>5.408778067740319</td><td>39.96701296644291</td><td>14.766379454280242</td><td>25.20063351216266</td><td>157191201.49690145</td><td>11654746075.69963</td><td>2400.0</td><td>2400.0</td><td>0.016666666666666666</td><td>0.006152658105950101</td><td>0.010514008560716567</td><td>9</td><td>9</td><td>cash</td><td>-82.68696540073745</td></tr>\n",
       "<tr><td>dataset-7</td><td>39</td><td>19.196293290564316</td><td>19.803706709435684</td><td>3.960107722709091</td><td>42.290648816036764</td><td>19.196293290564316</td><td>23.094355525472444</td><td>204348561.9459719</td><td>15151169898.40952</td><td>3120.0</td><td>3120.0</td><td>0.0125</td><td>0.006152658105950101</td><td>0.006347341894049899</td><td>9</td><td>9</td><td>cash</td><td>-70.51319479394745</td></tr>\n",
       "<tr><td>dataset-8</td><td>32</td><td>15.873857913351259</td><td>16.12614208664874</td><td>3.551859122136406</td><td>32.23817480009135</td><td>15.873857913351259</td><td>16.364316886740088</td><td>168980541.60916907</td><td>12528852031.377102</td><td>2580.0</td><td>2580.0</td><td>0.012403100775193798</td><td>0.0061526581059501</td><td>0.006250442669243698</td><td>9</td><td>9</td><td>cash</td><td>-43.747286233279645</td></tr>\n",
       "<tr><td>dataset-9</td><td>33</td><td>17.350495858779286</td><td>15.649504141220714</td><td>3.336390132377607</td><td>32.409018797086</td><td>17.350495858779286</td><td>15.058522938306712</td><td>184699661.75885922</td><td>13694326638.947065</td><td>2820.0</td><td>2820.0</td><td>0.011702127659574468</td><td>0.006152658105950101</td><td>0.005549469553624366</td><td>9</td><td>9</td><td>cash</td><td>-54.63696471566671</td></tr>\n",
       "</table>"
      ],
      "text/plain": [
       "<Table length=10>\n",
       "   name   counts     background     ... n_fit_bins stat_type       stat_sum     \n",
       "                                    ...                                         \n",
       "   str9   int64       float64       ...   int64       str4         float64      \n",
       "--------- ------ ------------------ ... ---------- --------- -------------------\n",
       "dataset-0    844  20.30377174963533 ...          9      cash  -6771.317351172468\n",
       "dataset-1    342  9.228987158925152 ...          9      cash -2131.9892297593824\n",
       "dataset-2    293  9.598146645282158 ...          9      cash -1757.4047843157516\n",
       "dataset-3    352 14.766379454280242 ...          9      cash -2183.7762854578064\n",
       "dataset-4    199  14.76637945428022 ...          9      cash -1030.3523177234042\n",
       "dataset-5    185 18.457974317850304 ...          9      cash  -990.2596259699627\n",
       "dataset-6     40 14.766379454280242 ...          9      cash  -82.68696540073745\n",
       "dataset-7     39 19.196293290564316 ...          9      cash  -70.51319479394745\n",
       "dataset-8     32 15.873857913351259 ...          9      cash -43.747286233279645\n",
       "dataset-9     33 17.350495858779286 ...          9      cash  -54.63696471566671"
      ]
     },
     "execution_count": 1,
     "metadata": {},
     "output_type": "execute_result"
    }
   ],
   "source": [
    "datasets.info_table()"
   ]
  },
  {
   "cell_type": "markdown",
   "metadata": {},
   "source": [
    "## Extract the lightcurve\n",
    "\n",
    "This section uses standard light curve estimation tools for a 1D extraction. Only a spectral model needs to be defined in this case. Since the estimator returns the integrated flux separately for each time bin, the temporal model need not be accounted for at this stage."
   ]
  },
  {
   "cell_type": "code",
   "execution_count": 11,
   "metadata": {
    "execution": {
     "iopub.execute_input": "2020-11-04T00:36:41.207143Z",
     "iopub.status.busy": "2020-11-04T00:36:41.206067Z",
     "iopub.status.idle": "2020-11-04T00:36:41.207665Z",
     "shell.execute_reply": "2020-11-04T00:36:41.208130Z"
    }
   },
   "outputs": [],
   "source": [
    "# Define the model:\n",
    "spectral_model = PowerLawSpectralModel(\n",
    "    index=3, amplitude=\"1e-11 cm-2 s-1 TeV-1\", reference=\"1 TeV\"\n",
    ")\n",
    "model_fit = SkyModel(spectral_model=spectral_model, name=\"model-fit\")"
   ]
  },
  {
   "cell_type": "code",
   "execution_count": 12,
   "metadata": {
    "execution": {
     "iopub.execute_input": "2020-11-04T00:36:41.214641Z",
     "iopub.status.busy": "2020-11-04T00:36:41.213805Z",
     "iopub.status.idle": "2020-11-04T00:36:41.215261Z",
     "shell.execute_reply": "2020-11-04T00:36:41.215720Z"
    }
   },
   "outputs": [],
   "source": [
    "# Attach model to each dataset\n",
    "for dataset in datasets:\n",
    "    dataset.models = model_fit"
   ]
  },
  {
   "cell_type": "code",
   "execution_count": 13,
   "metadata": {
    "execution": {
     "iopub.execute_input": "2020-11-04T00:36:41.261640Z",
     "iopub.status.busy": "2020-11-04T00:36:41.258895Z",
     "iopub.status.idle": "2020-11-04T00:36:49.594087Z",
     "shell.execute_reply": "2020-11-04T00:36:49.592843Z"
    }
   },
   "outputs": [
    {
     "name": "stdout",
     "output_type": "stream",
     "text": [
      "CPU times: user 8.38 s, sys: 7.42 ms, total: 8.39 s\n",
      "Wall time: 8.37 s\n"
     ]
    }
   ],
   "source": [
    "%%time\n",
    "lc_maker_1d = LightCurveEstimator(\n",
    "    energy_edges=[energy_axis.edges[0], energy_axis.edges[-1]],\n",
    "    source=\"model-fit\",\n",
    ")\n",
    "lc_1d = lc_maker_1d.run(datasets)"
   ]
  },
  {
   "cell_type": "code",
   "execution_count": 14,
   "metadata": {
    "execution": {
     "iopub.execute_input": "2020-11-04T00:36:49.620880Z",
     "iopub.status.busy": "2020-11-04T00:36:49.598261Z",
     "iopub.status.idle": "2020-11-04T00:36:49.762728Z",
     "shell.execute_reply": "2020-11-04T00:36:49.761847Z"
    }
   },
   "outputs": [
    {
     "data": {
      "text/plain": [
       "(0.0, 4e-11)"
      ]
     },
     "execution_count": 1,
     "metadata": {},
     "output_type": "execute_result"
    },
    {
     "data": {
      "image/png": "[encoded data removed]",
      "text/plain": [
       "<Figure size 432x288 with 1 Axes>"
      ]
     },
     "metadata": {
      "needs_background": "light"
     },
     "output_type": "display_data"
    }
   ],
   "source": [
    "ax = lc_1d.plot(marker=\"o\", label=\"3D\")\n",
    "plt.ylim(0, 4e-11)"
   ]
  },
  {
   "cell_type": "markdown",
   "metadata": {},
   "source": [
    "We have the reconstructed lightcurve at this point. Further standard analyis might involve modeling the temporal profiles with an analytical or theoretical model. You may do this using your favourite fitting package, one possible option being `curve_fit` inside `scipy.optimize`.\n",
    "\n",
    "In the next section, we show how to simulatenously fit the all datasets using a given temporal model. This does a joint fitting across the different datasets, while simultaneously miniminsing across the temporal model parameters as well. We will fit the amplitude, spectral index and the decay time scale. Note that `t_ref` should be fixed by default for the `ExpDecayTemporalModel`. \n",
    "\n",
    "For modelling and fitting more complex flares, you should attach the relevant model to each group of `datasets`. The paramters of a model in a given group of dataset will be tied. For more details on joint fitting in gammapy, see [here](modeling.ipynb)."
   ]
  },
  {
   "cell_type": "markdown",
   "metadata": {},
   "source": [
    "## Fit the datasets"
   ]
  },
  {
   "cell_type": "code",
   "execution_count": 15,
   "metadata": {
    "execution": {
     "iopub.execute_input": "2020-11-04T00:36:49.775557Z",
     "iopub.status.busy": "2020-11-04T00:36:49.775039Z",
     "iopub.status.idle": "2020-11-04T00:36:49.778617Z",
     "shell.execute_reply": "2020-11-04T00:36:49.778184Z"
    }
   },
   "outputs": [
    {
     "name": "stderr",
     "output_type": "stream",
     "text": [
      "/usr/share/miniconda/envs/gammapy-dev/lib/python3.7/site-packages/astropy/units/quantity.py:477: RuntimeWarning: overflow encountered in exp\n",
      "  result = super().__array_ufunc__(function, method, *arrays, **kwargs)\n",
      "/usr/share/miniconda/envs/gammapy-dev/lib/python3.7/site-packages/astropy/units/quantity.py:477: RuntimeWarning: invalid value encountered in subtract\n",
      "  result = super().__array_ufunc__(function, method, *arrays, **kwargs)\n"
     ]
    }
   ],
   "source": [
    "# Define the model:\n",
    "spectral_model1 = PowerLawSpectralModel(\n",
    "    index=2.0, amplitude=\"1e-12 cm-2 s-1 TeV-1\", reference=\"1 TeV\"\n",
    ")\n",
    "temporal_model1 = ExpDecayTemporalModel(t0=\"10 h\", t_ref=gti_t0.mjd * u.d)\n",
    "\n",
    "model = SkyModel(\n",
    "    spectral_model=spectral_model1,\n",
    "    temporal_model=temporal_model1,\n",
    "    name=\"model-test\",\n",
    ")"
   ]
  },
  {
   "cell_type": "code",
   "execution_count": 16,
   "metadata": {
    "execution": {
     "iopub.execute_input": "2020-11-04T00:36:49.784623Z",
     "iopub.status.busy": "2020-11-04T00:36:49.784124Z",
     "iopub.status.idle": "2020-11-04T00:36:49.787687Z",
     "shell.execute_reply": "2020-11-04T00:36:49.788098Z"
    }
   },
   "outputs": [
    {
     "data": {
      "text/html": [
       "<i>Table length=5</i>\n",
       "<table id=\"table140169102926288\" class=\"table-striped table-bordered table-condensed\">\n",
       "<thead><tr><th>name</th><th>value</th><th>unit</th><th>min</th><th>max</th><th>frozen</th><th>error</th></tr></thead>\n",
       "<thead><tr><th>str9</th><th>float64</th><th>str14</th><th>float64</th><th>float64</th><th>bool</th><th>int64</th></tr></thead>\n",
       "<tr><td>index</td><td>2.0000e+00</td><td></td><td>nan</td><td>nan</td><td>False</td><td>0.000e+00</td></tr>\n",
       "<tr><td>amplitude</td><td>1.0000e-12</td><td>cm-2 s-1 TeV-1</td><td>nan</td><td>nan</td><td>False</td><td>0.000e+00</td></tr>\n",
       "<tr><td>reference</td><td>1.0000e+00</td><td>TeV</td><td>nan</td><td>nan</td><td>True</td><td>0.000e+00</td></tr>\n",
       "<tr><td>t0</td><td>4.1667e-01</td><td>d</td><td>nan</td><td>nan</td><td>False</td><td>0.000e+00</td></tr>\n",
       "<tr><td>t_ref</td><td>5.8909e+04</td><td>d</td><td>nan</td><td>nan</td><td>True</td><td>0.000e+00</td></tr>\n",
       "</table>"
      ],
      "text/plain": [
       "<Table length=5>\n",
       "   name     value         unit        min     max   frozen   error  \n",
       "   str9    float64       str14      float64 float64  bool    int64  \n",
       "--------- ---------- -------------- ------- ------- ------ ---------\n",
       "    index 2.0000e+00                    nan     nan  False 0.000e+00\n",
       "amplitude 1.0000e-12 cm-2 s-1 TeV-1     nan     nan  False 0.000e+00\n",
       "reference 1.0000e+00            TeV     nan     nan   True 0.000e+00\n",
       "       t0 4.1667e-01              d     nan     nan  False 0.000e+00\n",
       "    t_ref 5.8909e+04              d     nan     nan   True 0.000e+00"
      ]
     },
     "execution_count": 1,
     "metadata": {},
     "output_type": "execute_result"
    }
   ],
   "source": [
    "model.parameters.to_table()"
   ]
  },
  {
   "cell_type": "code",
   "execution_count": 17,
   "metadata": {
    "execution": {
     "iopub.execute_input": "2020-11-04T00:36:49.795408Z",
     "iopub.status.busy": "2020-11-04T00:36:49.794359Z",
     "iopub.status.idle": "2020-11-04T00:36:49.795902Z",
     "shell.execute_reply": "2020-11-04T00:36:49.796363Z"
    }
   },
   "outputs": [],
   "source": [
    "datasets.models = model"
   ]
  },
  {
   "cell_type": "code",
   "execution_count": 18,
   "metadata": {
    "execution": {
     "iopub.execute_input": "2020-11-04T00:36:50.028643Z",
     "iopub.status.busy": "2020-11-04T00:36:49.990497Z",
     "iopub.status.idle": "2020-11-04T00:36:59.113746Z",
     "shell.execute_reply": "2020-11-04T00:36:59.113105Z"
    }
   },
   "outputs": [
    {
     "name": "stdout",
     "output_type": "stream",
     "text": [
      "CPU times: user 9.33 s, sys: 24.2 ms, total: 9.35 s\n",
      "Wall time: 9.31 s\n"
     ]
    }
   ],
   "source": [
    "%%time\n",
    "# Do a joint fit\n",
    "fit = Fit(datasets)\n",
    "result = fit.run()"
   ]
  },
  {
   "cell_type": "code",
   "execution_count": 19,
   "metadata": {
    "execution": {
     "iopub.execute_input": "2020-11-04T00:36:59.120389Z",
     "iopub.status.busy": "2020-11-04T00:36:59.119825Z",
     "iopub.status.idle": "2020-11-04T00:36:59.124668Z",
     "shell.execute_reply": "2020-11-04T00:36:59.124229Z"
    }
   },
   "outputs": [
    {
     "data": {
      "text/html": [
       "<i>Table length=5</i>\n",
       "<table id=\"table140169104511608\" class=\"table-striped table-bordered table-condensed\">\n",
       "<thead><tr><th>name</th><th>value</th><th>unit</th><th>min</th><th>max</th><th>frozen</th><th>error</th></tr></thead>\n",
       "<thead><tr><th>str9</th><th>float64</th><th>str14</th><th>float64</th><th>float64</th><th>bool</th><th>float64</th></tr></thead>\n",
       "<tr><td>index</td><td>2.9644e+00</td><td></td><td>nan</td><td>nan</td><td>False</td><td>3.080e-02</td></tr>\n",
       "<tr><td>amplitude</td><td>1.0479e-11</td><td>cm-2 s-1 TeV-1</td><td>nan</td><td>nan</td><td>False</td><td>3.541e-13</td></tr>\n",
       "<tr><td>reference</td><td>1.0000e+00</td><td>TeV</td><td>nan</td><td>nan</td><td>True</td><td>0.000e+00</td></tr>\n",
       "<tr><td>t0</td><td>2.4764e-01</td><td>d</td><td>nan</td><td>nan</td><td>False</td><td>8.322e-03</td></tr>\n",
       "<tr><td>t_ref</td><td>5.8909e+04</td><td>d</td><td>nan</td><td>nan</td><td>True</td><td>0.000e+00</td></tr>\n",
       "</table>"
      ],
      "text/plain": [
       "<Table length=5>\n",
       "   name     value         unit        min     max   frozen   error  \n",
       "   str9    float64       str14      float64 float64  bool   float64 \n",
       "--------- ---------- -------------- ------- ------- ------ ---------\n",
       "    index 2.9644e+00                    nan     nan  False 3.080e-02\n",
       "amplitude 1.0479e-11 cm-2 s-1 TeV-1     nan     nan  False 3.541e-13\n",
       "reference 1.0000e+00            TeV     nan     nan   True 0.000e+00\n",
       "       t0 2.4764e-01              d     nan     nan  False 8.322e-03\n",
       "    t_ref 5.8909e+04              d     nan     nan   True 0.000e+00"
      ]
     },
     "execution_count": 1,
     "metadata": {},
     "output_type": "execute_result"
    }
   ],
   "source": [
    "result.parameters.to_table()"
   ]
  },
  {
   "cell_type": "markdown",
   "metadata": {},
   "source": [
    "We see that the fitted parameters match well with the simulated ones!"
   ]
  },
  {
   "cell_type": "markdown",
   "metadata": {},
   "source": [
    "## Exercises\n",
    "\n",
    "1. Re-do the analysis with `MapDataset` instead of `SpectralDataset`\n",
    "2. Model the flare of PKS 2155-304 which you obtained using the [light curve flare tutorial](light_curve_flare.ipynb). Use a combination of a Gaussian and Exponential flare profiles, and fit using `scipy.optimize.curve_fit`\n",
    "3. Do a joint fitting of the datasets."
   ]
  },
  {
   "cell_type": "code",
   "execution_count": null,
   "metadata": {},
   "outputs": [],
   "source": []
  }
 ],
 "metadata": {
  "kernelspec": {
   "display_name": "Python 3",
   "language": "python",
   "name": "python3"
  },
  "language_info": {
   "codemirror_mode": {
    "name": "ipython",
    "version": 3
   },
   "file_extension": ".py",
   "mimetype": "text/x-python",
   "name": "python",
   "nbconvert_exporter": "python",
   "pygments_lexer": "ipython3",
   "version": "3.7.0"
  },
  "nbsphinx": {
   "orphan": true
  }
 },
 "nbformat": 4,
 "nbformat_minor": 4
}
