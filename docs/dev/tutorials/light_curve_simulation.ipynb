{
 "cells": [
  {
   "cell_type": "markdown",
   "metadata": {},
   "source": [
    "\n",
    "<div class=\"alert alert-info\">\n",
    "\n",
    "**This is a fixed-text formatted version of a Jupyter notebook**\n",
    "\n",
    "- Try online [![Binder](https://static.mybinder.org/badge.svg)](https://mybinder.org/v2/gh/gammapy/gammapy-webpage/master?urlpath=lab/tree/light_curve_simulation.ipynb)\n",
    "- You may download all the notebooks in the documentation as a [tar file](../_downloads/notebooks-dev.tar).\n",
    "- **Source files:**\n",
    "[light_curve_simulation.ipynb](../_static/notebooks/light_curve_simulation.ipynb) |\n",
    "[light_curve_simulation.py](../_static/notebooks/light_curve_simulation.py)\n",
    "</div>\n"
   ]
  },
  {
   "cell_type": "markdown",
   "metadata": {},
   "source": [
    "# Simulating and fitting a time varying source\n",
    "\n",
    "## Prerequisites:\n",
    "\n",
    "- To understand how a single binned simulation works, please refer to [spectrum_simulation](spectrum_simulation.ipynb) [simulate_3d](simulate_3d.ipynb) for 1D and 3D simulations respectively.\n",
    "- For details of light curve extraction using gammapy, refer to the two tutorials [light_curve](light_curve.ipynb) and [light_curve_flare](light_curve_flare.ipynb) \n",
    "\n",
    "## Context\n",
    "\n",
    "Frequently, studies of variable sources (eg: decaying GRB light curves, AGN flares, etc) require time variable simulations. For most use cases, generating an event list is an overkill, and it suffices to use binned simulations using a temporal model.\n",
    "\n",
    "**Objective: Simulate and fit a time decaying light curve of a source with CTA using the CTA 1DC response**\n",
    "\n",
    "## Proposed approach:\n",
    "\n",
    "We will simulate 10 spectral datasets within given time intervals (Good Time Intervals) following a given spectral (a power law) and temporal profile (an exponential decay, with a decay time of 6 hr ). These are then analysed using the light curve estimator to obtain flux points. Then, we re-fit the simulated datasets to reconstruct back the injected profiles.\n",
    "\n",
    "In summary, necessary steps are:\n",
    "\n",
    "- Choose observation parameters including a list of `gammapy.data.GTI`\n",
    "- Define temporal and spectral models from :ref:model-gallery as per science case\n",
    "- Perform the simulation (in 1D or 3D)\n",
    "- Extract the light curve from the reduced dataset as shown in [light curve notebook](light_curve.ipynb)\n",
    "- Optionaly, we show here how to fit the simulated datasets using a source model \n",
    "\n",
    "\n",
    "## Setup \n",
    "\n",
    "As usual, we'll start with some general imports..."
   ]
  },
  {
   "cell_type": "markdown",
   "metadata": {},
   "source": [
    "## Setup"
   ]
  },
  {
   "cell_type": "code",
   "execution_count": 1,
   "metadata": {
    "execution": {
     "iopub.execute_input": "2021-02-02T18:11:27.693443Z",
     "iopub.status.busy": "2021-02-02T18:11:27.692821Z",
     "iopub.status.idle": "2021-02-02T18:11:28.406171Z",
     "shell.execute_reply": "2021-02-02T18:11:28.405153Z"
    }
   },
   "outputs": [],
   "source": [
    "%matplotlib inline\n",
    "import matplotlib.pyplot as plt\n",
    "import numpy as np\n",
    "import astropy.units as u\n",
    "from astropy.coordinates import SkyCoord\n",
    "from astropy.time import Time\n",
    "\n",
    "import logging\n",
    "\n",
    "log = logging.getLogger(__name__)"
   ]
  },
  {
   "cell_type": "markdown",
   "metadata": {},
   "source": [
    "And some gammapy specific imports"
   ]
  },
  {
   "cell_type": "code",
   "execution_count": 2,
   "metadata": {
    "execution": {
     "iopub.execute_input": "2021-02-02T18:11:28.412674Z",
     "iopub.status.busy": "2021-02-02T18:11:28.410815Z",
     "iopub.status.idle": "2021-02-02T18:11:29.018469Z",
     "shell.execute_reply": "2021-02-02T18:11:29.017132Z"
    }
   },
   "outputs": [],
   "source": [
    "from gammapy.data import Observation\n",
    "from gammapy.irf import load_cta_irfs\n",
    "from gammapy.datasets import SpectrumDataset, Datasets\n",
    "from gammapy.modeling.models import (\n",
    "    PowerLawSpectralModel,\n",
    "    ExpDecayTemporalModel,\n",
    "    SkyModel,\n",
    ")\n",
    "from gammapy.maps import MapAxis, RegionGeom\n",
    "from gammapy.estimators import LightCurveEstimator\n",
    "from gammapy.makers import SpectrumDatasetMaker\n",
    "from gammapy.modeling import Fit"
   ]
  },
  {
   "cell_type": "markdown",
   "metadata": {},
   "source": [
    "## Simulating a light curve\n",
    "\n",
    "We will simulate 10 datasets using an `PowerLawSpectralModel` and a `ExpDecayTemporalModel`. The important thing to note here is how to attach a different `GTI` to each dataset."
   ]
  },
  {
   "cell_type": "code",
   "execution_count": 3,
   "metadata": {
    "execution": {
     "iopub.execute_input": "2021-02-02T18:11:29.024872Z",
     "iopub.status.busy": "2021-02-02T18:11:29.024374Z",
     "iopub.status.idle": "2021-02-02T18:11:29.107465Z",
     "shell.execute_reply": "2021-02-02T18:11:29.106444Z"
    }
   },
   "outputs": [
    {
     "name": "stderr",
     "output_type": "stream",
     "text": [
      "Invalid unit found in background table! Assuming (s-1 MeV-1 sr-1)\n"
     ]
    }
   ],
   "source": [
    "# Loading IRFs\n",
    "irfs = load_cta_irfs(\n",
    "    \"$GAMMAPY_DATA/cta-1dc/caldb/data/cta/1dc/bcf/South_z20_50h/irf_file.fits\"\n",
    ")"
   ]
  },
  {
   "cell_type": "code",
   "execution_count": 4,
   "metadata": {
    "execution": {
     "iopub.execute_input": "2021-02-02T18:11:29.116570Z",
     "iopub.status.busy": "2021-02-02T18:11:29.115149Z",
     "iopub.status.idle": "2021-02-02T18:11:29.117100Z",
     "shell.execute_reply": "2021-02-02T18:11:29.117589Z"
    }
   },
   "outputs": [],
   "source": [
    "# Reconstructed and true energy axis\n",
    "energy_axis = MapAxis.from_edges(\n",
    "    np.logspace(-0.5, 1.0, 10), unit=\"TeV\", name=\"energy\", interp=\"log\"\n",
    ")\n",
    "energy_axis_true = MapAxis.from_edges(\n",
    "    np.logspace(-1.2, 2.0, 31), unit=\"TeV\", name=\"energy_true\", interp=\"log\"\n",
    ")\n",
    "\n",
    "geom = RegionGeom.create(\"galactic;circle(0, 0, 0.11)\", axes=[energy_axis])"
   ]
  },
  {
   "cell_type": "code",
   "execution_count": 5,
   "metadata": {
    "execution": {
     "iopub.execute_input": "2021-02-02T18:11:29.121875Z",
     "iopub.status.busy": "2021-02-02T18:11:29.121348Z",
     "iopub.status.idle": "2021-02-02T18:11:29.123591Z",
     "shell.execute_reply": "2021-02-02T18:11:29.123161Z"
    }
   },
   "outputs": [],
   "source": [
    "# Pointing position\n",
    "pointing = SkyCoord(0.5, 0.5, unit=\"deg\", frame=\"galactic\")"
   ]
  },
  {
   "cell_type": "markdown",
   "metadata": {},
   "source": [
    "Note that observations are usually conducted in  Wobble mode, in which the source is not in the center of the camera. This allows to have a symmetrical sky position from which background can be estimated."
   ]
  },
  {
   "cell_type": "code",
   "execution_count": 6,
   "metadata": {
    "execution": {
     "iopub.execute_input": "2021-02-02T18:11:29.141192Z",
     "iopub.status.busy": "2021-02-02T18:11:29.138360Z",
     "iopub.status.idle": "2021-02-02T18:11:29.146213Z",
     "shell.execute_reply": "2021-02-02T18:11:29.145774Z"
    }
   },
   "outputs": [
    {
     "name": "stderr",
     "output_type": "stream",
     "text": [
      "/usr/share/miniconda/envs/gammapy-dev/lib/python3.7/site-packages/astropy/units/quantity.py:477: RuntimeWarning: overflow encountered in exp\n",
      "  result = super().__array_ufunc__(function, method, *arrays, **kwargs)\n",
      "/usr/share/miniconda/envs/gammapy-dev/lib/python3.7/site-packages/astropy/units/quantity.py:477: RuntimeWarning: invalid value encountered in subtract\n",
      "  result = super().__array_ufunc__(function, method, *arrays, **kwargs)\n"
     ]
    }
   ],
   "source": [
    "# Define the source model: A combination of spectral and temporal model\n",
    "\n",
    "gti_t0 = Time(\"2020-03-01\")\n",
    "spectral_model = PowerLawSpectralModel(\n",
    "    index=3, amplitude=\"1e-11 cm-2 s-1 TeV-1\", reference=\"1 TeV\"\n",
    ")\n",
    "temporal_model = ExpDecayTemporalModel(t0=\"6 h\", t_ref=gti_t0.mjd * u.d)\n",
    "\n",
    "model_simu = SkyModel(\n",
    "    spectral_model=spectral_model,\n",
    "    temporal_model=temporal_model,\n",
    "    name=\"model-simu\",\n",
    ")"
   ]
  },
  {
   "cell_type": "code",
   "execution_count": 7,
   "metadata": {
    "execution": {
     "iopub.execute_input": "2021-02-02T18:11:29.155235Z",
     "iopub.status.busy": "2021-02-02T18:11:29.154758Z",
     "iopub.status.idle": "2021-02-02T18:11:29.157613Z",
     "shell.execute_reply": "2021-02-02T18:11:29.158106Z"
    }
   },
   "outputs": [
    {
     "data": {
      "text/html": [
       "<i>Table length=5</i>\n",
       "<table id=\"table140123168037520\" class=\"table-striped table-bordered table-condensed\">\n",
       "<thead><tr><th>type</th><th>name</th><th>value</th><th>unit</th><th>min</th><th>max</th><th>frozen</th><th>error</th></tr></thead>\n",
       "<thead><tr><th>str8</th><th>str9</th><th>float64</th><th>str14</th><th>float64</th><th>float64</th><th>bool</th><th>int64</th></tr></thead>\n",
       "<tr><td>spectral</td><td>index</td><td>3.0000e+00</td><td></td><td>nan</td><td>nan</td><td>False</td><td>0.000e+00</td></tr>\n",
       "<tr><td>spectral</td><td>amplitude</td><td>1.0000e-11</td><td>cm-2 s-1 TeV-1</td><td>nan</td><td>nan</td><td>False</td><td>0.000e+00</td></tr>\n",
       "<tr><td>spectral</td><td>reference</td><td>1.0000e+00</td><td>TeV</td><td>nan</td><td>nan</td><td>True</td><td>0.000e+00</td></tr>\n",
       "<tr><td>temporal</td><td>t0</td><td>2.5000e-01</td><td>d</td><td>nan</td><td>nan</td><td>False</td><td>0.000e+00</td></tr>\n",
       "<tr><td>temporal</td><td>t_ref</td><td>5.8909e+04</td><td>d</td><td>nan</td><td>nan</td><td>True</td><td>0.000e+00</td></tr>\n",
       "</table>"
      ],
      "text/plain": [
       "<Table length=5>\n",
       "  type      name     value         unit        min     max   frozen   error  \n",
       "  str8      str9    float64       str14      float64 float64  bool    int64  \n",
       "-------- --------- ---------- -------------- ------- ------- ------ ---------\n",
       "spectral     index 3.0000e+00                    nan     nan  False 0.000e+00\n",
       "spectral amplitude 1.0000e-11 cm-2 s-1 TeV-1     nan     nan  False 0.000e+00\n",
       "spectral reference 1.0000e+00            TeV     nan     nan   True 0.000e+00\n",
       "temporal        t0 2.5000e-01              d     nan     nan  False 0.000e+00\n",
       "temporal     t_ref 5.8909e+04              d     nan     nan   True 0.000e+00"
      ]
     },
     "execution_count": 1,
     "metadata": {},
     "output_type": "execute_result"
    }
   ],
   "source": [
    "# Look at the model\n",
    "model_simu.parameters.to_table()"
   ]
  },
  {
   "cell_type": "markdown",
   "metadata": {},
   "source": [
    "Now, define the start and observation livetime wrt to the reference time, `gti_t0`"
   ]
  },
  {
   "cell_type": "code",
   "execution_count": 8,
   "metadata": {
    "execution": {
     "iopub.execute_input": "2021-02-02T18:11:29.163458Z",
     "iopub.status.busy": "2021-02-02T18:11:29.162026Z",
     "iopub.status.idle": "2021-02-02T18:11:29.164000Z",
     "shell.execute_reply": "2021-02-02T18:11:29.164498Z"
    }
   },
   "outputs": [],
   "source": [
    "n_obs = 10\n",
    "tstart = [1, 2, 3, 5, 8, 10, 20, 22, 23, 24] * u.h\n",
    "lvtm = [55, 25, 26, 40, 40, 50, 40, 52, 43, 47] * u.min"
   ]
  },
  {
   "cell_type": "markdown",
   "metadata": {},
   "source": [
    "Now perform the simulations"
   ]
  },
  {
   "cell_type": "code",
   "execution_count": 9,
   "metadata": {
    "execution": {
     "iopub.execute_input": "2021-02-02T18:11:29.173676Z",
     "iopub.status.busy": "2021-02-02T18:11:29.172101Z",
     "iopub.status.idle": "2021-02-02T18:11:30.141223Z",
     "shell.execute_reply": "2021-02-02T18:11:30.140334Z"
    }
   },
   "outputs": [],
   "source": [
    "datasets = Datasets()\n",
    "\n",
    "empty = SpectrumDataset.create(\n",
    "    geom=geom, energy_axis_true=energy_axis_true, name=\"empty\"\n",
    ")\n",
    "\n",
    "maker = SpectrumDatasetMaker(selection=[\"exposure\", \"background\", \"edisp\"])\n",
    "\n",
    "for idx in range(n_obs):\n",
    "    obs = Observation.create(\n",
    "        pointing=pointing,\n",
    "        livetime=lvtm[idx],\n",
    "        tstart=tstart[idx],\n",
    "        irfs=irfs,\n",
    "        reference_time=gti_t0,\n",
    "        obs_id=idx,\n",
    "    )\n",
    "    empty_i = empty.copy(name=f\"dataset-{idx}\")\n",
    "    dataset = maker.run(empty_i, obs)\n",
    "    dataset.models = model_simu\n",
    "    dataset.fake()\n",
    "    datasets.append(dataset)"
   ]
  },
  {
   "cell_type": "markdown",
   "metadata": {},
   "source": [
    "The reduced datasets have been successfully simulated. Let's take a quick look into our datasets."
   ]
  },
  {
   "cell_type": "code",
   "execution_count": 10,
   "metadata": {
    "execution": {
     "iopub.execute_input": "2021-02-02T18:11:30.200270Z",
     "iopub.status.busy": "2021-02-02T18:11:30.153833Z",
     "iopub.status.idle": "2021-02-02T18:11:30.204516Z",
     "shell.execute_reply": "2021-02-02T18:11:30.205028Z"
    }
   },
   "outputs": [
    {
     "data": {
      "text/html": [
       "<i>Table length=10</i>\n",
       "<table id=\"table140123162777192\" class=\"table-striped table-bordered table-condensed\">\n",
       "<thead><tr><th>name</th><th>counts</th><th>background</th><th>excess</th><th>sqrt_ts</th><th>npred</th><th>npred_background</th><th>npred_signal</th><th>exposure_min</th><th>exposure_max</th><th>livetime</th><th>ontime</th><th>counts_rate</th><th>background_rate</th><th>excess_rate</th><th>n_bins</th><th>n_fit_bins</th><th>stat_type</th><th>stat_sum</th></tr></thead>\n",
       "<thead><tr><th></th><th></th><th></th><th></th><th></th><th></th><th></th><th></th><th>m2 s</th><th>m2 s</th><th>s</th><th>s</th><th>1 / s</th><th>1 / s</th><th>1 / s</th><th></th><th></th><th></th><th></th></tr></thead>\n",
       "<thead><tr><th>str9</th><th>float64</th><th>float64</th><th>float64</th><th>float64</th><th>float64</th><th>float64</th><th>float64</th><th>float64</th><th>float64</th><th>float64</th><th>float64</th><th>float64</th><th>float64</th><th>float64</th><th>int64</th><th>int64</th><th>str4</th><th>float64</th></tr></thead>\n",
       "<tr><td>stacked</td><td>785.0</td><td>20.318769454956055</td><td>764.6812133789062</td><td>64.86628428983504</td><td>20.318769469857216</td><td>20.318769454956055</td><td>nan</td><td>216137904.0</td><td>16025275392.0</td><td>3299.999999999999</td><td>3300.0</td><td>0.23787878787878794</td><td>0.0061572028651382</td><td>0.23172157981178984</td><td>9</td><td>9</td><td>cash</td><td>nan</td></tr>\n",
       "<tr><td>dataset-1</td><td>310.0</td><td>9.235804082761263</td><td>300.76419591723874</td><td>39.70934489099741</td><td>332.1496073198594</td><td>9.235804082761263</td><td>322.9138032370981</td><td>98244500.93556346</td><td>7284216297.31227</td><td>1500.0</td><td>1500.0</td><td>0.20666666666666667</td><td>0.006157202721840842</td><td>0.20050946394482583</td><td>9</td><td>9</td><td>cash</td><td>-1875.5361653300854</td></tr>\n",
       "<tr><td>dataset-2</td><td>314.0</td><td>9.605236246071716</td><td>304.39476375392826</td><td>39.76304311066326</td><td>293.4895977380109</td><td>9.605236246071716</td><td>283.8843614919392</td><td>102174280.972986</td><td>7575584949.2047615</td><td>1560.0</td><td>1560.0</td><td>0.2012820512820513</td><td>0.006157202721840844</td><td>0.19512484856021042</td><td>9</td><td>9</td><td>cash</td><td>-1903.5763951295994</td></tr>\n",
       "<tr><td>dataset-3</td><td>299.0</td><td>14.777286532418023</td><td>284.22271346758197</td><td>35.07066049662194</td><td>321.7838541184632</td><td>14.777286532418023</td><td>307.0065675860452</td><td>157191201.49690154</td><td>11654746075.699633</td><td>2400.0</td><td>2400.0</td><td>0.12458333333333334</td><td>0.006157202721840843</td><td>0.11842613061149249</td><td>9</td><td>9</td><td>cash</td><td>-1822.6127934277083</td></tr>\n",
       "<tr><td>dataset-4</td><td>217.0</td><td>14.777286532418</td><td>202.222713467582</td><td>27.597615780306803</td><td>200.98618250649287</td><td>14.777286532418</td><td>186.20889597407486</td><td>157191201.4969013</td><td>11654746075.699615</td><td>2399.9999999999964</td><td>2399.9999999999964</td><td>0.0904166666666668</td><td>0.006157202721840843</td><td>0.08425946394482596</td><td>9</td><td>9</td><td>cash</td><td>-1152.3901385341678</td></tr>\n",
       "<tr><td>dataset-5</td><td>173.0</td><td>18.471608165522525</td><td>154.52839183447747</td><td>21.563043538591515</td><td>182.99943974663034</td><td>18.471608165522525</td><td>164.52783158110782</td><td>196489001.87112692</td><td>14568432594.62454</td><td>3000.0</td><td>3000.0</td><td>0.057666666666666665</td><td>0.006157202721840842</td><td>0.05150946394482583</td><td>9</td><td>9</td><td>cash</td><td>-841.2072259449438</td></tr>\n",
       "<tr><td>dataset-6</td><td>36.0</td><td>14.777286532418023</td><td>21.222713467581976</td><td>4.654606583347118</td><td>39.977920210246545</td><td>14.777286532418023</td><td>25.200633677828524</td><td>157191201.49690154</td><td>11654746075.699633</td><td>2400.0</td><td>2400.0</td><td>0.015</td><td>0.006157202721840843</td><td>0.008842797278159157</td><td>9</td><td>9</td><td>cash</td><td>-58.56685427747497</td></tr>\n",
       "<tr><td>dataset-7</td><td>40.0</td><td>19.21047249214343</td><td>20.78952750785657</td><td>4.134592543738559</td><td>42.304828169435325</td><td>19.21047249214343</td><td>23.0943556772919</td><td>204348561.945972</td><td>15151169898.409523</td><td>3120.0</td><td>3120.0</td><td>0.01282051282051282</td><td>0.006157202721840844</td><td>0.006663310098671977</td><td>9</td><td>9</td><td>cash</td><td>-73.9528675754212</td></tr>\n",
       "<tr><td>dataset-8</td><td>28.0</td><td>15.88558302234937</td><td>12.11441697765063</td><td>2.7407203995968534</td><td>32.24990001666647</td><td>15.88558302234937</td><td>16.364316994317097</td><td>168980541.60916916</td><td>12528852031.377106</td><td>2580.0</td><td>2580.0</td><td>0.010852713178294573</td><td>0.006157202721840841</td><td>0.004695510456453732</td><td>9</td><td>9</td><td>cash</td><td>-51.23436510315227</td></tr>\n",
       "<tr><td>dataset-9</td><td>31.0</td><td>17.363311675591177</td><td>13.636688324408823</td><td>2.9433898437044066</td><td>32.421834712890764</td><td>17.363311675591177</td><td>15.058523037299588</td><td>184699661.7588593</td><td>13694326638.94707</td><td>2820.0</td><td>2820.0</td><td>0.01099290780141844</td><td>0.006157202721840843</td><td>0.004835705079577597</td><td>9</td><td>9</td><td>cash</td><td>-42.76847213011092</td></tr>\n",
       "</table>"
      ],
      "text/plain": [
       "<Table length=10>\n",
       "   name    counts     background     ... stat_type       stat_sum     \n",
       "                                     ...                              \n",
       "   str9   float64      float64       ...    str4         float64      \n",
       "--------- ------- ------------------ ... --------- -------------------\n",
       "  stacked   785.0 20.318769454956055 ...      cash                 nan\n",
       "dataset-1   310.0  9.235804082761263 ...      cash -1875.5361653300854\n",
       "dataset-2   314.0  9.605236246071716 ...      cash -1903.5763951295994\n",
       "dataset-3   299.0 14.777286532418023 ...      cash -1822.6127934277083\n",
       "dataset-4   217.0    14.777286532418 ...      cash -1152.3901385341678\n",
       "dataset-5   173.0 18.471608165522525 ...      cash  -841.2072259449438\n",
       "dataset-6    36.0 14.777286532418023 ...      cash  -58.56685427747497\n",
       "dataset-7    40.0  19.21047249214343 ...      cash   -73.9528675754212\n",
       "dataset-8    28.0  15.88558302234937 ...      cash  -51.23436510315227\n",
       "dataset-9    31.0 17.363311675591177 ...      cash  -42.76847213011092"
      ]
     },
     "execution_count": 1,
     "metadata": {},
     "output_type": "execute_result"
    }
   ],
   "source": [
    "datasets.info_table()"
   ]
  },
  {
   "cell_type": "markdown",
   "metadata": {},
   "source": [
    "## Extract the lightcurve\n",
    "\n",
    "This section uses standard light curve estimation tools for a 1D extraction. Only a spectral model needs to be defined in this case. Since the estimator returns the integrated flux separately for each time bin, the temporal model need not be accounted for at this stage."
   ]
  },
  {
   "cell_type": "code",
   "execution_count": 11,
   "metadata": {
    "execution": {
     "iopub.execute_input": "2021-02-02T18:11:30.213977Z",
     "iopub.status.busy": "2021-02-02T18:11:30.210624Z",
     "iopub.status.idle": "2021-02-02T18:11:30.216314Z",
     "shell.execute_reply": "2021-02-02T18:11:30.216923Z"
    }
   },
   "outputs": [],
   "source": [
    "# Define the model:\n",
    "spectral_model = PowerLawSpectralModel(\n",
    "    index=3, amplitude=\"1e-11 cm-2 s-1 TeV-1\", reference=\"1 TeV\"\n",
    ")\n",
    "model_fit = SkyModel(spectral_model=spectral_model, name=\"model-fit\")"
   ]
  },
  {
   "cell_type": "code",
   "execution_count": 12,
   "metadata": {
    "execution": {
     "iopub.execute_input": "2021-02-02T18:11:30.221751Z",
     "iopub.status.busy": "2021-02-02T18:11:30.221259Z",
     "iopub.status.idle": "2021-02-02T18:11:30.224720Z",
     "shell.execute_reply": "2021-02-02T18:11:30.224198Z"
    }
   },
   "outputs": [],
   "source": [
    "# Attach model to all datasets\n",
    "datasets.models = model_fit"
   ]
  },
  {
   "cell_type": "code",
   "execution_count": 13,
   "metadata": {
    "execution": {
     "iopub.execute_input": "2021-02-02T18:11:30.275880Z",
     "iopub.status.busy": "2021-02-02T18:11:30.272868Z",
     "iopub.status.idle": "2021-02-02T18:11:36.689818Z",
     "shell.execute_reply": "2021-02-02T18:11:36.688574Z"
    }
   },
   "outputs": [
    {
     "name": "stdout",
     "output_type": "stream",
     "text": [
      "CPU times: user 6.47 s, sys: 12.1 ms, total: 6.48 s\n",
      "Wall time: 6.46 s\n"
     ]
    }
   ],
   "source": [
    "%%time\n",
    "lc_maker_1d = LightCurveEstimator(\n",
    "    energy_edges=[0.3, 10] * u.TeV,\n",
    "    source=\"model-fit\",\n",
    "    selection_optional=[\"ul\"],\n",
    ")\n",
    "lc_1d = lc_maker_1d.run(datasets)"
   ]
  },
  {
   "cell_type": "code",
   "execution_count": 14,
   "metadata": {
    "execution": {
     "iopub.execute_input": "2021-02-02T18:11:36.695381Z",
     "iopub.status.busy": "2021-02-02T18:11:36.694885Z",
     "iopub.status.idle": "2021-02-02T18:11:36.698893Z",
     "shell.execute_reply": "2021-02-02T18:11:36.697812Z"
    }
   },
   "outputs": [],
   "source": [
    "lc_1d.table[\"is_ul\"] = lc_1d.table[\"ts\"] < 1"
   ]
  },
  {
   "cell_type": "code",
   "execution_count": 15,
   "metadata": {
    "execution": {
     "iopub.execute_input": "2021-02-02T18:11:36.724450Z",
     "iopub.status.busy": "2021-02-02T18:11:36.702699Z",
     "iopub.status.idle": "2021-02-02T18:11:36.851303Z",
     "shell.execute_reply": "2021-02-02T18:11:36.850285Z"
    },
    "nbsphinx-thumbnail": {
     "tooltip": "Simulate and fit a time decaying light curve of a source using the CTA 1DC response."
    }
   },
   "outputs": [
    {
     "data": {
      "image/png": "[encoded data removed]",
      "text/plain": [
       "<Figure size 432x288 with 1 Axes>"
      ]
     },
     "metadata": {
      "needs_background": "light"
     },
     "output_type": "display_data"
    }
   ],
   "source": [
    "ax = lc_1d.plot(marker=\"o\", label=\"3D\")"
   ]
  },
  {
   "cell_type": "markdown",
   "metadata": {},
   "source": [
    "We have the reconstructed lightcurve at this point. Further standard analyis might involve modeling the temporal profiles with an analytical or theoretical model. You may do this using your favourite fitting package, one possible option being `curve_fit` inside `scipy.optimize`.\n",
    "\n",
    "In the next section, we show how to simulatenously fit the all datasets using a given temporal model. This does a joint fitting across the different datasets, while simultaneously miniminsing across the temporal model parameters as well. We will fit the amplitude, spectral index and the decay time scale. Note that `t_ref` should be fixed by default for the `ExpDecayTemporalModel`. \n",
    "\n",
    "For modelling and fitting more complex flares, you should attach the relevant model to each group of `datasets`. The paramters of a model in a given group of dataset will be tied. For more details on joint fitting in gammapy, see [here](modeling.ipynb)."
   ]
  },
  {
   "cell_type": "markdown",
   "metadata": {},
   "source": [
    "## Fit the datasets"
   ]
  },
  {
   "cell_type": "code",
   "execution_count": 16,
   "metadata": {
    "execution": {
     "iopub.execute_input": "2021-02-02T18:11:36.865539Z",
     "iopub.status.busy": "2021-02-02T18:11:36.865035Z",
     "iopub.status.idle": "2021-02-02T18:11:36.868891Z",
     "shell.execute_reply": "2021-02-02T18:11:36.868109Z"
    }
   },
   "outputs": [
    {
     "name": "stderr",
     "output_type": "stream",
     "text": [
      "/usr/share/miniconda/envs/gammapy-dev/lib/python3.7/site-packages/astropy/units/quantity.py:477: RuntimeWarning: overflow encountered in exp\n",
      "  result = super().__array_ufunc__(function, method, *arrays, **kwargs)\n",
      "/usr/share/miniconda/envs/gammapy-dev/lib/python3.7/site-packages/astropy/units/quantity.py:477: RuntimeWarning: invalid value encountered in subtract\n",
      "  result = super().__array_ufunc__(function, method, *arrays, **kwargs)\n"
     ]
    }
   ],
   "source": [
    "# Define the model:\n",
    "spectral_model1 = PowerLawSpectralModel(\n",
    "    index=2.0, amplitude=\"1e-12 cm-2 s-1 TeV-1\", reference=\"1 TeV\"\n",
    ")\n",
    "temporal_model1 = ExpDecayTemporalModel(t0=\"10 h\", t_ref=gti_t0.mjd * u.d)\n",
    "\n",
    "model = SkyModel(\n",
    "    spectral_model=spectral_model1,\n",
    "    temporal_model=temporal_model1,\n",
    "    name=\"model-test\",\n",
    ")"
   ]
  },
  {
   "cell_type": "code",
   "execution_count": 17,
   "metadata": {
    "execution": {
     "iopub.execute_input": "2021-02-02T18:11:36.875208Z",
     "iopub.status.busy": "2021-02-02T18:11:36.874752Z",
     "iopub.status.idle": "2021-02-02T18:11:36.879706Z",
     "shell.execute_reply": "2021-02-02T18:11:36.878983Z"
    }
   },
   "outputs": [
    {
     "data": {
      "text/html": [
       "<i>Table length=5</i>\n",
       "<table id=\"table140123972293912\" class=\"table-striped table-bordered table-condensed\">\n",
       "<thead><tr><th>type</th><th>name</th><th>value</th><th>unit</th><th>min</th><th>max</th><th>frozen</th><th>error</th></tr></thead>\n",
       "<thead><tr><th>str8</th><th>str9</th><th>float64</th><th>str14</th><th>float64</th><th>float64</th><th>bool</th><th>int64</th></tr></thead>\n",
       "<tr><td>spectral</td><td>index</td><td>2.0000e+00</td><td></td><td>nan</td><td>nan</td><td>False</td><td>0.000e+00</td></tr>\n",
       "<tr><td>spectral</td><td>amplitude</td><td>1.0000e-12</td><td>cm-2 s-1 TeV-1</td><td>nan</td><td>nan</td><td>False</td><td>0.000e+00</td></tr>\n",
       "<tr><td>spectral</td><td>reference</td><td>1.0000e+00</td><td>TeV</td><td>nan</td><td>nan</td><td>True</td><td>0.000e+00</td></tr>\n",
       "<tr><td>temporal</td><td>t0</td><td>4.1667e-01</td><td>d</td><td>nan</td><td>nan</td><td>False</td><td>0.000e+00</td></tr>\n",
       "<tr><td>temporal</td><td>t_ref</td><td>5.8909e+04</td><td>d</td><td>nan</td><td>nan</td><td>True</td><td>0.000e+00</td></tr>\n",
       "</table>"
      ],
      "text/plain": [
       "<Table length=5>\n",
       "  type      name     value         unit        min     max   frozen   error  \n",
       "  str8      str9    float64       str14      float64 float64  bool    int64  \n",
       "-------- --------- ---------- -------------- ------- ------- ------ ---------\n",
       "spectral     index 2.0000e+00                    nan     nan  False 0.000e+00\n",
       "spectral amplitude 1.0000e-12 cm-2 s-1 TeV-1     nan     nan  False 0.000e+00\n",
       "spectral reference 1.0000e+00            TeV     nan     nan   True 0.000e+00\n",
       "temporal        t0 4.1667e-01              d     nan     nan  False 0.000e+00\n",
       "temporal     t_ref 5.8909e+04              d     nan     nan   True 0.000e+00"
      ]
     },
     "execution_count": 1,
     "metadata": {},
     "output_type": "execute_result"
    }
   ],
   "source": [
    "model.parameters.to_table()"
   ]
  },
  {
   "cell_type": "code",
   "execution_count": 18,
   "metadata": {
    "execution": {
     "iopub.execute_input": "2021-02-02T18:11:36.884469Z",
     "iopub.status.busy": "2021-02-02T18:11:36.883977Z",
     "iopub.status.idle": "2021-02-02T18:11:36.887543Z",
     "shell.execute_reply": "2021-02-02T18:11:36.887008Z"
    }
   },
   "outputs": [],
   "source": [
    "datasets.models = model"
   ]
  },
  {
   "cell_type": "code",
   "execution_count": 19,
   "metadata": {
    "execution": {
     "iopub.execute_input": "2021-02-02T18:11:36.922931Z",
     "iopub.status.busy": "2021-02-02T18:11:36.921699Z",
     "iopub.status.idle": "2021-02-02T18:11:46.349403Z",
     "shell.execute_reply": "2021-02-02T18:11:46.348193Z"
    }
   },
   "outputs": [
    {
     "name": "stdout",
     "output_type": "stream",
     "text": [
      "CPU times: user 9.47 s, sys: 7.55 ms, total: 9.47 s\n",
      "Wall time: 9.45 s\n"
     ]
    }
   ],
   "source": [
    "%%time\n",
    "# Do a joint fit\n",
    "fit = Fit(datasets)\n",
    "result = fit.run()"
   ]
  },
  {
   "cell_type": "code",
   "execution_count": 20,
   "metadata": {
    "execution": {
     "iopub.execute_input": "2021-02-02T18:11:46.358492Z",
     "iopub.status.busy": "2021-02-02T18:11:46.357996Z",
     "iopub.status.idle": "2021-02-02T18:11:46.363175Z",
     "shell.execute_reply": "2021-02-02T18:11:46.362644Z"
    }
   },
   "outputs": [
    {
     "data": {
      "text/html": [
       "<i>Table length=5</i>\n",
       "<table id=\"table140123972294584\" class=\"table-striped table-bordered table-condensed\">\n",
       "<thead><tr><th>type</th><th>name</th><th>value</th><th>unit</th><th>min</th><th>max</th><th>frozen</th><th>error</th></tr></thead>\n",
       "<thead><tr><th>str8</th><th>str9</th><th>float64</th><th>str14</th><th>float64</th><th>float64</th><th>bool</th><th>float64</th></tr></thead>\n",
       "<tr><td>spectral</td><td>index</td><td>2.9722e+00</td><td></td><td>nan</td><td>nan</td><td>False</td><td>3.197e-02</td></tr>\n",
       "<tr><td>spectral</td><td>amplitude</td><td>9.8034e-12</td><td>cm-2 s-1 TeV-1</td><td>nan</td><td>nan</td><td>False</td><td>3.413e-13</td></tr>\n",
       "<tr><td>spectral</td><td>reference</td><td>1.0000e+00</td><td>TeV</td><td>nan</td><td>nan</td><td>True</td><td>0.000e+00</td></tr>\n",
       "<tr><td>temporal</td><td>t0</td><td>2.4963e-01</td><td>d</td><td>nan</td><td>nan</td><td>False</td><td>8.618e-03</td></tr>\n",
       "<tr><td>temporal</td><td>t_ref</td><td>5.8909e+04</td><td>d</td><td>nan</td><td>nan</td><td>True</td><td>0.000e+00</td></tr>\n",
       "</table>"
      ],
      "text/plain": [
       "<Table length=5>\n",
       "  type      name     value         unit        min     max   frozen   error  \n",
       "  str8      str9    float64       str14      float64 float64  bool   float64 \n",
       "-------- --------- ---------- -------------- ------- ------- ------ ---------\n",
       "spectral     index 2.9722e+00                    nan     nan  False 3.197e-02\n",
       "spectral amplitude 9.8034e-12 cm-2 s-1 TeV-1     nan     nan  False 3.413e-13\n",
       "spectral reference 1.0000e+00            TeV     nan     nan   True 0.000e+00\n",
       "temporal        t0 2.4963e-01              d     nan     nan  False 8.618e-03\n",
       "temporal     t_ref 5.8909e+04              d     nan     nan   True 0.000e+00"
      ]
     },
     "execution_count": 1,
     "metadata": {},
     "output_type": "execute_result"
    }
   ],
   "source": [
    "result.parameters.to_table()"
   ]
  },
  {
   "cell_type": "markdown",
   "metadata": {},
   "source": [
    "We see that the fitted parameters match well with the simulated ones!"
   ]
  },
  {
   "cell_type": "markdown",
   "metadata": {},
   "source": [
    "## Exercises\n",
    "\n",
    "1. Re-do the analysis with `MapDataset` instead of `SpectralDataset`\n",
    "2. Model the flare of PKS 2155-304 which you obtained using the [light curve flare tutorial](light_curve_flare.ipynb). Use a combination of a Gaussian and Exponential flare profiles, and fit using `scipy.optimize.curve_fit`\n",
    "3. Do a joint fitting of the datasets."
   ]
  },
  {
   "cell_type": "code",
   "execution_count": null,
   "metadata": {},
   "outputs": [],
   "source": []
  }
 ],
 "metadata": {
  "kernelspec": {
   "display_name": "Python 3",
   "language": "python",
   "name": "python3"
  },
  "language_info": {
   "codemirror_mode": {
    "name": "ipython",
    "version": 3
   },
   "file_extension": ".py",
   "mimetype": "text/x-python",
   "name": "python",
   "nbconvert_exporter": "python",
   "pygments_lexer": "ipython3",
   "version": "3.7.0"
  },
  "nbsphinx": {
   "orphan": true
  }
 },
 "nbformat": 4,
 "nbformat_minor": 4
}
