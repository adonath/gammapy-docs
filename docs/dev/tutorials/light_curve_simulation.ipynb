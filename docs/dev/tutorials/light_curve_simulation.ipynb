{
 "cells": [
  {
   "cell_type": "markdown",
   "metadata": {},
   "source": [
    "\n",
    "<div class=\"alert alert-info\">\n",
    "\n",
    "**This is a fixed-text formatted version of a Jupyter notebook**\n",
    "\n",
    "- Try online [![Binder](https://static.mybinder.org/badge.svg)](https://mybinder.org/v2/gh/gammapy/gammapy-webpage/master?urlpath=lab/tree/light_curve_simulation.ipynb)\n",
    "- You may download all the notebooks in the documentation as a [tar file](../_downloads/notebooks-dev.tar).\n",
    "- **Source files:**\n",
    "[light_curve_simulation.ipynb](../_static/notebooks/light_curve_simulation.ipynb) |\n",
    "[light_curve_simulation.py](../_static/notebooks/light_curve_simulation.py)\n",
    "</div>\n"
   ]
  },
  {
   "cell_type": "markdown",
   "metadata": {},
   "source": [
    "# Simulating and fitting a time varying source\n",
    "\n",
    "## Prerequisites:\n",
    "\n",
    "- To understand how a single binned simulation works, please refer to [spectrum_simulation](spectrum_simulation.ipynb) [simulate_3d](simulate_3d.ipynb) for 1D and 3D simulations respectively.\n",
    "- For details of light curve extraction using gammapy, refer to the two tutorials [light_curve](light_curve.ipynb) and [light_curve_flare](light_curve_flare.ipynb) \n",
    "\n",
    "## Context\n",
    "\n",
    "Frequently, studies of variable sources (eg: decaying GRB light curves, AGN flares, etc) require time variable simulations. For most use cases, generating an event list is an overkill, and it suffices to use binned simulations using a temporal model.\n",
    "\n",
    "**Objective: Simulate and fit a time decaying light curve of a source with CTA using the CTA 1DC response**\n",
    "\n",
    "## Proposed approach:\n",
    "\n",
    "We will simulate 10 spectral datasets within given time intervals (Good Time Intervals) following a given spectral (a power law) and temporal profile (an exponential decay, with a decay time of 6 hr ). These are then analysed using the light curve estimator to obtain flux points. Then, we re-fit the simulated datasets to reconstruct back the injected profiles.\n",
    "\n",
    "In summary, necessary steps are:\n",
    "\n",
    "- Choose observation parameters including a list of `gammapy.data.GTI`\n",
    "- Define temporal and spectral models from :ref:model-gallery as per science case\n",
    "- Perform the simulation (in 1D or 3D)\n",
    "- Extract the light curve from the reduced dataset as shown in [light curve notebook](light_curve.ipynb)\n",
    "- Optionaly, we show here how to fit the simulated datasets using a source model \n",
    "\n",
    "\n",
    "## Setup \n",
    "\n",
    "As usual, we'll start with some general imports..."
   ]
  },
  {
   "cell_type": "markdown",
   "metadata": {},
   "source": [
    "## Setup"
   ]
  },
  {
   "cell_type": "code",
   "execution_count": 1,
   "metadata": {
    "execution": {
     "iopub.execute_input": "2021-02-06T18:03:39.875323Z",
     "iopub.status.busy": "2021-02-06T18:03:39.873738Z",
     "iopub.status.idle": "2021-02-06T18:03:40.649305Z",
     "shell.execute_reply": "2021-02-06T18:03:40.648694Z"
    }
   },
   "outputs": [],
   "source": [
    "%matplotlib inline\n",
    "import matplotlib.pyplot as plt\n",
    "import numpy as np\n",
    "import astropy.units as u\n",
    "from astropy.coordinates import SkyCoord\n",
    "from astropy.time import Time\n",
    "\n",
    "import logging\n",
    "\n",
    "log = logging.getLogger(__name__)"
   ]
  },
  {
   "cell_type": "markdown",
   "metadata": {},
   "source": [
    "And some gammapy specific imports"
   ]
  },
  {
   "cell_type": "code",
   "execution_count": 2,
   "metadata": {
    "execution": {
     "iopub.execute_input": "2021-02-06T18:03:40.655050Z",
     "iopub.status.busy": "2021-02-06T18:03:40.653468Z",
     "iopub.status.idle": "2021-02-06T18:03:41.311001Z",
     "shell.execute_reply": "2021-02-06T18:03:41.310123Z"
    }
   },
   "outputs": [],
   "source": [
    "from gammapy.data import Observation\n",
    "from gammapy.irf import load_cta_irfs\n",
    "from gammapy.datasets import SpectrumDataset, Datasets\n",
    "from gammapy.modeling.models import (\n",
    "    PowerLawSpectralModel,\n",
    "    ExpDecayTemporalModel,\n",
    "    SkyModel,\n",
    ")\n",
    "from gammapy.maps import MapAxis, RegionGeom\n",
    "from gammapy.estimators import LightCurveEstimator\n",
    "from gammapy.makers import SpectrumDatasetMaker\n",
    "from gammapy.modeling import Fit"
   ]
  },
  {
   "cell_type": "markdown",
   "metadata": {},
   "source": [
    "## Simulating a light curve\n",
    "\n",
    "We will simulate 10 datasets using an `PowerLawSpectralModel` and a `ExpDecayTemporalModel`. The important thing to note here is how to attach a different `GTI` to each dataset."
   ]
  },
  {
   "cell_type": "code",
   "execution_count": 3,
   "metadata": {
    "execution": {
     "iopub.execute_input": "2021-02-06T18:03:41.316170Z",
     "iopub.status.busy": "2021-02-06T18:03:41.315274Z",
     "iopub.status.idle": "2021-02-06T18:03:41.406766Z",
     "shell.execute_reply": "2021-02-06T18:03:41.406091Z"
    }
   },
   "outputs": [
    {
     "name": "stderr",
     "output_type": "stream",
     "text": [
      "Invalid unit found in background table! Assuming (s-1 MeV-1 sr-1)\n"
     ]
    }
   ],
   "source": [
    "# Loading IRFs\n",
    "irfs = load_cta_irfs(\n",
    "    \"$GAMMAPY_DATA/cta-1dc/caldb/data/cta/1dc/bcf/South_z20_50h/irf_file.fits\"\n",
    ")"
   ]
  },
  {
   "cell_type": "code",
   "execution_count": 4,
   "metadata": {
    "execution": {
     "iopub.execute_input": "2021-02-06T18:03:41.416892Z",
     "iopub.status.busy": "2021-02-06T18:03:41.415622Z",
     "iopub.status.idle": "2021-02-06T18:03:41.417574Z",
     "shell.execute_reply": "2021-02-06T18:03:41.418152Z"
    }
   },
   "outputs": [],
   "source": [
    "# Reconstructed and true energy axis\n",
    "energy_axis = MapAxis.from_edges(\n",
    "    np.logspace(-0.5, 1.0, 10), unit=\"TeV\", name=\"energy\", interp=\"log\"\n",
    ")\n",
    "energy_axis_true = MapAxis.from_edges(\n",
    "    np.logspace(-1.2, 2.0, 31), unit=\"TeV\", name=\"energy_true\", interp=\"log\"\n",
    ")\n",
    "\n",
    "geom = RegionGeom.create(\"galactic;circle(0, 0, 0.11)\", axes=[energy_axis])"
   ]
  },
  {
   "cell_type": "code",
   "execution_count": 5,
   "metadata": {
    "execution": {
     "iopub.execute_input": "2021-02-06T18:03:41.425040Z",
     "iopub.status.busy": "2021-02-06T18:03:41.423795Z",
     "iopub.status.idle": "2021-02-06T18:03:41.425881Z",
     "shell.execute_reply": "2021-02-06T18:03:41.426738Z"
    }
   },
   "outputs": [],
   "source": [
    "# Pointing position\n",
    "pointing = SkyCoord(0.5, 0.5, unit=\"deg\", frame=\"galactic\")"
   ]
  },
  {
   "cell_type": "markdown",
   "metadata": {},
   "source": [
    "Note that observations are usually conducted in  Wobble mode, in which the source is not in the center of the camera. This allows to have a symmetrical sky position from which background can be estimated."
   ]
  },
  {
   "cell_type": "code",
   "execution_count": 6,
   "metadata": {
    "execution": {
     "iopub.execute_input": "2021-02-06T18:03:41.445607Z",
     "iopub.status.busy": "2021-02-06T18:03:41.437883Z",
     "iopub.status.idle": "2021-02-06T18:03:41.447122Z",
     "shell.execute_reply": "2021-02-06T18:03:41.447714Z"
    }
   },
   "outputs": [
    {
     "name": "stderr",
     "output_type": "stream",
     "text": [
      "/usr/share/miniconda/envs/gammapy-dev/lib/python3.7/site-packages/astropy/units/quantity.py:477: RuntimeWarning: overflow encountered in exp\n",
      "  result = super().__array_ufunc__(function, method, *arrays, **kwargs)\n",
      "/usr/share/miniconda/envs/gammapy-dev/lib/python3.7/site-packages/astropy/units/quantity.py:477: RuntimeWarning: invalid value encountered in subtract\n",
      "  result = super().__array_ufunc__(function, method, *arrays, **kwargs)\n"
     ]
    }
   ],
   "source": [
    "# Define the source model: A combination of spectral and temporal model\n",
    "\n",
    "gti_t0 = Time(\"2020-03-01\")\n",
    "spectral_model = PowerLawSpectralModel(\n",
    "    index=3, amplitude=\"1e-11 cm-2 s-1 TeV-1\", reference=\"1 TeV\"\n",
    ")\n",
    "temporal_model = ExpDecayTemporalModel(t0=\"6 h\", t_ref=gti_t0.mjd * u.d)\n",
    "\n",
    "model_simu = SkyModel(\n",
    "    spectral_model=spectral_model,\n",
    "    temporal_model=temporal_model,\n",
    "    name=\"model-simu\",\n",
    ")"
   ]
  },
  {
   "cell_type": "code",
   "execution_count": 7,
   "metadata": {
    "execution": {
     "iopub.execute_input": "2021-02-06T18:03:41.457752Z",
     "iopub.status.busy": "2021-02-06T18:03:41.457214Z",
     "iopub.status.idle": "2021-02-06T18:03:41.460438Z",
     "shell.execute_reply": "2021-02-06T18:03:41.461006Z"
    }
   },
   "outputs": [
    {
     "data": {
      "text/html": [
       "<i>Table length=5</i>\n",
       "<table id=\"table139667552517760\" class=\"table-striped table-bordered table-condensed\">\n",
       "<thead><tr><th>type</th><th>name</th><th>value</th><th>unit</th><th>min</th><th>max</th><th>frozen</th><th>error</th></tr></thead>\n",
       "<thead><tr><th>str8</th><th>str9</th><th>float64</th><th>str14</th><th>float64</th><th>float64</th><th>bool</th><th>int64</th></tr></thead>\n",
       "<tr><td>spectral</td><td>index</td><td>3.0000e+00</td><td></td><td>nan</td><td>nan</td><td>False</td><td>0.000e+00</td></tr>\n",
       "<tr><td>spectral</td><td>amplitude</td><td>1.0000e-11</td><td>cm-2 s-1 TeV-1</td><td>nan</td><td>nan</td><td>False</td><td>0.000e+00</td></tr>\n",
       "<tr><td>spectral</td><td>reference</td><td>1.0000e+00</td><td>TeV</td><td>nan</td><td>nan</td><td>True</td><td>0.000e+00</td></tr>\n",
       "<tr><td>temporal</td><td>t0</td><td>2.5000e-01</td><td>d</td><td>nan</td><td>nan</td><td>False</td><td>0.000e+00</td></tr>\n",
       "<tr><td>temporal</td><td>t_ref</td><td>5.8909e+04</td><td>d</td><td>nan</td><td>nan</td><td>True</td><td>0.000e+00</td></tr>\n",
       "</table>"
      ],
      "text/plain": [
       "<Table length=5>\n",
       "  type      name     value         unit        min     max   frozen   error  \n",
       "  str8      str9    float64       str14      float64 float64  bool    int64  \n",
       "-------- --------- ---------- -------------- ------- ------- ------ ---------\n",
       "spectral     index 3.0000e+00                    nan     nan  False 0.000e+00\n",
       "spectral amplitude 1.0000e-11 cm-2 s-1 TeV-1     nan     nan  False 0.000e+00\n",
       "spectral reference 1.0000e+00            TeV     nan     nan   True 0.000e+00\n",
       "temporal        t0 2.5000e-01              d     nan     nan  False 0.000e+00\n",
       "temporal     t_ref 5.8909e+04              d     nan     nan   True 0.000e+00"
      ]
     },
     "execution_count": 1,
     "metadata": {},
     "output_type": "execute_result"
    }
   ],
   "source": [
    "# Look at the model\n",
    "model_simu.parameters.to_table()"
   ]
  },
  {
   "cell_type": "markdown",
   "metadata": {},
   "source": [
    "Now, define the start and observation livetime wrt to the reference time, `gti_t0`"
   ]
  },
  {
   "cell_type": "code",
   "execution_count": 8,
   "metadata": {
    "execution": {
     "iopub.execute_input": "2021-02-06T18:03:41.467241Z",
     "iopub.status.busy": "2021-02-06T18:03:41.465307Z",
     "iopub.status.idle": "2021-02-06T18:03:41.468008Z",
     "shell.execute_reply": "2021-02-06T18:03:41.468806Z"
    }
   },
   "outputs": [],
   "source": [
    "n_obs = 10\n",
    "tstart = [1, 2, 3, 5, 8, 10, 20, 22, 23, 24] * u.h\n",
    "lvtm = [55, 25, 26, 40, 40, 50, 40, 52, 43, 47] * u.min"
   ]
  },
  {
   "cell_type": "markdown",
   "metadata": {},
   "source": [
    "Now perform the simulations"
   ]
  },
  {
   "cell_type": "code",
   "execution_count": 9,
   "metadata": {
    "execution": {
     "iopub.execute_input": "2021-02-06T18:03:41.516362Z",
     "iopub.status.busy": "2021-02-06T18:03:41.505097Z",
     "iopub.status.idle": "2021-02-06T18:03:42.563188Z",
     "shell.execute_reply": "2021-02-06T18:03:42.563655Z"
    }
   },
   "outputs": [],
   "source": [
    "datasets = Datasets()\n",
    "\n",
    "empty = SpectrumDataset.create(\n",
    "    geom=geom, energy_axis_true=energy_axis_true, name=\"empty\"\n",
    ")\n",
    "\n",
    "maker = SpectrumDatasetMaker(selection=[\"exposure\", \"background\", \"edisp\"])\n",
    "\n",
    "for idx in range(n_obs):\n",
    "    obs = Observation.create(\n",
    "        pointing=pointing,\n",
    "        livetime=lvtm[idx],\n",
    "        tstart=tstart[idx],\n",
    "        irfs=irfs,\n",
    "        reference_time=gti_t0,\n",
    "        obs_id=idx,\n",
    "    )\n",
    "    empty_i = empty.copy(name=f\"dataset-{idx}\")\n",
    "    dataset = maker.run(empty_i, obs)\n",
    "    dataset.models = model_simu\n",
    "    dataset.fake()\n",
    "    datasets.append(dataset)"
   ]
  },
  {
   "cell_type": "markdown",
   "metadata": {},
   "source": [
    "The reduced datasets have been successfully simulated. Let's take a quick look into our datasets."
   ]
  },
  {
   "cell_type": "code",
   "execution_count": 10,
   "metadata": {
    "execution": {
     "iopub.execute_input": "2021-02-06T18:03:42.611416Z",
     "iopub.status.busy": "2021-02-06T18:03:42.567887Z",
     "iopub.status.idle": "2021-02-06T18:03:42.634578Z",
     "shell.execute_reply": "2021-02-06T18:03:42.635156Z"
    }
   },
   "outputs": [
    {
     "data": {
      "text/html": [
       "<i>Table length=10</i>\n",
       "<table id=\"table139667547356184\" class=\"table-striped table-bordered table-condensed\">\n",
       "<thead><tr><th>name</th><th>counts</th><th>background</th><th>excess</th><th>sqrt_ts</th><th>npred</th><th>npred_background</th><th>npred_signal</th><th>exposure_min</th><th>exposure_max</th><th>livetime</th><th>ontime</th><th>counts_rate</th><th>background_rate</th><th>excess_rate</th><th>n_bins</th><th>n_fit_bins</th><th>stat_type</th><th>stat_sum</th></tr></thead>\n",
       "<thead><tr><th></th><th></th><th></th><th></th><th></th><th></th><th></th><th></th><th>m2 s</th><th>m2 s</th><th>s</th><th>s</th><th>1 / s</th><th>1 / s</th><th>1 / s</th><th></th><th></th><th></th><th></th></tr></thead>\n",
       "<thead><tr><th>str9</th><th>float64</th><th>float64</th><th>float64</th><th>float64</th><th>float64</th><th>float64</th><th>float64</th><th>float64</th><th>float64</th><th>float64</th><th>float64</th><th>float64</th><th>float64</th><th>float64</th><th>int64</th><th>int64</th><th>str4</th><th>float64</th></tr></thead>\n",
       "<tr><td>stacked</td><td>824.0</td><td>20.318769454956055</td><td>803.6812133789062</td><td>67.04151251885072</td><td>20.318769469857216</td><td>20.318769454956055</td><td>nan</td><td>216137904.0</td><td>16025275392.0</td><td>3299.999999999999</td><td>3300.0</td><td>0.24969696969696978</td><td>0.0061572028651382</td><td>0.24353976162997165</td><td>9</td><td>9</td><td>cash</td><td>nan</td></tr>\n",
       "<tr><td>dataset-1</td><td>349.0</td><td>9.235804082761263</td><td>339.76419591723874</td><td>43.07663647473665</td><td>332.1496073198594</td><td>9.235804082761263</td><td>322.91380323709814</td><td>98244500.93556346</td><td>7284216297.31227</td><td>1500.0</td><td>1500.0</td><td>0.23266666666666666</td><td>0.006157202721840842</td><td>0.22650946394482582</td><td>9</td><td>9</td><td>cash</td><td>-2235.408020089484</td></tr>\n",
       "<tr><td>dataset-2</td><td>281.0</td><td>9.605236246071714</td><td>271.39476375392826</td><td>36.80419106993779</td><td>293.4895977380109</td><td>9.605236246071714</td><td>283.88436149193916</td><td>102174280.972986</td><td>7575584949.2047615</td><td>1560.0</td><td>1560.0</td><td>0.18012820512820513</td><td>0.006157202721840842</td><td>0.17397100240636426</td><td>9</td><td>9</td><td>cash</td><td>-1677.183931747902</td></tr>\n",
       "<tr><td>dataset-3</td><td>339.0</td><td>14.77728653241802</td><td>324.22271346758197</td><td>38.41440796019599</td><td>321.7838541184631</td><td>14.77728653241802</td><td>307.0065675860452</td><td>157191201.49690154</td><td>11654746075.699633</td><td>2400.0</td><td>2400.0</td><td>0.14125</td><td>0.006157202721840841</td><td>0.13509279727815915</td><td>9</td><td>9</td><td>cash</td><td>-2066.082673619227</td></tr>\n",
       "<tr><td>dataset-4</td><td>197.0</td><td>14.777286532417996</td><td>182.222713467582</td><td>25.613646104572442</td><td>200.98618250649284</td><td>14.777286532417996</td><td>186.20889597407486</td><td>157191201.4969013</td><td>11654746075.699615</td><td>2399.9999999999964</td><td>2399.9999999999964</td><td>0.08208333333333345</td><td>0.006157202721840841</td><td>0.07592613061149261</td><td>9</td><td>9</td><td>cash</td><td>-1039.9926923170237</td></tr>\n",
       "<tr><td>dataset-5</td><td>182.0</td><td>18.471608165522525</td><td>163.52839183447747</td><td>22.487600173790774</td><td>182.99943974663034</td><td>18.471608165522525</td><td>164.52783158110782</td><td>196489001.87112692</td><td>14568432594.62454</td><td>3000.0</td><td>3000.0</td><td>0.06066666666666667</td><td>0.006157202721840842</td><td>0.05450946394482582</td><td>9</td><td>9</td><td>cash</td><td>-899.5319356287852</td></tr>\n",
       "<tr><td>dataset-6</td><td>42.0</td><td>14.77728653241802</td><td>27.222713467581983</td><td>5.770541665624802</td><td>39.977920210246545</td><td>14.77728653241802</td><td>25.20063367782852</td><td>157191201.49690154</td><td>11654746075.699633</td><td>2400.0</td><td>2400.0</td><td>0.0175</td><td>0.006157202721840841</td><td>0.011342797278159159</td><td>9</td><td>9</td><td>cash</td><td>-80.18780523263665</td></tr>\n",
       "<tr><td>dataset-7</td><td>51.0</td><td>19.210472492143428</td><td>31.789527507856572</td><td>6.000890859995074</td><td>42.304828169435325</td><td>19.210472492143428</td><td>23.0943556772919</td><td>204348561.945972</td><td>15151169898.409523</td><td>3120.0</td><td>3120.0</td><td>0.016346153846153847</td><td>0.006157202721840842</td><td>0.010188951124313004</td><td>9</td><td>9</td><td>cash</td><td>-125.89361244814407</td></tr>\n",
       "<tr><td>dataset-8</td><td>36.0</td><td>15.88558302234937</td><td>20.114416977650627</td><td>4.321442790535124</td><td>32.24990001666646</td><td>15.88558302234937</td><td>16.364316994317097</td><td>168980541.60916916</td><td>12528852031.377106</td><td>2580.0</td><td>2580.0</td><td>0.013953488372093023</td><td>0.006157202721840841</td><td>0.007796285650252181</td><td>9</td><td>9</td><td>cash</td><td>-66.59745101700724</td></tr>\n",
       "<tr><td>dataset-9</td><td>20.0</td><td>17.363311675591174</td><td>2.6366883244088264</td><td>0.6176860552619713</td><td>32.42183471289076</td><td>17.363311675591174</td><td>15.058523037299585</td><td>184699661.7588593</td><td>13694326638.94707</td><td>2820.0</td><td>2820.0</td><td>0.0070921985815602835</td><td>0.006157202721840842</td><td>0.000934995859719442</td><td>9</td><td>9</td><td>cash</td><td>-22.421579686388206</td></tr>\n",
       "</table>"
      ],
      "text/plain": [
       "<Table length=10>\n",
       "   name    counts     background     ... stat_type       stat_sum     \n",
       "                                     ...                              \n",
       "   str9   float64      float64       ...    str4         float64      \n",
       "--------- ------- ------------------ ... --------- -------------------\n",
       "  stacked   824.0 20.318769454956055 ...      cash                 nan\n",
       "dataset-1   349.0  9.235804082761263 ...      cash  -2235.408020089484\n",
       "dataset-2   281.0  9.605236246071714 ...      cash  -1677.183931747902\n",
       "dataset-3   339.0  14.77728653241802 ...      cash  -2066.082673619227\n",
       "dataset-4   197.0 14.777286532417996 ...      cash -1039.9926923170237\n",
       "dataset-5   182.0 18.471608165522525 ...      cash  -899.5319356287852\n",
       "dataset-6    42.0  14.77728653241802 ...      cash  -80.18780523263665\n",
       "dataset-7    51.0 19.210472492143428 ...      cash -125.89361244814407\n",
       "dataset-8    36.0  15.88558302234937 ...      cash  -66.59745101700724\n",
       "dataset-9    20.0 17.363311675591174 ...      cash -22.421579686388206"
      ]
     },
     "execution_count": 1,
     "metadata": {},
     "output_type": "execute_result"
    }
   ],
   "source": [
    "datasets.info_table()"
   ]
  },
  {
   "cell_type": "markdown",
   "metadata": {},
   "source": [
    "## Extract the lightcurve\n",
    "\n",
    "This section uses standard light curve estimation tools for a 1D extraction. Only a spectral model needs to be defined in this case. Since the estimator returns the integrated flux separately for each time bin, the temporal model need not be accounted for at this stage."
   ]
  },
  {
   "cell_type": "code",
   "execution_count": 11,
   "metadata": {
    "execution": {
     "iopub.execute_input": "2021-02-06T18:03:42.644171Z",
     "iopub.status.busy": "2021-02-06T18:03:42.643607Z",
     "iopub.status.idle": "2021-02-06T18:03:42.647225Z",
     "shell.execute_reply": "2021-02-06T18:03:42.646730Z"
    }
   },
   "outputs": [],
   "source": [
    "# Define the model:\n",
    "spectral_model = PowerLawSpectralModel(\n",
    "    index=3, amplitude=\"1e-11 cm-2 s-1 TeV-1\", reference=\"1 TeV\"\n",
    ")\n",
    "model_fit = SkyModel(spectral_model=spectral_model, name=\"model-fit\")"
   ]
  },
  {
   "cell_type": "code",
   "execution_count": 12,
   "metadata": {
    "execution": {
     "iopub.execute_input": "2021-02-06T18:03:42.654290Z",
     "iopub.status.busy": "2021-02-06T18:03:42.652981Z",
     "iopub.status.idle": "2021-02-06T18:03:42.654880Z",
     "shell.execute_reply": "2021-02-06T18:03:42.655459Z"
    }
   },
   "outputs": [],
   "source": [
    "# Attach model to all datasets\n",
    "datasets.models = model_fit"
   ]
  },
  {
   "cell_type": "code",
   "execution_count": 13,
   "metadata": {
    "execution": {
     "iopub.execute_input": "2021-02-06T18:03:42.717598Z",
     "iopub.status.busy": "2021-02-06T18:03:42.710041Z",
     "iopub.status.idle": "2021-02-06T18:03:49.647247Z",
     "shell.execute_reply": "2021-02-06T18:03:49.646352Z"
    }
   },
   "outputs": [
    {
     "name": "stdout",
     "output_type": "stream",
     "text": [
      "CPU times: user 6.98 s, sys: 15.1 ms, total: 6.99 s\n",
      "Wall time: 6.98 s\n"
     ]
    }
   ],
   "source": [
    "%%time\n",
    "lc_maker_1d = LightCurveEstimator(\n",
    "    energy_edges=[0.3, 10] * u.TeV,\n",
    "    source=\"model-fit\",\n",
    "    selection_optional=[\"ul\"],\n",
    ")\n",
    "lc_1d = lc_maker_1d.run(datasets)"
   ]
  },
  {
   "cell_type": "code",
   "execution_count": 14,
   "metadata": {
    "execution": {
     "iopub.execute_input": "2021-02-06T18:03:49.653255Z",
     "iopub.status.busy": "2021-02-06T18:03:49.652465Z",
     "iopub.status.idle": "2021-02-06T18:03:49.655386Z",
     "shell.execute_reply": "2021-02-06T18:03:49.654801Z"
    }
   },
   "outputs": [],
   "source": [
    "lc_1d.table[\"is_ul\"] = lc_1d.table[\"ts\"] < 1"
   ]
  },
  {
   "cell_type": "code",
   "execution_count": 15,
   "metadata": {
    "execution": {
     "iopub.execute_input": "2021-02-06T18:03:49.675778Z",
     "iopub.status.busy": "2021-02-06T18:03:49.675188Z",
     "iopub.status.idle": "2021-02-06T18:03:49.845927Z",
     "shell.execute_reply": "2021-02-06T18:03:49.846718Z"
    },
    "nbsphinx-thumbnail": {
     "tooltip": "Simulate and fit a time decaying light curve of a source using the CTA 1DC response."
    }
   },
   "outputs": [
    {
     "data": {
      "image/png": "[encoded data removed]",
      "text/plain": [
       "<Figure size 432x288 with 1 Axes>"
      ]
     },
     "metadata": {
      "needs_background": "light"
     },
     "output_type": "display_data"
    }
   ],
   "source": [
    "ax = lc_1d.plot(marker=\"o\", label=\"3D\")"
   ]
  },
  {
   "cell_type": "markdown",
   "metadata": {},
   "source": [
    "We have the reconstructed lightcurve at this point. Further standard analyis might involve modeling the temporal profiles with an analytical or theoretical model. You may do this using your favourite fitting package, one possible option being `curve_fit` inside `scipy.optimize`.\n",
    "\n",
    "In the next section, we show how to simulatenously fit the all datasets using a given temporal model. This does a joint fitting across the different datasets, while simultaneously miniminsing across the temporal model parameters as well. We will fit the amplitude, spectral index and the decay time scale. Note that `t_ref` should be fixed by default for the `ExpDecayTemporalModel`. \n",
    "\n",
    "For modelling and fitting more complex flares, you should attach the relevant model to each group of `datasets`. The paramters of a model in a given group of dataset will be tied. For more details on joint fitting in gammapy, see [here](modeling.ipynb)."
   ]
  },
  {
   "cell_type": "markdown",
   "metadata": {},
   "source": [
    "## Fit the datasets"
   ]
  },
  {
   "cell_type": "code",
   "execution_count": 16,
   "metadata": {
    "execution": {
     "iopub.execute_input": "2021-02-06T18:03:49.861206Z",
     "iopub.status.busy": "2021-02-06T18:03:49.853425Z",
     "iopub.status.idle": "2021-02-06T18:03:49.863331Z",
     "shell.execute_reply": "2021-02-06T18:03:49.863895Z"
    }
   },
   "outputs": [
    {
     "name": "stderr",
     "output_type": "stream",
     "text": [
      "/usr/share/miniconda/envs/gammapy-dev/lib/python3.7/site-packages/astropy/units/quantity.py:477: RuntimeWarning: overflow encountered in exp\n",
      "  result = super().__array_ufunc__(function, method, *arrays, **kwargs)\n",
      "/usr/share/miniconda/envs/gammapy-dev/lib/python3.7/site-packages/astropy/units/quantity.py:477: RuntimeWarning: invalid value encountered in subtract\n",
      "  result = super().__array_ufunc__(function, method, *arrays, **kwargs)\n"
     ]
    }
   ],
   "source": [
    "# Define the model:\n",
    "spectral_model1 = PowerLawSpectralModel(\n",
    "    index=2.0, amplitude=\"1e-12 cm-2 s-1 TeV-1\", reference=\"1 TeV\"\n",
    ")\n",
    "temporal_model1 = ExpDecayTemporalModel(t0=\"10 h\", t_ref=gti_t0.mjd * u.d)\n",
    "\n",
    "model = SkyModel(\n",
    "    spectral_model=spectral_model1,\n",
    "    temporal_model=temporal_model1,\n",
    "    name=\"model-test\",\n",
    ")"
   ]
  },
  {
   "cell_type": "code",
   "execution_count": 17,
   "metadata": {
    "execution": {
     "iopub.execute_input": "2021-02-06T18:03:49.871661Z",
     "iopub.status.busy": "2021-02-06T18:03:49.871099Z",
     "iopub.status.idle": "2021-02-06T18:03:49.873647Z",
     "shell.execute_reply": "2021-02-06T18:03:49.874247Z"
    }
   },
   "outputs": [
    {
     "data": {
      "text/html": [
       "<i>Table length=5</i>\n",
       "<table id=\"table139667543704856\" class=\"table-striped table-bordered table-condensed\">\n",
       "<thead><tr><th>type</th><th>name</th><th>value</th><th>unit</th><th>min</th><th>max</th><th>frozen</th><th>error</th></tr></thead>\n",
       "<thead><tr><th>str8</th><th>str9</th><th>float64</th><th>str14</th><th>float64</th><th>float64</th><th>bool</th><th>int64</th></tr></thead>\n",
       "<tr><td>spectral</td><td>index</td><td>2.0000e+00</td><td></td><td>nan</td><td>nan</td><td>False</td><td>0.000e+00</td></tr>\n",
       "<tr><td>spectral</td><td>amplitude</td><td>1.0000e-12</td><td>cm-2 s-1 TeV-1</td><td>nan</td><td>nan</td><td>False</td><td>0.000e+00</td></tr>\n",
       "<tr><td>spectral</td><td>reference</td><td>1.0000e+00</td><td>TeV</td><td>nan</td><td>nan</td><td>True</td><td>0.000e+00</td></tr>\n",
       "<tr><td>temporal</td><td>t0</td><td>4.1667e-01</td><td>d</td><td>nan</td><td>nan</td><td>False</td><td>0.000e+00</td></tr>\n",
       "<tr><td>temporal</td><td>t_ref</td><td>5.8909e+04</td><td>d</td><td>nan</td><td>nan</td><td>True</td><td>0.000e+00</td></tr>\n",
       "</table>"
      ],
      "text/plain": [
       "<Table length=5>\n",
       "  type      name     value         unit        min     max   frozen   error  \n",
       "  str8      str9    float64       str14      float64 float64  bool    int64  \n",
       "-------- --------- ---------- -------------- ------- ------- ------ ---------\n",
       "spectral     index 2.0000e+00                    nan     nan  False 0.000e+00\n",
       "spectral amplitude 1.0000e-12 cm-2 s-1 TeV-1     nan     nan  False 0.000e+00\n",
       "spectral reference 1.0000e+00            TeV     nan     nan   True 0.000e+00\n",
       "temporal        t0 4.1667e-01              d     nan     nan  False 0.000e+00\n",
       "temporal     t_ref 5.8909e+04              d     nan     nan   True 0.000e+00"
      ]
     },
     "execution_count": 1,
     "metadata": {},
     "output_type": "execute_result"
    }
   ],
   "source": [
    "model.parameters.to_table()"
   ]
  },
  {
   "cell_type": "code",
   "execution_count": 18,
   "metadata": {
    "execution": {
     "iopub.execute_input": "2021-02-06T18:03:49.880975Z",
     "iopub.status.busy": "2021-02-06T18:03:49.879661Z",
     "iopub.status.idle": "2021-02-06T18:03:49.881558Z",
     "shell.execute_reply": "2021-02-06T18:03:49.882126Z"
    }
   },
   "outputs": [],
   "source": [
    "datasets.models = model"
   ]
  },
  {
   "cell_type": "code",
   "execution_count": 19,
   "metadata": {
    "execution": {
     "iopub.execute_input": "2021-02-06T18:03:49.955813Z",
     "iopub.status.busy": "2021-02-06T18:03:49.917335Z",
     "iopub.status.idle": "2021-02-06T18:04:00.658189Z",
     "shell.execute_reply": "2021-02-06T18:04:00.657294Z"
    }
   },
   "outputs": [
    {
     "name": "stdout",
     "output_type": "stream",
     "text": [
      "CPU times: user 10.8 s, sys: 15.5 ms, total: 10.8 s\n",
      "Wall time: 10.8 s\n"
     ]
    }
   ],
   "source": [
    "%%time\n",
    "# Do a joint fit\n",
    "fit = Fit(datasets)\n",
    "result = fit.run()"
   ]
  },
  {
   "cell_type": "code",
   "execution_count": 20,
   "metadata": {
    "execution": {
     "iopub.execute_input": "2021-02-06T18:04:00.665912Z",
     "iopub.status.busy": "2021-02-06T18:04:00.665309Z",
     "iopub.status.idle": "2021-02-06T18:04:00.671410Z",
     "shell.execute_reply": "2021-02-06T18:04:00.670867Z"
    }
   },
   "outputs": [
    {
     "data": {
      "text/html": [
       "<i>Table length=5</i>\n",
       "<table id=\"table139667560546936\" class=\"table-striped table-bordered table-condensed\">\n",
       "<thead><tr><th>type</th><th>name</th><th>value</th><th>unit</th><th>min</th><th>max</th><th>frozen</th><th>error</th></tr></thead>\n",
       "<thead><tr><th>str8</th><th>str9</th><th>float64</th><th>str14</th><th>float64</th><th>float64</th><th>bool</th><th>float64</th></tr></thead>\n",
       "<tr><td>spectral</td><td>index</td><td>2.9963e+00</td><td></td><td>nan</td><td>nan</td><td>False</td><td>3.168e-02</td></tr>\n",
       "<tr><td>spectral</td><td>amplitude</td><td>1.0086e-11</td><td>cm-2 s-1 TeV-1</td><td>nan</td><td>nan</td><td>False</td><td>3.465e-13</td></tr>\n",
       "<tr><td>spectral</td><td>reference</td><td>1.0000e+00</td><td>TeV</td><td>nan</td><td>nan</td><td>True</td><td>0.000e+00</td></tr>\n",
       "<tr><td>temporal</td><td>t0</td><td>2.5031e-01</td><td>d</td><td>nan</td><td>nan</td><td>False</td><td>8.503e-03</td></tr>\n",
       "<tr><td>temporal</td><td>t_ref</td><td>5.8909e+04</td><td>d</td><td>nan</td><td>nan</td><td>True</td><td>0.000e+00</td></tr>\n",
       "</table>"
      ],
      "text/plain": [
       "<Table length=5>\n",
       "  type      name     value         unit        min     max   frozen   error  \n",
       "  str8      str9    float64       str14      float64 float64  bool   float64 \n",
       "-------- --------- ---------- -------------- ------- ------- ------ ---------\n",
       "spectral     index 2.9963e+00                    nan     nan  False 3.168e-02\n",
       "spectral amplitude 1.0086e-11 cm-2 s-1 TeV-1     nan     nan  False 3.465e-13\n",
       "spectral reference 1.0000e+00            TeV     nan     nan   True 0.000e+00\n",
       "temporal        t0 2.5031e-01              d     nan     nan  False 8.503e-03\n",
       "temporal     t_ref 5.8909e+04              d     nan     nan   True 0.000e+00"
      ]
     },
     "execution_count": 1,
     "metadata": {},
     "output_type": "execute_result"
    }
   ],
   "source": [
    "result.parameters.to_table()"
   ]
  },
  {
   "cell_type": "markdown",
   "metadata": {},
   "source": [
    "We see that the fitted parameters match well with the simulated ones!"
   ]
  },
  {
   "cell_type": "markdown",
   "metadata": {},
   "source": [
    "## Exercises\n",
    "\n",
    "1. Re-do the analysis with `MapDataset` instead of `SpectralDataset`\n",
    "2. Model the flare of PKS 2155-304 which you obtained using the [light curve flare tutorial](light_curve_flare.ipynb). Use a combination of a Gaussian and Exponential flare profiles, and fit using `scipy.optimize.curve_fit`\n",
    "3. Do a joint fitting of the datasets."
   ]
  },
  {
   "cell_type": "code",
   "execution_count": null,
   "metadata": {},
   "outputs": [],
   "source": []
  }
 ],
 "metadata": {
  "kernelspec": {
   "display_name": "Python 3",
   "language": "python",
   "name": "python3"
  },
  "language_info": {
   "codemirror_mode": {
    "name": "ipython",
    "version": 3
   },
   "file_extension": ".py",
   "mimetype": "text/x-python",
   "name": "python",
   "nbconvert_exporter": "python",
   "pygments_lexer": "ipython3",
   "version": "3.7.0"
  },
  "nbsphinx": {
   "orphan": true
  }
 },
 "nbformat": 4,
 "nbformat_minor": 4
}
