{
 "cells": [
  {
   "cell_type": "markdown",
   "execution_count": 1,
   "metadata": {},
   "source": [
    "\n",
    "<div class=\"alert alert-info\">\n",
    "\n",
    "**This is a fixed-text formatted version of a Jupyter notebook**\n",
    "\n",
    "- Try online [![Binder](https://static.mybinder.org/badge.svg)](https://mybinder.org/v2/gh/gammapy/gammapy-webpage/master?urlpath=lab/tree/spectrum_analysis.ipynb)\n",
    "- You can contribute with your own notebooks in this\n",
    "[GitHub repository](https://github.com/gammapy/gammapy/tree/master/docs/tutorials).\n",
    "- **Source files:**\n",
    "[spectrum_analysis.ipynb](../_static/notebooks/spectrum_analysis.ipynb) |\n",
    "[spectrum_analysis.py](../_static/notebooks/spectrum_analysis.py)\n",
    "</div>\n"
   ]
  },
  {
   "cell_type": "markdown",
   "execution_count": 1,
   "metadata": {},
   "source": [
    "# Spectral analysis with Gammapy"
   ]
  },
  {
   "cell_type": "markdown",
   "execution_count": 1,
   "metadata": {},
   "source": [
    "## Prerequisites \n",
    "\n",
    "- Understanding how spectral extraction is performed in Cherenkov astronomy, in particular regarding OFF background measurements. \n",
    "- Understanding the basics data reduction and modeling/fitting process with the gammapy library API as shown in the [first gammapy analysis with the gammapy library API tutorial](analysis_2.ipynb)\n",
    "\n",
    "## Context\n",
    "\n",
    "While 3D analysis allows in principle to deal with complex situations such as overlapping sources, in many cases, it is not required to extract the spectrum of a source. Spectral analysis, where all data inside a ON region are binned into 1D datasets, provides a nice alternative. \n",
    "\n",
    "In classical Cherenkov astronomy, it is used with a specific background estimation technique that relies on OFF measurements taken in the field-of-view in regions where the background\n",
    "rate is assumed to be equal to the one in the ON region. \n",
    "\n",
    "This allows to use a specific fit statistics for ON-OFF measurements, the wstat (see `~gammapy.stats.fit_statistics`), where no background model is assumed. Background is treated as a set of nuisance parameters. This removes some systematic effects connected\n",
    "to the choice or the quality of the background model. But this comes at the expense of larger statistical uncertainties on the fitted model parameters.\n",
    "\n",
    "**Objective: perform a full region based spectral analysis of 4 Crab observations of  H.E.S.S. data release 1 and fit the resulting datasets.**\n",
    "\n",
    "## Introduction\n",
    "\n",
    "Here, as usual, we use the `~gammapy.data.DataStore` to retrieve a list of selected observations (`~gammapy.data.Observations`). Then, we define the ON region containing the source and the geometry of the `~gammapy.datasets.SpectrumDataset` object we want to produce. We then create the corresponding dataset Maker. \n",
    "\n",
    "We have to define the Maker object that will extract the OFF counts from reflected regions in the field-of-view. To ensure we use data in an energy range where the quality of the IRFs is good enough we also create a safe range Maker.\n",
    "\n",
    "We can then proceed with data reduction with a loop over all selected observations to produce datasets in the relevant geometry.\n",
    "\n",
    "We can then explore the resulting datasets and look at the cumulative signal and significance of our source. We finally proceed with model fitting. \n",
    "\n",
    "In practice, we have to:\n",
    "- Create a `~gammapy.data.DataStore` poiting to the relevant data \n",
    "- Apply an observation selection to produce a list of observations, a `~gammapy.data.Observations` object.\n",
    "- Define a geometry of the spectrum we want to produce:\n",
    "    - Create a `~regions.CircleSkyRegion` for the ON extraction region\n",
    "    - Create a `~gammapy.maps.MapAxis` for the energy binnings: one for the reconstructed (i.e. measured) energy, the other for the true energy (i.e. the one used by IRFs and models)\n",
    "- Create the necessary makers : \n",
    "    - the spectrum dataset maker : `~gammapy.makers.SpectrumDatasetMaker`\n",
    "    - the OFF background maker, here a `~gammapy.makers.ReflectedRegionsBackgroundMaker`\n",
    "    - and the safe range maker : `~gammapy.makers.SafeRangeMaker`\n",
    "- Perform the data reduction loop. And for every observation:\n",
    "    - Apply the makers sequentially to produce a `~gammapy.datasets.SpectrumDatasetOnOff`\n",
    "    - Append it to list of datasets\n",
    "- Define the `~gammapy.modeling.models.SkyModel` to apply to the dataset.\n",
    "- Create a `~gammapy.modeling.Fit` object and run it to fit the model parameters\n",
    "- Apply a `~gammapy.estimators.FluxPointsEstimator` to compute flux points for the spectral part of the fit.\n"
   ]
  },
  {
   "cell_type": "markdown",
   "execution_count": 1,
   "metadata": {},
   "source": [
    "## Setup\n",
    "\n",
    "As usual, we'll start with some setup ..."
   ]
  },
  {
   "cell_type": "code",
   "execution_count": 1,
   "metadata": {
    "execution": {
     "iopub.execute_input": "2020-09-16T15:10:15.117918Z",
     "iopub.status.busy": "2020-09-16T15:10:15.117172Z",
     "iopub.status.idle": "2020-09-16T15:10:15.442126Z",
     "shell.execute_reply": "2020-09-16T15:10:15.441430Z"
    }
   },
   "outputs": [],
   "source": [
    "%matplotlib inline\n",
    "import matplotlib.pyplot as plt"
   ]
  },
  {
   "cell_type": "code",
   "execution_count": 2,
   "metadata": {
    "execution": {
     "iopub.execute_input": "2020-09-16T15:10:15.448189Z",
     "iopub.status.busy": "2020-09-16T15:10:15.446236Z",
     "iopub.status.idle": "2020-09-16T15:10:16.154369Z",
     "shell.execute_reply": "2020-09-16T15:10:16.153813Z"
    }
   },
   "outputs": [
    {
     "name": "stdout",
     "output_type": "stream",
     "text": [
      "gammapy: 0.18.dev690+gede9fe4b8\n",
      "numpy: 1.19.1\n",
      "astropy 4.0.1.post1\n",
      "regions 0.4\n"
     ]
    }
   ],
   "source": [
    "# Check package versions\n",
    "import gammapy\n",
    "import numpy as np\n",
    "import astropy\n",
    "import regions\n",
    "\n",
    "print(\"gammapy:\", gammapy.__version__)\n",
    "print(\"numpy:\", np.__version__)\n",
    "print(\"astropy\", astropy.__version__)\n",
    "print(\"regions\", regions.__version__)"
   ]
  },
  {
   "cell_type": "code",
   "execution_count": 3,
   "metadata": {
    "execution": {
     "iopub.execute_input": "2020-09-16T15:10:16.168057Z",
     "iopub.status.busy": "2020-09-16T15:10:16.163123Z",
     "iopub.status.idle": "2020-09-16T15:10:16.663543Z",
     "shell.execute_reply": "2020-09-16T15:10:16.662983Z"
    }
   },
   "outputs": [],
   "source": [
    "from pathlib import Path\n",
    "import astropy.units as u\n",
    "from astropy.coordinates import SkyCoord, Angle\n",
    "from regions import CircleSkyRegion\n",
    "from gammapy.maps import Map, MapAxis\n",
    "from gammapy.modeling import Fit\n",
    "from gammapy.data import DataStore\n",
    "from gammapy.datasets import (\n",
    "    Datasets,\n",
    "    SpectrumDataset,\n",
    "    SpectrumDatasetOnOff,\n",
    "    FluxPointsDataset,\n",
    ")\n",
    "from gammapy.modeling.models import (\n",
    "    PowerLawSpectralModel,\n",
    "    create_crab_spectral_model,\n",
    "    SkyModel,\n",
    ")\n",
    "from gammapy.makers import (\n",
    "    SafeMaskMaker,\n",
    "    SpectrumDatasetMaker,\n",
    "    ReflectedRegionsBackgroundMaker,\n",
    ")\n",
    "from gammapy.estimators import FluxPointsEstimator\n",
    "from gammapy.visualization import plot_spectrum_datasets_off_regions"
   ]
  },
  {
   "cell_type": "markdown",
   "execution_count": 4,
   "metadata": {},
   "source": [
    "## Load Data\n",
    "\n",
    "First, we select and load some H.E.S.S. observations of the Crab nebula (simulated events for now).\n",
    "\n",
    "We will access the events, effective area, energy dispersion, livetime and PSF for containement correction."
   ]
  },
  {
   "cell_type": "code",
   "execution_count": 4,
   "metadata": {
    "execution": {
     "iopub.execute_input": "2020-09-16T15:10:16.668834Z",
     "iopub.status.busy": "2020-09-16T15:10:16.668173Z",
     "iopub.status.idle": "2020-09-16T15:10:16.719130Z",
     "shell.execute_reply": "2020-09-16T15:10:16.718598Z"
    }
   },
   "outputs": [],
   "source": [
    "datastore = DataStore.from_dir(\"$GAMMAPY_DATA/hess-dl3-dr1/\")\n",
    "obs_ids = [23523, 23526, 23559, 23592]\n",
    "observations = datastore.get_observations(obs_ids)"
   ]
  },
  {
   "cell_type": "markdown",
   "execution_count": 5,
   "metadata": {},
   "source": [
    "## Define Target Region\n",
    "\n",
    "The next step is to define a signal extraction region, also known as on region. In the simplest case this is just a [CircleSkyRegion](http://astropy-regions.readthedocs.io/en/latest/api/regions.CircleSkyRegion.html), but here we will use the ``Target`` class in gammapy that is useful for book-keeping if you run several analysis in a script."
   ]
  },
  {
   "cell_type": "code",
   "execution_count": 5,
   "metadata": {
    "execution": {
     "iopub.execute_input": "2020-09-16T15:10:16.725917Z",
     "iopub.status.busy": "2020-09-16T15:10:16.724458Z",
     "iopub.status.idle": "2020-09-16T15:10:16.726520Z",
     "shell.execute_reply": "2020-09-16T15:10:16.727069Z"
    }
   },
   "outputs": [],
   "source": [
    "target_position = SkyCoord(ra=83.63, dec=22.01, unit=\"deg\", frame=\"icrs\")\n",
    "on_region_radius = Angle(\"0.11 deg\")\n",
    "on_region = CircleSkyRegion(center=target_position, radius=on_region_radius)"
   ]
  },
  {
   "cell_type": "markdown",
   "execution_count": 6,
   "metadata": {},
   "source": [
    "## Create exclusion mask\n",
    "\n",
    "We will use the reflected regions method to place off regions to estimate the background level in the on region.\n",
    "To make sure the off regions don't contain gamma-ray emission, we create an exclusion mask.\n",
    "\n",
    "Using http://gamma-sky.net/ we find that there's only one known gamma-ray source near the Crab nebula: the AGN called [RGB J0521+212](http://gamma-sky.net/#/cat/tev/23) at GLON = 183.604 deg and GLAT = -8.708 deg."
   ]
  },
  {
   "cell_type": "code",
   "execution_count": 6,
   "metadata": {
    "execution": {
     "iopub.execute_input": "2020-09-16T15:10:16.746843Z",
     "iopub.status.busy": "2020-09-16T15:10:16.745886Z",
     "iopub.status.idle": "2020-09-16T15:10:17.274854Z",
     "shell.execute_reply": "2020-09-16T15:10:17.281677Z"
    },
    "scrolled": true
   },
   "outputs": [
    {
     "data": {
      "text/plain": [
       "(<Figure size 432x288 with 1 Axes>,\n",
       " <WCSAxesSubplot:xlabel='Right Ascension', ylabel='Declination'>,\n",
       " None)"
      ]
     },
     "execution_count": 1,
     "metadata": {},
     "output_type": "execute_result"
    },
    {
     "data": {
      "image/png": "[encoded data removed]",
      "text/plain": [
       "<Figure size 432x288 with 1 Axes>"
      ]
     },
     "metadata": {
      "needs_background": "light"
     },
     "output_type": "display_data"
    }
   ],
   "source": [
    "exclusion_region = CircleSkyRegion(\n",
    "    center=SkyCoord(183.604, -8.708, unit=\"deg\", frame=\"galactic\"),\n",
    "    radius=0.5 * u.deg,\n",
    ")\n",
    "\n",
    "skydir = target_position.galactic\n",
    "exclusion_mask = Map.create(\n",
    "    npix=(150, 150), binsz=0.05, skydir=skydir, proj=\"TAN\", frame=\"icrs\"\n",
    ")\n",
    "\n",
    "mask = exclusion_mask.geom.region_mask([exclusion_region], inside=False)\n",
    "exclusion_mask.data = mask\n",
    "exclusion_mask.plot();"
   ]
  },
  {
   "cell_type": "markdown",
   "execution_count": 7,
   "metadata": {},
   "source": [
    "## Run data reduction chain\n",
    "\n",
    "We begin with the configuration of the maker classes:"
   ]
  },
  {
   "cell_type": "code",
   "execution_count": 7,
   "metadata": {
    "execution": {
     "iopub.execute_input": "2020-09-16T15:10:17.287242Z",
     "iopub.status.busy": "2020-09-16T15:10:17.286587Z",
     "iopub.status.idle": "2020-09-16T15:10:17.303975Z",
     "shell.execute_reply": "2020-09-16T15:10:17.303374Z"
    }
   },
   "outputs": [],
   "source": [
    "e_reco = MapAxis.from_energy_bounds(0.1, 40, 40, unit=\"TeV\", name=\"energy\")\n",
    "e_true = MapAxis.from_energy_bounds(\n",
    "    0.05, 100, 200, unit=\"TeV\", name=\"energy_true\"\n",
    ")\n",
    "dataset_empty = SpectrumDataset.create(\n",
    "    e_reco=e_reco, e_true=e_true, region=on_region\n",
    ")"
   ]
  },
  {
   "cell_type": "code",
   "execution_count": 8,
   "metadata": {
    "execution": {
     "iopub.execute_input": "2020-09-16T15:10:17.310216Z",
     "iopub.status.busy": "2020-09-16T15:10:17.308870Z",
     "iopub.status.idle": "2020-09-16T15:10:17.310789Z",
     "shell.execute_reply": "2020-09-16T15:10:17.311400Z"
    }
   },
   "outputs": [],
   "source": [
    "dataset_maker = SpectrumDatasetMaker(\n",
    "    containment_correction=False, selection=[\"counts\", \"aeff\", \"edisp\"]\n",
    ")\n",
    "bkg_maker = ReflectedRegionsBackgroundMaker(exclusion_mask=exclusion_mask)\n",
    "safe_mask_masker = SafeMaskMaker(methods=[\"aeff-max\"], aeff_percent=10)"
   ]
  },
  {
   "cell_type": "code",
   "execution_count": 9,
   "metadata": {
    "execution": {
     "iopub.execute_input": "2020-09-16T15:10:17.319982Z",
     "iopub.status.busy": "2020-09-16T15:10:17.319371Z",
     "iopub.status.idle": "2020-09-16T15:10:21.082482Z",
     "shell.execute_reply": "2020-09-16T15:10:21.083072Z"
    }
   },
   "outputs": [
    {
     "name": "stderr",
     "output_type": "stream",
     "text": [
      "No background model defined for dataset 23523\n",
      "No background model defined for dataset 23523\n",
      "No background model defined for dataset 23526\n",
      "No background model defined for dataset 23526\n",
      "No background model defined for dataset 23559\n",
      "No background model defined for dataset 23559\n",
      "No background model defined for dataset 23592\n",
      "No background model defined for dataset 23592\n"
     ]
    },
    {
     "name": "stdout",
     "output_type": "stream",
     "text": [
      "CPU times: user 3.67 s, sys: 101 ms, total: 3.77 s\n",
      "Wall time: 3.76 s\n"
     ]
    }
   ],
   "source": [
    "%%time\n",
    "datasets = Datasets()\n",
    "\n",
    "for obs_id, observation in zip(obs_ids, observations):\n",
    "    dataset = dataset_maker.run(\n",
    "        dataset_empty.copy(name=str(obs_id)), observation\n",
    "    )\n",
    "    dataset_on_off = bkg_maker.run(dataset, observation)\n",
    "    dataset_on_off = safe_mask_masker.run(dataset_on_off, observation)\n",
    "    datasets.append(dataset_on_off)"
   ]
  },
  {
   "cell_type": "markdown",
   "execution_count": 10,
   "metadata": {},
   "source": [
    "## Plot off regions"
   ]
  },
  {
   "cell_type": "code",
   "execution_count": 10,
   "metadata": {
    "execution": {
     "iopub.execute_input": "2020-09-16T15:10:21.111952Z",
     "iopub.status.busy": "2020-09-16T15:10:21.099101Z",
     "iopub.status.idle": "2020-09-16T15:10:21.760199Z",
     "shell.execute_reply": "2020-09-16T15:10:21.760762Z"
    }
   },
   "outputs": [
    {
     "data": {
      "image/png": "[encoded data removed]",
      "text/plain": [
       "<Figure size 576x576 with 1 Axes>"
      ]
     },
     "metadata": {
      "needs_background": "light"
     },
     "output_type": "display_data"
    }
   ],
   "source": [
    "plt.figure(figsize=(8, 8))\n",
    "_, ax, _ = exclusion_mask.plot()\n",
    "on_region.to_pixel(ax.wcs).plot(ax=ax, edgecolor=\"k\")\n",
    "plot_spectrum_datasets_off_regions(ax=ax, datasets=datasets)"
   ]
  },
  {
   "cell_type": "markdown",
   "execution_count": 11,
   "metadata": {},
   "source": [
    "## Source statistic\n",
    "\n",
    "Next we're going to look at the overall source statistics in our signal region."
   ]
  },
  {
   "cell_type": "code",
   "execution_count": 11,
   "metadata": {
    "execution": {
     "iopub.execute_input": "2020-09-16T15:10:21.801500Z",
     "iopub.status.busy": "2020-09-16T15:10:21.800896Z",
     "iopub.status.idle": "2020-09-16T15:10:21.949416Z",
     "shell.execute_reply": "2020-09-16T15:10:21.950025Z"
    }
   },
   "outputs": [
    {
     "name": "stderr",
     "output_type": "stream",
     "text": [
      "No background model defined for dataset 23523\n",
      "No background model defined for dataset 23523\n",
      "No background model defined for dataset 23523\n"
     ]
    }
   ],
   "source": [
    "info_table = datasets.info_table(cumulative=True)"
   ]
  },
  {
   "cell_type": "code",
   "execution_count": 12,
   "metadata": {
    "execution": {
     "iopub.execute_input": "2020-09-16T15:10:21.956581Z",
     "iopub.status.busy": "2020-09-16T15:10:21.955953Z",
     "iopub.status.idle": "2020-09-16T15:10:21.961308Z",
     "shell.execute_reply": "2020-09-16T15:10:21.960843Z"
    }
   },
   "outputs": [
    {
     "data": {
      "text/html": [
       "<i>Table length=4</i>\n",
       "<table id=\"table140180052624888\" class=\"table-striped table-bordered table-condensed\">\n",
       "<thead><tr><th>name</th><th>livetime</th><th>n_on</th><th>background</th><th>excess</th><th>significance</th><th>background_rate</th><th>gamma_rate</th><th>a_on</th><th>n_off</th><th>a_off</th><th>alpha</th></tr></thead>\n",
       "<thead><tr><th></th><th>s</th><th></th><th></th><th></th><th></th><th>1 / s</th><th>1 / s</th><th></th><th></th><th></th><th></th></tr></thead>\n",
       "<thead><tr><th>str5</th><th>float64</th><th>float32</th><th>float64</th><th>float64</th><th>float64</th><th>float64</th><th>float64</th><th>float64</th><th>float32</th><th>float64</th><th>float64</th></tr></thead>\n",
       "<tr><td>23523</td><td>1581.7367584109306</td><td>177.0</td><td>14.916666666666666</td><td>162.08333333333331</td><td>21.050838590041725</td><td>0.00943056206245879</td><td>0.10247174978481756</td><td>1.0</td><td>179.0</td><td>12.0</td><td>0.08333333333333333</td></tr>\n",
       "<tr><td>23523</td><td>3154.4234824180603</td><td>353.0</td><td>31.249998092651367</td><td>321.7499694824219</td><td>29.365437182489867</td><td>0.009906722501538161</td><td>0.10199961142686545</td><td>1.0</td><td>375.0</td><td>12.0</td><td>0.0833333358168602</td></tr>\n",
       "<tr><td>23523</td><td>4732.546999931335</td><td>503.0</td><td>41.884151458740234</td><td>461.1158752441406</td><td>36.942598279731286</td><td>0.008850234653633219</td><td>0.09743503345045088</td><td>1.0</td><td>811.0</td><td>19.362934112548828</td><td>0.05164506658911705</td></tr>\n",
       "<tr><td>23523</td><td>6313.811640620232</td><td>632.0</td><td>53.3841552734375</td><td>578.6159057617188</td><td>41.67900714876158</td><td>0.00845513903677262</td><td>0.09164288368046389</td><td>1.0</td><td>1225.0</td><td>22.94688606262207</td><td>0.043578896671533585</td></tr>\n",
       "</table>"
      ],
      "text/plain": [
       "<Table length=4>\n",
       " name      livetime        n_on  ...       a_off               alpha        \n",
       "              s                  ...                                        \n",
       " str5      float64       float32 ...      float64             float64       \n",
       "----- ------------------ ------- ... ------------------ --------------------\n",
       "23523 1581.7367584109306   177.0 ...               12.0  0.08333333333333333\n",
       "23523 3154.4234824180603   353.0 ...               12.0   0.0833333358168602\n",
       "23523  4732.546999931335   503.0 ... 19.362934112548828  0.05164506658911705\n",
       "23523  6313.811640620232   632.0 ...  22.94688606262207 0.043578896671533585"
      ]
     },
     "execution_count": 1,
     "metadata": {},
     "output_type": "execute_result"
    }
   ],
   "source": [
    "info_table"
   ]
  },
  {
   "cell_type": "code",
   "execution_count": 13,
   "metadata": {
    "execution": {
     "iopub.execute_input": "2020-09-16T15:10:21.987551Z",
     "iopub.status.busy": "2020-09-16T15:10:21.982694Z",
     "iopub.status.idle": "2020-09-16T15:10:22.123890Z",
     "shell.execute_reply": "2020-09-16T15:10:22.123386Z"
    }
   },
   "outputs": [
    {
     "data": {
      "text/plain": [
       "Text(0, 0.5, 'Excess')"
      ]
     },
     "execution_count": 1,
     "metadata": {},
     "output_type": "execute_result"
    },
    {
     "data": {
      "image/png": "[encoded data removed]",
      "text/plain": [
       "<Figure size 432x288 with 1 Axes>"
      ]
     },
     "metadata": {
      "needs_background": "light"
     },
     "output_type": "display_data"
    }
   ],
   "source": [
    "plt.plot(\n",
    "    info_table[\"livetime\"].to(\"h\"), info_table[\"excess\"], marker=\"o\", ls=\"none\"\n",
    ")\n",
    "plt.xlabel(\"Livetime [h]\")\n",
    "plt.ylabel(\"Excess\");"
   ]
  },
  {
   "cell_type": "code",
   "execution_count": 14,
   "metadata": {
    "execution": {
     "iopub.execute_input": "2020-09-16T15:10:22.214589Z",
     "iopub.status.busy": "2020-09-16T15:10:22.200577Z",
     "iopub.status.idle": "2020-09-16T15:10:22.352455Z",
     "shell.execute_reply": "2020-09-16T15:10:22.351596Z"
    }
   },
   "outputs": [
    {
     "data": {
      "text/plain": [
       "Text(0, 0.5, 'Significance')"
      ]
     },
     "execution_count": 1,
     "metadata": {},
     "output_type": "execute_result"
    },
    {
     "data": {
      "image/png": "[encoded data removed]",
      "text/plain": [
       "<Figure size 432x288 with 1 Axes>"
      ]
     },
     "metadata": {
      "needs_background": "light"
     },
     "output_type": "display_data"
    }
   ],
   "source": [
    "plt.plot(\n",
    "    info_table[\"livetime\"].to(\"h\"),\n",
    "    info_table[\"significance\"],\n",
    "    marker=\"o\",\n",
    "    ls=\"none\",\n",
    ")\n",
    "plt.xlabel(\"Livetime [h]\")\n",
    "plt.ylabel(\"Significance\");"
   ]
  },
  {
   "cell_type": "markdown",
   "execution_count": 15,
   "metadata": {},
   "source": [
    "Finally you can write the extrated datasets to disk using the OGIP format (PHA, ARF, RMF, BKG, see [here](https://gamma-astro-data-formats.readthedocs.io/en/latest/spectra/ogip/index.html) for details):"
   ]
  },
  {
   "cell_type": "code",
   "execution_count": 15,
   "metadata": {
    "execution": {
     "iopub.execute_input": "2020-09-16T15:10:22.357011Z",
     "iopub.status.busy": "2020-09-16T15:10:22.356028Z",
     "iopub.status.idle": "2020-09-16T15:10:22.360467Z",
     "shell.execute_reply": "2020-09-16T15:10:22.359843Z"
    }
   },
   "outputs": [],
   "source": [
    "path = Path(\"spectrum_analysis\")\n",
    "path.mkdir(exist_ok=True)"
   ]
  },
  {
   "cell_type": "code",
   "execution_count": 16,
   "metadata": {
    "execution": {
     "iopub.execute_input": "2020-09-16T15:10:22.378549Z",
     "iopub.status.busy": "2020-09-16T15:10:22.365888Z",
     "iopub.status.idle": "2020-09-16T15:10:23.260339Z",
     "shell.execute_reply": "2020-09-16T15:10:23.259387Z"
    }
   },
   "outputs": [
    {
     "name": "stderr",
     "output_type": "stream",
     "text": [
      "/usr/share/miniconda/envs/gammapy-dev/lib/python3.7/site-packages/numpy/core/_asarray.py:83: VisibleDeprecationWarning: Creating an ndarray from ragged nested sequences (which is a list-or-tuple of lists-or-tuples-or ndarrays with different lengths or shapes) is deprecated. If you meant to do this, you must specify 'dtype=object' when creating the ndarray\n",
      "  return array(a, dtype, copy=False, order=order)\n"
     ]
    }
   ],
   "source": [
    "for dataset in datasets:\n",
    "    dataset.to_ogip_files(outdir=path, overwrite=True)"
   ]
  },
  {
   "cell_type": "markdown",
   "execution_count": 17,
   "metadata": {},
   "source": [
    "If you want to read back the datasets from disk you can use:"
   ]
  },
  {
   "cell_type": "code",
   "execution_count": 17,
   "metadata": {
    "execution": {
     "iopub.execute_input": "2020-09-16T15:10:23.265628Z",
     "iopub.status.busy": "2020-09-16T15:10:23.265066Z",
     "iopub.status.idle": "2020-09-16T15:10:24.605786Z",
     "shell.execute_reply": "2020-09-16T15:10:24.606281Z"
    }
   },
   "outputs": [
    {
     "name": "stderr",
     "output_type": "stream",
     "text": [
      "No background model defined for dataset 23523\n",
      "No background model defined for dataset 23526\n",
      "No background model defined for dataset 23559\n",
      "No background model defined for dataset 23592\n"
     ]
    }
   ],
   "source": [
    "datasets = Datasets()\n",
    "for obs_id in obs_ids:\n",
    "    filename = path / f\"pha_obs{obs_id}.fits\"\n",
    "    datasets.append(SpectrumDatasetOnOff.from_ogip_files(filename))"
   ]
  },
  {
   "cell_type": "markdown",
   "execution_count": 18,
   "metadata": {},
   "source": [
    "## Fit spectrum\n",
    "\n",
    "Now we'll fit a global model to the spectrum. First we do a joint likelihood fit to all observations. If you want to stack the observations see below. We will also produce a debug plot in order to show how the global fit matches one of the individual observations."
   ]
  },
  {
   "cell_type": "code",
   "execution_count": 18,
   "metadata": {
    "execution": {
     "iopub.execute_input": "2020-09-16T15:10:24.620065Z",
     "iopub.status.busy": "2020-09-16T15:10:24.618753Z",
     "iopub.status.idle": "2020-09-16T15:10:25.291227Z",
     "shell.execute_reply": "2020-09-16T15:10:25.291722Z"
    }
   },
   "outputs": [
    {
     "name": "stderr",
     "output_type": "stream",
     "text": [
      "No background model defined for dataset 23523\n",
      "No background model defined for dataset 23526\n",
      "No background model defined for dataset 23559\n",
      "No background model defined for dataset 23592\n"
     ]
    }
   ],
   "source": [
    "spectral_model = PowerLawSpectralModel(\n",
    "    index=2, amplitude=2e-11 * u.Unit(\"cm-2 s-1 TeV-1\"), reference=1 * u.TeV\n",
    ")\n",
    "model = SkyModel(spectral_model=spectral_model, name=\"crab\")\n",
    "\n",
    "for dataset in datasets:\n",
    "    dataset.models = model\n",
    "\n",
    "fit_joint = Fit(datasets)\n",
    "result_joint = fit_joint.run()\n",
    "\n",
    "# we make a copy here to compare it later\n",
    "model_best_joint = model.copy()"
   ]
  },
  {
   "cell_type": "markdown",
   "execution_count": 19,
   "metadata": {},
   "source": [
    "## Fit quality and model residuals"
   ]
  },
  {
   "cell_type": "markdown",
   "execution_count": 19,
   "metadata": {},
   "source": [
    "We can access the results dictionary to see if the fit converged:"
   ]
  },
  {
   "cell_type": "code",
   "execution_count": 19,
   "metadata": {
    "execution": {
     "iopub.execute_input": "2020-09-16T15:10:25.297753Z",
     "iopub.status.busy": "2020-09-16T15:10:25.296322Z",
     "iopub.status.idle": "2020-09-16T15:10:25.299148Z",
     "shell.execute_reply": "2020-09-16T15:10:25.299731Z"
    }
   },
   "outputs": [
    {
     "name": "stdout",
     "output_type": "stream",
     "text": [
      "OptimizeResult\n",
      "\n",
      "\tbackend    : minuit\n",
      "\tmethod     : minuit\n",
      "\tsuccess    : True\n",
      "\tmessage    : Optimization terminated successfully.\n",
      "\tnfev       : 49\n",
      "\ttotal stat : 124.41\n",
      "\n"
     ]
    }
   ],
   "source": [
    "print(result_joint)"
   ]
  },
  {
   "cell_type": "markdown",
   "execution_count": 20,
   "metadata": {},
   "source": [
    "A simple way to inspect the model residuals is using the function `~SpectrumDataset.plot_fit()`"
   ]
  },
  {
   "cell_type": "code",
   "execution_count": 20,
   "metadata": {
    "execution": {
     "iopub.execute_input": "2020-09-16T15:10:25.317923Z",
     "iopub.status.busy": "2020-09-16T15:10:25.317228Z",
     "iopub.status.idle": "2020-09-16T15:10:26.383785Z",
     "shell.execute_reply": "2020-09-16T15:10:26.383255Z"
    }
   },
   "outputs": [
    {
     "data": {
      "text/plain": [
       "(0.1, 40)"
      ]
     },
     "execution_count": 1,
     "metadata": {},
     "output_type": "execute_result"
    },
    {
     "data": {
      "image/png": "[encoded data removed]",
      "text/plain": [
       "<Figure size 576x432 with 2 Axes>"
      ]
     },
     "metadata": {
      "needs_background": "light"
     },
     "output_type": "display_data"
    }
   ],
   "source": [
    "plt.figure(figsize=(8, 6))\n",
    "ax_spectrum, ax_residual = datasets[0].plot_fit()\n",
    "ax_spectrum.set_ylim(0.1, 40)"
   ]
  },
  {
   "cell_type": "markdown",
   "execution_count": 21,
   "metadata": {},
   "source": [
    "For more ways of assessing fit quality, please refer to the dedicated [modeling and fitting tutorial](modeling.ipynb)."
   ]
  },
  {
   "cell_type": "markdown",
   "execution_count": 21,
   "metadata": {},
   "source": [
    "## Compute Flux Points\n",
    "\n",
    "To round up our analysis we can compute flux points by fitting the norm of the global model in energy bands. We'll use a fixed energy binning for now:"
   ]
  },
  {
   "cell_type": "code",
   "execution_count": 21,
   "metadata": {
    "execution": {
     "iopub.execute_input": "2020-09-16T15:10:26.388842Z",
     "iopub.status.busy": "2020-09-16T15:10:26.388286Z",
     "iopub.status.idle": "2020-09-16T15:10:26.392255Z",
     "shell.execute_reply": "2020-09-16T15:10:26.391713Z"
    }
   },
   "outputs": [],
   "source": [
    "e_min, e_max = 0.7, 30\n",
    "e_edges = np.logspace(np.log10(e_min), np.log10(e_max), 11) * u.TeV"
   ]
  },
  {
   "cell_type": "markdown",
   "execution_count": 22,
   "metadata": {},
   "source": [
    "Now we create an instance of the `~gammapy.estimators.FluxPointsEstimator`, by passing the dataset and the energy binning:"
   ]
  },
  {
   "cell_type": "code",
   "execution_count": 22,
   "metadata": {
    "execution": {
     "iopub.execute_input": "2020-09-16T15:10:26.432617Z",
     "iopub.status.busy": "2020-09-16T15:10:26.421552Z",
     "iopub.status.idle": "2020-09-16T15:10:40.144888Z",
     "shell.execute_reply": "2020-09-16T15:10:40.144231Z"
    }
   },
   "outputs": [
    {
     "name": "stderr",
     "output_type": "stream",
     "text": [
      "No background model defined for dataset 23523-0.700 TeV-1.019 TeV\n",
      "No background model defined for dataset 23523-0.700 TeV-1.019 TeV\n",
      "No background model defined for dataset 23526-0.700 TeV-1.019 TeV\n",
      "No background model defined for dataset 23526-0.700 TeV-1.019 TeV\n",
      "No background model defined for dataset 23559-0.700 TeV-1.019 TeV\n",
      "No background model defined for dataset 23559-0.700 TeV-1.019 TeV\n",
      "No background model defined for dataset 23592-0.700 TeV-1.019 TeV\n",
      "No background model defined for dataset 23592-0.700 TeV-1.019 TeV\n",
      "No background model defined for dataset 23523-1.019 TeV-1.484 TeV\n",
      "No background model defined for dataset 23523-1.019 TeV-1.484 TeV\n",
      "No background model defined for dataset 23526-1.019 TeV-1.484 TeV\n",
      "No background model defined for dataset 23526-1.019 TeV-1.484 TeV\n",
      "No background model defined for dataset 23559-1.019 TeV-1.484 TeV\n",
      "No background model defined for dataset 23559-1.019 TeV-1.484 TeV\n",
      "No background model defined for dataset 23592-1.019 TeV-1.484 TeV\n",
      "No background model defined for dataset 23592-1.019 TeV-1.484 TeV\n",
      "No background model defined for dataset 23523-1.484 TeV-2.161 TeV\n",
      "No background model defined for dataset 23523-1.484 TeV-2.161 TeV\n",
      "No background model defined for dataset 23526-1.484 TeV-2.161 TeV\n",
      "No background model defined for dataset 23526-1.484 TeV-2.161 TeV\n",
      "No background model defined for dataset 23559-1.484 TeV-2.161 TeV\n",
      "No background model defined for dataset 23559-1.484 TeV-2.161 TeV\n",
      "No background model defined for dataset 23592-1.484 TeV-2.161 TeV\n",
      "No background model defined for dataset 23592-1.484 TeV-2.161 TeV\n",
      "No background model defined for dataset 23523-2.161 TeV-3.147 TeV\n",
      "No background model defined for dataset 23523-2.161 TeV-3.147 TeV\n",
      "No background model defined for dataset 23526-2.161 TeV-3.147 TeV\n",
      "No background model defined for dataset 23526-2.161 TeV-3.147 TeV\n",
      "No background model defined for dataset 23559-2.161 TeV-3.147 TeV\n",
      "No background model defined for dataset 23559-2.161 TeV-3.147 TeV\n",
      "No background model defined for dataset 23592-2.161 TeV-3.147 TeV\n",
      "No background model defined for dataset 23592-2.161 TeV-3.147 TeV\n",
      "No background model defined for dataset 23523-3.147 TeV-4.583 TeV\n",
      "No background model defined for dataset 23523-3.147 TeV-4.583 TeV\n",
      "No background model defined for dataset 23526-3.147 TeV-4.583 TeV\n",
      "No background model defined for dataset 23526-3.147 TeV-4.583 TeV\n",
      "No background model defined for dataset 23559-3.147 TeV-4.583 TeV\n",
      "No background model defined for dataset 23559-3.147 TeV-4.583 TeV\n",
      "No background model defined for dataset 23592-3.147 TeV-4.583 TeV\n",
      "No background model defined for dataset 23592-3.147 TeV-4.583 TeV\n",
      "No background model defined for dataset 23523-4.583 TeV-6.673 TeV\n",
      "No background model defined for dataset 23523-4.583 TeV-6.673 TeV\n",
      "No background model defined for dataset 23526-4.583 TeV-6.673 TeV\n",
      "No background model defined for dataset 23526-4.583 TeV-6.673 TeV\n",
      "No background model defined for dataset 23559-4.583 TeV-6.673 TeV\n",
      "No background model defined for dataset 23559-4.583 TeV-6.673 TeV\n",
      "No background model defined for dataset 23592-4.583 TeV-6.673 TeV\n",
      "No background model defined for dataset 23592-4.583 TeV-6.673 TeV\n",
      "No background model defined for dataset 23523-6.673 TeV-9.717 TeV\n",
      "No background model defined for dataset 23523-6.673 TeV-9.717 TeV\n",
      "No background model defined for dataset 23526-6.673 TeV-9.717 TeV\n",
      "No background model defined for dataset 23526-6.673 TeV-9.717 TeV\n",
      "No background model defined for dataset 23559-6.673 TeV-9.717 TeV\n",
      "No background model defined for dataset 23559-6.673 TeV-9.717 TeV\n",
      "No background model defined for dataset 23592-6.673 TeV-9.717 TeV\n",
      "No background model defined for dataset 23592-6.673 TeV-9.717 TeV\n",
      "No background model defined for dataset 23523-9.717 TeV-14.149 TeV\n",
      "No background model defined for dataset 23523-9.717 TeV-14.149 TeV\n",
      "No background model defined for dataset 23526-9.717 TeV-14.149 TeV\n",
      "No background model defined for dataset 23526-9.717 TeV-14.149 TeV\n",
      "No background model defined for dataset 23559-9.717 TeV-14.149 TeV\n",
      "No background model defined for dataset 23559-9.717 TeV-14.149 TeV\n",
      "No background model defined for dataset 23592-9.717 TeV-14.149 TeV\n",
      "No background model defined for dataset 23592-9.717 TeV-14.149 TeV\n",
      "No background model defined for dataset 23523-14.149 TeV-20.602 TeV\n",
      "No background model defined for dataset 23523-14.149 TeV-20.602 TeV\n",
      "No background model defined for dataset 23526-14.149 TeV-20.602 TeV\n",
      "No background model defined for dataset 23526-14.149 TeV-20.602 TeV\n",
      "No background model defined for dataset 23559-14.149 TeV-20.602 TeV\n",
      "No background model defined for dataset 23559-14.149 TeV-20.602 TeV\n",
      "No background model defined for dataset 23592-14.149 TeV-20.602 TeV\n",
      "No background model defined for dataset 23592-14.149 TeV-20.602 TeV\n",
      "No background model defined for dataset 23523-20.602 TeV-30.000 TeV\n",
      "No background model defined for dataset 23523-20.602 TeV-30.000 TeV\n",
      "No background model defined for dataset 23526-20.602 TeV-30.000 TeV\n",
      "No background model defined for dataset 23526-20.602 TeV-30.000 TeV\n",
      "No background model defined for dataset 23559-20.602 TeV-30.000 TeV\n",
      "No background model defined for dataset 23559-20.602 TeV-30.000 TeV\n",
      "No background model defined for dataset 23592-20.602 TeV-30.000 TeV\n",
      "No background model defined for dataset 23592-20.602 TeV-30.000 TeV\n",
      "Value 0.0 is outside bounds [0.0, 100000.0] for parameter 'norm'\n",
      "Value 0.0 is outside bounds [0.0, 100000.0] for parameter 'norm'\n"
     ]
    }
   ],
   "source": [
    "fpe = FluxPointsEstimator(e_edges=e_edges, source=\"crab\")\n",
    "flux_points = fpe.run(datasets=datasets)"
   ]
  },
  {
   "cell_type": "markdown",
   "execution_count": 23,
   "metadata": {},
   "source": [
    "Here is a the table of the resulting flux points:"
   ]
  },
  {
   "cell_type": "code",
   "execution_count": 23,
   "metadata": {
    "execution": {
     "iopub.execute_input": "2020-09-16T15:10:40.159963Z",
     "iopub.status.busy": "2020-09-16T15:10:40.159317Z",
     "iopub.status.idle": "2020-09-16T15:10:40.164995Z",
     "shell.execute_reply": "2020-09-16T15:10:40.165483Z"
    }
   },
   "outputs": [
    {
     "data": {
      "text/html": [
       "<i>Table length=10</i>\n",
       "<table id=\"table140180444284352\" class=\"table-striped table-bordered table-condensed\">\n",
       "<thead><tr><th>counts [4]</th><th>e_ref</th><th>e_min</th><th>e_max</th><th>ref_dnde</th><th>ref_flux</th><th>ref_eflux</th><th>ref_e2dnde</th><th>norm</th><th>stat</th><th>success</th><th>norm_err</th><th>ts</th><th>sqrt_ts</th><th>norm_errp</th><th>norm_errn</th><th>norm_ul</th><th>norm_scan [11]</th><th>stat_scan [11]</th><th>dnde</th><th>dnde_ul</th><th>dnde_err</th><th>dnde_errp</th><th>dnde_errn</th></tr></thead>\n",
       "<thead><tr><th></th><th>TeV</th><th>TeV</th><th>TeV</th><th>1 / (cm2 s TeV)</th><th>1 / (cm2 s)</th><th>TeV / (cm2 s)</th><th>TeV / (cm2 s)</th><th></th><th></th><th></th><th></th><th></th><th></th><th></th><th></th><th></th><th></th><th></th><th>1 / (cm2 s TeV)</th><th>1 / (cm2 s TeV)</th><th>1 / (cm2 s TeV)</th><th>1 / (cm2 s TeV)</th><th>1 / (cm2 s TeV)</th></tr></thead>\n",
       "<thead><tr><th>int64</th><th>float64</th><th>float64</th><th>float64</th><th>float64</th><th>float64</th><th>float64</th><th>float64</th><th>float64</th><th>float64</th><th>bool</th><th>float64</th><th>float64</th><th>float64</th><th>float64</th><th>float64</th><th>float64</th><th>float64</th><th>float64</th><th>float64</th><th>float64</th><th>float64</th><th>float64</th><th>float64</th></tr></thead>\n",
       "<tr><td>61 .. 42</td><td>0.877</td><td>0.701</td><td>1.099</td><td>3.772e-11</td><td>1.519e-11</td><td>1.309e-11</td><td>2.905e-11</td><td>0.966</td><td>16.146</td><td>True</td><td>0.078</td><td>584.992</td><td>24.187</td><td>0.075</td><td>0.072</td><td>1.121</td><td>0.200 .. 5.000</td><td>248.574 .. 934.398</td><td>3.644e-11</td><td>4.227e-11</td><td>2.939e-12</td><td>2.844e-12</td><td>2.716e-12</td></tr>\n",
       "<tr><td>20 .. 25</td><td>1.276</td><td>1.099</td><td>1.482</td><td>1.431e-11</td><td>5.524e-12</td><td>6.992e-12</td><td>2.331e-11</td><td>0.990</td><td>10.939</td><td>True</td><td>0.105</td><td>264.797</td><td>16.273</td><td>0.120</td><td>0.111</td><td>1.238</td><td>0.200 .. 5.000</td><td>114.917 .. 385.548</td><td>1.418e-11</td><td>1.772e-11</td><td>1.498e-12</td><td>1.711e-12</td><td>1.592e-12</td></tr>\n",
       "<tr><td>36 .. 20</td><td>1.856</td><td>1.482</td><td>2.323</td><td>5.432e-12</td><td>4.626e-12</td><td>8.430e-12</td><td>1.871e-11</td><td>1.212</td><td>7.844</td><td>True</td><td>0.117</td><td>350.376</td><td>18.718</td><td>0.129</td><td>0.121</td><td>1.478</td><td>0.200 .. 5.000</td><td>167.005 .. 342.934</td><td>6.586e-12</td><td>8.029e-12</td><td>6.357e-13</td><td>6.989e-13</td><td>6.551e-13</td></tr>\n",
       "<tr><td>11 .. 12</td><td>2.699</td><td>2.323</td><td>3.135</td><td>2.061e-12</td><td>1.682e-12</td><td>4.503e-12</td><td>1.501e-11</td><td>1.195</td><td>9.790</td><td>True</td><td>0.175</td><td>157.668</td><td>12.557</td><td>0.192</td><td>0.174</td><td>1.597</td><td>0.200 .. 5.000</td><td>80.721 .. 165.444</td><td>2.464e-12</td><td>3.291e-12</td><td>3.607e-13</td><td>3.951e-13</td><td>3.585e-13</td></tr>\n",
       "<tr><td>14 .. 8</td><td>3.924</td><td>3.135</td><td>4.913</td><td>7.822e-13</td><td>1.409e-12</td><td>5.429e-12</td><td>1.205e-11</td><td>0.861</td><td>22.656</td><td>True</td><td>0.156</td><td>92.915</td><td>9.639</td><td>0.167</td><td>0.150</td><td>1.214</td><td>0.200 .. 5.000</td><td>57.809 .. 214.136</td><td>6.737e-13</td><td>9.499e-13</td><td>1.220e-13</td><td>1.310e-13</td><td>1.171e-13</td></tr>\n",
       "<tr><td>7 .. 4</td><td>5.707</td><td>4.913</td><td>6.629</td><td>2.968e-13</td><td>5.123e-13</td><td>2.900e-12</td><td>9.667e-12</td><td>1.111</td><td>6.505</td><td>True</td><td>0.272</td><td>63.182</td><td>7.949</td><td>0.297</td><td>0.253</td><td>1.749</td><td>0.200 .. 5.000</td><td>32.826 .. 73.939</td><td>3.298e-13</td><td>5.193e-13</td><td>8.083e-14</td><td>8.803e-14</td><td>7.521e-14</td></tr>\n",
       "<tr><td>5 .. 5</td><td>8.299</td><td>6.629</td><td>10.390</td><td>1.126e-13</td><td>4.290e-13</td><td>3.496e-12</td><td>7.758e-12</td><td>1.106</td><td>14.176</td><td>True</td><td>0.308</td><td>44.347</td><td>6.659</td><td>0.318</td><td>0.271</td><td>1.793</td><td>0.200 .. 5.000</td><td>34.899 .. 74.713</td><td>1.246e-13</td><td>2.020e-13</td><td>3.469e-14</td><td>3.580e-14</td><td>3.051e-14</td></tr>\n",
       "<tr><td>0 .. 0</td><td>12.068</td><td>10.390</td><td>14.018</td><td>4.275e-14</td><td>1.560e-13</td><td>1.868e-12</td><td>6.226e-12</td><td>0.772</td><td>11.511</td><td>True</td><td>0.423</td><td>8.495</td><td>2.915</td><td>0.476</td><td>0.355</td><td>1.858</td><td>0.200 .. 5.000</td><td>14.892 .. 40.219</td><td>3.299e-14</td><td>7.943e-14</td><td>1.808e-14</td><td>2.035e-14</td><td>1.517e-14</td></tr>\n",
       "<tr><td>1 .. 0</td><td>17.550</td><td>14.018</td><td>21.971</td><td>1.622e-14</td><td>1.307e-13</td><td>2.252e-12</td><td>4.996e-12</td><td>0.424</td><td>7.712</td><td>True</td><td>0.306</td><td>3.175</td><td>1.782</td><td>0.374</td><td>0.234</td><td>1.333</td><td>0.200 .. 5.000</td><td>8.603 .. 41.037</td><td>6.873e-15</td><td>2.163e-14</td><td>4.957e-15</td><td>6.068e-15</td><td>3.794e-15</td></tr>\n",
       "<tr><td>0 .. 0</td><td>25.521</td><td>21.971</td><td>29.645</td><td>6.156e-15</td><td>4.751e-14</td><td>1.203e-12</td><td>4.009e-12</td><td>0.000</td><td>0.524</td><td>True</td><td>0.000</td><td>0.000</td><td>0.000</td><td>0.281</td><td>0.281</td><td>1.124</td><td>0.200 .. 5.000</td><td>1.235 .. 18.312</td><td>0.000e+00</td><td>6.921e-15</td><td>6.063e-21</td><td>1.730e-15</td><td>1.730e-15</td></tr>\n",
       "</table>"
      ],
      "text/plain": [
       "<Table length=10>\n",
       "counts [4]  e_ref   e_min  ...     dnde_err       dnde_errp       dnde_errn   \n",
       "             TeV     TeV   ... 1 / (cm2 s TeV) 1 / (cm2 s TeV) 1 / (cm2 s TeV)\n",
       "  int64    float64 float64 ...     float64         float64         float64    \n",
       "---------- ------- ------- ... --------------- --------------- ---------------\n",
       "  61 .. 42   0.877   0.701 ...       2.939e-12       2.844e-12       2.716e-12\n",
       "  20 .. 25   1.276   1.099 ...       1.498e-12       1.711e-12       1.592e-12\n",
       "  36 .. 20   1.856   1.482 ...       6.357e-13       6.989e-13       6.551e-13\n",
       "  11 .. 12   2.699   2.323 ...       3.607e-13       3.951e-13       3.585e-13\n",
       "   14 .. 8   3.924   3.135 ...       1.220e-13       1.310e-13       1.171e-13\n",
       "    7 .. 4   5.707   4.913 ...       8.083e-14       8.803e-14       7.521e-14\n",
       "    5 .. 5   8.299   6.629 ...       3.469e-14       3.580e-14       3.051e-14\n",
       "    0 .. 0  12.068  10.390 ...       1.808e-14       2.035e-14       1.517e-14\n",
       "    1 .. 0  17.550  14.018 ...       4.957e-15       6.068e-15       3.794e-15\n",
       "    0 .. 0  25.521  21.971 ...       6.063e-21       1.730e-15       1.730e-15"
      ]
     },
     "execution_count": 1,
     "metadata": {},
     "output_type": "execute_result"
    }
   ],
   "source": [
    "flux_points.table_formatted"
   ]
  },
  {
   "cell_type": "markdown",
   "execution_count": 24,
   "metadata": {},
   "source": [
    "Now we plot the flux points and their likelihood profiles. For the plotting of upper limits we choose a threshold of TS < 4."
   ]
  },
  {
   "cell_type": "code",
   "execution_count": 24,
   "metadata": {
    "execution": {
     "iopub.execute_input": "2020-09-16T15:10:40.203227Z",
     "iopub.status.busy": "2020-09-16T15:10:40.170099Z",
     "iopub.status.idle": "2020-09-16T15:10:41.026081Z",
     "shell.execute_reply": "2020-09-16T15:10:41.026693Z"
    }
   },
   "outputs": [
    {
     "name": "stderr",
     "output_type": "stream",
     "text": [
      "/home/runner/work/gammapy-docs/gammapy-docs/gammapy/gammapy/estimators/flux_point.py:668: MatplotlibDeprecationWarning: The 'nonposx' parameter of __init__() has been renamed 'nonpositive' since Matplotlib 3.3; support for the old name will be dropped two minor releases later.\n",
      "  ax.set_xscale(\"log\", nonposx=\"clip\")\n",
      "/home/runner/work/gammapy-docs/gammapy-docs/gammapy/gammapy/estimators/flux_point.py:669: MatplotlibDeprecationWarning: The 'nonposy' parameter of __init__() has been renamed 'nonpositive' since Matplotlib 3.3; support for the old name will be dropped two minor releases later.\n",
      "  ax.set_yscale(\"log\", nonposy=\"clip\")\n",
      "/home/runner/work/gammapy-docs/gammapy-docs/gammapy/gammapy/estimators/flux_point.py:743: MatplotlibDeprecationWarning: shading='flat' when X and Y have the same dimensions as C is deprecated since 3.3.  Either specify the corners of the quadrilaterals with X and Y, or pass shading='auto', 'nearest' or 'gouraud', or set rcParams['pcolor.shading'].  This will become an error two minor releases later.\n",
      "  caxes = ax.pcolormesh(x.value, y_values.value, -z.T, **kwargs)\n",
      "/home/runner/work/gammapy-docs/gammapy-docs/gammapy/gammapy/estimators/flux_point.py:744: MatplotlibDeprecationWarning: The 'nonposx' parameter of __init__() has been renamed 'nonpositive' since Matplotlib 3.3; support for the old name will be dropped two minor releases later.\n",
      "  ax.set_xscale(\"log\", nonposx=\"clip\")\n",
      "/home/runner/work/gammapy-docs/gammapy-docs/gammapy/gammapy/estimators/flux_point.py:745: MatplotlibDeprecationWarning: The 'nonposy' parameter of __init__() has been renamed 'nonpositive' since Matplotlib 3.3; support for the old name will be dropped two minor releases later.\n",
      "  ax.set_yscale(\"log\", nonposy=\"clip\")\n"
     ]
    },
    {
     "data": {
      "text/plain": [
       "<AxesSubplot:xlabel='Energy (TeV)', ylabel='e2dnde (erg / (cm2 s))'>"
      ]
     },
     "execution_count": 1,
     "metadata": {},
     "output_type": "execute_result"
    },
    {
     "data": {
      "image/png": "[encoded data removed]",
      "text/plain": [
       "<Figure size 576x360 with 2 Axes>"
      ]
     },
     "metadata": {
      "needs_background": "light"
     },
     "output_type": "display_data"
    }
   ],
   "source": [
    "plt.figure(figsize=(8, 5))\n",
    "flux_points.table[\"is_ul\"] = flux_points.table[\"ts\"] < 4\n",
    "ax = flux_points.plot(\n",
    "    energy_power=2, flux_unit=\"erg-1 cm-2 s-1\", color=\"darkorange\"\n",
    ")\n",
    "flux_points.to_sed_type(\"e2dnde\").plot_ts_profiles(ax=ax)"
   ]
  },
  {
   "cell_type": "markdown",
   "execution_count": 25,
   "metadata": {},
   "source": [
    "The final plot with the best fit model, flux points and residuals can be quickly made like this: "
   ]
  },
  {
   "cell_type": "code",
   "execution_count": 25,
   "metadata": {
    "execution": {
     "iopub.execute_input": "2020-09-16T15:10:41.031272Z",
     "iopub.status.busy": "2020-09-16T15:10:41.030721Z",
     "iopub.status.idle": "2020-09-16T15:10:41.034746Z",
     "shell.execute_reply": "2020-09-16T15:10:41.034183Z"
    }
   },
   "outputs": [],
   "source": [
    "flux_points_dataset = FluxPointsDataset(\n",
    "    data=flux_points, models=model_best_joint\n",
    ")"
   ]
  },
  {
   "cell_type": "code",
   "execution_count": 26,
   "metadata": {
    "execution": {
     "iopub.execute_input": "2020-09-16T15:10:41.073186Z",
     "iopub.status.busy": "2020-09-16T15:10:41.061834Z",
     "iopub.status.idle": "2020-09-16T15:10:41.790408Z",
     "shell.execute_reply": "2020-09-16T15:10:41.789509Z"
    }
   },
   "outputs": [
    {
     "name": "stderr",
     "output_type": "stream",
     "text": [
      "/home/runner/work/gammapy-docs/gammapy-docs/gammapy/gammapy/modeling/models/spectral.py:323: MatplotlibDeprecationWarning: The 'nonposx' parameter of __init__() has been renamed 'nonpositive' since Matplotlib 3.3; support for the old name will be dropped two minor releases later.\n",
      "  ax.set_xscale(\"log\", nonposx=\"clip\")\n",
      "/home/runner/work/gammapy-docs/gammapy-docs/gammapy/gammapy/modeling/models/spectral.py:324: MatplotlibDeprecationWarning: The 'nonposy' parameter of __init__() has been renamed 'nonpositive' since Matplotlib 3.3; support for the old name will be dropped two minor releases later.\n",
      "  ax.set_yscale(\"log\", nonposy=\"clip\")\n"
     ]
    },
    {
     "data": {
      "text/plain": [
       "(<AxesSubplot:xlabel='Energy [TeV]', ylabel='E2 * Flux [erg / (cm2 s)]'>,\n",
       " <AxesSubplot:xlabel='Energy (TeV)', ylabel='Residuals '>)"
      ]
     },
     "execution_count": 1,
     "metadata": {},
     "output_type": "execute_result"
    },
    {
     "data": {
      "image/png": "[encoded data removed]",
      "text/plain": [
       "<Figure size 576x432 with 2 Axes>"
      ]
     },
     "metadata": {
      "needs_background": "light"
     },
     "output_type": "display_data"
    }
   ],
   "source": [
    "plt.figure(figsize=(8, 6))\n",
    "flux_points_dataset.peek();"
   ]
  },
  {
   "cell_type": "markdown",
   "execution_count": 27,
   "metadata": {},
   "source": [
    "## Stack observations\n",
    "\n",
    "And alternative approach to fitting the spectrum is stacking all observations first and the fitting a model. For this we first stack the individual datasets:"
   ]
  },
  {
   "cell_type": "code",
   "execution_count": 27,
   "metadata": {
    "execution": {
     "iopub.execute_input": "2020-09-16T15:10:41.804012Z",
     "iopub.status.busy": "2020-09-16T15:10:41.798572Z",
     "iopub.status.idle": "2020-09-16T15:10:41.937534Z",
     "shell.execute_reply": "2020-09-16T15:10:41.938105Z"
    }
   },
   "outputs": [
    {
     "name": "stderr",
     "output_type": "stream",
     "text": [
      "No background model defined for dataset _8-5z--U\n",
      "No background model defined for dataset _8-5z--U\n",
      "No background model defined for dataset _8-5z--U\n"
     ]
    }
   ],
   "source": [
    "dataset_stacked = Datasets(datasets).stack_reduce()"
   ]
  },
  {
   "cell_type": "markdown",
   "execution_count": 28,
   "metadata": {},
   "source": [
    "Again we set the model on the dataset we would like to fit (in this case it's only a single one) and pass it to the `~gammapy.modeling.Fit` object:"
   ]
  },
  {
   "cell_type": "code",
   "execution_count": 28,
   "metadata": {
    "execution": {
     "iopub.execute_input": "2020-09-16T15:10:41.943956Z",
     "iopub.status.busy": "2020-09-16T15:10:41.943167Z",
     "iopub.status.idle": "2020-09-16T15:10:42.075138Z",
     "shell.execute_reply": "2020-09-16T15:10:42.074401Z"
    }
   },
   "outputs": [
    {
     "name": "stderr",
     "output_type": "stream",
     "text": [
      "No background model defined for dataset _8-5z--U\n"
     ]
    }
   ],
   "source": [
    "dataset_stacked.models = model\n",
    "stacked_fit = Fit([dataset_stacked])\n",
    "result_stacked = stacked_fit.run()\n",
    "\n",
    "# make a copy to compare later\n",
    "model_best_stacked = model.copy()"
   ]
  },
  {
   "cell_type": "code",
   "execution_count": 29,
   "metadata": {
    "execution": {
     "iopub.execute_input": "2020-09-16T15:10:42.080149Z",
     "iopub.status.busy": "2020-09-16T15:10:42.079348Z",
     "iopub.status.idle": "2020-09-16T15:10:42.084460Z",
     "shell.execute_reply": "2020-09-16T15:10:42.084991Z"
    }
   },
   "outputs": [
    {
     "name": "stdout",
     "output_type": "stream",
     "text": [
      "OptimizeResult\n",
      "\n",
      "\tbackend    : minuit\n",
      "\tmethod     : minuit\n",
      "\tsuccess    : True\n",
      "\tmessage    : Optimization terminated successfully.\n",
      "\tnfev       : 35\n",
      "\ttotal stat : 29.88\n",
      "\n"
     ]
    }
   ],
   "source": [
    "print(result_stacked)"
   ]
  },
  {
   "cell_type": "code",
   "execution_count": 30,
   "metadata": {
    "execution": {
     "iopub.execute_input": "2020-09-16T15:10:42.093554Z",
     "iopub.status.busy": "2020-09-16T15:10:42.092926Z",
     "iopub.status.idle": "2020-09-16T15:10:42.098775Z",
     "shell.execute_reply": "2020-09-16T15:10:42.099379Z"
    }
   },
   "outputs": [
    {
     "data": {
      "text/html": [
       "<i>Table length=3</i>\n",
       "<table id=\"table140180041563496\" class=\"table-striped table-bordered table-condensed\">\n",
       "<thead><tr><th>name</th><th>value</th><th>unit</th><th>min</th><th>max</th><th>frozen</th><th>error</th></tr></thead>\n",
       "<thead><tr><th>str9</th><th>float64</th><th>str14</th><th>float64</th><th>float64</th><th>bool</th><th>float64</th></tr></thead>\n",
       "<tr><td>index</td><td>2.588e+00</td><td></td><td>nan</td><td>nan</td><td>False</td><td>5.945e-02</td></tr>\n",
       "<tr><td>amplitude</td><td>2.690e-11</td><td>cm-2 s-1 TeV-1</td><td>nan</td><td>nan</td><td>False</td><td>1.260e-12</td></tr>\n",
       "<tr><td>reference</td><td>1.000e+00</td><td>TeV</td><td>nan</td><td>nan</td><td>True</td><td>0.000e+00</td></tr>\n",
       "</table>"
      ],
      "text/plain": [
       "<Table length=3>\n",
       "   name     value        unit        min     max   frozen   error  \n",
       "   str9    float64      str14      float64 float64  bool   float64 \n",
       "--------- --------- -------------- ------- ------- ------ ---------\n",
       "    index 2.588e+00                    nan     nan  False 5.945e-02\n",
       "amplitude 2.690e-11 cm-2 s-1 TeV-1     nan     nan  False 1.260e-12\n",
       "reference 1.000e+00            TeV     nan     nan   True 0.000e+00"
      ]
     },
     "execution_count": 1,
     "metadata": {},
     "output_type": "execute_result"
    }
   ],
   "source": [
    "model_best_joint.parameters.to_table()"
   ]
  },
  {
   "cell_type": "code",
   "execution_count": 31,
   "metadata": {
    "execution": {
     "iopub.execute_input": "2020-09-16T15:10:42.110181Z",
     "iopub.status.busy": "2020-09-16T15:10:42.108825Z",
     "iopub.status.idle": "2020-09-16T15:10:42.111950Z",
     "shell.execute_reply": "2020-09-16T15:10:42.112577Z"
    }
   },
   "outputs": [
    {
     "data": {
      "text/html": [
       "<i>Table length=3</i>\n",
       "<table id=\"table140180045194968\" class=\"table-striped table-bordered table-condensed\">\n",
       "<thead><tr><th>name</th><th>value</th><th>unit</th><th>min</th><th>max</th><th>frozen</th><th>error</th></tr></thead>\n",
       "<thead><tr><th>str9</th><th>float64</th><th>str14</th><th>float64</th><th>float64</th><th>bool</th><th>float64</th></tr></thead>\n",
       "<tr><td>index</td><td>2.591e+00</td><td></td><td>nan</td><td>nan</td><td>False</td><td>6.678e-02</td></tr>\n",
       "<tr><td>amplitude</td><td>2.693e-11</td><td>cm-2 s-1 TeV-1</td><td>nan</td><td>nan</td><td>False</td><td>1.392e-12</td></tr>\n",
       "<tr><td>reference</td><td>1.000e+00</td><td>TeV</td><td>nan</td><td>nan</td><td>True</td><td>0.000e+00</td></tr>\n",
       "</table>"
      ],
      "text/plain": [
       "<Table length=3>\n",
       "   name     value        unit        min     max   frozen   error  \n",
       "   str9    float64      str14      float64 float64  bool   float64 \n",
       "--------- --------- -------------- ------- ------- ------ ---------\n",
       "    index 2.591e+00                    nan     nan  False 6.678e-02\n",
       "amplitude 2.693e-11 cm-2 s-1 TeV-1     nan     nan  False 1.392e-12\n",
       "reference 1.000e+00            TeV     nan     nan   True 0.000e+00"
      ]
     },
     "execution_count": 1,
     "metadata": {},
     "output_type": "execute_result"
    }
   ],
   "source": [
    "model_best_stacked.parameters.to_table()"
   ]
  },
  {
   "cell_type": "markdown",
   "execution_count": 32,
   "metadata": {},
   "source": [
    "Finally, we compare the results of our stacked analysis to a previously published Crab Nebula Spectrum for reference. This is available in `~gammapy.modeling.models.create_crab_spectral_model`."
   ]
  },
  {
   "cell_type": "code",
   "execution_count": 32,
   "metadata": {
    "execution": {
     "iopub.execute_input": "2020-09-16T15:10:42.143635Z",
     "iopub.status.busy": "2020-09-16T15:10:42.132378Z",
     "iopub.status.idle": "2020-09-16T15:10:42.808422Z",
     "shell.execute_reply": "2020-09-16T15:10:42.807865Z"
    }
   },
   "outputs": [
    {
     "name": "stderr",
     "output_type": "stream",
     "text": [
      "/home/runner/work/gammapy-docs/gammapy-docs/gammapy/gammapy/modeling/models/spectral.py:323: MatplotlibDeprecationWarning: The 'nonposx' parameter of __init__() has been renamed 'nonpositive' since Matplotlib 3.3; support for the old name will be dropped two minor releases later.\n",
      "  ax.set_xscale(\"log\", nonposx=\"clip\")\n",
      "/home/runner/work/gammapy-docs/gammapy-docs/gammapy/gammapy/modeling/models/spectral.py:324: MatplotlibDeprecationWarning: The 'nonposy' parameter of __init__() has been renamed 'nonpositive' since Matplotlib 3.3; support for the old name will be dropped two minor releases later.\n",
      "  ax.set_yscale(\"log\", nonposy=\"clip\")\n",
      "/home/runner/work/gammapy-docs/gammapy-docs/gammapy/gammapy/modeling/models/spectral.py:323: MatplotlibDeprecationWarning: The 'nonposx' parameter of __init__() has been renamed 'nonpositive' since Matplotlib 3.3; support for the old name will be dropped two minor releases later.\n",
      "  ax.set_xscale(\"log\", nonposx=\"clip\")\n",
      "/home/runner/work/gammapy-docs/gammapy-docs/gammapy/gammapy/modeling/models/spectral.py:324: MatplotlibDeprecationWarning: The 'nonposy' parameter of __init__() has been renamed 'nonpositive' since Matplotlib 3.3; support for the old name will be dropped two minor releases later.\n",
      "  ax.set_yscale(\"log\", nonposy=\"clip\")\n",
      "/home/runner/work/gammapy-docs/gammapy-docs/gammapy/gammapy/modeling/models/spectral.py:323: MatplotlibDeprecationWarning: The 'nonposx' parameter of __init__() has been renamed 'nonpositive' since Matplotlib 3.3; support for the old name will be dropped two minor releases later.\n",
      "  ax.set_xscale(\"log\", nonposx=\"clip\")\n",
      "/home/runner/work/gammapy-docs/gammapy-docs/gammapy/gammapy/modeling/models/spectral.py:324: MatplotlibDeprecationWarning: The 'nonposy' parameter of __init__() has been renamed 'nonpositive' since Matplotlib 3.3; support for the old name will be dropped two minor releases later.\n",
      "  ax.set_yscale(\"log\", nonposy=\"clip\")\n"
     ]
    },
    {
     "data": {
      "text/plain": [
       "<matplotlib.legend.Legend at 0x7f7e35a7ef98>"
      ]
     },
     "execution_count": 1,
     "metadata": {},
     "output_type": "execute_result"
    },
    {
     "data": {
      "image/png": "[encoded data removed]",
      "text/plain": [
       "<Figure size 432x288 with 1 Axes>"
      ]
     },
     "metadata": {
      "needs_background": "light"
     },
     "output_type": "display_data"
    }
   ],
   "source": [
    "plot_kwargs = {\n",
    "    \"energy_range\": [0.1, 30] * u.TeV,\n",
    "    \"energy_power\": 2,\n",
    "    \"flux_unit\": \"erg-1 cm-2 s-1\",\n",
    "}\n",
    "\n",
    "# plot stacked model\n",
    "model_best_stacked.spectral_model.plot(\n",
    "    **plot_kwargs, label=\"Stacked analysis result\"\n",
    ")\n",
    "model_best_stacked.spectral_model.plot_error(**plot_kwargs)\n",
    "\n",
    "# plot joint model\n",
    "model_best_joint.spectral_model.plot(\n",
    "    **plot_kwargs, label=\"Joint analysis result\", ls=\"--\"\n",
    ")\n",
    "model_best_joint.spectral_model.plot_error(**plot_kwargs)\n",
    "\n",
    "create_crab_spectral_model(\"hess_pl\").plot(\n",
    "    **plot_kwargs, label=\"Crab reference\"\n",
    ")\n",
    "plt.legend()"
   ]
  },
  {
   "cell_type": "markdown",
   "execution_count": 33,
   "metadata": {},
   "source": [
    "## Exercises\n",
    "\n",
    "Now you have learned the basics of a spectral analysis with Gammapy. To practice you can continue with the following exercises:\n",
    "\n",
    "- Fit a different spectral model to the data.\n",
    "  You could try `~gammapy.modeling.models.ExpCutoffPowerLawSpectralModel` or `~gammapy.modeling.models.LogParabolaSpectralModel`.\n",
    "- Compute flux points for the stacked dataset.\n",
    "- Create a `~gammapy.estimators.FluxPointsDataset` with the flux points you have computed for the stacked dataset and fit the flux points again with obe of the spectral models. How does the result compare to the best fit model, that was directly fitted to the counts data?"
   ]
  },
  {
   "cell_type": "markdown",
   "execution_count": 33,
   "metadata": {},
   "source": [
    "## What next?\n",
    "\n",
    "The methods shown in this tutorial is valid for point-like or midly extended sources where we can assume that the IRF taken at the region center is valid over the whole region. If one wants to extract the 1D spectrum of a large source and properly average the response over the extraction region, one has to use a different approach explained in [the extended source spectral analysis tutorial](extended_source_spectral_analysis.ipynb)."
   ]
  },
  {
   "cell_type": "code",
   "execution_count": 33,
   "metadata": {},
   "outputs": [],
   "source": []
  }
 ],
 "metadata": {
  "kernelspec": {
   "display_name": "Python 3",
   "language": "python",
   "name": "python3"
  },
  "language_info": {
   "codemirror_mode": {
    "name": "ipython",
    "version": 3
   },
   "file_extension": ".py",
   "mimetype": "text/x-python",
   "name": "python",
   "nbconvert_exporter": "python",
   "pygments_lexer": "ipython3",
   "version": "3.7.0"
  },
  "nbsphinx": {
   "orphan": true
  }
 },
 "nbformat": 4,
 "nbformat_minor": 4
}
