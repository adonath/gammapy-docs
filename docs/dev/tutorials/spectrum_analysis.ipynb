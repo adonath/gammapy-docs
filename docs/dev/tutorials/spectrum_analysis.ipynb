{
 "cells": [
  {
   "cell_type": "markdown",
   "metadata": {},
   "source": [
    "\n",
    "<div class=\"alert alert-info\">\n",
    "\n",
    "**This is a fixed-text formatted version of a Jupyter notebook**\n",
    "\n",
    "- Try online [![Binder](https://static.mybinder.org/badge.svg)](https://mybinder.org/v2/gh/gammapy/gammapy-webpage/master?urlpath=lab/tree/spectrum_analysis.ipynb)\n",
    "- You can contribute with your own notebooks in this\n",
    "[GitHub repository](https://github.com/gammapy/gammapy/tree/master/docs/tutorials).\n",
    "- **Source files:**\n",
    "[spectrum_analysis.ipynb](../_static/notebooks/spectrum_analysis.ipynb) |\n",
    "[spectrum_analysis.py](../_static/notebooks/spectrum_analysis.py)\n",
    "</div>\n"
   ]
  },
  {
   "cell_type": "markdown",
   "metadata": {},
   "source": [
    "# Spectral analysis with Gammapy"
   ]
  },
  {
   "cell_type": "markdown",
   "metadata": {},
   "source": [
    "## Prerequisites \n",
    "\n",
    "- Understanding how spectral extraction is performed in Cherenkov astronomy, in particular regarding OFF background measurements. \n",
    "- Understanding the basics data reduction and modeling/fitting process with the gammapy library API as shown in the [first gammapy analysis with the gammapy library API tutorial](analysis_2.ipynb)\n",
    "\n",
    "## Context\n",
    "\n",
    "While 3D analysis allows in principle to deal with complex situations such as overlapping sources, in many cases, it is not required to extract the spectrum of a source. Spectral analysis, where all data inside a ON region are binned into 1D datasets, provides a nice alternative. \n",
    "\n",
    "In classical Cherenkov astronomy, it is used with a specific background estimation technique that relies on OFF measurements taken in the field-of-view in regions where the background\n",
    "rate is assumed to be equal to the one in the ON region. \n",
    "\n",
    "This allows to use a specific fit statistics for ON-OFF measurements, the wstat (see `~gammapy.stats.fit_statistics`), where no background model is assumed. Background is treated as a set of nuisance parameters. This removes some systematic effects connected\n",
    "to the choice or the quality of the background model. But this comes at the expense of larger statistical uncertainties on the fitted model parameters.\n",
    "\n",
    "**Objective: perform a full region based spectral analysis of 4 Crab observations of  H.E.S.S. data release 1 and fit the resulting datasets.**\n",
    "\n",
    "## Introduction\n",
    "\n",
    "Here, as usual, we use the `~gammapy.data.DataStore` to retrieve a list of selected observations (`~gammapy.data.Observations`). Then, we define the ON region containing the source and the geometry of the `~gammapy.datasets.SpectrumDataset` object we want to produce. We then create the corresponding dataset Maker. \n",
    "\n",
    "We have to define the Maker object that will extract the OFF counts from reflected regions in the field-of-view. To ensure we use data in an energy range where the quality of the IRFs is good enough we also create a safe range Maker.\n",
    "\n",
    "We can then proceed with data reduction with a loop over all selected observations to produce datasets in the relevant geometry.\n",
    "\n",
    "We can then explore the resulting datasets and look at the cumulative signal and significance of our source. We finally proceed with model fitting. \n",
    "\n",
    "In practice, we have to:\n",
    "- Create a `~gammapy.data.DataStore` poiting to the relevant data \n",
    "- Apply an observation selection to produce a list of observations, a `~gammapy.data.Observations` object.\n",
    "- Define a geometry of the spectrum we want to produce:\n",
    "    - Create a `~regions.CircleSkyRegion` for the ON extraction region\n",
    "    - Create a `~gammapy.maps.MapAxis` for the energy binnings: one for the reconstructed (i.e. measured) energy, the other for the true energy (i.e. the one used by IRFs and models)\n",
    "- Create the necessary makers : \n",
    "    - the spectrum dataset maker : `~gammapy.makers.SpectrumDatasetMaker`\n",
    "    - the OFF background maker, here a `~gammapy.makers.ReflectedRegionsBackgroundMaker`\n",
    "    - and the safe range maker : `~gammapy.makers.SafeRangeMaker`\n",
    "- Perform the data reduction loop. And for every observation:\n",
    "    - Apply the makers sequentially to produce a `~gammapy.datasets.SpectrumDatasetOnOff`\n",
    "    - Append it to list of datasets\n",
    "- Define the `~gammapy.modeling.models.SkyModel` to apply to the dataset.\n",
    "- Create a `~gammapy.modeling.Fit` object and run it to fit the model parameters\n",
    "- Apply a `~gammapy.estimators.FluxPointsEstimator` to compute flux points for the spectral part of the fit.\n"
   ]
  },
  {
   "cell_type": "markdown",
   "metadata": {},
   "source": [
    "## Setup\n",
    "\n",
    "As usual, we'll start with some setup ..."
   ]
  },
  {
   "cell_type": "code",
   "execution_count": 1,
   "metadata": {
    "execution": {
     "iopub.execute_input": "2020-10-27T15:46:35.861339Z",
     "iopub.status.busy": "2020-10-27T15:46:35.860726Z",
     "iopub.status.idle": "2020-10-27T15:46:36.136622Z",
     "shell.execute_reply": "2020-10-27T15:46:36.135517Z"
    }
   },
   "outputs": [],
   "source": [
    "%matplotlib inline\n",
    "import matplotlib.pyplot as plt"
   ]
  },
  {
   "cell_type": "code",
   "execution_count": 2,
   "metadata": {
    "execution": {
     "iopub.execute_input": "2020-10-27T15:46:36.143769Z",
     "iopub.status.busy": "2020-10-27T15:46:36.141649Z",
     "iopub.status.idle": "2020-10-27T15:46:36.658959Z",
     "shell.execute_reply": "2020-10-27T15:46:36.658409Z"
    }
   },
   "outputs": [
    {
     "name": "stdout",
     "output_type": "stream",
     "text": [
      "gammapy: 0.18.dev1086+ge25227760\n",
      "numpy: 1.19.2\n",
      "astropy 4.1\n",
      "regions 0.4\n"
     ]
    }
   ],
   "source": [
    "# Check package versions\n",
    "import gammapy\n",
    "import numpy as np\n",
    "import astropy\n",
    "import regions\n",
    "\n",
    "print(\"gammapy:\", gammapy.__version__)\n",
    "print(\"numpy:\", np.__version__)\n",
    "print(\"astropy\", astropy.__version__)\n",
    "print(\"regions\", regions.__version__)"
   ]
  },
  {
   "cell_type": "code",
   "execution_count": 3,
   "metadata": {
    "execution": {
     "iopub.execute_input": "2020-10-27T15:46:36.664501Z",
     "iopub.status.busy": "2020-10-27T15:46:36.663703Z",
     "iopub.status.idle": "2020-10-27T15:46:37.102139Z",
     "shell.execute_reply": "2020-10-27T15:46:37.100889Z"
    }
   },
   "outputs": [],
   "source": [
    "from pathlib import Path\n",
    "import astropy.units as u\n",
    "from astropy.coordinates import SkyCoord, Angle\n",
    "from regions import CircleSkyRegion\n",
    "from gammapy.maps import Map, MapAxis\n",
    "from gammapy.modeling import Fit\n",
    "from gammapy.data import DataStore\n",
    "from gammapy.datasets import (\n",
    "    Datasets,\n",
    "    SpectrumDataset,\n",
    "    SpectrumDatasetOnOff,\n",
    "    FluxPointsDataset,\n",
    ")\n",
    "from gammapy.modeling.models import (\n",
    "    PowerLawSpectralModel,\n",
    "    create_crab_spectral_model,\n",
    "    SkyModel,\n",
    ")\n",
    "from gammapy.makers import (\n",
    "    SafeMaskMaker,\n",
    "    SpectrumDatasetMaker,\n",
    "    ReflectedRegionsBackgroundMaker,\n",
    ")\n",
    "from gammapy.estimators import FluxPointsEstimator\n",
    "from gammapy.visualization import plot_spectrum_datasets_off_regions"
   ]
  },
  {
   "cell_type": "markdown",
   "metadata": {},
   "source": [
    "## Load Data\n",
    "\n",
    "First, we select and load some H.E.S.S. observations of the Crab nebula (simulated events for now).\n",
    "\n",
    "We will access the events, effective area, energy dispersion, livetime and PSF for containement correction."
   ]
  },
  {
   "cell_type": "code",
   "execution_count": 4,
   "metadata": {
    "execution": {
     "iopub.execute_input": "2020-10-27T15:46:37.106717Z",
     "iopub.status.busy": "2020-10-27T15:46:37.106154Z",
     "iopub.status.idle": "2020-10-27T15:46:37.151373Z",
     "shell.execute_reply": "2020-10-27T15:46:37.150419Z"
    }
   },
   "outputs": [],
   "source": [
    "datastore = DataStore.from_dir(\"$GAMMAPY_DATA/hess-dl3-dr1/\")\n",
    "obs_ids = [23523, 23526, 23559, 23592]\n",
    "observations = datastore.get_observations(obs_ids)"
   ]
  },
  {
   "cell_type": "markdown",
   "metadata": {},
   "source": [
    "## Define Target Region\n",
    "\n",
    "The next step is to define a signal extraction region, also known as on region. In the simplest case this is just a [CircleSkyRegion](http://astropy-regions.readthedocs.io/en/latest/api/regions.CircleSkyRegion.html), but here we will use the ``Target`` class in gammapy that is useful for book-keeping if you run several analysis in a script."
   ]
  },
  {
   "cell_type": "code",
   "execution_count": 5,
   "metadata": {
    "execution": {
     "iopub.execute_input": "2020-10-27T15:46:37.157857Z",
     "iopub.status.busy": "2020-10-27T15:46:37.156658Z",
     "iopub.status.idle": "2020-10-27T15:46:37.158369Z",
     "shell.execute_reply": "2020-10-27T15:46:37.158859Z"
    }
   },
   "outputs": [],
   "source": [
    "target_position = SkyCoord(ra=83.63, dec=22.01, unit=\"deg\", frame=\"icrs\")\n",
    "on_region_radius = Angle(\"0.11 deg\")\n",
    "on_region = CircleSkyRegion(center=target_position, radius=on_region_radius)"
   ]
  },
  {
   "cell_type": "markdown",
   "metadata": {},
   "source": [
    "## Create exclusion mask\n",
    "\n",
    "We will use the reflected regions method to place off regions to estimate the background level in the on region.\n",
    "To make sure the off regions don't contain gamma-ray emission, we create an exclusion mask.\n",
    "\n",
    "Using http://gamma-sky.net/ we find that there's only one known gamma-ray source near the Crab nebula: the AGN called [RGB J0521+212](http://gamma-sky.net/#/cat/tev/23) at GLON = 183.604 deg and GLAT = -8.708 deg."
   ]
  },
  {
   "cell_type": "code",
   "execution_count": 6,
   "metadata": {
    "execution": {
     "iopub.execute_input": "2020-10-27T15:46:37.171201Z",
     "iopub.status.busy": "2020-10-27T15:46:37.170670Z",
     "iopub.status.idle": "2020-10-27T15:46:37.587022Z",
     "shell.execute_reply": "2020-10-27T15:46:37.587536Z"
    },
    "scrolled": true
   },
   "outputs": [
    {
     "data": {
      "text/plain": [
       "(<Figure size 432x288 with 1 Axes>,\n",
       " <WCSAxesSubplot:xlabel='Right Ascension', ylabel='Declination'>,\n",
       " None)"
      ]
     },
     "execution_count": 1,
     "metadata": {},
     "output_type": "execute_result"
    },
    {
     "data": {
      "image/png": "[encoded data removed]",
      "text/plain": [
       "<Figure size 432x288 with 1 Axes>"
      ]
     },
     "metadata": {
      "needs_background": "light"
     },
     "output_type": "display_data"
    }
   ],
   "source": [
    "exclusion_region = CircleSkyRegion(\n",
    "    center=SkyCoord(183.604, -8.708, unit=\"deg\", frame=\"galactic\"),\n",
    "    radius=0.5 * u.deg,\n",
    ")\n",
    "\n",
    "skydir = target_position.galactic\n",
    "exclusion_mask = Map.create(\n",
    "    npix=(150, 150), binsz=0.05, skydir=skydir, proj=\"TAN\", frame=\"icrs\"\n",
    ")\n",
    "\n",
    "mask = exclusion_mask.geom.region_mask([exclusion_region], inside=False)\n",
    "exclusion_mask.data = mask\n",
    "exclusion_mask.plot();"
   ]
  },
  {
   "cell_type": "markdown",
   "metadata": {},
   "source": [
    "## Run data reduction chain\n",
    "\n",
    "We begin with the configuration of the maker classes:"
   ]
  },
  {
   "cell_type": "code",
   "execution_count": 7,
   "metadata": {
    "execution": {
     "iopub.execute_input": "2020-10-27T15:46:37.593795Z",
     "iopub.status.busy": "2020-10-27T15:46:37.591571Z",
     "iopub.status.idle": "2020-10-27T15:46:37.604301Z",
     "shell.execute_reply": "2020-10-27T15:46:37.604790Z"
    }
   },
   "outputs": [],
   "source": [
    "e_reco = MapAxis.from_energy_bounds(0.1, 40, 40, unit=\"TeV\", name=\"energy\")\n",
    "e_true = MapAxis.from_energy_bounds(\n",
    "    0.05, 100, 200, unit=\"TeV\", name=\"energy_true\"\n",
    ")\n",
    "dataset_empty = SpectrumDataset.create(\n",
    "    e_reco=e_reco, e_true=e_true, region=on_region\n",
    ")"
   ]
  },
  {
   "cell_type": "code",
   "execution_count": 8,
   "metadata": {
    "execution": {
     "iopub.execute_input": "2020-10-27T15:46:37.607057Z",
     "iopub.status.busy": "2020-10-27T15:46:37.606562Z",
     "iopub.status.idle": "2020-10-27T15:46:37.610115Z",
     "shell.execute_reply": "2020-10-27T15:46:37.610613Z"
    }
   },
   "outputs": [],
   "source": [
    "dataset_maker = SpectrumDatasetMaker(\n",
    "    containment_correction=False, selection=[\"counts\", \"exposure\", \"edisp\"]\n",
    ")\n",
    "bkg_maker = ReflectedRegionsBackgroundMaker(exclusion_mask=exclusion_mask)\n",
    "safe_mask_masker = SafeMaskMaker(methods=[\"aeff-max\"], aeff_percent=10)"
   ]
  },
  {
   "cell_type": "code",
   "execution_count": 9,
   "metadata": {
    "execution": {
     "iopub.execute_input": "2020-10-27T15:46:37.612756Z",
     "iopub.status.busy": "2020-10-27T15:46:37.612267Z",
     "iopub.status.idle": "2020-10-27T15:46:41.343534Z",
     "shell.execute_reply": "2020-10-27T15:46:41.343090Z"
    }
   },
   "outputs": [
    {
     "name": "stderr",
     "output_type": "stream",
     "text": [
      "No background model defined for dataset 23523\n",
      "No background model defined for dataset 23523\n",
      "No background model defined for dataset 23526\n",
      "No background model defined for dataset 23526\n",
      "No background model defined for dataset 23559\n",
      "No background model defined for dataset 23559\n",
      "No background model defined for dataset 23592\n",
      "No background model defined for dataset 23592\n"
     ]
    },
    {
     "name": "stdout",
     "output_type": "stream",
     "text": [
      "CPU times: user 3.6 s, sys: 150 ms, total: 3.75 s\n",
      "Wall time: 3.72 s\n"
     ]
    }
   ],
   "source": [
    "%%time\n",
    "datasets = Datasets()\n",
    "\n",
    "for obs_id, observation in zip(obs_ids, observations):\n",
    "    dataset = dataset_maker.run(\n",
    "        dataset_empty.copy(name=str(obs_id)), observation\n",
    "    )\n",
    "    dataset_on_off = bkg_maker.run(dataset, observation)\n",
    "    dataset_on_off = safe_mask_masker.run(dataset_on_off, observation)\n",
    "    datasets.append(dataset_on_off)"
   ]
  },
  {
   "cell_type": "markdown",
   "metadata": {},
   "source": [
    "## Plot off regions"
   ]
  },
  {
   "cell_type": "code",
   "execution_count": 10,
   "metadata": {
    "execution": {
     "iopub.execute_input": "2020-10-27T15:46:41.367443Z",
     "iopub.status.busy": "2020-10-27T15:46:41.366617Z",
     "iopub.status.idle": "2020-10-27T15:46:41.884035Z",
     "shell.execute_reply": "2020-10-27T15:46:41.884710Z"
    }
   },
   "outputs": [
    {
     "data": {
      "image/png": "[encoded data removed]",
      "text/plain": [
       "<Figure size 576x576 with 1 Axes>"
      ]
     },
     "metadata": {
      "needs_background": "light"
     },
     "output_type": "display_data"
    }
   ],
   "source": [
    "plt.figure(figsize=(8, 8))\n",
    "_, ax, _ = exclusion_mask.plot()\n",
    "on_region.to_pixel(ax.wcs).plot(ax=ax, edgecolor=\"k\")\n",
    "plot_spectrum_datasets_off_regions(ax=ax, datasets=datasets)"
   ]
  },
  {
   "cell_type": "markdown",
   "metadata": {},
   "source": [
    "## Source statistic\n",
    "\n",
    "Next we're going to look at the overall source statistics in our signal region."
   ]
  },
  {
   "cell_type": "code",
   "execution_count": 11,
   "metadata": {
    "execution": {
     "iopub.execute_input": "2020-10-27T15:46:41.887864Z",
     "iopub.status.busy": "2020-10-27T15:46:41.886872Z",
     "iopub.status.idle": "2020-10-27T15:46:42.113665Z",
     "shell.execute_reply": "2020-10-27T15:46:42.112932Z"
    }
   },
   "outputs": [],
   "source": [
    "info_table = datasets.info_table(cumulative=True)"
   ]
  },
  {
   "cell_type": "code",
   "execution_count": 12,
   "metadata": {
    "execution": {
     "iopub.execute_input": "2020-10-27T15:46:42.123191Z",
     "iopub.status.busy": "2020-10-27T15:46:42.122674Z",
     "iopub.status.idle": "2020-10-27T15:46:42.127199Z",
     "shell.execute_reply": "2020-10-27T15:46:42.127700Z"
    }
   },
   "outputs": [
    {
     "data": {
      "text/html": [
       "<i>Table length=4</i>\n",
       "<table id=\"table140386567758008\" class=\"table-striped table-bordered table-condensed\">\n",
       "<thead><tr><th>name</th><th>counts</th><th>background</th><th>excess</th><th>sqrt_ts</th><th>npred</th><th>exposure_min</th><th>exposure_max</th><th>livetime</th><th>ontime</th><th>counts_rate</th><th>background_rate</th><th>excess_rate</th><th>n_bins</th><th>n_fit_bins</th><th>stat_type</th><th>stat_sum</th><th>counts_off</th><th>acceptance</th><th>acceptance_off</th><th>alpha</th></tr></thead>\n",
       "<thead><tr><th></th><th></th><th></th><th></th><th></th><th></th><th>m2 s</th><th>m2 s</th><th>s</th><th>s</th><th>1 / s</th><th>1 / s</th><th>1 / s</th><th></th><th></th><th></th><th></th><th></th><th></th><th></th><th></th></tr></thead>\n",
       "<thead><tr><th>str5</th><th>float32</th><th>float64</th><th>float64</th><th>float64</th><th>float64</th><th>float64</th><th>float64</th><th>float64</th><th>float64</th><th>float64</th><th>float64</th><th>float64</th><th>int64</th><th>int64</th><th>str5</th><th>float64</th><th>float32</th><th>float64</th><th>float64</th><th>float64</th></tr></thead>\n",
       "<tr><td>23523</td><td>177.0</td><td>27.384615384615387</td><td>149.6153846153846</td><td>16.5060250143602</td><td>27.384615384615387</td><td>1808360.59208519</td><td>1099528528.5914836</td><td>6313.811640620232</td><td>1687.0</td><td>0.11190231184727636</td><td>0.017313004353598605</td><td>0.09458930749367776</td><td>40</td><td>28</td><td>wstat</td><td>485.0079493226156</td><td>179.0</td><td>28.0</td><td>183.02247191011236</td><td>0.08333333333333336</td></tr>\n",
       "<tr><td>23523</td><td>353.0</td><td>56.00000044227352</td><td>296.9999995577265</td><td>23.164697353318743</td><td>56.00000044227352</td><td>7707104.953775072</td><td>2036737418.8943977</td><td>6313.811640620232</td><td>3370.0</td><td>0.11190634420759628</td><td>0.017752847946511628</td><td>0.09415349626108466</td><td>40</td><td>29</td><td>wstat</td><td>903.6963227647335</td><td>375.0</td><td>29.0</td><td>194.1964270377154</td><td>0.083333320915699</td></tr>\n",
       "<tr><td>23523</td><td>503.0</td><td>65.53241887997581</td><td>437.4675811200242</td><td>31.40554001663565</td><td>65.53241887997581</td><td>11107774.944855023</td><td>2786019506.4521184</td><td>6313.811640620232</td><td>5056.0</td><td>0.10628526246169305</td><td>0.013847177615124925</td><td>0.09243808484656812</td><td>40</td><td>29</td><td>wstat</td><td>1425.8449748709932</td><td>811.0</td><td>29.0</td><td>358.89107104493746</td><td>0.05006258562207222</td></tr>\n",
       "<tr><td>23523</td><td>632.0</td><td>77.982364962886</td><td>554.017635037114</td><td>36.454185464846326</td><td>77.982364962886</td><td>12189605.052072244</td><td>3625950388.293474</td><td>6313.811640620232</td><td>6742.0</td><td>0.1000980130503095</td><td>0.01235107561036228</td><td>0.08774693743994723</td><td>40</td><td>29</td><td>wstat</td><td>1826.8050329098885</td><td>1225.0</td><td>29.0</td><td>455.55171373562916</td><td>0.04139557480812073</td></tr>\n",
       "</table>"
      ],
      "text/plain": [
       "<Table length=4>\n",
       " name  counts     background     ...   acceptance_off          alpha       \n",
       "                                 ...                                       \n",
       " str5 float32      float64       ...      float64             float64      \n",
       "----- ------- ------------------ ... ------------------ -------------------\n",
       "23523   177.0 27.384615384615387 ... 183.02247191011236 0.08333333333333336\n",
       "23523   353.0  56.00000044227352 ...  194.1964270377154   0.083333320915699\n",
       "23523   503.0  65.53241887997581 ... 358.89107104493746 0.05006258562207222\n",
       "23523   632.0    77.982364962886 ... 455.55171373562916 0.04139557480812073"
      ]
     },
     "execution_count": 1,
     "metadata": {},
     "output_type": "execute_result"
    }
   ],
   "source": [
    "info_table"
   ]
  },
  {
   "cell_type": "code",
   "execution_count": 13,
   "metadata": {
    "execution": {
     "iopub.execute_input": "2020-10-27T15:46:42.149549Z",
     "iopub.status.busy": "2020-10-27T15:46:42.148988Z",
     "iopub.status.idle": "2020-10-27T15:46:42.272050Z",
     "shell.execute_reply": "2020-10-27T15:46:42.271507Z"
    }
   },
   "outputs": [
    {
     "data": {
      "text/plain": [
       "Text(0, 0.5, 'Excess')"
      ]
     },
     "execution_count": 1,
     "metadata": {},
     "output_type": "execute_result"
    },
    {
     "data": {
      "image/png": "[encoded data removed]",
      "text/plain": [
       "<Figure size 432x288 with 1 Axes>"
      ]
     },
     "metadata": {
      "needs_background": "light"
     },
     "output_type": "display_data"
    }
   ],
   "source": [
    "plt.plot(\n",
    "    info_table[\"livetime\"].to(\"h\"), info_table[\"excess\"], marker=\"o\", ls=\"none\"\n",
    ")\n",
    "plt.xlabel(\"Livetime [h]\")\n",
    "plt.ylabel(\"Excess\");"
   ]
  },
  {
   "cell_type": "code",
   "execution_count": 14,
   "metadata": {
    "execution": {
     "iopub.execute_input": "2020-10-27T15:46:42.293012Z",
     "iopub.status.busy": "2020-10-27T15:46:42.275738Z",
     "iopub.status.idle": "2020-10-27T15:46:42.415007Z",
     "shell.execute_reply": "2020-10-27T15:46:42.414243Z"
    }
   },
   "outputs": [
    {
     "data": {
      "text/plain": [
       "Text(0, 0.5, 'Sqrt(TS)')"
      ]
     },
     "execution_count": 1,
     "metadata": {},
     "output_type": "execute_result"
    },
    {
     "data": {
      "image/png": "[encoded data removed]",
      "text/plain": [
       "<Figure size 432x288 with 1 Axes>"
      ]
     },
     "metadata": {
      "needs_background": "light"
     },
     "output_type": "display_data"
    }
   ],
   "source": [
    "plt.plot(\n",
    "    info_table[\"livetime\"].to(\"h\"),\n",
    "    info_table[\"sqrt_ts\"],\n",
    "    marker=\"o\",\n",
    "    ls=\"none\",\n",
    ")\n",
    "plt.xlabel(\"Livetime [h]\")\n",
    "plt.ylabel(\"Sqrt(TS)\");"
   ]
  },
  {
   "cell_type": "markdown",
   "metadata": {},
   "source": [
    "Finally you can write the extrated datasets to disk using the OGIP format (PHA, ARF, RMF, BKG, see [here](https://gamma-astro-data-formats.readthedocs.io/en/latest/spectra/ogip/index.html) for details):"
   ]
  },
  {
   "cell_type": "code",
   "execution_count": 15,
   "metadata": {
    "execution": {
     "iopub.execute_input": "2020-10-27T15:46:42.418376Z",
     "iopub.status.busy": "2020-10-27T15:46:42.417863Z",
     "iopub.status.idle": "2020-10-27T15:46:42.421310Z",
     "shell.execute_reply": "2020-10-27T15:46:42.420758Z"
    }
   },
   "outputs": [],
   "source": [
    "path = Path(\"spectrum_analysis\")\n",
    "path.mkdir(exist_ok=True)"
   ]
  },
  {
   "cell_type": "code",
   "execution_count": 16,
   "metadata": {
    "execution": {
     "iopub.execute_input": "2020-10-27T15:46:42.461154Z",
     "iopub.status.busy": "2020-10-27T15:46:42.453548Z",
     "iopub.status.idle": "2020-10-27T15:46:43.164307Z",
     "shell.execute_reply": "2020-10-27T15:46:43.163304Z"
    }
   },
   "outputs": [
    {
     "name": "stderr",
     "output_type": "stream",
     "text": [
      "/usr/share/miniconda/envs/gammapy-dev/lib/python3.7/site-packages/numpy/core/_asarray.py:83: VisibleDeprecationWarning: Creating an ndarray from ragged nested sequences (which is a list-or-tuple of lists-or-tuples-or ndarrays with different lengths or shapes) is deprecated. If you meant to do this, you must specify 'dtype=object' when creating the ndarray\n",
      "  return array(a, dtype, copy=False, order=order)\n"
     ]
    }
   ],
   "source": [
    "for dataset in datasets:\n",
    "    dataset.to_ogip_files(outdir=path, overwrite=True)"
   ]
  },
  {
   "cell_type": "markdown",
   "metadata": {},
   "source": [
    "If you want to read back the datasets from disk you can use:"
   ]
  },
  {
   "cell_type": "code",
   "execution_count": 17,
   "metadata": {
    "execution": {
     "iopub.execute_input": "2020-10-27T15:46:43.170943Z",
     "iopub.status.busy": "2020-10-27T15:46:43.169990Z",
     "iopub.status.idle": "2020-10-27T15:46:44.225838Z",
     "shell.execute_reply": "2020-10-27T15:46:44.224664Z"
    }
   },
   "outputs": [
    {
     "name": "stderr",
     "output_type": "stream",
     "text": [
      "No background model defined for dataset 23523\n",
      "No background model defined for dataset 23526\n",
      "No background model defined for dataset 23559\n",
      "No background model defined for dataset 23592\n"
     ]
    }
   ],
   "source": [
    "datasets = Datasets()\n",
    "for obs_id in obs_ids:\n",
    "    filename = path / f\"pha_obs{obs_id}.fits\"\n",
    "    datasets.append(SpectrumDatasetOnOff.from_ogip_files(filename))"
   ]
  },
  {
   "cell_type": "markdown",
   "metadata": {},
   "source": [
    "## Fit spectrum\n",
    "\n",
    "Now we'll fit a global model to the spectrum. First we do a joint likelihood fit to all observations. If you want to stack the observations see below. We will also produce a debug plot in order to show how the global fit matches one of the individual observations."
   ]
  },
  {
   "cell_type": "code",
   "execution_count": 18,
   "metadata": {
    "execution": {
     "iopub.execute_input": "2020-10-27T15:46:44.235037Z",
     "iopub.status.busy": "2020-10-27T15:46:44.234517Z",
     "iopub.status.idle": "2020-10-27T15:46:44.727500Z",
     "shell.execute_reply": "2020-10-27T15:46:44.726942Z"
    }
   },
   "outputs": [
    {
     "name": "stderr",
     "output_type": "stream",
     "text": [
      "No background model defined for dataset 23523\n",
      "No background model defined for dataset 23526\n",
      "No background model defined for dataset 23559\n",
      "No background model defined for dataset 23592\n"
     ]
    }
   ],
   "source": [
    "spectral_model = PowerLawSpectralModel(\n",
    "    index=2, amplitude=2e-11 * u.Unit(\"cm-2 s-1 TeV-1\"), reference=1 * u.TeV\n",
    ")\n",
    "model = SkyModel(spectral_model=spectral_model, name=\"crab\")\n",
    "\n",
    "for dataset in datasets:\n",
    "    dataset.models = model\n",
    "\n",
    "fit_joint = Fit(datasets)\n",
    "result_joint = fit_joint.run()\n",
    "\n",
    "# we make a copy here to compare it later\n",
    "model_best_joint = model.copy()"
   ]
  },
  {
   "cell_type": "markdown",
   "metadata": {},
   "source": [
    "## Fit quality and model residuals"
   ]
  },
  {
   "cell_type": "markdown",
   "metadata": {},
   "source": [
    "We can access the results dictionary to see if the fit converged:"
   ]
  },
  {
   "cell_type": "code",
   "execution_count": 19,
   "metadata": {
    "execution": {
     "iopub.execute_input": "2020-10-27T15:46:44.731346Z",
     "iopub.status.busy": "2020-10-27T15:46:44.730817Z",
     "iopub.status.idle": "2020-10-27T15:46:44.735231Z",
     "shell.execute_reply": "2020-10-27T15:46:44.734784Z"
    }
   },
   "outputs": [
    {
     "name": "stdout",
     "output_type": "stream",
     "text": [
      "OptimizeResult\n",
      "\n",
      "\tbackend    : minuit\n",
      "\tmethod     : minuit\n",
      "\tsuccess    : True\n",
      "\tmessage    : Optimization terminated successfully.\n",
      "\tnfev       : 47\n",
      "\ttotal stat : 124.41\n",
      "\n"
     ]
    }
   ],
   "source": [
    "print(result_joint)"
   ]
  },
  {
   "cell_type": "markdown",
   "metadata": {},
   "source": [
    "A simple way to inspect the model residuals is using the function `~SpectrumDataset.plot_fit()`"
   ]
  },
  {
   "cell_type": "code",
   "execution_count": 20,
   "metadata": {
    "execution": {
     "iopub.execute_input": "2020-10-27T15:46:44.764424Z",
     "iopub.status.busy": "2020-10-27T15:46:44.763351Z",
     "iopub.status.idle": "2020-10-27T15:46:45.509431Z",
     "shell.execute_reply": "2020-10-27T15:46:45.508434Z"
    }
   },
   "outputs": [
    {
     "data": {
      "text/plain": [
       "(0.1, 40)"
      ]
     },
     "execution_count": 1,
     "metadata": {},
     "output_type": "execute_result"
    },
    {
     "data": {
      "image/png": "[encoded data removed]",
      "text/plain": [
       "<Figure size 576x432 with 2 Axes>"
      ]
     },
     "metadata": {
      "needs_background": "light"
     },
     "output_type": "display_data"
    }
   ],
   "source": [
    "plt.figure(figsize=(8, 6))\n",
    "ax_spectrum, ax_residual = datasets[0].plot_fit()\n",
    "ax_spectrum.set_ylim(0.1, 40)"
   ]
  },
  {
   "cell_type": "markdown",
   "metadata": {},
   "source": [
    "For more ways of assessing fit quality, please refer to the dedicated [modeling and fitting tutorial](modeling.ipynb)."
   ]
  },
  {
   "cell_type": "markdown",
   "metadata": {},
   "source": [
    "## Compute Flux Points\n",
    "\n",
    "To round up our analysis we can compute flux points by fitting the norm of the global model in energy bands. We'll use a fixed energy binning for now:"
   ]
  },
  {
   "cell_type": "code",
   "execution_count": 21,
   "metadata": {
    "execution": {
     "iopub.execute_input": "2020-10-27T15:46:45.513745Z",
     "iopub.status.busy": "2020-10-27T15:46:45.513240Z",
     "iopub.status.idle": "2020-10-27T15:46:45.516800Z",
     "shell.execute_reply": "2020-10-27T15:46:45.516366Z"
    }
   },
   "outputs": [],
   "source": [
    "e_min, e_max = 0.7, 30\n",
    "e_edges = np.logspace(np.log10(e_min), np.log10(e_max), 11) * u.TeV"
   ]
  },
  {
   "cell_type": "markdown",
   "metadata": {},
   "source": [
    "Now we create an instance of the `~gammapy.estimators.FluxPointsEstimator`, by passing the dataset and the energy binning:"
   ]
  },
  {
   "cell_type": "code",
   "execution_count": 22,
   "metadata": {
    "execution": {
     "iopub.execute_input": "2020-10-27T15:46:45.557669Z",
     "iopub.status.busy": "2020-10-27T15:46:45.543020Z",
     "iopub.status.idle": "2020-10-27T15:46:55.288200Z",
     "shell.execute_reply": "2020-10-27T15:46:55.287570Z"
    }
   },
   "outputs": [
    {
     "name": "stderr",
     "output_type": "stream",
     "text": [
      "No background model defined for dataset 23523-0.700 TeV-1.019 TeV\n",
      "No background model defined for dataset 23523-0.700 TeV-1.019 TeV\n",
      "No background model defined for dataset 23526-0.700 TeV-1.019 TeV\n",
      "No background model defined for dataset 23526-0.700 TeV-1.019 TeV\n",
      "No background model defined for dataset 23559-0.700 TeV-1.019 TeV\n",
      "No background model defined for dataset 23559-0.700 TeV-1.019 TeV\n",
      "No background model defined for dataset 23592-0.700 TeV-1.019 TeV\n",
      "No background model defined for dataset 23592-0.700 TeV-1.019 TeV\n",
      "No background model defined for dataset 23523-1.019 TeV-1.484 TeV\n",
      "No background model defined for dataset 23523-1.019 TeV-1.484 TeV\n",
      "No background model defined for dataset 23526-1.019 TeV-1.484 TeV\n",
      "No background model defined for dataset 23526-1.019 TeV-1.484 TeV\n",
      "No background model defined for dataset 23559-1.019 TeV-1.484 TeV\n",
      "No background model defined for dataset 23559-1.019 TeV-1.484 TeV\n",
      "No background model defined for dataset 23592-1.019 TeV-1.484 TeV\n",
      "No background model defined for dataset 23592-1.019 TeV-1.484 TeV\n",
      "No background model defined for dataset 23523-1.484 TeV-2.161 TeV\n",
      "No background model defined for dataset 23523-1.484 TeV-2.161 TeV\n",
      "No background model defined for dataset 23526-1.484 TeV-2.161 TeV\n",
      "No background model defined for dataset 23526-1.484 TeV-2.161 TeV\n",
      "No background model defined for dataset 23559-1.484 TeV-2.161 TeV\n",
      "No background model defined for dataset 23559-1.484 TeV-2.161 TeV\n",
      "No background model defined for dataset 23592-1.484 TeV-2.161 TeV\n",
      "No background model defined for dataset 23592-1.484 TeV-2.161 TeV\n",
      "No background model defined for dataset 23523-2.161 TeV-3.147 TeV\n",
      "No background model defined for dataset 23523-2.161 TeV-3.147 TeV\n",
      "No background model defined for dataset 23526-2.161 TeV-3.147 TeV\n",
      "No background model defined for dataset 23526-2.161 TeV-3.147 TeV\n",
      "No background model defined for dataset 23559-2.161 TeV-3.147 TeV\n",
      "No background model defined for dataset 23559-2.161 TeV-3.147 TeV\n",
      "No background model defined for dataset 23592-2.161 TeV-3.147 TeV\n",
      "No background model defined for dataset 23592-2.161 TeV-3.147 TeV\n",
      "No background model defined for dataset 23523-3.147 TeV-4.583 TeV\n",
      "No background model defined for dataset 23523-3.147 TeV-4.583 TeV\n",
      "No background model defined for dataset 23526-3.147 TeV-4.583 TeV\n",
      "No background model defined for dataset 23526-3.147 TeV-4.583 TeV\n",
      "No background model defined for dataset 23559-3.147 TeV-4.583 TeV\n",
      "No background model defined for dataset 23559-3.147 TeV-4.583 TeV\n",
      "No background model defined for dataset 23592-3.147 TeV-4.583 TeV\n",
      "No background model defined for dataset 23592-3.147 TeV-4.583 TeV\n",
      "No background model defined for dataset 23523-4.583 TeV-6.673 TeV\n",
      "No background model defined for dataset 23523-4.583 TeV-6.673 TeV\n",
      "No background model defined for dataset 23526-4.583 TeV-6.673 TeV\n",
      "No background model defined for dataset 23526-4.583 TeV-6.673 TeV\n",
      "No background model defined for dataset 23559-4.583 TeV-6.673 TeV\n",
      "No background model defined for dataset 23559-4.583 TeV-6.673 TeV\n",
      "No background model defined for dataset 23592-4.583 TeV-6.673 TeV\n",
      "No background model defined for dataset 23592-4.583 TeV-6.673 TeV\n",
      "No background model defined for dataset 23523-6.673 TeV-9.717 TeV\n",
      "No background model defined for dataset 23523-6.673 TeV-9.717 TeV\n",
      "No background model defined for dataset 23526-6.673 TeV-9.717 TeV\n",
      "No background model defined for dataset 23526-6.673 TeV-9.717 TeV\n",
      "No background model defined for dataset 23559-6.673 TeV-9.717 TeV\n",
      "No background model defined for dataset 23559-6.673 TeV-9.717 TeV\n",
      "No background model defined for dataset 23592-6.673 TeV-9.717 TeV\n",
      "No background model defined for dataset 23592-6.673 TeV-9.717 TeV\n",
      "No background model defined for dataset 23523-9.717 TeV-14.149 TeV\n",
      "No background model defined for dataset 23523-9.717 TeV-14.149 TeV\n",
      "No background model defined for dataset 23526-9.717 TeV-14.149 TeV\n",
      "No background model defined for dataset 23526-9.717 TeV-14.149 TeV\n",
      "No background model defined for dataset 23559-9.717 TeV-14.149 TeV\n",
      "No background model defined for dataset 23559-9.717 TeV-14.149 TeV\n",
      "No background model defined for dataset 23592-9.717 TeV-14.149 TeV\n",
      "No background model defined for dataset 23592-9.717 TeV-14.149 TeV\n",
      "No background model defined for dataset 23523-14.149 TeV-20.602 TeV\n",
      "No background model defined for dataset 23523-14.149 TeV-20.602 TeV\n",
      "No background model defined for dataset 23526-14.149 TeV-20.602 TeV\n",
      "No background model defined for dataset 23526-14.149 TeV-20.602 TeV\n",
      "No background model defined for dataset 23559-14.149 TeV-20.602 TeV\n",
      "No background model defined for dataset 23559-14.149 TeV-20.602 TeV\n",
      "No background model defined for dataset 23592-14.149 TeV-20.602 TeV\n",
      "No background model defined for dataset 23592-14.149 TeV-20.602 TeV\n",
      "No background model defined for dataset 23523-20.602 TeV-30.000 TeV\n",
      "No background model defined for dataset 23523-20.602 TeV-30.000 TeV\n",
      "No background model defined for dataset 23526-20.602 TeV-30.000 TeV\n",
      "No background model defined for dataset 23526-20.602 TeV-30.000 TeV\n",
      "No background model defined for dataset 23559-20.602 TeV-30.000 TeV\n",
      "No background model defined for dataset 23559-20.602 TeV-30.000 TeV\n",
      "No background model defined for dataset 23592-20.602 TeV-30.000 TeV\n",
      "No background model defined for dataset 23592-20.602 TeV-30.000 TeV\n",
      "Value 0.0 is outside bounds [0.0, 100000.0] for parameter 'norm'\n",
      "Value 0.0 is outside bounds [0.0, 100000.0] for parameter 'norm'\n",
      "Value 0.0 is outside bounds [0.0, 100000.0] for parameter 'norm'\n",
      "Value 0.0 is outside bounds [0.0, 100000.0] for parameter 'norm'\n",
      "Value 0.0 is outside bounds [0.0, 100000.0] for parameter 'norm'\n",
      "/usr/share/miniconda/envs/gammapy-dev/lib/python3.7/site-packages/astropy/units/quantity.py:377: VisibleDeprecationWarning: Creating an ndarray from ragged nested sequences (which is a list-or-tuple of lists-or-tuples-or ndarrays with different lengths or shapes) is deprecated. If you meant to do this, you must specify 'dtype=object' when creating the ndarray\n",
      "  subok=False, ndmin=ndmin)\n"
     ]
    }
   ],
   "source": [
    "fpe = FluxPointsEstimator(e_edges=e_edges, source=\"crab\")\n",
    "flux_points = fpe.run(datasets=datasets)"
   ]
  },
  {
   "cell_type": "markdown",
   "metadata": {},
   "source": [
    "Here is a the table of the resulting flux points:"
   ]
  },
  {
   "cell_type": "code",
   "execution_count": 23,
   "metadata": {
    "execution": {
     "iopub.execute_input": "2020-10-27T15:46:55.299987Z",
     "iopub.status.busy": "2020-10-27T15:46:55.299492Z",
     "iopub.status.idle": "2020-10-27T15:46:55.304352Z",
     "shell.execute_reply": "2020-10-27T15:46:55.303950Z"
    }
   },
   "outputs": [
    {
     "data": {
      "text/html": [
       "<i>Table length=10</i>\n",
       "<table id=\"table140386557446240\" class=\"table-striped table-bordered table-condensed\">\n",
       "<thead><tr><th>counts [4]</th><th>e_ref</th><th>e_min</th><th>e_max</th><th>ref_dnde</th><th>ref_flux</th><th>ref_eflux</th><th>ref_e2dnde</th><th>norm</th><th>stat</th><th>success</th><th>norm_err</th><th>ts</th><th>sqrt_ts</th><th>norm_errp</th><th>norm_errn</th><th>norm_ul</th><th>norm_scan [11]</th><th>stat_scan [11]</th><th>dnde</th><th>dnde_ul</th><th>dnde_err</th><th>dnde_errp</th><th>dnde_errn</th></tr></thead>\n",
       "<thead><tr><th></th><th>TeV</th><th>TeV</th><th>TeV</th><th>1 / (cm2 s TeV)</th><th>1 / (cm2 s)</th><th>TeV / (cm2 s)</th><th>TeV / (cm2 s)</th><th></th><th></th><th></th><th></th><th></th><th></th><th></th><th></th><th></th><th></th><th></th><th>1 / (cm2 s TeV)</th><th>1 / (cm2 s TeV)</th><th>1 / (cm2 s TeV)</th><th>1 / (cm2 s TeV)</th><th>1 / (cm2 s TeV)</th></tr></thead>\n",
       "<thead><tr><th>int64</th><th>float64</th><th>float64</th><th>float64</th><th>float64</th><th>float64</th><th>float64</th><th>float64</th><th>float64</th><th>float64</th><th>bool</th><th>float64</th><th>float64</th><th>float64</th><th>float64</th><th>float64</th><th>float64</th><th>float64</th><th>float64</th><th>float64</th><th>float64</th><th>float64</th><th>float64</th><th>float64</th></tr></thead>\n",
       "<tr><td>61 .. 42</td><td>0.877</td><td>0.701</td><td>1.099</td><td>3.772e-11</td><td>1.519e-11</td><td>1.309e-11</td><td>2.905e-11</td><td>0.966</td><td>16.146</td><td>True</td><td>0.074</td><td>584.992</td><td>24.187</td><td>0.075</td><td>0.072</td><td>1.121</td><td>0.200 .. 5.000</td><td>248.571 .. 934.424</td><td>3.644e-11</td><td>4.227e-11</td><td>2.779e-12</td><td>2.845e-12</td><td>2.715e-12</td></tr>\n",
       "<tr><td>20 .. 25</td><td>1.276</td><td>1.099</td><td>1.482</td><td>1.432e-11</td><td>5.524e-12</td><td>6.992e-12</td><td>2.331e-11</td><td>0.990</td><td>10.939</td><td>True</td><td>0.115</td><td>264.797</td><td>16.273</td><td>0.120</td><td>0.111</td><td>1.238</td><td>0.200 .. 5.000</td><td>114.916 .. 385.557</td><td>1.418e-11</td><td>1.772e-11</td><td>1.651e-12</td><td>1.711e-12</td><td>1.592e-12</td></tr>\n",
       "<tr><td>36 .. 20</td><td>1.856</td><td>1.482</td><td>2.323</td><td>5.432e-12</td><td>4.626e-12</td><td>8.430e-12</td><td>1.871e-11</td><td>1.212</td><td>7.844</td><td>True</td><td>0.125</td><td>350.376</td><td>18.718</td><td>0.129</td><td>0.121</td><td>1.478</td><td>0.200 .. 5.000</td><td>167.003 .. 342.942</td><td>6.586e-12</td><td>8.029e-12</td><td>6.767e-13</td><td>6.988e-13</td><td>6.551e-13</td></tr>\n",
       "<tr><td>11 .. 12</td><td>2.699</td><td>2.323</td><td>3.135</td><td>2.061e-12</td><td>1.682e-12</td><td>4.503e-12</td><td>1.501e-11</td><td>1.195</td><td>9.790</td><td>True</td><td>0.183</td><td>157.668</td><td>12.557</td><td>0.192</td><td>0.174</td><td>1.596</td><td>0.200 .. 5.000</td><td>80.721 .. 165.447</td><td>2.464e-12</td><td>3.291e-12</td><td>3.765e-13</td><td>3.948e-13</td><td>3.587e-13</td></tr>\n",
       "<tr><td>14 .. 8</td><td>3.924</td><td>3.135</td><td>4.913</td><td>7.823e-13</td><td>1.409e-12</td><td>5.429e-12</td><td>1.205e-11</td><td>0.861</td><td>22.656</td><td>True</td><td>0.158</td><td>92.915</td><td>9.639</td><td>0.167</td><td>0.150</td><td>1.214</td><td>0.200 .. 5.000</td><td>57.809 .. 214.137</td><td>6.736e-13</td><td>9.499e-13</td><td>1.240e-13</td><td>1.310e-13</td><td>1.171e-13</td></tr>\n",
       "<tr><td>7 .. 4</td><td>5.707</td><td>4.913</td><td>6.629</td><td>2.968e-13</td><td>5.123e-13</td><td>2.900e-12</td><td>9.667e-12</td><td>1.109</td><td>6.505</td><td>True</td><td>0.274</td><td>63.182</td><td>7.949</td><td>0.296</td><td>0.253</td><td>1.749</td><td>0.200 .. 5.000</td><td>32.826 .. 73.940</td><td>3.291e-13</td><td>5.193e-13</td><td>8.136e-14</td><td>8.801e-14</td><td>7.523e-14</td></tr>\n",
       "<tr><td>5 .. 5</td><td>8.299</td><td>6.629</td><td>10.390</td><td>1.126e-13</td><td>4.290e-13</td><td>3.496e-12</td><td>7.758e-12</td><td>1.106</td><td>14.176</td><td>True</td><td>0.293</td><td>44.347</td><td>6.659</td><td>0.318</td><td>0.271</td><td>1.793</td><td>0.200 .. 5.000</td><td>34.899 .. 74.713</td><td>1.246e-13</td><td>2.020e-13</td><td>3.306e-14</td><td>3.580e-14</td><td>3.050e-14</td></tr>\n",
       "<tr><td>0 .. 0</td><td>12.068</td><td>10.390</td><td>14.018</td><td>4.275e-14</td><td>1.560e-13</td><td>1.867e-12</td><td>6.226e-12</td><td>0.772</td><td>11.511</td><td>True</td><td>0.413</td><td>8.495</td><td>2.915</td><td>0.476</td><td>0.355</td><td>1.858</td><td>0.200 .. 5.000</td><td>14.893 .. 40.219</td><td>3.298e-14</td><td>7.943e-14</td><td>1.766e-14</td><td>2.036e-14</td><td>1.517e-14</td></tr>\n",
       "<tr><td>1 .. 0</td><td>17.550</td><td>14.018</td><td>21.971</td><td>1.622e-14</td><td>1.307e-13</td><td>2.252e-12</td><td>4.996e-12</td><td>0.424</td><td>7.712</td><td>True</td><td>0.300</td><td>3.175</td><td>1.782</td><td>0.374</td><td>0.234</td><td>1.333</td><td>0.200 .. 5.000</td><td>8.603 .. 41.037</td><td>6.873e-15</td><td>2.163e-14</td><td>4.860e-15</td><td>6.068e-15</td><td>3.794e-15</td></tr>\n",
       "<tr><td>0 .. 0</td><td>25.521</td><td>21.971</td><td>29.645</td><td>6.156e-15</td><td>4.751e-14</td><td>1.203e-12</td><td>4.009e-12</td><td>0.000</td><td>0.524</td><td>True</td><td>0.000</td><td>-0.000</td><td>-0.000</td><td>0.281</td><td>0.281</td><td>1.124</td><td>0.200 .. 5.000</td><td>1.235 .. 18.312</td><td>1.367e-24</td><td>6.921e-15</td><td>9.770e-20</td><td>1.730e-15</td><td>1.730e-15</td></tr>\n",
       "</table>"
      ],
      "text/plain": [
       "<Table length=10>\n",
       "counts [4]  e_ref   e_min  ...     dnde_err       dnde_errp       dnde_errn   \n",
       "             TeV     TeV   ... 1 / (cm2 s TeV) 1 / (cm2 s TeV) 1 / (cm2 s TeV)\n",
       "  int64    float64 float64 ...     float64         float64         float64    \n",
       "---------- ------- ------- ... --------------- --------------- ---------------\n",
       "  61 .. 42   0.877   0.701 ...       2.779e-12       2.845e-12       2.715e-12\n",
       "  20 .. 25   1.276   1.099 ...       1.651e-12       1.711e-12       1.592e-12\n",
       "  36 .. 20   1.856   1.482 ...       6.767e-13       6.988e-13       6.551e-13\n",
       "  11 .. 12   2.699   2.323 ...       3.765e-13       3.948e-13       3.587e-13\n",
       "   14 .. 8   3.924   3.135 ...       1.240e-13       1.310e-13       1.171e-13\n",
       "    7 .. 4   5.707   4.913 ...       8.136e-14       8.801e-14       7.523e-14\n",
       "    5 .. 5   8.299   6.629 ...       3.306e-14       3.580e-14       3.050e-14\n",
       "    0 .. 0  12.068  10.390 ...       1.766e-14       2.036e-14       1.517e-14\n",
       "    1 .. 0  17.550  14.018 ...       4.860e-15       6.068e-15       3.794e-15\n",
       "    0 .. 0  25.521  21.971 ...       9.770e-20       1.730e-15       1.730e-15"
      ]
     },
     "execution_count": 1,
     "metadata": {},
     "output_type": "execute_result"
    }
   ],
   "source": [
    "flux_points.table_formatted"
   ]
  },
  {
   "cell_type": "markdown",
   "metadata": {},
   "source": [
    "Now we plot the flux points and their likelihood profiles. For the plotting of upper limits we choose a threshold of TS < 4."
   ]
  },
  {
   "cell_type": "code",
   "execution_count": 24,
   "metadata": {
    "execution": {
     "iopub.execute_input": "2020-10-27T15:46:55.327708Z",
     "iopub.status.busy": "2020-10-27T15:46:55.308769Z",
     "iopub.status.idle": "2020-10-27T15:46:55.869117Z",
     "shell.execute_reply": "2020-10-27T15:46:55.868636Z"
    }
   },
   "outputs": [
    {
     "name": "stderr",
     "output_type": "stream",
     "text": [
      "/home/runner/work/gammapy-docs/gammapy-docs/gammapy/gammapy/estimators/flux_point.py:668: MatplotlibDeprecationWarning: The 'nonposx' parameter of __init__() has been renamed 'nonpositive' since Matplotlib 3.3; support for the old name will be dropped two minor releases later.\n",
      "  ax.set_xscale(\"log\", nonposx=\"clip\")\n",
      "/home/runner/work/gammapy-docs/gammapy-docs/gammapy/gammapy/estimators/flux_point.py:669: MatplotlibDeprecationWarning: The 'nonposy' parameter of __init__() has been renamed 'nonpositive' since Matplotlib 3.3; support for the old name will be dropped two minor releases later.\n",
      "  ax.set_yscale(\"log\", nonposy=\"clip\")\n",
      "/home/runner/work/gammapy-docs/gammapy-docs/gammapy/gammapy/estimators/flux_point.py:743: MatplotlibDeprecationWarning: shading='flat' when X and Y have the same dimensions as C is deprecated since 3.3.  Either specify the corners of the quadrilaterals with X and Y, or pass shading='auto', 'nearest' or 'gouraud', or set rcParams['pcolor.shading'].  This will become an error two minor releases later.\n",
      "  caxes = ax.pcolormesh(x.value, y_values.value, -z.T, **kwargs)\n",
      "/home/runner/work/gammapy-docs/gammapy-docs/gammapy/gammapy/estimators/flux_point.py:744: MatplotlibDeprecationWarning: The 'nonposx' parameter of __init__() has been renamed 'nonpositive' since Matplotlib 3.3; support for the old name will be dropped two minor releases later.\n",
      "  ax.set_xscale(\"log\", nonposx=\"clip\")\n",
      "/home/runner/work/gammapy-docs/gammapy-docs/gammapy/gammapy/estimators/flux_point.py:745: MatplotlibDeprecationWarning: The 'nonposy' parameter of __init__() has been renamed 'nonpositive' since Matplotlib 3.3; support for the old name will be dropped two minor releases later.\n",
      "  ax.set_yscale(\"log\", nonposy=\"clip\")\n"
     ]
    },
    {
     "data": {
      "text/plain": [
       "<AxesSubplot:xlabel='Energy (TeV)', ylabel='e2dnde (erg / (cm2 s))'>"
      ]
     },
     "execution_count": 1,
     "metadata": {},
     "output_type": "execute_result"
    },
    {
     "data": {
      "image/png": "[encoded data removed]",
      "text/plain": [
       "<Figure size 576x360 with 2 Axes>"
      ]
     },
     "metadata": {
      "needs_background": "light"
     },
     "output_type": "display_data"
    }
   ],
   "source": [
    "plt.figure(figsize=(8, 5))\n",
    "flux_points.table[\"is_ul\"] = flux_points.table[\"ts\"] < 4\n",
    "ax = flux_points.plot(\n",
    "    energy_power=2, flux_unit=\"erg-1 cm-2 s-1\", color=\"darkorange\"\n",
    ")\n",
    "flux_points.to_sed_type(\"e2dnde\").plot_ts_profiles(ax=ax)"
   ]
  },
  {
   "cell_type": "markdown",
   "metadata": {},
   "source": [
    "The final plot with the best fit model, flux points and residuals can be quickly made like this: "
   ]
  },
  {
   "cell_type": "code",
   "execution_count": 25,
   "metadata": {
    "execution": {
     "iopub.execute_input": "2020-10-27T15:46:55.872639Z",
     "iopub.status.busy": "2020-10-27T15:46:55.872147Z",
     "iopub.status.idle": "2020-10-27T15:46:55.875479Z",
     "shell.execute_reply": "2020-10-27T15:46:55.874962Z"
    }
   },
   "outputs": [],
   "source": [
    "flux_points_dataset = FluxPointsDataset(\n",
    "    data=flux_points, models=model_best_joint\n",
    ")"
   ]
  },
  {
   "cell_type": "code",
   "execution_count": 26,
   "metadata": {
    "execution": {
     "iopub.execute_input": "2020-10-27T15:46:55.899714Z",
     "iopub.status.busy": "2020-10-27T15:46:55.878930Z",
     "iopub.status.idle": "2020-10-27T15:46:56.444738Z",
     "shell.execute_reply": "2020-10-27T15:46:56.443658Z"
    }
   },
   "outputs": [
    {
     "name": "stderr",
     "output_type": "stream",
     "text": [
      "/home/runner/work/gammapy-docs/gammapy-docs/gammapy/gammapy/modeling/models/spectral.py:411: MatplotlibDeprecationWarning: The 'nonposx' parameter of __init__() has been renamed 'nonpositive' since Matplotlib 3.3; support for the old name will be dropped two minor releases later.\n",
      "  ax.set_xscale(\"log\", nonposx=\"clip\")\n",
      "/home/runner/work/gammapy-docs/gammapy-docs/gammapy/gammapy/modeling/models/spectral.py:412: MatplotlibDeprecationWarning: The 'nonposy' parameter of __init__() has been renamed 'nonpositive' since Matplotlib 3.3; support for the old name will be dropped two minor releases later.\n",
      "  ax.set_yscale(\"log\", nonposy=\"clip\")\n"
     ]
    },
    {
     "data": {
      "text/plain": [
       "(<AxesSubplot:xlabel='Energy [TeV]', ylabel='E2 * Flux [erg / (cm2 s)]'>,\n",
       " <AxesSubplot:xlabel='Energy (TeV)', ylabel='Residuals '>)"
      ]
     },
     "execution_count": 1,
     "metadata": {},
     "output_type": "execute_result"
    },
    {
     "data": {
      "image/png": "[encoded data removed]",
      "text/plain": [
       "<Figure size 576x432 with 2 Axes>"
      ]
     },
     "metadata": {
      "needs_background": "light"
     },
     "output_type": "display_data"
    }
   ],
   "source": [
    "plt.figure(figsize=(8, 6))\n",
    "flux_points_dataset.peek();"
   ]
  },
  {
   "cell_type": "markdown",
   "metadata": {},
   "source": [
    "## Stack observations\n",
    "\n",
    "And alternative approach to fitting the spectrum is stacking all observations first and the fitting a model. For this we first stack the individual datasets:"
   ]
  },
  {
   "cell_type": "code",
   "execution_count": 27,
   "metadata": {
    "execution": {
     "iopub.execute_input": "2020-10-27T15:46:56.478459Z",
     "iopub.status.busy": "2020-10-27T15:46:56.466152Z",
     "iopub.status.idle": "2020-10-27T15:46:56.613957Z",
     "shell.execute_reply": "2020-10-27T15:46:56.614592Z"
    }
   },
   "outputs": [],
   "source": [
    "dataset_stacked = Datasets(datasets).stack_reduce()"
   ]
  },
  {
   "cell_type": "markdown",
   "metadata": {},
   "source": [
    "Again we set the model on the dataset we would like to fit (in this case it's only a single one) and pass it to the `~gammapy.modeling.Fit` object:"
   ]
  },
  {
   "cell_type": "code",
   "execution_count": 28,
   "metadata": {
    "execution": {
     "iopub.execute_input": "2020-10-27T15:46:56.618476Z",
     "iopub.status.busy": "2020-10-27T15:46:56.617967Z",
     "iopub.status.idle": "2020-10-27T15:46:56.707563Z",
     "shell.execute_reply": "2020-10-27T15:46:56.708113Z"
    }
   },
   "outputs": [
    {
     "name": "stderr",
     "output_type": "stream",
     "text": [
      "No background model defined for dataset UCNFi0dL\n"
     ]
    }
   ],
   "source": [
    "dataset_stacked.models = model\n",
    "stacked_fit = Fit([dataset_stacked])\n",
    "result_stacked = stacked_fit.run()\n",
    "\n",
    "# make a copy to compare later\n",
    "model_best_stacked = model.copy()"
   ]
  },
  {
   "cell_type": "code",
   "execution_count": 29,
   "metadata": {
    "execution": {
     "iopub.execute_input": "2020-10-27T15:46:56.712210Z",
     "iopub.status.busy": "2020-10-27T15:46:56.711677Z",
     "iopub.status.idle": "2020-10-27T15:46:56.715877Z",
     "shell.execute_reply": "2020-10-27T15:46:56.715335Z"
    }
   },
   "outputs": [
    {
     "name": "stdout",
     "output_type": "stream",
     "text": [
      "OptimizeResult\n",
      "\n",
      "\tbackend    : minuit\n",
      "\tmethod     : minuit\n",
      "\tsuccess    : True\n",
      "\tmessage    : Optimization terminated successfully.\n",
      "\tnfev       : 31\n",
      "\ttotal stat : 29.88\n",
      "\n"
     ]
    }
   ],
   "source": [
    "print(result_stacked)"
   ]
  },
  {
   "cell_type": "code",
   "execution_count": 30,
   "metadata": {
    "execution": {
     "iopub.execute_input": "2020-10-27T15:46:56.722001Z",
     "iopub.status.busy": "2020-10-27T15:46:56.721508Z",
     "iopub.status.idle": "2020-10-27T15:46:56.726256Z",
     "shell.execute_reply": "2020-10-27T15:46:56.725732Z"
    }
   },
   "outputs": [
    {
     "data": {
      "text/html": [
       "<i>Table length=3</i>\n",
       "<table id=\"table140386554951496\" class=\"table-striped table-bordered table-condensed\">\n",
       "<thead><tr><th>name</th><th>value</th><th>unit</th><th>min</th><th>max</th><th>frozen</th><th>error</th></tr></thead>\n",
       "<thead><tr><th>str9</th><th>float64</th><th>str14</th><th>float64</th><th>float64</th><th>bool</th><th>float64</th></tr></thead>\n",
       "<tr><td>index</td><td>2.5876e+00</td><td></td><td>nan</td><td>nan</td><td>False</td><td>5.867e-02</td></tr>\n",
       "<tr><td>amplitude</td><td>2.6900e-11</td><td>cm-2 s-1 TeV-1</td><td>nan</td><td>nan</td><td>False</td><td>1.234e-12</td></tr>\n",
       "<tr><td>reference</td><td>1.0000e+00</td><td>TeV</td><td>nan</td><td>nan</td><td>True</td><td>0.000e+00</td></tr>\n",
       "</table>"
      ],
      "text/plain": [
       "<Table length=3>\n",
       "   name     value         unit        min     max   frozen   error  \n",
       "   str9    float64       str14      float64 float64  bool   float64 \n",
       "--------- ---------- -------------- ------- ------- ------ ---------\n",
       "    index 2.5876e+00                    nan     nan  False 5.867e-02\n",
       "amplitude 2.6900e-11 cm-2 s-1 TeV-1     nan     nan  False 1.234e-12\n",
       "reference 1.0000e+00            TeV     nan     nan   True 0.000e+00"
      ]
     },
     "execution_count": 1,
     "metadata": {},
     "output_type": "execute_result"
    }
   ],
   "source": [
    "model_best_joint.parameters.to_table()"
   ]
  },
  {
   "cell_type": "code",
   "execution_count": 31,
   "metadata": {
    "execution": {
     "iopub.execute_input": "2020-10-27T15:46:56.732114Z",
     "iopub.status.busy": "2020-10-27T15:46:56.731626Z",
     "iopub.status.idle": "2020-10-27T15:46:56.743708Z",
     "shell.execute_reply": "2020-10-27T15:46:56.742989Z"
    }
   },
   "outputs": [
    {
     "data": {
      "text/html": [
       "<i>Table length=3</i>\n",
       "<table id=\"table140386554946224\" class=\"table-striped table-bordered table-condensed\">\n",
       "<thead><tr><th>name</th><th>value</th><th>unit</th><th>min</th><th>max</th><th>frozen</th><th>error</th></tr></thead>\n",
       "<thead><tr><th>str9</th><th>float64</th><th>str14</th><th>float64</th><th>float64</th><th>bool</th><th>float64</th></tr></thead>\n",
       "<tr><td>index</td><td>2.5912e+00</td><td></td><td>nan</td><td>nan</td><td>False</td><td>5.881e-02</td></tr>\n",
       "<tr><td>amplitude</td><td>2.6933e-11</td><td>cm-2 s-1 TeV-1</td><td>nan</td><td>nan</td><td>False</td><td>1.234e-12</td></tr>\n",
       "<tr><td>reference</td><td>1.0000e+00</td><td>TeV</td><td>nan</td><td>nan</td><td>True</td><td>0.000e+00</td></tr>\n",
       "</table>"
      ],
      "text/plain": [
       "<Table length=3>\n",
       "   name     value         unit        min     max   frozen   error  \n",
       "   str9    float64       str14      float64 float64  bool   float64 \n",
       "--------- ---------- -------------- ------- ------- ------ ---------\n",
       "    index 2.5912e+00                    nan     nan  False 5.881e-02\n",
       "amplitude 2.6933e-11 cm-2 s-1 TeV-1     nan     nan  False 1.234e-12\n",
       "reference 1.0000e+00            TeV     nan     nan   True 0.000e+00"
      ]
     },
     "execution_count": 1,
     "metadata": {},
     "output_type": "execute_result"
    }
   ],
   "source": [
    "model_best_stacked.parameters.to_table()"
   ]
  },
  {
   "cell_type": "markdown",
   "metadata": {},
   "source": [
    "Finally, we compare the results of our stacked analysis to a previously published Crab Nebula Spectrum for reference. This is available in `~gammapy.modeling.models.create_crab_spectral_model`."
   ]
  },
  {
   "cell_type": "code",
   "execution_count": 32,
   "metadata": {
    "execution": {
     "iopub.execute_input": "2020-10-27T15:46:56.772449Z",
     "iopub.status.busy": "2020-10-27T15:46:56.768303Z",
     "iopub.status.idle": "2020-10-27T15:46:57.263194Z",
     "shell.execute_reply": "2020-10-27T15:46:57.262641Z"
    }
   },
   "outputs": [
    {
     "name": "stderr",
     "output_type": "stream",
     "text": [
      "/home/runner/work/gammapy-docs/gammapy-docs/gammapy/gammapy/modeling/models/spectral.py:411: MatplotlibDeprecationWarning: The 'nonposx' parameter of __init__() has been renamed 'nonpositive' since Matplotlib 3.3; support for the old name will be dropped two minor releases later.\n",
      "  ax.set_xscale(\"log\", nonposx=\"clip\")\n",
      "/home/runner/work/gammapy-docs/gammapy-docs/gammapy/gammapy/modeling/models/spectral.py:412: MatplotlibDeprecationWarning: The 'nonposy' parameter of __init__() has been renamed 'nonpositive' since Matplotlib 3.3; support for the old name will be dropped two minor releases later.\n",
      "  ax.set_yscale(\"log\", nonposy=\"clip\")\n",
      "/home/runner/work/gammapy-docs/gammapy-docs/gammapy/gammapy/modeling/models/spectral.py:411: MatplotlibDeprecationWarning: The 'nonposx' parameter of __init__() has been renamed 'nonpositive' since Matplotlib 3.3; support for the old name will be dropped two minor releases later.\n",
      "  ax.set_xscale(\"log\", nonposx=\"clip\")\n",
      "/home/runner/work/gammapy-docs/gammapy-docs/gammapy/gammapy/modeling/models/spectral.py:412: MatplotlibDeprecationWarning: The 'nonposy' parameter of __init__() has been renamed 'nonpositive' since Matplotlib 3.3; support for the old name will be dropped two minor releases later.\n",
      "  ax.set_yscale(\"log\", nonposy=\"clip\")\n",
      "/home/runner/work/gammapy-docs/gammapy-docs/gammapy/gammapy/modeling/models/spectral.py:411: MatplotlibDeprecationWarning: The 'nonposx' parameter of __init__() has been renamed 'nonpositive' since Matplotlib 3.3; support for the old name will be dropped two minor releases later.\n",
      "  ax.set_xscale(\"log\", nonposx=\"clip\")\n",
      "/home/runner/work/gammapy-docs/gammapy-docs/gammapy/gammapy/modeling/models/spectral.py:412: MatplotlibDeprecationWarning: The 'nonposy' parameter of __init__() has been renamed 'nonpositive' since Matplotlib 3.3; support for the old name will be dropped two minor releases later.\n",
      "  ax.set_yscale(\"log\", nonposy=\"clip\")\n"
     ]
    },
    {
     "data": {
      "text/plain": [
       "<matplotlib.legend.Legend at 0x7fae4b1cbdd8>"
      ]
     },
     "execution_count": 1,
     "metadata": {},
     "output_type": "execute_result"
    },
    {
     "data": {
      "image/png": "[encoded data removed]",
      "text/plain": [
       "<Figure size 432x288 with 1 Axes>"
      ]
     },
     "metadata": {
      "needs_background": "light"
     },
     "output_type": "display_data"
    }
   ],
   "source": [
    "plot_kwargs = {\n",
    "    \"energy_range\": [0.1, 30] * u.TeV,\n",
    "    \"energy_power\": 2,\n",
    "    \"flux_unit\": \"erg-1 cm-2 s-1\",\n",
    "}\n",
    "\n",
    "# plot stacked model\n",
    "model_best_stacked.spectral_model.plot(\n",
    "    **plot_kwargs, label=\"Stacked analysis result\"\n",
    ")\n",
    "model_best_stacked.spectral_model.plot_error(**plot_kwargs)\n",
    "\n",
    "# plot joint model\n",
    "model_best_joint.spectral_model.plot(\n",
    "    **plot_kwargs, label=\"Joint analysis result\", ls=\"--\"\n",
    ")\n",
    "model_best_joint.spectral_model.plot_error(**plot_kwargs)\n",
    "\n",
    "create_crab_spectral_model(\"hess_pl\").plot(\n",
    "    **plot_kwargs, label=\"Crab reference\"\n",
    ")\n",
    "plt.legend()"
   ]
  },
  {
   "cell_type": "markdown",
   "metadata": {},
   "source": [
    "## Exercises\n",
    "\n",
    "Now you have learned the basics of a spectral analysis with Gammapy. To practice you can continue with the following exercises:\n",
    "\n",
    "- Fit a different spectral model to the data.\n",
    "  You could try `~gammapy.modeling.models.ExpCutoffPowerLawSpectralModel` or `~gammapy.modeling.models.LogParabolaSpectralModel`.\n",
    "- Compute flux points for the stacked dataset.\n",
    "- Create a `~gammapy.estimators.FluxPointsDataset` with the flux points you have computed for the stacked dataset and fit the flux points again with obe of the spectral models. How does the result compare to the best fit model, that was directly fitted to the counts data?"
   ]
  },
  {
   "cell_type": "markdown",
   "metadata": {},
   "source": [
    "## What next?\n",
    "\n",
    "The methods shown in this tutorial is valid for point-like or midly extended sources where we can assume that the IRF taken at the region center is valid over the whole region. If one wants to extract the 1D spectrum of a large source and properly average the response over the extraction region, one has to use a different approach explained in [the extended source spectral analysis tutorial](extended_source_spectral_analysis.ipynb)."
   ]
  },
  {
   "cell_type": "code",
   "execution_count": null,
   "metadata": {},
   "outputs": [],
   "source": []
  }
 ],
 "metadata": {
  "kernelspec": {
   "display_name": "Python 3",
   "language": "python",
   "name": "python3"
  },
  "language_info": {
   "codemirror_mode": {
    "name": "ipython",
    "version": 3
   },
   "file_extension": ".py",
   "mimetype": "text/x-python",
   "name": "python",
   "nbconvert_exporter": "python",
   "pygments_lexer": "ipython3",
   "version": "3.7.0"
  },
  "nbsphinx": {
   "orphan": true
  }
 },
 "nbformat": 4,
 "nbformat_minor": 4
}
