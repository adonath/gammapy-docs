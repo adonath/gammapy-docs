{
 "cells": [
  {
   "cell_type": "markdown",
   "metadata": {},
   "source": [
    "\n",
    "<div class=\"alert alert-info\">\n",
    "\n",
    "**This is a fixed-text formatted version of a Jupyter notebook**\n",
    "\n",
    "- Try online [![Binder](https://static.mybinder.org/badge.svg)](https://mybinder.org/v2/gh/gammapy/gammapy-webpage/master?urlpath=lab/tree/fermi_lat.ipynb)\n",
    "- You can contribute with your own notebooks in this\n",
    "[GitHub repository](https://github.com/gammapy/gammapy/tree/master/docs/tutorials).\n",
    "- **Source files:**\n",
    "[fermi_lat.ipynb](../_static/notebooks/fermi_lat.ipynb) |\n",
    "[fermi_lat.py](../_static/notebooks/fermi_lat.py)\n",
    "</div>\n"
   ]
  },
  {
   "cell_type": "markdown",
   "metadata": {},
   "source": [
    "# Fermi-LAT with Gammapy\n",
    "\n",
    "## Introduction\n",
    "\n",
    "This tutorial will show you how to work with Fermi-LAT data with Gammapy. As an example, we will look at the Galactic center region using the high-energy dataset that was used for the 3FHL catalog, in the energy range 10 GeV to 2 TeV.\n",
    "\n",
    "We note that support for Fermi-LAT data analysis in Gammapy is very limited. For most tasks, we recommend you use \n",
    "[Fermipy](http://fermipy.readthedocs.io/), which is based on the [Fermi Science Tools](https://fermi.gsfc.nasa.gov/ssc/data/analysis/software/) (Fermi ST).\n",
    "\n",
    "Using Gammapy with Fermi-LAT data could be an option for you if you want to do an analysis that is not easily possible with Fermipy and the Fermi Science Tools. For example a joint likelihood fit of Fermi-LAT data with data e.g. from H.E.S.S., MAGIC, VERITAS or some other instrument, or analysis of Fermi-LAT data with a complex spatial or spectral model that is not available in Fermipy or the Fermi ST.\n",
    "\n",
    "Besides Gammapy, you might want to look at are [Sherpa](http://cxc.harvard.edu/sherpa/) or [3ML](https://threeml.readthedocs.io/). Or just using Python to roll your own analyis using several existing analysis packages. E.g. it it possible to use Fermipy and the Fermi ST to evaluate the likelihood on Fermi-LAT data, and Gammapy to evaluate it e.g. for IACT data, and to do a joint likelihood fit using e.g. [iminuit](http://iminuit.readthedocs.io/) or [emcee](http://dfm.io/emcee).\n",
    "\n",
    "To use Fermi-LAT data with Gammapy, you first have to use the Fermi ST to prepare an event list (using ``gtselect`` and ``gtmktime``, exposure cube (using ``gtexpcube2`` and PSF (using ``gtpsf``). You can then use `~gammapy.data.EventList`, `~gammapy.maps` and the `~gammapy.irf.EnergyDependentTablePSF` to read the Fermi-LAT maps and PSF, i.e. support for these high-level analysis products from the Fermi ST is built in. To do a 3D map analyis, you can use Fit for Fermi-LAT data in the same way that it's use for IACT data. This is illustrated in this notebook. A 1D region-based spectral analysis is also possible, this will be illustrated in a future tutorial.\n",
    "\n",
    "## Setup\n",
    "\n",
    "**IMPORTANT**: For this notebook you have to get the prepared ``3fhl`` dataset provided in your $GAMMAPY_DATA.\n",
    "\n",
    "Note that the ``3fhl`` dataset is high-energy only, ranging from 10 GeV to 2 TeV."
   ]
  },
  {
   "cell_type": "code",
   "execution_count": 1,
   "metadata": {
    "execution": {
     "iopub.execute_input": "2021-01-15T09:11:05.599096Z",
     "iopub.status.busy": "2021-01-15T09:11:05.598538Z",
     "iopub.status.idle": "2021-01-15T09:11:05.749297Z",
     "shell.execute_reply": "2021-01-15T09:11:05.748143Z"
    }
   },
   "outputs": [
    {
     "name": "stdout",
     "output_type": "stream",
     "text": [
      "fermi_3fhl_events_selected.fits.gz\r\n",
      "fermi_3fhl_exposure_cube_hpx.fits.gz\r\n",
      "fermi_3fhl_psf_gc.fits.gz\r\n",
      "gll_iem_v06_cutout.fits\r\n",
      "iso_P8R2_SOURCE_V6_v06.txt\r\n"
     ]
    }
   ],
   "source": [
    "# Check that you have the prepared Fermi-LAT dataset\n",
    "# We will use diffuse models from here\n",
    "!ls -1 $GAMMAPY_DATA/fermi_3fhl"
   ]
  },
  {
   "cell_type": "code",
   "execution_count": 2,
   "metadata": {
    "execution": {
     "iopub.execute_input": "2021-01-15T09:11:05.755318Z",
     "iopub.status.busy": "2021-01-15T09:11:05.754854Z",
     "iopub.status.idle": "2021-01-15T09:11:06.061890Z",
     "shell.execute_reply": "2021-01-15T09:11:06.060817Z"
    }
   },
   "outputs": [],
   "source": [
    "%matplotlib inline\n",
    "import matplotlib.pyplot as plt"
   ]
  },
  {
   "cell_type": "code",
   "execution_count": 3,
   "metadata": {
    "execution": {
     "iopub.execute_input": "2021-01-15T09:11:06.068787Z",
     "iopub.status.busy": "2021-01-15T09:11:06.068212Z",
     "iopub.status.idle": "2021-01-15T09:11:07.059911Z",
     "shell.execute_reply": "2021-01-15T09:11:07.058878Z"
    }
   },
   "outputs": [],
   "source": [
    "import numpy as np\n",
    "from astropy import units as u\n",
    "from astropy.coordinates import SkyCoord\n",
    "from gammapy.data import EventList\n",
    "from gammapy.datasets import MapDataset\n",
    "from gammapy.irf import EnergyDependentTablePSF, PSFMap, EDispMap\n",
    "from gammapy.maps import Map, MapAxis, WcsGeom\n",
    "from gammapy.modeling.models import (\n",
    "    PowerLawSpectralModel,\n",
    "    PointSpatialModel,\n",
    "    SkyModel,\n",
    "    TemplateSpatialModel,\n",
    "    PowerLawNormSpectralModel,\n",
    "    Models,\n",
    "    create_fermi_isotropic_diffuse_model,\n",
    ")\n",
    "from gammapy.modeling import Fit"
   ]
  },
  {
   "cell_type": "markdown",
   "metadata": {},
   "source": [
    "## Events\n",
    "\n",
    "To load up the Fermi-LAT event list, use the `~gammapy.data.EventList` class:"
   ]
  },
  {
   "cell_type": "code",
   "execution_count": 4,
   "metadata": {
    "execution": {
     "iopub.execute_input": "2021-01-15T09:11:07.064157Z",
     "iopub.status.busy": "2021-01-15T09:11:07.063611Z",
     "iopub.status.idle": "2021-01-15T09:11:08.533770Z",
     "shell.execute_reply": "2021-01-15T09:11:08.532971Z"
    }
   },
   "outputs": [
    {
     "name": "stdout",
     "output_type": "stream",
     "text": [
      "EventList\n",
      "---------\n",
      "\n",
      "  Instrument       : LAT\n",
      "  Telescope        : GLAST\n",
      "  Obs. ID          : \n",
      "\n",
      "  Number of events : 697317\n",
      "  Event rate       : 0.003 1 / s\n",
      "\n",
      "  Time start       : 54682.65603222222\n",
      "  Time stop        : 57236.96833546296\n",
      "\n",
      "  Min. energy      : 1.00e+04 MeV\n",
      "  Max. energy      : 2.00e+06 MeV\n",
      "  Median energy    : 1.59e+04 MeV\n",
      "\n",
      "\n"
     ]
    }
   ],
   "source": [
    "events = EventList.read(\n",
    "    \"$GAMMAPY_DATA/fermi_3fhl/fermi_3fhl_events_selected.fits.gz\"\n",
    ")\n",
    "print(events)"
   ]
  },
  {
   "cell_type": "markdown",
   "metadata": {},
   "source": [
    "The event data is stored in a [astropy.table.Table](http://docs.astropy.org/en/stable/api/astropy.table.Table.html) object. In case of the Fermi-LAT event list this contains all the additional information on positon, zenith angle, earth azimuth angle, event class, event type etc."
   ]
  },
  {
   "cell_type": "code",
   "execution_count": 5,
   "metadata": {
    "execution": {
     "iopub.execute_input": "2021-01-15T09:11:08.541488Z",
     "iopub.status.busy": "2021-01-15T09:11:08.540576Z",
     "iopub.status.idle": "2021-01-15T09:11:08.543507Z",
     "shell.execute_reply": "2021-01-15T09:11:08.544037Z"
    }
   },
   "outputs": [
    {
     "data": {
      "text/plain": [
       "['ENERGY',\n",
       " 'RA',\n",
       " 'DEC',\n",
       " 'L',\n",
       " 'B',\n",
       " 'THETA',\n",
       " 'PHI',\n",
       " 'ZENITH_ANGLE',\n",
       " 'EARTH_AZIMUTH_ANGLE',\n",
       " 'TIME',\n",
       " 'EVENT_ID',\n",
       " 'RUN_ID',\n",
       " 'RECON_VERSION',\n",
       " 'CALIB_VERSION',\n",
       " 'EVENT_CLASS',\n",
       " 'EVENT_TYPE',\n",
       " 'CONVERSION_TYPE',\n",
       " 'LIVETIME',\n",
       " 'DIFRSP0',\n",
       " 'DIFRSP1',\n",
       " 'DIFRSP2',\n",
       " 'DIFRSP3',\n",
       " 'DIFRSP4']"
      ]
     },
     "execution_count": 1,
     "metadata": {},
     "output_type": "execute_result"
    }
   ],
   "source": [
    "events.table.colnames"
   ]
  },
  {
   "cell_type": "code",
   "execution_count": 6,
   "metadata": {
    "execution": {
     "iopub.execute_input": "2021-01-15T09:11:08.550271Z",
     "iopub.status.busy": "2021-01-15T09:11:08.549776Z",
     "iopub.status.idle": "2021-01-15T09:11:08.552177Z",
     "shell.execute_reply": "2021-01-15T09:11:08.552644Z"
    }
   },
   "outputs": [
    {
     "data": {
      "text/html": [
       "<i>Table length=5</i>\n",
       "<table id=\"table140558602642488\" class=\"table-striped table-bordered table-condensed\">\n",
       "<thead><tr><th>ENERGY</th><th>RA</th><th>DEC</th></tr></thead>\n",
       "<thead><tr><th>MeV</th><th>deg</th><th>deg</th></tr></thead>\n",
       "<thead><tr><th>float32</th><th>float32</th><th>float32</th></tr></thead>\n",
       "<tr><td>12856.5205</td><td>139.64438</td><td>-9.93702</td></tr>\n",
       "<tr><td>14773.319</td><td>177.04454</td><td>60.55275</td></tr>\n",
       "<tr><td>23273.527</td><td>110.21325</td><td>37.002018</td></tr>\n",
       "<tr><td>41866.125</td><td>334.85287</td><td>17.577398</td></tr>\n",
       "<tr><td>42463.074</td><td>316.86676</td><td>48.152477</td></tr>\n",
       "</table>"
      ],
      "text/plain": [
       "<Table length=5>\n",
       "  ENERGY       RA       DEC   \n",
       "   MeV        deg       deg   \n",
       " float32    float32   float32 \n",
       "---------- --------- ---------\n",
       "12856.5205 139.64438  -9.93702\n",
       " 14773.319 177.04454  60.55275\n",
       " 23273.527 110.21325 37.002018\n",
       " 41866.125 334.85287 17.577398\n",
       " 42463.074 316.86676 48.152477"
      ]
     },
     "execution_count": 1,
     "metadata": {},
     "output_type": "execute_result"
    }
   ],
   "source": [
    "events.table[:5][[\"ENERGY\", \"RA\", \"DEC\"]]"
   ]
  },
  {
   "cell_type": "code",
   "execution_count": 7,
   "metadata": {
    "execution": {
     "iopub.execute_input": "2021-01-15T09:11:08.555739Z",
     "iopub.status.busy": "2021-01-15T09:11:08.555255Z",
     "iopub.status.idle": "2021-01-15T09:11:08.929509Z",
     "shell.execute_reply": "2021-01-15T09:11:08.929918Z"
    }
   },
   "outputs": [
    {
     "name": "stdout",
     "output_type": "stream",
     "text": [
      "2008-08-04 15:49:26.782\n",
      "2015-07-30 11:00:41.226\n"
     ]
    }
   ],
   "source": [
    "print(events.time[0].iso)\n",
    "print(events.time[-1].iso)"
   ]
  },
  {
   "cell_type": "code",
   "execution_count": 8,
   "metadata": {
    "execution": {
     "iopub.execute_input": "2021-01-15T09:11:08.934852Z",
     "iopub.status.busy": "2021-01-15T09:11:08.934337Z",
     "iopub.status.idle": "2021-01-15T09:11:09.007822Z",
     "shell.execute_reply": "2021-01-15T09:11:09.008222Z"
    }
   },
   "outputs": [
    {
     "name": "stdout",
     "output_type": "stream",
     "text": [
      "mean = 28905.451171875 MeV\n",
      "std = 61051.7421875 MeV\n",
      "min = 10000.03125 MeV\n",
      "max = 1998482.75 MeV\n",
      "n_bad = 0\n",
      "length = 697317\n"
     ]
    }
   ],
   "source": [
    "energy = events.energy\n",
    "energy.info(\"stats\")"
   ]
  },
  {
   "cell_type": "markdown",
   "metadata": {},
   "source": [
    "As a short analysis example we will count the number of events above a certain minimum energy: "
   ]
  },
  {
   "cell_type": "code",
   "execution_count": 9,
   "metadata": {
    "execution": {
     "iopub.execute_input": "2021-01-15T09:11:09.013584Z",
     "iopub.status.busy": "2021-01-15T09:11:09.013100Z",
     "iopub.status.idle": "2021-01-15T09:11:09.034888Z",
     "shell.execute_reply": "2021-01-15T09:11:09.035298Z"
    }
   },
   "outputs": [
    {
     "name": "stdout",
     "output_type": "stream",
     "text": [
      "Events above   10 GeV: 697317\n",
      "Events above  100 GeV: 23628\n",
      "Events above 1000 GeV:   544\n"
     ]
    }
   ],
   "source": [
    "for e_min in [10, 100, 1000] * u.GeV:\n",
    "    n = (events.energy > e_min).sum()\n",
    "    print(f\"Events above {e_min:4.0f}: {n:5.0f}\")"
   ]
  },
  {
   "cell_type": "markdown",
   "metadata": {},
   "source": [
    "## Counts\n",
    "\n",
    "Let us start to prepare things for an 3D map analysis of the Galactic center region with Gammapy. The first thing we do is to define the map geometry. We chose a TAN projection centered on position ``(glon, glat) = (0, 0)`` with pixel size 0.1 deg, and four energy bins."
   ]
  },
  {
   "cell_type": "code",
   "execution_count": 10,
   "metadata": {
    "execution": {
     "iopub.execute_input": "2021-01-15T09:11:09.046445Z",
     "iopub.status.busy": "2021-01-15T09:11:09.045890Z",
     "iopub.status.idle": "2021-01-15T09:11:09.766822Z",
     "shell.execute_reply": "2021-01-15T09:11:09.765940Z"
    }
   },
   "outputs": [],
   "source": [
    "gc_pos = SkyCoord(0, 0, unit=\"deg\", frame=\"galactic\")\n",
    "energy_axis = MapAxis.from_edges(\n",
    "    [1e4, 3e4, 1e5, 3e5, 2e6], name=\"energy\", unit=\"MeV\", interp=\"log\"\n",
    ")\n",
    "counts = Map.create(\n",
    "    skydir=gc_pos,\n",
    "    npix=(100, 80),\n",
    "    proj=\"TAN\",\n",
    "    frame=\"galactic\",\n",
    "    binsz=0.1,\n",
    "    axes=[energy_axis],\n",
    "    dtype=float,\n",
    ")\n",
    "# We put this call into the same Jupyter cell as the Map.create\n",
    "# because otherwise we could accidentally fill the counts\n",
    "# multiple times when executing the ``fill_by_coord`` multiple times.\n",
    "counts.fill_by_coord({\"skycoord\": events.radec, \"energy\": events.energy})"
   ]
  },
  {
   "cell_type": "code",
   "execution_count": 11,
   "metadata": {
    "execution": {
     "iopub.execute_input": "2021-01-15T09:11:09.772693Z",
     "iopub.status.busy": "2021-01-15T09:11:09.772131Z",
     "iopub.status.idle": "2021-01-15T09:11:09.777115Z",
     "shell.execute_reply": "2021-01-15T09:11:09.777660Z"
    }
   },
   "outputs": [
    {
     "data": {
      "text/plain": [
       "MapAxis\n",
       "\n",
       "\tname       : energy    \n",
       "\tunit       : 'MeV'     \n",
       "\tnbins      : 4         \n",
       "\tnode type  : edges     \n",
       "\tedges min  : 1.0e+04 MeV\n",
       "\tedges max  : 2.0e+06 MeV\n",
       "\tinterp     : log       "
      ]
     },
     "execution_count": 1,
     "metadata": {},
     "output_type": "execute_result"
    }
   ],
   "source": [
    "counts.geom.axes[0]"
   ]
  },
  {
   "cell_type": "code",
   "execution_count": 12,
   "metadata": {
    "execution": {
     "iopub.execute_input": "2021-01-15T09:11:09.782884Z",
     "iopub.status.busy": "2021-01-15T09:11:09.782161Z",
     "iopub.status.idle": "2021-01-15T09:11:10.017337Z",
     "shell.execute_reply": "2021-01-15T09:11:10.017983Z"
    }
   },
   "outputs": [
    {
     "name": "stderr",
     "output_type": "stream",
     "text": [
      "/usr/share/miniconda/envs/gammapy-dev/lib/python3.7/site-packages/astropy/visualization/wcsaxes/core.py:211: MatplotlibDeprecationWarning: Passing parameters norm and vmin/vmax simultaneously is deprecated since 3.3 and will become an error two minor releases later. Please pass vmin/vmax directly to the norm when creating it.\n",
      "  return super().imshow(X, *args, origin=origin, **kwargs)\n"
     ]
    },
    {
     "data": {
      "text/plain": [
       "(<Figure size 432x288 with 1 Axes>,\n",
       " <WCSAxesSubplot:xlabel='Galactic Longitude', ylabel='Galactic Latitude'>,\n",
       " None)"
      ]
     },
     "execution_count": 1,
     "metadata": {},
     "output_type": "execute_result"
    },
    {
     "data": {
      "image/png": "[encoded data removed]",
      "text/plain": [
       "<Figure size 432x288 with 1 Axes>"
      ]
     },
     "metadata": {
      "needs_background": "light"
     },
     "output_type": "display_data"
    }
   ],
   "source": [
    "counts.sum_over_axes().smooth(2).plot(stretch=\"sqrt\", vmax=30);"
   ]
  },
  {
   "cell_type": "markdown",
   "metadata": {},
   "source": [
    "## Exposure\n",
    "\n",
    "The Fermi-LAT datatset contains the energy-dependent exposure for the whole sky as a HEALPix map computed with ``gtexpcube2``. This format is supported by `~gammapy.maps` directly.\n",
    "\n",
    "Interpolating the exposure cube from the Fermi ST to get an exposure cube matching the spatial geometry and energy axis defined above with Gammapy is easy. The only point to watch out for is how exactly you want the energy axis and binning handled.\n",
    "\n",
    "Below we just use the default behaviour, which is linear interpolation in energy on the original exposure cube. Probably log interpolation would be better, but it doesn't matter much here, because the energy binning is fine. Finally, we just copy the counts map geometry, which contains an energy axis with `node_type=\"edges\"`. This is non-ideal for exposure cubes, but again, acceptable because exposure doesn't vary much from bin to bin, so the exact way interpolation occurs in later use of that exposure cube doesn't matter a lot. Of course you could define any energy axis for your exposure cube that you like."
   ]
  },
  {
   "cell_type": "code",
   "execution_count": 13,
   "metadata": {
    "execution": {
     "iopub.execute_input": "2021-01-15T09:11:10.022055Z",
     "iopub.status.busy": "2021-01-15T09:11:10.021533Z",
     "iopub.status.idle": "2021-01-15T09:11:10.278594Z",
     "shell.execute_reply": "2021-01-15T09:11:10.277304Z"
    }
   },
   "outputs": [
    {
     "name": "stdout",
     "output_type": "stream",
     "text": [
      "HpxGeom\n",
      "\n",
      "\taxes       : ['skycoord', 'energy_true']\n",
      "\tshape      : (49152, 18)\n",
      "\tndim       : 3\n",
      "\tnside      : 64\n",
      "\tnested     : False\n",
      "\tframe   : icrs\n",
      "\tprojection : HPX\n",
      "\tcenter     : 0.0 deg, 0.0 deg\n",
      "\n",
      "MapAxis\n",
      "\n",
      "\tname       : energy_true\n",
      "\tunit       : 'MeV'     \n",
      "\tnbins      : 18        \n",
      "\tnode type  : center    \n",
      "\tcenter min : 1.0e+04 MeV\n",
      "\tcenter max : 2.0e+06 MeV\n",
      "\tinterp     : log       \n",
      "\n"
     ]
    }
   ],
   "source": [
    "exposure_hpx = Map.read(\n",
    "    \"$GAMMAPY_DATA/fermi_3fhl/fermi_3fhl_exposure_cube_hpx.fits.gz\"\n",
    ")\n",
    "print(exposure_hpx.geom)\n",
    "print(exposure_hpx.geom.axes[0])"
   ]
  },
  {
   "cell_type": "code",
   "execution_count": 14,
   "metadata": {
    "execution": {
     "iopub.execute_input": "2021-01-15T09:11:10.285610Z",
     "iopub.status.busy": "2021-01-15T09:11:10.285094Z",
     "iopub.status.idle": "2021-01-15T09:11:10.970168Z",
     "shell.execute_reply": "2021-01-15T09:11:10.970852Z"
    }
   },
   "outputs": [
    {
     "data": {
      "text/plain": [
       "(<Figure size 432x288 with 1 Axes>,\n",
       " <WCSAxesSubplot:xlabel='Right Ascension', ylabel='Declination'>,\n",
       " None)"
      ]
     },
     "execution_count": 1,
     "metadata": {},
     "output_type": "execute_result"
    },
    {
     "data": {
      "image/png": "[encoded data removed]",
      "text/plain": [
       "<Figure size 432x288 with 1 Axes>"
      ]
     },
     "metadata": {
      "needs_background": "light"
     },
     "output_type": "display_data"
    }
   ],
   "source": [
    "exposure_hpx.plot();"
   ]
  },
  {
   "cell_type": "code",
   "execution_count": 15,
   "metadata": {
    "execution": {
     "iopub.execute_input": "2021-01-15T09:11:10.976774Z",
     "iopub.status.busy": "2021-01-15T09:11:10.976241Z",
     "iopub.status.idle": "2021-01-15T09:11:11.026286Z",
     "shell.execute_reply": "2021-01-15T09:11:11.025480Z"
    }
   },
   "outputs": [],
   "source": [
    "# For exposure, we choose a geometry with node_type='center',\n",
    "# whereas for counts it was node_type='edge'\n",
    "axis = MapAxis.from_nodes(\n",
    "    counts.geom.axes[0].center, name=\"energy_true\", unit=\"MeV\", interp=\"log\"\n",
    ")\n",
    "geom = WcsGeom(wcs=counts.geom.wcs, npix=counts.geom.npix, axes=[axis])\n",
    "\n",
    "exposure = exposure_hpx.interp_to_geom(geom)"
   ]
  },
  {
   "cell_type": "code",
   "execution_count": 16,
   "metadata": {
    "execution": {
     "iopub.execute_input": "2021-01-15T09:11:11.033740Z",
     "iopub.status.busy": "2021-01-15T09:11:11.031397Z",
     "iopub.status.idle": "2021-01-15T09:11:11.038285Z",
     "shell.execute_reply": "2021-01-15T09:11:11.037851Z"
    }
   },
   "outputs": [
    {
     "name": "stdout",
     "output_type": "stream",
     "text": [
      "WcsGeom\n",
      "\n",
      "\taxes       : ['lon', 'lat', 'energy_true']\n",
      "\tshape      : (100, 80, 4)\n",
      "\tndim       : 3\n",
      "\tframe      : galactic\n",
      "\tprojection : TAN\n",
      "\tcenter     : 0.0 deg, 0.0 deg\n",
      "\twidth      : 10.0 deg x 8.0 deg\n",
      "\n",
      "MapAxis\n",
      "\n",
      "\tname       : energy_true\n",
      "\tunit       : 'MeV'     \n",
      "\tnbins      : 4         \n",
      "\tnode type  : center    \n",
      "\tcenter min : 1.7e+04 MeV\n",
      "\tcenter max : 7.7e+05 MeV\n",
      "\tinterp     : log       \n",
      "\n"
     ]
    }
   ],
   "source": [
    "print(exposure.geom)\n",
    "print(exposure.geom.axes[0])"
   ]
  },
  {
   "cell_type": "code",
   "execution_count": 17,
   "metadata": {
    "execution": {
     "iopub.execute_input": "2021-01-15T09:11:11.128551Z",
     "iopub.status.busy": "2021-01-15T09:11:11.043087Z",
     "iopub.status.idle": "2021-01-15T09:11:11.322124Z",
     "shell.execute_reply": "2021-01-15T09:11:11.322865Z"
    }
   },
   "outputs": [
    {
     "data": {
      "text/plain": [
       "(<Figure size 432x288 with 2 Axes>,\n",
       " <WCSAxesSubplot:xlabel='Galactic Longitude', ylabel='Galactic Latitude'>,\n",
       " <matplotlib.colorbar.Colorbar at 0x7fd655a5ec18>)"
      ]
     },
     "execution_count": 1,
     "metadata": {},
     "output_type": "execute_result"
    },
    {
     "data": {
      "image/png": "[encoded data removed]",
      "text/plain": [
       "<Figure size 432x288 with 2 Axes>"
      ]
     },
     "metadata": {
      "needs_background": "light"
     },
     "output_type": "display_data"
    }
   ],
   "source": [
    "# Exposure is almost constant accross the field of view\n",
    "exposure.slice_by_idx({\"energy_true\": 0}).plot(add_cbar=True);"
   ]
  },
  {
   "cell_type": "code",
   "execution_count": 18,
   "metadata": {
    "execution": {
     "iopub.execute_input": "2021-01-15T09:11:11.326015Z",
     "iopub.status.busy": "2021-01-15T09:11:11.325050Z",
     "iopub.status.idle": "2021-01-15T09:11:11.332578Z",
     "shell.execute_reply": "2021-01-15T09:11:11.333197Z"
    }
   },
   "outputs": [
    {
     "data": {
      "text/plain": [
       "array([3.19917466e+11, 3.27536547e+11, 3.03032026e+11])"
      ]
     },
     "execution_count": 1,
     "metadata": {},
     "output_type": "execute_result"
    }
   ],
   "source": [
    "# Exposure varies very little with energy at these high energies\n",
    "energy = [10, 100, 1000] * u.GeV\n",
    "exposure.get_by_coord({\"skycoord\": gc_pos, \"energy_true\": energy})"
   ]
  },
  {
   "cell_type": "markdown",
   "metadata": {},
   "source": [
    "## Galactic diffuse background"
   ]
  },
  {
   "cell_type": "markdown",
   "metadata": {},
   "source": [
    "The Fermi-LAT collaboration provides a galactic diffuse emission model, that can be used as a background model for\n",
    "Fermi-LAT source analysis.\n",
    "\n",
    "Diffuse model maps are very large (100s of MB), so as an example here, we just load one that represents a small cutout for the Galactic center region."
   ]
  },
  {
   "cell_type": "code",
   "execution_count": 19,
   "metadata": {
    "execution": {
     "iopub.execute_input": "2021-01-15T09:11:11.336345Z",
     "iopub.status.busy": "2021-01-15T09:11:11.335396Z",
     "iopub.status.idle": "2021-01-15T09:11:11.378322Z",
     "shell.execute_reply": "2021-01-15T09:11:11.378968Z"
    }
   },
   "outputs": [
    {
     "name": "stdout",
     "output_type": "stream",
     "text": [
      "WcsGeom\n",
      "\n",
      "\taxes       : ['lon', 'lat', 'energy_true']\n",
      "\tshape      : (120, 64, 30)\n",
      "\tndim       : 3\n",
      "\tframe      : galactic\n",
      "\tprojection : CAR\n",
      "\tcenter     : 0.0 deg, -0.1 deg\n",
      "\twidth      : 15.0 deg x 8.0 deg\n",
      "\n",
      "MapAxis\n",
      "\n",
      "\tname       : energy_true\n",
      "\tunit       : 'MeV'     \n",
      "\tnbins      : 30        \n",
      "\tnode type  : center    \n",
      "\tcenter min : 5.8e+01 MeV\n",
      "\tcenter max : 5.1e+05 MeV\n",
      "\tinterp     : log       \n",
      "\n"
     ]
    }
   ],
   "source": [
    "diffuse_galactic_fermi = Map.read(\n",
    "    \"$GAMMAPY_DATA/fermi-3fhl-gc/gll_iem_v06_gc.fits.gz\"\n",
    ")\n",
    "\n",
    "# Unit is not stored in the file, set it manually\n",
    "diffuse_galactic_fermi.unit = \"cm-2 s-1 MeV-1 sr-1\"\n",
    "print(diffuse_galactic_fermi.geom)\n",
    "\n",
    "print(diffuse_galactic_fermi.geom.axes[0])"
   ]
  },
  {
   "cell_type": "code",
   "execution_count": 20,
   "metadata": {
    "execution": {
     "iopub.execute_input": "2021-01-15T09:11:11.381993Z",
     "iopub.status.busy": "2021-01-15T09:11:11.381060Z",
     "iopub.status.idle": "2021-01-15T09:11:11.386544Z",
     "shell.execute_reply": "2021-01-15T09:11:11.387173Z"
    }
   },
   "outputs": [],
   "source": [
    "template_diffuse = TemplateSpatialModel(\n",
    "    diffuse_galactic_fermi, normalize=False\n",
    ")"
   ]
  },
  {
   "cell_type": "code",
   "execution_count": 21,
   "metadata": {
    "execution": {
     "iopub.execute_input": "2021-01-15T09:11:11.397575Z",
     "iopub.status.busy": "2021-01-15T09:11:11.396351Z",
     "iopub.status.idle": "2021-01-15T09:11:11.405522Z",
     "shell.execute_reply": "2021-01-15T09:11:11.405095Z"
    }
   },
   "outputs": [],
   "source": [
    "diffuse_iem = SkyModel(\n",
    "    spectral_model=PowerLawNormSpectralModel(),\n",
    "    spatial_model=template_diffuse,\n",
    "    name=\"diffuse-iem\",\n",
    ")"
   ]
  },
  {
   "cell_type": "markdown",
   "metadata": {},
   "source": [
    "Let's look at the map of first energy band of the cube:"
   ]
  },
  {
   "cell_type": "code",
   "execution_count": 22,
   "metadata": {
    "execution": {
     "iopub.execute_input": "2021-01-15T09:11:11.429005Z",
     "iopub.status.busy": "2021-01-15T09:11:11.409883Z",
     "iopub.status.idle": "2021-01-15T09:11:11.588488Z",
     "shell.execute_reply": "2021-01-15T09:11:11.589003Z"
    }
   },
   "outputs": [
    {
     "data": {
      "text/plain": [
       "(<Figure size 432x288 with 2 Axes>,\n",
       " <WCSAxesSubplot:xlabel='Galactic Longitude', ylabel='Galactic Latitude'>,\n",
       " <matplotlib.colorbar.Colorbar at 0x7fd6558b67b8>)"
      ]
     },
     "execution_count": 1,
     "metadata": {},
     "output_type": "execute_result"
    },
    {
     "data": {
      "image/png": "[encoded data removed]",
      "text/plain": [
       "<Figure size 432x288 with 2 Axes>"
      ]
     },
     "metadata": {
      "needs_background": "light"
     },
     "output_type": "display_data"
    }
   ],
   "source": [
    "template_diffuse.map.slice_by_idx({\"energy_true\": 0}).plot(add_cbar=True);"
   ]
  },
  {
   "cell_type": "markdown",
   "metadata": {},
   "source": [
    "Here is the spectrum at the Glaactic center:"
   ]
  },
  {
   "cell_type": "code",
   "execution_count": 23,
   "metadata": {
    "execution": {
     "iopub.execute_input": "2021-01-15T09:11:11.591616Z",
     "iopub.status.busy": "2021-01-15T09:11:11.591110Z",
     "iopub.status.idle": "2021-01-15T09:11:12.217665Z",
     "shell.execute_reply": "2021-01-15T09:11:12.217090Z"
    }
   },
   "outputs": [
    {
     "data": {
      "text/plain": [
       "Text(0, 0.5, 'Flux (cm-2 s-1 MeV-1 sr-1)')"
      ]
     },
     "execution_count": 1,
     "metadata": {},
     "output_type": "execute_result"
    },
    {
     "data": {
      "image/png": "[encoded data removed]",
      "text/plain": [
       "<Figure size 432x288 with 1 Axes>"
      ]
     },
     "metadata": {
      "needs_background": "light"
     },
     "output_type": "display_data"
    }
   ],
   "source": [
    "# Exposure varies very little with energy at these high energies\n",
    "energy = np.logspace(1, 3, 10) * u.GeV\n",
    "dnde = template_diffuse.map.interp_by_coord(\n",
    "    {\"skycoord\": gc_pos, \"energy_true\": energy},\n",
    "    method=\"linear\",\n",
    "    fill_value=None,\n",
    ")\n",
    "plt.plot(energy.value, dnde, \"+\")\n",
    "plt.loglog()\n",
    "plt.xlabel(\"Energy (GeV)\")\n",
    "plt.ylabel(\"Flux (cm-2 s-1 MeV-1 sr-1)\")"
   ]
  },
  {
   "cell_type": "code",
   "execution_count": 24,
   "metadata": {
    "execution": {
     "iopub.execute_input": "2021-01-15T09:11:12.221348Z",
     "iopub.status.busy": "2021-01-15T09:11:12.220552Z",
     "iopub.status.idle": "2021-01-15T09:11:12.224355Z",
     "shell.execute_reply": "2021-01-15T09:11:12.223749Z"
    }
   },
   "outputs": [],
   "source": [
    "# TODO: show how one can fix the extrapolate to high energy\n",
    "# by computing and padding an extra plane e.g. at 1e3 TeV\n",
    "# that corresponds to a linear extrapolation"
   ]
  },
  {
   "cell_type": "markdown",
   "metadata": {},
   "source": [
    "## Isotropic diffuse background\n",
    "\n",
    "To load the isotropic diffuse model with Gammapy, use the `~gammapy.modeling.models.TemplateSpectralModel`. We are using `'fill_value': 'extrapolate'` to extrapolate the model above 500 GeV:"
   ]
  },
  {
   "cell_type": "code",
   "execution_count": 25,
   "metadata": {
    "execution": {
     "iopub.execute_input": "2021-01-15T09:11:12.228486Z",
     "iopub.status.busy": "2021-01-15T09:11:12.227870Z",
     "iopub.status.idle": "2021-01-15T09:11:12.237049Z",
     "shell.execute_reply": "2021-01-15T09:11:12.236609Z"
    }
   },
   "outputs": [],
   "source": [
    "filename = \"$GAMMAPY_DATA/fermi_3fhl/iso_P8R2_SOURCE_V6_v06.txt\"\n",
    "\n",
    "diffuse_iso = create_fermi_isotropic_diffuse_model(\n",
    "    filename=filename, interp_kwargs={\"fill_value\": None}\n",
    ")"
   ]
  },
  {
   "cell_type": "markdown",
   "metadata": {},
   "source": [
    "We can plot the model in the energy range between 50 GeV and 2000 GeV:"
   ]
  },
  {
   "cell_type": "code",
   "execution_count": 26,
   "metadata": {
    "execution": {
     "iopub.execute_input": "2021-01-15T09:11:12.262533Z",
     "iopub.status.busy": "2021-01-15T09:11:12.260883Z",
     "iopub.status.idle": "2021-01-15T09:11:12.756940Z",
     "shell.execute_reply": "2021-01-15T09:11:12.756471Z"
    }
   },
   "outputs": [
    {
     "name": "stderr",
     "output_type": "stream",
     "text": [
      "/home/runner/work/gammapy-docs/gammapy-docs/gammapy/gammapy/modeling/models/spectral.py:388: MatplotlibDeprecationWarning: The 'nonposx' parameter of __init__() has been renamed 'nonpositive' since Matplotlib 3.3; support for the old name will be dropped two minor releases later.\n",
      "  ax.set_xscale(\"log\", nonposx=\"clip\")\n",
      "/home/runner/work/gammapy-docs/gammapy-docs/gammapy/gammapy/modeling/models/spectral.py:389: MatplotlibDeprecationWarning: The 'nonposy' parameter of __init__() has been renamed 'nonpositive' since Matplotlib 3.3; support for the old name will be dropped two minor releases later.\n",
      "  ax.set_yscale(\"log\", nonposy=\"clip\")\n"
     ]
    },
    {
     "data": {
      "text/plain": [
       "<AxesSubplot:xlabel='Energy [TeV]', ylabel='Flux [1 / (cm2 MeV s)]'>"
      ]
     },
     "execution_count": 1,
     "metadata": {},
     "output_type": "execute_result"
    },
    {
     "data": {
      "image/png": "[encoded data removed]",
      "text/plain": [
       "<Figure size 432x288 with 1 Axes>"
      ]
     },
     "metadata": {
      "needs_background": "light"
     },
     "output_type": "display_data"
    }
   ],
   "source": [
    "energy_range = [50, 2000] * u.GeV\n",
    "diffuse_iso.spectral_model.plot(energy_range, flux_unit=\"1 / (cm2 MeV s)\");"
   ]
  },
  {
   "cell_type": "markdown",
   "metadata": {},
   "source": [
    "## PSF\n",
    "\n",
    "Next we will tke a look at the PSF. It was computed using ``gtpsf``, in this case for the Galactic center position. Note that generally for Fermi-LAT, the PSF only varies little within a given regions of the sky, especially at high energies like what we have here. We use the `~gammapy.irf.EnergyDependentTablePSF` class to load the PSF and use some of it's methods to get some information about it."
   ]
  },
  {
   "cell_type": "code",
   "execution_count": 27,
   "metadata": {
    "execution": {
     "iopub.execute_input": "2021-01-15T09:11:12.760572Z",
     "iopub.status.busy": "2021-01-15T09:11:12.760051Z",
     "iopub.status.idle": "2021-01-15T09:11:12.776753Z",
     "shell.execute_reply": "2021-01-15T09:11:12.776194Z"
    }
   },
   "outputs": [
    {
     "name": "stdout",
     "output_type": "stream",
     "text": [
      "EnergyDependentTablePSF\n",
      "-----------------------\n",
      "\n",
      "  axes  : ['energy_true', 'rad']\n",
      "  shape : (17, 300)\n",
      "  ndim  : 2\n",
      "  unit  : sr-1\n",
      "  dtype : >f8\n",
      "\n"
     ]
    }
   ],
   "source": [
    "psf_table = EnergyDependentTablePSF.read(\n",
    "    \"$GAMMAPY_DATA/fermi_3fhl/fermi_3fhl_psf_gc.fits.gz\"\n",
    ")\n",
    "print(psf_table)"
   ]
  },
  {
   "cell_type": "markdown",
   "metadata": {},
   "source": [
    "To get an idea of the size of the PSF we check how the containment radii of the Fermi-LAT PSF vari with energy and different containment fractions:"
   ]
  },
  {
   "cell_type": "code",
   "execution_count": 28,
   "metadata": {
    "execution": {
     "iopub.execute_input": "2021-01-15T09:11:12.797269Z",
     "iopub.status.busy": "2021-01-15T09:11:12.796789Z",
     "iopub.status.idle": "2021-01-15T09:11:13.174232Z",
     "shell.execute_reply": "2021-01-15T09:11:13.173549Z"
    }
   },
   "outputs": [
    {
     "data": {
      "image/png": "[encoded data removed]",
      "text/plain": [
       "<Figure size 576x360 with 1 Axes>"
      ]
     },
     "metadata": {
      "needs_background": "light"
     },
     "output_type": "display_data"
    }
   ],
   "source": [
    "plt.figure(figsize=(8, 5))\n",
    "psf_table.plot_containment_vs_energy(linewidth=2, fractions=[0.68, 0.95])\n",
    "plt.xlim(50, 2000)\n",
    "plt.show()"
   ]
  },
  {
   "cell_type": "markdown",
   "metadata": {},
   "source": [
    "In addition we can check how the actual shape of the PSF varies with energy and compare it against the mean PSF between 50 GeV and 2000 GeV:"
   ]
  },
  {
   "cell_type": "code",
   "execution_count": 29,
   "metadata": {
    "execution": {
     "iopub.execute_input": "2021-01-15T09:11:13.182317Z",
     "iopub.status.busy": "2021-01-15T09:11:13.181797Z",
     "iopub.status.idle": "2021-01-15T09:11:13.574893Z",
     "shell.execute_reply": "2021-01-15T09:11:13.574320Z"
    }
   },
   "outputs": [
    {
     "data": {
      "text/plain": [
       "<matplotlib.legend.Legend at 0x7fd65594d240>"
      ]
     },
     "execution_count": 1,
     "metadata": {},
     "output_type": "execute_result"
    },
    {
     "data": {
      "image/png": "[encoded data removed]",
      "text/plain": [
       "<Figure size 576x360 with 1 Axes>"
      ]
     },
     "metadata": {
      "needs_background": "light"
     },
     "output_type": "display_data"
    }
   ],
   "source": [
    "plt.figure(figsize=(8, 5))\n",
    "\n",
    "for energy in [100, 300, 1000] * u.GeV:\n",
    "    psf_at_energy = psf_table.table_psf_at_energy(energy)\n",
    "    psf_at_energy.plot_psf_vs_rad(label=f\"PSF @ {energy:.0f}\", lw=2)\n",
    "\n",
    "energy_range = [50, 2000] * u.GeV\n",
    "spectrum = PowerLawSpectralModel(index=2.3)\n",
    "psf_mean = psf_table.table_psf_in_energy_range(\n",
    "    energy_range=energy_range, spectrum=spectrum\n",
    ")\n",
    "psf_mean.plot_psf_vs_rad(label=\"PSF Mean\", lw=4, c=\"k\", ls=\"--\")\n",
    "\n",
    "plt.xlim(1e-3, 0.3)\n",
    "plt.ylim(1e3, 1e6)\n",
    "plt.legend();"
   ]
  },
  {
   "cell_type": "code",
   "execution_count": 30,
   "metadata": {
    "execution": {
     "iopub.execute_input": "2021-01-15T09:11:13.580063Z",
     "iopub.status.busy": "2021-01-15T09:11:13.579520Z",
     "iopub.status.idle": "2021-01-15T09:11:13.588952Z",
     "shell.execute_reply": "2021-01-15T09:11:13.588237Z"
    }
   },
   "outputs": [],
   "source": [
    "# Let's compute a PSF kernel matching the pixel size of our map\n",
    "psf = PSFMap.from_energy_dependent_table_psf(psf_table)"
   ]
  },
  {
   "cell_type": "code",
   "execution_count": 31,
   "metadata": {
    "execution": {
     "iopub.execute_input": "2021-01-15T09:11:13.595824Z",
     "iopub.status.busy": "2021-01-15T09:11:13.592328Z",
     "iopub.status.idle": "2021-01-15T09:11:13.829341Z",
     "shell.execute_reply": "2021-01-15T09:11:13.830043Z"
    }
   },
   "outputs": [
    {
     "data": {
      "text/plain": [
       "(<Figure size 432x288 with 2 Axes>,\n",
       " <WCSAxesSubplot:xlabel='Galactic Longitude', ylabel='Galactic Latitude'>,\n",
       " <matplotlib.colorbar.Colorbar at 0x7fd6512dafd0>)"
      ]
     },
     "execution_count": 1,
     "metadata": {},
     "output_type": "execute_result"
    },
    {
     "data": {
      "image/png": "[encoded data removed]",
      "text/plain": [
       "<Figure size 432x288 with 2 Axes>"
      ]
     },
     "metadata": {
      "needs_background": "light"
     },
     "output_type": "display_data"
    }
   ],
   "source": [
    "psf_kernel = psf.get_psf_kernel(\n",
    "    position=geom.center_skydir, geom=geom, max_radius=\"1 deg\"\n",
    ")\n",
    "psf_kernel.psf_kernel_map.sum_over_axes().plot(stretch=\"log\", add_cbar=True);"
   ]
  },
  {
   "cell_type": "markdown",
   "metadata": {},
   "source": [
    "### Energy Dispersion\n",
    "For simplicity we assume a diagonal energy dispersion:"
   ]
  },
  {
   "cell_type": "code",
   "execution_count": 32,
   "metadata": {
    "execution": {
     "iopub.execute_input": "2021-01-15T09:11:13.833233Z",
     "iopub.status.busy": "2021-01-15T09:11:13.832223Z",
     "iopub.status.idle": "2021-01-15T09:11:13.841970Z",
     "shell.execute_reply": "2021-01-15T09:11:13.842652Z"
    }
   },
   "outputs": [],
   "source": [
    "e_true = exposure.geom.axes[\"energy_true\"]\n",
    "edisp = EDispMap.from_diagonal_response(energy_axis_true=e_true)"
   ]
  },
  {
   "cell_type": "markdown",
   "metadata": {},
   "source": [
    "## Fit\n",
    "Now, the big finale: let’s do a 3D map fit for the source at the Galactic center, to measure it’s position and spectrum. We keep the background normalization free."
   ]
  },
  {
   "cell_type": "code",
   "execution_count": 33,
   "metadata": {
    "execution": {
     "iopub.execute_input": "2021-01-15T09:11:13.846262Z",
     "iopub.status.busy": "2021-01-15T09:11:13.844919Z",
     "iopub.status.idle": "2021-01-15T09:11:13.874605Z",
     "shell.execute_reply": "2021-01-15T09:11:13.875318Z"
    }
   },
   "outputs": [],
   "source": [
    "spatial_model = PointSpatialModel(\n",
    "    lon_0=\"0 deg\", lat_0=\"0 deg\", frame=\"galactic\"\n",
    ")\n",
    "spectral_model = PowerLawSpectralModel(\n",
    "    index=2.7, amplitude=\"5.8e-10 cm-2 s-1 TeV-1\", reference=\"100 GeV\"\n",
    ")\n",
    "\n",
    "source = SkyModel(\n",
    "    spectral_model=spectral_model,\n",
    "    spatial_model=spatial_model,\n",
    "    name=\"source-gc\",\n",
    ")\n",
    "\n",
    "models = Models([source, diffuse_iem, diffuse_iso])\n",
    "\n",
    "dataset = MapDataset(\n",
    "    models=models, counts=counts, exposure=exposure, psf=psf, edisp=edisp\n",
    ")"
   ]
  },
  {
   "cell_type": "code",
   "execution_count": 34,
   "metadata": {
    "execution": {
     "iopub.execute_input": "2021-01-15T09:11:13.878748Z",
     "iopub.status.busy": "2021-01-15T09:11:13.877681Z",
     "iopub.status.idle": "2021-01-15T09:11:17.123494Z",
     "shell.execute_reply": "2021-01-15T09:11:17.124274Z"
    }
   },
   "outputs": [
    {
     "name": "stdout",
     "output_type": "stream",
     "text": [
      "CPU times: user 3.2 s, sys: 55.8 ms, total: 3.25 s\n",
      "Wall time: 3.24 s\n"
     ]
    }
   ],
   "source": [
    "%%time\n",
    "fit = Fit([dataset])\n",
    "result = fit.run()"
   ]
  },
  {
   "cell_type": "code",
   "execution_count": 35,
   "metadata": {
    "execution": {
     "iopub.execute_input": "2021-01-15T09:11:17.128227Z",
     "iopub.status.busy": "2021-01-15T09:11:17.127714Z",
     "iopub.status.idle": "2021-01-15T09:11:17.131742Z",
     "shell.execute_reply": "2021-01-15T09:11:17.131292Z"
    }
   },
   "outputs": [
    {
     "name": "stdout",
     "output_type": "stream",
     "text": [
      "OptimizeResult\n",
      "\n",
      "\tbackend    : minuit\n",
      "\tmethod     : minuit\n",
      "\tsuccess    : True\n",
      "\tmessage    : Optimization terminated successfully.\n",
      "\tnfev       : 204\n",
      "\ttotal stat : 19966.13\n",
      "\n"
     ]
    }
   ],
   "source": [
    "print(result)"
   ]
  },
  {
   "cell_type": "code",
   "execution_count": 36,
   "metadata": {
    "execution": {
     "iopub.execute_input": "2021-01-15T09:11:17.136787Z",
     "iopub.status.busy": "2021-01-15T09:11:17.135682Z",
     "iopub.status.idle": "2021-01-15T09:11:17.138003Z",
     "shell.execute_reply": "2021-01-15T09:11:17.138498Z"
    }
   },
   "outputs": [
    {
     "name": "stdout",
     "output_type": "stream",
     "text": [
      "Models\n",
      "\n",
      "Component 0: SkyModel\n",
      "\n",
      "  Name                      : source-gc\n",
      "  Datasets names            : None\n",
      "  Spectral model type       : PowerLawSpectralModel\n",
      "  Spatial  model type       : PointSpatialModel\n",
      "  Temporal model type       : \n",
      "  Parameters:\n",
      "    index                   :   2.602              \n",
      "    amplitude               :   6.61e-10  1 / (cm2 s TeV)\n",
      "    reference    (frozen)   :   0.100  TeV         \n",
      "    lon_0                   :  -0.025  deg         \n",
      "    lat_0                   :  -0.039  deg         \n",
      "\n",
      "Component 1: SkyModel\n",
      "\n",
      "  Name                      : diffuse-iem\n",
      "  Datasets names            : None\n",
      "  Spectral model type       : PowerLawNormSpectralModel\n",
      "  Spatial  model type       : TemplateSpatialModel\n",
      "  Temporal model type       : \n",
      "  Parameters:\n",
      "    norm                    :   0.961              \n",
      "    tilt         (frozen)   :   0.000              \n",
      "    reference    (frozen)   :   1.000  TeV         \n",
      "\n",
      "Component 2: SkyModel\n",
      "\n",
      "  Name                      : fermi-diffuse-iso\n",
      "  Datasets names            : None\n",
      "  Spectral model type       : CompoundSpectralModel\n",
      "  Spatial  model type       : ConstantSpatialModel\n",
      "  Temporal model type       : \n",
      "  Parameters:\n",
      "    norm                    :   5.306              \n",
      "    tilt         (frozen)   :   0.000              \n",
      "    reference    (frozen)   :   1.000  TeV         \n",
      "    value        (frozen)   :   1.000  1 / sr      \n",
      "\n",
      "\n"
     ]
    }
   ],
   "source": [
    "print(models)"
   ]
  },
  {
   "cell_type": "code",
   "execution_count": 37,
   "metadata": {
    "execution": {
     "iopub.execute_input": "2021-01-15T09:11:17.146333Z",
     "iopub.status.busy": "2021-01-15T09:11:17.145416Z",
     "iopub.status.idle": "2021-01-15T09:11:17.369946Z",
     "shell.execute_reply": "2021-01-15T09:11:17.370600Z"
    },
    "nbsphinx-thumbnail": {
     "tooltip": "Data inspection and preliminary analysis with Fermi-LAT data."
    }
   },
   "outputs": [
    {
     "name": "stderr",
     "output_type": "stream",
     "text": [
      "/usr/share/miniconda/envs/gammapy-dev/lib/python3.7/site-packages/astropy/visualization/wcsaxes/core.py:211: MatplotlibDeprecationWarning: Passing parameters norm and vmin/vmax simultaneously is deprecated since 3.3 and will become an error two minor releases later. Please pass vmin/vmax directly to the norm when creating it.\n",
      "  return super().imshow(X, *args, origin=origin, **kwargs)\n"
     ]
    },
    {
     "data": {
      "text/plain": [
       "(<Figure size 432x288 with 2 Axes>,\n",
       " <WCSAxesSubplot:xlabel='Galactic Longitude', ylabel='Galactic Latitude'>,\n",
       " <matplotlib.colorbar.Colorbar at 0x7fd6510b4908>)"
      ]
     },
     "execution_count": 1,
     "metadata": {},
     "output_type": "execute_result"
    },
    {
     "data": {
      "image/png": "[encoded data removed]",
      "text/plain": [
       "<Figure size 432x288 with 2 Axes>"
      ]
     },
     "metadata": {
      "needs_background": "light"
     },
     "output_type": "display_data"
    }
   ],
   "source": [
    "residual = counts - dataset.npred()\n",
    "residual.sum_over_axes().smooth(\"0.1 deg\").plot(\n",
    "    cmap=\"coolwarm\", vmin=-3, vmax=3, add_cbar=True\n",
    ");"
   ]
  },
  {
   "cell_type": "markdown",
   "metadata": {},
   "source": [
    "## Exercises\n",
    "\n",
    "- Fit the position and spectrum of the source [SNR G0.9+0.1](http://gamma-sky.net/#/cat/tev/110).\n",
    "- Make maps and fit the position and spectrum of the [Crab nebula](http://gamma-sky.net/#/cat/tev/25)."
   ]
  },
  {
   "cell_type": "markdown",
   "metadata": {},
   "source": [
    "## Summary\n",
    "\n",
    "In this tutorial you have seen how to work with Fermi-LAT data with Gammapy. You have to use the Fermi ST to prepare the exposure cube and PSF, and then you can use Gammapy for any event or map analysis using the same methods that are used to analyse IACT data.\n",
    "\n",
    "This works very well at high energies (here above 10 GeV), where the exposure and PSF is almost constant spatially and only varies a little with energy. It is not expected to give good results for low-energy data, where the Fermi-LAT PSF is very large. If you are interested to help us validate down to what energy Fermi-LAT analysis with Gammapy works well (e.g. by re-computing results from 3FHL or other published analysis results), or to extend the Gammapy capabilities (e.g. to work with energy-dependent multi-resolution maps and PSF), that would be very welcome!"
   ]
  }
 ],
 "metadata": {
  "kernelspec": {
   "display_name": "Python 3",
   "language": "python",
   "name": "python3"
  },
  "language_info": {
   "codemirror_mode": {
    "name": "ipython",
    "version": 3
   },
   "file_extension": ".py",
   "mimetype": "text/x-python",
   "name": "python",
   "nbconvert_exporter": "python",
   "pygments_lexer": "ipython3",
   "version": "3.7.0"
  },
  "latex_envs": {
   "LaTeX_envs_menu_present": true,
   "autoclose": false,
   "autocomplete": true,
   "bibliofile": "biblio.bib",
   "cite_by": "apalike",
   "current_citInitial": 1.0,
   "eqLabelWithNumbers": true,
   "eqNumInitial": 1.0,
   "hotkeys": {
    "equation": "Ctrl-E",
    "itemize": "Ctrl-I"
   },
   "labels_anchors": false,
   "latex_user_defs": false,
   "report_style_numbering": false,
   "user_envs_cfg": false
  },
  "nbsphinx": {
   "orphan": true
  },
  "toc": {
   "base_numbering": 1.0,
   "nav_menu": {
    "height": "237px",
    "width": "253px"
   },
   "number_sections": false,
   "sideBar": true,
   "skip_h1_title": false,
   "title_cell": "Table of Contents",
   "title_sidebar": "Contents",
   "toc_cell": false,
   "toc_position": {},
   "toc_section_display": "block",
   "toc_window_display": false
  },
  "varInspector": {
   "cols": {
    "lenName": 16.0,
    "lenType": 16.0,
    "lenVar": 40.0
   },
   "kernels_config": {
    "python": {
     "delete_cmd_postfix": "",
     "delete_cmd_prefix": "del ",
     "library": "var_list.py",
     "varRefreshCmd": "print(var_dic_list())"
    },
    "r": {
     "delete_cmd_postfix": ") ",
     "delete_cmd_prefix": "rm(",
     "library": "var_list.r",
     "varRefreshCmd": "cat(var_dic_list()) "
    }
   },
   "types_to_exclude": [
    "module",
    "function",
    "builtin_function_or_method",
    "instance",
    "_Feature"
   ],
   "window_display": false
  }
 },
 "nbformat": 4,
 "nbformat_minor": 4
}
