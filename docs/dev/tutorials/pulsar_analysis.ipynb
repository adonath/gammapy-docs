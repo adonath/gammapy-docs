{
 "cells": [
  {
   "cell_type": "markdown",
   "metadata": {},
   "source": [
    "\n",
    "<div class=\"alert alert-info\">\n",
    "\n",
    "**This is a fixed-text formatted version of a Jupyter notebook**\n",
    "\n",
    "- Try online [![Binder](https://static.mybinder.org/badge.svg)](https://mybinder.org/v2/gh/gammapy/gammapy-webpage/master?urlpath=lab/tree/pulsar_analysis.ipynb)\n",
    "- You may download all the notebooks in the documentation as a [tar file](../_downloads/notebooks-dev.tar).\n",
    "- **Source files:**\n",
    "[pulsar_analysis.ipynb](../_static/notebooks/pulsar_analysis.ipynb) |\n",
    "[pulsar_analysis.py](../_static/notebooks/pulsar_analysis.py)\n",
    "</div>\n"
   ]
  },
  {
   "cell_type": "markdown",
   "metadata": {},
   "source": [
    "# Pulsar analysis"
   ]
  },
  {
   "cell_type": "markdown",
   "metadata": {},
   "source": [
    "## Introduction"
   ]
  },
  {
   "cell_type": "markdown",
   "metadata": {},
   "source": [
    "This notebook shows how to do a pulsar analysis with Gammapy. It's based on a Vela simulation file from the CTA DC1, which already contains a column of phases. We will produce a phasogram, a phase-resolved map and a phase-resolved spectrum of the Vela pulsar using the class PhaseBackgroundEstimator. \n",
    "\n",
    "The phasing in itself is not done here, and it requires specific packages like Tempo2 or [PINT](https://nanograv-pint.readthedocs.io)."
   ]
  },
  {
   "cell_type": "markdown",
   "metadata": {},
   "source": [
    "## Opening the data"
   ]
  },
  {
   "cell_type": "markdown",
   "metadata": {},
   "source": [
    "Let's first do the imports and load the only observation containing Vela in the CTA 1DC dataset shipped with Gammapy."
   ]
  },
  {
   "cell_type": "code",
   "execution_count": 1,
   "metadata": {
    "execution": {
     "iopub.execute_input": "2021-02-06T17:57:48.479882Z",
     "iopub.status.busy": "2021-02-06T17:57:48.479233Z",
     "iopub.status.idle": "2021-02-06T17:57:48.781110Z",
     "shell.execute_reply": "2021-02-06T17:57:48.780199Z"
    }
   },
   "outputs": [],
   "source": [
    "%matplotlib inline\n",
    "import numpy as np\n",
    "import matplotlib.pyplot as plt"
   ]
  },
  {
   "cell_type": "code",
   "execution_count": 2,
   "metadata": {
    "execution": {
     "iopub.execute_input": "2021-02-06T17:57:48.786371Z",
     "iopub.status.busy": "2021-02-06T17:57:48.785812Z",
     "iopub.status.idle": "2021-02-06T17:57:49.891265Z",
     "shell.execute_reply": "2021-02-06T17:57:49.890677Z"
    }
   },
   "outputs": [],
   "source": [
    "from gammapy.utils.regions import SphericalCircleSkyRegion\n",
    "from astropy.coordinates import SkyCoord\n",
    "import astropy.units as u\n",
    "\n",
    "from gammapy.makers import (\n",
    "    SafeMaskMaker,\n",
    "    PhaseBackgroundMaker,\n",
    "    SpectrumDatasetMaker,\n",
    ")\n",
    "from gammapy.maps import Map, WcsGeom, MapAxis, RegionGeom\n",
    "from gammapy.data import DataStore\n",
    "from gammapy.datasets import Datasets, SpectrumDataset, FluxPointsDataset\n",
    "from gammapy.modeling.models import PowerLawSpectralModel, SkyModel\n",
    "from gammapy.modeling import Fit\n",
    "from gammapy.estimators import FluxPointsEstimator"
   ]
  },
  {
   "cell_type": "markdown",
   "metadata": {},
   "source": [
    "Load the data store (which is a subset of CTA-DC1 data):"
   ]
  },
  {
   "cell_type": "code",
   "execution_count": 3,
   "metadata": {
    "execution": {
     "iopub.execute_input": "2021-02-06T17:57:49.896410Z",
     "iopub.status.busy": "2021-02-06T17:57:49.895831Z",
     "iopub.status.idle": "2021-02-06T17:57:49.933373Z",
     "shell.execute_reply": "2021-02-06T17:57:49.933852Z"
    }
   },
   "outputs": [],
   "source": [
    "data_store = DataStore.from_dir(\"$GAMMAPY_DATA/cta-1dc/index/gps\")"
   ]
  },
  {
   "cell_type": "markdown",
   "metadata": {},
   "source": [
    "Define obsevation ID and print events:"
   ]
  },
  {
   "cell_type": "code",
   "execution_count": 4,
   "metadata": {
    "execution": {
     "iopub.execute_input": "2021-02-06T17:57:49.942395Z",
     "iopub.status.busy": "2021-02-06T17:57:49.941831Z",
     "iopub.status.idle": "2021-02-06T17:57:49.987951Z",
     "shell.execute_reply": "2021-02-06T17:57:49.988531Z"
    }
   },
   "outputs": [
    {
     "name": "stdout",
     "output_type": "stream",
     "text": [
      "EventList\n",
      "---------\n",
      "\n",
      "  Instrument       : None\n",
      "  Telescope        : CTA\n",
      "  Obs. ID          : 111630\n",
      "\n",
      "  Number of events : 101430\n",
      "  Event rate       : 56.350 1 / s\n",
      "\n",
      "  Time start       : 59300.833333333336\n",
      "  Time stop        : 59300.854166666664\n",
      "\n",
      "  Min. energy      : 3.00e-02 TeV\n",
      "  Max. energy      : 1.52e+02 TeV\n",
      "  Median energy    : 1.00e-01 TeV\n",
      "\n",
      "  Max. offset      : 5.0 deg\n",
      "\n"
     ]
    }
   ],
   "source": [
    "id_obs_vela = [111630]\n",
    "obs_list_vela = data_store.get_observations(id_obs_vela)\n",
    "print(obs_list_vela[0].events)"
   ]
  },
  {
   "cell_type": "markdown",
   "metadata": {},
   "source": [
    "Now that we have our observation, let's select the events in 0.2° radius around the pulsar position."
   ]
  },
  {
   "cell_type": "code",
   "execution_count": 5,
   "metadata": {
    "execution": {
     "iopub.execute_input": "2021-02-06T17:57:49.994545Z",
     "iopub.status.busy": "2021-02-06T17:57:49.993946Z",
     "iopub.status.idle": "2021-02-06T17:57:50.046387Z",
     "shell.execute_reply": "2021-02-06T17:57:50.045875Z"
    }
   },
   "outputs": [
    {
     "name": "stdout",
     "output_type": "stream",
     "text": [
      "EventList\n",
      "---------\n",
      "\n",
      "  Instrument       : None\n",
      "  Telescope        : CTA\n",
      "  Obs. ID          : 111630\n",
      "\n",
      "  Number of events : 843\n",
      "  Event rate       : 0.468 1 / s\n",
      "\n",
      "  Time start       : 59300.833333333336\n",
      "  Time stop        : 59300.854166666664\n",
      "\n",
      "  Min. energy      : 3.00e-02 TeV\n",
      "  Max. energy      : 4.33e+01 TeV\n",
      "  Median energy    : 1.07e-01 TeV\n",
      "\n",
      "  Max. offset      : 1.7 deg\n",
      "\n"
     ]
    }
   ],
   "source": [
    "pos_target = SkyCoord(ra=128.836 * u.deg, dec=-45.176 * u.deg, frame=\"icrs\")\n",
    "on_radius = 0.2 * u.deg\n",
    "on_region = SphericalCircleSkyRegion(pos_target, on_radius)\n",
    "\n",
    "# Apply angular selection\n",
    "events_vela = obs_list_vela[0].events.select_region(on_region)\n",
    "print(events_vela)"
   ]
  },
  {
   "cell_type": "markdown",
   "metadata": {},
   "source": [
    "Let's load the phases of the selected events in a dedicated array."
   ]
  },
  {
   "cell_type": "code",
   "execution_count": 6,
   "metadata": {
    "execution": {
     "iopub.execute_input": "2021-02-06T17:57:50.054030Z",
     "iopub.status.busy": "2021-02-06T17:57:50.053449Z",
     "iopub.status.idle": "2021-02-06T17:57:50.056699Z",
     "shell.execute_reply": "2021-02-06T17:57:50.057255Z"
    }
   },
   "outputs": [
    {
     "data": {
      "text/html": [
       "&lt;Column name=&apos;PHASE&apos; dtype=&apos;float32&apos; length=10&gt;\n",
       "<table>\n",
       "<tr><td>0.81847286</td></tr>\n",
       "<tr><td>0.45646095</td></tr>\n",
       "<tr><td>0.111507416</td></tr>\n",
       "<tr><td>0.43416595</td></tr>\n",
       "<tr><td>0.76837444</td></tr>\n",
       "<tr><td>0.3639946</td></tr>\n",
       "<tr><td>0.58693695</td></tr>\n",
       "<tr><td>0.51095676</td></tr>\n",
       "<tr><td>0.5606985</td></tr>\n",
       "<tr><td>0.2505703</td></tr>\n",
       "</table>"
      ],
      "text/plain": [
       "<Column name='PHASE' dtype='float32' length=10>\n",
       " 0.81847286\n",
       " 0.45646095\n",
       "0.111507416\n",
       " 0.43416595\n",
       " 0.76837444\n",
       "  0.3639946\n",
       " 0.58693695\n",
       " 0.51095676\n",
       "  0.5606985\n",
       "  0.2505703"
      ]
     },
     "execution_count": 1,
     "metadata": {},
     "output_type": "execute_result"
    }
   ],
   "source": [
    "phases = events_vela.table[\"PHASE\"]\n",
    "\n",
    "# Let's take a look at the first 10 phases\n",
    "phases[:10]"
   ]
  },
  {
   "cell_type": "markdown",
   "metadata": {},
   "source": [
    "## Phasogram"
   ]
  },
  {
   "cell_type": "markdown",
   "metadata": {},
   "source": [
    "Once we have the phases, we can make a phasogram. A phasogram is a histogram of phases and it works exactly like any other histogram (you can set the binning, evaluate the errors based on the counts in each bin, etc)."
   ]
  },
  {
   "cell_type": "code",
   "execution_count": 7,
   "metadata": {
    "execution": {
     "iopub.execute_input": "2021-02-06T17:57:50.062710Z",
     "iopub.status.busy": "2021-02-06T17:57:50.062089Z",
     "iopub.status.idle": "2021-02-06T17:57:50.067576Z",
     "shell.execute_reply": "2021-02-06T17:57:50.068115Z"
    }
   },
   "outputs": [],
   "source": [
    "nbins = 30\n",
    "phase_min, phase_max = (0, 1)\n",
    "values, bin_edges = np.histogram(\n",
    "    phases, range=(phase_min, phase_max), bins=nbins\n",
    ")\n",
    "bin_width = (phase_max - phase_min) / nbins\n",
    "\n",
    "bin_center = (bin_edges[:-1] + bin_edges[1:]) / 2\n",
    "\n",
    "\n",
    "# Poissonian uncertainty on each bin\n",
    "values_err = np.sqrt(values)"
   ]
  },
  {
   "cell_type": "code",
   "execution_count": 8,
   "metadata": {
    "execution": {
     "iopub.execute_input": "2021-02-06T17:57:50.094942Z",
     "iopub.status.busy": "2021-02-06T17:57:50.093863Z",
     "iopub.status.idle": "2021-02-06T17:57:50.276176Z",
     "shell.execute_reply": "2021-02-06T17:57:50.275569Z"
    },
    "nbsphinx-thumbnail": {
     "tooltip": "Produce a phasogram, phased-resolved maps and spectra in pulsar analysis."
    }
   },
   "outputs": [
    {
     "data": {
      "text/plain": [
       "Text(0.5, 1.0, 'Phasogram with angular cut of 0.2 deg')"
      ]
     },
     "execution_count": 1,
     "metadata": {},
     "output_type": "execute_result"
    },
    {
     "data": {
      "image/png": "[encoded data removed]",
      "text/plain": [
       "<Figure size 432x288 with 1 Axes>"
      ]
     },
     "metadata": {
      "needs_background": "light"
     },
     "output_type": "display_data"
    }
   ],
   "source": [
    "plt.bar(\n",
    "    x=bin_center,\n",
    "    height=values,\n",
    "    width=bin_width,\n",
    "    color=\"#d53d12\",\n",
    "    alpha=0.8,\n",
    "    edgecolor=\"black\",\n",
    "    yerr=values_err,\n",
    ")\n",
    "plt.xlim(0, 1)\n",
    "plt.xlabel(\"Phase\")\n",
    "plt.ylabel(\"Counts\")\n",
    "plt.title(f\"Phasogram with angular cut of {on_radius}\");"
   ]
  },
  {
   "cell_type": "markdown",
   "metadata": {},
   "source": [
    "Now let's add some fancy additions to our phasogram: a patch on the ON- and OFF-phase regions and one for the background level."
   ]
  },
  {
   "cell_type": "code",
   "execution_count": 9,
   "metadata": {
    "execution": {
     "iopub.execute_input": "2021-02-06T17:57:50.282909Z",
     "iopub.status.busy": "2021-02-06T17:57:50.281509Z",
     "iopub.status.idle": "2021-02-06T17:57:50.284219Z",
     "shell.execute_reply": "2021-02-06T17:57:50.284780Z"
    }
   },
   "outputs": [
    {
     "name": "stdout",
     "output_type": "stream",
     "text": [
      "Number of Off events: 234\n"
     ]
    }
   ],
   "source": [
    "# Evaluate background level\n",
    "off_phase_range = (0.7, 1.0)\n",
    "on_phase_range = (0.5, 0.6)\n",
    "\n",
    "mask_off = (off_phase_range[0] < phases) & (phases < off_phase_range[1])\n",
    "\n",
    "count_bkg = mask_off.sum()\n",
    "print(f\"Number of Off events: {count_bkg}\")"
   ]
  },
  {
   "cell_type": "code",
   "execution_count": 10,
   "metadata": {
    "execution": {
     "iopub.execute_input": "2021-02-06T17:57:50.290136Z",
     "iopub.status.busy": "2021-02-06T17:57:50.288699Z",
     "iopub.status.idle": "2021-02-06T17:57:50.290719Z",
     "shell.execute_reply": "2021-02-06T17:57:50.291291Z"
    }
   },
   "outputs": [],
   "source": [
    "# bkg level normalized by the size of the OFF zone (0.3)\n",
    "bkg = count_bkg / nbins / (off_phase_range[1] - off_phase_range[0])\n",
    "\n",
    "# error on the background estimation\n",
    "bkg_err = (\n",
    "    np.sqrt(count_bkg) / nbins / (off_phase_range[1] - off_phase_range[0])\n",
    ")"
   ]
  },
  {
   "cell_type": "code",
   "execution_count": 11,
   "metadata": {
    "execution": {
     "iopub.execute_input": "2021-02-06T17:57:50.322341Z",
     "iopub.status.busy": "2021-02-06T17:57:50.321713Z",
     "iopub.status.idle": "2021-02-06T17:57:50.518201Z",
     "shell.execute_reply": "2021-02-06T17:57:50.517686Z"
    }
   },
   "outputs": [
    {
     "data": {
      "text/plain": [
       "Text(0.5, 1.0, 'Phasogram with angular cut of 0.2 deg')"
      ]
     },
     "execution_count": 1,
     "metadata": {},
     "output_type": "execute_result"
    },
    {
     "data": {
      "image/png": "[encoded data removed]",
      "text/plain": [
       "<Figure size 432x288 with 1 Axes>"
      ]
     },
     "metadata": {
      "needs_background": "light"
     },
     "output_type": "display_data"
    }
   ],
   "source": [
    "# Let's redo the same plot for the basis\n",
    "plt.bar(\n",
    "    x=bin_center,\n",
    "    height=values,\n",
    "    width=bin_width,\n",
    "    color=\"#d53d12\",\n",
    "    alpha=0.8,\n",
    "    edgecolor=\"black\",\n",
    "    yerr=values_err,\n",
    ")\n",
    "\n",
    "# Plot background level\n",
    "x_bkg = np.linspace(0, 1, 50)\n",
    "\n",
    "kwargs = {\"color\": \"black\", \"alpha\": 0.5, \"ls\": \"--\", \"lw\": 2}\n",
    "\n",
    "plt.plot(x_bkg, (bkg - bkg_err) * np.ones_like(x_bkg), **kwargs)\n",
    "plt.plot(x_bkg, (bkg + bkg_err) * np.ones_like(x_bkg), **kwargs)\n",
    "\n",
    "plt.fill_between(\n",
    "    x_bkg, bkg - bkg_err, bkg + bkg_err, facecolor=\"grey\", alpha=0.5\n",
    ")  # grey area for the background level\n",
    "\n",
    "# Let's make patches for the on and off phase zones\n",
    "on_patch = plt.axvspan(\n",
    "    on_phase_range[0], on_phase_range[1], alpha=0.3, color=\"gray\", ec=\"black\"\n",
    ")\n",
    "\n",
    "off_patch = plt.axvspan(\n",
    "    off_phase_range[0],\n",
    "    off_phase_range[1],\n",
    "    alpha=0.4,\n",
    "    color=\"white\",\n",
    "    hatch=\"x\",\n",
    "    ec=\"black\",\n",
    ")\n",
    "\n",
    "# Legends \"ON\" and \"OFF\"\n",
    "plt.text(0.55, 5, \"ON\", color=\"black\", fontsize=17, ha=\"center\")\n",
    "plt.text(0.895, 5, \"OFF\", color=\"black\", fontsize=17, ha=\"center\")\n",
    "plt.xlabel(\"Phase\")\n",
    "plt.ylabel(\"Counts\")\n",
    "plt.xlim(0, 1)\n",
    "plt.title(f\"Phasogram with angular cut of {on_radius}\");"
   ]
  },
  {
   "cell_type": "markdown",
   "metadata": {},
   "source": [
    "## Phase-resolved map"
   ]
  },
  {
   "cell_type": "markdown",
   "metadata": {},
   "source": [
    "Now that the phases are computed, we want to do a phase-resolved sky map : a map of the ON-phase events minus alpha times the OFF-phase events. Alpha is the ratio between the size of the ON-phase zone (here 0.1) and the OFF-phase zone (0.3).\n",
    "It's a map of the excess events in phase, which are the pulsed events."
   ]
  },
  {
   "cell_type": "code",
   "execution_count": 12,
   "metadata": {
    "execution": {
     "iopub.execute_input": "2021-02-06T17:57:50.525536Z",
     "iopub.status.busy": "2021-02-06T17:57:50.524976Z",
     "iopub.status.idle": "2021-02-06T17:57:50.528570Z",
     "shell.execute_reply": "2021-02-06T17:57:50.527990Z"
    }
   },
   "outputs": [],
   "source": [
    "geom = WcsGeom.create(binsz=0.02 * u.deg, skydir=pos_target, width=\"5 deg\")"
   ]
  },
  {
   "cell_type": "markdown",
   "metadata": {},
   "source": [
    " Let's create an ON-map and an OFF-map:"
   ]
  },
  {
   "cell_type": "code",
   "execution_count": 13,
   "metadata": {
    "execution": {
     "iopub.execute_input": "2021-02-06T17:57:50.533460Z",
     "iopub.status.busy": "2021-02-06T17:57:50.532893Z",
     "iopub.status.idle": "2021-02-06T17:57:50.536814Z",
     "shell.execute_reply": "2021-02-06T17:57:50.536229Z"
    }
   },
   "outputs": [],
   "source": [
    "on_map = Map.from_geom(geom)\n",
    "off_map = Map.from_geom(geom)\n",
    "\n",
    "events_vela_on = events_vela.select_parameter(\"PHASE\", on_phase_range)\n",
    "events_vela_off = events_vela.select_parameter(\"PHASE\", off_phase_range)"
   ]
  },
  {
   "cell_type": "code",
   "execution_count": 14,
   "metadata": {
    "execution": {
     "iopub.execute_input": "2021-02-06T17:57:50.542198Z",
     "iopub.status.busy": "2021-02-06T17:57:50.541640Z",
     "iopub.status.idle": "2021-02-06T17:57:51.178862Z",
     "shell.execute_reply": "2021-02-06T17:57:51.178207Z"
    }
   },
   "outputs": [
    {
     "data": {
      "text/plain": [
       "(<Figure size 432x288 with 2 Axes>,\n",
       " <WCSAxesSubplot:xlabel='Right Ascension', ylabel='Declination'>,\n",
       " <matplotlib.colorbar.Colorbar at 0x7f6e69a0c438>)"
      ]
     },
     "execution_count": 1,
     "metadata": {},
     "output_type": "execute_result"
    },
    {
     "data": {
      "image/png": "[encoded data removed]",
      "text/plain": [
       "<Figure size 432x288 with 2 Axes>"
      ]
     },
     "metadata": {
      "needs_background": "light"
     },
     "output_type": "display_data"
    }
   ],
   "source": [
    "on_map.fill_events(events_vela_on)\n",
    "off_map.fill_events(events_vela_off)\n",
    "\n",
    "# Defining alpha as the ratio of the ON and OFF phase zones\n",
    "alpha = (on_phase_range[1] - on_phase_range[0]) / (\n",
    "    off_phase_range[1] - off_phase_range[0]\n",
    ")\n",
    "\n",
    "# Create and fill excess map\n",
    "# The pulsed events are the difference between the ON-phase count and alpha times the OFF-phase count\n",
    "excess_map = on_map - off_map * alpha\n",
    "\n",
    "# Plot excess map\n",
    "excess_map.smooth(kernel=\"gauss\", width=0.2 * u.deg).plot(add_cbar=True);"
   ]
  },
  {
   "cell_type": "markdown",
   "metadata": {},
   "source": [
    "## Phase-resolved spectrum"
   ]
  },
  {
   "cell_type": "markdown",
   "metadata": {},
   "source": [
    "We can also do a phase-resolved spectrum. In order to do that, there is the class PhaseBackgroundMaker. In a phase-resolved analysis, the background is estimated in the same sky region but in the OFF-phase zone."
   ]
  },
  {
   "cell_type": "code",
   "execution_count": 15,
   "metadata": {
    "execution": {
     "iopub.execute_input": "2021-02-06T17:57:51.188244Z",
     "iopub.status.busy": "2021-02-06T17:57:51.187538Z",
     "iopub.status.idle": "2021-02-06T17:57:51.746269Z",
     "shell.execute_reply": "2021-02-06T17:57:51.745662Z"
    }
   },
   "outputs": [
    {
     "name": "stderr",
     "output_type": "stream",
     "text": [
      "Invalid unit found in background table! Assuming (s-1 MeV-1 sr-1)\n",
      "Invalid unit found in background table! Assuming (s-1 MeV-1 sr-1)\n",
      "Invalid unit found in background table! Assuming (s-1 MeV-1 sr-1)\n",
      "No thresholds defined for obs 111630\n"
     ]
    }
   ],
   "source": [
    "e_true = MapAxis.from_energy_bounds(\n",
    "    0.003, 10, 100, unit=\"TeV\", name=\"energy_true\"\n",
    ")\n",
    "e_reco = MapAxis.from_energy_bounds(0.01, 10, 30, unit=\"TeV\", name=\"energy\")\n",
    "\n",
    "\n",
    "geom = RegionGeom.create(region=on_region, axes=[e_reco])\n",
    "\n",
    "dataset_empty = SpectrumDataset.create(geom=geom, energy_axis_true=e_true)\n",
    "\n",
    "dataset_maker = SpectrumDatasetMaker()\n",
    "phase_bkg_maker = PhaseBackgroundMaker(\n",
    "    on_phase=on_phase_range, off_phase=off_phase_range\n",
    ")\n",
    "safe_mask_maker = SafeMaskMaker(\n",
    "    methods=[\"aeff-default\", \"edisp-bias\"], bias_percent=20\n",
    ")\n",
    "\n",
    "datasets = []\n",
    "\n",
    "for obs in obs_list_vela:\n",
    "    dataset = dataset_maker.run(dataset_empty, obs)\n",
    "    dataset_on_off = phase_bkg_maker.run(dataset, obs)\n",
    "    dataset_on_off = safe_mask_maker.run(dataset_on_off, obs)\n",
    "    datasets.append(dataset_on_off)"
   ]
  },
  {
   "cell_type": "markdown",
   "metadata": {},
   "source": [
    "Now let's a look at the datasets we just created:"
   ]
  },
  {
   "cell_type": "code",
   "execution_count": 16,
   "metadata": {
    "execution": {
     "iopub.execute_input": "2021-02-06T17:57:51.764941Z",
     "iopub.status.busy": "2021-02-06T17:57:51.750913Z",
     "iopub.status.idle": "2021-02-06T17:57:53.681124Z",
     "shell.execute_reply": "2021-02-06T17:57:53.680583Z"
    }
   },
   "outputs": [
    {
     "name": "stderr",
     "output_type": "stream",
     "text": [
      "/home/runner/work/gammapy-docs/gammapy-docs/gammapy/gammapy/irf/edisp_kernel.py:525: MatplotlibDeprecationWarning: Passing parameters norm and vmin/vmax simultaneously is deprecated since 3.3 and will become an error two minor releases later. Please pass vmin/vmax directly to the norm when creating it.\n",
      "  caxes = ax.pcolormesh(energy_true.value, energy.value, self.data.T, **kwargs)\n"
     ]
    },
    {
     "data": {
      "text/plain": [
       "(<AxesSubplot:title={'center':'Counts'}, xlabel='Energy [TeV]'>,\n",
       " <AxesSubplot:title={'center':'Exposure'}, xlabel='Energy_true [TeV]', ylabel='Data [m2 s]'>,\n",
       " <AxesSubplot:title={'center':'Energy Dispersion'}, xlabel='$E_\\\\mathrm{True}$ [TeV]', ylabel='$E_\\\\mathrm{Reco}$ [TeV]'>)"
      ]
     },
     "execution_count": 1,
     "metadata": {},
     "output_type": "execute_result"
    },
    {
     "data": {
      "image/png": "[encoded data removed]",
      "text/plain": [
       "<Figure size 1152x288 with 3 Axes>"
      ]
     },
     "metadata": {
      "needs_background": "light"
     },
     "output_type": "display_data"
    }
   ],
   "source": [
    "datasets[0].peek()"
   ]
  },
  {
   "cell_type": "markdown",
   "metadata": {},
   "source": [
    "Now we'll fit a model to the spectrum with the `Fit` class. First we load a power law model with an initial value for the index and the amplitude and then wo do a likelihood fit. The fit results are printed below."
   ]
  },
  {
   "cell_type": "code",
   "execution_count": 17,
   "metadata": {
    "execution": {
     "iopub.execute_input": "2021-02-06T17:57:53.694853Z",
     "iopub.status.busy": "2021-02-06T17:57:53.693442Z",
     "iopub.status.idle": "2021-02-06T17:57:54.416482Z",
     "shell.execute_reply": "2021-02-06T17:57:54.415563Z"
    }
   },
   "outputs": [
    {
     "name": "stdout",
     "output_type": "stream",
     "text": [
      "OptimizeResult\n",
      "\n",
      "\tbackend    : minuit\n",
      "\tmethod     : minuit\n",
      "\tsuccess    : True\n",
      "\tmessage    : Optimization terminated successfully.\n",
      "\tnfev       : 101\n",
      "\ttotal stat : 7.07\n",
      "\n"
     ]
    }
   ],
   "source": [
    "spectral_model = PowerLawSpectralModel(\n",
    "    index=4, amplitude=\"1.3e-9 cm-2 s-1 TeV-1\", reference=\"0.02 TeV\"\n",
    ")\n",
    "model = SkyModel(spectral_model=spectral_model, name=\"vela psr\")\n",
    "emin_fit, emax_fit = (0.04 * u.TeV, 0.4 * u.TeV)\n",
    "\n",
    "mask_fit = geom.energy_mask(energy_min=emin_fit, energy_max=emax_fit)\n",
    "\n",
    "for dataset in datasets:\n",
    "    dataset.models = model\n",
    "    dataset.mask_fit = mask_fit\n",
    "\n",
    "joint_fit = Fit(datasets)\n",
    "joint_result = joint_fit.run()\n",
    "\n",
    "print(joint_result)"
   ]
  },
  {
   "cell_type": "markdown",
   "metadata": {},
   "source": [
    "Now you might want to do the stacking here even if in our case there is only one observation which makes it superfluous.\n",
    "We can compute flux points by fitting the norm of the global model in energy bands."
   ]
  },
  {
   "cell_type": "code",
   "execution_count": 18,
   "metadata": {
    "execution": {
     "iopub.execute_input": "2021-02-06T17:57:54.436048Z",
     "iopub.status.busy": "2021-02-06T17:57:54.425785Z",
     "iopub.status.idle": "2021-02-06T17:57:57.818303Z",
     "shell.execute_reply": "2021-02-06T17:57:57.817771Z"
    }
   },
   "outputs": [],
   "source": [
    "energy_edges = np.logspace(np.log10(0.04), np.log10(0.4), 7) * u.TeV\n",
    "\n",
    "dataset = Datasets(datasets).stack_reduce()\n",
    "\n",
    "dataset.models = model\n",
    "\n",
    "fpe = FluxPointsEstimator(energy_edges=energy_edges, source=\"vela psr\")\n",
    "\n",
    "flux_points = fpe.run(datasets=[dataset])\n",
    "flux_points.table[\"is_ul\"] = flux_points.table[\"ts\"] < 1\n",
    "\n",
    "amplitude_ref = 0.57 * 19.4e-14 * u.Unit(\"1 / (cm2 s MeV)\")\n",
    "spec_model_true = PowerLawSpectralModel(\n",
    "    index=4.5, amplitude=amplitude_ref, reference=\"20 GeV\"\n",
    ")\n",
    "\n",
    "flux_points_dataset = FluxPointsDataset(data=flux_points, models=model)"
   ]
  },
  {
   "cell_type": "markdown",
   "metadata": {},
   "source": [
    "Now we can plot."
   ]
  },
  {
   "cell_type": "code",
   "execution_count": 19,
   "metadata": {
    "execution": {
     "iopub.execute_input": "2021-02-06T17:57:57.857848Z",
     "iopub.status.busy": "2021-02-06T17:57:57.855696Z",
     "iopub.status.idle": "2021-02-06T17:57:58.936463Z",
     "shell.execute_reply": "2021-02-06T17:57:58.937342Z"
    }
   },
   "outputs": [
    {
     "name": "stderr",
     "output_type": "stream",
     "text": [
      "/home/runner/work/gammapy-docs/gammapy-docs/gammapy/gammapy/estimators/flux_point.py:667: MatplotlibDeprecationWarning: The 'nonposx' parameter of __init__() has been renamed 'nonpositive' since Matplotlib 3.3; support for the old name will be dropped two minor releases later.\n",
      "  ax.set_xscale(\"log\", nonposx=\"clip\")\n",
      "/home/runner/work/gammapy-docs/gammapy-docs/gammapy/gammapy/estimators/flux_point.py:668: MatplotlibDeprecationWarning: The 'nonposy' parameter of __init__() has been renamed 'nonpositive' since Matplotlib 3.3; support for the old name will be dropped two minor releases later.\n",
      "  ax.set_yscale(\"log\", nonposy=\"clip\")\n",
      "/home/runner/work/gammapy-docs/gammapy-docs/gammapy/gammapy/modeling/models/spectral.py:386: MatplotlibDeprecationWarning: The 'nonposx' parameter of __init__() has been renamed 'nonpositive' since Matplotlib 3.3; support for the old name will be dropped two minor releases later.\n",
      "  ax.set_xscale(\"log\", nonposx=\"clip\")\n",
      "/home/runner/work/gammapy-docs/gammapy-docs/gammapy/gammapy/modeling/models/spectral.py:387: MatplotlibDeprecationWarning: The 'nonposy' parameter of __init__() has been renamed 'nonpositive' since Matplotlib 3.3; support for the old name will be dropped two minor releases later.\n",
      "  ax.set_yscale(\"log\", nonposy=\"clip\")\n",
      "/home/runner/work/gammapy-docs/gammapy-docs/gammapy/gammapy/modeling/models/spectral.py:386: MatplotlibDeprecationWarning: The 'nonposx' parameter of __init__() has been renamed 'nonpositive' since Matplotlib 3.3; support for the old name will be dropped two minor releases later.\n",
      "  ax.set_xscale(\"log\", nonposx=\"clip\")\n",
      "/home/runner/work/gammapy-docs/gammapy-docs/gammapy/gammapy/modeling/models/spectral.py:387: MatplotlibDeprecationWarning: The 'nonposy' parameter of __init__() has been renamed 'nonpositive' since Matplotlib 3.3; support for the old name will be dropped two minor releases later.\n",
      "  ax.set_yscale(\"log\", nonposy=\"clip\")\n"
     ]
    },
    {
     "data": {
      "text/plain": [
       "<matplotlib.legend.Legend at 0x7f6e697bf1d0>"
      ]
     },
     "execution_count": 1,
     "metadata": {},
     "output_type": "execute_result"
    },
    {
     "data": {
      "image/png": "[encoded data removed]",
      "text/plain": [
       "<Figure size 576x504 with 2 Axes>"
      ]
     },
     "metadata": {
      "needs_background": "light"
     },
     "output_type": "display_data"
    }
   ],
   "source": [
    "ax_spectrum, ax_residuals = flux_points_dataset.plot_fit()\n",
    "\n",
    "ax_spectrum.set_ylim([1e-14, 3e-11])\n",
    "ax_residuals.set_ylim([-1.7, 1.7])\n",
    "\n",
    "spec_model_true.plot(\n",
    "    ax=ax_spectrum,\n",
    "    energy_range=(emin_fit, emax_fit),\n",
    "    label=\"Reference model\",\n",
    "    c=\"black\",\n",
    "    linestyle=\"dashed\",\n",
    "    energy_power=2,\n",
    ")\n",
    "\n",
    "ax_spectrum.legend(loc=\"best\")"
   ]
  },
  {
   "cell_type": "markdown",
   "metadata": {},
   "source": [
    "This tutorial suffers a bit from the lack of statistics: there were 9 Vela observations in the CTA DC1 while there is only one here. When done on the 9 observations, the spectral analysis is much better agreement between the input model and the gammapy fit."
   ]
  },
  {
   "cell_type": "code",
   "execution_count": null,
   "metadata": {},
   "outputs": [],
   "source": []
  }
 ],
 "metadata": {
  "kernelspec": {
   "display_name": "Python 3",
   "language": "python",
   "name": "python3"
  },
  "language_info": {
   "codemirror_mode": {
    "name": "ipython",
    "version": 3
   },
   "file_extension": ".py",
   "mimetype": "text/x-python",
   "name": "python",
   "nbconvert_exporter": "python",
   "pygments_lexer": "ipython3",
   "version": "3.7.0"
  },
  "nbsphinx": {
   "orphan": true
  }
 },
 "nbformat": 4,
 "nbformat_minor": 2
}
