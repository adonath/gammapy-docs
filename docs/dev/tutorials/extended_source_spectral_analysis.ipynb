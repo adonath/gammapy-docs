{
 "cells": [
  {
   "cell_type": "markdown",
   "metadata": {},
   "source": [
    "\n",
    "<div class=\"alert alert-info\">\n",
    "\n",
    "**This is a fixed-text formatted version of a Jupyter notebook**\n",
    "\n",
    "- Try online [![Binder](https://static.mybinder.org/badge.svg)](https://mybinder.org/v2/gh/gammapy/gammapy-webpage/master?urlpath=lab/tree/extended_source_spectral_analysis.ipynb)\n",
    "- You can contribute with your own notebooks in this\n",
    "[GitHub repository](https://github.com/gammapy/gammapy/tree/master/docs/tutorials).\n",
    "- **Source files:**\n",
    "[extended_source_spectral_analysis.ipynb](../_static/notebooks/extended_source_spectral_analysis.ipynb) |\n",
    "[extended_source_spectral_analysis.py](../_static/notebooks/extended_source_spectral_analysis.py)\n",
    "</div>\n"
   ]
  },
  {
   "cell_type": "markdown",
   "metadata": {},
   "source": [
    "# Spectral analysis of extended sources\n",
    "\n",
    "## Prerequisites:\n",
    "\n",
    "- Understanding of spectral analysis techniques in classical Cherenkov astronomy.\n",
    "- Understanding of how the spectrum and cube extraction API works, please refer to the [spectrum extraction notebook](spectrum_analysis.ipynb) and to the [3D analysis notebook](analysis_2.ipynb).\n",
    "\n",
    "## Context\n",
    "\n",
    "Many VHE sources in the Galaxy are extended. Studying them with a 1D spectral analysis is more complex than studying point sources. \n",
    "One often has to use complex (i.e. non circular) regions and more importantly, one has to take into account the fact that the instrument response is non uniform over the selectred region.\n",
    "A typical example is given by the supernova remnant RX J1713-3935 which is nearly 1 degree in diameter. See the [following article](https://ui.adsabs.harvard.edu/abs/2018A%26A...612A...6H/abstract).\n",
    "\n",
    "**Objective: Measure the spectrum of RX J1713-3945 in a 1 degree region fully enclosing it.**\n",
    "\n",
    "## Proposed approach:\n",
    "\n",
    "We have seen in the general presentation of the spectrum extraction for point sources, see [the corresponding notebook](spectrum_analysis.ipynb), that Gammapy uses specific datasets makers to first produce reduced spectral data and then to extract OFF measurements with reflected background techniques: the `~gammapy.makers.SpectrumDatasetMaker` and the `~gammapy.makers.ReflectedRegionsBackgroundMaker`. The former simply computes the reduced IRF at the center of the ON region (assumed to be circular).\n",
    "\n",
    "This is no longer valid for extended sources. To be able to compute average responses in the ON region, Gammapy relies on the creation of a cube enclosing it (i.e. a `~gammapy.datasets.MapDataset`) which can be reduced to a simple spectrum (i.e. a `~gammapy.datasets.SpectrumDataset`). We can then proceed with the OFF extraction as the standard point source case.\n",
    "\n",
    "In summary, we have to:\n",
    "\n",
    "- Define an ON region (a `~regions.SkyRegion`) fully enclosing the source we want to study.\n",
    "- Define a geometry that fully contains the region and that covers the required energy range (beware in particular, the true energy range).  \n",
    "- Create the necessary makers : \n",
    "    - the map dataset maker : `~gammapy.makers.MapDatasetMaker`\n",
    "    - the OFF background maker, here a `~gammapy.makers.ReflectedRegionsBackgroundMaker`\n",
    "    - and usually the safe range maker : `~gammapy.makers.SafeRangeMaker`\n",
    "- Perform the data reduction loop. And for every observation:\n",
    "    - Produce a map dataset and squeeze it to a spectrum dataset with `~gammapy.datasets.MapDataset.to_spectrum_dataset(on_region)`\n",
    "    - Extract the OFF data to produce a `~gammapy.datasets.SpectrumDatasetOnOff` and compute a safe range for it.\n",
    "    - Stack or store the resulting spectrum dataset.\n",
    "- Finally proceed with model fitting on the dataset as usual.\n",
    "\n",
    "Here, we will use the RX J1713-3945 observations from the H.E.S.S. first public test data release. The tutorial is implemented with the intermediate level API.\n",
    "\n",
    "## Setup \n",
    "\n",
    "As usual, we'll start with some general imports..."
   ]
  },
  {
   "cell_type": "code",
   "execution_count": 1,
   "metadata": {
    "execution": {
     "iopub.execute_input": "2020-10-06T19:55:43.871898Z",
     "iopub.status.busy": "2020-10-06T19:55:43.871119Z",
     "iopub.status.idle": "2020-10-06T19:55:44.106491Z",
     "shell.execute_reply": "2020-10-06T19:55:44.105798Z"
    }
   },
   "outputs": [],
   "source": [
    "%matplotlib inline\n",
    "import matplotlib.pyplot as plt"
   ]
  },
  {
   "cell_type": "code",
   "execution_count": 2,
   "metadata": {
    "execution": {
     "iopub.execute_input": "2020-10-06T19:55:44.110696Z",
     "iopub.status.busy": "2020-10-06T19:55:44.109746Z",
     "iopub.status.idle": "2020-10-06T19:55:44.976796Z",
     "shell.execute_reply": "2020-10-06T19:55:44.976225Z"
    }
   },
   "outputs": [],
   "source": [
    "import astropy.units as u\n",
    "from astropy.coordinates import SkyCoord, Angle\n",
    "from regions import CircleSkyRegion\n",
    "from gammapy.maps import Map, MapAxis, WcsGeom\n",
    "from gammapy.modeling import Fit\n",
    "from gammapy.data import DataStore\n",
    "from gammapy.modeling.models import PowerLawSpectralModel, SkyModel\n",
    "from gammapy.datasets import Datasets, MapDataset\n",
    "from gammapy.makers import (\n",
    "    SafeMaskMaker,\n",
    "    MapDatasetMaker,\n",
    "    ReflectedRegionsBackgroundMaker,\n",
    ")"
   ]
  },
  {
   "cell_type": "markdown",
   "metadata": {},
   "source": [
    "## Select the data\n",
    "\n",
    "We first set the datastore and retrieve a few observations from our source."
   ]
  },
  {
   "cell_type": "code",
   "execution_count": 3,
   "metadata": {
    "execution": {
     "iopub.execute_input": "2020-10-06T19:55:44.981356Z",
     "iopub.status.busy": "2020-10-06T19:55:44.980769Z",
     "iopub.status.idle": "2020-10-06T19:55:45.020178Z",
     "shell.execute_reply": "2020-10-06T19:55:45.019207Z"
    }
   },
   "outputs": [],
   "source": [
    "datastore = DataStore.from_dir(\"$GAMMAPY_DATA/hess-dl3-dr1/\")\n",
    "obs_ids = [20326, 20327, 20349, 20350, 20396, 20397]\n",
    "# In case you want to use all RX J1713 data in the HESS DR1\n",
    "# other_ids=[20421, 20422, 20517, 20518, 20519, 20521, 20898, 20899, 20900]\n",
    "\n",
    "observations = datastore.get_observations(obs_ids)"
   ]
  },
  {
   "cell_type": "markdown",
   "metadata": {},
   "source": [
    "## Prepare the datasets creation"
   ]
  },
  {
   "cell_type": "markdown",
   "metadata": {},
   "source": [
    "### Select the ON region\n",
    "\n",
    "Here we take a simple 1 degree circular region because it fits well with the morphology of RX J1713-3945. More complex regions could be used e.g. `~regions.EllipseSkyRegion` or `~regions.RectangleSkyRegion`."
   ]
  },
  {
   "cell_type": "code",
   "execution_count": 4,
   "metadata": {
    "execution": {
     "iopub.execute_input": "2020-10-06T19:55:45.026768Z",
     "iopub.status.busy": "2020-10-06T19:55:45.026355Z",
     "iopub.status.idle": "2020-10-06T19:55:45.027114Z",
     "shell.execute_reply": "2020-10-06T19:55:45.027599Z"
    }
   },
   "outputs": [],
   "source": [
    "target_position = SkyCoord(347.3, -0.5, unit=\"deg\", frame=\"galactic\")\n",
    "radius = Angle(\"0.5 deg\")\n",
    "on_region = CircleSkyRegion(target_position, radius)"
   ]
  },
  {
   "cell_type": "markdown",
   "metadata": {},
   "source": [
    "### Define the geometries\n",
    "\n",
    "This part is especially important. \n",
    "- We have to define first energy axes. They define the axes of the resulting `~gammapy.datasets.SpectrumDatasetOnOff`. In particular, we have to be careful to the true energy axis: it has to cover a larger range than the reconstructed energy one.\n",
    "- Then we define the geometry itself. It does not need to be very finely binned and should enclose all the ON region. To limit CPU and memory usage, one should avoid using a much larger region."
   ]
  },
  {
   "cell_type": "code",
   "execution_count": 5,
   "metadata": {
    "execution": {
     "iopub.execute_input": "2020-10-06T19:55:45.033909Z",
     "iopub.status.busy": "2020-10-06T19:55:45.032875Z",
     "iopub.status.idle": "2020-10-06T19:55:45.034345Z",
     "shell.execute_reply": "2020-10-06T19:55:45.034699Z"
    }
   },
   "outputs": [],
   "source": [
    "# The binning of the final spectrum is defined here.\n",
    "energy_axis = MapAxis.from_energy_bounds(0.3, 40.0, 10, unit=\"TeV\")\n",
    "\n",
    "# Reduced IRFs are defined in true energy (i.e. not measured energy).\n",
    "energy_axis_true = MapAxis.from_energy_bounds(\n",
    "    0.05, 100, 30, unit=\"TeV\", name=\"energy_true\"\n",
    ")\n",
    "\n",
    "# Here we use 1.5 degree which is slightly larger than needed.\n",
    "geom = WcsGeom.create(\n",
    "    skydir=target_position,\n",
    "    binsz=0.04,\n",
    "    width=(1.5, 1.5),\n",
    "    frame=\"galactic\",\n",
    "    proj=\"CAR\",\n",
    "    axes=[energy_axis],\n",
    ")"
   ]
  },
  {
   "cell_type": "markdown",
   "metadata": {},
   "source": [
    "### Create the makers\n",
    "\n",
    "First we instantiate the target `~gammapy.datasets.MapDataset`.  "
   ]
  },
  {
   "cell_type": "code",
   "execution_count": 6,
   "metadata": {
    "execution": {
     "iopub.execute_input": "2020-10-06T19:55:45.038413Z",
     "iopub.status.busy": "2020-10-06T19:55:45.037659Z",
     "iopub.status.idle": "2020-10-06T19:55:45.047864Z",
     "shell.execute_reply": "2020-10-06T19:55:45.047419Z"
    }
   },
   "outputs": [],
   "source": [
    "stacked = MapDataset.create(\n",
    "    geom=geom, energy_axis_true=energy_axis_true, name=\"rxj-stacked\"\n",
    ")"
   ]
  },
  {
   "cell_type": "markdown",
   "metadata": {},
   "source": [
    "Now we create its associated maker. Here we need to produce, counts, exposure and edisp (energy dispersion) entries. PSF and IRF background are not needed, therefore we don't compute them."
   ]
  },
  {
   "cell_type": "code",
   "execution_count": 7,
   "metadata": {
    "execution": {
     "iopub.execute_input": "2020-10-06T19:55:45.051012Z",
     "iopub.status.busy": "2020-10-06T19:55:45.050656Z",
     "iopub.status.idle": "2020-10-06T19:55:45.052340Z",
     "shell.execute_reply": "2020-10-06T19:55:45.052026Z"
    }
   },
   "outputs": [],
   "source": [
    "maker = MapDatasetMaker(selection=[\"counts\", \"exposure\", \"edisp\"])"
   ]
  },
  {
   "cell_type": "markdown",
   "metadata": {},
   "source": [
    "Now we create the OFF background maker for the spectra. If we have an exclusion region, we have to pass it here. We also define the safe range maker."
   ]
  },
  {
   "cell_type": "code",
   "execution_count": 8,
   "metadata": {
    "execution": {
     "iopub.execute_input": "2020-10-06T19:55:45.056513Z",
     "iopub.status.busy": "2020-10-06T19:55:45.055770Z",
     "iopub.status.idle": "2020-10-06T19:55:45.057459Z",
     "shell.execute_reply": "2020-10-06T19:55:45.057775Z"
    }
   },
   "outputs": [],
   "source": [
    "bkg_maker = ReflectedRegionsBackgroundMaker()\n",
    "safe_mask_maker = SafeMaskMaker(\n",
    "    methods=[\"aeff-default\", \"aeff-max\"], aeff_percent=10\n",
    ")"
   ]
  },
  {
   "cell_type": "markdown",
   "metadata": {},
   "source": [
    "## Perform the data reduction loop.\n",
    "\n",
    "We can now run over selected observations. For each of them, we:\n",
    "- create the map dataset and stack it on our target dataset.\n",
    "- squeeze the map dataset to a spectral dataset in the ON region\n",
    "- Compute the OFF and create a `~gammapy.datasets.SpectrumDatasetOnOff` object\n",
    "- Run the safe mask maker on it\n",
    "- Add the `~gammapy.datasets.SpectrumDatasetOnOff` to the list."
   ]
  },
  {
   "cell_type": "code",
   "execution_count": 9,
   "metadata": {
    "execution": {
     "iopub.execute_input": "2020-10-06T19:55:45.062435Z",
     "iopub.status.busy": "2020-10-06T19:55:45.061953Z",
     "iopub.status.idle": "2020-10-06T19:55:48.511764Z",
     "shell.execute_reply": "2020-10-06T19:55:48.512193Z"
    }
   },
   "outputs": [
    {
     "name": "stderr",
     "output_type": "stream",
     "text": [
      "No background model defined for dataset rxj-stacked\n",
      "No background model defined for dataset rxj-stacked\n",
      "No background model defined for dataset P3kFJSBI\n"
     ]
    },
    {
     "name": "stdout",
     "output_type": "stream",
     "text": [
      "MapCoord\n",
      "\n",
      "\taxes     : ['lon', 'lat', 'energy']\n",
      "\tshape    : (16880,)\n",
      "\tndim     : 3\n",
      "\tframe : galactic\n",
      "\n"
     ]
    },
    {
     "name": "stderr",
     "output_type": "stream",
     "text": [
      "No background model defined for dataset rxj-stacked\n",
      "No background model defined for dataset rxj-stacked\n",
      "No background model defined for dataset lJ69_pGE\n"
     ]
    },
    {
     "name": "stdout",
     "output_type": "stream",
     "text": [
      "MapCoord\n",
      "\n",
      "\taxes     : ['lon', 'lat', 'energy']\n",
      "\tshape    : (16995,)\n",
      "\tndim     : 3\n",
      "\tframe : galactic\n",
      "\n"
     ]
    },
    {
     "name": "stderr",
     "output_type": "stream",
     "text": [
      "No background model defined for dataset rxj-stacked\n",
      "No background model defined for dataset rxj-stacked\n",
      "No background model defined for dataset tfEpNvTk\n"
     ]
    },
    {
     "name": "stdout",
     "output_type": "stream",
     "text": [
      "MapCoord\n",
      "\n",
      "\taxes     : ['lon', 'lat', 'energy']\n",
      "\tshape    : (16141,)\n",
      "\tndim     : 3\n",
      "\tframe : galactic\n",
      "\n"
     ]
    },
    {
     "name": "stderr",
     "output_type": "stream",
     "text": [
      "No background model defined for dataset rxj-stacked\n",
      "No background model defined for dataset rxj-stacked\n",
      "No background model defined for dataset fbF4YatA\n"
     ]
    },
    {
     "name": "stdout",
     "output_type": "stream",
     "text": [
      "MapCoord\n",
      "\n",
      "\taxes     : ['lon', 'lat', 'energy']\n",
      "\tshape    : (16081,)\n",
      "\tndim     : 3\n",
      "\tframe : galactic\n",
      "\n"
     ]
    },
    {
     "name": "stderr",
     "output_type": "stream",
     "text": [
      "No background model defined for dataset rxj-stacked\n",
      "No background model defined for dataset rxj-stacked\n",
      "No background model defined for dataset 5aZ_YOU4\n"
     ]
    },
    {
     "name": "stdout",
     "output_type": "stream",
     "text": [
      "MapCoord\n",
      "\n",
      "\taxes     : ['lon', 'lat', 'energy']\n",
      "\tshape    : (16418,)\n",
      "\tndim     : 3\n",
      "\tframe : galactic\n",
      "\n"
     ]
    },
    {
     "name": "stderr",
     "output_type": "stream",
     "text": [
      "No background model defined for dataset rxj-stacked\n",
      "No background model defined for dataset rxj-stacked\n",
      "No background model defined for dataset 1eyrMKnI\n"
     ]
    },
    {
     "name": "stdout",
     "output_type": "stream",
     "text": [
      "MapCoord\n",
      "\n",
      "\taxes     : ['lon', 'lat', 'energy']\n",
      "\tshape    : (15798,)\n",
      "\tndim     : 3\n",
      "\tframe : galactic\n",
      "\n",
      "CPU times: user 3.36 s, sys: 108 ms, total: 3.47 s\n",
      "Wall time: 3.45 s\n"
     ]
    }
   ],
   "source": [
    "%%time\n",
    "spectrum_datasets = []\n",
    "\n",
    "for obs in observations:\n",
    "    # A MapDataset is filled in this geometry\n",
    "    dataset = maker.run(stacked, obs)\n",
    "    # To make images, the resulting dataset cutout is stacked onto the final one\n",
    "    stacked.stack(dataset)\n",
    "\n",
    "    # Extract 1D spectrum\n",
    "    spectrum_dataset = dataset.to_spectrum_dataset(on_region)\n",
    "    # Compute OFF\n",
    "    spectrum_dataset = bkg_maker.run(spectrum_dataset, obs)\n",
    "    # Define safe mask\n",
    "    spectrum_dataset = safe_mask_maker.run(spectrum_dataset, obs)\n",
    "    # Append dataset to the list\n",
    "    spectrum_datasets.append(spectrum_dataset)\n",
    "\n",
    "datasets = Datasets(spectrum_datasets)"
   ]
  },
  {
   "cell_type": "markdown",
   "metadata": {},
   "source": [
    "## Explore the results"
   ]
  },
  {
   "cell_type": "markdown",
   "metadata": {},
   "source": [
    "First let's look at the data to see if our region is correct.\n",
    "We plot it over the excess. To do so we convert it to a pixel region using the WCS information stored on the geom."
   ]
  },
  {
   "cell_type": "code",
   "execution_count": 10,
   "metadata": {
    "execution": {
     "iopub.execute_input": "2020-10-06T19:55:48.518057Z",
     "iopub.status.busy": "2020-10-06T19:55:48.517143Z",
     "iopub.status.idle": "2020-10-06T19:55:48.723284Z",
     "shell.execute_reply": "2020-10-06T19:55:48.723845Z"
    }
   },
   "outputs": [
    {
     "data": {
      "text/plain": [
       "<WCSAxesSubplot:xlabel='Galactic Longitude', ylabel='Galactic Latitude'>"
      ]
     },
     "execution_count": 1,
     "metadata": {},
     "output_type": "execute_result"
    },
    {
     "data": {
      "image/png": "[encoded data removed]",
      "text/plain": [
       "<Figure size 432x288 with 1 Axes>"
      ]
     },
     "metadata": {
      "needs_background": "light"
     },
     "output_type": "display_data"
    }
   ],
   "source": [
    "stacked.counts.sum_over_axes().smooth(width=\"0.05 deg\").plot()\n",
    "on_region.to_pixel(stacked.counts.geom.wcs).plot()"
   ]
  },
  {
   "cell_type": "markdown",
   "metadata": {},
   "source": [
    "We now turn to the spectral datasets. We can peek at their content:"
   ]
  },
  {
   "cell_type": "code",
   "execution_count": 11,
   "metadata": {
    "execution": {
     "iopub.execute_input": "2020-10-06T19:55:48.726248Z",
     "iopub.status.busy": "2020-10-06T19:55:48.725743Z",
     "iopub.status.idle": "2020-10-06T19:55:49.933767Z",
     "shell.execute_reply": "2020-10-06T19:55:49.933293Z"
    }
   },
   "outputs": [
    {
     "name": "stderr",
     "output_type": "stream",
     "text": [
      "/home/runner/work/gammapy-docs/gammapy-docs/gammapy/gammapy/irf/edisp_kernel.py:558: MatplotlibDeprecationWarning: Passing parameters norm and vmin/vmax simultaneously is deprecated since 3.3 and will become an error two minor releases later. Please pass vmin/vmax directly to the norm when creating it.\n",
      "  caxes = ax.pcolormesh(x, y, z.T, **kwargs)\n"
     ]
    },
    {
     "data": {
      "image/png": "[encoded data removed]",
      "text/plain": [
       "<Figure size 1152x288 with 3 Axes>"
      ]
     },
     "metadata": {
      "needs_background": "light"
     },
     "output_type": "display_data"
    }
   ],
   "source": [
    "datasets[0].peek()"
   ]
  },
  {
   "cell_type": "markdown",
   "metadata": {},
   "source": [
    "### Cumulative excess and signficance\n",
    "\n",
    "Finally, we can look at cumulative significance and number of excesses. This is done with the `info_table` method of `~gammapy.datasets.Datasets`. "
   ]
  },
  {
   "cell_type": "code",
   "execution_count": 12,
   "metadata": {
    "execution": {
     "iopub.execute_input": "2020-10-06T19:55:50.100013Z",
     "iopub.status.busy": "2020-10-06T19:55:50.027207Z",
     "iopub.status.idle": "2020-10-06T19:55:50.102730Z",
     "shell.execute_reply": "2020-10-06T19:55:50.102383Z"
    }
   },
   "outputs": [],
   "source": [
    "info_table = datasets.info_table(cumulative=True)"
   ]
  },
  {
   "cell_type": "code",
   "execution_count": 13,
   "metadata": {
    "execution": {
     "iopub.execute_input": "2020-10-06T19:55:50.107582Z",
     "iopub.status.busy": "2020-10-06T19:55:50.107212Z",
     "iopub.status.idle": "2020-10-06T19:55:50.111175Z",
     "shell.execute_reply": "2020-10-06T19:55:50.111753Z"
    }
   },
   "outputs": [
    {
     "data": {
      "text/html": [
       "<i>Table length=6</i>\n",
       "<table id=\"table139898383910784\" class=\"table-striped table-bordered table-condensed\">\n",
       "<thead><tr><th>name</th><th>livetime</th><th>n_on</th><th>background</th><th>excess</th><th>significance</th><th>background_rate</th><th>gamma_rate</th><th>a_on</th><th>n_off</th><th>a_off</th><th>alpha</th></tr></thead>\n",
       "<thead><tr><th></th><th>s</th><th></th><th></th><th></th><th></th><th>1 / s</th><th>1 / s</th><th></th><th></th><th></th><th></th></tr></thead>\n",
       "<thead><tr><th>str8</th><th>float64</th><th>float32</th><th>float64</th><th>float64</th><th>float64</th><th>float64</th><th>float64</th><th>float64</th><th>float32</th><th>float64</th><th>float64</th></tr></thead>\n",
       "<tr><td>P3kFJSBI</td><td>1683.0</td><td>450.0</td><td>378.99999999999994</td><td>106.5</td><td>4.405517626186096</td><td>0.22519310754604868</td><td>0.06327985739750445</td><td>1.0</td><td>687.0</td><td>2.0</td><td>0.5</td></tr>\n",
       "<tr><td>P3kFJSBI</td><td>3366.0</td><td>845.0</td><td>728.6666666666667</td><td>174.5</td><td>5.215405763158092</td><td>0.21647851059615766</td><td>0.05184194890077243</td><td>1.0</td><td>1341.0</td><td>2.0</td><td>0.5</td></tr>\n",
       "<tr><td>P3kFJSBI</td><td>5048.0</td><td>1288.0</td><td>1084.6666666666667</td><td>305.0</td><td>7.457874883123557</td><td>0.2148705758055996</td><td>0.06041996830427892</td><td>1.0</td><td>1966.0</td><td>2.0</td><td>0.5</td></tr>\n",
       "<tr><td>P3kFJSBI</td><td>6730.0</td><td>1725.0</td><td>1468.9999999999998</td><td>384.0</td><td>8.075257505628382</td><td>0.21827637444279344</td><td>0.05705794947994056</td><td>1.0</td><td>2682.0</td><td>2.0</td><td>0.5</td></tr>\n",
       "<tr><td>P3kFJSBI</td><td>8413.0</td><td>2198.0</td><td>1823.1466301979633</td><td>545.0000610351562</td><td>10.230952957422629</td><td>0.21670588734077775</td><td>0.06478070379592966</td><td>1.0</td><td>3618.0</td><td>2.1784777641296387</td><td>0.4590361416339874</td></tr>\n",
       "<tr><td>P3kFJSBI</td><td>10095.0</td><td>2626.0</td><td>2198.593368883069</td><td>624.5000610351562</td><td>10.668056021769223</td><td>0.21779032876503904</td><td>0.0618623141193815</td><td>1.0</td><td>4315.0</td><td>2.1466150283813477</td><td>0.46584972739219666</td></tr>\n",
       "</table>"
      ],
      "text/plain": [
       "<Table length=6>\n",
       "  name   livetime   n_on  ...  n_off        a_off               alpha       \n",
       "            s             ...                                               \n",
       "  str8   float64  float32 ... float32      float64             float64      \n",
       "-------- -------- ------- ... ------- ------------------ -------------------\n",
       "P3kFJSBI   1683.0   450.0 ...   687.0                2.0                 0.5\n",
       "P3kFJSBI   3366.0   845.0 ...  1341.0                2.0                 0.5\n",
       "P3kFJSBI   5048.0  1288.0 ...  1966.0                2.0                 0.5\n",
       "P3kFJSBI   6730.0  1725.0 ...  2682.0                2.0                 0.5\n",
       "P3kFJSBI   8413.0  2198.0 ...  3618.0 2.1784777641296387  0.4590361416339874\n",
       "P3kFJSBI  10095.0  2626.0 ...  4315.0 2.1466150283813477 0.46584972739219666"
      ]
     },
     "execution_count": 1,
     "metadata": {},
     "output_type": "execute_result"
    }
   ],
   "source": [
    "info_table"
   ]
  },
  {
   "cell_type": "code",
   "execution_count": 14,
   "metadata": {
    "execution": {
     "iopub.execute_input": "2020-10-06T19:55:50.129497Z",
     "iopub.status.busy": "2020-10-06T19:55:50.116142Z",
     "iopub.status.idle": "2020-10-06T19:55:50.285529Z",
     "shell.execute_reply": "2020-10-06T19:55:50.285019Z"
    }
   },
   "outputs": [
    {
     "data": {
      "text/plain": [
       "Text(0, 0.5, 'Significance')"
      ]
     },
     "execution_count": 1,
     "metadata": {},
     "output_type": "execute_result"
    },
    {
     "data": {
      "image/png": "[encoded data removed]",
      "text/plain": [
       "<Figure size 720x432 with 2 Axes>"
      ]
     },
     "metadata": {
      "needs_background": "light"
     },
     "output_type": "display_data"
    }
   ],
   "source": [
    "fig = plt.figure(figsize=(10, 6))\n",
    "ax = fig.add_subplot(121)\n",
    "ax.plot(\n",
    "    info_table[\"livetime\"].to(\"h\"), info_table[\"excess\"], marker=\"o\", ls=\"none\"\n",
    ")\n",
    "plt.xlabel(\"Livetime [h]\")\n",
    "plt.ylabel(\"Excess events\")\n",
    "\n",
    "ax = fig.add_subplot(122)\n",
    "ax.plot(\n",
    "    info_table[\"livetime\"].to(\"h\"),\n",
    "    info_table[\"significance\"],\n",
    "    marker=\"o\",\n",
    "    ls=\"none\",\n",
    ")\n",
    "plt.xlabel(\"Livetime [h]\")\n",
    "plt.ylabel(\"Significance\");"
   ]
  },
  {
   "cell_type": "markdown",
   "metadata": {},
   "source": [
    "## Perform spectral model fitting\n",
    "\n",
    "Here we perform a joint fit. \n",
    "\n",
    "We first create the model, here a simple powerlaw, and assign it to every dataset in the `~gammapy.datasets.Datasets`."
   ]
  },
  {
   "cell_type": "code",
   "execution_count": 15,
   "metadata": {
    "execution": {
     "iopub.execute_input": "2020-10-06T19:55:50.292587Z",
     "iopub.status.busy": "2020-10-06T19:55:50.290369Z",
     "iopub.status.idle": "2020-10-06T19:55:50.295757Z",
     "shell.execute_reply": "2020-10-06T19:55:50.295071Z"
    }
   },
   "outputs": [],
   "source": [
    "spectral_model = PowerLawSpectralModel(\n",
    "    index=2, amplitude=2e-11 * u.Unit(\"cm-2 s-1 TeV-1\"), reference=1 * u.TeV\n",
    ")\n",
    "model = SkyModel(spectral_model=spectral_model)\n",
    "\n",
    "for dataset in datasets:\n",
    "    dataset.models = model"
   ]
  },
  {
   "cell_type": "markdown",
   "metadata": {},
   "source": [
    "Now we can run the fit"
   ]
  },
  {
   "cell_type": "code",
   "execution_count": 16,
   "metadata": {
    "execution": {
     "iopub.execute_input": "2020-10-06T19:55:50.301251Z",
     "iopub.status.busy": "2020-10-06T19:55:50.299610Z",
     "iopub.status.idle": "2020-10-06T19:55:51.165452Z",
     "shell.execute_reply": "2020-10-06T19:55:51.166069Z"
    }
   },
   "outputs": [
    {
     "name": "stdout",
     "output_type": "stream",
     "text": [
      "OptimizeResult\n",
      "\n",
      "\tbackend    : minuit\n",
      "\tmethod     : minuit\n",
      "\tsuccess    : True\n",
      "\tmessage    : Optimization terminated successfully.\n",
      "\tnfev       : 43\n",
      "\ttotal stat : 72.95\n",
      "\n"
     ]
    }
   ],
   "source": [
    "fit_joint = Fit(datasets)\n",
    "result_joint = fit_joint.run()\n",
    "print(result_joint)"
   ]
  },
  {
   "cell_type": "markdown",
   "metadata": {},
   "source": [
    "### Explore the fit results\n",
    "\n",
    "First the fitted parameters values and their errors."
   ]
  },
  {
   "cell_type": "code",
   "execution_count": 17,
   "metadata": {
    "execution": {
     "iopub.execute_input": "2020-10-06T19:55:51.171316Z",
     "iopub.status.busy": "2020-10-06T19:55:51.170904Z",
     "iopub.status.idle": "2020-10-06T19:55:51.175172Z",
     "shell.execute_reply": "2020-10-06T19:55:51.174653Z"
    }
   },
   "outputs": [
    {
     "data": {
      "text/html": [
       "<i>Table length=3</i>\n",
       "<table id=\"table139898389337592\" class=\"table-striped table-bordered table-condensed\">\n",
       "<thead><tr><th>name</th><th>value</th><th>unit</th><th>min</th><th>max</th><th>frozen</th><th>error</th></tr></thead>\n",
       "<thead><tr><th>str9</th><th>float64</th><th>str14</th><th>float64</th><th>float64</th><th>bool</th><th>float64</th></tr></thead>\n",
       "<tr><td>index</td><td>2.102e+00</td><td></td><td>nan</td><td>nan</td><td>False</td><td>6.692e-02</td></tr>\n",
       "<tr><td>amplitude</td><td>1.287e-11</td><td>cm-2 s-1 TeV-1</td><td>nan</td><td>nan</td><td>False</td><td>1.035e-12</td></tr>\n",
       "<tr><td>reference</td><td>1.000e+00</td><td>TeV</td><td>nan</td><td>nan</td><td>True</td><td>0.000e+00</td></tr>\n",
       "</table>"
      ],
      "text/plain": [
       "<Table length=3>\n",
       "   name     value        unit        min     max   frozen   error  \n",
       "   str9    float64      str14      float64 float64  bool   float64 \n",
       "--------- --------- -------------- ------- ------- ------ ---------\n",
       "    index 2.102e+00                    nan     nan  False 6.692e-02\n",
       "amplitude 1.287e-11 cm-2 s-1 TeV-1     nan     nan  False 1.035e-12\n",
       "reference 1.000e+00            TeV     nan     nan   True 0.000e+00"
      ]
     },
     "execution_count": 1,
     "metadata": {},
     "output_type": "execute_result"
    }
   ],
   "source": [
    "result_joint.parameters.to_table()"
   ]
  },
  {
   "cell_type": "markdown",
   "metadata": {},
   "source": [
    "Then plot the fit result to compare measured and expected counts. Rather than plotting them for each individual dataset, we stack all datasets and plot the fit result on the result."
   ]
  },
  {
   "cell_type": "code",
   "execution_count": 18,
   "metadata": {
    "execution": {
     "iopub.execute_input": "2020-10-06T19:55:51.202132Z",
     "iopub.status.busy": "2020-10-06T19:55:51.180878Z",
     "iopub.status.idle": "2020-10-06T19:55:51.948215Z",
     "shell.execute_reply": "2020-10-06T19:55:51.947716Z"
    }
   },
   "outputs": [
    {
     "data": {
      "text/plain": [
       "(<AxesSubplot:xlabel='Energy [TeV]', ylabel='$\\\\mathrm{}$'>,\n",
       " <AxesSubplot:xlabel='Energy [TeV]', ylabel='Residuals (data - model)'>)"
      ]
     },
     "execution_count": 1,
     "metadata": {},
     "output_type": "execute_result"
    },
    {
     "data": {
      "image/png": "[encoded data removed]",
      "text/plain": [
       "<Figure size 576x432 with 2 Axes>"
      ]
     },
     "metadata": {
      "needs_background": "light"
     },
     "output_type": "display_data"
    }
   ],
   "source": [
    "plt.figure(figsize=(8, 6))\n",
    "# First stack them all\n",
    "reduced = datasets.stack_reduce()\n",
    "# Assign the fitted model\n",
    "reduced.models = model\n",
    "# Plot the result\n",
    "reduced.plot_fit();"
   ]
  }
 ],
 "metadata": {
  "kernelspec": {
   "display_name": "Python 3",
   "language": "python",
   "name": "python3"
  },
  "language_info": {
   "codemirror_mode": {
    "name": "ipython",
    "version": 3
   },
   "file_extension": ".py",
   "mimetype": "text/x-python",
   "name": "python",
   "nbconvert_exporter": "python",
   "pygments_lexer": "ipython3",
   "version": "3.7.0"
  },
  "nbsphinx": {
   "orphan": true
  }
 },
 "nbformat": 4,
 "nbformat_minor": 4
}
