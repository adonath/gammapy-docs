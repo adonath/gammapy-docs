{
 "cells": [
  {
   "cell_type": "markdown",
   "metadata": {},
   "source": [
    "\n",
    "<div class=\"alert alert-info\">\n",
    "\n",
    "**This is a fixed-text formatted version of a Jupyter notebook**\n",
    "\n",
    "- Try online [![Binder](https://static.mybinder.org/badge.svg)](https://mybinder.org/v2/gh/gammapy/gammapy-webpage/master?urlpath=lab/tree/light_curve_flare.ipynb)\n",
    "- You can contribute with your own notebooks in this\n",
    "[GitHub repository](https://github.com/gammapy/gammapy/tree/master/docs/tutorials).\n",
    "- **Source files:**\n",
    "[light_curve_flare.ipynb](../_static/notebooks/light_curve_flare.ipynb) |\n",
    "[light_curve_flare.py](../_static/notebooks/light_curve_flare.py)\n",
    "</div>\n"
   ]
  },
  {
   "cell_type": "markdown",
   "metadata": {},
   "source": [
    "# Light curve - Flare\n",
    "\n",
    "## Prerequisites:\n",
    "\n",
    "- Understanding of how the light curve estimator works, please refer to the [light curve notebook](light_curve.ipynb).\n",
    "\n",
    "## Context\n",
    "\n",
    "Frequently, especially when studying flares of bright sources, it is necessary to explore the time behaviour of a source on short time scales, in particular on time scales shorter than observing runs.\n",
    "\n",
    "A typical example is given by the flare of PKS 2155-304 during the night from July 29 to 30 2006. See the [following article](https://ui.adsabs.harvard.edu/abs/2009A%26A...502..749A/abstract).\n",
    "\n",
    "**Objective: Compute the light curve of a PKS 2155-304 flare on 5 minutes time intervals, i.e. smaller than the duration of individual observations.**\n",
    "\n",
    "## Proposed approach:\n",
    "\n",
    "We have seen in the general presentation of the light curve estimator, see [light curve notebook](light_curve.ipynb), Gammapy produces datasets in a given time interval, by default that of the parent observation. To be able to produce datasets on smaller time steps, it is necessary to split the observations into the required time intervals. \n",
    "\n",
    "This is easily performed with the `select_time` method of `~gammapy.data.Observations`. If you pass it a list of time intervals it will produce a list of time filtered observations in a new `~gammapy.data.Observations` object. Data reduction can then be performed and will result in datasets defined on the required time intervals and light curve estimation can proceed directly.\n",
    "\n",
    "In summary, we have to:\n",
    "\n",
    "- Select relevant `~gammapy.data.Observations` from the `~gammapy.data.DataStore`\n",
    "- Apply the time selection in our predefined time intervals to obtain a new `~gammapy.data.Observations`\n",
    "- Perform the data reduction (in 1D or 3D)\n",
    "- Define the source model\n",
    "- Extract the light curve from the reduced dataset\n",
    "\n",
    "Here, we will use the PKS 2155-304 observations from the H.E.S.S. first public test data release. We will use time intervals of 5 minutes duration. The tutorial is implemented with the intermediate level API.\n",
    "\n",
    "## Setup \n",
    "\n",
    "As usual, we'll start with some general imports..."
   ]
  },
  {
   "cell_type": "code",
   "execution_count": 1,
   "metadata": {
    "execution": {
     "iopub.execute_input": "2020-11-19T14:21:07.140625Z",
     "iopub.status.busy": "2020-11-19T14:21:07.139977Z",
     "iopub.status.idle": "2020-11-19T14:21:07.822722Z",
     "shell.execute_reply": "2020-11-19T14:21:07.821575Z"
    }
   },
   "outputs": [],
   "source": [
    "%matplotlib inline\n",
    "import astropy.units as u\n",
    "import numpy as np\n",
    "from astropy.coordinates import SkyCoord\n",
    "from astropy.time import Time\n",
    "from regions import CircleSkyRegion\n",
    "from astropy.coordinates import Angle\n",
    "\n",
    "import logging\n",
    "\n",
    "log = logging.getLogger(__name__)"
   ]
  },
  {
   "cell_type": "markdown",
   "metadata": {},
   "source": [
    "Now let's import gammapy specific classes and functions"
   ]
  },
  {
   "cell_type": "code",
   "execution_count": 2,
   "metadata": {
    "execution": {
     "iopub.execute_input": "2020-11-19T14:21:07.828160Z",
     "iopub.status.busy": "2020-11-19T14:21:07.826697Z",
     "iopub.status.idle": "2020-11-19T14:21:08.378892Z",
     "shell.execute_reply": "2020-11-19T14:21:08.378031Z"
    }
   },
   "outputs": [],
   "source": [
    "from gammapy.data import DataStore\n",
    "from gammapy.datasets import SpectrumDataset\n",
    "from gammapy.modeling.models import PowerLawSpectralModel, SkyModel\n",
    "from gammapy.maps import MapAxis\n",
    "from gammapy.estimators import LightCurveEstimator\n",
    "from gammapy.makers import (\n",
    "    SpectrumDatasetMaker,\n",
    "    ReflectedRegionsBackgroundMaker,\n",
    "    SafeMaskMaker,\n",
    ")"
   ]
  },
  {
   "cell_type": "markdown",
   "metadata": {},
   "source": [
    "## Select the data\n",
    "\n",
    "We first set the datastore."
   ]
  },
  {
   "cell_type": "code",
   "execution_count": 3,
   "metadata": {
    "execution": {
     "iopub.execute_input": "2020-11-19T14:21:08.384216Z",
     "iopub.status.busy": "2020-11-19T14:21:08.382587Z",
     "iopub.status.idle": "2020-11-19T14:21:08.420755Z",
     "shell.execute_reply": "2020-11-19T14:21:08.419766Z"
    }
   },
   "outputs": [],
   "source": [
    "data_store = DataStore.from_dir(\"$GAMMAPY_DATA/hess-dl3-dr1/\")"
   ]
  },
  {
   "cell_type": "markdown",
   "metadata": {},
   "source": [
    "Now we select observations within 2 degrees of PKS 2155-304. "
   ]
  },
  {
   "cell_type": "code",
   "execution_count": 4,
   "metadata": {
    "execution": {
     "iopub.execute_input": "2020-11-19T14:21:08.440088Z",
     "iopub.status.busy": "2020-11-19T14:21:08.435043Z",
     "iopub.status.idle": "2020-11-19T14:21:08.471187Z",
     "shell.execute_reply": "2020-11-19T14:21:08.471676Z"
    }
   },
   "outputs": [
    {
     "name": "stdout",
     "output_type": "stream",
     "text": [
      "Number of selected observations : 21\n"
     ]
    }
   ],
   "source": [
    "target_position = SkyCoord(\n",
    "    329.71693826 * u.deg, -30.2255890 * u.deg, frame=\"icrs\"\n",
    ")\n",
    "selection = dict(\n",
    "    type=\"sky_circle\",\n",
    "    frame=\"icrs\",\n",
    "    lon=target_position.ra,\n",
    "    lat=target_position.dec,\n",
    "    radius=2 * u.deg,\n",
    ")\n",
    "obs_ids = data_store.obs_table.select_observations(selection)[\"OBS_ID\"]\n",
    "observations = data_store.get_observations(obs_ids)\n",
    "print(f\"Number of selected observations : {len(observations)}\")"
   ]
  },
  {
   "cell_type": "markdown",
   "metadata": {},
   "source": [
    "## Define time intervals\n",
    "We create the list of time intervals. Each time interval is an `astropy.time.Time` object, containing a start and stop time."
   ]
  },
  {
   "cell_type": "code",
   "execution_count": 5,
   "metadata": {
    "execution": {
     "iopub.execute_input": "2020-11-19T14:21:08.488477Z",
     "iopub.status.busy": "2020-11-19T14:21:08.487911Z",
     "iopub.status.idle": "2020-11-19T14:21:08.491604Z",
     "shell.execute_reply": "2020-11-19T14:21:08.491146Z"
    }
   },
   "outputs": [
    {
     "name": "stdout",
     "output_type": "stream",
     "text": [
      "[53945.85416667 53945.86111111]\n"
     ]
    }
   ],
   "source": [
    "t0 = Time(\"2006-07-29T20:30\")\n",
    "duration = 10 * u.min\n",
    "n_time_bins = 35\n",
    "times = t0 + np.arange(n_time_bins) * duration\n",
    "time_intervals = [\n",
    "    Time([tstart, tstop]) for tstart, tstop in zip(times[:-1], times[1:])\n",
    "]\n",
    "print(time_intervals[0].mjd)"
   ]
  },
  {
   "cell_type": "markdown",
   "metadata": {},
   "source": [
    "## Filter the observations list in time intervals\n",
    "\n",
    "Here we apply the list of time intervals to the observations with `~gammapy.data.Observations.select_time()`.\n",
    "\n",
    "This will return a new list of Observations filtered by time_intervals. For each time interval, a new observation is created that convers the intersection of the GTIs and time interval. "
   ]
  },
  {
   "cell_type": "code",
   "execution_count": 6,
   "metadata": {
    "execution": {
     "iopub.execute_input": "2020-11-19T14:21:08.496523Z",
     "iopub.status.busy": "2020-11-19T14:21:08.494754Z",
     "iopub.status.idle": "2020-11-19T14:21:42.449048Z",
     "shell.execute_reply": "2020-11-19T14:21:42.449593Z"
    }
   },
   "outputs": [
    {
     "name": "stdout",
     "output_type": "stream",
     "text": [
      "Number of observations after time filtering: 44\n",
      "\n",
      "GTI info:\n",
      "- Number of GTIs: 1\n",
      "- Duration: 600.0 s\n",
      "- Start: 53945.861865555555 MET\n",
      "- Start: 2006-07-29T20:41:05.184 (time standard: TT)\n",
      "- Stop: 53945.86881 MET\n",
      "- Stop: 2006-07-29T20:51:05.184 (time standard: TT)\n",
      "\n"
     ]
    }
   ],
   "source": [
    "short_observations = observations.select_time(time_intervals)\n",
    "# check that observations have been filtered\n",
    "print(\n",
    "    f\"Number of observations after time filtering: {len(short_observations)}\\n\"\n",
    ")\n",
    "print(short_observations[1].gti)"
   ]
  },
  {
   "cell_type": "markdown",
   "metadata": {},
   "source": [
    "As we can see, we have now observations of duration equal to the chosen time step.\n",
    "\n",
    "Now data reduction and light curve extraction can proceed exactly as before."
   ]
  },
  {
   "cell_type": "markdown",
   "metadata": {},
   "source": [
    "## Building 1D datasets from the new observations\n",
    "\n",
    "Here we will perform the data reduction in 1D with reflected regions.\n",
    "\n",
    "*Beware, with small time intervals the background normalization with OFF regions might become problematic.*"
   ]
  },
  {
   "cell_type": "markdown",
   "metadata": {},
   "source": [
    "### Defining the geometry\n",
    "\n",
    "We define the energy axes. As usual, the true energy axis has to cover a wider range to ensure a good coverage of the measured energy range chosen. \n",
    "\n",
    "We need to define the ON extraction region. Its size follows typical spectral extraction regions for HESS analyses."
   ]
  },
  {
   "cell_type": "code",
   "execution_count": 7,
   "metadata": {
    "execution": {
     "iopub.execute_input": "2020-11-19T14:21:42.456060Z",
     "iopub.status.busy": "2020-11-19T14:21:42.455541Z",
     "iopub.status.idle": "2020-11-19T14:21:42.459027Z",
     "shell.execute_reply": "2020-11-19T14:21:42.458575Z"
    }
   },
   "outputs": [],
   "source": [
    "# Target definition\n",
    "e_reco = MapAxis.from_energy_bounds(0.4, 20, 10, \"TeV\")\n",
    "e_true = MapAxis.from_energy_bounds(0.1, 40, 20, \"TeV\", name=\"energy_true\")\n",
    "\n",
    "on_region_radius = Angle(\"0.11 deg\")\n",
    "on_region = CircleSkyRegion(center=target_position, radius=on_region_radius)"
   ]
  },
  {
   "cell_type": "markdown",
   "metadata": {},
   "source": [
    "### Creation of the data reduction makers\n",
    "\n",
    "We now create the dataset and background makers for the selected geometry."
   ]
  },
  {
   "cell_type": "code",
   "execution_count": 8,
   "metadata": {
    "execution": {
     "iopub.execute_input": "2020-11-19T14:21:42.464322Z",
     "iopub.status.busy": "2020-11-19T14:21:42.463182Z",
     "iopub.status.idle": "2020-11-19T14:21:42.464936Z",
     "shell.execute_reply": "2020-11-19T14:21:42.465481Z"
    }
   },
   "outputs": [],
   "source": [
    "dataset_maker = SpectrumDatasetMaker(\n",
    "    containment_correction=True, selection=[\"counts\", \"exposure\", \"edisp\"]\n",
    ")\n",
    "bkg_maker = ReflectedRegionsBackgroundMaker()\n",
    "safe_mask_masker = SafeMaskMaker(methods=[\"aeff-max\"], aeff_percent=10)"
   ]
  },
  {
   "cell_type": "markdown",
   "metadata": {},
   "source": [
    "### Creation of the datasets\n",
    "\n",
    "Now we perform the actual data reduction in the time_intervals."
   ]
  },
  {
   "cell_type": "code",
   "execution_count": 9,
   "metadata": {
    "execution": {
     "iopub.execute_input": "2020-11-19T14:21:42.483730Z",
     "iopub.status.busy": "2020-11-19T14:21:42.469502Z",
     "iopub.status.idle": "2020-11-19T14:22:05.501425Z",
     "shell.execute_reply": "2020-11-19T14:22:05.500848Z"
    }
   },
   "outputs": [
    {
     "name": "stdout",
     "output_type": "stream",
     "text": [
      "CPU times: user 22.6 s, sys: 404 ms, total: 23 s\n",
      "Wall time: 23 s\n"
     ]
    }
   ],
   "source": [
    "%%time\n",
    "datasets = []\n",
    "\n",
    "dataset_empty = SpectrumDataset.create(\n",
    "    e_reco=e_reco, e_true=e_true, region=on_region\n",
    ")\n",
    "\n",
    "for obs in short_observations:\n",
    "    dataset = dataset_maker.run(dataset_empty.copy(), obs)\n",
    "\n",
    "    dataset_on_off = bkg_maker.run(dataset, obs)\n",
    "    dataset_on_off = safe_mask_masker.run(dataset_on_off, obs)\n",
    "    datasets.append(dataset_on_off)"
   ]
  },
  {
   "cell_type": "markdown",
   "metadata": {},
   "source": [
    "## Define the Model\n",
    "\n",
    "The actual flux will depend on the spectral shape assumed. For simplicity, we use the power law spectral model of index 3.4 used in the [reference paper](https://ui.adsabs.harvard.edu/abs/2009A%26A...502..749A/abstract).\n",
    "\n",
    "Here we use only a spectral model in the `~gammapy.modeling.models.SkyModel` object."
   ]
  },
  {
   "cell_type": "code",
   "execution_count": 10,
   "metadata": {
    "execution": {
     "iopub.execute_input": "2020-11-19T14:22:05.511677Z",
     "iopub.status.busy": "2020-11-19T14:22:05.511168Z",
     "iopub.status.idle": "2020-11-19T14:22:05.514581Z",
     "shell.execute_reply": "2020-11-19T14:22:05.514035Z"
    }
   },
   "outputs": [],
   "source": [
    "spectral_model = PowerLawSpectralModel(\n",
    "    index=3.4, amplitude=2e-11 * u.Unit(\"1 / (cm2 s TeV)\"), reference=1 * u.TeV\n",
    ")\n",
    "spectral_model.parameters[\"index\"].frozen = False\n",
    "\n",
    "sky_model = SkyModel(\n",
    "    spatial_model=None, spectral_model=spectral_model, name=\"pks2155\"\n",
    ")"
   ]
  },
  {
   "cell_type": "markdown",
   "metadata": {},
   "source": [
    "### Assign to model to all datasets\n",
    "\n",
    "We assign each dataset its spectral model"
   ]
  },
  {
   "cell_type": "code",
   "execution_count": 11,
   "metadata": {
    "execution": {
     "iopub.execute_input": "2020-11-19T14:22:05.531645Z",
     "iopub.status.busy": "2020-11-19T14:22:05.531146Z",
     "iopub.status.idle": "2020-11-19T14:22:05.533914Z",
     "shell.execute_reply": "2020-11-19T14:22:05.534555Z"
    }
   },
   "outputs": [],
   "source": [
    "for dataset in datasets:\n",
    "    dataset.models = sky_model"
   ]
  },
  {
   "cell_type": "markdown",
   "metadata": {},
   "source": [
    "## Extract the light curve\n",
    "\n",
    "We first create the `~gammapy.time.LightCurveEstimator` for the list of datasets we just produced. We give the estimator the name of the source component to be fitted."
   ]
  },
  {
   "cell_type": "code",
   "execution_count": 12,
   "metadata": {
    "execution": {
     "iopub.execute_input": "2020-11-19T14:22:05.538490Z",
     "iopub.status.busy": "2020-11-19T14:22:05.537978Z",
     "iopub.status.idle": "2020-11-19T14:22:05.541305Z",
     "shell.execute_reply": "2020-11-19T14:22:05.540746Z"
    }
   },
   "outputs": [],
   "source": [
    "lc_maker_1d = LightCurveEstimator(\n",
    "    energy_edges=[0.7, 20] * u.TeV,\n",
    "    source=\"pks2155\",\n",
    "    time_intervals=time_intervals,\n",
    ")"
   ]
  },
  {
   "cell_type": "markdown",
   "metadata": {},
   "source": [
    "We can now perform the light curve extraction itself. To compare with the [reference paper](https://ui.adsabs.harvard.edu/abs/2009A%26A...502..749A/abstract), we select the 0.7-20 TeV range."
   ]
  },
  {
   "cell_type": "code",
   "execution_count": 13,
   "metadata": {
    "execution": {
     "iopub.execute_input": "2020-11-19T14:22:05.644522Z",
     "iopub.status.busy": "2020-11-19T14:22:05.641952Z",
     "iopub.status.idle": "2020-11-19T14:22:30.444084Z",
     "shell.execute_reply": "2020-11-19T14:22:30.443192Z"
    }
   },
   "outputs": [
    {
     "name": "stdout",
     "output_type": "stream",
     "text": [
      "CPU times: user 24.9 s, sys: 32.9 ms, total: 25 s\n",
      "Wall time: 24.9 s\n"
     ]
    }
   ],
   "source": [
    "%%time\n",
    "lc_1d = lc_maker_1d.run(datasets)"
   ]
  },
  {
   "cell_type": "markdown",
   "metadata": {},
   "source": [
    "Finally we plot the result for the 1D lightcurve:"
   ]
  },
  {
   "cell_type": "code",
   "execution_count": 14,
   "metadata": {
    "execution": {
     "iopub.execute_input": "2020-11-19T14:22:30.475805Z",
     "iopub.status.busy": "2020-11-19T14:22:30.472403Z",
     "iopub.status.idle": "2020-11-19T14:22:30.606199Z",
     "shell.execute_reply": "2020-11-19T14:22:30.605717Z"
    }
   },
   "outputs": [
    {
     "name": "stderr",
     "output_type": "stream",
     "text": [
      "No handles with labels found to put in legend.\n"
     ]
    },
    {
     "data": {
      "text/plain": [
       "<AxesSubplot:xlabel='Time (MJD)', ylabel='Flux (cm-2 s-1)'>"
      ]
     },
     "execution_count": 1,
     "metadata": {},
     "output_type": "execute_result"
    },
    {
     "data": {
      "image/png": "[encoded data removed]",
      "text/plain": [
       "<Figure size 432x288 with 1 Axes>"
      ]
     },
     "metadata": {
      "needs_background": "light"
     },
     "output_type": "display_data"
    }
   ],
   "source": [
    "lc_1d.plot(marker=\"o\")"
   ]
  },
  {
   "cell_type": "code",
   "execution_count": null,
   "metadata": {},
   "outputs": [],
   "source": []
  }
 ],
 "metadata": {
  "kernelspec": {
   "display_name": "Python 3",
   "language": "python",
   "name": "python3"
  },
  "language_info": {
   "codemirror_mode": {
    "name": "ipython",
    "version": 3
   },
   "file_extension": ".py",
   "mimetype": "text/x-python",
   "name": "python",
   "nbconvert_exporter": "python",
   "pygments_lexer": "ipython3",
   "version": "3.7.0"
  },
  "nbsphinx": {
   "orphan": true
  }
 },
 "nbformat": 4,
 "nbformat_minor": 4
}
