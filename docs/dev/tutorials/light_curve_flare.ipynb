{
 "cells": [
  {
   "cell_type": "markdown",
   "metadata": {},
   "source": [
    "\n",
    "<div class=\"alert alert-info\">\n",
    "\n",
    "**This is a fixed-text formatted version of a Jupyter notebook**\n",
    "\n",
    "- Try online [![Binder](https://static.mybinder.org/badge.svg)](https://mybinder.org/v2/gh/gammapy/gammapy-webpage/master?urlpath=lab/tree/light_curve_flare.ipynb)\n",
    "- You can contribute with your own notebooks in this\n",
    "[GitHub repository](https://github.com/gammapy/gammapy/tree/master/docs/tutorials).\n",
    "- **Source files:**\n",
    "[light_curve_flare.ipynb](../_static/notebooks/light_curve_flare.ipynb) |\n",
    "[light_curve_flare.py](../_static/notebooks/light_curve_flare.py)\n",
    "</div>\n"
   ]
  },
  {
   "cell_type": "markdown",
   "metadata": {},
   "source": [
    "# Light curve - Flare\n",
    "\n",
    "## Prerequisites:\n",
    "\n",
    "- Understanding of how the light curve estimator works, please refer to the [light curve notebook](light_curve.ipynb).\n",
    "\n",
    "## Context\n",
    "\n",
    "Frequently, especially when studying flares of bright sources, it is necessary to explore the time behaviour of a source on short time scales, in particular on time scales shorter than observing runs.\n",
    "\n",
    "A typical example is given by the flare of PKS 2155-304 during the night from July 29 to 30 2006. See the [following article](https://ui.adsabs.harvard.edu/abs/2009A%26A...502..749A/abstract).\n",
    "\n",
    "**Objective: Compute the light curve of a PKS 2155-304 flare on 5 minutes time intervals, i.e. smaller than the duration of individual observations.**\n",
    "\n",
    "## Proposed approach:\n",
    "\n",
    "We have seen in the general presentation of the light curve estimator, see [light curve notebook](light_curve.ipynb), Gammapy produces datasets in a given time interval, by default that of the parent observation. To be able to produce datasets on smaller time steps, it is necessary to split the observations into the required time intervals. \n",
    "\n",
    "This is easily performed with the `select_time` method of `~gammapy.data.Observations`. If you pass it a list of time intervals it will produce a list of time filtered observations in a new `~gammapy.data.Observations` object. Data reduction can then be performed and will result in datasets defined on the required time intervals and light curve estimation can proceed directly.\n",
    "\n",
    "In summary, we have to:\n",
    "\n",
    "- Select relevant `~gammapy.data.Observations` from the `~gammapy.data.DataStore`\n",
    "- Apply the time selection in our predefined time intervals to obtain a new `~gammapy.data.Observations`\n",
    "- Perform the data reduction (in 1D or 3D)\n",
    "- Define the source model\n",
    "- Extract the light curve from the reduced dataset\n",
    "\n",
    "Here, we will use the PKS 2155-304 observations from the H.E.S.S. first public test data release. We will use time intervals of 5 minutes duration. The tutorial is implemented with the intermediate level API.\n",
    "\n",
    "## Setup \n",
    "\n",
    "As usual, we'll start with some general imports..."
   ]
  },
  {
   "cell_type": "code",
   "execution_count": 1,
   "metadata": {
    "execution": {
     "iopub.execute_input": "2020-10-27T14:25:08.603197Z",
     "iopub.status.busy": "2020-10-27T14:25:08.602209Z",
     "iopub.status.idle": "2020-10-27T14:25:09.281298Z",
     "shell.execute_reply": "2020-10-27T14:25:09.280173Z"
    }
   },
   "outputs": [],
   "source": [
    "%matplotlib inline\n",
    "import astropy.units as u\n",
    "import numpy as np\n",
    "from astropy.coordinates import SkyCoord\n",
    "from astropy.time import Time\n",
    "from regions import CircleSkyRegion\n",
    "from astropy.coordinates import Angle\n",
    "\n",
    "import logging\n",
    "\n",
    "log = logging.getLogger(__name__)"
   ]
  },
  {
   "cell_type": "markdown",
   "metadata": {},
   "source": [
    "Now let's import gammapy specific classes and functions"
   ]
  },
  {
   "cell_type": "code",
   "execution_count": 2,
   "metadata": {
    "execution": {
     "iopub.execute_input": "2020-10-27T14:25:09.286390Z",
     "iopub.status.busy": "2020-10-27T14:25:09.285887Z",
     "iopub.status.idle": "2020-10-27T14:25:09.841033Z",
     "shell.execute_reply": "2020-10-27T14:25:09.839839Z"
    }
   },
   "outputs": [],
   "source": [
    "from gammapy.data import DataStore\n",
    "from gammapy.datasets import SpectrumDataset\n",
    "from gammapy.modeling.models import PowerLawSpectralModel, SkyModel\n",
    "from gammapy.maps import MapAxis\n",
    "from gammapy.estimators import LightCurveEstimator\n",
    "from gammapy.makers import (\n",
    "    SpectrumDatasetMaker,\n",
    "    ReflectedRegionsBackgroundMaker,\n",
    "    SafeMaskMaker,\n",
    ")"
   ]
  },
  {
   "cell_type": "markdown",
   "metadata": {},
   "source": [
    "## Select the data\n",
    "\n",
    "We first set the datastore."
   ]
  },
  {
   "cell_type": "code",
   "execution_count": 3,
   "metadata": {
    "execution": {
     "iopub.execute_input": "2020-10-27T14:25:09.845460Z",
     "iopub.status.busy": "2020-10-27T14:25:09.844959Z",
     "iopub.status.idle": "2020-10-27T14:25:09.881284Z",
     "shell.execute_reply": "2020-10-27T14:25:09.881829Z"
    }
   },
   "outputs": [],
   "source": [
    "data_store = DataStore.from_dir(\"$GAMMAPY_DATA/hess-dl3-dr1/\")"
   ]
  },
  {
   "cell_type": "markdown",
   "metadata": {},
   "source": [
    "Now we select observations within 2 degrees of PKS 2155-304. "
   ]
  },
  {
   "cell_type": "code",
   "execution_count": 4,
   "metadata": {
    "execution": {
     "iopub.execute_input": "2020-10-27T14:25:09.906904Z",
     "iopub.status.busy": "2020-10-27T14:25:09.903075Z",
     "iopub.status.idle": "2020-10-27T14:25:09.932692Z",
     "shell.execute_reply": "2020-10-27T14:25:09.932220Z"
    }
   },
   "outputs": [
    {
     "name": "stdout",
     "output_type": "stream",
     "text": [
      "Number of selected observations : 21\n"
     ]
    }
   ],
   "source": [
    "target_position = SkyCoord(\n",
    "    329.71693826 * u.deg, -30.2255890 * u.deg, frame=\"icrs\"\n",
    ")\n",
    "selection = dict(\n",
    "    type=\"sky_circle\",\n",
    "    frame=\"icrs\",\n",
    "    lon=target_position.ra,\n",
    "    lat=target_position.dec,\n",
    "    radius=2 * u.deg,\n",
    ")\n",
    "obs_ids = data_store.obs_table.select_observations(selection)[\"OBS_ID\"]\n",
    "observations = data_store.get_observations(obs_ids)\n",
    "print(f\"Number of selected observations : {len(observations)}\")"
   ]
  },
  {
   "cell_type": "markdown",
   "metadata": {},
   "source": [
    "## Define time intervals\n",
    "We create the list of time intervals. Each time interval is an `astropy.time.Time` object, containing a start and stop time."
   ]
  },
  {
   "cell_type": "code",
   "execution_count": 5,
   "metadata": {
    "execution": {
     "iopub.execute_input": "2020-10-27T14:25:09.948783Z",
     "iopub.status.busy": "2020-10-27T14:25:09.943002Z",
     "iopub.status.idle": "2020-10-27T14:25:09.952391Z",
     "shell.execute_reply": "2020-10-27T14:25:09.951833Z"
    }
   },
   "outputs": [
    {
     "name": "stdout",
     "output_type": "stream",
     "text": [
      "[53945.85416667 53945.86111111]\n"
     ]
    }
   ],
   "source": [
    "t0 = Time(\"2006-07-29T20:30\")\n",
    "duration = 10 * u.min\n",
    "n_time_bins = 35\n",
    "times = t0 + np.arange(n_time_bins) * duration\n",
    "time_intervals = [\n",
    "    Time([tstart, tstop]) for tstart, tstop in zip(times[:-1], times[1:])\n",
    "]\n",
    "print(time_intervals[0].mjd)"
   ]
  },
  {
   "cell_type": "markdown",
   "metadata": {},
   "source": [
    "## Filter the observations list in time intervals\n",
    "\n",
    "Here we apply the list of time intervals to the observations with `~gammapy.data.Observations.select_time()`.\n",
    "\n",
    "This will return a new list of Observations filtered by time_intervals. For each time interval, a new observation is created that convers the intersection of the GTIs and time interval. "
   ]
  },
  {
   "cell_type": "code",
   "execution_count": 6,
   "metadata": {
    "execution": {
     "iopub.execute_input": "2020-10-27T14:25:09.956734Z",
     "iopub.status.busy": "2020-10-27T14:25:09.955671Z",
     "iopub.status.idle": "2020-10-27T14:25:43.605669Z",
     "shell.execute_reply": "2020-10-27T14:25:43.605119Z"
    }
   },
   "outputs": [
    {
     "name": "stdout",
     "output_type": "stream",
     "text": [
      "Number of observations after time filtering: 44\n",
      "\n",
      "GTI info:\n",
      "- Number of GTIs: 1\n",
      "- Duration: 600.0 s\n",
      "- Start: 53945.861865555555 MET\n",
      "- Start: 2006-07-29T20:41:05.184 (time standard: TT)\n",
      "- Stop: 53945.86881 MET\n",
      "- Stop: 2006-07-29T20:51:05.184 (time standard: TT)\n",
      "\n"
     ]
    }
   ],
   "source": [
    "short_observations = observations.select_time(time_intervals)\n",
    "# check that observations have been filtered\n",
    "print(\n",
    "    f\"Number of observations after time filtering: {len(short_observations)}\\n\"\n",
    ")\n",
    "print(short_observations[1].gti)"
   ]
  },
  {
   "cell_type": "markdown",
   "metadata": {},
   "source": [
    "As we can see, we have now observations of duration equal to the chosen time step.\n",
    "\n",
    "Now data reduction and light curve extraction can proceed exactly as before."
   ]
  },
  {
   "cell_type": "markdown",
   "metadata": {},
   "source": [
    "## Building 1D datasets from the new observations\n",
    "\n",
    "Here we will perform the data reduction in 1D with reflected regions.\n",
    "\n",
    "*Beware, with small time intervals the background normalization with OFF regions might become problematic.*"
   ]
  },
  {
   "cell_type": "markdown",
   "metadata": {},
   "source": [
    "### Defining the geometry\n",
    "\n",
    "We define the energy axes. As usual, the true energy axis has to cover a wider range to ensure a good coverage of the measured energy range chosen. \n",
    "\n",
    "We need to define the ON extraction region. Its size follows typical spectral extraction regions for HESS analyses."
   ]
  },
  {
   "cell_type": "code",
   "execution_count": 7,
   "metadata": {
    "execution": {
     "iopub.execute_input": "2020-10-27T14:25:43.611411Z",
     "iopub.status.busy": "2020-10-27T14:25:43.610895Z",
     "iopub.status.idle": "2020-10-27T14:25:43.614122Z",
     "shell.execute_reply": "2020-10-27T14:25:43.613685Z"
    }
   },
   "outputs": [],
   "source": [
    "# Target definition\n",
    "e_reco = MapAxis.from_energy_bounds(0.4, 20, 10, \"TeV\")\n",
    "e_true = MapAxis.from_energy_bounds(0.1, 40, 20, \"TeV\", name=\"energy_true\")\n",
    "\n",
    "on_region_radius = Angle(\"0.11 deg\")\n",
    "on_region = CircleSkyRegion(center=target_position, radius=on_region_radius)"
   ]
  },
  {
   "cell_type": "markdown",
   "metadata": {},
   "source": [
    "### Creation of the data reduction makers\n",
    "\n",
    "We now create the dataset and background makers for the selected geometry."
   ]
  },
  {
   "cell_type": "code",
   "execution_count": 8,
   "metadata": {
    "execution": {
     "iopub.execute_input": "2020-10-27T14:25:43.618668Z",
     "iopub.status.busy": "2020-10-27T14:25:43.618170Z",
     "iopub.status.idle": "2020-10-27T14:25:43.621532Z",
     "shell.execute_reply": "2020-10-27T14:25:43.620800Z"
    }
   },
   "outputs": [],
   "source": [
    "dataset_maker = SpectrumDatasetMaker(\n",
    "    containment_correction=True, selection=[\"counts\", \"exposure\", \"edisp\"]\n",
    ")\n",
    "bkg_maker = ReflectedRegionsBackgroundMaker()\n",
    "safe_mask_masker = SafeMaskMaker(methods=[\"aeff-max\"], aeff_percent=10)"
   ]
  },
  {
   "cell_type": "markdown",
   "metadata": {},
   "source": [
    "### Creation of the datasets\n",
    "\n",
    "Now we perform the actual data reduction in the time_intervals."
   ]
  },
  {
   "cell_type": "code",
   "execution_count": 9,
   "metadata": {
    "execution": {
     "iopub.execute_input": "2020-10-27T14:25:43.635903Z",
     "iopub.status.busy": "2020-10-27T14:25:43.625410Z",
     "iopub.status.idle": "2020-10-27T14:26:07.057099Z",
     "shell.execute_reply": "2020-10-27T14:26:07.057512Z"
    }
   },
   "outputs": [
    {
     "name": "stderr",
     "output_type": "stream",
     "text": [
      "No background model defined for dataset 9aqHX65a\n",
      "No background model defined for dataset 9aqHX65a\n",
      "No background model defined for dataset tlnMdiK2\n",
      "No background model defined for dataset tlnMdiK2\n",
      "No background model defined for dataset KgmPTGrH\n",
      "No background model defined for dataset KgmPTGrH\n",
      "No background model defined for dataset MZFdpjQ6\n",
      "No background model defined for dataset MZFdpjQ6\n",
      "No background model defined for dataset DXpaXCpV\n",
      "No background model defined for dataset DXpaXCpV\n",
      "No background model defined for dataset AJUoL24x\n",
      "No background model defined for dataset AJUoL24x\n",
      "No background model defined for dataset BHupugUu\n",
      "No background model defined for dataset BHupugUu\n",
      "No background model defined for dataset hWzT-oPD\n",
      "No background model defined for dataset hWzT-oPD\n",
      "No background model defined for dataset iQcKPUIi\n",
      "No background model defined for dataset iQcKPUIi\n",
      "No background model defined for dataset mu6r2mIp\n",
      "No background model defined for dataset mu6r2mIp\n",
      "No background model defined for dataset vDXWDVni\n",
      "No background model defined for dataset vDXWDVni\n",
      "No background model defined for dataset mG6iNeuP\n",
      "No background model defined for dataset mG6iNeuP\n",
      "No background model defined for dataset 03sYJLJJ\n",
      "No background model defined for dataset 03sYJLJJ\n",
      "No background model defined for dataset M6dMhvPN\n",
      "No background model defined for dataset M6dMhvPN\n",
      "No background model defined for dataset 2aKJQAky\n",
      "No background model defined for dataset 2aKJQAky\n",
      "No background model defined for dataset PdxmfnYL\n",
      "No background model defined for dataset PdxmfnYL\n",
      "No background model defined for dataset urclp4TZ\n",
      "No background model defined for dataset urclp4TZ\n",
      "No background model defined for dataset YU7p1Z_c\n",
      "No background model defined for dataset YU7p1Z_c\n",
      "No background model defined for dataset 9RdZosdO\n",
      "No background model defined for dataset 9RdZosdO\n",
      "No background model defined for dataset ZJ8H4A1k\n",
      "No background model defined for dataset ZJ8H4A1k\n",
      "No background model defined for dataset FaHmHjhc\n",
      "No background model defined for dataset FaHmHjhc\n",
      "No background model defined for dataset ftQ4-2LU\n",
      "No background model defined for dataset ftQ4-2LU\n",
      "No background model defined for dataset LW0lGutO\n",
      "No background model defined for dataset LW0lGutO\n",
      "No background model defined for dataset vMsTywKd\n",
      "No background model defined for dataset vMsTywKd\n",
      "No background model defined for dataset kOfoQlF-\n",
      "No background model defined for dataset kOfoQlF-\n",
      "No background model defined for dataset IexeGRbJ\n",
      "No background model defined for dataset IexeGRbJ\n",
      "No background model defined for dataset LvDFU6_N\n",
      "No background model defined for dataset LvDFU6_N\n",
      "No background model defined for dataset s7mfc4uU\n",
      "No background model defined for dataset s7mfc4uU\n",
      "No background model defined for dataset pDXooyOI\n",
      "No background model defined for dataset pDXooyOI\n",
      "No background model defined for dataset 7t9FmewG\n",
      "No background model defined for dataset 7t9FmewG\n",
      "No background model defined for dataset 860YF05F\n",
      "No background model defined for dataset 860YF05F\n",
      "No background model defined for dataset mVniEhrG\n",
      "No background model defined for dataset mVniEhrG\n",
      "No background model defined for dataset vlfo59Lw\n",
      "No background model defined for dataset vlfo59Lw\n",
      "No background model defined for dataset ku75dSWc\n",
      "No background model defined for dataset ku75dSWc\n",
      "No background model defined for dataset AppE5iM-\n",
      "No background model defined for dataset AppE5iM-\n",
      "No background model defined for dataset cBsuZlaT\n",
      "No background model defined for dataset cBsuZlaT\n",
      "No background model defined for dataset cTjXdZeR\n",
      "No background model defined for dataset cTjXdZeR\n",
      "No background model defined for dataset l08ZmerV\n",
      "No background model defined for dataset l08ZmerV\n",
      "No background model defined for dataset pDKgEEnq\n",
      "No background model defined for dataset pDKgEEnq\n",
      "No background model defined for dataset 4-3eiBIx\n",
      "No background model defined for dataset 4-3eiBIx\n",
      "No background model defined for dataset WN_iY0Ge\n",
      "No background model defined for dataset WN_iY0Ge\n",
      "No background model defined for dataset HZPuPv8t\n",
      "No background model defined for dataset HZPuPv8t\n",
      "No background model defined for dataset rzgNr4si\n",
      "No background model defined for dataset rzgNr4si\n",
      "No background model defined for dataset PZ7VRiYy\n",
      "No background model defined for dataset PZ7VRiYy\n"
     ]
    },
    {
     "name": "stdout",
     "output_type": "stream",
     "text": [
      "CPU times: user 23.2 s, sys: 346 ms, total: 23.5 s\n",
      "Wall time: 23.4 s\n"
     ]
    }
   ],
   "source": [
    "%%time\n",
    "datasets = []\n",
    "\n",
    "dataset_empty = SpectrumDataset.create(\n",
    "    e_reco=e_reco, e_true=e_true, region=on_region\n",
    ")\n",
    "\n",
    "for obs in short_observations:\n",
    "    dataset = dataset_maker.run(dataset_empty.copy(), obs)\n",
    "\n",
    "    dataset_on_off = bkg_maker.run(dataset, obs)\n",
    "    dataset_on_off = safe_mask_masker.run(dataset_on_off, obs)\n",
    "    datasets.append(dataset_on_off)"
   ]
  },
  {
   "cell_type": "markdown",
   "metadata": {},
   "source": [
    "## Define the Model\n",
    "\n",
    "The actual flux will depend on the spectral shape assumed. For simplicity, we use the power law spectral model of index 3.4 used in the [reference paper](https://ui.adsabs.harvard.edu/abs/2009A%26A...502..749A/abstract).\n",
    "\n",
    "Here we use only a spectral model in the `~gammapy.modeling.models.SkyModel` object."
   ]
  },
  {
   "cell_type": "code",
   "execution_count": 10,
   "metadata": {
    "execution": {
     "iopub.execute_input": "2020-10-27T14:26:07.066002Z",
     "iopub.status.busy": "2020-10-27T14:26:07.065408Z",
     "iopub.status.idle": "2020-10-27T14:26:07.068943Z",
     "shell.execute_reply": "2020-10-27T14:26:07.068513Z"
    }
   },
   "outputs": [],
   "source": [
    "spectral_model = PowerLawSpectralModel(\n",
    "    index=3.4, amplitude=2e-11 * u.Unit(\"1 / (cm2 s TeV)\"), reference=1 * u.TeV\n",
    ")\n",
    "spectral_model.parameters[\"index\"].frozen = False\n",
    "\n",
    "sky_model = SkyModel(\n",
    "    spatial_model=None, spectral_model=spectral_model, name=\"pks2155\"\n",
    ")"
   ]
  },
  {
   "cell_type": "markdown",
   "metadata": {},
   "source": [
    "### Assign to model to all datasets\n",
    "\n",
    "We assign each dataset its spectral model"
   ]
  },
  {
   "cell_type": "code",
   "execution_count": 11,
   "metadata": {
    "execution": {
     "iopub.execute_input": "2020-10-27T14:26:07.072241Z",
     "iopub.status.busy": "2020-10-27T14:26:07.071729Z",
     "iopub.status.idle": "2020-10-27T14:26:07.128899Z",
     "shell.execute_reply": "2020-10-27T14:26:07.128380Z"
    }
   },
   "outputs": [
    {
     "name": "stderr",
     "output_type": "stream",
     "text": [
      "No background model defined for dataset 9aqHX65a\n",
      "No background model defined for dataset tlnMdiK2\n",
      "No background model defined for dataset KgmPTGrH\n",
      "No background model defined for dataset MZFdpjQ6\n",
      "No background model defined for dataset DXpaXCpV\n",
      "No background model defined for dataset AJUoL24x\n",
      "No background model defined for dataset BHupugUu\n",
      "No background model defined for dataset hWzT-oPD\n",
      "No background model defined for dataset iQcKPUIi\n",
      "No background model defined for dataset mu6r2mIp\n",
      "No background model defined for dataset vDXWDVni\n",
      "No background model defined for dataset mG6iNeuP\n",
      "No background model defined for dataset 03sYJLJJ\n",
      "No background model defined for dataset M6dMhvPN\n",
      "No background model defined for dataset 2aKJQAky\n",
      "No background model defined for dataset PdxmfnYL\n",
      "No background model defined for dataset urclp4TZ\n",
      "No background model defined for dataset YU7p1Z_c\n",
      "No background model defined for dataset 9RdZosdO\n",
      "No background model defined for dataset ZJ8H4A1k\n",
      "No background model defined for dataset FaHmHjhc\n",
      "No background model defined for dataset ftQ4-2LU\n",
      "No background model defined for dataset LW0lGutO\n",
      "No background model defined for dataset vMsTywKd\n",
      "No background model defined for dataset kOfoQlF-\n",
      "No background model defined for dataset IexeGRbJ\n",
      "No background model defined for dataset LvDFU6_N\n",
      "No background model defined for dataset s7mfc4uU\n",
      "No background model defined for dataset pDXooyOI\n",
      "No background model defined for dataset 7t9FmewG\n",
      "No background model defined for dataset 860YF05F\n",
      "No background model defined for dataset mVniEhrG\n",
      "No background model defined for dataset vlfo59Lw\n",
      "No background model defined for dataset ku75dSWc\n",
      "No background model defined for dataset AppE5iM-\n",
      "No background model defined for dataset cBsuZlaT\n",
      "No background model defined for dataset cTjXdZeR\n",
      "No background model defined for dataset l08ZmerV\n",
      "No background model defined for dataset pDKgEEnq\n",
      "No background model defined for dataset 4-3eiBIx\n",
      "No background model defined for dataset WN_iY0Ge\n",
      "No background model defined for dataset HZPuPv8t\n",
      "No background model defined for dataset rzgNr4si\n",
      "No background model defined for dataset PZ7VRiYy\n"
     ]
    }
   ],
   "source": [
    "for dataset in datasets:\n",
    "    dataset.models = sky_model"
   ]
  },
  {
   "cell_type": "markdown",
   "metadata": {},
   "source": [
    "## Extract the light curve\n",
    "\n",
    "We first create the `~gammapy.time.LightCurveEstimator` for the list of datasets we just produced. We give the estimator the name of the source component to be fitted."
   ]
  },
  {
   "cell_type": "code",
   "execution_count": 12,
   "metadata": {
    "execution": {
     "iopub.execute_input": "2020-10-27T14:26:07.133203Z",
     "iopub.status.busy": "2020-10-27T14:26:07.132142Z",
     "iopub.status.idle": "2020-10-27T14:26:07.133722Z",
     "shell.execute_reply": "2020-10-27T14:26:07.134209Z"
    }
   },
   "outputs": [],
   "source": [
    "lc_maker_1d = LightCurveEstimator(e_edges=[0.7, 20] * u.TeV, source=\"pks2155\")"
   ]
  },
  {
   "cell_type": "markdown",
   "metadata": {},
   "source": [
    "We can now perform the light curve extraction itself. To compare with the [reference paper](https://ui.adsabs.harvard.edu/abs/2009A%26A...502..749A/abstract), we select the 0.7-20 TeV range."
   ]
  },
  {
   "cell_type": "code",
   "execution_count": 13,
   "metadata": {
    "execution": {
     "iopub.execute_input": "2020-10-27T14:26:07.192988Z",
     "iopub.status.busy": "2020-10-27T14:26:07.192307Z",
     "iopub.status.idle": "2020-10-27T14:26:27.987675Z",
     "shell.execute_reply": "2020-10-27T14:26:27.986772Z"
    }
   },
   "outputs": [
    {
     "name": "stderr",
     "output_type": "stream",
     "text": [
      "No background model defined for dataset 9aqHX65a-0.700 TeV-20.000 TeV\n",
      "No background model defined for dataset 9aqHX65a-0.700 TeV-20.000 TeV\n",
      "No background model defined for dataset tlnMdiK2-0.700 TeV-20.000 TeV\n",
      "No background model defined for dataset tlnMdiK2-0.700 TeV-20.000 TeV\n",
      "No background model defined for dataset KgmPTGrH-0.700 TeV-20.000 TeV\n",
      "No background model defined for dataset KgmPTGrH-0.700 TeV-20.000 TeV\n",
      "No background model defined for dataset MZFdpjQ6-0.700 TeV-20.000 TeV\n",
      "No background model defined for dataset MZFdpjQ6-0.700 TeV-20.000 TeV\n",
      "No background model defined for dataset DXpaXCpV-0.700 TeV-20.000 TeV\n",
      "No background model defined for dataset DXpaXCpV-0.700 TeV-20.000 TeV\n",
      "No background model defined for dataset AJUoL24x-0.700 TeV-20.000 TeV\n",
      "No background model defined for dataset AJUoL24x-0.700 TeV-20.000 TeV\n",
      "No background model defined for dataset BHupugUu-0.700 TeV-20.000 TeV\n",
      "No background model defined for dataset BHupugUu-0.700 TeV-20.000 TeV\n",
      "No background model defined for dataset hWzT-oPD-0.700 TeV-20.000 TeV\n",
      "No background model defined for dataset hWzT-oPD-0.700 TeV-20.000 TeV\n",
      "No background model defined for dataset iQcKPUIi-0.700 TeV-20.000 TeV\n",
      "No background model defined for dataset iQcKPUIi-0.700 TeV-20.000 TeV\n",
      "No background model defined for dataset mu6r2mIp-0.700 TeV-20.000 TeV\n",
      "No background model defined for dataset mu6r2mIp-0.700 TeV-20.000 TeV\n",
      "No background model defined for dataset vDXWDVni-0.700 TeV-20.000 TeV\n",
      "No background model defined for dataset vDXWDVni-0.700 TeV-20.000 TeV\n",
      "No background model defined for dataset mG6iNeuP-0.700 TeV-20.000 TeV\n",
      "No background model defined for dataset mG6iNeuP-0.700 TeV-20.000 TeV\n",
      "No background model defined for dataset 03sYJLJJ-0.700 TeV-20.000 TeV\n",
      "No background model defined for dataset 03sYJLJJ-0.700 TeV-20.000 TeV\n",
      "No background model defined for dataset M6dMhvPN-0.700 TeV-20.000 TeV\n",
      "No background model defined for dataset M6dMhvPN-0.700 TeV-20.000 TeV\n",
      "No background model defined for dataset 2aKJQAky-0.700 TeV-20.000 TeV\n",
      "No background model defined for dataset 2aKJQAky-0.700 TeV-20.000 TeV\n",
      "No background model defined for dataset PdxmfnYL-0.700 TeV-20.000 TeV\n",
      "No background model defined for dataset PdxmfnYL-0.700 TeV-20.000 TeV\n",
      "No background model defined for dataset urclp4TZ-0.700 TeV-20.000 TeV\n",
      "No background model defined for dataset urclp4TZ-0.700 TeV-20.000 TeV\n",
      "No background model defined for dataset YU7p1Z_c-0.700 TeV-20.000 TeV\n",
      "No background model defined for dataset YU7p1Z_c-0.700 TeV-20.000 TeV\n",
      "No background model defined for dataset 9RdZosdO-0.700 TeV-20.000 TeV\n",
      "No background model defined for dataset 9RdZosdO-0.700 TeV-20.000 TeV\n",
      "No background model defined for dataset ZJ8H4A1k-0.700 TeV-20.000 TeV\n",
      "No background model defined for dataset ZJ8H4A1k-0.700 TeV-20.000 TeV\n",
      "No background model defined for dataset FaHmHjhc-0.700 TeV-20.000 TeV\n",
      "No background model defined for dataset FaHmHjhc-0.700 TeV-20.000 TeV\n",
      "No background model defined for dataset ftQ4-2LU-0.700 TeV-20.000 TeV\n",
      "No background model defined for dataset ftQ4-2LU-0.700 TeV-20.000 TeV\n",
      "No background model defined for dataset LW0lGutO-0.700 TeV-20.000 TeV\n",
      "No background model defined for dataset LW0lGutO-0.700 TeV-20.000 TeV\n",
      "No background model defined for dataset vMsTywKd-0.700 TeV-20.000 TeV\n",
      "No background model defined for dataset vMsTywKd-0.700 TeV-20.000 TeV\n",
      "No background model defined for dataset kOfoQlF--0.700 TeV-20.000 TeV\n",
      "No background model defined for dataset kOfoQlF--0.700 TeV-20.000 TeV\n",
      "No background model defined for dataset IexeGRbJ-0.700 TeV-20.000 TeV\n",
      "No background model defined for dataset IexeGRbJ-0.700 TeV-20.000 TeV\n",
      "No background model defined for dataset LvDFU6_N-0.700 TeV-20.000 TeV\n",
      "No background model defined for dataset LvDFU6_N-0.700 TeV-20.000 TeV\n",
      "No background model defined for dataset s7mfc4uU-0.700 TeV-20.000 TeV\n",
      "No background model defined for dataset s7mfc4uU-0.700 TeV-20.000 TeV\n",
      "No background model defined for dataset pDXooyOI-0.700 TeV-20.000 TeV\n",
      "No background model defined for dataset pDXooyOI-0.700 TeV-20.000 TeV\n",
      "No background model defined for dataset 7t9FmewG-0.700 TeV-20.000 TeV\n",
      "No background model defined for dataset 7t9FmewG-0.700 TeV-20.000 TeV\n",
      "No background model defined for dataset 860YF05F-0.700 TeV-20.000 TeV\n",
      "No background model defined for dataset 860YF05F-0.700 TeV-20.000 TeV\n",
      "No background model defined for dataset mVniEhrG-0.700 TeV-20.000 TeV\n",
      "No background model defined for dataset mVniEhrG-0.700 TeV-20.000 TeV\n",
      "No background model defined for dataset vlfo59Lw-0.700 TeV-20.000 TeV\n",
      "No background model defined for dataset vlfo59Lw-0.700 TeV-20.000 TeV\n",
      "No background model defined for dataset ku75dSWc-0.700 TeV-20.000 TeV\n",
      "No background model defined for dataset ku75dSWc-0.700 TeV-20.000 TeV\n",
      "No background model defined for dataset AppE5iM--0.700 TeV-20.000 TeV\n",
      "No background model defined for dataset AppE5iM--0.700 TeV-20.000 TeV\n",
      "No background model defined for dataset cBsuZlaT-0.700 TeV-20.000 TeV\n",
      "No background model defined for dataset cBsuZlaT-0.700 TeV-20.000 TeV\n",
      "No background model defined for dataset cTjXdZeR-0.700 TeV-20.000 TeV\n",
      "No background model defined for dataset cTjXdZeR-0.700 TeV-20.000 TeV\n",
      "No background model defined for dataset l08ZmerV-0.700 TeV-20.000 TeV\n",
      "No background model defined for dataset l08ZmerV-0.700 TeV-20.000 TeV\n",
      "No background model defined for dataset pDKgEEnq-0.700 TeV-20.000 TeV\n",
      "No background model defined for dataset pDKgEEnq-0.700 TeV-20.000 TeV\n",
      "No background model defined for dataset 4-3eiBIx-0.700 TeV-20.000 TeV\n",
      "No background model defined for dataset 4-3eiBIx-0.700 TeV-20.000 TeV\n",
      "No background model defined for dataset WN_iY0Ge-0.700 TeV-20.000 TeV\n",
      "No background model defined for dataset WN_iY0Ge-0.700 TeV-20.000 TeV\n",
      "No background model defined for dataset HZPuPv8t-0.700 TeV-20.000 TeV\n",
      "No background model defined for dataset HZPuPv8t-0.700 TeV-20.000 TeV\n",
      "No background model defined for dataset rzgNr4si-0.700 TeV-20.000 TeV\n",
      "No background model defined for dataset rzgNr4si-0.700 TeV-20.000 TeV\n",
      "No background model defined for dataset PZ7VRiYy-0.700 TeV-20.000 TeV\n",
      "No background model defined for dataset PZ7VRiYy-0.700 TeV-20.000 TeV\n"
     ]
    },
    {
     "name": "stdout",
     "output_type": "stream",
     "text": [
      "CPU times: user 20.9 s, sys: 114 ms, total: 21 s\n",
      "Wall time: 20.8 s\n"
     ]
    }
   ],
   "source": [
    "%%time\n",
    "lc_1d = lc_maker_1d.run(datasets)"
   ]
  },
  {
   "cell_type": "markdown",
   "metadata": {},
   "source": [
    "Finally we plot the result for the 1D lightcurve:"
   ]
  },
  {
   "cell_type": "code",
   "execution_count": 14,
   "metadata": {
    "execution": {
     "iopub.execute_input": "2020-10-27T14:26:28.019407Z",
     "iopub.status.busy": "2020-10-27T14:26:28.015996Z",
     "iopub.status.idle": "2020-10-27T14:26:28.150393Z",
     "shell.execute_reply": "2020-10-27T14:26:28.149845Z"
    }
   },
   "outputs": [
    {
     "name": "stderr",
     "output_type": "stream",
     "text": [
      "No handles with labels found to put in legend.\n"
     ]
    },
    {
     "data": {
      "text/plain": [
       "<AxesSubplot:xlabel='Time (MJD)', ylabel='Flux (cm-2 s-1)'>"
      ]
     },
     "execution_count": 1,
     "metadata": {},
     "output_type": "execute_result"
    },
    {
     "data": {
      "image/png": "[encoded data removed]",
      "text/plain": [
       "<Figure size 432x288 with 1 Axes>"
      ]
     },
     "metadata": {
      "needs_background": "light"
     },
     "output_type": "display_data"
    }
   ],
   "source": [
    "lc_1d.plot(marker=\"o\")"
   ]
  },
  {
   "cell_type": "code",
   "execution_count": null,
   "metadata": {},
   "outputs": [],
   "source": []
  }
 ],
 "metadata": {
  "kernelspec": {
   "display_name": "Python 3",
   "language": "python",
   "name": "python3"
  },
  "language_info": {
   "codemirror_mode": {
    "name": "ipython",
    "version": 3
   },
   "file_extension": ".py",
   "mimetype": "text/x-python",
   "name": "python",
   "nbconvert_exporter": "python",
   "pygments_lexer": "ipython3",
   "version": "3.7.0"
  },
  "nbsphinx": {
   "orphan": true
  }
 },
 "nbformat": 4,
 "nbformat_minor": 4
}
