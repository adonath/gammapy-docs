{
 "cells": [
  {
   "cell_type": "markdown",
   "metadata": {},
   "source": [
    "\n",
    "<div class=\"alert alert-info\">\n",
    "\n",
    "**This is a fixed-text formatted version of a Jupyter notebook**\n",
    "\n",
    "- Try online [![Binder](https://static.mybinder.org/badge.svg)](https://mybinder.org/v2/gh/gammapy/gammapy-webpage/master?urlpath=lab/tree/spectrum_analysis.ipynb)\n",
    "- You can contribute with your own notebooks in this\n",
    "[GitHub repository](https://github.com/gammapy/gammapy/tree/master/docs/tutorials).\n",
    "- **Source files:**\n",
    "[spectrum_analysis.ipynb](../_static/notebooks/spectrum_analysis.ipynb) |\n",
    "[spectrum_analysis.py](../_static/notebooks/spectrum_analysis.py)\n",
    "</div>\n"
   ]
  },
  {
   "cell_type": "markdown",
   "metadata": {},
   "source": [
    "# Modeling and fitting\n",
    "\n",
    "\n",
    "## Prerequisites\n",
    "\n",
    "- Knowledge of spectral analysis to produce 1D On-Off datasets, [see the following tutorial](spectrum_analysis.ipynb)\n",
    "- Reading of pre-computed datasets [see the MWL tutorial](analysis_mwl.ipynb)\n",
    "- General knowledge on statistics and optimization methods\n",
    "\n",
    "## Proposed approach\n",
    "\n",
    "This is a hands-on tutorial to `~gammapy.modeling`, showing how the model, dataset and fit classes work together. As an example we are going to work with HESS data of the Crab Nebula and show in particular how to :\n",
    "- perform a spectral analysis\n",
    "- use different fitting backends\n",
    "- acces covariance matrix informations and parameter errors\n",
    "- compute likelihood profile\n",
    "- compute confidence contours\n",
    "\n",
    "See also: [Models gallery tutorial](models.ipynb) and `docs/modeling/index.rst`.\n",
    "\n",
    "\n",
    "## The setup"
   ]
  },
  {
   "cell_type": "code",
   "execution_count": 1,
   "metadata": {
    "execution": {
     "iopub.execute_input": "2020-11-04T16:59:50.436106Z",
     "iopub.status.busy": "2020-11-04T16:59:50.435435Z",
     "iopub.status.idle": "2020-11-04T16:59:51.810126Z",
     "shell.execute_reply": "2020-11-04T16:59:51.810775Z"
    }
   },
   "outputs": [],
   "source": [
    "import numpy as np\n",
    "from astropy import units as u\n",
    "import matplotlib.pyplot as plt\n",
    "import scipy.stats as st\n",
    "from gammapy.modeling import Fit\n",
    "from gammapy.datasets import Datasets, SpectrumDatasetOnOff\n",
    "from gammapy.modeling.models import LogParabolaSpectralModel, SkyModel\n",
    "from gammapy.visualization.utils import plot_contour_line\n",
    "from itertools import combinations"
   ]
  },
  {
   "cell_type": "markdown",
   "metadata": {},
   "source": [
    "## Model and dataset\n",
    "\n",
    "First we define the source model, here we need only a spectral model for which we choose a log-parabola"
   ]
  },
  {
   "cell_type": "code",
   "execution_count": 2,
   "metadata": {
    "execution": {
     "iopub.execute_input": "2020-11-04T16:59:51.822933Z",
     "iopub.status.busy": "2020-11-04T16:59:51.822308Z",
     "iopub.status.idle": "2020-11-04T16:59:51.826164Z",
     "shell.execute_reply": "2020-11-04T16:59:51.825657Z"
    }
   },
   "outputs": [],
   "source": [
    "crab_spectrum = LogParabolaSpectralModel(\n",
    "    amplitude=1e-11 / u.cm ** 2 / u.s / u.TeV,\n",
    "    reference=1 * u.TeV,\n",
    "    alpha=2.3,\n",
    "    beta=0.2,\n",
    ")\n",
    "\n",
    "crab_spectrum.alpha.max = 3\n",
    "crab_spectrum.alpha.min = 1\n",
    "crab_model = SkyModel(spectral_model=crab_spectrum, name=\"crab\")"
   ]
  },
  {
   "cell_type": "markdown",
   "metadata": {},
   "source": [
    "The data and background are read from pre-computed ON/OFF datasets of HESS observations, for simplicity we stack them together.\n",
    "Then we set the model and fit range to the resulting dataset."
   ]
  },
  {
   "cell_type": "code",
   "execution_count": 3,
   "metadata": {
    "execution": {
     "iopub.execute_input": "2020-11-04T16:59:51.834128Z",
     "iopub.status.busy": "2020-11-04T16:59:51.833377Z",
     "iopub.status.idle": "2020-11-04T16:59:52.121146Z",
     "shell.execute_reply": "2020-11-04T16:59:52.120449Z"
    }
   },
   "outputs": [],
   "source": [
    "datasets = []\n",
    "for obs_id in [23523, 23526]:\n",
    "    dataset = SpectrumDatasetOnOff.from_ogip_files(\n",
    "        f\"$GAMMAPY_DATA/joint-crab/spectra/hess/pha_obs{obs_id}.fits\"\n",
    "    )\n",
    "    datasets.append(dataset)\n",
    "\n",
    "dataset_hess = Datasets(datasets).stack_reduce(name=\"HESS\")\n",
    "\n",
    "# Set model and fit range\n",
    "dataset_hess.models = crab_model\n",
    "e_min = 0.66 * u.TeV\n",
    "e_max = 30 * u.TeV\n",
    "dataset_hess.mask_fit = dataset_hess.counts.geom.energy_mask(e_min, e_max)"
   ]
  },
  {
   "cell_type": "markdown",
   "metadata": {},
   "source": [
    "## Fitting options\n",
    "\n",
    "\n",
    "\n",
    "First let's create a `Fit` instance:"
   ]
  },
  {
   "cell_type": "code",
   "execution_count": 4,
   "metadata": {
    "execution": {
     "iopub.execute_input": "2020-11-04T16:59:52.126591Z",
     "iopub.status.busy": "2020-11-04T16:59:52.124999Z",
     "iopub.status.idle": "2020-11-04T16:59:52.127413Z",
     "shell.execute_reply": "2020-11-04T16:59:52.127965Z"
    }
   },
   "outputs": [],
   "source": [
    "fit = Fit([dataset_hess], store_trace=True)"
   ]
  },
  {
   "cell_type": "markdown",
   "metadata": {},
   "source": [
    "By default the fit is performed using MINUIT, you can select alternative optimizers and set their option using the `optimize_opts` argument of the `Fit.run()` method. In addition we have specified to store the trace of parameter values of the fit.\n",
    "\n",
    "Note that, for now, covaraince matrix and errors are computed only for the fitting with MINUIT. However depending on the problem other optimizers can better perform, so somethimes it can be usefull to run a pre-fit with alternative optimization methods.\n",
    "\n",
    "For the \"scipy\" backend the available options are desribed in detail here:  \n",
    "https://docs.scipy.org/doc/scipy/reference/generated/scipy.optimize.minimize.html"
   ]
  },
  {
   "cell_type": "code",
   "execution_count": 5,
   "metadata": {
    "execution": {
     "iopub.execute_input": "2020-11-04T16:59:52.147059Z",
     "iopub.status.busy": "2020-11-04T16:59:52.139759Z",
     "iopub.status.idle": "2020-11-04T16:59:52.482322Z",
     "shell.execute_reply": "2020-11-04T16:59:52.481788Z"
    }
   },
   "outputs": [
    {
     "name": "stderr",
     "output_type": "stream",
     "text": [
      "No covariance estimate - not supported by this backend.\n"
     ]
    },
    {
     "name": "stdout",
     "output_type": "stream",
     "text": [
      "CPU times: user 348 ms, sys: 597 µs, total: 349 ms\n",
      "Wall time: 346 ms\n"
     ]
    }
   ],
   "source": [
    "%%time\n",
    "scipy_opts = {\"method\": \"L-BFGS-B\", \"options\": {\"ftol\": 1e-4, \"gtol\": 1e-05}}\n",
    "result_scipy = fit.run(backend=\"scipy\", optimize_opts=scipy_opts)"
   ]
  },
  {
   "cell_type": "markdown",
   "metadata": {},
   "source": [
    "For the \"sherpa\" backend you can choose the optimization algorithm between method = {\"simplex\",  \"levmar\", \"moncar\", \"gridsearch\"}.  \n",
    "Those methods are described and compared in detail on http://cxc.cfa.harvard.edu/sherpa/methods/index.html.  \n",
    "The available options of the optimization methods are described on the following page https://cxc.cfa.harvard.edu/sherpa/methods/opt_methods.html"
   ]
  },
  {
   "cell_type": "code",
   "execution_count": 6,
   "metadata": {
    "execution": {
     "iopub.execute_input": "2020-11-04T16:59:52.488313Z",
     "iopub.status.busy": "2020-11-04T16:59:52.487702Z",
     "iopub.status.idle": "2020-11-04T16:59:53.229352Z",
     "shell.execute_reply": "2020-11-04T16:59:53.228816Z"
    }
   },
   "outputs": [
    {
     "name": "stderr",
     "output_type": "stream",
     "text": [
      "No covariance estimate - not supported by this backend.\n"
     ]
    },
    {
     "name": "stdout",
     "output_type": "stream",
     "text": [
      "CPU times: user 741 ms, sys: 0 ns, total: 741 ms\n",
      "Wall time: 738 ms\n"
     ]
    }
   ],
   "source": [
    "%%time\n",
    "sherpa_opts = {\"method\": \"simplex\", \"ftol\": 1e-3, \"maxfev\": int(1e4)}\n",
    "results_simplex = fit.run(backend=\"sherpa\", optimize_opts=sherpa_opts)"
   ]
  },
  {
   "cell_type": "markdown",
   "metadata": {},
   "source": [
    "For the \"minuit\" backend see https://iminuit.readthedocs.io/en/latest/reference.html for a detailed description of the available options. If there is an entry ‘migrad_opts’, those options will be passed to [iminuit.Minuit.migrad](https://iminuit.readthedocs.io/en/latest/reference.html#iminuit.Minuit.migrad). Additionnaly you can set the fit tolerance using the [tol](https://iminuit.readthedocs.io/en/latest/reference.html#iminuit.Minuit.tol\n",
    ") option. The minimization will stop when the estimated distance to the minimum is less than 0.001*tol (by default tol=0.1). The [strategy](https://iminuit.readthedocs.io/en/latest/reference.html#iminuit.Minuit.strategy) option change the speed and accuracy of the optimizer: 0 fast, 1 default, 2 slow but accurate. If you want more reliable error estimates, you should run the final fit with strategy 2.\n"
   ]
  },
  {
   "cell_type": "code",
   "execution_count": 7,
   "metadata": {
    "execution": {
     "iopub.execute_input": "2020-11-04T16:59:53.235909Z",
     "iopub.status.busy": "2020-11-04T16:59:53.235322Z",
     "iopub.status.idle": "2020-11-04T16:59:53.450904Z",
     "shell.execute_reply": "2020-11-04T16:59:53.450252Z"
    }
   },
   "outputs": [
    {
     "name": "stdout",
     "output_type": "stream",
     "text": [
      "CPU times: user 215 ms, sys: 0 ns, total: 215 ms\n",
      "Wall time: 214 ms\n"
     ]
    }
   ],
   "source": [
    "%%time\n",
    "minuit_opts = {\"tol\": 0.001, \"strategy\": 1}\n",
    "result_minuit = fit.run(backend=\"minuit\", optimize_opts=minuit_opts)"
   ]
  },
  {
   "cell_type": "markdown",
   "metadata": {},
   "source": [
    "## Fit quality assessment\n",
    "\n",
    "There are various ways to check the convergence and quality of a fit. Among them:\n",
    "\n",
    "- Refer to the automatically-generated results dictionary"
   ]
  },
  {
   "cell_type": "code",
   "execution_count": 8,
   "metadata": {
    "execution": {
     "iopub.execute_input": "2020-11-04T16:59:53.457187Z",
     "iopub.status.busy": "2020-11-04T16:59:53.455714Z",
     "iopub.status.idle": "2020-11-04T16:59:53.458713Z",
     "shell.execute_reply": "2020-11-04T16:59:53.459471Z"
    }
   },
   "outputs": [
    {
     "name": "stdout",
     "output_type": "stream",
     "text": [
      "OptimizeResult\n",
      "\n",
      "\tbackend    : scipy\n",
      "\tmethod     : L-BFGS-B\n",
      "\tsuccess    : True\n",
      "\tmessage    : b'CONVERGENCE: REL_REDUCTION_OF_F_<=_FACTR*EPSMCH'\n",
      "\tnfev       : 60\n",
      "\ttotal stat : 30.35\n",
      "\n"
     ]
    }
   ],
   "source": [
    "print(result_scipy)"
   ]
  },
  {
   "cell_type": "code",
   "execution_count": 9,
   "metadata": {
    "execution": {
     "iopub.execute_input": "2020-11-04T16:59:53.464639Z",
     "iopub.status.busy": "2020-11-04T16:59:53.463288Z",
     "iopub.status.idle": "2020-11-04T16:59:53.465944Z",
     "shell.execute_reply": "2020-11-04T16:59:53.466571Z"
    }
   },
   "outputs": [
    {
     "name": "stdout",
     "output_type": "stream",
     "text": [
      "OptimizeResult\n",
      "\n",
      "\tbackend    : sherpa\n",
      "\tmethod     : simplex\n",
      "\tsuccess    : True\n",
      "\tmessage    : Optimization terminated successfully\n",
      "\tnfev       : 135\n",
      "\ttotal stat : 30.35\n",
      "\n"
     ]
    }
   ],
   "source": [
    "print(results_simplex)"
   ]
  },
  {
   "cell_type": "code",
   "execution_count": 10,
   "metadata": {
    "execution": {
     "iopub.execute_input": "2020-11-04T16:59:53.471738Z",
     "iopub.status.busy": "2020-11-04T16:59:53.470354Z",
     "iopub.status.idle": "2020-11-04T16:59:53.473089Z",
     "shell.execute_reply": "2020-11-04T16:59:53.473766Z"
    }
   },
   "outputs": [
    {
     "name": "stdout",
     "output_type": "stream",
     "text": [
      "OptimizeResult\n",
      "\n",
      "\tbackend    : minuit\n",
      "\tmethod     : minuit\n",
      "\tsuccess    : True\n",
      "\tmessage    : Optimization terminated successfully.\n",
      "\tnfev       : 39\n",
      "\ttotal stat : 30.35\n",
      "\n"
     ]
    }
   ],
   "source": [
    "print(result_minuit)"
   ]
  },
  {
   "cell_type": "markdown",
   "metadata": {},
   "source": [
    "- Check the trace of the fit e.g. in case the fit did not converge properly"
   ]
  },
  {
   "cell_type": "code",
   "execution_count": 11,
   "metadata": {
    "execution": {
     "iopub.execute_input": "2020-11-04T16:59:53.487923Z",
     "iopub.status.busy": "2020-11-04T16:59:53.486790Z",
     "iopub.status.idle": "2020-11-04T16:59:53.490288Z",
     "shell.execute_reply": "2020-11-04T16:59:53.490848Z"
    }
   },
   "outputs": [
    {
     "data": {
      "text/html": [
       "<i>Table length=39</i>\n",
       "<table id=\"table139620418635816\" class=\"table-striped table-bordered table-condensed\">\n",
       "<thead><tr><th>total_stat</th><th>crab.spectral.amplitude</th><th>crab.spectral.alpha</th><th>crab.spectral.beta</th></tr></thead>\n",
       "<thead><tr><th>float64</th><th>float64</th><th>float64</th><th>float64</th></tr></thead>\n",
       "<tr><td>30.349530528675842</td><td>3.812199704165969e-11</td><td>2.1957470128379213</td><td>0.2264826612157046</td></tr>\n",
       "<tr><td>30.351034175667913</td><td>3.8221997041659686e-11</td><td>2.1957470128379213</td><td>0.2264826612157046</td></tr>\n",
       "<tr><td>30.351002218789773</td><td>3.802199704165969e-11</td><td>2.1957470128379213</td><td>0.2264826612157046</td></tr>\n",
       "<tr><td>30.349547240608047</td><td>3.813199704165968e-11</td><td>2.1957470128379213</td><td>0.2264826612157046</td></tr>\n",
       "<tr><td>30.349543570029027</td><td>3.8111997041659686e-11</td><td>2.1957470128379213</td><td>0.2264826612157046</td></tr>\n",
       "<tr><td>30.370145225431756</td><td>3.812199704165969e-11</td><td>2.2080055279155255</td><td>0.2264826612157046</td></tr>\n",
       "<tr><td>30.370743237485915</td><td>3.812199704165969e-11</td><td>2.183457832856056</td><td>0.2264826612157046</td></tr>\n",
       "<tr><td>30.349732485120583</td><td>3.812199704165969e-11</td><td>2.196974275991078</td><td>0.2264826612157046</td></tr>\n",
       "<tr><td>30.349746835181442</td><td>3.812199704165969e-11</td><td>2.194519443031759</td><td>0.2264826612157046</td></tr>\n",
       "<tr><td>30.34953668839425</td><td>3.812199704165969e-11</td><td>2.195979050067139</td><td>0.2264826612157046</td></tr>\n",
       "<tr><td>...</td><td>...</td><td>...</td><td>...</td></tr>\n",
       "<tr><td>30.34953805677781</td><td>3.812174123010685e-11</td><td>2.1957554755082325</td><td>0.22635136289737764</td></tr>\n",
       "<tr><td>30.34953075273051</td><td>3.812315886076533e-11</td><td>2.1957554755082325</td><td>0.2264887752625363</td></tr>\n",
       "<tr><td>30.34953073643649</td><td>3.8120323599448373e-11</td><td>2.1957554755082325</td><td>0.2264887752625363</td></tr>\n",
       "<tr><td>30.34953078569673</td><td>3.812174123010685e-11</td><td>2.1958018837572575</td><td>0.2264887752625363</td></tr>\n",
       "<tr><td>30.34953070342865</td><td>3.812174123010685e-11</td><td>2.1957090668208</td><td>0.2264887752625363</td></tr>\n",
       "<tr><td>30.349530717511996</td><td>3.812174123010685e-11</td><td>2.1957554755082325</td><td>0.22651625773556805</td></tr>\n",
       "<tr><td>30.349530771604073</td><td>3.812174123010685e-11</td><td>2.1957554755082325</td><td>0.22646129278950455</td></tr>\n",
       "<tr><td>30.349535792480374</td><td>3.812882938339923e-11</td><td>2.195987512367205</td><td>0.2264887752625363</td></tr>\n",
       "<tr><td>30.34953713602546</td><td>3.812882938339923e-11</td><td>2.1957554755082325</td><td>0.22662618762769493</td></tr>\n",
       "<tr><td>30.349559344309938</td><td>3.812174123010685e-11</td><td>2.195987512367205</td><td>0.22662618762769493</td></tr>\n",
       "</table>"
      ],
      "text/plain": [
       "<Table length=39>\n",
       "    total_stat     crab.spectral.amplitude ...  crab.spectral.beta\n",
       "     float64               float64         ...       float64      \n",
       "------------------ ----------------------- ... -------------------\n",
       "30.349530528675842   3.812199704165969e-11 ...  0.2264826612157046\n",
       "30.351034175667913  3.8221997041659686e-11 ...  0.2264826612157046\n",
       "30.351002218789773   3.802199704165969e-11 ...  0.2264826612157046\n",
       "30.349547240608047   3.813199704165968e-11 ...  0.2264826612157046\n",
       "30.349543570029027  3.8111997041659686e-11 ...  0.2264826612157046\n",
       "30.370145225431756   3.812199704165969e-11 ...  0.2264826612157046\n",
       "30.370743237485915   3.812199704165969e-11 ...  0.2264826612157046\n",
       "30.349732485120583   3.812199704165969e-11 ...  0.2264826612157046\n",
       "30.349746835181442   3.812199704165969e-11 ...  0.2264826612157046\n",
       " 30.34953668839425   3.812199704165969e-11 ...  0.2264826612157046\n",
       "               ...                     ... ...                 ...\n",
       " 30.34953805677781   3.812174123010685e-11 ... 0.22635136289737764\n",
       " 30.34953075273051   3.812315886076533e-11 ...  0.2264887752625363\n",
       " 30.34953073643649  3.8120323599448373e-11 ...  0.2264887752625363\n",
       " 30.34953078569673   3.812174123010685e-11 ...  0.2264887752625363\n",
       " 30.34953070342865   3.812174123010685e-11 ...  0.2264887752625363\n",
       "30.349530717511996   3.812174123010685e-11 ... 0.22651625773556805\n",
       "30.349530771604073   3.812174123010685e-11 ... 0.22646129278950455\n",
       "30.349535792480374   3.812882938339923e-11 ...  0.2264887752625363\n",
       " 30.34953713602546   3.812882938339923e-11 ... 0.22662618762769493\n",
       "30.349559344309938   3.812174123010685e-11 ... 0.22662618762769493"
      ]
     },
     "execution_count": 1,
     "metadata": {},
     "output_type": "execute_result"
    }
   ],
   "source": [
    "result_minuit.trace"
   ]
  },
  {
   "cell_type": "markdown",
   "metadata": {},
   "source": [
    "- Check that the fitted values and errors for all parameters are reasonable, and no fitted parameter value is \"too close\" - or even outside - its allowed min-max range"
   ]
  },
  {
   "cell_type": "code",
   "execution_count": 12,
   "metadata": {
    "execution": {
     "iopub.execute_input": "2020-11-04T16:59:53.499426Z",
     "iopub.status.busy": "2020-11-04T16:59:53.498301Z",
     "iopub.status.idle": "2020-11-04T16:59:53.501244Z",
     "shell.execute_reply": "2020-11-04T16:59:53.501787Z"
    }
   },
   "outputs": [
    {
     "data": {
      "text/html": [
       "<i>Table length=4</i>\n",
       "<table id=\"table139620428979784\" class=\"table-striped table-bordered table-condensed\">\n",
       "<thead><tr><th>name</th><th>value</th><th>unit</th><th>min</th><th>max</th><th>frozen</th><th>error</th></tr></thead>\n",
       "<thead><tr><th>str9</th><th>float64</th><th>str14</th><th>float64</th><th>float64</th><th>bool</th><th>float64</th></tr></thead>\n",
       "<tr><td>amplitude</td><td>3.8122e-11</td><td>cm-2 s-1 TeV-1</td><td>nan</td><td>nan</td><td>False</td><td>3.546e-12</td></tr>\n",
       "<tr><td>reference</td><td>1.0000e+00</td><td>TeV</td><td>nan</td><td>nan</td><td>True</td><td>0.000e+00</td></tr>\n",
       "<tr><td>alpha</td><td>2.1958e+00</td><td></td><td>1.000e+00</td><td>3.000e+00</td><td>False</td><td>2.626e-01</td></tr>\n",
       "<tr><td>beta</td><td>2.2649e-01</td><td></td><td>nan</td><td>nan</td><td>False</td><td>1.397e-01</td></tr>\n",
       "</table>"
      ],
      "text/plain": [
       "<Table length=4>\n",
       "   name     value         unit         min       max    frozen   error  \n",
       "   str9    float64       str14       float64   float64   bool   float64 \n",
       "--------- ---------- -------------- --------- --------- ------ ---------\n",
       "amplitude 3.8122e-11 cm-2 s-1 TeV-1       nan       nan  False 3.546e-12\n",
       "reference 1.0000e+00            TeV       nan       nan   True 0.000e+00\n",
       "    alpha 2.1958e+00                1.000e+00 3.000e+00  False 2.626e-01\n",
       "     beta 2.2649e-01                      nan       nan  False 1.397e-01"
      ]
     },
     "execution_count": 1,
     "metadata": {},
     "output_type": "execute_result"
    }
   ],
   "source": [
    "result_minuit.parameters.to_table()"
   ]
  },
  {
   "cell_type": "markdown",
   "metadata": {},
   "source": [
    "- Plot fit statistic profiles for all fitted prameters, using `~gammapy.modeling.Fit.stat_profile()`. For a good fit and error estimate each profile should be parabolic"
   ]
  },
  {
   "cell_type": "code",
   "execution_count": 13,
   "metadata": {
    "execution": {
     "iopub.execute_input": "2020-11-04T16:59:53.509546Z",
     "iopub.status.busy": "2020-11-04T16:59:53.508953Z",
     "iopub.status.idle": "2020-11-04T16:59:54.141471Z",
     "shell.execute_reply": "2020-11-04T16:59:54.140817Z"
    }
   },
   "outputs": [
    {
     "data": {
      "image/png": "[encoded data removed]",
      "text/plain": [
       "<Figure size 432x288 with 1 Axes>"
      ]
     },
     "metadata": {
      "needs_background": "light"
     },
     "output_type": "display_data"
    },
    {
     "data": {
      "image/png": "[encoded data removed]",
      "text/plain": [
       "<Figure size 432x288 with 1 Axes>"
      ]
     },
     "metadata": {
      "needs_background": "light"
     },
     "output_type": "display_data"
    },
    {
     "data": {
      "image/png": "[encoded data removed]",
      "text/plain": [
       "<Figure size 432x288 with 1 Axes>"
      ]
     },
     "metadata": {
      "needs_background": "light"
     },
     "output_type": "display_data"
    }
   ],
   "source": [
    "total_stat = result_minuit.total_stat\n",
    "\n",
    "for par in dataset_hess.models.parameters:\n",
    "    if par.frozen is False:\n",
    "        profile = fit.stat_profile(parameter=par)\n",
    "        plt.plot(\n",
    "            profile[f\"{par.name}_scan\"], profile[\"stat_scan\"] - total_stat\n",
    "        )\n",
    "        plt.xlabel(f\"{par.unit}\")\n",
    "        plt.ylabel(\"Delta TS\")\n",
    "        plt.title(f\"{par.name}: {par.value} +- {par.error}\")\n",
    "        plt.show()\n",
    "        plt.close()"
   ]
  },
  {
   "cell_type": "markdown",
   "metadata": {},
   "source": [
    "- Inspect model residuals. Those can always be accessed using `~Dataset.residuals()`, that will return an array in case a the fitted `Dataset` is a `SpectrumDataset` and a full cube in case of a `MapDataset`. For more details, we refer here to the dedicated fitting tutorials: [analysis_3d.ipynb](analysis_3d.ipynb) (for `MapDataset` fitting) and [spectrum_analysis.ipynb](spectrum_analysis.ipynb) (for `SpectrumDataset` fitting)."
   ]
  },
  {
   "cell_type": "markdown",
   "metadata": {},
   "source": [
    "## Covariance and parameters errors\n",
    "\n",
    "After the fit the covariance matrix is attached to the model. You can get the error on a specific parameter by accessing the `.error` attribute:"
   ]
  },
  {
   "cell_type": "code",
   "execution_count": 14,
   "metadata": {
    "execution": {
     "iopub.execute_input": "2020-11-04T16:59:54.146757Z",
     "iopub.status.busy": "2020-11-04T16:59:54.145637Z",
     "iopub.status.idle": "2020-11-04T16:59:54.150543Z",
     "shell.execute_reply": "2020-11-04T16:59:54.151196Z"
    }
   },
   "outputs": [
    {
     "data": {
      "text/plain": [
       "0.2625818212981723"
      ]
     },
     "execution_count": 1,
     "metadata": {},
     "output_type": "execute_result"
    }
   ],
   "source": [
    "crab_model.spectral_model.alpha.error"
   ]
  },
  {
   "cell_type": "markdown",
   "metadata": {},
   "source": [
    "As an example, this step is needed to produce a butterfly plot showing the envelope of the model taking into account parameter uncertainties."
   ]
  },
  {
   "cell_type": "code",
   "execution_count": 15,
   "metadata": {
    "execution": {
     "iopub.execute_input": "2020-11-04T16:59:54.169742Z",
     "iopub.status.busy": "2020-11-04T16:59:54.168938Z",
     "iopub.status.idle": "2020-11-04T16:59:54.854984Z",
     "shell.execute_reply": "2020-11-04T16:59:54.854284Z"
    }
   },
   "outputs": [
    {
     "name": "stderr",
     "output_type": "stream",
     "text": [
      "/home/runner/work/gammapy-docs/gammapy-docs/gammapy/gammapy/modeling/models/spectral.py:415: MatplotlibDeprecationWarning: The 'nonposx' parameter of __init__() has been renamed 'nonpositive' since Matplotlib 3.3; support for the old name will be dropped two minor releases later.\n",
      "  ax.set_xscale(\"log\", nonposx=\"clip\")\n",
      "/home/runner/work/gammapy-docs/gammapy-docs/gammapy/gammapy/modeling/models/spectral.py:416: MatplotlibDeprecationWarning: The 'nonposy' parameter of __init__() has been renamed 'nonpositive' since Matplotlib 3.3; support for the old name will be dropped two minor releases later.\n",
      "  ax.set_yscale(\"log\", nonposy=\"clip\")\n"
     ]
    },
    {
     "data": {
      "image/png": "[encoded data removed]",
      "text/plain": [
       "<Figure size 432x288 with 1 Axes>"
      ]
     },
     "metadata": {
      "needs_background": "light"
     },
     "output_type": "display_data"
    }
   ],
   "source": [
    "energy_range = [1, 10] * u.TeV\n",
    "crab_spectrum.plot(energy_range=energy_range, energy_power=2)\n",
    "ax = crab_spectrum.plot_error(energy_range=energy_range, energy_power=2)"
   ]
  },
  {
   "cell_type": "markdown",
   "metadata": {},
   "source": [
    "## Confidence contours\n",
    "\n",
    "\n",
    "In most studies, one wishes to estimate parameters distribution using observed sample data.\n",
    "A 1-dimensional confidence interval gives an estimated range of values which is likely to include an unknown parameter.\n",
    "A confidence contour is a 2-dimensional generalization of a confidence interval, often represented as an ellipsoid around the best-fit value.\n",
    "\n",
    "Gammapy offers two ways of computing confidence contours, in the dedicated methods `Fit.minos_contour()` and `Fit.stat_profile()`. In the following sections we will describe them."
   ]
  },
  {
   "cell_type": "markdown",
   "metadata": {},
   "source": [
    "An important point to keep in mind is: *what does a $N\\sigma$ confidence contour really mean?* The answer is it represents the points of the parameter space for which the model likelihood is $N\\sigma$ above the minimum. But one always has to keep in mind that **1 standard deviation in two dimensions has a smaller coverage probability than 68%**, and similarly for all other levels. In particular, in 2-dimensions the probability enclosed by the $N\\sigma$ confidence contour is $P(N)=1-e^{-N^2/2}$."
   ]
  },
  {
   "cell_type": "markdown",
   "metadata": {},
   "source": [
    "### Computing contours using `Fit.minos_contour()` "
   ]
  },
  {
   "cell_type": "markdown",
   "metadata": {},
   "source": [
    "After the fit, MINUIT offers the possibility to compute the confidence confours.\n",
    "gammapy provides an interface to this functionnality throught the `Fit` object using the `minos_contour` method.\n",
    "Here we defined a function to automatize the contour production for the differents parameterer and confidence levels (expressed in term of sigma):"
   ]
  },
  {
   "cell_type": "code",
   "execution_count": 16,
   "metadata": {
    "execution": {
     "iopub.execute_input": "2020-11-04T16:59:54.862060Z",
     "iopub.status.busy": "2020-11-04T16:59:54.860745Z",
     "iopub.status.idle": "2020-11-04T16:59:54.862741Z",
     "shell.execute_reply": "2020-11-04T16:59:54.863368Z"
    }
   },
   "outputs": [],
   "source": [
    "def make_contours(fit, result, npoints, sigmas):\n",
    "    cts_sigma = []\n",
    "    for sigma in sigmas:\n",
    "        contours = dict()\n",
    "        for par_1, par_2 in combinations([\"alpha\", \"beta\", \"amplitude\"], r=2):\n",
    "            contour = fit.minos_contour(\n",
    "                result.parameters[par_1],\n",
    "                result.parameters[par_2],\n",
    "                numpoints=npoints,\n",
    "                sigma=sigma,\n",
    "            )\n",
    "            contours[f\"contour_{par_1}_{par_2}\"] = {\n",
    "                par_1: contour[par_1].tolist(),\n",
    "                par_2: contour[par_2].tolist(),\n",
    "            }\n",
    "        cts_sigma.append(contours)\n",
    "    return cts_sigma"
   ]
  },
  {
   "cell_type": "markdown",
   "metadata": {},
   "source": [
    "Now we can compute few contours."
   ]
  },
  {
   "cell_type": "code",
   "execution_count": 17,
   "metadata": {
    "execution": {
     "iopub.execute_input": "2020-11-04T16:59:54.874621Z",
     "iopub.status.busy": "2020-11-04T16:59:54.873956Z",
     "iopub.status.idle": "2020-11-04T17:00:15.532344Z",
     "shell.execute_reply": "2020-11-04T17:00:15.531795Z"
    }
   },
   "outputs": [
    {
     "name": "stdout",
     "output_type": "stream",
     "text": [
      "CPU times: user 20.7 s, sys: 2.88 ms, total: 20.7 s\n",
      "Wall time: 20.7 s\n"
     ]
    }
   ],
   "source": [
    "%%time\n",
    "sigma = [1, 2]\n",
    "cts_sigma = make_contours(fit, result_minuit, 10, sigma)"
   ]
  },
  {
   "cell_type": "markdown",
   "metadata": {},
   "source": [
    "Then we prepare some aliases and annotations in order to make the plotting nicer."
   ]
  },
  {
   "cell_type": "code",
   "execution_count": 18,
   "metadata": {
    "execution": {
     "iopub.execute_input": "2020-11-04T17:00:15.539461Z",
     "iopub.status.busy": "2020-11-04T17:00:15.538805Z",
     "iopub.status.idle": "2020-11-04T17:00:15.542710Z",
     "shell.execute_reply": "2020-11-04T17:00:15.542195Z"
    }
   },
   "outputs": [],
   "source": [
    "pars = {\n",
    "    \"phi\": r\"$\\phi_0 \\,/\\,(10^{-11}\\,{\\rm TeV}^{-1} \\, {\\rm cm}^{-2} {\\rm s}^{-1})$\",\n",
    "    \"alpha\": r\"$\\alpha$\",\n",
    "    \"beta\": r\"$\\beta$\",\n",
    "}\n",
    "\n",
    "panels = [\n",
    "    {\n",
    "        \"x\": \"alpha\",\n",
    "        \"y\": \"phi\",\n",
    "        \"cx\": (lambda ct: ct[\"contour_alpha_amplitude\"][\"alpha\"]),\n",
    "        \"cy\": (\n",
    "            lambda ct: np.array(1e11)\n",
    "            * ct[\"contour_alpha_amplitude\"][\"amplitude\"]\n",
    "        ),\n",
    "    },\n",
    "    {\n",
    "        \"x\": \"beta\",\n",
    "        \"y\": \"phi\",\n",
    "        \"cx\": (lambda ct: ct[\"contour_beta_amplitude\"][\"beta\"]),\n",
    "        \"cy\": (\n",
    "            lambda ct: np.array(1e11)\n",
    "            * ct[\"contour_beta_amplitude\"][\"amplitude\"]\n",
    "        ),\n",
    "    },\n",
    "    {\n",
    "        \"x\": \"alpha\",\n",
    "        \"y\": \"beta\",\n",
    "        \"cx\": (lambda ct: ct[\"contour_alpha_beta\"][\"alpha\"]),\n",
    "        \"cy\": (lambda ct: ct[\"contour_alpha_beta\"][\"beta\"]),\n",
    "    },\n",
    "]"
   ]
  },
  {
   "cell_type": "markdown",
   "metadata": {},
   "source": [
    "Finally we produce the confidence contours figures."
   ]
  },
  {
   "cell_type": "code",
   "execution_count": 19,
   "metadata": {
    "execution": {
     "iopub.execute_input": "2020-11-04T17:00:15.602679Z",
     "iopub.status.busy": "2020-11-04T17:00:15.585184Z",
     "iopub.status.idle": "2020-11-04T17:00:16.282803Z",
     "shell.execute_reply": "2020-11-04T17:00:16.283416Z"
    }
   },
   "outputs": [
    {
     "data": {
      "image/png": "[encoded data removed]",
      "text/plain": [
       "<Figure size 1152x360 with 3 Axes>"
      ]
     },
     "metadata": {
      "needs_background": "light"
     },
     "output_type": "display_data"
    }
   ],
   "source": [
    "fig, axes = plt.subplots(1, 3, figsize=(16, 5))\n",
    "colors = [\"m\", \"b\", \"c\"]\n",
    "for p, ax in zip(panels, axes):\n",
    "    xlabel = pars[p[\"x\"]]\n",
    "    ylabel = pars[p[\"y\"]]\n",
    "    for ks in range(len(cts_sigma)):\n",
    "        plot_contour_line(\n",
    "            ax,\n",
    "            p[\"cx\"](cts_sigma[ks]),\n",
    "            p[\"cy\"](cts_sigma[ks]),\n",
    "            lw=2.5,\n",
    "            color=colors[ks],\n",
    "            label=f\"{sigma[ks]}\" + r\"$\\sigma$\",\n",
    "        )\n",
    "    ax.set_xlabel(xlabel)\n",
    "    ax.set_ylabel(ylabel)\n",
    "plt.legend()\n",
    "plt.tight_layout()"
   ]
  },
  {
   "cell_type": "markdown",
   "metadata": {},
   "source": [
    "### Computing contours using `Fit.stat_surface()`"
   ]
  },
  {
   "cell_type": "markdown",
   "metadata": {},
   "source": [
    "This alternative method for the computation of confidence contours, although more time consuming than `Fit.minos_contour()`, is expected to be more stable. It consists of a generalization of `Fit.stat_profile()` to a 2-dimensional parameter space. The algorithm is very simple:\n",
    "- First, passing two arrays of parameters values, a 2-dimensional discrete parameter space is defined;\n",
    "- For each node of the parameter space, the two parameters of interest are frozen. This way, a likelihood value ($-2\\mathrm{ln}\\,\\mathcal{L}$, actually) is computed, by either freezing (default) or fitting all nuisance parameters;\n",
    "- Finally, a 2-dimensional surface of $-2\\mathrm{ln}(\\mathcal{L})$ values is returned.\n",
    "Using that surface, one can easily compute a surface of $TS = -2\\Delta\\mathrm{ln}(\\mathcal{L})$ and compute confidence contours.\n",
    "\n",
    "Let's see it step by step."
   ]
  },
  {
   "cell_type": "markdown",
   "metadata": {},
   "source": [
    "First of all, we can notice that this method is \"backend-agnostic\", meaning that it can be run with MINUIT, sherpa or scipy as fitting tools. Here we will stick with MINUIT, which is the default choice:"
   ]
  },
  {
   "cell_type": "code",
   "execution_count": 20,
   "metadata": {
    "execution": {
     "iopub.execute_input": "2020-11-04T17:00:16.288371Z",
     "iopub.status.busy": "2020-11-04T17:00:16.287770Z",
     "iopub.status.idle": "2020-11-04T17:00:16.289082Z",
     "shell.execute_reply": "2020-11-04T17:00:16.289654Z"
    }
   },
   "outputs": [],
   "source": [
    "optimize_opts = {\"backend\": \"minuit\", \"print_level\": 0}"
   ]
  },
  {
   "cell_type": "markdown",
   "metadata": {},
   "source": [
    "As an example, we can compute the confidence contour for the `alpha` and `beta` parameters of the `dataset_hess`. Here we define the parameter space:"
   ]
  },
  {
   "cell_type": "code",
   "execution_count": 21,
   "metadata": {
    "execution": {
     "iopub.execute_input": "2020-11-04T17:00:16.295645Z",
     "iopub.status.busy": "2020-11-04T17:00:16.294336Z",
     "iopub.status.idle": "2020-11-04T17:00:16.296211Z",
     "shell.execute_reply": "2020-11-04T17:00:16.296816Z"
    }
   },
   "outputs": [],
   "source": [
    "result = result_minuit\n",
    "par_1 = result.parameters[\"alpha\"]\n",
    "par_2 = result.parameters[\"beta\"]\n",
    "\n",
    "x = par_1\n",
    "y = par_2\n",
    "x_values = np.linspace(1.55, 2.7, 20)\n",
    "y_values = np.linspace(-0.05, 0.55, 20)"
   ]
  },
  {
   "cell_type": "markdown",
   "metadata": {},
   "source": [
    "Then we run the algorithm, by choosing `reoptimize=False` for the sake of time saving. In real life applications, we strongly recommend to  use `reoptimize=True`, so that all free nuisance parameters will be fit at each grid node. This is the correct way, statistically speaking, of computing confidence contours, but is expected to be time consuming."
   ]
  },
  {
   "cell_type": "code",
   "execution_count": 22,
   "metadata": {
    "execution": {
     "iopub.execute_input": "2020-11-04T17:00:16.302961Z",
     "iopub.status.busy": "2020-11-04T17:00:16.302374Z",
     "iopub.status.idle": "2020-11-04T17:00:18.429470Z",
     "shell.execute_reply": "2020-11-04T17:00:18.429994Z"
    }
   },
   "outputs": [],
   "source": [
    "stat_surface = fit.stat_surface(\n",
    "    x, y, x_values, y_values, reoptimize=False, **optimize_opts\n",
    ")"
   ]
  },
  {
   "cell_type": "markdown",
   "metadata": {},
   "source": [
    "In order to easily inspect the results, we can convert the $-2\\mathrm{ln}(\\mathcal{L})$ surface to a surface of statistical significance (in units of Gaussian standard deviations from the surface minimum):"
   ]
  },
  {
   "cell_type": "code",
   "execution_count": 23,
   "metadata": {
    "execution": {
     "iopub.execute_input": "2020-11-04T17:00:18.434987Z",
     "iopub.status.busy": "2020-11-04T17:00:18.433639Z",
     "iopub.status.idle": "2020-11-04T17:00:18.435617Z",
     "shell.execute_reply": "2020-11-04T17:00:18.436265Z"
    }
   },
   "outputs": [],
   "source": [
    "# Compute TS\n",
    "TS = stat_surface[\"stat_scan\"] - result.total_stat"
   ]
  },
  {
   "cell_type": "code",
   "execution_count": 24,
   "metadata": {
    "execution": {
     "iopub.execute_input": "2020-11-04T17:00:18.440982Z",
     "iopub.status.busy": "2020-11-04T17:00:18.439624Z",
     "iopub.status.idle": "2020-11-04T17:00:18.441571Z",
     "shell.execute_reply": "2020-11-04T17:00:18.442175Z"
    }
   },
   "outputs": [],
   "source": [
    "# Compute the corresponding statistical significance surface\n",
    "gaussian_sigmas = np.sqrt(TS.T)"
   ]
  },
  {
   "cell_type": "markdown",
   "metadata": {},
   "source": [
    "Notice that, as explained before, $1\\sigma$ contour obtained this way will not contain 68% of the probability, but rather "
   ]
  },
  {
   "cell_type": "code",
   "execution_count": 25,
   "metadata": {
    "execution": {
     "iopub.execute_input": "2020-11-04T17:00:18.446656Z",
     "iopub.status.busy": "2020-11-04T17:00:18.445341Z",
     "iopub.status.idle": "2020-11-04T17:00:18.447280Z",
     "shell.execute_reply": "2020-11-04T17:00:18.447923Z"
    }
   },
   "outputs": [],
   "source": [
    "# Compute the corresponding statistical significance surface\n",
    "# p_value = 1 - st.chi2(df=1).cdf(TS)\n",
    "# gaussian_sigmas = st.norm.isf(p_value / 2).T"
   ]
  },
  {
   "cell_type": "markdown",
   "metadata": {},
   "source": [
    "Finally, we can plot the surface values together with contours:"
   ]
  },
  {
   "cell_type": "code",
   "execution_count": 26,
   "metadata": {
    "execution": {
     "iopub.execute_input": "2020-11-04T17:00:18.479367Z",
     "iopub.status.busy": "2020-11-04T17:00:18.478638Z",
     "iopub.status.idle": "2020-11-04T17:00:18.886075Z",
     "shell.execute_reply": "2020-11-04T17:00:18.885588Z"
    }
   },
   "outputs": [
    {
     "data": {
      "text/plain": [
       "([<matplotlib.axis.YTick at 0x7efbe93bc710>,\n",
       "  <matplotlib.axis.YTick at 0x7efbe93bceb8>,\n",
       "  <matplotlib.axis.YTick at 0x7efbe94176d8>,\n",
       "  <matplotlib.axis.YTick at 0x7efbe95e5e10>,\n",
       "  <matplotlib.axis.YTick at 0x7efbea971e48>,\n",
       "  <matplotlib.axis.YTick at 0x7efbe9558ba8>,\n",
       "  <matplotlib.axis.YTick at 0x7efbe9558a90>,\n",
       "  <matplotlib.axis.YTick at 0x7efbe9621b70>,\n",
       "  <matplotlib.axis.YTick at 0x7efbe96210f0>,\n",
       "  <matplotlib.axis.YTick at 0x7efbe9621860>,\n",
       "  <matplotlib.axis.YTick at 0x7efbea0db438>,\n",
       "  <matplotlib.axis.YTick at 0x7efbe95650f0>,\n",
       "  <matplotlib.axis.YTick at 0x7efbe9505588>,\n",
       "  <matplotlib.axis.YTick at 0x7efbea0db358>,\n",
       "  <matplotlib.axis.YTick at 0x7efbe9558208>,\n",
       "  <matplotlib.axis.YTick at 0x7efbe9505cf8>,\n",
       "  <matplotlib.axis.YTick at 0x7efbe9505ba8>,\n",
       "  <matplotlib.axis.YTick at 0x7efbe95058d0>,\n",
       "  <matplotlib.axis.YTick at 0x7efbe9634588>,\n",
       "  <matplotlib.axis.YTick at 0x7efbe9634320>],\n",
       " [Text(0, 0, '-0.05'),\n",
       "  Text(0, 1, '-0.02'),\n",
       "  Text(0, 2, '0.01'),\n",
       "  Text(0, 3, '0.04'),\n",
       "  Text(0, 4, '0.08'),\n",
       "  Text(0, 5, '0.11'),\n",
       "  Text(0, 6, '0.14'),\n",
       "  Text(0, 7, '0.17'),\n",
       "  Text(0, 8, '0.2'),\n",
       "  Text(0, 9, '0.23'),\n",
       "  Text(0, 10, '0.27'),\n",
       "  Text(0, 11, '0.3'),\n",
       "  Text(0, 12, '0.33'),\n",
       "  Text(0, 13, '0.36'),\n",
       "  Text(0, 14, '0.39'),\n",
       "  Text(0, 15, '0.42'),\n",
       "  Text(0, 16, '0.46'),\n",
       "  Text(0, 17, '0.49'),\n",
       "  Text(0, 18, '0.52'),\n",
       "  Text(0, 19, '0.55')])"
      ]
     },
     "execution_count": 1,
     "metadata": {},
     "output_type": "execute_result"
    },
    {
     "data": {
      "image/png": "[encoded data removed]",
      "text/plain": [
       "<Figure size 576x432 with 2 Axes>"
      ]
     },
     "metadata": {
      "needs_background": "light"
     },
     "output_type": "display_data"
    }
   ],
   "source": [
    "fig, ax = plt.subplots(figsize=(8, 6))\n",
    "\n",
    "# We choose to plot 1 and 2 sigma confidence contours\n",
    "levels = [1, 2]\n",
    "\n",
    "contours = plt.contour(gaussian_sigmas, levels=levels, colors=\"white\")\n",
    "plt.clabel(contours, fmt=\"%.0f$\\,\\sigma$\", inline=3, fontsize=15)\n",
    "\n",
    "im = plt.imshow(\n",
    "    gaussian_sigmas,\n",
    "    extent=[0, len(x_values) - 1, 0, len(y_values) - 1],\n",
    "    origin=\"lower\",\n",
    ")\n",
    "fig.colorbar(im)\n",
    "\n",
    "plt.xticks(range(len(x_values)), np.around(x_values, decimals=2), rotation=45)\n",
    "plt.yticks(range(len(y_values)), np.around(y_values, decimals=2));"
   ]
  },
  {
   "cell_type": "markdown",
   "metadata": {},
   "source": [
    "Note that, if computed with `reoptimize=True`, this plot would be completely consistent with the third panel of the plot produced with `Fit.minos_contour` (try!)."
   ]
  },
  {
   "cell_type": "markdown",
   "metadata": {},
   "source": [
    "Finally, it is always remember that confidence contours are approximations. In particular, when the parameter range boundaries are close to the contours lines, it is expected that the statistical meaning of the countours is not well defined. That's why we advise to always choose a parameter space that com contain the contours you're interested in."
   ]
  },
  {
   "cell_type": "code",
   "execution_count": null,
   "metadata": {},
   "outputs": [],
   "source": []
  }
 ],
 "metadata": {
  "kernelspec": {
   "display_name": "Python 3",
   "language": "python",
   "name": "python3"
  },
  "language_info": {
   "codemirror_mode": {
    "name": "ipython",
    "version": 3
   },
   "file_extension": ".py",
   "mimetype": "text/x-python",
   "name": "python",
   "nbconvert_exporter": "python",
   "pygments_lexer": "ipython3",
   "version": "3.7.0"
  },
  "nbsphinx": {
   "orphan": true
  }
 },
 "nbformat": 4,
 "nbformat_minor": 4
}
