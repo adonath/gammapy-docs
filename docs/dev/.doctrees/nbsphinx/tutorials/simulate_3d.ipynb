{
 "cells": [
  {
   "cell_type": "markdown",
   "metadata": {},
   "source": [
    "\n",
    "<div class=\"alert alert-info\">\n",
    "\n",
    "**This is a fixed-text formatted version of a Jupyter notebook**\n",
    "\n",
    "- Try online [![Binder](https://static.mybinder.org/badge.svg)](https://mybinder.org/v2/gh/gammapy/gammapy-webpage/master?urlpath=lab/tree/simulate_3d.ipynb)\n",
    "- You can contribute with your own notebooks in this\n",
    "[GitHub repository](https://github.com/gammapy/gammapy/tree/master/docs/tutorials).\n",
    "- **Source files:**\n",
    "[simulate_3d.ipynb](../_static/notebooks/simulate_3d.ipynb) |\n",
    "[simulate_3d.py](../_static/notebooks/simulate_3d.py)\n",
    "</div>\n"
   ]
  },
  {
   "cell_type": "markdown",
   "metadata": {},
   "source": [
    "# 3D simulation and fitting\n",
    "\n",
    "## Prerequisites\n",
    "\n",
    "- Knowledge of 3D extraction and datasets used in gammapy, see for instance the [first analysis tutorial](analysis_1.ipynb)\n",
    "\n",
    "## Context\n",
    "\n",
    "To simulate a specific observation, it is not always necessary to simulate the full photon list. For many uses cases, simulating directly a reduced binned dataset is enough: the IRFs reduced in the correct geometry are combined with a source model to predict an actual number of counts per bin. The latter is then used to simulate a reduced dataset using Poisson probability distribution.\n",
    "\n",
    "This can be done to check the feasibility of a measurement (performance / sensitivity study), to test whether fitted parameters really provide a good fit to the data etc.\n",
    "\n",
    "Here we will see how to perform a 3D simulation of a CTA observation, assuming both the spectral and spatial morphology of an observed source.\n",
    "\n",
    "**Objective: simulate a 3D observation of a source with CTA using the CTA 1DC response and fit it with the assumed source model.**\n",
    "\n",
    "## Proposed approach:\n",
    "\n",
    "Here we can't use the regular observation objects that are connected to a `DataStore`. Instead we will create a fake `~gammapy.data.Observation` that contain some pointing information and the CTA 1DC IRFs (that are loaded with `~gammapy.irf.load_cta_irfs`).\n",
    "\n",
    "Then we will create a `~gammapy.datasets.MapDataset` geometry and create it with the `~gammapy.makers.MapDatasetMaker`.\n",
    "\n",
    "Then we will be able to define a model consisting of  a `~gammapy.modeling.models.PowerLawSpectralModel` and a `~gammapy.modeling.models.GaussianSpatialModel`. We will assign it to the dataset and fake the count data.\n"
   ]
  },
  {
   "cell_type": "markdown",
   "metadata": {},
   "source": [
    "## Imports and versions"
   ]
  },
  {
   "cell_type": "code",
   "execution_count": 1,
   "metadata": {
    "execution": {
     "iopub.execute_input": "2020-09-29T18:20:22.862774Z",
     "iopub.status.busy": "2020-09-29T18:20:22.862127Z",
     "iopub.status.idle": "2020-09-29T18:20:23.186088Z",
     "shell.execute_reply": "2020-09-29T18:20:23.185070Z"
    }
   },
   "outputs": [],
   "source": [
    "%matplotlib inline"
   ]
  },
  {
   "cell_type": "code",
   "execution_count": 2,
   "metadata": {
    "execution": {
     "iopub.execute_input": "2020-09-29T18:20:23.191814Z",
     "iopub.status.busy": "2020-09-29T18:20:23.190661Z",
     "iopub.status.idle": "2020-09-29T18:20:24.405653Z",
     "shell.execute_reply": "2020-09-29T18:20:24.405027Z"
    }
   },
   "outputs": [],
   "source": [
    "import numpy as np\n",
    "import astropy.units as u\n",
    "from astropy.coordinates import SkyCoord\n",
    "from gammapy.irf import load_cta_irfs\n",
    "from gammapy.maps import WcsGeom, MapAxis\n",
    "from gammapy.modeling.models import (\n",
    "    PowerLawSpectralModel,\n",
    "    GaussianSpatialModel,\n",
    "    SkyModel,\n",
    ")\n",
    "from gammapy.makers import MapDatasetMaker, SafeMaskMaker\n",
    "from gammapy.modeling import Fit\n",
    "from gammapy.data import Observation\n",
    "from gammapy.datasets import MapDataset"
   ]
  },
  {
   "cell_type": "code",
   "execution_count": 3,
   "metadata": {
    "execution": {
     "iopub.execute_input": "2020-09-29T18:20:24.410517Z",
     "iopub.status.busy": "2020-09-29T18:20:24.409933Z",
     "iopub.status.idle": "2020-09-29T18:20:26.742821Z",
     "shell.execute_reply": "2020-09-29T18:20:26.743365Z"
    }
   },
   "outputs": [
    {
     "name": "stdout",
     "output_type": "stream",
     "text": [
      "\r\n",
      "Gammapy package:\r\n",
      "\r\n",
      "\tversion                : 0.18.dev807+gd14a35666 \r\n",
      "\tpath                   : /home/runner/work/gammapy-docs/gammapy-docs/gammapy/gammapy \r\n",
      "\r\n"
     ]
    }
   ],
   "source": [
    "!gammapy info --no-envvar --no-dependencies --no-system"
   ]
  },
  {
   "cell_type": "markdown",
   "metadata": {},
   "source": [
    "## Simulation"
   ]
  },
  {
   "cell_type": "markdown",
   "metadata": {},
   "source": [
    "We will simulate using the CTA-1DC IRFs shipped with gammapy. Note that for dedictaed CTA simulations, you can simply use [`Observation.from_caldb()`]() without having to externally load the IRFs"
   ]
  },
  {
   "cell_type": "code",
   "execution_count": 4,
   "metadata": {
    "execution": {
     "iopub.execute_input": "2020-09-29T18:20:26.752474Z",
     "iopub.status.busy": "2020-09-29T18:20:26.748154Z",
     "iopub.status.idle": "2020-09-29T18:20:26.859698Z",
     "shell.execute_reply": "2020-09-29T18:20:26.858755Z"
    }
   },
   "outputs": [
    {
     "name": "stderr",
     "output_type": "stream",
     "text": [
      "Invalid unit found in background table! Assuming (s-1 MeV-1 sr-1)\n"
     ]
    }
   ],
   "source": [
    "# Loading IRFs\n",
    "irfs = load_cta_irfs(\n",
    "    \"$GAMMAPY_DATA/cta-1dc/caldb/data/cta/1dc/bcf/South_z20_50h/irf_file.fits\"\n",
    ")"
   ]
  },
  {
   "cell_type": "code",
   "execution_count": 5,
   "metadata": {
    "execution": {
     "iopub.execute_input": "2020-09-29T18:20:26.865159Z",
     "iopub.status.busy": "2020-09-29T18:20:26.864572Z",
     "iopub.status.idle": "2020-09-29T18:20:26.868210Z",
     "shell.execute_reply": "2020-09-29T18:20:26.867622Z"
    }
   },
   "outputs": [],
   "source": [
    "# Define the observation parameters (typically the observation duration and the pointing position):\n",
    "livetime = 2.0 * u.hr\n",
    "pointing = SkyCoord(0, 0, unit=\"deg\", frame=\"galactic\")"
   ]
  },
  {
   "cell_type": "code",
   "execution_count": 6,
   "metadata": {
    "execution": {
     "iopub.execute_input": "2020-09-29T18:20:26.875721Z",
     "iopub.status.busy": "2020-09-29T18:20:26.875140Z",
     "iopub.status.idle": "2020-09-29T18:20:26.879029Z",
     "shell.execute_reply": "2020-09-29T18:20:26.877464Z"
    }
   },
   "outputs": [],
   "source": [
    "# Define map geometry for binned simulation\n",
    "energy_reco = MapAxis.from_edges(\n",
    "    np.logspace(-1.0, 1.0, 10), unit=\"TeV\", name=\"energy\", interp=\"log\"\n",
    ")\n",
    "geom = WcsGeom.create(\n",
    "    skydir=(0, 0),\n",
    "    binsz=0.02,\n",
    "    width=(6, 6),\n",
    "    frame=\"galactic\",\n",
    "    axes=[energy_reco],\n",
    ")\n",
    "# It is usually useful to have a separate binning for the true energy axis\n",
    "energy_true = MapAxis.from_edges(\n",
    "    np.logspace(-1.5, 1.5, 30), unit=\"TeV\", name=\"energy\", interp=\"log\"\n",
    ")"
   ]
  },
  {
   "cell_type": "code",
   "execution_count": 7,
   "metadata": {
    "execution": {
     "iopub.execute_input": "2020-09-29T18:20:26.892268Z",
     "iopub.status.busy": "2020-09-29T18:20:26.887875Z",
     "iopub.status.idle": "2020-09-29T18:20:26.896337Z",
     "shell.execute_reply": "2020-09-29T18:20:26.895737Z"
    }
   },
   "outputs": [
    {
     "name": "stdout",
     "output_type": "stream",
     "text": [
      "SkyModel\n",
      "\n",
      "  Name                      : model-simu\n",
      "  Datasets names            : None\n",
      "  Spectral model type       : PowerLawSpectralModel\n",
      "  Spatial  model type       : GaussianSpatialModel\n",
      "  Temporal model type       : \n",
      "  Parameters:\n",
      "    index                   :   3.000              \n",
      "    amplitude               :   1.00e-11  1 / (cm2 s TeV)\n",
      "    reference    (frozen)   :   1.000  TeV         \n",
      "    lon_0                   :   0.200  deg         \n",
      "    lat_0                   :   0.100  deg         \n",
      "    sigma                   :   0.300  deg         \n",
      "    e            (frozen)   :   0.000              \n",
      "    phi          (frozen)   :   0.000  deg         \n",
      "\n",
      "\n"
     ]
    }
   ],
   "source": [
    "# Define sky model to used simulate the data.\n",
    "# Here we use a Gaussian spatial model and a Power Law spectral model.\n",
    "spatial_model = GaussianSpatialModel(\n",
    "    lon_0=\"0.2 deg\", lat_0=\"0.1 deg\", sigma=\"0.3 deg\", frame=\"galactic\"\n",
    ")\n",
    "spectral_model = PowerLawSpectralModel(\n",
    "    index=3, amplitude=\"1e-11 cm-2 s-1 TeV-1\", reference=\"1 TeV\"\n",
    ")\n",
    "model_simu = SkyModel(\n",
    "    spatial_model=spatial_model,\n",
    "    spectral_model=spectral_model,\n",
    "    name=\"model-simu\",\n",
    ")\n",
    "print(model_simu)"
   ]
  },
  {
   "cell_type": "markdown",
   "metadata": {},
   "source": [
    "Now, comes the main part of dataset simulation. We create an in-memory observation and an empty dataset. We then predict the number of counts for the given model, and Poission fluctuate it using `fake()` to make a simulated counts maps. Keep in mind that it is important to specify the `selection` of the maps that you want to produce "
   ]
  },
  {
   "cell_type": "code",
   "execution_count": 8,
   "metadata": {
    "execution": {
     "iopub.execute_input": "2020-09-29T18:20:26.919848Z",
     "iopub.status.busy": "2020-09-29T18:20:26.919261Z",
     "iopub.status.idle": "2020-09-29T18:20:26.922101Z",
     "shell.execute_reply": "2020-09-29T18:20:26.921501Z"
    }
   },
   "outputs": [
    {
     "name": "stdout",
     "output_type": "stream",
     "text": [
      "Observation\n",
      "\n",
      "\tobs id            : 0 \n",
      " \ttstart            : 51544.00\n",
      "\ttstop             : 51544.08\n",
      "\tduration          : 7200.00 s\n",
      "\tpointing (icrs)   : 266.4 deg, -28.9 deg\n",
      "\n",
      "\tdeadtime fraction : 0.0%\n",
      "\n"
     ]
    }
   ],
   "source": [
    "# Create an in-memory observation\n",
    "obs = Observation.create(pointing=pointing, livetime=livetime, irfs=irfs)\n",
    "print(obs)"
   ]
  },
  {
   "cell_type": "code",
   "execution_count": 9,
   "metadata": {
    "execution": {
     "iopub.execute_input": "2020-09-29T18:20:26.931537Z",
     "iopub.status.busy": "2020-09-29T18:20:26.928502Z",
     "iopub.status.idle": "2020-09-29T18:20:29.430823Z",
     "shell.execute_reply": "2020-09-29T18:20:29.431557Z"
    }
   },
   "outputs": [
    {
     "name": "stdout",
     "output_type": "stream",
     "text": [
      "MapDataset\n",
      "----------\n",
      "\n",
      "  Name                            : dataset-simu \n",
      "\n",
      "  Total counts                    : nan \n",
      "  Total predicted counts          : 161422.06\n",
      "  Total background counts         : 161422.06\n",
      "\n",
      "  Exposure min                    : 6.41e+07 m2 s\n",
      "  Exposure max                    : 2.53e+10 m2 s\n",
      "\n",
      "  Number of total bins            : 0 \n",
      "  Number of fit bins              : 804492 \n",
      "\n",
      "  Fit statistic type              : cash\n",
      "  Fit statistic value (-2 log(L)) : nan\n",
      "\n",
      "  Number of models                : 1 \n",
      "  Number of parameters            : 3\n",
      "  Number of free parameters       : 1\n",
      "\n",
      "  Component 0: BackgroundModel\n",
      "  \n",
      "    Name                      : dataset-simu-bkg\n",
      "    Datasets names            : ['dataset-simu']\n",
      "    Parameters:\n",
      "      norm                    :   1.000              \n",
      "      tilt         (frozen)   :   0.000              \n",
      "      reference    (frozen)   :   1.000  TeV         \n",
      "  \n",
      "  \n"
     ]
    }
   ],
   "source": [
    "# Make the MapDataset\n",
    "empty = MapDataset.create(geom, name=\"dataset-simu\")\n",
    "maker = MapDatasetMaker(selection=[\"exposure\", \"background\", \"psf\", \"edisp\"])\n",
    "maker_safe_mask = SafeMaskMaker(methods=[\"offset-max\"], offset_max=4.0 * u.deg)\n",
    "dataset = maker.run(empty, obs)\n",
    "dataset = maker_safe_mask.run(dataset, obs)\n",
    "print(dataset)"
   ]
  },
  {
   "cell_type": "code",
   "execution_count": 10,
   "metadata": {
    "execution": {
     "iopub.execute_input": "2020-09-29T18:20:29.436550Z",
     "iopub.status.busy": "2020-09-29T18:20:29.435969Z",
     "iopub.status.idle": "2020-09-29T18:20:30.319941Z",
     "shell.execute_reply": "2020-09-29T18:20:30.320666Z"
    }
   },
   "outputs": [
    {
     "name": "stdout",
     "output_type": "stream",
     "text": [
      "MapDataset\n",
      "----------\n",
      "\n",
      "  Name                            : dataset-simu \n",
      "\n",
      "  Total counts                    : 169542 \n",
      "  Total predicted counts          : 169861.06\n",
      "  Total background counts         : 161422.06\n",
      "\n",
      "  Exposure min                    : 6.41e+07 m2 s\n",
      "  Exposure max                    : 2.53e+10 m2 s\n",
      "\n",
      "  Number of total bins            : 810000 \n",
      "  Number of fit bins              : 804492 \n",
      "\n",
      "  Fit statistic type              : cash\n",
      "  Fit statistic value (-2 log(L)) : 562388.17\n",
      "\n",
      "  Number of models                : 2 \n",
      "  Number of parameters            : 11\n",
      "  Number of free parameters       : 6\n",
      "\n",
      "  Component 0: BackgroundModel\n",
      "  \n",
      "    Name                      : dataset-simu-bkg\n",
      "    Datasets names            : ['dataset-simu']\n",
      "    Parameters:\n",
      "      norm                    :   1.000              \n",
      "      tilt         (frozen)   :   0.000              \n",
      "      reference    (frozen)   :   1.000  TeV         \n",
      "  \n",
      "  Component 1: SkyModel\n",
      "  \n",
      "    Name                      : model-simu\n",
      "    Datasets names            : None\n",
      "    Spectral model type       : PowerLawSpectralModel\n",
      "    Spatial  model type       : GaussianSpatialModel\n",
      "    Temporal model type       : \n",
      "    Parameters:\n",
      "      index                   :   3.000              \n",
      "      amplitude               :   1.00e-11  1 / (cm2 s TeV)\n",
      "      reference    (frozen)   :   1.000  TeV         \n",
      "      lon_0                   :   0.200  deg         \n",
      "      lat_0                   :   0.100  deg         \n",
      "      sigma                   :   0.300  deg         \n",
      "      e            (frozen)   :   0.000              \n",
      "      phi          (frozen)   :   0.000  deg         \n",
      "  \n",
      "  \n"
     ]
    }
   ],
   "source": [
    "# Add the model on the dataset and Poission fluctuate\n",
    "dataset.models.append(model_simu)\n",
    "dataset.fake()\n",
    "# Do a print on the dataset - there is now a counts maps\n",
    "print(dataset)"
   ]
  },
  {
   "cell_type": "markdown",
   "metadata": {},
   "source": [
    "Now use this dataset as you would in all standard analysis. You can plot the maps, or proceed with your custom analysis. \n",
    "In the next section, we show the standard 3D fitting as in [analysis_3d](analysis_3d.ipynb)."
   ]
  },
  {
   "cell_type": "code",
   "execution_count": 11,
   "metadata": {
    "execution": {
     "iopub.execute_input": "2020-09-29T18:20:30.325477Z",
     "iopub.status.busy": "2020-09-29T18:20:30.324916Z",
     "iopub.status.idle": "2020-09-29T18:20:31.199288Z",
     "shell.execute_reply": "2020-09-29T18:20:31.198653Z"
    }
   },
   "outputs": [
    {
     "data": {
      "application/vnd.jupyter.widget-view+json": {
       "model_id": "e3cc568c986b468c88227a664b19822e",
       "version_major": 2,
       "version_minor": 0
      },
      "text/plain": [
       "interactive(children=(SelectionSlider(continuous_update=False, description='Select energy:', layout=Layout(wid…"
      ]
     },
     "metadata": {},
     "output_type": "display_data"
    }
   ],
   "source": [
    "# To plot, eg, counts:\n",
    "dataset.counts.smooth(0.05 * u.deg).plot_interactive(\n",
    "    add_cbar=True, stretch=\"linear\"\n",
    ")"
   ]
  },
  {
   "cell_type": "markdown",
   "metadata": {},
   "source": [
    "## Fit\n",
    "\n",
    "In this section, we do a usual 3D fit with the same model used to simulated the data and see the stability of the simulations. Often, it is useful to simulate many such datasets and look at the distribution of the reconstructed parameters."
   ]
  },
  {
   "cell_type": "code",
   "execution_count": 12,
   "metadata": {
    "execution": {
     "iopub.execute_input": "2020-09-29T18:20:31.204287Z",
     "iopub.status.busy": "2020-09-29T18:20:31.203737Z",
     "iopub.status.idle": "2020-09-29T18:20:31.221094Z",
     "shell.execute_reply": "2020-09-29T18:20:31.222129Z"
    }
   },
   "outputs": [],
   "source": [
    "# Make a copy of the dataset\n",
    "dataset_fit = dataset.copy(name=\"dataset-fit\")"
   ]
  },
  {
   "cell_type": "code",
   "execution_count": 13,
   "metadata": {
    "execution": {
     "iopub.execute_input": "2020-09-29T18:20:31.228030Z",
     "iopub.status.busy": "2020-09-29T18:20:31.226807Z",
     "iopub.status.idle": "2020-09-29T18:20:31.229349Z",
     "shell.execute_reply": "2020-09-29T18:20:31.229903Z"
    }
   },
   "outputs": [
    {
     "name": "stdout",
     "output_type": "stream",
     "text": [
      "ProperModels\n",
      "\n",
      "Component 0: BackgroundModel\n",
      "\n",
      "  Name                      : dataset-fit-bkg\n",
      "  Datasets names            : ['dataset-fit']\n",
      "  Parameters:\n",
      "    norm                    :   1.000              \n",
      "    tilt         (frozen)   :   0.000              \n",
      "    reference    (frozen)   :   1.000  TeV         \n",
      "\n",
      "Component 1: SkyModel\n",
      "\n",
      "  Name                      : model-simu\n",
      "  Datasets names            : None\n",
      "  Spectral model type       : PowerLawSpectralModel\n",
      "  Spatial  model type       : GaussianSpatialModel\n",
      "  Temporal model type       : \n",
      "  Parameters:\n",
      "    index                   :   3.000              \n",
      "    amplitude               :   1.00e-11  1 / (cm2 s TeV)\n",
      "    reference    (frozen)   :   1.000  TeV         \n",
      "    lon_0                   :   0.200  deg         \n",
      "    lat_0                   :   0.100  deg         \n",
      "    sigma                   :   0.300  deg         \n",
      "    e            (frozen)   :   0.000              \n",
      "    phi          (frozen)   :   0.000  deg         \n",
      "\n",
      "\n"
     ]
    }
   ],
   "source": [
    "print(dataset_fit.models)"
   ]
  },
  {
   "cell_type": "code",
   "execution_count": 14,
   "metadata": {
    "execution": {
     "iopub.execute_input": "2020-09-29T18:20:31.239010Z",
     "iopub.status.busy": "2020-09-29T18:20:31.236463Z",
     "iopub.status.idle": "2020-09-29T18:20:31.246285Z",
     "shell.execute_reply": "2020-09-29T18:20:31.245676Z"
    }
   },
   "outputs": [
    {
     "name": "stdout",
     "output_type": "stream",
     "text": [
      "ProperModels\n",
      "\n",
      "Component 0: SkyModel\n",
      "\n",
      "  Name                      : model-fit\n",
      "  Datasets names            : None\n",
      "  Spectral model type       : PowerLawSpectralModel\n",
      "  Spatial  model type       : GaussianSpatialModel\n",
      "  Temporal model type       : \n",
      "  Parameters:\n",
      "    index                   :   2.000              \n",
      "    amplitude               :   1.00e-11  1 / (cm2 s TeV)\n",
      "    reference    (frozen)   :   1.000  TeV         \n",
      "    lon_0                   :   0.100  deg         \n",
      "    lat_0                   :   0.100  deg         \n",
      "    sigma                   :   0.500  deg         \n",
      "    e            (frozen)   :   0.000              \n",
      "    phi          (frozen)   :   0.000  deg         \n",
      "\n",
      "Component 1: BackgroundModel\n",
      "\n",
      "  Name                      : dataset-fit-bkg\n",
      "  Datasets names            : ['dataset-fit']\n",
      "  Parameters:\n",
      "    norm                    :   1.000              \n",
      "    tilt         (frozen)   :   0.000              \n",
      "    reference    (frozen)   :   1.000  TeV         \n",
      "\n",
      "\n"
     ]
    }
   ],
   "source": [
    "# Define sky model to fit the data\n",
    "spatial_model1 = GaussianSpatialModel(\n",
    "    lon_0=\"0.1 deg\", lat_0=\"0.1 deg\", sigma=\"0.5 deg\", frame=\"galactic\"\n",
    ")\n",
    "spectral_model1 = PowerLawSpectralModel(\n",
    "    index=2, amplitude=\"1e-11 cm-2 s-1 TeV-1\", reference=\"1 TeV\"\n",
    ")\n",
    "model_fit = SkyModel(\n",
    "    spatial_model=spatial_model1,\n",
    "    spectral_model=spectral_model1,\n",
    "    name=\"model-fit\",\n",
    ")\n",
    "\n",
    "dataset_fit.models = [model_fit, dataset_fit.models[0]]\n",
    "print(dataset_fit.models)"
   ]
  },
  {
   "cell_type": "code",
   "execution_count": 15,
   "metadata": {
    "execution": {
     "iopub.execute_input": "2020-09-29T18:20:31.250862Z",
     "iopub.status.busy": "2020-09-29T18:20:31.250281Z",
     "iopub.status.idle": "2020-09-29T18:20:31.254143Z",
     "shell.execute_reply": "2020-09-29T18:20:31.253561Z"
    }
   },
   "outputs": [
    {
     "name": "stdout",
     "output_type": "stream",
     "text": [
      "BackgroundModel\n",
      "\n",
      "  Name                      : dataset-fit-bkg\n",
      "  Datasets names            : ['dataset-fit']\n",
      "  Parameters:\n",
      "    norm         (frozen)   :   1.000              \n",
      "    tilt         (frozen)   :   0.000              \n",
      "    reference    (frozen)   :   1.000  TeV         \n",
      "\n",
      "\n"
     ]
    }
   ],
   "source": [
    "# We do not want to fit the background in this case, so we will freeze the parameters\n",
    "background_model = dataset_fit.background_model\n",
    "background_model.parameters[\"norm\"].value = 1.0\n",
    "background_model.parameters[\"norm\"].frozen = True\n",
    "background_model.parameters[\"tilt\"].frozen = True\n",
    "\n",
    "print(background_model)"
   ]
  },
  {
   "cell_type": "code",
   "execution_count": 16,
   "metadata": {
    "execution": {
     "iopub.execute_input": "2020-09-29T18:20:31.257674Z",
     "iopub.status.busy": "2020-09-29T18:20:31.257028Z",
     "iopub.status.idle": "2020-09-29T18:20:32.816972Z",
     "shell.execute_reply": "2020-09-29T18:20:32.816361Z"
    }
   },
   "outputs": [
    {
     "name": "stdout",
     "output_type": "stream",
     "text": [
      "MapDataset\n",
      "----------\n",
      "\n",
      "  Name                            : dataset-fit \n",
      "\n",
      "  Total counts                    : 169542 \n",
      "  Total predicted counts          : 164532.16\n",
      "  Total background counts         : 161422.06\n",
      "\n",
      "  Exposure min                    : 6.41e+07 m2 s\n",
      "  Exposure max                    : 2.53e+10 m2 s\n",
      "\n",
      "  Number of total bins            : 810000 \n",
      "  Number of fit bins              : 804492 \n",
      "\n",
      "  Fit statistic type              : cash\n",
      "  Fit statistic value (-2 log(L)) : 567425.20\n",
      "\n",
      "  Number of models                : 2 \n",
      "  Number of parameters            : 11\n",
      "  Number of free parameters       : 5\n",
      "\n",
      "  Component 0: SkyModel\n",
      "  \n",
      "    Name                      : model-fit\n",
      "    Datasets names            : None\n",
      "    Spectral model type       : PowerLawSpectralModel\n",
      "    Spatial  model type       : GaussianSpatialModel\n",
      "    Temporal model type       : \n",
      "    Parameters:\n",
      "      index                   :   2.000              \n",
      "      amplitude               :   1.00e-11  1 / (cm2 s TeV)\n",
      "      reference    (frozen)   :   1.000  TeV         \n",
      "      lon_0                   :   0.100  deg         \n",
      "      lat_0                   :   0.100  deg         \n",
      "      sigma                   :   0.500  deg         \n",
      "      e            (frozen)   :   0.000              \n",
      "      phi          (frozen)   :   0.000  deg         \n",
      "  \n",
      "  Component 1: BackgroundModel\n",
      "  \n",
      "    Name                      : dataset-fit-bkg\n",
      "    Datasets names            : ['dataset-fit']\n",
      "    Parameters:\n",
      "      norm         (frozen)   :   1.000              \n",
      "      tilt         (frozen)   :   0.000              \n",
      "      reference    (frozen)   :   1.000  TeV         \n",
      "  \n",
      "  \n"
     ]
    }
   ],
   "source": [
    "print(dataset_fit)"
   ]
  },
  {
   "cell_type": "code",
   "execution_count": 17,
   "metadata": {
    "execution": {
     "iopub.execute_input": "2020-09-29T18:20:32.824878Z",
     "iopub.status.busy": "2020-09-29T18:20:32.824316Z",
     "iopub.status.idle": "2020-09-29T18:20:51.310110Z",
     "shell.execute_reply": "2020-09-29T18:20:51.310576Z"
    }
   },
   "outputs": [
    {
     "name": "stdout",
     "output_type": "stream",
     "text": [
      "┌──────────────────────────────────┬──────────────────────────────────────┐\n",
      "│ FCN = 5.624e+05                  │       Ncalls = 208 (208 total)       │\n",
      "│ EDM = 6.54e-06 (Goal: 0.0002)    │               up = 1.0               │\n",
      "├───────────────┬──────────────────┼──────────────────────────────────────┤\n",
      "│ Valid Minimum │ Valid Parameters │       SOME Parameters at limit       │\n",
      "├───────────────┴──────────────────┼──────────────────────────────────────┤\n",
      "│ Below EDM threshold (goal x 10)  │           Below call limit           │\n",
      "├───────────────┬──────────────────┼───────────┬─────────────┬────────────┤\n",
      "│   Hesse ok    │  Has Covariance  │ Accurate  │  Pos. def.  │ Not forced │\n",
      "└───────────────┴──────────────────┴───────────┴─────────────┴────────────┘\n",
      "CPU times: user 18.5 s, sys: 15.8 ms, total: 18.5 s\n",
      "Wall time: 18.5 s\n"
     ]
    }
   ],
   "source": [
    "%%time\n",
    "fit = Fit([dataset_fit])\n",
    "result = fit.run(optimize_opts={\"print_level\": 1})"
   ]
  },
  {
   "cell_type": "code",
   "execution_count": 18,
   "metadata": {
    "execution": {
     "iopub.execute_input": "2020-09-29T18:20:51.315270Z",
     "iopub.status.busy": "2020-09-29T18:20:51.314683Z",
     "iopub.status.idle": "2020-09-29T18:20:52.044678Z",
     "shell.execute_reply": "2020-09-29T18:20:52.045148Z"
    }
   },
   "outputs": [
    {
     "name": "stderr",
     "output_type": "stream",
     "text": [
      "/usr/share/miniconda/envs/gammapy-dev/lib/python3.7/site-packages/astropy/visualization/wcsaxes/core.py:211: MatplotlibDeprecationWarning: Passing parameters norm and vmin/vmax simultaneously is deprecated since 3.3 and will become an error two minor releases later. Please pass vmin/vmax directly to the norm when creating it.\n",
      "  return super().imshow(X, *args, origin=origin, **kwargs)\n"
     ]
    },
    {
     "data": {
      "text/plain": [
       "(<WCSAxesSubplot:xlabel='Galactic Longitude', ylabel='Galactic Latitude'>,\n",
       " None)"
      ]
     },
     "execution_count": 1,
     "metadata": {},
     "output_type": "execute_result"
    },
    {
     "data": {
      "image/png": "[encoded data removed]",
      "text/plain": [
       "<Figure size 864x288 with 2 Axes>"
      ]
     },
     "metadata": {
      "needs_background": "light"
     },
     "output_type": "display_data"
    }
   ],
   "source": [
    "dataset_fit.plot_residuals(method=\"diff/sqrt(model)\", vmin=-0.5, vmax=0.5)"
   ]
  },
  {
   "cell_type": "markdown",
   "metadata": {},
   "source": [
    "Compare the injected and fitted models: "
   ]
  },
  {
   "cell_type": "code",
   "execution_count": 19,
   "metadata": {
    "execution": {
     "iopub.execute_input": "2020-09-29T18:20:52.050904Z",
     "iopub.status.busy": "2020-09-29T18:20:52.050012Z",
     "iopub.status.idle": "2020-09-29T18:20:52.053231Z",
     "shell.execute_reply": "2020-09-29T18:20:52.053945Z"
    }
   },
   "outputs": [
    {
     "name": "stdout",
     "output_type": "stream",
     "text": [
      "True model: \n",
      " SkyModel\n",
      "\n",
      "  Name                      : model-simu\n",
      "  Datasets names            : None\n",
      "  Spectral model type       : PowerLawSpectralModel\n",
      "  Spatial  model type       : GaussianSpatialModel\n",
      "  Temporal model type       : \n",
      "  Parameters:\n",
      "    index                   :   3.000              \n",
      "    amplitude               :   1.00e-11  1 / (cm2 s TeV)\n",
      "    reference    (frozen)   :   1.000  TeV         \n",
      "    lon_0                   :   0.200  deg         \n",
      "    lat_0                   :   0.100  deg         \n",
      "    sigma                   :   0.300  deg         \n",
      "    e            (frozen)   :   0.000              \n",
      "    phi          (frozen)   :   0.000  deg         \n",
      "\n",
      " \n",
      "\n",
      " Fitted model: \n",
      " SkyModel\n",
      "\n",
      "  Name                      : model-fit\n",
      "  Datasets names            : None\n",
      "  Spectral model type       : PowerLawSpectralModel\n",
      "  Spatial  model type       : GaussianSpatialModel\n",
      "  Temporal model type       : \n",
      "  Parameters:\n",
      "    index                   :   3.015              \n",
      "    amplitude               :   9.63e-12  1 / (cm2 s TeV)\n",
      "    reference    (frozen)   :   1.000  TeV         \n",
      "    lon_0                   :   0.198  deg         \n",
      "    lat_0                   :   0.096  deg         \n",
      "    sigma                   :   0.294  deg         \n",
      "    e            (frozen)   :   0.000              \n",
      "    phi          (frozen)   :   0.000  deg         \n",
      "\n",
      "\n"
     ]
    }
   ],
   "source": [
    "print(\"True model: \\n\", model_simu, \"\\n\\n Fitted model: \\n\", model_fit)"
   ]
  },
  {
   "cell_type": "markdown",
   "metadata": {},
   "source": [
    "Get the errors on the fitted parameters from the parameter table"
   ]
  },
  {
   "cell_type": "code",
   "execution_count": 20,
   "metadata": {
    "execution": {
     "iopub.execute_input": "2020-09-29T18:20:52.063690Z",
     "iopub.status.busy": "2020-09-29T18:20:52.063109Z",
     "iopub.status.idle": "2020-09-29T18:20:52.065683Z",
     "shell.execute_reply": "2020-09-29T18:20:52.066330Z"
    }
   },
   "outputs": [
    {
     "data": {
      "text/html": [
       "<i>Table length=11</i>\n",
       "<table id=\"table140303201269296\" class=\"table-striped table-bordered table-condensed\">\n",
       "<thead><tr><th>name</th><th>value</th><th>unit</th><th>min</th><th>max</th><th>frozen</th><th>error</th></tr></thead>\n",
       "<thead><tr><th>str9</th><th>float64</th><th>str14</th><th>float64</th><th>float64</th><th>bool</th><th>float64</th></tr></thead>\n",
       "<tr><td>index</td><td>3.015e+00</td><td></td><td>nan</td><td>nan</td><td>False</td><td>2.014e-02</td></tr>\n",
       "<tr><td>amplitude</td><td>9.635e-12</td><td>cm-2 s-1 TeV-1</td><td>nan</td><td>nan</td><td>False</td><td>3.234e-13</td></tr>\n",
       "<tr><td>reference</td><td>1.000e+00</td><td>TeV</td><td>nan</td><td>nan</td><td>True</td><td>0.000e+00</td></tr>\n",
       "<tr><td>lon_0</td><td>1.982e-01</td><td>deg</td><td>nan</td><td>nan</td><td>False</td><td>5.831e-03</td></tr>\n",
       "<tr><td>lat_0</td><td>9.590e-02</td><td>deg</td><td>-9.000e+01</td><td>9.000e+01</td><td>False</td><td>5.850e-03</td></tr>\n",
       "<tr><td>sigma</td><td>2.941e-01</td><td>deg</td><td>0.000e+00</td><td>nan</td><td>False</td><td>4.069e-03</td></tr>\n",
       "<tr><td>e</td><td>0.000e+00</td><td></td><td>0.000e+00</td><td>1.000e+00</td><td>True</td><td>0.000e+00</td></tr>\n",
       "<tr><td>phi</td><td>0.000e+00</td><td>deg</td><td>nan</td><td>nan</td><td>True</td><td>0.000e+00</td></tr>\n",
       "<tr><td>norm</td><td>1.000e+00</td><td></td><td>nan</td><td>nan</td><td>True</td><td>0.000e+00</td></tr>\n",
       "<tr><td>tilt</td><td>0.000e+00</td><td></td><td>nan</td><td>nan</td><td>True</td><td>0.000e+00</td></tr>\n",
       "<tr><td>reference</td><td>1.000e+00</td><td>TeV</td><td>nan</td><td>nan</td><td>True</td><td>0.000e+00</td></tr>\n",
       "</table>"
      ],
      "text/plain": [
       "<Table length=11>\n",
       "   name     value        unit         min        max    frozen   error  \n",
       "   str9    float64      str14       float64    float64   bool   float64 \n",
       "--------- --------- -------------- ---------- --------- ------ ---------\n",
       "    index 3.015e+00                       nan       nan  False 2.014e-02\n",
       "amplitude 9.635e-12 cm-2 s-1 TeV-1        nan       nan  False 3.234e-13\n",
       "reference 1.000e+00            TeV        nan       nan   True 0.000e+00\n",
       "    lon_0 1.982e-01            deg        nan       nan  False 5.831e-03\n",
       "    lat_0 9.590e-02            deg -9.000e+01 9.000e+01  False 5.850e-03\n",
       "    sigma 2.941e-01            deg  0.000e+00       nan  False 4.069e-03\n",
       "        e 0.000e+00                 0.000e+00 1.000e+00   True 0.000e+00\n",
       "      phi 0.000e+00            deg        nan       nan   True 0.000e+00\n",
       "     norm 1.000e+00                       nan       nan   True 0.000e+00\n",
       "     tilt 0.000e+00                       nan       nan   True 0.000e+00\n",
       "reference 1.000e+00            TeV        nan       nan   True 0.000e+00"
      ]
     },
     "execution_count": 1,
     "metadata": {},
     "output_type": "execute_result"
    }
   ],
   "source": [
    "result.parameters.to_table()"
   ]
  }
 ],
 "metadata": {
  "kernelspec": {
   "display_name": "Python 3",
   "language": "python",
   "name": "python3"
  },
  "language_info": {
   "codemirror_mode": {
    "name": "ipython",
    "version": 3
   },
   "file_extension": ".py",
   "mimetype": "text/x-python",
   "name": "python",
   "nbconvert_exporter": "python",
   "pygments_lexer": "ipython3",
   "version": "3.7.0"
  },
  "nbsphinx": {
   "orphan": true
  },
  "widgets": {
   "application/vnd.jupyter.widget-state+json": {
    "state": {
     "105c2956fd234e93a19e5d00d61c4800": {
      "model_module": "@jupyter-widgets/base",
      "model_module_version": "1.2.0",
      "model_name": "LayoutModel",
      "state": {
       "_model_module": "@jupyter-widgets/base",
       "_model_module_version": "1.2.0",
       "_model_name": "LayoutModel",
       "_view_count": null,
       "_view_module": "@jupyter-widgets/base",
       "_view_module_version": "1.2.0",
       "_view_name": "LayoutView",
       "align_content": null,
       "align_items": null,
       "align_self": null,
       "border": null,
       "bottom": null,
       "display": null,
       "flex": null,
       "flex_flow": null,
       "grid_area": null,
       "grid_auto_columns": null,
       "grid_auto_flow": null,
       "grid_auto_rows": null,
       "grid_column": null,
       "grid_gap": null,
       "grid_row": null,
       "grid_template_areas": null,
       "grid_template_columns": null,
       "grid_template_rows": null,
       "height": null,
       "justify_content": null,
       "justify_items": null,
       "left": null,
       "margin": null,
       "max_height": null,
       "max_width": null,
       "min_height": null,
       "min_width": null,
       "object_fit": null,
       "object_position": null,
       "order": null,
       "overflow": null,
       "overflow_x": null,
       "overflow_y": null,
       "padding": null,
       "right": null,
       "top": null,
       "visibility": null,
       "width": "50%"
      }
     },
     "4d4b59c09fda46e2af36fa7707d5fc3b": {
      "model_module": "@jupyter-widgets/controls",
      "model_module_version": "1.5.0",
      "model_name": "RadioButtonsModel",
      "state": {
       "_dom_classes": [],
       "_model_module": "@jupyter-widgets/controls",
       "_model_module_version": "1.5.0",
       "_model_name": "RadioButtonsModel",
       "_options_labels": [
        "linear",
        "sqrt",
        "log"
       ],
       "_view_count": null,
       "_view_module": "@jupyter-widgets/controls",
       "_view_module_version": "1.5.0",
       "_view_name": "RadioButtonsView",
       "description": "Select stretch:",
       "description_tooltip": null,
       "disabled": false,
       "index": 0,
       "layout": "IPY_MODEL_ba116b75eb424ea7bf583edc9107ee6d",
       "style": "IPY_MODEL_d823a344ad2143e8b0de0ff36df6943d"
      }
     },
     "9ebb6c8f63044748a6923badd00980c2": {
      "model_module": "@jupyter-widgets/controls",
      "model_module_version": "1.5.0",
      "model_name": "SelectionSliderModel",
      "state": {
       "_dom_classes": [],
       "_model_module": "@jupyter-widgets/controls",
       "_model_module_version": "1.5.0",
       "_model_name": "SelectionSliderModel",
       "_options_labels": [
        "1.00e-01 TeV - 1.67e-01 TeV TeV",
        "1.67e-01 TeV - 2.78e-01 TeV TeV",
        "2.78e-01 TeV - 4.64e-01 TeV TeV",
        "4.64e-01 TeV - 7.74e-01 TeV TeV",
        "7.74e-01 TeV - 1.29e+00 TeV TeV",
        "1.29e+00 TeV - 2.15e+00 TeV TeV",
        "2.15e+00 TeV - 3.59e+00 TeV TeV",
        "3.59e+00 TeV - 5.99e+00 TeV TeV",
        "5.99e+00 TeV - 1.00e+01 TeV TeV"
       ],
       "_view_count": null,
       "_view_module": "@jupyter-widgets/controls",
       "_view_module_version": "1.5.0",
       "_view_name": "SelectionSliderView",
       "continuous_update": false,
       "description": "Select energy:",
       "description_tooltip": null,
       "disabled": false,
       "index": 0,
       "layout": "IPY_MODEL_105c2956fd234e93a19e5d00d61c4800",
       "orientation": "horizontal",
       "readout": true,
       "style": "IPY_MODEL_f103666b0d3d4e18b9bb667693a2fa06"
      }
     },
     "b31f0f4e1d184e1b8c36ca5e90175ea0": {
      "model_module": "@jupyter-widgets/base",
      "model_module_version": "1.2.0",
      "model_name": "LayoutModel",
      "state": {
       "_model_module": "@jupyter-widgets/base",
       "_model_module_version": "1.2.0",
       "_model_name": "LayoutModel",
       "_view_count": null,
       "_view_module": "@jupyter-widgets/base",
       "_view_module_version": "1.2.0",
       "_view_name": "LayoutView",
       "align_content": null,
       "align_items": null,
       "align_self": null,
       "border": null,
       "bottom": null,
       "display": null,
       "flex": null,
       "flex_flow": null,
       "grid_area": null,
       "grid_auto_columns": null,
       "grid_auto_flow": null,
       "grid_auto_rows": null,
       "grid_column": null,
       "grid_gap": null,
       "grid_row": null,
       "grid_template_areas": null,
       "grid_template_columns": null,
       "grid_template_rows": null,
       "height": null,
       "justify_content": null,
       "justify_items": null,
       "left": null,
       "margin": null,
       "max_height": null,
       "max_width": null,
       "min_height": null,
       "min_width": null,
       "object_fit": null,
       "object_position": null,
       "order": null,
       "overflow": null,
       "overflow_x": null,
       "overflow_y": null,
       "padding": null,
       "right": null,
       "top": null,
       "visibility": null,
       "width": null
      }
     },
     "ba116b75eb424ea7bf583edc9107ee6d": {
      "model_module": "@jupyter-widgets/base",
      "model_module_version": "1.2.0",
      "model_name": "LayoutModel",
      "state": {
       "_model_module": "@jupyter-widgets/base",
       "_model_module_version": "1.2.0",
       "_model_name": "LayoutModel",
       "_view_count": null,
       "_view_module": "@jupyter-widgets/base",
       "_view_module_version": "1.2.0",
       "_view_name": "LayoutView",
       "align_content": null,
       "align_items": null,
       "align_self": null,
       "border": null,
       "bottom": null,
       "display": null,
       "flex": null,
       "flex_flow": null,
       "grid_area": null,
       "grid_auto_columns": null,
       "grid_auto_flow": null,
       "grid_auto_rows": null,
       "grid_column": null,
       "grid_gap": null,
       "grid_row": null,
       "grid_template_areas": null,
       "grid_template_columns": null,
       "grid_template_rows": null,
       "height": null,
       "justify_content": null,
       "justify_items": null,
       "left": null,
       "margin": null,
       "max_height": null,
       "max_width": null,
       "min_height": null,
       "min_width": null,
       "object_fit": null,
       "object_position": null,
       "order": null,
       "overflow": null,
       "overflow_x": null,
       "overflow_y": null,
       "padding": null,
       "right": null,
       "top": null,
       "visibility": null,
       "width": null
      }
     },
     "c2751c20164a433685a48d95c2834099": {
      "model_module": "@jupyter-widgets/output",
      "model_module_version": "1.0.0",
      "model_name": "OutputModel",
      "state": {
       "_dom_classes": [],
       "_model_module": "@jupyter-widgets/output",
       "_model_module_version": "1.0.0",
       "_model_name": "OutputModel",
       "_view_count": null,
       "_view_module": "@jupyter-widgets/output",
       "_view_module_version": "1.0.0",
       "_view_name": "OutputView",
       "layout": "IPY_MODEL_b31f0f4e1d184e1b8c36ca5e90175ea0",
       "msg_id": "",
       "outputs": [
        {
         "data": {
          "image/png": "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\n",
          "text/plain": "<Figure size 432x288 with 2 Axes>"
         },
         "metadata": {
          "needs_background": "light"
         },
         "output_type": "display_data"
        }
       ]
      }
     },
     "d823a344ad2143e8b0de0ff36df6943d": {
      "model_module": "@jupyter-widgets/controls",
      "model_module_version": "1.5.0",
      "model_name": "DescriptionStyleModel",
      "state": {
       "_model_module": "@jupyter-widgets/controls",
       "_model_module_version": "1.5.0",
       "_model_name": "DescriptionStyleModel",
       "_view_count": null,
       "_view_module": "@jupyter-widgets/base",
       "_view_module_version": "1.2.0",
       "_view_name": "StyleView",
       "description_width": "initial"
      }
     },
     "e1544f639ea141e4b875e91d20a4c1f2": {
      "model_module": "@jupyter-widgets/base",
      "model_module_version": "1.2.0",
      "model_name": "LayoutModel",
      "state": {
       "_model_module": "@jupyter-widgets/base",
       "_model_module_version": "1.2.0",
       "_model_name": "LayoutModel",
       "_view_count": null,
       "_view_module": "@jupyter-widgets/base",
       "_view_module_version": "1.2.0",
       "_view_name": "LayoutView",
       "align_content": null,
       "align_items": null,
       "align_self": null,
       "border": null,
       "bottom": null,
       "display": null,
       "flex": null,
       "flex_flow": null,
       "grid_area": null,
       "grid_auto_columns": null,
       "grid_auto_flow": null,
       "grid_auto_rows": null,
       "grid_column": null,
       "grid_gap": null,
       "grid_row": null,
       "grid_template_areas": null,
       "grid_template_columns": null,
       "grid_template_rows": null,
       "height": null,
       "justify_content": null,
       "justify_items": null,
       "left": null,
       "margin": null,
       "max_height": null,
       "max_width": null,
       "min_height": null,
       "min_width": null,
       "object_fit": null,
       "object_position": null,
       "order": null,
       "overflow": null,
       "overflow_x": null,
       "overflow_y": null,
       "padding": null,
       "right": null,
       "top": null,
       "visibility": null,
       "width": null
      }
     },
     "e3cc568c986b468c88227a664b19822e": {
      "model_module": "@jupyter-widgets/controls",
      "model_module_version": "1.5.0",
      "model_name": "VBoxModel",
      "state": {
       "_dom_classes": [
        "widget-interact"
       ],
       "_model_module": "@jupyter-widgets/controls",
       "_model_module_version": "1.5.0",
       "_model_name": "VBoxModel",
       "_view_count": null,
       "_view_module": "@jupyter-widgets/controls",
       "_view_module_version": "1.5.0",
       "_view_name": "VBoxView",
       "box_style": "",
       "children": [
        "IPY_MODEL_9ebb6c8f63044748a6923badd00980c2",
        "IPY_MODEL_4d4b59c09fda46e2af36fa7707d5fc3b",
        "IPY_MODEL_c2751c20164a433685a48d95c2834099"
       ],
       "layout": "IPY_MODEL_e1544f639ea141e4b875e91d20a4c1f2"
      }
     },
     "f103666b0d3d4e18b9bb667693a2fa06": {
      "model_module": "@jupyter-widgets/controls",
      "model_module_version": "1.5.0",
      "model_name": "DescriptionStyleModel",
      "state": {
       "_model_module": "@jupyter-widgets/controls",
       "_model_module_version": "1.5.0",
       "_model_name": "DescriptionStyleModel",
       "_view_count": null,
       "_view_module": "@jupyter-widgets/base",
       "_view_module_version": "1.2.0",
       "_view_name": "StyleView",
       "description_width": "initial"
      }
     }
    },
    "version_major": 2,
    "version_minor": 0
   }
  }
 },
 "nbformat": 4,
 "nbformat_minor": 4
}
