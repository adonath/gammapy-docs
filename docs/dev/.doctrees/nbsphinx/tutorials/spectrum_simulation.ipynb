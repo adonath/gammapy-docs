{
 "cells": [
  {
   "cell_type": "markdown",
   "metadata": {},
   "source": [
    "\n",
    "<div class=\"alert alert-info\">\n",
    "\n",
    "**This is a fixed-text formatted version of a Jupyter notebook**\n",
    "\n",
    "- Try online [![Binder](https://static.mybinder.org/badge.svg)](https://mybinder.org/v2/gh/gammapy/gammapy-webpage/master?urlpath=lab/tree/spectrum_simulation.ipynb)\n",
    "- You can contribute with your own notebooks in this\n",
    "[GitHub repository](https://github.com/gammapy/gammapy/tree/master/docs/tutorials).\n",
    "- **Source files:**\n",
    "[spectrum_simulation.ipynb](../_static/notebooks/spectrum_simulation.ipynb) |\n",
    "[spectrum_simulation.py](../_static/notebooks/spectrum_simulation.py)\n",
    "</div>\n"
   ]
  },
  {
   "cell_type": "markdown",
   "metadata": {},
   "source": [
    "# 1D spectrum simulation\n",
    "\n",
    "## Prerequisites\n",
    "\n",
    "- Knowledge of spectral extraction and datasets used in gammapy, see for instance the [spectral analysis tutorial](spectrum_analysis.ipynb)\n",
    "\n",
    "## Context\n",
    "\n",
    "To simulate a specific observation, it is not always necessary to simulate the full photon list. For many uses cases, simulating directly a reduced binned dataset is enough: the IRFs reduced in the correct geometry are combined with a source model to predict an actual number of counts per bin. The latter is then used to simulate a reduced dataset using Poisson probability distribution.\n",
    "\n",
    "This can be done to check the feasibility of a measurement, to test whether fitted parameters really provide a good fit to the data etc.\n",
    "\n",
    "Here we will see how to perform a 1D spectral simulation of a CTA observation, in particular, we will generate OFF observations following the template background stored in the CTA IRFs.\n",
    "\n",
    "**Objective: simulate a number of spectral ON-OFF observations of a source with a power-law spectral model with CTA using the CTA 1DC response, fit them with the assumed spectral model and check that the distribution of fitted parameters is consistent with the input values.**\n",
    "\n",
    "## Proposed approach:\n",
    "\n",
    "We will use the following classes:\n",
    "\n",
    "* `~gammapy.datasets.SpectrumDatasetOnOff`\n",
    "* `~gammapy.datasets.SpectrumDataset`\n",
    "* `~gammapy.irf.load_cta_irfs`\n",
    "* `~gammapy.modeling.models.PowerLawSpectralModel`"
   ]
  },
  {
   "cell_type": "markdown",
   "metadata": {},
   "source": [
    "## Setup\n"
   ]
  },
  {
   "cell_type": "code",
   "execution_count": 1,
   "metadata": {
    "execution": {
     "iopub.execute_input": "2021-01-10T21:18:11.403768Z",
     "iopub.status.busy": "2021-01-10T21:18:11.403207Z",
     "iopub.status.idle": "2021-01-10T21:18:11.659004Z",
     "shell.execute_reply": "2021-01-10T21:18:11.658429Z"
    }
   },
   "outputs": [],
   "source": [
    "%matplotlib inline\n",
    "import matplotlib.pyplot as plt"
   ]
  },
  {
   "cell_type": "code",
   "execution_count": 2,
   "metadata": {
    "execution": {
     "iopub.execute_input": "2021-01-10T21:18:11.663615Z",
     "iopub.status.busy": "2021-01-10T21:18:11.663101Z",
     "iopub.status.idle": "2021-01-10T21:18:12.511010Z",
     "shell.execute_reply": "2021-01-10T21:18:12.510079Z"
    }
   },
   "outputs": [],
   "source": [
    "import numpy as np\n",
    "import astropy.units as u\n",
    "from astropy.coordinates import SkyCoord, Angle\n",
    "from regions import CircleSkyRegion\n",
    "from gammapy.datasets import SpectrumDatasetOnOff, SpectrumDataset, Datasets\n",
    "from gammapy.makers import SpectrumDatasetMaker\n",
    "from gammapy.modeling import Fit\n",
    "from gammapy.modeling.models import (\n",
    "    PowerLawSpectralModel,\n",
    "    SkyModel,\n",
    ")\n",
    "from gammapy.irf import load_cta_irfs\n",
    "from gammapy.data import Observation\n",
    "from gammapy.maps import MapAxis, RegionGeom"
   ]
  },
  {
   "cell_type": "markdown",
   "metadata": {},
   "source": [
    "## Simulation of a single spectrum\n",
    "\n",
    "To do a simulation, we need to define the observational parameters like the livetime, the offset, the assumed integration radius, the energy range to perform the simulation for and the choice of spectral model. We then use an in-memory observation which is convolved with the IRFs to get the predicted number of counts. This is Poission fluctuated using the `fake()` to get the simulated counts for each observation.  "
   ]
  },
  {
   "cell_type": "code",
   "execution_count": 3,
   "metadata": {
    "execution": {
     "iopub.execute_input": "2021-01-10T21:18:12.518710Z",
     "iopub.status.busy": "2021-01-10T21:18:12.518285Z",
     "iopub.status.idle": "2021-01-10T21:18:12.521325Z",
     "shell.execute_reply": "2021-01-10T21:18:12.520715Z"
    }
   },
   "outputs": [],
   "source": [
    "# Define simulation parameters parameters\n",
    "livetime = 1 * u.h\n",
    "\n",
    "pointing = SkyCoord(0, 0, unit=\"deg\", frame=\"galactic\")\n",
    "offset = 0.5 * u.deg\n",
    "\n",
    "# Reconstructed and true energy axis\n",
    "energy_axis = MapAxis.from_edges(\n",
    "    np.logspace(-0.5, 1.0, 10), unit=\"TeV\", name=\"energy\", interp=\"log\"\n",
    ")\n",
    "energy_axis_true = MapAxis.from_edges(\n",
    "    np.logspace(-1.2, 2.0, 31), unit=\"TeV\", name=\"energy_true\", interp=\"log\"\n",
    ")\n",
    "\n",
    "on_region_radius = Angle(\"0.11 deg\")\n",
    "\n",
    "center = pointing.directional_offset_by(\n",
    "    position_angle=0 * u.deg, separation=offset\n",
    ")\n",
    "on_region = CircleSkyRegion(center=center, radius=on_region_radius)"
   ]
  },
  {
   "cell_type": "code",
   "execution_count": 4,
   "metadata": {
    "execution": {
     "iopub.execute_input": "2021-01-10T21:18:12.530133Z",
     "iopub.status.busy": "2021-01-10T21:18:12.529767Z",
     "iopub.status.idle": "2021-01-10T21:18:12.533514Z",
     "shell.execute_reply": "2021-01-10T21:18:12.533016Z"
    }
   },
   "outputs": [
    {
     "name": "stdout",
     "output_type": "stream",
     "text": [
      "PowerLawSpectralModel\n",
      "\n",
      "   name     value         unit      min max frozen   error  \n",
      "--------- ---------- -------------- --- --- ------ ---------\n",
      "    index 3.0000e+00                nan nan  False 0.000e+00\n",
      "amplitude 2.5000e-12 cm-2 s-1 TeV-1 nan nan  False 0.000e+00\n",
      "reference 1.0000e+00            TeV nan nan   True 0.000e+00\n"
     ]
    }
   ],
   "source": [
    "# Define spectral model - a simple Power Law in this case\n",
    "model_simu = PowerLawSpectralModel(\n",
    "    index=3.0,\n",
    "    amplitude=2.5e-12 * u.Unit(\"cm-2 s-1 TeV-1\"),\n",
    "    reference=1 * u.TeV,\n",
    ")\n",
    "print(model_simu)\n",
    "# we set the sky model used in the dataset\n",
    "model = SkyModel(spectral_model=model_simu, name=\"source\")"
   ]
  },
  {
   "cell_type": "code",
   "execution_count": 5,
   "metadata": {
    "execution": {
     "iopub.execute_input": "2021-01-10T21:18:12.537490Z",
     "iopub.status.busy": "2021-01-10T21:18:12.535536Z",
     "iopub.status.idle": "2021-01-10T21:18:12.606680Z",
     "shell.execute_reply": "2021-01-10T21:18:12.605914Z"
    }
   },
   "outputs": [
    {
     "name": "stderr",
     "output_type": "stream",
     "text": [
      "Invalid unit found in background table! Assuming (s-1 MeV-1 sr-1)\n"
     ]
    }
   ],
   "source": [
    "# Load the IRFs\n",
    "# In this simulation, we use the CTA-1DC irfs shipped with gammapy.\n",
    "irfs = load_cta_irfs(\n",
    "    \"$GAMMAPY_DATA/cta-1dc/caldb/data/cta/1dc/bcf/South_z20_50h/irf_file.fits\"\n",
    ")"
   ]
  },
  {
   "cell_type": "code",
   "execution_count": 6,
   "metadata": {
    "execution": {
     "iopub.execute_input": "2021-01-10T21:18:12.620571Z",
     "iopub.status.busy": "2021-01-10T21:18:12.619823Z",
     "iopub.status.idle": "2021-01-10T21:18:12.621868Z",
     "shell.execute_reply": "2021-01-10T21:18:12.622271Z"
    }
   },
   "outputs": [
    {
     "name": "stdout",
     "output_type": "stream",
     "text": [
      "Observation\n",
      "\n",
      "\tobs id            : 0 \n",
      " \ttstart            : 51544.00\n",
      "\ttstop             : 51544.04\n",
      "\tduration          : 3600.00 s\n",
      "\tpointing (icrs)   : 266.4 deg, -28.9 deg\n",
      "\n",
      "\tdeadtime fraction : 0.0%\n",
      "\n"
     ]
    }
   ],
   "source": [
    "obs = Observation.create(pointing=pointing, livetime=livetime, irfs=irfs)\n",
    "print(obs)"
   ]
  },
  {
   "cell_type": "code",
   "execution_count": 7,
   "metadata": {
    "execution": {
     "iopub.execute_input": "2021-01-10T21:18:12.630671Z",
     "iopub.status.busy": "2021-01-10T21:18:12.629212Z",
     "iopub.status.idle": "2021-01-10T21:18:12.693856Z",
     "shell.execute_reply": "2021-01-10T21:18:12.693026Z"
    }
   },
   "outputs": [],
   "source": [
    "# Make the SpectrumDataset\n",
    "geom = RegionGeom.create(region=on_region, axes=[energy_axis])\n",
    "\n",
    "dataset_empty = SpectrumDataset.create(\n",
    "    geom=geom, energy_axis_true=energy_axis_true, name=\"obs-0\"\n",
    ")\n",
    "maker = SpectrumDatasetMaker(selection=[\"exposure\", \"edisp\", \"background\"])\n",
    "\n",
    "dataset = maker.run(dataset_empty, obs)"
   ]
  },
  {
   "cell_type": "code",
   "execution_count": 8,
   "metadata": {
    "execution": {
     "iopub.execute_input": "2021-01-10T21:18:12.703769Z",
     "iopub.status.busy": "2021-01-10T21:18:12.702697Z",
     "iopub.status.idle": "2021-01-10T21:18:12.705003Z",
     "shell.execute_reply": "2021-01-10T21:18:12.705458Z"
    }
   },
   "outputs": [
    {
     "name": "stdout",
     "output_type": "stream",
     "text": [
      "SpectrumDataset\n",
      "---------------\n",
      "\n",
      "  Name                            : obs-0 \n",
      "\n",
      "  Total counts                    : 298 \n",
      "  Total background counts         : 22.32\n",
      "  Total excess counts             : 275.68\n",
      "\n",
      "  Predicted counts                : 303.69\n",
      "  Predicted background counts     : 22.32\n",
      "  Predicted excess counts         : 281.37\n",
      "\n",
      "  Exposure min                    : 2.53e+08 m2 s\n",
      "  Exposure max                    : 1.77e+10 m2 s\n",
      "\n",
      "  Number of total bins            : 9 \n",
      "  Number of fit bins              : 0 \n",
      "\n",
      "  Fit statistic type              : cash\n",
      "  Fit statistic value (-2 log(L)) : -1811.58\n",
      "\n",
      "  Number of models                : 1 \n",
      "  Number of parameters            : 3\n",
      "  Number of free parameters       : 2\n",
      "\n",
      "  Component 0: SkyModel\n",
      "  \n",
      "    Name                      : source\n",
      "    Datasets names            : None\n",
      "    Spectral model type       : PowerLawSpectralModel\n",
      "    Spatial  model type       : \n",
      "    Temporal model type       : \n",
      "    Parameters:\n",
      "      index                   :   3.000              \n",
      "      amplitude               :   2.50e-12  1 / (cm2 s TeV)\n",
      "      reference    (frozen)   :   1.000  TeV         \n",
      "  \n",
      "  \n"
     ]
    }
   ],
   "source": [
    "# Set the model on the dataset, and fake\n",
    "dataset.models = model\n",
    "dataset.fake(random_state=42)\n",
    "print(dataset)"
   ]
  },
  {
   "cell_type": "markdown",
   "metadata": {},
   "source": [
    "You can see that backgound counts are now simulated"
   ]
  },
  {
   "cell_type": "markdown",
   "metadata": {},
   "source": [
    "### On-Off analysis\n",
    "\n",
    "To do an on off spectral analysis, which is the usual science case, the standard would be to use `SpectrumDatasetOnOff`, which uses the acceptance to fake off-counts "
   ]
  },
  {
   "cell_type": "code",
   "execution_count": 9,
   "metadata": {
    "execution": {
     "iopub.execute_input": "2021-01-10T21:18:12.726286Z",
     "iopub.status.busy": "2021-01-10T21:18:12.710737Z",
     "iopub.status.idle": "2021-01-10T21:18:12.731908Z",
     "shell.execute_reply": "2021-01-10T21:18:12.731485Z"
    }
   },
   "outputs": [
    {
     "name": "stdout",
     "output_type": "stream",
     "text": [
      "SpectrumDatasetOnOff\n",
      "--------------------\n",
      "\n",
      "  Name                            : obs-0 \n",
      "\n",
      "  Total counts                    : 318 \n",
      "  Total background counts         : 23.20\n",
      "  Total excess counts             : 294.80\n",
      "\n",
      "  Predicted counts                : 304.78\n",
      "  Predicted background counts     : 23.41\n",
      "  Predicted excess counts         : 281.37\n",
      "\n",
      "  Exposure min                    : 2.53e+08 m2 s\n",
      "  Exposure max                    : 1.77e+10 m2 s\n",
      "\n",
      "  Number of total bins            : 9 \n",
      "  Number of fit bins              : 0 \n",
      "\n",
      "  Fit statistic type              : wstat\n",
      "  Fit statistic value (-2 log(L)) : 13.18\n",
      "\n",
      "  Number of models                : 1 \n",
      "  Number of parameters            : 3\n",
      "  Number of free parameters       : 2\n",
      "\n",
      "  Component 0: SkyModel\n",
      "  \n",
      "    Name                      : source\n",
      "    Datasets names            : None\n",
      "    Spectral model type       : PowerLawSpectralModel\n",
      "    Spatial  model type       : \n",
      "    Temporal model type       : \n",
      "    Parameters:\n",
      "      index                   :   3.000              \n",
      "      amplitude               :   2.50e-12  1 / (cm2 s TeV)\n",
      "      reference    (frozen)   :   1.000  TeV         \n",
      "  \n",
      "    Total counts_off                : 116 \n",
      "  Acceptance                      : 9 \n",
      "  Acceptance off                  : 45 \n",
      "\n"
     ]
    }
   ],
   "source": [
    "dataset_on_off = SpectrumDatasetOnOff.from_spectrum_dataset(\n",
    "    dataset=dataset, acceptance=1, acceptance_off=5\n",
    ")\n",
    "dataset_on_off.fake(npred_background=dataset.npred_background())\n",
    "print(dataset_on_off)"
   ]
  },
  {
   "cell_type": "markdown",
   "metadata": {},
   "source": [
    "You can see that off counts are now simulated as well. We now simulate several spectra using the same set of observation conditions."
   ]
  },
  {
   "cell_type": "code",
   "execution_count": 10,
   "metadata": {
    "execution": {
     "iopub.execute_input": "2021-01-10T21:18:12.846122Z",
     "iopub.status.busy": "2021-01-10T21:18:12.782102Z",
     "iopub.status.idle": "2021-01-10T21:18:13.296998Z",
     "shell.execute_reply": "2021-01-10T21:18:13.297292Z"
    }
   },
   "outputs": [
    {
     "name": "stdout",
     "output_type": "stream",
     "text": [
      "CPU times: user 562 ms, sys: 12.7 ms, total: 575 ms\n",
      "Wall time: 558 ms\n"
     ]
    }
   ],
   "source": [
    "%%time\n",
    "\n",
    "n_obs = 100\n",
    "datasets = Datasets()\n",
    "\n",
    "for idx in range(n_obs):\n",
    "    dataset_on_off.fake(\n",
    "        random_state=idx, npred_background=dataset.npred_background()\n",
    "    )\n",
    "    dataset_fake = dataset_on_off.copy(name=f\"obs-{idx}\")\n",
    "    dataset_fake.meta_table[\"OBS_ID\"] = [idx]\n",
    "    datasets.append(dataset_fake)"
   ]
  },
  {
   "cell_type": "code",
   "execution_count": 11,
   "metadata": {
    "execution": {
     "iopub.execute_input": "2021-01-10T21:18:13.309111Z",
     "iopub.status.busy": "2021-01-10T21:18:13.300503Z",
     "iopub.status.idle": "2021-01-10T21:18:14.447184Z",
     "shell.execute_reply": "2021-01-10T21:18:14.446603Z"
    }
   },
   "outputs": [
    {
     "name": "stderr",
     "output_type": "stream",
     "text": [
      "/home/runner/work/gammapy-docs/gammapy-docs/gammapy/gammapy/datasets/map.py:2128: RuntimeWarning: invalid value encountered in float_scalars\n",
      "  acceptance_off = acceptance * counts_off / info[\"background\"]\n",
      "/usr/share/miniconda/envs/gammapy-dev/lib/python3.7/site-packages/numpy/core/fromnumeric.py:3373: RuntimeWarning: Mean of empty slice.\n",
      "  out=out, **kwargs)\n",
      "/usr/share/miniconda/envs/gammapy-dev/lib/python3.7/site-packages/numpy/core/_methods.py:170: RuntimeWarning: invalid value encountered in true_divide\n",
      "  ret = ret.dtype.type(ret / rcount)\n"
     ]
    },
    {
     "data": {
      "text/html": [
       "<i>Table length=100</i>\n",
       "<table id=\"table139936350035640\" class=\"table-striped table-bordered table-condensed\">\n",
       "<thead><tr><th>name</th><th>counts</th><th>background</th><th>excess</th><th>sqrt_ts</th><th>npred</th><th>npred_background</th><th>npred_signal</th><th>exposure_min</th><th>exposure_max</th><th>livetime</th><th>ontime</th><th>counts_rate</th><th>background_rate</th><th>excess_rate</th><th>n_bins</th><th>n_fit_bins</th><th>stat_type</th><th>stat_sum</th><th>counts_off</th><th>acceptance</th><th>acceptance_off</th><th>alpha</th></tr></thead>\n",
       "<thead><tr><th></th><th></th><th></th><th></th><th></th><th></th><th></th><th></th><th>m2 s</th><th>m2 s</th><th>s</th><th>s</th><th>1 / s</th><th>1 / s</th><th>1 / s</th><th></th><th></th><th></th><th></th><th></th><th></th><th></th><th></th></tr></thead>\n",
       "<thead><tr><th>str7</th><th>float64</th><th>float64</th><th>float64</th><th>float64</th><th>float64</th><th>float64</th><th>float64</th><th>float64</th><th>float64</th><th>float64</th><th>float64</th><th>float64</th><th>float64</th><th>float64</th><th>int64</th><th>int64</th><th>str5</th><th>float64</th><th>float64</th><th>float64</th><th>float64</th><th>float64</th></tr></thead>\n",
       "<tr><td>stacked</td><td>0.0</td><td>0.0</td><td>0.0</td><td>nan</td><td>0.0</td><td>0.0</td><td>nan</td><td>252718176.0</td><td>17719697408.0</td><td>3600.0</td><td>3600.000000000002</td><td>0.0</td><td>0.0</td><td>0.0</td><td>9</td><td>0</td><td>wstat</td><td>0.0</td><td>0.0</td><td>0.0</td><td>nan</td><td>nan</td></tr>\n",
       "<tr><td>obs-1</td><td>275.0</td><td>22.0</td><td>253.0</td><td>23.76785365487285</td><td>64.16666666666669</td><td>64.16666666666669</td><td>nan</td><td>252718170.97287494</td><td>17719697919.599255</td><td>3600.0</td><td>3600.0</td><td>0.0763888888888889</td><td>0.006111111111111111</td><td>0.07027777777777777</td><td>9</td><td>0</td><td>wstat</td><td>575.779512784738</td><td>110.0</td><td>9.0</td><td>45.0</td><td>0.2</td></tr>\n",
       "<tr><td>obs-2</td><td>293.0</td><td>20.6</td><td>272.4</td><td>25.17110555404655</td><td>66.0</td><td>66.0</td><td>nan</td><td>252718170.97287494</td><td>17719697919.599255</td><td>3600.0</td><td>3600.0</td><td>0.08138888888888889</td><td>0.005722222222222222</td><td>0.07566666666666666</td><td>9</td><td>0</td><td>wstat</td><td>645.4993824075303</td><td>103.0</td><td>9.0</td><td>45.0</td><td>0.2</td></tr>\n",
       "<tr><td>obs-3</td><td>280.0</td><td>22.4</td><td>257.6</td><td>23.982951737405376</td><td>65.33333333333334</td><td>65.33333333333334</td><td>nan</td><td>252718170.97287494</td><td>17719697919.599255</td><td>3600.0</td><td>3600.0</td><td>0.07777777777777778</td><td>0.006222222222222222</td><td>0.07155555555555557</td><td>9</td><td>0</td><td>wstat</td><td>585.9241546985872</td><td>112.0</td><td>9.0</td><td>45.0</td><td>0.2</td></tr>\n",
       "<tr><td>obs-4</td><td>337.0</td><td>20.6</td><td>316.4</td><td>27.682709945184747</td><td>73.33333333333334</td><td>73.33333333333334</td><td>nan</td><td>252718170.97287494</td><td>17719697919.599255</td><td>3600.0</td><td>3600.0</td><td>0.09361111111111112</td><td>0.005722222222222222</td><td>0.08788888888888888</td><td>9</td><td>0</td><td>wstat</td><td>787.314723949448</td><td>103.0</td><td>9.0</td><td>45.0</td><td>0.2</td></tr>\n",
       "<tr><td>obs-5</td><td>283.0</td><td>24.400000000000002</td><td>258.6</td><td>23.727154782347895</td><td>67.50000000000001</td><td>67.50000000000001</td><td>nan</td><td>252718170.97287494</td><td>17719697919.599255</td><td>3600.0</td><td>3600.0</td><td>0.07861111111111112</td><td>0.006777777777777778</td><td>0.07183333333333335</td><td>9</td><td>0</td><td>wstat</td><td>574.8525737727499</td><td>122.0</td><td>9.0</td><td>44.99999999999999</td><td>0.2</td></tr>\n",
       "<tr><td>obs-6</td><td>330.0</td><td>22.400000000000006</td><td>307.6</td><td>26.889184475727866</td><td>73.66666666666667</td><td>73.66666666666667</td><td>nan</td><td>252718170.97287494</td><td>17719697919.599255</td><td>3600.0</td><td>3600.0</td><td>0.09166666666666666</td><td>0.006222222222222224</td><td>0.08544444444444445</td><td>9</td><td>0</td><td>wstat</td><td>734.2414755285937</td><td>112.0</td><td>9.0</td><td>44.999999999999986</td><td>0.2</td></tr>\n",
       "<tr><td>obs-7</td><td>283.0</td><td>26.000000000000004</td><td>257.0</td><td>23.389178133235443</td><td>68.83333333333334</td><td>68.83333333333334</td><td>nan</td><td>252718170.97287494</td><td>17719697919.599255</td><td>3600.0</td><td>3600.0</td><td>0.07861111111111112</td><td>0.007222222222222224</td><td>0.07138888888888889</td><td>9</td><td>0</td><td>wstat</td><td>550.5371016347369</td><td>130.0</td><td>9.0</td><td>44.99999999999999</td><td>0.2</td></tr>\n",
       "<tr><td>obs-8</td><td>308.0</td><td>23.400000000000002</td><td>284.6</td><td>25.42049273328333</td><td>70.83333333333334</td><td>70.83333333333334</td><td>nan</td><td>252718170.97287494</td><td>17719697919.599255</td><td>3600.0</td><td>3600.0</td><td>0.08555555555555555</td><td>0.006500000000000001</td><td>0.07905555555555556</td><td>9</td><td>0</td><td>wstat</td><td>652.2621572567633</td><td>117.0</td><td>9.0</td><td>44.99999999999999</td><td>0.2</td></tr>\n",
       "<tr><td>...</td><td>...</td><td>...</td><td>...</td><td>...</td><td>...</td><td>...</td><td>...</td><td>...</td><td>...</td><td>...</td><td>...</td><td>...</td><td>...</td><td>...</td><td>...</td><td>...</td><td>...</td><td>...</td><td>...</td><td>...</td><td>...</td><td>...</td></tr>\n",
       "<tr><td>obs-90</td><td>286.0</td><td>19.000000000000004</td><td>267.0</td><td>25.131221887043438</td><td>63.50000000000001</td><td>63.50000000000001</td><td>nan</td><td>252718170.97287494</td><td>17719697919.599255</td><td>3600.0</td><td>3600.0</td><td>0.07944444444444444</td><td>0.005277777777777779</td><td>0.07416666666666667</td><td>9</td><td>0</td><td>wstat</td><td>635.8304116110406</td><td>95.0</td><td>9.0</td><td>44.99999999999999</td><td>0.2</td></tr>\n",
       "<tr><td>obs-91</td><td>285.0</td><td>25.200000000000003</td><td>259.8</td><td>23.67754591931069</td><td>68.50000000000001</td><td>68.50000000000001</td><td>nan</td><td>252718170.97287494</td><td>17719697919.599255</td><td>3600.0</td><td>3600.0</td><td>0.07916666666666666</td><td>0.007000000000000001</td><td>0.07216666666666667</td><td>9</td><td>0</td><td>wstat</td><td>573.3564742963381</td><td>126.0</td><td>9.0</td><td>44.99999999999999</td><td>0.2</td></tr>\n",
       "<tr><td>obs-92</td><td>313.0</td><td>23.6</td><td>289.4</td><td>25.664935420194176</td><td>71.83333333333336</td><td>71.83333333333336</td><td>nan</td><td>252718170.97287494</td><td>17719697919.599255</td><td>3600.0</td><td>3600.0</td><td>0.08694444444444445</td><td>0.006555555555555556</td><td>0.08038888888888888</td><td>9</td><td>0</td><td>wstat</td><td>669.4496142825196</td><td>118.0</td><td>9.0</td><td>45.0</td><td>0.2</td></tr>\n",
       "<tr><td>obs-93</td><td>302.0</td><td>18.8</td><td>283.2</td><td>26.123867522605497</td><td>66.00000000000001</td><td>66.00000000000001</td><td>nan</td><td>252718170.97287494</td><td>17719697919.599255</td><td>3600.0</td><td>3600.0</td><td>0.08388888888888889</td><td>0.005222222222222223</td><td>0.07866666666666666</td><td>9</td><td>0</td><td>wstat</td><td>700.5066738339824</td><td>94.0</td><td>9.0</td><td>45.0</td><td>0.2</td></tr>\n",
       "<tr><td>obs-94</td><td>322.0</td><td>22.0</td><td>300.0</td><td>26.5292481657426</td><td>72.00000000000001</td><td>72.00000000000001</td><td>nan</td><td>252718170.97287494</td><td>17719697919.599255</td><td>3600.0</td><td>3600.0</td><td>0.08944444444444444</td><td>0.006111111111111111</td><td>0.08333333333333333</td><td>9</td><td>0</td><td>wstat</td><td>713.0312763641124</td><td>110.0</td><td>9.0</td><td>45.0</td><td>0.2</td></tr>\n",
       "<tr><td>obs-95</td><td>305.0</td><td>24.600000000000005</td><td>280.4</td><td>24.98804632088198</td><td>71.33333333333334</td><td>71.33333333333334</td><td>nan</td><td>252718170.97287494</td><td>17719697919.599255</td><td>3600.0</td><td>3600.0</td><td>0.08472222222222223</td><td>0.0068333333333333345</td><td>0.07788888888888888</td><td>9</td><td>0</td><td>wstat</td><td>640.6117985433588</td><td>123.0</td><td>9.0</td><td>44.99999999999999</td><td>0.2</td></tr>\n",
       "<tr><td>obs-96</td><td>301.0</td><td>23.6</td><td>277.4</td><td>24.969845969421428</td><td>69.83333333333334</td><td>69.83333333333334</td><td>nan</td><td>252718170.97287494</td><td>17719697919.599255</td><td>3600.0</td><td>3600.0</td><td>0.08361111111111111</td><td>0.006555555555555556</td><td>0.07705555555555554</td><td>9</td><td>0</td><td>wstat</td><td>626.7396842428624</td><td>118.0</td><td>9.0</td><td>45.0</td><td>0.2</td></tr>\n",
       "<tr><td>obs-97</td><td>290.0</td><td>18.8</td><td>271.2</td><td>25.417982194454826</td><td>64.00000000000001</td><td>64.00000000000001</td><td>nan</td><td>252718170.97287494</td><td>17719697919.599255</td><td>3600.0</td><td>3600.0</td><td>0.08055555555555556</td><td>0.005222222222222223</td><td>0.07533333333333334</td><td>9</td><td>0</td><td>wstat</td><td>650.9762484493856</td><td>94.0</td><td>9.0</td><td>45.0</td><td>0.2</td></tr>\n",
       "<tr><td>obs-98</td><td>301.0</td><td>20.400000000000002</td><td>280.6</td><td>25.687832964675007</td><td>67.16666666666667</td><td>67.16666666666667</td><td>nan</td><td>252718170.97287494</td><td>17719697919.599255</td><td>3600.0</td><td>3600.0</td><td>0.08361111111111111</td><td>0.005666666666666667</td><td>0.07794444444444446</td><td>9</td><td>0</td><td>wstat</td><td>664.5620099404952</td><td>102.0</td><td>9.0</td><td>44.99999999999999</td><td>0.2</td></tr>\n",
       "<tr><td>obs-99</td><td>323.0</td><td>20.8</td><td>302.2</td><td>26.85707842376871</td><td>71.16666666666669</td><td>71.16666666666669</td><td>nan</td><td>252718170.97287494</td><td>17719697919.599255</td><td>3600.0</td><td>3600.0</td><td>0.08972222222222222</td><td>0.005777777777777778</td><td>0.08394444444444445</td><td>9</td><td>0</td><td>wstat</td><td>733.1576598768017</td><td>104.0</td><td>9.0</td><td>45.0</td><td>0.2</td></tr>\n",
       "</table>"
      ],
      "text/plain": [
       "<Table length=100>\n",
       "  name   counts     background     ... acceptance   acceptance_off    alpha \n",
       "                                   ...                                      \n",
       "  str7  float64      float64       ...  float64        float64       float64\n",
       "------- ------- ------------------ ... ---------- ------------------ -------\n",
       "stacked     0.0                0.0 ...        0.0                nan     nan\n",
       "  obs-1   275.0               22.0 ...        9.0               45.0     0.2\n",
       "  obs-2   293.0               20.6 ...        9.0               45.0     0.2\n",
       "  obs-3   280.0               22.4 ...        9.0               45.0     0.2\n",
       "  obs-4   337.0               20.6 ...        9.0               45.0     0.2\n",
       "  obs-5   283.0 24.400000000000002 ...        9.0  44.99999999999999     0.2\n",
       "  obs-6   330.0 22.400000000000006 ...        9.0 44.999999999999986     0.2\n",
       "  obs-7   283.0 26.000000000000004 ...        9.0  44.99999999999999     0.2\n",
       "  obs-8   308.0 23.400000000000002 ...        9.0  44.99999999999999     0.2\n",
       "    ...     ...                ... ...        ...                ...     ...\n",
       " obs-90   286.0 19.000000000000004 ...        9.0  44.99999999999999     0.2\n",
       " obs-91   285.0 25.200000000000003 ...        9.0  44.99999999999999     0.2\n",
       " obs-92   313.0               23.6 ...        9.0               45.0     0.2\n",
       " obs-93   302.0               18.8 ...        9.0               45.0     0.2\n",
       " obs-94   322.0               22.0 ...        9.0               45.0     0.2\n",
       " obs-95   305.0 24.600000000000005 ...        9.0  44.99999999999999     0.2\n",
       " obs-96   301.0               23.6 ...        9.0               45.0     0.2\n",
       " obs-97   290.0               18.8 ...        9.0               45.0     0.2\n",
       " obs-98   301.0 20.400000000000002 ...        9.0  44.99999999999999     0.2\n",
       " obs-99   323.0               20.8 ...        9.0               45.0     0.2"
      ]
     },
     "execution_count": 1,
     "metadata": {},
     "output_type": "execute_result"
    }
   ],
   "source": [
    "table = datasets.info_table()\n",
    "table"
   ]
  },
  {
   "cell_type": "markdown",
   "metadata": {},
   "source": [
    "Before moving on to the fit let's have a look at the simulated observations."
   ]
  },
  {
   "cell_type": "code",
   "execution_count": 12,
   "metadata": {
    "execution": {
     "iopub.execute_input": "2021-01-10T21:18:14.494928Z",
     "iopub.status.busy": "2021-01-10T21:18:14.488705Z",
     "iopub.status.idle": "2021-01-10T21:18:14.778100Z",
     "shell.execute_reply": "2021-01-10T21:18:14.777537Z"
    }
   },
   "outputs": [
    {
     "data": {
      "text/plain": [
       "Text(0.5, 0, 'excess')"
      ]
     },
     "execution_count": 1,
     "metadata": {},
     "output_type": "execute_result"
    },
    {
     "data": {
      "image/png": "[encoded data removed]",
      "text/plain": [
       "<Figure size 864x288 with 3 Axes>"
      ]
     },
     "metadata": {
      "needs_background": "light"
     },
     "output_type": "display_data"
    }
   ],
   "source": [
    "fix, axes = plt.subplots(1, 3, figsize=(12, 4))\n",
    "axes[0].hist(table[\"counts\"])\n",
    "axes[0].set_xlabel(\"Counts\")\n",
    "axes[1].hist(table[\"counts_off\"])\n",
    "axes[1].set_xlabel(\"Counts Off\")\n",
    "axes[2].hist(table[\"excess\"])\n",
    "axes[2].set_xlabel(\"excess\");"
   ]
  },
  {
   "cell_type": "markdown",
   "metadata": {},
   "source": [
    "Now, we fit each simulated spectrum individually "
   ]
  },
  {
   "cell_type": "code",
   "execution_count": 13,
   "metadata": {
    "execution": {
     "iopub.execute_input": "2021-01-10T21:18:14.788729Z",
     "iopub.status.busy": "2021-01-10T21:18:14.783373Z",
     "iopub.status.idle": "2021-01-10T21:18:26.606248Z",
     "shell.execute_reply": "2021-01-10T21:18:26.606665Z"
    }
   },
   "outputs": [
    {
     "name": "stdout",
     "output_type": "stream",
     "text": [
      "CPU times: user 11.8 s, sys: 1.94 ms, total: 11.8 s\n",
      "Wall time: 11.8 s\n"
     ]
    }
   ],
   "source": [
    "%%time\n",
    "results = []\n",
    "\n",
    "for dataset in datasets:\n",
    "    dataset.models = model.copy()\n",
    "    fit = Fit([dataset])\n",
    "    result = fit.optimize()\n",
    "    results.append(\n",
    "        {\n",
    "            \"index\": result.parameters[\"index\"].value,\n",
    "            \"amplitude\": result.parameters[\"amplitude\"].value,\n",
    "        }\n",
    "    )"
   ]
  },
  {
   "cell_type": "markdown",
   "metadata": {},
   "source": [
    "We take a look at the distribution of the fitted indices. This matches very well with the spectrum that we initially injected."
   ]
  },
  {
   "cell_type": "code",
   "execution_count": 14,
   "metadata": {
    "execution": {
     "iopub.execute_input": "2021-01-10T21:18:26.635854Z",
     "iopub.status.busy": "2021-01-10T21:18:26.630387Z",
     "iopub.status.idle": "2021-01-10T21:18:26.719994Z",
     "shell.execute_reply": "2021-01-10T21:18:26.719548Z"
    },
    "nbsphinx-thumbnail": {
     "tooltip": "Simulate a number of spectral on-off observations of a source with a power-law spectral model using the CTA 1DC response and fit them with the assumed spectral model."
    }
   },
   "outputs": [
    {
     "name": "stdout",
     "output_type": "stream",
     "text": [
      "index: 3.0036666673445196 += 0.08075110145807829\n"
     ]
    },
    {
     "data": {
      "image/png": "[encoded data removed]",
      "text/plain": [
       "<Figure size 432x288 with 1 Axes>"
      ]
     },
     "metadata": {
      "needs_background": "light"
     },
     "output_type": "display_data"
    }
   ],
   "source": [
    "index = np.array([_[\"index\"] for _ in results])\n",
    "plt.hist(index, bins=10, alpha=0.5)\n",
    "plt.axvline(x=model_simu.parameters[\"index\"].value, color=\"red\")\n",
    "print(f\"index: {index.mean()} += {index.std()}\")"
   ]
  },
  {
   "cell_type": "markdown",
   "metadata": {},
   "source": [
    "## Exercises\n",
    "\n",
    "* Change the observation time to something longer or shorter. Does the observation and spectrum results change as you expected?\n",
    "* Change the spectral model, e.g. add a cutoff at 5 TeV, or put a steep-spectrum source with spectral index of 4.0\n",
    "* Simulate spectra with the spectral model we just defined. How much observation duration do you need to get back the injected parameters?"
   ]
  },
  {
   "cell_type": "code",
   "execution_count": null,
   "metadata": {},
   "outputs": [],
   "source": []
  }
 ],
 "metadata": {
  "kernelspec": {
   "display_name": "Python 3",
   "language": "python",
   "name": "python3"
  },
  "language_info": {
   "codemirror_mode": {
    "name": "ipython",
    "version": 3
   },
   "file_extension": ".py",
   "mimetype": "text/x-python",
   "name": "python",
   "nbconvert_exporter": "python",
   "pygments_lexer": "ipython3",
   "version": "3.7.0"
  },
  "nbsphinx": {
   "orphan": true
  }
 },
 "nbformat": 4,
 "nbformat_minor": 4
}
