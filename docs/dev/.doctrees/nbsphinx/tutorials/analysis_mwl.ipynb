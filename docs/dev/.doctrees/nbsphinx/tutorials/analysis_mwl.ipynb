{
 "cells": [
  {
   "cell_type": "markdown",
   "metadata": {},
   "source": [
    "\n",
    "<div class=\"alert alert-info\">\n",
    "\n",
    "**This is a fixed-text formatted version of a Jupyter notebook**\n",
    "\n",
    "- Try online [![Binder](https://static.mybinder.org/badge.svg)](https://mybinder.org/v2/gh/gammapy/gammapy-webpage/master?urlpath=lab/tree/analysis_mwl.ipynb)\n",
    "- You can contribute with your own notebooks in this\n",
    "[GitHub repository](https://github.com/gammapy/gammapy/tree/master/docs/tutorials).\n",
    "- **Source files:**\n",
    "[analysis_mwl.ipynb](../_static/notebooks/analysis_mwl.ipynb) |\n",
    "[analysis_mwl.py](../_static/notebooks/analysis_mwl.py)\n",
    "</div>\n"
   ]
  },
  {
   "cell_type": "markdown",
   "metadata": {},
   "source": [
    "# Joint modeling, fitting, and serialization\n"
   ]
  },
  {
   "cell_type": "markdown",
   "metadata": {},
   "source": [
    "## Prerequisites\n",
    "\n",
    "- Handling of Fermi-LAT data with gammapy [see the corresponding tutorial](fermi_lat.ipynb)\n",
    "- Knowledge of spectral analysis to produce 1D On-Off datasets, [see the following tutorial](spectrum_analysis.ipynb)\n",
    "- Using flux points to directly fit a model (without forward-folding)  [see the SED fitting tutorial](sed_fitting.ipynb)\n",
    "\n",
    "## Context\n",
    "\n",
    "Some science studies require to combine heterogeneous data from various instruments to extract physical informations. In particular, it is often useful to add flux measurements of a source at different energies to an analysis to better constrain the wide-band spectral parameters. This can be done using a joint fit of heterogeneous datasets.\n",
    " \n",
    "**Objectives: Constrain the spectral parameters of the gamma-ray emission from the Crab nebula between 10 GeV and 100 TeV, using a 3D Fermi dataset, a H.E.S.S. reduced spectrum and HAWC flux points.**\n",
    "\n",
    "## Proposed approach\n",
    "\n",
    "This tutorial illustrates how to perfom a joint modeling and fitting of the Crab Nebula spectrum using different datasets.\n",
    "The spectral parameters are optimized by combining a 3D analysis of Fermi-LAT data, a ON/OFF spectral analysis of HESS data, and flux points from HAWC.\n",
    "\n",
    "In this tutorial we are going to use pre-made datasets. We prepared maps of the Crab region as seen by Fermi-LAT using the same event selection than the [3FHL catalog](https://arxiv.org/abs/1702.00664) (7 years of data with energy from 10 GeV to 2 TeV). For the HESS ON/OFF analysis we used two observations from the [first public data release](https://arxiv.org/abs/1810.04516) with a significant signal from energy of about 600 GeV to 10 TeV. These observations have an offset of 0.5° and a zenith angle of 45-48°. The HAWC flux points data are taken from a [recent analysis](https://arxiv.org/pdf/1905.12518.pdf) based on 2.5 years of data with energy between 300 Gev and 300 TeV. \n",
    "\n",
    "## The setup\n"
   ]
  },
  {
   "cell_type": "code",
   "execution_count": 1,
   "metadata": {},
   "outputs": [],
   "source": [
    "from astropy import units as u\n",
    "import matplotlib.pyplot as plt\n",
    "from gammapy.modeling import Fit\n",
    "from gammapy.datasets import Datasets, FluxPointsDataset, SpectrumDatasetOnOff\n",
    "from gammapy.estimators import FluxPoints, FluxPointsEstimator\n",
    "from gammapy.maps import MapAxis\n",
    "from pathlib import Path"
   ]
  },
  {
   "cell_type": "markdown",
   "metadata": {},
   "source": [
    "## Data and models files\n",
    "\n",
    "\n",
    "The datasets serialization produce YAML files listing the datasets and models. In the following cells we show an example containning only the Fermi-LAT dataset and the Crab model. \n",
    "\n",
    "Fermi-LAT-3FHL_datasets.yaml:\n",
    "\n",
    "```yaml\n",
    "datasets:\n",
    "- name: Fermi-LAT\n",
    "  type: MapDataset\n",
    "  likelihood: cash\n",
    "  models:\n",
    "- Crab Nebula\n",
    "  background: background\n",
    "  filename: $GAMMAPY_DATA/fermi-3fhl-crab/Fermi-LAT-3FHL_data_Fermi-LAT.fits\n",
    "```\n",
    "\n",
    "We used as model a point source with a log-parabola spectrum. The initial parameters were taken from the latest Fermi-LAT catalog [4FGL](https://arxiv.org/abs/1902.10045), then we have re-optimized the spectral parameters for our dataset in the 10 GeV - 2 TeV energy range (fixing the source position).\n",
    "\n",
    "Fermi-LAT-3FHL_models.yaml:\n",
    "\n",
    "```yaml\n",
    "components:\n",
    "- name: Crab Nebula\n",
    "  type: SkyModel\n",
    "  spatial:\n",
    "    type: PointSpatialModel\n",
    "    frame: icrs\n",
    "    parameters:\n",
    "    - name: lon_0\n",
    "      value: 83.63310241699219\n",
    "      unit: deg\n",
    "      min: .nan\n",
    "      max: .nan\n",
    "      frozen: true\n",
    "    - name: lat_0\n",
    "      value: 22.019899368286133\n",
    "      unit: deg\n",
    "      min: -90.0\n",
    "      max: 90.0\n",
    "      frozen: true\n",
    "  spectral:\n",
    "    type: LogParabolaSpectralModel\n",
    "    parameters:\n",
    "    - name: amplitude\n",
    "      value: 0.3415498620816483\n",
    "      unit: cm-2 s-1 TeV-1\n",
    "      min: .nan\n",
    "      max: .nan\n",
    "      frozen: false\n",
    "    - name: reference\n",
    "      value: 5.054833602905273e-05\n",
    "      unit: TeV\n",
    "      min: .nan\n",
    "      max: .nan\n",
    "      frozen: true\n",
    "    - name: alpha\n",
    "      value: 2.510798031388936\n",
    "      unit: ''\n",
    "      min: .nan\n",
    "      max: .nan\n",
    "      frozen: false\n",
    "    - name: beta\n",
    "      value: -0.022476498188855533\n",
    "      unit: ''\n",
    "      min: .nan\n",
    "      max: .nan\n",
    "      frozen: false\n",
    "- name: background\n",
    "  type: BackgroundModel\n",
    "  parameters:\n",
    "  - name: norm\n",
    "    value: 0.9544383244743555\n",
    "    unit: ''\n",
    "    min: 0.0\n",
    "    max: .nan\n",
    "    frozen: false\n",
    "  - name: tilt\n",
    "    value: 0.0\n",
    "    unit: ''\n",
    "    min: .nan\n",
    "    max: .nan\n",
    "    frozen: true\n",
    "  - name: reference\n",
    "    value: 1.0\n",
    "    unit: TeV\n",
    "    min: .nan\n",
    "    max: .nan\n",
    "    frozen: true\n",
    "\n",
    "```"
   ]
  },
  {
   "cell_type": "markdown",
   "metadata": {},
   "source": [
    "## Reading  different datasets\n",
    "\n",
    "\n",
    "### Fermi-LAT 3FHL: map dataset for 3D analysis\n",
    "For now we let's use the datasets serialization only to read the 3D `MapDataset` associated to Fermi-LAT 3FHL data and models."
   ]
  },
  {
   "cell_type": "code",
   "execution_count": 2,
   "metadata": {},
   "outputs": [],
   "source": [
    "path = Path(\"$GAMMAPY_DATA/fermi-3fhl-crab\")\n",
    "filedata = \"Fermi-LAT-3FHL_datasets.yaml\"\n",
    "filemodel = \"Fermi-LAT-3FHL_models.yaml\"\n",
    "datasets = Datasets.read(path, filedata=filedata, filemodel=filemodel)\n",
    "dataset_fermi = datasets[0]"
   ]
  },
  {
   "cell_type": "code",
   "execution_count": 3,
   "metadata": {},
   "outputs": [
    {
     "name": "stdout",
     "output_type": "stream",
     "text": [
      "ProperModels\n",
      "\n",
      "Component 0: SkyModel\n",
      "\n",
      "  Name                      : Crab Nebula\n",
      "  Datasets names            : None\n",
      "  Spectral model type       : ['LogParabolaSpectralModel', 'lp']\n",
      "  Spatial  model type       : ['PointSpatialModel', 'point']\n",
      "  Temporal model type       : None\n",
      "  Parameters:\n",
      "    amplitude               :   1.82e-02  1 / (cm2 s TeV)\n",
      "    reference    (frozen)   :   0.000  TeV         \n",
      "    alpha                   :   1.652              \n",
      "    beta                    :   0.039              \n",
      "    lon_0        (frozen)   :  83.633  deg         \n",
      "    lat_0        (frozen)   :  22.020  deg         \n",
      "\n",
      "Component 1: BackgroundModel\n",
      "\n",
      "  Name                      : iem_v06\n",
      "  Datasets names            : ['Fermi-LAT']\n",
      "  Parameters:\n",
      "    norm                    :   1.300              \n",
      "    tilt         (frozen)   :   0.000              \n",
      "    reference    (frozen)   :   1.000  TeV         \n",
      "\n",
      "\n"
     ]
    }
   ],
   "source": [
    "print(datasets[0].models)"
   ]
  },
  {
   "cell_type": "markdown",
   "metadata": {},
   "source": [
    "We get the Crab model in order to share it with the other datasets"
   ]
  },
  {
   "cell_type": "code",
   "execution_count": 4,
   "metadata": {},
   "outputs": [
    {
     "name": "stdout",
     "output_type": "stream",
     "text": [
      "LogParabolaSpectralModel\n",
      "\n",
      "   name     value        unit      min max frozen   error  \n",
      "--------- --------- -------------- --- --- ------ ---------\n",
      "amplitude 1.818e-02 cm-2 s-1 TeV-1 nan nan  False 3.026e-03\n",
      "reference 5.055e-05            TeV nan nan   True 0.000e+00\n",
      "    alpha 1.652e+00                nan nan  False 5.763e-02\n",
      "     beta 3.922e-02                nan nan  False 5.215e-03\n"
     ]
    }
   ],
   "source": [
    "crab_model = dataset_fermi.models[\"Crab Nebula\"]\n",
    "crab_spec = crab_model.spectral_model\n",
    "print(crab_spec)"
   ]
  },
  {
   "cell_type": "markdown",
   "metadata": {},
   "source": [
    "### HESS-DL3: 1D ON/OFF dataset for spectral fitting\n",
    "\n",
    "The ON/OFF datasets can be read from PHA files following the [OGIP standards](https://heasarc.gsfc.nasa.gov/docs/heasarc/ofwg/docs/spectra/ogip_92_007/node5.html).\n",
    "We read the PHA files from each observation, and compute a stacked dataset for simplicity.\n",
    "Then the Crab spectral model previously defined is added to the dataset."
   ]
  },
  {
   "cell_type": "code",
   "execution_count": 5,
   "metadata": {},
   "outputs": [],
   "source": [
    "datasets = []\n",
    "\n",
    "for obs_id in [23523, 23526]:\n",
    "    dataset = SpectrumDatasetOnOff.from_ogip_files(\n",
    "        f\"$GAMMAPY_DATA/joint-crab/spectra/hess/pha_obs{obs_id}.fits\"\n",
    "    )\n",
    "    datasets.append(dataset)\n",
    "\n",
    "dataset_hess = Datasets(datasets).stack_reduce(name=\"HESS\")\n",
    "dataset_hess.models = crab_model"
   ]
  },
  {
   "cell_type": "markdown",
   "metadata": {},
   "source": [
    "### HAWC: 1D dataset for flux point fitting\n",
    "\n",
    "The HAWC flux point are taken from https://arxiv.org/pdf/1905.12518.pdf. Then these flux points are read from a pre-made FITS file and passed to a `FluxPointsDataset` together with the source spectral model.\n"
   ]
  },
  {
   "cell_type": "code",
   "execution_count": 6,
   "metadata": {},
   "outputs": [],
   "source": [
    "# read flux points from https://arxiv.org/pdf/1905.12518.pdf\n",
    "filename = \"$GAMMAPY_DATA/hawc_crab/HAWC19_flux_points.fits\"\n",
    "flux_points_hawc = FluxPoints.read(filename)\n",
    "dataset_hawc = FluxPointsDataset(crab_model, flux_points_hawc, name=\"HAWC\")"
   ]
  },
  {
   "cell_type": "markdown",
   "metadata": {},
   "source": [
    "## Datasets serialization\n",
    "\n",
    "The `datasets` object contains each dataset previously defined. \n",
    "It can be saved on disk as datasets.yaml, models.yaml, and several data files specific to each dataset. Then the `datasets` can be rebuild later from these files."
   ]
  },
  {
   "cell_type": "code",
   "execution_count": 7,
   "metadata": {},
   "outputs": [
    {
     "name": "stderr",
     "output_type": "stream",
     "text": [
      "/usr/share/miniconda/envs/gammapy-dev/lib/python3.7/site-packages/numpy/core/_asarray.py:83: VisibleDeprecationWarning: Creating an ndarray from ragged nested sequences (which is a list-or-tuple of lists-or-tuples-or ndarrays with different lengths or shapes) is deprecated. If you meant to do this, you must specify 'dtype=object' when creating the ndarray\n",
      "  return array(a, dtype, copy=False, order=order)\n"
     ]
    }
   ],
   "source": [
    "datasets = Datasets([dataset_fermi, dataset_hess, dataset_hawc])\n",
    "path = Path(\"crab-3datasets\")\n",
    "path.mkdir(exist_ok=True)\n",
    "\n",
    "datasets.write(path=path, prefix=\"crab_10GeV_100TeV\", overwrite=True)\n",
    "filedata = \"crab_10GeV_100TeV_datasets.yaml\"\n",
    "filemodel = \"crab_10GeV_100TeV_models.yaml\"\n",
    "datasets = Datasets.read(path, filedata=filedata, filemodel=filemodel)"
   ]
  },
  {
   "cell_type": "code",
   "execution_count": 8,
   "metadata": {},
   "outputs": [
    {
     "name": "stdout",
     "output_type": "stream",
     "text": [
      "ProperModels\n",
      "\n",
      "Component 0: SkyModel\n",
      "\n",
      "  Name                      : Crab Nebula\n",
      "  Datasets names            : None\n",
      "  Spectral model type       : ['LogParabolaSpectralModel', 'lp']\n",
      "  Spatial  model type       : ['PointSpatialModel', 'point']\n",
      "  Temporal model type       : None\n",
      "  Parameters:\n",
      "    amplitude               :   1.82e-02  1 / (cm2 s TeV)\n",
      "    reference    (frozen)   :   0.000  TeV         \n",
      "    alpha                   :   1.652              \n",
      "    beta                    :   0.039              \n",
      "    lon_0        (frozen)   :  83.633  deg         \n",
      "    lat_0        (frozen)   :  22.020  deg         \n",
      "\n",
      "\n"
     ]
    }
   ],
   "source": [
    "print(datasets[\"HESS\"].models)"
   ]
  },
  {
   "cell_type": "markdown",
   "metadata": {},
   "source": [
    "## Joint analysis\n",
    "\n",
    "We run the fit on the `Datasets` object that include a dataset for each instrument\n"
   ]
  },
  {
   "cell_type": "code",
   "execution_count": 9,
   "metadata": {},
   "outputs": [
    {
     "name": "stdout",
     "output_type": "stream",
     "text": [
      "OptimizeResult\n",
      "\n",
      "\tbackend    : minuit\n",
      "\tmethod     : minuit\n",
      "\tsuccess    : True\n",
      "\tmessage    : Optimization terminated successfully.\n",
      "\tnfev       : 313\n",
      "\ttotal stat : -12696.21\n",
      "\n",
      "   name     value        unit         min        max    frozen   error  \n",
      "--------- --------- -------------- ---------- --------- ------ ---------\n",
      "amplitude 4.095e-03 cm-2 s-1 TeV-1        nan       nan  False 3.617e-04\n",
      "reference 5.055e-05            TeV        nan       nan   True 0.000e+00\n",
      "    alpha 1.264e+00                       nan       nan  False 1.961e-02\n",
      "     beta 6.165e-02                       nan       nan  False 1.096e-03\n",
      "    lon_0 8.363e+01            deg        nan       nan   True 0.000e+00\n",
      "    lat_0 2.202e+01            deg -9.000e+01 9.000e+01   True 0.000e+00\n",
      "     norm 1.303e+00                 0.000e+00       nan  False 7.635e-02\n",
      "     tilt 0.000e+00                       nan       nan   True 0.000e+00\n",
      "reference 1.000e+00            TeV        nan       nan   True 0.000e+00\n",
      "CPU times: user 2.82 s, sys: 96 ms, total: 2.92 s\n",
      "Wall time: 2.92 s\n"
     ]
    }
   ],
   "source": [
    "%%time\n",
    "fit_joint = Fit(datasets)\n",
    "results_joint = fit_joint.run()\n",
    "print(results_joint)\n",
    "print(results_joint.parameters.to_table())"
   ]
  },
  {
   "cell_type": "markdown",
   "metadata": {},
   "source": [
    "Let's display only the parameters of the Crab spectral model"
   ]
  },
  {
   "cell_type": "code",
   "execution_count": 10,
   "metadata": {},
   "outputs": [
    {
     "name": "stdout",
     "output_type": "stream",
     "text": [
      "LogParabolaSpectralModel\n",
      "\n",
      "   name     value        unit      min max frozen   error  \n",
      "--------- --------- -------------- --- --- ------ ---------\n",
      "amplitude 4.095e-03 cm-2 s-1 TeV-1 nan nan  False 3.617e-04\n",
      "reference 5.055e-05            TeV nan nan   True 0.000e+00\n",
      "    alpha 1.264e+00                nan nan  False 1.961e-02\n",
      "     beta 6.165e-02                nan nan  False 1.096e-03\n"
     ]
    }
   ],
   "source": [
    "crab_spec = datasets[0].models[\"Crab Nebula\"].spectral_model\n",
    "print(crab_spec)"
   ]
  },
  {
   "cell_type": "markdown",
   "metadata": {},
   "source": [
    "We can compute flux points for Fermi-LAT and HESS datasets in order plot them together with the HAWC flux point."
   ]
  },
  {
   "cell_type": "code",
   "execution_count": 11,
   "metadata": {},
   "outputs": [],
   "source": [
    "# compute Fermi-LAT and HESS flux points\n",
    "e_edges = MapAxis.from_bounds(\n",
    "    0.01, 2.0, nbin=6, interp=\"log\", unit=\"TeV\"\n",
    ").edges\n",
    "\n",
    "flux_points_fermi = FluxPointsEstimator(\n",
    "    e_edges=e_edges, source=\"Crab Nebula\"\n",
    ").run([dataset_fermi])\n",
    "\n",
    "\n",
    "e_edges = MapAxis.from_bounds(1, 15, nbin=6, interp=\"log\", unit=\"TeV\").edges\n",
    "flux_points_hess = FluxPointsEstimator(\n",
    "    e_edges=e_edges, source=\"Crab Nebula\"\n",
    ").run([dataset_hess])"
   ]
  },
  {
   "cell_type": "markdown",
   "metadata": {},
   "source": [
    "Now, Let's plot the Crab spectrum fitted and the flux points of each instrument.\n"
   ]
  },
  {
   "cell_type": "code",
   "execution_count": 12,
   "metadata": {},
   "outputs": [
    {
     "name": "stderr",
     "output_type": "stream",
     "text": [
      "/home/runner/work/gammapy-docs/gammapy-docs/gammapy/gammapy/modeling/models/spectral.py:312: MatplotlibDeprecationWarning: The 'nonposx' parameter of __init__() has been renamed 'nonpositive' since Matplotlib 3.3; support for the old name will be dropped two minor releases later.\n",
      "  ax.set_xscale(\"log\", nonposx=\"clip\")\n",
      "/home/runner/work/gammapy-docs/gammapy-docs/gammapy/gammapy/modeling/models/spectral.py:313: MatplotlibDeprecationWarning: The 'nonposy' parameter of __init__() has been renamed 'nonpositive' since Matplotlib 3.3; support for the old name will be dropped two minor releases later.\n",
      "  ax.set_yscale(\"log\", nonposy=\"clip\")\n",
      "/home/runner/work/gammapy-docs/gammapy-docs/gammapy/gammapy/estimators/flux_point.py:664: MatplotlibDeprecationWarning: The 'nonposx' parameter of __init__() has been renamed 'nonpositive' since Matplotlib 3.3; support for the old name will be dropped two minor releases later.\n",
      "  ax.set_xscale(\"log\", nonposx=\"clip\")\n",
      "/home/runner/work/gammapy-docs/gammapy-docs/gammapy/gammapy/estimators/flux_point.py:665: MatplotlibDeprecationWarning: The 'nonposy' parameter of __init__() has been renamed 'nonpositive' since Matplotlib 3.3; support for the old name will be dropped two minor releases later.\n",
      "  ax.set_yscale(\"log\", nonposy=\"clip\")\n"
     ]
    },
    {
     "data": {
      "image/png": "[encoded data removed]",
      "text/plain": [
       "<Figure size 576x432 with 1 Axes>"
      ]
     },
     "metadata": {
      "needs_background": "light"
     },
     "output_type": "display_data"
    }
   ],
   "source": [
    "# display spectrum and flux points\n",
    "energy_range = [0.01, 120] * u.TeV\n",
    "plt.figure(figsize=(8, 6))\n",
    "ax = crab_spec.plot(energy_range=energy_range, energy_power=2, label=\"Model\")\n",
    "crab_spec.plot_error(ax=ax, energy_range=energy_range, energy_power=2)\n",
    "flux_points_fermi.plot(ax=ax, energy_power=2, label=\"Fermi-LAT\")\n",
    "flux_points_hess.plot(ax=ax, energy_power=2, label=\"HESS\")\n",
    "flux_points_hawc.plot(ax=ax, energy_power=2, label=\"HAWC\")\n",
    "plt.legend();"
   ]
  },
  {
   "cell_type": "code",
   "execution_count": null,
   "metadata": {},
   "outputs": [],
   "source": []
  }
 ],
 "metadata": {
  "kernelspec": {
   "display_name": "Python 3",
   "language": "python",
   "name": "python3"
  },
  "language_info": {
   "codemirror_mode": {
    "name": "ipython",
    "version": 3
   },
   "file_extension": ".py",
   "mimetype": "text/x-python",
   "name": "python",
   "nbconvert_exporter": "python",
   "pygments_lexer": "ipython3",
   "version": "3.7.0"
  },
  "nbsphinx": {
   "orphan": true
  }
 },
 "nbformat": 4,
 "nbformat_minor": 4
}
