{
 "cells": [
  {
   "cell_type": "markdown",
   "metadata": {},
   "source": [
    "\n",
    "<div class=\"alert alert-info\">\n",
    "\n",
    "**This is a fixed-text formatted version of a Jupyter notebook**\n",
    "\n",
    "- Try online [![Binder](https://static.mybinder.org/badge.svg)](https://mybinder.org/v2/gh/gammapy/gammapy-webpage/master?urlpath=lab/tree/analysis_mwl.ipynb)\n",
    "- You can contribute with your own notebooks in this\n",
    "[GitHub repository](https://github.com/gammapy/gammapy/tree/master/docs/tutorials).\n",
    "- **Source files:**\n",
    "[analysis_mwl.ipynb](../_static/notebooks/analysis_mwl.ipynb) |\n",
    "[analysis_mwl.py](../_static/notebooks/analysis_mwl.py)\n",
    "</div>\n"
   ]
  },
  {
   "cell_type": "markdown",
   "metadata": {},
   "source": [
    "# Joint modeling, fitting, and serialization\n"
   ]
  },
  {
   "cell_type": "markdown",
   "metadata": {},
   "source": [
    "## Prerequisites\n",
    "\n",
    "- Handling of Fermi-LAT data with gammapy [see the corresponding tutorial](fermi_lat.ipynb)\n",
    "- Knowledge of spectral analysis to produce 1D On-Off datasets, [see the following tutorial](spectrum_analysis.ipynb)\n",
    "- Using flux points to directly fit a model (without forward-folding)  [see the SED fitting tutorial](sed_fitting.ipynb)\n",
    "\n",
    "## Context\n",
    "\n",
    "Some science studies require to combine heterogeneous data from various instruments to extract physical informations. In particular, it is often useful to add flux measurements of a source at different energies to an analysis to better constrain the wide-band spectral parameters. This can be done using a joint fit of heterogeneous datasets.\n",
    " \n",
    "**Objectives: Constrain the spectral parameters of the gamma-ray emission from the Crab nebula between 10 GeV and 100 TeV, using a 3D Fermi dataset, a H.E.S.S. reduced spectrum and HAWC flux points.**\n",
    "\n",
    "## Proposed approach\n",
    "\n",
    "This tutorial illustrates how to perfom a joint modeling and fitting of the Crab Nebula spectrum using different datasets.\n",
    "The spectral parameters are optimized by combining a 3D analysis of Fermi-LAT data, a ON/OFF spectral analysis of HESS data, and flux points from HAWC.\n",
    "\n",
    "In this tutorial we are going to use pre-made datasets. We prepared maps of the Crab region as seen by Fermi-LAT using the same event selection than the [3FHL catalog](https://arxiv.org/abs/1702.00664) (7 years of data with energy from 10 GeV to 2 TeV). For the HESS ON/OFF analysis we used two observations from the [first public data release](https://arxiv.org/abs/1810.04516) with a significant signal from energy of about 600 GeV to 10 TeV. These observations have an offset of 0.5° and a zenith angle of 45-48°. The HAWC flux points data are taken from a [recent analysis](https://arxiv.org/pdf/1905.12518.pdf) based on 2.5 years of data with energy between 300 Gev and 300 TeV. \n",
    "\n",
    "## The setup\n"
   ]
  },
  {
   "cell_type": "code",
   "execution_count": 1,
   "metadata": {
    "execution": {
     "iopub.execute_input": "2020-10-15T20:54:42.604645Z",
     "iopub.status.busy": "2020-10-15T20:54:42.604039Z",
     "iopub.status.idle": "2020-10-15T20:54:43.857997Z",
     "shell.execute_reply": "2020-10-15T20:54:43.858405Z"
    }
   },
   "outputs": [],
   "source": [
    "from astropy import units as u\n",
    "import matplotlib.pyplot as plt\n",
    "from gammapy.modeling import Fit\n",
    "from gammapy.datasets import Datasets, FluxPointsDataset, SpectrumDatasetOnOff\n",
    "from gammapy.estimators import FluxPoints, FluxPointsEstimator\n",
    "from gammapy.maps import MapAxis\n",
    "from pathlib import Path"
   ]
  },
  {
   "cell_type": "markdown",
   "metadata": {},
   "source": [
    "## Data and models files\n",
    "\n",
    "\n",
    "The datasets serialization produce YAML files listing the datasets and models. In the following cells we show an example containning only the Fermi-LAT dataset and the Crab model. \n",
    "\n",
    "Fermi-LAT-3FHL_datasets.yaml:\n",
    "\n",
    "```yaml\n",
    "datasets:\n",
    "- name: Fermi-LAT\n",
    "  type: MapDataset\n",
    "  likelihood: cash\n",
    "  models:\n",
    "- Crab Nebula\n",
    "  background: background\n",
    "  filename: $GAMMAPY_DATA/fermi-3fhl-crab/Fermi-LAT-3FHL_data_Fermi-LAT.fits\n",
    "```\n",
    "\n",
    "We used as model a point source with a log-parabola spectrum. The initial parameters were taken from the latest Fermi-LAT catalog [4FGL](https://arxiv.org/abs/1902.10045), then we have re-optimized the spectral parameters for our dataset in the 10 GeV - 2 TeV energy range (fixing the source position).\n",
    "\n",
    "Fermi-LAT-3FHL_models.yaml:\n",
    "\n",
    "```yaml\n",
    "components:\n",
    "- name: Crab Nebula\n",
    "  type: SkyModel\n",
    "  spatial:\n",
    "    type: PointSpatialModel\n",
    "    frame: icrs\n",
    "    parameters:\n",
    "    - name: lon_0\n",
    "      value: 83.63310241699219\n",
    "      unit: deg\n",
    "      min: .nan\n",
    "      max: .nan\n",
    "      frozen: true\n",
    "    - name: lat_0\n",
    "      value: 22.019899368286133\n",
    "      unit: deg\n",
    "      min: -90.0\n",
    "      max: 90.0\n",
    "      frozen: true\n",
    "  spectral:\n",
    "    type: LogParabolaSpectralModel\n",
    "    parameters:\n",
    "    - name: amplitude\n",
    "      value: 0.3415498620816483\n",
    "      unit: cm-2 s-1 TeV-1\n",
    "      min: .nan\n",
    "      max: .nan\n",
    "      frozen: false\n",
    "    - name: reference\n",
    "      value: 5.054833602905273e-05\n",
    "      unit: TeV\n",
    "      min: .nan\n",
    "      max: .nan\n",
    "      frozen: true\n",
    "    - name: alpha\n",
    "      value: 2.510798031388936\n",
    "      unit: ''\n",
    "      min: .nan\n",
    "      max: .nan\n",
    "      frozen: false\n",
    "    - name: beta\n",
    "      value: -0.022476498188855533\n",
    "      unit: ''\n",
    "      min: .nan\n",
    "      max: .nan\n",
    "      frozen: false\n",
    "- name: background\n",
    "  type: BackgroundModel\n",
    "  parameters:\n",
    "  - name: norm\n",
    "    value: 0.9544383244743555\n",
    "    unit: ''\n",
    "    min: 0.0\n",
    "    max: .nan\n",
    "    frozen: false\n",
    "  - name: tilt\n",
    "    value: 0.0\n",
    "    unit: ''\n",
    "    min: .nan\n",
    "    max: .nan\n",
    "    frozen: true\n",
    "  - name: reference\n",
    "    value: 1.0\n",
    "    unit: TeV\n",
    "    min: .nan\n",
    "    max: .nan\n",
    "    frozen: true\n",
    "\n",
    "```"
   ]
  },
  {
   "cell_type": "markdown",
   "metadata": {},
   "source": [
    "## Reading  different datasets\n",
    "\n",
    "\n",
    "### Fermi-LAT 3FHL: map dataset for 3D analysis\n",
    "For now we let's use the datasets serialization only to read the 3D `MapDataset` associated to Fermi-LAT 3FHL data and models."
   ]
  },
  {
   "cell_type": "code",
   "execution_count": 2,
   "metadata": {
    "execution": {
     "iopub.execute_input": "2020-10-15T20:54:43.888263Z",
     "iopub.status.busy": "2020-10-15T20:54:43.862543Z",
     "iopub.status.idle": "2020-10-15T20:54:44.037019Z",
     "shell.execute_reply": "2020-10-15T20:54:44.036213Z"
    }
   },
   "outputs": [],
   "source": [
    "path = Path(\"$GAMMAPY_DATA/fermi-3fhl-crab\")\n",
    "filedata = \"Fermi-LAT-3FHL_datasets.yaml\"\n",
    "filemodel = \"Fermi-LAT-3FHL_models.yaml\"\n",
    "datasets = Datasets.read(path, filedata=filedata, filemodel=filemodel)\n",
    "dataset_fermi = datasets[0]"
   ]
  },
  {
   "cell_type": "code",
   "execution_count": 3,
   "metadata": {
    "execution": {
     "iopub.execute_input": "2020-10-15T20:54:44.041826Z",
     "iopub.status.busy": "2020-10-15T20:54:44.041295Z",
     "iopub.status.idle": "2020-10-15T20:54:44.045781Z",
     "shell.execute_reply": "2020-10-15T20:54:44.046278Z"
    }
   },
   "outputs": [
    {
     "name": "stdout",
     "output_type": "stream",
     "text": [
      "ProperModels\n",
      "\n",
      "Component 0: SkyModel\n",
      "\n",
      "  Name                      : Crab Nebula\n",
      "  Datasets names            : None\n",
      "  Spectral model type       : LogParabolaSpectralModel\n",
      "  Spatial  model type       : PointSpatialModel\n",
      "  Temporal model type       : \n",
      "  Parameters:\n",
      "    amplitude               :   1.82e-02  1 / (cm2 s TeV)\n",
      "    reference    (frozen)   :   0.000  TeV         \n",
      "    alpha                   :   1.652              \n",
      "    beta                    :   0.039              \n",
      "    lon_0        (frozen)   :  83.633  deg         \n",
      "    lat_0        (frozen)   :  22.020  deg         \n",
      "\n",
      "Component 1: BackgroundModel\n",
      "\n",
      "  Name                      : iem_v06\n",
      "  Datasets names            : ['Fermi-LAT']\n",
      "  Parameters:\n",
      "    norm                    :   1.300              \n",
      "    tilt         (frozen)   :   0.000              \n",
      "    reference    (frozen)   :   1.000  TeV         \n",
      "\n",
      "\n"
     ]
    }
   ],
   "source": [
    "print(datasets[0].models)"
   ]
  },
  {
   "cell_type": "markdown",
   "metadata": {},
   "source": [
    "We get the Crab model in order to share it with the other datasets"
   ]
  },
  {
   "cell_type": "code",
   "execution_count": 4,
   "metadata": {
    "execution": {
     "iopub.execute_input": "2020-10-15T20:54:44.052885Z",
     "iopub.status.busy": "2020-10-15T20:54:44.052303Z",
     "iopub.status.idle": "2020-10-15T20:54:44.055080Z",
     "shell.execute_reply": "2020-10-15T20:54:44.055522Z"
    }
   },
   "outputs": [
    {
     "name": "stdout",
     "output_type": "stream",
     "text": [
      "LogParabolaSpectralModel\n",
      "\n",
      "   name     value        unit      min max frozen   error  \n",
      "--------- --------- -------------- --- --- ------ ---------\n",
      "amplitude 1.818e-02 cm-2 s-1 TeV-1 nan nan  False 3.026e-03\n",
      "reference 5.055e-05            TeV nan nan   True 0.000e+00\n",
      "    alpha 1.652e+00                nan nan  False 5.763e-02\n",
      "     beta 3.922e-02                nan nan  False 5.215e-03\n"
     ]
    }
   ],
   "source": [
    "crab_model = dataset_fermi.models[\"Crab Nebula\"]\n",
    "crab_spec = crab_model.spectral_model\n",
    "print(crab_spec)"
   ]
  },
  {
   "cell_type": "markdown",
   "metadata": {},
   "source": [
    "### HESS-DL3: 1D ON/OFF dataset for spectral fitting\n",
    "\n",
    "The ON/OFF datasets can be read from PHA files following the [OGIP standards](https://heasarc.gsfc.nasa.gov/docs/heasarc/ofwg/docs/spectra/ogip_92_007/node5.html).\n",
    "We read the PHA files from each observation, and compute a stacked dataset for simplicity.\n",
    "Then the Crab spectral model previously defined is added to the dataset."
   ]
  },
  {
   "cell_type": "code",
   "execution_count": 5,
   "metadata": {
    "execution": {
     "iopub.execute_input": "2020-10-15T20:54:44.063201Z",
     "iopub.status.busy": "2020-10-15T20:54:44.062376Z",
     "iopub.status.idle": "2020-10-15T20:54:44.239699Z",
     "shell.execute_reply": "2020-10-15T20:54:44.239067Z"
    }
   },
   "outputs": [],
   "source": [
    "datasets = []\n",
    "\n",
    "for obs_id in [23523, 23526]:\n",
    "    dataset = SpectrumDatasetOnOff.from_ogip_files(\n",
    "        f\"$GAMMAPY_DATA/joint-crab/spectra/hess/pha_obs{obs_id}.fits\"\n",
    "    )\n",
    "    datasets.append(dataset)\n",
    "\n",
    "dataset_hess = Datasets(datasets).stack_reduce(name=\"HESS\")\n",
    "dataset_hess.models = crab_model"
   ]
  },
  {
   "cell_type": "markdown",
   "metadata": {},
   "source": [
    "### HAWC: 1D dataset for flux point fitting\n",
    "\n",
    "The HAWC flux point are taken from https://arxiv.org/pdf/1905.12518.pdf. Then these flux points are read from a pre-made FITS file and passed to a `FluxPointsDataset` together with the source spectral model.\n"
   ]
  },
  {
   "cell_type": "code",
   "execution_count": 6,
   "metadata": {
    "execution": {
     "iopub.execute_input": "2020-10-15T20:54:44.244347Z",
     "iopub.status.busy": "2020-10-15T20:54:44.243326Z",
     "iopub.status.idle": "2020-10-15T20:54:44.255936Z",
     "shell.execute_reply": "2020-10-15T20:54:44.255451Z"
    }
   },
   "outputs": [],
   "source": [
    "# read flux points from https://arxiv.org/pdf/1905.12518.pdf\n",
    "filename = \"$GAMMAPY_DATA/hawc_crab/HAWC19_flux_points.fits\"\n",
    "flux_points_hawc = FluxPoints.read(filename)\n",
    "dataset_hawc = FluxPointsDataset(crab_model, flux_points_hawc, name=\"HAWC\")"
   ]
  },
  {
   "cell_type": "markdown",
   "metadata": {},
   "source": [
    "## Datasets serialization\n",
    "\n",
    "The `datasets` object contains each dataset previously defined. \n",
    "It can be saved on disk as datasets.yaml, models.yaml, and several data files specific to each dataset. Then the `datasets` can be rebuild later from these files."
   ]
  },
  {
   "cell_type": "code",
   "execution_count": 7,
   "metadata": {
    "execution": {
     "iopub.execute_input": "2020-10-15T20:54:44.261061Z",
     "iopub.status.busy": "2020-10-15T20:54:44.259999Z",
     "iopub.status.idle": "2020-10-15T20:54:44.943768Z",
     "shell.execute_reply": "2020-10-15T20:54:44.944230Z"
    }
   },
   "outputs": [
    {
     "name": "stderr",
     "output_type": "stream",
     "text": [
      "HDU 'MASK_FIT' not found\n",
      "/usr/share/miniconda/envs/gammapy-dev/lib/python3.7/site-packages/numpy/core/_asarray.py:83: VisibleDeprecationWarning: Creating an ndarray from ragged nested sequences (which is a list-or-tuple of lists-or-tuples-or ndarrays with different lengths or shapes) is deprecated. If you meant to do this, you must specify 'dtype=object' when creating the ndarray\n",
      "  return array(a, dtype, copy=False, order=order)\n"
     ]
    }
   ],
   "source": [
    "datasets = Datasets([dataset_fermi, dataset_hess, dataset_hawc])\n",
    "path = Path(\"crab-3datasets\")\n",
    "path.mkdir(exist_ok=True)\n",
    "\n",
    "datasets.write(path=path, prefix=\"crab_10GeV_100TeV\", overwrite=True)\n",
    "filedata = \"crab_10GeV_100TeV_datasets.yaml\"\n",
    "filemodel = \"crab_10GeV_100TeV_models.yaml\"\n",
    "datasets = Datasets.read(path, filedata=filedata, filemodel=filemodel)"
   ]
  },
  {
   "cell_type": "code",
   "execution_count": 8,
   "metadata": {
    "execution": {
     "iopub.execute_input": "2020-10-15T20:54:44.948375Z",
     "iopub.status.busy": "2020-10-15T20:54:44.947797Z",
     "iopub.status.idle": "2020-10-15T20:54:44.953026Z",
     "shell.execute_reply": "2020-10-15T20:54:44.952469Z"
    }
   },
   "outputs": [
    {
     "name": "stdout",
     "output_type": "stream",
     "text": [
      "Datasets\n",
      "--------\n",
      "\n",
      "Dataset 0: \n",
      "\n",
      "  Type       : MapDataset\n",
      "  Name       : Fermi-LAT\n",
      "  Instrument : \n",
      "\n",
      "Dataset 1: \n",
      "\n",
      "  Type       : SpectrumDatasetOnOff\n",
      "  Name       : HESS\n",
      "  Instrument : \n",
      "\n",
      "Dataset 2: \n",
      "\n",
      "  Type       : FluxPointsDataset\n",
      "  Name       : HAWC\n",
      "  Instrument : \n",
      "\n",
      "\n"
     ]
    }
   ],
   "source": [
    "print(datasets)"
   ]
  },
  {
   "cell_type": "code",
   "execution_count": 9,
   "metadata": {
    "execution": {
     "iopub.execute_input": "2020-10-15T20:54:44.956939Z",
     "iopub.status.busy": "2020-10-15T20:54:44.956363Z",
     "iopub.status.idle": "2020-10-15T20:54:44.960306Z",
     "shell.execute_reply": "2020-10-15T20:54:44.959767Z"
    }
   },
   "outputs": [
    {
     "name": "stdout",
     "output_type": "stream",
     "text": [
      "ProperModels\n",
      "\n",
      "Component 0: SkyModel\n",
      "\n",
      "  Name                      : Crab Nebula\n",
      "  Datasets names            : None\n",
      "  Spectral model type       : LogParabolaSpectralModel\n",
      "  Spatial  model type       : PointSpatialModel\n",
      "  Temporal model type       : \n",
      "  Parameters:\n",
      "    amplitude               :   1.82e-02  1 / (cm2 s TeV)\n",
      "    reference               :   0.000  TeV         \n",
      "    alpha                   :   1.652              \n",
      "    beta                    :   0.039              \n",
      "    lon_0        (frozen)   :  83.633  deg         \n",
      "    lat_0        (frozen)   :  22.020  deg         \n",
      "\n",
      "\n"
     ]
    }
   ],
   "source": [
    "print(datasets[\"HESS\"].models)"
   ]
  },
  {
   "cell_type": "markdown",
   "metadata": {},
   "source": [
    "## Joint analysis\n",
    "\n",
    "We run the fit on the `Datasets` object that include a dataset for each instrument\n"
   ]
  },
  {
   "cell_type": "code",
   "execution_count": 10,
   "metadata": {
    "execution": {
     "iopub.execute_input": "2020-10-15T20:54:44.968235Z",
     "iopub.status.busy": "2020-10-15T20:54:44.967628Z",
     "iopub.status.idle": "2020-10-15T20:54:49.807144Z",
     "shell.execute_reply": "2020-10-15T20:54:49.806274Z"
    }
   },
   "outputs": [
    {
     "name": "stderr",
     "output_type": "stream",
     "text": [
      "HDU 'MASK_FIT' not found\n",
      "/usr/share/miniconda/envs/gammapy-dev/lib/python3.7/site-packages/astropy/units/quantity.py:477: RuntimeWarning: invalid value encountered in log\n",
      "  result = super().__array_ufunc__(function, method, *arrays, **kwargs)\n",
      "/usr/share/miniconda/envs/gammapy-dev/lib/python3.7/site-packages/astropy/units/quantity.py:477: RuntimeWarning: invalid value encountered in log\n",
      "  result = super().__array_ufunc__(function, method, *arrays, **kwargs)\n"
     ]
    },
    {
     "name": "stdout",
     "output_type": "stream",
     "text": [
      "OptimizeResult\n",
      "\n",
      "\tbackend    : minuit\n",
      "\tmethod     : minuit\n",
      "\tsuccess    : True\n",
      "\tmessage    : Optimization terminated successfully.\n",
      "\tnfev       : 500\n",
      "\ttotal stat : -12696.13\n",
      "\n",
      "   name     value        unit      min max frozen   error  \n",
      "--------- --------- -------------- --- --- ------ ---------\n",
      "amplitude 3.445e-03 cm-2 s-1 TeV-1 nan nan  False 5.637e-04\n",
      "reference 5.762e-05            TeV nan nan  False 5.831e-07\n",
      "    alpha 1.279e+00                nan nan  False 3.503e-02\n",
      "     beta 6.170e-02                nan nan  False 2.060e-03\n",
      "    lon_0 8.363e+01            deg nan nan   True 0.000e+00\n",
      "    lat_0 2.202e+01            deg nan nan   True 0.000e+00\n",
      "     norm 1.305e+00                nan nan  False 7.556e-02\n",
      "     tilt 0.000e+00                nan nan   True 0.000e+00\n",
      "reference 1.000e+00            TeV nan nan  False 1.414e+00\n",
      "CPU times: user 4.83 s, sys: 8.02 ms, total: 4.84 s\n",
      "Wall time: 4.84 s\n"
     ]
    }
   ],
   "source": [
    "%%time\n",
    "fit_joint = Fit(datasets)\n",
    "results_joint = fit_joint.run()\n",
    "print(results_joint)\n",
    "print(results_joint.parameters.to_table())"
   ]
  },
  {
   "cell_type": "markdown",
   "metadata": {},
   "source": [
    "Let's display only the parameters of the Crab spectral model"
   ]
  },
  {
   "cell_type": "code",
   "execution_count": 11,
   "metadata": {
    "execution": {
     "iopub.execute_input": "2020-10-15T20:54:49.813260Z",
     "iopub.status.busy": "2020-10-15T20:54:49.812682Z",
     "iopub.status.idle": "2020-10-15T20:54:49.817509Z",
     "shell.execute_reply": "2020-10-15T20:54:49.816956Z"
    }
   },
   "outputs": [
    {
     "name": "stdout",
     "output_type": "stream",
     "text": [
      "LogParabolaSpectralModel\n",
      "\n",
      "   name     value        unit      min max frozen   error  \n",
      "--------- --------- -------------- --- --- ------ ---------\n",
      "amplitude 3.445e-03 cm-2 s-1 TeV-1 nan nan  False 5.637e-04\n",
      "reference 5.762e-05            TeV nan nan  False 5.831e-07\n",
      "    alpha 1.279e+00                nan nan  False 3.503e-02\n",
      "     beta 6.170e-02                nan nan  False 2.060e-03\n"
     ]
    }
   ],
   "source": [
    "crab_spec = datasets[0].models[\"Crab Nebula\"].spectral_model\n",
    "print(crab_spec)"
   ]
  },
  {
   "cell_type": "markdown",
   "metadata": {},
   "source": [
    "We can compute flux points for Fermi-LAT and HESS datasets in order plot them together with the HAWC flux point."
   ]
  },
  {
   "cell_type": "code",
   "execution_count": 12,
   "metadata": {
    "execution": {
     "iopub.execute_input": "2020-10-15T20:54:49.823735Z",
     "iopub.status.busy": "2020-10-15T20:54:49.823131Z",
     "iopub.status.idle": "2020-10-15T20:54:49.829169Z",
     "shell.execute_reply": "2020-10-15T20:54:49.828625Z"
    }
   },
   "outputs": [
    {
     "data": {
      "text/plain": [
       "MapAxis\n",
       "\n",
       "\tname       : energy    \n",
       "\tunit       : 'TeV'     \n",
       "\tnbins      : 5         \n",
       "\tnode type  : edges     \n",
       "\tedges min  : 1.0e-02 TeV\n",
       "\tedges max  : 2.0e+00 TeV\n",
       "\tinterp     : log       "
      ]
     },
     "execution_count": 1,
     "metadata": {},
     "output_type": "execute_result"
    }
   ],
   "source": [
    "dataset_fermi.counts.geom.axes[0]"
   ]
  },
  {
   "cell_type": "code",
   "execution_count": 13,
   "metadata": {
    "execution": {
     "iopub.execute_input": "2020-10-15T20:54:49.835907Z",
     "iopub.status.busy": "2020-10-15T20:54:49.835408Z",
     "iopub.status.idle": "2020-10-15T20:54:54.658007Z",
     "shell.execute_reply": "2020-10-15T20:54:54.657506Z"
    }
   },
   "outputs": [],
   "source": [
    "# compute Fermi-LAT and HESS flux points\n",
    "e_edges = MapAxis.from_energy_bounds(\"10 GeV\", \"2 TeV\", nbin=5).edges\n",
    "\n",
    "flux_points_fermi = FluxPointsEstimator(\n",
    "    e_edges=e_edges, source=\"Crab Nebula\"\n",
    ").run([dataset_fermi])\n",
    "\n",
    "\n",
    "e_edges = MapAxis.from_bounds(1, 15, nbin=6, interp=\"log\", unit=\"TeV\").edges\n",
    "flux_points_hess = FluxPointsEstimator(\n",
    "    e_edges=e_edges, source=\"Crab Nebula\"\n",
    ").run([dataset_hess])"
   ]
  },
  {
   "cell_type": "markdown",
   "metadata": {},
   "source": [
    "Now, Let's plot the Crab spectrum fitted and the flux points of each instrument.\n"
   ]
  },
  {
   "cell_type": "code",
   "execution_count": 14,
   "metadata": {
    "execution": {
     "iopub.execute_input": "2020-10-15T20:54:54.714993Z",
     "iopub.status.busy": "2020-10-15T20:54:54.694544Z",
     "iopub.status.idle": "2020-10-15T20:54:55.604609Z",
     "shell.execute_reply": "2020-10-15T20:54:55.603752Z"
    }
   },
   "outputs": [
    {
     "name": "stderr",
     "output_type": "stream",
     "text": [
      "/home/runner/work/gammapy-docs/gammapy-docs/gammapy/gammapy/modeling/models/spectral.py:357: MatplotlibDeprecationWarning: The 'nonposx' parameter of __init__() has been renamed 'nonpositive' since Matplotlib 3.3; support for the old name will be dropped two minor releases later.\n",
      "  ax.set_xscale(\"log\", nonposx=\"clip\")\n",
      "/home/runner/work/gammapy-docs/gammapy-docs/gammapy/gammapy/modeling/models/spectral.py:358: MatplotlibDeprecationWarning: The 'nonposy' parameter of __init__() has been renamed 'nonpositive' since Matplotlib 3.3; support for the old name will be dropped two minor releases later.\n",
      "  ax.set_yscale(\"log\", nonposy=\"clip\")\n",
      "/home/runner/work/gammapy-docs/gammapy-docs/gammapy/gammapy/estimators/flux_point.py:668: MatplotlibDeprecationWarning: The 'nonposx' parameter of __init__() has been renamed 'nonpositive' since Matplotlib 3.3; support for the old name will be dropped two minor releases later.\n",
      "  ax.set_xscale(\"log\", nonposx=\"clip\")\n",
      "/home/runner/work/gammapy-docs/gammapy-docs/gammapy/gammapy/estimators/flux_point.py:669: MatplotlibDeprecationWarning: The 'nonposy' parameter of __init__() has been renamed 'nonpositive' since Matplotlib 3.3; support for the old name will be dropped two minor releases later.\n",
      "  ax.set_yscale(\"log\", nonposy=\"clip\")\n"
     ]
    },
    {
     "data": {
      "text/plain": [
       "<matplotlib.legend.Legend at 0x7fb48e860fd0>"
      ]
     },
     "execution_count": 1,
     "metadata": {},
     "output_type": "execute_result"
    },
    {
     "data": {
      "image/png": "[encoded data removed]",
      "text/plain": [
       "<Figure size 576x432 with 1 Axes>"
      ]
     },
     "metadata": {
      "needs_background": "light"
     },
     "output_type": "display_data"
    }
   ],
   "source": [
    "# display spectrum and flux points\n",
    "energy_range = [0.01, 120] * u.TeV\n",
    "plt.figure(figsize=(8, 6))\n",
    "ax = crab_spec.plot(energy_range=energy_range, energy_power=2, label=\"Model\")\n",
    "crab_spec.plot_error(ax=ax, energy_range=energy_range, energy_power=2)\n",
    "flux_points_fermi.plot(ax=ax, energy_power=2, label=\"Fermi-LAT\")\n",
    "flux_points_hess.plot(ax=ax, energy_power=2, label=\"HESS\")\n",
    "flux_points_hawc.plot(ax=ax, energy_power=2, label=\"HAWC\")\n",
    "plt.legend();"
   ]
  },
  {
   "cell_type": "code",
   "execution_count": null,
   "metadata": {},
   "outputs": [],
   "source": []
  }
 ],
 "metadata": {
  "kernelspec": {
   "display_name": "Python 3",
   "language": "python",
   "name": "python3"
  },
  "language_info": {
   "codemirror_mode": {
    "name": "ipython",
    "version": 3
   },
   "file_extension": ".py",
   "mimetype": "text/x-python",
   "name": "python",
   "nbconvert_exporter": "python",
   "pygments_lexer": "ipython3",
   "version": "3.7.0"
  },
  "nbsphinx": {
   "orphan": true
  }
 },
 "nbformat": 4,
 "nbformat_minor": 4
}
