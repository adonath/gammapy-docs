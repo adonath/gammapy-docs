{
 "cells": [
  {
   "cell_type": "markdown",
   "metadata": {},
   "source": [
    "\n",
    "<div class=\"alert alert-info\">\n",
    "\n",
    "**This is a fixed-text formatted version of a Jupyter notebook**\n",
    "\n",
    "- Try online [![Binder](https://static.mybinder.org/badge.svg)](https://mybinder.org/v2/gh/gammapy/gammapy-webpage/master?urlpath=lab/tree/maps.ipynb)\n",
    "- You can contribute with your own notebooks in this\n",
    "[GitHub repository](https://github.com/gammapy/gammapy/tree/master/docs/tutorials).\n",
    "- **Source files:**\n",
    "[maps.ipynb](../_static/notebooks/maps.ipynb) |\n",
    "[maps.py](../_static/notebooks/maps.py)\n",
    "</div>\n"
   ]
  },
  {
   "cell_type": "markdown",
   "metadata": {},
   "source": [
    "# Maps\n",
    "\n",
    "![Gammapy Maps Illustration](images/gammapy_maps.png)\n",
    "\n",
    "## Introduction\n",
    "\n",
    "The `~gammapy.maps` submodule contains classes for representing sky images with an arbitrary number of non-spatial dimensions such as energy, time, event class or any possible user-defined dimension (illustrated in the image above). The main `Map` data structure features a uniform API for [WCS](https://fits.gsfc.nasa.gov/fits_wcs.html) as well as [HEALPix](https://en.wikipedia.org/wiki/HEALPix) based images. The API also generalizes simple image based operations such as smoothing, interpolation and reprojection to the arbitrary extra dimensions and makes working with (2 + N)-dimensional hypercubes as easy as working with a simple 2D image. Further information is also provided on the `~gammapy.maps` docs page.\n",
    "\n",
    "In the following introduction we will learn all the basics of working with WCS based maps. HEALPix based maps will be covered in a future tutorial. We will cover the following topics in order:\n",
    "\n",
    "1. [Creating WCS Maps](#Creating-WCS-Maps)\n",
    "1. [Accessing and Modifying Data](#Accessing-and-Modifying-Data)\n",
    "1. [Reading and Writing](#Reading-and-Writing)\n",
    "1. [Visualizing and Plotting](#Visualizing-and-Plotting)\n",
    "1. [Interpolating and Miscellaneous](#Interpolating-and-Miscellaneous)\n",
    "\n",
    "Make sure you have worked through the [Gammapy overview](overview.ipynb), because a solid knowledge about working with `SkyCoord` and `Quantity` objects as well as [Numpy](http://www.numpy.org/) is required for this tutorial.\n",
    "\n",
    "This notebook is rather lengthy, but getting to know the `Map` data structure in detail is essential for working with Gammapy and will allow you to fulfill complex analysis tasks with very few and simple code in future!"
   ]
  },
  {
   "cell_type": "markdown",
   "metadata": {},
   "source": [
    "## Setup"
   ]
  },
  {
   "cell_type": "code",
   "execution_count": 1,
   "metadata": {
    "execution": {
     "iopub.execute_input": "2021-01-23T09:59:36.953068Z",
     "iopub.status.busy": "2021-01-23T09:59:36.952326Z",
     "iopub.status.idle": "2021-01-23T09:59:37.208505Z",
     "shell.execute_reply": "2021-01-23T09:59:37.209054Z"
    }
   },
   "outputs": [],
   "source": [
    "%matplotlib inline\n",
    "import numpy as np\n",
    "import matplotlib.pyplot as plt\n",
    "import os"
   ]
  },
  {
   "cell_type": "code",
   "execution_count": 2,
   "metadata": {
    "execution": {
     "iopub.execute_input": "2021-01-23T09:59:37.214719Z",
     "iopub.status.busy": "2021-01-23T09:59:37.214231Z",
     "iopub.status.idle": "2021-01-23T09:59:38.077497Z",
     "shell.execute_reply": "2021-01-23T09:59:38.077857Z"
    }
   },
   "outputs": [],
   "source": [
    "from astropy import units as u\n",
    "from astropy.io import fits\n",
    "from astropy.table import Table\n",
    "from astropy.coordinates import SkyCoord\n",
    "from gammapy.maps import Map, MapAxis, WcsGeom"
   ]
  },
  {
   "cell_type": "markdown",
   "metadata": {},
   "source": [
    "## Creating WCS Maps\n",
    "\n",
    "### Using Factory Methods\n",
    "\n",
    "Maps are most easily created using the `~gammapy.maps.Map.create()` factory method:"
   ]
  },
  {
   "cell_type": "code",
   "execution_count": 3,
   "metadata": {
    "execution": {
     "iopub.execute_input": "2021-01-23T09:59:38.120169Z",
     "iopub.status.busy": "2021-01-23T09:59:38.119491Z",
     "iopub.status.idle": "2021-01-23T09:59:38.535595Z",
     "shell.execute_reply": "2021-01-23T09:59:38.536183Z"
    }
   },
   "outputs": [],
   "source": [
    "m_allsky = Map.create()"
   ]
  },
  {
   "cell_type": "markdown",
   "metadata": {},
   "source": [
    "Calling `Map.create()` without any further arguments creates by default an allsky WCS map using a CAR projection, ICRS coordinates and a pixel size of 1 deg. This can be easily checked by printing the `.geom` attribute of the map:"
   ]
  },
  {
   "cell_type": "code",
   "execution_count": 4,
   "metadata": {
    "execution": {
     "iopub.execute_input": "2021-01-23T09:59:38.541998Z",
     "iopub.status.busy": "2021-01-23T09:59:38.541084Z",
     "iopub.status.idle": "2021-01-23T09:59:38.544648Z",
     "shell.execute_reply": "2021-01-23T09:59:38.545219Z"
    }
   },
   "outputs": [
    {
     "name": "stdout",
     "output_type": "stream",
     "text": [
      "WcsGeom\n",
      "\n",
      "\taxes       : ['lon', 'lat']\n",
      "\tshape      : (3600, 1800)\n",
      "\tndim       : 2\n",
      "\tframe      : icrs\n",
      "\tprojection : CAR\n",
      "\tcenter     : 0.0 deg, 0.0 deg\n",
      "\twidth      : 360.0 deg x 180.0 deg\n",
      "\n"
     ]
    }
   ],
   "source": [
    "print(m_allsky.geom)"
   ]
  },
  {
   "cell_type": "markdown",
   "metadata": {},
   "source": [
    "The `.geom` attribute is a `Geom` object, that defines the basic geometry of the map, such as size of the pixels, width and height of the image, coordinate system etc., but we will learn more about this object later.\n",
    "\n",
    "Besides the `.geom` attribute the map has also a `.data` attribute, which is just a plain `numpy.ndarray` and stores the data associated with this map:"
   ]
  },
  {
   "cell_type": "code",
   "execution_count": 5,
   "metadata": {
    "execution": {
     "iopub.execute_input": "2021-01-23T09:59:38.550983Z",
     "iopub.status.busy": "2021-01-23T09:59:38.550362Z",
     "iopub.status.idle": "2021-01-23T09:59:38.552678Z",
     "shell.execute_reply": "2021-01-23T09:59:38.553265Z"
    }
   },
   "outputs": [
    {
     "data": {
      "text/plain": [
       "array([[0., 0., 0., ..., 0., 0., 0.],\n",
       "       [0., 0., 0., ..., 0., 0., 0.],\n",
       "       [0., 0., 0., ..., 0., 0., 0.],\n",
       "       ...,\n",
       "       [0., 0., 0., ..., 0., 0., 0.],\n",
       "       [0., 0., 0., ..., 0., 0., 0.],\n",
       "       [0., 0., 0., ..., 0., 0., 0.]], dtype=float32)"
      ]
     },
     "execution_count": 1,
     "metadata": {},
     "output_type": "execute_result"
    }
   ],
   "source": [
    "m_allsky.data"
   ]
  },
  {
   "cell_type": "markdown",
   "metadata": {},
   "source": [
    "By default maps are filled with zeros.\n",
    "\n",
    "Here is a second example that creates a WCS map centered on the Galactic center and now uses Galactic coordinates:"
   ]
  },
  {
   "cell_type": "code",
   "execution_count": 6,
   "metadata": {
    "execution": {
     "iopub.execute_input": "2021-01-23T09:59:38.559956Z",
     "iopub.status.busy": "2021-01-23T09:59:38.559473Z",
     "iopub.status.idle": "2021-01-23T09:59:38.562359Z",
     "shell.execute_reply": "2021-01-23T09:59:38.562843Z"
    }
   },
   "outputs": [
    {
     "name": "stdout",
     "output_type": "stream",
     "text": [
      "WcsGeom\n",
      "\n",
      "\taxes       : ['lon', 'lat']\n",
      "\tshape      : (500, 250)\n",
      "\tndim       : 2\n",
      "\tframe      : galactic\n",
      "\tprojection : TAN\n",
      "\tcenter     : 0.0 deg, 0.0 deg\n",
      "\twidth      : 10.0 deg x 5.0 deg\n",
      "\n"
     ]
    }
   ],
   "source": [
    "skydir = SkyCoord(0, 0, frame=\"galactic\", unit=\"deg\")\n",
    "m_gc = Map.create(\n",
    "    binsz=0.02, width=(10, 5), skydir=skydir, frame=\"galactic\", proj=\"TAN\"\n",
    ")\n",
    "print(m_gc.geom)"
   ]
  },
  {
   "cell_type": "markdown",
   "metadata": {},
   "source": [
    "In addition we have defined a TAN projection, a pixel size of `0.02` deg and a width of the map of `10 deg x 5 deg`. The `width` argument also takes scalar value instead of a tuple, which is interpreted as both the width and height of the map, so that a quadratic map is created."
   ]
  },
  {
   "cell_type": "markdown",
   "metadata": {},
   "source": [
    "### Creating from a Map Geometry\n",
    "\n",
    "As we have seen in the first examples, the `Map` object couples the data (stored as a `numpy.ndarray`) with a `Geom` object. The `Geom` object can be seen as a generalization of an `astropy.wcs.WCS` object, providing the information on how the data maps to physical coordinate systems. In some cases e.g. when creating many maps with the same WCS geometry it can be advantegeous to first create the map geometry independent of the map object itsself: "
   ]
  },
  {
   "cell_type": "code",
   "execution_count": 7,
   "metadata": {
    "execution": {
     "iopub.execute_input": "2021-01-23T09:59:38.567259Z",
     "iopub.status.busy": "2021-01-23T09:59:38.566771Z",
     "iopub.status.idle": "2021-01-23T09:59:38.568456Z",
     "shell.execute_reply": "2021-01-23T09:59:38.568939Z"
    }
   },
   "outputs": [],
   "source": [
    "wcs_geom = WcsGeom.create(\n",
    "    binsz=0.02, width=(10, 5), skydir=(0, 0), frame=\"galactic\"\n",
    ")"
   ]
  },
  {
   "cell_type": "markdown",
   "metadata": {},
   "source": [
    "And then create the map objects from the `wcs_geom` geometry specification:"
   ]
  },
  {
   "cell_type": "code",
   "execution_count": 8,
   "metadata": {
    "execution": {
     "iopub.execute_input": "2021-01-23T09:59:38.572319Z",
     "iopub.status.busy": "2021-01-23T09:59:38.571849Z",
     "iopub.status.idle": "2021-01-23T09:59:38.573419Z",
     "shell.execute_reply": "2021-01-23T09:59:38.573920Z"
    }
   },
   "outputs": [],
   "source": [
    "maps = {}\n",
    "\n",
    "for name in [\"counts\", \"background\"]:\n",
    "    maps[name] = Map.from_geom(wcs_geom)"
   ]
  },
  {
   "cell_type": "markdown",
   "metadata": {},
   "source": [
    "The `Geom` object also has a few helpful methods. E.g. we can check whether a given position on the sky is contained in the map geometry:"
   ]
  },
  {
   "cell_type": "code",
   "execution_count": 9,
   "metadata": {
    "execution": {
     "iopub.execute_input": "2021-01-23T09:59:38.578493Z",
     "iopub.status.busy": "2021-01-23T09:59:38.578018Z",
     "iopub.status.idle": "2021-01-23T09:59:38.579956Z",
     "shell.execute_reply": "2021-01-23T09:59:38.580438Z"
    }
   },
   "outputs": [
    {
     "data": {
      "text/plain": [
       "array([ True, False])"
      ]
     },
     "execution_count": 1,
     "metadata": {},
     "output_type": "execute_result"
    }
   ],
   "source": [
    "# define the position of the Galactic center and anti-center\n",
    "positions = SkyCoord([0, 180], [0, 0], frame=\"galactic\", unit=\"deg\")\n",
    "wcs_geom.contains(positions)"
   ]
  },
  {
   "cell_type": "markdown",
   "metadata": {},
   "source": [
    "Or get the image center of the map:"
   ]
  },
  {
   "cell_type": "code",
   "execution_count": 10,
   "metadata": {
    "execution": {
     "iopub.execute_input": "2021-01-23T09:59:38.584241Z",
     "iopub.status.busy": "2021-01-23T09:59:38.582863Z",
     "iopub.status.idle": "2021-01-23T09:59:38.586267Z",
     "shell.execute_reply": "2021-01-23T09:59:38.586741Z"
    }
   },
   "outputs": [
    {
     "data": {
      "text/plain": [
       "<SkyCoord (Galactic): (l, b) in deg\n",
       "    (0., 0.)>"
      ]
     },
     "execution_count": 1,
     "metadata": {},
     "output_type": "execute_result"
    }
   ],
   "source": [
    "wcs_geom.center_skydir"
   ]
  },
  {
   "cell_type": "markdown",
   "metadata": {},
   "source": [
    "Or we can also retrieve the solid angle per pixel of the map:"
   ]
  },
  {
   "cell_type": "code",
   "execution_count": 11,
   "metadata": {
    "execution": {
     "iopub.execute_input": "2021-01-23T09:59:38.589441Z",
     "iopub.status.busy": "2021-01-23T09:59:38.588970Z",
     "iopub.status.idle": "2021-01-23T09:59:38.710618Z",
     "shell.execute_reply": "2021-01-23T09:59:38.711078Z"
    }
   },
   "outputs": [
    {
     "data": {
      "text/latex": [
       "$$[[1.2173192 \\times 10^{-7},~1.2173192 \\times 10^{-7},~1.2173192 \\times 10^{-7},~\\dots,~1.2173192 \\times 10^{-7},~1.2173192 \\times 10^{-7},~1.2173192 \\times 10^{-7}],~\n",
       " [1.2173376 \\times 10^{-7},~1.2173376 \\times 10^{-7},~1.2173376 \\times 10^{-7},~\\dots,~1.2173376 \\times 10^{-7},~1.2173376 \\times 10^{-7},~1.2173376 \\times 10^{-7}],~\n",
       " [1.2173559 \\times 10^{-7},~1.2173559 \\times 10^{-7},~1.2173559 \\times 10^{-7},~\\dots,~1.2173559 \\times 10^{-7},~1.2173559 \\times 10^{-7},~1.2173559 \\times 10^{-7}],~\n",
       " \\dots,~\n",
       " [1.2173559 \\times 10^{-7},~1.2173559 \\times 10^{-7},~1.2173559 \\times 10^{-7},~\\dots,~1.2173559 \\times 10^{-7},~1.2173559 \\times 10^{-7},~1.2173559 \\times 10^{-7}],~\n",
       " [1.2173376 \\times 10^{-7},~1.2173376 \\times 10^{-7},~1.2173376 \\times 10^{-7},~\\dots,~1.2173376 \\times 10^{-7},~1.2173376 \\times 10^{-7},~1.2173376 \\times 10^{-7}],~\n",
       " [1.2173192 \\times 10^{-7},~1.2173192 \\times 10^{-7},~1.2173192 \\times 10^{-7},~\\dots,~1.2173192 \\times 10^{-7},~1.2173192 \\times 10^{-7},~1.2173192 \\times 10^{-7}]] \\; \\mathrm{sr}$$"
      ],
      "text/plain": [
       "<Quantity [[1.21731921e-07, 1.21731921e-07, 1.21731921e-07, ...,\n",
       "            1.21731921e-07, 1.21731921e-07, 1.21731921e-07],\n",
       "           [1.21733761e-07, 1.21733761e-07, 1.21733761e-07, ...,\n",
       "            1.21733761e-07, 1.21733761e-07, 1.21733761e-07],\n",
       "           [1.21735587e-07, 1.21735587e-07, 1.21735587e-07, ...,\n",
       "            1.21735587e-07, 1.21735587e-07, 1.21735587e-07],\n",
       "           ...,\n",
       "           [1.21735587e-07, 1.21735587e-07, 1.21735587e-07, ...,\n",
       "            1.21735587e-07, 1.21735587e-07, 1.21735587e-07],\n",
       "           [1.21733761e-07, 1.21733761e-07, 1.21733761e-07, ...,\n",
       "            1.21733761e-07, 1.21733761e-07, 1.21733761e-07],\n",
       "           [1.21731921e-07, 1.21731921e-07, 1.21731921e-07, ...,\n",
       "            1.21731921e-07, 1.21731921e-07, 1.21731921e-07]] sr>"
      ]
     },
     "execution_count": 1,
     "metadata": {},
     "output_type": "execute_result"
    }
   ],
   "source": [
    "wcs_geom.solid_angle()"
   ]
  },
  {
   "cell_type": "markdown",
   "metadata": {},
   "source": [
    "### Adding Non-Spatial Axes\n",
    "\n",
    "In many analysis scenarios we would like to add extra dimension to the maps to study e.g. energy or time dependency of the data. Those non-spatial dimensions are handled with the `MapAxis` object. Let us first define an energy axis, with 4 bins:"
   ]
  },
  {
   "cell_type": "code",
   "execution_count": 12,
   "metadata": {
    "execution": {
     "iopub.execute_input": "2021-01-23T09:59:38.715228Z",
     "iopub.status.busy": "2021-01-23T09:59:38.714758Z",
     "iopub.status.idle": "2021-01-23T09:59:38.716678Z",
     "shell.execute_reply": "2021-01-23T09:59:38.717144Z"
    }
   },
   "outputs": [
    {
     "name": "stdout",
     "output_type": "stream",
     "text": [
      "MapAxis\n",
      "\n",
      "\tname       : energy    \n",
      "\tunit       : 'TeV'     \n",
      "\tnbins      : 4         \n",
      "\tnode type  : edges     \n",
      "\tedges min  : 1.0e+00 TeV\n",
      "\tedges max  : 1.0e+02 TeV\n",
      "\tinterp     : log       \n",
      "\n"
     ]
    }
   ],
   "source": [
    "energy_axis = MapAxis.from_bounds(\n",
    "    1, 100, nbin=4, unit=\"TeV\", name=\"energy\", interp=\"log\"\n",
    ")\n",
    "print(energy_axis)"
   ]
  },
  {
   "cell_type": "markdown",
   "metadata": {},
   "source": [
    "Where `interp='log'` specifies that a logarithmic spacing is used between the bins, equivalent to `np.logspace(0, 2, 4)`. This `MapAxis` object we can now pass to `Map.create()` using the `axes=` argument:"
   ]
  },
  {
   "cell_type": "code",
   "execution_count": 13,
   "metadata": {
    "execution": {
     "iopub.execute_input": "2021-01-23T09:59:38.721256Z",
     "iopub.status.busy": "2021-01-23T09:59:38.720783Z",
     "iopub.status.idle": "2021-01-23T09:59:38.724877Z",
     "shell.execute_reply": "2021-01-23T09:59:38.725360Z"
    }
   },
   "outputs": [
    {
     "name": "stdout",
     "output_type": "stream",
     "text": [
      "WcsGeom\n",
      "\n",
      "\taxes       : ['lon', 'lat', 'energy']\n",
      "\tshape      : (500, 250, 4)\n",
      "\tndim       : 3\n",
      "\tframe      : galactic\n",
      "\tprojection : CAR\n",
      "\tcenter     : 0.0 deg, 0.0 deg\n",
      "\twidth      : 10.0 deg x 5.0 deg\n",
      "\n"
     ]
    }
   ],
   "source": [
    "m_cube = Map.create(\n",
    "    binsz=0.02, width=(10, 5), frame=\"galactic\", axes=[energy_axis]\n",
    ")\n",
    "print(m_cube.geom)"
   ]
  },
  {
   "cell_type": "markdown",
   "metadata": {},
   "source": [
    "Now we see that besides `lon` and `lat` the map has an additional axes named `energy` with 4 bins. The total dimension of the map is now `ndim=3`.\n",
    "\n",
    "We can also add further axes by passing a list of `MapAxis` objects. To demonstrate this we create a time axis with\n",
    "linearly spaced bins and pass both axes to `Map.create()`:"
   ]
  },
  {
   "cell_type": "code",
   "execution_count": 14,
   "metadata": {
    "execution": {
     "iopub.execute_input": "2021-01-23T09:59:38.730639Z",
     "iopub.status.busy": "2021-01-23T09:59:38.730148Z",
     "iopub.status.idle": "2021-01-23T09:59:38.733625Z",
     "shell.execute_reply": "2021-01-23T09:59:38.734122Z"
    }
   },
   "outputs": [
    {
     "name": "stdout",
     "output_type": "stream",
     "text": [
      "WcsGeom\n",
      "\n",
      "\taxes       : ['lon', 'lat', 'energy', 'time']\n",
      "\tshape      : (500, 250, 4, 24)\n",
      "\tndim       : 4\n",
      "\tframe      : galactic\n",
      "\tprojection : CAR\n",
      "\tcenter     : 0.0 deg, 0.0 deg\n",
      "\twidth      : 10.0 deg x 5.0 deg\n",
      "\n"
     ]
    }
   ],
   "source": [
    "time_axis = MapAxis.from_bounds(\n",
    "    0, 24, nbin=24, unit=\"hour\", name=\"time\", interp=\"lin\"\n",
    ")\n",
    "\n",
    "m_4d = Map.create(\n",
    "    binsz=0.02, width=(10, 5), frame=\"galactic\", axes=[energy_axis, time_axis]\n",
    ")\n",
    "print(m_4d.geom)"
   ]
  },
  {
   "cell_type": "markdown",
   "metadata": {},
   "source": [
    "The `MapAxis` object internally stores the coordinates or \"position values\" associated with every map axis bin or \"node\". We distinguish between two node types: `edges` and `center`. The node type `edges`(which is also the default) specifies that the data associated with this axis is integrated between the edges of the bin (e.g. counts data). The node type `center` specifies that the data is given at the center of the bin (e.g. exposure or differential fluxes).\n",
    "\n",
    "The edges of the bins can be checked with `.edges` attribute:"
   ]
  },
  {
   "cell_type": "code",
   "execution_count": 15,
   "metadata": {
    "execution": {
     "iopub.execute_input": "2021-01-23T09:59:38.737452Z",
     "iopub.status.busy": "2021-01-23T09:59:38.736963Z",
     "iopub.status.idle": "2021-01-23T09:59:38.738931Z",
     "shell.execute_reply": "2021-01-23T09:59:38.739420Z"
    }
   },
   "outputs": [
    {
     "data": {
      "text/latex": [
       "$$[1,~3.1622777,~10,~31.622777,~100] \\; \\mathrm{TeV}$$"
      ],
      "text/plain": [
       "<Quantity [  1.        ,   3.16227766,  10.        ,  31.6227766 ,\n",
       "           100.        ] TeV>"
      ]
     },
     "execution_count": 1,
     "metadata": {},
     "output_type": "execute_result"
    }
   ],
   "source": [
    "energy_axis.edges"
   ]
  },
  {
   "cell_type": "markdown",
   "metadata": {},
   "source": [
    "The numbers are given in the units we specified above, which can be checked again with:"
   ]
  },
  {
   "cell_type": "code",
   "execution_count": 16,
   "metadata": {
    "execution": {
     "iopub.execute_input": "2021-01-23T09:59:38.742394Z",
     "iopub.status.busy": "2021-01-23T09:59:38.741898Z",
     "iopub.status.idle": "2021-01-23T09:59:38.743973Z",
     "shell.execute_reply": "2021-01-23T09:59:38.744444Z"
    }
   },
   "outputs": [
    {
     "data": {
      "text/latex": [
       "$$\\mathrm{TeV}$$"
      ],
      "text/plain": [
       "Unit(\"TeV\")"
      ]
     },
     "execution_count": 1,
     "metadata": {},
     "output_type": "execute_result"
    }
   ],
   "source": [
    "energy_axis.unit"
   ]
  },
  {
   "cell_type": "markdown",
   "metadata": {},
   "source": [
    "The centers of the axis bins can be checked with the `.center` attribute:"
   ]
  },
  {
   "cell_type": "code",
   "execution_count": 17,
   "metadata": {
    "execution": {
     "iopub.execute_input": "2021-01-23T09:59:38.747946Z",
     "iopub.status.busy": "2021-01-23T09:59:38.747413Z",
     "iopub.status.idle": "2021-01-23T09:59:38.749398Z",
     "shell.execute_reply": "2021-01-23T09:59:38.749872Z"
    }
   },
   "outputs": [
    {
     "data": {
      "text/latex": [
       "$$[1.7782794,~5.6234133,~17.782794,~56.234133] \\; \\mathrm{TeV}$$"
      ],
      "text/plain": [
       "<Quantity [ 1.77827941,  5.62341325, 17.7827941 , 56.23413252] TeV>"
      ]
     },
     "execution_count": 1,
     "metadata": {},
     "output_type": "execute_result"
    }
   ],
   "source": [
    "energy_axis.center"
   ]
  },
  {
   "cell_type": "markdown",
   "metadata": {},
   "source": [
    "##  Accessing and Modifying Data\n",
    "\n",
    "### Accessing Map Data Values\n",
    "\n",
    "All map objects have a set of accessor methods, which can be used to access or update the contents of the map irrespective of its underlying representation. Those accessor methods accept as their first argument a coordinate `tuple` containing scalars, `list`, or `numpy.ndarray` with one tuple element for each dimension. Some methods additionally accept a `dict` or `MapCoord` argument, of which both allow to assign coordinates by axis name.\n",
    "\n",
    "Let us first begin with the `.get_by_idx()` method, that accepts a tuple of indices. The order of the indices corresponds to the axis order of the map: "
   ]
  },
  {
   "cell_type": "code",
   "execution_count": 18,
   "metadata": {
    "execution": {
     "iopub.execute_input": "2021-01-23T09:59:38.753036Z",
     "iopub.status.busy": "2021-01-23T09:59:38.752564Z",
     "iopub.status.idle": "2021-01-23T09:59:38.754715Z",
     "shell.execute_reply": "2021-01-23T09:59:38.755193Z"
    }
   },
   "outputs": [
    {
     "data": {
      "text/plain": [
       "array([0.], dtype=float32)"
      ]
     },
     "execution_count": 1,
     "metadata": {},
     "output_type": "execute_result"
    }
   ],
   "source": [
    "m_gc.get_by_idx((50, 30))"
   ]
  },
  {
   "cell_type": "markdown",
   "metadata": {},
   "source": [
    "**Important:** Gammapy uses a reversed index order in the map API with the longitude axes first. To achieve the same by directly indexing into the numpy array we have to call:  "
   ]
  },
  {
   "cell_type": "code",
   "execution_count": 19,
   "metadata": {
    "execution": {
     "iopub.execute_input": "2021-01-23T09:59:38.758454Z",
     "iopub.status.busy": "2021-01-23T09:59:38.757862Z",
     "iopub.status.idle": "2021-01-23T09:59:38.759821Z",
     "shell.execute_reply": "2021-01-23T09:59:38.760296Z"
    }
   },
   "outputs": [
    {
     "data": {
      "text/plain": [
       "array([0.], dtype=float32)"
      ]
     },
     "execution_count": 1,
     "metadata": {},
     "output_type": "execute_result"
    }
   ],
   "source": [
    "m_gc.data[([30], [50])]"
   ]
  },
  {
   "cell_type": "markdown",
   "metadata": {},
   "source": [
    "To check the order of the axes you can always print the `.geom` attribute:"
   ]
  },
  {
   "cell_type": "code",
   "execution_count": 20,
   "metadata": {
    "execution": {
     "iopub.execute_input": "2021-01-23T09:59:38.763506Z",
     "iopub.status.busy": "2021-01-23T09:59:38.762727Z",
     "iopub.status.idle": "2021-01-23T09:59:38.766302Z",
     "shell.execute_reply": "2021-01-23T09:59:38.766785Z"
    }
   },
   "outputs": [
    {
     "name": "stdout",
     "output_type": "stream",
     "text": [
      "WcsGeom\n",
      "\n",
      "\taxes       : ['lon', 'lat']\n",
      "\tshape      : (500, 250)\n",
      "\tndim       : 2\n",
      "\tframe      : galactic\n",
      "\tprojection : TAN\n",
      "\tcenter     : 0.0 deg, 0.0 deg\n",
      "\twidth      : 10.0 deg x 5.0 deg\n",
      "\n"
     ]
    }
   ],
   "source": [
    "print(m_gc.geom)"
   ]
  },
  {
   "cell_type": "markdown",
   "metadata": {},
   "source": [
    "To access values directly by sky coordinates we can use the `.get_by_coord()` method. This time we pass in a `dict`, specifying the axes names corresponding to the given coordinates:"
   ]
  },
  {
   "cell_type": "code",
   "execution_count": 21,
   "metadata": {
    "execution": {
     "iopub.execute_input": "2021-01-23T09:59:38.769853Z",
     "iopub.status.busy": "2021-01-23T09:59:38.769371Z",
     "iopub.status.idle": "2021-01-23T09:59:38.771890Z",
     "shell.execute_reply": "2021-01-23T09:59:38.772394Z"
    }
   },
   "outputs": [
    {
     "data": {
      "text/plain": [
       "array([ 0., nan])"
      ]
     },
     "execution_count": 1,
     "metadata": {},
     "output_type": "execute_result"
    }
   ],
   "source": [
    "m_gc.get_by_coord({\"lon\": [0, 180], \"lat\": [0, 0]})"
   ]
  },
  {
   "cell_type": "markdown",
   "metadata": {},
   "source": [
    "The units of the coordinates are assumed to be in degrees in the coordinate system used by the map. If the coordinates do not correspond to the exact pixel center, the value of the nearest pixel center will be returned. For positions outside the map geometry `np.nan` is returned.\n",
    "\n",
    "The coordinate or idx arrays follow normal [Numpy broadcasting rules](https://jakevdp.github.io/PythonDataScienceHandbook/02.05-computation-on-arrays-broadcasting.html). So the following works as expected:\n",
    "\n"
   ]
  },
  {
   "cell_type": "code",
   "execution_count": 22,
   "metadata": {
    "execution": {
     "iopub.execute_input": "2021-01-23T09:59:38.776153Z",
     "iopub.status.busy": "2021-01-23T09:59:38.775643Z",
     "iopub.status.idle": "2021-01-23T09:59:38.777588Z",
     "shell.execute_reply": "2021-01-23T09:59:38.778072Z"
    }
   },
   "outputs": [
    {
     "data": {
      "text/plain": [
       "array([0., 0., 0., 0., 0., 0., 0., 0., 0., 0.], dtype=float32)"
      ]
     },
     "execution_count": 1,
     "metadata": {},
     "output_type": "execute_result"
    }
   ],
   "source": [
    "lons = np.linspace(-4, 4, 10)\n",
    "m_gc.get_by_coord({\"lon\": lons, \"lat\": 0})"
   ]
  },
  {
   "cell_type": "markdown",
   "metadata": {},
   "source": [
    "Or as an even more advanced example, we can provide `lats` as column vector and broadcasting to a 2D result array will be applied:"
   ]
  },
  {
   "cell_type": "code",
   "execution_count": 23,
   "metadata": {
    "execution": {
     "iopub.execute_input": "2021-01-23T09:59:38.782384Z",
     "iopub.status.busy": "2021-01-23T09:59:38.781215Z",
     "iopub.status.idle": "2021-01-23T09:59:38.784546Z",
     "shell.execute_reply": "2021-01-23T09:59:38.785027Z"
    }
   },
   "outputs": [
    {
     "data": {
      "text/plain": [
       "array([[nan, nan, nan, nan, nan, nan, nan, nan],\n",
       "       [nan, nan, nan, nan, nan, nan, nan, nan],\n",
       "       [ 0.,  0.,  0.,  0.,  0.,  0.,  0.,  0.],\n",
       "       [ 0.,  0.,  0.,  0.,  0.,  0.,  0.,  0.],\n",
       "       [ 0.,  0.,  0.,  0.,  0.,  0.,  0.,  0.],\n",
       "       [ 0.,  0.,  0.,  0.,  0.,  0.,  0.,  0.],\n",
       "       [nan, nan, nan, nan, nan, nan, nan, nan],\n",
       "       [nan, nan, nan, nan, nan, nan, nan, nan]])"
      ]
     },
     "execution_count": 1,
     "metadata": {},
     "output_type": "execute_result"
    }
   ],
   "source": [
    "lons = np.linspace(-4, 4, 8)\n",
    "lats = np.linspace(-4, 4, 8).reshape(-1, 1)\n",
    "m_gc.get_by_coord({\"lon\": lons, \"lat\": lats})"
   ]
  },
  {
   "cell_type": "markdown",
   "metadata": {},
   "source": [
    "### Modifying Map Data Values\n",
    "\n",
    "To modify and set map data values the `Map` object features as well a `.set_by_idx()` method: \n"
   ]
  },
  {
   "cell_type": "code",
   "execution_count": 24,
   "metadata": {
    "execution": {
     "iopub.execute_input": "2021-01-23T09:59:38.787968Z",
     "iopub.status.busy": "2021-01-23T09:59:38.787510Z",
     "iopub.status.idle": "2021-01-23T09:59:38.789059Z",
     "shell.execute_reply": "2021-01-23T09:59:38.789533Z"
    }
   },
   "outputs": [],
   "source": [
    "m_cube.set_by_idx(idx=(10, 20, 3), vals=42)"
   ]
  },
  {
   "cell_type": "code",
   "execution_count": 25,
   "metadata": {
    "execution": {
     "iopub.execute_input": "2021-01-23T09:59:38.792612Z",
     "iopub.status.busy": "2021-01-23T09:59:38.792142Z",
     "iopub.status.idle": "2021-01-23T09:59:38.794092Z",
     "shell.execute_reply": "2021-01-23T09:59:38.794565Z"
    }
   },
   "outputs": [
    {
     "data": {
      "text/plain": [
       "array([42.], dtype=float32)"
      ]
     },
     "execution_count": 1,
     "metadata": {},
     "output_type": "execute_result"
    }
   ],
   "source": [
    "m_cube.get_by_idx((10, 20, 3))"
   ]
  },
  {
   "cell_type": "markdown",
   "metadata": {},
   "source": [
    "Of course there is also a `.set_by_coord()` method, which allows to set map data values in physical coordinates. "
   ]
  },
  {
   "cell_type": "code",
   "execution_count": 26,
   "metadata": {
    "execution": {
     "iopub.execute_input": "2021-01-23T09:59:38.797991Z",
     "iopub.status.busy": "2021-01-23T09:59:38.797500Z",
     "iopub.status.idle": "2021-01-23T09:59:38.799237Z",
     "shell.execute_reply": "2021-01-23T09:59:38.799719Z"
    }
   },
   "outputs": [],
   "source": [
    "m_cube.set_by_coord({\"lon\": 0, \"lat\": 0, \"energy\": 2 * u.TeV}, vals=42)"
   ]
  },
  {
   "cell_type": "markdown",
   "metadata": {},
   "source": [
    "Again the `lon` and `lat` values are assumed to be given in degrees in the coordinate system used by the map. For the energy axis, the unit is the one specified on the axis (use `m_cube.geom.axes[0].unit` to check if needed...)\n",
    "\n",
    "All `.xxx_by_coord()` methods accept `SkyCoord` objects as well. In this case we have to use the `skycoord` keyword instead of `lon` and `lat`:"
   ]
  },
  {
   "cell_type": "code",
   "execution_count": 27,
   "metadata": {
    "execution": {
     "iopub.execute_input": "2021-01-23T09:59:38.804464Z",
     "iopub.status.busy": "2021-01-23T09:59:38.803922Z",
     "iopub.status.idle": "2021-01-23T09:59:38.805805Z",
     "shell.execute_reply": "2021-01-23T09:59:38.806286Z"
    }
   },
   "outputs": [],
   "source": [
    "skycoords = SkyCoord([1.2, 3.4], [-0.5, 1.1], frame=\"galactic\", unit=\"deg\")\n",
    "m_cube.set_by_coord({\"skycoord\": skycoords, \"energy\": 2 * u.TeV}, vals=42)"
   ]
  },
  {
   "cell_type": "markdown",
   "metadata": {},
   "source": [
    "### Indexing and Slicing Sub-Maps\n",
    "\n",
    "When you have worked with Numpy arrays in the past you are probably familiar with the concept of indexing and slicing\n",
    "into data arrays. To support slicing of non-spatial axes of `Map` objects, the `Map` object has a `.slice_by_idx()` method, which allows to extract sub-maps from a larger map.\n",
    "\n",
    "The following example demonstrates how to get the map at the energy bin number 3:  "
   ]
  },
  {
   "cell_type": "code",
   "execution_count": 28,
   "metadata": {
    "execution": {
     "iopub.execute_input": "2021-01-23T09:59:38.810275Z",
     "iopub.status.busy": "2021-01-23T09:59:38.809806Z",
     "iopub.status.idle": "2021-01-23T09:59:38.811575Z",
     "shell.execute_reply": "2021-01-23T09:59:38.812055Z"
    }
   },
   "outputs": [
    {
     "name": "stdout",
     "output_type": "stream",
     "text": [
      "WcsNDMap\n",
      "\n",
      "\tgeom  : WcsGeom \n",
      " \taxes  : ['lon', 'lat']\n",
      "\tshape : (500, 250)\n",
      "\tndim  : 2\n",
      "\tunit  : \n",
      "\tdtype : float32\n",
      "\n"
     ]
    }
   ],
   "source": [
    "m_sub = m_cube.slice_by_idx({\"energy\": 3})\n",
    "print(m_sub)"
   ]
  },
  {
   "cell_type": "markdown",
   "metadata": {},
   "source": [
    "Note that the returned object is again a `Map` with updated axes information. In this case, because we extracted only a single image, the energy axes is dropped from the map.\n",
    "\n",
    "To extract a sub-cube with a sliced energy axes we can use a normal `slice()` object:"
   ]
  },
  {
   "cell_type": "code",
   "execution_count": 29,
   "metadata": {
    "execution": {
     "iopub.execute_input": "2021-01-23T09:59:38.815887Z",
     "iopub.status.busy": "2021-01-23T09:59:38.815383Z",
     "iopub.status.idle": "2021-01-23T09:59:38.817739Z",
     "shell.execute_reply": "2021-01-23T09:59:38.817193Z"
    }
   },
   "outputs": [
    {
     "name": "stdout",
     "output_type": "stream",
     "text": [
      "WcsNDMap\n",
      "\n",
      "\tgeom  : WcsGeom \n",
      " \taxes  : ['lon', 'lat', 'energy']\n",
      "\tshape : (500, 250, 2)\n",
      "\tndim  : 3\n",
      "\tunit  : \n",
      "\tdtype : float32\n",
      "\n"
     ]
    }
   ],
   "source": [
    "m_sub = m_cube.slice_by_idx({\"energy\": slice(1, 3)})\n",
    "print(m_sub)"
   ]
  },
  {
   "cell_type": "markdown",
   "metadata": {},
   "source": [
    "Note that the returned object is also a `Map` object, but this time with updated energy axis specification.\n",
    "\n",
    "Slicing of multiple dimensions is supported by adding further entries to the dict passed to `.slice_by_idx()`"
   ]
  },
  {
   "cell_type": "code",
   "execution_count": 30,
   "metadata": {
    "execution": {
     "iopub.execute_input": "2021-01-23T09:59:38.822237Z",
     "iopub.status.busy": "2021-01-23T09:59:38.821711Z",
     "iopub.status.idle": "2021-01-23T09:59:38.823570Z",
     "shell.execute_reply": "2021-01-23T09:59:38.824046Z"
    }
   },
   "outputs": [
    {
     "name": "stdout",
     "output_type": "stream",
     "text": [
      "WcsNDMap\n",
      "\n",
      "\tgeom  : WcsGeom \n",
      " \taxes  : ['lon', 'lat', 'energy', 'time']\n",
      "\tshape : (500, 250, 2, 6)\n",
      "\tndim  : 4\n",
      "\tunit  : \n",
      "\tdtype : float32\n",
      "\n"
     ]
    }
   ],
   "source": [
    "m_sub = m_4d.slice_by_idx({\"energy\": slice(1, 3), \"time\": slice(4, 10)})\n",
    "print(m_sub)"
   ]
  },
  {
   "cell_type": "markdown",
   "metadata": {},
   "source": [
    "For convenience there is also a `.get_image_by_coord()` method which allows to access image planes at given non-spatial physical coordinates. This method also supports `Quantity` objects:"
   ]
  },
  {
   "cell_type": "code",
   "execution_count": 31,
   "metadata": {
    "execution": {
     "iopub.execute_input": "2021-01-23T09:59:38.827988Z",
     "iopub.status.busy": "2021-01-23T09:59:38.827161Z",
     "iopub.status.idle": "2021-01-23T09:59:38.830762Z",
     "shell.execute_reply": "2021-01-23T09:59:38.831279Z"
    }
   },
   "outputs": [
    {
     "name": "stdout",
     "output_type": "stream",
     "text": [
      "WcsGeom\n",
      "\n",
      "\taxes       : ['lon', 'lat']\n",
      "\tshape      : (500, 250)\n",
      "\tndim       : 2\n",
      "\tframe      : galactic\n",
      "\tprojection : CAR\n",
      "\tcenter     : 0.0 deg, 0.0 deg\n",
      "\twidth      : 10.0 deg x 5.0 deg\n",
      "\n"
     ]
    }
   ],
   "source": [
    "image = m_4d.get_image_by_coord({\"energy\": 4 * u.TeV, \"time\": 5 * u.h})\n",
    "print(image.geom)"
   ]
  },
  {
   "cell_type": "markdown",
   "metadata": {},
   "source": [
    "## Reading and Writing\n",
    "\n",
    "Gammapy `Map` objects are serialized using the Flexible Image Transport Format (FITS). Depending on the pixelisation scheme (HEALPix or WCS) and presence of non-spatial dimensions the actual convention to write the FITS file is different.\n",
    "By default Gammpy uses a generic convention named `gadf`, which will support WCS and HEALPix formats as well as an arbitrary number of non-spatial axes. The convention is documented in detail on the [Gamma Astro Data Formats](https://gamma-astro-data-formats.readthedocs.io/en/latest/skymaps/index.html) page.\n",
    "\n",
    "Other conventions required by specific software (e.g. the Fermi Science Tools) are supported as well. At the moment those are the following\n",
    "\n",
    "* `fgst-ccube`: Fermi counts cube format.\n",
    "* `fgst-ltcube`: Fermi livetime cube format.\n",
    "* `fgst-bexpcube`: Fermi exposure cube format\n",
    "* `fgst-template`: Fermi Galactic diffuse and source template format. \n",
    "* `fgst-srcmap` and `fgst-srcmap-sparse`: Fermi source map and sparse source map format.\n",
    "\n",
    "The conventions listed above only support an additional energy axis. \n",
    "\n",
    "### Reading Maps\n",
    "\n",
    "Reading FITS files is mainly exposed via the `Map.read()` method.Let us take a look at a first example: "
   ]
  },
  {
   "cell_type": "code",
   "execution_count": 32,
   "metadata": {
    "execution": {
     "iopub.execute_input": "2021-01-23T09:59:38.835666Z",
     "iopub.status.busy": "2021-01-23T09:59:38.834089Z",
     "iopub.status.idle": "2021-01-23T09:59:38.845159Z",
     "shell.execute_reply": "2021-01-23T09:59:38.845707Z"
    }
   },
   "outputs": [
    {
     "name": "stdout",
     "output_type": "stream",
     "text": [
      "WcsNDMap\n",
      "\n",
      "\tgeom  : WcsGeom \n",
      " \taxes  : ['lon', 'lat']\n",
      "\tshape : (400, 200)\n",
      "\tndim  : 2\n",
      "\tunit  : \n",
      "\tdtype : >i8\n",
      "\n"
     ]
    }
   ],
   "source": [
    "filename = \"$GAMMAPY_DATA/fermi-3fhl-gc/fermi-3fhl-gc-counts.fits.gz\"\n",
    "m_3fhl_gc = Map.read(filename)\n",
    "print(m_3fhl_gc)"
   ]
  },
  {
   "cell_type": "markdown",
   "metadata": {},
   "source": [
    "By default `Map.read()` will try to find the first valid data hdu in the filename and read the data from there. If mutliple HDUs are present in the FITS file, the desired one can be chosen with the additional `hdu=` argument:"
   ]
  },
  {
   "cell_type": "code",
   "execution_count": 33,
   "metadata": {
    "execution": {
     "iopub.execute_input": "2021-01-23T09:59:38.848924Z",
     "iopub.status.busy": "2021-01-23T09:59:38.848471Z",
     "iopub.status.idle": "2021-01-23T09:59:38.857691Z",
     "shell.execute_reply": "2021-01-23T09:59:38.858164Z"
    }
   },
   "outputs": [
    {
     "name": "stdout",
     "output_type": "stream",
     "text": [
      "WcsNDMap\n",
      "\n",
      "\tgeom  : WcsGeom \n",
      " \taxes  : ['lon', 'lat']\n",
      "\tshape : (400, 200)\n",
      "\tndim  : 2\n",
      "\tunit  : \n",
      "\tdtype : >i8\n",
      "\n"
     ]
    }
   ],
   "source": [
    "m_3fhl_gc = Map.read(filename, hdu=\"PRIMARY\")\n",
    "print(m_3fhl_gc)"
   ]
  },
  {
   "cell_type": "markdown",
   "metadata": {},
   "source": [
    "In rare cases e.g. when the FITS file is not valid or meta data is missing from the header it can be necessary to modify the header of a certain HDU before creating the `Map` object. In this case we can use `astropy.io.fits` directly to read the FITS file:"
   ]
  },
  {
   "cell_type": "code",
   "execution_count": 34,
   "metadata": {
    "execution": {
     "iopub.execute_input": "2021-01-23T09:59:38.861480Z",
     "iopub.status.busy": "2021-01-23T09:59:38.861025Z",
     "iopub.status.idle": "2021-01-23T09:59:38.866116Z",
     "shell.execute_reply": "2021-01-23T09:59:38.866650Z"
    }
   },
   "outputs": [
    {
     "name": "stdout",
     "output_type": "stream",
     "text": [
      "Filename: /Users/jer/git/gammapy/gammapy-data/fermi-3fhl-gc/fermi-3fhl-gc-exposure.fits.gz\n",
      "No.    Name      Ver    Type      Cards   Dimensions   Format\n",
      "  0  PRIMARY       1 PrimaryHDU      23   (400, 200)   float32   \n"
     ]
    }
   ],
   "source": [
    "filename = (\n",
    "    os.environ[\"GAMMAPY_DATA\"]\n",
    "    + \"/fermi-3fhl-gc/fermi-3fhl-gc-exposure.fits.gz\"\n",
    ")\n",
    "hdulist = fits.open(filename)\n",
    "hdulist.info()"
   ]
  },
  {
   "cell_type": "markdown",
   "metadata": {},
   "source": [
    "And then modify the header keyword and use `Map.from_hdulist()` to create the `Map` object after:"
   ]
  },
  {
   "cell_type": "code",
   "execution_count": 35,
   "metadata": {
    "execution": {
     "iopub.execute_input": "2021-01-23T09:59:38.870012Z",
     "iopub.status.busy": "2021-01-23T09:59:38.869557Z",
     "iopub.status.idle": "2021-01-23T09:59:38.875820Z",
     "shell.execute_reply": "2021-01-23T09:59:38.876304Z"
    }
   },
   "outputs": [
    {
     "data": {
      "text/plain": [
       "WcsNDMap\n",
       "\n",
       "\tgeom  : WcsGeom \n",
       " \taxes  : ['lon', 'lat']\n",
       "\tshape : (400, 200)\n",
       "\tndim  : 2\n",
       "\tunit  : cm2 s\n",
       "\tdtype : >f4"
      ]
     },
     "execution_count": 1,
     "metadata": {},
     "output_type": "execute_result"
    }
   ],
   "source": [
    "hdulist[\"PRIMARY\"].header[\"BUNIT\"] = \"cm2 s\"\n",
    "Map.from_hdulist(hdulist=hdulist)"
   ]
  },
  {
   "cell_type": "markdown",
   "metadata": {},
   "source": [
    "### Writing Maps\n",
    "\n",
    "Writing FITS files is mainoy exposure via the `Map.write()` method. Here is a first example:"
   ]
  },
  {
   "cell_type": "code",
   "execution_count": 36,
   "metadata": {
    "execution": {
     "iopub.execute_input": "2021-01-23T09:59:38.890860Z",
     "iopub.status.busy": "2021-01-23T09:59:38.890309Z",
     "iopub.status.idle": "2021-01-23T09:59:38.940330Z",
     "shell.execute_reply": "2021-01-23T09:59:38.940956Z"
    }
   },
   "outputs": [],
   "source": [
    "m_cube.write(\"example_cube.fits\", overwrite=True)"
   ]
  },
  {
   "cell_type": "markdown",
   "metadata": {},
   "source": [
    "By default Gammapy does not overwrite files. In this example we set `overwrite=True` in case the cell gets executed multiple times. Now we can read back the cube from disk using `Map.read()`:"
   ]
  },
  {
   "cell_type": "code",
   "execution_count": 37,
   "metadata": {
    "execution": {
     "iopub.execute_input": "2021-01-23T09:59:38.944991Z",
     "iopub.status.busy": "2021-01-23T09:59:38.944434Z",
     "iopub.status.idle": "2021-01-23T09:59:38.997889Z",
     "shell.execute_reply": "2021-01-23T09:59:38.998352Z"
    }
   },
   "outputs": [
    {
     "name": "stdout",
     "output_type": "stream",
     "text": [
      "WcsNDMap\n",
      "\n",
      "\tgeom  : WcsGeom \n",
      " \taxes  : ['lon', 'lat', 'energy']\n",
      "\tshape : (500, 250, 4)\n",
      "\tndim  : 3\n",
      "\tunit  : \n",
      "\tdtype : >f4\n",
      "\n"
     ]
    }
   ],
   "source": [
    "m_cube = Map.read(\"example_cube.fits\")\n",
    "print(m_cube)"
   ]
  },
  {
   "cell_type": "markdown",
   "metadata": {},
   "source": [
    "We can also choose a different FITS convention to write the example cube in a format compatible to the Fermi Galactic diffuse background model:"
   ]
  },
  {
   "cell_type": "code",
   "execution_count": 38,
   "metadata": {
    "execution": {
     "iopub.execute_input": "2021-01-23T09:59:39.013875Z",
     "iopub.status.busy": "2021-01-23T09:59:39.013407Z",
     "iopub.status.idle": "2021-01-23T09:59:39.022824Z",
     "shell.execute_reply": "2021-01-23T09:59:39.023337Z"
    }
   },
   "outputs": [],
   "source": [
    "m_cube.write(\"example_cube_fgst.fits\", format=\"fgst-template\", overwrite=True)"
   ]
  },
  {
   "cell_type": "markdown",
   "metadata": {},
   "source": [
    "To understand a little bit better the generic `gadf` convention we use `Map.to_hdulist()` to generate a list of FITS HDUs first:   "
   ]
  },
  {
   "cell_type": "code",
   "execution_count": 39,
   "metadata": {
    "execution": {
     "iopub.execute_input": "2021-01-23T09:59:39.046765Z",
     "iopub.status.busy": "2021-01-23T09:59:39.046197Z",
     "iopub.status.idle": "2021-01-23T09:59:39.048842Z",
     "shell.execute_reply": "2021-01-23T09:59:39.049341Z"
    }
   },
   "outputs": [
    {
     "name": "stdout",
     "output_type": "stream",
     "text": [
      "Filename: (No file associated with this HDUList)\n",
      "No.    Name      Ver    Type      Cards   Dimensions   Format\n",
      "  0  PRIMARY       1 PrimaryHDU      30   (500, 250, 4, 24)   float32   \n",
      "  1  PRIMARY_BANDS    1 BinTableHDU     33   96R x 7C   ['I', 'E', 'E', 'E', 'E', 'E', 'E']   \n"
     ]
    }
   ],
   "source": [
    "hdulist = m_4d.to_hdulist(format=\"gadf\")\n",
    "hdulist.info()"
   ]
  },
  {
   "cell_type": "markdown",
   "metadata": {},
   "source": [
    "As we can see the `HDUList` object contains to HDUs. The first one named `PRIMARY` contains the data array with shape corresponding to our data and the WCS information stored in the header:"
   ]
  },
  {
   "cell_type": "code",
   "execution_count": 40,
   "metadata": {
    "execution": {
     "iopub.execute_input": "2021-01-23T09:59:39.053943Z",
     "iopub.status.busy": "2021-01-23T09:59:39.053192Z",
     "iopub.status.idle": "2021-01-23T09:59:39.056263Z",
     "shell.execute_reply": "2021-01-23T09:59:39.056732Z"
    }
   },
   "outputs": [
    {
     "data": {
      "text/plain": [
       "SIMPLE  =                    T / conforms to FITS standard                      \n",
       "BITPIX  =                  -32 / array data type                                \n",
       "NAXIS   =                    4 / number of array dimensions                     \n",
       "NAXIS1  =                  500                                                  \n",
       "NAXIS2  =                  250                                                  \n",
       "NAXIS3  =                    4                                                  \n",
       "NAXIS4  =                   24                                                  \n",
       "EXTEND  =                    T                                                  \n",
       "WCSAXES =                    2 / Number of coordinate axes                      \n",
       "CRPIX1  =                250.5 / Pixel coordinate of reference point            \n",
       "CRPIX2  =                125.5 / Pixel coordinate of reference point            \n",
       "CDELT1  =                -0.02 / [deg] Coordinate increment at reference point  \n",
       "CDELT2  =                 0.02 / [deg] Coordinate increment at reference point  \n",
       "CUNIT1  = 'deg'                / Units of coordinate increment and value        \n",
       "CUNIT2  = 'deg'                / Units of coordinate increment and value        \n",
       "CTYPE1  = 'GLON-CAR'           / galactic longitude, plate caree projection     \n",
       "CTYPE2  = 'GLAT-CAR'           / galactic latitude, plate caree projection      \n",
       "CRVAL1  =                  0.0 / [deg] Coordinate value at reference point      \n",
       "CRVAL2  =                  0.0 / [deg] Coordinate value at reference point      \n",
       "LONPOLE =                  0.0 / [deg] Native longitude of celestial pole       \n",
       "LATPOLE =                 90.0 / [deg] Native latitude of celestial pole        \n",
       "MJDREF  =                  0.0 / [d] MJD of fiducial time                       \n",
       "AXCOLS1 = 'E_MIN,E_MAX'                                                         \n",
       "INTERP1 = 'log     '                                                            \n",
       "AXCOLS2 = 'TIME_MIN,TIME_MAX'                                                   \n",
       "INTERP2 = 'lin     '                                                            \n",
       "WCSSHAPE= '(500,250,4,24)'                                                      \n",
       "BANDSHDU= 'PRIMARY_BANDS'                                                       \n",
       "META    = '{}      '                                                            \n",
       "BUNIT   = ''                                                                    "
      ]
     },
     "execution_count": 1,
     "metadata": {},
     "output_type": "execute_result"
    }
   ],
   "source": [
    "hdulist[\"PRIMARY\"].header"
   ]
  },
  {
   "cell_type": "markdown",
   "metadata": {},
   "source": [
    "The second HDU is a `BinTableHDU` named `PRIMARY_BANDS` contains the information on the non-spatial axes such as name, order, unit, min, max and center values of the axis bins. We use an `astropy.table.Table` to show the information:"
   ]
  },
  {
   "cell_type": "code",
   "execution_count": 41,
   "metadata": {
    "execution": {
     "iopub.execute_input": "2021-01-23T09:59:39.059990Z",
     "iopub.status.busy": "2021-01-23T09:59:39.059539Z",
     "iopub.status.idle": "2021-01-23T09:59:39.066323Z",
     "shell.execute_reply": "2021-01-23T09:59:39.066825Z"
    }
   },
   "outputs": [
    {
     "data": {
      "text/html": [
       "<i>Table length=96</i>\n",
       "<table id=\"table140387517345744\" class=\"table-striped table-bordered table-condensed\">\n",
       "<thead><tr><th>CHANNEL</th><th>ENERGY</th><th>E_MIN</th><th>E_MAX</th><th>TIME</th><th>TIME_MIN</th><th>TIME_MAX</th></tr></thead>\n",
       "<thead><tr><th></th><th>TeV</th><th>TeV</th><th>TeV</th><th>h</th><th>h</th><th>h</th></tr></thead>\n",
       "<thead><tr><th>int16</th><th>float32</th><th>float32</th><th>float32</th><th>float32</th><th>float32</th><th>float32</th></tr></thead>\n",
       "<tr><td>0</td><td>1.7782794</td><td>1.0</td><td>3.1622777</td><td>0.5</td><td>0.0</td><td>1.0</td></tr>\n",
       "<tr><td>1</td><td>5.623413</td><td>3.1622777</td><td>10.0</td><td>0.5</td><td>0.0</td><td>1.0</td></tr>\n",
       "<tr><td>2</td><td>17.782795</td><td>10.0</td><td>31.622776</td><td>0.5</td><td>0.0</td><td>1.0</td></tr>\n",
       "<tr><td>3</td><td>56.23413</td><td>31.622776</td><td>100.0</td><td>0.5</td><td>0.0</td><td>1.0</td></tr>\n",
       "<tr><td>4</td><td>1.7782794</td><td>1.0</td><td>3.1622777</td><td>1.5</td><td>1.0</td><td>2.0</td></tr>\n",
       "<tr><td>5</td><td>5.623413</td><td>3.1622777</td><td>10.0</td><td>1.5</td><td>1.0</td><td>2.0</td></tr>\n",
       "<tr><td>6</td><td>17.782795</td><td>10.0</td><td>31.622776</td><td>1.5</td><td>1.0</td><td>2.0</td></tr>\n",
       "<tr><td>7</td><td>56.23413</td><td>31.622776</td><td>100.0</td><td>1.5</td><td>1.0</td><td>2.0</td></tr>\n",
       "<tr><td>8</td><td>1.7782794</td><td>1.0</td><td>3.1622777</td><td>2.5</td><td>2.0</td><td>3.0</td></tr>\n",
       "<tr><td>...</td><td>...</td><td>...</td><td>...</td><td>...</td><td>...</td><td>...</td></tr>\n",
       "<tr><td>86</td><td>17.782795</td><td>10.0</td><td>31.622776</td><td>21.5</td><td>21.0</td><td>22.0</td></tr>\n",
       "<tr><td>87</td><td>56.23413</td><td>31.622776</td><td>100.0</td><td>21.5</td><td>21.0</td><td>22.0</td></tr>\n",
       "<tr><td>88</td><td>1.7782794</td><td>1.0</td><td>3.1622777</td><td>22.5</td><td>22.0</td><td>23.0</td></tr>\n",
       "<tr><td>89</td><td>5.623413</td><td>3.1622777</td><td>10.0</td><td>22.5</td><td>22.0</td><td>23.0</td></tr>\n",
       "<tr><td>90</td><td>17.782795</td><td>10.0</td><td>31.622776</td><td>22.5</td><td>22.0</td><td>23.0</td></tr>\n",
       "<tr><td>91</td><td>56.23413</td><td>31.622776</td><td>100.0</td><td>22.5</td><td>22.0</td><td>23.0</td></tr>\n",
       "<tr><td>92</td><td>1.7782794</td><td>1.0</td><td>3.1622777</td><td>23.5</td><td>23.0</td><td>24.0</td></tr>\n",
       "<tr><td>93</td><td>5.623413</td><td>3.1622777</td><td>10.0</td><td>23.5</td><td>23.0</td><td>24.0</td></tr>\n",
       "<tr><td>94</td><td>17.782795</td><td>10.0</td><td>31.622776</td><td>23.5</td><td>23.0</td><td>24.0</td></tr>\n",
       "<tr><td>95</td><td>56.23413</td><td>31.622776</td><td>100.0</td><td>23.5</td><td>23.0</td><td>24.0</td></tr>\n",
       "</table>"
      ],
      "text/plain": [
       "<Table length=96>\n",
       "CHANNEL   ENERGY    E_MIN     E_MAX     TIME  TIME_MIN TIME_MAX\n",
       "           TeV       TeV       TeV       h       h        h    \n",
       " int16   float32   float32   float32  float32 float32  float32 \n",
       "------- --------- --------- --------- ------- -------- --------\n",
       "      0 1.7782794       1.0 3.1622777     0.5      0.0      1.0\n",
       "      1  5.623413 3.1622777      10.0     0.5      0.0      1.0\n",
       "      2 17.782795      10.0 31.622776     0.5      0.0      1.0\n",
       "      3  56.23413 31.622776     100.0     0.5      0.0      1.0\n",
       "      4 1.7782794       1.0 3.1622777     1.5      1.0      2.0\n",
       "      5  5.623413 3.1622777      10.0     1.5      1.0      2.0\n",
       "      6 17.782795      10.0 31.622776     1.5      1.0      2.0\n",
       "      7  56.23413 31.622776     100.0     1.5      1.0      2.0\n",
       "      8 1.7782794       1.0 3.1622777     2.5      2.0      3.0\n",
       "    ...       ...       ...       ...     ...      ...      ...\n",
       "     86 17.782795      10.0 31.622776    21.5     21.0     22.0\n",
       "     87  56.23413 31.622776     100.0    21.5     21.0     22.0\n",
       "     88 1.7782794       1.0 3.1622777    22.5     22.0     23.0\n",
       "     89  5.623413 3.1622777      10.0    22.5     22.0     23.0\n",
       "     90 17.782795      10.0 31.622776    22.5     22.0     23.0\n",
       "     91  56.23413 31.622776     100.0    22.5     22.0     23.0\n",
       "     92 1.7782794       1.0 3.1622777    23.5     23.0     24.0\n",
       "     93  5.623413 3.1622777      10.0    23.5     23.0     24.0\n",
       "     94 17.782795      10.0 31.622776    23.5     23.0     24.0\n",
       "     95  56.23413 31.622776     100.0    23.5     23.0     24.0"
      ]
     },
     "execution_count": 1,
     "metadata": {},
     "output_type": "execute_result"
    }
   ],
   "source": [
    "Table.read(hdulist[\"PRIMARY_BANDS\"])"
   ]
  },
  {
   "cell_type": "markdown",
   "metadata": {},
   "source": [
    "## Visualizing and Plotting\n",
    "\n",
    "### Plotting \n",
    "\n",
    "For debugging and inspecting the map data it is useful to plot ot visualize the images planes contained in the map. "
   ]
  },
  {
   "cell_type": "code",
   "execution_count": 42,
   "metadata": {
    "execution": {
     "iopub.execute_input": "2021-01-23T09:59:39.070098Z",
     "iopub.status.busy": "2021-01-23T09:59:39.069611Z",
     "iopub.status.idle": "2021-01-23T09:59:39.079319Z",
     "shell.execute_reply": "2021-01-23T09:59:39.079831Z"
    }
   },
   "outputs": [],
   "source": [
    "filename = \"$GAMMAPY_DATA/fermi-3fhl-gc/fermi-3fhl-gc-counts.fits.gz\"\n",
    "m_3fhl_gc = Map.read(filename)"
   ]
  },
  {
   "cell_type": "markdown",
   "metadata": {},
   "source": [
    "After reading the map we can now plot it on the screen by calling the `.plot()` method:"
   ]
  },
  {
   "cell_type": "code",
   "execution_count": 43,
   "metadata": {
    "execution": {
     "iopub.execute_input": "2021-01-23T09:59:39.083232Z",
     "iopub.status.busy": "2021-01-23T09:59:39.082780Z",
     "iopub.status.idle": "2021-01-23T09:59:39.401909Z",
     "shell.execute_reply": "2021-01-23T09:59:39.402397Z"
    }
   },
   "outputs": [
    {
     "data": {
      "text/plain": [
       "(<Figure size 432x288 with 1 Axes>,\n",
       " <WCSAxesSubplot:xlabel='Galactic Longitude', ylabel='Galactic Latitude'>,\n",
       " None)"
      ]
     },
     "execution_count": 1,
     "metadata": {},
     "output_type": "execute_result"
    },
    {
     "data": {
      "image/png": "[encoded data removed]",
      "text/plain": [
       "<Figure size 432x288 with 1 Axes>"
      ]
     },
     "metadata": {
      "needs_background": "light"
     },
     "output_type": "display_data"
    }
   ],
   "source": [
    "m_3fhl_gc.plot();"
   ]
  },
  {
   "cell_type": "markdown",
   "metadata": {},
   "source": [
    "We can easily improve the plot by calling `Map.smooth()` first and providing additional arguments to `.plot()`. Most of them are passed further to [plt.imshow()](https://matplotlib.org/api/_as_gen/matplotlib.pyplot.imshow.html):"
   ]
  },
  {
   "cell_type": "code",
   "execution_count": 44,
   "metadata": {
    "execution": {
     "iopub.execute_input": "2021-01-23T09:59:39.406462Z",
     "iopub.status.busy": "2021-01-23T09:59:39.405888Z",
     "iopub.status.idle": "2021-01-23T09:59:39.716131Z",
     "shell.execute_reply": "2021-01-23T09:59:39.716723Z"
    }
   },
   "outputs": [
    {
     "name": "stderr",
     "output_type": "stream",
     "text": [
      "/opt/miniconda3/envs/gammapy-dev/lib/python3.7/site-packages/astropy/visualization/wcsaxes/core.py:211: MatplotlibDeprecationWarning: Passing parameters norm and vmin/vmax simultaneously is deprecated since 3.3 and will become an error two minor releases later. Please pass vmin/vmax directly to the norm when creating it.\n",
      "  return super().imshow(X, *args, origin=origin, **kwargs)\n"
     ]
    },
    {
     "data": {
      "text/plain": [
       "(<Figure size 432x288 with 2 Axes>,\n",
       " <WCSAxesSubplot:xlabel='Galactic Longitude', ylabel='Galactic Latitude'>,\n",
       " <matplotlib.colorbar.Colorbar at 0x7fae7a7fd1d0>)"
      ]
     },
     "execution_count": 1,
     "metadata": {},
     "output_type": "execute_result"
    },
    {
     "data": {
      "image/png": "[encoded data removed]",
      "text/plain": [
       "<Figure size 432x288 with 2 Axes>"
      ]
     },
     "metadata": {
      "needs_background": "light"
     },
     "output_type": "display_data"
    }
   ],
   "source": [
    "smoothed = m_3fhl_gc.smooth(width=0.2 * u.deg, kernel=\"gauss\")\n",
    "smoothed.plot(stretch=\"sqrt\", add_cbar=True, vmax=4, cmap=\"inferno\");"
   ]
  },
  {
   "cell_type": "markdown",
   "metadata": {},
   "source": [
    "We can use the [plt.rc_context()](https://matplotlib.org/api/_as_gen/matplotlib.pyplot.rc_context.html) context manager to further tweak the plot by adapting the figure and font size:"
   ]
  },
  {
   "cell_type": "code",
   "execution_count": 45,
   "metadata": {
    "execution": {
     "iopub.execute_input": "2021-01-23T09:59:39.721391Z",
     "iopub.status.busy": "2021-01-23T09:59:39.720909Z",
     "iopub.status.idle": "2021-01-23T09:59:40.048297Z",
     "shell.execute_reply": "2021-01-23T09:59:40.048640Z"
    }
   },
   "outputs": [
    {
     "name": "stderr",
     "output_type": "stream",
     "text": [
      "/opt/miniconda3/envs/gammapy-dev/lib/python3.7/site-packages/astropy/visualization/wcsaxes/core.py:211: MatplotlibDeprecationWarning: Passing parameters norm and vmin/vmax simultaneously is deprecated since 3.3 and will become an error two minor releases later. Please pass vmin/vmax directly to the norm when creating it.\n",
      "  return super().imshow(X, *args, origin=origin, **kwargs)\n"
     ]
    },
    {
     "data": {
      "image/png": "[encoded data removed]",
      "text/plain": [
       "<Figure size 864x388.8 with 2 Axes>"
      ]
     },
     "metadata": {
      "needs_background": "light"
     },
     "output_type": "display_data"
    }
   ],
   "source": [
    "rc_params = {\"figure.figsize\": (12, 5.4), \"font.size\": 12}\n",
    "with plt.rc_context(rc=rc_params):\n",
    "    smoothed = m_3fhl_gc.smooth(width=0.2 * u.deg, kernel=\"gauss\")\n",
    "    smoothed.plot(stretch=\"sqrt\", add_cbar=True, vmax=4);"
   ]
  },
  {
   "cell_type": "markdown",
   "metadata": {},
   "source": [
    "### Interactive Plotting \n",
    "\n",
    "For maps with non-spatial dimensions the `Map` object features an interactive plotting method, that works in jupyter notebooks only (Note: it requires the package `ipywidgets` to be installed). We first read a small example cutout from the Fermi Galactic diffuse model and display the data cube by calling `.plot_interactive()`:"
   ]
  },
  {
   "cell_type": "code",
   "execution_count": 46,
   "metadata": {
    "execution": {
     "iopub.execute_input": "2021-01-23T09:59:40.052658Z",
     "iopub.status.busy": "2021-01-23T09:59:40.051990Z",
     "iopub.status.idle": "2021-01-23T09:59:40.283687Z",
     "shell.execute_reply": "2021-01-23T09:59:40.284184Z"
    }
   },
   "outputs": [
    {
     "data": {
      "application/vnd.jupyter.widget-view+json": {
       "model_id": "d8be3d4ca50d46a0a1651b0ca4a0c5c2",
       "version_major": 2,
       "version_minor": 0
      },
      "text/plain": [
       "interactive(children=(SelectionSlider(continuous_update=False, description='Select energy_true:', layout=Layou…"
      ]
     },
     "metadata": {},
     "output_type": "display_data"
    }
   ],
   "source": [
    "filename = \"$GAMMAPY_DATA/fermi-3fhl-gc/gll_iem_v06_gc.fits.gz\"\n",
    "m_iem_gc = Map.read(filename)\n",
    "\n",
    "rc_params = {\n",
    "    \"figure.figsize\": (12, 5.4),\n",
    "    \"font.size\": 12,\n",
    "    \"axes.formatter.limits\": (2, -2),\n",
    "}\n",
    "m_iem_gc.plot_interactive(add_cbar=True, stretch=\"sqrt\", rc_params=rc_params)"
   ]
  },
  {
   "cell_type": "markdown",
   "metadata": {},
   "source": [
    "Now you can use the interactive slider to select an energy range and the corresponding image is diplayed on the screen. You can also use the radio buttons to select your preferred image stretching. We have passed additional keywords using the `rc_params` argument to improve the figure and font size. Those keywords are directly passed to the [plt.rc_context()](https://matplotlib.org/api/_as_gen/matplotlib.pyplot.rc_context.html) context manager."
   ]
  },
  {
   "cell_type": "markdown",
   "metadata": {},
   "source": [
    "##  Interpolating and Miscellaneous\n",
    "\n",
    "### Interpolating Map Values\n",
    "\n",
    "While for the reprojection example above we used `.get_image_by_coord()` to extract the closest image to `~10 GeV`, we can use the more general method `.interp_by_coord()` to interpolate in the energy axis as well. For this we first define again the target map geometry:"
   ]
  },
  {
   "cell_type": "code",
   "execution_count": 47,
   "metadata": {
    "execution": {
     "iopub.execute_input": "2021-01-23T09:59:40.291090Z",
     "iopub.status.busy": "2021-01-23T09:59:40.290498Z",
     "iopub.status.idle": "2021-01-23T09:59:40.292415Z",
     "shell.execute_reply": "2021-01-23T09:59:40.292902Z"
    }
   },
   "outputs": [],
   "source": [
    "skydir = SkyCoord(266.4, -28.9, frame=\"icrs\", unit=\"deg\")\n",
    "wcs_geom_cel = WcsGeom.create(\n",
    "    skydir=skydir, binsz=0.1, frame=\"icrs\", width=(8, 4)\n",
    ")"
   ]
  },
  {
   "cell_type": "code",
   "execution_count": 48,
   "metadata": {
    "execution": {
     "iopub.execute_input": "2021-01-23T09:59:40.297203Z",
     "iopub.status.busy": "2021-01-23T09:59:40.296543Z",
     "iopub.status.idle": "2021-01-23T09:59:40.718752Z",
     "shell.execute_reply": "2021-01-23T09:59:40.719344Z"
    },
    "nbsphinx-thumbnail": {
     "tooltip": "Learn all the basics of working with WCS based maps."
    }
   },
   "outputs": [
    {
     "name": "stderr",
     "output_type": "stream",
     "text": [
      "/opt/miniconda3/envs/gammapy-dev/lib/python3.7/site-packages/astropy/visualization/wcsaxes/core.py:211: MatplotlibDeprecationWarning: Passing parameters norm and vmin/vmax simultaneously is deprecated since 3.3 and will become an error two minor releases later. Please pass vmin/vmax directly to the norm when creating it.\n",
      "  return super().imshow(X, *args, origin=origin, **kwargs)\n"
     ]
    },
    {
     "data": {
      "text/plain": [
       "(<Figure size 432x288 with 2 Axes>,\n",
       " <WCSAxesSubplot:xlabel='Right Ascension', ylabel='Declination'>,\n",
       " <matplotlib.colorbar.Colorbar at 0x7fae7eced198>)"
      ]
     },
     "execution_count": 1,
     "metadata": {},
     "output_type": "execute_result"
    },
    {
     "data": {
      "image/png": "[encoded data removed]",
      "text/plain": [
       "<Figure size 432x288 with 2 Axes>"
      ]
     },
     "metadata": {
      "needs_background": "light"
     },
     "output_type": "display_data"
    }
   ],
   "source": [
    "m_iem_10GeV = Map.from_geom(wcs_geom_cel)\n",
    "coords = m_iem_10GeV.geom.get_coord()\n",
    "\n",
    "m_iem_10GeV.data = m_iem_gc.interp_by_coord(\n",
    "    {\"skycoord\": coords.skycoord, \"energy_true\": 10 * u.GeV},\n",
    "    method=\"linear\",\n",
    "    fill_value=np.nan,\n",
    ")\n",
    "m_iem_10GeV.plot(add_cbar=True, vmin=0, vmax=2.5e-9);"
   ]
  },
  {
   "cell_type": "markdown",
   "metadata": {},
   "source": [
    "### Making Cutouts\n",
    "\n",
    "The `WCSNDMap` objects features a `.cutout()` method, which allows you to cut out a smaller part of a larger map. This can be useful, e.g. when working with allsky diffuse maps. Here is an example: "
   ]
  },
  {
   "cell_type": "code",
   "execution_count": 49,
   "metadata": {
    "execution": {
     "iopub.execute_input": "2021-01-23T09:59:40.727616Z",
     "iopub.status.busy": "2021-01-23T09:59:40.727139Z",
     "iopub.status.idle": "2021-01-23T09:59:41.049598Z",
     "shell.execute_reply": "2021-01-23T09:59:41.050277Z"
    }
   },
   "outputs": [
    {
     "data": {
      "application/vnd.jupyter.widget-view+json": {
       "model_id": "0731a550497746d99dc480b2579e1c29",
       "version_major": 2,
       "version_minor": 0
      },
      "text/plain": [
       "interactive(children=(SelectionSlider(continuous_update=False, description='Select energy_true:', layout=Layou…"
      ]
     },
     "metadata": {},
     "output_type": "display_data"
    }
   ],
   "source": [
    "position = SkyCoord(0, 0, frame=\"galactic\", unit=\"deg\")\n",
    "m_iem_cutout = m_iem_gc.cutout(position=position, width=(4 * u.deg, 2 * u.deg))\n",
    "\n",
    "rc_params = {\n",
    "    \"figure.figsize\": (12, 5.4),\n",
    "    \"font.size\": 12,\n",
    "    \"axes.formatter.limits\": (2, -2),\n",
    "}\n",
    "m_iem_cutout.plot_interactive(\n",
    "    add_cbar=True, rc_params=rc_params, stretch=\"linear\"\n",
    ")"
   ]
  },
  {
   "cell_type": "markdown",
   "metadata": {},
   "source": [
    "The returned object is again a `Map` object with udpated WCS information and data size. As one can see the cutout is automatically applied to all the non-spatial axes as well. The cutout width is given in the order of `(lon, lat)` and can be specified with units that will be handled correctly. "
   ]
  },
  {
   "cell_type": "code",
   "execution_count": null,
   "metadata": {},
   "outputs": [],
   "source": []
  }
 ],
 "metadata": {
  "kernelspec": {
   "display_name": "Python 3",
   "language": "python",
   "name": "python3"
  },
  "language_info": {
   "codemirror_mode": {
    "name": "ipython",
    "version": 3
   },
   "file_extension": ".py",
   "mimetype": "text/x-python",
   "name": "python",
   "nbconvert_exporter": "python",
   "pygments_lexer": "ipython3",
   "version": "3.7.0"
  },
  "nbsphinx": {
   "orphan": true
  },
  "widgets": {
   "application/vnd.jupyter.widget-state+json": {
    "state": {
     "01bb894f6cb14cc1ab3b2893f25cd338": {
      "model_module": "@jupyter-widgets/controls",
      "model_module_version": "1.5.0",
      "model_name": "DescriptionStyleModel",
      "state": {
       "_model_module": "@jupyter-widgets/controls",
       "_model_module_version": "1.5.0",
       "_model_name": "DescriptionStyleModel",
       "_view_count": null,
       "_view_module": "@jupyter-widgets/base",
       "_view_module_version": "1.2.0",
       "_view_name": "StyleView",
       "description_width": "initial"
      }
     },
     "0731a550497746d99dc480b2579e1c29": {
      "model_module": "@jupyter-widgets/controls",
      "model_module_version": "1.5.0",
      "model_name": "VBoxModel",
      "state": {
       "_dom_classes": [
        "widget-interact"
       ],
       "_model_module": "@jupyter-widgets/controls",
       "_model_module_version": "1.5.0",
       "_model_name": "VBoxModel",
       "_view_count": null,
       "_view_module": "@jupyter-widgets/controls",
       "_view_module_version": "1.5.0",
       "_view_name": "VBoxView",
       "box_style": "",
       "children": [
        "IPY_MODEL_8d14c40f31944f418419038adc6e106e",
        "IPY_MODEL_a56739758eb74d51bd92362f93bb28c2",
        "IPY_MODEL_d5ad7a7dc4df435b97e5626a0e286252"
       ],
       "layout": "IPY_MODEL_acfaa218ca1a46469c87e22542ea6f5d"
      }
     },
     "1b25b73212ac4d31970d2da1dfb5c8d9": {
      "model_module": "@jupyter-widgets/controls",
      "model_module_version": "1.5.0",
      "model_name": "DescriptionStyleModel",
      "state": {
       "_model_module": "@jupyter-widgets/controls",
       "_model_module_version": "1.5.0",
       "_model_name": "DescriptionStyleModel",
       "_view_count": null,
       "_view_module": "@jupyter-widgets/base",
       "_view_module_version": "1.2.0",
       "_view_name": "StyleView",
       "description_width": "initial"
      }
     },
     "39a941edd13640dd94b239e23b1f192b": {
      "model_module": "@jupyter-widgets/base",
      "model_module_version": "1.2.0",
      "model_name": "LayoutModel",
      "state": {
       "_model_module": "@jupyter-widgets/base",
       "_model_module_version": "1.2.0",
       "_model_name": "LayoutModel",
       "_view_count": null,
       "_view_module": "@jupyter-widgets/base",
       "_view_module_version": "1.2.0",
       "_view_name": "LayoutView",
       "align_content": null,
       "align_items": null,
       "align_self": null,
       "border": null,
       "bottom": null,
       "display": null,
       "flex": null,
       "flex_flow": null,
       "grid_area": null,
       "grid_auto_columns": null,
       "grid_auto_flow": null,
       "grid_auto_rows": null,
       "grid_column": null,
       "grid_gap": null,
       "grid_row": null,
       "grid_template_areas": null,
       "grid_template_columns": null,
       "grid_template_rows": null,
       "height": null,
       "justify_content": null,
       "justify_items": null,
       "left": null,
       "margin": null,
       "max_height": null,
       "max_width": null,
       "min_height": null,
       "min_width": null,
       "object_fit": null,
       "object_position": null,
       "order": null,
       "overflow": null,
       "overflow_x": null,
       "overflow_y": null,
       "padding": null,
       "right": null,
       "top": null,
       "visibility": null,
       "width": null
      }
     },
     "3b464810d0864543a7681504fdad0b03": {
      "model_module": "@jupyter-widgets/base",
      "model_module_version": "1.2.0",
      "model_name": "LayoutModel",
      "state": {
       "_model_module": "@jupyter-widgets/base",
       "_model_module_version": "1.2.0",
       "_model_name": "LayoutModel",
       "_view_count": null,
       "_view_module": "@jupyter-widgets/base",
       "_view_module_version": "1.2.0",
       "_view_name": "LayoutView",
       "align_content": null,
       "align_items": null,
       "align_self": null,
       "border": null,
       "bottom": null,
       "display": null,
       "flex": null,
       "flex_flow": null,
       "grid_area": null,
       "grid_auto_columns": null,
       "grid_auto_flow": null,
       "grid_auto_rows": null,
       "grid_column": null,
       "grid_gap": null,
       "grid_row": null,
       "grid_template_areas": null,
       "grid_template_columns": null,
       "grid_template_rows": null,
       "height": null,
       "justify_content": null,
       "justify_items": null,
       "left": null,
       "margin": null,
       "max_height": null,
       "max_width": null,
       "min_height": null,
       "min_width": null,
       "object_fit": null,
       "object_position": null,
       "order": null,
       "overflow": null,
       "overflow_x": null,
       "overflow_y": null,
       "padding": null,
       "right": null,
       "top": null,
       "visibility": null,
       "width": "50%"
      }
     },
     "59cf2ec001d4401b92e1100c02db42da": {
      "model_module": "@jupyter-widgets/base",
      "model_module_version": "1.2.0",
      "model_name": "LayoutModel",
      "state": {
       "_model_module": "@jupyter-widgets/base",
       "_model_module_version": "1.2.0",
       "_model_name": "LayoutModel",
       "_view_count": null,
       "_view_module": "@jupyter-widgets/base",
       "_view_module_version": "1.2.0",
       "_view_name": "LayoutView",
       "align_content": null,
       "align_items": null,
       "align_self": null,
       "border": null,
       "bottom": null,
       "display": null,
       "flex": null,
       "flex_flow": null,
       "grid_area": null,
       "grid_auto_columns": null,
       "grid_auto_flow": null,
       "grid_auto_rows": null,
       "grid_column": null,
       "grid_gap": null,
       "grid_row": null,
       "grid_template_areas": null,
       "grid_template_columns": null,
       "grid_template_rows": null,
       "height": null,
       "justify_content": null,
       "justify_items": null,
       "left": null,
       "margin": null,
       "max_height": null,
       "max_width": null,
       "min_height": null,
       "min_width": null,
       "object_fit": null,
       "object_position": null,
       "order": null,
       "overflow": null,
       "overflow_x": null,
       "overflow_y": null,
       "padding": null,
       "right": null,
       "top": null,
       "visibility": null,
       "width": null
      }
     },
     "6bc99fd08fb54b5cb8381023c8bd92f6": {
      "model_module": "@jupyter-widgets/base",
      "model_module_version": "1.2.0",
      "model_name": "LayoutModel",
      "state": {
       "_model_module": "@jupyter-widgets/base",
       "_model_module_version": "1.2.0",
       "_model_name": "LayoutModel",
       "_view_count": null,
       "_view_module": "@jupyter-widgets/base",
       "_view_module_version": "1.2.0",
       "_view_name": "LayoutView",
       "align_content": null,
       "align_items": null,
       "align_self": null,
       "border": null,
       "bottom": null,
       "display": null,
       "flex": null,
       "flex_flow": null,
       "grid_area": null,
       "grid_auto_columns": null,
       "grid_auto_flow": null,
       "grid_auto_rows": null,
       "grid_column": null,
       "grid_gap": null,
       "grid_row": null,
       "grid_template_areas": null,
       "grid_template_columns": null,
       "grid_template_rows": null,
       "height": null,
       "justify_content": null,
       "justify_items": null,
       "left": null,
       "margin": null,
       "max_height": null,
       "max_width": null,
       "min_height": null,
       "min_width": null,
       "object_fit": null,
       "object_position": null,
       "order": null,
       "overflow": null,
       "overflow_x": null,
       "overflow_y": null,
       "padding": null,
       "right": null,
       "top": null,
       "visibility": null,
       "width": null
      }
     },
     "808eede8d14c4dab94fa1a0dc02c5d66": {
      "model_module": "@jupyter-widgets/output",
      "model_module_version": "1.0.0",
      "model_name": "OutputModel",
      "state": {
       "_dom_classes": [],
       "_model_module": "@jupyter-widgets/output",
       "_model_module_version": "1.0.0",
       "_model_name": "OutputModel",
       "_view_count": null,
       "_view_module": "@jupyter-widgets/output",
       "_view_module_version": "1.0.0",
       "_view_name": "OutputView",
       "layout": "IPY_MODEL_8d35ffc150394f77a33389e82da83dc0",
       "msg_id": "",
       "outputs": [
        {
         "data": {
          "image/png": "iVBORw0KGgoAAAANSUhEUgAAAqwAAAFiCAYAAAAzyIppAAAAOXRFWHRTb2Z0d2FyZQBNYXRwbG90bGliIHZlcnNpb24zLjMuMywgaHR0cHM6Ly9tYXRwbG90bGliLm9yZy/Il7ecAAAACXBIWXMAAAsTAAALEwEAmpwYAABhoklEQVR4nO29eZxlZXXu/6yq6rm6aZtmEBVoNDig0esYzQ2aawLinKvmqoiiMVcxxGhiEpKoIHFI/CXmxp/DFS/KEBwTjMbZexXHKGIUFS+i0LYgNtDd9Dx3r/vHOQXnPHtV7VVvnVNnn1PP9/M5n+69693v/L7nrV3PWsvcHUIIIYQQQjSVsUFXQAghhBBCiJnQgVUIIYQQQjQaHViFEEIIIUSj0YFVCCGEEEI0Gh1YhRBCCCFEo9GBVQghhBBCNBodWIUQQgghRKPRgVUIIYQQoo+Y2blmdo2Z7TOzS/qQ/1VmttfMdrY/P+51GYNGB1YhhBBCiP5yK4A3AnhfH8s4190n25/797GcgaADqxBCCCFEH3H3K939XwFs5p+Z2VPN7HtmttXMvmFmvzr/NWw+OrAKIYQQQgwAM3s4Wm9dXwbgSADvAfAJM1tSkN1bzGyTmX3dzJ7Qu1o2Ax1YhRBCCCEGw+8DeI+7f8vdD7n7pQD2Afi1Webz5wBOAnAvABcB+Dczu29vqzpYdGAVQgghhBgMJwD4k7YcYKuZbQVwHwDHAXcZU/k0n69NZdI+8O5w933tQ+/XATx5EA3qFxODroAQQgghxALlZgBvcvc3RT909ycU5usArLRSTURvWIUQQggh+oiZTZjZUgDjAMbNbKmZTQB4L4CXm9ljrMUKM3uKma2cRd6rzez0qTzN7EwApwL4XH9aMxh0YBVCCCGE6C+vBbAHwHkAXtD+/2vd/Rq0dKzvAHAngJ8COHuWeS9Cy2XWHQA2AfhDAM9095HyxWruPug6CCGEEEIIMS16wyqEEEIIIRqNDqxCCCGEEKLRyEuAEEIIIUTDedKTnuSbNm0qevY73/nO59z9ST2u0ryiA6uYFWZ2ubufNeh6CDFXNJfFKKB5vHDYtGkTrrnm6qJnzcbX9rg6844kAWK2/NdBV0CIHqG5LEYBzeMFgwM4XPgZfnRgFUIIIYQQjWakJAHjZl7XoMwJPRMaIuMMrMRhWFR2pj51aTL5ZsqZALDKrKtp3M4on1Fwnsbt6mebSuZgZm73at72Yk5mKZmnmXwWAziS5nKTKO3jXuxf0c/5HU2Uhu+VzreS53o1kCX59mp/zcD1GQewnOZxv9Zepj5Rf/VqvyhpV+n86txPF69Z45s3b27IC77ReFtawkgdWCfQDr7bJppdi+k6SpPplIN0HU0hvhel4fJL68xp6soBqu1cFKQZp+tDQZp+HVhLlyW3tSSfqL9KDqylbeB+j+Dy6+YAUK1PZjwjuC+i+mbmduYLiOdlpm96lU9pWUzUz3VlRf3FaaI1m/lWrdubeH8DgL10vS9IcyCRD5fFzwDV/srsr5myMusxky8T9fnSRJqSsYrqw/dKv9fqnon6j8uO6sf5ZPqitL84TVSf/Yl8O/fTPevWNSjEqQ6sQgghhBCisUxpWBcmI3VgHQMw2XGdaVzmt7hMPtEU4t/iMr95Li8sq66O/Nt+dC/Kg+tc+kaOybwxicriN0xRneve4JT+ySp6m8XwW6jM1lK6CDNvP+rmclQ2vzmb7Z/Ppih5OxmVxeOXeXuUeaOZ+ctA5m195g0ck5lvmbkT9VdmjOvaFZWdeauemSu8L5bOr5I0GTL9x23IzIuSv4BE+WTWeVRWL/qw5K97QO6NJt/L7LfROs+MDZP5HmkOza1ZvxmpA6sQQgghxGiiN6xCCCGEEKLx6MAqhBBCCCEay8J+w9oQNw1CCCGEEELEjNQb1jHExkWd9MqtFRP9zsNllRhLAbnfKjifjEEVG1EsSZQTubLJGLhkfifkfDJutjJkXHNxH0dGMZl2cr+zEVZUnwwZA4QSt1GRwQuXlTHyyORd6heG+ytjmJJZVxkjoozBHpPpryifzPzq1d7EcP1K3KoB1TZkjPGiecFpMv0eGf+UuLXKGNFxWRmD2ohM/UqMK0uNiev6p9Q13SRdR/2VWY+ZNZIxlMwYijX3bd7CfcM6UgdWIYQQQojRRQdWIYQQQgjRWBa2hlUHViGEEEKIoUAH1pGhU3cSNS7jqD8TOjCjqco4oO6V03FuB+t/MqEzM1qkSCOcCceY0RVlQmdmHFDXBSCo0zlH5UT5RvAYrwjScH9lAiREZMa4TvOV0Q9G/VUSvjIi086Mbi3zTN38ip7JhAhlSp2Ql2jmorK4zpn5xWVHenbWr0dzh5+LNO91dQGq2u/SPaUkzHbJOLBGEygLHZvRnkb6y9LwsUzdnlIampvLXpbIJxrPzHrkMY/6i+dXc/WqjN6wCiGEEEKIxrNwD6zD84uFEEIIIYRYkOgNqxBCCCHEULBw37DqwCqEEEII0XikYR0ZDN0NihrHxkkZo4WIXhlRsEFLRjwfGcHUieUzDrwjQwsW0GcMOKI2lDh2j+DnorK4jhkn5CVbQCYYQ6/IjF+v9D2ZfDKGIGxcFgU/yBjOZOB8MoEWMpTUp1dO5KN1XrIeM2TWCPdplIaNrDLBP6L+4rZHRpA8v0qDHdTN99LgMhlH/Rkj0kxZmeACTMbgkskYG0d5lBgBR8bO3K5oftUZ3QJVI7lofjUXHViFEEIIIURj0RtWIYQQQgjReHRgFUIIIYQQjUYH1pFgHN3alEgnw5qXjGaoV9Mj4+Q+0q2VDBKXFZXNfRHpEDOOozNaxV45oK57JoJ1dZE2ijVMUV9kAg4wGefX0dhw+aX61BJn+b2C25AZ8xLn5kBuXZfQC800UJ0HUZooiAlTok/NBFDJkNGh85qN1lpGp8/5ZDTcmb0pgvPOrHMez1KbBh7zKJ+SvDNjnrE1yJSd2asy+3QmeAWPTTTmvJdn9Ox1Y74rkcf8sLAlAfLDKoQQQgghGo0OrEIIIYQQQ8Hhws/0mNkSM7vYzDaY2Q4z+66ZnTFD+leb2UYz22Zm7zOz6IV4z9GBVQghhBCi8UxJAnp7YEVLMXIzgMcDOALA6wB8xMxO5IRmdjqA8wA8EcCJAE4C8Ia5tCqLDqxCCCGEEENB7w+s7r7L3S9w95+5+2F3/ySA9QAeESR/EYCL3f06d78TwF8DOLsHDatlpIyuDN3i6chwJkPJKT6aDiUO2EucOQP1hgyRqJz7p9Thc4mBUMYYKRLqc/9E9anriyjfXi0Ebldk9LGiIN+SdgL1RleZdkflZIz6eKwi4wce86i/eH5ljH0yaybTBq5PJtBIZAiSCWyQMTLMGHhlDHBK9jiuX2m+/UrDxpVAdT1mgjpkgllkjJP4XvR9lDEuy5SVCeRRVzZQne+cb2a+lb4F4/pk/sac2ZsyaUqMGQdH/42uzOwYACcDuC748SkAPt5xfS2AY8zsSHff3M96jdSBVQghhBBiNJmTl4C1ZnZNx/VF7n4RJzKzRQCuAHCpu18f5DMJYFvH9dT/VwLQgVUIIYQQQhQfWDe5+yNnSmBmYwAuR8s72LnTJNsJYFXH9dT/d5RWLIs0rEIIIYQQjadvRlcwMwNwMYBjADzL3adzY3wdgId2XD8UwG39lgMAI/aG1VCvRanT9EVkHJ5H+XCaUgfePNUywQ4yP884as7o6phIn8czP6OFisjoy7jOGT1XRg+a0Q8ypb8R9mLMM2TyyKTJBCDIaKQz/ZXReWcczTOZNkTzJDMPOE2po/mSMc9oaksCNmTWTKZvojZx3pk9JeMgvmS/jSjRZ0dkHOqXrNFMG0p0m6VaT65f1F+Z8evFM1mGS9faE94N4IEAfsvd98yQ7jIAl5jZFQB+CeC1AC7pf/X0hlUIIYQQYkjoix/WEwC8DMDDAGw0s53tz5lmdnz7/8cDgLt/FsBbAXwJwIb25/weNzJkpN6wCiGEEEKMLr33EuDuGzDzH1Q7o97D3d8G4G09r0gNOrAKIYQQQjSeOXkJGHp0YBVCCCGEGAp0YB0JDN0i7IyRRyTazgjhM7Cz/kgwXDL1IjF/iUA8Y1DF/RMZMGUcW3M+UZoSA7iMcQ2PZ9QGXgj7E3WJyBgXsLFI6Xhy3hmn4xnm06k291fGACdjzBJRYnSV2QtKnLb3iswGHrWhzmApmku9MnjIGL7y+tsbpKlb50A1SEc0xlHedWTawGWV7imZAC+ZABxMlE8UYGamcoBc8JtM4IyS+ZUJApMJCDI86A2rEEIIIYRoPDqwCiGEEEKIRrNwD6xyayWEEEIIIRrNSL1hHQOwvOO61ME4//6Scbof6dZKnHNHvzvxvUiXWOLgn/sioz0qdWZe4nQ/0idlAgeUlJ2pD/d7qUN91m+VOk4vccpe4uC/xKk80Lv+yuhcmV6shyifzDiUBC3I1icz/3vxFiKzrjLztrQu3PZIW8ma0Iw9QqY+vdKYc5roGS6rTkM6XX34+yejZ8843c/YfGQCOHD9ejVvM+s8yjcKkjMcSMMqhBBCCCEajw6sQgghhBCisegNqxBCCCGEaDw6sAohhBBCiEajA+tIMA5gVcd1NKwZo5OMI2QWx2dE+KUGCBmjq7pnMs78IyE6T5AoH04znphVh4JGcN6Rc+eMEVhdsIPIgTeXHRkOcJqMo/moKzLbDc+vaMwzfcFzd3mQhuF+L3XOzWT6PYL7OWP41CvH4CsT+XL/lBp7lhgUZojqUxfIo3SvyhjXlBj+RWPOaySaX5mgE9xW3gejtcf3oj7O7AVH0PW+IA3XOWPsFhkBc39FZdXN02he8BqJyBgyZ+Z7JigH91fGMCv67isx3Ow/kgQIIYQQQojGs3APrPLDKoQQQgghGo3esAohhBBCNB5JAkaKTg1OpHdhfcueIA1rVyJ9S4kmLaOJifSCTNQu1tZlNEOZspgoH9asLgkquI8EZouDNAdJiHW4cF2WTOqMho81cqWBIJhSLSyT0VqXEGkDuT6ZORml4bwzWutSvXjdWGQcqZdqm5mM3jhqZybvzD5TN99LAwdk1lGmDZx3qUY0Az+X0afyPMjo7TPfRyuCNLxGovWYWSMlZXEbMkF0MgFoovmVCbTQqyAwJcFImoMOrEIIIYQQotHowCqEEEIIIRqLJAFCCCGEEKLx6MAqhBBCCCEai96wjgyGesOJjKEMi/kjsTwLu5cFGRvdGw/SHKK5dyDhUD/j/LrOMXiUT+RImgX0odEVFR4ZS7EhVpRmKVkIRQZDe/cGN2vgsqJ82Wgi6mNue8ZYKjIA4DTRnMw4vucxLvFRlzG8i/qL+yLjUD+qH6+t0g2JxyKqc13/RA7iIwMXpsSAI2MYVWpQwmTmRUkQikw+pcY1TKkhW2Zs6gJTRN8pPLej+ZZZW5m5wu0qNcbLzAMOLJIJUsP0M4hOJp8SY+ds3mKwjNSBVQghhBBidNEbViGEEEII0VgkCRBCCCGEEI1HB9aRYAzdGpxIf8O6lIzWLcqnoo0KenI5CYIi3SbfWxQUFulaGdaRshP+/UHZrM9bHYl1iaidHARgrFD8w3mzvjdKw+2M4DRhvnQvGisuKiq6ZCvJOB2PdFgc0CJKw9o2Lit6JqMr5ecyjvpLNWGcT2o9JtJwvv3UupU45s9oMiMyesa6wCcZHWI0b3lsonx4fmW04BH8XLR91Y35dPdmKgfI6cf7tV9kAhBEdc6sx7px75WWOLNmovnF9Yv0xZm9k+fXcB0Bh6u2vWSkDqxCCCGEEKOJJAFCCCGEEKLx6MAqhBBCCCEay8J+wypXY0IIIYQQotGM1BvWMQMWd6iwxwKVOxvtRAZC+8kaKRK5s6FRZIxUMahKGDWNBZ7KM2UxlTYkjLnYcX90j+sS1Wf37vo0UVlcZ74GgEUJQ7ZK26nOkaFWlA/D7coYGkVGChnH6fxclKYuSAZQNczipmfqF5Ex0uGyMsYPERlDC25HiSFUJshDqWFWJhhJSX2iaVsSuKAkIEFmzEuNy5io30sMxdgxfpR3Zi7xM9E85kAsmXmbCfCS2Qui+vTCCLJ0DWfyYRJflz0L0hHtg5ngLYOhP29YzexcAGcDeAiAD7r72dOkOxvAxQD2dNx+qrtf1ZeKdTDQN6xmtsTMLjazDWa2w8y+a2ZndPz8fDPbaGYfNTP+7hVCCCGEWEAcLvzUciuANwJ4XyLtv7v7ZMfnqlk2oohBSwImANwM4PEAjgDwOgAfMbMTzexXADwawAkAvgvgBQOrpRBCCCHEQJnSsPb+wOruV7r7vwLY3IeK94SBHljdfZe7X+DuP3P3w+7+SQDrATwCrb98WPvfqY8QQgghxAKlb29YZ8N/MrNNZnaDmb3OzOZFXtooDauZHQPgZADXufv1ZvZ9ABsAfB3A8+qf79YrRvpU1iru3VtNw89xAACgqsmM9JaMJ+ZMVBbXJ9Jbcn34Omon60gnJ6tpMtpOrl+UT8bhf0aby0T14/rw2GT0xlG+PDZRn3KAhui3LJ6Wi4N5anQvCh7Bj2UCNiyhNNGcPNijvY1lyqzpA3LbaEbDyvcCGXXK6TnDOrqovonYFRWioeL+yugZM2T0stHY1BHNbW5D1DeZ/uK2R2PO5Wcc/Ed6Rs5nJXVYFGiE12NmHkftZp1bsKX0bcxL5m1EJjgD60Gj8eTnoq+DjK41A5cVzeVmviGbk5eAtWZ2Tcf1Re5+UUE+XwHwYLTOZqcA+DBa0+ktpRXL0pgDq5ktAnAFgEvd/XoAcPfzAJw30IoJIYQQQjSC4gPrJnd/5FxLd/ebOi5/YGYXAvhTLJQDq5mNAbgcrWih5w64OkIIIYQQDaRxflgd5Q5UZsWgja5gZoaWi4RjADzL3WflTcLMLjezXWa2a0vjxlEIIYQQw8z69esxdc5ofy4fdJ16jZlNmNlStG2GzGxppE01szPa8k2Y2QPQMpb/+HzUceAHVgDvBvBAAE9z9z11iRl3P8vdV7j7ijVNaI0QQgghRoZ169Zh6pzR/pw1mJr0z0sAgNei5Vv1PLS8Mu0B8FozO97MdprZ8e10TwTwfTPbBeDTAK4E8OZetK6OgUoCzOwEAC9DS/O/sfWyFQDwMne/Yvb5dRvUZJzKR4YqbJQT5cP3MgZDGQOhCE4TOe+vq09kzMXPLAmc+Y9T2ZEBwjJ6LtOmqC/YECsyZOM0UVl8j6/3BfmOJdYzG1mFQRQon6gN0XN1jCeeicamDjbuAgIjiozhXaKsUkf4GSoGaIlnMsYsmfpwf0XGLJwmY9ARGeNlDOI47xLDtqgNmb/5ZQxnuFkJe9UQzifzZRb1+/KawCzR3sD74t5onddcA1VjpMzWkJlfmbGKDJ/q1mMmiELGgCkKNsBtj8azFwEvgNzab+z7r8yGXIC7XwDggml+PNmR7jUAXtOXStQw0AOru2/APGkfhBBCCCGGFve+HViHgUYYXQkhhBBCiBp0YBVCCCGEEI3FUab9GhEW3IF11aru60xwgYyGNdKIZubVkoRoqUSPGjmaZzKBDFgzGgUF4PpkAhtEOtKJRJ0zWmEeUw6QkNHGZrSnpZpkzjsKosB5Z7S6GV0wX0dzNJpfdfXL6MVZ3wuU6T+jacv3oiZw3nwdaZNYaxelibSATEYLOFEzb8N8E07tD2XWFZXNASaA3H7B6zOaX5lAEFznjJP7JcHewFrTaG6P03OZdjJLgwpmgslkxioxDYq039Ec5HwyWs/MGuExj/TZTKSvr+RbYMMA5Pb7Zh4LJQkQQgghhBBNp+Q3qhGhsYZwQgghhBBCAHrDKoQQQgjRfOQlYHSJNGCsYYr0gxkyGkPWPGbKiurMWp5Ix7mIymItVEaHu2dvNQ23IWon1znyM7pzZ/d19FeNjC44oyNlMvpZrk/Ux9z2KA3Xh9sNVP258jVQrz2N6hPB2iwua2nQBm5XRjcctYH7IqPpzvhVPBz1BV9H2jYeY8x8DeS0p6yBjOD5FenzFlE+0Trisg5EPoVZ21yg+y5Nw/M0s0aiNbwooTtnVib09RF17cpo1aP1WbcnA1XdfsamIvM9krFh4PkWlcVEa5jblfkuzOyvmXZm9qbMc5m53Rh0YBVCCCGEEI3FoQOrEEIIIYRoMpIECCGEEEKIJiM/rEIIIYQQotnoDevIMD4OrF5993XGgX3GqXCpA282FIjK4vpEQnM2HIiE5uxAeZwF/0H9MoZGbOQRBTrgdkVlZQwH2Eghcgq9ggwrlmW8ahO7d1fvsRFMZMCRMbpi46MozS4qPwrGwMZaGaOmqE+5/GU0lyLjt4zD7oxhFhtaRIYzmfnP8ykyFmGidnGz2Fl+BCeJ+iaapww7YI/WUcaAJGPgwvmUBLiInomMwOryzZSd+f6N1gjvF9FewHlnjH0ycL5R32SM3zJt5zWRqW9Un16cc8I8Eoa5TGaul8w3INdO/l7juQTEBo2NYAEfWIfJNk4IIYQQQixARuoNqxBCCCHESOJY0JGudGAVQgghhGg80rCODOPjwKpVd19H48p6oIz2iHV/EbsCB/EZB9lcVqkmp063lnHmnNEYRv2V0QWz9jTSMPHY8DNAt0YZiLWmrE/iX0gjPSiTcdoeaSk570iTmdGerlzVfR31aUYvWzd3MhruiMw6yswdbkNGk5nRv2UczWfIlFWyziNdfErDmvmuKnBGn9mHmKi+rPGNnOVnggvwvai/+F5GX5zpv4xGmudXxl6itL8yZWW0ukxmH2RKA5hkvo+YTHCNTFmZ+RWxaHV9moGgA6sQQgghhGgsCs0qhBBCCCEazxAeWM3s4QCeAuChAFYD2ArgWgCfcfdrsvnowCqEEEII0XSGLDSrmZ0G4M0AVgL4MoCvA9jRvn4ggCvMbCeAv3T3z9XlpwOrEEIIIUTj8WGLdPUyAOe4+7enS2BmjwLw5wB6d2A1swcCeDaAY939D8zsAQAWu/v3s3n0m4kJ4KijZ06TcQaccdTPv+RsD4wC9pCoPRLUsyFPBBsOZJy0Z0TtbLRQ6pA642ie2xCJ9zmfyBH40TS+bJwEoFpJKuzQ/uqC5/qUGLoBwL4CY4zIQOgAG6AFhn9c58iIos6AKhPwImOgwO0GcoEpeM5lDP+iecrPRe2u64tSQ6OMER1Pycy6zxiY8DwJ0wR9WmKMx87VI+86JS9/orJ4D14S7AWZfTETRIH36Yyh1uJEUJgMdQaiQLXO0RrJGEEyUQCVunyjsrntmeAfmYAvvfqey8zJ8HukE6/PQ1Rx92dN/d/MTgKwwd0PUZpvo3W2rCW1zMzsOWi9zr0XgLPatycBvC3zvBBCCCGEmANTkoCSz+D5AeZ49M/+XnghgNPc/eW4O8rgtWgJaIUQQgghRF/x1mv4ks/g+S6Ak+eSQVYScDRaB1Tg7hOyQy/KhRBCCCHmh2a8LS3hKgCfNbNLANyMjvOju78vk0H2wPodtKQAl3Xcey6Aq5PPzwsTE8CRa7qv64iCArCGKWL79u7rSLeT0cKy9q/0FyHW9vB1Rt8V6YFY5xo58C7Re0YaK763bFVQaY4csGZNNU1n9AgA2Hhb1+XYz2+uPMJtiHRrSxK6MGYyCGzAZDSs0ZzkOkYa6R1BQIuucoKyWQubGfNMgIQIzpvXDFDtn0iry+soo1VnMg7/M7DWE6iOX6nmMePgnzWZUV/U6XkzeuNSB/a8zjNBFDL5RJT0M+/tUTvZqXykN844/GcNa2adR/AYl2rT64JgRHsV1y/6DsuMJ9+L1hHvwZmgGJl9KErTSNum4fbD+usA1gN4PN13AD09sL4SwOfN7PcArDCzz6H1ave05PNCCCGEEGIuDOmB1d1/c655pA6s7n592yvAUwF8Eq3XuZ9095r3N0IIIYQQoicM6YHVzI4CsMfdd5rZOIAXohVI+gr33N+W026t3H03gI8U1VQIIYQQQixUPgng5WgZX70ZrRegBwA8HMCrMxlMe2A1s68iYVTl7qdmChJCCCGEEIX40AUO6ORkAN9r//9MAI8DsBPAdZjrgRXA/+r4/30BvATApQA2ADgewIuQFMrOF2bdQvzIgIPvRWmYyCn6ThJDZIwUSh2wszFNJDTne2zIEBkoZOrD/RMZqbHgP6of20HZ8sDSYvGS7us19wgyOqL7+uijqmnW0j2yMNn/06rR1datVJWEQUf0R4yMoQWPTcb4odS4gMvK1I8NciIH45m5ExloMBmjqxVkuLZjezUNaD1mnO5n/rLGfVFq/JMxguSyooAcGaf2nHdkeJcx3mK4PmMJo6vIoIrHuHRvyowN34v6dB8ZqWWMyzKGuSVGYZl2RxyksjJBRKL61QVQKTHUip7LGPhmDKIz6yhaI7w/8P4PUB0PVH8+MIZUEoCWS9TFZnYygG3u/nMzG0PLp3+KaZeHu1869X8z+yaA0939uo57H0DrwHp+Sc2FEEIIIUSS4fYS8Bm0ZKVHAvhQ+96DAPwim0H297kHAriR7q0H8IBsQUIIIYQQYg40IwhACS9F6y/zB3C3i9S1AC7IZpA9sH4ZwCVm9joAtwC4T7uQr2YLEkIIIYQQc2BI37C6+z4AF9G9q2aTR/bAejaAd6Eljh1HyxXBlQBePJvC+s3EBLB27d3X7JQZAJaRTiZKw5qmSA/XWQ4Q64FY+xfqzRJzbzEpPCL9D5fPmtFIS8aOmblvAGB8eb0Q69DubrHi+NKgw44/vvt6cmU1ze5d3dfLV1TTsGb15PtX0xx1z+5rEnQt+dnPKo9M7t/adb1yVSVJpZO53UBOg5bRtvGeFGnSWEed0TOyHjSa21xWpGFl6hzRA7l9luNCANX+WhkonliDFvVXXTCGjC1DpF3MOEXnNRvtOxndLbchCgrA/RyVxbr4zPhl4LZHZWd0iLx/RWkyemzu92hecJqM3pjJOJ6P9lcmGoeMvjijheXvgKisOq1ppi6ZoAXRWmPNatRfXH4mMEukT+W2R/tOV1m3VX8+EIZbEjBnsn5YtwB4blsgexSAO7J+s4QQQgghRA/QgXVmzOwkurXCzAAA7n5TryslhBBCCCHEFNlIyz8F8JP2vz/tuP5Jn+olhBBCCCGmmJIElHxqMLNzzewaM9tnZpfUpH21mW00s21m9j4zWzJT+mnyOMnMTpjNM6kDq7uPuft4+98xAMehJZ49a7aVFEIIIYQQBfTpwArgVgBvRI1/fTM7HcB5AJ4I4EQAJwF4Q13mZvZBM3tc+/8vRssm6kdm9nuZygGzCM3aibtvNLNXAbgBwAdK8ugH40smcMT9Vt99IzLamRivzWfJdvJMvndfNc3Bbk/Cq1dX1fws8I+E5mz8kHH+njEOqYjR2eE+ACylX4oiBfvSZd3X+6t9MX77Hd03jrtnJU3FOIqtKgDgdlK27w+8NbOx1vJl1TT7yHiLFfZBX6wkm7BQhU8DMR4M1rItW7pvZKIoBGk470WcL4CVZHXle6sWOLa0xhovaMO+W7vLygQOiIw8eJ7yXAeqBi6RcaBNdPfPnp3VOvPUjYIW1K2bSJXPjuYjoyuucyawBxvMAdU+jPYCvpdxih7lw+VnnK1nnOVnDJQ4TbTtHHUcJeJ9CKjsRTu3VAf9Tlo20fyqI2MIFY05G5xF85/JGGRGZOrDX2vRGuHvLM4n6ouMwR6XlXlmSTBWbIgVpWGjzOirhtsZ9UXXummM0RX6FunK3a8EADN7JIB7z5D0RQAunvLLb2Z/DeAKtA6xM/HE9rMA8McAfgvAVgD/CuDiTB0L42oAAO4PIBEnSgghhBBCzI1GeAk4BcDHO66vBXCMmR3p7ptneG6xu+83s3sBWOPuXwcAMzsmW3DW6OqraJ3tp1jervSF2YKEEEIIIcQcKHfQtNbMrum4vsjdL5o29fRMAtjWcT31/5UAZjqwfs/M/gLACQA+BQDtw2sUbDsk+4b1f9H1LgDXuruMroQQQggh+s3c/LBucvdH9qAWOwF0Ci2m/r+j5rnfA/DXaEW6+tP2vceiJSdIkT2w7nb3j/JNM3u2u/9ztrC+s2gRcGyHfjLSNy4m3WbGI/XePdU0JOyzQJSzjCdWJFzjNFy/iIOBtnNiUff1mjXd16xXBaq6sEj4xH0YiX1YKxzpP9nhfxQ4gPs50G1WxE+bgl/oxoyeof5ae2RZ/RZTH0cbx7Gk3436i4VqUX3Y23U0NlRHi/TZPMY837dvA7Pk4KHu62j+83yL6sdzLtIhMgnh5rKJ6pgvW079nPHen4HbGcG67qgcasPKNdUkmfrt2x7MJ4Kn165Ag8zbQ+Y7sCS4QKTJ5OAHk6uDsTrxxO7re9+nmoYqPXnLzZUky27o9roY6bFZp8zBGDJO+DkIC4DKeB7aX+1k7tOorErwhSgRf28Ea3b16u7yo/FkbWf0lVVH1MeZIA98b0nQp5lAAZxP9HWUqU8UZKIRDF4ScB2AhwL4SPv6oQBuq5EDwN1vBPB8uvfPANJnyOwOPp0gtuR1shBCCCGEaAhmNmFmS9GKZjpuZkvNLHqpeRmA3zOzB5nZPQC8FsAl81HHGd+wdgQMGDOzdQA6X12dBKCpv4MIIYQQQowW/XvD+loA53dcvwDAG8zsfQB+BOBB7v5zd/+smb0VwJcALAPwL/Rc36iTBPwULWMrA3Aj/WwjgAv6UCchhBBCCNHJ3DSsNVn7BZj+TNclxnD3twF4W18qMgMzHljbQQJgZl9298fPT5WEEEIIIUSFPvlh7Rdm9mQAn3Uvd28wRcroamgOq2PWbRgzVh8kIDR4YdjjMgDcfnv3daTQ3h0YqzAslo+Mo9gYY2lgscHO+teSEVEk1GcjncNeTbO7xgl/9FzUBibjjTsy0uF27AwMEzngAJd19NHVZ5aTS+HI+C0ydqvUjw2zDlXTcCCKg0EatlbJBHVIBMVI/XbO4xflmxkrzicac7ZeiYycgmAVFdjSg8cTqPfMH5XDazhI4/u722WTQcAS7ovQiI7GOLBYWsL1ifYm6ufQUIXnMvXFob3VseLqjC+utmHf7u58liyvpqmsrCjAC1eajSKjNMHcHiejzKWHq0aGlWd4akfBLDggR9TJtIeMR0FXouAoDI9V6OWe9pBgPS5C99xZFPQXLxE2JouCH/BUjgzteJpGabg6kSEbPxd1Rca2kreHTLCPRtDHN6x95P0ADpvZFQAudfcflGY07YHVzD7r7k9q/5/9sN6Fu59aWrgQQgghhEgyfAfW4wCcAeAsAN8ysx8DuBTAB9z99hmfJGZ6w3pZx//ZD6sQQgghhJhP5v6X9XnF3Q8B+CSAT5rZKgD/DS2Drr8xsy+g9dY15dpq2gOru3+g4/J6d/8WpzGzR8+q5kIIIYQQYvYMpyTgLtx9O4D3Anivmf0agA8C+DBarrRqyQYO+AK6IxtM8VkAkQvswTA21u1MPdLesV4qEqpkPGRzPhktUqSLZL1bpOHjOrJjfKA6ifmZe9+7+swiGrpDW6tp2Hn/TewsAlWH+pGekUVMkW6TiQI/sBfoKB/W3bJ2LNKb8Xhym6KyMjrcaHPZSfWLHPOzx+5o7kxQfTJzZ9Md3dfRvGWdZOR5u1KXYK1xP0daxUhbXUc0fhVdcNAuTpPR/CZ0wsbzIgzgQELISF+/irbYtWuraXg+RV7at97ZfR2NMa+JTZu6Lscj3Wtij1uyiuZg6HWf+jSaX8ceW5+movkN5j+JFRdNBmuNhJC8ZGwiCqhCIkieW0C17dH8D6TWFXificac51xGlBnM00WUhq8juwyn/SwjVY+2RR7OSDvMpiKRVJ3vVQIvAMCqI4Kb3axcvKs2jZgdZrYEwO8AeCGAJwL4OmbhbarOD+sYWi6tzMwM3X5Y7wugIPaJEEIIIYSYNUP4htXMTkXrkPpsALcBuBzAy93957PJp+71xkHcbWzFh9PDAN40m8KEEEIIIUQBQygJMLP1AI4A8FEAT3b3b5TmVXdgnYpu9WUAnd4AHMAd7p7w2ySEEEIIIebMkB1YAfwFgI+5e8I/4czUBQ7Y0P7vCXMtSAghhBBCFOIYugOru39o6v9m9tsAngfgKHd/mpk9EsAqd/9iJq+0xYOZPR3A4wGsRYeW1d1fmM2j7xgFDoiMf1jZHRkFsHFBlA8L6FetrKbJBA7gyZeZjJFBydat3ddcPzbiAYB7BKp2hkX3bBgCVA0OIrV8xbgs6PeKcUEgeidH4LHBEj2XMRrisjPOuSNDqLp8IyIDCe7naC5VjPGCfOoMziJDLTZ2i/KNnmNW36P7OjL8qxiFbapPEwWm4P659RdBfVZ3X3NfRPON29CroBhR//EaOfqYIE1kDUVs3Nh9zXsDUJ3fxx/ffc3GlkDV2Cfaq3hdR+3kcYjmBfdFZLDEhpxR4BPOJ+ENfjyaBwy3M/KEz4Z1kVEYr/OMR/3IwIvrXGLMGNaH5nsQ/MBu/WXX9T3GqmuPgwAsiuLY0L3xpdVEK3kehAaOtH9FxruZ/om+AwaOD12kqynM7A8B/BFablKf1b69B8DbATwuk0cqloOZnQ/gPe30zwGwGcDpALbOqsZCCCGEEGL2TL1hLfkMnlcB+C13/xu0bKAA4HoA989mkA0+9hIAv+3urwawv/3v0wCcmK6qEEIIIYQoxFuBA0o+g2clgJvb/5/6c8giAOlX2dkD62p3/2H7//vNbJG7X42WREAIIYQQQojp+AqA8+jeKwF8KZtBVuhyo5md4u7XAfghgHPM7E4Ad9Y8N1hC7d1EfZqMTqySzz3q00TaNtaXRVpTJnq9z7pbLivSsTGRxor7Z00QJ6LizDzQW7KuKNLCsl4qqvPtt3Vfs44NCDxQkxYwGvNIC8tkgkNE7WJYUxVprLisSC/LerdoXvA8yOhed+6g68ScjGBt4n1PCRLRulm3sZpkx7bu6yhYBM/daO7wXKkEoUhoTyM9O5cdBnlIbLXjnPfqIBHPr0DPeAJ5Tl8V6IJZi8i6yChoAa/rSOuZ6S/u96gsXsPR+szYCGSCVzB7OShM8AKI116k1eUxj7T0rImO9hgOFBNtMQcT8Xt4nk4GdhcM7ykbf1lNw2047l6VJJMZjS2vmzDoBKWJIgdkvuN5vCLtcNd+EARrGBTN+PN+CX8I4N/M7PcBrDSzHwPYjtZf61NkD6yvBXBk+//nAfgAgEkAr8jXVQghhBBCFDGEXgKmcPdfmtmjADwawPFoyQOuds/rFVKSAHf/tLt/pf3/q939fu5+LIDvzb7a3ZjZGjP7mJntMrMNZvb8jp+db2Ybzeyj7ZBeQgghhBALEB9moyt4i2+5+0fd/ZuzOawCs3BrxbQPkD8BkAjIPSPvREt0ewyAhwH4lJld2773aLR8wP4JgBcAuHiOZQkhhBBCDCcNOXxmMbOb6tK4+0mZvIoPrFN1mdPDZivQ8sf1YHffCeBrZvYJAGcBuKSd/3jHRwghhBBi4eFD6Yf13gBuBHAZgKvnktFcD6yBp+ZZcTKAQ+5+Q8e9awE83t2vN7PvA9gA4OtoRUeYHZFTYRbvlxpIsBA+ggX+kXh/ggxaMr89ZQzFOLhA5AicjVAiY7OKI/CgT7kPxwJDEO73qJ3smD9yIs/3MoZQbJwRCey5XZFBB7chmicVZ+ZROxOOwHmMozpzgAbuPwDYz0ZWNG8zhhfRfKsEzggsQe77QLrxq0HmXP7R9UlCqxOagyu2VpPci/uHjMtwR5Avj19k3MJ7SNSnR9J1YLxSIWonB+UI1gjX+R7BHLzj9u5rNl6J1nmlmETggMjQiPPOGAtmAhlEROumDl4jkWFPBi47MlLjdkb15XuZgCXR+PGazQRU+eEPu6+jvYrHL9ov2Fg32jvZECpMM16fhtsZfVdX9tegT7v2UxldzYF7Ang+gBe2P5cB+Cd3v3nGpwKybq36xSQAMgHGNrR3fHc/z92PcvdnunvCJFQIIYQQQjQBd9/s7v+/uz8KwH9F6zfxr5jZ/zazdbPJa8ZXiWZ2M6Z/izonOUCbnai+RliF6quPaTGzy9HqBKxZNdcXxkIIIYQQd7N+/XqYWecr8ivd/ax5r8gQewlocz1afldPAPAUtPwars8+XHfCe0F5vVLcAGDCzH7F3X/SvvdQANdlM2hPmrMA4JEPWDVXiYIQQgghxF2sW7cOmzdvTjjx7TfelKhVs8LMHgTgbADPRevQejmAl7r7rLQWMx5Y3f3LpRXM4O67zOxKABea2UvR8hLwDACPK8rQrFvTcnugSWPNCzsiBnLOpjMO2LeT2iHSW7KD84xGKII1qxldERM5+ea+yGjCovpy+aG+mNoeBQVgbWmk29xO5bP+bTIYz0yQh8P0+1CkSdtL7Yx0yxndLdcn0tFxHTO6YK5P1MeZuXIsBWO458OCRPeh69VBGtZ7BgE4QGUhcDSPW+g66uOfUZKfdl+zM32g2qcrgzS4J11zfYHqH5Ki+vH4rQ7ScPlRGs4nGmPSvrIGOdIGRgEbGNYhRvP/MOUdzUEei2hOZvZFrk/mmWgfZLh+0Zren3CWn9GwFrUhsEc4+qju65WBHvuOjLaay2ItfVA/1ohmgtRE+nrWo/KeHOWd2c+itd9UhuwNq5ldA2AFWofU/4yOzdrMxgAg695q0BpWoBV8YBmA2wF8EMA57YhaQgghhBACaL9g9aLPAHk4gPsDeCNaf/4/0PE5iPi395CBiz7dfQuAZw66HkIIIYQQTWbIXrACwKwMq2Zi4AdWIYQQQggxM+6xCq7JuPuGXuWVOrC2o1oddvcDHfcWARhz9+aIPw4e7NYrsj4UqOqBIj3jVtKeRrqi5aRzijSPrMmM0rB+a+fOahp+jv2BAtVfu/hPAJEvuoy/WdYerQp0RZwm1H8mVhnrU3cGziK4fyJ9Emuqbr+t+3pL0O4S/7dhO2vGAQj8PAZzkOdXBOuvxzK+M6k+27fWPxPVr0LkG5LXTaD5xWa6DjSPFf+ogf6N09x4ZTXJRtLn8dqL9OOs7Vwb6GdZG3jPwGdoRecawXMw6i/u5+ivaXwv2FNY153R8PEz0frkNRL1aUa3yfmkdPzBeuR2Zfwis1aX7QOAqjY30vdyvpFuM+OrtVJWgQYeAFYeQTeC4EKraQ/eemf3NdtlAIHf02AfquyLCR++kW6f50Wkf94ZrRuC50U0dzJa5gEw2L/uD5ashvULAB5B9x4B4HO9rY4QQgghhBDdZCUBDwHwLbp3NVouqIQQQgghRB8ZfjescyN7YN2Glq+WjR33jkH8NyshhBBCCNFLhlDD2kuykoB/AfABM3uwmS03s4egFQ/2I/2rmhBCCCGEmOLw4bLPIDGz3zWzfzSz/962f+r82buy+WTfsP4VgL9HSwawBMBeAO8H8JfZguaFAweAW35x93UkYM84EWbxNxsVAcAacroczQguPzICYyOihCFP5GKXH+Pr3UE8CW5m1DWcZtmapdVEbOS0d28lyb6t3fcimwAu3yaCCnGiyDE5Nz4yZKsjGodM0IQMPJ8mA8OUvST4Z4M0oGoQlDHU4jkZGcVwUIdobleeiwKW8L2fVZMcIkOeaM1uJKO5aKJuIqOryGDippu6r9mIKIKdl3M5APBzMoJd9ZNqmvvdt75+PH7LAgPHSgCCYJ4eoHax0SGQM/ZkuL9Co1aaO9HGkwl4kSGzTzPR6yneQ3itRUZOmcAsGcOximFW0IYxql8miEJk4FWZOwE8V3j8IuOyijFq0F8Zw+Hj7lVfP56nkREYB3HIBASJ+rTre6wBQa7Q9hIwZEZXZvYaAOcC+DiAlwM4x8ye7O5TVrAvQMsffy2pA6u77wXwB2Z2LlphZja5+5B1mxBCCCHE8DLot6UFnAPgNHe/AQDM7A0AvmZm/6Xt8ipwYRQz7YHVzE5095+1/8/+L1aatcpwd3ptIYQQQgghesmQGl0dBeCuONjufr6Z3QHgq2b222g1K8VMb1h/gLsDff+0nSmfhB1AwvmjEEIIIYQoZjiNrjYA+FUA35u64e7vMLPdAK5C7MQ7ZNoDq7uv7Ph/1jhrsBw63K1xibQr7NQ40q5UHEcHOrGM82vWRrG2BoDv7U4TFcVVLJHhRj6YuXrRb26VsqJEFc1QVVfKj0XyN+7C5curZR082H0vrvPBGdNk+i9i4mB3u6J8LJN3NMhMxeF5oLdkPdfkZDUN6yIzDrz3073IQfymTd3XRwfBTFaQvmxzoKVkZ/6bOJAAgNtvp/ok9JZRH5P+dOeW7vGMuq8ytyPdK3+DsKYbAG65ufua9cdAddEefUw1DQcuiDTcvLgiHSk7hK+rC1Dti0iryBrkaKwyus2Mc3zeyycyeuzgZU5ln84EG+DALInXXplXY9F3FvcPBwwBqgFdwmAfvCZ+Xk3C64/XUVQ2j1Xm+zKqH+8zkc6V9cUZTXLwvVtpRyaIjijlUgC/hY4DKwC4+/vMbB+Av85mlPrqNrO3T3P/f2QLEkIIIYQQZThavyuVfAZWZ/e/c/e/m+ZnV7h7EHItJvtrxdkAXhncPwvAq7KFCSGEEEKIAnwoNax3YWbLAdwPQNffs9z9G5nnZzywmtlLptJ1/H+KkwDQ3wWFEEIIIUQ/GEINKwDAzF4I4B0A9gPo1HY4gOMzedS9YT2r/e/ijv9PFXAbgBelaiqEEEIIIYrx4X7D+lYAz3L3L5RmMOOB1d1/EwDM7I3u/trSQuYN925xN4vygZy4eoycIUQzhB1vR7/2kND8wO6qGH0f6cOjoAAZuIps9xHZgTCR/QbDRmLtJ7uugrgBlXtRl2aCHbBR06GE/RLnG7UzY9jGRmHjwVRaQmlif+LdjbeMY+soDRu0RIYMbEkUOhSvVLD7OjJ+4AGN0nCHZQyEbg8c87MxRmTIU3FeXp0Ym2/v7lOuzoGgeot2dhsRLUpsH4cPVxfA0i1bu65t9RHVB3nf6QyCMsVx9+y+jgyWeK5EQSd4/+Jnor0zM55sgBMZvDBR8Aom2jAqgQMSczuiskEk6lzJI2MkFkVmobZPBmuY2xVt5pl1fmBr93W0wUYGlp2EY8VzJ9r0aG5H+1llDiaCMURkvuM5cEdofJ34chkAwxY4oIP9aHkFKCZrL/0VMzu584aZ3b/tQ0sIIYQQQvSRKT+swxaatc3rALzNzNbWppyG7IH1nQD4V68d7ftCCCGEEKKf+FAfWG8A8HQAt5nZofbnsJmlVblZLwFHd8R9neKXAI7NFiSEEEIIIRYklwO4DMCH0W10lSZ7YL2pHff1ix33ngBgfUmhfePwYRzafrfmbHxx9QWyJxzP8z3WmQLAPpKphXIuksBkyspoOw8E0hrWvrKkKXSKTkSSpsxvZhW5ZdAXGX0sS7Mi3+oso4tkRuzbndOUxoHg4AvLgmAM4zTlIjkV3xsbq3YO34vGgTW049u3VdIsW073uPCogqxfjPRwrAGLhMsstoqiRTDB4BzY2q0jjfqCZa2ZNCzjjDTJPJ6RfDAhn63Mp4mN1bGqDs3WSppVP+/WtY4vLXN47vu7K8nDdyjoP95DIs1vSZCOzL4Y9btN1GfO+33J3hQFA+G2R2PO47ko2FMmJ6njJ3+lmog7MQr6wAEbtgRpbqV3TpGOlNPwmo3045nNnfX1Gb1xtDexZjujPY02c9bcR7rlrkmYMAKZJ4bVSwCAIwG83t2LVbjZ3e4CAFea2cUAbgRwXwAvbn+EEEIIIUQfmQocMKS8Hy1vU5eVZpA6sLr7x83sNAAvAfAUADcDON3dv11asBBCCCGESDLcbq0eDeBcM/srtNyi3oW7n5rJIP33JHe/GsDVs6qeEEIIIYSYM46hlgS8t/0pJn1gNbOHAfgNAGsB3OVUzd1fP5cKCCGEEEKIGob4Dau7XzrXPFIHVjP77wD+AcDnAZwB4DMATgPw8blWoJccOtStCWcH7UBVHx7pxSs+0ROO8KM0bLjABhxAzql9xn8xa8/ZSCEyuuJnorLZECtjFBbVNzLiYFZSHSMjMDZ8iuq8iQIG98r/c8aQjeuX8WEdtYH7OcpnCY1x5NS+aiPR3RkHg87hucNtAoAly8liKTTeSkywhDN6No4qjBtQa4wX2W/wOHBdgGrTS+cblxWtmSPIEHFioloYtyOyOanEhqD9KzLs5PmVyTcyZFtB8ynqr8yX8rLl3YmiICI8XjwHgOo+w0ZW0brKjBU/F82v1au7r4/KTO6wEWREFHUg5zMRBIeg8vds7+7UaJlzUVH1gG6jsGjv5PkU9VfFcC0MxsATNQiuwW0/GLy27GrY0dWfD4hh1bCa2dsBfMjdv9Fx73EAftfdX5XJI+uH9c8APMndfwfAnva/zwZQEBJECCGEEELMBh9uP6zPA3AN3fsOgOdnM8geWI9296+2/3/YzMbc/TMAnpYtSAghhBBCLEgc1TPneHBvWrIJbzGzE9v/vwHAM8zsN8BB5IUQQgghRF8Y4jesXwXwRrOW6Kb97wXt+ymyRldvBfBAAD8DcCGAfwawGMAr83XtP2bdmqleaUYjfVImDTvz3x9orLj8SAvLZUUOqLmtnE/GsXWUJpMPa7643UC1ndEC4mAMGQ1rlIbrHPVXCROUb6ThY/1nxqd21Abu50hHyvKtSMNXF5giGoeMPntie/eDy5ZXG8oavqisQ4e7M98VSPjYd3lmjZRorTMO4iMy64jHKvMFkvGJHkkemUgvyPOU52DUx3XPRGkizSPP04zcMuqLTBpuR6bfuX7RfsaEc4e/IxL765of3VBJUxLIJtPOKBhD3f6QCZyRGYfMvI3gPXfx4mpDJya6OyjamyqBDIIgCof29sj4oYe4D7WXgD8C8EkAvzSzDQCORytiavov9Vk/rJd0/P8zZnYPAIvdvXDaCSGEEEKI2TCsRlfufouZPRwtf6z3Qcuf/9XumV8JW0wrCTCzsek+aJka7556tSuEEEIIIfpLvyQBZrbGzD5mZrvMbIOZhcZQZna2mR0ys50dnydk6u7uh939m+7+0fa/sxIrzHTgPIiWF4DpPlM/F0IIIYQQfWRKElDySfBOtOySjgFwJoB3m9kp06T9d3ef7PhcFSUys2+b2XPMLBTmmdliM/tdM/tWpoIzSQLWZTIQQgghhBD9px8GVGa2AsCzADy4LfX8mpl9AsBZAM6bQ9YvQsvu6d1m9h8AfgxgB4CVAE4G8HAAXwRwdiazaQ+s7r5hDpUcCIcPd4vPMwYlGaOr2b20nrn8ujQlRgEAKiPJMROidmYMoTJO0Lk+0TMZo5gMbNwWGcXUtSvjzD9yeJ4xnOH5FZWVCbSQMQ7kvCNjByaThsvKGBFFhiBsdBU5o+e5Exn7sHFPVB8un41QgPr+iow0Qe8For2AhVEZo5MMUT67qC+iOmfmINc580xmzWYCs0TGWnVE/cdjHo0Nl5UxguQ00dzmsiJxXLhP1/B/r68vK7MXRPsXr8fIgCoyJO0kmgNcdpQms6dwmkwwhlLD18W7uwMZRGVFe8igcfRNw3oygEPu3mn1dy2Ax0+T/j+Z2SYAWwBcDuAt7l4ZVXf/EYBnm9mxAH4bwEPQipZ6J4DLAJzl7rdnKzmb0KxPb1eeQ7O+MJuHEEIIIYSYd9aaWafj/ovc/aL2/ycBbKP029B6E8p8BcCDAWwAcAqAD6MlEX3LdAW7+0a0DrZzImU0ZWbnA3hPO/1zAGwGcDqArXOtgBBCCCGEqGFuka42ufsjOz4XdeS8EwAFfsYqtP58310F95vcfX3bgOoHaP3J/9l9anEXWSv/lwD4bXd/NYD97X+fBuDEflVMCCGEEELcTZ+8BNwAYMLMfqXj3kMBXJeokqPjr+79JCsJWO3uP2z/f7+ZLXL3q81sOn3DQDhwALj11ruvS7U0JVrFSCeTcRzNeWfyyQREYF1RpEljbVaUb6YvMrrSjBa2rmwAWBLorhguP+PYmrVQkaP+jP4t0rvVkZkXkf6T65NpF1+Xzm0uK5pfmbnDeWf0jVE+e6jOO7ZX0/A8zejhuF2Z4AKsM42I1hrXL9JkZvTXPHdLNL+ZQCMZZ/4RmT24bt4CwMSW7utIh8hjU9KuzLrPOMKPxq5S9pZqmsx3BNc52id5vkd7XN38inSvnE9Uv0zggIxNRUl9ojSZdVTyndVv+hU4wN13mdmVAC40s5cCeBiAZwB4HKc1szMA/Ie732ZmDwDwOgAf7X2tqmTfsN7Y4d7ghwDOMbOz0BLOCiGEEEKIPnPYyz4JXgFgGYDbAXwQwDnufp2ZHd/2tXp8O90TAXzfzHYB+DSAKwG8ebpMzeylZnbcXNo8RfYN62sBHNn+/18AuAItke4relEJIYQQQggxPY7+uLUCAHffAuCZwf2fo3Xem7p+DYDXzCLrRwF4nZndCeBTaB1yv+Hus/Z3kA3N+umO/38LwP1mW5AQQgghhCikT5KAfuLuLwMAM3sIgCej5U3g/mb2f9A6vH7W3Tdl8qqVBJjZoo7//2czO7Xjk3aLJYQQQgghFh7u/gN3/1t3PxUtv6//ipZv1u+b2TfN7PS6PGY8cJrZOWiJbs9q3/o8gE1oWYQtB/BnAC4ubkGPYaOrjKPyyEigxJl/xjF/xkF8hsiwp87QKHIkzUSGIBmn0CXGZRkiYTwb12SMV5glgQFHSZCHjIFQxgglQ2Tsw0YUUVnch4uo7RnH89HczvRXr4wXM/Bz2wKjq7o1knFCXmrIWWcUCVTHOLOOony4zssC4xpeAxkn/Fw/nn9AzqiP101mbpcayfDeFNWZ+4v3yugZzjcTdCWa2xmDpcw64vHjfRKorvXtwRrh8cuskUwbNtH7s2jvzHwXZgxoeY9blgiQEM2vuu+RQdEvScB84u7bAHyk/YGZPSrzXN028EIAL++43ufux7cLeBiAd6NBB1YhhBBCiFHE8wZUQ4W7fzuTru7Aus7dr+24/lHH/68FcNJsKyaEEEIIIWbPKLxhLaXuwDppZivcfRcAuPuvd/xsOYAVfauZEEIIIYQA0F8vAcNA3YH1hwBOA/Cx4GdPQi4Kwrxx4ACwcePd19HAZrSdrN/KOJuO4OdYrwdU9T4ZrWmkbeOyuJ2ZAAkI9EljCT1vpr/q6gfk9LL82P6Ezo81TRkyessMmXmSccB+OGgn93ukBczo6JgSTXI05hktOOvEMmVl9IIlwSsy+tRSzTvfK5lLQG6NVIICBH0R6TI7yWivDwR5ZOYXtz0q60BB0IlIc5hxls9EOs06Mus8c9CI8snUJ6Ov5/6K8uWx4L0zmjccBCCaA1u31qfhNmTmYCbNroQ2PfrejfT9A2cIvQT0kroh+R8A3mVmzzRrfR2a2ZiZ/Q6Ad7R/LoQQQggh+kwfAwfMO2Y2bmavz6af8fdCd/+Qmd0LwD8BWGxmmwCsBbAPwIXu/sE51VYIIYQQQtTiPnKSgAkA5wO4MJt4Rtz9783svQAei9ZhdTOAf2+7JRBCCCGEEKKCmb1vhh/Pypd/NtLVdgCfm03GQgghhBCidwyhhvX5aLk/3RL8bHw2GY1UpKqDB4EtHV0SvTrPOAzOOGrOOBVmgXr0DOe9PxDLl4jRM0ZOTGTwwoY9GYOSSFCfcZyeSZMxOqk1QEsYOWWMwiJKjKyiZzJjzs+VOldnMmPO+WQcgWeMyzLGWxmjvpJgB5FxEhMZYmTWVomRWsYAM5w7iUAG+2rmYNQmNurL9FcEz6/MHpwJAhPBe3Bm/vPcyexDmTZkyKy1jAFaxugqgr8fd+2M081ENFZsBJkZh5JAAkB1LEoDSnTREH9IQyoJ+AGAz7n7J/gHZrYUwHnZjEbqwCqEEEIIMao01YBqBi7B9Ab+BwC8IZuRDqxCCCGEEA1nGP2wuvs7Z/jZIejAKoQQQggxQgynJKBnjNSB9dBhYPv2u68jfUuJs+konxK9W8bp+N5Ie0fXixP5ZHSSzJ5CZ+asJYvWE987mOi/iYSGKXKWz/3OjsozGsiM/jkaT55PkTYqo5fNaDtLdMolWs9orrO2LaOPK91oM2PD97YFc7nuL2nRdOPhi5rA3W5BmgN0HdlNLOJ8I+0p3Yv2goNUSS4bqFo6cDYTCQ1rpOfNBIJg2Il7lhKNaKSvrNNsR+XwXhAFJMjogvleJqBEtNZ20HpkZ/5AdWyiwAGcZg9pYaO9gPsvIhNcI7OHZPq07pmI6Huka+9uiIYVGEqjq54xUgdWIYQQQohRZEiNrnpGE4OPCSGEEEIIcRd6wyqEEEIIMQQMoZeAnqEDqxBCCCFEw3FIwzoyOIBOzbpFWo+MsVTCUIDnTCZcQzTP+JeljDyFjSrC59gJeaLd0S9u3BUZw5RIZ8L1i9LwvQOJzlgSpPFE4AeGnbRHRk6LyEgh40Q+Y7ARlVViQJXJhw0bIiMKdvIdGXBkys44/mYjDzYqAnKbFD8W2a7wPZ7vUTkl3w3RMxWjpsRzmXUUze2MoRhTKSsyOmSjnSAfHodM2buDweL9lA3SgGqdozWTmYN1RPmycVRkLMXGZBnjsoxBYdSmTDCGQ7Suozpz3pymNLABr/PI+I0JvyMSxsTczxkDr2WB0VwjkYZ1MJjZi8zsO2a23cxuMbO3mtlEx88fY2bXm9mPzOyRg6qnEEIIIUQTOHy47DMKDNLoajmAVwFYC+AxAJ4I4DUdP38TgKcCeDqAN8935YQQQgghmoKjpWEt+YwCA5MEuPu7Oy5/YWZXAPjNjnvj7Y9hxKQLQgghhBCzYoFLApp0EDwVwHUd1+cD+BRa0q6zMxk4ujVUpa+PS5x8l+qgWUIYOR1nPVfkCLyOjMPzKF++F/UpS6GiNKx3ywQXiHRrGc1v3YIOf1yj3YryzTgCZ20skNN/ss611rF1UL/oHl9HTr9LggBkNtGonfxctI4yenFOE2lYOU0lmEXwTEYPmtFnc5qonVxWVB9+LqM7z+wpmTaU7DvRMxntcAbeH8I5SJ0RrSPWU3KSaA1XiknM7Wi/4Lwz2s4oGAm3K9J2VoLUJDSsmXXOdc4Eiyg9c2V0y3wvCpAwOdl93Qut83wgo6sGYGYvBvBIAC+duufuXwFwv4FVSgghhBBCNIJ507Ca2ZlmtrP9+UzH/WcC+BsAZ7j7pvmqjxBCCCHE0OAyupoX3P0Kd59sf84AADN7EoD3Aniau/+gJF8zu9zMdpnZrm29rLAQQgghFjzr16/H1Dmj/bl8UHWR0dUAMLP/AuAKAL/j7leX5uPuZwE4CwCONRuRYRFCCCFEE1i3bh02b968YtD1cJeGdVC8DsARAD5tdpdZwFen3r6WwEZXpY3LGDZkDI0yVByBB2kyhk98jw0tojnOtjUZo4pM8IPIyCNjUMWGIJl1uTu4x33BmvvMWEUifHZ+HRk/RMYODAc24HyBquFTZDjgdC/lsJvyjQys+F7GoCQyFskYX2Tg+RXZhEVGVrMlmm8lBkwZo6toT+G5HBmXZX4jz+wpdWs2s/aiuvTqL4+ZfEqMtyIjQ2YfXS9JBOSI+ivjdJ+DcnBwEqAaoCTaL3itRWs2Y0zJcDszRlcZA99oa4jWFpP503Zm78wEeNkdfbk0gFH5834Jg3Rr9Zv1qYQQQgghhEMHViGEEEII0XAW8HlVB1YhhBBCiGFAB9YRonMwI8lOndYTqGqjWNME5DRekQatLp/MZIw0cnVlZRyMz6eWO9KwstQoSsN1jHS3dU7Ro3wrBAMxzk7uAyEWOwKPdK6RXophLWykSeN7kX6W07C+K9K18TORPpW1gPsjHS5dZ7RtURoe8z1BmhK5LOcbzX+eX9E6q5tv0b2MQ/1ob+K5m5ElRvXh5zL7YmZ/yOxfFYf/iWcywVvCgBKJzOv24GjvNErEe0PElmCwuN+XBs9xmuj7iDXcpd9PXD6nidZZ5nskM7dLbBii/WspNYJ1wtG9SOe6kP/03lRG7sAqhBBCCDFqOPSGVQghhBBCNBwdWIUQQgghRGPRG9YRwpHTdHWS0bBmfKNGZNJkyioh5Wu05hqo1ifKl/uwRLsLVMcumpwZXRPrsDLtZEr1g2OsKw0K43ax7hWo6kgj3Svrt6I0rMNKaVjpOtPnoR9Kui5wAxmS0bmW+Agt1Y9zf2X2i0irmCk/0u/OFzyemXWe6a8M0XrkPs1o3jN1zuzbGe11XV2AnJ43o7XO6MUzeznPL96aMvrUzPhGezuP8ZJEPlFD95P/1KisSl8EPlcjrXAT0IFVCCGEEEI0Gh1YhRBCCCFEY1nokoDSiKJCCCGEEELMC3rDKoQQQggxBCzkN6wL7sCaceDNwvyokzJOjkuCApRSJ3TPGDBlhPqR4UyvJlHGqIOF+IG/51ojgGisMmOecSLP/RWNCxtaLIkc8yf+9rGbOix6hA2xDlIFo/mfCc7AZIycMoYz0fziMc4EzsgYEGYMcjJBJjjfzDqP+pTbFfUFG4Jk5nIqUEaibB6/yHAsE0SB2x61gcc8Wo8Z457M3OX+KQmgktkXM8Y/JQZpWbhdmTXCZIzWInh/iPork3dmrWWM1JbTdWRglZk7881ClwQsuAOrEEIIIcQwogOrEEIIIYRoNDqwCiGEEEKIxiJJwAiRGcyMLiWjgal7Bom6AGVO7DN6Qb6ONDolTqsjShxFs141IqMRjerMWsBM/VhTFWmsWLOXmUvRAuP6RX0xkZg8GWf5rFnNODzPOPjPaO943mb0slF9uH9KNax1c7lEu5jNJzNWTNQXmedK2sFjk3EfE81bXiOZfTEqi/OO1lFmT8noSDNlMbyflgZLKUkTkdnjeO5E3wl1thnRGi75Hol01Vy/zP4ajXlm7m6n68gWoqnowCqEEEIIIRrLQn/DKj+sQgghhBCi0egNqxBCCCHEELCQ37DqwCqEEEIIMQTowDoiOHIGI7MlErTzvcgpeoYSR8iRwL/OqCPjwDt0PJ/Ih4nGoMRwplSvUme4UGrwkmkDzwMOdACUOQfPLNSMAVWm7JIxj/LtlWFKxjCL00T9XmdYERl5ZIwDM5QY3ETzqyQoQaYNXFa0n2XGbytdR8Y1maArGUfzGeOtTNAJZlciTUngmKj/9tB1FIwh892SMY7K7Pd1e2NmX4zIBK/gNNGYl3y/Z4w9dxfkOwgWuoZ1pA6sQgghhBCjig6sQgghhBCisegNqxBCCCGEaDw6sI4Qh6f5/xQletCM8+soDWtyMpq0jMYwk4bzjXQ8rFeK8s043i4JtBD1RalOsy5NRm+c6YsMPOYlQR6AnNaO5240lzMBERjun8wayTj5jtJk9LI8FpHD8wx1GtZorLi/Mu3M6PUy+ZTCeWeCOvAYR2uR88msxWgvyOhKuQ2lDvUzOtdejEWkma6rC5ALIsK61mhsMus8M148NiXfhf2yPYjyjtqU+W7O6OKbyjDVtdfID6sQQgghhGg0I/eGVQghhBBi1JCGVQghhBBCNB4dWIUQQgghRGPRG9YRggczI+IuNa7JUGLgUgobopQ4Ic+I0yODlxKH/xnjmgxRnescnGcclWcMs6I0nDc7Bgeqi66fQvI6I4XM5hcZgmQcp2fIGG9l8s44tWfn4BnjqAw8L0oc9QO5vaAkkEGJ4/mMoVZp//G+WGp0mJm7HAQgmie9WH8Zx/MZQ9PoC5nzLq1vSX9l9jwmE5Ags6eUwmWVGmn2qj69RgdWIYQQQgjRWPSGVQghhBBCNB4dWIUQQgghRKPRgXVEcNTrIDMO9ZmM4/RSB/FMZkCiNtY52s7ocaI2ZJyFs2aJHV1n4TZk+ivS0dWNTaSf6pU+j9sQ9Sk7547GJnqOyWh+uR2ZYBasMczolks3Em5Dpk0Z7XBJgItSfWOdfhzIOcvnMc8EPsmsx6hdfI/7PVojmXwz/ZUJCsD5lO6LfC/a7znvjE4zE2iE11oUXCCjz85815QE+4jKrrO7iPZ27r9oTmb2RW5DJhhDBM/dzBoZqYPQCKNxEkIIIYRoONKwCiGEEEKIxqMDqxBCCCGEaCx6wyqEEEIIIRqPDqwjgmP2ToIzxi2ZAAAZA4lM+RmH3RkH/xmH7Cw8zxgtZAIQ7AzSsNFJBOcd1ZnLisaGDQ4yY5wxSMj0VwZuQ6mTdH4uY4yUmZOZDZHbXhLAYbrn6sgYbERjw/3F15GhUcYorGQPyczbqG8yY5NJU2LgyG0vXeclxqhRf/VqPfJzmS/FzBrOOLBnw6yM4Wsm8EmGqL9KDkOZ/ioxAs7sKb3az6L51dSDYVPrNR+M1IFVCCGEEGIUkSRACCGEEEI0noV8YO1nGHMhhBBCCCHmzEi9YT2MWIfWSYlD+Og3Gi6nVIfIZHRFkf6nRJO2O/FMxik0tz1Kw+0q0bQCOcfpDDu7LnFuHpUdUfIbYGbMo4XK8yDjyJ3nbfRMiYYvgvsw6hsuP9LhZhzql8D5RONbskYiMlrYzBqp0+EC1TpGe2Ld/Crdq7isqG+4XVFZGa16Zo2UfMGxNjfq40xwlIzOldtVOv8z/cX3ovlVV+fM3p4Z81LtKd+L2pAJ/JAJxtBEJAkQQgghhBCNRwdWIYQQQgjRaHRgFUIIIYQQjUWSACGEEEII0Xh0YB0h6sTTGeE5G4tkBOKRkQ4blGRE95nJmAmOUGK0UGoIknEEzm1nYxagOhmjycntyBhasCFIxmAimkclDs+j+nGfljq25nZE85TLKglCERkqZgyWeP5n2hmtkVKH8HVkHLuXrJHMvM20KXLMz2MerceSPSUTICRjOFbizL90jWTGhonaVWJAy88sD9Jk9gtue+m+kzEOZCJjvDrju8zenjEijeZtZswzZXEb5tOQs9/oDasQQgghhGg8C/nAKj+sQgghhBCi0egNqxBCCCHEELCQ37CO3IG1U68S6eoympxeTYiMpipTVqbOdbq10lfpGSfkPIkyzswzwRiiNKx9KtHIRdpAzrc0EERGO1zi/D0iypupG5uMvisa80w+dc8Auf7iNpQGcCjRppfolqP5lSGj4WOtYjQ2maAcdUTjUKoRrcs7o2cv3b8y2uGSsnhsojbwOJR+2XKdo7JKvkci6vbgXsytqJwsmUAGPObReGb24CYiDasQQgghhGg8OrAKIYQQQojGojesQgghhBCi8ejAKoQQQgghGo0OrCOCI3bg30mJ8+tSo5iMY+sS46hIsF4nls8IzzP1yzhzjoT5mbLYmCATaCHjsDtjnJQJSFAi+M84C8+MTcZILTNPM8ZlmTZkxpyJ1iYbPkXzIjM2mbJ6QcbxfCa4QGadZ/LJPJcJlFHihD9TdqasjPFiZn5FZWeMe+rangmikEkT7VV1dQGqRnylhsL9+j4qOUSUGkKVrKNM+b0yJhP9ZaQOrEIIIYQQo4g0rEIIIYQQovHowCqEEEIIIRqL3rCOEIfRrYMsdWBf90xEqSatF0EBgJyOrq7sUi0lT6IoTUY7XPdMVFakUWOtWGaSc5qMtrl07pTqA5mSfu/XZpdxNJ9Zj5k1ktEkR5To3Urqlym7tJ38XKS94zT9CpRR2hdMZt/JjHlmzWY00iXfERnNezQOJUFXor7oVaARpkRLn+mLKE1mP+N7mb096lN+LgrG0DlXxhPlzBc6sAohhBBCiEazkA+sjYhIZmZfNDM3s4mOe48xs+vN7Edm9shB1k8IIYQQYpBMSQJKPqPAwN+wmtmZ09TjTQCe2v7/uwCcNm+VEkIIIYRoGKNy+CxhoG9YzewIAOcD+LPgx+PtzwQacLAWQgghhBCDYdAHwTcDeDeAjcHPzgfwKbR8i5+dycxRLywvEXZnjFkywu5MPpERUeY3qjqjpoxD6og1dJ2ZMNuDe5voenWQJpN3pl3ch1xWVA7Pm1Kn1ZkxzxiU9Mq4gMm0s2RTKDWQyBh1lBidRM7yS5yilxp4MRmjw4wxXq8MHOuCC5SsRSAXzILLKjWOzazHEmf00f7FsGFnqXElG/tk1kiGaG/nsYkCGdTNr9IAJpOJfDLzNhNQouQ7PjK66kxzRPDzQSAvAQOirUv9dQB/BODe/HN3/wqA+813vYQQQgghmshCPrDOmyTAzM40s53tz2fQ0qX+kbvPycuPmV1uZrvMbNe+3lRVCCGEEAIAsH79ekydM9qfywdVFxldzQPufgWAKwDAzFYD2ALgw2YG3O3m7BYze467f3UW+Z4F4CwAWGHmvayzEEIIIRY269atw+bNm1cMuh6SBAyGbQCO67i+D4CrATwCwB2lmS478kj4iSfOmOZAQb4W3FuUeI5Pz5l8MvlGzJfGZv369Vi3bt2MaY4M7p3Qn+qMBKVj3q+yMr/1HSoou2TtAdV1s6QwH+amxFzu1dj0qs5NYtmgK9Anjhp0BWZJtCc3RXM5LKys+fn69esb8zJsIR9YzX3w42BmJwJYD2DRXCUCor+Y2S53H/hvmkLMFc1lMQpoHi8czMxL3zIeBL7j7kPt037QXgIAAO7+M8QvIIUQQgghBBb2G9ZGRLoSQgghhBBiOhrxhlUMFVcOugJC9AjNZTEKaB4vHD53GFhb+Cy7Qx86GqFhFUIIIYQQYjokCRBCCCGEEI1GB1YhhBBCCNFodGBdwJjZP5nZL81su5ndYGYvbd8/0cy8IzLZTjN7XcdzF5jZAfr5SR0/f6qZbTCzqzvvCzEIzGyNmX2sHaFmg5k9v+Nn55vZRjP7qJmNortUMUKY2VVmtrdj3/1xx880l8VIowPrwuYtAE5091UAng7gjWb2iI6fr3b3yfbnr+nZD3f8bNLdb+r42esBPArAqwG8oa8tEKKedwLYD+AYAGcCeLeZnWJmvwLg0WjFtfgugBcMropCpDm3Y9+9PwBoLouFgA6sCxh3v87d901dtj/37UHWE2iF2536V4iBYGYrADwLwOvcfae7fw3AJ9AK5zyOlv/n8Y6PEMOI5rIYeXRgXeCY2bvMbDeA6wH8EsCnO368wcxuMbP3mxm70niamW0xs+vM7Bz62ZsBfBvAPwC4oF91FyLByQAOufsNHfeuBXCKu18P4PsANqAVFvryAdRPiNnyFjPbZGZfN7MnAIDmslgIyK2VgJmNA3gsgCcA+Fu0Qp8/AMD3AByJ1p9UV7r76e30DwKwFcBtAB4D4F8A/LG7f3Ceqy7EjJjZbwD4qLsf23Hv9wGc6e5PGFjFhCjAzB4D4EdoSVyeC+AdAB7m7jcOtGJCzAN6wyrg7ofafyq9N4Bz2n86vcbdD7r7bQDOBXCama1qp/+Ru9/afu4bAP4RwLMH1wIhpmUngFV0bxWAHQOoixBzwt2/5e473H2fu18K4OsAnjzoegkxH+jAKjqZQKxhnXoNb9M85zP8TIhBcgOAibZRyhQPBXDdgOojRC/R3isWDDqwLlDM7Ggze66ZTZrZuJmdDuB5AL5oZo8xs/ub2ZiZHQng7QCucvdt7WefYWb3sBaPBvBKAB8fXGuEiHH3XWiFrrzQzFaY2a8DeAak8RNDhpmtNrPTzWypmU2Y2ZkATgXwuUHXTYj5QAfWhYsDOAfALQDuBPB3AF7l7h8HcBKAz6L1Z9MfAtiH1mF2iucC+Gn755cB+Nv2n6eEaCKvALAMwO0APoiW7EVvWMWwsQjAGwHcgVZc+D8E8Ex3//GMTwkxIsjoSgghhBBCNBq9YRVCCCGEEI1GB1YhhBBCCNFodGAVQgghhBCNRgdWIYQQQgjRaHRgFUIIIYQQjUYHViGEEEII0Wh0YBVCCCGEEI1GB1YhRF8wsxPNzM1sog957zSzk3qdb68xszPN7PM9zO9sM/tar/ITQohhQQdWIcS0tMP3fsvMdpnZ7e3/v8LM5i1+uZldZWYv7bzn7pPuftMs83mCmd3S29rNjLtf4e6nddTBzex+81kHIYQYBXRgFUKEmNmfAPhHAP8fgGMBHAPg5QB+HcDiAVZNCCHEAkMHViFEBTM7AsCFAF7h7v/s7ju8xXfd/Ux339dO9xQz+66ZbTezm83sghnyfLGZ/V8z22FmN5nZy+jnzzCz77XzutHMnmRmbwLwGwDe0ZYBvKOd9q43lWa2zMz+3sw2mNk2M/uamS2bZXsf2H6Tu9XMrjOzp3f87BIze6eZfapd92+Z2X07fn6amf24Xfa7zOzLU2+EO/+Eb2ZfaT9ybbst/y36Ez+17Ugz+0S7T64GcF9K+wAz+4KZbWnX4Xdn024hhBgWdGAVQkQ8FsASAB+vSbcLwAsBrAbwFADnmNkzp0l7O4CnAlgF4MUA/sHMHg4AZvZoAJcB+NN2XqcC+Jm7/xWArwI4ty0DODfI9+8APALA4wCsAfBnAA5nGtkuexGAfwPweQBHA/hDAFeY2f07kj0PwBsA3APATwG8qf3sWgD/DOAvABwJ4MftelRw91Pb/31ouy0fTlTvnQD2ArgngJe0P1P1XgHgCwA+0K738wC8y8xOSeQrhBBDhQ6sQoiItQA2ufvBqRtm9o32G8g9ZnYqALj7Ve7+A3c/7O7fB/BBAI+PMnT3T7n7je03tV9G64D4G+0f/x6A97n7F9p5/cLdr6+rpJmNoXWI+6P2M4fc/RtTb4CT/BqASQB/4+773f2LAD6J1gFwiivd/ep2f1wB4GHt+08GcJ27X9n+2dsBbJxF2dNiZuMAngXg9e6+y91/CODSjiRPRetQ/353P+ju/wHgXwA8uxflCyFEk9CBVQgRsRnA2k4Lf3d/nLuvbv9sDADM7DFm9iUzu8PMtqGlcV0bZWhmZ5jZN9t/vt6K1mFvKu19ANxYUM+1AJYWPjvFcQBudvfOt7IbANyr47rzELobrQPuXc9O/cDdHUCvDLuOAjDRmX+7XlOcAOAx7V8itrb79Ey09MZCCDFS6MAqhIj4dwD7ADyjJt0HAHwCwH3c/QgA/xNAxYOAmS1B6+3f3wE4pn3w/XRH2ptB+swOfIbyN6H1J/Ppns1wK4D7tN/WTnE8gF8knv0lgHtPXbS9J9x7+uQVdgFY3vF852HzDgAH0TrMd9ZripsBfNndV3d8Jt39nFmUL4QQQ4EOrEKICu6+FS3N5rvM7NlmNmlmY2b2MAArOpKuBLDF3fe2dajPnybLxWhpYu8AcNDMzgBwWsfPLwbwYjN7Yruce5nZA9o/uw1A6HO1/Vb0fQDeZmbHmdm4mT22fUAOMbOlnR8AV6N1cPwzM1tkZk8A8DQAH5oujw4+BeAhZvbM9tvoP8DMbzi5LdcCOMXMHtauywUdbTsE4EoAF5jZcjN7EIAXdTz7SQAnm9lZ7XovMrNHmdkDE/UWQoihQgdWIUSIu78VwB+jZcR0O1qHrfcA+HMA32gnewWAC81sB4DXA/jINHntAPDK9s/vROtg+4mOn1+NtiEWgG0AvozWn7yBlmutZ5vZnWb29iD71wD4AYBvA9gC4G8x/d52LwB76HMfAE8HcAZab2zfBeCFGQ2tu28C8BwAb0VLKvEgANeg9XY64gIAl7b/hP+77n4DWt4Y/jeAnwDgoADnoiU/2AjgEgDv7yh7B1qH/uei9ZZ4Y7vt0x7WhRBiWLGW5EoIIcRcacsKbgFwprt/adD1EUKIUUFvWIUQYg6Y2elmtrotQ/hLtHS53xxwtYQQYqTQgVUIIebGY9HyUrAJLe3rM919z2CrJIQQo4UkAUIIIYQQotHoDasQQgghhGg0OrAKIYQQQohGowOrEEIIIYRoNDqwCiGEEEKIRqMDqxBCCCGEaDQ6sAohhBBCiEbz/wC0Uu56Zk334QAAAABJRU5ErkJggg==\n",
          "text/plain": "<Figure size 864x388.8 with 2 Axes>"
         },
         "metadata": {
          "needs_background": "light"
         },
         "output_type": "display_data"
        }
       ]
      }
     },
     "8d14c40f31944f418419038adc6e106e": {
      "model_module": "@jupyter-widgets/controls",
      "model_module_version": "1.5.0",
      "model_name": "SelectionSliderModel",
      "state": {
       "_dom_classes": [],
       "_model_module": "@jupyter-widgets/controls",
       "_model_module_version": "1.5.0",
       "_model_name": "SelectionSliderModel",
       "_options_labels": [
        "5.85e+01 MeV MeV",
        "8.00e+01 MeV MeV",
        "1.09e+02 MeV MeV",
        "1.50e+02 MeV MeV",
        "2.05e+02 MeV MeV",
        "2.80e+02 MeV MeV",
        "3.83e+02 MeV MeV",
        "5.23e+02 MeV MeV",
        "7.16e+02 MeV MeV",
        "9.79e+02 MeV MeV",
        "1.34e+03 MeV MeV",
        "1.83e+03 MeV MeV",
        "2.50e+03 MeV MeV",
        "3.42e+03 MeV MeV",
        "4.68e+03 MeV MeV",
        "6.41e+03 MeV MeV",
        "8.76e+03 MeV MeV",
        "1.20e+04 MeV MeV",
        "1.64e+04 MeV MeV",
        "2.24e+04 MeV MeV",
        "3.06e+04 MeV MeV",
        "4.19e+04 MeV MeV",
        "5.73e+04 MeV MeV",
        "7.84e+04 MeV MeV",
        "1.07e+05 MeV MeV",
        "1.47e+05 MeV MeV",
        "2.01e+05 MeV MeV",
        "2.74e+05 MeV MeV",
        "3.75e+05 MeV MeV",
        "5.13e+05 MeV MeV"
       ],
       "_view_count": null,
       "_view_module": "@jupyter-widgets/controls",
       "_view_module_version": "1.5.0",
       "_view_name": "SelectionSliderView",
       "continuous_update": false,
       "description": "Select energy_true:",
       "description_tooltip": null,
       "disabled": false,
       "index": 0,
       "layout": "IPY_MODEL_e75bf1b70dfb40a595a036f1650afb0c",
       "orientation": "horizontal",
       "readout": true,
       "style": "IPY_MODEL_e71b4eb62050478b8a1e8bfefe585e3e"
      }
     },
     "8d35ffc150394f77a33389e82da83dc0": {
      "model_module": "@jupyter-widgets/base",
      "model_module_version": "1.2.0",
      "model_name": "LayoutModel",
      "state": {
       "_model_module": "@jupyter-widgets/base",
       "_model_module_version": "1.2.0",
       "_model_name": "LayoutModel",
       "_view_count": null,
       "_view_module": "@jupyter-widgets/base",
       "_view_module_version": "1.2.0",
       "_view_name": "LayoutView",
       "align_content": null,
       "align_items": null,
       "align_self": null,
       "border": null,
       "bottom": null,
       "display": null,
       "flex": null,
       "flex_flow": null,
       "grid_area": null,
       "grid_auto_columns": null,
       "grid_auto_flow": null,
       "grid_auto_rows": null,
       "grid_column": null,
       "grid_gap": null,
       "grid_row": null,
       "grid_template_areas": null,
       "grid_template_columns": null,
       "grid_template_rows": null,
       "height": null,
       "justify_content": null,
       "justify_items": null,
       "left": null,
       "margin": null,
       "max_height": null,
       "max_width": null,
       "min_height": null,
       "min_width": null,
       "object_fit": null,
       "object_position": null,
       "order": null,
       "overflow": null,
       "overflow_x": null,
       "overflow_y": null,
       "padding": null,
       "right": null,
       "top": null,
       "visibility": null,
       "width": null
      }
     },
     "a56739758eb74d51bd92362f93bb28c2": {
      "model_module": "@jupyter-widgets/controls",
      "model_module_version": "1.5.0",
      "model_name": "RadioButtonsModel",
      "state": {
       "_dom_classes": [],
       "_model_module": "@jupyter-widgets/controls",
       "_model_module_version": "1.5.0",
       "_model_name": "RadioButtonsModel",
       "_options_labels": [
        "linear",
        "sqrt",
        "log"
       ],
       "_view_count": null,
       "_view_module": "@jupyter-widgets/controls",
       "_view_module_version": "1.5.0",
       "_view_name": "RadioButtonsView",
       "description": "Select stretch:",
       "description_tooltip": null,
       "disabled": false,
       "index": 0,
       "layout": "IPY_MODEL_39a941edd13640dd94b239e23b1f192b",
       "style": "IPY_MODEL_1b25b73212ac4d31970d2da1dfb5c8d9"
      }
     },
     "acfaa218ca1a46469c87e22542ea6f5d": {
      "model_module": "@jupyter-widgets/base",
      "model_module_version": "1.2.0",
      "model_name": "LayoutModel",
      "state": {
       "_model_module": "@jupyter-widgets/base",
       "_model_module_version": "1.2.0",
       "_model_name": "LayoutModel",
       "_view_count": null,
       "_view_module": "@jupyter-widgets/base",
       "_view_module_version": "1.2.0",
       "_view_name": "LayoutView",
       "align_content": null,
       "align_items": null,
       "align_self": null,
       "border": null,
       "bottom": null,
       "display": null,
       "flex": null,
       "flex_flow": null,
       "grid_area": null,
       "grid_auto_columns": null,
       "grid_auto_flow": null,
       "grid_auto_rows": null,
       "grid_column": null,
       "grid_gap": null,
       "grid_row": null,
       "grid_template_areas": null,
       "grid_template_columns": null,
       "grid_template_rows": null,
       "height": null,
       "justify_content": null,
       "justify_items": null,
       "left": null,
       "margin": null,
       "max_height": null,
       "max_width": null,
       "min_height": null,
       "min_width": null,
       "object_fit": null,
       "object_position": null,
       "order": null,
       "overflow": null,
       "overflow_x": null,
       "overflow_y": null,
       "padding": null,
       "right": null,
       "top": null,
       "visibility": null,
       "width": null
      }
     },
     "b0d11c572a8a429c8d83b5cdfbbe9789": {
      "model_module": "@jupyter-widgets/controls",
      "model_module_version": "1.5.0",
      "model_name": "DescriptionStyleModel",
      "state": {
       "_model_module": "@jupyter-widgets/controls",
       "_model_module_version": "1.5.0",
       "_model_name": "DescriptionStyleModel",
       "_view_count": null,
       "_view_module": "@jupyter-widgets/base",
       "_view_module_version": "1.2.0",
       "_view_name": "StyleView",
       "description_width": "initial"
      }
     },
     "c92b876e29cc4b02ab6bb4f5425e7a4e": {
      "model_module": "@jupyter-widgets/controls",
      "model_module_version": "1.5.0",
      "model_name": "SelectionSliderModel",
      "state": {
       "_dom_classes": [],
       "_model_module": "@jupyter-widgets/controls",
       "_model_module_version": "1.5.0",
       "_model_name": "SelectionSliderModel",
       "_options_labels": [
        "5.85e+01 MeV MeV",
        "8.00e+01 MeV MeV",
        "1.09e+02 MeV MeV",
        "1.50e+02 MeV MeV",
        "2.05e+02 MeV MeV",
        "2.80e+02 MeV MeV",
        "3.83e+02 MeV MeV",
        "5.23e+02 MeV MeV",
        "7.16e+02 MeV MeV",
        "9.79e+02 MeV MeV",
        "1.34e+03 MeV MeV",
        "1.83e+03 MeV MeV",
        "2.50e+03 MeV MeV",
        "3.42e+03 MeV MeV",
        "4.68e+03 MeV MeV",
        "6.41e+03 MeV MeV",
        "8.76e+03 MeV MeV",
        "1.20e+04 MeV MeV",
        "1.64e+04 MeV MeV",
        "2.24e+04 MeV MeV",
        "3.06e+04 MeV MeV",
        "4.19e+04 MeV MeV",
        "5.73e+04 MeV MeV",
        "7.84e+04 MeV MeV",
        "1.07e+05 MeV MeV",
        "1.47e+05 MeV MeV",
        "2.01e+05 MeV MeV",
        "2.74e+05 MeV MeV",
        "3.75e+05 MeV MeV",
        "5.13e+05 MeV MeV"
       ],
       "_view_count": null,
       "_view_module": "@jupyter-widgets/controls",
       "_view_module_version": "1.5.0",
       "_view_name": "SelectionSliderView",
       "continuous_update": false,
       "description": "Select energy_true:",
       "description_tooltip": null,
       "disabled": false,
       "index": 0,
       "layout": "IPY_MODEL_3b464810d0864543a7681504fdad0b03",
       "orientation": "horizontal",
       "readout": true,
       "style": "IPY_MODEL_01bb894f6cb14cc1ab3b2893f25cd338"
      }
     },
     "d2245665ed304b76b7cd106c9e47940e": {
      "model_module": "@jupyter-widgets/base",
      "model_module_version": "1.2.0",
      "model_name": "LayoutModel",
      "state": {
       "_model_module": "@jupyter-widgets/base",
       "_model_module_version": "1.2.0",
       "_model_name": "LayoutModel",
       "_view_count": null,
       "_view_module": "@jupyter-widgets/base",
       "_view_module_version": "1.2.0",
       "_view_name": "LayoutView",
       "align_content": null,
       "align_items": null,
       "align_self": null,
       "border": null,
       "bottom": null,
       "display": null,
       "flex": null,
       "flex_flow": null,
       "grid_area": null,
       "grid_auto_columns": null,
       "grid_auto_flow": null,
       "grid_auto_rows": null,
       "grid_column": null,
       "grid_gap": null,
       "grid_row": null,
       "grid_template_areas": null,
       "grid_template_columns": null,
       "grid_template_rows": null,
       "height": null,
       "justify_content": null,
       "justify_items": null,
       "left": null,
       "margin": null,
       "max_height": null,
       "max_width": null,
       "min_height": null,
       "min_width": null,
       "object_fit": null,
       "object_position": null,
       "order": null,
       "overflow": null,
       "overflow_x": null,
       "overflow_y": null,
       "padding": null,
       "right": null,
       "top": null,
       "visibility": null,
       "width": null
      }
     },
     "d5ad7a7dc4df435b97e5626a0e286252": {
      "model_module": "@jupyter-widgets/output",
      "model_module_version": "1.0.0",
      "model_name": "OutputModel",
      "state": {
       "_dom_classes": [],
       "_model_module": "@jupyter-widgets/output",
       "_model_module_version": "1.0.0",
       "_model_name": "OutputModel",
       "_view_count": null,
       "_view_module": "@jupyter-widgets/output",
       "_view_module_version": "1.0.0",
       "_view_name": "OutputView",
       "layout": "IPY_MODEL_6bc99fd08fb54b5cb8381023c8bd92f6",
       "msg_id": "",
       "outputs": [
        {
         "data": {
          "image/png": "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\n",
          "text/plain": "<Figure size 864x388.8 with 2 Axes>"
         },
         "metadata": {
          "needs_background": "light"
         },
         "output_type": "display_data"
        }
       ]
      }
     },
     "d8be3d4ca50d46a0a1651b0ca4a0c5c2": {
      "model_module": "@jupyter-widgets/controls",
      "model_module_version": "1.5.0",
      "model_name": "VBoxModel",
      "state": {
       "_dom_classes": [
        "widget-interact"
       ],
       "_model_module": "@jupyter-widgets/controls",
       "_model_module_version": "1.5.0",
       "_model_name": "VBoxModel",
       "_view_count": null,
       "_view_module": "@jupyter-widgets/controls",
       "_view_module_version": "1.5.0",
       "_view_name": "VBoxView",
       "box_style": "",
       "children": [
        "IPY_MODEL_c92b876e29cc4b02ab6bb4f5425e7a4e",
        "IPY_MODEL_e2f107ee05f44275836f25894c4bb429",
        "IPY_MODEL_808eede8d14c4dab94fa1a0dc02c5d66"
       ],
       "layout": "IPY_MODEL_59cf2ec001d4401b92e1100c02db42da"
      }
     },
     "e2f107ee05f44275836f25894c4bb429": {
      "model_module": "@jupyter-widgets/controls",
      "model_module_version": "1.5.0",
      "model_name": "RadioButtonsModel",
      "state": {
       "_dom_classes": [],
       "_model_module": "@jupyter-widgets/controls",
       "_model_module_version": "1.5.0",
       "_model_name": "RadioButtonsModel",
       "_options_labels": [
        "linear",
        "sqrt",
        "log"
       ],
       "_view_count": null,
       "_view_module": "@jupyter-widgets/controls",
       "_view_module_version": "1.5.0",
       "_view_name": "RadioButtonsView",
       "description": "Select stretch:",
       "description_tooltip": null,
       "disabled": false,
       "index": 1,
       "layout": "IPY_MODEL_d2245665ed304b76b7cd106c9e47940e",
       "style": "IPY_MODEL_b0d11c572a8a429c8d83b5cdfbbe9789"
      }
     },
     "e71b4eb62050478b8a1e8bfefe585e3e": {
      "model_module": "@jupyter-widgets/controls",
      "model_module_version": "1.5.0",
      "model_name": "DescriptionStyleModel",
      "state": {
       "_model_module": "@jupyter-widgets/controls",
       "_model_module_version": "1.5.0",
       "_model_name": "DescriptionStyleModel",
       "_view_count": null,
       "_view_module": "@jupyter-widgets/base",
       "_view_module_version": "1.2.0",
       "_view_name": "StyleView",
       "description_width": "initial"
      }
     },
     "e75bf1b70dfb40a595a036f1650afb0c": {
      "model_module": "@jupyter-widgets/base",
      "model_module_version": "1.2.0",
      "model_name": "LayoutModel",
      "state": {
       "_model_module": "@jupyter-widgets/base",
       "_model_module_version": "1.2.0",
       "_model_name": "LayoutModel",
       "_view_count": null,
       "_view_module": "@jupyter-widgets/base",
       "_view_module_version": "1.2.0",
       "_view_name": "LayoutView",
       "align_content": null,
       "align_items": null,
       "align_self": null,
       "border": null,
       "bottom": null,
       "display": null,
       "flex": null,
       "flex_flow": null,
       "grid_area": null,
       "grid_auto_columns": null,
       "grid_auto_flow": null,
       "grid_auto_rows": null,
       "grid_column": null,
       "grid_gap": null,
       "grid_row": null,
       "grid_template_areas": null,
       "grid_template_columns": null,
       "grid_template_rows": null,
       "height": null,
       "justify_content": null,
       "justify_items": null,
       "left": null,
       "margin": null,
       "max_height": null,
       "max_width": null,
       "min_height": null,
       "min_width": null,
       "object_fit": null,
       "object_position": null,
       "order": null,
       "overflow": null,
       "overflow_x": null,
       "overflow_y": null,
       "padding": null,
       "right": null,
       "top": null,
       "visibility": null,
       "width": "50%"
      }
     }
    },
    "version_major": 2,
    "version_minor": 0
   }
  }
 },
 "nbformat": 4,
 "nbformat_minor": 2
}
