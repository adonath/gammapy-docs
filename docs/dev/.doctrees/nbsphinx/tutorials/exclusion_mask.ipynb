{
 "cells": [
  {
   "cell_type": "markdown",
   "metadata": {},
   "source": [
    "\n",
    "<div class=\"alert alert-info\">\n",
    "\n",
    "**This is a fixed-text formatted version of a Jupyter notebook**\n",
    "\n",
    "- Try online [![Binder](https://static.mybinder.org/badge.svg)](https://mybinder.org/v2/gh/gammapy/gammapy-webpage/master?urlpath=lab/tree/exclusion_mask.ipynb)\n",
    "- You can contribute with your own notebooks in this\n",
    "[GitHub repository](https://github.com/gammapy/gammapy/tree/master/docs/tutorials).\n",
    "- **Source files:**\n",
    "[exclusion_mask.ipynb](../_static/notebooks/exclusion_mask.ipynb) |\n",
    "[exclusion_mask.py](../_static/notebooks/exclusion_mask.py)\n",
    "</div>\n"
   ]
  },
  {
   "cell_type": "markdown",
   "metadata": {},
   "source": [
    "# Create an exclusion mask\n",
    "\n",
    "## Introduction\n",
    "\n",
    "### Prerequisites\n",
    "\n",
    "- Understanding of basic analyses in 1D or 3D.\n",
    "- Usage of `~regions` and catalogs, see the [catalog notebook](catalog.ipynb). \n",
    "\n",
    "### Context\n",
    "\n",
    "Background templates stored in the DL3 IRF are often not reliable enough to be used without some corrections. A set of common techniques to perform background or normalisation from the data is implemented in gammapy: reflected regions for 1D spectrum analysis, field-of-view (FoV) background or ring background for 2D and 3D analyses.\n",
    "\n",
    "To avoid contamination of the background estimate from gamma-ray bright regions these methods require to exclude those regions from the data used for the estimation. To do so, we use exclusion masks. They are maps containing boolean values where excluded pixels are stored as False.  \n",
    "\n",
    "**Objective: Build an exclusion mask around the Crab nebula excluding gamma-ray sources in the region.**\n",
    "\n",
    "### Proposed approach\n",
    "\n",
    "Here we have to build a `Map` object, we must first define its geometry and then we can determine which pixels to exclude.\n",
    "\n",
    "We can rely on known sources positions and properties to build a list of regions (here `~regions.SkyRegions`) enclosing most of the signal that our detector would see from these objects. We show below how to build this list manually or from an existing catalog. \n",
    "\n",
    "Finally, we show how to build the mask from a `MapDataset`, finding pixels which contain statistically significant signal. To do so, we use the `ExcessMapEstimator`\n",
    " "
   ]
  },
  {
   "cell_type": "markdown",
   "metadata": {},
   "source": [
    "## Setup"
   ]
  },
  {
   "cell_type": "code",
   "execution_count": 1,
   "metadata": {
    "execution": {
     "iopub.execute_input": "2021-01-15T09:09:56.562654Z",
     "iopub.status.busy": "2021-01-15T09:09:56.562090Z",
     "iopub.status.idle": "2021-01-15T09:09:56.841194Z",
     "shell.execute_reply": "2021-01-15T09:09:56.840098Z"
    }
   },
   "outputs": [],
   "source": [
    "%matplotlib inline\n",
    "import matplotlib.pyplot as plt"
   ]
  },
  {
   "cell_type": "code",
   "execution_count": 2,
   "metadata": {
    "execution": {
     "iopub.execute_input": "2021-01-15T09:09:56.846026Z",
     "iopub.status.busy": "2021-01-15T09:09:56.845316Z",
     "iopub.status.idle": "2021-01-15T09:09:57.845242Z",
     "shell.execute_reply": "2021-01-15T09:09:57.845662Z"
    }
   },
   "outputs": [],
   "source": [
    "import numpy as np\n",
    "from astropy.coordinates import SkyCoord, Angle\n",
    "from regions import CircleSkyRegion\n",
    "from gammapy.maps import Map, WcsGeom\n",
    "from gammapy.utils.regions import make_region\n",
    "from gammapy.catalog import CATALOG_REGISTRY\n",
    "from gammapy.datasets import Datasets\n",
    "from gammapy.estimators import ExcessMapEstimator\n",
    "from gammapy.modeling.models import FoVBackgroundModel"
   ]
  },
  {
   "cell_type": "markdown",
   "metadata": {},
   "source": [
    "## Create the mask from a list of regions\n",
    "\n",
    "One can build an exclusion mask from regions. We show here how to proceed."
   ]
  },
  {
   "cell_type": "markdown",
   "metadata": {},
   "source": [
    "### Define the geometry\n",
    "\n",
    "Exclusions masks are stored in `Map` objects. One has therefore to define the geometry to use. Here we consider a region at the Galactic anticentre around the crab nebula."
   ]
  },
  {
   "cell_type": "code",
   "execution_count": 3,
   "metadata": {
    "execution": {
     "iopub.execute_input": "2021-01-15T09:09:57.856978Z",
     "iopub.status.busy": "2021-01-15T09:09:57.855772Z",
     "iopub.status.idle": "2021-01-15T09:09:57.857497Z",
     "shell.execute_reply": "2021-01-15T09:09:57.858002Z"
    }
   },
   "outputs": [],
   "source": [
    "position = SkyCoord(83.633083, 22.0145, unit=\"deg\", frame=\"icrs\")\n",
    "geom = WcsGeom.create(\n",
    "    skydir=position, width=\"5 deg\", binsz=0.02, frame=\"galactic\"\n",
    ")"
   ]
  },
  {
   "cell_type": "markdown",
   "metadata": {},
   "source": [
    "### Create the list of regions\n",
    "\n",
    "A useful function to create region objects is `~gammapy.utils.regions.make_region`. It can take strings defining regions following the \"ds9\" format and convert them to `regions`. \n",
    "\n",
    "Here we use a region enclosing the Crab nebula with 0.3 degrees. The actual region size should depend on the expected PSF of the data used. We also add another region with a different shape as en example."
   ]
  },
  {
   "cell_type": "code",
   "execution_count": 4,
   "metadata": {
    "execution": {
     "iopub.execute_input": "2021-01-15T09:09:57.864937Z",
     "iopub.status.busy": "2021-01-15T09:09:57.860287Z",
     "iopub.status.idle": "2021-01-15T09:09:57.867203Z",
     "shell.execute_reply": "2021-01-15T09:09:57.867720Z"
    }
   },
   "outputs": [
    {
     "name": "stdout",
     "output_type": "stream",
     "text": [
      "[<RectangleSkyRegion(<SkyCoord (Galactic): (l, b) in deg\n",
      "    (185., -4.)>, width=1.0 deg, height=0.5 deg, angle=45.0 deg)>, <CircleSkyRegion(<SkyCoord (ICRS): (ra, dec) in deg\n",
      "    (83.633083, 22.0145)>, radius=0.3 deg)>]\n"
     ]
    }
   ],
   "source": [
    "some_region = make_region(\"galactic;box(185,-4,1.0,0.5, 45)\")\n",
    "crab_region = make_region(\"icrs;circle(83.633083, 22.0145, 0.3)\")\n",
    "regions = [some_region, crab_region]\n",
    "print(regions)"
   ]
  },
  {
   "cell_type": "markdown",
   "metadata": {},
   "source": [
    "Equivalently the regions can be read from a ds9 file, this time using `regions.read_ds9`. "
   ]
  },
  {
   "cell_type": "code",
   "execution_count": 5,
   "metadata": {
    "execution": {
     "iopub.execute_input": "2021-01-15T09:09:57.871706Z",
     "iopub.status.busy": "2021-01-15T09:09:57.870857Z",
     "iopub.status.idle": "2021-01-15T09:09:57.872486Z",
     "shell.execute_reply": "2021-01-15T09:09:57.873000Z"
    }
   },
   "outputs": [],
   "source": [
    "# regions = read_ds9('ds9.reg')"
   ]
  },
  {
   "cell_type": "markdown",
   "metadata": {},
   "source": [
    "### Create the mask map \n",
    "\n",
    "We can now create the map. We use the `WcsGeom.region_mask` method putting all pixels inside the regions to False."
   ]
  },
  {
   "cell_type": "code",
   "execution_count": 6,
   "metadata": {
    "execution": {
     "iopub.execute_input": "2021-01-15T09:09:57.876444Z",
     "iopub.status.busy": "2021-01-15T09:09:57.875930Z",
     "iopub.status.idle": "2021-01-15T09:09:57.905690Z",
     "shell.execute_reply": "2021-01-15T09:09:57.906125Z"
    }
   },
   "outputs": [],
   "source": [
    "mask_map = geom.region_mask(regions, inside=False)"
   ]
  },
  {
   "cell_type": "code",
   "execution_count": 7,
   "metadata": {
    "execution": {
     "iopub.execute_input": "2021-01-15T09:09:57.909864Z",
     "iopub.status.busy": "2021-01-15T09:09:57.909363Z",
     "iopub.status.idle": "2021-01-15T09:09:58.145938Z",
     "shell.execute_reply": "2021-01-15T09:09:58.146622Z"
    }
   },
   "outputs": [
    {
     "data": {
      "text/plain": [
       "(<Figure size 432x288 with 1 Axes>,\n",
       " <WCSAxesSubplot:xlabel='Galactic Longitude', ylabel='Galactic Latitude'>,\n",
       " None)"
      ]
     },
     "execution_count": 1,
     "metadata": {},
     "output_type": "execute_result"
    },
    {
     "data": {
      "image/png": "[encoded data removed]",
      "text/plain": [
       "<Figure size 432x288 with 1 Axes>"
      ]
     },
     "metadata": {
      "needs_background": "light"
     },
     "output_type": "display_data"
    }
   ],
   "source": [
    "mask_map.plot()"
   ]
  },
  {
   "cell_type": "markdown",
   "metadata": {},
   "source": [
    "## Create the mask from a catalog of sources\n",
    "\n",
    "We can also build our list of regions from a list of catalog sources. Here we use the Fermi 4FGL catalog which we read using `~gammapy.catalog.SourceCatalog`."
   ]
  },
  {
   "cell_type": "code",
   "execution_count": 8,
   "metadata": {
    "execution": {
     "iopub.execute_input": "2021-01-15T09:09:58.149804Z",
     "iopub.status.busy": "2021-01-15T09:09:58.148762Z",
     "iopub.status.idle": "2021-01-15T09:09:58.574232Z",
     "shell.execute_reply": "2021-01-15T09:09:58.574772Z"
    }
   },
   "outputs": [],
   "source": [
    "fgl = CATALOG_REGISTRY.get_cls(\"4fgl\")()"
   ]
  },
  {
   "cell_type": "markdown",
   "metadata": {},
   "source": [
    "We now select sources that are contained in the region we are interested in."
   ]
  },
  {
   "cell_type": "code",
   "execution_count": 9,
   "metadata": {
    "execution": {
     "iopub.execute_input": "2021-01-15T09:09:58.579754Z",
     "iopub.status.busy": "2021-01-15T09:09:58.578890Z",
     "iopub.status.idle": "2021-01-15T09:09:58.590056Z",
     "shell.execute_reply": "2021-01-15T09:09:58.589200Z"
    }
   },
   "outputs": [],
   "source": [
    "inside_geom = geom.contains(fgl.positions)\n",
    "idx = np.where(inside_geom)[0]"
   ]
  },
  {
   "cell_type": "markdown",
   "metadata": {},
   "source": [
    "We now create the list of regions using our 0.3 degree radius a priori value. If the sources were extended, one would have to adapt the sizes to account for the larger size."
   ]
  },
  {
   "cell_type": "code",
   "execution_count": 10,
   "metadata": {
    "execution": {
     "iopub.execute_input": "2021-01-15T09:09:58.692052Z",
     "iopub.status.busy": "2021-01-15T09:09:58.664263Z",
     "iopub.status.idle": "2021-01-15T09:09:58.695194Z",
     "shell.execute_reply": "2021-01-15T09:09:58.694061Z"
    }
   },
   "outputs": [],
   "source": [
    "exclusion_radius = Angle(\"0.3 deg\")\n",
    "regions = [CircleSkyRegion(fgl[i].position, exclusion_radius) for i in idx]"
   ]
  },
  {
   "cell_type": "markdown",
   "metadata": {},
   "source": [
    "Now we can build the mask map the same way as above."
   ]
  },
  {
   "cell_type": "code",
   "execution_count": 11,
   "metadata": {
    "execution": {
     "iopub.execute_input": "2021-01-15T09:09:58.701710Z",
     "iopub.status.busy": "2021-01-15T09:09:58.700943Z",
     "iopub.status.idle": "2021-01-15T09:09:58.741608Z",
     "shell.execute_reply": "2021-01-15T09:09:58.741008Z"
    }
   },
   "outputs": [],
   "source": [
    "mask_map_catalog = geom.region_mask(regions, inside=False)"
   ]
  },
  {
   "cell_type": "code",
   "execution_count": 12,
   "metadata": {
    "execution": {
     "iopub.execute_input": "2021-01-15T09:09:58.768224Z",
     "iopub.status.busy": "2021-01-15T09:09:58.767368Z",
     "iopub.status.idle": "2021-01-15T09:09:58.877995Z",
     "shell.execute_reply": "2021-01-15T09:09:58.878682Z"
    }
   },
   "outputs": [
    {
     "data": {
      "text/plain": [
       "(<Figure size 432x288 with 1 Axes>,\n",
       " <WCSAxesSubplot:xlabel='Galactic Longitude', ylabel='Galactic Latitude'>,\n",
       " None)"
      ]
     },
     "execution_count": 1,
     "metadata": {},
     "output_type": "execute_result"
    },
    {
     "data": {
      "image/png": "[encoded data removed]",
      "text/plain": [
       "<Figure size 432x288 with 1 Axes>"
      ]
     },
     "metadata": {
      "needs_background": "light"
     },
     "output_type": "display_data"
    }
   ],
   "source": [
    "mask_map_catalog.plot()"
   ]
  },
  {
   "cell_type": "markdown",
   "metadata": {},
   "source": [
    "### Combining masks\n",
    "\n",
    "If two masks share the same geometry it is easy to combine them with `Map` arithmetics."
   ]
  },
  {
   "cell_type": "code",
   "execution_count": 13,
   "metadata": {
    "execution": {
     "iopub.execute_input": "2021-01-15T09:09:58.883338Z",
     "iopub.status.busy": "2021-01-15T09:09:58.881751Z",
     "iopub.status.idle": "2021-01-15T09:09:59.018238Z",
     "shell.execute_reply": "2021-01-15T09:09:59.018996Z"
    },
    "nbsphinx-thumbnail": {
     "tooltip": "Build an exclusion mask around the Crab nebula excluding gamma-ray sources in the region."
    }
   },
   "outputs": [
    {
     "data": {
      "text/plain": [
       "(<Figure size 432x288 with 1 Axes>,\n",
       " <WCSAxesSubplot:xlabel='Galactic Longitude', ylabel='Galactic Latitude'>,\n",
       " None)"
      ]
     },
     "execution_count": 1,
     "metadata": {},
     "output_type": "execute_result"
    },
    {
     "data": {
      "image/png": "[encoded data removed]",
      "text/plain": [
       "<Figure size 432x288 with 1 Axes>"
      ]
     },
     "metadata": {
      "needs_background": "light"
     },
     "output_type": "display_data"
    }
   ],
   "source": [
    "mask_map *= mask_map_catalog\n",
    "mask_map.plot()"
   ]
  },
  {
   "cell_type": "markdown",
   "metadata": {},
   "source": [
    "## Create the mask from statistically significant pixels in a dataset\n",
    "\n",
    "Here we want to determine an exclusion from the data directly. We will estimate the significance of the data and exclude all pixels above a given threshold.\n",
    "\n",
    "Here we use a dataset taken from Fermi data used in the 3FHL catalog. The dataset is already in the form of a `Datasets` object. We read it from disk. "
   ]
  },
  {
   "cell_type": "code",
   "execution_count": 14,
   "metadata": {
    "execution": {
     "iopub.execute_input": "2021-01-15T09:09:59.022498Z",
     "iopub.status.busy": "2021-01-15T09:09:59.021518Z",
     "iopub.status.idle": "2021-01-15T09:09:59.048257Z",
     "shell.execute_reply": "2021-01-15T09:09:59.048832Z"
    }
   },
   "outputs": [],
   "source": [
    "filename = \"$GAMMAPY_DATA/fermi-3fhl-crab/Fermi-LAT-3FHL_datasets.yaml\"\n",
    "datasets = Datasets.read(filename=filename)"
   ]
  },
  {
   "cell_type": "code",
   "execution_count": 15,
   "metadata": {
    "execution": {
     "iopub.execute_input": "2021-01-15T09:09:59.052102Z",
     "iopub.status.busy": "2021-01-15T09:09:59.050958Z",
     "iopub.status.idle": "2021-01-15T09:09:59.056316Z",
     "shell.execute_reply": "2021-01-15T09:09:59.057341Z"
    }
   },
   "outputs": [],
   "source": [
    "datasets.models = [FoVBackgroundModel(dataset_name=\"Fermi-LAT\")]"
   ]
  },
  {
   "cell_type": "markdown",
   "metadata": {},
   "source": [
    "We now apply a significance estimation. We integrate the counts using a correlation radius of 0.4 degree and apply regular significance estimate. "
   ]
  },
  {
   "cell_type": "code",
   "execution_count": 16,
   "metadata": {
    "execution": {
     "iopub.execute_input": "2021-01-15T09:09:59.060927Z",
     "iopub.status.busy": "2021-01-15T09:09:59.059935Z",
     "iopub.status.idle": "2021-01-15T09:09:59.273833Z",
     "shell.execute_reply": "2021-01-15T09:09:59.272822Z"
    }
   },
   "outputs": [
    {
     "name": "stderr",
     "output_type": "stream",
     "text": [
      "HDU 'MASK_FIT' not found\n"
     ]
    }
   ],
   "source": [
    "estimator = ExcessMapEstimator(\"0.4 deg\", selection_optional=[])\n",
    "result = estimator.run(datasets[\"Fermi-LAT\"])"
   ]
  },
  {
   "cell_type": "markdown",
   "metadata": {},
   "source": [
    "Finally, we create the mask map by applying a threshold of 5 sigma to remove pixels."
   ]
  },
  {
   "cell_type": "code",
   "execution_count": 17,
   "metadata": {
    "execution": {
     "iopub.execute_input": "2021-01-15T09:09:59.279181Z",
     "iopub.status.busy": "2021-01-15T09:09:59.278672Z",
     "iopub.status.idle": "2021-01-15T09:09:59.282006Z",
     "shell.execute_reply": "2021-01-15T09:09:59.281469Z"
    }
   },
   "outputs": [],
   "source": [
    "mask_map_significance = result[\"sqrt_ts\"] < 5.0"
   ]
  },
  {
   "cell_type": "markdown",
   "metadata": {},
   "source": [
    "Because the `ExcessMapEstimator` returns NaN for masked pixels, we need to put the NaN values to `True` to avoid incorrectly excluding them. "
   ]
  },
  {
   "cell_type": "code",
   "execution_count": 18,
   "metadata": {
    "execution": {
     "iopub.execute_input": "2021-01-15T09:09:59.286446Z",
     "iopub.status.busy": "2021-01-15T09:09:59.285442Z",
     "iopub.status.idle": "2021-01-15T09:09:59.286936Z",
     "shell.execute_reply": "2021-01-15T09:09:59.287397Z"
    }
   },
   "outputs": [],
   "source": [
    "invalid_pixels = np.isnan(result[\"sqrt_ts\"].data)\n",
    "mask_map_significance.data[invalid_pixels] = True"
   ]
  },
  {
   "cell_type": "code",
   "execution_count": 19,
   "metadata": {
    "execution": {
     "iopub.execute_input": "2021-01-15T09:09:59.297646Z",
     "iopub.status.busy": "2021-01-15T09:09:59.291210Z",
     "iopub.status.idle": "2021-01-15T09:09:59.491121Z",
     "shell.execute_reply": "2021-01-15T09:09:59.491537Z"
    }
   },
   "outputs": [
    {
     "data": {
      "text/plain": [
       "(<Figure size 432x288 with 1 Axes>,\n",
       " <WCSAxesSubplot:xlabel='Galactic Longitude', ylabel='Galactic Latitude'>,\n",
       " None)"
      ]
     },
     "execution_count": 1,
     "metadata": {},
     "output_type": "execute_result"
    },
    {
     "data": {
      "image/png": "[encoded data removed]",
      "text/plain": [
       "<Figure size 432x288 with 1 Axes>"
      ]
     },
     "metadata": {
      "needs_background": "light"
     },
     "output_type": "display_data"
    }
   ],
   "source": [
    "mask_map_significance.sum_over_axes().plot();"
   ]
  },
  {
   "cell_type": "markdown",
   "metadata": {},
   "source": [
    "This method frequently yields isolated pixels or weakly significant features if one places the threshold too low. \n",
    "\n",
    "To overcome this issue, one can use `~skimage.filters.apply_hysteresis_threshold` . This filter allows to define two thresholds and mask only the pixels between the low and high thresholds if they are not continuously connected to a pixel above the high threshold. This allows to better preserve the structure of the excesses. \n",
    "\n",
    "Note that scikit-image is not a required dependency of gammapy, you might need to install it.\n"
   ]
  },
  {
   "cell_type": "markdown",
   "metadata": {},
   "source": [
    "## Reading and writing exclusion masks\n",
    "\n",
    "`gammapy.maps` cannot directly read/write maps with boolean content. Thus, for serialisation of exclusion masks, it is necessary to do an explicit type casting between boolean and int, as we show here."
   ]
  },
  {
   "cell_type": "code",
   "execution_count": 20,
   "metadata": {
    "execution": {
     "iopub.execute_input": "2021-01-15T09:09:59.496528Z",
     "iopub.status.busy": "2021-01-15T09:09:59.496013Z",
     "iopub.status.idle": "2021-01-15T09:09:59.504574Z",
     "shell.execute_reply": "2021-01-15T09:09:59.505218Z"
    }
   },
   "outputs": [],
   "source": [
    "# To save masks to disk\n",
    "mask_map_int = mask_map.copy()\n",
    "mask_map_int.data = mask_map_int.data.astype(int)\n",
    "mask_map_int.write(\"exclusion_mask.fits\", overwrite=\"True\")"
   ]
  },
  {
   "cell_type": "code",
   "execution_count": 21,
   "metadata": {
    "execution": {
     "iopub.execute_input": "2021-01-15T09:09:59.507397Z",
     "iopub.status.busy": "2021-01-15T09:09:59.506944Z",
     "iopub.status.idle": "2021-01-15T09:09:59.514131Z",
     "shell.execute_reply": "2021-01-15T09:09:59.514613Z"
    }
   },
   "outputs": [],
   "source": [
    "# To read maps from disk\n",
    "mask_map = Map.read(\"exclusion_mask.fits\")\n",
    "mask_map.data = mask_map.data.astype(bool)"
   ]
  }
 ],
 "metadata": {
  "kernelspec": {
   "display_name": "Python 3",
   "language": "python",
   "name": "python3"
  },
  "language_info": {
   "codemirror_mode": {
    "name": "ipython",
    "version": 3
   },
   "file_extension": ".py",
   "mimetype": "text/x-python",
   "name": "python",
   "nbconvert_exporter": "python",
   "pygments_lexer": "ipython3",
   "version": "3.7.0"
  },
  "nbsphinx": {
   "orphan": true
  }
 },
 "nbformat": 4,
 "nbformat_minor": 4
}
