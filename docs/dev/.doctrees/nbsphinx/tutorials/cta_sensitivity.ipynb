{
 "cells": [
  {
   "cell_type": "markdown",
   "metadata": {},
   "source": [
    "\n",
    "<div class=\"alert alert-info\">\n",
    "\n",
    "**This is a fixed-text formatted version of a Jupyter notebook**\n",
    "\n",
    "- Try online [![Binder](https://static.mybinder.org/badge.svg)](https://mybinder.org/v2/gh/gammapy/gammapy-webpage/master?urlpath=lab/tree/cta_sensitivity.ipynb)\n",
    "- You can contribute with your own notebooks in this\n",
    "[GitHub repository](https://github.com/gammapy/gammapy/tree/master/docs/tutorials).\n",
    "- **Source files:**\n",
    "[cta_sensitivity.ipynb](../_static/notebooks/cta_sensitivity.ipynb) |\n",
    "[cta_sensitivity.py](../_static/notebooks/cta_sensitivity.py)\n",
    "</div>\n"
   ]
  },
  {
   "cell_type": "markdown",
   "metadata": {},
   "source": [
    "# Estimation of the CTA point source sensitivity"
   ]
  },
  {
   "cell_type": "markdown",
   "metadata": {},
   "source": [
    "## Introduction\n",
    "\n",
    "This notebook explains how to estimate the CTA sensitivity for a point-like IRF at a fixed zenith angle and fixed offset using the full containement IRFs distributed for the CTA 1DC. The significativity is computed for a 1D analysis (On-OFF regions) and the LiMa formula. \n",
    "\n",
    "We use here an approximate approach with an energy dependent integration radius to take into account the variation of the PSF. We will first determine the 1D IRFs including a containment correction. \n",
    "\n",
    "We will be using the following Gammapy class:\n",
    "\n",
    "* `~gammapy.estimators.SensitivityEstimator`"
   ]
  },
  {
   "cell_type": "markdown",
   "metadata": {},
   "source": [
    "## Setup\n",
    "As usual, we'll start with some setup ..."
   ]
  },
  {
   "cell_type": "code",
   "execution_count": 1,
   "metadata": {
    "execution": {
     "iopub.execute_input": "2020-10-27T15:38:30.154353Z",
     "iopub.status.busy": "2020-10-27T15:38:30.153784Z",
     "iopub.status.idle": "2020-10-27T15:38:30.438425Z",
     "shell.execute_reply": "2020-10-27T15:38:30.437001Z"
    }
   },
   "outputs": [],
   "source": [
    "%matplotlib inline\n",
    "import matplotlib.pyplot as plt\n",
    "import numpy as np"
   ]
  },
  {
   "cell_type": "code",
   "execution_count": 2,
   "metadata": {
    "execution": {
     "iopub.execute_input": "2020-10-27T15:38:30.444263Z",
     "iopub.status.busy": "2020-10-27T15:38:30.443016Z",
     "iopub.status.idle": "2020-10-27T15:38:31.416961Z",
     "shell.execute_reply": "2020-10-27T15:38:31.416207Z"
    }
   },
   "outputs": [],
   "source": [
    "import astropy.units as u\n",
    "from astropy.coordinates import Angle, SkyCoord\n",
    "from regions import CircleSkyRegion\n",
    "\n",
    "from gammapy.irf import load_cta_irfs\n",
    "from gammapy.makers import SpectrumDatasetMaker\n",
    "from gammapy.data import Observation\n",
    "from gammapy.estimators import SensitivityEstimator\n",
    "from gammapy.datasets import SpectrumDataset, SpectrumDatasetOnOff\n",
    "from gammapy.maps import MapAxis"
   ]
  },
  {
   "cell_type": "markdown",
   "metadata": {},
   "source": [
    "## Define analysis region and energy binning\n",
    "\n",
    "Here we assume a source at 0.5 degree from pointing position. We perform a simple energy independent extraction for now with a radius of 0.1 degree."
   ]
  },
  {
   "cell_type": "code",
   "execution_count": 3,
   "metadata": {
    "execution": {
     "iopub.execute_input": "2020-10-27T15:38:31.424494Z",
     "iopub.status.busy": "2020-10-27T15:38:31.423859Z",
     "iopub.status.idle": "2020-10-27T15:38:31.440652Z",
     "shell.execute_reply": "2020-10-27T15:38:31.440031Z"
    }
   },
   "outputs": [],
   "source": [
    "center = SkyCoord(\"0 deg\", \"0.5 deg\")\n",
    "region = CircleSkyRegion(center=center, radius=0.1 * u.deg)\n",
    "\n",
    "e_reco = MapAxis.from_energy_bounds(\"0.03 TeV\", \"30 TeV\", nbin=20)\n",
    "e_true = MapAxis.from_energy_bounds(\n",
    "    \"0.01 TeV\", \"100 TeV\", nbin=100, name=\"energy_true\"\n",
    ")\n",
    "\n",
    "empty_dataset = SpectrumDataset.create(\n",
    "    e_reco=e_reco, e_true=e_true, region=region\n",
    ")"
   ]
  },
  {
   "cell_type": "markdown",
   "metadata": {},
   "source": [
    "## Load IRFs and prepare dataset\n",
    "\n",
    "We extract the 1D IRFs from the full 3D IRFs provided by CTA. "
   ]
  },
  {
   "cell_type": "code",
   "execution_count": 4,
   "metadata": {
    "execution": {
     "iopub.execute_input": "2020-10-27T15:38:31.447360Z",
     "iopub.status.busy": "2020-10-27T15:38:31.446802Z",
     "iopub.status.idle": "2020-10-27T15:38:31.544226Z",
     "shell.execute_reply": "2020-10-27T15:38:31.543410Z"
    }
   },
   "outputs": [
    {
     "name": "stderr",
     "output_type": "stream",
     "text": [
      "Invalid unit found in background table! Assuming (s-1 MeV-1 sr-1)\n"
     ]
    }
   ],
   "source": [
    "irfs = load_cta_irfs(\n",
    "    \"$GAMMAPY_DATA/cta-1dc/caldb/data/cta/1dc/bcf/South_z20_50h/irf_file.fits\"\n",
    ")\n",
    "\n",
    "pointing = SkyCoord(\"0 deg\", \"0 deg\")\n",
    "obs = Observation.create(pointing=pointing, irfs=irfs, livetime=\"5 h\")"
   ]
  },
  {
   "cell_type": "code",
   "execution_count": 5,
   "metadata": {
    "execution": {
     "iopub.execute_input": "2020-10-27T15:38:31.553605Z",
     "iopub.status.busy": "2020-10-27T15:38:31.553074Z",
     "iopub.status.idle": "2020-10-27T15:38:31.690864Z",
     "shell.execute_reply": "2020-10-27T15:38:31.689910Z"
    }
   },
   "outputs": [],
   "source": [
    "spectrum_maker = SpectrumDatasetMaker(\n",
    "    selection=[\"exposure\", \"edisp\", \"background\"]\n",
    ")\n",
    "dataset = spectrum_maker.run(empty_dataset, obs)"
   ]
  },
  {
   "cell_type": "markdown",
   "metadata": {},
   "source": [
    "Now we correct for the energy dependent region size:"
   ]
  },
  {
   "cell_type": "code",
   "execution_count": 6,
   "metadata": {
    "execution": {
     "iopub.execute_input": "2020-10-27T15:38:31.751267Z",
     "iopub.status.busy": "2020-10-27T15:38:31.750508Z",
     "iopub.status.idle": "2020-10-27T15:38:31.753833Z",
     "shell.execute_reply": "2020-10-27T15:38:31.754233Z"
    }
   },
   "outputs": [],
   "source": [
    "containment = 0.68\n",
    "\n",
    "# correct exposure\n",
    "dataset.exposure *= containment\n",
    "\n",
    "# correct background estimation\n",
    "on_radii = obs.psf.containment_radius(\n",
    "    energy=e_reco.center, theta=0.5 * u.deg, fraction=containment\n",
    ")[0]\n",
    "factor = (1 - np.cos(on_radii)) / (1 - np.cos(region.radius))\n",
    "dataset.background_model.map *= factor.value.reshape((-1, 1, 1))"
   ]
  },
  {
   "cell_type": "markdown",
   "metadata": {},
   "source": [
    "And finally define a `SpectrumDatasetOnOff` with an alpha of `0.2`. The off counts are created from the background model:"
   ]
  },
  {
   "cell_type": "code",
   "execution_count": 7,
   "metadata": {
    "execution": {
     "iopub.execute_input": "2020-10-27T15:38:31.759804Z",
     "iopub.status.busy": "2020-10-27T15:38:31.759301Z",
     "iopub.status.idle": "2020-10-27T15:38:31.762786Z",
     "shell.execute_reply": "2020-10-27T15:38:31.762137Z"
    }
   },
   "outputs": [],
   "source": [
    "dataset_on_off = SpectrumDatasetOnOff.from_spectrum_dataset(\n",
    "    dataset=dataset, acceptance=1, acceptance_off=5\n",
    ")"
   ]
  },
  {
   "cell_type": "markdown",
   "metadata": {},
   "source": [
    "## Compute sensitivity\n",
    "\n",
    "We impose a minimal number of expected signal counts of 5 per bin and a minimal significance of 3 per bin. We assume an alpha of 0.2 (ratio between ON and OFF area).\n",
    "We then run the sensitivity estimator."
   ]
  },
  {
   "cell_type": "code",
   "execution_count": 8,
   "metadata": {
    "execution": {
     "iopub.execute_input": "2020-10-27T15:38:31.827688Z",
     "iopub.status.busy": "2020-10-27T15:38:31.824113Z",
     "iopub.status.idle": "2020-10-27T15:38:31.841132Z",
     "shell.execute_reply": "2020-10-27T15:38:31.840328Z"
    }
   },
   "outputs": [
    {
     "name": "stderr",
     "output_type": "stream",
     "text": [
      "No background model defined for dataset qPfBRA2s\n"
     ]
    }
   ],
   "source": [
    "sensitivity_estimator = SensitivityEstimator(\n",
    "    gamma_min=5, n_sigma=3, bkg_syst_fraction=0.10\n",
    ")\n",
    "sensitivity_table = sensitivity_estimator.run(dataset_on_off)"
   ]
  },
  {
   "cell_type": "markdown",
   "metadata": {},
   "source": [
    "## Results\n",
    "\n",
    "The results are given as an Astropy table. A column criterion allows to distinguish bins where the significance is limited by the signal statistical significance from bins where the sensitivity is limited by the number of signal counts.\n",
    "This is visible in the plot below."
   ]
  },
  {
   "cell_type": "code",
   "execution_count": 9,
   "metadata": {
    "execution": {
     "iopub.execute_input": "2020-10-27T15:38:31.850523Z",
     "iopub.status.busy": "2020-10-27T15:38:31.849762Z",
     "iopub.status.idle": "2020-10-27T15:38:31.856767Z",
     "shell.execute_reply": "2020-10-27T15:38:31.855855Z"
    }
   },
   "outputs": [
    {
     "data": {
      "text/html": [
       "<i>Table length=20</i>\n",
       "<table id=\"table139985077471832\" class=\"table-striped table-bordered table-condensed\">\n",
       "<thead><tr><th>energy</th><th>e2dnde</th><th>excess</th><th>background</th><th>criterion</th></tr></thead>\n",
       "<thead><tr><th>TeV</th><th>erg / (cm2 s)</th><th></th><th></th><th></th></tr></thead>\n",
       "<thead><tr><th>float64</th><th>float64</th><th>float64</th><th>float64</th><th>bytes12</th></tr></thead>\n",
       "<tr><td>0.0356551</td><td>1.63575e-11</td><td>332.671</td><td>3326.71</td><td>bkg</td></tr>\n",
       "<tr><td>0.0503641</td><td>8.9751e-12</td><td>170.92</td><td>1709.2</td><td>bkg</td></tr>\n",
       "<tr><td>0.0711412</td><td>3.30491e-12</td><td>93.4135</td><td>772.154</td><td>significance</td></tr>\n",
       "<tr><td>0.10049</td><td>1.79794e-12</td><td>65.8876</td><td>376.846</td><td>significance</td></tr>\n",
       "<tr><td>0.141945</td><td>1.31428e-12</td><td>46.4073</td><td>181.867</td><td>significance</td></tr>\n",
       "<tr><td>0.200503</td><td>9.38912e-13</td><td>31.2766</td><td>78.9115</td><td>significance</td></tr>\n",
       "<tr><td>0.283218</td><td>6.43339e-13</td><td>21.5383</td><td>35.068</td><td>significance</td></tr>\n",
       "<tr><td>0.400056</td><td>5.17919e-13</td><td>15.004</td><td>15.4897</td><td>significance</td></tr>\n",
       "<tr><td>0.565095</td><td>3.79871e-13</td><td>11.0668</td><td>7.50542</td><td>significance</td></tr>\n",
       "<tr><td>0.798218</td><td>3.32974e-13</td><td>8.24132</td><td>3.53956</td><td>significance</td></tr>\n",
       "<tr><td>1.12751</td><td>2.887e-13</td><td>6.51802</td><td>1.84222</td><td>significance</td></tr>\n",
       "<tr><td>1.59265</td><td>2.41231e-13</td><td>5.67388</td><td>1.20949</td><td>significance</td></tr>\n",
       "<tr><td>2.24968</td><td>2.16291e-13</td><td>5</td><td>0.75267</td><td>gamma</td></tr>\n",
       "<tr><td>3.17776</td><td>2.29643e-13</td><td>5</td><td>0.473836</td><td>gamma</td></tr>\n",
       "<tr><td>4.48871</td><td>2.73642e-13</td><td>5</td><td>0.321889</td><td>gamma</td></tr>\n",
       "<tr><td>6.34047</td><td>3.57511e-13</td><td>5</td><td>0.188679</td><td>gamma</td></tr>\n",
       "<tr><td>8.95615</td><td>4.65419e-13</td><td>5</td><td>0.0862868</td><td>gamma</td></tr>\n",
       "<tr><td>12.6509</td><td>6.65067e-13</td><td>5</td><td>0.0456195</td><td>gamma</td></tr>\n",
       "<tr><td>17.8699</td><td>7.96271e-13</td><td>5</td><td>0.0266682</td><td>gamma</td></tr>\n",
       "<tr><td>25.2419</td><td>1.12581e-12</td><td>5</td><td>0.0124775</td><td>gamma</td></tr>\n",
       "</table>"
      ],
      "text/plain": [
       "<Table length=20>\n",
       "  energy      e2dnde     excess background  criterion  \n",
       "   TeV    erg / (cm2 s)                                \n",
       " float64     float64    float64  float64     bytes12   \n",
       "--------- ------------- ------- ---------- ------------\n",
       "0.0356551   1.63575e-11 332.671    3326.71          bkg\n",
       "0.0503641    8.9751e-12  170.92     1709.2          bkg\n",
       "0.0711412   3.30491e-12 93.4135    772.154 significance\n",
       "  0.10049   1.79794e-12 65.8876    376.846 significance\n",
       " 0.141945   1.31428e-12 46.4073    181.867 significance\n",
       " 0.200503   9.38912e-13 31.2766    78.9115 significance\n",
       " 0.283218   6.43339e-13 21.5383     35.068 significance\n",
       " 0.400056   5.17919e-13  15.004    15.4897 significance\n",
       " 0.565095   3.79871e-13 11.0668    7.50542 significance\n",
       " 0.798218   3.32974e-13 8.24132    3.53956 significance\n",
       "  1.12751     2.887e-13 6.51802    1.84222 significance\n",
       "  1.59265   2.41231e-13 5.67388    1.20949 significance\n",
       "  2.24968   2.16291e-13       5    0.75267        gamma\n",
       "  3.17776   2.29643e-13       5   0.473836        gamma\n",
       "  4.48871   2.73642e-13       5   0.321889        gamma\n",
       "  6.34047   3.57511e-13       5   0.188679        gamma\n",
       "  8.95615   4.65419e-13       5  0.0862868        gamma\n",
       "  12.6509   6.65067e-13       5  0.0456195        gamma\n",
       "  17.8699   7.96271e-13       5  0.0266682        gamma\n",
       "  25.2419   1.12581e-12       5  0.0124775        gamma"
      ]
     },
     "execution_count": 1,
     "metadata": {},
     "output_type": "execute_result"
    }
   ],
   "source": [
    "# Show the results table\n",
    "sensitivity_table"
   ]
  },
  {
   "cell_type": "code",
   "execution_count": 10,
   "metadata": {
    "execution": {
     "iopub.execute_input": "2020-10-27T15:38:31.860378Z",
     "iopub.status.busy": "2020-10-27T15:38:31.859819Z",
     "iopub.status.idle": "2020-10-27T15:38:31.862664Z",
     "shell.execute_reply": "2020-10-27T15:38:31.863067Z"
    }
   },
   "outputs": [],
   "source": [
    "# Save it to file (could use e.g. format of CSV or ECSV or FITS)\n",
    "# sensitivity_table.write('sensitivity.ecsv', format='ascii.ecsv')"
   ]
  },
  {
   "cell_type": "code",
   "execution_count": 11,
   "metadata": {
    "execution": {
     "iopub.execute_input": "2020-10-27T15:38:31.895467Z",
     "iopub.status.busy": "2020-10-27T15:38:31.890309Z",
     "iopub.status.idle": "2020-10-27T15:38:32.503994Z",
     "shell.execute_reply": "2020-10-27T15:38:32.503522Z"
    }
   },
   "outputs": [
    {
     "data": {
      "text/plain": [
       "<matplotlib.legend.Legend at 0x7f50d0d22f98>"
      ]
     },
     "execution_count": 1,
     "metadata": {},
     "output_type": "execute_result"
    },
    {
     "data": {
      "image/png": "[encoded data removed]",
      "text/plain": [
       "<Figure size 432x288 with 1 Axes>"
      ]
     },
     "metadata": {
      "needs_background": "light"
     },
     "output_type": "display_data"
    }
   ],
   "source": [
    "# Plot the sensitivity curve\n",
    "t = sensitivity_table\n",
    "\n",
    "is_s = t[\"criterion\"] == \"significance\"\n",
    "plt.plot(\n",
    "    t[\"energy\"][is_s],\n",
    "    t[\"e2dnde\"][is_s],\n",
    "    \"s-\",\n",
    "    color=\"red\",\n",
    "    label=\"significance\",\n",
    ")\n",
    "\n",
    "is_g = t[\"criterion\"] == \"gamma\"\n",
    "plt.plot(\n",
    "    t[\"energy\"][is_g], t[\"e2dnde\"][is_g], \"*-\", color=\"blue\", label=\"gamma\"\n",
    ")\n",
    "is_bkg_syst = t[\"criterion\"] == \"bkg\"\n",
    "plt.plot(\n",
    "    t[\"energy\"][is_bkg_syst],\n",
    "    t[\"e2dnde\"][is_bkg_syst],\n",
    "    \"v-\",\n",
    "    color=\"green\",\n",
    "    label=\"bkg syst\",\n",
    ")\n",
    "\n",
    "plt.loglog()\n",
    "plt.xlabel(f\"Energy ({t['energy'].unit})\")\n",
    "plt.ylabel(f\"Sensitivity ({t['e2dnde'].unit})\")\n",
    "plt.legend();"
   ]
  },
  {
   "cell_type": "markdown",
   "metadata": {},
   "source": [
    "We add some control plots showing the expected number of background counts per bin and the ON region size cut (here the 68% containment radius of the PSF)."
   ]
  },
  {
   "cell_type": "code",
   "execution_count": 12,
   "metadata": {
    "execution": {
     "iopub.execute_input": "2020-10-27T15:38:32.527156Z",
     "iopub.status.busy": "2020-10-27T15:38:32.509622Z",
     "iopub.status.idle": "2020-10-27T15:38:33.341078Z",
     "shell.execute_reply": "2020-10-27T15:38:33.339796Z"
    }
   },
   "outputs": [
    {
     "data": {
      "text/plain": [
       "(0.01, 0.5)"
      ]
     },
     "execution_count": 1,
     "metadata": {},
     "output_type": "execute_result"
    },
    {
     "data": {
      "image/png": "[encoded data removed]",
      "text/plain": [
       "<Figure size 432x288 with 2 Axes>"
      ]
     },
     "metadata": {
      "needs_background": "light"
     },
     "output_type": "display_data"
    }
   ],
   "source": [
    "# Plot expected number of counts for signal and background\n",
    "fig, ax1 = plt.subplots()\n",
    "# ax1.plot( t[\"energy\"], t[\"excess\"],\"o-\", color=\"red\", label=\"signal\")\n",
    "ax1.plot(\n",
    "    t[\"energy\"], t[\"background\"], \"o-\", color=\"black\", label=\"blackground\"\n",
    ")\n",
    "\n",
    "ax1.loglog()\n",
    "ax1.set_xlabel(f\"Energy ({t['energy'].unit})\")\n",
    "ax1.set_ylabel(\"Expected number of bkg counts\")\n",
    "\n",
    "ax2 = ax1.twinx()\n",
    "ax2.set_ylabel(f\"ON region radius ({on_radii.unit})\", color=\"red\")\n",
    "ax2.semilogy(t[\"energy\"], on_radii, color=\"red\", label=\"PSF68\")\n",
    "ax2.tick_params(axis=\"y\", labelcolor=\"red\")\n",
    "ax2.set_ylim(0.01, 0.5)"
   ]
  },
  {
   "cell_type": "markdown",
   "metadata": {},
   "source": [
    "## Exercises\n",
    "\n",
    "* Also compute the sensitivity for a 20 hour observation\n",
    "* Compare how the sensitivity differs between 5 and 20 hours by plotting the ratio as a function of energy."
   ]
  },
  {
   "cell_type": "code",
   "execution_count": null,
   "metadata": {},
   "outputs": [],
   "source": []
  },
  {
   "cell_type": "code",
   "execution_count": null,
   "metadata": {},
   "outputs": [],
   "source": []
  }
 ],
 "metadata": {
  "kernelspec": {
   "display_name": "Python 3",
   "language": "python",
   "name": "python3"
  },
  "language_info": {
   "codemirror_mode": {
    "name": "ipython",
    "version": 3
   },
   "file_extension": ".py",
   "mimetype": "text/x-python",
   "name": "python",
   "nbconvert_exporter": "python",
   "pygments_lexer": "ipython3",
   "version": "3.7.0"
  },
  "nbsphinx": {
   "orphan": true
  }
 },
 "nbformat": 4,
 "nbformat_minor": 2
}
