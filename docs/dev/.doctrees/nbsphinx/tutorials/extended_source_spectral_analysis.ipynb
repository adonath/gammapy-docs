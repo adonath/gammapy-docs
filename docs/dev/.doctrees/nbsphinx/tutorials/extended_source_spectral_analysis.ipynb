{
 "cells": [
  {
   "cell_type": "markdown",
   "metadata": {},
   "source": [
    "\n",
    "<div class=\"alert alert-info\">\n",
    "\n",
    "**This is a fixed-text formatted version of a Jupyter notebook**\n",
    "\n",
    "- Try online [![Binder](https://static.mybinder.org/badge.svg)](https://mybinder.org/v2/gh/gammapy/gammapy-webpage/master?urlpath=lab/tree/extended_source_spectral_analysis.ipynb)\n",
    "- You may download all the notebooks in the documentation as a [tar file](../_downloads/notebooks-dev.tar).\n",
    "- **Source files:**\n",
    "[extended_source_spectral_analysis.ipynb](../_static/notebooks/extended_source_spectral_analysis.ipynb) |\n",
    "[extended_source_spectral_analysis.py](../_static/notebooks/extended_source_spectral_analysis.py)\n",
    "</div>\n"
   ]
  },
  {
   "cell_type": "markdown",
   "metadata": {},
   "source": [
    "# Spectral analysis of extended sources\n",
    "\n",
    "## Prerequisites:\n",
    "\n",
    "- Understanding of spectral analysis techniques in classical Cherenkov astronomy.\n",
    "- Understanding of how the spectrum and cube extraction API works, please refer to the [spectrum extraction notebook](spectrum_analysis.ipynb) and to the [3D analysis notebook](analysis_2.ipynb).\n",
    "\n",
    "## Context\n",
    "\n",
    "Many VHE sources in the Galaxy are extended. Studying them with a 1D spectral analysis is more complex than studying point sources. \n",
    "One often has to use complex (i.e. non circular) regions and more importantly, one has to take into account the fact that the instrument response is non uniform over the selectred region.\n",
    "A typical example is given by the supernova remnant RX J1713-3935 which is nearly 1 degree in diameter. See the [following article](https://ui.adsabs.harvard.edu/abs/2018A%26A...612A...6H/abstract).\n",
    "\n",
    "**Objective: Measure the spectrum of RX J1713-3945 in a 1 degree region fully enclosing it.**\n",
    "\n",
    "## Proposed approach:\n",
    "\n",
    "We have seen in the general presentation of the spectrum extraction for point sources, see [the corresponding notebook](spectrum_analysis.ipynb), that Gammapy uses specific datasets makers to first produce reduced spectral data and then to extract OFF measurements with reflected background techniques: the `~gammapy.makers.SpectrumDatasetMaker` and the `~gammapy.makers.ReflectedRegionsBackgroundMaker`. The former simply computes the reduced IRF at the center of the ON region (assumed to be circular).\n",
    "\n",
    "This is no longer valid for extended sources. To be able to compute average responses in the ON region, Gammapy relies on the creation of a cube enclosing it (i.e. a `~gammapy.datasets.MapDataset`) which can be reduced to a simple spectrum (i.e. a `~gammapy.datasets.SpectrumDataset`). We can then proceed with the OFF extraction as the standard point source case.\n",
    "\n",
    "In summary, we have to:\n",
    "\n",
    "- Define an ON region (a `~regions.SkyRegion`) fully enclosing the source we want to study.\n",
    "- Define a geometry that fully contains the region and that covers the required energy range (beware in particular, the true energy range).  \n",
    "- Create the necessary makers : \n",
    "    - the map dataset maker : `~gammapy.makers.MapDatasetMaker`\n",
    "    - the OFF background maker, here a `~gammapy.makers.ReflectedRegionsBackgroundMaker`\n",
    "    - and usually the safe range maker : `~gammapy.makers.SafeRangeMaker`\n",
    "- Perform the data reduction loop. And for every observation:\n",
    "    - Produce a map dataset and squeeze it to a spectrum dataset with `~gammapy.datasets.MapDataset.to_spectrum_dataset(on_region)`\n",
    "    - Extract the OFF data to produce a `~gammapy.datasets.SpectrumDatasetOnOff` and compute a safe range for it.\n",
    "    - Stack or store the resulting spectrum dataset.\n",
    "- Finally proceed with model fitting on the dataset as usual.\n",
    "\n",
    "Here, we will use the RX J1713-3945 observations from the H.E.S.S. first public test data release. The tutorial is implemented with the intermediate level API.\n",
    "\n",
    "## Setup \n",
    "\n",
    "As usual, we'll start with some general imports..."
   ]
  },
  {
   "cell_type": "code",
   "execution_count": 1,
   "metadata": {
    "execution": {
     "iopub.execute_input": "2021-02-02T18:15:31.821427Z",
     "iopub.status.busy": "2021-02-02T18:15:31.820425Z",
     "iopub.status.idle": "2021-02-02T18:15:32.110488Z",
     "shell.execute_reply": "2021-02-02T18:15:32.110968Z"
    }
   },
   "outputs": [],
   "source": [
    "%matplotlib inline\n",
    "import matplotlib.pyplot as plt"
   ]
  },
  {
   "cell_type": "code",
   "execution_count": 2,
   "metadata": {
    "execution": {
     "iopub.execute_input": "2021-02-02T18:15:32.116441Z",
     "iopub.status.busy": "2021-02-02T18:15:32.115874Z",
     "iopub.status.idle": "2021-02-02T18:15:33.127507Z",
     "shell.execute_reply": "2021-02-02T18:15:33.128061Z"
    }
   },
   "outputs": [],
   "source": [
    "import astropy.units as u\n",
    "from astropy.coordinates import SkyCoord, Angle\n",
    "from regions import CircleSkyRegion\n",
    "from gammapy.maps import Map, MapAxis, WcsGeom\n",
    "from gammapy.modeling import Fit\n",
    "from gammapy.data import DataStore\n",
    "from gammapy.modeling.models import PowerLawSpectralModel, SkyModel\n",
    "from gammapy.datasets import Datasets, MapDataset\n",
    "from gammapy.makers import (\n",
    "    SafeMaskMaker,\n",
    "    MapDatasetMaker,\n",
    "    ReflectedRegionsBackgroundMaker,\n",
    ")"
   ]
  },
  {
   "cell_type": "markdown",
   "metadata": {},
   "source": [
    "## Select the data\n",
    "\n",
    "We first set the datastore and retrieve a few observations from our source."
   ]
  },
  {
   "cell_type": "code",
   "execution_count": 3,
   "metadata": {
    "execution": {
     "iopub.execute_input": "2021-02-02T18:15:33.133649Z",
     "iopub.status.busy": "2021-02-02T18:15:33.132918Z",
     "iopub.status.idle": "2021-02-02T18:15:33.181644Z",
     "shell.execute_reply": "2021-02-02T18:15:33.180968Z"
    }
   },
   "outputs": [],
   "source": [
    "datastore = DataStore.from_dir(\"$GAMMAPY_DATA/hess-dl3-dr1/\")\n",
    "obs_ids = [20326, 20327, 20349, 20350, 20396, 20397]\n",
    "# In case you want to use all RX J1713 data in the HESS DR1\n",
    "# other_ids=[20421, 20422, 20517, 20518, 20519, 20521, 20898, 20899, 20900]\n",
    "\n",
    "observations = datastore.get_observations(obs_ids)"
   ]
  },
  {
   "cell_type": "markdown",
   "metadata": {},
   "source": [
    "## Prepare the datasets creation"
   ]
  },
  {
   "cell_type": "markdown",
   "metadata": {},
   "source": [
    "### Select the ON region\n",
    "\n",
    "Here we take a simple 1 degree circular region because it fits well with the morphology of RX J1713-3945. More complex regions could be used e.g. `~regions.EllipseSkyRegion` or `~regions.RectangleSkyRegion`."
   ]
  },
  {
   "cell_type": "code",
   "execution_count": 4,
   "metadata": {
    "execution": {
     "iopub.execute_input": "2021-02-02T18:15:33.188043Z",
     "iopub.status.busy": "2021-02-02T18:15:33.186889Z",
     "iopub.status.idle": "2021-02-02T18:15:33.188566Z",
     "shell.execute_reply": "2021-02-02T18:15:33.189066Z"
    }
   },
   "outputs": [],
   "source": [
    "target_position = SkyCoord(347.3, -0.5, unit=\"deg\", frame=\"galactic\")\n",
    "radius = Angle(\"0.5 deg\")\n",
    "on_region = CircleSkyRegion(target_position, radius)"
   ]
  },
  {
   "cell_type": "markdown",
   "metadata": {},
   "source": [
    "### Define the geometries\n",
    "\n",
    "This part is especially important. \n",
    "- We have to define first energy axes. They define the axes of the resulting `~gammapy.datasets.SpectrumDatasetOnOff`. In particular, we have to be careful to the true energy axis: it has to cover a larger range than the reconstructed energy one.\n",
    "- Then we define the geometry itself. It does not need to be very finely binned and should enclose all the ON region. To limit CPU and memory usage, one should avoid using a much larger region."
   ]
  },
  {
   "cell_type": "code",
   "execution_count": 5,
   "metadata": {
    "execution": {
     "iopub.execute_input": "2021-02-02T18:15:33.197384Z",
     "iopub.status.busy": "2021-02-02T18:15:33.196161Z",
     "iopub.status.idle": "2021-02-02T18:15:33.197905Z",
     "shell.execute_reply": "2021-02-02T18:15:33.198397Z"
    }
   },
   "outputs": [],
   "source": [
    "# The binning of the final spectrum is defined here.\n",
    "energy_axis = MapAxis.from_energy_bounds(0.3, 40.0, 10, unit=\"TeV\")\n",
    "\n",
    "# Reduced IRFs are defined in true energy (i.e. not measured energy).\n",
    "energy_axis_true = MapAxis.from_energy_bounds(\n",
    "    0.05, 100, 30, unit=\"TeV\", name=\"energy_true\"\n",
    ")\n",
    "\n",
    "# Here we use 1.5 degree which is slightly larger than needed.\n",
    "geom = WcsGeom.create(\n",
    "    skydir=target_position,\n",
    "    binsz=0.04,\n",
    "    width=(1.5, 1.5),\n",
    "    frame=\"galactic\",\n",
    "    proj=\"CAR\",\n",
    "    axes=[energy_axis],\n",
    ")"
   ]
  },
  {
   "cell_type": "markdown",
   "metadata": {},
   "source": [
    "### Create the makers\n",
    "\n",
    "First we instantiate the target `~gammapy.datasets.MapDataset`.  "
   ]
  },
  {
   "cell_type": "code",
   "execution_count": 6,
   "metadata": {
    "execution": {
     "iopub.execute_input": "2021-02-02T18:15:33.202995Z",
     "iopub.status.busy": "2021-02-02T18:15:33.202289Z",
     "iopub.status.idle": "2021-02-02T18:15:33.213502Z",
     "shell.execute_reply": "2021-02-02T18:15:33.213929Z"
    }
   },
   "outputs": [],
   "source": [
    "stacked = MapDataset.create(\n",
    "    geom=geom, energy_axis_true=energy_axis_true, name=\"rxj-stacked\"\n",
    ")"
   ]
  },
  {
   "cell_type": "markdown",
   "metadata": {},
   "source": [
    "Now we create its associated maker. Here we need to produce, counts, exposure and edisp (energy dispersion) entries. PSF and IRF background are not needed, therefore we don't compute them."
   ]
  },
  {
   "cell_type": "code",
   "execution_count": 7,
   "metadata": {
    "execution": {
     "iopub.execute_input": "2021-02-02T18:15:33.218352Z",
     "iopub.status.busy": "2021-02-02T18:15:33.217211Z",
     "iopub.status.idle": "2021-02-02T18:15:33.218957Z",
     "shell.execute_reply": "2021-02-02T18:15:33.219457Z"
    }
   },
   "outputs": [],
   "source": [
    "maker = MapDatasetMaker(selection=[\"counts\", \"exposure\", \"edisp\"])"
   ]
  },
  {
   "cell_type": "markdown",
   "metadata": {},
   "source": [
    "Now we create the OFF background maker for the spectra. If we have an exclusion region, we have to pass it here. We also define the safe range maker."
   ]
  },
  {
   "cell_type": "code",
   "execution_count": 8,
   "metadata": {
    "execution": {
     "iopub.execute_input": "2021-02-02T18:15:33.224510Z",
     "iopub.status.busy": "2021-02-02T18:15:33.223215Z",
     "iopub.status.idle": "2021-02-02T18:15:33.225045Z",
     "shell.execute_reply": "2021-02-02T18:15:33.225541Z"
    }
   },
   "outputs": [],
   "source": [
    "bkg_maker = ReflectedRegionsBackgroundMaker()\n",
    "safe_mask_maker = SafeMaskMaker(\n",
    "    methods=[\"aeff-default\", \"aeff-max\"], aeff_percent=10\n",
    ")"
   ]
  },
  {
   "cell_type": "markdown",
   "metadata": {},
   "source": [
    "## Perform the data reduction loop.\n",
    "\n",
    "We can now run over selected observations. For each of them, we:\n",
    "- create the map dataset and stack it on our target dataset.\n",
    "- squeeze the map dataset to a spectral dataset in the ON region\n",
    "- Compute the OFF and create a `~gammapy.datasets.SpectrumDatasetOnOff` object\n",
    "- Run the safe mask maker on it\n",
    "- Add the `~gammapy.datasets.SpectrumDatasetOnOff` to the list."
   ]
  },
  {
   "cell_type": "code",
   "execution_count": 9,
   "metadata": {
    "execution": {
     "iopub.execute_input": "2021-02-02T18:15:33.234283Z",
     "iopub.status.busy": "2021-02-02T18:15:33.233420Z",
     "iopub.status.idle": "2021-02-02T18:15:37.375886Z",
     "shell.execute_reply": "2021-02-02T18:15:37.376425Z"
    }
   },
   "outputs": [
    {
     "name": "stdout",
     "output_type": "stream",
     "text": [
      "CPU times: user 4.03 s, sys: 111 ms, total: 4.14 s\n",
      "Wall time: 4.14 s\n"
     ]
    }
   ],
   "source": [
    "%%time\n",
    "datasets = Datasets()\n",
    "\n",
    "for obs in observations:\n",
    "    # A MapDataset is filled in this geometry\n",
    "    dataset = maker.run(stacked, obs)\n",
    "    # To make images, the resulting dataset cutout is stacked onto the final one\n",
    "    stacked.stack(dataset)\n",
    "\n",
    "    # Extract 1D spectrum\n",
    "    spectrum_dataset = dataset.to_spectrum_dataset(\n",
    "        on_region, name=f\"obs-{obs.obs_id}\"\n",
    "    )\n",
    "    # Compute OFF\n",
    "    spectrum_dataset = bkg_maker.run(spectrum_dataset, obs)\n",
    "    # Define safe mask\n",
    "    spectrum_dataset = safe_mask_maker.run(spectrum_dataset, obs)\n",
    "    # Append dataset to the list\n",
    "    datasets.append(spectrum_dataset)"
   ]
  },
  {
   "cell_type": "code",
   "execution_count": 10,
   "metadata": {
    "execution": {
     "iopub.execute_input": "2021-02-02T18:15:37.386862Z",
     "iopub.status.busy": "2021-02-02T18:15:37.386092Z",
     "iopub.status.idle": "2021-02-02T18:15:37.392202Z",
     "shell.execute_reply": "2021-02-02T18:15:37.393014Z"
    }
   },
   "outputs": [
    {
     "data": {
      "text/html": [
       "<i>Table length=6</i>\n",
       "<table id=\"table140676662853816\" class=\"table-striped table-bordered table-condensed\">\n",
       "<thead><tr><th>NAME</th><th>TYPE</th><th>TELESCOP</th><th>OBS_ID</th><th>RA_PNT</th><th>DEC_PNT</th></tr></thead>\n",
       "<thead><tr><th></th><th></th><th></th><th></th><th>deg</th><th>deg</th></tr></thead>\n",
       "<thead><tr><th>str9</th><th>str20</th><th>str4</th><th>int64</th><th>float64</th><th>float64</th></tr></thead>\n",
       "<tr><td>obs-20326</td><td>SpectrumDatasetOnOff</td><td>HESS</td><td>20326</td><td>259.29852294921875</td><td>-39.76222229003906</td></tr>\n",
       "<tr><td>obs-20327</td><td>SpectrumDatasetOnOff</td><td>HESS</td><td>20327</td><td>257.4773254394531</td><td>-39.76222229003906</td></tr>\n",
       "<tr><td>obs-20349</td><td>SpectrumDatasetOnOff</td><td>HESS</td><td>20349</td><td>259.29852294921875</td><td>-39.76222229003906</td></tr>\n",
       "<tr><td>obs-20350</td><td>SpectrumDatasetOnOff</td><td>HESS</td><td>20350</td><td>257.4773254394531</td><td>-39.76222229003906</td></tr>\n",
       "<tr><td>obs-20396</td><td>SpectrumDatasetOnOff</td><td>HESS</td><td>20396</td><td>258.3879089355469</td><td>-39.06222152709961</td></tr>\n",
       "<tr><td>obs-20397</td><td>SpectrumDatasetOnOff</td><td>HESS</td><td>20397</td><td>258.3879089355469</td><td>-40.462223052978516</td></tr>\n",
       "</table>"
      ],
      "text/plain": [
       "<Table length=6>\n",
       "   NAME           TYPE         ...       RA_PNT             DEC_PNT      \n",
       "                               ...        deg                 deg        \n",
       "   str9          str20         ...      float64             float64      \n",
       "--------- -------------------- ... ------------------ -------------------\n",
       "obs-20326 SpectrumDatasetOnOff ... 259.29852294921875  -39.76222229003906\n",
       "obs-20327 SpectrumDatasetOnOff ...  257.4773254394531  -39.76222229003906\n",
       "obs-20349 SpectrumDatasetOnOff ... 259.29852294921875  -39.76222229003906\n",
       "obs-20350 SpectrumDatasetOnOff ...  257.4773254394531  -39.76222229003906\n",
       "obs-20396 SpectrumDatasetOnOff ...  258.3879089355469  -39.06222152709961\n",
       "obs-20397 SpectrumDatasetOnOff ...  258.3879089355469 -40.462223052978516"
      ]
     },
     "execution_count": 1,
     "metadata": {},
     "output_type": "execute_result"
    }
   ],
   "source": [
    "datasets.meta_table"
   ]
  },
  {
   "cell_type": "markdown",
   "metadata": {},
   "source": [
    "## Explore the results"
   ]
  },
  {
   "cell_type": "markdown",
   "metadata": {},
   "source": [
    "First let's look at the data to see if our region is correct.\n",
    "We plot it over the excess. To do so we convert it to a pixel region using the WCS information stored on the geom."
   ]
  },
  {
   "cell_type": "code",
   "execution_count": 11,
   "metadata": {
    "execution": {
     "iopub.execute_input": "2021-02-02T18:15:37.399453Z",
     "iopub.status.busy": "2021-02-02T18:15:37.398907Z",
     "iopub.status.idle": "2021-02-02T18:15:37.649732Z",
     "shell.execute_reply": "2021-02-02T18:15:37.650455Z"
    },
    "nbsphinx-thumbnail": {
     "tooltip": "Measure the spectrum of RX J1713-3945 in a 1 degree region fully enclosing it."
    }
   },
   "outputs": [
    {
     "data": {
      "text/plain": [
       "<WCSAxesSubplot:xlabel='Galactic Longitude', ylabel='Galactic Latitude'>"
      ]
     },
     "execution_count": 1,
     "metadata": {},
     "output_type": "execute_result"
    },
    {
     "data": {
      "image/png": "[encoded data removed]",
      "text/plain": [
       "<Figure size 432x288 with 1 Axes>"
      ]
     },
     "metadata": {
      "needs_background": "light"
     },
     "output_type": "display_data"
    }
   ],
   "source": [
    "stacked.counts.sum_over_axes().smooth(width=\"0.05 deg\").plot()\n",
    "on_region.to_pixel(stacked.counts.geom.wcs).plot()"
   ]
  },
  {
   "cell_type": "markdown",
   "metadata": {},
   "source": [
    "We now turn to the spectral datasets. We can peek at their content:"
   ]
  },
  {
   "cell_type": "code",
   "execution_count": 12,
   "metadata": {
    "execution": {
     "iopub.execute_input": "2021-02-02T18:15:37.653181Z",
     "iopub.status.busy": "2021-02-02T18:15:37.652680Z",
     "iopub.status.idle": "2021-02-02T18:15:39.112715Z",
     "shell.execute_reply": "2021-02-02T18:15:39.113158Z"
    }
   },
   "outputs": [
    {
     "name": "stderr",
     "output_type": "stream",
     "text": [
      "/home/runner/work/gammapy-docs/gammapy-docs/gammapy/gammapy/irf/edisp_kernel.py:525: MatplotlibDeprecationWarning: Passing parameters norm and vmin/vmax simultaneously is deprecated since 3.3 and will become an error two minor releases later. Please pass vmin/vmax directly to the norm when creating it.\n",
      "  caxes = ax.pcolormesh(energy_true.value, energy.value, self.data.T, **kwargs)\n"
     ]
    },
    {
     "data": {
      "text/plain": [
       "(<AxesSubplot:title={'center':'Counts'}, xlabel='Energy [TeV]'>,\n",
       " <AxesSubplot:title={'center':'Exposure'}, xlabel='Energy_true [TeV]', ylabel='Data [m2 s]'>,\n",
       " <AxesSubplot:title={'center':'Energy Dispersion'}, xlabel='$E_\\\\mathrm{True}$ [TeV]', ylabel='$E_\\\\mathrm{Reco}$ [TeV]'>)"
      ]
     },
     "execution_count": 1,
     "metadata": {},
     "output_type": "execute_result"
    },
    {
     "data": {
      "image/png": "[encoded data removed]",
      "text/plain": [
       "<Figure size 1152x288 with 3 Axes>"
      ]
     },
     "metadata": {
      "needs_background": "light"
     },
     "output_type": "display_data"
    }
   ],
   "source": [
    "datasets[0].peek()"
   ]
  },
  {
   "cell_type": "markdown",
   "metadata": {},
   "source": [
    "### Cumulative excess and signficance\n",
    "\n",
    "Finally, we can look at cumulative significance and number of excesses. This is done with the `info_table` method of `~gammapy.datasets.Datasets`. "
   ]
  },
  {
   "cell_type": "code",
   "execution_count": 13,
   "metadata": {
    "execution": {
     "iopub.execute_input": "2021-02-02T18:15:39.154085Z",
     "iopub.status.busy": "2021-02-02T18:15:39.132155Z",
     "iopub.status.idle": "2021-02-02T18:15:39.388509Z",
     "shell.execute_reply": "2021-02-02T18:15:39.387604Z"
    }
   },
   "outputs": [],
   "source": [
    "info_table = datasets.info_table(cumulative=True)"
   ]
  },
  {
   "cell_type": "code",
   "execution_count": 14,
   "metadata": {
    "execution": {
     "iopub.execute_input": "2021-02-02T18:15:39.395585Z",
     "iopub.status.busy": "2021-02-02T18:15:39.395081Z",
     "iopub.status.idle": "2021-02-02T18:15:39.400659Z",
     "shell.execute_reply": "2021-02-02T18:15:39.400111Z"
    }
   },
   "outputs": [
    {
     "data": {
      "text/html": [
       "<i>Table length=6</i>\n",
       "<table id=\"table140675872384728\" class=\"table-striped table-bordered table-condensed\">\n",
       "<thead><tr><th>name</th><th>counts</th><th>background</th><th>excess</th><th>sqrt_ts</th><th>npred</th><th>npred_background</th><th>npred_signal</th><th>exposure_min</th><th>exposure_max</th><th>livetime</th><th>ontime</th><th>counts_rate</th><th>background_rate</th><th>excess_rate</th><th>n_bins</th><th>n_fit_bins</th><th>stat_type</th><th>stat_sum</th><th>counts_off</th><th>acceptance</th><th>acceptance_off</th><th>alpha</th></tr></thead>\n",
       "<thead><tr><th></th><th></th><th></th><th></th><th></th><th></th><th></th><th></th><th>m2 s</th><th>m2 s</th><th>s</th><th>s</th><th>1 / s</th><th>1 / s</th><th>1 / s</th><th></th><th></th><th></th><th></th><th></th><th></th><th></th><th></th></tr></thead>\n",
       "<thead><tr><th>str7</th><th>float32</th><th>float32</th><th>float32</th><th>float64</th><th>float64</th><th>float64</th><th>float64</th><th>float32</th><th>float32</th><th>float64</th><th>float64</th><th>float64</th><th>float64</th><th>float64</th><th>int64</th><th>int64</th><th>str5</th><th>float64</th><th>float32</th><th>float32</th><th>float32</th><th>float32</th></tr></thead>\n",
       "<tr><td>stacked</td><td>450.0</td><td>343.5</td><td>106.5</td><td>4.405517626186096</td><td>378.99999999999994</td><td>378.99999999999994</td><td>nan</td><td>4309258.0</td><td>422238140.0</td><td>1683.0</td><td>1683.0</td><td>0.26737967914438504</td><td>0.20409982174688057</td><td>0.06327985739750445</td><td>10</td><td>10</td><td>wstat</td><td>41.61958763049381</td><td>687.0</td><td>10.0</td><td>20.0</td><td>0.5</td></tr>\n",
       "<tr><td>stacked</td><td>845.0</td><td>670.5</td><td>174.5</td><td>5.215405763158092</td><td>728.6666666666667</td><td>728.6666666666667</td><td>nan</td><td>14662719.0</td><td>832059000.0</td><td>3366.0</td><td>3366.0</td><td>0.2510398098633393</td><td>0.19919786096256684</td><td>0.05184194890077243</td><td>10</td><td>10</td><td>wstat</td><td>68.99758872776457</td><td>1341.0</td><td>10.0</td><td>20.0</td><td>0.5</td></tr>\n",
       "<tr><td>stacked</td><td>1288.0</td><td>983.0</td><td>305.0</td><td>7.457874883123557</td><td>1084.6666666666667</td><td>1084.6666666666667</td><td>nan</td><td>25046840.0</td><td>1241412900.0</td><td>5048.0</td><td>5048.0</td><td>0.2551505546751189</td><td>0.19473058637083993</td><td>0.06041996830427892</td><td>10</td><td>10</td><td>wstat</td><td>110.36192929546861</td><td>1966.0</td><td>10.0</td><td>20.0</td><td>0.5</td></tr>\n",
       "<tr><td>stacked</td><td>1725.0</td><td>1341.0</td><td>384.0</td><td>8.075257505628382</td><td>1468.9999999999998</td><td>1468.9999999999998</td><td>nan</td><td>29517316.0</td><td>1662189600.0</td><td>6730.0</td><td>6730.0</td><td>0.2563150074294205</td><td>0.19925705794947995</td><td>0.05705794947994056</td><td>10</td><td>10</td><td>wstat</td><td>150.0079604278264</td><td>2682.0</td><td>10.0</td><td>20.0</td><td>0.5</td></tr>\n",
       "<tr><td>stacked</td><td>2198.0</td><td>1653.0001</td><td>544.9999</td><td>10.400166037309209</td><td>1823.1466301979633</td><td>1823.1466301979633</td><td>nan</td><td>39224336.0</td><td>2071146400.0</td><td>8413.0</td><td>8413.0</td><td>0.2612623321050755</td><td>0.1964816500737326</td><td>0.06478068203134286</td><td>10</td><td>10</td><td>wstat</td><td>193.54833987070623</td><td>3618.0</td><td>10.0</td><td>21.887476</td><td>0.44348058</td></tr>\n",
       "<tr><td>stacked</td><td>2626.0</td><td>2001.5001</td><td>624.4999</td><td>10.837684594884903</td><td>2198.593368883069</td><td>2198.593368883069</td><td>nan</td><td>41782884.0</td><td>2500415700.0</td><td>10095.0</td><td>10095.0</td><td>0.26012877662209016</td><td>0.1982664806409423</td><td>0.06186229598114785</td><td>10</td><td>10</td><td>wstat</td><td>213.44165945792784</td><td>4315.0</td><td>10.0</td><td>21.55883</td><td>0.44853574</td></tr>\n",
       "</table>"
      ],
      "text/plain": [
       "<Table length=6>\n",
       "  name   counts background  excess  ... acceptance acceptance_off   alpha   \n",
       "                                    ...                                     \n",
       "  str7  float32  float32   float32  ...  float32      float32      float32  \n",
       "------- ------- ---------- -------- ... ---------- -------------- ----------\n",
       "stacked   450.0      343.5    106.5 ...       10.0           20.0        0.5\n",
       "stacked   845.0      670.5    174.5 ...       10.0           20.0        0.5\n",
       "stacked  1288.0      983.0    305.0 ...       10.0           20.0        0.5\n",
       "stacked  1725.0     1341.0    384.0 ...       10.0           20.0        0.5\n",
       "stacked  2198.0  1653.0001 544.9999 ...       10.0      21.887476 0.44348058\n",
       "stacked  2626.0  2001.5001 624.4999 ...       10.0       21.55883 0.44853574"
      ]
     },
     "execution_count": 1,
     "metadata": {},
     "output_type": "execute_result"
    }
   ],
   "source": [
    "info_table"
   ]
  },
  {
   "cell_type": "code",
   "execution_count": 15,
   "metadata": {
    "execution": {
     "iopub.execute_input": "2021-02-02T18:15:39.441534Z",
     "iopub.status.busy": "2021-02-02T18:15:39.428805Z",
     "iopub.status.idle": "2021-02-02T18:15:39.622809Z",
     "shell.execute_reply": "2021-02-02T18:15:39.622243Z"
    }
   },
   "outputs": [
    {
     "data": {
      "text/plain": [
       "Text(0, 0.5, 'Sqrt(TS)')"
      ]
     },
     "execution_count": 1,
     "metadata": {},
     "output_type": "execute_result"
    },
    {
     "data": {
      "image/png": "[encoded data removed]",
      "text/plain": [
       "<Figure size 720x432 with 2 Axes>"
      ]
     },
     "metadata": {
      "needs_background": "light"
     },
     "output_type": "display_data"
    }
   ],
   "source": [
    "fig = plt.figure(figsize=(10, 6))\n",
    "ax = fig.add_subplot(121)\n",
    "ax.plot(\n",
    "    info_table[\"livetime\"].to(\"h\"), info_table[\"excess\"], marker=\"o\", ls=\"none\"\n",
    ")\n",
    "plt.xlabel(\"Livetime [h]\")\n",
    "plt.ylabel(\"Excess events\")\n",
    "\n",
    "ax = fig.add_subplot(122)\n",
    "ax.plot(\n",
    "    info_table[\"livetime\"].to(\"h\"),\n",
    "    info_table[\"sqrt_ts\"],\n",
    "    marker=\"o\",\n",
    "    ls=\"none\",\n",
    ")\n",
    "plt.xlabel(\"Livetime [h]\")\n",
    "plt.ylabel(\"Sqrt(TS)\");"
   ]
  },
  {
   "cell_type": "markdown",
   "metadata": {},
   "source": [
    "## Perform spectral model fitting\n",
    "\n",
    "Here we perform a joint fit. \n",
    "\n",
    "We first create the model, here a simple powerlaw, and assign it to every dataset in the `~gammapy.datasets.Datasets`."
   ]
  },
  {
   "cell_type": "code",
   "execution_count": 16,
   "metadata": {
    "execution": {
     "iopub.execute_input": "2021-02-02T18:15:39.633342Z",
     "iopub.status.busy": "2021-02-02T18:15:39.632816Z",
     "iopub.status.idle": "2021-02-02T18:15:39.636415Z",
     "shell.execute_reply": "2021-02-02T18:15:39.635855Z"
    }
   },
   "outputs": [],
   "source": [
    "spectral_model = PowerLawSpectralModel(\n",
    "    index=2, amplitude=2e-11 * u.Unit(\"cm-2 s-1 TeV-1\"), reference=1 * u.TeV\n",
    ")\n",
    "model = SkyModel(spectral_model=spectral_model, name=\"RXJ 1713\")\n",
    "\n",
    "datasets.models = [model]"
   ]
  },
  {
   "cell_type": "markdown",
   "metadata": {},
   "source": [
    "Now we can run the fit"
   ]
  },
  {
   "cell_type": "code",
   "execution_count": 17,
   "metadata": {
    "execution": {
     "iopub.execute_input": "2021-02-02T18:15:39.642193Z",
     "iopub.status.busy": "2021-02-02T18:15:39.640585Z",
     "iopub.status.idle": "2021-02-02T18:15:40.668784Z",
     "shell.execute_reply": "2021-02-02T18:15:40.668243Z"
    }
   },
   "outputs": [
    {
     "name": "stdout",
     "output_type": "stream",
     "text": [
      "OptimizeResult\n",
      "\n",
      "\tbackend    : minuit\n",
      "\tmethod     : minuit\n",
      "\tsuccess    : True\n",
      "\tmessage    : Optimization terminated successfully.\n",
      "\tnfev       : 39\n",
      "\ttotal stat : 73.00\n",
      "\n"
     ]
    }
   ],
   "source": [
    "fit_joint = Fit(datasets)\n",
    "result_joint = fit_joint.run()\n",
    "print(result_joint)"
   ]
  },
  {
   "cell_type": "markdown",
   "metadata": {},
   "source": [
    "### Explore the fit results\n",
    "\n",
    "First the fitted parameters values and their errors."
   ]
  },
  {
   "cell_type": "code",
   "execution_count": 18,
   "metadata": {
    "execution": {
     "iopub.execute_input": "2021-02-02T18:15:40.675186Z",
     "iopub.status.busy": "2021-02-02T18:15:40.674685Z",
     "iopub.status.idle": "2021-02-02T18:15:40.679853Z",
     "shell.execute_reply": "2021-02-02T18:15:40.679391Z"
    }
   },
   "outputs": [
    {
     "data": {
      "text/html": [
       "<i>Table length=3</i>\n",
       "<table id=\"table140675872844208\" class=\"table-striped table-bordered table-condensed\">\n",
       "<thead><tr><th>type</th><th>name</th><th>value</th><th>unit</th><th>min</th><th>max</th><th>frozen</th><th>error</th></tr></thead>\n",
       "<thead><tr><th>str8</th><th>str9</th><th>float64</th><th>str14</th><th>float64</th><th>float64</th><th>bool</th><th>float64</th></tr></thead>\n",
       "<tr><td>spectral</td><td>index</td><td>2.1022e+00</td><td></td><td>nan</td><td>nan</td><td>False</td><td>6.659e-02</td></tr>\n",
       "<tr><td>spectral</td><td>amplitude</td><td>1.2869e-11</td><td>cm-2 s-1 TeV-1</td><td>nan</td><td>nan</td><td>False</td><td>1.023e-12</td></tr>\n",
       "<tr><td>spectral</td><td>reference</td><td>1.0000e+00</td><td>TeV</td><td>nan</td><td>nan</td><td>True</td><td>0.000e+00</td></tr>\n",
       "</table>"
      ],
      "text/plain": [
       "<Table length=3>\n",
       "  type      name     value         unit        min     max   frozen   error  \n",
       "  str8      str9    float64       str14      float64 float64  bool   float64 \n",
       "-------- --------- ---------- -------------- ------- ------- ------ ---------\n",
       "spectral     index 2.1022e+00                    nan     nan  False 6.659e-02\n",
       "spectral amplitude 1.2869e-11 cm-2 s-1 TeV-1     nan     nan  False 1.023e-12\n",
       "spectral reference 1.0000e+00            TeV     nan     nan   True 0.000e+00"
      ]
     },
     "execution_count": 1,
     "metadata": {},
     "output_type": "execute_result"
    }
   ],
   "source": [
    "result_joint.parameters.to_table()"
   ]
  },
  {
   "cell_type": "markdown",
   "metadata": {},
   "source": [
    "Then plot the fit result to compare measured and expected counts. Rather than plotting them for each individual dataset, we stack all datasets and plot the fit result on the result."
   ]
  },
  {
   "cell_type": "code",
   "execution_count": 19,
   "metadata": {
    "execution": {
     "iopub.execute_input": "2021-02-02T18:15:40.734906Z",
     "iopub.status.busy": "2021-02-02T18:15:40.686965Z",
     "iopub.status.idle": "2021-02-02T18:15:41.728017Z",
     "shell.execute_reply": "2021-02-02T18:15:41.727389Z"
    }
   },
   "outputs": [
    {
     "data": {
      "text/plain": [
       "(<AxesSubplot:ylabel='$\\\\mathrm{}$'>,\n",
       " <AxesSubplot:xlabel='Energy [TeV]', ylabel='Residuals\\ndata - model'>)"
      ]
     },
     "execution_count": 1,
     "metadata": {},
     "output_type": "execute_result"
    },
    {
     "data": {
      "image/png": "[encoded data removed]",
      "text/plain": [
       "<Figure size 576x504 with 2 Axes>"
      ]
     },
     "metadata": {
      "needs_background": "light"
     },
     "output_type": "display_data"
    }
   ],
   "source": [
    "# First stack them all\n",
    "reduced = datasets.stack_reduce()\n",
    "# Assign the fitted model\n",
    "reduced.models = model\n",
    "# Plot the result\n",
    "reduced.plot_fit();"
   ]
  },
  {
   "cell_type": "code",
   "execution_count": null,
   "metadata": {},
   "outputs": [],
   "source": []
  }
 ],
 "metadata": {
  "kernelspec": {
   "display_name": "Python 3",
   "language": "python",
   "name": "python3"
  },
  "language_info": {
   "codemirror_mode": {
    "name": "ipython",
    "version": 3
   },
   "file_extension": ".py",
   "mimetype": "text/x-python",
   "name": "python",
   "nbconvert_exporter": "python",
   "pygments_lexer": "ipython3",
   "version": "3.7.0"
  },
  "nbsphinx": {
   "orphan": true
  }
 },
 "nbformat": 4,
 "nbformat_minor": 4
}
