{
 "cells": [
  {
   "cell_type": "markdown",
   "metadata": {},
   "source": [
    "\n",
    "<div class=\"alert alert-info\">\n",
    "\n",
    "**This is a fixed-text formatted version of a Jupyter notebook**\n",
    "\n",
    "- Try online [![Binder](https://static.mybinder.org/badge.svg)](https://mybinder.org/v2/gh/gammapy/gammapy-webpage/master?urlpath=lab/tree/analysis_2.ipynb)\n",
    "- You may download all the notebooks in the documentation as a [tar file](../_downloads/notebooks-dev.tar).\n",
    "- **Source files:**\n",
    "[analysis_2.ipynb](../_static/notebooks/analysis_2.ipynb) |\n",
    "[analysis_2.py](../_static/notebooks/analysis_2.py)\n",
    "</div>\n"
   ]
  },
  {
   "cell_type": "markdown",
   "metadata": {},
   "source": [
    "# Low level API\n",
    "\n",
    "## Prerequisites:\n",
    "\n",
    "- Understanding the gammapy data workflow, in particular what are DL3 events and intrument response functions (IRF).\n",
    "- Understanding of the data reduction and modeling fitting process as shown in the [analysis with the high level interface tutorial](analysis_1.ipynb)\n",
    "\n",
    "## Context\n",
    "\n",
    "This notebook is an introduction to gammapy analysis this time using the lower level classes and functions\n",
    "the library.\n",
    "This allows to understand what happens during two main gammapy analysis steps, data reduction and modeling/fitting. \n",
    "\n",
    "**Objective: Create a 3D dataset of the Crab using the H.E.S.S. DL3 data release 1 and perform a simple model fitting of the Crab nebula using the lower level gammapy API.**\n",
    "\n",
    "## Proposed approach:\n",
    "\n",
    "Here, we have to interact with the data archive (with the `~gammapy.data.DataStore`) to retrieve a list of selected observations (`~gammapy.data.Observations`). Then, we define the geometry of the `~gammapy.datasets.MapDataset` object we want to produce and the maker object that reduce an observation\n",
    "to a dataset. \n",
    "\n",
    "We can then proceed with data reduction with a loop over all selected observations to produce datasets in the relevant geometry and stack them together (i.e. sum them all).\n",
    "\n",
    "In practice, we have to:\n",
    "- Create a `~gammapy.data.DataStore` poiting to the relevant data \n",
    "- Apply an observation selection to produce a list of observations, a `~gammapy.data.Observations` object.\n",
    "- Define a geometry of the Map we want to produce, with a sky projection and an energy range.\n",
    "    - Create a `~gammapy.maps.MapAxis` for the energy\n",
    "    - Create a `~gammapy.maps.WcsGeom` for the geometry\n",
    "- Create the necessary makers : \n",
    "    - the map dataset maker : `~gammapy.makers.MapDatasetMaker`\n",
    "    - the background normalization maker, here a `~gammapy.makers.FoVBackgroundMaker`\n",
    "    - and usually the safe range maker : `~gammapy.makers.SafeRangeMaker`\n",
    "- Perform the data reduction loop. And for every observation:\n",
    "    - Apply the makers sequentially to produce the current `~gammapy.datasets.MapDataset`\n",
    "    - Stack it on the target one.\n",
    "- Define the `~gammapy.modeling.models.SkyModel` to apply to the dataset.\n",
    "- Create a `~gammapy.modeling.Fit` object and run it to fit the model parameters\n",
    "- Apply a `~gammapy.estimators.FluxPointsEstimator` to compute flux points for the spectral part of the fit.\n",
    "\n",
    "## Setup\n",
    "First, we setup the analysis by performing required imports.\n"
   ]
  },
  {
   "cell_type": "code",
   "execution_count": 1,
   "metadata": {
    "execution": {
     "iopub.execute_input": "2021-02-02T18:12:12.509639Z",
     "iopub.status.busy": "2021-02-02T18:12:12.508831Z",
     "iopub.status.idle": "2021-02-02T18:12:12.803099Z",
     "shell.execute_reply": "2021-02-02T18:12:12.802424Z"
    }
   },
   "outputs": [],
   "source": [
    "%matplotlib inline\n",
    "import matplotlib.pyplot as plt"
   ]
  },
  {
   "cell_type": "code",
   "execution_count": 2,
   "metadata": {
    "execution": {
     "iopub.execute_input": "2021-02-02T18:12:12.806919Z",
     "iopub.status.busy": "2021-02-02T18:12:12.806147Z",
     "iopub.status.idle": "2021-02-02T18:12:13.238475Z",
     "shell.execute_reply": "2021-02-02T18:12:13.237920Z"
    }
   },
   "outputs": [],
   "source": [
    "from pathlib import Path\n",
    "from astropy import units as u\n",
    "from astropy.coordinates import SkyCoord\n",
    "from regions import CircleSkyRegion"
   ]
  },
  {
   "cell_type": "code",
   "execution_count": 3,
   "metadata": {
    "execution": {
     "iopub.execute_input": "2021-02-02T18:12:13.243182Z",
     "iopub.status.busy": "2021-02-02T18:12:13.242683Z",
     "iopub.status.idle": "2021-02-02T18:12:13.799882Z",
     "shell.execute_reply": "2021-02-02T18:12:13.798840Z"
    }
   },
   "outputs": [],
   "source": [
    "from gammapy.data import DataStore\n",
    "from gammapy.datasets import MapDataset\n",
    "from gammapy.maps import WcsGeom, MapAxis, Map\n",
    "from gammapy.makers import MapDatasetMaker, SafeMaskMaker, FoVBackgroundMaker\n",
    "from gammapy.modeling.models import (\n",
    "    SkyModel,\n",
    "    PowerLawSpectralModel,\n",
    "    PointSpatialModel,\n",
    "    FoVBackgroundModel,\n",
    ")\n",
    "from gammapy.modeling import Fit\n",
    "from gammapy.estimators import FluxPointsEstimator"
   ]
  },
  {
   "cell_type": "markdown",
   "metadata": {},
   "source": [
    "## Defining the datastore and selecting observations\n",
    "\n",
    "We first use the `~gammapy.data.DataStore` object to access the observations we want to analyse. Here the H.E.S.S. DL3 DR1. "
   ]
  },
  {
   "cell_type": "code",
   "execution_count": 4,
   "metadata": {
    "execution": {
     "iopub.execute_input": "2021-02-02T18:12:13.804379Z",
     "iopub.status.busy": "2021-02-02T18:12:13.803865Z",
     "iopub.status.idle": "2021-02-02T18:12:13.839898Z",
     "shell.execute_reply": "2021-02-02T18:12:13.840619Z"
    }
   },
   "outputs": [],
   "source": [
    "data_store = DataStore.from_dir(\"$GAMMAPY_DATA/hess-dl3-dr1\")"
   ]
  },
  {
   "cell_type": "markdown",
   "metadata": {},
   "source": [
    "We can now define an observation filter to select only the relevant observations. \n",
    "Here we use a cone search which we define with a python dict.\n",
    "\n",
    "We then filter the `ObservationTable` with `~gammapy.data.ObservationTable.select_observations()`."
   ]
  },
  {
   "cell_type": "code",
   "execution_count": 5,
   "metadata": {
    "execution": {
     "iopub.execute_input": "2021-02-02T18:12:13.844899Z",
     "iopub.status.busy": "2021-02-02T18:12:13.843134Z",
     "iopub.status.idle": "2021-02-02T18:12:13.855570Z",
     "shell.execute_reply": "2021-02-02T18:12:13.856116Z"
    }
   },
   "outputs": [],
   "source": [
    "selection = dict(\n",
    "    type=\"sky_circle\",\n",
    "    frame=\"icrs\",\n",
    "    lon=\"83.633 deg\",\n",
    "    lat=\"22.014 deg\",\n",
    "    radius=\"5 deg\",\n",
    ")\n",
    "selected_obs_table = data_store.obs_table.select_observations(selection)"
   ]
  },
  {
   "cell_type": "markdown",
   "metadata": {},
   "source": [
    "We can now retrieve the relevant observations by passing their `obs_id` to the`~gammapy.data.DataStore.get_observations()` method."
   ]
  },
  {
   "cell_type": "code",
   "execution_count": 6,
   "metadata": {
    "execution": {
     "iopub.execute_input": "2021-02-02T18:12:13.867861Z",
     "iopub.status.busy": "2021-02-02T18:12:13.866953Z",
     "iopub.status.idle": "2021-02-02T18:12:13.870504Z",
     "shell.execute_reply": "2021-02-02T18:12:13.870094Z"
    }
   },
   "outputs": [],
   "source": [
    "observations = data_store.get_observations(selected_obs_table[\"OBS_ID\"])"
   ]
  },
  {
   "cell_type": "markdown",
   "metadata": {},
   "source": [
    "## Preparing reduced datasets geometry\n",
    "\n",
    "Now we define a reference geometry for our analysis, We choose a WCS based geometry with a binsize of 0.02 deg and also define an energy axis: "
   ]
  },
  {
   "cell_type": "code",
   "execution_count": 7,
   "metadata": {
    "execution": {
     "iopub.execute_input": "2021-02-02T18:12:13.878485Z",
     "iopub.status.busy": "2021-02-02T18:12:13.877472Z",
     "iopub.status.idle": "2021-02-02T18:12:13.881306Z",
     "shell.execute_reply": "2021-02-02T18:12:13.881711Z"
    }
   },
   "outputs": [],
   "source": [
    "energy_axis = MapAxis.from_energy_bounds(1.0, 10.0, 4, unit=\"TeV\")\n",
    "\n",
    "geom = WcsGeom.create(\n",
    "    skydir=(83.633, 22.014),\n",
    "    binsz=0.02,\n",
    "    width=(2, 2),\n",
    "    frame=\"icrs\",\n",
    "    proj=\"CAR\",\n",
    "    axes=[energy_axis],\n",
    ")\n",
    "\n",
    "# Reduced IRFs are defined in true energy (i.e. not measured energy).\n",
    "energy_axis_true = MapAxis.from_energy_bounds(\n",
    "    0.5, 20, 10, unit=\"TeV\", name=\"energy_true\"\n",
    ")"
   ]
  },
  {
   "cell_type": "markdown",
   "metadata": {},
   "source": [
    "Now we can define the target dataset with this geometry."
   ]
  },
  {
   "cell_type": "code",
   "execution_count": 8,
   "metadata": {
    "execution": {
     "iopub.execute_input": "2021-02-02T18:12:13.888275Z",
     "iopub.status.busy": "2021-02-02T18:12:13.887703Z",
     "iopub.status.idle": "2021-02-02T18:12:13.897923Z",
     "shell.execute_reply": "2021-02-02T18:12:13.898333Z"
    }
   },
   "outputs": [],
   "source": [
    "stacked = MapDataset.create(\n",
    "    geom=geom, energy_axis_true=energy_axis_true, name=\"crab-stacked\"\n",
    ")"
   ]
  },
  {
   "cell_type": "markdown",
   "metadata": {},
   "source": [
    "## Data reduction\n",
    "\n",
    "### Create the maker classes to be used\n",
    "\n",
    "The `~gammapy.datasets.MapDatasetMaker` object is initialized as well as the `~gammapy.makers.SafeMaskMaker` that carries here a maximum offset selection."
   ]
  },
  {
   "cell_type": "code",
   "execution_count": 9,
   "metadata": {
    "execution": {
     "iopub.execute_input": "2021-02-02T18:12:13.902941Z",
     "iopub.status.busy": "2021-02-02T18:12:13.901936Z",
     "iopub.status.idle": "2021-02-02T18:12:13.904275Z",
     "shell.execute_reply": "2021-02-02T18:12:13.903620Z"
    }
   },
   "outputs": [],
   "source": [
    "offset_max = 2.5 * u.deg\n",
    "maker = MapDatasetMaker()\n",
    "maker_safe_mask = SafeMaskMaker(methods=[\"offset-max\"], offset_max=offset_max)"
   ]
  },
  {
   "cell_type": "code",
   "execution_count": 10,
   "metadata": {
    "execution": {
     "iopub.execute_input": "2021-02-02T18:12:13.909058Z",
     "iopub.status.busy": "2021-02-02T18:12:13.908343Z",
     "iopub.status.idle": "2021-02-02T18:12:13.925522Z",
     "shell.execute_reply": "2021-02-02T18:12:13.924965Z"
    }
   },
   "outputs": [],
   "source": [
    "circle = CircleSkyRegion(\n",
    "    center=SkyCoord(\"83.63 deg\", \"22.14 deg\"), radius=0.2 * u.deg\n",
    ")\n",
    "exclusion_mask = geom.region_mask(regions=[circle], inside=False)\n",
    "maker_fov = FoVBackgroundMaker(method=\"fit\", exclusion_mask=exclusion_mask)"
   ]
  },
  {
   "cell_type": "markdown",
   "metadata": {},
   "source": [
    "### Perform the data reduction loop"
   ]
  },
  {
   "cell_type": "code",
   "execution_count": 11,
   "metadata": {
    "execution": {
     "iopub.execute_input": "2021-02-02T18:12:13.933631Z",
     "iopub.status.busy": "2021-02-02T18:12:13.933089Z",
     "iopub.status.idle": "2021-02-02T18:12:16.781351Z",
     "shell.execute_reply": "2021-02-02T18:12:16.780786Z"
    }
   },
   "outputs": [
    {
     "name": "stdout",
     "output_type": "stream",
     "text": [
      "Background norm obs 23523: 0.99\n",
      "Background norm obs 23526: 1.08\n",
      "Background norm obs 23559: 0.99\n",
      "Background norm obs 23592: 1.10\n",
      "CPU times: user 2.69 s, sys: 155 ms, total: 2.85 s\n",
      "Wall time: 2.85 s\n"
     ]
    }
   ],
   "source": [
    "%%time\n",
    "\n",
    "for obs in observations:\n",
    "    # First a cutout of the target map is produced\n",
    "    cutout = stacked.cutout(\n",
    "        obs.pointing_radec, width=2 * offset_max, name=f\"obs-{obs.obs_id}\"\n",
    "    )\n",
    "    # A MapDataset is filled in this cutout geometry\n",
    "    dataset = maker.run(cutout, obs)\n",
    "    # The data quality cut is applied\n",
    "    dataset = maker_safe_mask.run(dataset, obs)\n",
    "    # fit background model\n",
    "    dataset = maker_fov.run(dataset)\n",
    "    print(\n",
    "        f\"Background norm obs {obs.obs_id}: {dataset.background_model.spectral_model.norm.value:.2f}\"\n",
    "    )\n",
    "    # The resulting dataset cutout is stacked onto the final one\n",
    "    stacked.stack(dataset)"
   ]
  },
  {
   "cell_type": "code",
   "execution_count": 12,
   "metadata": {
    "execution": {
     "iopub.execute_input": "2021-02-02T18:12:16.785441Z",
     "iopub.status.busy": "2021-02-02T18:12:16.784643Z",
     "iopub.status.idle": "2021-02-02T18:12:16.791460Z",
     "shell.execute_reply": "2021-02-02T18:12:16.790764Z"
    }
   },
   "outputs": [
    {
     "name": "stdout",
     "output_type": "stream",
     "text": [
      "MapDataset\n",
      "----------\n",
      "\n",
      "  Name                            : crab-stacked \n",
      "\n",
      "  Total counts                    : 2479 \n",
      "  Total background counts         : 2112.97\n",
      "  Total excess counts             : 366.03\n",
      "\n",
      "  Predicted counts                : 2112.97\n",
      "  Predicted background counts     : 2112.97\n",
      "  Predicted excess counts         : nan\n",
      "\n",
      "  Exposure min                    : 3.75e+08 m2 s\n",
      "  Exposure max                    : 3.48e+09 m2 s\n",
      "\n",
      "  Number of total bins            : 40000 \n",
      "  Number of fit bins              : 40000 \n",
      "\n",
      "  Fit statistic type              : cash\n",
      "  Fit statistic value (-2 log(L)) : nan\n",
      "\n",
      "  Number of models                : 0 \n",
      "  Number of parameters            : 0\n",
      "  Number of free parameters       : 0\n",
      "\n",
      "\n"
     ]
    }
   ],
   "source": [
    "print(stacked)"
   ]
  },
  {
   "cell_type": "markdown",
   "metadata": {},
   "source": [
    "### Inspect the reduced dataset"
   ]
  },
  {
   "cell_type": "code",
   "execution_count": 13,
   "metadata": {
    "execution": {
     "iopub.execute_input": "2021-02-02T18:12:16.796413Z",
     "iopub.status.busy": "2021-02-02T18:12:16.795232Z",
     "iopub.status.idle": "2021-02-02T18:12:17.322250Z",
     "shell.execute_reply": "2021-02-02T18:12:17.322980Z"
    }
   },
   "outputs": [
    {
     "data": {
      "text/plain": [
       "(<Figure size 432x288 with 2 Axes>,\n",
       " <WCSAxesSubplot:xlabel='Right Ascension', ylabel='Declination'>,\n",
       " <matplotlib.colorbar.Colorbar at 0x7f66c5df6ac8>)"
      ]
     },
     "execution_count": 1,
     "metadata": {},
     "output_type": "execute_result"
    },
    {
     "data": {
      "image/png": "[encoded data removed]",
      "text/plain": [
       "<Figure size 432x288 with 2 Axes>"
      ]
     },
     "metadata": {
      "needs_background": "light"
     },
     "output_type": "display_data"
    }
   ],
   "source": [
    "stacked.counts.sum_over_axes().smooth(0.05 * u.deg).plot(\n",
    "    stretch=\"sqrt\", add_cbar=True\n",
    ");"
   ]
  },
  {
   "cell_type": "markdown",
   "metadata": {},
   "source": [
    "## Save dataset to disk\n",
    "\n",
    "It is common to run the preparation step independent of the likelihood fit, because often the preparation of maps, PSF and energy dispersion is slow if you have a lot of data. We first create a folder:"
   ]
  },
  {
   "cell_type": "code",
   "execution_count": 14,
   "metadata": {
    "execution": {
     "iopub.execute_input": "2021-02-02T18:12:17.327361Z",
     "iopub.status.busy": "2021-02-02T18:12:17.326852Z",
     "iopub.status.idle": "2021-02-02T18:12:17.329680Z",
     "shell.execute_reply": "2021-02-02T18:12:17.330326Z"
    }
   },
   "outputs": [],
   "source": [
    "path = Path(\"analysis_2\")\n",
    "path.mkdir(exist_ok=True)"
   ]
  },
  {
   "cell_type": "markdown",
   "metadata": {},
   "source": [
    "And then write the maps and IRFs to disk by calling the dedicated `~gammapy.datasets.MapDataset.write()` method:"
   ]
  },
  {
   "cell_type": "code",
   "execution_count": 15,
   "metadata": {
    "execution": {
     "iopub.execute_input": "2021-02-02T18:12:17.409337Z",
     "iopub.status.busy": "2021-02-02T18:12:17.344749Z",
     "iopub.status.idle": "2021-02-02T18:12:17.586309Z",
     "shell.execute_reply": "2021-02-02T18:12:17.585239Z"
    }
   },
   "outputs": [],
   "source": [
    "filename = path / \"crab-stacked-dataset.fits.gz\"\n",
    "stacked.write(filename, overwrite=True)"
   ]
  },
  {
   "cell_type": "markdown",
   "metadata": {},
   "source": [
    "## Define the model\n",
    "We first define the model, a `SkyModel`, as the combination of a point source `SpatialModel` with a powerlaw `SpectralModel`:"
   ]
  },
  {
   "cell_type": "code",
   "execution_count": 16,
   "metadata": {
    "execution": {
     "iopub.execute_input": "2021-02-02T18:12:17.599900Z",
     "iopub.status.busy": "2021-02-02T18:12:17.598312Z",
     "iopub.status.idle": "2021-02-02T18:12:17.615306Z",
     "shell.execute_reply": "2021-02-02T18:12:17.614370Z"
    }
   },
   "outputs": [],
   "source": [
    "target_position = SkyCoord(ra=83.63308, dec=22.01450, unit=\"deg\")\n",
    "spatial_model = PointSpatialModel(\n",
    "    lon_0=target_position.ra, lat_0=target_position.dec, frame=\"icrs\"\n",
    ")\n",
    "\n",
    "spectral_model = PowerLawSpectralModel(\n",
    "    index=2.702,\n",
    "    amplitude=4.712e-11 * u.Unit(\"1 / (cm2 s TeV)\"),\n",
    "    reference=1 * u.TeV,\n",
    ")\n",
    "\n",
    "sky_model = SkyModel(\n",
    "    spatial_model=spatial_model, spectral_model=spectral_model, name=\"crab\"\n",
    ")\n",
    "\n",
    "bkg_model = FoVBackgroundModel(dataset_name=\"crab-stacked\")"
   ]
  },
  {
   "cell_type": "markdown",
   "metadata": {},
   "source": [
    "Now we assign this model to our reduced dataset:"
   ]
  },
  {
   "cell_type": "code",
   "execution_count": 17,
   "metadata": {
    "execution": {
     "iopub.execute_input": "2021-02-02T18:12:17.619658Z",
     "iopub.status.busy": "2021-02-02T18:12:17.619167Z",
     "iopub.status.idle": "2021-02-02T18:12:17.622439Z",
     "shell.execute_reply": "2021-02-02T18:12:17.621907Z"
    }
   },
   "outputs": [],
   "source": [
    "stacked.models = [sky_model, bkg_model]"
   ]
  },
  {
   "cell_type": "markdown",
   "metadata": {},
   "source": [
    "## Fit the model\n",
    "\n",
    "The `~gammapy.modeling.Fit` class is orchestrating the fit, connecting the `stats` method of the dataset to the minimizer. By default, it uses `iminuit`.\n",
    "\n",
    "Its contructor takes a list of dataset as argument."
   ]
  },
  {
   "cell_type": "code",
   "execution_count": 18,
   "metadata": {
    "execution": {
     "iopub.execute_input": "2021-02-02T18:12:17.628530Z",
     "iopub.status.busy": "2021-02-02T18:12:17.628012Z",
     "iopub.status.idle": "2021-02-02T18:12:24.612581Z",
     "shell.execute_reply": "2021-02-02T18:12:24.613011Z"
    }
   },
   "outputs": [
    {
     "name": "stderr",
     "output_type": "stream",
     "text": [
      "Center position for crab model is outside dataset mask safe, using nearest IRF defined within\n",
      "Center position for crab model is outside dataset mask safe, using nearest IRF defined within\n",
      "Center position for crab model is outside dataset mask safe, using nearest IRF defined within\n",
      "Center position for crab model is outside dataset mask safe, using nearest IRF defined within\n",
      "Center position for crab model is outside dataset mask safe, using nearest IRF defined within\n",
      "Center position for crab model is outside dataset mask safe, using nearest IRF defined within\n",
      "Center position for crab model is outside dataset mask safe, using nearest IRF defined within\n",
      "Center position for crab model is outside dataset mask safe, using nearest IRF defined within\n",
      "Center position for crab model is outside dataset mask safe, using nearest IRF defined within\n"
     ]
    },
    {
     "name": "stdout",
     "output_type": "stream",
     "text": [
      "┌──────────────────────────────────┬──────────────────────────────────────┐\n",
      "│ FCN = 1.624e+04                  │        Nfcn = 133 (133 total)        │\n",
      "│ EDM = 7.07e-05 (Goal: 0.0002)    │                                      │\n",
      "├───────────────┬──────────────────┼──────────────────────────────────────┤\n",
      "│ Valid Minimum │ Valid Parameters │        No Parameters at limit        │\n",
      "├───────────────┴──────────────────┼──────────────────────────────────────┤\n",
      "│ Below EDM threshold (goal x 10)  │           Below call limit           │\n",
      "├───────────────┬──────────────────┼───────────┬─────────────┬────────────┤\n",
      "│   Hesse ok    │  Has Covariance  │ Accurate  │  Pos. def.  │ Not forced │\n",
      "└───────────────┴──────────────────┴───────────┴─────────────┴────────────┘\n",
      "CPU times: user 6.45 s, sys: 540 ms, total: 6.99 s\n",
      "Wall time: 6.98 s\n"
     ]
    }
   ],
   "source": [
    "%%time\n",
    "fit = Fit([stacked])\n",
    "result = fit.run(optimize_opts={\"print_level\": 1})"
   ]
  },
  {
   "cell_type": "markdown",
   "metadata": {},
   "source": [
    "The `FitResult` contains information on the fitted parameters."
   ]
  },
  {
   "cell_type": "code",
   "execution_count": 19,
   "metadata": {
    "execution": {
     "iopub.execute_input": "2021-02-02T18:12:24.623224Z",
     "iopub.status.busy": "2021-02-02T18:12:24.622690Z",
     "iopub.status.idle": "2021-02-02T18:12:24.625113Z",
     "shell.execute_reply": "2021-02-02T18:12:24.625616Z"
    }
   },
   "outputs": [
    {
     "data": {
      "text/html": [
       "<i>Table length=8</i>\n",
       "<table id=\"table140079387994600\" class=\"table-striped table-bordered table-condensed\">\n",
       "<thead><tr><th>type</th><th>name</th><th>value</th><th>unit</th><th>min</th><th>max</th><th>frozen</th><th>error</th></tr></thead>\n",
       "<thead><tr><th>str8</th><th>str9</th><th>float64</th><th>str14</th><th>float64</th><th>float64</th><th>bool</th><th>float64</th></tr></thead>\n",
       "<tr><td>spectral</td><td>index</td><td>2.5987e+00</td><td></td><td>nan</td><td>nan</td><td>False</td><td>1.004e-01</td></tr>\n",
       "<tr><td>spectral</td><td>amplitude</td><td>4.5842e-11</td><td>cm-2 s-1 TeV-1</td><td>nan</td><td>nan</td><td>False</td><td>3.700e-12</td></tr>\n",
       "<tr><td>spectral</td><td>reference</td><td>1.0000e+00</td><td>TeV</td><td>nan</td><td>nan</td><td>True</td><td>0.000e+00</td></tr>\n",
       "<tr><td>spatial</td><td>lon_0</td><td>8.3619e+01</td><td>deg</td><td>nan</td><td>nan</td><td>False</td><td>3.106e-03</td></tr>\n",
       "<tr><td>spatial</td><td>lat_0</td><td>2.2024e+01</td><td>deg</td><td>-9.000e+01</td><td>9.000e+01</td><td>False</td><td>2.955e-03</td></tr>\n",
       "<tr><td>spectral</td><td>norm</td><td>9.3488e-01</td><td></td><td>nan</td><td>nan</td><td>False</td><td>2.192e-02</td></tr>\n",
       "<tr><td>spectral</td><td>tilt</td><td>0.0000e+00</td><td></td><td>nan</td><td>nan</td><td>True</td><td>0.000e+00</td></tr>\n",
       "<tr><td>spectral</td><td>reference</td><td>1.0000e+00</td><td>TeV</td><td>nan</td><td>nan</td><td>True</td><td>0.000e+00</td></tr>\n",
       "</table>"
      ],
      "text/plain": [
       "<Table length=8>\n",
       "  type      name     value         unit      ...    max    frozen   error  \n",
       "  str8      str9    float64       str14      ...  float64   bool   float64 \n",
       "-------- --------- ---------- -------------- ... --------- ------ ---------\n",
       "spectral     index 2.5987e+00                ...       nan  False 1.004e-01\n",
       "spectral amplitude 4.5842e-11 cm-2 s-1 TeV-1 ...       nan  False 3.700e-12\n",
       "spectral reference 1.0000e+00            TeV ...       nan   True 0.000e+00\n",
       " spatial     lon_0 8.3619e+01            deg ...       nan  False 3.106e-03\n",
       " spatial     lat_0 2.2024e+01            deg ... 9.000e+01  False 2.955e-03\n",
       "spectral      norm 9.3488e-01                ...       nan  False 2.192e-02\n",
       "spectral      tilt 0.0000e+00                ...       nan   True 0.000e+00\n",
       "spectral reference 1.0000e+00            TeV ...       nan   True 0.000e+00"
      ]
     },
     "execution_count": 1,
     "metadata": {},
     "output_type": "execute_result"
    }
   ],
   "source": [
    "result.parameters.to_table()"
   ]
  },
  {
   "cell_type": "markdown",
   "metadata": {},
   "source": [
    "### Inspecting residuals\n",
    "\n",
    "For any fit it is useful to inspect the residual images. We have a few options on the dataset object to handle this. First we can use `.plot_residuals_spatial()` to plot a residual image, summed over all energies:"
   ]
  },
  {
   "cell_type": "code",
   "execution_count": 20,
   "metadata": {
    "execution": {
     "iopub.execute_input": "2021-02-02T18:12:24.629814Z",
     "iopub.status.busy": "2021-02-02T18:12:24.629321Z",
     "iopub.status.idle": "2021-02-02T18:12:24.895442Z",
     "shell.execute_reply": "2021-02-02T18:12:24.895975Z"
    },
    "nbsphinx-thumbnail": {
     "tooltip": "Introduction to Gammapy analysis using the low level API."
    }
   },
   "outputs": [
    {
     "name": "stderr",
     "output_type": "stream",
     "text": [
      "/usr/share/miniconda/envs/gammapy-dev/lib/python3.7/site-packages/astropy/visualization/wcsaxes/core.py:211: MatplotlibDeprecationWarning: Passing parameters norm and vmin/vmax simultaneously is deprecated since 3.3 and will become an error two minor releases later. Please pass vmin/vmax directly to the norm when creating it.\n",
      "  return super().imshow(X, *args, origin=origin, **kwargs)\n"
     ]
    },
    {
     "data": {
      "text/plain": [
       "<WCSAxesSubplot:xlabel='Right Ascension', ylabel='Declination'>"
      ]
     },
     "execution_count": 1,
     "metadata": {},
     "output_type": "execute_result"
    },
    {
     "data": {
      "image/png": "[encoded data removed]",
      "text/plain": [
       "<Figure size 432x288 with 2 Axes>"
      ]
     },
     "metadata": {
      "needs_background": "light"
     },
     "output_type": "display_data"
    }
   ],
   "source": [
    "stacked.plot_residuals_spatial(method=\"diff/sqrt(model)\", vmin=-0.5, vmax=0.5);"
   ]
  },
  {
   "cell_type": "markdown",
   "metadata": {},
   "source": [
    "In addition, we can also specify a region in the map to show the spectral residuals:"
   ]
  },
  {
   "cell_type": "code",
   "execution_count": 21,
   "metadata": {
    "execution": {
     "iopub.execute_input": "2021-02-02T18:12:24.900816Z",
     "iopub.status.busy": "2021-02-02T18:12:24.900195Z",
     "iopub.status.idle": "2021-02-02T18:12:24.902934Z",
     "shell.execute_reply": "2021-02-02T18:12:24.903430Z"
    }
   },
   "outputs": [],
   "source": [
    "region = CircleSkyRegion(\n",
    "    center=SkyCoord(\"83.63 deg\", \"22.14 deg\"), radius=0.5 * u.deg\n",
    ")"
   ]
  },
  {
   "cell_type": "code",
   "execution_count": 22,
   "metadata": {
    "execution": {
     "iopub.execute_input": "2021-02-02T18:12:24.913043Z",
     "iopub.status.busy": "2021-02-02T18:12:24.912535Z",
     "iopub.status.idle": "2021-02-02T18:12:25.483478Z",
     "shell.execute_reply": "2021-02-02T18:12:25.483923Z"
    }
   },
   "outputs": [
    {
     "name": "stderr",
     "output_type": "stream",
     "text": [
      "/usr/share/miniconda/envs/gammapy-dev/lib/python3.7/site-packages/astropy/visualization/wcsaxes/core.py:211: MatplotlibDeprecationWarning: Passing parameters norm and vmin/vmax simultaneously is deprecated since 3.3 and will become an error two minor releases later. Please pass vmin/vmax directly to the norm when creating it.\n",
      "  return super().imshow(X, *args, origin=origin, **kwargs)\n"
     ]
    },
    {
     "data": {
      "text/plain": [
       "(<WCSAxesSubplot:xlabel='Right Ascension', ylabel='Declination'>,\n",
       " <AxesSubplot:xlabel='Energy [TeV]', ylabel='Residuals (data - model)'>)"
      ]
     },
     "execution_count": 1,
     "metadata": {},
     "output_type": "execute_result"
    },
    {
     "data": {
      "image/png": "[encoded data removed]",
      "text/plain": [
       "<Figure size 864x288 with 3 Axes>"
      ]
     },
     "metadata": {
      "needs_background": "light"
     },
     "output_type": "display_data"
    }
   ],
   "source": [
    "stacked.plot_residuals(\n",
    "    kwargs_spatial=dict(method=\"diff/sqrt(model)\", vmin=-0.5, vmax=0.5),\n",
    "    kwargs_spectral=dict(region=region),\n",
    ");"
   ]
  },
  {
   "cell_type": "markdown",
   "metadata": {},
   "source": [
    "We can also directly access the `.residuals()` to get a map, that we can plot interactively:"
   ]
  },
  {
   "cell_type": "code",
   "execution_count": 23,
   "metadata": {
    "execution": {
     "iopub.execute_input": "2021-02-02T18:12:25.492998Z",
     "iopub.status.busy": "2021-02-02T18:12:25.492363Z",
     "iopub.status.idle": "2021-02-02T18:12:25.843046Z",
     "shell.execute_reply": "2021-02-02T18:12:25.843557Z"
    }
   },
   "outputs": [
    {
     "data": {
      "application/vnd.jupyter.widget-view+json": {
       "model_id": "bab3a9f987e14c0a9b9131c7c4cd76ed",
       "version_major": 2,
       "version_minor": 0
      },
      "text/plain": [
       "interactive(children=(SelectionSlider(continuous_update=False, description='Select energy:', layout=Layout(wid…"
      ]
     },
     "metadata": {},
     "output_type": "display_data"
    }
   ],
   "source": [
    "residuals = stacked.residuals(method=\"diff\")\n",
    "residuals.smooth(\"0.08 deg\").plot_interactive(\n",
    "    cmap=\"coolwarm\", vmin=-0.2, vmax=0.2, stretch=\"linear\", add_cbar=True\n",
    ");"
   ]
  },
  {
   "cell_type": "markdown",
   "metadata": {},
   "source": [
    "## Plot the fitted spectrum"
   ]
  },
  {
   "cell_type": "markdown",
   "metadata": {},
   "source": [
    "### Making a butterfly plot \n",
    "\n",
    "The `SpectralModel` component can be used to produce a, so-called, butterfly plot showing the enveloppe of the model taking into account parameter uncertainties:"
   ]
  },
  {
   "cell_type": "code",
   "execution_count": 24,
   "metadata": {
    "execution": {
     "iopub.execute_input": "2021-02-02T18:12:25.851562Z",
     "iopub.status.busy": "2021-02-02T18:12:25.850840Z",
     "iopub.status.idle": "2021-02-02T18:12:25.852082Z",
     "shell.execute_reply": "2021-02-02T18:12:25.852579Z"
    }
   },
   "outputs": [],
   "source": [
    "spec = sky_model.spectral_model"
   ]
  },
  {
   "cell_type": "markdown",
   "metadata": {},
   "source": [
    "Now we can actually do the plot using the `plot_error` method:"
   ]
  },
  {
   "cell_type": "code",
   "execution_count": 25,
   "metadata": {
    "execution": {
     "iopub.execute_input": "2021-02-02T18:12:25.874898Z",
     "iopub.status.busy": "2021-02-02T18:12:25.866756Z",
     "iopub.status.idle": "2021-02-02T18:12:26.360078Z",
     "shell.execute_reply": "2021-02-02T18:12:26.360699Z"
    }
   },
   "outputs": [
    {
     "name": "stderr",
     "output_type": "stream",
     "text": [
      "/home/runner/work/gammapy-docs/gammapy-docs/gammapy/gammapy/modeling/models/spectral.py:387: MatplotlibDeprecationWarning: The 'nonposx' parameter of __init__() has been renamed 'nonpositive' since Matplotlib 3.3; support for the old name will be dropped two minor releases later.\n",
      "  ax.set_xscale(\"log\", nonposx=\"clip\")\n",
      "/home/runner/work/gammapy-docs/gammapy-docs/gammapy/gammapy/modeling/models/spectral.py:388: MatplotlibDeprecationWarning: The 'nonposy' parameter of __init__() has been renamed 'nonpositive' since Matplotlib 3.3; support for the old name will be dropped two minor releases later.\n",
      "  ax.set_yscale(\"log\", nonposy=\"clip\")\n"
     ]
    },
    {
     "data": {
      "image/png": "[encoded data removed]",
      "text/plain": [
       "<Figure size 432x288 with 1 Axes>"
      ]
     },
     "metadata": {
      "needs_background": "light"
     },
     "output_type": "display_data"
    }
   ],
   "source": [
    "energy_range = [1, 10] * u.TeV\n",
    "spec.plot(energy_range=energy_range, energy_power=2)\n",
    "ax = spec.plot_error(energy_range=energy_range, energy_power=2)"
   ]
  },
  {
   "cell_type": "markdown",
   "metadata": {},
   "source": [
    "### Computing flux points\n",
    "\n",
    "We can now compute some flux points using the `~gammapy.estimators.FluxPointsEstimator`. \n",
    "\n",
    "Besides the list of datasets to use, we must provide it the energy intervals on which to compute flux points as well as the model component name. "
   ]
  },
  {
   "cell_type": "code",
   "execution_count": 26,
   "metadata": {
    "execution": {
     "iopub.execute_input": "2021-02-02T18:12:26.364847Z",
     "iopub.status.busy": "2021-02-02T18:12:26.364365Z",
     "iopub.status.idle": "2021-02-02T18:12:26.367511Z",
     "shell.execute_reply": "2021-02-02T18:12:26.367101Z"
    }
   },
   "outputs": [],
   "source": [
    "energy_edges = [1, 2, 4, 10] * u.TeV\n",
    "fpe = FluxPointsEstimator(energy_edges=energy_edges, source=\"crab\")"
   ]
  },
  {
   "cell_type": "code",
   "execution_count": 27,
   "metadata": {
    "execution": {
     "iopub.execute_input": "2021-02-02T18:12:26.371983Z",
     "iopub.status.busy": "2021-02-02T18:12:26.371456Z",
     "iopub.status.idle": "2021-02-02T18:12:30.123838Z",
     "shell.execute_reply": "2021-02-02T18:12:30.123244Z"
    }
   },
   "outputs": [
    {
     "name": "stderr",
     "output_type": "stream",
     "text": [
      "Center position for crab model is outside dataset mask safe, using nearest IRF defined within\n",
      "Center position for crab model is outside dataset mask safe, using nearest IRF defined within\n",
      "Center position for crab model is outside dataset mask safe, using nearest IRF defined within\n"
     ]
    },
    {
     "name": "stdout",
     "output_type": "stream",
     "text": [
      "CPU times: user 3.61 s, sys: 140 ms, total: 3.75 s\n",
      "Wall time: 3.75 s\n"
     ]
    }
   ],
   "source": [
    "%%time\n",
    "flux_points = fpe.run(datasets=[stacked])"
   ]
  },
  {
   "cell_type": "code",
   "execution_count": 28,
   "metadata": {
    "execution": {
     "iopub.execute_input": "2021-02-02T18:12:30.145991Z",
     "iopub.status.busy": "2021-02-02T18:12:30.139774Z",
     "iopub.status.idle": "2021-02-02T18:12:30.575405Z",
     "shell.execute_reply": "2021-02-02T18:12:30.575853Z"
    }
   },
   "outputs": [
    {
     "name": "stderr",
     "output_type": "stream",
     "text": [
      "/home/runner/work/gammapy-docs/gammapy-docs/gammapy/gammapy/modeling/models/spectral.py:387: MatplotlibDeprecationWarning: The 'nonposx' parameter of __init__() has been renamed 'nonpositive' since Matplotlib 3.3; support for the old name will be dropped two minor releases later.\n",
      "  ax.set_xscale(\"log\", nonposx=\"clip\")\n",
      "/home/runner/work/gammapy-docs/gammapy-docs/gammapy/gammapy/modeling/models/spectral.py:388: MatplotlibDeprecationWarning: The 'nonposy' parameter of __init__() has been renamed 'nonpositive' since Matplotlib 3.3; support for the old name will be dropped two minor releases later.\n",
      "  ax.set_yscale(\"log\", nonposy=\"clip\")\n",
      "/home/runner/work/gammapy-docs/gammapy-docs/gammapy/gammapy/estimators/flux_point.py:667: MatplotlibDeprecationWarning: The 'nonposx' parameter of __init__() has been renamed 'nonpositive' since Matplotlib 3.3; support for the old name will be dropped two minor releases later.\n",
      "  ax.set_xscale(\"log\", nonposx=\"clip\")\n",
      "/home/runner/work/gammapy-docs/gammapy-docs/gammapy/gammapy/estimators/flux_point.py:668: MatplotlibDeprecationWarning: The 'nonposy' parameter of __init__() has been renamed 'nonpositive' since Matplotlib 3.3; support for the old name will be dropped two minor releases later.\n",
      "  ax.set_yscale(\"log\", nonposy=\"clip\")\n"
     ]
    },
    {
     "data": {
      "text/plain": [
       "<AxesSubplot:xlabel='Energy (TeV)', ylabel='dnde (TeV / (cm2 s))'>"
      ]
     },
     "execution_count": 1,
     "metadata": {},
     "output_type": "execute_result"
    },
    {
     "data": {
      "image/png": "[encoded data removed]",
      "text/plain": [
       "<Figure size 432x288 with 1 Axes>"
      ]
     },
     "metadata": {
      "needs_background": "light"
     },
     "output_type": "display_data"
    }
   ],
   "source": [
    "ax = spec.plot_error(energy_range=energy_range, energy_power=2)\n",
    "flux_points.plot(ax=ax, energy_power=2)"
   ]
  },
  {
   "cell_type": "code",
   "execution_count": null,
   "metadata": {},
   "outputs": [],
   "source": []
  }
 ],
 "metadata": {
  "kernelspec": {
   "display_name": "Python 3",
   "language": "python",
   "name": "python3"
  },
  "language_info": {
   "codemirror_mode": {
    "name": "ipython",
    "version": 3
   },
   "file_extension": ".py",
   "mimetype": "text/x-python",
   "name": "python",
   "nbconvert_exporter": "python",
   "pygments_lexer": "ipython3",
   "version": "3.7.0"
  },
  "latex_envs": {
   "LaTeX_envs_menu_present": true,
   "autoclose": false,
   "autocomplete": true,
   "bibliofile": "biblio.bib",
   "cite_by": "apalike",
   "current_citInitial": 1,
   "eqLabelWithNumbers": true,
   "eqNumInitial": 1,
   "hotkeys": {
    "equation": "Ctrl-E",
    "itemize": "Ctrl-I"
   },
   "labels_anchors": false,
   "latex_user_defs": false,
   "report_style_numbering": false,
   "user_envs_cfg": false
  },
  "nbsphinx": {
   "orphan": true
  },
  "widgets": {
   "application/vnd.jupyter.widget-state+json": {
    "state": {
     "0c09551997284389a545dc0c59d33164": {
      "model_module": "@jupyter-widgets/base",
      "model_module_version": "1.2.0",
      "model_name": "LayoutModel",
      "state": {
       "_model_module": "@jupyter-widgets/base",
       "_model_module_version": "1.2.0",
       "_model_name": "LayoutModel",
       "_view_count": null,
       "_view_module": "@jupyter-widgets/base",
       "_view_module_version": "1.2.0",
       "_view_name": "LayoutView",
       "align_content": null,
       "align_items": null,
       "align_self": null,
       "border": null,
       "bottom": null,
       "display": null,
       "flex": null,
       "flex_flow": null,
       "grid_area": null,
       "grid_auto_columns": null,
       "grid_auto_flow": null,
       "grid_auto_rows": null,
       "grid_column": null,
       "grid_gap": null,
       "grid_row": null,
       "grid_template_areas": null,
       "grid_template_columns": null,
       "grid_template_rows": null,
       "height": null,
       "justify_content": null,
       "justify_items": null,
       "left": null,
       "margin": null,
       "max_height": null,
       "max_width": null,
       "min_height": null,
       "min_width": null,
       "object_fit": null,
       "object_position": null,
       "order": null,
       "overflow": null,
       "overflow_x": null,
       "overflow_y": null,
       "padding": null,
       "right": null,
       "top": null,
       "visibility": null,
       "width": null
      }
     },
     "0c3afdec1c604479a8a5cf6e87c07742": {
      "model_module": "@jupyter-widgets/base",
      "model_module_version": "1.2.0",
      "model_name": "LayoutModel",
      "state": {
       "_model_module": "@jupyter-widgets/base",
       "_model_module_version": "1.2.0",
       "_model_name": "LayoutModel",
       "_view_count": null,
       "_view_module": "@jupyter-widgets/base",
       "_view_module_version": "1.2.0",
       "_view_name": "LayoutView",
       "align_content": null,
       "align_items": null,
       "align_self": null,
       "border": null,
       "bottom": null,
       "display": null,
       "flex": null,
       "flex_flow": null,
       "grid_area": null,
       "grid_auto_columns": null,
       "grid_auto_flow": null,
       "grid_auto_rows": null,
       "grid_column": null,
       "grid_gap": null,
       "grid_row": null,
       "grid_template_areas": null,
       "grid_template_columns": null,
       "grid_template_rows": null,
       "height": null,
       "justify_content": null,
       "justify_items": null,
       "left": null,
       "margin": null,
       "max_height": null,
       "max_width": null,
       "min_height": null,
       "min_width": null,
       "object_fit": null,
       "object_position": null,
       "order": null,
       "overflow": null,
       "overflow_x": null,
       "overflow_y": null,
       "padding": null,
       "right": null,
       "top": null,
       "visibility": null,
       "width": "50%"
      }
     },
     "17112134f2a24043a203cdfdba5ee60b": {
      "model_module": "@jupyter-widgets/controls",
      "model_module_version": "1.5.0",
      "model_name": "DescriptionStyleModel",
      "state": {
       "_model_module": "@jupyter-widgets/controls",
       "_model_module_version": "1.5.0",
       "_model_name": "DescriptionStyleModel",
       "_view_count": null,
       "_view_module": "@jupyter-widgets/base",
       "_view_module_version": "1.2.0",
       "_view_name": "StyleView",
       "description_width": "initial"
      }
     },
     "69d0f3cb590747a9a6a9aec5c6a57af3": {
      "model_module": "@jupyter-widgets/base",
      "model_module_version": "1.2.0",
      "model_name": "LayoutModel",
      "state": {
       "_model_module": "@jupyter-widgets/base",
       "_model_module_version": "1.2.0",
       "_model_name": "LayoutModel",
       "_view_count": null,
       "_view_module": "@jupyter-widgets/base",
       "_view_module_version": "1.2.0",
       "_view_name": "LayoutView",
       "align_content": null,
       "align_items": null,
       "align_self": null,
       "border": null,
       "bottom": null,
       "display": null,
       "flex": null,
       "flex_flow": null,
       "grid_area": null,
       "grid_auto_columns": null,
       "grid_auto_flow": null,
       "grid_auto_rows": null,
       "grid_column": null,
       "grid_gap": null,
       "grid_row": null,
       "grid_template_areas": null,
       "grid_template_columns": null,
       "grid_template_rows": null,
       "height": null,
       "justify_content": null,
       "justify_items": null,
       "left": null,
       "margin": null,
       "max_height": null,
       "max_width": null,
       "min_height": null,
       "min_width": null,
       "object_fit": null,
       "object_position": null,
       "order": null,
       "overflow": null,
       "overflow_x": null,
       "overflow_y": null,
       "padding": null,
       "right": null,
       "top": null,
       "visibility": null,
       "width": null
      }
     },
     "7c11a31b977d49d589b1193dbb5d9ab7": {
      "model_module": "@jupyter-widgets/output",
      "model_module_version": "1.0.0",
      "model_name": "OutputModel",
      "state": {
       "_dom_classes": [],
       "_model_module": "@jupyter-widgets/output",
       "_model_module_version": "1.0.0",
       "_model_name": "OutputModel",
       "_view_count": null,
       "_view_module": "@jupyter-widgets/output",
       "_view_module_version": "1.0.0",
       "_view_name": "OutputView",
       "layout": "IPY_MODEL_0c09551997284389a545dc0c59d33164",
       "msg_id": "",
       "outputs": [
        {
         "name": "stderr",
         "output_type": "stream",
         "text": "/usr/share/miniconda/envs/gammapy-dev/lib/python3.7/site-packages/astropy/visualization/wcsaxes/core.py:211: MatplotlibDeprecationWarning: Passing parameters norm and vmin/vmax simultaneously is deprecated since 3.3 and will become an error two minor releases later. Please pass vmin/vmax directly to the norm when creating it.\n  return super().imshow(X, *args, origin=origin, **kwargs)\n"
        },
        {
         "data": {
          "image/png": "iVBORw0KGgoAAAANSUhEUgAAAWAAAAELCAYAAADnUlzVAAAAOXRFWHRTb2Z0d2FyZQBNYXRwbG90bGliIHZlcnNpb24zLjMuNCwgaHR0cHM6Ly9tYXRwbG90bGliLm9yZy8QVMy6AAAACXBIWXMAAAsTAAALEwEAmpwYAABg7UlEQVR4nO29e7g1R10m+r7da3+5kgtEMCSRfEejECEEzIBjFLmfgIzBCwyoGDTqMJMoKHKIMOd4QedBURidQTADkXgEEw5yyWAUQowwqPAQICaEgGQSlJhIyMcloOH7vrX6d/7o+lVX/bqqV6+9195rX+p9nn56dXdVdXV179pv/a4UERQUFBQUbD2qVXegoKCgYK+iTMAFBQUFK0KZgAsKCgpWhDIBFxQUFKwIZQIuKCgoWBHKBLwJIMlV96GgoGD7Y1MnYJKnkbyO5C0kbyb5Qnf+FSRvJHkDyfeSfHBQ51Ukryf5vcG5C0h+xm0XBOf3k/ywO38lyX3u/PNJ/spmPtscfG2F914aSP7LqvuwDJTnKFCQPI/kp0neSvKSxPUfdXPTjST/huQjx9ZdDzabAU8BvFhEHgbgOwFcRPJMAK8SkbNE5GwA7wbw/wAAyYe6eo8DcJE7d38AvwzgsQAeA+CXSZ7oyv0mgNeIyBkAvgTgwk1+noKCgh0KkjWA1wJ4GoAzATzXzUchbgfwvSJyFoBXALh0gboLY1MnYBG5S0Q+5n5/FcAtAE4RkXuDYscAUG+QGkDjjnUZ/38CuEZEvigiXwJwDYDz3DL/iQDe5spdDuCZ7vd92CUstKCgYGl4DIBbReQ2ETkE4AoA54cFRORv3DwDAB8CcOrYuuvBZKMNjAXJ0wE8CsCH3fFvAPhxAF8B8AQAEJGbSR4N4IMAXuKqngLgc0FTd7hzDwDwZRGZmvMQkSvH9OmEEx8gJ5/yTen+IvYQJMWdV0ivnP4+4fjjcdbDv11s2TQYl6AeM7oet8L0ceI2glgcnXuu1J2OP/4EPPwRZ4kVaJsWonMicf8lMQqNxP31fUwNE+N+KmOo9H0E/a/YuDJuL+3+hOOPwyMf/jBhanzMeAvbOzTuTo10HEWfpTH9tc0ycUDY78cUDhqx7Wnf7nfc/XHGmd8h8bXEPeE/I1SYP05049R9G/kXoeMjOj7ufDhOvm9CfOGf/0EOHDiwIaL3HdUxcq/MRpW9FQdvBvD14NSlInKp+52aSx470NyFAP58nXVHYUsmYJLHAvhTAC9S9isiLwfwcpK/BOBitGIGiMjP2uqJJmXg/FA/iIAZH3f8ibj8bX+JlMqstn/M7njCmdsfbsuh+zAmzaH2nPufULmPpmr6H4//kN3NZ2xfxaxaAwA07voseEX6keu5maQni/CPoTHDpH+Q+jw1g/6735V7Ji1jJ+24/RoAMBXdt3071Lj9rOv/oVkd7Q9O23amMzcGTf9F1FV777VJuz9y0vbtqLV2jI+aHPJlj6rbv7ujnaj0iOm/ts81O9g+T+I9zOp2vA/XR7Z9qo8GANzXHNXuZ0f4sl+f7Yv6P23cOzRfXRVMdtr/utLxjv9x68QY/qPy79md0/vo+Exn4fi7e+pex6turxw5acfpyDocp3Y8jqruAwAcMXPj1LTfdOX2IZpKx6kdj4NVOz5fb450+26cpk03Ps983ENoZNfHyoLxD+6VGf7r5CGjyj5j+vdfF5FzMpdHzxkkn4B2Av7uResugk2fgEmuoZ183ywib08UeQuAP4ObgBO4A8Djg+NTAfwVgHsAnEBy4ljwqQDuHOqLe/HH6PHDHv4oac9rX8Oy+h8/bdDg/2DCOjqpWhbIBDvIMC9/jPjY/k71JXd9WRhqv+v3+D7o0Hq2lqjaMbnx8GNHu3eTXfBOhe1k0eg+Me69PtnVz4DRi/3ntQxEbNa9e79CcPva/PMMu8jUUgAdE14PqsRzkoL9+/fjwIEDxySqjAcBro38rqaDV+8AcFpwnJwzSJ4F4A0AniYiBxapuyg22wqCAN4I4BYReXVw/oyg2PcD+NRAM+8B8FSSJzrl21MBvMdNptcB+GFX7gIA71pm/wsKClYPVkR9VD1qm4OPADjDWU/tA/AcAFdF9yK/CcDbATxPRP5+kbrrwWYz4HMBPA/ATSRvcOdeBuBCkt+GdgX1DwBekGtARL5I8hVoBwAAfk1Evuh+vxTAFSR/HcDH0U72CyFiOsHKqHGUgYbZ6ZK+SjC+PpsVVyePxjAwZWeeiUUyVCN3y7A1K3ZIYYiZzWNtY1h5sl3LeN15XaanoNe8DN7IVIf658e20s+8vyKZuWu+rBHjDDJhL7+1cvVslVGw+obKM3c90ZVtJC7j9yr6MIy4ra7y9Jm7z+Is3YpQqrB9WsHIBkGgmmx8dSciU5IXoyV1NYDLnN7pBe7669FaZD0AwO87c/6piJyTq7vRPm3qBCwiH0RadnL1gu1cBuCyxPnb0GonCwoKdisWEUHMgYhcDTP/uIlXf/8UgJ8aW3ej2DIriIKCgoL1gORSGPB2xJ6fgBupAmVKcMEtK61yKac0a8+paCCWRTGxCPDmTl4EoeIFsxQO2poZa4chky/zGNllccqMrteGaV8QauFjMyRfJtEXex9dJkOtHxKiiNpd8tYEzAt0vJmYWpA4yxLtLl3dSAThykzZavnViiMlAvL9NyZeXixlLBzissOIFGMqVvDfmj/Rlg2KVhKLZibG2qKu1LIlFEE40cMIY4SUAjlE7dqdBe9l4n7PlqWAXCID3m7Y8xNwQUHBNseSZMDbEXt6AhYQIvQML2Quqkjo1AlpJhzaxNKx2b5VfF87axVFejwTNYeKzwMJxptRviUdMnIW++tAeF+rrGoyfQM6lqdsVgxDSllHdSZqRgmXKKysdeZYLBNmZ+19Awbs7ZjXXN3a7fNKOK8kc12oTV9SJl/M2P+m0DmdOFMytRV3779KsvJY6bZWqb16397b23crezbmZ0Nmk/5+3hQvtpcP78U57HksSKDetzvjhu3pCbigoGAngGDKSHwXYG9PwNKyCs84IpMvZXIxi7JMj4GM1spQh+RnOSZtme8sdIWd44gxVG4ZDgH22cNzMsC+c9A+1e4RU3WVeFlzNB2VsI6Ow0zH3bHaxkhgw/GZeq9C9d5yx+p9NiTLzsnVQ0eJbO0YyXJUGbOaerWn03Jpa3Y2M/uOoea+U92HjDil62jbMB6igUdoyrtvQyDAujDggoKCgi0HAVR1YcC7DgJrBRGyhLSFQccC2//Iod+/lYcOyfn68ty0LHWh5xnBPkc5kug5056knEMkPT5D7tGdHNRTOnehX9ZaFlgeFMmjvQw4XkXQuIiHjFjfmcayUOabiqsxj9ENve8ctPVU3dwzh0Nq6+l4+bgeiXgePQbs9RGOATPxTRgmrPJj3z67+BGVjtmy5kyiiCAKCgoKVgGSRQm3W9Ggk/2GzEi1uh07SDPHUEar//E9wxggRPPch8fIz6xG3bP2hFzUN6/2zb2wl6Fcu/JnUn1OsebGMN8xYV0qL+M0THgEtP3QvkTfhY6LZfIpyxWV8XbWD3GZKEoZ0Du3Gei/19gCJBf4JizrQ056Btx/I9YSZwhWn+Hl9y7yX2glsRnSAlZlAi4oKCjYehQRxO5F09AHOQl5gHfOcsc+eDhjphf+5/cMzMjlNsKYUh5S3UW3U3mcZ35hlbi/WseyxVS7lWHlKdtYa/3QkwEn5MWKZglMMg5WpIw6fg82kHp4Xxt71x4v8u60bPjOvB15byXirqvVQtCOZbN1xpY4/N1jy4i/iRB+pee8AL0Hp1sFLGIxozGvQ6+6foD3jYJFCVdQUFCwCrAw4IKCgoLVociAdyEEzg3ZLZ/CjDhVQsQA9EUPqeU4TSAfWzdEbumYMkuqvXt02tTL10kF5emJBuIALwBQ9xSDGXOlhGlW3lwvqG/EFLnzqaVr117sNCMJkyl/z4zII6WEy4keFnIs8bpEBudULIKo3z2F7UB7OQVbqn4vfZQf60DIYZWSjEU2SRGHybOnYgabfgsIUz8tKxgPUa+VCbigoKBgy1FEELsV0iY6TLnC5pVt8xVsuWA54bE3ldIAKybMYkqJ4pUybq8ut95kbkBhZM3DvDldQPu1uj6rNeJPPZdljNbYKVaSxUowmx3ZlmvvHcMy31T7qoxbJDPFMkzLhnIL5pw0uhVDcM48xxjHHlvXfl+z0NzQDIwPaem/ub5bcWXa9Vk1fOLZLhlbPTsclV0GigiioKCgYBUoDHh3onVFZj+3NwJGpyZZ/liZwADbHCH7taxGZZBh2MD2PiEDjvmlSvUs60kxsFlGNhuaD3lzJG/Er300fY8s4zIy4AS7tcxX06wPyVn9vau4Dft+giLZgOm9bMbuqK2Tlp/HY9k/Nw9j3ZPDN9vPQ2jOh33M9GUoSL8lpn0Zc/eHUEvsaqzfCJs4pKWyXqBjw2zib3n9WF40NJLnAfhdtH8+bxCRV5rrDwXwhwAeDeDlIvLbwbXPAvgqgBlcrriN9mdPT8AFBQXbHyRQTeZ7681vhzWA1wJ4Cto08x8heZWIfDIo9kUAPwfgmZlmniAi92y4Mw57fgIOjfJDsmKDX3cyx/a6Z7kpgmEM/wcZniujFg45x4m4jjao7MQ4VQzcz8psQ4YmXr7XQoOqWPl0iM4lm4PHQJ/5Nk3M8FLQLEXebdnImlMODPbYy8zRdz7Ra2oVovb+8QhrewMdxbjQk6PkuL1ATXH/w2/CphXKrb6GgjtVJrBO1IZfAeoKLa6bcrpQ5lvJFMvCkhwxHgPgVpfMFySvAHA+AD8Bi8jdAO4m+X3LuOE87E7JdkFBwe4BWxHEmG0OTgHwueD4DnduLATAe0l+lOTPLPgUSRQGHLgip+R9PdkmYwaWyCOZRTKgeib5J9ivk/u8Ks+Q4uPUva1sNrIioLJxla/GjDgFy9ZmGTlv+FuZ7yzRB8C48rpL2l5tni3sW+e6m3aF7YKSh7U0ZY++V2N5kBj1edr99YSlTMHaXXeWDWEarEzdzPcbnvNteNlve35SsXetS50VB2/fKixgBXESyeuD40tF5FJtJlF+kZd1rojcSfKBAK4h+SkR+cAC9XvY8xNwQUHB9saCdsD3DCjH7gBwWnB8KoA7xzYsIne6/d0k34FWpLGhCbiIIAoKCrY9liSC+AiAM0juJ7kPwHMAXDXq/uQxJO+nvwE8FcAnNvBIAPY4AxZpl8G1X6Z1qxGN/NUpKNrzi+hih5aBHrrEdodq8N4kFEa5OL1jkFs2R8tRUVGGLr/1tIuSlVhaWwcML15QcUMYeSwjemhMs2EUttxyPpVJwrvuJlx2w/vFC1HXUqVRvTTim6/Vu3dP2bcOh4PBb0LLWFfzhBldL7tFxjW8SZTxbXhlpbtP0GTlRQ7xd5nLlOEadOeWxO/IpVhBiMiU5MUA3oP2T/kyEbmZ5Avc9deT/EYA1wM4DkBD8kUAzgRwEoB3uGwhEwBvEZG/2Gif9vQEXFBQsBPApXnCicjVAK42514f/P5ntKIJi3sBPHIpnQiwxydgQoRe2RSyNavsUXQsKs+MOhMvX0lv12/HFOm5QAeVxHolOAyZGNngPhpb1rumjog2kwtuE/azZ2KWUMLZjBKW+abgTeJUITgQG7cyzLcyKwU/fn0/DH8nOlWmDcJk79X2wfZ1zFjGSlDLKNtrafO8KvFN5BiwHetU+7YNHa9o1UINUtTuJ15BW8fX67Vee2yWKOFcxPtlB2GPT8AFBQXbHSUYT4FHF5wkZmJAwEa88Xq798FPQraZNR+Kzd1SOdt6mYEHzLiUDXo5t89iO18GmQusk3JFzjHfmYTMK24v9zdVBbZ9+tsyYJvzLPydC+mZlNWKvxg9zyKy34UySBgZPzzrDEJ85pwpEquuauD9hW2NCTbUC5mJ/vfos0U7Bjyr1lyd7j3MqnZa4Yhcc2NRgvEUFBQUrAJcXiyI7Ya9PQFTUFXSkzOGv/01rWLYlZUzhmV84BJliXG0n7iO+b5Swc+7a3McAUJXW/9MTstfGcePBDOyTMgHKzd9A+Yz35SIue8y7O6n9w0Y8KRq0ntl9gm238mAY4ZqXXvDspYJDyElf04dh+g5VZhM1mNI9LzQliH8V5NwL57HilOrLst8G/c1dEy4P5VQFrfWyWEZVhDbEXt7Ai4oKNj2KDLgXQqiZVCegaUYsGFVtWG+qfQwuRCNcbbccZYMcTCbfOqY+Ln6DI+eYueDt9uswV2aHhVm19H1sH82TOQQtCtdtl93bOS9QJ/5rjl73brS9xGkwkHMfMPA4lqivV8kxHb3NBYTxvY2+RzrsP/1726E9UlOtl8lzuXk3n4VE9TyqaZ6Vhx6Ot83y4hnVHlvMH4aM2hpDJhAkQEXFBQUrAYsZmi7DwSwVjeegSnLCn/rXhlXT84YauENc2gME7asN7xmg/oMhaPsok6mZYKRFYSRUVtLjZRsUNnNVD3gGpX/9b3zuv62e8t5wr8bK+O1jNeOeXvNyHyVCbMNdRgy4NrLfmeZfur10M5VH8D026xmUhi6lisrZnWRSlQ6jzeG71efv1tVpL3/mqBVu1rpB/RPvF/Tf2ul0wQWD511yJImTRYriIKCgoLVgASLEq6goKBgNShKuF0IUrBvMgvM0PoiCF3iTdzeHg/lbNPgOUMusJ2RfRUdK2aBGZp1/rAZMFKmcV2gFXVSSMfKbZtp7z1VxYr6CjsTo8rnBwvi0fo+xaKUVORdFT30TctUJKFj2/W/9mZnLssC4/dSIxQB6XI87Z5r+xz2r+H8stls19atPLH0tkv4WU8U0Xd+8H0wbuSh2EXH0CqFrSlkSpnr98Y9OhYbmbH0Y2CD8oQilNrVXQ4IRt/cbsKenoALCgp2AIi82+QOx56egCsKjqynXTCSkHkZMzTLfFOKnj7zMoqc8BtyRWeZAJepfHJdmEjHNk2/U6y2RqyYqhPMveuSa19vqpmIG80HFjMxAJgaEz4lb/pUIZvqmZTVsWnZpIrHOOxv51IdP0/KDLD3XMaNNlZzVeGj9pjwkAODD6QzkHfNWpt5xouYCY/JWNFl/Ogr4fz3iWlU1jJWAJj5ADtqVhiv1MK+zDN5XEQRuREUJVxBQUHBilBkwLsQhODI+lB0rOg5YBjmNY8ZuIstvOXXQIAXLzuNmW9SnmjcZq25TxwgKGbwnjmqPDcwlvemRK65RlSWZ+SLCYcVDThknVpSThXKfPdVLVvrGHDftEwZnWXu/j0kHBo6uWfMmuxYm59zYZnvzJiSWXYb1lH4wPUJ2a+FdbygWZUB3bis4XB0bL+10ASyy3bdlpkizYSTfRoxYst0QW4bJFgXK4iCgoKC1aCIIHYfKgqOqNIM2FoL9Fw+RwReGXM+G5g9ETDFGsxLT87XlzX35IdNyygrsW66QR98EKGY8Q6lxPHtVzDHIQNufyvj7fYte+ucK6a+Tu0Ze7wfHH9vWVJHex9wnCEbdEFljOY+ZxURntN3pbJUa+EApOTG+XYtJpnwlxEDNiucWtLvN3SUUPdhG4Bo5k6kHIb6fwfm70MS38SSmDDJ4glXUFBQsDLsUga8qU9F8jSS15G8heTNJF/ozr+K5KdI3kjyHSRPCOq8iuT1JL/XHT+E5EdJ3uDaeEFQdj/JD5P8DMkrXaZTkHw+yV+Z2z802MeDflvjIb9NOI22GjPUmKFCgwoNCOltOWiJJth6tcVtueOMbWmUnoYCUlCh2/w5maGSWe/Oej7cKAKKoGKDikFvCbcF7VbtVrutYrtNqgaTqkEdbGvVDGvVDDXbbVJNMammWGO7TXgYEx7Gmhzy26Rpt7XmINaag/44tdXNYdTN4eQzpZ6d4fhgZjY3fgPv176rmdsaqfw2C87PhGgat0l+8+27drv367bw/dl+Z569lml/c++hxrTd2KBm47/xcOvuF49L8u9BGlCawVXWolhSVmSQPI/kp0neSvKSxPWHkvxbkgdJ/uIiddeDzf63MgXwYhF5GIDvBHARyTMBXAPg4SJyFoC/B/BLQPvwrt7jAFzkft8F4LtE5GwAjwVwCckHu2u/CeA1InIGgC8BuHCTn6egoGCr0cajHLcNNsMawGsBPA1tpuPnuvkoxBcB/ByA315H3YWxqROwiNwlIh9zv78K4BYAp4jIe0VEBX0fQpeFtEYrJhM4yZSIHBKRg+76EdpntkKhJwJ4m7t2OYBnut/3AfjaJj1WQUHBFoN1PWqbg8cAuFVEbhORQwCuAHB+WEBE7haRjwDOrGSBuuvBlsmASZ4O4FEAPmwu/SSAKwFARG4meTSADwJ4SVD3NAB/BuBbALxERO4keRKALwcT+R0ATnHtXDmqTxCsNQf9sYxwd+y5oUbKAeOe6Y35+yZH1mTJGvGPMXAfoyCsjLLEKrOS7WX2XZzdDvpbMlmLY7fiWPnWORE45ZuanEmghGsOu/5aszmjQcK492eqdO/Kuuz2mw/elYsKJyZ62AiF3SKOCzRjaTN8RGXEvCvzfgezqFhzyUBhZxW/1qEn9T2NUZQuhMU84U4ieX1wfKmIXOp+nwLgc8G1O9CuqsdgI3Wz2JIJmOSxAP4UwItE5N7g/MvRiinerOdE5GdtfRH5HICznOjhnSTfhnTUvsE37lizZ8bHH3/8gk9SUFCwCG6//XaQ/Jfg1LEiI6LRR+AinnD3iMg52Yb6GNuXjdTNYtMnYJJraCffN4vI24PzFwB4BoAnjX0hjvneDOB7XJsnkJw4FnwqgDvn1BcAx+jxWQ//dgnZVmygb5muDT5S9euYV9TLjBGyNcuSlSFJzDgiJZtlvDTnDUsJf3dM0jGWJqEgcY/kGYx3PY7N0eJMxIwqWzaubBcI87jFbrO172PfhKpjvup4ocfq+tz37+5YeRy/OMUOrdNGz5QveL/6rNrfrm6cdSQ203PNzDE7S7JauxIxjDjZjqTNw+blEQzbDWMH92IFq3mhxKsV/b6AeLWyf/9+HDhwwP/NrRvLMUO7A8BpwfHcOWNJdbPYbCsIAngjgFtE5NXB+fMAvBTA94vIv85p41SSR7nfJwI4F8Cn3WR6HYAfdkUvAPCu5T9FQUHBSkG0ZmhjtmF8BMAZznpqH4DnALhqZC82UjeLzWbA5wJ4HoCbSN7gzr0MwO+hVahd41jDh0TkBckWgIcB+B22/54J4LdF5CZ37aUAriD56wA+jnayHw3CsKGIbcboOz2oC26YCSAVhLGfGSN1zbehQW0cY7K5ytpzMTPtBQoKGapjIx3zdSyziVlce07bN27Lft/PAjKp1Pkg7TZbB9ktbGCdLohQWk4NhIw3Zr7d9e7YksyODTLaS/jOfAzG+N35kJ5BmxPH9vQ96vPoO1SGH6ypfHu6y6314iwXEu1tsKUqYtgZtqwyYT9u/XvRr2zUQSV2XEn207wjK6Nv7zWwyloXluOKLCJTkhcDeA9ahf9lTu/0Anf99SS/EcD1AI4D0JB8EYAzReTeVN2N9mlTJ2AR+SDSspOrF2jjGgBnZa7dhlY7WVBQsFtBzDUxGwsRuRpm/hGR1we//xmdVdbcuhtF8YQLMKi19WzKHWYM84GOsTSeTalsrV/HX/NB29Ny3rBsLi+dl/eib0VQG+brWWbQpZmRAXv2bJl2uNTzRDEtA64jebENbKTsvB8YaCyGAsd4ub3ZD8GuYqKceu5WE5UBK/P1MmG93mHqq8bWFv37JhiwtxZJM+Hwd3+lYGXn4UpBAye5MKOul01VR8/VljUBjYyMWb8nhnL7pTFff9dFrCB2FMoEXFBQsK1BdP8sdhvKBDwH1r7Ss4cRbpa1CXBdBeynJw/WYOFWjsk+2+kxUhOyUdku0Gmpaew1mWAplWdprmwVy2wnXuZZhZXcMxrZbCJ9jmXqi9iJdkysyZzvZLuNsVhRmWYqfU4OKXm+tTKZGNthlYdPgy7qH1gq2DnQXzEA4fuNx9CvGAIrl7wMOJbDRqy5aVyf4nGqmn44ym58E2Yh6BhxyHqXHYxnQTvgHYUyARcUFGxzcGky4O2GPT0BC1p2lPpPbdlZSpsMGIaq8k7zrQwl5bT369ldDjDgHvNNhCL0Mt8mZr6pZ/ahGQ1b1nYbLzPs/zH00ugkEoT6xKAZO1ZlW02YpkkXBt7utzZ1+quKWbXm+hszYm03ZY3Se98Jdt6zx5X4GTsm3NWZeftu30jcpjuOLBvM2PUSwYYB8TP20b5vqRWPX9XFnfBsN8GAe/bvWlX6culNQQnIXlBQULACsDDggoKCgtWhyIB3IchWBGGW/QACszO7tLIKhsB8yLqBGpFEtPR2P9WpYjbCKbE2SqxOqWWcLSIFoVXOuD55B4T8h23bs6KPMf0PzdCYDN8x7LKtYgRb1y6Nw7K618wPqjTssiL3kQtslOzvHEVaaPKlz58T0aSyXPTcfu17R76sNUMLfNx9nUpiVxF91G5MQyWrG3+vcIxFZV0TiUBEAw4dC6Mw4IKCgoIVoaQk2p3IMWAf0MUzC7h9rOyogiAknYJC6a3exNUN8qPRM0dlNwn2YUDjCjwmX5pVtnUBavpsNOeo0A9FGLhse8eRWME1pMTy9zNmYfrsTaqOVb4llEKqbJu5z1oZrz/WOonAON5szq9i8sqleSElk89uWfIAA7ZhJ3O5+TYMazqYcL9W7xIx71edNrpim8hQyTFxHnYk9vwEXFBQsANQFSuIXQcB0bDyDDgXmCeFlPmNd/ucxewyaXZl7Nt9EB41adKwlAkztFxw9ZQMst/xmG0iYcaVMzXyAVeCrMX0MlqJ+p2+9TCD60JBBs4VmbaahLxy5szMlPlODRMeIwPuAu3kmbwNom/bHTJz65uYpdyLrS5hhFzavDtlqP6bjt5zehXUuWwHAdldO960T92VlRHbQPabgcKACwoKClaIIgPenWhQDwe47hnfz3dBtoFKnIcn6pAdGk9XWieExPdmZYI9KwXJO1n02CXNeYRyvTSr8Uw47lTUtzGMKJU6aR6svFjHKXSLnkn7OU8lvjaGAdvwk0PhQLtUU/HeppkKkQ2ubuTr4bUcUoH9OwsQddaImWu4gBfRlEoZBhws93271cS1p/u16P6RS/hmsOFiBVFQUFCwCrAw4N0IAdGgCjTt/TLWppeeEbjrgbx1keAjVo7bhbLU476czgYGsm10fUnILb3MVI8TzMXK9awsGP1VgD5z32XVyJoT8LJOGSHjzDBfZb1An/nO3PFMmWmi+S6tU8xifUjRBGu26aT0fkPy73wYyrx79lxZOfrB05WZDt0/FaAnbHdWrwX12vanrl1t39pYR6x8TvqlRSEEpLgiFxQUFKwCxRV5l4KYycSzkIilGNmmJXJVUo5mGUvMJJNJOTPyspSdbjb4ds87r48+q+3bc1p5Yu/+yaBFWlmDksdscMg+dEwgl1xftP3QA28e8x2yUfZ9yrDC1L27+41n2GPko2P6oPAycFtEw4RqAKUgRGn+nfS/CWW602pffCzKgOOxntffdWOXTsC786kKCgp2FYQctc0DyfNIfprkrSQvSVwnyd9z128k+ejg2mdJ3kTyBpLXL+O59jgDLigo2PZYUjQ0tgqc1wJ4Cto08x8heZWIfDIo9jQAZ7jtsQBe5/aKJ4jIPRvujMOenoAF7RJWM0FEKz895f6r1rqErOJlbLgsn6c0id1m01karNJqUBQxwozLLjetoi1c4ts+9e6XdD4x/cuIIlLIxVxOLZH749R3K/ZmYCr+MKKHFHpuvwNOD1ZsNPPmbQMuzt7MzIgg1rFKT7XfGxfDAv39giGlis8yoo7wm7BKNxU9qJOLinuahAhiqcq45VhBPAbArS6ZL0heAeB8AOEEfD6AP5I2xcuHSJ5A8mQRuWsZHbAoIoiCgoJtDkLqetQG4CSS1wfbzwQNnQLgc8HxHe4cRpYRAO8l+VHT7rqxpxlwq4SrfbZiBv+Pusy9zpmCsXmSdYoYQsoUa74STtlJyCxid9neXgPtpBwx1NHD7+PQjfZ3iM7VGb32bUZjz14lodi0z5hxmQ4zTnvFmWGmkjJ/UgaXcySBhncMgi6Z/HopxwtFzpGj55gRMD918Gj8SiqNUasZ/1z9fvh34l9S+6ftxz94LJuTr2dKmAhw1I1tzHi927cEytwRK4+FQCwigrhHRM4ZaMkirTlPlzlXRO4k+UAA15D8lIh8YGzHUhj1VCTPJXkNyb8neRvJ20netpEbFxQUFIyFsBq1zcEdAE4Ljk8FcOfYMiKi+7sBvAOtSGNDGMuA3wjg5wF8FMB8X9wdAhFg2kyScr/GhInsZHnpUIGD91lA0mMDsUSMbCyhSHyIlvE2RhYMmFxs6JiS73/CDdsGpreu2rF/gX2AHPno+r+IW64/l6ni868FY2rzrVl2GLY/VVapTjM+3KXed3HGNxS20zLqFOtXtu9lzD67dhx0PRnUycjrk/3zgfvT/U2O/9JlwEvzhPsIgDNI7gfwTwCeA+BHTJmrAFzs5MOPBfAVEbmL5DEAKhH5qvv9VAC/ttEOjZ2AvyIif77RmxUUFBSsB8uINywiU5IXA3gPWmnQZSJyM8kXuOuvB3A1gKcDuBXAvwL4CVf9QQDe4TKDTAC8RUT+YqN9GjsBX0fyVQDeDuBg8EAf22gHVgkBcbipkwxYXY59uMAR7rLz2FqyTk8L7wznTVhKVyje63OoXFfy7po9BjzgQmqfowu0M4YJ57EZQbvTwc/1hhId10beC3TMd8I2sH5lViDh+PjMzMo6NVVQzvIA3Vj6lZM5XgRWxg2EDilGVq6WDhrmlP063XPF7y58S92zuvCWPh2W04mo/DiSxWvDIx9sHsilxQMWkavRTrLhudcHvwXARYl6twF45FI6EWDsBKx2cKFwWwA8cbndKSgoKIghGFbm7mSMmoBF5Amb3ZFVQCRmwCGUBUznpJIZg9S3owzIWlUoA7OBwd3JdudteI09Z+I++ZCJA6ETvdxv6vpvgnsPwLPEwT+YtJvyGNvkMWEuKzMePt1QwtJBme8EjgHnrDqC9tZcWd8nZxs+TSwCrNzZMmz7/lMYCgDfDxnattN4xjrfpT10U+6VrUx9XQR5V/PU+9BV1hKxl12RSR5P8tWBbd3vkDx+sztXUFBQALT/aMZsOw1j/61cBuCrAJ7ttnsB/OFmdaqgoKCgA5dlhrbtMFYG/M0i8kPB8a+SvGET+rOlEACHm265G4oiKnOu5zbrlSl5+Pb8ijhwMPDL4CpZVpemYZQp/QevyrZR8WJ7pkz5pXxvWWxi4475wHuusKE4oTImcEYUMZTpWE3kcs4VYT+zz+UWxRN0S27NLK3L8Fqc2CUhgtCY0LmXXlV9sY4d004ROI2uL5J9OXq/xjnExzG2pmChLtfk+FNzNI0THMJfs27oPghbe3yYa0Edie+9DOzAyXUMxj7VfSS/Ww9Ingvgvs3pUkFBQUEHIdFU9ahtp2EsA/6PAC53cl8C+CKA529Wp7YKIsThWchwumtVT/mmZQxTDdrrmW95MyhVAgX39oqVFvUIA/fZnOy7VtEWnuti2MZ1qgEG2THVmBnFWTT0d9qpQnOItb9NNoWMSVzInHJOCPY52jsmnFeC87U3GwtdqdN59ZQNJhmwrxwfds8TuiIr+44VgLV3+IjNHMN2FP7ZE0F/et+AWemkSLR1xJjMDrXHyoCDvqgSeFbH+QZZ6/6IqE0AmGmgnmWy1j1uBXEDgEeSPM4d37uZnSooKCgIsRPlu2MwOAGT/DER+WOSv2DOAwBE5NWb2LdNhwCYNt2LrRj+F2d0rjMnMkFhEn4SlTkxZGI0LxxiJDc28ttcZoZmIESj71pCtl1Xhh2r7NfeNymbjM/Z7LkAcLhq2ZKGNDwsjhEnQhrmYMdpDHry+wH3X58vTeJ9e89MsKLKBWzKyKmBTv5smXYKnRw9veIZ0vZngzsFrFbvXc9aczrOnPx7drBXVvtSNYejujDfZxWYq02psvbluSLvRAuHMZjHgI9x+/slri3uylNQUFCwDuxJBiwif+B+vk9E/jq85hRxOx5NE8jTQjZr/uEa71a/Cqgjc3N1JHAyR3OvWGMfyyt7hvophudO+VCAjiGpJYcPDRiw+q5sDC2RshyoKkneJ2V0b9madaaYhgzYMd6D0jLhQ82a628d9TtlRVBnxisMLZlbPWSDlA/Ay+8DN13JuGgrK8yF80yVtQjrqsVBswHXdn/sXZODcZK4L8p8q6mRBQcQzZTsY03G41PVXZ3aObcMjcdCIHatDHjsv5X/NvJcQUFBwVIhIBrWo7adhnky4H8L4LsAfIORAx+HfGzpXQFPGNbxj9fbEHsNuDsOGI3VyKubbD3gwOm1yq6ZmQ2K3cSMuL3GaO/7qCw9SlWjzMj1SeXH3k43DubellVrgdiGV2W/U3QM+JC0mXUPztpzX5+1x4dmbXtqkWL72vaz7duak7dOzHH7THl2DAAzZdNh4Jg5zCpilMr2vOtubOEwJgO0ha8TVLUWDDZEaUovYGXjtXVxD2XZKt92sl9lvMqA0YRlnR7AyYvRGGsIPybBe3BsWZY4Ie5JEQSAfQCOdeVCOfC9AH54szpVUFBQEGJPKuFE5P0A3k/yTSLyD1vUpy1FFKg6ZQdsLBl61hCR3FiS+46ZhZ52MfNV7yzLZFI2n9YW2VtDJKwgvFzViBO7IkEaJsay33mpj4CODWu/u7CXapnRfWJq/XCocXvHfO871B4fnDqb01Au7/qtTH3S5v3Cvkk7fmt1x7LWag0t6a4pO1avLX2+YPE2FJTIwrN9fUez8eFmcoHMZ44tVqHlihnToUBQ3kPNe2bGqbSs9QXQsdVKvf4cE1Z2Wx0+1H+ASuvEst9OVh6279pbmtyWe5YBK/7VxQP+dgBH6kkRKeEoCwoKNh27NRzl2H8rbwbwKQD7AfwqgM+iTe9RUFBQsKkQ7lElXIAHiMgbSb4wEEu8fzM7tlWoK0mulLIiB3M+ZQZllUB6PGFfYeSzLxszNEWUs81k5bBZFRpfrr+ED5f1rnLbVtDErCfKUDO02OEjyn5gsyB7cUU+44ZVGh6atecPHnZKxCA8bWNEJ2vOn3tt0u6PWOs4xL5J+/uIiYoKMo4lYXYIGxBoxFJXlVY5TpZUuHX2i+2hi1sgKiIKJo8uWI67j2ZnsZmP0X/GiYl5nHL88O1ahZoq0sL4wPrN2e9H29I+B0q4pnbxkpcoNtitMuCxI+RUoLiL5PeRfBTabKFbBpLnkfw0yVtJXuLO3d9la/6M25/ozj+e5Ju2sn8FBQWbh2WFo0zNI+Y6Sf6eu34jyUePrbsejGXAv+4C8bwYrf3vcWizJG8J2FKA1wJ4Ctq00R8heRXagEDXisgr3YBcAuCl49ttGXCVMHjPBeGxJmVRYBfdG3OoSdUPAmOz8FrliSJUGHUZe4eXWqHCrUkEcGnPuzZDt1Pv2qz3NnXXQULiPHtpRwnjAY1QtzU18WGUHa851jydBQrHNdd/ZWv74j6seZfhRCAfY1Zl92En/Dmj2ewC6+SVc11gnSp7n974+CwpcQAfoGOZNCspH2bTKdpCM7GO+Up0jNRz+XOubi55RujqrO0tUW67DAacm0dE5JNBsacBOMNtjwXwOgCPHVl3YYwNxvNu9/MrAJ6wkRuuE48BcKtLjAeXMvp8tz3elbkcwF+hnYAPoe1rQUHBDocszwoiN4+Ek+j5AP7IJef8EMkTSJ4M4PQRdRfGqAmY5DcA+GnXCV9HRH5yIzdfAKcA+FxwfAfa/04PEpG7XF/uIvlA9/tvAPzNvEYJwaRqBoOr++DkIxjwfLfZQA5nwhN6dmtZVYqd58zd/PXk40bwHqWRjDZT1jDhSCNt6ljD/5DR6/Pvq1sapQ4jay604cTJdydB3E5lw54V6/2m/T6re3jlKPXEOXasVbEsO9Xfjqmb48iFN2aIPcabcF9W+AlEFxMjskh7WbB+N9Qehs+hrDh2CvEB5jWITiDX7THeRaDPONM+9f9q6M3QViIDPonk9cHxpSJyqfudm0dCpMqcMrLuwhgrgngXgP8F4H2AWSNvDVKjv7CjPNu/0K/p8f2OO3EjfSooKJiD22+/HST/JTh1rGOXC6EZra7CPSJyTubamHkkV2Ypc5DF2An4aBEZLVvdBNwB4LTg+FQAdwL4PMmTHfs9GcDdQ424F68R3vDQb3+0TKomGZ6wzjhTWJYbOXKYgOCds0Vfvusz9JqA3D6ATIqtZVIc2f5HDh/q0KHsSdSZo9e8Rxf4O32dCVZonRQUa4GA12YRlklGsx66OlMtJNpj6/sQybsb3afdr32boVzasNhRMuAl5PsdY3XRrSbiby9cgdjvxgfYccxXmXBsBTGN6vaYcPRxDE98ngknLxL79+/HgQMHjskXGgN62fkGkZtHxpTZN6Luwhj7VO8m+fSN3mwD+AiAM0juJ7kPwHMAXOW2C1yZC9Ay9YKCgl0EgZMDj9jmIDePhLgKwI87a4jvBPAVJ+YcU3dhjGXALwTwMpIH0ZqkES2hPG6jHRgDEZmSvBjAe9AGAbpMRG4m+UoAbyV5IYB/BPCshRpmy1ZTwXL6yRTTct3QbtcHQvHBU/Jlrcx3KGj73MewMuHI8iDeL2HVFN/bsjTHuDQ/V6TddwF0qtoEIKrUWqQ1W5jUXQAfdT1WufAh767cXg8tKCqNa6P3MeOSWolUnsGboDIm7OIiSLFab/eraZ78sWPrA/nMPBv3x/0+5VIq1S7dUKXBdDBCBhz131hGZJZOIRPWFc4yP7VlWEEMzCMvcNdfD+BqAE8HcCuAfwXwE0N1N9qnsVYQqYDsWwoRuRrt4ITnDgB40mp6VFBQsFVYliNGZh55ffBbAFw0tu5GMS8c5UNF5FOhMbLp0MeW2ZmCgoKCPvZuSqIXozU/+53ENQGw44PxRFmNo4wVxonCRC9LLmdtDFYjioiUV6pAM8tAu3xNufLmMJjrzFW1pliLiD7S2RX02eKlr5o9VVVn/qROAbU7N6naZfEadd/GeVpzueMAYJ8TR+ybtJ/q1527sjpghKvxLmKaEzk4UcTEiIAi5xnjjjsGqhDS92pNzFJlvcjB7TVnXuPiJkfvOfOOaJRx4bnKvAfN9+bfQ9MXQaSyIGfhZVlVvE8Vtf7jG4RgXL7AnYh54Sh/2u1X4XxRUFBQAGD3xoKYJ4L4waHrIvL25XZn69EgbQpi4wB3yjh19XRsLuFcYXNu+TYH2Kb9wHyGiQQz8mZimY9yjCNGyv16LEK2aJVXav6krKqOcu61I11XrWJoUjulm2PCk7o/phPHhlVBt1a7WMJTjTfcta/vcc3HCjbOLuwzyPxD9rSXPUjGJTxaxZgceTOTLUKZcDLAkTZhmG8qtq9qvDzztQF3Uq7Ivf3AuGSYr1g/8nntrBN7cgIG8O8GrgmAHT8BFxQUbHdwrvhtp2KeCOIntqojK4G0bLLx5lsJt1zLhDMuxEBn9D4vA27cBXXvrePjVDjHTPaGoY+zY/Jw/V0+OwFSIQ7zz66OFt5JoNb9LNoDwYrDh/R0eeWcedosygDtXJDVrG0E89Wx7MzmHKvVyI9B0jyfHy0j/0yxtMaYn+nxjE4GrO895dLrw09q4J7UmLpvzYfIdN+yl8U7RjwLXJFNBowu4I7ZD8Az35TJnS4M1uPqnLoX0m7kuwGjJNsk/wvJE4LjE0n++qb1qqCgoEAhrRJuzLbTMNYR42ki8jI9EJEvOc+4/7w53doaqHbVWi0AJuBMAtYBIT7XD4Ldv3fMfLPXA3Y706zEovLPdO62wX4zf5x75KF2e9YDJsRhOjBNrH1fS7n9allloPq35b5YuszK0zA/nRsPa8GiTjSe7QZ/qF426xipinW1j0NMvnse+4ffjZcy3i5Xnt0PuSK74ELezTv1HozFhLGG8GMayYA1F9xht5/1ynSFzWpLma9xHEmvCpaYFXmXMuCxE3BN8ggROQgAJI8CcMScOgUFBQVLwB6VAQf4YwDXkvxDtMTxJ9HG393xmEkn+Q1lwJVJnzMmKWAygAvSrqO59rxrqrLdMIOvsX4YY75prR2sR2kdhtNMBBiK6/b73NPY94LbpNpS21XntuwsJTTsYh2ETpywtZiYOcY18a68LqhQMD6NuVcuE3E4plM6t+dK26ijvqRsbnPwAXYSFg2W8WofhphdaK8cIhXkPvc9MRUi069SXDtDrsm6QjNWEP69V3kZ9rKgsSB2I8a6Iv8WyRsBPBntmucVIvKeTe1ZQUFBgcNeZ8AAcAuAqYi8j+TRJO8nIl/drI5tBQREI/SJKZsqlCe2JxvH1nyCSm+t0JfLdQxIWUcsUxti0WKZUcLWN5UUMyyriIIKuZ9VR/Pdzsmrq65s7YPWKBOOy9q+hs/Us94Y1Nz7jkf7lHeglc9rKifPJAM7VGV7XchNfYfxauZw8Nl3rFhtlI01QRhsaWTgpPibiFm3f4d2NRPow/WeWrZS+2l9ISFR9clVXR33fdJbV6xj4orsmNWTz/XT2WGL2i+rLDiQCW9GCvnl2FNsP4y1gvhpAG8D8Afu1CkA3rlJfSooKCjwaInS7rSCGNvjiwCcC+BeABCRzwB44GZ1qqCgoCCECEdtOw1jRRAHReSQ5twiOQHmrMN2CBqhX3KHy5wmuA50yyo1/aoRiySA/hLaLwcTC6iccsaalKUM0O3y1QbJqcI6XsQQvy6bwRnoxzyuM0qgpHu0X6qqHdfUnc8r7nxZK8YYkSXCZyoJszp3heL7qYgpIcLpTNec8k2DLplASql72/MpWNM3FTXMjCgihooRnEjIO4C48QlEZdJjfbEppA0C1Lar7bjvx7uLqzwjeL/O4UXUhdrsm9qIIhCK4laSE25HYewE/H6SLwNwFMmnAPhPAP7n5nWroKCgwEGATQgvsS0wdgK+BMCFAG4C8B/QBiV+w2Z1aiuRC0rT5UWLGYwy1ZkbutgkSNM0tOzAu+emWKwx57FuxpJgSD1lm2FeXXbkMPMGMmXc9TA0o8n+YXPOeTYXsH7P4J1SRp+5adzxAAnqhWocw3w9M43ZOhAqMOO6HftUpV/YrlMWGrO8VL693krDu6PPnx2sInBMYCW9T+Puo6x5gs5Mz68wjDKOtWYocd/gpB+MJ5/0L2DY+m4mrQt4Y/eVMuEui8mYlcwiKGZoIg3JdwJ4p4h8YXO7VFBQUBBjJ8p3x2BeOEoC+GUAF6OVrJHkDMB/E5Ff24L+bSoIQUUJcob12Y6iMYxF2UgVcEzvzsppVHeQAc/5z57KU9ftnQODZ7yeBmXby2V3Du+VYpdR30MZqgky0zROfulkg6F3a08Wbt1cVTY5YMZk+xZqvivP1BFd88y9mc/Ippb9J8a/lzFbWfnAuPfNzmKdQoqMelbuHVdiWXDbjnEUMt6/NKZ+AMA17b/7hr3cPg7+A3TMVhnwTJmvCyU6rWMmDAT6jKU5ZzAKO7pZIHl/AFcCOB3AZwE8W0S+lCh3HoDfRTvabxCRV7rzv4I2gYWS1Je5NEZZzBuhF6G1fvg3IvIAEbk/gMcCOJfkz496qoKCgoINQLBlVhCXALhWRM4AcK07jsDWwPq1AJ4G4EwAzyV5ZlDkNSJyttvm5o+bJ4L4cQBPEZF79ISI3EbyxwC8F8Br5t1gO4MA1qpZTy4K5N1y+1YKgXZZDfW9+6bu1G12vkuylXWGFg2iKXC6hh00RU7fOaRjcloyZpBJGWdGtpwKh9kLLuNkwT5VTuDoMc+a3stWw8AxKmfVAEfqlOAtTYIASuadeNm1yvG1XChXTwQ9Cp85NT79DNlqGdN/QCs/9yuonlt5v096a7/a8kGGAoZq34k24z/BPLVW5iszfWd9t2ZlwF7WO4mZ78ydn0UMeH6goUWxjuTU68H5AB7vfl8O4K8AvNSUeQyAW0XkNgAgeYWr98n13HDeCK2Fk6/CyYHXEuULCgoKlg4BR20ATiJ5fbD9zAK3eZCI3AUAbp/ydTgFwOeC4zvcOcXFJG8keRnJE+fdcB4DPrTOazsCpOCI+nDmWruvkGbCitBOt/IMTBmpq6MsLUVGJC7j5bqpOmaF1bNSGCE7HZLvjnWxTYVztIHFu0SVQZ/0t5VLmhROIRvURJ5igiINpWyqPaucHzh9ZqxdumBF/bH0YS29tQijY+12WFW/n06HEPehCy2at/f2zFvbiNI8xVYQHoYJp9yjJyq3d2w2RTPV9VgZrq5wlAFPXaoor/9AEEhqWZ5pi5mh3SMi5+QuknwfgG9MXHr5yPZTf2Tau9cBeIU7fgXaZMY/OdTYvAn4kSTvzXTiyDl1CwoKCjYMQRcxb8NtiTw5d43k50meLCJ3kTwZwN2JYncAOC04PhXAna7tzwdt/Q8A757Xn8F/USJSi8hxie1+IlJEEAUFBVuCBhy1bRBXAbjA/b4AwLsSZT4C4AyS+0nuA/AcVw9u0lb8AIBPzLvhItHQdh0qI4IYo0UdNDXy/89iZVmq1Z6iy0YEU9fYyNFAFXNx5LSZUcQkjfoTjgW557Hj4JVYfrXbX/ZbxUuVEod4UUNspieNG6+BzBi9pqqUQjAWJ6iIoDEu2kOt21jL4XjN/L3UeSN2tOned1cnNylYR5+kEq5XVpWAkYzD3WgSHXfiL3c9ME/rxESaBy/O5h3Cmxc60YOKGqzoYSbdDcbEOl4UW6SEeyWAt5K8EMA/AngWAJB8MFpzs6eLyJTkxQDeg3ZULxORm1393yJ5NlrS/lm0TmuD2NMTcEFBwfaHYGsC7YjIAQBPSpy/E8DTg+Or0XoD23LPW/See3oCJhocwYP+OIpz69nSsJlS6IaaCroDBOZVQWzcPgOOM+56hVRoFG8D+GQY8bIyyPYYjCqQEuOUZTvSH58uX5wx8VPGGri1TnxGB1d2YvoWCNE8UzTs28cMbqImEDagb2ZggTMXKSWmdVOeLfBueisRXzf4zhqNx+v64Jjo4aGVThW317nMJxiwUbJ6xmuY7ywYVZurcMNYTAm3o7CnJ+CCgoKdgS0SQWw59vQETAj28WDSwaAXRtCbPVWmjUS4QjX1gs2u0H1Flcla668ZM6WYASsbUSeENCMOzX9SzxYiZMs5d1mL1DhZpHKRKfOtZk4GbLLw0pQDANaZ7MqJL1eq9CpFX5E6HkzDv2b1vtX3XVXh6SRyAY2SefaMI0YoKQ3Phz23zLfXl8i8S+Xm7bmpo4qsYmeUKhQCqzVgNZ8B92X8cWaP1KprkSzdYyBIm+ntBuzpCbigoGBnoDDgXQhCMGkOZ9hmnI+r8XwndveNXFUN07Wy31AG7M95ttdnjG2f+oGuZ04j3cnlYsuJUN6nFgDWTTcl287lK7Ma9TEy5i4rcvDMs9bihLrXZ9e9rjJCBmxYck27IgkdDLwJgLu3G3/nDj1V9+hAY6/Bd6pGnQfa4yHG5XPnVeoe3R5PUpmU1XnDyKf1PWggHwn6JGa8McCIlblrf4n4OWz41LB/DL4tIP4+fV8GxnsrUSbggoKCghVABD4zzW7D3p6ARaL/+iEbpHGtrRAzmCFUnmnFzLduOvtXGgZsZcK+TwkZsNb1gW80YLcGRAncQoV9phseN4FMe54MeMhVOWtnHMqAVS6sVhCOCfdkwVV3rLVrtp7vGiC8bvT9hCsE5x3vvaBV/qnWIk4GHIyPvquZa2faqBVKX3ZuQ1ROfDAedU3Oy1K71YMG7oltiiWy945XIrF1eYzeO/MMO37vTRjC0vtMm7Z8JuvxOYjTQaOWT1cLAy4oKChYEWa7NC/9np6ACfPfPmCb3g7XaLGH/rnbpJw+gLdjvqE8tHbsr9JrygoNzwmtLrxmW+LXptpsMWmT2vaGA9IMyYCDRuLzI1aDSRaoY617z4RjBhzFH3LjIxroXevoyiEIfl+b8If01iKxV2GYskllo1NlclWs5U85APSYtWXCCa6q3opd4tTYCqIJ5PYawdN+e6m+ND5spvWsc22MWLHlvtu2AR0zXzjqU2rlo1Ygy7NHTz/7bsCenoALCgp2AKSIIAoKCgpWhuIJtwshiJVcIbplWd80Jwe7hOucEZwSbtYF/lHRQ9XEJlmVUUhF+b9ERRB2iRsby4cuvrncdr7NJbst9/bh+HozMbs3f11D2ZFNwJ5YyacKzfiZfKZmL4roFHedWMK42ibEOf4+Ztld+zb6SrieA0ZuCZ96Z5lld8gG/dLcW+Cpc4UqERNxn73YIh7DlENG9z6t27j3YNGCHp2J3XLQiiCW1Ng2w56egAsKCnYGygS8S5F1pc2YU6UYiy0Ttg70Tc3ac04Jp8o4455rg/MA8NkJfEAadRJxiqMhl1KLMczX5kUbCl3pzZ/UOcQF1KkC07vZxD2/UexIZVYZIevXrLzu2dUMrZd5I6zuFV1pp5mk84zNCG1cbVPouZwn8sh1Lu1wZdVMzI5tv/8dE3Y746YewirdRr3fjKNQMiiPGQdr9hZlj/Z/K0uCFCuIgoKCgpVAADRlAt6FIKNsriGDtWygL9f1OXaT9cOyvq2Ei60yX04PufOOMep9Khu+JXCPZpzNdhHkHCeAPtMdKmtdnHU8/TNPEn85ytKq2LSsux44nzjma7PzzlxOsqYKHTHSbNXK8yO5scoyq/jYBjgC+qZQvRXCwMpDZc1qKqjHGjgpDFvZGOZrkfIKsxmgU4Hebdle8KiEXL1zRDKriYFnH7MCWxRFBFFQUFCwIpQJeBdCQMw46bTBCalV55Bhg+9YJtxnopb5RoFpjDtuL0CNcVYAApdUH2rQWASkAvp43wmVV6pxvzsOXGDHysNDqKOIT0mjTbjDJmClyl7rWcte64l5Zm0zspxwwWZ8Vt44RU4qGE9vJWLl+cGxl8urUt8ENGLk6jzeNTsH67rrmXDocONl2C3G2OF0K5F0nyImbP1sBlyPO11EnTxP9v92bACijaKNBbGUprYdlmUpkgTJ00heR/IWkjeTfKE7/yx33JA8x9R5FcnrSX6vO34IyY+SvMHVeUFQdj/JD5P8DMkrXZI8kHw+yV/ZzGcrKCjYOojIqG0jIHl/kte4+eQakidmyl1G8m6Sn1hP/RCbzYCnAF4sIh8jeT8AHyV5DdpsoT8I4A/CwiQf6n4+DsCbALwfwF0AvktEDpI8FsAnSF7l8jT9JoDXiMgVJF8P4EIArxvbOQExQ+3ddUPZp2c73twxZo702v9UcOz0hxAxDe+W69pTRjw9HF+vgsA6VcyOFwqaou6zyvgS5GReAsnU8UytEby2X1PUuKA5QXqhaeVsn+sj22uiLtoxg0+xWhsYPGe/DeSD3SddbR06Oeh8vtljwpnUSq43cd+MLLhbmXTv0icT9S7OKndV+9pAXpxhmY3fJ8J25my1E9+THX97fghDCWwXxWzMMmDjuATAtSLySpKXuOOXJsq9CcB/B/BH66zvsakMWETuEpGPud9fBXALgFNE5BYR+XSiSo322xG4KUJEDomIJm47QvtMkgCeCOBt7trlAJ7pft8H4GtLf6CCgoIth8j4bYM4H+08AsTziemPfADAF9dbP8SWyYBJng7gUQA+nCsjIjeTPBrABwG8JKh7GoA/A/AtAF4iIneSPAnAl0V8jvM7AJzi2rlyUx6ioKBgJVhABnwSyeuD40tF5NKRdR8kIncBLXkk+cAFuriu+lsyATvRwZ8CeJGI3DtUVkR+NnHucwDOIvlgAO8k+TZkwqMu2DPMJFTCSXipRS4Yq/eiDW+plZzrqy7DddmZdBowEcLsMnBAzGDbS7n/5hRQNaZRHaC/HPL55EyM2TDnnP62K0SibyLnXXY1bq5XdM03c/PHmvkhsbztopNpTF8Tl9k3knDP1XM0ooFUloh5C8fok/DGg3G7bsTqVGYPr6Bzbsze7FCVW13zVVoC0bWVcN5ovJt1nOet+6b742PLdmKMvKv2MrNnLMBu7xGRc3IXSb4PwDcmLr18Hd3aMDZ9Aia5hnbyfbOIvH0jbTnmezOA73FtnkBy4ljwqQDunNMXIhBNHH/8CRvpTkFBwRzcfvvtIPkvwaljZR3aMlmSGYSIPDl3jeTnSZ7s2OvJAO5esPmF62/qBOwmvDcCuEVEXr3ONk4FcEBE7nNaxXMBvFpEhOR1AH4YwBUALgDwrqG23Is/Ro+//RGPlMMy6QVVacsq+4iDnXhD+kSety6oiZpDWWVQPzCNN52yAWoMI3OF4rrqLlvNV0zZvG6KKrGQ6OLPtnU6N9Q+W/NsSvcDrEeVR4s4MFj4umqqFbwzjcNbuxjBmqGi34+gvcwKwzLiCJk6Ythze1KvIbpmlaIV+wy4Y76xMq6qghVIZoFkM2WEqxbNCKLvnt55Jhfsqa+Msy7PKbZLCPbv348DBw4c07u4AGTrXJGvQjuPvBIj5pNl1N9UJRzayfJ5AJ7ozMhuIPl0kj9A8g4A/xbAn5F8z0AbDwPwYZJ/h9Yq4rdF5CZ37aUAfoHkrQAegHayLygo2GVoGhm1bRCvBPAUkp8B8BR3DJIPJnm1FiL5JwD+FsC3kbyD5IVD9YewqQxYRD6IpMETAOAdI9u4BsBZmWu3AXjM+nrXsoSZ1EmZlWckJsiJsiprFgUEThsmLKJnxlXfqN8Hl9Frtc+C5hoN6qg7rgam0b2Rz4UhFHN53UaxThNqMOXe6mXAEjOtoSwOvduMMFfyslOffy3hSBJkxwjb5eDKwDrYmOsJt9xlyDh7bsBRAB+baaO9z0QznzTBff3KzMjKDfOdSvidtu1OsRaVtZk9UhgV5GfJrsiCpVg4zL+PyAEAT0qcvxPA04Pj5y5Sfwh72hOuoKBgB2A5JmbbEnt+Am6kSrpO+v/0blerS6ZnCxqkpGMLyjzrJmYJGgBcwsA6Gq7RBeNRdgtj5C+BI0YzaV14Z/UR7V4D07gyXQCZgDUbGd0YdjKP4UUy4B7TinOphbLHrs7isIxXMxLXgRlAX76q8vU6uh4914ATAjDO4aBXJ3IkSTPToYzTNudc7eWvMSOGK9Vea2GfQlcmbAIZMHTlFMua64Q1UNJCKOjjYFCnpTFhQbNLZ+A9PwEXFBRsfyzg9LmjsKcnYAExlcpr1OsBWWSnmVbZppP3BmxEA6x4e0qnFPABZJowFY475+S4KpfzLNnIiAFgtta68M4mLQOe6r5yzNhpt8PALrkMx91h3vbWatJT7M3amVrmG/7d9DL2evY8X66olgAqB03ZYesKxAaJ72vuA1Y7ZO2QQc4tN6UXyKZqkjQTDmHl3vSWOeE7i4P5VEZOr+cj6bh75JmXLascXwPsBMGKEJ9Tlmxd2pNB7te11ulDBJjNCgMuKCgoWAk2Gmhnu2LPT8CNVMF/7/A/tmFExiKgUflZFPrRBZcxskbLwNrfjjUpO3byXWV0WlblvWGZ6aRlwsp8/V6UAQ+k0bEBagbSDGk7qYAu2fatV5vk2fKssaww1Z7+ikNNWqYX9d94aans1NtN940I/BcwJsBR3iZWWX/fCqWzDkkHt2miVUV6nJX5hok2NVGr7bU/9uPUt8DxdsY6psbCJDzndR2ma3XMrV2R5coLBLs3HOWen4ALCgq2OQRL84TbbigTcEFBwbbHLpVA7O0JWMB2ueeWVbHJlCofjDmV6oB8poDE0nGEokvX1prXTb1LvSLJZxfe56uo6OGwE0scrpwSzokeZlARRL9PnWmTMUeL4g/FS/WcM0VsMgXXbhx0RscvXvpqnzCIUCnXZfDYOLplfygiMC2PUMZZ0UMnqondsuNr45Vv/f6aLiZM1rzoKvPOQqfsrp/tcT/oT+De7ZSeOlF0ikFjupno6npyFeawBC+3bYk9PQEXFBRsf4gImmIFsTvRoFPopP6LD4U/bKsk2IgxXu8yKQ8xYecWqizEOVco6wWAqXO88HvDfGfSV/B4BwzPkPLKN2XHQwF1wucCghCTqljz19SVOuBezgxPh4HepM9dXlIOMUXP5IuG/QfngkoRorJzlG7eGSX4s7LBisY4xmTdon225Lzzia2aCkcJr2R1bLbSvrXH4aRAH5DJmbn5HHZtGxX6jF46O8zkc6wHxRGjoKCgYEUoZmi7EdKyo8YbmYeXlCW0sJJBy3bb3zHT7eUmi3LCqbmZsoXYiF9lv8p2gU72q0FUlPlqoJXBADiW6Emfgc3mMF+V84as0ZrcaeAbJWShC6wOospFVbOtf1vqY7FRJtxzlBhwJOkCpWdckQfGRFmhjuXUr0QC5xnNkeeZcFqeHpp+DQWot2V9dmtvHhmz5CFnFz/e5iOPMhz74O2xzNcG/49M4/w4580hF4FIkQEXFBQUrAy7lACXCXgeKsNCbPjAkKX44CkuTV3HgGe9sl2Dlvk6+W4dO1kAoaw3LfMdE/rRyh5zgbTjLsbPnELDuA+VYz9hCE4lSV6G6p9d+4S59+m5PicsPryjh8l2LcbJJXrG3vGAi7ZZD3lLBx+as3vmw018rWdR4tlsJyuvzTUb8Cbl/i5eFu/aMPL1lIJDWbEyYT+2CcseL6c3QahSAd9HGHgsBBHBbIsism81ygRcUFCw7VEcMfY4bGAUTaoYpcQxzLdq4n0kA2YsQ/MBe5z1gwbW0T0ATEWtH2K70yHma60dhkIEzmO++swpyw+F9kmtIw6HwXIMa2168kVE19v2031NBYefeUaXYcKGtaWe2SJ+Z7adWPburSACufesURlw2v53kpCrwzBeH4xnYNVik8dqez59UdOX0S6CXrAlE+QnDJFZe3f35bHWMgEXFBQUrAJSYkHsOfSCe3vmGx+HwUhsos5B2a+DT/OtMmDHeH2IyVCjbuxOrcwzFWBnI4kvLfPVdExVZPmhFh4SPU+TYMtd+px2r15WjS0QGotkLBrUhjXkWJ3NbfqZfZjI0Psvs0KwQYvaeunQlZbZh322qZp6/oKuaGgvYL+5iR93TYfV3d9/l65vh0yaIb3hNEjk6Vca3h47vm/8bO4+oquJ2Nol9Vl1z78kKwhsDQMmeX8AVwI4HcBnATxbRL6UKHcZgGcAuFtEHh6c/xUAPw3gC+7Uy0Tkals/xGYn5SwoKCjYIAQi47YN4hIA14rIGQCudccpvAnAeZlrrxGRs902OPkCZQIuKCjY7hBgNmtGbRvE+QAud78vB/DMZHdEPgDgixu9GbDXRRBsl12VPwyVS+3eZwQwy3E9XwVKmlHKNwdvwK5xf1X5pnne3PJtFrwiFUek8qy1fU6YxhnRyRA691LzrCYmrCobgb6ziVcq6nI/9IDVJXplluzGVTikBbmVZyrnnI7yNMOEZl58NEteD2FFEe2BOpkY8ZQZ25RStLHXBpSjKuqZ+P1hd5/+d1S7wfLfSaU7/RbqqM9AaC4X93OIjVnxiioaax+QqKu9HrHXELZKBAHgQSJyFwCIyF0kH7iONi4m+eMArgfw4pQII0RhwAUFBdsb0k7AYzYAJ5G8Pth+JmyK5PtIfiKxnb+Enr4OwDcDOBvAXQB+Z16FPc2ACUFN6Zn7AJ0Zlc+FxQwTlo5NLaJ861w5HdNV5svY2WIaKOFsQBd/X8vSGaq14v529+//760zTie+Xek/c904dmbCc3oGHN5G9UJVzJosY5wGrJYma4ZFWFcVWqowUgePytSNnz0ely7jRoIl6zVVMDL955ML3BRe676rviuyvk9lvmtyKOpT+F15Bx7qNfctVPF9GOQj1JV654AxwoHHmJ91JnG6UuivHpeHhbIi3yMi52RbEnly7hrJz5M82bHfkwHcvVAvRT4ftPU/ALx7Xp3CgAsKCrY9FmDAG8FVAC5wvy8A8K5FKrtJW/EDAD4xr86eZsBA+5+8YyXx+dS+y1DblxEOhp1EJx8FQscLt1cm42W//eDeVmaaY1qhTDLlPNEeq0lT4HaaCUyTY8Ltbx0PlXtrfrG+CZKX/RpX5J61UnD7xmfsdW1ItmiXJ8644drsyClkAygF42YD0PRWQ+zX6fK4xR33cnWfh60bUy/7RcuAJ03LgFX2Hn5fXofg2DhrEwpV91VXZ+r61Bg5+pDs2t/POpR4U7bQXK/XzIYgwDIsHMbglQDeSvJCAP8I4FkAQPLBAN4gIk93x38C4PFoxR13APhlEXkjgN8iebbr8mcB/Id5N9zzE3BBQcE2hwCz6ebHghCRAwCelDh/J4CnB8fPzdR/3qL33PMTcF315b5AigGnP4DIcmJORt2IbRprgYYx4+0M90MD+mHhWkr7nMt+nGqrx3xtMJhEWE0vM22szNQ5bzSdxYRnkLVhwIqE3b63aNCgNqZKSoZm0+QMvcvcSseGFg3bs7JwZfu6GgjluZrex/6hdU4WMRNu66tLe2x1Us8O9frkXY6NZYeXAbt9HVnrxGEzZ5JmxG1Z6yzj7mu+H8lY5iwHS7Hx3ZbY8xNwQUHB9oYIIM3mM+BVYE9PwK0VRJNkjpWxggjr5CCZhI6dzW/AZhnLfrvkjXGAlxDWTtey22SQ+Fxwb20+Et1lLA2M7DP3nEDIjtVmNrCYUDalqYmq2KrD2gm3haPmfIDwRQIQ2fNxCFHDZo0tN6IVTty/jgHHLsNN1bF+hbVNrjLuxm2fYksMq1uILDR0geDa68L3+8baugn39MPGVtgG2AnPwQQ/sq7VIcZYVSyKEpC9oKCgYEUoIoiCgoKCFUBE0GyBEm4V2PMTcIUmuTS1mS8UuehcQOCEoFkgzDfTBNkhGquE85HO+nFuu75aUYP2MXY3Tj1HDkNmaNZFOJmFwsQzrgb+TuwSWve1a2PNLX4jEYRCo3r5w/lKHxolnI1kl+pTt9zPuytXbvmtyrFGYkVqHfbNi05iDWOXC26+045FStmrd9R3NnEOMr0C7c0GETqudMwzfvfagybhKLPs7NZtm2UCLigoKNh6yJbFgthy7OkJmJTIAN5eG0LP5RZ9pVhjmFzIgK3r8ZAxvO1TzynEB4WZRcdRXe86mmfY/tlMegXPeozisH0Ox+Qafcb+nXN96ZlxIWbE7b1cDjI33rVvL2bpwHjlW6SE62Wutkw4yCTBWLGoJlrKhKWj3B6awTqXzWLIzLEbd3ffSgPr9M3o/LFh8Jath/3MrWyqwKTM/nV4JZxjvj4vYdCNZTNgwVK83LYl9vQEXFBQsDNQlHC7EETsfJEuk5YBq7lYknV5uV8mRCMC5qsBaRCbZKXu38tL5438p/H5debi6puhKbtxjN49h4bOdA8QFvWscEz7fSasbK3r/8y76sbZLirPDpfzh9lnkvmMGJ2cW1l5K2/tzOj6GYK1nVlGdh0GCNJvQse5z9wD1m8Yu3VuSYXVVAcP6zo9aGJpHDK6PHiOCQceMl3GjSUxYQGaYgdcUFBQsPUQCJrZ/BjOOxF7fAIWVJghFZoxVRIIAoTrP/cgJGEXBEZlhZYBhyxH3UDj4DsWVcI9Wo326wzzTcsT0ww79eydw0fc1y7wSiD3ti7Oru6oUJwj5KE5Z5MxRgOWifVcnxeEfyYbgMjKWaMIQfu0squj1i75fGk+YDrjIOs6Xuqq3N47LbMecpaxGMpebN+Vl/2afRMw4C74/OguDKMo4QoKCgpWhzIB71IQgqHQjN2xXssw4aCMKGs1hCu0XfXphdQN1ARbT9kmW+arFhw+TGFC3texb+2SCWU58F1bJtzJv0MZ58TdJ83+h2DTMqVcodeT1iZnv2yzF0d9mGcci+CZ1DKjF4DIIRgeH6TGr5ji80nbarPisPblTWBTrO/eWnMsArs6asK+GBdkK/v1sZKC9pQNL2/OlGIHXFBQULAKSBFB7F6QMscmNu35piwlDMOndqw+bYsG47ZBrBHKgIetH6IwhYb5TkTTAQ0k/zT2p/3gQgFbNnJJr/n2XYuZmWsgrqM2qyZw/RDGyOCzdVNBxNUu2oy7TasTXfMy0/g45RFnmbCVv8YWB+6b8EHcjbeh+Q7i51C73NjOO5Rl+3CUoiEx099CFAgqI4P310ObXrefGWsHb/1g7ILba/12NooSDa2goKBgFZBiBVFQUFCwEghKOMpdCcIt9XX1FMXGjdFklmtVVMaYFplGQlMzuxzO5XmrE7F9reJFMxOn3F07Pwm7fM2bQfWzHcSiCIZOA0YZ2QW+cXWDpnLmTr14wAkRwRjYPGU+X5pb3k8Syr6eO65RDI7RAVo35tCVt5FYFGPfb+q7siITFSM1qT7pKeNQRNNuHIs6I1ZLiHPEKNu6soj24fy4GY4Yu1UEUbIiFxQUbHOMy4i8UUUdyfuTvIbkZ9z+xESZ00heR/IWkjeTfOEi9S3KBLwgRBhtDbpthgozVBBn3KabPx/Vq9AE5yy0dojK1dJrlcxQyay7k7it14N0cJ71mHgBiFq242LLxPWq5LZV6Pqd6AerpPNC6lkVlGau2de895C6j26NVO1mvpUGdbe5Mr4OKzTMP0/qnkN9yNY1fwciCDbXz2Uq4aQZtW0QlwC4VkTOAHCtO7aYAnixiDwMwHcCuIjkmQvUj1Am4IKCgm2NNiD7bNS2QZwP4HL3+3IAz0z05S4R+Zj7/VUAtwA4ZWx9C+7WKENjcNJJJ8npp5++tPZuv/127N+/f2ntrRLlWbYndtqz3H777XLgwIENET2SfwHgpJHFjwTw9eD4UhG5dOR9viwiJwTHXxKRrBiB5OkAPgDg4SJy76L1gT0+AS8bJP9FRI5ZdT+WgfIs2xO76VlWAZLvA/CNiUsvB3D52AmU5LEA3g/gN0Tk7e7cwhPwnraCKCgo2FsQkSfnrpH8PMmTReQukicDuDtTbg3AnwJ4s06+DqPqhygy4IKCgoIWVwG4wP2+AMC7bAGSBPBGALeIyKsXrd9rr4gglgeSlDKgBQU7EiQfAOCtAL4JwD8CeJaIfJHkgwG8QUSeTvK7AfwvADehM7N/mYhcnas/eM8yXxQUFBSsBkUEMRIkn0/yGavuR0FBwe5BUcIlQPKzAL6KNinsVETOcZeeTfI8AJ8XkVeQPBKtGcoRaMfybSLyy66NnwfwU2gdR28C8BMi8nWSzwfwBAD3AbgLwBqAhwN4togc2qLnG+r3CQDe4PokAH4SwLetus8pDD2Hu14DuB7AP4nIM7bD2OeQexaSpwH4I7Sa+watWdXvbudnKVgAIlI2swH4LICTzLnnA/hR9/tKtyeAY93vNQAfRusdcwqA2wEc5a69FcDzg3Z+xP2+1u1fBuBRW/h8yX6748sB/JT7vQ/ACduhz4s+hzv3CwDeAuDd22XsF30WACcDeLQ7fz8Afw/gzO38LGUbvxURxGL4itsLAEiLr7lza25TofoEwFEkJwCOBnBn0M69bv8Ftz+ElvlsCXL9JnkcgMeh1fJCRA6JyJdduZX2OYWh8Sd5KoDvQ8vmQ2y75wDyzyLDnlfb8lkKxqNMwGkIgPeS/CjJnxkqSLImeQNam79rROTDIvJPAH4brSb0LgBfEZH3bnanF0Gq3wD+D7R/zH9I8uMk30ByWxv9Z54DAP4rgP8LyIRg24YYeBa9fjqAR6FlxwW7Aaum4NtxA/Bgt38ggL8D8LgRdU4AcB1aOdyJAP4SwDegZTLvBPBjq36uEf0+B22wkce6a78L4BWr7uM6nuMZAH7fnX88nAhip2zhswTnjgXwUQA/uOr+lW15W2HACYjInW5/N4B3AHjMiDpfBvBXAM4D8GQAt4vIF0TkMIC3A/iuzervRmD6fQeAO6RjXm8D8OjV9GwxmOc4F8D3O2XqFQCeSPKPV9a5BWGeZcjzqmCHo0zABiSPIXk//Q3gqQA+kSn7Dc5qACSPQjvxfgqt6OE7SR7tPGeehFZ2ty2Q67eI/DOAz5H8Nlf0SQA+uZpezsfAc/ySiJwqIqcDeA6AvxSRH1tdT+cj9yxzPK8KdjiKGVofDwLwjva7xwTAW0TkLzJlTwZwuTN3qgC8VUTeDQAk3wbgY2iX9B8HMCoi0xYh228APwvgzST3AbgNwE+sqI9jMPQcOw3JZ3GeV88DcJOTDwPO82pF/SxYIoonXEFBQcGKUEQQBQUFBStCmYALCgoKVoQyARcUFBSsCGUCLigoKFgRygRcUFBQsCKUCbigoKBgRSgTcEFBQcGKUCbggggkZyRvIPkJkv8z8M56sHMumVf/a5nzzyR55py6f0fyT9bV8SVh7HMWFCwDZQIusLhPRM4WkYcD+CKAi4A2PoaI/PAG2n0m2ji2SZB8GNrv8XGrjMC2hOcsKBiNMgEXDOFv4WLPkjyd5Cfc76NJvpXkjSSvJPlhkpo1BCR/w7HZD5F8EMnvAvD9AF7l2PU3J+71IwD+XwDvdWW1rZ8j+Ul3ryvcuWNJ/iHJm9z5H3Lnn0ryb0l+jOT/R/JYd/6zJH/Vnb+J5EPd+e91/bnBhd+8n3nOI4P7fJzkE9z555N8O8m/IPkZkr+15HEv2CMoE3BBEi4mwZPQptq2+E8AviQiZwF4BYDvCK4dA+BDIvJItCl2flpE/sa18xLHrv93os1/D+BKAH8C4LnB+UvQZnk4C8AL3Ln/G22M5Ue4839J8iQA/xnAk0Xk0WhTEf1C0M497vzrAPyiO/eLAC4SkbMBfA/a9D4hlP0/wvXpcrapgwDgbNfnRwD492xTBxUULIQyARdYHOWCvhwAcH8A1yTKfDfaMI8QkU8AuDG4dgiABsT5KIDT592Q5L8B8AUR+QcA1wJ4NMkT3eUb0QYH+jG0gY2ANlLYa7W+iHwJbfqeMwH8tev/BQAeEtxGwziGffprAK8m+XMAThCRKWJ8N1pWDhH5FIB/APCt7tq1IvIVEfk62ohxD0FBwYIoE3CBxX2OET4EbU64ixJlOFD/sHQRnmYYF3HvuQAe6uL3/m8AxwH4IXft+9BOtt8B4KNsUzwRXeqnsE/XOIZ9toicKSIXBtcP2j6JyCvRJk49CsCHVDQx8jkPBr/HPmdBQYQyARckISJfAfBzAH7RBQQP8UEAzwYAZ9nwiBFNfhVtUskIJCsAzwJwloic7mL4ng/gue7aaSJyHdr0QiegzQzxXgAXB22cCOBDAM4l+S3u3NEkvxUDIPnNInKTiPwmWpGFnYA/AOBHXdlvBfBNAD494lkLCkahTMAFWYjIx9GmZHqOufT7AL6B5I0AXopWTPAVDOMKAC9xyqxQCfc4tGnj/yk49wG04oRTAPwxyZvQxlR+jcsW8esATnSmcn8H4Aki8gW0mYL/xPXrQ+hPqBYvCtq4D8CfJ56zdve/Em1m64O2kYKC9aLEAy5YGE5BtyYiX3eT6bUAvlVEDq24awUFOwpFblWwHhwN4DonmiCA/1gm34KCxVEYcEFBQcGKUGTABQUFBStCmYALCgoKVoQyARcUFBSsCGUCLigoKFgRygRcUFBQsCL8/0bVfVhb/li7AAAAAElFTkSuQmCC\n",
          "text/plain": "<Figure size 432x288 with 2 Axes>"
         },
         "metadata": {
          "needs_background": "light"
         },
         "output_type": "display_data"
        }
       ]
      }
     },
     "8e55ba1a64014334976cc10e32f94b65": {
      "model_module": "@jupyter-widgets/controls",
      "model_module_version": "1.5.0",
      "model_name": "SelectionSliderModel",
      "state": {
       "_dom_classes": [],
       "_model_module": "@jupyter-widgets/controls",
       "_model_module_version": "1.5.0",
       "_model_name": "SelectionSliderModel",
       "_options_labels": [
        "1.00e+00 TeV - 1.78e+00 TeV TeV",
        "1.78e+00 TeV - 3.16e+00 TeV TeV",
        "3.16e+00 TeV - 5.62e+00 TeV TeV",
        "5.62e+00 TeV - 1.00e+01 TeV TeV"
       ],
       "_view_count": null,
       "_view_module": "@jupyter-widgets/controls",
       "_view_module_version": "1.5.0",
       "_view_name": "SelectionSliderView",
       "continuous_update": false,
       "description": "Select energy:",
       "description_tooltip": null,
       "disabled": false,
       "index": 0,
       "layout": "IPY_MODEL_0c3afdec1c604479a8a5cf6e87c07742",
       "orientation": "horizontal",
       "readout": true,
       "style": "IPY_MODEL_d605d1f67f3f42a08c97021ee2b60ac1"
      }
     },
     "943ea17d4d7a4953a8acb185c71e02e2": {
      "model_module": "@jupyter-widgets/controls",
      "model_module_version": "1.5.0",
      "model_name": "RadioButtonsModel",
      "state": {
       "_dom_classes": [],
       "_model_module": "@jupyter-widgets/controls",
       "_model_module_version": "1.5.0",
       "_model_name": "RadioButtonsModel",
       "_options_labels": [
        "linear",
        "sqrt",
        "log"
       ],
       "_view_count": null,
       "_view_module": "@jupyter-widgets/controls",
       "_view_module_version": "1.5.0",
       "_view_name": "RadioButtonsView",
       "description": "Select stretch:",
       "description_tooltip": null,
       "disabled": false,
       "index": 0,
       "layout": "IPY_MODEL_69d0f3cb590747a9a6a9aec5c6a57af3",
       "style": "IPY_MODEL_17112134f2a24043a203cdfdba5ee60b"
      }
     },
     "bab3a9f987e14c0a9b9131c7c4cd76ed": {
      "model_module": "@jupyter-widgets/controls",
      "model_module_version": "1.5.0",
      "model_name": "VBoxModel",
      "state": {
       "_dom_classes": [
        "widget-interact"
       ],
       "_model_module": "@jupyter-widgets/controls",
       "_model_module_version": "1.5.0",
       "_model_name": "VBoxModel",
       "_view_count": null,
       "_view_module": "@jupyter-widgets/controls",
       "_view_module_version": "1.5.0",
       "_view_name": "VBoxView",
       "box_style": "",
       "children": [
        "IPY_MODEL_8e55ba1a64014334976cc10e32f94b65",
        "IPY_MODEL_943ea17d4d7a4953a8acb185c71e02e2",
        "IPY_MODEL_7c11a31b977d49d589b1193dbb5d9ab7"
       ],
       "layout": "IPY_MODEL_c4fc4259e36e413789fed2ebccebd927"
      }
     },
     "c4fc4259e36e413789fed2ebccebd927": {
      "model_module": "@jupyter-widgets/base",
      "model_module_version": "1.2.0",
      "model_name": "LayoutModel",
      "state": {
       "_model_module": "@jupyter-widgets/base",
       "_model_module_version": "1.2.0",
       "_model_name": "LayoutModel",
       "_view_count": null,
       "_view_module": "@jupyter-widgets/base",
       "_view_module_version": "1.2.0",
       "_view_name": "LayoutView",
       "align_content": null,
       "align_items": null,
       "align_self": null,
       "border": null,
       "bottom": null,
       "display": null,
       "flex": null,
       "flex_flow": null,
       "grid_area": null,
       "grid_auto_columns": null,
       "grid_auto_flow": null,
       "grid_auto_rows": null,
       "grid_column": null,
       "grid_gap": null,
       "grid_row": null,
       "grid_template_areas": null,
       "grid_template_columns": null,
       "grid_template_rows": null,
       "height": null,
       "justify_content": null,
       "justify_items": null,
       "left": null,
       "margin": null,
       "max_height": null,
       "max_width": null,
       "min_height": null,
       "min_width": null,
       "object_fit": null,
       "object_position": null,
       "order": null,
       "overflow": null,
       "overflow_x": null,
       "overflow_y": null,
       "padding": null,
       "right": null,
       "top": null,
       "visibility": null,
       "width": null
      }
     },
     "d605d1f67f3f42a08c97021ee2b60ac1": {
      "model_module": "@jupyter-widgets/controls",
      "model_module_version": "1.5.0",
      "model_name": "DescriptionStyleModel",
      "state": {
       "_model_module": "@jupyter-widgets/controls",
       "_model_module_version": "1.5.0",
       "_model_name": "DescriptionStyleModel",
       "_view_count": null,
       "_view_module": "@jupyter-widgets/base",
       "_view_module_version": "1.2.0",
       "_view_name": "StyleView",
       "description_width": "initial"
      }
     }
    },
    "version_major": 2,
    "version_minor": 0
   }
  }
 },
 "nbformat": 4,
 "nbformat_minor": 4
}
