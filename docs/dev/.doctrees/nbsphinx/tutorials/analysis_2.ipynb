{
 "cells": [
  {
   "cell_type": "markdown",
   "metadata": {},
   "source": [
    "\n",
    "<div class=\"alert alert-info\">\n",
    "\n",
    "**This is a fixed-text formatted version of a Jupyter notebook**\n",
    "\n",
    "- Try online [![Binder](https://static.mybinder.org/badge.svg)](https://mybinder.org/v2/gh/gammapy/gammapy-webpage/master?urlpath=lab/tree/analysis_2.ipynb)\n",
    "- You can contribute with your own notebooks in this\n",
    "[GitHub repository](https://github.com/gammapy/gammapy/tree/master/docs/tutorials).\n",
    "- **Source files:**\n",
    "[analysis_2.ipynb](../_static/notebooks/analysis_2.ipynb) |\n",
    "[analysis_2.py](../_static/notebooks/analysis_2.py)\n",
    "</div>\n"
   ]
  },
  {
   "cell_type": "markdown",
   "metadata": {},
   "source": [
    "# Low level API\n",
    "\n",
    "## Prerequisites:\n",
    "\n",
    "- Understanding the gammapy data workflow, in particular what are DL3 events and intrument response functions (IRF).\n",
    "- Understanding of the data reduction and modeling fitting process as shown in the [analysis with the high level interface tutorial](analysis_1.ipynb)\n",
    "\n",
    "## Context\n",
    "\n",
    "This notebook is an introduction to gammapy analysis this time using the lower level classes and functions\n",
    "the library.\n",
    "This allows to understand what happens during two main gammapy analysis steps, data reduction and modeling/fitting. \n",
    "\n",
    "**Objective: Create a 3D dataset of the Crab using the H.E.S.S. DL3 data release 1 and perform a simple model fitting of the Crab nebula using the lower level gammapy API.**\n",
    "\n",
    "## Proposed approach:\n",
    "\n",
    "Here, we have to interact with the data archive (with the `~gammapy.data.DataStore`) to retrieve a list of selected observations (`~gammapy.data.Observations`). Then, we define the geometry of the `~gammapy.datasets.MapDataset` object we want to produce and the maker object that reduce an observation\n",
    "to a dataset. \n",
    "\n",
    "We can then proceed with data reduction with a loop over all selected observations to produce datasets in the relevant geometry and stack them together (i.e. sum them all).\n",
    "\n",
    "In practice, we have to:\n",
    "- Create a `~gammapy.data.DataStore` poiting to the relevant data \n",
    "- Apply an observation selection to produce a list of observations, a `~gammapy.data.Observations` object.\n",
    "- Define a geometry of the Map we want to produce, with a sky projection and an energy range.\n",
    "    - Create a `~gammapy.maps.MapAxis` for the energy\n",
    "    - Create a `~gammapy.maps.WcsGeom` for the geometry\n",
    "- Create the necessary makers : \n",
    "    - the map dataset maker : `~gammapy.makers.MapDatasetMaker`\n",
    "    - the background normalization maker, here a `~gammapy.makers.FoVBackgroundMaker`\n",
    "    - and usually the safe range maker : `~gammapy.makers.SafeRangeMaker`\n",
    "- Perform the data reduction loop. And for every observation:\n",
    "    - Apply the makers sequentially to produce the current `~gammapy.datasets.MapDataset`\n",
    "    - Stack it on the target one.\n",
    "- Define the `~gammapy.modeling.models.SkyModel` to apply to the dataset.\n",
    "- Create a `~gammapy.modeling.Fit` object and run it to fit the model parameters\n",
    "- Apply a `~gammapy.estimators.FluxPointsEstimator` to compute flux points for the spectral part of the fit.\n",
    "\n",
    "## Setup\n",
    "First, we setup the analysis by performing required imports.\n"
   ]
  },
  {
   "cell_type": "code",
   "execution_count": 1,
   "metadata": {
    "execution": {
     "iopub.execute_input": "2020-12-29T06:41:26.101523Z",
     "iopub.status.busy": "2020-12-29T06:41:26.100948Z",
     "iopub.status.idle": "2020-12-29T06:41:26.391123Z",
     "shell.execute_reply": "2020-12-29T06:41:26.390520Z"
    }
   },
   "outputs": [],
   "source": [
    "%matplotlib inline\n",
    "import matplotlib.pyplot as plt"
   ]
  },
  {
   "cell_type": "code",
   "execution_count": 2,
   "metadata": {
    "execution": {
     "iopub.execute_input": "2020-12-29T06:41:26.394953Z",
     "iopub.status.busy": "2020-12-29T06:41:26.394437Z",
     "iopub.status.idle": "2020-12-29T06:41:26.830773Z",
     "shell.execute_reply": "2020-12-29T06:41:26.829664Z"
    }
   },
   "outputs": [],
   "source": [
    "from pathlib import Path\n",
    "from astropy import units as u\n",
    "from astropy.coordinates import SkyCoord\n",
    "from regions import CircleSkyRegion"
   ]
  },
  {
   "cell_type": "code",
   "execution_count": 3,
   "metadata": {
    "execution": {
     "iopub.execute_input": "2020-12-29T06:41:26.836992Z",
     "iopub.status.busy": "2020-12-29T06:41:26.834831Z",
     "iopub.status.idle": "2020-12-29T06:41:27.486348Z",
     "shell.execute_reply": "2020-12-29T06:41:27.485816Z"
    }
   },
   "outputs": [],
   "source": [
    "from gammapy.data import DataStore\n",
    "from gammapy.datasets import MapDataset\n",
    "from gammapy.maps import WcsGeom, MapAxis, Map\n",
    "from gammapy.makers import MapDatasetMaker, SafeMaskMaker, FoVBackgroundMaker\n",
    "from gammapy.modeling.models import (\n",
    "    SkyModel,\n",
    "    PowerLawSpectralModel,\n",
    "    PointSpatialModel,\n",
    "    FoVBackgroundModel,\n",
    ")\n",
    "from gammapy.modeling import Fit\n",
    "from gammapy.estimators import FluxPointsEstimator"
   ]
  },
  {
   "cell_type": "markdown",
   "metadata": {},
   "source": [
    "## Defining the datastore and selecting observations\n",
    "\n",
    "We first use the `~gammapy.data.DataStore` object to access the observations we want to analyse. Here the H.E.S.S. DL3 DR1. "
   ]
  },
  {
   "cell_type": "code",
   "execution_count": 4,
   "metadata": {
    "execution": {
     "iopub.execute_input": "2020-12-29T06:41:27.490877Z",
     "iopub.status.busy": "2020-12-29T06:41:27.490324Z",
     "iopub.status.idle": "2020-12-29T06:41:27.527507Z",
     "shell.execute_reply": "2020-12-29T06:41:27.526896Z"
    }
   },
   "outputs": [],
   "source": [
    "data_store = DataStore.from_dir(\"$GAMMAPY_DATA/hess-dl3-dr1\")"
   ]
  },
  {
   "cell_type": "markdown",
   "metadata": {},
   "source": [
    "We can now define an observation filter to select only the relevant observations. \n",
    "Here we use a cone search which we define with a python dict.\n",
    "\n",
    "We then filter the `ObservationTable` with `~gammapy.data.ObservationTable.select_observations()`."
   ]
  },
  {
   "cell_type": "code",
   "execution_count": 5,
   "metadata": {
    "execution": {
     "iopub.execute_input": "2020-12-29T06:41:27.537290Z",
     "iopub.status.busy": "2020-12-29T06:41:27.535892Z",
     "iopub.status.idle": "2020-12-29T06:41:27.537818Z",
     "shell.execute_reply": "2020-12-29T06:41:27.538508Z"
    }
   },
   "outputs": [],
   "source": [
    "selection = dict(\n",
    "    type=\"sky_circle\",\n",
    "    frame=\"icrs\",\n",
    "    lon=\"83.633 deg\",\n",
    "    lat=\"22.014 deg\",\n",
    "    radius=\"5 deg\",\n",
    ")\n",
    "selected_obs_table = data_store.obs_table.select_observations(selection)"
   ]
  },
  {
   "cell_type": "markdown",
   "metadata": {},
   "source": [
    "We can now retrieve the relevant observations by passing their `obs_id` to the`~gammapy.data.DataStore.get_observations()` method."
   ]
  },
  {
   "cell_type": "code",
   "execution_count": 6,
   "metadata": {
    "execution": {
     "iopub.execute_input": "2020-12-29T06:41:27.548364Z",
     "iopub.status.busy": "2020-12-29T06:41:27.546352Z",
     "iopub.status.idle": "2020-12-29T06:41:27.552887Z",
     "shell.execute_reply": "2020-12-29T06:41:27.552437Z"
    }
   },
   "outputs": [],
   "source": [
    "observations = data_store.get_observations(selected_obs_table[\"OBS_ID\"])"
   ]
  },
  {
   "cell_type": "markdown",
   "metadata": {},
   "source": [
    "## Preparing reduced datasets geometry\n",
    "\n",
    "Now we define a reference geometry for our analysis, We choose a WCS based geometry with a binsize of 0.02 deg and also define an energy axis: "
   ]
  },
  {
   "cell_type": "code",
   "execution_count": 7,
   "metadata": {
    "execution": {
     "iopub.execute_input": "2020-12-29T06:41:27.560635Z",
     "iopub.status.busy": "2020-12-29T06:41:27.559356Z",
     "iopub.status.idle": "2020-12-29T06:41:27.561145Z",
     "shell.execute_reply": "2020-12-29T06:41:27.561634Z"
    }
   },
   "outputs": [],
   "source": [
    "energy_axis = MapAxis.from_energy_bounds(1.0, 10.0, 4, unit=\"TeV\")\n",
    "\n",
    "geom = WcsGeom.create(\n",
    "    skydir=(83.633, 22.014),\n",
    "    binsz=0.02,\n",
    "    width=(2, 2),\n",
    "    frame=\"icrs\",\n",
    "    proj=\"CAR\",\n",
    "    axes=[energy_axis],\n",
    ")\n",
    "\n",
    "# Reduced IRFs are defined in true energy (i.e. not measured energy).\n",
    "energy_axis_true = MapAxis.from_energy_bounds(\n",
    "    0.5, 20, 10, unit=\"TeV\", name=\"energy_true\"\n",
    ")"
   ]
  },
  {
   "cell_type": "markdown",
   "metadata": {},
   "source": [
    "Now we can define the target dataset with this geometry."
   ]
  },
  {
   "cell_type": "code",
   "execution_count": 8,
   "metadata": {
    "execution": {
     "iopub.execute_input": "2020-12-29T06:41:27.567924Z",
     "iopub.status.busy": "2020-12-29T06:41:27.566812Z",
     "iopub.status.idle": "2020-12-29T06:41:27.577520Z",
     "shell.execute_reply": "2020-12-29T06:41:27.578087Z"
    }
   },
   "outputs": [],
   "source": [
    "stacked = MapDataset.create(\n",
    "    geom=geom, energy_axis_true=energy_axis_true, name=\"crab-stacked\"\n",
    ")"
   ]
  },
  {
   "cell_type": "markdown",
   "metadata": {},
   "source": [
    "## Data reduction\n",
    "\n",
    "### Create the maker classes to be used\n",
    "\n",
    "The `~gammapy.datasets.MapDatasetMaker` object is initialized as well as the `~gammapy.makers.SafeMaskMaker` that carries here a maximum offset selection."
   ]
  },
  {
   "cell_type": "code",
   "execution_count": 9,
   "metadata": {
    "execution": {
     "iopub.execute_input": "2020-12-29T06:41:27.583391Z",
     "iopub.status.busy": "2020-12-29T06:41:27.582202Z",
     "iopub.status.idle": "2020-12-29T06:41:27.583893Z",
     "shell.execute_reply": "2020-12-29T06:41:27.584412Z"
    }
   },
   "outputs": [],
   "source": [
    "offset_max = 2.5 * u.deg\n",
    "maker = MapDatasetMaker()\n",
    "maker_safe_mask = SafeMaskMaker(methods=[\"offset-max\"], offset_max=offset_max)"
   ]
  },
  {
   "cell_type": "code",
   "execution_count": 10,
   "metadata": {
    "execution": {
     "iopub.execute_input": "2020-12-29T06:41:27.589024Z",
     "iopub.status.busy": "2020-12-29T06:41:27.588518Z",
     "iopub.status.idle": "2020-12-29T06:41:27.605551Z",
     "shell.execute_reply": "2020-12-29T06:41:27.604913Z"
    }
   },
   "outputs": [],
   "source": [
    "circle = CircleSkyRegion(\n",
    "    center=SkyCoord(\"83.63 deg\", \"22.14 deg\"), radius=0.2 * u.deg\n",
    ")\n",
    "exclusion_mask = geom.region_mask(regions=[circle], inside=False)\n",
    "maker_fov = FoVBackgroundMaker(method=\"fit\", exclusion_mask=exclusion_mask)"
   ]
  },
  {
   "cell_type": "markdown",
   "metadata": {},
   "source": [
    "### Perform the data reduction loop"
   ]
  },
  {
   "cell_type": "code",
   "execution_count": 11,
   "metadata": {
    "execution": {
     "iopub.execute_input": "2020-12-29T06:41:27.613671Z",
     "iopub.status.busy": "2020-12-29T06:41:27.613140Z",
     "iopub.status.idle": "2020-12-29T06:41:30.457200Z",
     "shell.execute_reply": "2020-12-29T06:41:30.457612Z"
    }
   },
   "outputs": [
    {
     "name": "stdout",
     "output_type": "stream",
     "text": [
      "Background norm obs 23523: 0.99\n",
      "Background norm obs 23526: 1.08\n",
      "Background norm obs 23559: 0.99\n",
      "Background norm obs 23592: 1.10\n",
      "CPU times: user 2.78 s, sys: 63.6 ms, total: 2.85 s\n",
      "Wall time: 2.84 s\n"
     ]
    }
   ],
   "source": [
    "%%time\n",
    "\n",
    "for obs in observations:\n",
    "    # First a cutout of the target map is produced\n",
    "    cutout = stacked.cutout(\n",
    "        obs.pointing_radec, width=2 * offset_max, name=f\"obs-{obs.obs_id}\"\n",
    "    )\n",
    "    # A MapDataset is filled in this cutout geometry\n",
    "    dataset = maker.run(cutout, obs)\n",
    "    # The data quality cut is applied\n",
    "    dataset = maker_safe_mask.run(dataset, obs)\n",
    "    # fit background model\n",
    "    dataset = maker_fov.run(dataset)\n",
    "    print(\n",
    "        f\"Background norm obs {obs.obs_id}: {dataset.background_model.spectral_model.norm.value:.2f}\"\n",
    "    )\n",
    "    # The resulting dataset cutout is stacked onto the final one\n",
    "    stacked.stack(dataset)"
   ]
  },
  {
   "cell_type": "code",
   "execution_count": 12,
   "metadata": {
    "execution": {
     "iopub.execute_input": "2020-12-29T06:41:30.461206Z",
     "iopub.status.busy": "2020-12-29T06:41:30.460704Z",
     "iopub.status.idle": "2020-12-29T06:41:30.466854Z",
     "shell.execute_reply": "2020-12-29T06:41:30.466289Z"
    }
   },
   "outputs": [
    {
     "name": "stdout",
     "output_type": "stream",
     "text": [
      "MapDataset\n",
      "----------\n",
      "\n",
      "  Name                            : crab-stacked \n",
      "\n",
      "  Total counts                    : 2479 \n",
      "  Total background counts         : 2112.97\n",
      "  Total excess counts             : 366.03\n",
      "\n",
      "  Predicted counts                : 2112.97\n",
      "  Predicted background counts     : 2112.97\n",
      "  Predicted excess counts         : nan\n",
      "\n",
      "  Exposure min                    : 3.75e+08 m2 s\n",
      "  Exposure max                    : 3.48e+09 m2 s\n",
      "\n",
      "  Number of total bins            : 40000 \n",
      "  Number of fit bins              : 40000 \n",
      "\n",
      "  Fit statistic type              : cash\n",
      "  Fit statistic value (-2 log(L)) : nan\n",
      "\n",
      "  Number of models                : 0 \n",
      "  Number of parameters            : 0\n",
      "  Number of free parameters       : 0\n",
      "\n",
      "\n"
     ]
    }
   ],
   "source": [
    "print(stacked)"
   ]
  },
  {
   "cell_type": "markdown",
   "metadata": {},
   "source": [
    "### Inspect the reduced dataset"
   ]
  },
  {
   "cell_type": "code",
   "execution_count": 13,
   "metadata": {
    "execution": {
     "iopub.execute_input": "2020-12-29T06:41:30.476806Z",
     "iopub.status.busy": "2020-12-29T06:41:30.476307Z",
     "iopub.status.idle": "2020-12-29T06:41:30.906786Z",
     "shell.execute_reply": "2020-12-29T06:41:30.907208Z"
    }
   },
   "outputs": [
    {
     "data": {
      "text/plain": [
       "(<Figure size 432x288 with 2 Axes>,\n",
       " <WCSAxesSubplot:xlabel='Right Ascension', ylabel='Declination'>,\n",
       " <matplotlib.colorbar.Colorbar at 0x7f35d6689e10>)"
      ]
     },
     "execution_count": 1,
     "metadata": {},
     "output_type": "execute_result"
    },
    {
     "data": {
      "image/png": "[encoded data removed]",
      "text/plain": [
       "<Figure size 432x288 with 2 Axes>"
      ]
     },
     "metadata": {
      "needs_background": "light"
     },
     "output_type": "display_data"
    }
   ],
   "source": [
    "stacked.counts.sum_over_axes().smooth(0.05 * u.deg).plot(\n",
    "    stretch=\"sqrt\", add_cbar=True\n",
    ");"
   ]
  },
  {
   "cell_type": "markdown",
   "metadata": {},
   "source": [
    "## Save dataset to disk\n",
    "\n",
    "It is common to run the preparation step independent of the likelihood fit, because often the preparation of maps, PSF and energy dispersion is slow if you have a lot of data. We first create a folder:"
   ]
  },
  {
   "cell_type": "code",
   "execution_count": 14,
   "metadata": {
    "execution": {
     "iopub.execute_input": "2020-12-29T06:41:30.909918Z",
     "iopub.status.busy": "2020-12-29T06:41:30.909407Z",
     "iopub.status.idle": "2020-12-29T06:41:30.912144Z",
     "shell.execute_reply": "2020-12-29T06:41:30.912644Z"
    }
   },
   "outputs": [],
   "source": [
    "path = Path(\"analysis_2\")\n",
    "path.mkdir(exist_ok=True)"
   ]
  },
  {
   "cell_type": "markdown",
   "metadata": {},
   "source": [
    "And then write the maps and IRFs to disk by calling the dedicated `~gammapy.datasets.MapDataset.write()` method:"
   ]
  },
  {
   "cell_type": "code",
   "execution_count": 15,
   "metadata": {
    "execution": {
     "iopub.execute_input": "2020-12-29T06:41:30.914964Z",
     "iopub.status.busy": "2020-12-29T06:41:30.914470Z",
     "iopub.status.idle": "2020-12-29T06:41:31.162121Z",
     "shell.execute_reply": "2020-12-29T06:41:31.163099Z"
    }
   },
   "outputs": [],
   "source": [
    "filename = path / \"crab-stacked-dataset.fits.gz\"\n",
    "stacked.write(filename, overwrite=True)"
   ]
  },
  {
   "cell_type": "markdown",
   "metadata": {},
   "source": [
    "## Define the model\n",
    "We first define the model, a `SkyModel`, as the combination of a point source `SpatialModel` with a powerlaw `SpectralModel`:"
   ]
  },
  {
   "cell_type": "code",
   "execution_count": 16,
   "metadata": {
    "execution": {
     "iopub.execute_input": "2020-12-29T06:41:31.175088Z",
     "iopub.status.busy": "2020-12-29T06:41:31.174308Z",
     "iopub.status.idle": "2020-12-29T06:41:31.192142Z",
     "shell.execute_reply": "2020-12-29T06:41:31.190972Z"
    }
   },
   "outputs": [],
   "source": [
    "target_position = SkyCoord(ra=83.63308, dec=22.01450, unit=\"deg\")\n",
    "spatial_model = PointSpatialModel(\n",
    "    lon_0=target_position.ra, lat_0=target_position.dec, frame=\"icrs\"\n",
    ")\n",
    "\n",
    "spectral_model = PowerLawSpectralModel(\n",
    "    index=2.702,\n",
    "    amplitude=4.712e-11 * u.Unit(\"1 / (cm2 s TeV)\"),\n",
    "    reference=1 * u.TeV,\n",
    ")\n",
    "\n",
    "sky_model = SkyModel(\n",
    "    spatial_model=spatial_model, spectral_model=spectral_model, name=\"crab\"\n",
    ")\n",
    "\n",
    "bkg_model = FoVBackgroundModel(dataset_name=\"crab-stacked\")"
   ]
  },
  {
   "cell_type": "markdown",
   "metadata": {},
   "source": [
    "Now we assign this model to our reduced dataset:"
   ]
  },
  {
   "cell_type": "code",
   "execution_count": 17,
   "metadata": {
    "execution": {
     "iopub.execute_input": "2020-12-29T06:41:31.198516Z",
     "iopub.status.busy": "2020-12-29T06:41:31.197993Z",
     "iopub.status.idle": "2020-12-29T06:41:31.375826Z",
     "shell.execute_reply": "2020-12-29T06:41:31.375305Z"
    }
   },
   "outputs": [],
   "source": [
    "stacked.models = [sky_model, bkg_model]"
   ]
  },
  {
   "cell_type": "markdown",
   "metadata": {},
   "source": [
    "## Fit the model\n",
    "\n",
    "The `~gammapy.modeling.Fit` class is orchestrating the fit, connecting the `stats` method of the dataset to the minimizer. By default, it uses `iminuit`.\n",
    "\n",
    "Its contructor takes a list of dataset as argument."
   ]
  },
  {
   "cell_type": "code",
   "execution_count": 18,
   "metadata": {
    "execution": {
     "iopub.execute_input": "2020-12-29T06:41:31.382006Z",
     "iopub.status.busy": "2020-12-29T06:41:31.381482Z",
     "iopub.status.idle": "2020-12-29T06:41:34.127783Z",
     "shell.execute_reply": "2020-12-29T06:41:34.126944Z"
    }
   },
   "outputs": [
    {
     "name": "stdout",
     "output_type": "stream",
     "text": [
      "┌──────────────────────────────────┬──────────────────────────────────────┐\n",
      "│ FCN = 1.624e+04                  │        Nfcn = 126 (126 total)        │\n",
      "│ EDM = 9.69e-05 (Goal: 0.0002)    │                                      │\n",
      "├───────────────┬──────────────────┼──────────────────────────────────────┤\n",
      "│ Valid Minimum │ Valid Parameters │        No Parameters at limit        │\n",
      "├───────────────┴──────────────────┼──────────────────────────────────────┤\n",
      "│ Below EDM threshold (goal x 10)  │           Below call limit           │\n",
      "├───────────────┬──────────────────┼───────────┬─────────────┬────────────┤\n",
      "│   Hesse ok    │  Has Covariance  │ Accurate  │  Pos. def.  │ Not forced │\n",
      "└───────────────┴──────────────────┴───────────┴─────────────┴────────────┘\n",
      "CPU times: user 2.55 s, sys: 196 ms, total: 2.75 s\n",
      "Wall time: 2.75 s\n"
     ]
    }
   ],
   "source": [
    "%%time\n",
    "fit = Fit([stacked])\n",
    "result = fit.run(optimize_opts={\"print_level\": 1})"
   ]
  },
  {
   "cell_type": "markdown",
   "metadata": {},
   "source": [
    "The `FitResult` contains information on the fitted parameters."
   ]
  },
  {
   "cell_type": "code",
   "execution_count": 19,
   "metadata": {
    "execution": {
     "iopub.execute_input": "2020-12-29T06:41:34.135738Z",
     "iopub.status.busy": "2020-12-29T06:41:34.135241Z",
     "iopub.status.idle": "2020-12-29T06:41:34.139818Z",
     "shell.execute_reply": "2020-12-29T06:41:34.140470Z"
    }
   },
   "outputs": [
    {
     "data": {
      "text/html": [
       "<i>Table length=8</i>\n",
       "<table id=\"table139869205277272\" class=\"table-striped table-bordered table-condensed\">\n",
       "<thead><tr><th>name</th><th>value</th><th>unit</th><th>min</th><th>max</th><th>frozen</th><th>error</th></tr></thead>\n",
       "<thead><tr><th>str9</th><th>float64</th><th>str14</th><th>float64</th><th>float64</th><th>bool</th><th>float64</th></tr></thead>\n",
       "<tr><td>index</td><td>2.6010e+00</td><td></td><td>nan</td><td>nan</td><td>False</td><td>1.004e-01</td></tr>\n",
       "<tr><td>amplitude</td><td>4.5901e-11</td><td>cm-2 s-1 TeV-1</td><td>nan</td><td>nan</td><td>False</td><td>3.705e-12</td></tr>\n",
       "<tr><td>reference</td><td>1.0000e+00</td><td>TeV</td><td>nan</td><td>nan</td><td>True</td><td>0.000e+00</td></tr>\n",
       "<tr><td>lon_0</td><td>8.3619e+01</td><td>deg</td><td>nan</td><td>nan</td><td>False</td><td>3.125e-03</td></tr>\n",
       "<tr><td>lat_0</td><td>2.2024e+01</td><td>deg</td><td>-9.000e+01</td><td>9.000e+01</td><td>False</td><td>2.969e-03</td></tr>\n",
       "<tr><td>norm</td><td>9.3514e-01</td><td></td><td>nan</td><td>nan</td><td>False</td><td>2.192e-02</td></tr>\n",
       "<tr><td>tilt</td><td>0.0000e+00</td><td></td><td>nan</td><td>nan</td><td>True</td><td>0.000e+00</td></tr>\n",
       "<tr><td>reference</td><td>1.0000e+00</td><td>TeV</td><td>nan</td><td>nan</td><td>True</td><td>0.000e+00</td></tr>\n",
       "</table>"
      ],
      "text/plain": [
       "<Table length=8>\n",
       "   name     value         unit         min        max    frozen   error  \n",
       "   str9    float64       str14       float64    float64   bool   float64 \n",
       "--------- ---------- -------------- ---------- --------- ------ ---------\n",
       "    index 2.6010e+00                       nan       nan  False 1.004e-01\n",
       "amplitude 4.5901e-11 cm-2 s-1 TeV-1        nan       nan  False 3.705e-12\n",
       "reference 1.0000e+00            TeV        nan       nan   True 0.000e+00\n",
       "    lon_0 8.3619e+01            deg        nan       nan  False 3.125e-03\n",
       "    lat_0 2.2024e+01            deg -9.000e+01 9.000e+01  False 2.969e-03\n",
       "     norm 9.3514e-01                       nan       nan  False 2.192e-02\n",
       "     tilt 0.0000e+00                       nan       nan   True 0.000e+00\n",
       "reference 1.0000e+00            TeV        nan       nan   True 0.000e+00"
      ]
     },
     "execution_count": 1,
     "metadata": {},
     "output_type": "execute_result"
    }
   ],
   "source": [
    "result.parameters.to_table()"
   ]
  },
  {
   "cell_type": "markdown",
   "metadata": {},
   "source": [
    "### Inspecting residuals\n",
    "\n",
    "For any fit it is useful to inspect the residual images. We have a few options on the dataset object to handle this. First we can use `.plot_residuals_spatial()` to plot a residual image, summed over all energies:"
   ]
  },
  {
   "cell_type": "code",
   "execution_count": 20,
   "metadata": {
    "execution": {
     "iopub.execute_input": "2020-12-29T06:41:34.146495Z",
     "iopub.status.busy": "2020-12-29T06:41:34.143923Z",
     "iopub.status.idle": "2020-12-29T06:41:34.410475Z",
     "shell.execute_reply": "2020-12-29T06:41:34.420886Z"
    },
    "nbsphinx-thumbnail": {
     "tooltip": "Introduction to Gammapy analysis using the low level API."
    }
   },
   "outputs": [
    {
     "name": "stderr",
     "output_type": "stream",
     "text": [
      "/usr/share/miniconda/envs/gammapy-dev/lib/python3.7/site-packages/astropy/visualization/wcsaxes/core.py:211: MatplotlibDeprecationWarning: Passing parameters norm and vmin/vmax simultaneously is deprecated since 3.3 and will become an error two minor releases later. Please pass vmin/vmax directly to the norm when creating it.\n",
      "  return super().imshow(X, *args, origin=origin, **kwargs)\n"
     ]
    },
    {
     "data": {
      "text/plain": [
       "<WCSAxesSubplot:xlabel='Right Ascension', ylabel='Declination'>"
      ]
     },
     "execution_count": 1,
     "metadata": {},
     "output_type": "execute_result"
    },
    {
     "data": {
      "image/png": "[encoded data removed]",
      "text/plain": [
       "<Figure size 432x288 with 2 Axes>"
      ]
     },
     "metadata": {
      "needs_background": "light"
     },
     "output_type": "display_data"
    }
   ],
   "source": [
    "stacked.plot_residuals_spatial(method=\"diff/sqrt(model)\", vmin=-0.5, vmax=0.5);"
   ]
  },
  {
   "cell_type": "markdown",
   "metadata": {},
   "source": [
    "In addition, we can also specify a region in the map to show the spectral residuals:"
   ]
  },
  {
   "cell_type": "code",
   "execution_count": 21,
   "metadata": {
    "execution": {
     "iopub.execute_input": "2020-12-29T06:41:34.426123Z",
     "iopub.status.busy": "2020-12-29T06:41:34.425600Z",
     "iopub.status.idle": "2020-12-29T06:41:34.428370Z",
     "shell.execute_reply": "2020-12-29T06:41:34.427789Z"
    }
   },
   "outputs": [],
   "source": [
    "region = CircleSkyRegion(\n",
    "    center=SkyCoord(\"83.63 deg\", \"22.14 deg\"), radius=0.5 * u.deg\n",
    ")"
   ]
  },
  {
   "cell_type": "code",
   "execution_count": 22,
   "metadata": {
    "execution": {
     "iopub.execute_input": "2020-12-29T06:41:34.431327Z",
     "iopub.status.busy": "2020-12-29T06:41:34.430326Z",
     "iopub.status.idle": "2020-12-29T06:41:35.023064Z",
     "shell.execute_reply": "2020-12-29T06:41:35.022359Z"
    }
   },
   "outputs": [
    {
     "name": "stderr",
     "output_type": "stream",
     "text": [
      "/usr/share/miniconda/envs/gammapy-dev/lib/python3.7/site-packages/astropy/visualization/wcsaxes/core.py:211: MatplotlibDeprecationWarning: Passing parameters norm and vmin/vmax simultaneously is deprecated since 3.3 and will become an error two minor releases later. Please pass vmin/vmax directly to the norm when creating it.\n",
      "  return super().imshow(X, *args, origin=origin, **kwargs)\n"
     ]
    },
    {
     "data": {
      "text/plain": [
       "(<WCSAxesSubplot:xlabel='Right Ascension', ylabel='Declination'>,\n",
       " <AxesSubplot:xlabel='Energy [TeV]', ylabel='Residuals (data - model)'>)"
      ]
     },
     "execution_count": 1,
     "metadata": {},
     "output_type": "execute_result"
    },
    {
     "data": {
      "image/png": "[encoded data removed]",
      "text/plain": [
       "<Figure size 864x288 with 3 Axes>"
      ]
     },
     "metadata": {
      "needs_background": "light"
     },
     "output_type": "display_data"
    }
   ],
   "source": [
    "stacked.plot_residuals(\n",
    "    kwargs_spatial=dict(method=\"diff/sqrt(model)\", vmin=-0.5, vmax=0.5),\n",
    "    kwargs_spectral=dict(region=region),\n",
    ");"
   ]
  },
  {
   "cell_type": "markdown",
   "metadata": {},
   "source": [
    "We can also directly access the `.residuals()` to get a map, that we can plot interactively:"
   ]
  },
  {
   "cell_type": "code",
   "execution_count": 23,
   "metadata": {
    "execution": {
     "iopub.execute_input": "2020-12-29T06:41:35.029877Z",
     "iopub.status.busy": "2020-12-29T06:41:35.029373Z",
     "iopub.status.idle": "2020-12-29T06:41:35.400093Z",
     "shell.execute_reply": "2020-12-29T06:41:35.400728Z"
    }
   },
   "outputs": [
    {
     "data": {
      "application/vnd.jupyter.widget-view+json": {
       "model_id": "fe5924f2dc134137b86ea9f7a8e93f9e",
       "version_major": 2,
       "version_minor": 0
      },
      "text/plain": [
       "interactive(children=(SelectionSlider(continuous_update=False, description='Select energy:', layout=Layout(wid…"
      ]
     },
     "metadata": {},
     "output_type": "display_data"
    }
   ],
   "source": [
    "residuals = stacked.residuals(method=\"diff\")\n",
    "residuals.smooth(\"0.08 deg\").plot_interactive(\n",
    "    cmap=\"coolwarm\", vmin=-0.2, vmax=0.2, stretch=\"linear\", add_cbar=True\n",
    ");"
   ]
  },
  {
   "cell_type": "markdown",
   "metadata": {},
   "source": [
    "## Plot the fitted spectrum"
   ]
  },
  {
   "cell_type": "markdown",
   "metadata": {},
   "source": [
    "### Making a butterfly plot \n",
    "\n",
    "The `SpectralModel` component can be used to produce a, so-called, butterfly plot showing the enveloppe of the model taking into account parameter uncertainties:"
   ]
  },
  {
   "cell_type": "code",
   "execution_count": 24,
   "metadata": {
    "execution": {
     "iopub.execute_input": "2020-12-29T06:41:35.410508Z",
     "iopub.status.busy": "2020-12-29T06:41:35.409558Z",
     "iopub.status.idle": "2020-12-29T06:41:35.413392Z",
     "shell.execute_reply": "2020-12-29T06:41:35.414040Z"
    }
   },
   "outputs": [],
   "source": [
    "spec = sky_model.spectral_model"
   ]
  },
  {
   "cell_type": "markdown",
   "metadata": {},
   "source": [
    "Now we can actually do the plot using the `plot_error` method:"
   ]
  },
  {
   "cell_type": "code",
   "execution_count": 25,
   "metadata": {
    "execution": {
     "iopub.execute_input": "2020-12-29T06:41:35.417308Z",
     "iopub.status.busy": "2020-12-29T06:41:35.416372Z",
     "iopub.status.idle": "2020-12-29T06:41:35.935656Z",
     "shell.execute_reply": "2020-12-29T06:41:35.935090Z"
    }
   },
   "outputs": [
    {
     "name": "stderr",
     "output_type": "stream",
     "text": [
      "/home/runner/work/gammapy-docs/gammapy-docs/gammapy/gammapy/modeling/models/spectral.py:401: MatplotlibDeprecationWarning: The 'nonposx' parameter of __init__() has been renamed 'nonpositive' since Matplotlib 3.3; support for the old name will be dropped two minor releases later.\n",
      "  ax.set_xscale(\"log\", nonposx=\"clip\")\n",
      "/home/runner/work/gammapy-docs/gammapy-docs/gammapy/gammapy/modeling/models/spectral.py:402: MatplotlibDeprecationWarning: The 'nonposy' parameter of __init__() has been renamed 'nonpositive' since Matplotlib 3.3; support for the old name will be dropped two minor releases later.\n",
      "  ax.set_yscale(\"log\", nonposy=\"clip\")\n"
     ]
    },
    {
     "data": {
      "image/png": "[encoded data removed]",
      "text/plain": [
       "<Figure size 432x288 with 1 Axes>"
      ]
     },
     "metadata": {
      "needs_background": "light"
     },
     "output_type": "display_data"
    }
   ],
   "source": [
    "energy_range = [1, 10] * u.TeV\n",
    "spec.plot(energy_range=energy_range, energy_power=2)\n",
    "ax = spec.plot_error(energy_range=energy_range, energy_power=2)"
   ]
  },
  {
   "cell_type": "markdown",
   "metadata": {},
   "source": [
    "### Computing flux points\n",
    "\n",
    "We can now compute some flux points using the `~gammapy.estimators.FluxPointsEstimator`. \n",
    "\n",
    "Besides the list of datasets to use, we must provide it the energy intervals on which to compute flux points as well as the model component name. "
   ]
  },
  {
   "cell_type": "code",
   "execution_count": 26,
   "metadata": {
    "execution": {
     "iopub.execute_input": "2020-12-29T06:41:35.939939Z",
     "iopub.status.busy": "2020-12-29T06:41:35.939439Z",
     "iopub.status.idle": "2020-12-29T06:41:35.942937Z",
     "shell.execute_reply": "2020-12-29T06:41:35.942286Z"
    }
   },
   "outputs": [],
   "source": [
    "energy_edges = [1, 2, 4, 10] * u.TeV\n",
    "fpe = FluxPointsEstimator(energy_edges=energy_edges, source=\"crab\")"
   ]
  },
  {
   "cell_type": "code",
   "execution_count": 27,
   "metadata": {
    "execution": {
     "iopub.execute_input": "2020-12-29T06:41:35.948015Z",
     "iopub.status.busy": "2020-12-29T06:41:35.947522Z",
     "iopub.status.idle": "2020-12-29T06:41:38.576587Z",
     "shell.execute_reply": "2020-12-29T06:41:38.576039Z"
    }
   },
   "outputs": [
    {
     "name": "stdout",
     "output_type": "stream",
     "text": [
      "CPU times: user 2.47 s, sys: 151 ms, total: 2.63 s\n",
      "Wall time: 2.63 s\n"
     ]
    }
   ],
   "source": [
    "%%time\n",
    "flux_points = fpe.run(datasets=[stacked])"
   ]
  },
  {
   "cell_type": "code",
   "execution_count": 28,
   "metadata": {
    "execution": {
     "iopub.execute_input": "2020-12-29T06:41:38.602003Z",
     "iopub.status.busy": "2020-12-29T06:41:38.598424Z",
     "iopub.status.idle": "2020-12-29T06:41:39.046702Z",
     "shell.execute_reply": "2020-12-29T06:41:39.046104Z"
    }
   },
   "outputs": [
    {
     "name": "stderr",
     "output_type": "stream",
     "text": [
      "/home/runner/work/gammapy-docs/gammapy-docs/gammapy/gammapy/modeling/models/spectral.py:401: MatplotlibDeprecationWarning: The 'nonposx' parameter of __init__() has been renamed 'nonpositive' since Matplotlib 3.3; support for the old name will be dropped two minor releases later.\n",
      "  ax.set_xscale(\"log\", nonposx=\"clip\")\n",
      "/home/runner/work/gammapy-docs/gammapy-docs/gammapy/gammapy/modeling/models/spectral.py:402: MatplotlibDeprecationWarning: The 'nonposy' parameter of __init__() has been renamed 'nonpositive' since Matplotlib 3.3; support for the old name will be dropped two minor releases later.\n",
      "  ax.set_yscale(\"log\", nonposy=\"clip\")\n",
      "/home/runner/work/gammapy-docs/gammapy-docs/gammapy/gammapy/estimators/flux_point.py:667: MatplotlibDeprecationWarning: The 'nonposx' parameter of __init__() has been renamed 'nonpositive' since Matplotlib 3.3; support for the old name will be dropped two minor releases later.\n",
      "  ax.set_xscale(\"log\", nonposx=\"clip\")\n",
      "/home/runner/work/gammapy-docs/gammapy-docs/gammapy/gammapy/estimators/flux_point.py:668: MatplotlibDeprecationWarning: The 'nonposy' parameter of __init__() has been renamed 'nonpositive' since Matplotlib 3.3; support for the old name will be dropped two minor releases later.\n",
      "  ax.set_yscale(\"log\", nonposy=\"clip\")\n"
     ]
    },
    {
     "data": {
      "text/plain": [
       "<AxesSubplot:xlabel='Energy (TeV)', ylabel='dnde (TeV / (cm2 s))'>"
      ]
     },
     "execution_count": 1,
     "metadata": {},
     "output_type": "execute_result"
    },
    {
     "data": {
      "image/png": "[encoded data removed]",
      "text/plain": [
       "<Figure size 432x288 with 1 Axes>"
      ]
     },
     "metadata": {
      "needs_background": "light"
     },
     "output_type": "display_data"
    }
   ],
   "source": [
    "ax = spec.plot_error(energy_range=energy_range, energy_power=2)\n",
    "flux_points.plot(ax=ax, energy_power=2)"
   ]
  },
  {
   "cell_type": "code",
   "execution_count": null,
   "metadata": {},
   "outputs": [],
   "source": []
  }
 ],
 "metadata": {
  "kernelspec": {
   "display_name": "Python 3",
   "language": "python",
   "name": "python3"
  },
  "language_info": {
   "codemirror_mode": {
    "name": "ipython",
    "version": 3
   },
   "file_extension": ".py",
   "mimetype": "text/x-python",
   "name": "python",
   "nbconvert_exporter": "python",
   "pygments_lexer": "ipython3",
   "version": "3.7.0"
  },
  "latex_envs": {
   "LaTeX_envs_menu_present": true,
   "autoclose": false,
   "autocomplete": true,
   "bibliofile": "biblio.bib",
   "cite_by": "apalike",
   "current_citInitial": 1,
   "eqLabelWithNumbers": true,
   "eqNumInitial": 1,
   "hotkeys": {
    "equation": "Ctrl-E",
    "itemize": "Ctrl-I"
   },
   "labels_anchors": false,
   "latex_user_defs": false,
   "report_style_numbering": false,
   "user_envs_cfg": false
  },
  "nbsphinx": {
   "orphan": true
  },
  "widgets": {
   "application/vnd.jupyter.widget-state+json": {
    "state": {
     "2578b2edf0344691a82edd472d0d063f": {
      "model_module": "@jupyter-widgets/base",
      "model_module_version": "1.2.0",
      "model_name": "LayoutModel",
      "state": {
       "_model_module": "@jupyter-widgets/base",
       "_model_module_version": "1.2.0",
       "_model_name": "LayoutModel",
       "_view_count": null,
       "_view_module": "@jupyter-widgets/base",
       "_view_module_version": "1.2.0",
       "_view_name": "LayoutView",
       "align_content": null,
       "align_items": null,
       "align_self": null,
       "border": null,
       "bottom": null,
       "display": null,
       "flex": null,
       "flex_flow": null,
       "grid_area": null,
       "grid_auto_columns": null,
       "grid_auto_flow": null,
       "grid_auto_rows": null,
       "grid_column": null,
       "grid_gap": null,
       "grid_row": null,
       "grid_template_areas": null,
       "grid_template_columns": null,
       "grid_template_rows": null,
       "height": null,
       "justify_content": null,
       "justify_items": null,
       "left": null,
       "margin": null,
       "max_height": null,
       "max_width": null,
       "min_height": null,
       "min_width": null,
       "object_fit": null,
       "object_position": null,
       "order": null,
       "overflow": null,
       "overflow_x": null,
       "overflow_y": null,
       "padding": null,
       "right": null,
       "top": null,
       "visibility": null,
       "width": null
      }
     },
     "52747aba7e8142c4834a4a4640d90a95": {
      "model_module": "@jupyter-widgets/controls",
      "model_module_version": "1.5.0",
      "model_name": "DescriptionStyleModel",
      "state": {
       "_model_module": "@jupyter-widgets/controls",
       "_model_module_version": "1.5.0",
       "_model_name": "DescriptionStyleModel",
       "_view_count": null,
       "_view_module": "@jupyter-widgets/base",
       "_view_module_version": "1.2.0",
       "_view_name": "StyleView",
       "description_width": "initial"
      }
     },
     "62f4d7014be043359ab1871431f8cca4": {
      "model_module": "@jupyter-widgets/controls",
      "model_module_version": "1.5.0",
      "model_name": "RadioButtonsModel",
      "state": {
       "_dom_classes": [],
       "_model_module": "@jupyter-widgets/controls",
       "_model_module_version": "1.5.0",
       "_model_name": "RadioButtonsModel",
       "_options_labels": [
        "linear",
        "sqrt",
        "log"
       ],
       "_view_count": null,
       "_view_module": "@jupyter-widgets/controls",
       "_view_module_version": "1.5.0",
       "_view_name": "RadioButtonsView",
       "description": "Select stretch:",
       "description_tooltip": null,
       "disabled": false,
       "index": 0,
       "layout": "IPY_MODEL_2578b2edf0344691a82edd472d0d063f",
       "style": "IPY_MODEL_52747aba7e8142c4834a4a4640d90a95"
      }
     },
     "6b68475d23be4af791651d7f066f10cf": {
      "model_module": "@jupyter-widgets/controls",
      "model_module_version": "1.5.0",
      "model_name": "DescriptionStyleModel",
      "state": {
       "_model_module": "@jupyter-widgets/controls",
       "_model_module_version": "1.5.0",
       "_model_name": "DescriptionStyleModel",
       "_view_count": null,
       "_view_module": "@jupyter-widgets/base",
       "_view_module_version": "1.2.0",
       "_view_name": "StyleView",
       "description_width": "initial"
      }
     },
     "8e968cadebf945539ea9fa5fc03ea806": {
      "model_module": "@jupyter-widgets/base",
      "model_module_version": "1.2.0",
      "model_name": "LayoutModel",
      "state": {
       "_model_module": "@jupyter-widgets/base",
       "_model_module_version": "1.2.0",
       "_model_name": "LayoutModel",
       "_view_count": null,
       "_view_module": "@jupyter-widgets/base",
       "_view_module_version": "1.2.0",
       "_view_name": "LayoutView",
       "align_content": null,
       "align_items": null,
       "align_self": null,
       "border": null,
       "bottom": null,
       "display": null,
       "flex": null,
       "flex_flow": null,
       "grid_area": null,
       "grid_auto_columns": null,
       "grid_auto_flow": null,
       "grid_auto_rows": null,
       "grid_column": null,
       "grid_gap": null,
       "grid_row": null,
       "grid_template_areas": null,
       "grid_template_columns": null,
       "grid_template_rows": null,
       "height": null,
       "justify_content": null,
       "justify_items": null,
       "left": null,
       "margin": null,
       "max_height": null,
       "max_width": null,
       "min_height": null,
       "min_width": null,
       "object_fit": null,
       "object_position": null,
       "order": null,
       "overflow": null,
       "overflow_x": null,
       "overflow_y": null,
       "padding": null,
       "right": null,
       "top": null,
       "visibility": null,
       "width": null
      }
     },
     "9021c6a2ef65429491fcb62cc84edc08": {
      "model_module": "@jupyter-widgets/base",
      "model_module_version": "1.2.0",
      "model_name": "LayoutModel",
      "state": {
       "_model_module": "@jupyter-widgets/base",
       "_model_module_version": "1.2.0",
       "_model_name": "LayoutModel",
       "_view_count": null,
       "_view_module": "@jupyter-widgets/base",
       "_view_module_version": "1.2.0",
       "_view_name": "LayoutView",
       "align_content": null,
       "align_items": null,
       "align_self": null,
       "border": null,
       "bottom": null,
       "display": null,
       "flex": null,
       "flex_flow": null,
       "grid_area": null,
       "grid_auto_columns": null,
       "grid_auto_flow": null,
       "grid_auto_rows": null,
       "grid_column": null,
       "grid_gap": null,
       "grid_row": null,
       "grid_template_areas": null,
       "grid_template_columns": null,
       "grid_template_rows": null,
       "height": null,
       "justify_content": null,
       "justify_items": null,
       "left": null,
       "margin": null,
       "max_height": null,
       "max_width": null,
       "min_height": null,
       "min_width": null,
       "object_fit": null,
       "object_position": null,
       "order": null,
       "overflow": null,
       "overflow_x": null,
       "overflow_y": null,
       "padding": null,
       "right": null,
       "top": null,
       "visibility": null,
       "width": null
      }
     },
     "b105bb67ec0843778bc2fec747b64715": {
      "model_module": "@jupyter-widgets/output",
      "model_module_version": "1.0.0",
      "model_name": "OutputModel",
      "state": {
       "_dom_classes": [],
       "_model_module": "@jupyter-widgets/output",
       "_model_module_version": "1.0.0",
       "_model_name": "OutputModel",
       "_view_count": null,
       "_view_module": "@jupyter-widgets/output",
       "_view_module_version": "1.0.0",
       "_view_name": "OutputView",
       "layout": "IPY_MODEL_9021c6a2ef65429491fcb62cc84edc08",
       "msg_id": "",
       "outputs": [
        {
         "name": "stderr",
         "output_type": "stream",
         "text": "/usr/share/miniconda/envs/gammapy-dev/lib/python3.7/site-packages/astropy/visualization/wcsaxes/core.py:211: MatplotlibDeprecationWarning: Passing parameters norm and vmin/vmax simultaneously is deprecated since 3.3 and will become an error two minor releases later. Please pass vmin/vmax directly to the norm when creating it.\n  return super().imshow(X, *args, origin=origin, **kwargs)\n"
        },
        {
         "data": {
          "image/png": "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\n",
          "text/plain": "<Figure size 432x288 with 2 Axes>"
         },
         "metadata": {
          "needs_background": "light"
         },
         "output_type": "display_data"
        }
       ]
      }
     },
     "bcd7de2389fd445f94c8c97c8d8a45f8": {
      "model_module": "@jupyter-widgets/base",
      "model_module_version": "1.2.0",
      "model_name": "LayoutModel",
      "state": {
       "_model_module": "@jupyter-widgets/base",
       "_model_module_version": "1.2.0",
       "_model_name": "LayoutModel",
       "_view_count": null,
       "_view_module": "@jupyter-widgets/base",
       "_view_module_version": "1.2.0",
       "_view_name": "LayoutView",
       "align_content": null,
       "align_items": null,
       "align_self": null,
       "border": null,
       "bottom": null,
       "display": null,
       "flex": null,
       "flex_flow": null,
       "grid_area": null,
       "grid_auto_columns": null,
       "grid_auto_flow": null,
       "grid_auto_rows": null,
       "grid_column": null,
       "grid_gap": null,
       "grid_row": null,
       "grid_template_areas": null,
       "grid_template_columns": null,
       "grid_template_rows": null,
       "height": null,
       "justify_content": null,
       "justify_items": null,
       "left": null,
       "margin": null,
       "max_height": null,
       "max_width": null,
       "min_height": null,
       "min_width": null,
       "object_fit": null,
       "object_position": null,
       "order": null,
       "overflow": null,
       "overflow_x": null,
       "overflow_y": null,
       "padding": null,
       "right": null,
       "top": null,
       "visibility": null,
       "width": "50%"
      }
     },
     "f75f0f0f073b435a8ec9e18be3c162a0": {
      "model_module": "@jupyter-widgets/controls",
      "model_module_version": "1.5.0",
      "model_name": "SelectionSliderModel",
      "state": {
       "_dom_classes": [],
       "_model_module": "@jupyter-widgets/controls",
       "_model_module_version": "1.5.0",
       "_model_name": "SelectionSliderModel",
       "_options_labels": [
        "1.00e+00 TeV - 1.78e+00 TeV TeV",
        "1.78e+00 TeV - 3.16e+00 TeV TeV",
        "3.16e+00 TeV - 5.62e+00 TeV TeV",
        "5.62e+00 TeV - 1.00e+01 TeV TeV"
       ],
       "_view_count": null,
       "_view_module": "@jupyter-widgets/controls",
       "_view_module_version": "1.5.0",
       "_view_name": "SelectionSliderView",
       "continuous_update": false,
       "description": "Select energy:",
       "description_tooltip": null,
       "disabled": false,
       "index": 0,
       "layout": "IPY_MODEL_bcd7de2389fd445f94c8c97c8d8a45f8",
       "orientation": "horizontal",
       "readout": true,
       "style": "IPY_MODEL_6b68475d23be4af791651d7f066f10cf"
      }
     },
     "fe5924f2dc134137b86ea9f7a8e93f9e": {
      "model_module": "@jupyter-widgets/controls",
      "model_module_version": "1.5.0",
      "model_name": "VBoxModel",
      "state": {
       "_dom_classes": [
        "widget-interact"
       ],
       "_model_module": "@jupyter-widgets/controls",
       "_model_module_version": "1.5.0",
       "_model_name": "VBoxModel",
       "_view_count": null,
       "_view_module": "@jupyter-widgets/controls",
       "_view_module_version": "1.5.0",
       "_view_name": "VBoxView",
       "box_style": "",
       "children": [
        "IPY_MODEL_f75f0f0f073b435a8ec9e18be3c162a0",
        "IPY_MODEL_62f4d7014be043359ab1871431f8cca4",
        "IPY_MODEL_b105bb67ec0843778bc2fec747b64715"
       ],
       "layout": "IPY_MODEL_8e968cadebf945539ea9fa5fc03ea806"
      }
     }
    },
    "version_major": 2,
    "version_minor": 0
   }
  }
 },
 "nbformat": 4,
 "nbformat_minor": 4
}
