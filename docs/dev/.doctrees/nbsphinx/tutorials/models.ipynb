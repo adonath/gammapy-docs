{
 "cells": [
  {
   "cell_type": "markdown",
   "metadata": {},
   "source": [
    "\n",
    "<div class=\"alert alert-info\">\n",
    "\n",
    "**This is a fixed-text formatted version of a Jupyter notebook**\n",
    "\n",
    "- Try online [![Binder](https://static.mybinder.org/badge.svg)](https://mybinder.org/v2/gh/gammapy/gammapy-webpage/master?urlpath=lab/tree/models.ipynb)\n",
    "- You may download all the notebooks in the documentation as a [tar file](../_downloads/notebooks-dev.tar).\n",
    "- **Source files:**\n",
    "[models.ipynb](../_static/notebooks/models.ipynb) |\n",
    "[models.py](../_static/notebooks/models.py)\n",
    "</div>\n"
   ]
  },
  {
   "cell_type": "markdown",
   "metadata": {},
   "source": [
    "# Models\n",
    "\n",
    "\n",
    "This is an introduction and overview on how to work with models in Gammapy. \n",
    "\n",
    "The sub-package `~gammapy.modeling` contains all the functionality related to modeling and fitting\n",
    "data. This includes spectral, spatial and temporal model classes, as well as the fit\n",
    "and parameter API. We will cover the follwing topics in order:\n",
    "\n",
    "1. [Spectral Models](#Spectral-Models)\n",
    "1. [Spatial Models](#Spatial-Models)\n",
    "1. [Temporal Models](#Temporal-Models)\n",
    "1. [SkyModel](#SkyModel)\n",
    "1. [Model Lists and Serialisation](#Model-Lists-and-Serialisation)\n",
    "1. [Implementing as Custom Model](#Implementing-a-Custom-Model)\n",
    "1. [Energy dependent models](#Models-with-energy-dependent-morphology)\n",
    "\n",
    "The models follow a naming scheme which contains the category as a suffix to the class name. An overview of all the available models can be found in the [model gallery](https://docs.gammapy.org/dev/modeling/gallery/index.html#spectral-models).\n",
    "\n",
    "Note that there is a separate tutorial [modeling](modeling.ipynb) that explains about `~gammapy.modeling`,\n",
    "the Gammapy modeling and fitting framework. You have to read that to learn how to work with models in order to analyse data.\n",
    "\n"
   ]
  },
  {
   "cell_type": "markdown",
   "metadata": {},
   "source": [
    "## Setup"
   ]
  },
  {
   "cell_type": "code",
   "execution_count": 1,
   "metadata": {
    "execution": {
     "iopub.execute_input": "2021-02-06T18:02:21.014114Z",
     "iopub.status.busy": "2021-02-06T18:02:21.013488Z",
     "iopub.status.idle": "2021-02-06T18:02:21.340067Z",
     "shell.execute_reply": "2021-02-06T18:02:21.339446Z"
    }
   },
   "outputs": [],
   "source": [
    "%matplotlib inline\n",
    "import numpy as np\n",
    "import matplotlib.pyplot as plt"
   ]
  },
  {
   "cell_type": "code",
   "execution_count": 2,
   "metadata": {
    "execution": {
     "iopub.execute_input": "2021-02-06T18:02:21.344129Z",
     "iopub.status.busy": "2021-02-06T18:02:21.343264Z",
     "iopub.status.idle": "2021-02-06T18:02:22.405608Z",
     "shell.execute_reply": "2021-02-06T18:02:22.404748Z"
    }
   },
   "outputs": [],
   "source": [
    "from astropy import units as u\n",
    "from gammapy.maps import Map, WcsGeom, MapAxis"
   ]
  },
  {
   "cell_type": "markdown",
   "metadata": {},
   "source": [
    "## Spectral models\n",
    "\n",
    "All models are imported from the `~gammapy.modeling.models` namespace. Let's start with a `PowerLawSpectralModel`:"
   ]
  },
  {
   "cell_type": "code",
   "execution_count": 3,
   "metadata": {
    "execution": {
     "iopub.execute_input": "2021-02-06T18:02:22.410002Z",
     "iopub.status.busy": "2021-02-06T18:02:22.409210Z",
     "iopub.status.idle": "2021-02-06T18:02:22.428816Z",
     "shell.execute_reply": "2021-02-06T18:02:22.429282Z"
    }
   },
   "outputs": [],
   "source": [
    "from gammapy.modeling.models import PowerLawSpectralModel"
   ]
  },
  {
   "cell_type": "code",
   "execution_count": 4,
   "metadata": {
    "execution": {
     "iopub.execute_input": "2021-02-06T18:02:22.437714Z",
     "iopub.status.busy": "2021-02-06T18:02:22.437164Z",
     "iopub.status.idle": "2021-02-06T18:02:22.440697Z",
     "shell.execute_reply": "2021-02-06T18:02:22.441252Z"
    }
   },
   "outputs": [
    {
     "name": "stdout",
     "output_type": "stream",
     "text": [
      "PowerLawSpectralModel\n",
      "\n",
      "  type      name     value         unit      min max frozen   error  \n",
      "-------- --------- ---------- -------------- --- --- ------ ---------\n",
      "spectral     index 2.0000e+00                nan nan  False 0.000e+00\n",
      "spectral amplitude 1.0000e-12 cm-2 s-1 TeV-1 nan nan  False 0.000e+00\n",
      "spectral reference 1.0000e+00            TeV nan nan   True 0.000e+00\n"
     ]
    }
   ],
   "source": [
    "pwl = PowerLawSpectralModel()\n",
    "print(pwl)"
   ]
  },
  {
   "cell_type": "markdown",
   "metadata": {},
   "source": [
    "To get a list of all available spectral models you can import and print the spectral model registry or take a look at the [model gallery](https://docs.gammapy.org/dev/modeling/gallery/index.html#spectral-models):"
   ]
  },
  {
   "cell_type": "code",
   "execution_count": 5,
   "metadata": {
    "execution": {
     "iopub.execute_input": "2021-02-06T18:02:22.445842Z",
     "iopub.status.busy": "2021-02-06T18:02:22.445299Z",
     "iopub.status.idle": "2021-02-06T18:02:22.447809Z",
     "shell.execute_reply": "2021-02-06T18:02:22.448353Z"
    }
   },
   "outputs": [
    {
     "name": "stdout",
     "output_type": "stream",
     "text": [
      "Registry\n",
      "--------\n",
      "\n",
      "ConstantSpectralModel                  : ['ConstantSpectralModel', 'const'] \n",
      "CompoundSpectralModel                  : ['CompoundSpectralModel', 'compound'] \n",
      "PowerLawSpectralModel                  : ['PowerLawSpectralModel', 'pl'] \n",
      "PowerLaw2SpectralModel                 : ['PowerLaw2SpectralModel', 'pl-2'] \n",
      "BrokenPowerLawSpectralModel            : ['BrokenPowerLawSpectralModel', 'bpl'] \n",
      "SmoothBrokenPowerLawSpectralModel      : ['SmoothBrokenPowerLawSpectralModel', 'sbpl'] \n",
      "PiecewiseNormSpectralModel             : ['PiecewiseNormSpectralModel', 'piecewise-norm'] \n",
      "ExpCutoffPowerLawSpectralModel         : ['ExpCutoffPowerLawSpectralModel', 'ecpl'] \n",
      "ExpCutoffPowerLaw3FGLSpectralModel     : ['ExpCutoffPowerLaw3FGLSpectralModel', 'ecpl-3fgl'] \n",
      "SuperExpCutoffPowerLaw3FGLSpectralModel: ['SuperExpCutoffPowerLaw3FGLSpectralModel', 'secpl-3fgl'] \n",
      "SuperExpCutoffPowerLaw4FGLSpectralModel: ['SuperExpCutoffPowerLaw4FGLSpectralModel', 'secpl-4fgl'] \n",
      "LogParabolaSpectralModel               : ['LogParabolaSpectralModel', 'lp'] \n",
      "TemplateSpectralModel                  : ['TemplateSpectralModel', 'template'] \n",
      "GaussianSpectralModel                  : ['GaussianSpectralModel', 'gauss'] \n",
      "EBLAbsorptionNormSpectralModel         : ['EBLAbsorptionNormSpectralModel', 'ebl-norm'] \n",
      "NaimaSpectralModel                     : ['NaimaSpectralModel', 'naima'] \n",
      "ScaleSpectralModel                     : ['ScaleSpectralModel', 'scale'] \n",
      "PowerLawNormSpectralModel              : ['PowerLawNormSpectralModel', 'pl-norm'] \n",
      "LogParabolaNormSpectralModel           : ['LogParabolaNormSpectralModel', 'lp-norm'] \n",
      "ExpCutoffPowerLawNormSpectralModel     : ['ExpCutoffPowerLawNormSpectralModel', 'ecpl-norm'] \n",
      "\n"
     ]
    }
   ],
   "source": [
    "from gammapy.modeling.models import SPECTRAL_MODEL_REGISTRY\n",
    "\n",
    "print(SPECTRAL_MODEL_REGISTRY)"
   ]
  },
  {
   "cell_type": "markdown",
   "metadata": {},
   "source": [
    "Spectral models all come with default parameters. Different parameter\n",
    "values can be passed on creation of the model, either as a string defining\n",
    "the value and unit or as an `astropy.units.Quantity` object directly:"
   ]
  },
  {
   "cell_type": "code",
   "execution_count": 6,
   "metadata": {
    "execution": {
     "iopub.execute_input": "2021-02-06T18:02:22.453630Z",
     "iopub.status.busy": "2021-02-06T18:02:22.452446Z",
     "iopub.status.idle": "2021-02-06T18:02:22.454174Z",
     "shell.execute_reply": "2021-02-06T18:02:22.454984Z"
    }
   },
   "outputs": [],
   "source": [
    "amplitude = 1e-12 * u.Unit(\"TeV-1 cm-2 s-1\")\n",
    "pwl = PowerLawSpectralModel(amplitude=amplitude, index=2.2)"
   ]
  },
  {
   "cell_type": "markdown",
   "metadata": {},
   "source": [
    "For convenience a `str` specifying the value and unit can be passed as well:"
   ]
  },
  {
   "cell_type": "code",
   "execution_count": 7,
   "metadata": {
    "execution": {
     "iopub.execute_input": "2021-02-06T18:02:22.462721Z",
     "iopub.status.busy": "2021-02-06T18:02:22.461348Z",
     "iopub.status.idle": "2021-02-06T18:02:22.463990Z",
     "shell.execute_reply": "2021-02-06T18:02:22.464530Z"
    }
   },
   "outputs": [
    {
     "name": "stdout",
     "output_type": "stream",
     "text": [
      "PowerLawSpectralModel\n",
      "\n",
      "  type      name     value         unit      min max frozen   error  \n",
      "-------- --------- ---------- -------------- --- --- ------ ---------\n",
      "spectral     index 2.2000e+00                nan nan  False 0.000e+00\n",
      "spectral amplitude 2.7000e-12 cm-2 s-1 TeV-1 nan nan  False 0.000e+00\n",
      "spectral reference 1.0000e+00            TeV nan nan   True 0.000e+00\n"
     ]
    }
   ],
   "source": [
    "pwl = PowerLawSpectralModel(amplitude=\"2.7e-12 TeV-1 cm-2 s-1\", index=2.2)\n",
    "print(pwl)"
   ]
  },
  {
   "cell_type": "markdown",
   "metadata": {},
   "source": [
    "The model can be evaluated at given energies by calling the model instance:"
   ]
  },
  {
   "cell_type": "code",
   "execution_count": 8,
   "metadata": {
    "execution": {
     "iopub.execute_input": "2021-02-06T18:02:22.470320Z",
     "iopub.status.busy": "2021-02-06T18:02:22.468994Z",
     "iopub.status.idle": "2021-02-06T18:02:22.471902Z",
     "shell.execute_reply": "2021-02-06T18:02:22.472441Z"
    }
   },
   "outputs": [
    {
     "name": "stdout",
     "output_type": "stream",
     "text": [
      "[2.70000000e-12 2.40822469e-13 1.70358483e-14 1.51948705e-15] 1 / (cm2 s TeV)\n"
     ]
    }
   ],
   "source": [
    "energy = [1, 3, 10, 30] * u.TeV\n",
    "dnde = pwl(energy)\n",
    "print(dnde)"
   ]
  },
  {
   "cell_type": "markdown",
   "metadata": {},
   "source": [
    "The returned quantity is a differential photon flux. \n",
    "\n",
    "For spectral models you can additionally compute the integrated and energy flux\n",
    "in a given energy range:"
   ]
  },
  {
   "cell_type": "code",
   "execution_count": 9,
   "metadata": {
    "execution": {
     "iopub.execute_input": "2021-02-06T18:02:22.479704Z",
     "iopub.status.busy": "2021-02-06T18:02:22.478432Z",
     "iopub.status.idle": "2021-02-06T18:02:22.481001Z",
     "shell.execute_reply": "2021-02-06T18:02:22.481538Z"
    }
   },
   "outputs": [
    {
     "name": "stdout",
     "output_type": "stream",
     "text": [
      "2.108034597491956e-12 1 / (cm2 s)\n",
      "4.982075849517389e-12 TeV / (cm2 s)\n"
     ]
    }
   ],
   "source": [
    "flux = pwl.integral(energy_min=1 * u.TeV, energy_max=10 * u.TeV)\n",
    "print(flux)\n",
    "\n",
    "eflux = pwl.energy_flux(energy_min=1 * u.TeV, energy_max=10 * u.TeV)\n",
    "print(eflux)"
   ]
  },
  {
   "cell_type": "markdown",
   "metadata": {},
   "source": [
    "This also works for a list or an array of integration boundaries:"
   ]
  },
  {
   "cell_type": "code",
   "execution_count": 10,
   "metadata": {
    "execution": {
     "iopub.execute_input": "2021-02-06T18:02:22.488008Z",
     "iopub.status.busy": "2021-02-06T18:02:22.486665Z",
     "iopub.status.idle": "2021-02-06T18:02:22.489417Z",
     "shell.execute_reply": "2021-02-06T18:02:22.489959Z"
    }
   },
   "outputs": [
    {
     "name": "stdout",
     "output_type": "stream",
     "text": [
      "[1.64794383e-12 4.60090769e-13 1.03978226e-13] 1 / (cm2 s)\n"
     ]
    }
   ],
   "source": [
    "energy = [1, 3, 10, 30] * u.TeV\n",
    "flux = pwl.integral(energy_min=energy[:-1], energy_max=energy[1:])\n",
    "print(flux)"
   ]
  },
  {
   "cell_type": "markdown",
   "metadata": {},
   "source": [
    "In some cases it can be useful to find use the inverse of a spectral model, to find the energy at which a given flux is reached:"
   ]
  },
  {
   "cell_type": "code",
   "execution_count": 11,
   "metadata": {
    "execution": {
     "iopub.execute_input": "2021-02-06T18:02:22.495529Z",
     "iopub.status.busy": "2021-02-06T18:02:22.494281Z",
     "iopub.status.idle": "2021-02-06T18:02:22.496761Z",
     "shell.execute_reply": "2021-02-06T18:02:22.497302Z"
    }
   },
   "outputs": [
    {
     "name": "stdout",
     "output_type": "stream",
     "text": [
      "1.0 TeV\n"
     ]
    }
   ],
   "source": [
    "dnde = 2.7e-12 * u.Unit(\"TeV-1 cm-2 s-1\")\n",
    "energy = pwl.inverse(dnde)\n",
    "print(energy)"
   ]
  },
  {
   "cell_type": "markdown",
   "metadata": {},
   "source": [
    "As a convenience you can also plot any spectral model in a given energy range:"
   ]
  },
  {
   "cell_type": "code",
   "execution_count": 12,
   "metadata": {
    "execution": {
     "iopub.execute_input": "2021-02-06T18:02:22.524483Z",
     "iopub.status.busy": "2021-02-06T18:02:22.519151Z",
     "iopub.status.idle": "2021-02-06T18:02:23.365829Z",
     "shell.execute_reply": "2021-02-06T18:02:23.364967Z"
    }
   },
   "outputs": [
    {
     "name": "stderr",
     "output_type": "stream",
     "text": [
      "/home/runner/work/gammapy-docs/gammapy-docs/gammapy/gammapy/modeling/models/spectral.py:386: MatplotlibDeprecationWarning: The 'nonposx' parameter of __init__() has been renamed 'nonpositive' since Matplotlib 3.3; support for the old name will be dropped two minor releases later.\n",
      "  ax.set_xscale(\"log\", nonposx=\"clip\")\n",
      "/home/runner/work/gammapy-docs/gammapy-docs/gammapy/gammapy/modeling/models/spectral.py:387: MatplotlibDeprecationWarning: The 'nonposy' parameter of __init__() has been renamed 'nonpositive' since Matplotlib 3.3; support for the old name will be dropped two minor releases later.\n",
      "  ax.set_yscale(\"log\", nonposy=\"clip\")\n"
     ]
    },
    {
     "data": {
      "text/plain": [
       "<AxesSubplot:xlabel='Energy [TeV]', ylabel='Flux [1 / (cm2 s TeV)]'>"
      ]
     },
     "execution_count": 1,
     "metadata": {},
     "output_type": "execute_result"
    },
    {
     "data": {
      "image/png": "[encoded data removed]",
      "text/plain": [
       "<Figure size 432x288 with 1 Axes>"
      ]
     },
     "metadata": {
      "needs_background": "light"
     },
     "output_type": "display_data"
    }
   ],
   "source": [
    "pwl.plot(energy_range=[1, 100] * u.TeV)"
   ]
  },
  {
   "cell_type": "markdown",
   "metadata": {},
   "source": [
    "### Norm Spectral Models"
   ]
  },
  {
   "cell_type": "markdown",
   "metadata": {},
   "source": [
    "Normed spectral models are a special class of Spectral Models, which have a dimension-less normalisation. These spectral models feature a norm parameter instead\n",
    "of amplitude and are named using the ``NormSpectralModel`` suffix. They **must** be used along with another spectral model, as a multiplicative correction factor according to their spectral shape. They can be typically used for adjusting template based models, or adding a EBL correction to some analytic model. \n",
    "\n",
    "To check if a given `SpectralModel` is a norm model, you can simply look at the `is_norm_spectral_model` property"
   ]
  },
  {
   "cell_type": "code",
   "execution_count": 13,
   "metadata": {
    "execution": {
     "iopub.execute_input": "2021-02-06T18:02:23.370363Z",
     "iopub.status.busy": "2021-02-06T18:02:23.369813Z",
     "iopub.status.idle": "2021-02-06T18:02:23.376777Z",
     "shell.execute_reply": "2021-02-06T18:02:23.382450Z"
    }
   },
   "outputs": [
    {
     "name": "stdout",
     "output_type": "stream",
     "text": [
      "<class 'gammapy.modeling.models.spectral.PiecewiseNormSpectralModel'>\n",
      "<class 'gammapy.modeling.models.spectral.EBLAbsorptionNormSpectralModel'>\n",
      "<class 'gammapy.modeling.models.spectral.PowerLawNormSpectralModel'>\n",
      "<class 'gammapy.modeling.models.spectral.LogParabolaNormSpectralModel'>\n",
      "<class 'gammapy.modeling.models.spectral.ExpCutoffPowerLawNormSpectralModel'>\n"
     ]
    }
   ],
   "source": [
    "# To see the available norm models shipped with gammapy:\n",
    "for model in SPECTRAL_MODEL_REGISTRY:\n",
    "    if model.is_norm_spectral_model:\n",
    "        print(model)"
   ]
  },
  {
   "cell_type": "markdown",
   "metadata": {},
   "source": [
    "As an example, we see the `PowerLawNormSpectralModel`"
   ]
  },
  {
   "cell_type": "code",
   "execution_count": 14,
   "metadata": {
    "execution": {
     "iopub.execute_input": "2021-02-06T18:02:23.389303Z",
     "iopub.status.busy": "2021-02-06T18:02:23.388750Z",
     "iopub.status.idle": "2021-02-06T18:02:23.392628Z",
     "shell.execute_reply": "2021-02-06T18:02:23.392046Z"
    }
   },
   "outputs": [],
   "source": [
    "from gammapy.modeling.models import PowerLawNormSpectralModel"
   ]
  },
  {
   "cell_type": "code",
   "execution_count": 15,
   "metadata": {
    "execution": {
     "iopub.execute_input": "2021-02-06T18:02:23.400315Z",
     "iopub.status.busy": "2021-02-06T18:02:23.398932Z",
     "iopub.status.idle": "2021-02-06T18:02:23.401666Z",
     "shell.execute_reply": "2021-02-06T18:02:23.402230Z"
    }
   },
   "outputs": [
    {
     "name": "stdout",
     "output_type": "stream",
     "text": [
      "PowerLawNormSpectralModel\n",
      "\n",
      "  type      name     value    unit min max frozen   error  \n",
      "-------- --------- ---------- ---- --- --- ------ ---------\n",
      "spectral      norm 1.0000e+00      nan nan  False 0.000e+00\n",
      "spectral      tilt 1.0000e-01      nan nan   True 0.000e+00\n",
      "spectral reference 1.0000e+00  TeV nan nan   True 0.000e+00\n"
     ]
    }
   ],
   "source": [
    "pwl_norm = PowerLawNormSpectralModel(tilt=0.1)\n",
    "print(pwl_norm)"
   ]
  },
  {
   "cell_type": "markdown",
   "metadata": {},
   "source": [
    "We can check the correction introduced at each energy "
   ]
  },
  {
   "cell_type": "code",
   "execution_count": 16,
   "metadata": {
    "execution": {
     "iopub.execute_input": "2021-02-06T18:02:23.408397Z",
     "iopub.status.busy": "2021-02-06T18:02:23.407296Z",
     "iopub.status.idle": "2021-02-06T18:02:23.409988Z",
     "shell.execute_reply": "2021-02-06T18:02:23.410540Z"
    }
   },
   "outputs": [
    {
     "data": {
      "text/latex": [
       "$$[1.1279449,~1,~0.89595846,~0.79432823,~0.7116851] \\; \\mathrm{}$$"
      ],
      "text/plain": [
       "<Quantity [1.12794487, 1.        , 0.89595846, 0.79432823, 0.7116851 ]>"
      ]
     },
     "execution_count": 1,
     "metadata": {},
     "output_type": "execute_result"
    }
   ],
   "source": [
    "energy = [0.3, 1, 3, 10, 30] * u.TeV\n",
    "pwl_norm(energy)"
   ]
  },
  {
   "cell_type": "markdown",
   "metadata": {},
   "source": [
    "A typical use case of a norm model would be in applying spectral correction to a `TemplateSpectralModel`. A template model is defined by custom tabular values provided at initialization. "
   ]
  },
  {
   "cell_type": "code",
   "execution_count": 17,
   "metadata": {
    "execution": {
     "iopub.execute_input": "2021-02-06T18:02:23.414950Z",
     "iopub.status.busy": "2021-02-06T18:02:23.413683Z",
     "iopub.status.idle": "2021-02-06T18:02:23.415514Z",
     "shell.execute_reply": "2021-02-06T18:02:23.416064Z"
    }
   },
   "outputs": [],
   "source": [
    "from gammapy.modeling.models import TemplateSpectralModel"
   ]
  },
  {
   "cell_type": "code",
   "execution_count": 18,
   "metadata": {
    "execution": {
     "iopub.execute_input": "2021-02-06T18:02:23.452285Z",
     "iopub.status.busy": "2021-02-06T18:02:23.445016Z",
     "iopub.status.idle": "2021-02-06T18:02:23.957271Z",
     "shell.execute_reply": "2021-02-06T18:02:23.956666Z"
    }
   },
   "outputs": [
    {
     "name": "stderr",
     "output_type": "stream",
     "text": [
      "/home/runner/work/gammapy-docs/gammapy-docs/gammapy/gammapy/modeling/models/spectral.py:386: MatplotlibDeprecationWarning: The 'nonposx' parameter of __init__() has been renamed 'nonpositive' since Matplotlib 3.3; support for the old name will be dropped two minor releases later.\n",
      "  ax.set_xscale(\"log\", nonposx=\"clip\")\n",
      "/home/runner/work/gammapy-docs/gammapy-docs/gammapy/gammapy/modeling/models/spectral.py:387: MatplotlibDeprecationWarning: The 'nonposy' parameter of __init__() has been renamed 'nonpositive' since Matplotlib 3.3; support for the old name will be dropped two minor releases later.\n",
      "  ax.set_yscale(\"log\", nonposy=\"clip\")\n",
      "/home/runner/work/gammapy-docs/gammapy-docs/gammapy/gammapy/modeling/models/spectral.py:386: MatplotlibDeprecationWarning: The 'nonposx' parameter of __init__() has been renamed 'nonpositive' since Matplotlib 3.3; support for the old name will be dropped two minor releases later.\n",
      "  ax.set_xscale(\"log\", nonposx=\"clip\")\n",
      "/home/runner/work/gammapy-docs/gammapy-docs/gammapy/gammapy/modeling/models/spectral.py:387: MatplotlibDeprecationWarning: The 'nonposy' parameter of __init__() has been renamed 'nonpositive' since Matplotlib 3.3; support for the old name will be dropped two minor releases later.\n",
      "  ax.set_yscale(\"log\", nonposy=\"clip\")\n"
     ]
    },
    {
     "data": {
      "text/plain": [
       "<matplotlib.legend.Legend at 0x7f04c8efb898>"
      ]
     },
     "execution_count": 1,
     "metadata": {},
     "output_type": "execute_result"
    },
    {
     "data": {
      "image/png": "[encoded data removed]",
      "text/plain": [
       "<Figure size 432x288 with 1 Axes>"
      ]
     },
     "metadata": {
      "needs_background": "light"
     },
     "output_type": "display_data"
    }
   ],
   "source": [
    "energy = [0.3, 1, 3, 10, 30] * u.TeV\n",
    "values = [40, 30, 20, 10, 1] * u.Unit(\"TeV-1 s-1 cm-2\")\n",
    "template = TemplateSpectralModel(energy, values)\n",
    "template.plot(energy_range=[0.2, 50] * u.TeV, label=\"template model\")\n",
    "normed_template = template * pwl_norm\n",
    "normed_template.plot(\n",
    "    energy_range=[0.2, 50] * u.TeV, label=\"normed_template model\"\n",
    ")\n",
    "plt.legend();"
   ]
  },
  {
   "cell_type": "markdown",
   "metadata": {},
   "source": [
    "### Compound Spectral Model\n",
    "\n",
    "A `CompoundSpectralModel` is an arithmetic combination of two spectral models. The model `normed_template` created in the preceeding example is an example of a `CompoundSpectralModel`\n"
   ]
  },
  {
   "cell_type": "code",
   "execution_count": 19,
   "metadata": {
    "execution": {
     "iopub.execute_input": "2021-02-06T18:02:23.963742Z",
     "iopub.status.busy": "2021-02-06T18:02:23.963189Z",
     "iopub.status.idle": "2021-02-06T18:02:23.968042Z",
     "shell.execute_reply": "2021-02-06T18:02:23.967337Z"
    }
   },
   "outputs": [
    {
     "name": "stdout",
     "output_type": "stream",
     "text": [
      "CompoundSpectralModel\n",
      "    Component 1 : TemplateSpectralModel\n",
      "\n",
      "    Component 2 : PowerLawNormSpectralModel\n",
      "\n",
      "  type      name     value    unit min max frozen   error  \n",
      "-------- --------- ---------- ---- --- --- ------ ---------\n",
      "spectral      norm 1.0000e+00      nan nan  False 0.000e+00\n",
      "spectral      tilt 1.0000e-01      nan nan   True 0.000e+00\n",
      "spectral reference 1.0000e+00  TeV nan nan   True 0.000e+00\n",
      "    Operator : mul\n",
      "\n"
     ]
    }
   ],
   "source": [
    "print(normed_template)"
   ]
  },
  {
   "cell_type": "markdown",
   "metadata": {},
   "source": [
    "To create an additive model, you can do simply:"
   ]
  },
  {
   "cell_type": "code",
   "execution_count": 20,
   "metadata": {
    "execution": {
     "iopub.execute_input": "2021-02-06T18:02:23.974994Z",
     "iopub.status.busy": "2021-02-06T18:02:23.974337Z",
     "iopub.status.idle": "2021-02-06T18:02:23.977507Z",
     "shell.execute_reply": "2021-02-06T18:02:23.976910Z"
    }
   },
   "outputs": [
    {
     "name": "stdout",
     "output_type": "stream",
     "text": [
      "CompoundSpectralModel\n",
      "    Component 1 : PowerLawSpectralModel\n",
      "\n",
      "  type      name     value         unit      min max frozen   error  \n",
      "-------- --------- ---------- -------------- --- --- ------ ---------\n",
      "spectral     index 2.2000e+00                nan nan  False 0.000e+00\n",
      "spectral amplitude 2.7000e-12 cm-2 s-1 TeV-1 nan nan  False 0.000e+00\n",
      "spectral reference 1.0000e+00            TeV nan nan   True 0.000e+00\n",
      "    Component 2 : TemplateSpectralModel\n",
      "\n",
      "    Operator : add\n",
      "\n"
     ]
    }
   ],
   "source": [
    "model_add = pwl + template\n",
    "print(model_add)"
   ]
  },
  {
   "cell_type": "markdown",
   "metadata": {},
   "source": [
    "## Spatial models"
   ]
  },
  {
   "cell_type": "markdown",
   "metadata": {},
   "source": [
    "Spatial models are imported from the same `~gammapy.modeling.models` namespace, let's start with a `GaussianSpatialModel`:"
   ]
  },
  {
   "cell_type": "code",
   "execution_count": 21,
   "metadata": {
    "execution": {
     "iopub.execute_input": "2021-02-06T18:02:23.981475Z",
     "iopub.status.busy": "2021-02-06T18:02:23.980821Z",
     "iopub.status.idle": "2021-02-06T18:02:23.984149Z",
     "shell.execute_reply": "2021-02-06T18:02:23.984707Z"
    }
   },
   "outputs": [],
   "source": [
    "from gammapy.modeling.models import GaussianSpatialModel"
   ]
  },
  {
   "cell_type": "code",
   "execution_count": 22,
   "metadata": {
    "execution": {
     "iopub.execute_input": "2021-02-06T18:02:23.992910Z",
     "iopub.status.busy": "2021-02-06T18:02:23.992331Z",
     "iopub.status.idle": "2021-02-06T18:02:23.998451Z",
     "shell.execute_reply": "2021-02-06T18:02:23.997499Z"
    }
   },
   "outputs": [
    {
     "name": "stdout",
     "output_type": "stream",
     "text": [
      "GaussianSpatialModel\n",
      "\n",
      "  type   name   value    unit    min        max    frozen   error  \n",
      "------- ----- ---------- ---- ---------- --------- ------ ---------\n",
      "spatial lon_0 0.0000e+00  deg        nan       nan  False 0.000e+00\n",
      "spatial lat_0 0.0000e+00  deg -9.000e+01 9.000e+01  False 0.000e+00\n",
      "spatial sigma 2.0000e-01  deg  0.000e+00       nan  False 0.000e+00\n",
      "spatial     e 0.0000e+00       0.000e+00 1.000e+00   True 0.000e+00\n",
      "spatial   phi 0.0000e+00  deg        nan       nan   True 0.000e+00\n"
     ]
    }
   ],
   "source": [
    "gauss = GaussianSpatialModel(lon_0=\"0 deg\", lat_0=\"0 deg\", sigma=\"0.2 deg\")\n",
    "print(gauss)"
   ]
  },
  {
   "cell_type": "markdown",
   "metadata": {},
   "source": [
    "Again you can check the `SPATIAL_MODELS` registry to see which models are available or take a look at the [model gallery](https://docs.gammapy.org/dev/modeling/gallery/index.html#spatial-models)."
   ]
  },
  {
   "cell_type": "code",
   "execution_count": 23,
   "metadata": {
    "execution": {
     "iopub.execute_input": "2021-02-06T18:02:24.005264Z",
     "iopub.status.busy": "2021-02-06T18:02:24.003254Z",
     "iopub.status.idle": "2021-02-06T18:02:24.007532Z",
     "shell.execute_reply": "2021-02-06T18:02:24.008389Z"
    }
   },
   "outputs": [
    {
     "name": "stdout",
     "output_type": "stream",
     "text": [
      "Registry\n",
      "--------\n",
      "\n",
      "ConstantSpatialModel           : ['ConstantSpatialModel', 'const'] \n",
      "TemplateSpatialModel           : ['TemplateSpatialModel', 'template'] \n",
      "DiskSpatialModel               : ['DiskSpatialModel', 'disk'] \n",
      "GaussianSpatialModel           : ['GaussianSpatialModel', 'gauss'] \n",
      "GeneralizedGaussianSpatialModel: ['GeneralizedGaussianSpatialModel', 'gauss-general'] \n",
      "PointSpatialModel              : ['PointSpatialModel', 'point'] \n",
      "ShellSpatialModel              : ['ShellSpatialModel', 'shell'] \n",
      "Shell2SpatialModel             : ['Shell2SpatialModel', 'shell2'] \n",
      "\n"
     ]
    }
   ],
   "source": [
    "from gammapy.modeling.models import SPATIAL_MODEL_REGISTRY\n",
    "\n",
    "print(SPATIAL_MODEL_REGISTRY)"
   ]
  },
  {
   "cell_type": "markdown",
   "metadata": {},
   "source": [
    "The default coordinate frame for all spatial models is ``\"icrs\"``, but the frame can be modified using the\n",
    "``frame`` argument:"
   ]
  },
  {
   "cell_type": "code",
   "execution_count": 24,
   "metadata": {
    "execution": {
     "iopub.execute_input": "2021-02-06T18:02:24.013485Z",
     "iopub.status.busy": "2021-02-06T18:02:24.012828Z",
     "iopub.status.idle": "2021-02-06T18:02:24.014721Z",
     "shell.execute_reply": "2021-02-06T18:02:24.015284Z"
    }
   },
   "outputs": [],
   "source": [
    "gauss = GaussianSpatialModel(\n",
    "    lon_0=\"0 deg\", lat_0=\"0 deg\", sigma=\"0.2 deg\", frame=\"galactic\"\n",
    ")"
   ]
  },
  {
   "cell_type": "markdown",
   "metadata": {},
   "source": [
    "You can specify any valid `astropy.coordinates` frame. The center position of the model can be retrieved as a `astropy.coordinates.SkyCoord` object using `SpatialModel.position`: "
   ]
  },
  {
   "cell_type": "code",
   "execution_count": 25,
   "metadata": {
    "execution": {
     "iopub.execute_input": "2021-02-06T18:02:24.022063Z",
     "iopub.status.busy": "2021-02-06T18:02:24.020855Z",
     "iopub.status.idle": "2021-02-06T18:02:24.023672Z",
     "shell.execute_reply": "2021-02-06T18:02:24.024233Z"
    }
   },
   "outputs": [
    {
     "name": "stdout",
     "output_type": "stream",
     "text": [
      "<SkyCoord (Galactic): (l, b) in deg\n",
      "    (0., 0.)>\n"
     ]
    }
   ],
   "source": [
    "print(gauss.position)"
   ]
  },
  {
   "cell_type": "markdown",
   "metadata": {},
   "source": [
    "Spatial models can be evaluated again by calling the instance:"
   ]
  },
  {
   "cell_type": "code",
   "execution_count": 26,
   "metadata": {
    "execution": {
     "iopub.execute_input": "2021-02-06T18:02:24.031639Z",
     "iopub.status.busy": "2021-02-06T18:02:24.030449Z",
     "iopub.status.idle": "2021-02-06T18:02:24.033047Z",
     "shell.execute_reply": "2021-02-06T18:02:24.033602Z"
    }
   },
   "outputs": [
    {
     "name": "stdout",
     "output_type": "stream",
     "text": [
      "[13061.88470839 10172.60603928] 1 / sr\n"
     ]
    }
   ],
   "source": [
    "lon = [0, 0.1] * u.deg\n",
    "lat = [0, 0.1] * u.deg\n",
    "\n",
    "flux_per_omega = gauss(lon, lat)\n",
    "print(flux_per_omega)"
   ]
  },
  {
   "cell_type": "markdown",
   "metadata": {},
   "source": [
    "The returned quantity corresponds to a surface brightness. Spatial model\n",
    "can be also evaluated using `~gammapy.maps.Map` and `~gammapy.maps.Geom` objects:"
   ]
  },
  {
   "cell_type": "code",
   "execution_count": 27,
   "metadata": {
    "execution": {
     "iopub.execute_input": "2021-02-06T18:02:24.040198Z",
     "iopub.status.busy": "2021-02-06T18:02:24.039635Z",
     "iopub.status.idle": "2021-02-06T18:02:24.822590Z",
     "shell.execute_reply": "2021-02-06T18:02:24.822041Z"
    }
   },
   "outputs": [
    {
     "data": {
      "text/plain": [
       "(<Figure size 432x288 with 2 Axes>,\n",
       " <WCSAxesSubplot:xlabel='Galactic Longitude', ylabel='Galactic Latitude'>,\n",
       " <matplotlib.colorbar.Colorbar at 0x7f04c89e6a20>)"
      ]
     },
     "execution_count": 1,
     "metadata": {},
     "output_type": "execute_result"
    },
    {
     "data": {
      "image/png": "[encoded data removed]",
      "text/plain": [
       "<Figure size 432x288 with 2 Axes>"
      ]
     },
     "metadata": {
      "needs_background": "light"
     },
     "output_type": "display_data"
    }
   ],
   "source": [
    "m = Map.create(skydir=(0, 0), width=(1, 1), binsz=0.02, frame=\"galactic\")\n",
    "m.quantity = gauss.evaluate_geom(m.geom)\n",
    "m.plot(add_cbar=True);"
   ]
  },
  {
   "cell_type": "markdown",
   "metadata": {},
   "source": [
    "Again for convenience the model can be plotted directly:"
   ]
  },
  {
   "cell_type": "code",
   "execution_count": 28,
   "metadata": {
    "execution": {
     "iopub.execute_input": "2021-02-06T18:02:24.829505Z",
     "iopub.status.busy": "2021-02-06T18:02:24.828522Z",
     "iopub.status.idle": "2021-02-06T18:02:25.458596Z",
     "shell.execute_reply": "2021-02-06T18:02:25.458069Z"
    }
   },
   "outputs": [
    {
     "data": {
      "text/plain": [
       "<WCSAxesSubplot:xlabel='Galactic Longitude', ylabel='Galactic Latitude'>"
      ]
     },
     "execution_count": 1,
     "metadata": {},
     "output_type": "execute_result"
    },
    {
     "data": {
      "image/png": "[encoded data removed]",
      "text/plain": [
       "<Figure size 432x288 with 2 Axes>"
      ]
     },
     "metadata": {
      "needs_background": "light"
     },
     "output_type": "display_data"
    }
   ],
   "source": [
    "gauss.plot(add_cbar=True);"
   ]
  },
  {
   "cell_type": "markdown",
   "metadata": {},
   "source": [
    "All spatial models have an associated sky region to it e.g. to illustrate the extend of the model on a sky image. The returned object is an `regions.SkyRegion` object:"
   ]
  },
  {
   "cell_type": "code",
   "execution_count": 29,
   "metadata": {
    "execution": {
     "iopub.execute_input": "2021-02-06T18:02:25.464698Z",
     "iopub.status.busy": "2021-02-06T18:02:25.464075Z",
     "iopub.status.idle": "2021-02-06T18:02:25.468821Z",
     "shell.execute_reply": "2021-02-06T18:02:25.468241Z"
    }
   },
   "outputs": [
    {
     "name": "stdout",
     "output_type": "stream",
     "text": [
      "Region: EllipseSkyRegion\n",
      "center: <SkyCoord (Galactic): (l, b) in deg\n",
      "    (0., 0.)>\n",
      "width: 0.4 deg\n",
      "height: 0.4 deg\n",
      "angle: 0.0 deg\n"
     ]
    }
   ],
   "source": [
    "print(gauss.to_region())"
   ]
  },
  {
   "cell_type": "markdown",
   "metadata": {},
   "source": [
    "Now we can plot the region on an sky image:"
   ]
  },
  {
   "cell_type": "code",
   "execution_count": 30,
   "metadata": {
    "execution": {
     "iopub.execute_input": "2021-02-06T18:02:25.476904Z",
     "iopub.status.busy": "2021-02-06T18:02:25.476343Z",
     "iopub.status.idle": "2021-02-06T18:02:26.223537Z",
     "shell.execute_reply": "2021-02-06T18:02:26.223037Z"
    },
    "nbsphinx-thumbnail": {
     "tooltip": "Introduction and overview on how to work with models in Gammapy."
    }
   },
   "outputs": [
    {
     "data": {
      "text/plain": [
       "<matplotlib.patches.Ellipse at 0x7f04c8879668>"
      ]
     },
     "execution_count": 1,
     "metadata": {},
     "output_type": "execute_result"
    },
    {
     "data": {
      "image/png": "[encoded data removed]",
      "text/plain": [
       "<Figure size 432x288 with 2 Axes>"
      ]
     },
     "metadata": {
      "needs_background": "light"
     },
     "output_type": "display_data"
    }
   ],
   "source": [
    "# create and plot the model\n",
    "gauss_elongated = GaussianSpatialModel(\n",
    "    lon_0=\"0 deg\", lat_0=\"0 deg\", sigma=\"0.2 deg\", e=0.7, phi=\"45 deg\"\n",
    ")\n",
    "ax = gauss_elongated.plot(add_cbar=True)\n",
    "\n",
    "# add region illustration\n",
    "region = gauss_elongated.to_region()\n",
    "region_pix = region.to_pixel(ax.wcs)\n",
    "ax.add_artist(region_pix.as_artist());"
   ]
  },
  {
   "cell_type": "markdown",
   "metadata": {},
   "source": [
    "The `.to_region()` method can also be useful to write e.g. ds9 region files using `write_ds9` from the `regions` package:"
   ]
  },
  {
   "cell_type": "code",
   "execution_count": 31,
   "metadata": {
    "execution": {
     "iopub.execute_input": "2021-02-06T18:02:26.238955Z",
     "iopub.status.busy": "2021-02-06T18:02:26.238371Z",
     "iopub.status.idle": "2021-02-06T18:02:26.242250Z",
     "shell.execute_reply": "2021-02-06T18:02:26.241506Z"
    }
   },
   "outputs": [],
   "source": [
    "from regions import write_ds9\n",
    "\n",
    "regions = [gauss.to_region(), gauss_elongated.to_region()]\n",
    "\n",
    "filename = \"regions.reg\"\n",
    "write_ds9(regions, filename, coordsys=\"galactic\", fmt=\".4f\", radunit=\"deg\")"
   ]
  },
  {
   "cell_type": "code",
   "execution_count": 32,
   "metadata": {
    "execution": {
     "iopub.execute_input": "2021-02-06T18:02:26.246740Z",
     "iopub.status.busy": "2021-02-06T18:02:26.246141Z",
     "iopub.status.idle": "2021-02-06T18:02:26.396220Z",
     "shell.execute_reply": "2021-02-06T18:02:26.397005Z"
    }
   },
   "outputs": [
    {
     "name": "stdout",
     "output_type": "stream",
     "text": [
      "# Region file format: DS9 astropy/regions\r\n",
      "galactic\r\n",
      "ellipse(0.0000,0.0000,0.2000,0.2000,0.0000)\r\n",
      "ellipse(96.3373,-60.1886,0.1428,0.2000,45.0000)\r\n"
     ]
    }
   ],
   "source": [
    "!cat regions.reg"
   ]
  },
  {
   "cell_type": "markdown",
   "metadata": {},
   "source": [
    "## Temporal models"
   ]
  },
  {
   "cell_type": "markdown",
   "metadata": {},
   "source": [
    "Temporal models are imported from the same `~gammapy.modeling.models` namespace, let's start with a `GaussianTemporalModel`:"
   ]
  },
  {
   "cell_type": "code",
   "execution_count": 33,
   "metadata": {
    "execution": {
     "iopub.execute_input": "2021-02-06T18:02:26.401953Z",
     "iopub.status.busy": "2021-02-06T18:02:26.401323Z",
     "iopub.status.idle": "2021-02-06T18:02:26.405267Z",
     "shell.execute_reply": "2021-02-06T18:02:26.404661Z"
    }
   },
   "outputs": [],
   "source": [
    "from gammapy.modeling.models import GaussianTemporalModel"
   ]
  },
  {
   "cell_type": "code",
   "execution_count": 34,
   "metadata": {
    "execution": {
     "iopub.execute_input": "2021-02-06T18:02:26.412303Z",
     "iopub.status.busy": "2021-02-06T18:02:26.411720Z",
     "iopub.status.idle": "2021-02-06T18:02:26.416599Z",
     "shell.execute_reply": "2021-02-06T18:02:26.416007Z"
    }
   },
   "outputs": [
    {
     "name": "stdout",
     "output_type": "stream",
     "text": [
      "GaussianTemporalModel\n",
      "\n",
      "  type    name   value    unit min max frozen   error  \n",
      "-------- ----- ---------- ---- --- --- ------ ---------\n",
      "temporal t_ref 5.9240e+04    d nan nan  False 0.000e+00\n",
      "temporal sigma 2.0000e+00    d nan nan  False 0.000e+00\n"
     ]
    }
   ],
   "source": [
    "gauss_temp = GaussianTemporalModel(t_ref=59240.0 * u.d, sigma=2.0 * u.d)\n",
    "print(gauss_temp)"
   ]
  },
  {
   "cell_type": "markdown",
   "metadata": {},
   "source": [
    "To check the `TEMPORAL_MODELS` registry to see which models are available:"
   ]
  },
  {
   "cell_type": "code",
   "execution_count": 35,
   "metadata": {
    "execution": {
     "iopub.execute_input": "2021-02-06T18:02:26.420983Z",
     "iopub.status.busy": "2021-02-06T18:02:26.420396Z",
     "iopub.status.idle": "2021-02-06T18:02:26.422840Z",
     "shell.execute_reply": "2021-02-06T18:02:26.423658Z"
    }
   },
   "outputs": [
    {
     "name": "stdout",
     "output_type": "stream",
     "text": [
      "Registry\n",
      "--------\n",
      "\n",
      "ConstantTemporalModel          : ['ConstantTemporalModel', 'const'] \n",
      "LightCurveTemplateTemporalModel: ['LightCurveTemplateTemporalModel', 'template'] \n",
      "ExpDecayTemporalModel          : ['ExpDecayTemporalModel', 'exp-decay'] \n",
      "GaussianTemporalModel          : ['GaussianTemporalModel', 'gauss'] \n",
      "\n"
     ]
    }
   ],
   "source": [
    "from gammapy.modeling.models import TEMPORAL_MODEL_REGISTRY\n",
    "\n",
    "print(TEMPORAL_MODEL_REGISTRY)"
   ]
  },
  {
   "cell_type": "markdown",
   "metadata": {},
   "source": [
    "Temporal models can be evaluated on `astropy.time.Time` objects. The returned quantity is a dimensionless number"
   ]
  },
  {
   "cell_type": "code",
   "execution_count": 36,
   "metadata": {
    "execution": {
     "iopub.execute_input": "2021-02-06T18:02:26.430810Z",
     "iopub.status.busy": "2021-02-06T18:02:26.430218Z",
     "iopub.status.idle": "2021-02-06T18:02:26.432724Z",
     "shell.execute_reply": "2021-02-06T18:02:26.433289Z"
    }
   },
   "outputs": [
    {
     "data": {
      "text/latex": [
       "$$0.32465247 \\; \\mathrm{}$$"
      ],
      "text/plain": [
       "<Quantity 0.32465247>"
      ]
     },
     "execution_count": 1,
     "metadata": {},
     "output_type": "execute_result"
    }
   ],
   "source": [
    "from astropy.time import Time\n",
    "\n",
    "time = Time(\"2021-01-29 00:00:00.000\")\n",
    "gauss_temp(time)"
   ]
  },
  {
   "cell_type": "markdown",
   "metadata": {},
   "source": [
    "As for other models, they can be plotted in a given time range"
   ]
  },
  {
   "cell_type": "code",
   "execution_count": 37,
   "metadata": {
    "execution": {
     "iopub.execute_input": "2021-02-06T18:02:26.451583Z",
     "iopub.status.busy": "2021-02-06T18:02:26.451002Z",
     "iopub.status.idle": "2021-02-06T18:02:26.586088Z",
     "shell.execute_reply": "2021-02-06T18:02:26.585421Z"
    }
   },
   "outputs": [
    {
     "data": {
      "text/plain": [
       "<AxesSubplot:>"
      ]
     },
     "execution_count": 1,
     "metadata": {},
     "output_type": "execute_result"
    },
    {
     "data": {
      "image/png": "[encoded data removed]",
      "text/plain": [
       "<Figure size 432x288 with 1 Axes>"
      ]
     },
     "metadata": {
      "needs_background": "light"
     },
     "output_type": "display_data"
    }
   ],
   "source": [
    "time = Time([59233.0, 59250], format=\"mjd\")\n",
    "gauss_temp.plot(time)"
   ]
  },
  {
   "cell_type": "markdown",
   "metadata": {},
   "source": [
    "## SkyModel"
   ]
  },
  {
   "cell_type": "markdown",
   "metadata": {},
   "source": [
    "The `~gammapy.modeling.models.SkyModel` class combines a spectral, and optionally, a spatial model and a temporal. It can be created\n",
    "from existing spectral, spatial and temporal model components:"
   ]
  },
  {
   "cell_type": "code",
   "execution_count": 38,
   "metadata": {
    "execution": {
     "iopub.execute_input": "2021-02-06T18:02:26.591702Z",
     "iopub.status.busy": "2021-02-06T18:02:26.590548Z",
     "iopub.status.idle": "2021-02-06T18:02:26.643165Z",
     "shell.execute_reply": "2021-02-06T18:02:26.643739Z"
    }
   },
   "outputs": [
    {
     "name": "stdout",
     "output_type": "stream",
     "text": [
      "SkyModel\n",
      "\n",
      "  Name                      : my-source\n",
      "  Datasets names            : None\n",
      "  Spectral model type       : PowerLawSpectralModel\n",
      "  Spatial  model type       : GaussianSpatialModel\n",
      "  Temporal model type       : GaussianTemporalModel\n",
      "  Parameters:\n",
      "    index                   :   2.200              \n",
      "    amplitude               :   2.70e-12  1 / (cm2 s TeV)\n",
      "    reference    (frozen)   :   1.000  TeV         \n",
      "    lon_0                   :   0.000  deg         \n",
      "    lat_0                   :   0.000  deg         \n",
      "    sigma                   :   0.200  deg         \n",
      "    e            (frozen)   :   0.000              \n",
      "    phi          (frozen)   :   0.000  deg         \n",
      "    t_ref                   : 59240.000  d           \n",
      "    sigma                   :   2.000  d           \n",
      "\n",
      "\n"
     ]
    }
   ],
   "source": [
    "from gammapy.modeling.models import SkyModel\n",
    "\n",
    "model = SkyModel(\n",
    "    spectral_model=pwl,\n",
    "    spatial_model=gauss,\n",
    "    temporal_model=gauss_temp,\n",
    "    name=\"my-source\",\n",
    ")\n",
    "print(model)"
   ]
  },
  {
   "cell_type": "markdown",
   "metadata": {},
   "source": [
    "It is good practice to specify a name for your sky model, so that you can access it later by name and have meaningful identifier you serilisation. If you don't define a name, a unique random name is generated:"
   ]
  },
  {
   "cell_type": "code",
   "execution_count": 39,
   "metadata": {
    "execution": {
     "iopub.execute_input": "2021-02-06T18:02:26.660062Z",
     "iopub.status.busy": "2021-02-06T18:02:26.647083Z",
     "iopub.status.idle": "2021-02-06T18:02:26.664046Z",
     "shell.execute_reply": "2021-02-06T18:02:26.663449Z"
    }
   },
   "outputs": [
    {
     "name": "stdout",
     "output_type": "stream",
     "text": [
      "o7Kv8nVo\n"
     ]
    }
   ],
   "source": [
    "model_without_name = SkyModel(spectral_model=pwl, spatial_model=gauss)\n",
    "print(model_without_name.name)"
   ]
  },
  {
   "cell_type": "markdown",
   "metadata": {},
   "source": [
    "The individual components of the source model can be accessed using `.spectral_model`,  `.spatial_model` and `.temporal_model`:"
   ]
  },
  {
   "cell_type": "code",
   "execution_count": 40,
   "metadata": {
    "execution": {
     "iopub.execute_input": "2021-02-06T18:02:26.668347Z",
     "iopub.status.busy": "2021-02-06T18:02:26.667786Z",
     "iopub.status.idle": "2021-02-06T18:02:26.673676Z",
     "shell.execute_reply": "2021-02-06T18:02:26.673040Z"
    }
   },
   "outputs": [
    {
     "data": {
      "text/plain": [
       "<gammapy.modeling.models.spectral.PowerLawSpectralModel at 0x7f04c925d518>"
      ]
     },
     "execution_count": 1,
     "metadata": {},
     "output_type": "execute_result"
    }
   ],
   "source": [
    "model.spectral_model"
   ]
  },
  {
   "cell_type": "code",
   "execution_count": 41,
   "metadata": {
    "execution": {
     "iopub.execute_input": "2021-02-06T18:02:26.677933Z",
     "iopub.status.busy": "2021-02-06T18:02:26.677385Z",
     "iopub.status.idle": "2021-02-06T18:02:26.683652Z",
     "shell.execute_reply": "2021-02-06T18:02:26.683053Z"
    }
   },
   "outputs": [
    {
     "data": {
      "text/plain": [
       "<gammapy.modeling.models.spatial.GaussianSpatialModel at 0x7f04c8dff0f0>"
      ]
     },
     "execution_count": 1,
     "metadata": {},
     "output_type": "execute_result"
    }
   ],
   "source": [
    "model.spatial_model"
   ]
  },
  {
   "cell_type": "code",
   "execution_count": 42,
   "metadata": {
    "execution": {
     "iopub.execute_input": "2021-02-06T18:02:26.687490Z",
     "iopub.status.busy": "2021-02-06T18:02:26.686939Z",
     "iopub.status.idle": "2021-02-06T18:02:26.693062Z",
     "shell.execute_reply": "2021-02-06T18:02:26.692403Z"
    }
   },
   "outputs": [
    {
     "data": {
      "text/plain": [
       "<gammapy.modeling.models.temporal.GaussianTemporalModel at 0x7f04c88309b0>"
      ]
     },
     "execution_count": 1,
     "metadata": {},
     "output_type": "execute_result"
    }
   ],
   "source": [
    "model.temporal_model"
   ]
  },
  {
   "cell_type": "markdown",
   "metadata": {},
   "source": [
    "And can be used as you have seen already seen above:"
   ]
  },
  {
   "cell_type": "code",
   "execution_count": 43,
   "metadata": {
    "execution": {
     "iopub.execute_input": "2021-02-06T18:02:26.723800Z",
     "iopub.status.busy": "2021-02-06T18:02:26.712091Z",
     "iopub.status.idle": "2021-02-06T18:02:27.189484Z",
     "shell.execute_reply": "2021-02-06T18:02:27.188610Z"
    }
   },
   "outputs": [
    {
     "name": "stderr",
     "output_type": "stream",
     "text": [
      "/home/runner/work/gammapy-docs/gammapy-docs/gammapy/gammapy/modeling/models/spectral.py:386: MatplotlibDeprecationWarning: The 'nonposx' parameter of __init__() has been renamed 'nonpositive' since Matplotlib 3.3; support for the old name will be dropped two minor releases later.\n",
      "  ax.set_xscale(\"log\", nonposx=\"clip\")\n",
      "/home/runner/work/gammapy-docs/gammapy-docs/gammapy/gammapy/modeling/models/spectral.py:387: MatplotlibDeprecationWarning: The 'nonposy' parameter of __init__() has been renamed 'nonpositive' since Matplotlib 3.3; support for the old name will be dropped two minor releases later.\n",
      "  ax.set_yscale(\"log\", nonposy=\"clip\")\n"
     ]
    },
    {
     "data": {
      "text/plain": [
       "<AxesSubplot:xlabel='Energy [TeV]', ylabel='Flux [1 / (cm2 s TeV)]'>"
      ]
     },
     "execution_count": 1,
     "metadata": {},
     "output_type": "execute_result"
    },
    {
     "data": {
      "image/png": "[encoded data removed]",
      "text/plain": [
       "<Figure size 432x288 with 1 Axes>"
      ]
     },
     "metadata": {
      "needs_background": "light"
     },
     "output_type": "display_data"
    }
   ],
   "source": [
    "model.spectral_model.plot(energy_range=[1, 10] * u.TeV);"
   ]
  },
  {
   "cell_type": "markdown",
   "metadata": {},
   "source": [
    "Note that the gammapy fitting can interface only with a `SkyModel` and **not** its individual components. So, it is customary to work with `SkyModel` even if you are not doing a 3D fit. Since the amplitude parameter resides on the `SpectralModel`, specifying a spectral component is compulsory. The temporal and spatial components are optional. The temporal model needs to be specified only for timing analysis. In some cases (e.g. when doing a spectral analysis) there is no need for a spatial component either, and only a spectral model is associated with the source. "
   ]
  },
  {
   "cell_type": "code",
   "execution_count": 44,
   "metadata": {
    "execution": {
     "iopub.execute_input": "2021-02-06T18:02:27.198707Z",
     "iopub.status.busy": "2021-02-06T18:02:27.198095Z",
     "iopub.status.idle": "2021-02-06T18:02:27.203570Z",
     "shell.execute_reply": "2021-02-06T18:02:27.204121Z"
    }
   },
   "outputs": [
    {
     "name": "stdout",
     "output_type": "stream",
     "text": [
      "SkyModel\n",
      "\n",
      "  Name                      : source-spectrum\n",
      "  Datasets names            : None\n",
      "  Spectral model type       : PowerLawSpectralModel\n",
      "  Spatial  model type       : \n",
      "  Temporal model type       : \n",
      "  Parameters:\n",
      "    index                   :   2.200              \n",
      "    amplitude               :   2.70e-12  1 / (cm2 s TeV)\n",
      "    reference    (frozen)   :   1.000  TeV         \n",
      "\n",
      "\n"
     ]
    }
   ],
   "source": [
    "model_spectrum = SkyModel(spectral_model=pwl, name=\"source-spectrum\")\n",
    "print(model_spectrum)"
   ]
  },
  {
   "cell_type": "markdown",
   "metadata": {},
   "source": [
    "Additionally the spatial model of `~gammapy.modeling.models.SkyModel` can be used to represent source models based on templates, where the spatial and energy axes are correlated. It can be created e.g. from an existing FITS file:\n",
    "\n"
   ]
  },
  {
   "cell_type": "code",
   "execution_count": 45,
   "metadata": {
    "execution": {
     "iopub.execute_input": "2021-02-06T18:02:27.208240Z",
     "iopub.status.busy": "2021-02-06T18:02:27.207651Z",
     "iopub.status.idle": "2021-02-06T18:02:27.211353Z",
     "shell.execute_reply": "2021-02-06T18:02:27.210763Z"
    }
   },
   "outputs": [],
   "source": [
    "from gammapy.modeling.models import TemplateSpatialModel\n",
    "from gammapy.modeling.models import PowerLawNormSpectralModel"
   ]
  },
  {
   "cell_type": "code",
   "execution_count": 46,
   "metadata": {
    "execution": {
     "iopub.execute_input": "2021-02-06T18:02:27.216186Z",
     "iopub.status.busy": "2021-02-06T18:02:27.214812Z",
     "iopub.status.idle": "2021-02-06T18:02:27.293047Z",
     "shell.execute_reply": "2021-02-06T18:02:27.293544Z"
    }
   },
   "outputs": [
    {
     "name": "stdout",
     "output_type": "stream",
     "text": [
      "SkyModel\n",
      "\n",
      "  Name                      : rJQtP-p4\n",
      "  Datasets names            : None\n",
      "  Spectral model type       : PowerLawNormSpectralModel\n",
      "  Spatial  model type       : TemplateSpatialModel\n",
      "  Temporal model type       : \n",
      "  Parameters:\n",
      "    norm                    :   1.000              \n",
      "    tilt         (frozen)   :   0.000              \n",
      "    reference    (frozen)   :   1.000  TeV         \n",
      "\n",
      "\n"
     ]
    }
   ],
   "source": [
    "diffuse_cube = TemplateSpatialModel.read(\n",
    "    \"$GAMMAPY_DATA/fermi-3fhl-gc/gll_iem_v06_gc.fits.gz\", normalize=False\n",
    ")\n",
    "diffuse = SkyModel(PowerLawNormSpectralModel(), diffuse_cube)\n",
    "print(diffuse)"
   ]
  },
  {
   "cell_type": "markdown",
   "metadata": {},
   "source": [
    "Note that if the spatial model is not normalized over the sky it has to be combined with a normalized spectral model, for example `~gammapy.modeling.models.PowerLawNormSpectralModel`. This is the only case in `gammapy.models.SkyModel` where the unit is fully attached to the spatial model."
   ]
  },
  {
   "cell_type": "markdown",
   "metadata": {},
   "source": [
    "## Model lists and serialisation\n",
    "\n",
    "In a typical analysis scenario a model consists of mutiple model components, or a \"catalog\" or \"source library\". To handle this list of multiple model components, Gammapy has a `Models` class:"
   ]
  },
  {
   "cell_type": "code",
   "execution_count": 47,
   "metadata": {
    "execution": {
     "iopub.execute_input": "2021-02-06T18:02:27.297885Z",
     "iopub.status.busy": "2021-02-06T18:02:27.297172Z",
     "iopub.status.idle": "2021-02-06T18:02:27.301292Z",
     "shell.execute_reply": "2021-02-06T18:02:27.300697Z"
    }
   },
   "outputs": [],
   "source": [
    "from gammapy.modeling.models import Models"
   ]
  },
  {
   "cell_type": "code",
   "execution_count": 48,
   "metadata": {
    "execution": {
     "iopub.execute_input": "2021-02-06T18:02:27.306812Z",
     "iopub.status.busy": "2021-02-06T18:02:27.305514Z",
     "iopub.status.idle": "2021-02-06T18:02:27.308325Z",
     "shell.execute_reply": "2021-02-06T18:02:27.308940Z"
    }
   },
   "outputs": [
    {
     "name": "stdout",
     "output_type": "stream",
     "text": [
      "Models\n",
      "\n",
      "Component 0: SkyModel\n",
      "\n",
      "  Name                      : my-source\n",
      "  Datasets names            : None\n",
      "  Spectral model type       : PowerLawSpectralModel\n",
      "  Spatial  model type       : GaussianSpatialModel\n",
      "  Temporal model type       : GaussianTemporalModel\n",
      "  Parameters:\n",
      "    index                   :   2.200              \n",
      "    amplitude               :   2.70e-12  1 / (cm2 s TeV)\n",
      "    reference    (frozen)   :   1.000  TeV         \n",
      "    lon_0                   :   0.000  deg         \n",
      "    lat_0                   :   0.000  deg         \n",
      "    sigma                   :   0.200  deg         \n",
      "    e            (frozen)   :   0.000              \n",
      "    phi          (frozen)   :   0.000  deg         \n",
      "    t_ref                   : 59240.000  d           \n",
      "    sigma                   :   2.000  d           \n",
      "\n",
      "Component 1: SkyModel\n",
      "\n",
      "  Name                      : rJQtP-p4\n",
      "  Datasets names            : None\n",
      "  Spectral model type       : PowerLawNormSpectralModel\n",
      "  Spatial  model type       : TemplateSpatialModel\n",
      "  Temporal model type       : \n",
      "  Parameters:\n",
      "    norm                    :   1.000              \n",
      "    tilt         (frozen)   :   0.000              \n",
      "    reference    (frozen)   :   1.000  TeV         \n",
      "\n",
      "\n"
     ]
    }
   ],
   "source": [
    "models = Models([model, diffuse])\n",
    "print(models)"
   ]
  },
  {
   "cell_type": "markdown",
   "metadata": {},
   "source": [
    "Individual model components in the list can be accessed by their name:"
   ]
  },
  {
   "cell_type": "code",
   "execution_count": 49,
   "metadata": {
    "execution": {
     "iopub.execute_input": "2021-02-06T18:02:27.314507Z",
     "iopub.status.busy": "2021-02-06T18:02:27.313089Z",
     "iopub.status.idle": "2021-02-06T18:02:27.315883Z",
     "shell.execute_reply": "2021-02-06T18:02:27.316585Z"
    }
   },
   "outputs": [
    {
     "name": "stdout",
     "output_type": "stream",
     "text": [
      "SkyModel\n",
      "\n",
      "  Name                      : my-source\n",
      "  Datasets names            : None\n",
      "  Spectral model type       : PowerLawSpectralModel\n",
      "  Spatial  model type       : GaussianSpatialModel\n",
      "  Temporal model type       : GaussianTemporalModel\n",
      "  Parameters:\n",
      "    index                   :   2.200              \n",
      "    amplitude               :   2.70e-12  1 / (cm2 s TeV)\n",
      "    reference    (frozen)   :   1.000  TeV         \n",
      "    lon_0                   :   0.000  deg         \n",
      "    lat_0                   :   0.000  deg         \n",
      "    sigma                   :   0.200  deg         \n",
      "    e            (frozen)   :   0.000              \n",
      "    phi          (frozen)   :   0.000  deg         \n",
      "    t_ref                   : 59240.000  d           \n",
      "    sigma                   :   2.000  d           \n",
      "\n",
      "\n"
     ]
    }
   ],
   "source": [
    "print(models[\"my-source\"])"
   ]
  },
  {
   "cell_type": "markdown",
   "metadata": {},
   "source": [
    "**Note:**To make the access by name unambiguous, models are required to have a unique name, otherwise an error will be thrown.\n",
    "\n",
    "To see which models are available you can use the `.names` attribute:"
   ]
  },
  {
   "cell_type": "code",
   "execution_count": 50,
   "metadata": {
    "execution": {
     "iopub.execute_input": "2021-02-06T18:02:27.321511Z",
     "iopub.status.busy": "2021-02-06T18:02:27.320342Z",
     "iopub.status.idle": "2021-02-06T18:02:27.322797Z",
     "shell.execute_reply": "2021-02-06T18:02:27.323339Z"
    }
   },
   "outputs": [
    {
     "name": "stdout",
     "output_type": "stream",
     "text": [
      "['my-source', 'rJQtP-p4']\n"
     ]
    }
   ],
   "source": [
    "print(models.names)"
   ]
  },
  {
   "cell_type": "markdown",
   "metadata": {},
   "source": [
    "Note that a `SkyModel` object can be evaluated for a given longitude, latitude, and energy, but the `Models` object cannot. This `Models` container object will be assigned to `Dataset` or `Datasets` together with the data to be fitted as explained in other analysis tutorials (see for example the [modeling](modeling.ipynb) notebook).\n",
    "\n",
    "The `Models` class also has in place `.append()` and `.extend()` methods:"
   ]
  },
  {
   "cell_type": "code",
   "execution_count": 51,
   "metadata": {
    "execution": {
     "iopub.execute_input": "2021-02-06T18:02:27.342781Z",
     "iopub.status.busy": "2021-02-06T18:02:27.333892Z",
     "iopub.status.idle": "2021-02-06T18:02:27.345068Z",
     "shell.execute_reply": "2021-02-06T18:02:27.344566Z"
    }
   },
   "outputs": [],
   "source": [
    "model_copy = model.copy(name=\"my-source-copy\")\n",
    "models.append(model_copy)"
   ]
  },
  {
   "cell_type": "markdown",
   "metadata": {},
   "source": [
    "This list of models can be also serialised to a custom YAML based format: "
   ]
  },
  {
   "cell_type": "code",
   "execution_count": 52,
   "metadata": {
    "execution": {
     "iopub.execute_input": "2021-02-06T18:02:27.359351Z",
     "iopub.status.busy": "2021-02-06T18:02:27.349356Z",
     "iopub.status.idle": "2021-02-06T18:02:27.361497Z",
     "shell.execute_reply": "2021-02-06T18:02:27.362049Z"
    }
   },
   "outputs": [
    {
     "name": "stdout",
     "output_type": "stream",
     "text": [
      "components:\n",
      "-   name: my-source\n",
      "    type: SkyModel\n",
      "    spectral:\n",
      "        type: PowerLawSpectralModel\n",
      "        parameters:\n",
      "        -   name: index\n",
      "            value: 2.2\n",
      "        -   name: amplitude\n",
      "            value: 2.7e-12\n",
      "            unit: cm-2 s-1 TeV-1\n",
      "        -   name: reference\n",
      "            value: 1.0\n",
      "            unit: TeV\n",
      "            frozen: true\n",
      "    spatial:\n",
      "        type: GaussianSpatialModel\n",
      "        frame: galactic\n",
      "        parameters:\n",
      "        -   name: lon_0\n",
      "            value: 0.0\n",
      "            unit: deg\n",
      "        -   name: lat_0\n",
      "            value: 0.0\n",
      "            unit: deg\n",
      "        -   name: sigma\n",
      "            value: 0.2\n",
      "            unit: deg\n",
      "        -   name: e\n",
      "            value: 0.0\n",
      "            frozen: true\n",
      "        -   name: phi\n",
      "            value: 0.0\n",
      "            unit: deg\n",
      "            frozen: true\n",
      "    temporal:\n",
      "        type: GaussianTemporalModel\n",
      "        parameters:\n",
      "        -   name: t_ref\n",
      "            value: 59240.0\n",
      "            unit: d\n",
      "        -   name: sigma\n",
      "            value: 2.0\n",
      "            unit: d\n",
      "-   name: rJQtP-p4\n",
      "    type: SkyModel\n",
      "    spectral:\n",
      "        type: PowerLawNormSpectralModel\n",
      "        parameters:\n",
      "        -   name: norm\n",
      "            value: 1.0\n",
      "        -   name: tilt\n",
      "            value: 0.0\n",
      "            frozen: true\n",
      "        -   name: reference\n",
      "            value: 1.0\n",
      "            unit: TeV\n",
      "            frozen: true\n",
      "    spatial:\n",
      "        type: TemplateSpatialModel\n",
      "        frame: galactic\n",
      "        parameters: []\n",
      "        filename: /home/runner/work/gammapy-docs/gammapy-docs/gammapy-datasets/fermi-3fhl-gc/gll_iem_v06_gc.fits.gz\n",
      "        normalize: false\n",
      "        unit: 1 / (cm2 MeV s sr)\n",
      "-   name: my-source-copy\n",
      "    type: SkyModel\n",
      "    spectral:\n",
      "        type: PowerLawSpectralModel\n",
      "        parameters:\n",
      "        -   name: index\n",
      "            value: 2.2\n",
      "        -   name: amplitude\n",
      "            value: 2.7e-12\n",
      "            unit: cm-2 s-1 TeV-1\n",
      "        -   name: reference\n",
      "            value: 1.0\n",
      "            unit: TeV\n",
      "            frozen: true\n",
      "    spatial:\n",
      "        type: GaussianSpatialModel\n",
      "        frame: galactic\n",
      "        parameters:\n",
      "        -   name: lon_0\n",
      "            value: 0.0\n",
      "            unit: deg\n",
      "        -   name: lat_0\n",
      "            value: 0.0\n",
      "            unit: deg\n",
      "        -   name: sigma\n",
      "            value: 0.2\n",
      "            unit: deg\n",
      "        -   name: e\n",
      "            value: 0.0\n",
      "            frozen: true\n",
      "        -   name: phi\n",
      "            value: 0.0\n",
      "            unit: deg\n",
      "            frozen: true\n",
      "    temporal:\n",
      "        type: GaussianTemporalModel\n",
      "        parameters:\n",
      "        -   name: t_ref\n",
      "            value: 59240.0\n",
      "            unit: d\n",
      "        -   name: sigma\n",
      "            value: 2.0\n",
      "            unit: d\n",
      "\n"
     ]
    }
   ],
   "source": [
    "models_yaml = models.to_yaml()\n",
    "print(models_yaml)"
   ]
  },
  {
   "cell_type": "markdown",
   "metadata": {},
   "source": [
    "The structure of the yaml files follows the structure of the python objects.\n",
    "The `components` listed correspond to the `SkyModel` and `SkyDiffuseCube` components of the `Models`. \n",
    "For each `SkyModel` we have  informations about its `name`, `type` (corresponding to the tag attribute) and sub-mobels (i.e `spectral` model and eventually `spatial` model). Then the spatial and spectral models are defiend by their type and parameters. The `parameters` keys name/value/unit are mandatory, while the keys min/max/frozen are optionnals (so you can prepare shorter files).\n",
    "\n",
    "If you want to write this list of models to disk and read it back later you can use:"
   ]
  },
  {
   "cell_type": "code",
   "execution_count": 53,
   "metadata": {
    "execution": {
     "iopub.execute_input": "2021-02-06T18:02:27.509693Z",
     "iopub.status.busy": "2021-02-06T18:02:27.395735Z",
     "iopub.status.idle": "2021-02-06T18:02:27.525034Z",
     "shell.execute_reply": "2021-02-06T18:02:27.524249Z"
    }
   },
   "outputs": [],
   "source": [
    "models.write(\"models.yaml\", overwrite=True)"
   ]
  },
  {
   "cell_type": "code",
   "execution_count": 54,
   "metadata": {
    "execution": {
     "iopub.execute_input": "2021-02-06T18:02:27.538726Z",
     "iopub.status.busy": "2021-02-06T18:02:27.533480Z",
     "iopub.status.idle": "2021-02-06T18:02:27.645719Z",
     "shell.execute_reply": "2021-02-06T18:02:27.644654Z"
    }
   },
   "outputs": [],
   "source": [
    "models_read = Models.read(\"models.yaml\")"
   ]
  },
  {
   "cell_type": "markdown",
   "metadata": {},
   "source": [
    "Additionally the models can exported and imported togeter with the data using the `Datasets.read()` and `Datasets.write()` methods as shown in the [analysis_mwl](analysis_mwl.ipynb) notebook."
   ]
  },
  {
   "cell_type": "markdown",
   "metadata": {
    "jupyter": {
     "outputs_hidden": false
    }
   },
   "source": [
    "## Implementing a custom model\n",
    "\n",
    "In order to add a user defined spectral model you have to create a SpectralModel subclass.\n",
    "This new model class should include:\n",
    "\n",
    "- a tag used for serialization (it can be the same as the class name)\n",
    "- an instantiation of each Parameter with their unit, default values and frozen status\n",
    "- the evaluate function where the mathematical expression for the model is defined.\n",
    "\n",
    "As an example we will use a PowerLawSpectralModel plus a Gaussian (with fixed width).\n",
    "First we define the new custom model class that we name `MyCustomSpectralModel`:"
   ]
  },
  {
   "cell_type": "code",
   "execution_count": 55,
   "metadata": {
    "execution": {
     "iopub.execute_input": "2021-02-06T18:02:27.653506Z",
     "iopub.status.busy": "2021-02-06T18:02:27.652978Z",
     "iopub.status.idle": "2021-02-06T18:02:27.656787Z",
     "shell.execute_reply": "2021-02-06T18:02:27.656075Z"
    }
   },
   "outputs": [],
   "source": [
    "from gammapy.modeling.models import SpectralModel, Parameter\n",
    "\n",
    "\n",
    "class MyCustomSpectralModel(SpectralModel):\n",
    "    \"\"\"My custom spectral model, parametrising a power law plus a Gaussian spectral line.\n",
    "\n",
    "    Parameters\n",
    "    ----------\n",
    "    amplitude : `astropy.units.Quantity`\n",
    "        Amplitude of the spectra model.\n",
    "    index : `astropy.units.Quantity`\n",
    "        Spectral index of the model.\n",
    "    reference : `astropy.units.Quantity`\n",
    "        Reference energy of the power law.\n",
    "    mean : `astropy.units.Quantity`\n",
    "        Mean value of the Gaussian.\n",
    "    width : `astropy.units.Quantity`\n",
    "        Sigma width of the Gaussian line.\n",
    "\n",
    "    \"\"\"\n",
    "\n",
    "    tag = \"MyCustomSpectralModel\"\n",
    "    amplitude = Parameter(\"amplitude\", \"1e-12 cm-2 s-1 TeV-1\", min=0)\n",
    "    index = Parameter(\"index\", 2, min=0)\n",
    "    reference = Parameter(\"reference\", \"1 TeV\", frozen=True)\n",
    "    mean = Parameter(\"mean\", \"1 TeV\", min=0)\n",
    "    width = Parameter(\"width\", \"0.1 TeV\", min=0, frozen=True)\n",
    "\n",
    "    @staticmethod\n",
    "    def evaluate(energy, index, amplitude, reference, mean, width):\n",
    "        pwl = PowerLawSpectralModel.evaluate(\n",
    "            energy=energy,\n",
    "            index=index,\n",
    "            amplitude=amplitude,\n",
    "            reference=reference,\n",
    "        )\n",
    "        gauss = amplitude * np.exp(-((energy - mean) ** 2) / (2 * width ** 2))\n",
    "        return pwl + gauss"
   ]
  },
  {
   "cell_type": "markdown",
   "metadata": {},
   "source": [
    "It is good practice to also implement a docstring for the model, defining the parameters and also definig a `tag`, which specifies the name of the model for serialisation. Also note that gammapy assumes that all SpectralModel evaluate functions return a flux in unit of `\"cm-2 s-1 TeV-1\"` (or equivalent dimensions).\n",
    "\n",
    "\n",
    "\n",
    "This model can now be used as any other spectral model in Gammapy:"
   ]
  },
  {
   "cell_type": "code",
   "execution_count": 56,
   "metadata": {
    "execution": {
     "iopub.execute_input": "2021-02-06T18:02:27.663483Z",
     "iopub.status.busy": "2021-02-06T18:02:27.662941Z",
     "iopub.status.idle": "2021-02-06T18:02:27.667625Z",
     "shell.execute_reply": "2021-02-06T18:02:27.666801Z"
    }
   },
   "outputs": [
    {
     "name": "stdout",
     "output_type": "stream",
     "text": [
      "MyCustomSpectralModel\n",
      "\n",
      "  type      name     value         unit         min    max frozen   error  \n",
      "-------- --------- ---------- -------------- --------- --- ------ ---------\n",
      "spectral amplitude 1.0000e-12 cm-2 s-1 TeV-1 0.000e+00 nan  False 0.000e+00\n",
      "spectral     index 2.0000e+00                0.000e+00 nan  False 0.000e+00\n",
      "spectral reference 1.0000e+00            TeV       nan nan   True 0.000e+00\n",
      "spectral      mean 3.0000e+00            TeV 0.000e+00 nan  False 0.000e+00\n",
      "spectral     width 1.0000e-01            TeV 0.000e+00 nan   True 0.000e+00\n"
     ]
    }
   ],
   "source": [
    "my_custom_model = MyCustomSpectralModel(mean=\"3 TeV\")\n",
    "print(my_custom_model)"
   ]
  },
  {
   "cell_type": "code",
   "execution_count": 57,
   "metadata": {
    "execution": {
     "iopub.execute_input": "2021-02-06T18:02:27.674468Z",
     "iopub.status.busy": "2021-02-06T18:02:27.673835Z",
     "iopub.status.idle": "2021-02-06T18:02:27.679898Z",
     "shell.execute_reply": "2021-02-06T18:02:27.680739Z"
    }
   },
   "outputs": [
    {
     "data": {
      "text/latex": [
       "$$1.1442739 \\times 10^{-12} \\; \\mathrm{\\frac{1}{s\\,cm^{2}}}$$"
      ],
      "text/plain": [
       "<Quantity 1.14427393e-12 1 / (cm2 s)>"
      ]
     },
     "execution_count": 1,
     "metadata": {},
     "output_type": "execute_result"
    }
   ],
   "source": [
    "my_custom_model.integral(1 * u.TeV, 10 * u.TeV)"
   ]
  },
  {
   "cell_type": "code",
   "execution_count": 58,
   "metadata": {
    "execution": {
     "iopub.execute_input": "2021-02-06T18:02:27.705181Z",
     "iopub.status.busy": "2021-02-06T18:02:27.703488Z",
     "iopub.status.idle": "2021-02-06T18:02:28.348477Z",
     "shell.execute_reply": "2021-02-06T18:02:28.347862Z"
    }
   },
   "outputs": [
    {
     "name": "stderr",
     "output_type": "stream",
     "text": [
      "/home/runner/work/gammapy-docs/gammapy-docs/gammapy/gammapy/modeling/models/spectral.py:386: MatplotlibDeprecationWarning: The 'nonposx' parameter of __init__() has been renamed 'nonpositive' since Matplotlib 3.3; support for the old name will be dropped two minor releases later.\n",
      "  ax.set_xscale(\"log\", nonposx=\"clip\")\n",
      "/home/runner/work/gammapy-docs/gammapy-docs/gammapy/gammapy/modeling/models/spectral.py:387: MatplotlibDeprecationWarning: The 'nonposy' parameter of __init__() has been renamed 'nonpositive' since Matplotlib 3.3; support for the old name will be dropped two minor releases later.\n",
      "  ax.set_yscale(\"log\", nonposy=\"clip\")\n"
     ]
    },
    {
     "data": {
      "text/plain": [
       "<AxesSubplot:xlabel='Energy [TeV]', ylabel='Flux [1 / (cm2 s TeV)]'>"
      ]
     },
     "execution_count": 1,
     "metadata": {},
     "output_type": "execute_result"
    },
    {
     "data": {
      "image/png": "[encoded data removed]",
      "text/plain": [
       "<Figure size 432x288 with 1 Axes>"
      ]
     },
     "metadata": {
      "needs_background": "light"
     },
     "output_type": "display_data"
    }
   ],
   "source": [
    "my_custom_model.plot(energy_range=[1, 10] * u.TeV)"
   ]
  },
  {
   "cell_type": "markdown",
   "metadata": {},
   "source": [
    "As a next step we can also register the custom model in the `SPECTRAL_MODELS` registry, so that it becomes available for serilisation:"
   ]
  },
  {
   "cell_type": "code",
   "execution_count": 59,
   "metadata": {
    "execution": {
     "iopub.execute_input": "2021-02-06T18:02:28.352647Z",
     "iopub.status.busy": "2021-02-06T18:02:28.351943Z",
     "iopub.status.idle": "2021-02-06T18:02:28.355417Z",
     "shell.execute_reply": "2021-02-06T18:02:28.355895Z"
    }
   },
   "outputs": [],
   "source": [
    "SPECTRAL_MODEL_REGISTRY.append(MyCustomSpectralModel)"
   ]
  },
  {
   "cell_type": "code",
   "execution_count": 60,
   "metadata": {
    "execution": {
     "iopub.execute_input": "2021-02-06T18:02:28.372659Z",
     "iopub.status.busy": "2021-02-06T18:02:28.367388Z",
     "iopub.status.idle": "2021-02-06T18:02:28.382273Z",
     "shell.execute_reply": "2021-02-06T18:02:28.381631Z"
    }
   },
   "outputs": [],
   "source": [
    "model = SkyModel(spectral_model=my_custom_model, name=\"my-source\")\n",
    "models = Models([model])\n",
    "models.write(\"my-custom-models.yaml\", overwrite=True)"
   ]
  },
  {
   "cell_type": "code",
   "execution_count": 61,
   "metadata": {
    "execution": {
     "iopub.execute_input": "2021-02-06T18:02:28.391263Z",
     "iopub.status.busy": "2021-02-06T18:02:28.386310Z",
     "iopub.status.idle": "2021-02-06T18:02:28.538134Z",
     "shell.execute_reply": "2021-02-06T18:02:28.537512Z"
    }
   },
   "outputs": [
    {
     "name": "stdout",
     "output_type": "stream",
     "text": [
      "components:\r\n",
      "-   name: my-source\r\n",
      "    type: SkyModel\r\n",
      "    spectral:\r\n",
      "        type: MyCustomSpectralModel\r\n",
      "        parameters:\r\n",
      "        -   name: amplitude\r\n",
      "            value: 1.0e-12\r\n",
      "            unit: cm-2 s-1 TeV-1\r\n",
      "        -   name: index\r\n",
      "            value: 2.0\r\n",
      "        -   name: reference\r\n",
      "            value: 1.0\r\n",
      "            unit: TeV\r\n",
      "            frozen: true\r\n",
      "        -   name: mean\r\n",
      "            value: 3.0\r\n",
      "            unit: TeV\r\n",
      "        -   name: width\r\n",
      "            value: 0.1\r\n",
      "            unit: TeV\r\n",
      "            frozen: true\r\n",
      "covariance: my-custom-models_covariance.dat\r\n"
     ]
    }
   ],
   "source": [
    "!cat my-custom-models.yaml"
   ]
  },
  {
   "cell_type": "markdown",
   "metadata": {},
   "source": [
    "Similarly you can also create custom spatial models and add them to the `SPATIAL_MODELS` registry. In that case gammapy assumes that the evaluate function return a normalized quantity in \"sr-1\" such as the model integral over the whole sky is one."
   ]
  },
  {
   "cell_type": "markdown",
   "metadata": {},
   "source": [
    "## Models with energy dependent morphology\n",
    "\n",
    "A common science case in the study of extended sources is to probe for energy dependent morphology, eg: in Supernova Remnants or Pulsar Wind Nebulae. Traditionally, this has been done by splitting the data into energy bands and doing individual fits of the morphology in these energy bands.\n",
    "\n",
    "`SkyModel` offers a natural framework to simultaneously model the energy and morphology, e.g. spatial extent described by a parametric model expression with energy dependent parameters.\n",
    "\n",
    "The models shipped within gammapy use a “factorised” representation of the source model, where the spatial ($l,b$), energy ($E$) and time ($t$) dependence are independent model components and not correlated:\n",
    "\n",
    "   $$f(l, b, E, t) = F(l, b) \\cdot G(E) \\cdot H(t) $$\n",
    "    \n",
    "To use full 3D models, ie $f(l, b, E) = F(l, b, E) \\cdot G(E) $,  you have to implement your own custom `SpatialModel`. Note that it is still necessary to multiply by a `SpectralModel`, $G(E)$ to be dimensionally consistent.\n",
    "\n",
    "In this example, we create Gaussian Spatial Model with the extension varying with energy. For simplicity, we assume a linear dependence on energy and parameterize this by specifing the extension at 2 energies. You can add more complex dependences, probably motivated by physical models."
   ]
  },
  {
   "cell_type": "code",
   "execution_count": 62,
   "metadata": {
    "execution": {
     "iopub.execute_input": "2021-02-06T18:02:28.548822Z",
     "iopub.status.busy": "2021-02-06T18:02:28.548218Z",
     "iopub.status.idle": "2021-02-06T18:02:28.552335Z",
     "shell.execute_reply": "2021-02-06T18:02:28.551589Z"
    }
   },
   "outputs": [],
   "source": [
    "from gammapy.modeling.models import SpatialModel\n",
    "from astropy.coordinates.angle_utilities import angular_separation\n",
    "\n",
    "\n",
    "class MyCustomGaussianModel(SpatialModel):\n",
    "    \"\"\"My custom Energy Dependent Gaussian model.\n",
    "\n",
    "    Parameters\n",
    "    ----------\n",
    "    lon_0, lat_0 : `~astropy.coordinates.Angle`\n",
    "        Center position\n",
    "    sigma_1TeV : `~astropy.coordinates.Angle`\n",
    "        Width of the Gaussian at 1 TeV\n",
    "    sigma_10TeV : `~astropy.coordinates.Angle`\n",
    "        Width of the Gaussian at 10 TeV\n",
    "\n",
    "    \"\"\"\n",
    "\n",
    "    tag = \"MyCustomGaussianModel\"\n",
    "    is_energy_dependent = True\n",
    "    lon_0 = Parameter(\"lon_0\", \"0 deg\")\n",
    "    lat_0 = Parameter(\"lat_0\", \"0 deg\", min=-90, max=90)\n",
    "\n",
    "    sigma_1TeV = Parameter(\"sigma_1TeV\", \"2.0 deg\", min=0)\n",
    "    sigma_10TeV = Parameter(\"sigma_10TeV\", \"0.2 deg\", min=0)\n",
    "\n",
    "    @staticmethod\n",
    "    def evaluate(lon, lat, energy, lon_0, lat_0, sigma_1TeV, sigma_10TeV):\n",
    "\n",
    "        sep = angular_separation(lon, lat, lon_0, lat_0)\n",
    "\n",
    "        # Compute sigma for the given energy using linear interpolation in log energy\n",
    "        sigma_nodes = u.Quantity([sigma_1TeV, sigma_10TeV])\n",
    "        energy_nodes = [1, 10] * u.TeV\n",
    "        log_s = np.log(sigma_nodes.to(\"deg\").value)\n",
    "        log_en = np.log(energy_nodes.to(\"TeV\").value)\n",
    "        log_e = np.log(energy.to(\"TeV\").value)\n",
    "        sigma = np.exp(np.interp(log_e, log_en, log_s)) * u.deg\n",
    "\n",
    "        exponent = -0.5 * (sep / sigma) ** 2\n",
    "        norm = 1 / (2 * np.pi * sigma ** 2)\n",
    "        return norm * np.exp(exponent)"
   ]
  },
  {
   "cell_type": "markdown",
   "metadata": {},
   "source": [
    "Serialisation of this model can be achieved as explained in the previous section.\n",
    "You can now use it as stadard `SpatialModel` in your analysis. Note that this is still a `SpatialModel`, and not a `SkyModel`, so it needs to be multiplied by a `SpectralModel` as before. "
   ]
  },
  {
   "cell_type": "code",
   "execution_count": 63,
   "metadata": {
    "execution": {
     "iopub.execute_input": "2021-02-06T18:02:28.566944Z",
     "iopub.status.busy": "2021-02-06T18:02:28.563542Z",
     "iopub.status.idle": "2021-02-06T18:02:28.570659Z",
     "shell.execute_reply": "2021-02-06T18:02:28.569534Z"
    }
   },
   "outputs": [],
   "source": [
    "spatial_model = MyCustomGaussianModel()\n",
    "spectral_model = PowerLawSpectralModel()\n",
    "sky_model = SkyModel(\n",
    "    spatial_model=spatial_model, spectral_model=spectral_model\n",
    ")"
   ]
  },
  {
   "cell_type": "code",
   "execution_count": 64,
   "metadata": {
    "execution": {
     "iopub.execute_input": "2021-02-06T18:02:28.574259Z",
     "iopub.status.busy": "2021-02-06T18:02:28.573710Z",
     "iopub.status.idle": "2021-02-06T18:02:28.577568Z",
     "shell.execute_reply": "2021-02-06T18:02:28.576843Z"
    }
   },
   "outputs": [],
   "source": [
    "spatial_model.evaluation_radius"
   ]
  },
  {
   "cell_type": "markdown",
   "metadata": {},
   "source": [
    "To visualise it, we evaluate it on a 3D geom. "
   ]
  },
  {
   "cell_type": "code",
   "execution_count": 65,
   "metadata": {
    "execution": {
     "iopub.execute_input": "2021-02-06T18:02:28.585053Z",
     "iopub.status.busy": "2021-02-06T18:02:28.584195Z",
     "iopub.status.idle": "2021-02-06T18:02:29.887480Z",
     "shell.execute_reply": "2021-02-06T18:02:29.888056Z"
    }
   },
   "outputs": [
    {
     "data": {
      "image/png": "[encoded data removed]",
      "text/plain": [
       "<Figure size 864x288 with 6 Axes>"
      ]
     },
     "metadata": {
      "needs_background": "light"
     },
     "output_type": "display_data"
    }
   ],
   "source": [
    "energy_axis = MapAxis.from_energy_bounds(\n",
    "    energy_min=0.1 * u.TeV, energy_max=10.0 * u.TeV, nbin=3, name=\"energy_true\"\n",
    ")\n",
    "geom = WcsGeom.create(\n",
    "    skydir=(0, 0), width=5.0 * u.deg, binsz=0.1, axes=[energy_axis]\n",
    ")\n",
    "spatial_model.plot_grid(geom=geom, add_cbar=True);"
   ]
  },
  {
   "cell_type": "markdown",
   "metadata": {},
   "source": [
    "For computational purposes, it is useful to specify a `evaluation_radius` for `SpatialModels` - this gives a size on which to compute the model. Though optional, it is highly recommened for Custom Spatial Models. This can be done, for ex, by defining the following function inside the above class:"
   ]
  },
  {
   "cell_type": "code",
   "execution_count": 66,
   "metadata": {
    "execution": {
     "iopub.execute_input": "2021-02-06T18:02:29.894704Z",
     "iopub.status.busy": "2021-02-06T18:02:29.894100Z",
     "iopub.status.idle": "2021-02-06T18:02:29.898638Z",
     "shell.execute_reply": "2021-02-06T18:02:29.897528Z"
    }
   },
   "outputs": [],
   "source": [
    "@property\n",
    "def evaluation_radius(self):\n",
    "    \"\"\"Evaluation radius (`~astropy.coordinates.Angle`).\"\"\"\n",
    "    return 5 * np.max([self.sigma_1TeV.value, self.sigma_10TeV.value]) * u.deg"
   ]
  }
 ],
 "metadata": {
  "kernelspec": {
   "display_name": "Python 3",
   "language": "python",
   "name": "python3"
  },
  "language_info": {
   "codemirror_mode": {
    "name": "ipython",
    "version": 3
   },
   "file_extension": ".py",
   "mimetype": "text/x-python",
   "name": "python",
   "nbconvert_exporter": "python",
   "pygments_lexer": "ipython3",
   "version": "3.7.0"
  },
  "latex_envs": {
   "LaTeX_envs_menu_present": true,
   "autoclose": false,
   "autocomplete": true,
   "bibliofile": "biblio.bib",
   "cite_by": "apalike",
   "current_citInitial": 1,
   "eqLabelWithNumbers": true,
   "eqNumInitial": 1,
   "hotkeys": {
    "equation": "Ctrl-E",
    "itemize": "Ctrl-I"
   },
   "labels_anchors": false,
   "latex_user_defs": false,
   "report_style_numbering": false,
   "user_envs_cfg": false
  },
  "nbsphinx": {
   "orphan": true
  }
 },
 "nbformat": 4,
 "nbformat_minor": 4
}
