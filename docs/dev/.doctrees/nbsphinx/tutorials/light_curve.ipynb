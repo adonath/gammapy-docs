{
 "cells": [
  {
   "cell_type": "markdown",
   "metadata": {},
   "source": [
    "\n",
    "<div class=\"alert alert-info\">\n",
    "\n",
    "**This is a fixed-text formatted version of a Jupyter notebook**\n",
    "\n",
    "- Try online [![Binder](https://static.mybinder.org/badge.svg)](https://mybinder.org/v2/gh/gammapy/gammapy-webpage/master?urlpath=lab/tree/light_curve.ipynb)\n",
    "- You can contribute with your own notebooks in this\n",
    "[GitHub repository](https://github.com/gammapy/gammapy/tree/master/docs/tutorials).\n",
    "- **Source files:**\n",
    "[light_curve.ipynb](../_static/notebooks/light_curve.ipynb) |\n",
    "[light_curve.py](../_static/notebooks/light_curve.py)\n",
    "</div>\n"
   ]
  },
  {
   "cell_type": "markdown",
   "metadata": {},
   "source": [
    "# Light curve estimation\n",
    "\n",
    "## Prerequisites\n",
    "\n",
    "- Knowledge of the high level interface to perform data reduction, see [first gammapy analysis with the high level interface tutorial](analysis_1.ipynb)\n",
    "\n",
    "## Context\n",
    "\n",
    "This tutorial presents how light curve extraction is performed in gammapy, i.e. how to measure the flux of a source\n",
    "in different time bins.\n",
    "\n",
    "Cherenkov telescopes usually work with observing runs and distribute data according to this basic time interval. A typical use case is to look for variability of a source on various time binnings: observation run-wise binning, nightly, weekly etc.\n",
    "\n",
    "**Objective: The Crab nebula is not known to be variable at TeV energies, so we expect constant brightness within statistical and systematic errors. Compute per-observation and nightly fluxes of the four Crab nebula observations from the [H.E.S.S. first public test data release](https://www.mpi-hd.mpg.de/hfm/HESS/pages/dl3-dr1/) to check it.**\n",
    "\n",
    "## Proposed approach\n",
    "\n",
    "We will demonstrate how to compute a `~gammapy.estimators.LightCurve` from 3D reduced datasets (`~gammapy.datasets.MapDataset`) as well as 1D ON-OFF spectral datasets (`~gammapy.datasets.SpectrumDatasetOnOff`). \n",
    "\n",
    "The data reduction will be performed with the high level interface for the data reduction. Then we will use the `~gammapy.estimators.LightCurveEstimator` class, which  is able to extract a light curve independently of the dataset type. \n",
    "\n"
   ]
  },
  {
   "cell_type": "markdown",
   "metadata": {},
   "source": [
    "## Setup\n",
    "\n",
    "As usual, we'll start with some general imports..."
   ]
  },
  {
   "cell_type": "code",
   "execution_count": 1,
   "metadata": {
    "execution": {
     "iopub.execute_input": "2020-11-04T16:56:20.510532Z",
     "iopub.status.busy": "2020-11-04T16:56:20.509918Z",
     "iopub.status.idle": "2020-11-04T16:56:21.211148Z",
     "shell.execute_reply": "2020-11-04T16:56:21.210480Z"
    }
   },
   "outputs": [],
   "source": [
    "%matplotlib inline\n",
    "import matplotlib.pyplot as plt\n",
    "\n",
    "import astropy.units as u\n",
    "from astropy.coordinates import SkyCoord\n",
    "import logging\n",
    "\n",
    "from astropy.time import Time\n",
    "\n",
    "log = logging.getLogger(__name__)"
   ]
  },
  {
   "cell_type": "markdown",
   "metadata": {},
   "source": [
    "Now let's import gammapy specific classes and functions"
   ]
  },
  {
   "cell_type": "code",
   "execution_count": 2,
   "metadata": {
    "execution": {
     "iopub.execute_input": "2020-11-04T16:56:21.217865Z",
     "iopub.status.busy": "2020-11-04T16:56:21.214890Z",
     "iopub.status.idle": "2020-11-04T16:56:21.961359Z",
     "shell.execute_reply": "2020-11-04T16:56:21.959735Z"
    }
   },
   "outputs": [],
   "source": [
    "from gammapy.modeling.models import PowerLawSpectralModel\n",
    "from gammapy.modeling.models import PointSpatialModel\n",
    "from gammapy.modeling.models import SkyModel, Models\n",
    "from gammapy.estimators import LightCurveEstimator\n",
    "from gammapy.analysis import Analysis, AnalysisConfig"
   ]
  },
  {
   "cell_type": "markdown",
   "metadata": {},
   "source": [
    "## Analysis configuration \n",
    "For the 1D and 3D extraction, we will use the same CrabNebula configuration than in the notebook analysis_1.ipynb using the high level interface of Gammapy.\n",
    "\n",
    "From the high level interface, the data reduction for those observations is performed as followed"
   ]
  },
  {
   "cell_type": "markdown",
   "metadata": {},
   "source": [
    "### Building the 3D analysis configuration\n"
   ]
  },
  {
   "cell_type": "code",
   "execution_count": 3,
   "metadata": {
    "execution": {
     "iopub.execute_input": "2020-11-04T16:56:21.967923Z",
     "iopub.status.busy": "2020-11-04T16:56:21.967324Z",
     "iopub.status.idle": "2020-11-04T16:56:21.969953Z",
     "shell.execute_reply": "2020-11-04T16:56:21.970390Z"
    }
   },
   "outputs": [],
   "source": [
    "conf_3d = AnalysisConfig()"
   ]
  },
  {
   "cell_type": "markdown",
   "metadata": {},
   "source": [
    "#### Definition of the data selection\n",
    "\n",
    "Here we use the Crab runs from the HESS DL3 data release 1"
   ]
  },
  {
   "cell_type": "code",
   "execution_count": 4,
   "metadata": {
    "execution": {
     "iopub.execute_input": "2020-11-04T16:56:21.976296Z",
     "iopub.status.busy": "2020-11-04T16:56:21.973884Z",
     "iopub.status.idle": "2020-11-04T16:56:21.978145Z",
     "shell.execute_reply": "2020-11-04T16:56:21.978849Z"
    }
   },
   "outputs": [],
   "source": [
    "conf_3d.observations.obs_ids = [23523, 23526, 23559, 23592]"
   ]
  },
  {
   "cell_type": "markdown",
   "metadata": {},
   "source": [
    "#### Definition of the dataset geometry"
   ]
  },
  {
   "cell_type": "code",
   "execution_count": 5,
   "metadata": {
    "execution": {
     "iopub.execute_input": "2020-11-04T16:56:21.988321Z",
     "iopub.status.busy": "2020-11-04T16:56:21.986940Z",
     "iopub.status.idle": "2020-11-04T16:56:21.988917Z",
     "shell.execute_reply": "2020-11-04T16:56:21.989541Z"
    }
   },
   "outputs": [],
   "source": [
    "# We want a 3D analysis\n",
    "conf_3d.datasets.type = \"3d\"\n",
    "\n",
    "# We want to extract the data by observation and therefore to not stack them\n",
    "conf_3d.datasets.stack = False\n",
    "\n",
    "# Here is the WCS geometry of the Maps\n",
    "conf_3d.datasets.geom.wcs.skydir = dict(\n",
    "    frame=\"icrs\", lon=83.63308 * u.deg, lat=22.01450 * u.deg\n",
    ")\n",
    "conf_3d.datasets.geom.wcs.binsize = 0.02 * u.deg\n",
    "conf_3d.datasets.geom.wcs.fov = dict(width=1 * u.deg, height=1 * u.deg)\n",
    "\n",
    "# We define a value for the IRF Maps binsize\n",
    "conf_3d.datasets.geom.wcs.binsize_irf = 0.2 * u.deg\n",
    "\n",
    "# Define energy binning for the Maps\n",
    "conf_3d.datasets.geom.axes.energy = dict(\n",
    "    min=0.7 * u.TeV, max=10 * u.TeV, nbins=5\n",
    ")\n",
    "conf_3d.datasets.geom.axes.energy_true = dict(\n",
    "    min=0.3 * u.TeV, max=20 * u.TeV, nbins=20\n",
    ")"
   ]
  },
  {
   "cell_type": "markdown",
   "metadata": {},
   "source": [
    "### Run the 3D data reduction"
   ]
  },
  {
   "cell_type": "code",
   "execution_count": 6,
   "metadata": {
    "execution": {
     "iopub.execute_input": "2020-11-04T16:56:21.994441Z",
     "iopub.status.busy": "2020-11-04T16:56:21.993894Z",
     "iopub.status.idle": "2020-11-04T16:56:24.706087Z",
     "shell.execute_reply": "2020-11-04T16:56:24.705512Z"
    }
   },
   "outputs": [
    {
     "name": "stderr",
     "output_type": "stream",
     "text": [
      "Setting logging config: {'level': 'INFO', 'filename': None, 'filemode': None, 'format': None, 'datefmt': None}\n",
      "Fetching observations.\n",
      "Number of selected observations: 4\n",
      "Creating geometry.\n",
      "Creating datasets.\n",
      "No background maker set for 3d analysis. Check configuration.\n",
      "Processing observation 23523\n",
      "Processing observation 23526\n",
      "Processing observation 23559\n",
      "Processing observation 23592\n"
     ]
    }
   ],
   "source": [
    "analysis_3d = Analysis(conf_3d)\n",
    "analysis_3d.get_observations()\n",
    "analysis_3d.get_datasets()"
   ]
  },
  {
   "cell_type": "markdown",
   "metadata": {},
   "source": [
    "### Define the model to be used\n",
    "\n",
    "Here we don't try to fit the model parameters to the whole dataset, but we use predefined values instead. "
   ]
  },
  {
   "cell_type": "code",
   "execution_count": 7,
   "metadata": {
    "execution": {
     "iopub.execute_input": "2020-11-04T16:56:24.735195Z",
     "iopub.status.busy": "2020-11-04T16:56:24.718549Z",
     "iopub.status.idle": "2020-11-04T16:56:24.738468Z",
     "shell.execute_reply": "2020-11-04T16:56:24.737948Z"
    }
   },
   "outputs": [],
   "source": [
    "target_position = SkyCoord(ra=83.63308, dec=22.01450, unit=\"deg\")\n",
    "spatial_model = PointSpatialModel(\n",
    "    lon_0=target_position.ra, lat_0=target_position.dec, frame=\"icrs\"\n",
    ")\n",
    "\n",
    "spectral_model = PowerLawSpectralModel(\n",
    "    index=2.702,\n",
    "    amplitude=4.712e-11 * u.Unit(\"1 / (cm2 s TeV)\"),\n",
    "    reference=1 * u.TeV,\n",
    ")\n",
    "\n",
    "sky_model = SkyModel(\n",
    "    spatial_model=spatial_model, spectral_model=spectral_model, name=\"crab\"\n",
    ")\n",
    "# Now we freeze these parameters that we don't want the light curve estimator to change\n",
    "sky_model.parameters[\"index\"].frozen = True\n",
    "sky_model.parameters[\"lon_0\"].frozen = True\n",
    "sky_model.parameters[\"lat_0\"].frozen = True"
   ]
  },
  {
   "cell_type": "markdown",
   "metadata": {},
   "source": [
    "We assign them the model to be fitted to each dataset"
   ]
  },
  {
   "cell_type": "code",
   "execution_count": 8,
   "metadata": {
    "execution": {
     "iopub.execute_input": "2020-11-04T16:56:24.747164Z",
     "iopub.status.busy": "2020-11-04T16:56:24.743593Z",
     "iopub.status.idle": "2020-11-04T16:56:25.508534Z",
     "shell.execute_reply": "2020-11-04T16:56:25.509107Z"
    }
   },
   "outputs": [
    {
     "name": "stderr",
     "output_type": "stream",
     "text": [
      "Reading model.\n",
      "Models\n",
      "\n",
      "Component 0: SkyModel\n",
      "\n",
      "  Name                      : crab\n",
      "  Datasets names            : None\n",
      "  Spectral model type       : PowerLawSpectralModel\n",
      "  Spatial  model type       : PointSpatialModel\n",
      "  Temporal model type       : \n",
      "  Parameters:\n",
      "    index        (frozen)   :   2.702              \n",
      "    amplitude               :   4.71e-11  1 / (cm2 s TeV)\n",
      "    reference    (frozen)   :   1.000  TeV         \n",
      "    lon_0        (frozen)   :  83.633  deg         \n",
      "    lat_0        (frozen)   :  22.015  deg         \n",
      "\n",
      "Component 1: FoVBackgroundModel\n",
      "\n",
      "  Name                      : 7gvsJkJ1-bkg\n",
      "  Datasets names            : ['7gvsJkJ1']\n",
      "  Spectral model type       : PowerLawNormSpectralModel\n",
      "  Parameters:\n",
      "    norm                    :   1.000              \n",
      "    tilt         (frozen)   :   0.000              \n",
      "    reference    (frozen)   :   1.000  TeV         \n",
      "\n",
      "Component 2: FoVBackgroundModel\n",
      "\n",
      "  Name                      : iYiCy19V-bkg\n",
      "  Datasets names            : ['iYiCy19V']\n",
      "  Spectral model type       : PowerLawNormSpectralModel\n",
      "  Parameters:\n",
      "    norm                    :   1.000              \n",
      "    tilt         (frozen)   :   0.000              \n",
      "    reference    (frozen)   :   1.000  TeV         \n",
      "\n",
      "Component 3: FoVBackgroundModel\n",
      "\n",
      "  Name                      : HTZ2kCYO-bkg\n",
      "  Datasets names            : ['HTZ2kCYO']\n",
      "  Spectral model type       : PowerLawNormSpectralModel\n",
      "  Parameters:\n",
      "    norm                    :   1.000              \n",
      "    tilt         (frozen)   :   0.000              \n",
      "    reference    (frozen)   :   1.000  TeV         \n",
      "\n",
      "Component 4: FoVBackgroundModel\n",
      "\n",
      "  Name                      : wYDiKL0B-bkg\n",
      "  Datasets names            : ['wYDiKL0B']\n",
      "  Spectral model type       : PowerLawNormSpectralModel\n",
      "  Parameters:\n",
      "    norm                    :   1.000              \n",
      "    tilt         (frozen)   :   0.000              \n",
      "    reference    (frozen)   :   1.000  TeV         \n",
      "\n",
      "\n"
     ]
    }
   ],
   "source": [
    "models = Models([sky_model])\n",
    "analysis_3d.set_models(models)"
   ]
  },
  {
   "cell_type": "markdown",
   "metadata": {},
   "source": [
    "## Light Curve estimation: by observation\n",
    "\n",
    "We can now create the light curve estimator.\n",
    "\n",
    "We pass it the list of datasets and the name of the model component for which we want to build the light curve. \n",
    "We can optionally ask for parameters reoptimization during fit, that is most of the time to fit background normalization in each time bin. \n",
    "\n",
    "If we don't set any time interval, the `~gammapy.time.LightCurveEstimator` is determines the flux of each dataset and places it at the corresponding time in the light curve. \n",
    "Here one dataset equals to one observing run."
   ]
  },
  {
   "cell_type": "code",
   "execution_count": 9,
   "metadata": {
    "execution": {
     "iopub.execute_input": "2020-11-04T16:56:25.544236Z",
     "iopub.status.busy": "2020-11-04T16:56:25.542645Z",
     "iopub.status.idle": "2020-11-04T16:56:29.681903Z",
     "shell.execute_reply": "2020-11-04T16:56:29.682392Z"
    }
   },
   "outputs": [],
   "source": [
    "lc_maker_3d = LightCurveEstimator(\n",
    "    energy_edges=[1, 10] * u.TeV, source=\"crab\", reoptimize=False\n",
    ")\n",
    "lc_3d = lc_maker_3d.run(analysis_3d.datasets)"
   ]
  },
  {
   "cell_type": "markdown",
   "metadata": {},
   "source": [
    "The LightCurve object contains a table which we can explore."
   ]
  },
  {
   "cell_type": "code",
   "execution_count": 10,
   "metadata": {
    "execution": {
     "iopub.execute_input": "2020-11-04T16:56:29.691668Z",
     "iopub.status.busy": "2020-11-04T16:56:29.691012Z",
     "iopub.status.idle": "2020-11-04T16:56:29.706196Z",
     "shell.execute_reply": "2020-11-04T16:56:29.705681Z"
    }
   },
   "outputs": [
    {
     "data": {
      "text/html": [
       "<i>Table length=4</i>\n",
       "<table id=\"table139751497221624\" class=\"table-striped table-bordered table-condensed\">\n",
       "<thead><tr><th>time_min</th><th>time_max</th><th>e_min [1]</th><th>e_max [1]</th><th>flux [1]</th><th>flux_err [1]</th></tr></thead>\n",
       "<thead><tr><th></th><th></th><th>TeV</th><th>TeV</th><th>1 / (cm2 s)</th><th>1 / (cm2 s)</th></tr></thead>\n",
       "<thead><tr><th>float64</th><th>float64</th><th>float64</th><th>float64</th><th>float64</th><th>float64</th></tr></thead>\n",
       "<tr><td>53343.92234009259</td><td>53343.94186555555</td><td>1.191457161449437</td><td>10.000000000000002</td><td>2.0044854222687593e-11</td><td>2.0855480821723153e-12</td></tr>\n",
       "<tr><td>53343.95421509259</td><td>53343.97369425926</td><td>1.191457161449437</td><td>10.000000000000002</td><td>2.034368084831858e-11</td><td>2.1126979667880576e-12</td></tr>\n",
       "<tr><td>53345.96198129629</td><td>53345.98149518518</td><td>1.191457161449437</td><td>10.000000000000002</td><td>2.148952357355997e-11</td><td>2.748098330055948e-12</td></tr>\n",
       "<tr><td>53347.91319657407</td><td>53347.932710462956</td><td>1.191457161449437</td><td>10.000000000000002</td><td>2.4756084063769992e-11</td><td>2.875830787865431e-12</td></tr>\n",
       "</table>"
      ],
      "text/plain": [
       "<Table length=4>\n",
       "     time_min          time_max      ...      flux_err [1]     \n",
       "                                     ...      1 / (cm2 s)      \n",
       "     float64           float64       ...        float64        \n",
       "----------------- ------------------ ... ----------------------\n",
       "53343.92234009259  53343.94186555555 ... 2.0855480821723153e-12\n",
       "53343.95421509259  53343.97369425926 ... 2.1126979667880576e-12\n",
       "53345.96198129629  53345.98149518518 ...  2.748098330055948e-12\n",
       "53347.91319657407 53347.932710462956 ...  2.875830787865431e-12"
      ]
     },
     "execution_count": 1,
     "metadata": {},
     "output_type": "execute_result"
    }
   ],
   "source": [
    "lc_3d.table[\"time_min\", \"time_max\", \"e_min\", \"e_max\", \"flux\", \"flux_err\"]"
   ]
  },
  {
   "cell_type": "markdown",
   "metadata": {},
   "source": [
    "## Running the light curve extraction in 1D"
   ]
  },
  {
   "cell_type": "markdown",
   "metadata": {},
   "source": [
    "### Building the 1D analysis configuration\n"
   ]
  },
  {
   "cell_type": "code",
   "execution_count": 11,
   "metadata": {
    "execution": {
     "iopub.execute_input": "2020-11-04T16:56:29.712256Z",
     "iopub.status.busy": "2020-11-04T16:56:29.710912Z",
     "iopub.status.idle": "2020-11-04T16:56:29.712849Z",
     "shell.execute_reply": "2020-11-04T16:56:29.713435Z"
    }
   },
   "outputs": [],
   "source": [
    "conf_1d = AnalysisConfig()"
   ]
  },
  {
   "cell_type": "markdown",
   "metadata": {},
   "source": [
    "#### Definition of the data selection\n",
    "\n",
    "Here we use the Crab runs from the HESS DL3 data release 1"
   ]
  },
  {
   "cell_type": "code",
   "execution_count": 12,
   "metadata": {
    "execution": {
     "iopub.execute_input": "2020-11-04T16:56:29.718257Z",
     "iopub.status.busy": "2020-11-04T16:56:29.716934Z",
     "iopub.status.idle": "2020-11-04T16:56:29.718950Z",
     "shell.execute_reply": "2020-11-04T16:56:29.719574Z"
    }
   },
   "outputs": [],
   "source": [
    "conf_1d.observations.obs_ids = [23523, 23526, 23559, 23592]"
   ]
  },
  {
   "cell_type": "markdown",
   "metadata": {},
   "source": [
    "#### Definition of the dataset geometry"
   ]
  },
  {
   "cell_type": "code",
   "execution_count": 13,
   "metadata": {
    "execution": {
     "iopub.execute_input": "2020-11-04T16:56:29.727356Z",
     "iopub.status.busy": "2020-11-04T16:56:29.725795Z",
     "iopub.status.idle": "2020-11-04T16:56:29.727967Z",
     "shell.execute_reply": "2020-11-04T16:56:29.728580Z"
    }
   },
   "outputs": [],
   "source": [
    "# We want a 1D analysis\n",
    "conf_1d.datasets.type = \"1d\"\n",
    "\n",
    "# We want to extract the data by observation and therefore to not stack them\n",
    "conf_1d.datasets.stack = False\n",
    "\n",
    "# Here we define the ON region and make sure that PSF leakage is corrected\n",
    "conf_1d.datasets.on_region = dict(\n",
    "    frame=\"icrs\",\n",
    "    lon=83.63308 * u.deg,\n",
    "    lat=22.01450 * u.deg,\n",
    "    radius=0.1 * u.deg,\n",
    ")\n",
    "conf_1d.datasets.containment_correction = True\n",
    "\n",
    "# Finally we define the energy binning for the spectra\n",
    "conf_1d.datasets.geom.axes.energy = dict(\n",
    "    min=0.7 * u.TeV, max=10 * u.TeV, nbins=5\n",
    ")\n",
    "conf_1d.datasets.geom.axes.energy_true = dict(\n",
    "    min=0.3 * u.TeV, max=20 * u.TeV, nbins=20\n",
    ")"
   ]
  },
  {
   "cell_type": "markdown",
   "metadata": {},
   "source": [
    "### Run the 1D data reduction"
   ]
  },
  {
   "cell_type": "code",
   "execution_count": 14,
   "metadata": {
    "execution": {
     "iopub.execute_input": "2020-11-04T16:56:29.733806Z",
     "iopub.status.busy": "2020-11-04T16:56:29.733127Z",
     "iopub.status.idle": "2020-11-04T16:56:31.517574Z",
     "shell.execute_reply": "2020-11-04T16:56:31.516697Z"
    }
   },
   "outputs": [
    {
     "name": "stderr",
     "output_type": "stream",
     "text": [
      "Setting logging config: {'level': 'INFO', 'filename': None, 'filemode': None, 'format': None, 'datefmt': None}\n",
      "Fetching observations.\n",
      "Number of selected observations: 4\n",
      "Reducing spectrum datasets.\n",
      "No background maker set for 1d analysis. Check configuration.\n",
      "Processing observation 23523\n",
      "Processing observation 23526\n",
      "Processing observation 23559\n",
      "Processing observation 23592\n"
     ]
    }
   ],
   "source": [
    "analysis_1d = Analysis(conf_1d)\n",
    "analysis_1d.get_observations()\n",
    "analysis_1d.get_datasets()"
   ]
  },
  {
   "cell_type": "markdown",
   "metadata": {},
   "source": [
    "### Define the model to be used\n",
    "\n",
    "Here we don't try to fit the model parameters to the whole dataset, but we use predefined values instead. "
   ]
  },
  {
   "cell_type": "code",
   "execution_count": 15,
   "metadata": {
    "execution": {
     "iopub.execute_input": "2020-11-04T16:56:31.549417Z",
     "iopub.status.busy": "2020-11-04T16:56:31.533647Z",
     "iopub.status.idle": "2020-11-04T16:56:31.553798Z",
     "shell.execute_reply": "2020-11-04T16:56:31.553030Z"
    }
   },
   "outputs": [],
   "source": [
    "target_position = SkyCoord(ra=83.63308, dec=22.01450, unit=\"deg\")\n",
    "spatial_model = PointSpatialModel(\n",
    "    lon_0=target_position.ra, lat_0=target_position.dec, frame=\"icrs\"\n",
    ")\n",
    "\n",
    "spectral_model = PowerLawSpectralModel(\n",
    "    index=2.702,\n",
    "    amplitude=4.712e-11 * u.Unit(\"1 / (cm2 s TeV)\"),\n",
    "    reference=1 * u.TeV,\n",
    ")\n",
    "\n",
    "sky_model = SkyModel(\n",
    "    spatial_model=spatial_model, spectral_model=spectral_model, name=\"crab\"\n",
    ")\n",
    "# Now we freeze these parameters that we don't want the light curve estimator to change\n",
    "sky_model.parameters[\"index\"].frozen = True\n",
    "sky_model.parameters[\"lon_0\"].frozen = True\n",
    "sky_model.parameters[\"lat_0\"].frozen = True"
   ]
  },
  {
   "cell_type": "markdown",
   "metadata": {},
   "source": [
    "We assign the model to be fitted to each dataset. We can use the same `~gammapy.modeling.models.SkyModel` as before."
   ]
  },
  {
   "cell_type": "code",
   "execution_count": 16,
   "metadata": {
    "execution": {
     "iopub.execute_input": "2020-11-04T16:56:31.558250Z",
     "iopub.status.busy": "2020-11-04T16:56:31.557622Z",
     "iopub.status.idle": "2020-11-04T16:56:31.576607Z",
     "shell.execute_reply": "2020-11-04T16:56:31.575966Z"
    }
   },
   "outputs": [
    {
     "name": "stderr",
     "output_type": "stream",
     "text": [
      "Reading model.\n",
      "Models\n",
      "\n",
      "Component 0: SkyModel\n",
      "\n",
      "  Name                      : crab\n",
      "  Datasets names            : None\n",
      "  Spectral model type       : PowerLawSpectralModel\n",
      "  Spatial  model type       : PointSpatialModel\n",
      "  Temporal model type       : \n",
      "  Parameters:\n",
      "    index        (frozen)   :   2.702              \n",
      "    amplitude               :   4.71e-11  1 / (cm2 s TeV)\n",
      "    reference    (frozen)   :   1.000  TeV         \n",
      "    lon_0        (frozen)   :  83.633  deg         \n",
      "    lat_0        (frozen)   :  22.015  deg         \n",
      "\n",
      "Component 1: FoVBackgroundModel\n",
      "\n",
      "  Name                      : ohl5FPb9-bkg\n",
      "  Datasets names            : ['ohl5FPb9']\n",
      "  Spectral model type       : PowerLawNormSpectralModel\n",
      "  Parameters:\n",
      "    norm                    :   1.000              \n",
      "    tilt         (frozen)   :   0.000              \n",
      "    reference    (frozen)   :   1.000  TeV         \n",
      "\n",
      "Component 2: FoVBackgroundModel\n",
      "\n",
      "  Name                      : ld6Gj3eB-bkg\n",
      "  Datasets names            : ['ld6Gj3eB']\n",
      "  Spectral model type       : PowerLawNormSpectralModel\n",
      "  Parameters:\n",
      "    norm                    :   1.000              \n",
      "    tilt         (frozen)   :   0.000              \n",
      "    reference    (frozen)   :   1.000  TeV         \n",
      "\n",
      "Component 3: FoVBackgroundModel\n",
      "\n",
      "  Name                      : aEhGF3PX-bkg\n",
      "  Datasets names            : ['aEhGF3PX']\n",
      "  Spectral model type       : PowerLawNormSpectralModel\n",
      "  Parameters:\n",
      "    norm                    :   1.000              \n",
      "    tilt         (frozen)   :   0.000              \n",
      "    reference    (frozen)   :   1.000  TeV         \n",
      "\n",
      "Component 4: FoVBackgroundModel\n",
      "\n",
      "  Name                      : shfWfOMd-bkg\n",
      "  Datasets names            : ['shfWfOMd']\n",
      "  Spectral model type       : PowerLawNormSpectralModel\n",
      "  Parameters:\n",
      "    norm                    :   1.000              \n",
      "    tilt         (frozen)   :   0.000              \n",
      "    reference    (frozen)   :   1.000  TeV         \n",
      "\n",
      "\n"
     ]
    }
   ],
   "source": [
    "models = Models([sky_model])\n",
    "analysis_1d.set_models(models)"
   ]
  },
  {
   "cell_type": "markdown",
   "metadata": {},
   "source": [
    "### Extracting the light curve"
   ]
  },
  {
   "cell_type": "code",
   "execution_count": 17,
   "metadata": {
    "execution": {
     "iopub.execute_input": "2020-11-04T16:56:31.716225Z",
     "iopub.status.busy": "2020-11-04T16:56:31.613903Z",
     "iopub.status.idle": "2020-11-04T16:56:34.324545Z",
     "shell.execute_reply": "2020-11-04T16:56:34.323575Z"
    }
   },
   "outputs": [],
   "source": [
    "lc_maker_1d = LightCurveEstimator(\n",
    "    energy_edges=[1, 10] * u.TeV, source=\"crab\", reoptimize=False\n",
    ")\n",
    "lc_1d = lc_maker_1d.run(analysis_1d.datasets)"
   ]
  },
  {
   "cell_type": "code",
   "execution_count": 18,
   "metadata": {
    "execution": {
     "iopub.execute_input": "2020-11-04T16:56:34.336362Z",
     "iopub.status.busy": "2020-11-04T16:56:34.335748Z",
     "iopub.status.idle": "2020-11-04T16:56:34.342043Z",
     "shell.execute_reply": "2020-11-04T16:56:34.341391Z"
    }
   },
   "outputs": [
    {
     "data": {
      "text/html": [
       "<i>Table length=4</i>\n",
       "<table id=\"table139751505587392\" class=\"table-striped table-bordered table-condensed\">\n",
       "<thead><tr><th>time_min</th><th>time_max</th><th>counts [1]</th><th>e_ref [1]</th><th>e_min [1]</th><th>e_max [1]</th><th>ref_dnde [1]</th><th>ref_flux [1]</th><th>ref_eflux [1]</th><th>ref_e2dnde [1]</th><th>norm [1]</th><th>stat [1]</th><th>success [1]</th><th>norm_err [1]</th><th>ts [1]</th><th>norm_errp [1]</th><th>norm_errn [1]</th><th>norm_ul [1]</th><th>norm_scan [1,11]</th><th>stat_scan [1,11]</th><th>sqrt_ts [1]</th><th>dnde [1]</th><th>dnde_ul [1]</th><th>dnde_err [1]</th><th>dnde_errp [1]</th><th>dnde_errn [1]</th><th>flux [1]</th><th>flux_ul [1]</th><th>flux_err [1]</th><th>flux_errp [1]</th><th>flux_errn [1]</th></tr></thead>\n",
       "<thead><tr><th></th><th></th><th></th><th>TeV</th><th>TeV</th><th>TeV</th><th>1 / (cm2 s TeV)</th><th>1 / (cm2 s)</th><th>TeV / (cm2 s)</th><th>TeV / (cm2 s)</th><th></th><th></th><th></th><th></th><th></th><th></th><th></th><th></th><th></th><th></th><th></th><th>1 / (cm2 s TeV)</th><th>1 / (cm2 s TeV)</th><th>1 / (cm2 s TeV)</th><th>1 / (cm2 s TeV)</th><th>1 / (cm2 s TeV)</th><th>1 / (cm2 s)</th><th>1 / (cm2 s)</th><th>1 / (cm2 s)</th><th>1 / (cm2 s)</th><th>1 / (cm2 s)</th></tr></thead>\n",
       "<thead><tr><th>float64</th><th>float64</th><th>float64</th><th>float64</th><th>float64</th><th>float64</th><th>float64</th><th>float64</th><th>float64</th><th>float64</th><th>float64</th><th>float64</th><th>bool</th><th>float64</th><th>float64</th><th>float64</th><th>float64</th><th>float64</th><th>float64</th><th>float64</th><th>float64</th><th>float64</th><th>float64</th><th>float64</th><th>float64</th><th>float64</th><th>float64</th><th>float64</th><th>float64</th><th>float64</th><th>float64</th></tr></thead>\n",
       "<tr><td>53343.92234009259</td><td>53343.94186555555</td><td>81.0</td><td>3.4517490659800822</td><td>1.191457161449437</td><td>10.000000000000002</td><td>1.657384679989307e-12</td><td>1.9997707038808555e-11</td><td>4.6024352468667415e-11</td><td>1.9747028462498433e-11</td><td>1.1314281414233847</td><td>-344.2582794967987</td><td>True</td><td>0.12571420584955773</td><td>344.2582794967987</td><td>0.13041766353852466</td><td>0.12109931422769406</td><td>1.4018344217467789</td><td>0.20000000000000004 .. 5.000000000000001</td><td>-196.8873194760846 .. -31.081357022800873</td><td>18.5541984331525</td><td>1.8752116681038928e-12</td><td>2.32337889448478e-12</td><td>2.083567988320791e-13</td><td>2.161522375487508e-13</td><td>2.0070814815819124e-13</td><td>2.26259685076485e-11</td><td>2.803347408300968e-11</td><td>2.513995859195928e-12</td><td>2.6080542281293204e-12</td><td>2.4217086085260464e-12</td></tr>\n",
       "<tr><td>53343.95421509259</td><td>53343.97369425926</td><td>71.0</td><td>3.4517490659800822</td><td>1.191457161449437</td><td>10.000000000000002</td><td>1.657384679989307e-12</td><td>1.9997707038808555e-11</td><td>4.6024352468667415e-11</td><td>1.9747028462498433e-11</td><td>0.9635779683303554</td><td>-290.1475581681106</td><td>True</td><td>0.11435563703045191</td><td>290.1475581681106</td><td>0.11891958050521989</td><td>0.10986747416303243</td><td>1.2106653323794283</td><td>0.20000000000000004 .. 5.000000000000001</td><td>-179.4084999735158 .. 70.913373325668</td><td>17.03371827194845</td><td>1.5970193626859525e-12</td><td>2.0065381744798268e-12</td><td>1.8953128088468887e-13</td><td>1.970954908801065e-13</td><td>1.8209266850693094e-13</td><td>1.9269349919720795e-11</td><td>2.4210530638965592e-11</td><td>2.2868505275713047e-12</td><td>2.3781189321213964e-12</td><td>2.1970975614061908e-12</td></tr>\n",
       "<tr><td>53345.96198129629</td><td>53345.98149518518</td><td>51.0</td><td>3.4517490659800822</td><td>1.191457161449437</td><td>10.000000000000002</td><td>1.657384679989307e-12</td><td>1.9997707038808555e-11</td><td>4.6024352468667415e-11</td><td>1.9747028462498433e-11</td><td>1.103895504740649</td><td>-194.54801386828967</td><td>True</td><td>0.1545762530209909</td><td>194.54801386828967</td><td>0.16188147500618416</td><td>0.14743779020575934</td><td>1.4425645850263538</td><td>0.20000000000000004 .. 5.000000000000001</td><td>-103.82267487209914 .. 11.36988387172076</td><td>13.94804695533714</td><td>1.829579497866215e-12</td><td>2.3908844431178106e-12</td><td>2.5619231364714115e-13</td><td>2.682998766493215e-13</td><td>2.44361134738503e-13</td><td>2.2075378905261196e-11</td><td>2.8847983955917457e-11</td><td>3.091170623070522e-12</td><td>3.2372583121838802e-12</td><td>2.9484177349840926e-12</td></tr>\n",
       "<tr><td>53347.91319657407</td><td>53347.932710462956</td><td>59.0</td><td>3.4517490659800822</td><td>1.191457161449437</td><td>10.000000000000002</td><td>1.657384679989307e-12</td><td>1.9997707038808555e-11</td><td>4.6024352468667415e-11</td><td>1.9747028462498433e-11</td><td>1.2691677461698418</td><td>-226.72586038069375</td><td>True</td><td>0.16523152965379329</td><td>226.72586038069375</td><td>0.17248585751318588</td><td>0.15813441277821294</td><td>1.628934476182784</td><td>0.20000000000000004 .. 5.000000000000001</td><td>-108.08941745406364 .. -41.64573957501704</td><td>15.057418782138383</td><td>2.1034991788384533e-12</td><td>2.6997710455317526e-12</td><td>2.738522058993959e-13</td><td>2.8587541775717275e-13</td><td>2.620895531177154e-13</td><td>2.5380444771009435e-11</td><td>3.2574954440118383e-11</td><td>3.3042517235907665e-12</td><td>3.4493216468863668e-12</td><td>3.1623256594927266e-12</td></tr>\n",
       "</table>"
      ],
      "text/plain": [
       "<Table length=4>\n",
       "     time_min          time_max      ...     flux_errn [1]     \n",
       "                                     ...      1 / (cm2 s)      \n",
       "     float64           float64       ...        float64        \n",
       "----------------- ------------------ ... ----------------------\n",
       "53343.92234009259  53343.94186555555 ... 2.4217086085260464e-12\n",
       "53343.95421509259  53343.97369425926 ... 2.1970975614061908e-12\n",
       "53345.96198129629  53345.98149518518 ... 2.9484177349840926e-12\n",
       "53347.91319657407 53347.932710462956 ... 3.1623256594927266e-12"
      ]
     },
     "execution_count": 1,
     "metadata": {},
     "output_type": "execute_result"
    }
   ],
   "source": [
    "lc_1d.table"
   ]
  },
  {
   "cell_type": "markdown",
   "metadata": {},
   "source": [
    "### Compare results\n",
    "\n",
    "Finally we compare the result for the 1D and 3D lightcurve in a single figure:"
   ]
  },
  {
   "cell_type": "code",
   "execution_count": 19,
   "metadata": {
    "execution": {
     "iopub.execute_input": "2020-11-04T16:56:34.364609Z",
     "iopub.status.busy": "2020-11-04T16:56:34.347530Z",
     "iopub.status.idle": "2020-11-04T16:56:34.584552Z",
     "shell.execute_reply": "2020-11-04T16:56:34.583119Z"
    }
   },
   "outputs": [
    {
     "data": {
      "text/plain": [
       "<matplotlib.legend.Legend at 0x7f1a6e33c940>"
      ]
     },
     "execution_count": 1,
     "metadata": {},
     "output_type": "execute_result"
    },
    {
     "data": {
      "image/png": "[encoded data removed]",
      "text/plain": [
       "<Figure size 432x288 with 1 Axes>"
      ]
     },
     "metadata": {
      "needs_background": "light"
     },
     "output_type": "display_data"
    }
   ],
   "source": [
    "ax = lc_1d.plot(marker=\"o\", label=\"1D\")\n",
    "lc_3d.plot(ax=ax, marker=\"o\", label=\"3D\")\n",
    "plt.legend()"
   ]
  },
  {
   "cell_type": "markdown",
   "metadata": {},
   "source": [
    "## Night-wise LC estimation\n",
    "\n",
    "Here we want to extract a night curve per night. We define the time intervals that cover the three nights."
   ]
  },
  {
   "cell_type": "code",
   "execution_count": 20,
   "metadata": {
    "execution": {
     "iopub.execute_input": "2020-11-04T16:56:34.590238Z",
     "iopub.status.busy": "2020-11-04T16:56:34.589664Z",
     "iopub.status.idle": "2020-11-04T16:56:34.593680Z",
     "shell.execute_reply": "2020-11-04T16:56:34.593082Z"
    }
   },
   "outputs": [],
   "source": [
    "time_intervals = [\n",
    "    Time([53343.5, 53344.5], format=\"mjd\", scale=\"utc\"),\n",
    "    Time([53345.5, 53346.5], format=\"mjd\", scale=\"utc\"),\n",
    "    Time([53347.5, 53348.5], format=\"mjd\", scale=\"utc\"),\n",
    "]"
   ]
  },
  {
   "cell_type": "markdown",
   "metadata": {},
   "source": [
    "To compute the LC on the time intervals defined above, we pass the `LightCurveEstimator` the list of time intervals. \n",
    "\n",
    "Internally, datasets are grouped per time interval and a flux extraction is performed for each group."
   ]
  },
  {
   "cell_type": "code",
   "execution_count": 21,
   "metadata": {
    "execution": {
     "iopub.execute_input": "2020-11-04T16:56:34.643590Z",
     "iopub.status.busy": "2020-11-04T16:56:34.629430Z",
     "iopub.status.idle": "2020-11-04T16:56:37.477322Z",
     "shell.execute_reply": "2020-11-04T16:56:37.477930Z"
    }
   },
   "outputs": [
    {
     "name": "stderr",
     "output_type": "stream",
     "text": [
      "No handles with labels found to put in legend.\n"
     ]
    },
    {
     "data": {
      "text/plain": [
       "<AxesSubplot:xlabel='Time (MJD)', ylabel='Flux (cm-2 s-1)'>"
      ]
     },
     "execution_count": 1,
     "metadata": {},
     "output_type": "execute_result"
    },
    {
     "data": {
      "image/png": "[encoded data removed]",
      "text/plain": [
       "<Figure size 432x288 with 1 Axes>"
      ]
     },
     "metadata": {
      "needs_background": "light"
     },
     "output_type": "display_data"
    }
   ],
   "source": [
    "lc_maker_1d = LightCurveEstimator(\n",
    "    energy_edges=[1, 10] * u.TeV,\n",
    "    time_intervals=time_intervals,\n",
    "    source=\"crab\",\n",
    "    reoptimize=False,\n",
    ")\n",
    "\n",
    "nightwise_lc = lc_maker_1d.run(analysis_1d.datasets)\n",
    "\n",
    "nightwise_lc.plot()"
   ]
  },
  {
   "cell_type": "markdown",
   "metadata": {},
   "source": [
    "## What next?\n",
    "\n",
    "When sources are bight enough to look for variability at small time scales, the per-observation time binning is no longer relevant. One can easily extend the light curve estimation approach presented above to any time binning. This is demonstrated in the [following tutorial](light_curve_flare.ipynb) which shows the extraction of the lightcurve of an AGN flare."
   ]
  },
  {
   "cell_type": "code",
   "execution_count": null,
   "metadata": {},
   "outputs": [],
   "source": []
  }
 ],
 "metadata": {
  "kernelspec": {
   "display_name": "Python 3",
   "language": "python",
   "name": "python3"
  },
  "language_info": {
   "codemirror_mode": {
    "name": "ipython",
    "version": 3
   },
   "file_extension": ".py",
   "mimetype": "text/x-python",
   "name": "python",
   "nbconvert_exporter": "python",
   "pygments_lexer": "ipython3",
   "version": "3.7.0"
  },
  "nbsphinx": {
   "orphan": true
  }
 },
 "nbformat": 4,
 "nbformat_minor": 4
}
