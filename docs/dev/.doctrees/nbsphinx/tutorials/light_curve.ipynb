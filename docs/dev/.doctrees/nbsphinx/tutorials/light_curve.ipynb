{
 "cells": [
  {
   "cell_type": "markdown",
   "metadata": {},
   "source": [
    "\n",
    "<div class=\"alert alert-info\">\n",
    "\n",
    "**This is a fixed-text formatted version of a Jupyter notebook**\n",
    "\n",
    "- Try online [![Binder](https://static.mybinder.org/badge.svg)](https://mybinder.org/v2/gh/gammapy/gammapy-webpage/master?urlpath=lab/tree/light_curve.ipynb)\n",
    "- You can contribute with your own notebooks in this\n",
    "[GitHub repository](https://github.com/gammapy/gammapy/tree/master/docs/tutorials).\n",
    "- **Source files:**\n",
    "[light_curve.ipynb](../_static/notebooks/light_curve.ipynb) |\n",
    "[light_curve.py](../_static/notebooks/light_curve.py)\n",
    "</div>\n"
   ]
  },
  {
   "cell_type": "markdown",
   "metadata": {},
   "source": [
    "# Light curve estimation\n",
    "\n",
    "## Prerequisites\n",
    "\n",
    "- Knowledge of the high level interface to perform data reduction, see [first gammapy analysis with the high level interface tutorial](analysis_1.ipynb)\n",
    "\n",
    "## Context\n",
    "\n",
    "This tutorial presents how light curve extraction is performed in gammapy, i.e. how to measure the flux of a source\n",
    "in different time bins.\n",
    "\n",
    "Cherenkov telescopes usually work with observing runs and distribute data according to this basic time interval. A typical use case is to look for variability of a source on various time binnings: observation run-wise binning, nightly, weekly etc.\n",
    "\n",
    "**Objective: The Crab nebula is not known to be variable at TeV energies, so we expect constant brightness within statistical and systematic errors. Compute per-observation and nightly fluxes of the four Crab nebula observations from the [H.E.S.S. first public test data release](https://www.mpi-hd.mpg.de/hfm/HESS/pages/dl3-dr1/) to check it.**\n",
    "\n",
    "## Proposed approach\n",
    "\n",
    "We will demonstrate how to compute a `~gammapy.estimators.LightCurve` from 3D reduced datasets (`~gammapy.datasets.MapDataset`) as well as 1D ON-OFF spectral datasets (`~gammapy.datasets.SpectrumDatasetOnOff`). \n",
    "\n",
    "The data reduction will be performed with the high level interface for the data reduction. Then we will use the `~gammapy.estimators.LightCurveEstimator` class, which  is able to extract a light curve independently of the dataset type. \n",
    "\n"
   ]
  },
  {
   "cell_type": "markdown",
   "metadata": {},
   "source": [
    "## Setup\n",
    "\n",
    "As usual, we'll start with some general imports..."
   ]
  },
  {
   "cell_type": "code",
   "execution_count": 1,
   "metadata": {
    "execution": {
     "iopub.execute_input": "2020-10-27T14:24:50.133029Z",
     "iopub.status.busy": "2020-10-27T14:24:50.132453Z",
     "iopub.status.idle": "2020-10-27T14:24:50.752885Z",
     "shell.execute_reply": "2020-10-27T14:24:50.752148Z"
    }
   },
   "outputs": [],
   "source": [
    "%matplotlib inline\n",
    "import matplotlib.pyplot as plt\n",
    "\n",
    "import astropy.units as u\n",
    "from astropy.coordinates import SkyCoord\n",
    "import logging\n",
    "\n",
    "from astropy.time import Time\n",
    "\n",
    "log = logging.getLogger(__name__)"
   ]
  },
  {
   "cell_type": "markdown",
   "metadata": {},
   "source": [
    "Now let's import gammapy specific classes and functions"
   ]
  },
  {
   "cell_type": "code",
   "execution_count": 2,
   "metadata": {
    "execution": {
     "iopub.execute_input": "2020-10-27T14:24:50.756982Z",
     "iopub.status.busy": "2020-10-27T14:24:50.756480Z",
     "iopub.status.idle": "2020-10-27T14:24:51.409941Z",
     "shell.execute_reply": "2020-10-27T14:24:51.408943Z"
    }
   },
   "outputs": [],
   "source": [
    "from gammapy.modeling.models import PowerLawSpectralModel\n",
    "from gammapy.modeling.models import PointSpatialModel\n",
    "from gammapy.modeling.models import SkyModel, Models\n",
    "from gammapy.estimators import LightCurveEstimator\n",
    "from gammapy.analysis import Analysis, AnalysisConfig"
   ]
  },
  {
   "cell_type": "markdown",
   "metadata": {},
   "source": [
    "## Analysis configuration \n",
    "For the 1D and 3D extraction, we will use the same CrabNebula configuration than in the notebook analysis_1.ipynb using the high level interface of Gammapy.\n",
    "\n",
    "From the high level interface, the data reduction for those observations is performed as followed"
   ]
  },
  {
   "cell_type": "markdown",
   "metadata": {},
   "source": [
    "### Building the 3D analysis configuration\n"
   ]
  },
  {
   "cell_type": "code",
   "execution_count": 3,
   "metadata": {
    "execution": {
     "iopub.execute_input": "2020-10-27T14:24:51.416358Z",
     "iopub.status.busy": "2020-10-27T14:24:51.415097Z",
     "iopub.status.idle": "2020-10-27T14:24:51.416894Z",
     "shell.execute_reply": "2020-10-27T14:24:51.417398Z"
    }
   },
   "outputs": [],
   "source": [
    "conf_3d = AnalysisConfig()"
   ]
  },
  {
   "cell_type": "markdown",
   "metadata": {},
   "source": [
    "#### Definition of the data selection\n",
    "\n",
    "Here we use the Crab runs from the HESS DL3 data release 1"
   ]
  },
  {
   "cell_type": "code",
   "execution_count": 4,
   "metadata": {
    "execution": {
     "iopub.execute_input": "2020-10-27T14:24:51.421686Z",
     "iopub.status.busy": "2020-10-27T14:24:51.420622Z",
     "iopub.status.idle": "2020-10-27T14:24:51.422227Z",
     "shell.execute_reply": "2020-10-27T14:24:51.422734Z"
    }
   },
   "outputs": [],
   "source": [
    "conf_3d.observations.obs_ids = [23523, 23526, 23559, 23592]"
   ]
  },
  {
   "cell_type": "markdown",
   "metadata": {},
   "source": [
    "#### Definition of the dataset geometry"
   ]
  },
  {
   "cell_type": "code",
   "execution_count": 5,
   "metadata": {
    "execution": {
     "iopub.execute_input": "2020-10-27T14:24:51.430053Z",
     "iopub.status.busy": "2020-10-27T14:24:51.429008Z",
     "iopub.status.idle": "2020-10-27T14:24:51.431271Z",
     "shell.execute_reply": "2020-10-27T14:24:51.430739Z"
    }
   },
   "outputs": [],
   "source": [
    "# We want a 3D analysis\n",
    "conf_3d.datasets.type = \"3d\"\n",
    "\n",
    "# We want to extract the data by observation and therefore to not stack them\n",
    "conf_3d.datasets.stack = False\n",
    "\n",
    "# Here is the WCS geometry of the Maps\n",
    "conf_3d.datasets.geom.wcs.skydir = dict(\n",
    "    frame=\"icrs\", lon=83.63308 * u.deg, lat=22.01450 * u.deg\n",
    ")\n",
    "conf_3d.datasets.geom.wcs.binsize = 0.02 * u.deg\n",
    "conf_3d.datasets.geom.wcs.fov = dict(width=1 * u.deg, height=1 * u.deg)\n",
    "\n",
    "# We define a value for the IRF Maps binsize\n",
    "conf_3d.datasets.geom.wcs.binsize_irf = 0.2 * u.deg\n",
    "\n",
    "# Define energy binning for the Maps\n",
    "conf_3d.datasets.geom.axes.energy = dict(\n",
    "    min=0.7 * u.TeV, max=10 * u.TeV, nbins=5\n",
    ")\n",
    "conf_3d.datasets.geom.axes.energy_true = dict(\n",
    "    min=0.3 * u.TeV, max=20 * u.TeV, nbins=10\n",
    ")"
   ]
  },
  {
   "cell_type": "markdown",
   "metadata": {},
   "source": [
    "### Run the 3D data reduction"
   ]
  },
  {
   "cell_type": "code",
   "execution_count": 6,
   "metadata": {
    "execution": {
     "iopub.execute_input": "2020-10-27T14:24:51.435600Z",
     "iopub.status.busy": "2020-10-27T14:24:51.434575Z",
     "iopub.status.idle": "2020-10-27T14:24:53.627742Z",
     "shell.execute_reply": "2020-10-27T14:24:53.626499Z"
    }
   },
   "outputs": [
    {
     "name": "stderr",
     "output_type": "stream",
     "text": [
      "Setting logging config: {'filename': None, 'filemode': None, 'format': None, 'datefmt': None, 'level': 'INFO'}\n",
      "Fetching observations.\n",
      "Number of selected observations: 4\n",
      "Creating geometry.\n",
      "Creating datasets.\n",
      "No background maker set for 3d analysis. Check configuration.\n",
      "Processing observation 23523\n",
      "Processing observation 23526\n",
      "Processing observation 23559\n",
      "Processing observation 23592\n"
     ]
    }
   ],
   "source": [
    "analysis_3d = Analysis(conf_3d)\n",
    "analysis_3d.get_observations()\n",
    "analysis_3d.get_datasets()"
   ]
  },
  {
   "cell_type": "markdown",
   "metadata": {},
   "source": [
    "### Define the model to be used\n",
    "\n",
    "Here we don't try to fit the model parameters to the whole dataset, but we use predefined values instead. "
   ]
  },
  {
   "cell_type": "code",
   "execution_count": 7,
   "metadata": {
    "execution": {
     "iopub.execute_input": "2020-10-27T14:24:53.638720Z",
     "iopub.status.busy": "2020-10-27T14:24:53.636259Z",
     "iopub.status.idle": "2020-10-27T14:24:53.656340Z",
     "shell.execute_reply": "2020-10-27T14:24:53.655879Z"
    }
   },
   "outputs": [],
   "source": [
    "target_position = SkyCoord(ra=83.63308, dec=22.01450, unit=\"deg\")\n",
    "spatial_model = PointSpatialModel(\n",
    "    lon_0=target_position.ra, lat_0=target_position.dec, frame=\"icrs\"\n",
    ")\n",
    "\n",
    "spectral_model = PowerLawSpectralModel(\n",
    "    index=2.702,\n",
    "    amplitude=4.712e-11 * u.Unit(\"1 / (cm2 s TeV)\"),\n",
    "    reference=1 * u.TeV,\n",
    ")\n",
    "\n",
    "sky_model = SkyModel(\n",
    "    spatial_model=spatial_model, spectral_model=spectral_model, name=\"crab\"\n",
    ")\n",
    "# Now we freeze these parameters that we don't want the light curve estimator to change\n",
    "sky_model.parameters[\"index\"].frozen = True\n",
    "sky_model.parameters[\"lon_0\"].frozen = True\n",
    "sky_model.parameters[\"lat_0\"].frozen = True"
   ]
  },
  {
   "cell_type": "markdown",
   "metadata": {},
   "source": [
    "We assign them the model to be fitted to each dataset"
   ]
  },
  {
   "cell_type": "code",
   "execution_count": 8,
   "metadata": {
    "execution": {
     "iopub.execute_input": "2020-10-27T14:24:53.662499Z",
     "iopub.status.busy": "2020-10-27T14:24:53.661667Z",
     "iopub.status.idle": "2020-10-27T14:24:53.665230Z",
     "shell.execute_reply": "2020-10-27T14:24:53.665726Z"
    }
   },
   "outputs": [
    {
     "name": "stderr",
     "output_type": "stream",
     "text": [
      "Reading model.\n",
      "Models\n",
      "\n",
      "Component 0: SkyModel\n",
      "\n",
      "  Name                      : crab\n",
      "  Datasets names            : None\n",
      "  Spectral model type       : PowerLawSpectralModel\n",
      "  Spatial  model type       : PointSpatialModel\n",
      "  Temporal model type       : \n",
      "  Parameters:\n",
      "    index        (frozen)   :   2.702              \n",
      "    amplitude               :   4.71e-11  1 / (cm2 s TeV)\n",
      "    reference    (frozen)   :   1.000  TeV         \n",
      "    lon_0        (frozen)   :  83.633  deg         \n",
      "    lat_0        (frozen)   :  22.015  deg         \n",
      "\n",
      "\n"
     ]
    }
   ],
   "source": [
    "models = Models([sky_model])\n",
    "analysis_3d.set_models(models)"
   ]
  },
  {
   "cell_type": "markdown",
   "metadata": {},
   "source": [
    "## Light Curve estimation: by observation\n",
    "\n",
    "We can now create the light curve estimator.\n",
    "\n",
    "We pass it the list of datasets and the name of the model component for which we want to build the light curve. \n",
    "We can optionally ask for parameters reoptimization during fit, that is most of the time to fit background normalization in each time bin. \n",
    "\n",
    "If we don't set any time interval, the `~gammapy.time.LightCurveEstimator` is determines the flux of each dataset and places it at the corresponding time in the light curve. \n",
    "Here one dataset equals to one observing run."
   ]
  },
  {
   "cell_type": "code",
   "execution_count": 9,
   "metadata": {
    "execution": {
     "iopub.execute_input": "2020-10-27T14:24:53.687507Z",
     "iopub.status.busy": "2020-10-27T14:24:53.686956Z",
     "iopub.status.idle": "2020-10-27T14:24:55.872819Z",
     "shell.execute_reply": "2020-10-27T14:24:55.871820Z"
    }
   },
   "outputs": [],
   "source": [
    "lc_maker_3d = LightCurveEstimator(\n",
    "    e_edges=[1, 10] * u.TeV, source=\"crab\", reoptimize=False\n",
    ")\n",
    "lc_3d = lc_maker_3d.run(analysis_3d.datasets)"
   ]
  },
  {
   "cell_type": "markdown",
   "metadata": {},
   "source": [
    "The LightCurve object contains a table which we can explore."
   ]
  },
  {
   "cell_type": "code",
   "execution_count": 10,
   "metadata": {
    "execution": {
     "iopub.execute_input": "2020-10-27T14:24:55.882023Z",
     "iopub.status.busy": "2020-10-27T14:24:55.881490Z",
     "iopub.status.idle": "2020-10-27T14:24:55.884431Z",
     "shell.execute_reply": "2020-10-27T14:24:55.884937Z"
    }
   },
   "outputs": [
    {
     "data": {
      "text/html": [
       "<i>Table length=4</i>\n",
       "<table id=\"table140140549172416\" class=\"table-striped table-bordered table-condensed\">\n",
       "<thead><tr><th>time_min</th><th>time_max</th><th>e_min [1]</th><th>e_max [1]</th><th>flux [1]</th><th>flux_err [1]</th></tr></thead>\n",
       "<thead><tr><th></th><th></th><th>TeV</th><th>TeV</th><th>1 / (cm2 s)</th><th>1 / (cm2 s)</th></tr></thead>\n",
       "<thead><tr><th>float64</th><th>float64</th><th>float64</th><th>float64</th><th>float64</th><th>float64</th></tr></thead>\n",
       "<tr><td>53343.92234009259</td><td>53343.94186555555</td><td>1.191457161449437</td><td>10.000000000000002</td><td>1.9549906330977142e-11</td><td>2.033488832040959e-12</td></tr>\n",
       "<tr><td>53343.95421509259</td><td>53343.97369425926</td><td>1.191457161449437</td><td>10.000000000000002</td><td>1.993646793196522e-11</td><td>2.070406651009908e-12</td></tr>\n",
       "<tr><td>53345.96198129629</td><td>53345.98149518518</td><td>1.191457161449437</td><td>10.000000000000002</td><td>2.096704160302373e-11</td><td>2.6822437063418817e-12</td></tr>\n",
       "<tr><td>53347.91319657407</td><td>53347.932710462956</td><td>1.191457161449437</td><td>10.000000000000002</td><td>2.4183710039302783e-11</td><td>2.8089674729982815e-12</td></tr>\n",
       "</table>"
      ],
      "text/plain": [
       "<Table length=4>\n",
       "     time_min          time_max      ...      flux_err [1]     \n",
       "                                     ...      1 / (cm2 s)      \n",
       "     float64           float64       ...        float64        \n",
       "----------------- ------------------ ... ----------------------\n",
       "53343.92234009259  53343.94186555555 ...  2.033488832040959e-12\n",
       "53343.95421509259  53343.97369425926 ...  2.070406651009908e-12\n",
       "53345.96198129629  53345.98149518518 ... 2.6822437063418817e-12\n",
       "53347.91319657407 53347.932710462956 ... 2.8089674729982815e-12"
      ]
     },
     "execution_count": 1,
     "metadata": {},
     "output_type": "execute_result"
    }
   ],
   "source": [
    "lc_3d.table[\"time_min\", \"time_max\", \"e_min\", \"e_max\", \"flux\", \"flux_err\"]"
   ]
  },
  {
   "cell_type": "markdown",
   "metadata": {},
   "source": [
    "## Running the light curve extraction in 1D"
   ]
  },
  {
   "cell_type": "markdown",
   "metadata": {},
   "source": [
    "### Building the 1D analysis configuration\n"
   ]
  },
  {
   "cell_type": "code",
   "execution_count": 11,
   "metadata": {
    "execution": {
     "iopub.execute_input": "2020-10-27T14:24:55.889938Z",
     "iopub.status.busy": "2020-10-27T14:24:55.888920Z",
     "iopub.status.idle": "2020-10-27T14:24:55.890561Z",
     "shell.execute_reply": "2020-10-27T14:24:55.891066Z"
    }
   },
   "outputs": [],
   "source": [
    "conf_1d = AnalysisConfig()"
   ]
  },
  {
   "cell_type": "markdown",
   "metadata": {},
   "source": [
    "#### Definition of the data selection\n",
    "\n",
    "Here we use the Crab runs from the HESS DL3 data release 1"
   ]
  },
  {
   "cell_type": "code",
   "execution_count": 12,
   "metadata": {
    "execution": {
     "iopub.execute_input": "2020-10-27T14:24:55.895177Z",
     "iopub.status.busy": "2020-10-27T14:24:55.894174Z",
     "iopub.status.idle": "2020-10-27T14:24:55.895751Z",
     "shell.execute_reply": "2020-10-27T14:24:55.896269Z"
    }
   },
   "outputs": [],
   "source": [
    "conf_1d.observations.obs_ids = [23523, 23526, 23559, 23592]"
   ]
  },
  {
   "cell_type": "markdown",
   "metadata": {},
   "source": [
    "#### Definition of the dataset geometry"
   ]
  },
  {
   "cell_type": "code",
   "execution_count": 13,
   "metadata": {
    "execution": {
     "iopub.execute_input": "2020-10-27T14:24:55.902806Z",
     "iopub.status.busy": "2020-10-27T14:24:55.901659Z",
     "iopub.status.idle": "2020-10-27T14:24:55.903332Z",
     "shell.execute_reply": "2020-10-27T14:24:55.903819Z"
    }
   },
   "outputs": [],
   "source": [
    "# We want a 1D analysis\n",
    "conf_1d.datasets.type = \"1d\"\n",
    "\n",
    "# We want to extract the data by observation and therefore to not stack them\n",
    "conf_1d.datasets.stack = False\n",
    "\n",
    "# Here we define the ON region and make sure that PSF leakage is corrected\n",
    "conf_1d.datasets.on_region = dict(\n",
    "    frame=\"icrs\",\n",
    "    lon=83.63308 * u.deg,\n",
    "    lat=22.01450 * u.deg,\n",
    "    radius=0.1 * u.deg,\n",
    ")\n",
    "conf_1d.datasets.containment_correction = True\n",
    "\n",
    "# Finally we define the energy binning for the spectra\n",
    "conf_1d.datasets.geom.axes.energy = dict(\n",
    "    min=0.7 * u.TeV, max=10 * u.TeV, nbins=20\n",
    ")\n",
    "conf_1d.datasets.geom.axes.energy_true = dict(\n",
    "    min=0.3 * u.TeV, max=20 * u.TeV, nbins=40\n",
    ")"
   ]
  },
  {
   "cell_type": "markdown",
   "metadata": {},
   "source": [
    "### Run the 1D data reduction"
   ]
  },
  {
   "cell_type": "code",
   "execution_count": 14,
   "metadata": {
    "execution": {
     "iopub.execute_input": "2020-10-27T14:24:55.907919Z",
     "iopub.status.busy": "2020-10-27T14:24:55.907412Z",
     "iopub.status.idle": "2020-10-27T14:24:57.493340Z",
     "shell.execute_reply": "2020-10-27T14:24:57.492133Z"
    }
   },
   "outputs": [
    {
     "name": "stderr",
     "output_type": "stream",
     "text": [
      "Setting logging config: {'filename': None, 'filemode': None, 'format': None, 'datefmt': None, 'level': 'INFO'}\n",
      "Fetching observations.\n",
      "Number of selected observations: 4\n",
      "Reducing spectrum datasets.\n",
      "No background maker set for 1d analysis. Check configuration.\n",
      "Processing observation 23523\n",
      "No background model defined for dataset kpbewOLT\n",
      "Processing observation 23526\n",
      "No background model defined for dataset zxX48NW2\n",
      "Processing observation 23559\n",
      "No background model defined for dataset 5250gbj-\n",
      "Processing observation 23592\n",
      "No background model defined for dataset XhBK0inG\n"
     ]
    }
   ],
   "source": [
    "analysis_1d = Analysis(conf_1d)\n",
    "analysis_1d.get_observations()\n",
    "analysis_1d.get_datasets()"
   ]
  },
  {
   "cell_type": "markdown",
   "metadata": {},
   "source": [
    "### Define the model to be used\n",
    "\n",
    "Here we don't try to fit the model parameters to the whole dataset, but we use predefined values instead. "
   ]
  },
  {
   "cell_type": "code",
   "execution_count": 15,
   "metadata": {
    "execution": {
     "iopub.execute_input": "2020-10-27T14:24:57.504131Z",
     "iopub.status.busy": "2020-10-27T14:24:57.501312Z",
     "iopub.status.idle": "2020-10-27T14:24:57.521004Z",
     "shell.execute_reply": "2020-10-27T14:24:57.520565Z"
    }
   },
   "outputs": [],
   "source": [
    "target_position = SkyCoord(ra=83.63308, dec=22.01450, unit=\"deg\")\n",
    "spatial_model = PointSpatialModel(\n",
    "    lon_0=target_position.ra, lat_0=target_position.dec, frame=\"icrs\"\n",
    ")\n",
    "\n",
    "spectral_model = PowerLawSpectralModel(\n",
    "    index=2.702,\n",
    "    amplitude=4.712e-11 * u.Unit(\"1 / (cm2 s TeV)\"),\n",
    "    reference=1 * u.TeV,\n",
    ")\n",
    "\n",
    "sky_model = SkyModel(\n",
    "    spatial_model=spatial_model, spectral_model=spectral_model, name=\"crab\"\n",
    ")\n",
    "# Now we freeze these parameters that we don't want the light curve estimator to change\n",
    "sky_model.parameters[\"index\"].frozen = True\n",
    "sky_model.parameters[\"lon_0\"].frozen = True\n",
    "sky_model.parameters[\"lat_0\"].frozen = True"
   ]
  },
  {
   "cell_type": "markdown",
   "metadata": {},
   "source": [
    "We assign the model to be fitted to each dataset. We can use the same `~gammapy.modeling.models.SkyModel` as before."
   ]
  },
  {
   "cell_type": "code",
   "execution_count": 16,
   "metadata": {
    "execution": {
     "iopub.execute_input": "2020-10-27T14:24:57.524712Z",
     "iopub.status.busy": "2020-10-27T14:24:57.524200Z",
     "iopub.status.idle": "2020-10-27T14:24:57.529435Z",
     "shell.execute_reply": "2020-10-27T14:24:57.528996Z"
    }
   },
   "outputs": [
    {
     "name": "stderr",
     "output_type": "stream",
     "text": [
      "Reading model.\n",
      "Models\n",
      "\n",
      "Component 0: SkyModel\n",
      "\n",
      "  Name                      : crab\n",
      "  Datasets names            : None\n",
      "  Spectral model type       : PowerLawSpectralModel\n",
      "  Spatial  model type       : PointSpatialModel\n",
      "  Temporal model type       : \n",
      "  Parameters:\n",
      "    index        (frozen)   :   2.702              \n",
      "    amplitude               :   4.71e-11  1 / (cm2 s TeV)\n",
      "    reference    (frozen)   :   1.000  TeV         \n",
      "    lon_0        (frozen)   :  83.633  deg         \n",
      "    lat_0        (frozen)   :  22.015  deg         \n",
      "\n",
      "\n"
     ]
    }
   ],
   "source": [
    "models = Models([sky_model])\n",
    "analysis_1d.set_models(models)"
   ]
  },
  {
   "cell_type": "markdown",
   "metadata": {},
   "source": [
    "### Extracting the light curve"
   ]
  },
  {
   "cell_type": "code",
   "execution_count": 17,
   "metadata": {
    "execution": {
     "iopub.execute_input": "2020-10-27T14:24:57.559961Z",
     "iopub.status.busy": "2020-10-27T14:24:57.558149Z",
     "iopub.status.idle": "2020-10-27T14:24:59.413118Z",
     "shell.execute_reply": "2020-10-27T14:24:59.412187Z"
    }
   },
   "outputs": [
    {
     "name": "stderr",
     "output_type": "stream",
     "text": [
      "No background model defined for dataset kpbewOLT-1.000 TeV-10.000 TeV\n",
      "No background model defined for dataset kpbewOLT-1.000 TeV-10.000 TeV\n",
      "No background model defined for dataset zxX48NW2-1.000 TeV-10.000 TeV\n",
      "No background model defined for dataset zxX48NW2-1.000 TeV-10.000 TeV\n",
      "No background model defined for dataset 5250gbj--1.000 TeV-10.000 TeV\n",
      "No background model defined for dataset 5250gbj--1.000 TeV-10.000 TeV\n",
      "No background model defined for dataset XhBK0inG-1.000 TeV-10.000 TeV\n",
      "No background model defined for dataset XhBK0inG-1.000 TeV-10.000 TeV\n"
     ]
    }
   ],
   "source": [
    "lc_maker_1d = LightCurveEstimator(\n",
    "    e_edges=[1, 10] * u.TeV, source=\"crab\", reoptimize=False\n",
    ")\n",
    "lc_1d = lc_maker_1d.run(analysis_1d.datasets)"
   ]
  },
  {
   "cell_type": "markdown",
   "metadata": {},
   "source": [
    "### Compare results\n",
    "\n",
    "Finally we compare the result for the 1D and 3D lightcurve in a single figure:"
   ]
  },
  {
   "cell_type": "code",
   "execution_count": 18,
   "metadata": {
    "execution": {
     "iopub.execute_input": "2020-10-27T14:24:59.456969Z",
     "iopub.status.busy": "2020-10-27T14:24:59.456452Z",
     "iopub.status.idle": "2020-10-27T14:24:59.614899Z",
     "shell.execute_reply": "2020-10-27T14:24:59.615412Z"
    }
   },
   "outputs": [
    {
     "data": {
      "text/plain": [
       "<matplotlib.legend.Legend at 0x7f7501434dd8>"
      ]
     },
     "execution_count": 1,
     "metadata": {},
     "output_type": "execute_result"
    },
    {
     "data": {
      "image/png": "[encoded data removed]",
      "text/plain": [
       "<Figure size 432x288 with 1 Axes>"
      ]
     },
     "metadata": {
      "needs_background": "light"
     },
     "output_type": "display_data"
    }
   ],
   "source": [
    "ax = lc_1d.plot(marker=\"o\", label=\"1D\")\n",
    "lc_3d.plot(ax=ax, marker=\"o\", label=\"3D\")\n",
    "plt.legend()"
   ]
  },
  {
   "cell_type": "markdown",
   "metadata": {},
   "source": [
    "## Night-wise LC estimation\n",
    "\n",
    "Here we want to extract a night curve per night. We define the time intervals that cover the three nights."
   ]
  },
  {
   "cell_type": "code",
   "execution_count": 19,
   "metadata": {
    "execution": {
     "iopub.execute_input": "2020-10-27T14:24:59.620212Z",
     "iopub.status.busy": "2020-10-27T14:24:59.619669Z",
     "iopub.status.idle": "2020-10-27T14:24:59.623091Z",
     "shell.execute_reply": "2020-10-27T14:24:59.622657Z"
    }
   },
   "outputs": [],
   "source": [
    "time_intervals = [\n",
    "    Time([53343.5, 53344.5], format=\"mjd\", scale=\"utc\"),\n",
    "    Time([53345.5, 53346.5], format=\"mjd\", scale=\"utc\"),\n",
    "    Time([53347.5, 53348.5], format=\"mjd\", scale=\"utc\"),\n",
    "]"
   ]
  },
  {
   "cell_type": "markdown",
   "metadata": {},
   "source": [
    "To compute the LC on the time intervals defined above, we pass the `LightCurveEstimator` the list of time intervals. \n",
    "\n",
    "Internally, datasets are grouped per time interval and a flux extraction is performed for each group."
   ]
  },
  {
   "cell_type": "code",
   "execution_count": 20,
   "metadata": {
    "execution": {
     "iopub.execute_input": "2020-10-27T14:24:59.656414Z",
     "iopub.status.busy": "2020-10-27T14:24:59.648816Z",
     "iopub.status.idle": "2020-10-27T14:25:01.455164Z",
     "shell.execute_reply": "2020-10-27T14:25:01.456002Z"
    }
   },
   "outputs": [
    {
     "name": "stderr",
     "output_type": "stream",
     "text": [
      "No background model defined for dataset kpbewOLT-1.000 TeV-10.000 TeV\n",
      "No background model defined for dataset kpbewOLT-1.000 TeV-10.000 TeV\n",
      "No background model defined for dataset zxX48NW2-1.000 TeV-10.000 TeV\n",
      "No background model defined for dataset zxX48NW2-1.000 TeV-10.000 TeV\n",
      "No background model defined for dataset 5250gbj--1.000 TeV-10.000 TeV\n",
      "No background model defined for dataset 5250gbj--1.000 TeV-10.000 TeV\n",
      "No background model defined for dataset XhBK0inG-1.000 TeV-10.000 TeV\n",
      "No background model defined for dataset XhBK0inG-1.000 TeV-10.000 TeV\n",
      "No handles with labels found to put in legend.\n"
     ]
    },
    {
     "data": {
      "text/plain": [
       "<AxesSubplot:xlabel='Time (MJD)', ylabel='Flux (cm-2 s-1)'>"
      ]
     },
     "execution_count": 1,
     "metadata": {},
     "output_type": "execute_result"
    },
    {
     "data": {
      "image/png": "[encoded data removed]",
      "text/plain": [
       "<Figure size 432x288 with 1 Axes>"
      ]
     },
     "metadata": {
      "needs_background": "light"
     },
     "output_type": "display_data"
    }
   ],
   "source": [
    "lc_maker_1d = LightCurveEstimator(\n",
    "    e_edges=[1, 10] * u.TeV,\n",
    "    time_intervals=time_intervals,\n",
    "    source=\"crab\",\n",
    "    reoptimize=False,\n",
    ")\n",
    "\n",
    "nightwise_lc = lc_maker_1d.run(analysis_1d.datasets)\n",
    "\n",
    "nightwise_lc.plot()"
   ]
  },
  {
   "cell_type": "markdown",
   "metadata": {},
   "source": [
    "## What next?\n",
    "\n",
    "When sources are bight enough to look for variability at small time scales, the per-observation time binning is no longer relevant. One can easily extend the light curve estimation approach presented above to any time binning. This is demonstrated in the [following tutorial](light_curve_flare.ipynb) which shows the extraction of the lightcurve of an AGN flare."
   ]
  },
  {
   "cell_type": "code",
   "execution_count": null,
   "metadata": {},
   "outputs": [],
   "source": []
  }
 ],
 "metadata": {
  "kernelspec": {
   "display_name": "Python 3",
   "language": "python",
   "name": "python3"
  },
  "language_info": {
   "codemirror_mode": {
    "name": "ipython",
    "version": 3
   },
   "file_extension": ".py",
   "mimetype": "text/x-python",
   "name": "python",
   "nbconvert_exporter": "python",
   "pygments_lexer": "ipython3",
   "version": "3.7.0"
  },
  "nbsphinx": {
   "orphan": true
  }
 },
 "nbformat": 4,
 "nbformat_minor": 4
}
