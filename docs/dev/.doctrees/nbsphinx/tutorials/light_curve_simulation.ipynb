{
 "cells": [
  {
   "cell_type": "markdown",
   "metadata": {},
   "source": [
    "\n",
    "<div class=\"alert alert-info\">\n",
    "\n",
    "**This is a fixed-text formatted version of a Jupyter notebook**\n",
    "\n",
    "- Try online [![Binder](https://static.mybinder.org/badge.svg)](https://mybinder.org/v2/gh/gammapy/gammapy-webpage/master?urlpath=lab/tree/light_curve_simulation.ipynb)\n",
    "- You can contribute with your own notebooks in this\n",
    "[GitHub repository](https://github.com/gammapy/gammapy/tree/master/docs/tutorials).\n",
    "- **Source files:**\n",
    "[light_curve_simulation.ipynb](../_static/notebooks/light_curve_simulation.ipynb) |\n",
    "[light_curve_simulation.py](../_static/notebooks/light_curve_simulation.py)\n",
    "</div>\n"
   ]
  },
  {
   "cell_type": "markdown",
   "metadata": {},
   "source": [
    "# Binned light curve simulation and fitting\n",
    "\n",
    "## Prerequisites:\n",
    "\n",
    "- To understand how a single binned simulation works, please refer to [spectrum_simulation](spectrum_simulation.ipynb) [simulate_3d](simulate_3d.ipynb) for 1D and 3D simulations respectively.\n",
    "- For details of light curve extraction using gammapy, refer to the two tutorials [light_curve](light_curve.ipynb) and [light_curve_flare](light_curve_flare.ipynb) \n",
    "\n",
    "## Context\n",
    "\n",
    "Frequently, studies of variable sources (eg: decaying GRB light curves, AGN flares, etc) require time variable simulations. For most use cases, generating an event list is an overkill, and it suffices to use binned simulations using a temporal model.\n",
    "\n",
    "**Objective: Simulate and fit a time decaying light curve of a source with CTA using the CTA 1DC response**\n",
    "\n",
    "## Proposed approach:\n",
    "\n",
    "We will simulate 10 spectral datasets within given time intervals (Good Time Intervals) following a given spectral (a power law) and temporal profile (an exponential decay, with a decay time of 6 hr ). These are then analysed using the light curve estimator to obtain flux points. Then, we re-fit the simulated datasets to reconstruct back the injected profiles.\n",
    "\n",
    "In summary, necessary steps are:\n",
    "\n",
    "- Choose observation parameters including a list of `gammapy.data.GTI`\n",
    "- Define temporal and spectral models from :ref:model-gallery as per science case\n",
    "- Perform the simulation (in 1D or 3D)\n",
    "- Extract the light curve from the reduced dataset as shown in [light curve notebook](light_curve.ipynb)\n",
    "- Optionaly, we show here how to fit the simulated datasets using a source model \n",
    "\n",
    "\n",
    "## Setup \n",
    "\n",
    "As usual, we'll start with some general imports..."
   ]
  },
  {
   "cell_type": "markdown",
   "metadata": {},
   "source": [
    "## Setup"
   ]
  },
  {
   "cell_type": "code",
   "execution_count": 1,
   "metadata": {
    "execution": {
     "iopub.execute_input": "2020-11-19T14:22:37.288647Z",
     "iopub.status.busy": "2020-11-19T14:22:37.288071Z",
     "iopub.status.idle": "2020-11-19T14:22:37.974908Z",
     "shell.execute_reply": "2020-11-19T14:22:37.973941Z"
    }
   },
   "outputs": [],
   "source": [
    "%matplotlib inline\n",
    "import matplotlib.pyplot as plt\n",
    "import numpy as np\n",
    "import astropy.units as u\n",
    "from astropy.coordinates import SkyCoord, Angle\n",
    "from astropy.time import Time\n",
    "from regions import CircleSkyRegion\n",
    "\n",
    "import logging\n",
    "\n",
    "log = logging.getLogger(__name__)"
   ]
  },
  {
   "cell_type": "markdown",
   "metadata": {},
   "source": [
    "And some gammapy specific imports"
   ]
  },
  {
   "cell_type": "code",
   "execution_count": 2,
   "metadata": {
    "execution": {
     "iopub.execute_input": "2020-11-19T14:22:37.979604Z",
     "iopub.status.busy": "2020-11-19T14:22:37.979093Z",
     "iopub.status.idle": "2020-11-19T14:22:38.532663Z",
     "shell.execute_reply": "2020-11-19T14:22:38.532198Z"
    }
   },
   "outputs": [],
   "source": [
    "from gammapy.data import Observation\n",
    "from gammapy.irf import load_cta_irfs\n",
    "from gammapy.datasets import SpectrumDataset, Datasets\n",
    "from gammapy.modeling.models import (\n",
    "    PowerLawSpectralModel,\n",
    "    ExpDecayTemporalModel,\n",
    "    SkyModel,\n",
    ")\n",
    "from gammapy.maps import MapAxis\n",
    "from gammapy.estimators import LightCurveEstimator\n",
    "from gammapy.makers import SpectrumDatasetMaker\n",
    "from gammapy.modeling import Fit"
   ]
  },
  {
   "cell_type": "markdown",
   "metadata": {},
   "source": [
    "## Simulating a light curve\n",
    "\n",
    "We will simulate 10 datasets using an `PowerLawSpectralModel` and a `ExpDecayTemporalModel`. The important thing to note here is how to attach a different `GTI` to each dataset."
   ]
  },
  {
   "cell_type": "code",
   "execution_count": 3,
   "metadata": {
    "execution": {
     "iopub.execute_input": "2020-11-19T14:22:38.538065Z",
     "iopub.status.busy": "2020-11-19T14:22:38.535864Z",
     "iopub.status.idle": "2020-11-19T14:22:38.620541Z",
     "shell.execute_reply": "2020-11-19T14:22:38.619834Z"
    }
   },
   "outputs": [
    {
     "name": "stderr",
     "output_type": "stream",
     "text": [
      "Invalid unit found in background table! Assuming (s-1 MeV-1 sr-1)\n"
     ]
    }
   ],
   "source": [
    "# Loading IRFs\n",
    "irfs = load_cta_irfs(\n",
    "    \"$GAMMAPY_DATA/cta-1dc/caldb/data/cta/1dc/bcf/South_z20_50h/irf_file.fits\"\n",
    ")"
   ]
  },
  {
   "cell_type": "code",
   "execution_count": 4,
   "metadata": {
    "execution": {
     "iopub.execute_input": "2020-11-19T14:22:38.628178Z",
     "iopub.status.busy": "2020-11-19T14:22:38.626962Z",
     "iopub.status.idle": "2020-11-19T14:22:38.628705Z",
     "shell.execute_reply": "2020-11-19T14:22:38.629212Z"
    }
   },
   "outputs": [],
   "source": [
    "# Reconstructed and true energy axis\n",
    "center = SkyCoord(0.0, 0.0, unit=\"deg\", frame=\"galactic\")\n",
    "energy_axis = MapAxis.from_edges(\n",
    "    np.logspace(-0.5, 1.0, 10), unit=\"TeV\", name=\"energy\", interp=\"log\"\n",
    ")\n",
    "energy_axis_true = MapAxis.from_edges(\n",
    "    np.logspace(-1.2, 2.0, 31), unit=\"TeV\", name=\"energy_true\", interp=\"log\"\n",
    ")\n",
    "\n",
    "on_region_radius = Angle(\"0.11 deg\")\n",
    "on_region = CircleSkyRegion(center=center, radius=on_region_radius)"
   ]
  },
  {
   "cell_type": "code",
   "execution_count": 5,
   "metadata": {
    "execution": {
     "iopub.execute_input": "2020-11-19T14:22:38.634055Z",
     "iopub.status.busy": "2020-11-19T14:22:38.632832Z",
     "iopub.status.idle": "2020-11-19T14:22:38.634572Z",
     "shell.execute_reply": "2020-11-19T14:22:38.635054Z"
    }
   },
   "outputs": [],
   "source": [
    "# Pointing position\n",
    "pointing = SkyCoord(0.5, 0.5, unit=\"deg\", frame=\"galactic\")"
   ]
  },
  {
   "cell_type": "markdown",
   "metadata": {},
   "source": [
    "Note that observations are usually conducted in  Wobble mode, in which the source is not in the center of the camera. This allows to have a symmetrical sky position from which background can be estimated."
   ]
  },
  {
   "cell_type": "code",
   "execution_count": 6,
   "metadata": {
    "execution": {
     "iopub.execute_input": "2020-11-19T14:22:38.649296Z",
     "iopub.status.busy": "2020-11-19T14:22:38.648055Z",
     "iopub.status.idle": "2020-11-19T14:22:38.650519Z",
     "shell.execute_reply": "2020-11-19T14:22:38.651012Z"
    }
   },
   "outputs": [
    {
     "name": "stderr",
     "output_type": "stream",
     "text": [
      "/usr/share/miniconda/envs/gammapy-dev/lib/python3.7/site-packages/astropy/units/quantity.py:477: RuntimeWarning: overflow encountered in exp\n",
      "  result = super().__array_ufunc__(function, method, *arrays, **kwargs)\n",
      "/usr/share/miniconda/envs/gammapy-dev/lib/python3.7/site-packages/astropy/units/quantity.py:477: RuntimeWarning: invalid value encountered in subtract\n",
      "  result = super().__array_ufunc__(function, method, *arrays, **kwargs)\n"
     ]
    }
   ],
   "source": [
    "# Define the source model: A combination of spectral and temporal model\n",
    "\n",
    "gti_t0 = Time(\"2020-03-01\")\n",
    "spectral_model = PowerLawSpectralModel(\n",
    "    index=3, amplitude=\"1e-11 cm-2 s-1 TeV-1\", reference=\"1 TeV\"\n",
    ")\n",
    "temporal_model = ExpDecayTemporalModel(t0=\"6 h\", t_ref=gti_t0.mjd * u.d)\n",
    "\n",
    "model_simu = SkyModel(\n",
    "    spectral_model=spectral_model,\n",
    "    temporal_model=temporal_model,\n",
    "    name=\"model-simu\",\n",
    ")"
   ]
  },
  {
   "cell_type": "code",
   "execution_count": 7,
   "metadata": {
    "execution": {
     "iopub.execute_input": "2020-11-19T14:22:38.659536Z",
     "iopub.status.busy": "2020-11-19T14:22:38.659006Z",
     "iopub.status.idle": "2020-11-19T14:22:38.661992Z",
     "shell.execute_reply": "2020-11-19T14:22:38.662514Z"
    }
   },
   "outputs": [
    {
     "data": {
      "text/html": [
       "<i>Table length=5</i>\n",
       "<table id=\"table140349404132632\" class=\"table-striped table-bordered table-condensed\">\n",
       "<thead><tr><th>name</th><th>value</th><th>unit</th><th>min</th><th>max</th><th>frozen</th><th>error</th></tr></thead>\n",
       "<thead><tr><th>str9</th><th>float64</th><th>str14</th><th>float64</th><th>float64</th><th>bool</th><th>int64</th></tr></thead>\n",
       "<tr><td>index</td><td>3.0000e+00</td><td></td><td>nan</td><td>nan</td><td>False</td><td>0.000e+00</td></tr>\n",
       "<tr><td>amplitude</td><td>1.0000e-11</td><td>cm-2 s-1 TeV-1</td><td>nan</td><td>nan</td><td>False</td><td>0.000e+00</td></tr>\n",
       "<tr><td>reference</td><td>1.0000e+00</td><td>TeV</td><td>nan</td><td>nan</td><td>True</td><td>0.000e+00</td></tr>\n",
       "<tr><td>t0</td><td>2.5000e-01</td><td>d</td><td>nan</td><td>nan</td><td>False</td><td>0.000e+00</td></tr>\n",
       "<tr><td>t_ref</td><td>5.8909e+04</td><td>d</td><td>nan</td><td>nan</td><td>True</td><td>0.000e+00</td></tr>\n",
       "</table>"
      ],
      "text/plain": [
       "<Table length=5>\n",
       "   name     value         unit        min     max   frozen   error  \n",
       "   str9    float64       str14      float64 float64  bool    int64  \n",
       "--------- ---------- -------------- ------- ------- ------ ---------\n",
       "    index 3.0000e+00                    nan     nan  False 0.000e+00\n",
       "amplitude 1.0000e-11 cm-2 s-1 TeV-1     nan     nan  False 0.000e+00\n",
       "reference 1.0000e+00            TeV     nan     nan   True 0.000e+00\n",
       "       t0 2.5000e-01              d     nan     nan  False 0.000e+00\n",
       "    t_ref 5.8909e+04              d     nan     nan   True 0.000e+00"
      ]
     },
     "execution_count": 1,
     "metadata": {},
     "output_type": "execute_result"
    }
   ],
   "source": [
    "# Look at the model\n",
    "model_simu.parameters.to_table()"
   ]
  },
  {
   "cell_type": "markdown",
   "metadata": {},
   "source": [
    "Now, define the start and observation livetime wrt to the reference time, `gti_t0`"
   ]
  },
  {
   "cell_type": "code",
   "execution_count": 8,
   "metadata": {
    "execution": {
     "iopub.execute_input": "2020-11-19T14:22:38.667626Z",
     "iopub.status.busy": "2020-11-19T14:22:38.666484Z",
     "iopub.status.idle": "2020-11-19T14:22:38.668149Z",
     "shell.execute_reply": "2020-11-19T14:22:38.668639Z"
    }
   },
   "outputs": [],
   "source": [
    "n_obs = 10\n",
    "tstart = [1, 2, 3, 5, 8, 10, 20, 22, 23, 24] * u.h\n",
    "lvtm = [55, 25, 26, 40, 40, 50, 40, 52, 43, 47] * u.min"
   ]
  },
  {
   "cell_type": "markdown",
   "metadata": {},
   "source": [
    "Now perform the simulations"
   ]
  },
  {
   "cell_type": "code",
   "execution_count": 9,
   "metadata": {
    "execution": {
     "iopub.execute_input": "2020-11-19T14:22:38.680937Z",
     "iopub.status.busy": "2020-11-19T14:22:38.680395Z",
     "iopub.status.idle": "2020-11-19T14:22:39.464000Z",
     "shell.execute_reply": "2020-11-19T14:22:39.463006Z"
    }
   },
   "outputs": [],
   "source": [
    "datasets = Datasets()\n",
    "\n",
    "empty = SpectrumDataset.create(\n",
    "    e_reco=energy_axis, e_true=energy_axis_true, region=on_region, name=\"empty\"\n",
    ")\n",
    "\n",
    "maker = SpectrumDatasetMaker(selection=[\"exposure\", \"background\", \"edisp\"])\n",
    "\n",
    "for idx in range(n_obs):\n",
    "    obs = Observation.create(\n",
    "        pointing=pointing,\n",
    "        livetime=lvtm[idx],\n",
    "        tstart=tstart[idx],\n",
    "        irfs=irfs,\n",
    "        reference_time=gti_t0,\n",
    "        obs_id=idx,\n",
    "    )\n",
    "    empty_i = empty.copy(name=f\"dataset-{idx}\")\n",
    "    dataset = maker.run(empty_i, obs)\n",
    "    dataset.models = model_simu\n",
    "    dataset.fake()\n",
    "    datasets.append(dataset)"
   ]
  },
  {
   "cell_type": "markdown",
   "metadata": {},
   "source": [
    "The reduced datasets have been successfully simulated. Let's take a quick look into our datasets."
   ]
  },
  {
   "cell_type": "code",
   "execution_count": 10,
   "metadata": {
    "execution": {
     "iopub.execute_input": "2020-11-19T14:22:39.520764Z",
     "iopub.status.busy": "2020-11-19T14:22:39.520230Z",
     "iopub.status.idle": "2020-11-19T14:22:39.524937Z",
     "shell.execute_reply": "2020-11-19T14:22:39.525399Z"
    }
   },
   "outputs": [
    {
     "data": {
      "text/html": [
       "<i>Table length=10</i>\n",
       "<table id=\"table140350207283328\" class=\"table-striped table-bordered table-condensed\">\n",
       "<thead><tr><th>name</th><th>counts</th><th>background</th><th>excess</th><th>sqrt_ts</th><th>npred</th><th>npred_background</th><th>npred_signal</th><th>exposure_min</th><th>exposure_max</th><th>livetime</th><th>ontime</th><th>counts_rate</th><th>background_rate</th><th>excess_rate</th><th>n_bins</th><th>n_fit_bins</th><th>stat_type</th><th>stat_sum</th></tr></thead>\n",
       "<thead><tr><th></th><th></th><th></th><th></th><th></th><th></th><th></th><th></th><th>m2 s</th><th>m2 s</th><th>s</th><th>s</th><th>1 / s</th><th>1 / s</th><th>1 / s</th><th></th><th></th><th></th><th></th></tr></thead>\n",
       "<thead><tr><th>str9</th><th>int64</th><th>float64</th><th>float64</th><th>float64</th><th>float64</th><th>float64</th><th>float64</th><th>float64</th><th>float64</th><th>float64</th><th>float64</th><th>float64</th><th>float64</th><th>float64</th><th>int64</th><th>int64</th><th>str4</th><th>float64</th></tr></thead>\n",
       "<tr><td>dataset-0</td><td>850</td><td>20.30377174963533</td><td>829.6962282503647</td><td>68.47728090304503</td><td>825.9254111539981</td><td>20.30377174963533</td><td>805.6216394043627</td><td>216137902.05823946</td><td>16025275854.086987</td><td>3299.999999999999</td><td>3299.999999999999</td><td>0.2575757575757576</td><td>0.006152658105950102</td><td>0.25142309946980756</td><td>9</td><td>9</td><td>cash</td><td>-6928.085734595126</td></tr>\n",
       "<tr><td>dataset-1</td><td>336</td><td>9.228987158925152</td><td>326.7710128410748</td><td>41.97782674499433</td><td>332.14278827322767</td><td>9.228987158925152</td><td>322.91380111430254</td><td>98244500.93556342</td><td>7284216297.312269</td><td>1500.0</td><td>1500.0</td><td>0.224</td><td>0.006152658105950101</td><td>0.2178473418940499</td><td>9</td><td>9</td><td>cash</td><td>-2124.5211531129144</td></tr>\n",
       "<tr><td>dataset-2</td><td>294</td><td>9.598146645282158</td><td>284.40185335471784</td><td>37.99128878465119</td><td>293.48250627100055</td><td>9.598146645282158</td><td>283.8843596257184</td><td>102174280.97298595</td><td>7575584949.20476</td><td>1560.0</td><td>1560.0</td><td>0.18846153846153846</td><td>0.006152658105950101</td><td>0.18230888035558837</td><td>9</td><td>9</td><td>cash</td><td>-1779.7290497185588</td></tr>\n",
       "<tr><td>dataset-3</td><td>333</td><td>14.766379454280242</td><td>318.23362054571976</td><td>37.92952148961163</td><td>321.772945022102</td><td>14.766379454280242</td><td>307.0065655678218</td><td>157191201.49690145</td><td>11654746075.69963</td><td>2400.0</td><td>2400.0</td><td>0.13875</td><td>0.006152658105950101</td><td>0.1325973418940499</td><td>9</td><td>9</td><td>cash</td><td>-2049.844764075891</td></tr>\n",
       "<tr><td>dataset-4</td><td>220</td><td>14.76637945428022</td><td>205.2336205457198</td><td>27.894328931160246</td><td>200.97527420424075</td><td>14.76637945428022</td><td>186.2088947499605</td><td>157191201.4969012</td><td>11654746075.699614</td><td>2399.9999999999964</td><td>2399.9999999999964</td><td>0.0916666666666668</td><td>0.0061526581059501</td><td>0.08551400856071671</td><td>9</td><td>9</td><td>cash</td><td>-1173.499666468237</td></tr>\n",
       "<tr><td>dataset-5</td><td>197</td><td>18.457974317850304</td><td>178.5420256821497</td><td>23.99567879663976</td><td>182.9858048173724</td><td>18.457974317850304</td><td>164.52783049952214</td><td>196489001.87112683</td><td>14568432594.624538</td><td>3000.0</td><td>3000.0</td><td>0.06566666666666666</td><td>0.006152658105950101</td><td>0.059514008560716564</td><td>9</td><td>9</td><td>cash</td><td>-1008.1271612475964</td></tr>\n",
       "<tr><td>dataset-6</td><td>36</td><td>14.766379454280242</td><td>21.23362054571976</td><td>4.657972834930917</td><td>39.96701296644291</td><td>14.766379454280242</td><td>25.20063351216266</td><td>157191201.49690145</td><td>11654746075.69963</td><td>2400.0</td><td>2400.0</td><td>0.015</td><td>0.006152658105950101</td><td>0.0088473418940499</td><td>9</td><td>9</td><td>cash</td><td>-68.6270793742735</td></tr>\n",
       "<tr><td>dataset-7</td><td>49</td><td>19.196293290564316</td><td>29.803706709435684</td><td>5.677031789583157</td><td>42.290648816036764</td><td>19.196293290564316</td><td>23.094355525472444</td><td>204348561.9459719</td><td>15151169898.40952</td><td>3120.0</td><td>3120.0</td><td>0.015705128205128205</td><td>0.006152658105950101</td><td>0.009552470099178104</td><td>9</td><td>9</td><td>cash</td><td>-117.9192368815602</td></tr>\n",
       "<tr><td>dataset-8</td><td>21</td><td>15.873857913351259</td><td>5.126142086648741</td><td>1.2253028289563688</td><td>32.23817480009135</td><td>15.873857913351259</td><td>16.364316886740088</td><td>168980541.60916907</td><td>12528852031.377102</td><td>2580.0</td><td>2580.0</td><td>0.00813953488372093</td><td>0.0061526581059501</td><td>0.0019868767777708298</td><td>9</td><td>9</td><td>cash</td><td>-16.284393523369005</td></tr>\n",
       "<tr><td>dataset-9</td><td>22</td><td>17.350495858779286</td><td>4.649504141220714</td><td>1.0712291504208673</td><td>32.409018797086</td><td>17.350495858779286</td><td>15.058522938306712</td><td>184699661.75885922</td><td>13694326638.947065</td><td>2820.0</td><td>2820.0</td><td>0.007801418439716312</td><td>0.006152658105950101</td><td>0.0016487603337662106</td><td>9</td><td>9</td><td>cash</td><td>-13.984249596168246</td></tr>\n",
       "</table>"
      ],
      "text/plain": [
       "<Table length=10>\n",
       "   name   counts     background     ... n_fit_bins stat_type       stat_sum     \n",
       "                                    ...                                         \n",
       "   str9   int64       float64       ...   int64       str4         float64      \n",
       "--------- ------ ------------------ ... ---------- --------- -------------------\n",
       "dataset-0    850  20.30377174963533 ...          9      cash  -6928.085734595126\n",
       "dataset-1    336  9.228987158925152 ...          9      cash -2124.5211531129144\n",
       "dataset-2    294  9.598146645282158 ...          9      cash -1779.7290497185588\n",
       "dataset-3    333 14.766379454280242 ...          9      cash  -2049.844764075891\n",
       "dataset-4    220  14.76637945428022 ...          9      cash  -1173.499666468237\n",
       "dataset-5    197 18.457974317850304 ...          9      cash -1008.1271612475964\n",
       "dataset-6     36 14.766379454280242 ...          9      cash   -68.6270793742735\n",
       "dataset-7     49 19.196293290564316 ...          9      cash  -117.9192368815602\n",
       "dataset-8     21 15.873857913351259 ...          9      cash -16.284393523369005\n",
       "dataset-9     22 17.350495858779286 ...          9      cash -13.984249596168246"
      ]
     },
     "execution_count": 1,
     "metadata": {},
     "output_type": "execute_result"
    }
   ],
   "source": [
    "datasets.info_table()"
   ]
  },
  {
   "cell_type": "markdown",
   "metadata": {},
   "source": [
    "## Extract the lightcurve\n",
    "\n",
    "This section uses standard light curve estimation tools for a 1D extraction. Only a spectral model needs to be defined in this case. Since the estimator returns the integrated flux separately for each time bin, the temporal model need not be accounted for at this stage."
   ]
  },
  {
   "cell_type": "code",
   "execution_count": 11,
   "metadata": {
    "execution": {
     "iopub.execute_input": "2020-11-19T14:22:39.534299Z",
     "iopub.status.busy": "2020-11-19T14:22:39.533101Z",
     "iopub.status.idle": "2020-11-19T14:22:39.534834Z",
     "shell.execute_reply": "2020-11-19T14:22:39.535320Z"
    }
   },
   "outputs": [],
   "source": [
    "# Define the model:\n",
    "spectral_model = PowerLawSpectralModel(\n",
    "    index=3, amplitude=\"1e-11 cm-2 s-1 TeV-1\", reference=\"1 TeV\"\n",
    ")\n",
    "model_fit = SkyModel(spectral_model=spectral_model, name=\"model-fit\")"
   ]
  },
  {
   "cell_type": "code",
   "execution_count": 12,
   "metadata": {
    "execution": {
     "iopub.execute_input": "2020-11-19T14:22:39.542042Z",
     "iopub.status.busy": "2020-11-19T14:22:39.540992Z",
     "iopub.status.idle": "2020-11-19T14:22:39.542605Z",
     "shell.execute_reply": "2020-11-19T14:22:39.543064Z"
    }
   },
   "outputs": [],
   "source": [
    "# Attach model to each dataset\n",
    "for dataset in datasets:\n",
    "    dataset.models = model_fit"
   ]
  },
  {
   "cell_type": "code",
   "execution_count": 13,
   "metadata": {
    "execution": {
     "iopub.execute_input": "2020-11-19T14:22:39.593185Z",
     "iopub.status.busy": "2020-11-19T14:22:39.589547Z",
     "iopub.status.idle": "2020-11-19T14:22:49.054374Z",
     "shell.execute_reply": "2020-11-19T14:22:49.053756Z"
    }
   },
   "outputs": [
    {
     "name": "stdout",
     "output_type": "stream",
     "text": [
      "CPU times: user 9.5 s, sys: 14.1 ms, total: 9.52 s\n",
      "Wall time: 9.5 s\n"
     ]
    }
   ],
   "source": [
    "%%time\n",
    "lc_maker_1d = LightCurveEstimator(\n",
    "    energy_edges=[energy_axis.edges[0], energy_axis.edges[-1]],\n",
    "    source=\"model-fit\",\n",
    ")\n",
    "lc_1d = lc_maker_1d.run(datasets)"
   ]
  },
  {
   "cell_type": "code",
   "execution_count": 14,
   "metadata": {
    "execution": {
     "iopub.execute_input": "2020-11-19T14:22:49.058525Z",
     "iopub.status.busy": "2020-11-19T14:22:49.058036Z",
     "iopub.status.idle": "2020-11-19T14:22:49.061328Z",
     "shell.execute_reply": "2020-11-19T14:22:49.060852Z"
    }
   },
   "outputs": [],
   "source": [
    "lc_1d.table[\"is_ul\"] = lc_1d.table[\"ts\"] < 1"
   ]
  },
  {
   "cell_type": "code",
   "execution_count": 15,
   "metadata": {
    "execution": {
     "iopub.execute_input": "2020-11-19T14:22:49.094134Z",
     "iopub.status.busy": "2020-11-19T14:22:49.089788Z",
     "iopub.status.idle": "2020-11-19T14:22:49.219903Z",
     "shell.execute_reply": "2020-11-19T14:22:49.219341Z"
    }
   },
   "outputs": [
    {
     "data": {
      "image/png": "[encoded data removed]",
      "text/plain": [
       "<Figure size 432x288 with 1 Axes>"
      ]
     },
     "metadata": {
      "needs_background": "light"
     },
     "output_type": "display_data"
    }
   ],
   "source": [
    "ax = lc_1d.plot(marker=\"o\", label=\"3D\")"
   ]
  },
  {
   "cell_type": "markdown",
   "metadata": {},
   "source": [
    "We have the reconstructed lightcurve at this point. Further standard analyis might involve modeling the temporal profiles with an analytical or theoretical model. You may do this using your favourite fitting package, one possible option being `curve_fit` inside `scipy.optimize`.\n",
    "\n",
    "In the next section, we show how to simulatenously fit the all datasets using a given temporal model. This does a joint fitting across the different datasets, while simultaneously miniminsing across the temporal model parameters as well. We will fit the amplitude, spectral index and the decay time scale. Note that `t_ref` should be fixed by default for the `ExpDecayTemporalModel`. \n",
    "\n",
    "For modelling and fitting more complex flares, you should attach the relevant model to each group of `datasets`. The paramters of a model in a given group of dataset will be tied. For more details on joint fitting in gammapy, see [here](modeling.ipynb)."
   ]
  },
  {
   "cell_type": "markdown",
   "metadata": {},
   "source": [
    "## Fit the datasets"
   ]
  },
  {
   "cell_type": "code",
   "execution_count": 16,
   "metadata": {
    "execution": {
     "iopub.execute_input": "2020-11-19T14:22:49.232693Z",
     "iopub.status.busy": "2020-11-19T14:22:49.232172Z",
     "iopub.status.idle": "2020-11-19T14:22:49.235393Z",
     "shell.execute_reply": "2020-11-19T14:22:49.235798Z"
    }
   },
   "outputs": [
    {
     "name": "stderr",
     "output_type": "stream",
     "text": [
      "/usr/share/miniconda/envs/gammapy-dev/lib/python3.7/site-packages/astropy/units/quantity.py:477: RuntimeWarning: overflow encountered in exp\n",
      "  result = super().__array_ufunc__(function, method, *arrays, **kwargs)\n",
      "/usr/share/miniconda/envs/gammapy-dev/lib/python3.7/site-packages/astropy/units/quantity.py:477: RuntimeWarning: invalid value encountered in subtract\n",
      "  result = super().__array_ufunc__(function, method, *arrays, **kwargs)\n"
     ]
    }
   ],
   "source": [
    "# Define the model:\n",
    "spectral_model1 = PowerLawSpectralModel(\n",
    "    index=2.0, amplitude=\"1e-12 cm-2 s-1 TeV-1\", reference=\"1 TeV\"\n",
    ")\n",
    "temporal_model1 = ExpDecayTemporalModel(t0=\"10 h\", t_ref=gti_t0.mjd * u.d)\n",
    "\n",
    "model = SkyModel(\n",
    "    spectral_model=spectral_model1,\n",
    "    temporal_model=temporal_model1,\n",
    "    name=\"model-test\",\n",
    ")"
   ]
  },
  {
   "cell_type": "code",
   "execution_count": 17,
   "metadata": {
    "execution": {
     "iopub.execute_input": "2020-11-19T14:22:49.242555Z",
     "iopub.status.busy": "2020-11-19T14:22:49.242035Z",
     "iopub.status.idle": "2020-11-19T14:22:49.244768Z",
     "shell.execute_reply": "2020-11-19T14:22:49.245437Z"
    }
   },
   "outputs": [
    {
     "data": {
      "text/html": [
       "<i>Table length=5</i>\n",
       "<table id=\"table140349396388496\" class=\"table-striped table-bordered table-condensed\">\n",
       "<thead><tr><th>name</th><th>value</th><th>unit</th><th>min</th><th>max</th><th>frozen</th><th>error</th></tr></thead>\n",
       "<thead><tr><th>str9</th><th>float64</th><th>str14</th><th>float64</th><th>float64</th><th>bool</th><th>int64</th></tr></thead>\n",
       "<tr><td>index</td><td>2.0000e+00</td><td></td><td>nan</td><td>nan</td><td>False</td><td>0.000e+00</td></tr>\n",
       "<tr><td>amplitude</td><td>1.0000e-12</td><td>cm-2 s-1 TeV-1</td><td>nan</td><td>nan</td><td>False</td><td>0.000e+00</td></tr>\n",
       "<tr><td>reference</td><td>1.0000e+00</td><td>TeV</td><td>nan</td><td>nan</td><td>True</td><td>0.000e+00</td></tr>\n",
       "<tr><td>t0</td><td>4.1667e-01</td><td>d</td><td>nan</td><td>nan</td><td>False</td><td>0.000e+00</td></tr>\n",
       "<tr><td>t_ref</td><td>5.8909e+04</td><td>d</td><td>nan</td><td>nan</td><td>True</td><td>0.000e+00</td></tr>\n",
       "</table>"
      ],
      "text/plain": [
       "<Table length=5>\n",
       "   name     value         unit        min     max   frozen   error  \n",
       "   str9    float64       str14      float64 float64  bool    int64  \n",
       "--------- ---------- -------------- ------- ------- ------ ---------\n",
       "    index 2.0000e+00                    nan     nan  False 0.000e+00\n",
       "amplitude 1.0000e-12 cm-2 s-1 TeV-1     nan     nan  False 0.000e+00\n",
       "reference 1.0000e+00            TeV     nan     nan   True 0.000e+00\n",
       "       t0 4.1667e-01              d     nan     nan  False 0.000e+00\n",
       "    t_ref 5.8909e+04              d     nan     nan   True 0.000e+00"
      ]
     },
     "execution_count": 1,
     "metadata": {},
     "output_type": "execute_result"
    }
   ],
   "source": [
    "model.parameters.to_table()"
   ]
  },
  {
   "cell_type": "code",
   "execution_count": 18,
   "metadata": {
    "execution": {
     "iopub.execute_input": "2020-11-19T14:22:49.253189Z",
     "iopub.status.busy": "2020-11-19T14:22:49.252124Z",
     "iopub.status.idle": "2020-11-19T14:22:49.253773Z",
     "shell.execute_reply": "2020-11-19T14:22:49.254263Z"
    }
   },
   "outputs": [],
   "source": [
    "datasets.models = model"
   ]
  },
  {
   "cell_type": "code",
   "execution_count": 19,
   "metadata": {
    "execution": {
     "iopub.execute_input": "2020-11-19T14:22:49.294643Z",
     "iopub.status.busy": "2020-11-19T14:22:49.281338Z",
     "iopub.status.idle": "2020-11-19T14:22:58.833532Z",
     "shell.execute_reply": "2020-11-19T14:22:58.833012Z"
    }
   },
   "outputs": [
    {
     "name": "stdout",
     "output_type": "stream",
     "text": [
      "CPU times: user 9.58 s, sys: 11.9 ms, total: 9.59 s\n",
      "Wall time: 9.57 s\n"
     ]
    }
   ],
   "source": [
    "%%time\n",
    "# Do a joint fit\n",
    "fit = Fit(datasets)\n",
    "result = fit.run()"
   ]
  },
  {
   "cell_type": "code",
   "execution_count": 20,
   "metadata": {
    "execution": {
     "iopub.execute_input": "2020-11-19T14:22:58.839862Z",
     "iopub.status.busy": "2020-11-19T14:22:58.839363Z",
     "iopub.status.idle": "2020-11-19T14:22:58.843357Z",
     "shell.execute_reply": "2020-11-19T14:22:58.842920Z"
    }
   },
   "outputs": [
    {
     "data": {
      "text/html": [
       "<i>Table length=5</i>\n",
       "<table id=\"table140349456295584\" class=\"table-striped table-bordered table-condensed\">\n",
       "<thead><tr><th>name</th><th>value</th><th>unit</th><th>min</th><th>max</th><th>frozen</th><th>error</th></tr></thead>\n",
       "<thead><tr><th>str9</th><th>float64</th><th>str14</th><th>float64</th><th>float64</th><th>bool</th><th>float64</th></tr></thead>\n",
       "<tr><td>index</td><td>3.0055e+00</td><td></td><td>nan</td><td>nan</td><td>False</td><td>3.141e-02</td></tr>\n",
       "<tr><td>amplitude</td><td>1.0368e-11</td><td>cm-2 s-1 TeV-1</td><td>nan</td><td>nan</td><td>False</td><td>3.513e-13</td></tr>\n",
       "<tr><td>reference</td><td>1.0000e+00</td><td>TeV</td><td>nan</td><td>nan</td><td>True</td><td>0.000e+00</td></tr>\n",
       "<tr><td>t0</td><td>2.4654e-01</td><td>d</td><td>nan</td><td>nan</td><td>False</td><td>8.099e-03</td></tr>\n",
       "<tr><td>t_ref</td><td>5.8909e+04</td><td>d</td><td>nan</td><td>nan</td><td>True</td><td>0.000e+00</td></tr>\n",
       "</table>"
      ],
      "text/plain": [
       "<Table length=5>\n",
       "   name     value         unit        min     max   frozen   error  \n",
       "   str9    float64       str14      float64 float64  bool   float64 \n",
       "--------- ---------- -------------- ------- ------- ------ ---------\n",
       "    index 3.0055e+00                    nan     nan  False 3.141e-02\n",
       "amplitude 1.0368e-11 cm-2 s-1 TeV-1     nan     nan  False 3.513e-13\n",
       "reference 1.0000e+00            TeV     nan     nan   True 0.000e+00\n",
       "       t0 2.4654e-01              d     nan     nan  False 8.099e-03\n",
       "    t_ref 5.8909e+04              d     nan     nan   True 0.000e+00"
      ]
     },
     "execution_count": 1,
     "metadata": {},
     "output_type": "execute_result"
    }
   ],
   "source": [
    "result.parameters.to_table()"
   ]
  },
  {
   "cell_type": "markdown",
   "metadata": {},
   "source": [
    "We see that the fitted parameters match well with the simulated ones!"
   ]
  },
  {
   "cell_type": "markdown",
   "metadata": {},
   "source": [
    "## Exercises\n",
    "\n",
    "1. Re-do the analysis with `MapDataset` instead of `SpectralDataset`\n",
    "2. Model the flare of PKS 2155-304 which you obtained using the [light curve flare tutorial](light_curve_flare.ipynb). Use a combination of a Gaussian and Exponential flare profiles, and fit using `scipy.optimize.curve_fit`\n",
    "3. Do a joint fitting of the datasets."
   ]
  },
  {
   "cell_type": "code",
   "execution_count": null,
   "metadata": {},
   "outputs": [],
   "source": []
  }
 ],
 "metadata": {
  "kernelspec": {
   "display_name": "Python 3",
   "language": "python",
   "name": "python3"
  },
  "language_info": {
   "codemirror_mode": {
    "name": "ipython",
    "version": 3
   },
   "file_extension": ".py",
   "mimetype": "text/x-python",
   "name": "python",
   "nbconvert_exporter": "python",
   "pygments_lexer": "ipython3",
   "version": "3.7.0"
  },
  "nbsphinx": {
   "orphan": true
  }
 },
 "nbformat": 4,
 "nbformat_minor": 4
}
